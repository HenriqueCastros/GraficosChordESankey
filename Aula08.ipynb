{
 "cells": [
  {
   "cell_type": "markdown",
   "id": "f7dc0009",
   "metadata": {},
   "source": [
    "# Exercício Gráfico Fluxo.\n",
    "Vocês vão utilizar um dos tipos de gráfico do tipo Fluxo (Flow).  \n",
    "  \n",
    "Referência: https://www.python-graph-gallery.com/  \n",
    "  \n",
    "Em grupo vocês devem decidir qual base aberta vão utilizar para fazer uma demonstracão de um fluxo de dados.  \n",
    "  \n",
    "No final da aula de hoje vocês devem ter decidido qual base utilizar e se possível uma tentatativa de como utilizar um dos gráficos de Fluxo.  \n",
    "  "
   ]
  },
  {
   "cell_type": "code",
   "execution_count": 1,
   "id": "1c216d60",
   "metadata": {},
   "outputs": [],
   "source": [
    "import pandas as pd"
   ]
  },
  {
   "cell_type": "code",
   "execution_count": 2,
   "id": "8e101173",
   "metadata": {
    "scrolled": true
   },
   "outputs": [],
   "source": [
    "df = pd.read_csv('./trip.csv', sep=',')\n",
    "df = df.drop_duplicates(subset=['trip_id'])"
   ]
  },
  {
   "cell_type": "code",
   "execution_count": 3,
   "id": "f114cbec",
   "metadata": {},
   "outputs": [
    {
     "name": "stdout",
     "output_type": "stream",
     "text": [
      "<class 'pandas.core.frame.DataFrame'>\n",
      "Int64Index: 236065 entries, 0 to 286857\n",
      "Data columns (total 12 columns):\n",
      " #   Column             Non-Null Count   Dtype  \n",
      "---  ------             --------------   -----  \n",
      " 0   trip_id            236065 non-null  int64  \n",
      " 1   starttime          236065 non-null  object \n",
      " 2   stoptime           236065 non-null  object \n",
      " 3   bikeid             236065 non-null  object \n",
      " 4   tripduration       236065 non-null  float64\n",
      " 5   from_station_name  236065 non-null  object \n",
      " 6   to_station_name    236065 non-null  object \n",
      " 7   from_station_id    236065 non-null  object \n",
      " 8   to_station_id      236065 non-null  object \n",
      " 9   usertype           236064 non-null  object \n",
      " 10  gender             146171 non-null  object \n",
      " 11  birthyear          146167 non-null  float64\n",
      "dtypes: float64(2), int64(1), object(9)\n",
      "memory usage: 23.4+ MB\n"
     ]
    }
   ],
   "source": [
    "df.info()"
   ]
  },
  {
   "cell_type": "code",
   "execution_count": 4,
   "id": "fa739c7c",
   "metadata": {},
   "outputs": [
    {
     "data": {
      "text/plain": [
       "array(['CBD-06', 'PS-04', 'CBD-07', 'PS-05', 'CBD-05', 'CH-02', 'DPD-01',\n",
       "       'UD-01', 'WF-04', 'BT-04', 'UW-02', 'BT-03', 'ID-04', 'UD-02',\n",
       "       'UD-04', 'CBD-13', 'FH-01', 'CH-09', 'SLU-15', 'SLU-18', 'UW-10',\n",
       "       'CH-15', 'BT-05', 'SLU-01', 'UD-07', 'CBD-03', 'CH-08', 'UW-07',\n",
       "       'SLU-19', 'DPD-03', 'WF-01', 'CH-05', 'SLU-02', 'CH-07', 'UW-06',\n",
       "       'UW-04', 'SLU-17', 'EL-01', 'EL-05', 'CH-06', 'SLU-04', 'BT-01',\n",
       "       'CH-01', 'CH-03', 'CH-12', 'EL-03', 'FH-04', 'SLU-07', 'SLU-16',\n",
       "       'UW-01', 'CD-01', 'Pronto shop', 'SLU-20', 'CBD-04', 'SLU-21',\n",
       "       'UW-11', 'CH-16', 'Pronto shop 2', 'SLU-22', 'WF-03', '8D OPS 02'],\n",
       "      dtype=object)"
      ]
     },
     "execution_count": 4,
     "metadata": {},
     "output_type": "execute_result"
    }
   ],
   "source": [
    "df['from_station_id'].unique()"
   ]
  },
  {
   "cell_type": "code",
   "execution_count": 5,
   "id": "474f0f8c",
   "metadata": {},
   "outputs": [],
   "source": [
    "# bad_stations = ['Pronto shop', 'Pronto shop 2','8D OPS 02']\n",
    "# mascara_from = df['from_station_id'].isin(bad_stations)\n",
    "# mascara_to = df['to_station_id'].isin(bad_stations)\n",
    "\n",
    "# df = df[~mascara_from & ~mascara_to]"
   ]
  },
  {
   "cell_type": "code",
   "execution_count": 6,
   "id": "4abd41fd",
   "metadata": {},
   "outputs": [
    {
     "data": {
      "text/html": [
       "<div>\n",
       "<style scoped>\n",
       "    .dataframe tbody tr th:only-of-type {\n",
       "        vertical-align: middle;\n",
       "    }\n",
       "\n",
       "    .dataframe tbody tr th {\n",
       "        vertical-align: top;\n",
       "    }\n",
       "\n",
       "    .dataframe thead th {\n",
       "        text-align: right;\n",
       "    }\n",
       "</style>\n",
       "<table border=\"1\" class=\"dataframe\">\n",
       "  <thead>\n",
       "    <tr style=\"text-align: right;\">\n",
       "      <th></th>\n",
       "      <th>from_station_id</th>\n",
       "      <th>to_station_id</th>\n",
       "    </tr>\n",
       "  </thead>\n",
       "  <tbody>\n",
       "    <tr>\n",
       "      <th>0</th>\n",
       "      <td>CBD-06</td>\n",
       "      <td>PS-04</td>\n",
       "    </tr>\n",
       "    <tr>\n",
       "      <th>1</th>\n",
       "      <td>CBD-06</td>\n",
       "      <td>PS-04</td>\n",
       "    </tr>\n",
       "    <tr>\n",
       "      <th>2</th>\n",
       "      <td>CBD-06</td>\n",
       "      <td>PS-04</td>\n",
       "    </tr>\n",
       "    <tr>\n",
       "      <th>3</th>\n",
       "      <td>CBD-06</td>\n",
       "      <td>PS-04</td>\n",
       "    </tr>\n",
       "    <tr>\n",
       "      <th>4</th>\n",
       "      <td>CBD-06</td>\n",
       "      <td>PS-04</td>\n",
       "    </tr>\n",
       "  </tbody>\n",
       "</table>\n",
       "</div>"
      ],
      "text/plain": [
       "  from_station_id to_station_id\n",
       "0          CBD-06         PS-04\n",
       "1          CBD-06         PS-04\n",
       "2          CBD-06         PS-04\n",
       "3          CBD-06         PS-04\n",
       "4          CBD-06         PS-04"
      ]
     },
     "execution_count": 6,
     "metadata": {},
     "output_type": "execute_result"
    }
   ],
   "source": [
    "df[['from_station_id','to_station_id']].head()"
   ]
  },
  {
   "cell_type": "code",
   "execution_count": 7,
   "id": "a8ddd32e",
   "metadata": {},
   "outputs": [],
   "source": [
    "crosstab_df = pd.crosstab(df['from_station_id'], df['to_station_id'])"
   ]
  },
  {
   "cell_type": "code",
   "execution_count": 8,
   "id": "09cf0b47",
   "metadata": {},
   "outputs": [
    {
     "data": {
      "text/html": [
       "<div>\n",
       "<style scoped>\n",
       "    .dataframe tbody tr th:only-of-type {\n",
       "        vertical-align: middle;\n",
       "    }\n",
       "\n",
       "    .dataframe tbody tr th {\n",
       "        vertical-align: top;\n",
       "    }\n",
       "\n",
       "    .dataframe thead th {\n",
       "        text-align: right;\n",
       "    }\n",
       "</style>\n",
       "<table border=\"1\" class=\"dataframe\">\n",
       "  <thead>\n",
       "    <tr style=\"text-align: right;\">\n",
       "      <th>to_station_id</th>\n",
       "      <th>8D OPS 02</th>\n",
       "      <th>BT-01</th>\n",
       "      <th>BT-03</th>\n",
       "      <th>BT-04</th>\n",
       "      <th>BT-05</th>\n",
       "      <th>CBD-03</th>\n",
       "      <th>CBD-04</th>\n",
       "      <th>CBD-05</th>\n",
       "      <th>CBD-06</th>\n",
       "      <th>CBD-07</th>\n",
       "      <th>...</th>\n",
       "      <th>UW-01</th>\n",
       "      <th>UW-02</th>\n",
       "      <th>UW-04</th>\n",
       "      <th>UW-06</th>\n",
       "      <th>UW-07</th>\n",
       "      <th>UW-10</th>\n",
       "      <th>UW-11</th>\n",
       "      <th>WF-01</th>\n",
       "      <th>WF-03</th>\n",
       "      <th>WF-04</th>\n",
       "    </tr>\n",
       "    <tr>\n",
       "      <th>from_station_id</th>\n",
       "      <th></th>\n",
       "      <th></th>\n",
       "      <th></th>\n",
       "      <th></th>\n",
       "      <th></th>\n",
       "      <th></th>\n",
       "      <th></th>\n",
       "      <th></th>\n",
       "      <th></th>\n",
       "      <th></th>\n",
       "      <th></th>\n",
       "      <th></th>\n",
       "      <th></th>\n",
       "      <th></th>\n",
       "      <th></th>\n",
       "      <th></th>\n",
       "      <th></th>\n",
       "      <th></th>\n",
       "      <th></th>\n",
       "      <th></th>\n",
       "      <th></th>\n",
       "    </tr>\n",
       "  </thead>\n",
       "  <tbody>\n",
       "    <tr>\n",
       "      <th>8D OPS 02</th>\n",
       "      <td>2</td>\n",
       "      <td>0</td>\n",
       "      <td>0</td>\n",
       "      <td>0</td>\n",
       "      <td>0</td>\n",
       "      <td>0</td>\n",
       "      <td>0</td>\n",
       "      <td>0</td>\n",
       "      <td>0</td>\n",
       "      <td>0</td>\n",
       "      <td>...</td>\n",
       "      <td>0</td>\n",
       "      <td>0</td>\n",
       "      <td>0</td>\n",
       "      <td>0</td>\n",
       "      <td>0</td>\n",
       "      <td>0</td>\n",
       "      <td>0</td>\n",
       "      <td>0</td>\n",
       "      <td>0</td>\n",
       "      <td>0</td>\n",
       "    </tr>\n",
       "    <tr>\n",
       "      <th>BT-01</th>\n",
       "      <td>0</td>\n",
       "      <td>627</td>\n",
       "      <td>182</td>\n",
       "      <td>114</td>\n",
       "      <td>403</td>\n",
       "      <td>179</td>\n",
       "      <td>135</td>\n",
       "      <td>236</td>\n",
       "      <td>743</td>\n",
       "      <td>104</td>\n",
       "      <td>...</td>\n",
       "      <td>3</td>\n",
       "      <td>1</td>\n",
       "      <td>21</td>\n",
       "      <td>4</td>\n",
       "      <td>2</td>\n",
       "      <td>4</td>\n",
       "      <td>3</td>\n",
       "      <td>777</td>\n",
       "      <td>13</td>\n",
       "      <td>792</td>\n",
       "    </tr>\n",
       "    <tr>\n",
       "      <th>BT-03</th>\n",
       "      <td>0</td>\n",
       "      <td>301</td>\n",
       "      <td>284</td>\n",
       "      <td>79</td>\n",
       "      <td>204</td>\n",
       "      <td>187</td>\n",
       "      <td>91</td>\n",
       "      <td>365</td>\n",
       "      <td>363</td>\n",
       "      <td>54</td>\n",
       "      <td>...</td>\n",
       "      <td>0</td>\n",
       "      <td>0</td>\n",
       "      <td>17</td>\n",
       "      <td>0</td>\n",
       "      <td>1</td>\n",
       "      <td>6</td>\n",
       "      <td>0</td>\n",
       "      <td>237</td>\n",
       "      <td>6</td>\n",
       "      <td>172</td>\n",
       "    </tr>\n",
       "    <tr>\n",
       "      <th>BT-04</th>\n",
       "      <td>0</td>\n",
       "      <td>178</td>\n",
       "      <td>106</td>\n",
       "      <td>146</td>\n",
       "      <td>60</td>\n",
       "      <td>72</td>\n",
       "      <td>55</td>\n",
       "      <td>265</td>\n",
       "      <td>101</td>\n",
       "      <td>41</td>\n",
       "      <td>...</td>\n",
       "      <td>0</td>\n",
       "      <td>0</td>\n",
       "      <td>5</td>\n",
       "      <td>0</td>\n",
       "      <td>1</td>\n",
       "      <td>4</td>\n",
       "      <td>1</td>\n",
       "      <td>98</td>\n",
       "      <td>1</td>\n",
       "      <td>42</td>\n",
       "    </tr>\n",
       "    <tr>\n",
       "      <th>BT-05</th>\n",
       "      <td>0</td>\n",
       "      <td>373</td>\n",
       "      <td>154</td>\n",
       "      <td>77</td>\n",
       "      <td>220</td>\n",
       "      <td>166</td>\n",
       "      <td>67</td>\n",
       "      <td>192</td>\n",
       "      <td>193</td>\n",
       "      <td>59</td>\n",
       "      <td>...</td>\n",
       "      <td>0</td>\n",
       "      <td>2</td>\n",
       "      <td>6</td>\n",
       "      <td>2</td>\n",
       "      <td>2</td>\n",
       "      <td>2</td>\n",
       "      <td>0</td>\n",
       "      <td>184</td>\n",
       "      <td>1</td>\n",
       "      <td>93</td>\n",
       "    </tr>\n",
       "  </tbody>\n",
       "</table>\n",
       "<p>5 rows × 61 columns</p>\n",
       "</div>"
      ],
      "text/plain": [
       "to_station_id    8D OPS 02  BT-01  BT-03  BT-04  BT-05  CBD-03  CBD-04  \\\n",
       "from_station_id                                                          \n",
       "8D OPS 02                2      0      0      0      0       0       0   \n",
       "BT-01                    0    627    182    114    403     179     135   \n",
       "BT-03                    0    301    284     79    204     187      91   \n",
       "BT-04                    0    178    106    146     60      72      55   \n",
       "BT-05                    0    373    154     77    220     166      67   \n",
       "\n",
       "to_station_id    CBD-05  CBD-06  CBD-07  ...  UW-01  UW-02  UW-04  UW-06  \\\n",
       "from_station_id                          ...                               \n",
       "8D OPS 02             0       0       0  ...      0      0      0      0   \n",
       "BT-01               236     743     104  ...      3      1     21      4   \n",
       "BT-03               365     363      54  ...      0      0     17      0   \n",
       "BT-04               265     101      41  ...      0      0      5      0   \n",
       "BT-05               192     193      59  ...      0      2      6      2   \n",
       "\n",
       "to_station_id    UW-07  UW-10  UW-11  WF-01  WF-03  WF-04  \n",
       "from_station_id                                            \n",
       "8D OPS 02            0      0      0      0      0      0  \n",
       "BT-01                2      4      3    777     13    792  \n",
       "BT-03                1      6      0    237      6    172  \n",
       "BT-04                1      4      1     98      1     42  \n",
       "BT-05                2      2      0    184      1     93  \n",
       "\n",
       "[5 rows x 61 columns]"
      ]
     },
     "execution_count": 8,
     "metadata": {},
     "output_type": "execute_result"
    }
   ],
   "source": [
    "crosstab_df.head()"
   ]
  },
  {
   "cell_type": "code",
   "execution_count": 9,
   "id": "424a18c5",
   "metadata": {},
   "outputs": [
    {
     "data": {
      "text/html": [
       "<div>\n",
       "<style scoped>\n",
       "    .dataframe tbody tr th:only-of-type {\n",
       "        vertical-align: middle;\n",
       "    }\n",
       "\n",
       "    .dataframe tbody tr th {\n",
       "        vertical-align: top;\n",
       "    }\n",
       "\n",
       "    .dataframe thead tr th {\n",
       "        text-align: left;\n",
       "    }\n",
       "\n",
       "    .dataframe thead tr:last-of-type th {\n",
       "        text-align: right;\n",
       "    }\n",
       "</style>\n",
       "<table border=\"1\" class=\"dataframe\">\n",
       "  <thead>\n",
       "    <tr>\n",
       "      <th></th>\n",
       "      <th colspan=\"8\" halign=\"left\">0</th>\n",
       "    </tr>\n",
       "    <tr>\n",
       "      <th>to_station_id</th>\n",
       "      <th>BT-01</th>\n",
       "      <th>CBD-13</th>\n",
       "      <th>PS-05</th>\n",
       "      <th>SLU-16</th>\n",
       "      <th>SLU-17</th>\n",
       "      <th>UD-01</th>\n",
       "      <th>WF-01</th>\n",
       "      <th>WF-04</th>\n",
       "    </tr>\n",
       "    <tr>\n",
       "      <th>from_station_id</th>\n",
       "      <th></th>\n",
       "      <th></th>\n",
       "      <th></th>\n",
       "      <th></th>\n",
       "      <th></th>\n",
       "      <th></th>\n",
       "      <th></th>\n",
       "      <th></th>\n",
       "    </tr>\n",
       "  </thead>\n",
       "  <tbody>\n",
       "    <tr>\n",
       "      <th>BT-01</th>\n",
       "      <td>NaN</td>\n",
       "      <td>1101.0</td>\n",
       "      <td>NaN</td>\n",
       "      <td>NaN</td>\n",
       "      <td>NaN</td>\n",
       "      <td>NaN</td>\n",
       "      <td>NaN</td>\n",
       "      <td>NaN</td>\n",
       "    </tr>\n",
       "    <tr>\n",
       "      <th>CBD-13</th>\n",
       "      <td>962.0</td>\n",
       "      <td>NaN</td>\n",
       "      <td>NaN</td>\n",
       "      <td>NaN</td>\n",
       "      <td>NaN</td>\n",
       "      <td>NaN</td>\n",
       "      <td>NaN</td>\n",
       "      <td>NaN</td>\n",
       "    </tr>\n",
       "    <tr>\n",
       "      <th>CH-07</th>\n",
       "      <td>NaN</td>\n",
       "      <td>NaN</td>\n",
       "      <td>NaN</td>\n",
       "      <td>934.0</td>\n",
       "      <td>NaN</td>\n",
       "      <td>NaN</td>\n",
       "      <td>NaN</td>\n",
       "      <td>NaN</td>\n",
       "    </tr>\n",
       "    <tr>\n",
       "      <th>SLU-17</th>\n",
       "      <td>NaN</td>\n",
       "      <td>NaN</td>\n",
       "      <td>NaN</td>\n",
       "      <td>NaN</td>\n",
       "      <td>960.0</td>\n",
       "      <td>NaN</td>\n",
       "      <td>NaN</td>\n",
       "      <td>NaN</td>\n",
       "    </tr>\n",
       "    <tr>\n",
       "      <th>UD-01</th>\n",
       "      <td>NaN</td>\n",
       "      <td>NaN</td>\n",
       "      <td>NaN</td>\n",
       "      <td>NaN</td>\n",
       "      <td>NaN</td>\n",
       "      <td>880.0</td>\n",
       "      <td>NaN</td>\n",
       "      <td>NaN</td>\n",
       "    </tr>\n",
       "    <tr>\n",
       "      <th>WF-01</th>\n",
       "      <td>NaN</td>\n",
       "      <td>NaN</td>\n",
       "      <td>962.0</td>\n",
       "      <td>NaN</td>\n",
       "      <td>NaN</td>\n",
       "      <td>NaN</td>\n",
       "      <td>4209.0</td>\n",
       "      <td>2291.0</td>\n",
       "    </tr>\n",
       "    <tr>\n",
       "      <th>WF-04</th>\n",
       "      <td>NaN</td>\n",
       "      <td>NaN</td>\n",
       "      <td>NaN</td>\n",
       "      <td>NaN</td>\n",
       "      <td>NaN</td>\n",
       "      <td>NaN</td>\n",
       "      <td>1605.0</td>\n",
       "      <td>1150.0</td>\n",
       "    </tr>\n",
       "  </tbody>\n",
       "</table>\n",
       "</div>"
      ],
      "text/plain": [
       "                     0                                                    \n",
       "to_station_id    BT-01  CBD-13  PS-05 SLU-16 SLU-17  UD-01   WF-01   WF-04\n",
       "from_station_id                                                           \n",
       "BT-01              NaN  1101.0    NaN    NaN    NaN    NaN     NaN     NaN\n",
       "CBD-13           962.0     NaN    NaN    NaN    NaN    NaN     NaN     NaN\n",
       "CH-07              NaN     NaN    NaN  934.0    NaN    NaN     NaN     NaN\n",
       "SLU-17             NaN     NaN    NaN    NaN  960.0    NaN     NaN     NaN\n",
       "UD-01              NaN     NaN    NaN    NaN    NaN  880.0     NaN     NaN\n",
       "WF-01              NaN     NaN  962.0    NaN    NaN    NaN  4209.0  2291.0\n",
       "WF-04              NaN     NaN    NaN    NaN    NaN    NaN  1605.0  1150.0"
      ]
     },
     "execution_count": 9,
     "metadata": {},
     "output_type": "execute_result"
    }
   ],
   "source": [
    "## DESCONSIDERAR\n",
    "df.groupby(['from_station_id', 'to_station_id']).size().to_frame()\\\n",
    "    .sort_values(by=0,ascending=False).head(10).reset_index().pivot(index='from_station_id', columns='to_station_id')"
   ]
  },
  {
   "cell_type": "code",
   "execution_count": 10,
   "id": "31627fdf",
   "metadata": {},
   "outputs": [],
   "source": [
    "top_10_estacoes = df.groupby(['from_station_id', 'to_station_id']).size().to_frame().nlargest(10, 0).reset_index()"
   ]
  },
  {
   "cell_type": "code",
   "execution_count": 11,
   "id": "c8163ce3",
   "metadata": {},
   "outputs": [
    {
     "data": {
      "text/html": [
       "<div>\n",
       "<style scoped>\n",
       "    .dataframe tbody tr th:only-of-type {\n",
       "        vertical-align: middle;\n",
       "    }\n",
       "\n",
       "    .dataframe tbody tr th {\n",
       "        vertical-align: top;\n",
       "    }\n",
       "\n",
       "    .dataframe thead th {\n",
       "        text-align: right;\n",
       "    }\n",
       "</style>\n",
       "<table border=\"1\" class=\"dataframe\">\n",
       "  <thead>\n",
       "    <tr style=\"text-align: right;\">\n",
       "      <th></th>\n",
       "      <th>from_station_id</th>\n",
       "      <th>to_station_id</th>\n",
       "      <th>0</th>\n",
       "    </tr>\n",
       "  </thead>\n",
       "  <tbody>\n",
       "    <tr>\n",
       "      <th>0</th>\n",
       "      <td>WF-01</td>\n",
       "      <td>WF-01</td>\n",
       "      <td>4209</td>\n",
       "    </tr>\n",
       "    <tr>\n",
       "      <th>1</th>\n",
       "      <td>WF-01</td>\n",
       "      <td>WF-04</td>\n",
       "      <td>2291</td>\n",
       "    </tr>\n",
       "    <tr>\n",
       "      <th>2</th>\n",
       "      <td>WF-04</td>\n",
       "      <td>WF-01</td>\n",
       "      <td>1605</td>\n",
       "    </tr>\n",
       "    <tr>\n",
       "      <th>3</th>\n",
       "      <td>WF-04</td>\n",
       "      <td>WF-04</td>\n",
       "      <td>1150</td>\n",
       "    </tr>\n",
       "    <tr>\n",
       "      <th>4</th>\n",
       "      <td>BT-01</td>\n",
       "      <td>CBD-13</td>\n",
       "      <td>1101</td>\n",
       "    </tr>\n",
       "    <tr>\n",
       "      <th>5</th>\n",
       "      <td>CBD-13</td>\n",
       "      <td>BT-01</td>\n",
       "      <td>962</td>\n",
       "    </tr>\n",
       "    <tr>\n",
       "      <th>6</th>\n",
       "      <td>WF-01</td>\n",
       "      <td>PS-05</td>\n",
       "      <td>962</td>\n",
       "    </tr>\n",
       "    <tr>\n",
       "      <th>7</th>\n",
       "      <td>SLU-17</td>\n",
       "      <td>SLU-17</td>\n",
       "      <td>960</td>\n",
       "    </tr>\n",
       "    <tr>\n",
       "      <th>8</th>\n",
       "      <td>CH-07</td>\n",
       "      <td>SLU-16</td>\n",
       "      <td>934</td>\n",
       "    </tr>\n",
       "    <tr>\n",
       "      <th>9</th>\n",
       "      <td>UD-01</td>\n",
       "      <td>UD-01</td>\n",
       "      <td>880</td>\n",
       "    </tr>\n",
       "  </tbody>\n",
       "</table>\n",
       "</div>"
      ],
      "text/plain": [
       "  from_station_id to_station_id     0\n",
       "0           WF-01         WF-01  4209\n",
       "1           WF-01         WF-04  2291\n",
       "2           WF-04         WF-01  1605\n",
       "3           WF-04         WF-04  1150\n",
       "4           BT-01        CBD-13  1101\n",
       "5          CBD-13         BT-01   962\n",
       "6           WF-01         PS-05   962\n",
       "7          SLU-17        SLU-17   960\n",
       "8           CH-07        SLU-16   934\n",
       "9           UD-01         UD-01   880"
      ]
     },
     "execution_count": 11,
     "metadata": {},
     "output_type": "execute_result"
    }
   ],
   "source": [
    "top_10_estacoes"
   ]
  },
  {
   "cell_type": "code",
   "execution_count": 12,
   "id": "a24fb0ca",
   "metadata": {},
   "outputs": [],
   "source": [
    "from_station_mask = top_10_estacoes['from_station_id'].unique()\n",
    "to_station_mask = top_10_estacoes['to_station_id'].unique()"
   ]
  },
  {
   "cell_type": "code",
   "execution_count": 13,
   "id": "29bbd1a5",
   "metadata": {},
   "outputs": [
    {
     "data": {
      "text/plain": [
       "{'BT-01', 'CBD-13', 'CH-07', 'SLU-17', 'UD-01', 'WF-01', 'WF-04'}"
      ]
     },
     "execution_count": 13,
     "metadata": {},
     "output_type": "execute_result"
    }
   ],
   "source": [
    "set(from_station_mask)"
   ]
  },
  {
   "cell_type": "code",
   "execution_count": 14,
   "id": "231bdb43",
   "metadata": {},
   "outputs": [
    {
     "data": {
      "text/plain": [
       "array(['WF-01', 'WF-04', 'CBD-13', 'BT-01', 'PS-05', 'SLU-17', 'SLU-16',\n",
       "       'UD-01'], dtype=object)"
      ]
     },
     "execution_count": 14,
     "metadata": {},
     "output_type": "execute_result"
    }
   ],
   "source": [
    "to_station_mask"
   ]
  },
  {
   "cell_type": "code",
   "execution_count": 15,
   "id": "e92d1b82",
   "metadata": {},
   "outputs": [
    {
     "data": {
      "text/plain": [
       "['WF-01',\n",
       " 'WF-04',\n",
       " 'CBD-13',\n",
       " 'BT-01',\n",
       " 'PS-05',\n",
       " 'SLU-17',\n",
       " 'SLU-16',\n",
       " 'UD-01',\n",
       " 'WF-01',\n",
       " 'WF-04',\n",
       " 'BT-01',\n",
       " 'CBD-13',\n",
       " 'SLU-17',\n",
       " 'CH-07',\n",
       " 'UD-01']"
      ]
     },
     "execution_count": 15,
     "metadata": {},
     "output_type": "execute_result"
    }
   ],
   "source": [
    "[*to_station_mask, *from_station_mask]"
   ]
  },
  {
   "cell_type": "code",
   "execution_count": 16,
   "id": "f2a58eaa",
   "metadata": {},
   "outputs": [],
   "source": [
    "union_stations = set([*from_station_mask, *to_station_mask])"
   ]
  },
  {
   "cell_type": "code",
   "execution_count": 17,
   "id": "f31e65d8",
   "metadata": {},
   "outputs": [
    {
     "data": {
      "text/plain": [
       "{'BT-01',\n",
       " 'CBD-13',\n",
       " 'CH-07',\n",
       " 'PS-05',\n",
       " 'SLU-16',\n",
       " 'SLU-17',\n",
       " 'UD-01',\n",
       " 'WF-01',\n",
       " 'WF-04'}"
      ]
     },
     "execution_count": 17,
     "metadata": {},
     "output_type": "execute_result"
    }
   ],
   "source": [
    "union_stations"
   ]
  },
  {
   "cell_type": "code",
   "execution_count": 18,
   "id": "b56a6852",
   "metadata": {},
   "outputs": [],
   "source": [
    "matrix_data = crosstab_df.loc[union_stations,union_stations]"
   ]
  },
  {
   "cell_type": "markdown",
   "id": "70c7fe86",
   "metadata": {},
   "source": [
    "## Chord >:("
   ]
  },
  {
   "cell_type": "code",
   "execution_count": 19,
   "id": "b20fb4f4",
   "metadata": {},
   "outputs": [],
   "source": [
    "# !pip install chord\n",
    "# !pip install requests"
   ]
  },
  {
   "cell_type": "code",
   "execution_count": 20,
   "id": "f255d185",
   "metadata": {},
   "outputs": [],
   "source": [
    "import requests\n",
    "import numpy as np\n",
    "from chord import Chord"
   ]
  },
  {
   "cell_type": "code",
   "execution_count": 21,
   "id": "33cc572a",
   "metadata": {},
   "outputs": [
    {
     "data": {
      "text/plain": [
       "[[4209, 310, 962, 2291, 4, 347, 3, 52, 75],\n",
       " [384, 427, 384, 158, 1, 962, 53, 158, 105],\n",
       " [737, 199, 185, 181, 0, 179, 26, 42, 26],\n",
       " [1605, 137, 215, 1150, 4, 478, 2, 36, 17],\n",
       " [1, 9, 1, 0, 880, 6, 3, 2, 46],\n",
       " [777, 1101, 301, 792, 8, 627, 16, 151, 175],\n",
       " [23, 577, 71, 23, 15, 198, 233, 934, 19],\n",
       " [65, 344, 65, 68, 4, 166, 98, 186, 73],\n",
       " [97, 135, 31, 70, 25, 264, 5, 53, 960]]"
      ]
     },
     "execution_count": 21,
     "metadata": {},
     "output_type": "execute_result"
    }
   ],
   "source": [
    "matrix_data.values.tolist()"
   ]
  },
  {
   "cell_type": "code",
   "execution_count": 22,
   "id": "1f2ba25c",
   "metadata": {},
   "outputs": [],
   "source": [
    "Chord(matrix_data.values.tolist(), list(union_stations)).to_html('./chord.html')"
   ]
  },
  {
   "cell_type": "markdown",
   "id": "5ef0207a",
   "metadata": {},
   "source": [
    "## Plotly :O"
   ]
  },
  {
   "cell_type": "code",
   "execution_count": 23,
   "id": "d6dcc857",
   "metadata": {},
   "outputs": [],
   "source": [
    "# !pip install plotly\n",
    "# !pip install colorlover\n",
    "import pandas as pd\n",
    "import numpy as np\n",
    "import plotly.graph_objs as go\n",
    "#import colorlover as cl"
   ]
  },
  {
   "cell_type": "code",
   "execution_count": 24,
   "id": "114c284e",
   "metadata": {},
   "outputs": [],
   "source": [
    "df_2 = pd.read_csv('trip.csv', sep=',')\n",
    "df_2 = df_2.drop_duplicates(subset=['trip_id'])\n",
    "\n",
    "crosstab_df_2 = pd.crosstab(df_2['from_station_name'], df_2['to_station_name'])\n",
    "top_10_estacoes_2 = df_2.groupby(['from_station_name', 'to_station_name']).size().to_frame().nlargest(10, 0).reset_index()\n",
    "from_station_mask_2 = top_10_estacoes_2['from_station_name'].unique()\n",
    "to_station_mask_2 = top_10_estacoes_2['to_station_name'].unique()\n",
    "\n",
    "union_stations_2 = set([*from_station_mask_2, *to_station_mask_2])\n",
    "\n",
    "data_matrix_2 = crosstab_df_2.loc[union_stations_2,union_stations_2]\n",
    "matrix = data_matrix_2.copy()\n",
    "\n",
    "name_dict = {'Burke-Gilman Trail / NE Blakeley St & 24th Ave NE': 'Burke-Gilman Trail',\n",
    "                                 'King Street Station Plaza / 2nd Ave Extension S & S Jackson St': 'King Street Station Plaza',\n",
    "                                 'Lake Union Park / Valley St & Boren Ave N':'Lake Union Park',\n",
    "                                 'Pier 69 / Alaskan Way & Clay St':'Pier 69',\n",
    "                                 'Seattle Aquarium / Alaskan Way S & Elliott Bay Trail':'Seattle Aquarium'}\n",
    "\n",
    "matrix.rename(columns = name_dict, index = name_dict, inplace = True)"
   ]
  },
  {
   "cell_type": "code",
   "execution_count": 25,
   "id": "7cb36803",
   "metadata": {},
   "outputs": [],
   "source": [
    "#def get_spaced_colors(n, randomized=False):\n",
    "#    if n > 0:\n",
    "#        max_value = 255\n",
    "#        interval = max_value / n\n",
    "#        hues = np.arange(0, max_value, interval)\n",
    "#        return cl.to_rgb([\"hsl(%d,80%%,40%%)\" % i for i in hues])\n",
    "#    else:\n",
    "#        return None\n",
    "\n",
    "\n",
    "PI = np.pi\n",
    "\n",
    "\n",
    "def check_square(M):\n",
    "    d, n = M.shape\n",
    "    if d != n:\n",
    "        raise ValueError(\"Data array must be square.\")\n",
    "    return n\n",
    "\n",
    "\n",
    "def moduloAB(x, a, b):\n",
    "    if a >= b:\n",
    "        raise ValueError(\"Incorrect inverval ends\")\n",
    "    y = (x - a) % (b - a)\n",
    "    return y + b if y < 0 else y + a\n",
    "\n",
    "\n",
    "def test_2PI(x):\n",
    "    return 0 <= x < 2 * PI\n",
    "\n",
    "\n",
    "def get_ideogram_ends(ideaogram_len, gap):\n",
    "    ideo_ends = []\n",
    "    left = 0\n",
    "    for k in range(len(ideaogram_len)):\n",
    "        right = left + ideaogram_len[k]\n",
    "        ideo_ends.append([left, right])\n",
    "        left = right + gap\n",
    "    return ideo_ends\n",
    "\n",
    "\n",
    "def make_ideogram_arc(R, phi, a=50):\n",
    "    # R is the circle radius\n",
    "    # Phi is a list of the ends angle coordinates of an arc\n",
    "    # a is a parameter that controls the number of points to be evaluated\n",
    "    if not test_2PI(phi[0]) or not test_2PI(phi[1]):\n",
    "        phi = [moduloAB(t, 0, 2 * PI) for t in phi]\n",
    "    length = (phi[1] - phi[0]) % 2 * PI\n",
    "    nr = 5 if length <= PI / 4 else int(a * length / PI)\n",
    "    if phi[0] < phi[1]:\n",
    "        nr = 100\n",
    "\n",
    "        theta = np.linspace(phi[0], phi[1], nr)\n",
    "    else:\n",
    "        phi = [moduloAB(t, -PI, PI) for t in phi]\n",
    "        # nr = 100\n",
    "        theta = np.linspace(phi[0], phi[1], nr)\n",
    "    return R * np.exp(1j * theta)\n",
    "\n",
    "\n",
    "def map_data(data_matrix, row_value, ideogram_length):\n",
    "    n = data_matrix.shape[0]  # square, so same as 1\n",
    "    mapped = np.zeros([n, n])\n",
    "    for j in range(n):\n",
    "        mapped[:, j] = ideogram_length * data_matrix[:, j] / row_value\n",
    "    return mapped\n",
    "\n",
    "\n",
    "def make_ribbon_ends(mapped_data, ideo_ends, idx_sort):\n",
    "    n = mapped_data.shape[0]\n",
    "    ribbon_boundary = np.zeros((n, n + 1))\n",
    "    for k in range(n):\n",
    "        start = ideo_ends[k][0]\n",
    "        ribbon_boundary[k][0] = start\n",
    "        for j in range(1, n + 1):\n",
    "            J = idx_sort[k][j - 1]\n",
    "            ribbon_boundary[k][j] = start + mapped_data[k][J]\n",
    "            start = ribbon_boundary[k][j]\n",
    "    return [\n",
    "        [(ribbon_boundary[k][j], ribbon_boundary[k][j + 1]) for j in range(n)]\n",
    "        for k in range(n)\n",
    "    ]\n",
    "\n",
    "\n",
    "def control_pts(angle, radius):\n",
    "    if len(angle) != 3:\n",
    "        raise ValueError(\"Angle must have len = 3\")\n",
    "    b_cplx = np.array([np.exp(1j * angle[k]) for k in range(3)])\n",
    "    b_cplx[1] = radius * b_cplx[1]\n",
    "    return list(zip(b_cplx.real, b_cplx.imag))\n",
    "\n",
    "\n",
    "def ctrl_rib_chords(l, r, radius):\n",
    "    if len(l) != 2 or len(r) != 2:\n",
    "        raise ValueError(\"The arc ends must be elements in a list of len 2\")\n",
    "    return [control_pts([l[j], (l[j] + r[j]) / 2, r[j]], radius) for j in range(2)]\n",
    "\n",
    "\n",
    "def make_q_bezier(b):\n",
    "    if len(b) != 3:\n",
    "        raise ValueError(\"Contaol polygon must have 3 points\")\n",
    "    A, B, C = b\n",
    "    return (\n",
    "        \"M \"\n",
    "        + str(A[0])\n",
    "        + \",\"\n",
    "        + str(A[1])\n",
    "        + \" \"\n",
    "        + \"Q \"\n",
    "        + str(B[0])\n",
    "        + \", \"\n",
    "        + str(B[1])\n",
    "        + \" \"\n",
    "        + str(C[0])\n",
    "        + \", \"\n",
    "        + str(C[1])\n",
    "    )\n",
    "\n",
    "\n",
    "def make_ribbon_arc(theta0, theta1):\n",
    "    if test_2PI(theta0) and test_2PI(theta1):\n",
    "        if theta0 < theta1:\n",
    "            theta0 = moduloAB(theta0, -PI, PI)\n",
    "            theta1 = moduloAB(theta1, -PI, PI)\n",
    "            if theta0 * theta1 > 0:\n",
    "                raise ValueError(\"Incorrect angle coordinates for ribbon\")\n",
    "        nr = int(40 * (theta0 - theta1) / PI)\n",
    "        if nr <= 2:\n",
    "            nr = 3\n",
    "        theta = np.linspace(theta0, theta1, nr)\n",
    "        pts = np.exp(1j * theta)\n",
    "        string_arc = \"\"\n",
    "        for k in range(len(theta)):\n",
    "            string_arc += \"L \" + str(pts.real[k]) + \", \" + str(pts.imag[k]) + \" \"\n",
    "        return string_arc\n",
    "    else:\n",
    "        raise ValueError(\"The angle coords for arc ribbon must be [0, 2*PI]\")\n",
    "\n",
    "\n",
    "def make_layout(title):\n",
    "    xaxis = dict(\n",
    "        showline=False, zeroline=False, showgrid=False, showticklabels=False, title=\"\"\n",
    "    )\n",
    "    yaxis = {**xaxis, \"scaleanchor\": \"x\"}\n",
    "    return dict(\n",
    "        title=title,\n",
    "        xaxis=xaxis,\n",
    "        yaxis=yaxis,\n",
    "        showlegend=False,\n",
    "        margin=dict(t=25, b=25, l=25, r=25),\n",
    "        hovermode=\"closest\",\n",
    "        shapes=[],\n",
    "    )\n",
    "\n",
    "\n",
    "def make_ideo_shape(path, line_color, fill_color):\n",
    "    return dict(\n",
    "        line=go.layout.shape.Line(color=line_color, width=0.45),\n",
    "        path=path,\n",
    "        type=\"path\",\n",
    "        fillcolor=fill_color,\n",
    "        layer=\"below\",\n",
    "    )\n",
    "\n",
    "\n",
    "def make_ribbon(l, r, line_color, fill_color, radius=0.2):\n",
    "    poligon = ctrl_rib_chords(l, r, radius)\n",
    "    b, c = poligon\n",
    "    return dict(\n",
    "        line=go.layout.shape.Line(color=line_color, width=0.5),\n",
    "        path=make_q_bezier(b)\n",
    "        + make_ribbon_arc(r[0], r[1])\n",
    "        + make_q_bezier(c[::-1])\n",
    "        + make_ribbon_arc(l[1], l[0]),\n",
    "        type=\"path\",\n",
    "        fillcolor=fill_color,\n",
    "        layer=\"below\",\n",
    "    )\n",
    "\n",
    "\n",
    "def make_self_rel(l, line_color, fill_color, radius):\n",
    "    b = control_pts([l[0], (l[0] + l[1]) / 2, l[1]], radius)\n",
    "    return dict(\n",
    "        line=dict(color=line_color, width=0.5),\n",
    "        path=make_q_bezier(b) + make_ribbon_arc(l[1], l[0]),\n",
    "        type=\"path\",\n",
    "        fillcolor=fill_color,\n",
    "        layer=\"below\",\n",
    "    )\n",
    "\n",
    "\n",
    "def invPerm(perm):\n",
    "    inv = [0] * len(perm)\n",
    "    for i, s in enumerate(perm):\n",
    "        inv[s] = i\n",
    "    return inv\n",
    "\n",
    "\n",
    "def make_filled_chord(M):  # ,labels):\n",
    "\n",
    "    n = M.shape[0]\n",
    "    labels = list(M.columns)\n",
    "    M = M.T\n",
    "    matrix = M.to_numpy()\n",
    "    n = M.shape[0]\n",
    "    row_sum = [np.sum(matrix[k, :]) for k in range(n)]\n",
    "    gap = 2 * PI * 10e-8\n",
    "\n",
    "    ideogram_length = 2 * PI * np.asarray(row_sum) / sum(row_sum) - gap * np.ones(n)\n",
    "    ideo_colors=['rgba(213,62,79,0.75)',\n",
    "             'rgba(244,109,67,0.75)',\n",
    "             'rgba(253,174,97,0.75)',\n",
    "             'rgba(254,224,139,0.75)',\n",
    "             'rgba(255,255,191,0.75)',\n",
    "             'rgba(230,245,152,0.75)',\n",
    "             'rgba(171,221,164,0.75)',\n",
    "             'rgba(102,194,165,0.75)',\n",
    "             'rgba(50,136,189,0.75)']\n",
    "    #ideo_colors = [\n",
    "    #    x[:3] + \"a\" + x[3:-1] + \",.75\" + x[-1] for x in get_spaced_colors(len(labels))\n",
    "    #]\n",
    "    mapped_data = map_data(matrix, row_sum, ideogram_length)\n",
    "    idx_sort = np.argsort(mapped_data, axis=1)\n",
    "    ideo_ends = get_ideogram_ends(ideogram_length, gap)\n",
    "    ribbon_ends = make_ribbon_ends(mapped_data, ideo_ends, idx_sort)\n",
    "    ribbon_color = [n * [ideo_colors[k]] for k in range(n)]\n",
    "    layout = make_layout(\" \")\n",
    "    ribbon_info = []\n",
    "    radii_sribb = [0.2] * n\n",
    "    for k in range(n):\n",
    "        sigma = idx_sort[k]\n",
    "        sigma_inv = invPerm(sigma)\n",
    "        for j in range(k, n):\n",
    "            if M.iloc[k, j] == 0 and M.iloc[j, k] == 0:\n",
    "                continue\n",
    "            eta = idx_sort[j]\n",
    "            eta_inv = invPerm(eta)\n",
    "            l = ribbon_ends[k][sigma_inv[j]]\n",
    "            if j == k:\n",
    "                layout[\"shapes\"].append(\n",
    "                    make_self_rel(\n",
    "                        l, \"rgb(175,175,175)\", ideo_colors[k], radius=radii_sribb[k]\n",
    "                    )\n",
    "                )\n",
    "                z = 0.9 * np.exp(1j * (l[0] + l[1]) / 2)\n",
    "                text = (\n",
    "                    labels[k]\n",
    "                    + \" \\u2b8c \"\n",
    "                    #+ labels[k]\n",
    "                    + \": {0} viagens \".format(M.iloc[k, k])\n",
    "                )\n",
    "                ribbon_info.append(\n",
    "                    go.Scatter(\n",
    "                        x=[z.real],\n",
    "                        y=[z.imag],\n",
    "                        mode=\"markers\",\n",
    "                        text=text,\n",
    "                        hoverinfo=\"text\",\n",
    "                        marker=dict(size=0.5, color=ideo_colors[k]),\n",
    "                    )\n",
    "                )\n",
    "            else:\n",
    "                r = ribbon_ends[j][eta_inv[k]]\n",
    "                zi = 0.9 * np.exp(1j * (l[0] + l[1]) / 2)\n",
    "                zf = 0.9 * np.exp(1j * (r[0] + r[1]) / 2)\n",
    "\n",
    "                texti = (\n",
    "                    labels[k]\n",
    "                    + \" \\u2794 \"\n",
    "                    + labels[j]\n",
    "                    + \": {0} viagens \".format(matrix[k][j])\n",
    "                )\n",
    "                textf = (\n",
    "                    labels[j]\n",
    "                    + \" \\u2794 \"\n",
    "                    + labels[k]\n",
    "                    +\": {0} viagens \".format(matrix[j][k])\n",
    "                )\n",
    "\n",
    "                ribbon_info.append(\n",
    "                    go.Scatter(\n",
    "                        x=[zi.real],\n",
    "                        y=[zi.imag],\n",
    "                        mode=\"markers\",\n",
    "                        text=texti,\n",
    "                        hoverinfo=\"text\",\n",
    "                        marker=dict(size=0.5, color=ribbon_color[k][j]),\n",
    "                    )\n",
    "                )\n",
    "                ribbon_info.append(\n",
    "                    go.Scatter(\n",
    "                        x=[zf.real],\n",
    "                        y=[zf.imag],\n",
    "                        mode=\"markers\",\n",
    "                        text=textf,\n",
    "                        hoverinfo=\"text\",\n",
    "                        marker=dict(size=0.5, color=ribbon_color[j][k]),\n",
    "                    )\n",
    "                )\n",
    "                r = (r[1], r[0])\n",
    "                if matrix[k][j] > matrix[j][k]:\n",
    "                    color_of_highest = ribbon_color[k][j]\n",
    "                else:\n",
    "                    color_of_highest = ribbon_color[j][k]\n",
    "                layout[\"shapes\"].append(\n",
    "                    make_ribbon(l, r, \"rgb(175, 175, 175)\", color_of_highest)\n",
    "                )\n",
    "    ideograms = []\n",
    "    for k in range(len(ideo_ends)):\n",
    "        z = make_ideogram_arc(1.1, ideo_ends[k])\n",
    "        zi = make_ideogram_arc(1.0, ideo_ends[k])\n",
    "        m = len(z)\n",
    "        n = len(zi)\n",
    "        ideograms.append(\n",
    "            go.Scatter(\n",
    "                x=z.real,\n",
    "                y=z.imag,\n",
    "                mode=\"lines\",\n",
    "                line=dict(color=ideo_colors[k], shape=\"spline\", width=0.25),\n",
    "                text=labels[k] + \"<br>\" + \"{0} partidas\".format(row_sum[k]),\n",
    "                hoverinfo=\"text\",\n",
    "            )\n",
    "        )\n",
    "        path = \"M \"\n",
    "        for s in range(m):\n",
    "            path += str(z.real[s]) + \", \" + str(z.imag[s]) + \" L \"\n",
    "        Zi = np.array(zi.tolist()[::-1])\n",
    "        for s in range(m):\n",
    "            path += str(Zi.real[s]) + \", \" + str(Zi.imag[s]) + \" L \"\n",
    "        path += str(z.real[0]) + \" ,\" + str(z.imag[0])\n",
    "        layout[\"shapes\"].append(\n",
    "            make_ideo_shape(path, \"rgb(150,150,150)\", ideo_colors[k])\n",
    "        )\n",
    "\n",
    "    layout[\"paper_bgcolor\"] = \"rgba(0,0,0,0)\"\n",
    "    layout[\"plot_bgcolor\"] = \"rgba(0,0,0,0)\"\n",
    "    layout[\"width\"] = 625\n",
    "    layout[\"height\"] = 625\n",
    "    data = ideograms + ribbon_info\n",
    "    fig = {\"data\": data, \"layout\": layout}\n",
    "    return fig"
   ]
  },
  {
   "cell_type": "code",
   "execution_count": 26,
   "id": "daf5c106",
   "metadata": {},
   "outputs": [],
   "source": [
    "fig = make_filled_chord(matrix)"
   ]
  },
  {
   "cell_type": "code",
   "execution_count": 27,
   "id": "12a25331",
   "metadata": {},
   "outputs": [
    {
     "data": {
      "text/html": [
       "        <script type=\"text/javascript\">\n",
       "        window.PlotlyConfig = {MathJaxConfig: 'local'};\n",
       "        if (window.MathJax) {MathJax.Hub.Config({SVG: {font: \"STIX-Web\"}});}\n",
       "        if (typeof require !== 'undefined') {\n",
       "        require.undef(\"plotly\");\n",
       "        requirejs.config({\n",
       "            paths: {\n",
       "                'plotly': ['https://cdn.plot.ly/plotly-2.6.3.min']\n",
       "            }\n",
       "        });\n",
       "        require(['plotly'], function(Plotly) {\n",
       "            window._Plotly = Plotly;\n",
       "        });\n",
       "        }\n",
       "        </script>\n",
       "        "
      ]
     },
     "metadata": {},
     "output_type": "display_data"
    },
    {
     "data": {
      "application/vnd.plotly.v1+json": {
       "config": {
        "linkText": "Export to plot.ly",
        "plotlyServerURL": "https://plot.ly",
        "showLink": false
       },
       "data": [
        {
         "hoverinfo": "text",
         "line": {
          "color": "rgba(213,62,79,0.75)",
          "shape": "spline",
          "width": 0.25
         },
         "mode": "lines",
         "text": "Lake Union Park<br>1496 partidas",
         "type": "scatter",
         "x": [
          1.1,
          1.0999925525688983,
          1.0999702103764366,
          1.0999329737251462,
          1.0998808431192402,
          1.099813819264608,
          1.099731903068805,
          1.099635095641041,
          1.0995233982921644,
          1.0993968125346445,
          1.099255340082552,
          1.0990989828515347,
          1.098927742958792,
          1.0987416227230464,
          1.0985406246645117,
          1.098324751504859,
          1.0980940061671807,
          1.0978483917759487,
          1.097587911656975,
          1.0973125693373642,
          1.0970223685454672,
          1.0967173132108303,
          1.0963974074641418,
          1.0960626556371764,
          1.095713062262736,
          1.095348632074589,
          1.094969370007406,
          1.094575281196692,
          1.0941663709787193,
          1.0937426448904521,
          1.093304108669474,
          1.092850768253909,
          1.0923826297823418,
          1.0918996995937345,
          1.09140198422734,
          1.0908894904226145,
          1.090362225119126,
          1.08982019545646,
          1.0892634087741226,
          1.0886918726114425,
          1.088105594707467,
          1.0875045830008585,
          1.0868888456297865,
          1.0862583909318178,
          1.0856132274438028,
          1.0849533639017614,
          1.084278809240763,
          1.0835895725948061,
          1.0828856632966954,
          1.0821670908779144,
          1.0814338650684971,
          1.0806859957968955,
          1.0799234931898458,
          1.0791463675722308,
          1.0783546294669408,
          1.0775482895947301,
          1.076727358874073,
          1.075891848421014,
          1.0750417695490204,
          1.0741771337688262,
          1.0732979527882776,
          1.0724042385121737,
          1.0714960030421072,
          1.0705732586762975,
          1.069636017909427,
          1.06868429343247,
          1.0677180981325223,
          1.0667374450926252,
          1.06574234759159,
          1.0647328191038163,
          1.0637088732991113,
          1.062670524042504,
          1.061617785394057,
          1.0605506716086768,
          1.0594691971359205,
          1.0583733766198,
          1.0572632248985843,
          1.0561387570045977,
          1.0549999881640169,
          1.0538469337966645,
          1.0526796095158004,
          1.0514980311279107,
          1.0503022146324925,
          1.0490921762218386,
          1.0478679322808175,
          1.0466294993866518,
          1.0453768943086938,
          1.0441101340081977,
          1.042829235638091,
          1.041534216542742,
          1.0402250942577236,
          1.0389018865095783,
          1.0375646112155756,
          1.0362132864834717,
          1.0348479306112626,
          1.0334685620869366,
          1.0320751995882251,
          1.0306678619823482,
          1.0292465683257606,
          1.027811337863892
         ],
         "y": [
          0,
          0.004047751593157706,
          0.008095448376586123,
          0.012143035541298136,
          0.016190458279790945,
          0.02023766178678822,
          0.024284591259982176,
          0.02833119190077569,
          0.03237740891502427,
          0.036423187513778016,
          0.04046847291402356,
          0.04451321033942578,
          0.048557345021069585,
          0.05260082219820151,
          0.0566435871189712,
          0.06068558504117285,
          0.06472676123298636,
          0.06876706097371854,
          0.07280642955454403,
          0.07684481227924611,
          0.08088215446495728,
          0.08491840144289985,
          0.08895349855912597,
          0.09298739117525794,
          0.09702002466922788,
          0.10105134443601739,
          0.10508129588839703,
          0.10910982445766533,
          0.11313687559438783,
          0.11716239476913567,
          0.12118632747322393,
          0.12520861921944973,
          0.12922921554283007,
          0.13324806200133932,
          0.13726510417664636,
          0.1412802876748515,
          0.14529355812722297,
          0.14930486119093317,
          0.1533141425497945,
          0.15732134791499472,
          0.1613264230258323,
          0.165329313650451,
          0.1693299655865742,
          0.17332832466223885,
          0.17732433673652911,
          0.18131794770030926,
          0.18530910347695664,
          0.1892977500230937,
          0.19328383332931975,
          0.19726729942094245,
          0.2012480943587087,
          0.2052261642395347,
          0.20920145519723618,
          0.21317391340325764,
          0.21714348506740136,
          0.2211101164385555,
          0.2250737538054221,
          0.22903434349724458,
          0.232991831884534,
          0.2369461653797957,
          0.24089729043825464,
          0.24484515355858055,
          0.24878970128361236,
          0.25273088020108203,
          0.25666863694433784,
          0.260602918193067,
          0.2645336706740176,
          0.26846084116172014,
          0.2723843764792079,
          0.2763042234987374,
          0.2802203291425075,
          0.2841326403833782,
          0.28804110424558893,
          0.29194566780547526,
          0.2958462781921862,
          0.29974288258839965,
          0.303635428231038,
          0.30752386241198204,
          0.3114081324787851,
          0.3152881858353861,
          0.31916396994282115,
          0.32303543231993564,
          0.32690252054409424,
          0.3307651822518915,
          0.3346233651398602,
          0.33847701696517973,
          0.3423260855463841,
          0.34617051876406757,
          0.350010264561591,
          0.35384527094578666,
          0.35767548598766213,
          0.3615008578231036,
          0.3653213346535779,
          0.3691368647468343,
          0.37294739643760455,
          0.3767528781283029,
          0.38055325828972425,
          0.3843484854617425,
          0.3881385082540069,
          0.3919232753466383
         ]
        },
        {
         "hoverinfo": "text",
         "line": {
          "color": "rgba(244,109,67,0.75)",
          "shape": "spline",
          "width": 0.25
         },
         "mode": "lines",
         "text": "E Pine St & 16th Ave<br>439 partidas",
         "type": "scatter",
         "x": [
          1.0278110916110326,
          1.027387283324997,
          1.0269622770834643,
          1.0265360733820008,
          1.026108672717569,
          1.0256800755885271,
          1.0252502824946288,
          1.024819293937022,
          1.0243871104182483,
          1.0239537324422427,
          1.023519160514334,
          1.0230833951412415,
          1.0226464368310773,
          1.0222082860933441,
          1.021768943438935,
          1.0213284093801327,
          1.02088668443061,
          1.0204437691054267,
          1.0199996639210318,
          1.019554369395262,
          1.0191078860473395,
          1.0186602143978738,
          1.0182113549688594,
          1.0177613082836763,
          1.017310074867088,
          1.0168576552452426,
          1.0164040499456712,
          1.0159492594972872,
          1.0154932844303857,
          1.0150361252766436,
          1.014577782569118,
          1.0141182568422464,
          1.0136575486318458,
          1.0131956584751116,
          1.0127325869106176,
          1.012268334478315,
          1.0118029017195325,
          1.011336289176974,
          1.0108684973947202,
          1.010399526918226,
          1.009929378294321,
          1.0094580520712086,
          1.0089855487984654,
          1.00851186902704,
          1.0080370133092535,
          1.0075609821987974,
          1.0070837762507343,
          1.0066053960214965,
          1.0061258420688857,
          1.0056451149520718,
          1.005163215231593,
          1.0046801434693546,
          1.004195900228629,
          1.0037104860740533,
          1.0032239015716313,
          1.002736147288731,
          1.0022472237940843,
          1.0017571316577862,
          1.0012658714512945,
          1.0007734437474296,
          1.0002798491203722,
          0.9997850881456642,
          0.9992891614002078,
          0.9987920694622641,
          0.9982938129114525,
          0.9977943923287511,
          0.997293808296495,
          0.9967920613983758,
          0.996289152219441,
          0.9957850813460936,
          0.9952798493660907,
          0.9947734568685439,
          0.9942659044439175,
          0.9937571926840285,
          0.9932473221820456,
          0.9927362935324889,
          0.9922241073312283,
          0.9917107641754842,
          0.9911962646638257,
          0.99068060939617,
          0.9901637989737821,
          0.9896458339992742,
          0.9891267150766043,
          0.9886064428110763,
          0.9880850178093389,
          0.9875624406793845,
          0.9870387120305492,
          0.9865138324735119,
          0.9859878026202933,
          0.9854606230842555,
          0.9849322944801011,
          0.9844028174238726,
          0.9838721925329512,
          0.9833404204260573,
          0.982807501723248,
          0.9822734370459184,
          0.981738227016799,
          0.9812018722599564,
          0.9806643734007913,
          0.9801257310660392
         ],
         "y": [
          0.39192392113947055,
          0.3930335482653897,
          0.3941427171058042,
          0.39525142636739924,
          0.39635967475739636,
          0.39746746098355423,
          0.39857478375417044,
          0.3996816417780832,
          0.40078803376467215,
          0.4018939584238607,
          0.40299941446611726,
          0.4041044006024564,
          0.4052089155444406,
          0.406312958004182,
          0.4074165266943434,
          0.40851962032814043,
          0.40962223761934197,
          0.410724377282273,
          0.4118260380318152,
          0.4129272185834084,
          0.4140279176530528,
          0.4151281339573097,
          0.41622786621330327,
          0.4173271131387225,
          0.41842587345182186,
          0.4195241458714233,
          0.4206219291169179,
          0.42171922190826694,
          0.42281602296600357,
          0.4239123310112343,
          0.4250081447656407,
          0.4261034629514804,
          0.42719828429158907,
          0.4282926075093817,
          0.429386431328854,
          0.4304797544745841,
          0.4315725756717339,
          0.43266489364605054,
          0.43375670712386794,
          0.4348480148321082,
          0.43593881549828345,
          0.43702910785049665,
          0.4381188906174438,
          0.4392081625284148,
          0.4402969223132954,
          0.44138516870256844,
          0.4424729004273155,
          0.44356011621921815,
          0.44464681481055945,
          0.44573299493422575,
          0.44681865532370785,
          0.44790379471310254,
          0.4489884118371142,
          0.45007250543105604,
          0.4511560742308518,
          0.45223911697303715,
          0.45332163239476114,
          0.4544036192337877,
          0.4554850762284971,
          0.45656600211788734,
          0.4576463956415759,
          0.4587262555398007,
          0.45980558055342213,
          0.4608843694239242,
          0.4619626208934161,
          0.4630403337046336,
          0.4641175066009404,
          0.4651941383263301,
          0.4662702276254272,
          0.4673457732434884,
          0.46842077392640463,
          0.46949522842070224,
          0.47056913547354423,
          0.47164249383273216,
          0.47271530224670727,
          0.473787559464552,
          0.4748592642359915,
          0.4759304153113953,
          0.47700101144177826,
          0.47807105137880246,
          0.4791405338747786,
          0.48020945768266715,
          0.4812778215560802,
          0.4823456242492826,
          0.48341286451719373,
          0.4844795411153886,
          0.4855456528000995,
          0.48661119832821753,
          0.48767617645729383,
          0.48874058594554115,
          0.4898044255518354,
          0.49086769403571673,
          0.4919303901573916,
          0.4929925126777335,
          0.4940540603582849,
          0.4951150319612587,
          0.4961754262495393,
          0.49723524198668434,
          0.4982944779369259,
          0.4993531328651724
         ]
        },
        {
         "hoverinfo": "text",
         "line": {
          "color": "rgba(253,174,97,0.75)",
          "shape": "spline",
          "width": 0.25
         },
         "mode": "lines",
         "text": "Seattle Aquarium<br>4733 partidas",
         "type": "scatter",
         "x": [
          0.9801254173130189,
          0.9742456521567747,
          0.96823384298827,
          0.9620908046157634,
          0.9558173696336137,
          0.949414388309435,
          0.9428827284688545,
          0.9362232753778933,
          0.9294369316229821,
          0.9225246169886288,
          0.9154872683327566,
          0.9083258394597272,
          0.9010413009910667,
          0.8936346402339135,
          0.8861068610472037,
          0.8784589837056135,
          0.8706920447612764,
          0.862807096903295,
          0.8548052088150649,
          0.8466874650294308,
          0.8384549657816956,
          0.8301088268604998,
          0.821650179456593,
          0.8130801700095202,
          0.804399960052237,
          0.7956107260536842,
          0.7867136592593337,
          0.7777099655297346,
          0.7686008651770766,
          0.7593875927997958,
          0.7500713971152443,
          0.7406535407904447,
          0.7311353002709562,
          0.7215179656078708,
          0.7118028402829685,
          0.701991241032048,
          0.6920844976664656,
          0.6820839528928987,
          0.6719909621313622,
          0.661806893331503,
          0.6515331267871955,
          0.6411710549494629,
          0.6307220822377531,
          0.6201876248495906,
          0.6095691105686328,
          0.5988679785711564,
          0.5880856792309976,
          0.577223673922979,
          0.56628343482484,
          0.5552664447177067,
          0.5441741967851249,
          0.5330081944106801,
          0.5217699509742381,
          0.51046098964683,
          0.49908284318420837,
          0.4876370537191071,
          0.47612517255222886,
          0.4645487599419894,
          0.4529093848930491,
          0.4412086249436583,
          0.429448065951847,
          0.4176293018804848,
          0.4057539345812446,
          0.3938235735774969,
          0.3818398358461622,
          0.3698043455985554,
          0.3577187340602496,
          0.34558463924998706,
          0.3334037057576722,
          0.32117758452147205,
          0.30890793260405786,
          0.2965964129680145,
          0.28424469425045207,
          0.2718544505368486,
          0.2594273611341518,
          0.24696511034317611,
          0.23446938723032176,
          0.22194188539864668,
          0.20938430275832534,
          0.19679834129652385,
          0.18418570684672034,
          0.1715481088575063,
          0.15888726016089688,
          0.1462048767401837,
          0.1335026774973582,
          0.1207823840201417,
          0.10804572034865141,
          0.09529441274173162,
          0.08253018944298773,
          0.06975478044654786,
          0.056969917262589514,
          0.04417733268265975,
          0.03137876054482275,
          0.018575935498663366,
          0.005770592770182748,
          -0.0070355320733841145,
          -0.019840703358799294,
          -0.032643185542064995,
          -0.04544124344364914,
          -0.05823314248366368
         ],
         "y": [
          0.49935374869623306,
          0.5107302705475962,
          0.5220375707668621,
          0.5332741168234151,
          0.5444383857762786,
          0.5555288644805251,
          0.5665440497923604,
          0.5774824487728519,
          0.5883425788902724,
          0.5991229682210356,
          0.6098221556491921,
          0.6204386910644614,
          0.6309711355587719,
          0.6414180616212831,
          0.6517780533318621,
          0.6620497065529906,
          0.6722316291200732,
          0.682322441030125,
          0.6923207746288086,
          0.7022252747957998,
          0.7120345991284522,
          0.7217474181237401,
          0.7313624153584517,
          0.7408782876676101,
          0.7502937453210973,
          0.7596075121984573,
          0.768818325961855,
          0.7779249382271655,
          0.7869261147331745,
          0.7958206355088637,
          0.8046072950387573,
          0.8132849024263129,
          0.8218522815553286,
          0.8303082712493471,
          0.8386517254290359,
          0.8468815132675204,
          0.8549965193436497,
          0.862995643793176,
          0.8708778024578225,
          0.8786419270322267,
          0.88628696520873,
          0.8938118808200041,
          0.9012156539794863,
          0.9084972812196103,
          0.9156557756278099,
          0.9226901669802802,
          0.9295995018734768,
          0.9363828438533347,
          0.94303927354219,
          0.949567888763388,
          0.9559678046635589,
          0.9622381538325462,
          0.9683780864209708,
          0.9743867702554151,
          0.9802633909512112,
          0.9860071520228181,
          0.9916172749917734,
          0.9970929994922039,
          1.002433583373881,
          1.0076383028028095,
          1.0127064523593292,
          1.0176373451337264,
          1.022430312819333,
          1.0270847058031047,
          1.0315998932536665,
          1.0359752632068124,
          1.0402102226484475,
          1.0443041975949614,
          1.0482566331710244,
          1.0520669936847904,
          1.0557347627005027,
          1.0592594431084894,
          1.0626405571925377,
          1.065877646694642,
          1.0689702728771135,
          1.0719180165820439,
          1.0747204782881163,
          1.0773772781647541,
          1.0798880561236013,
          1.0822524718673259,
          1.0844702049357438,
          1.0865409547492508,
          1.0884644406495618,
          1.0902404019377505,
          1.0918685979095821,
          1.0933488078881375,
          1.0946808312537226,
          1.09586448747106,
          1.0968996161137559,
          1.0977860768860452,
          1.0985237496418063,
          1.0991125344008437,
          1.0995523513624401,
          1.0998431409161715,
          1.0999848636499872,
          1.0999775003555503,
          1.099821052030842,
          1.0995155398800267,
          1.0990610053105765,
          1.098457509927661
         ]
        },
        {
         "hoverinfo": "text",
         "line": {
          "color": "rgba(254,224,139,0.75)",
          "shape": "spline",
          "width": 0.25
         },
         "mode": "lines",
         "text": "Pier 69<br>7898 partidas",
         "type": "scatter",
         "x": [
          -0.058233832664860916,
          -0.07956136026086637,
          -0.10085886132858224,
          -0.12211829817211882,
          -0.1433316474610592,
          -0.1644909032584705,
          -0.18558808004235194,
          -0.20661521571937713,
          -0.22756437462979645,
          -0.24842765054236146,
          -0.2691971696381437,
          -0.2898650934821205,
          -0.31042362198140805,
          -0.33086499632902344,
          -0.351181501932065,
          -0.37136547132320585,
          -0.3914092870544045,
          -0.4113053845717355,
          -0.4310462550702584,
          -0.45062444832784865,
          -0.4700325755169175,
          -0.48926331199296125,
          -0.5083094000588908,
          -0.5271636517040905,
          -0.5458189513171808,
          -0.5642682583714578,
          -0.5825046100819912,
          -0.6005211240333888,
          -0.6183110007772236,
          -0.6358675263981528,
          -0.6531840750477567,
          -0.6702541114451366,
          -0.6870711933433393,
          -0.7036289739606642,
          -0.7199212043759451,
          -0.7359417358868988,
          -0.7516845223306516,
          -0.7671436223655651,
          -0.782313201713505,
          -0.7971875353617016,
          -0.8117610097233756,
          -0.8260281247563118,
          -0.8399834960385769,
          -0.853621856800609,
          -0.8669380599128977,
          -0.8799270798285175,
          -0.8925840144797723,
          -0.9049040871282419,
          -0.9168826481675252,
          -0.9285151768780079,
          -0.939797283132984,
          -0.9507247090554951,
          -0.9612933306252568,
          -0.9714991592350667,
          -0.9813383431961094,
          -0.9908071691915863,
          -0.9999020636781256,
          -1.00861959423444,
          -1.0169564708567262,
          -1.024909547200315,
          -1.0324758217671037,
          -1.0396524390383262,
          -1.0464366905522262,
          -1.0528260159262346,
          -1.0588180038232589,
          -1.0644103928617255,
          -1.0696010724690255,
          -1.0743880836780475,
          -1.0787696198664942,
          -1.0827440274387017,
          -1.0863098064497092,
          -1.0894656111713392,
          -1.0922102506000764,
          -1.0945426889065537,
          -1.0964620458264744,
          -1.0979675969928266,
          -1.0990587742092575,
          -1.099735165664513,
          -1.0999965160878546,
          -1.0998427268453999,
          -1.099273855977346,
          -1.0982901181760656,
          -1.0968918847050821,
          -1.0950796832589536,
          -1.0928541977641215,
          -1.0902162681207956,
          -1.0871668898859752,
          -1.083707213897724,
          -1.0798385458408446,
          -1.0755623457541106,
          -1.0708802274792466,
          -1.0657939580518638,
          -1.0603054570345782,
          -1.0544167957925665,
          -1.0481301967118315,
          -1.0414480323604702,
          -1.034372824593266,
          -1.0269072435999378,
          -1.0190541068974075,
          -1.0108163782664679
         ],
         "y": [
          1.0984574733384818,
          1.0971189497741076,
          1.095366372540029,
          1.093200403060457,
          1.0906218587742036,
          1.0876317128261812,
          1.0842310937001363,
          1.0804212847927588,
          1.0762037239293265,
          1.0715800028210691,
          1.066551866464455,
          1.0611212124826277,
          1.055290090409241,
          1.049060700914964,
          1.042435394976945,
          1.0354166729915513,
          1.0280071838307177,
          1.0202097238422583,
          1.0120272357945244,
          1.0034628077657997,
          0.994519671978857,
          0.9852012035811155,
          0.975510919370855,
          0.9654524764699755,
          0.9550296709437949,
          0.9442464363684101,
          0.9331068423461634,
          0.9216150929697687,
          0.9097755252356861,
          0.8975926074073329,
          0.8850709373287583,
          0.8722152406894129,
          0.8590303692406689,
          0.8455212989647648,
          0.8316931281968662,
          0.8175510757009488,
          0.8031004787002309,
          0.788346790862904,
          0.7732955802439098,
          0.7579525271835538,
          0.7423234221637398,
          0.7264141636226342,
          0.7102307557285944,
          0.6937793061141856,
          0.6770660235711589,
          0.6600972157072457,
          0.6428792865656614,
          0.625418734208213,
          0.6077221482629265,
          0.5897962074371129,
          0.5716476769968213,
          0.5532834062136188,
          0.5347103257796699,
          0.5159354451920887,
          0.4969658501075454,
          0.47780869966813644,
          0.4584712237995158,
          0.43896072048231577,
          0.41928455299788103,
          0.39945014714936067,
          0.3794649884592043,
          0.35933661934411804,
          0.33907263626855033,
          0.31868068687777795,
          0.29816846711168093,
          0.27754371830028424,
          0.2568142242421764,
          0.2359878082668948,
          0.21507233028239536,
          0.19407568380871468,
          0.1730057929989495,
          0.15187060964867535,
          0.13067811019493014,
          0.10943629270590097,
          0.08815317386244383,
          0.0668367859325847,
          0.04549517374013047,
          0.024136391628548682,
          0.00276850042124917,
          -0.018600435620576897,
          -0.039962351841417845,
          -0.06130918623504869,
          -0.08263288248713851,
          -0.10392539301571214,
          -0.12517868200831375,
          -0.1463847284547316,
          -0.16753552917413111,
          -0.1886231018354662,
          -0.2096394879700149,
          -0.23057675597491428,
          -0.2514270041065537,
          -0.2721823634627012,
          -0.29283500095223325,
          -0.3133771222513493,
          -0.3338009747451583,
          -0.35409885045352113,
          -0.3742630889400512,
          -0.39428608020316686,
          -0.41416026754811613,
          -0.4338781504388771
         ]
        },
        {
         "hoverinfo": "text",
         "line": {
          "color": "rgba(255,255,191,0.75)",
          "shape": "spline",
          "width": 0.25
         },
         "mode": "lines",
         "text": "Pine St & 9th Ave<br>1614 partidas",
         "type": "scatter",
         "x": [
          -1.0108161056525866,
          -1.0090856311840606,
          -1.0073392523726703,
          -1.0055769967433419,
          -1.0037988920712384,
          -1.0020049663813213,
          -1.00019524794791,
          -0.9983697652942354,
          -0.9965285471919907,
          -0.9946716226608773,
          -0.9927990209681482,
          -0.9909107716281464,
          -0.9890069044018398,
          -0.9870874492963516,
          -0.9851524365644881,
          -0.9832018967042618,
          -0.98123586045841,
          -0.9792543588139111,
          -0.9772574230014955,
          -0.9752450844951543,
          -0.9732173750116422,
          -0.9711743265099781,
          -0.9691159711909416,
          -0.9670423414965649,
          -0.9649534701096221,
          -0.9628493899531139,
          -0.960730134189748,
          -0.9585957362214179,
          -0.9564462296886745,
          -0.9542816484701978,
          -0.9521020266822617,
          -0.9499073986781967,
          -0.9476977990478486,
          -0.9454732626170329,
          -0.9432338244469862,
          -0.9409795198338137,
          -0.9387103843079325,
          -0.9364264536335121,
          -0.9341277638079102,
          -0.9318143510611057,
          -0.9294862518551276,
          -0.9271435028834801,
          -0.924786141070565,
          -0.9224142035710985,
          -0.9200277277695263,
          -0.917626751279435,
          -0.9152113119429582,
          -0.9127814478301804,
          -0.9103371972385373,
          -0.9078785986922117,
          -0.9054056909415269,
          -0.902918512962335,
          -0.9004171039554042,
          -0.897901503345799,
          -0.8953717507822604,
          -0.8928278861365797,
          -0.8902699495029718,
          -0.8876979811974411,
          -0.8851120217571481,
          -0.8825121119397688,
          -0.8798982927228536,
          -0.8772706053031808,
          -0.8746290910961072,
          -0.8719737917349161,
          -0.8693047490701599,
          -0.8666220051690018,
          -0.8639256023145518,
          -0.8612155830052008,
          -0.8584919899539504,
          -0.8557548660877398,
          -0.8530042545467696,
          -0.8502401986838216,
          -0.8474627420635752,
          -0.8446719284619212,
          -0.8418678018652718,
          -0.8390504064698668,
          -0.8362197866810779,
          -0.8333759871127081,
          -0.8305190525862888,
          -0.8276490281303737,
          -0.8247659589798282,
          -0.8218698905751175,
          -0.8189608685615896,
          -0.8160389387887559,
          -0.8131041473095697,
          -0.8101565403796988,
          -0.8071961644567971,
          -0.804223066199773,
          -0.801237292468053,
          -0.7982388903208435,
          -0.7952279070163892,
          -0.7922043900112287,
          -0.7891683869594455,
          -0.7861199457119177,
          -0.7830591143155633,
          -0.7799859410125838,
          -0.7769004742397025,
          -0.7738027626274024,
          -0.7706928549991591,
          -0.767570800370671
         ],
         "y": [
          -0.43387878555345294,
          -0.43788832930082344,
          -0.4418909714276474,
          -0.4458866488477101,
          -0.44987529858456865,
          -0.45385685777254436,
          -0.45783126365771387,
          -0.46179845359889793,
          -0.4657583650686488,
          -0.4697109356542358,
          -0.47365610305862904,
          -0.47759380510148114,
          -0.48152397972010735,
          -0.4854465649704638,
          -0.4893614990281236,
          -0.49326872018925166,
          -0.49716816687157667,
          -0.5010597776153621,
          -0.5049434910843749,
          -0.5088192460668518,
          -0.5126869814764646,
          -0.5165466363532828,
          -0.5203981498647342,
          -0.5242414613065638,
          -0.5280765101037905,
          -0.5319032358116622,
          -0.535721578116608,
          -0.5395314768371888,
          -0.5433328719250469,
          -0.5471257034658508,
          -0.5509099116802402,
          -0.5546854369247688,
          -0.5584522196928434,
          -0.5622102006156624,
          -0.5659593204631514,
          -0.5696995201448968,
          -0.5734307407110766,
          -0.57715292335339,
          -0.5808660094059847,
          -0.5845699403463803,
          -0.5882646577963924,
          -0.5919501035230506,
          -0.5956262194395183,
          -0.5992929476060072,
          -0.6029502302306903,
          -0.6065980096706137,
          -0.610236228432604,
          -0.6138648291741755,
          -0.6174837547044332,
          -0.6210929479849744,
          -0.6246923521307881,
          -0.6282819104111511,
          -0.6318615662505223,
          -0.6354312632294341,
          -0.6389909450853823,
          -0.6425405557137126,
          -0.6460800391685044,
          -0.649609339663453,
          -0.653128401572749,
          -0.6566371694319544,
          -0.6601355879388776,
          -0.6636236019544446,
          -0.6671011565035677,
          -0.6705681967760129,
          -0.6740246681272626,
          -0.677470516079378,
          -0.6809056863218568,
          -0.6843301247124901,
          -0.6877437772782148,
          -0.6911465902159648,
          -0.6945385098935191,
          -0.697919482850347,
          -0.7012894557984503,
          -0.7046483756232035,
          -0.7079961893841912,
          -0.7113328443160427,
          -0.7146582878292623,
          -0.7179724675110597,
          -0.7212753311261749,
          -0.7245668266177028,
          -0.727846902107912,
          -0.7311155058990642,
          -0.7343725864742278,
          -0.7376180924980903,
          -0.7408519728177673,
          -0.7440741764636088,
          -0.7472846526500029,
          -0.7504833507761752,
          -0.7536702204269875,
          -0.7568452113737317,
          -0.7600082735749217,
          -0.763159357177082,
          -0.7662984125155337,
          -0.7694253901151766,
          -0.7725402406912701,
          -0.7756429151502091,
          -0.7787333645902977,
          -0.7818115403025208,
          -0.7848773937713109,
          -0.7879308766753133
         ]
        },
        {
         "hoverinfo": "text",
         "line": {
          "color": "rgba(230,245,152,0.75)",
          "shape": "spline",
          "width": 0.25
         },
         "mode": "lines",
         "text": "2nd Ave & Pine St<br>3239 partidas",
         "type": "scatter",
         "x": [
          -0.767570305298949,
          -0.7612684594282708,
          -0.7549182921753098,
          -0.7485202066158214,
          -0.7420746088671673,
          -0.7355819080625363,
          -0.7290425163249772,
          -0.7224568487412358,
          -0.7158253233354105,
          -0.7091483610424147,
          -0.7024263856812639,
          -0.695659823928167,
          -0.688849105289448,
          -0.6819946620742806,
          -0.675096929367249,
          -0.6681563450007298,
          -0.6611733495271017,
          -0.6541483861907808,
          -0.6470819009000857,
          -0.639974342198934,
          -0.632826161238371,
          -0.6256378117479323,
          -0.6184097500068447,
          -0.6111424348150625,
          -0.6038363274641461,
          -0.5964918917079806,
          -0.5891095937333424,
          -0.581689902130303,
          -0.5742332878624893,
          -0.5667402242371871,
          -0.5592111868752992,
          -0.551646653681155,
          -0.5440471048121758,
          -0.5364130226483963,
          -0.5287448917618465,
          -0.5210431988857928,
          -0.5133084328838432,
          -0.5055410847189166,
          -0.49774164742207877,
          -0.48991061606124775,
          -0.48204848770976927,
          -0.4741557614148648,
          -0.46623293816595435,
          -0.4582805208628593,
          -0.45029901428387603,
          -0.4422889250537381,
          -0.4342507616114582,
          -0.42618503417805464,
          -0.418092254724165,
          -0.4099729369375496,
          -0.40182759619048436,
          -0.3936567495070482,
          -0.38546091553030504,
          -0.3772406144893826,
          -0.3689963681664515,
          -0.3607286998636047,
          -0.3524381343696414,
          -0.34412519792675583,
          -0.33579041819713457,
          -0.3274343242294618,
          -0.3190574464253422,
          -0.3106603165056279,
          -0.3022434674766716,
          -0.29380743359649286,
          -0.2853527503408665,
          -0.27687995436933294,
          -0.26838958349113423,
          -0.25988217663107666,
          -0.2513582737953222,
          -0.2428184160371122,
          -0.2342631454224239,
          -0.22569300499556283,
          -0.21710853874469332,
          -0.20851029156730883,
          -0.19989880923564374,
          -0.19127463836203543,
          -0.18263832636421753,
          -0.1739904214305861,
          -0.16533147248539293,
          -0.15666202915390753,
          -0.14798264172752865,
          -0.13929386112885478,
          -0.1305962388767144,
          -0.12189032705115832,
          -0.11317667825841667,
          -0.10445584559582215,
          -0.09572838261670234,
          -0.08699484329524304,
          -0.07825578199132481,
          -0.06951175341533507,
          -0.060763312592957947,
          -0.052011014829943185,
          -0.043255415676862086,
          -0.03449707089383817,
          -0.025736536415274323,
          -0.016974368314563965,
          -0.008211122768794411,
          0.0005526439765564092,
          0.009316375642927498,
          0.018079515953984496
         ],
         "y": [
          -0.7879313589541151,
          -0.7940216197810406,
          -0.8000614802245598,
          -0.8060505569055877,
          -0.8119884696685298,
          -0.8178748416054125,
          -0.8237092990798062,
          -0.8294914717505438,
          -0.8352209925952263,
          -0.8408974979335216,
          -0.846520627450245,
          -0.8520900242182347,
          -0.8576053347210051,
          -0.8630662088751871,
          -0.8684723000527489,
          -0.8738232651029989,
          -0.8791187643743666,
          -0.8843584617359622,
          -0.8895420245989123,
          -0.8946691239374711,
          -0.8997394343099048,
          -0.9047526338791498,
          -0.9097084044332403,
          -0.9146064314055076,
          -0.9194464038945461,
          -0.9242280146839497,
          -0.9289509602618088,
          -0.9336149408399795,
          -0.938219660373111,
          -0.9427648265774361,
          -0.9472501509493252,
          -0.9516753487835985,
          -0.9560401391915978,
          -0.9603442451190153,
          -0.9645873933634803,
          -0.9687693145919003,
          -0.9728897433575571,
          -0.9769484181169553,
          -0.9809450812464249,
          -0.9848794790584727,
          -0.9887513618178864,
          -0.9925604837575845,
          -0.996306603094219,
          -0.9999894820435196,
          -1.0036088868353896,
          -1.0071645877287432,
          -1.010656359026088,
          -1.0140839790878518,
          -1.017447230346451,
          -1.0207458993201002,
          -1.0239797766263634,
          -1.0271486569954444,
          -1.0302523392832161,
          -1.0332906264839883,
          -1.0362633257430125,
          -1.039170248368723,
          -1.0420112098447152,
          -1.0447860298414557,
          -1.0474945322277314,
          -1.050136545081827,
          -1.0527119007024381,
          -1.055220435619318,
          -1.0576619906036513,
          -1.0600364106781628,
          -1.0623435451269534,
          -1.0645832475050678,
          -1.0667553756477892,
          -1.0688597916796636,
          -1.070896362023252,
          -1.0728649574076077,
          -1.0747654528764834,
          -1.0765977277962615,
          -1.078361665863612,
          -1.0800571551128746,
          -1.0816840879231662,
          -1.0832423610252107,
          -1.084731875507896,
          -1.0861525368245508,
          -1.0875042547989464,
          -1.0887869436310211,
          -1.0900005219023257,
          -1.0911449125811912,
          -1.09222004302762,
          -1.093225844997895,
          -1.0941622546489123,
          -1.0950292125422325,
          -1.0958266636478555,
          -1.0965545573477118,
          -1.097212847438876,
          -1.0978014921365,
          -1.0983204540764644,
          -1.0987697003177506,
          -1.0991492023445324,
          -1.0994589360679852,
          -1.0996988818278144,
          -1.0998690243935056,
          -1.0999693529652887,
          -1.0999998611748256,
          -1.0999605470856124,
          -1.0998514131931048
         ]
        },
        {
         "hoverinfo": "text",
         "line": {
          "color": "rgba(171,221,164,0.75)",
          "shape": "spline",
          "width": 0.25
         },
         "mode": "lines",
         "text": "3rd Ave & Broad St<br>3227 partidas",
         "type": "scatter",
         "x": [
          0.018080207011004674,
          0.02680974054719495,
          0.03553758492578102,
          0.044263190245702286,
          0.0529860067469738,
          0.06170548484532114,
          0.07042107516680429,
          0.07913222858243796,
          0.08783839624278184,
          0.0965390296125279,
          0.1052335805050581,
          0.11392150111698025,
          0.12260224406264836,
          0.1312752624086479,
          0.13994000970825274,
          0.1485959400358609,
          0.15724250802138318,
          0.16587916888461104,
          0.17450537846953793,
          0.18312059327864086,
          0.19172427050712987,
          0.2003158680771444,
          0.20889484467190436,
          0.21746065976982276,
          0.22601277367855369,
          0.2345506475690026,
          0.24307374350927263,
          0.25158152449855414,
          0.26007345450096453,
          0.2685489984793186,
          0.2770076224288357,
          0.2854487934107916,
          0.29387197958608896,
          0.30227665024877276,
          0.31066227585946465,
          0.31902832807872394,
          0.32737427980034156,
          0.3356996051845476,
          0.3440037796911396,
          0.3522862801125375,
          0.3605465846067412,
          0.36878417273021624,
          0.3769985254706812,
          0.385189125279806,
          0.3933554561058253,
          0.4014970034260503,
          0.40961325427928313,
          0.417703697298143,
          0.42576782274127745,
          0.4338051225254854,
          0.4418150902577264,
          0.44979722126702326,
          0.4577510126362644,
          0.4656759632338879,
          0.47357157374545245,
          0.4814373467051026,
          0.48927278652690853,
          0.4970773995360887,
          0.5048506940001196,
          0.5125921801597108,
          0.5203013702596683,
          0.5279777785796235,
          0.5356209214646331,
          0.5432303173556586,
          0.5508054868198995,
          0.5583459525810068,
          0.5658512395491512,
          0.5733208748509533,
          0.580754387859283,
          0.5881513102229086,
          0.5955111758960026,
          0.6028335211675111,
          0.6101178846903667,
          0.6173638075105532,
          0.624570833096029,
          0.6317385073654835,
          0.6388663787169528,
          0.6459539980562706,
          0.653000918825361,
          0.6600066970303801,
          0.6669708912696826,
          0.6738930627616391,
          0.680772775372279,
          0.6876095956427667,
          0.6944030928167167,
          0.7011528388673312,
          0.7078584085243658,
          0.7145193793009282,
          0.7211353315200953,
          0.7277058483413527,
          0.7342305157868623,
          0.7407089227675407,
          0.747140661108964,
          0.7535253255770832,
          0.759862513903754,
          0.7661518268120865,
          0.7723928680415968,
          0.7785852443731777,
          0.7847285656538718,
          0.790822444821452
         ],
         "y": [
          -1.0998514018331929,
          -1.09967324138209,
          -1.0994257956122564,
          -1.0991090801141046,
          -1.098723114842411,
          -1.0982679241150604,
          -1.0977435366115127,
          -1.097149985370996,
          -1.096487307790426,
          -1.0957555456220478,
          -1.0949547449708072,
          -1.0940849562914454,
          -1.093146234385319,
          -1.0921386383969487,
          -1.0910622318102916,
          -1.0899170824447422,
          -1.0887032624508597,
          -1.0874208483058208,
          -1.0860699208086022,
          -1.0846505650748903,
          -1.083162870531717,
          -1.0816069309118264,
          -1.0799828442477692,
          -1.078290712865725,
          -1.0765306433790574,
          -1.0747027466815937,
          -1.0728071379406405,
          -1.0708439365897273,
          -1.0688132663210794,
          -1.0667152550778278,
          -1.0645500350459456,
          -1.0623177426459203,
          -1.0600185185241593,
          -1.0576525075441279,
          -1.0552198587772208,
          -1.0527207254933733,
          -1.0501552651514003,
          -1.0475236393890779,
          -1.04482601401296,
          -1.042062558987929,
          -1.03923344842649,
          -1.0363388605777988,
          -1.0333789778164313,
          -1.0303539866308948,
          -1.027264077611876,
          -1.0241094454402333,
          -1.0208902888747329,
          -1.0176068107395222,
          -1.0142592179113543,
          -1.010847721306552,
          -1.0073725358677184,
          -1.0038338805501958,
          -1.0002319783082696,
          -0.9965670560811204,
          -0.9928393447785274,
          -0.9890490792663179,
          -0.9851964983515696,
          -0.9812818447675673,
          -0.9773053651585044,
          -0.973267310063949,
          -0.9691679339030527,
          -0.9650074949585242,
          -0.9607862553603572,
          -0.9565044810693103,
          -0.9521624418601554,
          -0.9477604113046758,
          -0.9432986667544322,
          -0.9387774893232889,
          -0.9341971638696992,
          -0.9295579789787597,
          -0.9248602269440287,
          -0.9201042037491081,
          -0.9152902090489948,
          -0.9104185461512044,
          -0.905489521996656,
          -0.9005034471403378,
          -0.8954606357317373,
          -0.8903614054950494,
          -0.8852060777091594,
          -0.8799949771873976,
          -0.8747284322570781,
          -0.8694067747388088,
          -0.8640303399255866,
          -0.858599466561674,
          -0.8531144968212523,
          -0.8475757762868654,
          -0.8419836539276474,
          -0.8363384820773325,
          -0.8306406164120572,
          -0.8248904159279536,
          -0.8190882429185261,
          -0.8132344629518289,
          -0.8073294448474305,
          -0.8013735606531768,
          -0.7953671856217527,
          -0.7893106981870338,
          -0.7832044799402496,
          -0.777048915605935,
          -0.7708443930176939,
          -0.764591303093765
         ]
        },
        {
         "hoverinfo": "text",
         "line": {
          "color": "rgba(102,194,165,0.75)",
          "shape": "spline",
          "width": 0.25
         },
         "mode": "lines",
         "text": "King Street Station Plaza<br>2215 partidas",
         "type": "scatter",
         "x": [
          0.7908229252281799,
          0.7949769208737334,
          0.799107318122373,
          0.8032139943658179,
          0.80729682769993,
          0.811355696928334,
          0.8153904815660138,
          0.8194010618428894,
          0.8233873187073724,
          0.827349133829899,
          0.8312863896064454,
          0.835198969162015,
          0.8390867563541097,
          0.8429496357761778,
          0.8467874927610389,
          0.8506002133842886,
          0.8543876844676794,
          0.8581497935824809,
          0.861886429052817,
          0.8655974799589807,
          0.8692828361407277,
          0.8729423882005447,
          0.8765760275068981,
          0.8801836461974588,
          0.8837651371823028,
          0.8873203941470906,
          0.8908493115562252,
          0.8943517846559809,
          0.8978277094776159,
          0.9012769828404572,
          0.9046995023549641,
          0.9080951664257673,
          0.9114638742546842,
          0.9148055258437123,
          0.9181200219979962,
          0.9214072643287731,
          0.9246671552562926,
          0.9278995980127145,
          0.9311044966449795,
          0.9342817560176597,
          0.9374312818157807,
          0.9405529805476222,
          0.9436467595474927,
          0.9467125269784821,
          0.9497501918351848,
          0.9527596639464034,
          0.9557408539778245,
          0.9586936734346706,
          0.9616180346643274,
          0.964513850858945,
          0.9673810360580157,
          0.9702195051509247,
          0.9730291738794772,
          0.9758099588403993,
          0.978561777487814,
          0.9812845481356912,
          0.9839781899602724,
          0.9866426230024707,
          0.9892777681702429,
          0.99188354724094,
          0.9944598828636252,
          0.9970066985613737,
          0.9995239187335405,
          1.002011468658006,
          1.0044692744933932,
          1.0068972632812598,
          1.0092953629482648,
          1.011663502308306,
          1.0140016110646357,
          1.016309619811945,
          1.0185874600384257,
          1.020835064127803,
          1.0230523653613433,
          1.0252392979198346,
          1.02739579688554,
          1.0295217982441247,
          1.0316172388865574,
          1.0336820566109817,
          1.0357161901245642,
          1.0377195790453122,
          1.0396921639038688,
          1.041633886145275,
          1.0435446881307107,
          1.0454245131392037,
          1.0472733053693142,
          1.0490910099407915,
          1.0508775728962025,
          1.0526329412025337,
          1.0543570627527659,
          1.0560498863674193,
          1.0577113617960754,
          1.0593414397188656,
          1.0609400717479385,
          1.062507210428893,
          1.0640428092421896,
          1.0655468226045297,
          1.0670192058702093,
          1.0684599153324439,
          1.0698689082246668,
          1.0712461427217979
         ],
         "y": [
          -0.7645908062052176,
          -0.7602708039101055,
          -0.7559282334476393,
          -0.7515632237243305,
          -0.747175904312786,
          -0.7427664054478618,
          -0.7383348580227973,
          -0.7338813935853296,
          -0.7294061443337889,
          -0.7249092431131748,
          -0.72039082341121,
          -0.715851019354382,
          -0.7112899657039589,
          -0.7067077978519901,
          -0.7021046518172869,
          -0.6974806642413844,
          -0.6928359723844867,
          -0.6881707141213913,
          -0.6834850279373965,
          -0.6787790529241912,
          -0.6740529287757252,
          -0.6693067957840632,
          -0.66454079483522,
          -0.6597550674049778,
          -0.6549497555546882,
          -0.650125001927054,
          -0.6452809497418934,
          -0.6404177427918922,
          -0.6355355254383329,
          -0.6306344426068103,
          -0.6257146397829288,
          -0.6207762630079845,
          -0.6158194588746293,
          -0.6108443745225204,
          -0.6058511576339516,
          -0.6008399564294694,
          -0.5958109196634747,
          -0.5907641966198046,
          -0.5856999371073035,
          -0.5806182914553746,
          -0.5755194105095175,
          -0.5704034456268514,
          -0.5652705486716222,
          -0.5601208720106912,
          -0.5549545685090175,
          -0.5497717915251169,
          -0.5445726949065101,
          -0.5393574329851563,
          -0.5341261605728712,
          -0.5288790329567328,
          -0.5236162058944703,
          -0.5183378356098414,
          -0.5130440787879949,
          -0.5077350925708191,
          -0.5024110345522778,
          -0.4970720627737316,
          -0.49171833571924717,
          -0.48635001231089187,
          -0.4809672519040181,
          -0.4755702142825288,
          -0.47015905965413984,
          -0.4647339486456208,
          -0.45929504229802764,
          -0.4538425020619225,
          -0.44837648979258127,
          -0.4428971677451883,
          -0.4374046985700209,
          -0.43189924530762047,
          -0.42638097138395303,
          -0.4208500406055581,
          -0.4153066171546859,
          -0.409750865584424,
          -0.40418295081381256,
          -0.39860303812294867,
          -0.3930112931480804,
          -0.38740788187669073,
          -0.3817929706425665,
          -0.3761667261208668,
          -0.3705293153231713,
          -0.3648809055925235,
          -0.3592216645984637,
          -0.3535517603320514,
          -0.34787136110087863,
          -0.3421806355240741,
          -0.33647975252729756,
          -0.33076888133772553,
          -0.32504819147902786,
          -0.31931785276633556,
          -0.3135780353011997,
          -0.3078289094665424,
          -0.3020706459215989,
          -0.29630341559685264,
          -0.2905273896889575,
          -0.2847427396556618,
          -0.2789496372107144,
          -0.2731482543187691,
          -0.26733876319027944,
          -0.261521336276387,
          -0.25569614626380216,
          -0.24986336606967813
         ]
        },
        {
         "hoverinfo": "text",
         "line": {
          "color": "rgba(50,136,189,0.75)",
          "shape": "spline",
          "width": 0.25
         },
         "mode": "lines",
         "text": "Burke-Gilman Trail<br>941 partidas",
         "type": "scatter",
         "x": [
          1.0712462997153693,
          1.071821766848889,
          1.072391491735672,
          1.072955471323438,
          1.0735137025906865,
          1.0740661825467128,
          1.0746129082316263,
          1.0751538767163633,
          1.0756890851027043,
          1.07621853052329,
          1.0767422101416353,
          1.077260121152145,
          1.0777722607801299,
          1.07827862628182,
          1.0787792149443807,
          1.0792740240859258,
          1.079763051055533,
          1.080246293233258,
          1.080723748030148,
          1.0811954128882562,
          1.0816612852806549,
          1.082121362711449,
          1.0825756427157909,
          1.0830241228598916,
          1.0834668007410344,
          1.0839036739875887,
          1.0843347402590215,
          1.084759997245911,
          1.0851794426699577,
          1.085593074283998,
          1.0860008898720157,
          1.0864028872491527,
          1.086799064261723,
          1.087189418787222,
          1.0875739487343397,
          1.0879526520429703,
          1.0883255266842247,
          1.0886925706604405,
          1.089053782005192,
          1.089409158783303,
          1.089758699090855,
          1.0901024010551983,
          1.090440262834962,
          1.0907722826200639,
          1.0910984586317192,
          1.091418789122452,
          1.0917332723761035,
          1.0920419067078404,
          1.0923446904641658,
          1.092641622022926,
          1.0929326997933215,
          1.0932179222159129,
          1.0934972877626317,
          1.0937707949367867,
          1.0940384422730731,
          1.0943002283375802,
          1.0945561517277982,
          1.0948062110726267,
          1.095050405032382,
          1.0952887322988032,
          1.095521191595061,
          1.0957477816757628,
          1.0959685013269604,
          1.096183349366156,
          1.0963923246423093,
          1.0965954260358426,
          1.096792652458647,
          1.09698400285409,
          1.0971694761970179,
          1.097349071493764,
          1.097522787782153,
          1.097690624131506,
          1.0978525796426464,
          1.0980086534479023,
          1.0981588447111148,
          1.0983031526276392,
          1.098441576424351,
          1.0985741153596496,
          1.0987007687234627,
          1.0988215358372488,
          1.0989364160540034,
          1.0990454087582588,
          1.0991485133660914,
          1.0992457293251214,
          1.099337056114518,
          1.099422493245001,
          1.099502040258844,
          1.099575696729877,
          1.099643462263488,
          1.0997053364966256,
          1.0997613190978008,
          1.0998114097670886,
          1.0998556082361304,
          1.099893914268134,
          1.099926327657877,
          1.099952848231705,
          1.0999734758475352,
          1.0999882103948564,
          1.099997051794728,
          1.099999999999783
         ],
         "y": [
          -0.24986269298582658,
          -0.24738249758001518,
          -0.2449009768313312,
          -0.24241814403443313,
          -0.23993401249100882,
          -0.23744859550970504,
          -0.23496190640605233,
          -0.23247395850239946,
          -0.22998476512783828,
          -0.22749433961813312,
          -0.22500269531564945,
          -0.2225098455692825,
          -0.22001580373438545,
          -0.21752058317269907,
          -0.2150241972522763,
          -0.21252665934741627,
          -0.21002798283858884,
          -0.20752818111236399,
          -0.20502726756133988,
          -0.20252525558407136,
          -0.20002215858499803,
          -0.19751798997437334,
          -0.19501276316818902,
          -0.19250649158810898,
          -0.18999918866139348,
          -0.18749086782082816,
          -0.1849815425046521,
          -0.18247122615648578,
          -0.1799599322252592,
          -0.17744767416514065,
          -0.17493446543546076,
          -0.1724203195006463,
          -0.16990524983014402,
          -0.16738926989834974,
          -0.16487239318453578,
          -0.162354633172779,
          -0.15983600335188858,
          -0.15731651721533352,
          -0.15479618826117156,
          -0.15227502999197295,
          -0.14975305591475374,
          -0.14723027954089976,
          -0.14470671438609514,
          -0.14218237397024977,
          -0.13965727181742707,
          -0.13713142145577142,
          -0.13460483641743662,
          -0.13207753023850966,
          -0.1295495164589438,
          -0.12702080862248238,
          -0.12449142027658708,
          -0.12196136497236539,
          -0.119430656264498,
          -0.1168993077111662,
          -0.11436733287398021,
          -0.1118347453179026,
          -0.10930155861118147,
          -0.10676778632527394,
          -0.10423344203477425,
          -0.10169853931734121,
          -0.09916309175362538,
          -0.09662711292719625,
          -0.09409061642446961,
          -0.09155361583463562,
          -0.08901612474958213,
          -0.08647815676382775,
          -0.08393972547444509,
          -0.08140084448098889,
          -0.07886152738542314,
          -0.07632178779204829,
          -0.07378163930742822,
          -0.07124109554031849,
          -0.06870017010158941,
          -0.06615887660415899,
          -0.06361722866291616,
          -0.06107523989464875,
          -0.05853292391797056,
          -0.05599029435324842,
          -0.05344736482252915,
          -0.05090414894946765,
          -0.04836066035924992,
          -0.045816912678526,
          -0.04327291953533301,
          -0.04072869455902311,
          -0.0381842513801905,
          -0.03563960363059841,
          -0.03309476494310604,
          -0.030549748951596505,
          -0.028004569290899905,
          -0.025459239596726104,
          -0.0229137735055878,
          -0.020368184654728425,
          -0.017822486682049103,
          -0.01527669322603556,
          -0.012730817925685077,
          -0.010184874420433422,
          -0.007638876350082732,
          -0.0050928373547245494,
          -0.0025467710746726016,
          -6.91150385814946e-7
         ]
        },
        {
         "hoverinfo": "text",
         "marker": {
          "color": "rgba(213,62,79,0.75)",
          "size": 0.5
         },
         "mode": "markers",
         "text": "Lake Union Park ⮌ : 960 viagens ",
         "type": "scatter",
         "x": [
          0.8725946755989946
         ],
         "y": [
          0.22040538132333665
         ]
        },
        {
         "hoverinfo": "text",
         "marker": {
          "color": "rgba(213,62,79,0.75)",
          "size": 0.5
         },
         "mode": "markers",
         "text": "Lake Union Park ➔ E Pine St & 16th Ave: 19 viagens ",
         "type": "scatter",
         "x": [
          0.8999812606617082
         ],
         "y": [
          0.005807792847753183
         ]
        },
        {
         "hoverinfo": "text",
         "marker": {
          "color": "rgba(244,109,67,0.75)",
          "size": 0.5
         },
         "mode": "markers",
         "text": "E Pine St & 16th Ave ➔ Lake Union Park: 5 viagens ",
         "type": "scatter",
         "x": [
          0.8401136922088065
         ],
         "y": [
          0.3228141635109691
         ]
        },
        {
         "hoverinfo": "text",
         "marker": {
          "color": "rgba(213,62,79,0.75)",
          "size": 0.5
         },
         "mode": "markers",
         "text": "Lake Union Park ➔ Seattle Aquarium: 17 viagens ",
         "type": "scatter",
         "x": [
          0.8999980720236289
         ],
         "y": [
          0.001862888550337947
         ]
        },
        {
         "hoverinfo": "text",
         "marker": {
          "color": "rgba(253,174,97,0.75)",
          "size": 0.5
         },
         "mode": "markers",
         "text": "Seattle Aquarium ➔ Lake Union Park: 70 viagens ",
         "type": "scatter",
         "x": [
          0.7890094280583178
         ],
         "y": [
          0.43297127206673475
         ]
        },
        {
         "hoverinfo": "text",
         "marker": {
          "color": "rgba(213,62,79,0.75)",
          "size": 0.5
         },
         "mode": "markers",
         "text": "Lake Union Park ➔ Pier 69: 75 viagens ",
         "type": "scatter",
         "x": [
          0.8987263079734807
         ],
         "y": [
          0.047864635759151064
         ]
        },
        {
         "hoverinfo": "text",
         "marker": {
          "color": "rgba(254,224,139,0.75)",
          "size": 0.5
         },
         "mode": "markers",
         "text": "Pier 69 ➔ Lake Union Park: 97 viagens ",
         "type": "scatter",
         "x": [
          -0.07770630139109433
         ],
         "y": [
          0.8966391307120811
         ]
        },
        {
         "hoverinfo": "text",
         "marker": {
          "color": "rgba(213,62,79,0.75)",
          "size": 0.5
         },
         "mode": "markers",
         "text": "Lake Union Park ➔ Pine St & 9th Ave: 73 viagens ",
         "type": "scatter",
         "x": [
          0.899442872119197
         ],
         "y": [
          0.03166259297609468
         ]
        },
        {
         "hoverinfo": "text",
         "marker": {
          "color": "rgba(255,255,191,0.75)",
          "size": 0.5
         },
         "mode": "markers",
         "text": "Pine St & 9th Ave ➔ Lake Union Park: 53 viagens ",
         "type": "scatter",
         "x": [
          -0.8127171431139611
         ],
         "y": [
          -0.38664045997370905
         ]
        },
        {
         "hoverinfo": "text",
         "marker": {
          "color": "rgba(213,62,79,0.75)",
          "size": 0.5
         },
         "mode": "markers",
         "text": "Lake Union Park ➔ 2nd Ave & Pine St: 105 viagens ",
         "type": "scatter",
         "x": [
          0.8974615413908299
         ],
         "y": [
          0.06754836581587811
         ]
        },
        {
         "hoverinfo": "text",
         "marker": {
          "color": "rgba(230,245,152,0.75)",
          "size": 0.5
         },
         "mode": "markers",
         "text": "2nd Ave & Pine St ➔ Lake Union Park: 135 viagens ",
         "type": "scatter",
         "x": [
          -0.6158942701230447
         ],
         "y": [
          -0.6562577603576221
         ]
        },
        {
         "hoverinfo": "text",
         "marker": {
          "color": "rgba(213,62,79,0.75)",
          "size": 0.5
         },
         "mode": "markers",
         "text": "Lake Union Park ➔ 3rd Ave & Broad St: 175 viagens ",
         "type": "scatter",
         "x": [
          0.894637625205355
         ],
         "y": [
          0.0980995390759959
         ]
        },
        {
         "hoverinfo": "text",
         "marker": {
          "color": "rgba(171,221,164,0.75)",
          "size": 0.5
         },
         "mode": "markers",
         "text": "3rd Ave & Broad St ➔ Lake Union Park: 264 viagens ",
         "type": "scatter",
         "x": [
          0.16313722925688928
         ],
         "y": [
          -0.885091093860053
         ]
        },
        {
         "hoverinfo": "text",
         "marker": {
          "color": "rgba(213,62,79,0.75)",
          "size": 0.5
         },
         "mode": "markers",
         "text": "Lake Union Park ➔ King Street Station Plaza: 26 viagens ",
         "type": "scatter",
         "x": [
          0.8999359305467565
         ],
         "y": [
          0.010738757420840362
         ]
        },
        {
         "hoverinfo": "text",
         "marker": {
          "color": "rgba(102,194,165,0.75)",
          "size": 0.5
         },
         "mode": "markers",
         "text": "King Street Station Plaza ➔ Lake Union Park: 31 viagens ",
         "type": "scatter",
         "x": [
          0.6495452666204724
         ],
         "y": [
          -0.6229694588107345
         ]
        },
        {
         "hoverinfo": "text",
         "marker": {
          "color": "rgba(213,62,79,0.75)",
          "size": 0.5
         },
         "mode": "markers",
         "text": "Lake Union Park ➔ Burke-Gilman Trail: 46 viagens ",
         "type": "scatter",
         "x": [
          0.8998072091774617
         ],
         "y": [
          0.018627568608589207
         ]
        },
        {
         "hoverinfo": "text",
         "marker": {
          "color": "rgba(50,136,189,0.75)",
          "size": 0.5
         },
         "mode": "markers",
         "text": "Burke-Gilman Trail ➔ Lake Union Park: 25 viagens ",
         "type": "scatter",
         "x": [
          0.8788275117579916
         ],
         "y": [
          -0.1940675258183533
         ]
        },
        {
         "hoverinfo": "text",
         "marker": {
          "color": "rgba(244,109,67,0.75)",
          "size": 0.5
         },
         "mode": "markers",
         "text": "E Pine St & 16th Ave ⮌ : 233 viagens ",
         "type": "scatter",
         "x": [
          0.813187459388484
         ],
         "y": [
          0.385650302597188
         ]
        },
        {
         "hoverinfo": "text",
         "marker": {
          "color": "rgba(244,109,67,0.75)",
          "size": 0.5
         },
         "mode": "markers",
         "text": "E Pine St & 16th Ave ➔ Seattle Aquarium: 2 viagens ",
         "type": "scatter",
         "x": [
          0.8408582363240528
         ],
         "y": [
          0.3208697966559074
         ]
        },
        {
         "hoverinfo": "text",
         "marker": {
          "color": "rgba(253,174,97,0.75)",
          "size": 0.5
         },
         "mode": "markers",
         "text": "Seattle Aquarium ➔ E Pine St & 16th Ave: 23 viagens ",
         "type": "scatter",
         "x": [
          0.8007735049050001
         ],
         "y": [
          0.4108062728856047
         ]
        },
        {
         "hoverinfo": "text",
         "marker": {
          "color": "rgba(244,109,67,0.75)",
          "size": 0.5
         },
         "mode": "markers",
         "text": "E Pine St & 16th Ave ➔ Pier 69: 3 viagens ",
         "type": "scatter",
         "x": [
          0.8406627397931998
         ],
         "y": [
          0.3213816390576643
         ]
        },
        {
         "hoverinfo": "text",
         "marker": {
          "color": "rgba(254,224,139,0.75)",
          "size": 0.5
         },
         "mode": "markers",
         "text": "Pier 69 ➔ E Pine St & 16th Ave: 23 viagens ",
         "type": "scatter",
         "x": [
          -0.05038134424409305
         ],
         "y": [
          0.8985887380510387
         ]
        },
        {
         "hoverinfo": "text",
         "marker": {
          "color": "rgba(244,109,67,0.75)",
          "size": 0.5
         },
         "mode": "markers",
         "text": "E Pine St & 16th Ave ➔ Pine St & 9th Ave: 98 viagens ",
         "type": "scatter",
         "x": [
          0.8280652574486439
         ],
         "y": [
          0.35257329650231767
         ]
        },
        {
         "hoverinfo": "text",
         "marker": {
          "color": "rgba(255,255,191,0.75)",
          "size": 0.5
         },
         "mode": "markers",
         "text": "Pine St & 9th Ave ➔ E Pine St & 16th Ave: 934 viagens ",
         "type": "scatter",
         "x": [
          -0.6971109548184351
         ],
         "y": [
          -0.5692418788811395
         ]
        },
        {
         "hoverinfo": "text",
         "marker": {
          "color": "rgba(244,109,67,0.75)",
          "size": 0.5
         },
         "mode": "markers",
         "text": "E Pine St & 16th Ave ➔ 2nd Ave & Pine St: 53 viagens ",
         "type": "scatter",
         "x": [
          0.8344071135503175
         ],
         "y": [
          0.33729033317992907
         ]
        },
        {
         "hoverinfo": "text",
         "marker": {
          "color": "rgba(230,245,152,0.75)",
          "size": 0.5
         },
         "mode": "markers",
         "text": "2nd Ave & Pine St ➔ E Pine St & 16th Ave: 577 viagens ",
         "type": "scatter",
         "x": [
          -0.28475629135785985
         ],
         "y": [
          -0.8537645193682609
         ]
        },
        {
         "hoverinfo": "text",
         "marker": {
          "color": "rgba(244,109,67,0.75)",
          "size": 0.5
         },
         "mode": "markers",
         "text": "E Pine St & 16th Ave ➔ 3rd Ave & Broad St: 16 viagens ",
         "type": "scatter",
         "x": [
          0.8392855443085956
         ],
         "y": [
          0.32496119016680214
         ]
        },
        {
         "hoverinfo": "text",
         "marker": {
          "color": "rgba(171,221,164,0.75)",
          "size": 0.5
         },
         "mode": "markers",
         "text": "3rd Ave & Broad St ➔ E Pine St & 16th Ave: 198 viagens ",
         "type": "scatter",
         "x": [
          0.11311728099322291
         ],
         "y": [
          -0.8928630806236196
         ]
        },
        {
         "hoverinfo": "text",
         "marker": {
          "color": "rgba(244,109,67,0.75)",
          "size": 0.5
         },
         "mode": "markers",
         "text": "E Pine St & 16th Ave ➔ King Street Station Plaza: 26 viagens ",
         "type": "scatter",
         "x": [
          0.8376127929190478
         ],
         "y": [
          0.32924885594084047
         ]
        },
        {
         "hoverinfo": "text",
         "marker": {
          "color": "rgba(102,194,165,0.75)",
          "size": 0.5
         },
         "mode": "markers",
         "text": "King Street Station Plaza ➔ E Pine St & 16th Ave: 71 viagens ",
         "type": "scatter",
         "x": [
          0.6668812863355773
         ],
         "y": [
          -0.6043751731626688
         ]
        },
        {
         "hoverinfo": "text",
         "marker": {
          "color": "rgba(244,109,67,0.75)",
          "size": 0.5
         },
         "mode": "markers",
         "text": "E Pine St & 16th Ave ➔ Burke-Gilman Trail: 3 viagens ",
         "type": "scatter",
         "x": [
          0.8404277326957871
         ],
         "y": [
          0.3219956926976178
         ]
        },
        {
         "hoverinfo": "text",
         "marker": {
          "color": "rgba(50,136,189,0.75)",
          "size": 0.5
         },
         "mode": "markers",
         "text": "Burke-Gilman Trail ➔ E Pine St & 16th Ave: 15 viagens ",
         "type": "scatter",
         "x": [
          0.8778719265429725
         ],
         "y": [
          -0.19834535685951876
         ]
        },
        {
         "hoverinfo": "text",
         "marker": {
          "color": "rgba(253,174,97,0.75)",
          "size": 0.5
         },
         "mode": "markers",
         "text": "Seattle Aquarium ⮌ : 1150 viagens ",
         "type": "scatter",
         "x": [
          0.5410432695066993
         ],
         "y": [
          0.7192163655823615
         ]
        },
        {
         "hoverinfo": "text",
         "marker": {
          "color": "rgba(253,174,97,0.75)",
          "size": 0.5
         },
         "mode": "markers",
         "text": "Seattle Aquarium ➔ Pier 69: 2291 viagens ",
         "type": "scatter",
         "x": [
          0.2016578553100923
         ],
         "y": [
          0.8771169302845168
         ]
        },
        {
         "hoverinfo": "text",
         "marker": {
          "color": "rgba(254,224,139,0.75)",
          "size": 0.5
         },
         "mode": "markers",
         "text": "Pier 69 ➔ Seattle Aquarium: 1605 viagens ",
         "type": "scatter",
         "x": [
          -0.6173309097667468
         ],
         "y": [
          0.654906518402864
         ]
        },
        {
         "hoverinfo": "text",
         "marker": {
          "color": "rgba(253,174,97,0.75)",
          "size": 0.5
         },
         "mode": "markers",
         "text": "Seattle Aquarium ➔ Pine St & 9th Ave: 68 viagens ",
         "type": "scatter",
         "x": [
          0.796172733512818
         ],
         "y": [
          0.4196534027155353
         ]
        },
        {
         "hoverinfo": "text",
         "marker": {
          "color": "rgba(255,255,191,0.75)",
          "size": 0.5
         },
         "mode": "markers",
         "text": "Pine St & 9th Ave ➔ Seattle Aquarium: 36 viagens ",
         "type": "scatter",
         "x": [
          -0.8252926409229097
         ],
         "y": [
          -0.3590153991662327
         ]
        },
        {
         "hoverinfo": "text",
         "marker": {
          "color": "rgba(253,174,97,0.75)",
          "size": 0.5
         },
         "mode": "markers",
         "text": "Seattle Aquarium ➔ 2nd Ave & Pine St: 158 viagens ",
         "type": "scatter",
         "x": [
          0.7766873578297974
         ],
         "y": [
          0.45470512223568404
         ]
        },
        {
         "hoverinfo": "text",
         "marker": {
          "color": "rgba(230,245,152,0.75)",
          "size": 0.5
         },
         "mode": "markers",
         "text": "2nd Ave & Pine St ➔ Seattle Aquarium: 137 viagens ",
         "type": "scatter",
         "x": [
          -0.593826522820204
         ],
         "y": [
          -0.6762914022780904
         ]
        },
        {
         "hoverinfo": "text",
         "marker": {
          "color": "rgba(253,174,97,0.75)",
          "size": 0.5
         },
         "mode": "markers",
         "text": "Seattle Aquarium ➔ 3rd Ave & Broad St: 792 viagens ",
         "type": "scatter",
         "x": [
          0.6944695505899565
         ],
         "y": [
          0.5724613902294057
         ]
        },
        {
         "hoverinfo": "text",
         "marker": {
          "color": "rgba(171,221,164,0.75)",
          "size": 0.5
         },
         "mode": "markers",
         "text": "3rd Ave & Broad St ➔ Seattle Aquarium: 478 viagens ",
         "type": "scatter",
         "x": [
          0.3146155356570754
         ],
         "y": [
          -0.8432182782193538
         ]
        },
        {
         "hoverinfo": "text",
         "marker": {
          "color": "rgba(253,174,97,0.75)",
          "size": 0.5
         },
         "mode": "markers",
         "text": "Seattle Aquarium ➔ King Street Station Plaza: 181 viagens ",
         "type": "scatter",
         "x": [
          0.7572628235278328
         ],
         "y": [
          0.4863671618259754
         ]
        },
        {
         "hoverinfo": "text",
         "marker": {
          "color": "rgba(102,194,165,0.75)",
          "size": 0.5
         },
         "mode": "markers",
         "text": "King Street Station Plaza ➔ Seattle Aquarium: 215 viagens ",
         "type": "scatter",
         "x": [
          0.7129770972014468
         ],
         "y": [
          -0.5492391636311077
         ]
        },
        {
         "hoverinfo": "text",
         "marker": {
          "color": "rgba(253,174,97,0.75)",
          "size": 0.5
         },
         "mode": "markers",
         "text": "Seattle Aquarium ➔ Burke-Gilman Trail: 0 viagens ",
         "type": "scatter",
         "x": [
          0.8019207959833791
         ],
         "y": [
          0.40856215802419066
         ]
        },
        {
         "hoverinfo": "text",
         "marker": {
          "color": "rgba(50,136,189,0.75)",
          "size": 0.5
         },
         "mode": "markers",
         "text": "Burke-Gilman Trail ➔ Seattle Aquarium: 4 viagens ",
         "type": "scatter",
         "x": [
          0.8766233587701106
         ],
         "y": [
          -0.20379275467643612
         ]
        },
        {
         "hoverinfo": "text",
         "marker": {
          "color": "rgba(254,224,139,0.75)",
          "size": 0.5
         },
         "mode": "markers",
         "text": "Pier 69 ⮌ : 4209 viagens ",
         "type": "scatter",
         "x": [
          -0.8948504127855135
         ],
         "y": [
          0.09613916339138882
         ]
        },
        {
         "hoverinfo": "text",
         "marker": {
          "color": "rgba(254,224,139,0.75)",
          "size": 0.5
         },
         "mode": "markers",
         "text": "Pier 69 ➔ Pine St & 9th Ave: 65 viagens ",
         "type": "scatter",
         "x": [
          -0.060006354995004695
         ],
         "y": [
          0.8979973481921946
         ]
        },
        {
         "hoverinfo": "text",
         "marker": {
          "color": "rgba(255,255,191,0.75)",
          "size": 0.5
         },
         "mode": "markers",
         "text": "Pine St & 9th Ave ➔ Pier 69: 52 viagens ",
         "type": "scatter",
         "x": [
          -0.8175936127388097
         ],
         "y": [
          -0.3762189314863106
         ]
        },
        {
         "hoverinfo": "text",
         "marker": {
          "color": "rgba(254,224,139,0.75)",
          "size": 0.5
         },
         "mode": "markers",
         "text": "Pier 69 ➔ 2nd Ave & Pine St: 384 viagens ",
         "type": "scatter",
         "x": [
          -0.13005513148030243
         ],
         "y": [
          0.8905535709746165
         ]
        },
        {
         "hoverinfo": "text",
         "marker": {
          "color": "rgba(230,245,152,0.75)",
          "size": 0.5
         },
         "mode": "markers",
         "text": "2nd Ave & Pine St ➔ Pier 69: 310 viagens ",
         "type": "scatter",
         "x": [
          -0.5212286808663187
         ],
         "y": [
          -0.7337033884631837
         ]
        },
        {
         "hoverinfo": "text",
         "marker": {
          "color": "rgba(254,224,139,0.75)",
          "size": 0.5
         },
         "mode": "markers",
         "text": "Pier 69 ➔ 3rd Ave & Broad St: 777 viagens ",
         "type": "scatter",
         "x": [
          -0.4042600449909907
         ],
         "y": [
          0.8040981383039524
         ]
        },
        {
         "hoverinfo": "text",
         "marker": {
          "color": "rgba(171,221,164,0.75)",
          "size": 0.5
         },
         "mode": "markers",
         "text": "3rd Ave & Broad St ➔ Pier 69: 347 viagens ",
         "type": "scatter",
         "x": [
          0.22847066428672783
         ],
         "y": [
          -0.8705177514332384
         ]
        },
        {
         "hoverinfo": "text",
         "marker": {
          "color": "rgba(254,224,139,0.75)",
          "size": 0.5
         },
         "mode": "markers",
         "text": "Pier 69 ➔ King Street Station Plaza: 737 viagens ",
         "type": "scatter",
         "x": [
          -0.250020488209378
         ],
         "y": [
          0.8645748987077663
         ]
        },
        {
         "hoverinfo": "text",
         "marker": {
          "color": "rgba(102,194,165,0.75)",
          "size": 0.5
         },
         "mode": "markers",
         "text": "King Street Station Plaza ➔ Pier 69: 962 viagens ",
         "type": "scatter",
         "x": [
          0.8465777810684654
         ],
         "y": [
          -0.30546040758368936
         ]
        },
        {
         "hoverinfo": "text",
         "marker": {
          "color": "rgba(254,224,139,0.75)",
          "size": 0.5
         },
         "mode": "markers",
         "text": "Pier 69 ➔ Burke-Gilman Trail: 1 viagens ",
         "type": "scatter",
         "x": [
          -0.04775529098048729
         ],
         "y": [
          0.8987321248199427
         ]
        },
        {
         "hoverinfo": "text",
         "marker": {
          "color": "rgba(50,136,189,0.75)",
          "size": 0.5
         },
         "mode": "markers",
         "text": "Burke-Gilman Trail ➔ Pier 69: 4 viagens ",
         "type": "scatter",
         "x": [
          0.8768214490551416
         ],
         "y": [
          -0.20293877519301654
         ]
        },
        {
         "hoverinfo": "text",
         "marker": {
          "color": "rgba(255,255,191,0.75)",
          "size": 0.5
         },
         "mode": "markers",
         "text": "Pine St & 9th Ave ⮌ : 186 viagens ",
         "type": "scatter",
         "x": [
          -0.7680253824180608
         ],
         "y": [
          -0.4691876084910932
         ]
        },
        {
         "hoverinfo": "text",
         "marker": {
          "color": "rgba(255,255,191,0.75)",
          "size": 0.5
         },
         "mode": "markers",
         "text": "Pine St & 9th Ave ➔ 2nd Ave & Pine St: 158 viagens ",
         "type": "scatter",
         "x": [
          -0.7869977846256194
         ],
         "y": [
          -0.4366170942534971
         ]
        },
        {
         "hoverinfo": "text",
         "marker": {
          "color": "rgba(230,245,152,0.75)",
          "size": 0.5
         },
         "mode": "markers",
         "text": "2nd Ave & Pine St ➔ Pine St & 9th Ave: 344 viagens ",
         "type": "scatter",
         "x": [
          -0.46121433748930984
         ],
         "y": [
          -0.7728397860451396
         ]
        },
        {
         "hoverinfo": "text",
         "marker": {
          "color": "rgba(255,255,191,0.75)",
          "size": 0.5
         },
         "mode": "markers",
         "text": "Pine St & 9th Ave ➔ 3rd Ave & Broad St: 151 viagens ",
         "type": "scatter",
         "x": [
          -0.8028638568527019
         ],
         "y": [
          -0.4067058241033734
         ]
        },
        {
         "hoverinfo": "text",
         "marker": {
          "color": "rgba(171,221,164,0.75)",
          "size": 0.5
         },
         "mode": "markers",
         "text": "3rd Ave & Broad St ➔ Pine St & 9th Ave: 166 viagens ",
         "type": "scatter",
         "x": [
          0.03429083173544636
         ],
         "y": [
          -0.8993465065584518
         ]
        },
        {
         "hoverinfo": "text",
         "marker": {
          "color": "rgba(255,255,191,0.75)",
          "size": 0.5
         },
         "mode": "markers",
         "text": "Pine St & 9th Ave ➔ King Street Station Plaza: 42 viagens ",
         "type": "scatter",
         "x": [
          -0.821845873531836
         ],
         "y": [
          -0.3668369667286727
         ]
        },
        {
         "hoverinfo": "text",
         "marker": {
          "color": "rgba(102,194,165,0.75)",
          "size": 0.5
         },
         "mode": "markers",
         "text": "King Street Station Plaza ➔ Pine St & 9th Ave: 65 viagens ",
         "type": "scatter",
         "x": [
          0.6567824489753843
         ],
         "y": [
          -0.6153347176276476
         ]
        },
        {
         "hoverinfo": "text",
         "marker": {
          "color": "rgba(255,255,191,0.75)",
          "size": 0.5
         },
         "mode": "markers",
         "text": "Pine St & 9th Ave ➔ Burke-Gilman Trail: 2 viagens ",
         "type": "scatter",
         "x": [
          -0.8269448888208717
         ],
         "y": [
          -0.35519311768816136
         ]
        },
        {
         "hoverinfo": "text",
         "marker": {
          "color": "rgba(50,136,189,0.75)",
          "size": 0.5
         },
         "mode": "markers",
         "text": "Burke-Gilman Trail ➔ Pine St & 9th Ave: 4 viagens ",
         "type": "scatter",
         "x": [
          0.8770187074198638
         ],
         "y": [
          -0.2020846031631096
         ]
        },
        {
         "hoverinfo": "text",
         "marker": {
          "color": "rgba(230,245,152,0.75)",
          "size": 0.5
         },
         "mode": "markers",
         "text": "2nd Ave & Pine St ⮌ : 427 viagens ",
         "type": "scatter",
         "x": [
          -0.38673967426483974
         ],
         "y": [
          -0.8126699356747028
         ]
        },
        {
         "hoverinfo": "text",
         "marker": {
          "color": "rgba(230,245,152,0.75)",
          "size": 0.5
         },
         "mode": "markers",
         "text": "2nd Ave & Pine St ➔ 3rd Ave & Broad St: 1101 viagens ",
         "type": "scatter",
         "x": [
          -0.10561272666154187
         ],
         "y": [
          -0.8937818257086649
         ]
        },
        {
         "hoverinfo": "text",
         "marker": {
          "color": "rgba(171,221,164,0.75)",
          "size": 0.5
         },
         "mode": "markers",
         "text": "3rd Ave & Broad St ➔ 2nd Ave & Pine St: 962 viagens ",
         "type": "scatter",
         "x": [
          0.5694964153892733
         ],
         "y": [
          -0.6969030297385486
         ]
        },
        {
         "hoverinfo": "text",
         "marker": {
          "color": "rgba(230,245,152,0.75)",
          "size": 0.5
         },
         "mode": "markers",
         "text": "2nd Ave & Pine St ➔ King Street Station Plaza: 199 viagens ",
         "type": "scatter",
         "x": [
          -0.5656699126386132
         ],
         "y": [
          -0.7000125355559169
         ]
        },
        {
         "hoverinfo": "text",
         "marker": {
          "color": "rgba(102,194,165,0.75)",
          "size": 0.5
         },
         "mode": "markers",
         "text": "King Street Station Plaza ➔ 2nd Ave & Pine St: 384 viagens ",
         "type": "scatter",
         "x": [
          0.7853974896266565
         ],
         "y": [
          -0.4394892300024496
         ]
        },
        {
         "hoverinfo": "text",
         "marker": {
          "color": "rgba(230,245,152,0.75)",
          "size": 0.5
         },
         "mode": "markers",
         "text": "2nd Ave & Pine St ➔ Burke-Gilman Trail: 9 viagens ",
         "type": "scatter",
         "x": [
          -0.627305248457754
         ],
         "y": [
          -0.6453589119686467
         ]
        },
        {
         "hoverinfo": "text",
         "marker": {
          "color": "rgba(50,136,189,0.75)",
          "size": 0.5
         },
         "mode": "markers",
         "text": "Burke-Gilman Trail ➔ 2nd Ave & Pine St: 1 viagens ",
         "type": "scatter",
         "x": [
          0.8764991299659123
         ],
         "y": [
          -0.2043263937160317
         ]
        },
        {
         "hoverinfo": "text",
         "marker": {
          "color": "rgba(171,221,164,0.75)",
          "size": 0.5
         },
         "mode": "markers",
         "text": "3rd Ave & Broad St ⮌ : 627 viagens ",
         "type": "scatter",
         "x": [
          0.4248787683408167
         ],
         "y": [
          -0.7933965163858425
         ]
        },
        {
         "hoverinfo": "text",
         "marker": {
          "color": "rgba(171,221,164,0.75)",
          "size": 0.5
         },
         "mode": "markers",
         "text": "3rd Ave & Broad St ➔ King Street Station Plaza: 179 viagens ",
         "type": "scatter",
         "x": [
          0.07202776375341151
         ],
         "y": [
          -0.8971131485206773
         ]
        },
        {
         "hoverinfo": "text",
         "marker": {
          "color": "rgba(102,194,165,0.75)",
          "size": 0.5
         },
         "mode": "markers",
         "text": "King Street Station Plaza ➔ 3rd Ave & Broad St: 301 viagens ",
         "type": "scatter",
         "x": [
          0.7460547236937624
         ],
         "y": [
          -0.5033908513811349
         ]
        },
        {
         "hoverinfo": "text",
         "marker": {
          "color": "rgba(171,221,164,0.75)",
          "size": 0.5
         },
         "mode": "markers",
         "text": "3rd Ave & Broad St ➔ Burke-Gilman Trail: 6 viagens ",
         "type": "scatter",
         "x": [
          0.015450294973817157
         ],
         "y": [
          -0.8998673726640066
         ]
        },
        {
         "hoverinfo": "text",
         "marker": {
          "color": "rgba(50,136,189,0.75)",
          "size": 0.5
         },
         "mode": "markers",
         "text": "Burke-Gilman Trail ➔ 3rd Ave & Broad St: 8 viagens ",
         "type": "scatter",
         "x": [
          0.8773130347071765
         ],
         "y": [
          -0.20080298586645706
         ]
        },
        {
         "hoverinfo": "text",
         "marker": {
          "color": "rgba(102,194,165,0.75)",
          "size": 0.5
         },
         "mode": "markers",
         "text": "King Street Station Plaza ⮌ : 185 viagens ",
         "type": "scatter",
         "x": [
          0.6853926406269647
         ],
         "y": [
          -0.5832983183366779
         ]
        },
        {
         "hoverinfo": "text",
         "marker": {
          "color": "rgba(102,194,165,0.75)",
          "size": 0.5
         },
         "mode": "markers",
         "text": "King Street Station Plaza ➔ Burke-Gilman Trail: 1 viagens ",
         "type": "scatter",
         "x": [
          0.6471131024370618
         ],
         "y": [
          -0.6254955096995347
         ]
        },
        {
         "hoverinfo": "text",
         "marker": {
          "color": "rgba(50,136,189,0.75)",
          "size": 0.5
         },
         "mode": "markers",
         "text": "Burke-Gilman Trail ➔ King Street Station Plaza: 0 viagens ",
         "type": "scatter",
         "x": [
          0.8764742452216657
         ],
         "y": [
          -0.204433112442949
         ]
        },
        {
         "hoverinfo": "text",
         "marker": {
          "color": "rgba(50,136,189,0.75)",
          "size": 0.5
         },
         "mode": "markers",
         "text": "Burke-Gilman Trail ⮌ : 880 viagens ",
         "type": "scatter",
         "x": [
          0.8948387126303851
         ],
         "y": [
          -0.09624800454032885
         ]
        }
       ],
       "layout": {
        "height": 625,
        "hovermode": "closest",
        "margin": {
         "b": 25,
         "l": 25,
         "r": 25,
         "t": 25
        },
        "paper_bgcolor": "rgba(0,0,0,0)",
        "plot_bgcolor": "rgba(0,0,0,0)",
        "shapes": [
         {
          "fillcolor": "rgba(213,62,79,0.75)",
          "layer": "below",
          "line": {
           "color": "rgb(175,175,175)",
           "width": 0.5
          },
          "path": "M 0.9914938229008279,0.13015375196090884 Q 0.19390992791088768, 0.04897897362740814 0.9343739435126289, 0.35629388667876205L 0.9343739435126289, 0.35629388667876205 L 0.9695496395544384, 0.2448948681370407 L 0.9914938229008279, 0.13015375196090884 ",
          "type": "path"
         },
         {
          "fillcolor": "rgba(213,62,79,0.75)",
          "layer": "below",
          "line": {
           "color": "rgb(175, 175, 175)",
           "width": 0.5
          },
          "path": "M 0.9999914312253062,0.004139743465923568 Q 0.1965576720689555, 0.03694701003914875 0.9332411245717708, 0.35925061365016014L 0.9332411245717708, 0.35925061365016014 L 0.933459658009785, 0.35868240390107675 L 0.933677845489744, 0.358114061217414 M 0.933677845489744,0.358114061217414 Q 0.19649440637609716, 0.037282009909676256 0.9999615741289217, 0.008766428326807591L 0.9999615741289217, 0.008766428326807591 L 0.9999791785130091, 0.006453103164170203 L 0.9999914312253062, 0.004139743465923568 ",
          "type": "path"
         },
         {
          "fillcolor": "rgba(253,174,97,0.75)",
          "layer": "below",
          "line": {
           "color": "rgb(175, 175, 175)",
           "width": 0.5
          },
          "path": "M 1.0,0.0 Q 0.1935223550483848, 0.05048859372696865 0.8725450951736551, 0.48853357805620395L 0.8725450951736551, 0.48853357805620395 L 0.8766771422870197, 0.4810791911852608 L 0.8807455060850746, 0.4735898579054937 M 0.8807455060850746,0.4735898579054937 Q 0.19384413422414817, 0.04923872080883529 0.9999914312253062, 0.004139743465923568L 0.9999914312253062, 0.004139743465923568 L 0.999997857804032, 0.002069876167042163 L 1.0, 0.0 ",
          "type": "path"
         },
         {
          "fillcolor": "rgba(254,224,139,0.75)",
          "layer": "below",
          "line": {
           "color": "rgb(175, 175, 175)",
           "width": 0.5
          },
          "path": "M 0.9990288007448713,0.04406194823500472 Q 0.13100728438931938, 0.15111946081473424 -0.09810043061287431, 0.9951765197760489L -0.09810043061287431, 0.9951765197760489 L -0.0863403348789937, 0.9962657007912012 L -0.07456819586274754, 0.9972159165224825 M -0.07456819586274754,0.9972159165224825 Q 0.13141161482897948, 0.15076799225313028 0.9980575011116339, 0.06229947411335748L 0.9980575011116339, 0.06229947411335748 L 0.9985847866372008, 0.053182928621278956 L 0.9990288007448713, 0.04406194823500472 ",
          "type": "path"
         },
         {
          "fillcolor": "rgba(213,62,79,0.75)",
          "layer": "below",
          "line": {
           "color": "rgb(175, 175, 175)",
           "width": 0.5
          },
          "path": "M 0.9996541848786391,0.026296590171041346 Q -0.04722993846235495, 0.1943433377114898 -0.9002279889333439, -0.4354188419683136L -0.9002279889333439, -0.4354188419683136 L -0.9030190479044012, -0.42960051108189895 L -0.905772502467258, -0.4237642903480671 M -0.905772502467258,-0.4237642903480671 Q -0.04770305301290772, 0.19422774964779807 0.9990288007448713, 0.04406194823500472L 0.9990288007448713, 0.04406194823500472 L 0.99938096902133, 0.03518065886232742 L 0.9996541848786391, 0.026296590171041346 ",
          "type": "path"
         },
         {
          "fillcolor": "rgba(230,245,152,0.75)",
          "layer": "below",
          "line": {
           "color": "rgb(175, 175, 175)",
           "width": 0.5
          },
          "path": "M 0.9980575011116339,0.06229947411335748 Q -0.08662312423552013, 0.18026767416172443 -0.6722494038514131, -0.7403247524035784L -0.6722494038514131, -0.7403247524035784 L -0.6843269668033829, -0.7291752892862468 L -0.696219639626708, -0.7178288190077471 M -0.696219639626708,-0.7178288190077471 Q -0.08596407677894496, 0.1805828826426903 0.9961384985513156, 0.08779573852944474L 0.9961384985513156, 0.08779573852944474 L 0.9971794904342555, 0.07505373979542013 L 0.9980575011116339, 0.06229947411335748 ",
          "type": "path"
         },
         {
          "fillcolor": "rgba(171,221,164,0.75)",
          "layer": "below",
          "line": {
           "color": "rgb(175, 175, 175)",
           "width": 0.5
          },
          "path": "M 0.9961384985513156,0.08779573852944474 Q -0.16110491668756088, 0.1185124711542801 0.21277604046217916, -0.9771009961131127L 0.21277604046217916, -0.9771009961131127 L 0.1812635880632103, -0.9834345487333922 L 0.14956386345197495, -0.9887520673805537 M 0.14956386345197495,-0.9887520673805537 Q -0.15981122852105856, 0.12025128372948873 0.9914938229008279, 0.13015375196090884L 0.9914938229008279, 0.13015375196090884 L 0.9940418057837277, 0.10899948786221766 L 0.9961384985513156, 0.08779573852944474 ",
          "type": "path"
         },
         {
          "fillcolor": "rgba(102,194,165,0.75)",
          "layer": "below",
          "line": {
           "color": "rgb(175, 175, 175)",
           "width": 0.5
          },
          "path": "M 0.9999615741289217,0.008766428326807591 Q -0.18602906935285493, 0.07343830986420295 0.7243244698825131, -0.6894592535671824L 0.7243244698825131, -0.6894592535671824 L 0.721716962911636, -0.6921882875674827 L 0.7190991738418623, -0.6949074601556319 M 0.7190991738418623,-0.6949074601556319 Q -0.1859843263987324, 0.0735515488212843 0.9998860284038681, 0.01509735747536738L 0.9998860284038681, 0.01509735747536738 L 0.9999288117186182, 0.011931952689822625 L 0.9999615741289217, 0.008766428326807591 ",
          "type": "path"
         },
         {
          "fillcolor": "rgba(213,62,79,0.75)",
          "layer": "below",
          "line": {
           "color": "rgb(175, 175, 175)",
           "width": 0.5
          },
          "path": "M 0.9998860284038681,0.01509735747536738 Q -0.19900884662219354, 0.019886652963841137 0.9771268536710254, -0.21265726377192626L 0.9771268536710254, -0.21265726377192626 L 0.9764750130644351, -0.21563058424261478 L 0.9758141248985377, -0.2186019067814849 M 0.9758141248985377,-0.2186019067814849 Q -0.19905904442510275, 0.01937774064655056 0.9996541848786391, 0.026296590171041346L 0.9996541848786391, 0.026296590171041346 L 0.9997857879749574, 0.020697298453988006 L 0.9998860284038681, 0.01509735747536738 ",
          "type": "path"
         },
         {
          "fillcolor": "rgba(244,109,67,0.75)",
          "layer": "below",
          "line": {
           "color": "rgb(175,175,175)",
           "width": 0.5
          },
          "path": "M 0.9153327099681478,0.4026984356343673 Q 0.180708324308552, 0.08570006724381957 0.8910233918782173, 0.453957393513793L 0.8910233918782173, 0.453957393513793 L 0.90354162154276, 0.4285003362190978 L 0.9153327099681478, 0.4026984356343673 ",
          "type": "path"
         },
         {
          "fillcolor": "rgba(253,174,97,0.75)",
          "layer": "below",
          "line": {
           "color": "rgb(175, 175, 175)",
           "width": 0.5
          },
          "path": "M 0.9343737196463932,0.35629447376315504 Q 0.18257281221681462, 0.08165272952721025 0.8884665931733088, 0.458941295608724L 0.8884665931733088, 0.458941295608724 L 0.8897483387833334, 0.4564514143173385 L 0.891023106648199, 0.45395795336021183 M 0.891023106648199,0.45395795336021183 Q 0.18278099402093165, 0.08118564050815978 0.9342000834491553, 0.35674949766410496L 0.9342000834491553, 0.35674949766410496 L 0.9342869292489475, 0.35652199628434156 L 0.9343737196463932, 0.35629447376315504 ",
          "type": "path"
         },
         {
          "fillcolor": "rgba(254,224,139,0.75)",
          "layer": "below",
          "line": {
           "color": "rgb(175, 175, 175)",
           "width": 0.5
          },
          "path": "M 0.9342000834491553,0.35674949766410496 Q 0.1085319809897704, 0.16799050301262902 -0.058775083571955676, 0.9982712504881174L -0.058775083571955676, 0.9982712504881174 L -0.05597927138232561, 0.9984319311678207 L -0.05318302018174883, 0.9985847817608416 M -0.05318302018174883,0.9985847817608416 Q 0.10894074180383491, 0.16772571292211036 0.9339392136872136, 0.35743187481995686L 0.9339392136872136, 0.35743187481995686 L 0.9340697108813332, 0.35709071006407145 L 0.9342000834491553, 0.35674949766410496 ",
          "type": "path"
         },
         {
          "fillcolor": "rgba(255,255,191,0.75)",
          "layer": "below",
          "line": {
           "color": "rgb(175, 175, 175)",
           "width": 0.5
          },
          "path": "M 0.9246813109111439,0.3807420035294877 Q -0.1120259715605137, 0.16568096358943285 -0.6977916367006103, -0.7163007969775571L -0.6977916367006103, -0.7163007969775571 L -0.774567727576039, -0.6324909765345994 L -0.8413374458764896, -0.5405102239236783 M -0.8413374458764896,-0.5405102239236783 Q -0.09461066930179063, 0.1762067571186395 0.9153327099681478, 0.4026984356343673L 0.9153327099681478, 0.4026984356343673 L 0.920072508276271, 0.3917481072247974 L 0.9246813109111439, 0.3807420035294877 ",
          "type": "path"
         },
         {
          "fillcolor": "rgba(230,245,152,0.75)",
          "layer": "below",
          "line": {
           "color": "rgb(175, 175, 175)",
           "width": 0.5
          },
          "path": "M 0.9295181115283057,0.3687764639193401 Q -0.15004569071767115, 0.13223573910655537 -0.24902520219669627, -0.968497004988087L -0.24902520219669627, -0.968497004988087 L -0.3163958792865109, -0.9486272437425122 L -0.3822055807483787, -0.9240773203822257 M -0.3822055807483787,-0.9240773203822257 Q -0.14130935517045734, 0.1415332686731623 0.9246813109111439, 0.3807420035294877L 0.9246813109111439, 0.3807420035294877 L 0.9271190150559083, 0.37476703686658785 L 0.9295181115283057, 0.3687764639193401 ",
          "type": "path"
         },
         {
          "fillcolor": "rgba(171,221,164,0.75)",
          "layer": "below",
          "line": {
           "color": "rgb(175, 175, 175)",
           "width": 0.5
          },
          "path": "M 0.9332411245717708,0.35925061365016014 Q -0.17290395802742914, 0.10051975576198456 0.14956386345197495, -0.9887520673805537L 0.14956386345197495, -0.9887520673805537 L 0.12568586777024768, -0.9920700895817995 L 0.10173482749051606, -0.9948115524437153 M 0.10173482749051606,-0.9948115524437153 Q -0.17063418144027845, 0.10432629641756741 0.93183432366334, 0.3628839941949573L 0.93183432366334, 0.3628839941949573 L 0.9325394936762172, 0.3610679890742246 L 0.9332411245717708, 0.35925061365016014 ",
          "type": "path"
         },
         {
          "fillcolor": "rgba(102,194,165,0.75)",
          "layer": "below",
          "line": {
           "color": "rgb(175, 175, 175)",
           "width": 0.5
          },
          "path": "M 0.93183432366334,0.3628839941949573 Q -0.19683529530594435, 0.03543820709095879 0.7467566642458927, -0.6650973495694799L 0.7467566642458927, -0.6650973495694799 L 0.7409792070395304, -0.6715279701807431 L 0.7351463750541911, -0.6779084062354461 M 0.7351463750541911,-0.6779084062354461 Q -0.19663817203940617, 0.03651615118000399 0.9295181115283057, 0.3687764639193401L 0.9295181115283057, 0.3687764639193401 L 0.9306808810211642, 0.3658320621564894 L 0.93183432366334, 0.3628839941949573 ",
          "type": "path"
         },
         {
          "fillcolor": "rgba(50,136,189,0.75)",
          "layer": "below",
          "line": {
           "color": "rgb(175, 175, 175)",
           "width": 0.5
          },
          "path": "M 0.9339392136872136,0.35743187481995686 Q -0.19947362561966633, -0.014500782121844106 0.9758141248985377, -0.2186019067814849L 0.9758141248985377, -0.2186019067814849 L 0.975413251714414, -0.22038372984390972 L 0.9750091249489338, -0.22216481779596536 M 0.9750091249489338,-0.22216481779596536 Q -0.1994945996399753, -0.014209317875463987 0.933677845489744, 0.358114061217414L 0.933677845489744, 0.358114061217414 L 0.9338085918842078, 0.357772991886242 L 0.9339392136872136, 0.35743187481995686 ",
          "type": "path"
         },
         {
          "fillcolor": "rgba(253,174,97,0.75)",
          "layer": "below",
          "line": {
           "color": "rgb(175,175,175)",
           "width": 0.5
          },
          "path": "M 0.7068055033410219,0.7074079307209135 Q 0.12023183766815543, 0.15982585901830257 0.4837458119098664, 0.8752085405545722L 0.4837458119098664, 0.8752085405545722 L 0.6011591883407771, 0.7991292950915128 L 0.7068055033410219, 0.7074079307209135 ",
          "type": "path"
         },
         {
          "fillcolor": "rgba(253,174,97,0.75)",
          "layer": "below",
          "line": {
           "color": "rgb(175, 175, 175)",
           "width": 0.5
          },
          "path": "M 0.4837458119098664,0.8752085405545722 Q -0.04426668363085966, 0.19503963884381398 -0.8141668023357478, 0.5806310515072229L -0.8141668023357478, 0.5806310515072229 L -0.7318358938435721, 0.6814809054420966 L -0.6371010464370789, 0.7707802907630547 L -0.5315679278215186, 0.8470156658005428 M -0.5315679278215186,0.8470156658005428 Q -0.06038424715641597, 0.19066657466727846 -0.052939220439694026, 0.9985977362978736L -0.052939220439694026, 0.9985977362978736 L 0.040007600677325755, 0.9991993754441821 L 0.1326087771874779, 0.9911684580397229 L 0.22406428367788034, 0.9745743669827964 L 0.3135839927214554, 0.9495604664837676 L 0.4003945011619173, 0.9163428634737651 L 0.4837458119098664, 0.8752085405545722 ",
          "type": "path"
         },
         {
          "fillcolor": "rgba(253,174,97,0.75)",
          "layer": "below",
          "line": {
           "color": "rgb(175, 175, 175)",
           "width": 0.5
          },
          "path": "M 0.8884665931733088,0.458941295608724 Q -0.08622784547263686, 0.1804570826128669 -0.9152345067082052, -0.40292157764332803L -0.9152345067082052, -0.40292157764332803 L -0.9169918232476774, -0.39890599907359187 L -0.9187315215932917, -0.3948827563098634 M -0.9187315215932917,-0.3948827563098634 Q -0.08693029500791122, 0.18011974852813206 0.8807455060850746, 0.4735898579054937L 0.8807455060850746, 0.4735898579054937 L 0.8846363705697978, 0.466281558572817 L 0.8884665931733088, 0.458941295608724 ",
          "type": "path"
         },
         {
          "fillcolor": "rgba(253,174,97,0.75)",
          "layer": "below",
          "line": {
           "color": "rgb(175, 175, 175)",
           "width": 0.5
          },
          "path": "M 0.8725450951736551,0.48853357805620395 Q -0.12710087814103993, 0.15441945076892524 -0.6471815049249788, -0.7623359493576567L -0.6471815049249788, -0.7623359493576567 L -0.6598072475780044, -0.7514348914201004 L -0.6722494038514131, -0.7403247524035784 M -0.6722494038514131,-0.7403247524035784 Q -0.12749529962303746, 0.15409396021269592 0.853107438968642, 0.5217352753804986L 0.853107438968642, 0.5217352753804986 L 0.8629859531442192, 0.5052279135952045 L 0.8725450951736551, 0.48853357805620395 ",
          "type": "path"
         },
         {
          "fillcolor": "rgba(253,174,97,0.75)",
          "layer": "below",
          "line": {
           "color": "rgb(175, 175, 175)",
           "width": 0.5
          },
          "path": "M 0.8292901999093383,0.5588181854005199 Q -0.19214126447627233, 0.055513372131939256 0.40347840898855414, -0.9149891657719588L 0.40347840898855414, -0.9149891657719588 L 0.34957281739675045, -0.9369091980215042 L 0.29448346715712037, -0.9556565740741395 M 0.29448346715712037,-0.9556565740741395 Q -0.19412272276965528, 0.04812866614083087 0.7068055033410219, 0.7074079307209135L 0.7068055033410219, 0.7074079307209135 L 0.7716328339888405, 0.6360682113660063 L 0.8292901999093383, 0.5588181854005199 ",
          "type": "path"
         },
         {
          "fillcolor": "rgba(102,194,165,0.75)",
          "layer": "below",
          "line": {
           "color": "rgb(175, 175, 175)",
           "width": 0.5
          },
          "path": "M 0.853107438968642,0.5217352753804986 Q -0.19983464084072278, 0.00813119425787679 0.8078989894049388, -0.5893209846242357L 0.8078989894049388, -0.5893209846242357 L 0.7921967746682742, -0.6102657373678975 L 0.7759517132589181, -0.6307923102658669 M 0.7759517132589181,-0.6307923102658669 Q -0.19979926754599753, 0.008958386466484653 0.8292901999093383, 0.5588181854005199L 0.8292901999093383, 0.5588181854005199 L 0.8414031372531475, 0.5404079575844171 L 0.853107438968642, 0.5217352753804986 ",
          "type": "path"
         },
         {
          "fillcolor": "rgba(50,136,189,0.75)",
          "layer": "below",
          "line": {
           "color": "rgb(175, 175, 175)",
           "width": 0.5
          },
          "path": "M 0.891023106648199,0.45395795336021183 Q -0.19852229262067922, -0.024267248147027572 0.9741361198788184, -0.22596198783742427L 0.9741361198788184, -0.22596198783742427 L 0.9740259541890117, -0.22643639408492902 L 0.9739155574624235, -0.22691074662222765 M 0.9739155574624235,-0.22691074662222765 Q -0.19853408794236044, -0.024170559052183634 0.891023106648199, 0.45395795336021183L 0.891023106648199, 0.45395795336021183 L 0.891023106648199, 0.45395795336021183 L 0.891023106648199, 0.45395795336021183 ",
          "type": "path"
         },
         {
          "fillcolor": "rgba(254,224,139,0.75)",
          "layer": "below",
          "line": {
           "color": "rgb(175,175,175)",
           "width": 0.5
          },
          "path": "M -0.8141668023357478,0.5806310515072229 Q -0.19885564728566968, 0.02136425853141974 -0.9189239802422434, -0.39443468221716144L -0.9189239802422434, -0.39443468221716144 L -0.9492229722216207, -0.3146041147327105 L -0.9726012284715878, -0.23247978487506898 L -0.9888882993316801, -0.14866045689724414 L -0.9979654366083462, -0.0637572531961093 L -0.999766459361902, 0.02161080134947007 L -0.9942782364283483, 0.1068212926570987 L -0.9815407821580102, 0.1912529554298221 L -0.9616469646729732, 0.27429020276936167 L -0.9347418287703945, 0.355327614388438 L -0.9010215384083692, 0.43377435069885784 L -0.8607319464846293, 0.5090584605924758 L -0.8141668023357478, 0.5806310515072229 ",
          "type": "path"
         },
         {
          "fillcolor": "rgba(254,224,139,0.75)",
          "layer": "below",
          "line": {
           "color": "rgb(175, 175, 175)",
           "width": 0.5
          },
          "path": "M -0.058775083571955676,0.9982712504881174 Q -0.1718294830678174, 0.10234563375467792 -0.905772502467258, -0.4237642903480671L -0.905772502467258, -0.4237642903480671 L -0.9084373474875663, -0.41802103498478954 L -0.9110657765421123, -0.41226102267097475 M -0.9110657765421123,-0.41226102267097475 Q -0.17199126633863537, 0.10207352400712243 -0.07456819586274754, 0.9972159165224825L -0.07456819586274754, 0.9972159165224825 L -0.06667372777222744, 0.9977748313246606 L -0.058775083571955676, 0.9982712504881174 ",
          "type": "path"
         },
         {
          "fillcolor": "rgba(254,224,139,0.75)",
          "layer": "below",
          "line": {
           "color": "rgb(175, 175, 175)",
           "width": 0.5
          },
          "path": "M -0.09810043061287431,0.9951765197760489 Q -0.1942277426008157, 0.04770308170539174 -0.5479671954434262, -0.836499822305938L -0.5479671954434262, -0.836499822305938 L -0.579142978740354, -0.8152259871813152 L -0.6094937696642503, -0.7927908581337588 M -0.6094937696642503,-0.7927908581337588 Q -0.19464966184147112, 0.04595116043149457 -0.19059513710975523, 0.9816687291088138L -0.19059513710975523, 0.9816687291088138 L -0.14450570164478047, 0.9895039677495738 L -0.09810043061287431, 0.9951765197760489 ",
          "type": "path"
         },
         {
          "fillcolor": "rgba(254,224,139,0.75)",
          "layer": "below",
          "line": {
           "color": "rgb(175, 175, 175)",
           "width": 0.5
          },
          "path": "M -0.3627704752686746,0.9318785233459026 Q -0.18887699329111832, -0.06576839214475937 0.29448346715712037, -0.9556565740741395L 0.29448346715712037, -0.9556565740741395 L 0.2538562936519198, -0.9672419460369315 L 0.21277604046217916, -0.9771009961131127 M 0.21277604046217916,-0.9771009961131127 Q -0.18517639870450953, -0.07556256588303847 -0.5315679278215186, 0.8470156658005428L -0.5315679278215186, 0.8470156658005428 L -0.44917782776776743, 0.8934423758932805 L -0.3627704752686746, 0.9318785233459026 ",
          "type": "path"
         },
         {
          "fillcolor": "rgba(102,194,165,0.75)",
          "layer": "below",
          "line": {
           "color": "rgb(175, 175, 175)",
           "width": 0.5
          },
          "path": "M -0.19059513710975523,0.9816687291088138 Q -0.14403968819044996, -0.138753624190498 0.9738601297470889, -0.22714851460879742L 0.9738601297470889, -0.22714851460879742 L 0.9406419789649615, -0.339400452870766 L 0.8945333239457168, -0.44700126660964545 M 0.8945333239457168,-0.44700126660964545 Q -0.1477863729300161, -0.1347560313165619 -0.3627704752686746, 0.9318785233459026L -0.3627704752686746, 0.9318785233459026 L -0.2778005424548644, 0.9606387763419625 L -0.19059513710975523, 0.9816687291088138 ",
          "type": "path"
         },
         {
          "fillcolor": "rgba(50,136,189,0.75)",
          "layer": "below",
          "line": {
           "color": "rgb(175, 175, 175)",
           "width": 0.5
          },
          "path": "M -0.052939847877146284,0.9985977030349833 Q -0.15317409924561776, -0.12859897091459813 0.9743557580436191, -0.22501301466191792L 0.9743557580436191, -0.22501301466191792 L 0.9742460545057129, -0.2254875279922406 L 0.9741361198788184, -0.22596198783742427 M 0.9741361198788184,-0.22596198783742427 Q -0.15322106261135215, -0.12854301214865047 -0.05318302018174883, 0.9985847817608416L -0.05318302018174883, 0.9985847817608416 L -0.05306143442276365, 0.9985912497999363 L -0.052939847877146284, 0.9985977030349833 ",
          "type": "path"
         },
         {
          "fillcolor": "rgba(255,255,191,0.75)",
          "layer": "below",
          "line": {
           "color": "rgb(175,175,175)",
           "width": 0.5
          },
          "path": "M -0.8649479710518586,-0.5018615420345269 Q -0.17067230720401352, -0.10426391299802072 -0.8413374458764896, -0.5405102239236783L -0.8413374458764896, -0.5405102239236783 L -0.8533615360200676, -0.5213195649901036 L -0.8649479710518586, -0.5018615420345269 ",
          "type": "path"
         },
         {
          "fillcolor": "rgba(230,245,152,0.75)",
          "layer": "below",
          "line": {
           "color": "rgb(175, 175, 175)",
           "width": 0.5
          },
          "path": "M -0.8836123836935376,-0.4682191317998705 Q -0.1420484809625696, -0.14079143814957817 -0.47605466567965027, -0.8794156896966511L -0.47605466567965027, -0.8794156896966511 L -0.512460374988122, -0.8587108733834884 L -0.5479671954434262, -0.836499822305938 M -0.5479671954434262,-0.836499822305938 Q -0.1452002770774011, -0.13753864742917152 -0.8649479710518586, -0.5018615420345269L -0.8649479710518586, -0.5018615420345269 L -0.8744419829173549, -0.48513010472610785 L -0.8836123836935376, -0.4682191317998705 ",
          "type": "path"
         },
         {
          "fillcolor": "rgba(171,221,164,0.75)",
          "layer": "below",
          "line": {
           "color": "rgb(175, 175, 175)",
           "width": 0.5
          },
          "path": "M -0.9002279889333439,-0.4354188419683136 Q -0.10127667205581692, -0.17246169342001288 0.05828885617417106, -0.9982997592135875L 0.05828885617417106, -0.9982997592135875 L 0.03810092415049595, -0.9992738961760576 L 0.017897427840545585, -0.9998398282108452 M 0.017897427840545585,-0.9998398282108452 Q -0.10159148338517549, -0.17227643629817635 -0.8836123836935376, -0.4682191317998705L -0.8836123836935376, -0.4682191317998705 L -0.8920709520585577, -0.45189536011485937 L -0.9002279889333439, -0.4354188419683136 ",
          "type": "path"
         },
         {
          "fillcolor": "rgba(102,194,165,0.75)",
          "layer": "below",
          "line": {
           "color": "rgb(175, 175, 175)",
           "width": 0.5
          },
          "path": "M -0.9152345067082052,-0.40292157764332803 Q -0.03287088241313043, -0.19728027040072244 0.7351463750541911, -0.6779084062354461L 0.7351463750541911, -0.6779084062354461 L 0.7297582766393158, -0.6837052418084973 L 0.7243244698825131, -0.6894592535671824 M 0.7243244698825131,-0.6894592535671824 Q -0.033423221691650504, -0.19718744445768038 -0.9110657765421123, -0.41226102267097475L -0.9110657765421123, -0.41226102267097475 L -0.91316208170204, -0.4075966296985252 L -0.9152345067082052, -0.40292157764332803 ",
          "type": "path"
         },
         {
          "fillcolor": "rgba(50,136,189,0.75)",
          "layer": "below",
          "line": {
           "color": "rgb(175, 175, 175)",
           "width": 0.5
          },
          "path": "M -0.9189237324114422,-0.39443525959404807 Q 0.017923010208526078, -0.1991952953888848 0.9745744717484347, -0.22406382799608587L 0.9745744717484347, -0.22406382799608587 L 0.9744652304665152, -0.22453844795901068 L 0.9743557580436191, -0.22501301466191792 M 0.9743557580436191,-0.22501301466191792 Q 0.017874502736641797, -0.1991996539954771 -0.9187315215932917, -0.3948827563098634L -0.9187315215932917, -0.3948827563098634 L -0.918827654245413, -0.39465901965351263 L -0.9189237324114422, -0.39443525959404807 ",
          "type": "path"
         },
         {
          "fillcolor": "rgba(230,245,152,0.75)",
          "layer": "below",
          "line": {
           "color": "rgb(175,175,175)",
           "width": 0.5
          },
          "path": "M -0.47605466567965027,-0.8794156896966511 Q -0.08594214983663107, -0.18059331903882286 -0.3822055807483787, -0.9240773203822257L -0.3822055807483787, -0.9240773203822257 L -0.42971074918315527, -0.9029665951941143 L -0.47605466567965027, -0.8794156896966511 ",
          "type": "path"
         },
         {
          "fillcolor": "rgba(230,245,152,0.75)",
          "layer": "below",
          "line": {
           "color": "rgb(175, 175, 175)",
           "width": 0.5
          },
          "path": "M -0.24902520219669627,-0.968497004988087 Q 0.054365914068952706, -0.19246908164026566 0.7189294952922284, -0.6950830028125142L 0.7189294952922284, -0.6950830028125142 L 0.6327737948769704, -0.7743366997094984 L 0.5379465919994642, -0.842978922723553 M 0.5379465919994642,-0.842978922723553 Q 0.05761537903008909, -0.19152145597613646 0.01643592359453136, -0.9998649210846406L 0.01643592359453136, -0.9998649210846406 L -0.11734747406837985, -0.9930909174540722 L -0.24902520219669627, -0.968497004988087 ",
          "type": "path"
         },
         {
          "fillcolor": "rgba(102,194,165,0.75)",
          "layer": "below",
          "line": {
           "color": "rgb(175, 175, 175)",
           "width": 0.5
          },
          "path": "M -0.6471815049249788,-0.7623359493576567 Q 0.04007728590070151, -0.19594338762722624 0.8945333239457168, -0.44700126660964545L 0.8945333239457168, -0.44700126660964545 L 0.8726638773629516, -0.4883213666693884 L 0.8488871162219647, -0.5285741801415924 M 0.8488871162219647,-0.5285741801415924 Q 0.035653839527506455, -0.19679635089845243 -0.6094937696642503, -0.7927908581337588L -0.6094937696642503, -0.7927908581337588 L -0.6285221251540146, -0.777791706173241 L -0.6471815049249788, -0.7623359493576567 ",
          "type": "path"
         },
         {
          "fillcolor": "rgba(230,245,152,0.75)",
          "layer": "below",
          "line": {
           "color": "rgb(175, 175, 175)",
           "width": 0.5
          },
          "path": "M -0.6977911866354081,-0.7163012354128319 Q 0.056191433393651985, -0.19194406167726777 0.9739155574624235, -0.22691074662222765L 0.9739155574624235, -0.22691074662222765 L 0.9738879221843469, -0.22702932635114634 L 0.9738602724685175, -0.22714790271438778 M 0.9738602724685175,-0.22714790271438778 Q 0.056378371971820065, -0.1918892367325669 -0.696219639626708, -0.7178288190077471L -0.696219639626708, -0.7178288190077471 L -0.6970058316197267, -0.7170654577429407 L -0.6977911866354081, -0.7163012354128319 ",
          "type": "path"
         },
         {
          "fillcolor": "rgba(171,221,164,0.75)",
          "layer": "below",
          "line": {
           "color": "rgb(175,175,175)",
           "width": 0.5
          },
          "path": "M 0.40347840898855414,-0.9149891657719588 Q 0.09441750407573705, -0.1763103369746317 0.5379465919994642, -0.842978922723553L 0.5379465919994642, -0.842978922723553 L 0.47208752037868523, -0.8815516848731584 L 0.40347840898855414, -0.9149891657719588 ",
          "type": "path"
         },
         {
          "fillcolor": "rgba(102,194,165,0.75)",
          "layer": "below",
          "line": {
           "color": "rgb(175, 175, 175)",
           "width": 0.5
          },
          "path": "M 0.05828885617417106,-0.9982997592135875 Q 0.1021572495972457, -0.17194154923905403 0.8488871162219647, -0.5285741801415924L 0.8488871162219647, -0.5285741801415924 L 0.8289496929930693, -0.559323168201261 L 0.8078989894049388, -0.5893209846242357 M 0.8078989894049388,-0.5893209846242357 Q 0.09959198167675747, -0.1734400103369935 0.10173482749051606, -0.9948115524437153L 0.10173482749051606, -0.9948115524437153 L 0.08003084861490167, -0.9967923872451969 L 0.05828885617417106, -0.9982997592135875 ",
          "type": "path"
         },
         {
          "fillcolor": "rgba(50,136,189,0.75)",
          "layer": "below",
          "line": {
           "color": "rgb(175, 175, 175)",
           "width": 0.5
          },
          "path": "M 0.016436551828186065,-0.999864910757448 Q 0.12600722061026265, -0.15531316864347533 0.9750091249489338, -0.22216481779596536L 0.9750091249489338, -0.22216481779596536 L 0.9747922607857517, -0.22311442874050785 L 0.9745744717484347, -0.22406382799608587 M 0.9745744717484347,-0.22406382799608587 Q 0.1259693960445539, -0.15534384847869043 0.017897427840545585, -0.9998398282108452L 0.017897427840545585, -0.9998398282108452 L 0.017166994415352396, -0.9998526362933406 L 0.016436551828186065, -0.999864910757448 ",
          "type": "path"
         },
         {
          "fillcolor": "rgba(102,194,165,0.75)",
          "layer": "below",
          "line": {
           "color": "rgb(175,175,175)",
           "width": 0.5
          },
          "path": "M 0.7467566642458927,-0.6650973495694799 Q 0.15230947569488107, -0.12962184851926176 0.7759517132589181, -0.6307923102658669L 0.7759517132589181, -0.6307923102658669 L 0.7615473784744052, -0.6481092425963088 L 0.7467566642458927, -0.6650973495694799 ",
          "type": "path"
         },
         {
          "fillcolor": "rgba(102,194,165,0.75)",
          "layer": "below",
          "line": {
           "color": "rgb(175, 175, 175)",
           "width": 0.5
          },
          "path": "M 0.7189299320256181,-0.6950825510956523 Q 0.17562748963607588, -0.09568168520741087 0.9738602724685175, -0.22714790271438778L 0.9738602724685175, -0.22714790271438778 L 0.9738602724685175, -0.22714790271438778 L 0.9738602724685175, -0.22714790271438778 M 0.9738602724685175,-0.22714790271438778 Q 0.17563913830434197, -0.09566030052068747 0.7190991738418623, -0.6949074601556319L 0.7190991738418623, -0.6949074601556319 L 0.719014558263402, -0.6949950107772608 L 0.7189299320256181, -0.6950825510956523 ",
          "type": "path"
         },
         {
          "fillcolor": "rgba(50,136,189,0.75)",
          "layer": "below",
          "line": {
           "color": "rgb(175,175,175)",
           "width": 0.5
          },
          "path": "M 0.9771268536710254,-0.21265726377192626 Q 0.19885304725119668, -0.021388445453406412 0.9999999999998026, -6.283185316708634e-07L 0.9999999999998026, -6.283185316708634e-07 L 0.9942652362559834, -0.10694222726703205 L 0.9771268536710254, -0.21265726377192626 ",
          "type": "path"
         },
         {
          "fillcolor": "rgba(213,62,79,0.75)",
          "layer": "below",
          "line": {
           "color": "rgb(150,150,150)",
           "width": 0.45
          },
          "path": "M 1.1, 0.0 L 1.0999925525688983, 0.004047751593157706 L 1.0999702103764366, 0.008095448376586123 L 1.0999329737251462, 0.012143035541298136 L 1.0998808431192402, 0.016190458279790945 L 1.099813819264608, 0.02023766178678822 L 1.099731903068805, 0.024284591259982176 L 1.099635095641041, 0.02833119190077569 L 1.0995233982921644, 0.03237740891502427 L 1.0993968125346445, 0.036423187513778016 L 1.099255340082552, 0.04046847291402356 L 1.0990989828515347, 0.04451321033942578 L 1.098927742958792, 0.048557345021069585 L 1.0987416227230464, 0.05260082219820151 L 1.0985406246645117, 0.0566435871189712 L 1.098324751504859, 0.06068558504117285 L 1.0980940061671807, 0.06472676123298636 L 1.0978483917759487, 0.06876706097371854 L 1.097587911656975, 0.07280642955454403 L 1.0973125693373642, 0.07684481227924611 L 1.0970223685454672, 0.08088215446495728 L 1.0967173132108303, 0.08491840144289985 L 1.0963974074641418, 0.08895349855912597 L 1.0960626556371764, 0.09298739117525794 L 1.095713062262736, 0.09702002466922788 L 1.095348632074589, 0.10105134443601739 L 1.094969370007406, 0.10508129588839703 L 1.094575281196692, 0.10910982445766533 L 1.0941663709787193, 0.11313687559438783 L 1.0937426448904521, 0.11716239476913567 L 1.093304108669474, 0.12118632747322393 L 1.092850768253909, 0.12520861921944973 L 1.0923826297823418, 0.12922921554283007 L 1.0918996995937345, 0.13324806200133932 L 1.09140198422734, 0.13726510417664636 L 1.0908894904226145, 0.1412802876748515 L 1.090362225119126, 0.14529355812722297 L 1.08982019545646, 0.14930486119093317 L 1.0892634087741226, 0.1533141425497945 L 1.0886918726114425, 0.15732134791499472 L 1.088105594707467, 0.1613264230258323 L 1.0875045830008585, 0.165329313650451 L 1.0868888456297865, 0.1693299655865742 L 1.0862583909318178, 0.17332832466223885 L 1.0856132274438028, 0.17732433673652911 L 1.0849533639017614, 0.18131794770030926 L 1.084278809240763, 0.18530910347695664 L 1.0835895725948061, 0.1892977500230937 L 1.0828856632966954, 0.19328383332931975 L 1.0821670908779144, 0.19726729942094245 L 1.0814338650684971, 0.2012480943587087 L 1.0806859957968955, 0.2052261642395347 L 1.0799234931898458, 0.20920145519723618 L 1.0791463675722308, 0.21317391340325764 L 1.0783546294669408, 0.21714348506740136 L 1.0775482895947301, 0.2211101164385555 L 1.076727358874073, 0.2250737538054221 L 1.075891848421014, 0.22903434349724458 L 1.0750417695490204, 0.232991831884534 L 1.0741771337688262, 0.2369461653797957 L 1.0732979527882776, 0.24089729043825464 L 1.0724042385121737, 0.24484515355858055 L 1.0714960030421072, 0.24878970128361236 L 1.0705732586762975, 0.25273088020108203 L 1.069636017909427, 0.25666863694433784 L 1.06868429343247, 0.260602918193067 L 1.0677180981325223, 0.2645336706740176 L 1.0667374450926252, 0.26846084116172014 L 1.06574234759159, 0.2723843764792079 L 1.0647328191038163, 0.2763042234987374 L 1.0637088732991113, 0.2802203291425075 L 1.062670524042504, 0.2841326403833782 L 1.061617785394057, 0.28804110424558893 L 1.0605506716086768, 0.29194566780547526 L 1.0594691971359205, 0.2958462781921862 L 1.0583733766198, 0.29974288258839965 L 1.0572632248985843, 0.303635428231038 L 1.0561387570045977, 0.30752386241198204 L 1.0549999881640169, 0.3114081324787851 L 1.0538469337966645, 0.3152881858353861 L 1.0526796095158004, 0.31916396994282115 L 1.0514980311279107, 0.32303543231993564 L 1.0503022146324925, 0.32690252054409424 L 1.0490921762218386, 0.3307651822518915 L 1.0478679322808175, 0.3346233651398602 L 1.0466294993866518, 0.33847701696517973 L 1.0453768943086938, 0.3423260855463841 L 1.0441101340081977, 0.34617051876406757 L 1.042829235638091, 0.350010264561591 L 1.041534216542742, 0.35384527094578666 L 1.0402250942577236, 0.35767548598766213 L 1.0389018865095783, 0.3615008578231036 L 1.0375646112155756, 0.3653213346535779 L 1.0362132864834717, 0.3691368647468343 L 1.0348479306112626, 0.37294739643760455 L 1.0334685620869366, 0.3767528781283029 L 1.0320751995882251, 0.38055325828972425 L 1.0306678619823482, 0.3843484854617425 L 1.0292465683257606, 0.3881385082540069 L 1.027811337863892, 0.3919232753466383 L 0.9343739435126289, 0.35629388667876205 L 0.935678698477964, 0.35285318932182447 L 0.9369707836203165, 0.3494077140561295 L 0.9382501814438409, 0.34595750753611293 L 0.9395168746244877, 0.3425026164802753 L 0.9407708460102385, 0.3390430876705496 L 0.9420120786213378, 0.33557896795166753 L 0.9432405556505232, 0.33211030423052534 L 0.9444562604632528, 0.3286371434755487 L 0.9456591765979304, 0.32515953271605647 L 0.9468492877661289, 0.3216775190416242 L 0.94802657785281, 0.31819114960144634 L 0.9491910309165433, 0.31470047160369774 L 0.9503426311897215, 0.3112055323148946 L 0.9514813630787744, 0.3077063790592543 L 0.9526072111643795, 0.3042030592180547 L 0.9537201602016714, 0.30069562022899227 L 0.9548201951204476, 0.2971841095855402 L 0.9559073010253732, 0.2936685748363051 L 0.9569814631961822, 0.29014906358438286 L 0.9580426670878767, 0.2866256234867146 L 0.9590908983309243, 0.283098302253441 L 0.9601261427314524, 0.2795671476472564 L 0.9611483862714402, 0.2760322074827618 L 0.9621576151089091, 0.27249352962581785 L 0.9631538155781094, 0.2689511619928965 L 0.964136974189706, 0.265405152550432 L 0.9651070776309608, 0.2618555493141717 L 0.9660641127659126, 0.25830240034852564 L 0.9670080666355557, 0.2547457537659159 L 0.9679389264580147, 0.2511856577261249 L 0.968856679628718, 0.24762216043564353 L 0.9697613137205684, 0.24405531014701828 L 0.9706528164841112, 0.24048515515819782 L 0.9715311758477, 0.23691174381187907 L 0.9723963799176608, 0.23333512449485255 L 0.9732484169784522, 0.22975534563734726 L 0.9740872754928246, 0.22617245571237485 L 0.974912944101976, 0.2225865032350732 L 0.9757254116257067, 0.21899753676204967 L 0.9765246670625691, 0.21540560489072336 L 0.9773106995900185, 0.21181075625866727 L 0.9780834985645582, 0.2082130395429496 L 0.9788430535218843, 0.20461250345947463 L 0.9795893541770274, 0.20100919676232315 L 0.9803223904244917, 0.19740316824309212 L 0.9810421523383916, 0.1937944667302342 L 0.9817486301725871, 0.1901831410883965 L 0.982441814360814, 0.18656924021775878 L 0.9831216955168155, 0.18295281305337152 L 0.9837882644344677, 0.17933390856449313 L 0.9844415120879049, 0.17571257575392704 L 0.9850814296316418, 0.1720888636573579 L 0.9857080084006935, 0.16846282134268784 L 0.9863212399106922, 0.16483449790937205 L 0.9869211158580026, 0.16120394248775372 L 0.9875076281198342, 0.15757120423839893 L 0.9880807687543512, 0.1539363323514311 L 0.9886405300007803, 0.15029937604586455 L 0.9891869042795154, 0.14666038456893846 L 0.9897198841922203, 0.14301940719544973 L 0.9902394625219296, 0.1393764932270859 L 0.9907456322331453, 0.1357316919917574 L 0.9912383864719326, 0.13208505284292996 L 0.9917177185660131, 0.1284366251589559 L 0.9921836220248543, 0.12478645834240579 L 0.9926360905397584, 0.12113460181939938 L 0.9930751179839471, 0.11748110503893643 L 0.9935006984126444, 0.11382601747222702 L 0.993912826063158, 0.11016938861202175 L 0.9943114953549563, 0.10651126797194152 L 0.9946967008897447, 0.10285170508580711 L 0.9950684374515382, 0.09919074950696848 L 0.9954267000067325, 0.09552845080763366 L 0.9957714837041718, 0.09186485857819762 L 0.9961027838752146, 0.0882000224265708 L 0.9964205960337967, 0.0845339919775072 L 0.9967249158764926, 0.0808668168719327 L 0.997015739282573, 0.07719854676627258 L 0.997293062314061, 0.07352923133177934 L 0.9975568812157856, 0.06985892025386009 L 0.9978071924154317, 0.06618766323140365 L 0.9980439925235897, 0.06251550997610776 L 0.9982672783338005, 0.058842510211805775 L 0.9984770468225992, 0.055168713673793494 L 0.998673295149556, 0.051494170108155636 L 0.9988560206573149, 0.04781892927109228 L 0.999025220871629, 0.04414304092824507 L 0.9991808935013952, 0.04046655485402343 L 0.9993230364386836, 0.036789520830930504 L 0.9994516477587677, 0.033111988648889104 L 0.9995667257201494, 0.029434008104567512 L 0.9996682687645827, 0.02575562900070517 L 0.9997562755170954, 0.02207690114543834 L 0.9998307447860072, 0.01839787435162565 L 0.9998916755629454, 0.014718598436173586 L 0.9999390670228601, 0.011039123219361941 L 0.9999729185240332, 0.007359498524169203 L 0.9999932296080892, 0.0036797741755979136 L 1.0, 0.0 L 1.1 ,0.0",
          "type": "path"
         },
         {
          "fillcolor": "rgba(244,109,67,0.75)",
          "layer": "below",
          "line": {
           "color": "rgb(150,150,150)",
           "width": 0.45
          },
          "path": "M 1.0278110916110326, 0.39192392113947055 L 1.027387283324997, 0.3930335482653897 L 1.0269622770834643, 0.3941427171058042 L 1.0265360733820008, 0.39525142636739924 L 1.026108672717569, 0.39635967475739636 L 1.0256800755885271, 0.39746746098355423 L 1.0252502824946288, 0.39857478375417044 L 1.024819293937022, 0.3996816417780832 L 1.0243871104182483, 0.40078803376467215 L 1.0239537324422427, 0.4018939584238607 L 1.023519160514334, 0.40299941446611726 L 1.0230833951412415, 0.4041044006024564 L 1.0226464368310773, 0.4052089155444406 L 1.0222082860933441, 0.406312958004182 L 1.021768943438935, 0.4074165266943434 L 1.0213284093801327, 0.40851962032814043 L 1.02088668443061, 0.40962223761934197 L 1.0204437691054267, 0.410724377282273 L 1.0199996639210318, 0.4118260380318152 L 1.019554369395262, 0.4129272185834084 L 1.0191078860473395, 0.4140279176530528 L 1.0186602143978738, 0.4151281339573097 L 1.0182113549688594, 0.41622786621330327 L 1.0177613082836763, 0.4173271131387225 L 1.017310074867088, 0.41842587345182186 L 1.0168576552452426, 0.4195241458714233 L 1.0164040499456712, 0.4206219291169179 L 1.0159492594972872, 0.42171922190826694 L 1.0154932844303857, 0.42281602296600357 L 1.0150361252766436, 0.4239123310112343 L 1.014577782569118, 0.4250081447656407 L 1.0141182568422464, 0.4261034629514804 L 1.0136575486318458, 0.42719828429158907 L 1.0131956584751116, 0.4282926075093817 L 1.0127325869106176, 0.429386431328854 L 1.012268334478315, 0.4304797544745841 L 1.0118029017195325, 0.4315725756717339 L 1.011336289176974, 0.43266489364605054 L 1.0108684973947202, 0.43375670712386794 L 1.010399526918226, 0.4348480148321082 L 1.009929378294321, 0.43593881549828345 L 1.0094580520712086, 0.43702910785049665 L 1.0089855487984654, 0.4381188906174438 L 1.00851186902704, 0.4392081625284148 L 1.0080370133092535, 0.4402969223132954 L 1.0075609821987974, 0.44138516870256844 L 1.0070837762507343, 0.4424729004273155 L 1.0066053960214965, 0.44356011621921815 L 1.0061258420688857, 0.44464681481055945 L 1.0056451149520718, 0.44573299493422575 L 1.005163215231593, 0.44681865532370785 L 1.0046801434693546, 0.44790379471310254 L 1.004195900228629, 0.4489884118371142 L 1.0037104860740533, 0.45007250543105604 L 1.0032239015716313, 0.4511560742308518 L 1.002736147288731, 0.45223911697303715 L 1.0022472237940843, 0.45332163239476114 L 1.0017571316577862, 0.4544036192337877 L 1.0012658714512945, 0.4554850762284971 L 1.0007734437474296, 0.45656600211788734 L 1.0002798491203722, 0.4576463956415759 L 0.9997850881456642, 0.4587262555398007 L 0.9992891614002078, 0.45980558055342213 L 0.9987920694622641, 0.4608843694239242 L 0.9982938129114525, 0.4619626208934161 L 0.9977943923287511, 0.4630403337046336 L 0.997293808296495, 0.4641175066009404 L 0.9967920613983758, 0.4651941383263301 L 0.996289152219441, 0.4662702276254272 L 0.9957850813460936, 0.4673457732434884 L 0.9952798493660907, 0.46842077392640463 L 0.9947734568685439, 0.46949522842070224 L 0.9942659044439175, 0.47056913547354423 L 0.9937571926840285, 0.47164249383273216 L 0.9932473221820456, 0.47271530224670727 L 0.9927362935324889, 0.473787559464552 L 0.9922241073312283, 0.4748592642359915 L 0.9917107641754842, 0.4759304153113953 L 0.9911962646638257, 0.47700101144177826 L 0.99068060939617, 0.47807105137880246 L 0.9901637989737821, 0.4791405338747786 L 0.9896458339992742, 0.48020945768266715 L 0.9891267150766043, 0.4812778215560802 L 0.9886064428110763, 0.4823456242492826 L 0.9880850178093389, 0.48341286451719373 L 0.9875624406793845, 0.4844795411153886 L 0.9870387120305492, 0.4855456528000995 L 0.9865138324735119, 0.48661119832821753 L 0.9859878026202933, 0.48767617645729383 L 0.9854606230842555, 0.48874058594554115 L 0.9849322944801011, 0.4898044255518354 L 0.9844028174238726, 0.49086769403571673 L 0.9838721925329512, 0.4919303901573916 L 0.9833404204260573, 0.4929925126777335 L 0.982807501723248, 0.4940540603582849 L 0.9822734370459184, 0.4951150319612587 L 0.981738227016799, 0.4961754262495393 L 0.9812018722599564, 0.49723524198668434 L 0.9806643734007913, 0.4982944779369259 L 0.9801257310660392, 0.4993531328651724 L 0.8910233918782173, 0.45395739351379305 L 0.891513066727992, 0.45299497994265986 L 0.8920017020545057, 0.452032038169713 L 0.8924892972879991, 0.45106856931776296 L 0.8929758518599258, 0.45010457451023517 L 0.8934613652029527, 0.4491400548711681 L 0.8939458367509611, 0.4481750115252122 L 0.8944292659390465, 0.4472094455976287 L 0.8949116522035204, 0.4462433582142879 L 0.89539299498191, 0.4452767505016685 L 0.8958732937129595, 0.44430962358685555 L 0.8963525478366302, 0.4433419785975398 L 0.8968307567941016, 0.4423738166620159 L 0.8973079200277719, 0.4414051389091813 L 0.8977840369812585, 0.44043594646853507 L 0.8982591070993989, 0.4394662404701761 L 0.8987331298282512, 0.43849602204480237 L 0.8992061046150948, 0.43752529232370924 L 0.899678030908431, 0.4365540524387883 L 0.9001489081579837, 0.43558230352252597 L 0.9006187358146999, 0.4346100467080022 L 0.9010875133307505, 0.4336372831288893 L 0.901555240159531, 0.43266401391945025 L 0.902021915755662, 0.4316902402145377 L 0.9024875395749898, 0.43071596314959265 L 0.9029521110745868, 0.4297411838606429 L 0.9034156297127531, 0.42876590348430194 L 0.9038780949490158, 0.42779012315776743 L 0.9043395062441307, 0.42681384401882017 L 0.9047998630600824, 0.4258370672058224 L 0.905259164860085, 0.4248597938577167 L 0.9057174111085827, 0.4238820251140247 L 0.9061746012712507, 0.42290376211484554 L 0.9066307348149955, 0.4219250060008549 L 0.9070858112079555, 0.42094575791330324 L 0.9075398299195022, 0.4199660189940146 L 0.90799279042024, 0.4189857903853856 L 0.9084446921820071, 0.4180050732303837 L 0.9088955346778765, 0.41702386867254604 L 0.9093453173821564, 0.416042177855978 L 0.9097940397703904, 0.4150600019253521 L 0.9102417013193587, 0.4140773420259064 L 0.9106883015070782, 0.4130941993034433 L 0.9111338398128038, 0.4121105749043283 L 0.9115783157170282, 0.4111264699754883 L 0.912021728701483, 0.4101418856644107 L 0.9124640782491392, 0.4091568231191418 L 0.912905363844208, 0.4081712834882856 L 0.9133455849721406, 0.4071852679210023 L 0.9137847411196299, 0.4061987775670071 L 0.9142228317746106, 0.4052118135765688 L 0.9146598564262596, 0.40422437710050857 L 0.9150958145649968, 0.4032364692901983 L 0.9155307056824856, 0.4022480912975595 L 0.915964529271634, 0.4012592442750622 L 0.916397284826594, 0.4002699293757231 L 0.9168289718427637, 0.39928014775310433 L 0.9172595898167867, 0.3982899005613125 L 0.9176891382465533, 0.39729918895499694 L 0.9181176166312008, 0.39630801408934857 L 0.9185450244711144, 0.3953163771200984 L 0.9189713612679273, 0.39432427920351626 L 0.9193966265245217, 0.39333172149640955 L 0.9198208197450294, 0.3923387051561217 L 0.9202439404348318, 0.39134523134053095 L 0.9206659881005613, 0.39035130120804906 L 0.9210869622501013, 0.3893569159176197 L 0.9215068623925871, 0.3883620766287173 L 0.9219256880384058, 0.38736678450134576 L 0.9223434386991981, 0.38637104069603695 L 0.9227601138878576, 0.38537484637384933 L 0.9231757131185323, 0.38437820269636686 L 0.9235902359066246, 0.3833811108256972 L 0.924003681768792, 0.3823835719244708 L 0.9244160502229478, 0.3813855871558393 L 0.9248273407882618, 0.38038715768347436 L 0.9252375529851601, 0.3793882846715659 L 0.9256466863353267, 0.37838896928482113 L 0.9260547403617033, 0.3773892126884633 L 0.9264617145884904, 0.3763890160482298 L 0.9268676085411471, 0.37538838053037127 L 0.9272724217463926, 0.37438730730165015 L 0.9276761537322059, 0.3733857975293391 L 0.928078804027827, 0.37238385238121996 L 0.928480372163757, 0.37138147302558217 L 0.928880857671759, 0.37037866063122127 L 0.9292802600848582, 0.36937541636743815 L 0.929678578937343, 0.3683717414040369 L 0.9300758137647649, 0.36736763691132396 L 0.9304719641039398, 0.3663631040601066 L 0.930867029492948, 0.36535814402169153 L 0.9312610094711347, 0.36435275796788374 L 0.9316539035791108, 0.3633469470709847 L 0.9320457113587535, 0.3623407125037913 L 0.9324364323532065, 0.36133405543959474 L 0.9328260661068809, 0.3603269770521785 L 0.9332146121654552, 0.35931947851581747 L 0.9336020700758766, 0.3583115610052765 L 0.9339884393863609, 0.3573032256958088 L 0.9343737196463932, 0.35629447376315504 L 1.0278110916110326 ,0.39192392113947055",
          "type": "path"
         },
         {
          "fillcolor": "rgba(253,174,97,0.75)",
          "layer": "below",
          "line": {
           "color": "rgb(150,150,150)",
           "width": 0.45
          },
          "path": "M 0.9801254173130189, 0.49935374869623306 L 0.9742456521567747, 0.5107302705475962 L 0.96823384298827, 0.5220375707668621 L 0.9620908046157634, 0.5332741168234151 L 0.9558173696336137, 0.5444383857762786 L 0.949414388309435, 0.5555288644805251 L 0.9428827284688545, 0.5665440497923604 L 0.9362232753778933, 0.5774824487728519 L 0.9294369316229821, 0.5883425788902724 L 0.9225246169886288, 0.5991229682210356 L 0.9154872683327566, 0.6098221556491921 L 0.9083258394597272, 0.6204386910644614 L 0.9010413009910667, 0.6309711355587719 L 0.8936346402339135, 0.6414180616212831 L 0.8861068610472037, 0.6517780533318621 L 0.8784589837056135, 0.6620497065529906 L 0.8706920447612764, 0.6722316291200732 L 0.862807096903295, 0.682322441030125 L 0.8548052088150649, 0.6923207746288086 L 0.8466874650294308, 0.7022252747957998 L 0.8384549657816956, 0.7120345991284522 L 0.8301088268604998, 0.7217474181237401 L 0.821650179456593, 0.7313624153584517 L 0.8130801700095202, 0.7408782876676101 L 0.804399960052237, 0.7502937453210973 L 0.7956107260536842, 0.7596075121984573 L 0.7867136592593337, 0.768818325961855 L 0.7777099655297346, 0.7779249382271655 L 0.7686008651770766, 0.7869261147331745 L 0.7593875927997958, 0.7958206355088637 L 0.7500713971152443, 0.8046072950387573 L 0.7406535407904447, 0.8132849024263129 L 0.7311353002709562, 0.8218522815553286 L 0.7215179656078708, 0.8303082712493471 L 0.7118028402829685, 0.8386517254290359 L 0.701991241032048, 0.8468815132675204 L 0.6920844976664656, 0.8549965193436497 L 0.6820839528928987, 0.862995643793176 L 0.6719909621313622, 0.8708778024578225 L 0.661806893331503, 0.8786419270322267 L 0.6515331267871955, 0.88628696520873 L 0.6411710549494629, 0.8938118808200041 L 0.6307220822377531, 0.9012156539794863 L 0.6201876248495906, 0.9084972812196103 L 0.6095691105686328, 0.9156557756278099 L 0.5988679785711564, 0.9226901669802802 L 0.5880856792309976, 0.9295995018734768 L 0.577223673922979, 0.9363828438533347 L 0.56628343482484, 0.94303927354219 L 0.5552664447177067, 0.949567888763388 L 0.5441741967851249, 0.9559678046635589 L 0.5330081944106801, 0.9622381538325462 L 0.5217699509742381, 0.9683780864209708 L 0.51046098964683, 0.9743867702554151 L 0.49908284318420837, 0.9802633909512112 L 0.4876370537191071, 0.9860071520228181 L 0.47612517255222886, 0.9916172749917734 L 0.4645487599419894, 0.9970929994922039 L 0.4529093848930491, 1.002433583373881 L 0.4412086249436583, 1.0076383028028095 L 0.429448065951847, 1.0127064523593292 L 0.4176293018804848, 1.0176373451337264 L 0.4057539345812446, 1.022430312819333 L 0.3938235735774969, 1.0270847058031047 L 0.3818398358461622, 1.0315998932536665 L 0.3698043455985554, 1.0359752632068124 L 0.3577187340602496, 1.0402102226484475 L 0.34558463924998706, 1.0443041975949614 L 0.3334037057576722, 1.0482566331710244 L 0.32117758452147205, 1.0520669936847904 L 0.30890793260405786, 1.0557347627005027 L 0.2965964129680145, 1.0592594431084894 L 0.28424469425045207, 1.0626405571925377 L 0.2718544505368486, 1.065877646694642 L 0.2594273611341518, 1.0689702728771135 L 0.24696511034317611, 1.0719180165820439 L 0.23446938723032176, 1.0747204782881163 L 0.22194188539864668, 1.0773772781647541 L 0.20938430275832534, 1.0798880561236013 L 0.19679834129652385, 1.0822524718673259 L 0.18418570684672034, 1.0844702049357438 L 0.1715481088575063, 1.0865409547492508 L 0.15888726016089688, 1.0884644406495618 L 0.1462048767401837, 1.0902404019377505 L 0.1335026774973582, 1.0918685979095821 L 0.1207823840201417, 1.0933488078881375 L 0.10804572034865141, 1.0946808312537226 L 0.09529441274173162, 1.09586448747106 L 0.08253018944298773, 1.0968996161137559 L 0.06975478044654786, 1.0977860768860452 L 0.056969917262589514, 1.0985237496418063 L 0.04417733268265975, 1.0991125344008437 L 0.03137876054482275, 1.0995523513624401 L 0.018575935498663366, 1.0998431409161715 L 0.005770592770182748, 1.0999848636499872 L -0.0070355320733841145, 1.0999775003555503 L -0.019840703358799294, 1.099821052030842 L -0.032643185542064995, 1.0995155398800267 L -0.04544124344364914, 1.0990610053105765 L -0.05823314248366368, 1.098457509927661 L -0.05293922043969425, 0.9985977362978736 L -0.0413102213124083, 0.9991463684641604 L -0.029675623220059084, 0.9995595817091151 L -0.0180370030534539, 0.9998373200280382 L -0.006395938248531013, 0.9999795457777729 L 0.005245993427438861, 0.9999862396818064 L 0.01688721408969397, 0.9998574008328832 L 0.02852614594983886, 0.9995930466931272 L 0.040161211529690675, 0.999193213091676 L 0.05179083387508137, 0.9986579542198238 L 0.06341343676958895, 0.9979873426236774 L 0.07502744494817067, 0.9971814691943234 L 0.0866312843106651, 0.9962404431555089 L 0.09822338213513764, 0.9951643920488387 L 0.1098021672910379, 0.9939534617164885 L 0.1213660704521438, 0.9926078162814381 L 0.1329135243092579, 0.9911276381252278 L 0.14444296378263352, 0.989513127863238 L 0.15595282623409662, 0.9877645043175006 L 0.16744155167883665, 0.9858820044870398 L 0.17890758299683984, 0.9838658835157508 L 0.1903493661439321, 0.9817164146578192 L 0.20176535036240606, 0.9794338892406855 L 0.2131539883912016, 0.9770186166255602 L 0.22451373667561464, 0.9744709241654944 L 0.23584305557650165, 0.9717911571610123 L 0.24714040957895322, 0.9689796788133109 L 0.25840426750041096, 0.9660368701750343 L 0.26963310269819496, 0.9629631300986267 L 0.2808253932764162, 0.9597588751822752 L 0.2919796222922473, 0.9564245397134458 L 0.30309427796152016, 0.9529605756100221 L 0.31416785386362456, 0.9493674523590558 L 0.3251988491456814, 0.945645656953134 L 0.33618576872595946, 0.9417956938243749 L 0.3471271234965111, 0.9378180847760603 L 0.3580214305249972, 0.9337133689119133 L 0.3688672132556769, 0.92948210256303 L 0.3796630017095316, 0.9251248592124786 L 0.3904073326834972, 0.9206422294175719 L 0.40109874994878025, 0.9160348207298268 L 0.41173580444822644, 0.9113032576126192 L 0.4223170544927176, 0.9064481813565489 L 0.4328410659565717, 0.9014702499925212 L 0.4433064124719155, 0.8963701382025618 L 0.4537116756220076, 0.8911485372283737 L 0.46405544513348174, 0.88580615477765 L 0.47433631906748913, 0.8803437149281552 L 0.4845529040097092, 0.8747619580295873 L 0.4947038152592044, 0.8690616406032353 L 0.504787677016097, 0.8632435352394436 L 0.5148031225680363, 0.8573084304929 L 0.5247487944754354, 0.8512571307757587 L 0.5346233447554524, 0.8450904562486152 L 0.5444254350646875, 0.8388092427093455 L 0.5541537368805752, 0.8324143414798271 L 0.5638069316814459, 0.8259066192905548 L 0.57338371112523, 0.8192869581631693 L 0.5828827772267844, 0.8125562552909127 L 0.592302842533814, 0.8057154229170271 L 0.6016426303013663, 0.7987653882111151 L 0.6109008746648747, 0.791707093143475 L 0.620076320811726, 0.7845414943574326 L 0.6291677251513323, 0.7772695630396815 L 0.63817385548368, 0.7698922847886548 L 0.647093491166335, 0.7624106594809417 L 0.6559254232798826, 0.7548257011357701 L 0.6646684547917783, 0.7471384377775714 L 0.673321400718586, 0.7393499112966481 L 0.6818830882865856, 0.7314611773079611 L 0.6903523570907234, 0.7234733050080578 L 0.6987280592518877, 0.7153873770301586 L 0.7070090595724859, 0.7072044892974231 L 0.7151942356903033, 0.6989257508744136 L 0.723282478230622, 0.6905522838167794 L 0.7312726909565791, 0.6820852230191793 L 0.7391637909177455, 0.6735257160614637 L 0.7469547085969027, 0.6648749230531379 L 0.7546443880549998, 0.6561340164761273 L 0.7622317870742688, 0.6473041810258656 L 0.7697158772994825, 0.638386613450727 L 0.7770956443773317, 0.629382522389826 L 0.7843700880939045, 0.6202931282092045 L 0.7915382225102512, 0.6111196628364302 L 0.7985990760960122, 0.6018633695936277 L 0.8055516918610942, 0.5925255030289656 L 0.8123951274853758, 0.583107328746621 L 0.8191284554464242, 0.5736101232352472 L 0.8257507631452065, 0.5640351736949648 L 0.8322611530297787, 0.5543837778629018 L 0.8386587427169352, 0.5446572438373051 L 0.8449426651118018, 0.5348568899002476 L 0.8511120685253575, 0.5249840443389563 L 0.8571661167898676, 0.5150400452657822 L 0.8631039893722136, 0.505026240436841 L 0.8689248814851034, 0.4949439870693441 L 0.8746280041961484, 0.48479465165765007 L 0.8802125845347908, 0.47457960978805636 L 0.8856778655970678, 0.4643002459523602 L 0.891023106648199, 0.45395795336021183 L 0.9801254173130189 ,0.49935374869623306",
          "type": "path"
         },
         {
          "fillcolor": "rgba(254,224,139,0.75)",
          "layer": "below",
          "line": {
           "color": "rgb(150,150,150)",
           "width": 0.45
          },
          "path": "M -0.058233832664860916, 1.0984574733384818 L -0.07956136026086637, 1.0971189497741076 L -0.10085886132858224, 1.095366372540029 L -0.12211829817211882, 1.093200403060457 L -0.1433316474610592, 1.0906218587742036 L -0.1644909032584705, 1.0876317128261812 L -0.18558808004235194, 1.0842310937001363 L -0.20661521571937713, 1.0804212847927588 L -0.22756437462979645, 1.0762037239293265 L -0.24842765054236146, 1.0715800028210691 L -0.2691971696381437, 1.066551866464455 L -0.2898650934821205, 1.0611212124826277 L -0.31042362198140805, 1.055290090409241 L -0.33086499632902344, 1.049060700914964 L -0.351181501932065, 1.042435394976945 L -0.37136547132320585, 1.0354166729915513 L -0.3914092870544045, 1.0280071838307177 L -0.4113053845717355, 1.0202097238422583 L -0.4310462550702584, 1.0120272357945244 L -0.45062444832784865, 1.0034628077657997 L -0.4700325755169175, 0.994519671978857 L -0.48926331199296125, 0.9852012035811155 L -0.5083094000588908, 0.975510919370855 L -0.5271636517040905, 0.9654524764699755 L -0.5458189513171808, 0.9550296709437949 L -0.5642682583714578, 0.9442464363684101 L -0.5825046100819912, 0.9331068423461634 L -0.6005211240333888, 0.9216150929697687 L -0.6183110007772236, 0.9097755252356861 L -0.6358675263981528, 0.8975926074073329 L -0.6531840750477567, 0.8850709373287583 L -0.6702541114451366, 0.8722152406894129 L -0.6870711933433393, 0.8590303692406689 L -0.7036289739606642, 0.8455212989647648 L -0.7199212043759451, 0.8316931281968662 L -0.7359417358868988, 0.8175510757009488 L -0.7516845223306516, 0.8031004787002309 L -0.7671436223655651, 0.788346790862904 L -0.782313201713505, 0.7732955802439098 L -0.7971875353617016, 0.7579525271835538 L -0.8117610097233756, 0.7423234221637398 L -0.8260281247563118, 0.7264141636226342 L -0.8399834960385769, 0.7102307557285944 L -0.853621856800609, 0.6937793061141856 L -0.8669380599128977, 0.6770660235711589 L -0.8799270798285175, 0.6600972157072457 L -0.8925840144797723, 0.6428792865656614 L -0.9049040871282419, 0.625418734208213 L -0.9168826481675252, 0.6077221482629265 L -0.9285151768780079, 0.5897962074371129 L -0.939797283132984, 0.5716476769968213 L -0.9507247090554951, 0.5532834062136188 L -0.9612933306252568, 0.5347103257796699 L -0.9714991592350667, 0.5159354451920887 L -0.9813383431961094, 0.4969658501075454 L -0.9908071691915863, 0.47780869966813644 L -0.9999020636781256, 0.4584712237995158 L -1.00861959423444, 0.43896072048231577 L -1.0169564708567262, 0.41928455299788103 L -1.024909547200315, 0.39945014714936067 L -1.0324758217671037, 0.3794649884592043 L -1.0396524390383262, 0.35933661934411804 L -1.0464366905522262, 0.33907263626855033 L -1.0528260159262346, 0.31868068687777795 L -1.0588180038232589, 0.29816846711168093 L -1.0644103928617255, 0.27754371830028424 L -1.0696010724690255, 0.2568142242421764 L -1.0743880836780475, 0.2359878082668948 L -1.0787696198664942, 0.21507233028239536 L -1.0827440274387017, 0.19407568380871468 L -1.0863098064497092, 0.1730057929989495 L -1.0894656111713392, 0.15187060964867535 L -1.0922102506000764, 0.13067811019493014 L -1.0945426889065537, 0.10943629270590097 L -1.0964620458264744, 0.08815317386244383 L -1.0979675969928266, 0.0668367859325847 L -1.0990587742092575, 0.04549517374013047 L -1.099735165664513, 0.024136391628548682 L -1.0999965160878546, 0.00276850042124917 L -1.0998427268453999, -0.018600435620576897 L -1.099273855977346, -0.039962351841417845 L -1.0982901181760656, -0.06130918623504869 L -1.0968918847050821, -0.08263288248713851 L -1.0950796832589536, -0.10392539301571214 L -1.0928541977641215, -0.12517868200831375 L -1.0902162681207956, -0.1463847284547316 L -1.0871668898859752, -0.16753552917413111 L -1.083707213897724, -0.1886231018354662 L -1.0798385458408446, -0.2096394879700149 L -1.0755623457541106, -0.23057675597491428 L -1.0708802274792466, -0.2514270041065537 L -1.0657939580518638, -0.2721823634627012 L -1.0603054570345782, -0.29283500095223325 L -1.0544167957925665, -0.3133771222513493 L -1.0481301967118315, -0.3338009747451583 L -1.0414480323604702, -0.35409885045352113 L -1.034372824593266, -0.3742630889400512 L -1.0269072435999378, -0.39428608020316686 L -1.0190541068974075, -0.41416026754811613 L -1.0108163782664679, -0.4338781504388771 L -0.9189239802422435, -0.394434682217161 L -0.9264128244521886, -0.376509334134651 L -0.9335520396363071, -0.35844189109378805 L -0.9403389314484236, -0.3402391717636829 L -0.9467709385095183, -0.32190804586683736 L -0.9528456333743921, -0.3034554315865075 L -0.9585607234477878, -0.28488829295577206 L -0.9639140518496164, -0.2662136372293029 L -0.9689035982289671, -0.24743851223881924 L -0.9735274795265878, -0.22857000373323064 L -0.977783950685555, -0.20961523270446752 L -0.9816714053098587, -0.19058135270001353 L -0.9851883762706581, -0.17147554712315108 L -0.9883335362599773, -0.15230502652193736 L -0.9911056982916324, -0.13307702586793782 L -0.9935038161492014, -0.11379880182573976 L -0.9955269847808668, -0.09447763001428376 L -0.9971744406409836, -0.07512080226103501 L -0.9984455619782414, -0.05573562385004426 L -0.9993398690703145, -0.03632941076492531 L -0.999857024404909, -0.016909486927797177 L -0.9999968328071405, 0.0025168185647719723 L -0.9997592415131934, 0.021942174207771527 L -0.999144340190234, 0.04135924885466406 L -0.9981523609025695, 0.06076071448416791 L -0.9967836780240676, 0.08013924896585801 L -0.9950388080968668, 0.09948753882354633 L -0.9929184096364331, 0.11879828199539104 L -0.9904232828830356, 0.13806419058970484 L -0.9875543694997356, 0.15727799363540862 L -0.9843127522170014, 0.17643243982610424 L -0.9806996544240856, 0.19552030025672304 L -0.9767164397073159, 0.21453437115172252 L -0.9723646113354776, 0.2334674765837967 L -0.9676458116924775, 0.25231247118207656 L -0.962561821657508, 0.2710622428288008 L -0.9571145599329404, 0.2897097153434345 L -0.9513060823202055, 0.30824785115322756 L -0.9451385809439329, 0.32666965394919817 L -0.9386143834246397, 0.34496817132654933 L -0.9317359520002861, 0.3631364974085097 L -0.9245058825970237, 0.3811677754526191 L -0.9169269038494908, 0.39905520043846887 L -0.9090018760710232, 0.41679202163592344 L -0.9007337901741693, 0.43437154515285126 L -0.8921257665419176, 0.4517871364614049 L -0.8831810538500605, 0.4690322229018988 L -0.8739030278411425, 0.4861002961633363 L -0.8642951900504501, 0.5029849147396535 L -0.8543611664845309, 0.5196797063607466 L -0.8441047062527344, 0.5361783703973754 L -0.8335296801522956, 0.552474680239024 L -0.8226400792074926, 0.5685624856438299 L -0.8114400131634293, 0.5844357150596922 L -0.7999337089350158, 0.6000883779156778 L -0.7881255090117252, 0.6155145668828716 L -0.7760198698187354, 0.630708460103805 L -0.7636213600350699, 0.6456643233896312 L -0.7509346588693743, 0.6603765123842129 L -0.7379645542939778, 0.6748394746943088 L -0.7247159412379105, 0.6890477519850489 L -0.71119381973955, 0.7029959820399179 L -0.6974032930596046, 0.7166789007844582 L -0.6833495657551378, 0.7300913442729372 L -0.6690379417153625, 0.7432282506372261 L -0.65447382215995, 0.7560846619971511 L -0.6396627036006037, 0.7686557263316043 L -0.6246101757666721, 0.7809366993096989 L -0.6093219194955787, 0.7929229460812844 L -0.5938037045888697, 0.8046099430261439 L -0.5780613876346843, 0.8159932794612117 L -0.562100909797476, 0.827068659305169 L -0.5459282945758079, 0.8378319026997897 L -0.5295496455290828, 0.8482789475874212 L -0.5129711439740525, 0.8584058512440091 L -0.49619904665198256, 0.8682087917670862 L -0.47923968336735495, 0.8776840695181595 L -0.4620994545989916, 0.886828108518959 L -0.44478482908451017, 0.895637457801014 L -0.4273023413790159, 0.9041087927080518 L -0.4096585893889533, 0.9122389161507269 L -0.39186023188205305, 0.920024759813204 L -0.373913985974305, 0.9274633853111438 L -0.35582662459491315, 0.9345519853006523 L -0.3376049739301871, 0.9412878845377739 L -0.3192559108473318, 0.9476685408881317 L -0.3007863602991122, 0.9536915462863308 L -0.2822032927103709, 0.9593546276447644 L -0.2635137213473822, 0.9646556477114796 L -0.24472469967103974, 0.9695926058767772 L -0.22584331867487403, 0.9741636389282445 L -0.20687670420890586, 0.9783670217539331 L -0.18783201429034282, 0.982201167993417 L -0.16871643640213813, 0.9856646306364875 L -0.1495371847804277, 0.9887561025692555 L -0.130301497691872, 0.9914744170674578 L -0.11101663470192619, 0.9938185482367791 L -0.09168987393507476, 0.9957876114000265 L -0.07232850932806033, 0.9973808634310068 L -0.052939847877146284, 0.9985977030349833 L -0.058233832664860916 ,1.0984574733384818",
          "type": "path"
         },
         {
          "fillcolor": "rgba(255,255,191,0.75)",
          "layer": "below",
          "line": {
           "color": "rgb(150,150,150)",
           "width": 0.45
          },
          "path": "M -1.0108161056525866, -0.43387878555345294 L -1.0090856311840606, -0.43788832930082344 L -1.0073392523726703, -0.4418909714276474 L -1.0055769967433419, -0.4458866488477101 L -1.0037988920712384, -0.44987529858456865 L -1.0020049663813213, -0.45385685777254436 L -1.00019524794791, -0.45783126365771387 L -0.9983697652942354, -0.46179845359889793 L -0.9965285471919907, -0.4657583650686488 L -0.9946716226608773, -0.4697109356542358 L -0.9927990209681482, -0.47365610305862904 L -0.9909107716281464, -0.47759380510148114 L -0.9890069044018398, -0.48152397972010735 L -0.9870874492963516, -0.4854465649704638 L -0.9851524365644881, -0.4893614990281236 L -0.9832018967042618, -0.49326872018925166 L -0.98123586045841, -0.49716816687157667 L -0.9792543588139111, -0.5010597776153621 L -0.9772574230014955, -0.5049434910843749 L -0.9752450844951543, -0.5088192460668518 L -0.9732173750116422, -0.5126869814764646 L -0.9711743265099781, -0.5165466363532828 L -0.9691159711909416, -0.5203981498647342 L -0.9670423414965649, -0.5242414613065638 L -0.9649534701096221, -0.5280765101037905 L -0.9628493899531139, -0.5319032358116622 L -0.960730134189748, -0.535721578116608 L -0.9585957362214179, -0.5395314768371888 L -0.9564462296886745, -0.5433328719250469 L -0.9542816484701978, -0.5471257034658508 L -0.9521020266822617, -0.5509099116802402 L -0.9499073986781967, -0.5546854369247688 L -0.9476977990478486, -0.5584522196928434 L -0.9454732626170329, -0.5622102006156624 L -0.9432338244469862, -0.5659593204631514 L -0.9409795198338137, -0.5696995201448968 L -0.9387103843079325, -0.5734307407110766 L -0.9364264536335121, -0.57715292335339 L -0.9341277638079102, -0.5808660094059847 L -0.9318143510611057, -0.5845699403463803 L -0.9294862518551276, -0.5882646577963924 L -0.9271435028834801, -0.5919501035230506 L -0.924786141070565, -0.5956262194395183 L -0.9224142035710985, -0.5992929476060072 L -0.9200277277695263, -0.6029502302306903 L -0.917626751279435, -0.6065980096706137 L -0.9152113119429582, -0.610236228432604 L -0.9127814478301804, -0.6138648291741755 L -0.9103371972385373, -0.6174837547044332 L -0.9078785986922117, -0.6210929479849744 L -0.9054056909415269, -0.6246923521307881 L -0.902918512962335, -0.6282819104111511 L -0.9004171039554042, -0.6318615662505223 L -0.897901503345799, -0.6354312632294341 L -0.8953717507822604, -0.6389909450853823 L -0.8928278861365797, -0.6425405557137126 L -0.8902699495029718, -0.6460800391685044 L -0.8876979811974411, -0.649609339663453 L -0.8851120217571481, -0.653128401572749 L -0.8825121119397688, -0.6566371694319544 L -0.8798982927228536, -0.6601355879388776 L -0.8772706053031808, -0.6636236019544446 L -0.8746290910961072, -0.6671011565035677 L -0.8719737917349161, -0.6705681967760129 L -0.8693047490701599, -0.6740246681272626 L -0.8666220051690018, -0.677470516079378 L -0.8639256023145518, -0.6809056863218568 L -0.8612155830052008, -0.6843301247124901 L -0.8584919899539504, -0.6877437772782148 L -0.8557548660877398, -0.6911465902159648 L -0.8530042545467696, -0.6945385098935191 L -0.8502401986838216, -0.697919482850347 L -0.8474627420635752, -0.7012894557984503 L -0.8446719284619212, -0.7046483756232035 L -0.8418678018652718, -0.7079961893841912 L -0.8390504064698668, -0.7113328443160427 L -0.8362197866810779, -0.7146582878292623 L -0.8333759871127081, -0.7179724675110597 L -0.8305190525862888, -0.7212753311261749 L -0.8276490281303737, -0.7245668266177028 L -0.8247659589798282, -0.727846902107912 L -0.8218698905751175, -0.7311155058990642 L -0.8189608685615896, -0.7343725864742278 L -0.8160389387887559, -0.7376180924980903 L -0.8131041473095697, -0.7408519728177673 L -0.8101565403796988, -0.7440741764636088 L -0.8071961644567971, -0.7472846526500029 L -0.804223066199773, -0.7504833507761752 L -0.801237292468053, -0.7536702204269875 L -0.7982388903208435, -0.7568452113737317 L -0.7952279070163892, -0.7600082735749217 L -0.7922043900112287, -0.763159357177082 L -0.7891683869594455, -0.7662984125155337 L -0.7861199457119177, -0.7694253901151766 L -0.7830591143155633, -0.7725402406912701 L -0.7799859410125838, -0.7756429151502091 L -0.7769004742397025, -0.7787333645902977 L -0.7738027626274024, -0.7818115403025208 L -0.7706928549991591, -0.7848773937713109 L -0.767570800370671, -0.7879308766753133 L -0.69779163670061, -0.7163007969775574 L -0.7006298681810537, -0.7135249034284644 L -0.7034570569340022, -0.7107377639113824 L -0.7062731583997295, -0.7079394223548161 L -0.7090781281932579, -0.7051299228638264 L -0.7118719221050575, -0.7023093097193365 L -0.7146544961017433, -0.6994776273774332 L -0.7174258063267686, -0.6966349204686669 L -0.720185809101117, -0.6937812337973472 L -0.7229344609239902, -0.6909166123408379 L -0.725671718473494, -0.688041101248847 L -0.7283975386073208, -0.6851547458427159 L -0.73111187836343, -0.6822575916147047 L -0.7338146949607246, -0.6793496842272753 L -0.7365059457997261, -0.6764310695123716 L -0.7391855884632451, -0.6735017934706975 L -0.7418535807170508, -0.6705619022709911 L -0.7445098805105359, -0.6676114422492979 L -0.7471544459773795, -0.6646504599082401 L -0.7497872354362074, -0.6616790019162836 L -0.7524082073912487, -0.6586971151070025 L -0.7550173205329898, -0.6557048464783408 L -0.7576145337388255, -0.6527022431918724 L -0.7601998060737071, -0.6496893525720566 L -0.762773096790788, -0.6466662221054933 L -0.7653343653320652, -0.6436328994401738 L -0.7678835713290192, -0.6405894323847304 L -0.7704206746032501, -0.637535868907682 L -0.7729456351671105, -0.634472257136679 L -0.775458413224336, -0.6313986453577446 L -0.7779589691706724, -0.6283150820145134 L -0.7804472635945002, -0.6252216157074679 L -0.7829232572774553, -0.6221182951931727 L -0.7853869111950471, -0.6190051693835061 L -0.7878381865172743, -0.615882287344889 L -0.7902770446092362, -0.6127496982975114 L -0.7927034470317418, -0.6096074516145571 L -0.7951173555419155, -0.6064555968214251 L -0.7975187320938006, -0.6032941835949496 L -0.7999075388389577, -0.600123261762616 L -0.8022837381270624, -0.5969428813017766 L -0.8046472925064982, -0.5937530923388626 L -0.8069981647249465, -0.5905539451485936 L -0.8093363177299743, -0.5873454901531858 L -0.8116617146696179, -0.5841277779215569 L -0.8139743188929639, -0.5809008591685294 L -0.8162740939507263, -0.5776647847540309 L -0.818561003595822, -0.5744196056822929 L -0.8208350117839409, -0.5711653731010464 L -0.8230960826741153, -0.5679021383007165 L -0.8253441806292833, -0.564629952713613 L -0.8275792702168521, -0.561348867913121 L -0.8298013162092549, -0.5580589356128868 L -0.8320102835845075, -0.5547602076660036 L -0.8342061375267591, -0.5514527360641942 L -0.836388843426842, -0.5481365729369911 L -0.8385583668828167, -0.5448117705509156 L -0.8407146737005136, -0.541478381308653 L -0.8428577298940728, -0.5381364577482277 L -0.8449875016864795, -0.5347860525421748 L -0.847103955510096, -0.5314272184967094 L -0.849207058007191, -0.5280600085508951 L -0.8512967760304655, -0.524684475775809 L -0.853373076643575, -0.5213006733737059 L -0.8554359271216487, -0.5179086546771788 L -0.8574852949518056, -0.5145084731483195 L -0.8595211478336662, -0.5111001823778749 L -0.8615434536798623, -0.507683836084403 L -0.8635521806165424, -0.5042594881134261 L -0.8655472969838742, -0.5008271924365819 L -0.8675287713365434, -0.4973870031507734 L -0.8694965724442495, -0.49393897447731533 L -0.871450669292198, -0.49048316076108067 L -0.873391031081589, -0.48701961646964365 L -0.8753176272301034, -0.4835483961924202 L -0.8772304273723837, -0.4800695546398095 L -0.8791294013605134, -0.47658314664233065 L -0.8810145192644923, -0.4730892271497583 L -0.8828857513727073, -0.4695878512302571 L -0.8847430681924019, -0.46607907406951327 L -0.8865864404501402, -0.4625629509698652 L -0.8884158390922686, -0.45903953734943165 L -0.8902312352853736, -0.45550888874123824 L -0.8920326004167364, -0.4519710607923424 L -0.8938199060947835, -0.448426109262956 L -0.8955931241495346, -0.4448740900255669 L -0.8973522266330468, -0.44131505906405794 L -0.8990971858198543, -0.43774907247282485 L -0.9008279742074058, -0.4341761864558919 L -0.9025445645164983, -0.43059645732602636 L -0.9042469296917065, -0.4270099415038507 L -0.9059350429018096, -0.42341669551695343 L -0.9076088775402139, -0.4198167759989981 L -0.9092684072253726, -0.41621023968883075 L -0.9109136058012011, -0.41259714342958576 L -0.9125444473374893, -0.40897754416778964 L -0.9141609061303108, -0.4053514989524637 L -0.9157629567024275, -0.4017190649342249 L -0.9173505738036913, -0.39808029936438494 L -0.9189237324114422, -0.39443525959404807 L -1.0108161056525866 ,-0.43387878555345294",
          "type": "path"
         },
         {
          "fillcolor": "rgba(230,245,152,0.75)",
          "layer": "below",
          "line": {
           "color": "rgb(150,150,150)",
           "width": 0.45
          },
          "path": "M -0.767570305298949, -0.7879313589541151 L -0.7612684594282708, -0.7940216197810406 L -0.7549182921753098, -0.8000614802245598 L -0.7485202066158214, -0.8060505569055877 L -0.7420746088671673, -0.8119884696685298 L -0.7355819080625363, -0.8178748416054125 L -0.7290425163249772, -0.8237092990798062 L -0.7224568487412358, -0.8294914717505438 L -0.7158253233354105, -0.8352209925952263 L -0.7091483610424147, -0.8408974979335216 L -0.7024263856812639, -0.846520627450245 L -0.695659823928167, -0.8520900242182347 L -0.688849105289448, -0.8576053347210051 L -0.6819946620742806, -0.8630662088751871 L -0.675096929367249, -0.8684723000527489 L -0.6681563450007298, -0.8738232651029989 L -0.6611733495271017, -0.8791187643743666 L -0.6541483861907808, -0.8843584617359622 L -0.6470819009000857, -0.8895420245989123 L -0.639974342198934, -0.8946691239374711 L -0.632826161238371, -0.8997394343099048 L -0.6256378117479323, -0.9047526338791498 L -0.6184097500068447, -0.9097084044332403 L -0.6111424348150625, -0.9146064314055076 L -0.6038363274641461, -0.9194464038945461 L -0.5964918917079806, -0.9242280146839497 L -0.5891095937333424, -0.9289509602618088 L -0.581689902130303, -0.9336149408399795 L -0.5742332878624893, -0.938219660373111 L -0.5667402242371871, -0.9427648265774361 L -0.5592111868752992, -0.9472501509493252 L -0.551646653681155, -0.9516753487835985 L -0.5440471048121758, -0.9560401391915978 L -0.5364130226483963, -0.9603442451190153 L -0.5287448917618465, -0.9645873933634803 L -0.5210431988857928, -0.9687693145919003 L -0.5133084328838432, -0.9728897433575571 L -0.5055410847189166, -0.9769484181169553 L -0.49774164742207877, -0.9809450812464249 L -0.48991061606124775, -0.9848794790584727 L -0.48204848770976927, -0.9887513618178864 L -0.4741557614148648, -0.9925604837575845 L -0.46623293816595435, -0.996306603094219 L -0.4582805208628593, -0.9999894820435196 L -0.45029901428387603, -1.0036088868353896 L -0.4422889250537381, -1.0071645877287432 L -0.4342507616114582, -1.010656359026088 L -0.42618503417805464, -1.0140839790878518 L -0.418092254724165, -1.017447230346451 L -0.4099729369375496, -1.0207458993201002 L -0.40182759619048436, -1.0239797766263634 L -0.3936567495070482, -1.0271486569954444 L -0.38546091553030504, -1.0302523392832161 L -0.3772406144893826, -1.0332906264839883 L -0.3689963681664515, -1.0362633257430125 L -0.3607286998636047, -1.039170248368723 L -0.3524381343696414, -1.0420112098447152 L -0.34412519792675583, -1.0447860298414557 L -0.33579041819713457, -1.0474945322277314 L -0.3274343242294618, -1.050136545081827 L -0.3190574464253422, -1.0527119007024381 L -0.3106603165056279, -1.055220435619318 L -0.3022434674766716, -1.0576619906036513 L -0.29380743359649286, -1.0600364106781628 L -0.2853527503408665, -1.0623435451269534 L -0.27687995436933294, -1.0645832475050678 L -0.26838958349113423, -1.0667553756477892 L -0.25988217663107666, -1.0688597916796636 L -0.2513582737953222, -1.070896362023252 L -0.2428184160371122, -1.0728649574076077 L -0.2342631454224239, -1.0747654528764834 L -0.22569300499556283, -1.0765977277962615 L -0.21710853874469332, -1.078361665863612 L -0.20851029156730883, -1.0800571551128746 L -0.19989880923564374, -1.0816840879231662 L -0.19127463836203543, -1.0832423610252107 L -0.18263832636421753, -1.084731875507896 L -0.1739904214305861, -1.0861525368245508 L -0.16533147248539293, -1.0875042547989464 L -0.15666202915390753, -1.0887869436310211 L -0.14798264172752865, -1.0900005219023257 L -0.13929386112885478, -1.0911449125811912 L -0.1305962388767144, -1.09222004302762 L -0.12189032705115832, -1.093225844997895 L -0.11317667825841667, -1.0941622546489123 L -0.10445584559582215, -1.0950292125422325 L -0.09572838261670234, -1.0958266636478555 L -0.08699484329524304, -1.0965545573477118 L -0.07825578199132481, -1.097212847438876 L -0.06951175341533507, -1.0978014921365 L -0.060763312592957947, -1.0983204540764644 L -0.052011014829943185, -1.0987697003177506 L -0.043255415676862086, -1.0991492023445324 L -0.03449707089383817, -1.0994589360679852 L -0.025736536415274323, -1.0996988818278144 L -0.016974368314563965, -1.0998690243935056 L -0.008211122768794411, -1.0999693529652887 L 0.0005526439765564092, -1.0999998611748256 L 0.009316375642927498, -1.0999605470856124 L 0.018079515953984496, -1.0998514131931048 L 0.01643592359453136, -0.9998649210846406 L 0.008469432402661362, -0.9999641337141931 L 0.0005024036150512811, -0.9999998737952959 L -0.007464657062540373, -0.9999721390593533 L -0.015431243922330877, -0.9998809312668232 L -0.023396851286613018, -0.999726256207104 L -0.03136097353985288, -0.9995081236981682 L -0.03932310516078371, -0.9992265475859385 L -0.0472827407544938, -0.9988815457434096 L -0.05523937508450722, -0.9984731400695129 L -0.06319250310485006, -0.9980013564877271 L -0.07114161999211346, -0.9974662249444327 L -0.07908622117749367, -0.9968677794070107 L -0.08702580237882031, -0.9962060578616868 L -0.09495985963256558, -0.9954811023111204 L -0.10288788932583333, -0.9946929587717384 L -0.11080938822832574, -0.9938416772708137 L -0.1187238535242858, -0.992927311843291 L -0.12663078284441343, -0.9919499205283556 L -0.1345296742977533, -0.9909095653657505 L -0.1424200265035523, -0.9898063123918374 L -0.15030133862308448, -0.9886402316354058 L -0.15817311039144188, -0.9874113971132279 L -0.16603484214928865, -0.98611988682536 L -0.17388603487457766, -0.9847657827501914 L -0.18172619021422157, -0.9833491708392419 L -0.18955481051573528, -0.9818701410117041 L -0.1973713988588121, -0.9803287871487381 L -0.2051754590868753, -0.9787252070875103 L -0.21296649583856717, -0.9770595026149849 L -0.2207440145791929, -0.9753317794614615 L -0.22850752163211108, -0.9735421472938653 L -0.23625652421006965, -0.9716907197087851 L -0.24399053044648567, -0.9697776142252628 L -0.2517090494266663, -0.9678029522773343 L -0.2594115912189695, -0.9657668592063212 L -0.2670976669059026, -0.9636694642528753 L -0.27476678861515597, -0.9615109005487739 L -0.2824184695505708, -0.9592913051084708 L -0.2900522240230383, -0.9570108188203983 L -0.2976675674813289, -0.9546695864380244 L -0.30526401654284957, -0.9522677565706648 L -0.31284108902432345, -0.9498054816740507 L -0.3203983039724012, -0.94728291804065 L -0.32793518169418606, -0.9447002257897482 L -0.33545124378768315, -0.942057568857284 L -0.342946013172166, -0.9393551149854439 L -0.3504190141184591, -0.9365930357120147 L -0.3578697722791347, -0.9337715063594949 L -0.3652978147186221, -0.9308907060239667 L -0.37270266994322687, -0.9279508175637274 L -0.3800838679310591, -0.9249520275876827 L -0.3874409401618678, -0.9218945264435016 L -0.39477341964678014, -0.9187785082055344 L -0.4020808409579437, -0.9156041706624937 L -0.40936274025806907, -0.9123717153048996 L -0.4166186553298721, -0.9090813473122904 L -0.423848125605413, -0.905733275540199 L -0.4310506921953316, -0.9023277125068949 L -0.438225897917972, -0.8988648743798966 L -0.44537328732840703, -0.8953449809622479 L -0.4524924067473443, -0.891768255678568 L -0.45958280428992415, -0.8881349255608684 L -0.4666440298944029, -0.8844452212341427 L -0.47367563535072066, -0.8806993769017275 L -0.4806771743289513, -0.8768976303304366 L -0.48764820240763296, -0.8730402228354683 L -0.4945882771019779, -0.8691273992650889 L -0.501496957891959, -0.8651594079850895 L -0.508373806250272, -0.8611365008630228 L -0.51521838567017, -0.8570589332522146 L -0.522030261693172, -0.8529269639755553 L -0.528809001936639, -0.8487408553090723 L -0.5355541761212202, -0.8445008729652806 L -0.5422653560981641, -0.8402072860763178 L -0.5489421158764963, -0.8358603671768601 L -0.5555840316500568, -0.831460392186825 L -0.5621906818244042, -0.8270076403938548 L -0.5687616470435748, -0.8225023944355907 L -0.5752965102167008, -0.8179449402817316 L -0.5817948565444854, -0.8133355672158827 L -0.5882562735455323, -0.8086745678171929 L -0.5946803510825279, -0.8039622379417838 L -0.6010666813882742, -0.7991988767039696 L -0.6074148590915726, -0.7943847864572716 L -0.6137244812429535, -0.7895202727752262 L -0.6199951473402551, -0.7846056444319882 L -0.6262264593540435, -0.7796412133827318 L -0.6324180217528791, -0.7746272947438496 L -0.6385694415284217, -0.76956420677295 L -0.644680328220377, -0.764452270848656 L -0.6507502939412823, -0.7592918114502056 L -0.6567789534011235, -0.754083156136858 L -0.6627659239317973, -0.7488266355270965 L -0.6687108255113966, -0.7435225832776476 L -0.6746132807883338, -0.7381713360622998 L -0.6804729151052922, -0.7327732335505343 L -0.6862893565230088, -0.7273286183859634 L -0.6920622358438825, -0.7218378361645823 L -0.6977911866354081, -0.7163012354128319 L -0.767570305298949 ,-0.7879313589541151",
          "type": "path"
         },
         {
          "fillcolor": "rgba(171,221,164,0.75)",
          "layer": "below",
          "line": {
           "color": "rgb(150,150,150)",
           "width": 0.45
          },
          "path": "M 0.018080207011004674, -1.0998514018331929 L 0.02680974054719495, -1.09967324138209 L 0.03553758492578102, -1.0994257956122564 L 0.044263190245702286, -1.0991090801141046 L 0.0529860067469738, -1.098723114842411 L 0.06170548484532114, -1.0982679241150604 L 0.07042107516680429, -1.0977435366115127 L 0.07913222858243796, -1.097149985370996 L 0.08783839624278184, -1.096487307790426 L 0.0965390296125279, -1.0957555456220478 L 0.1052335805050581, -1.0949547449708072 L 0.11392150111698025, -1.0940849562914454 L 0.12260224406264836, -1.093146234385319 L 0.1312752624086479, -1.0921386383969487 L 0.13994000970825274, -1.0910622318102916 L 0.1485959400358609, -1.0899170824447422 L 0.15724250802138318, -1.0887032624508597 L 0.16587916888461104, -1.0874208483058208 L 0.17450537846953793, -1.0860699208086022 L 0.18312059327864086, -1.0846505650748903 L 0.19172427050712987, -1.083162870531717 L 0.2003158680771444, -1.0816069309118264 L 0.20889484467190436, -1.0799828442477692 L 0.21746065976982276, -1.078290712865725 L 0.22601277367855369, -1.0765306433790574 L 0.2345506475690026, -1.0747027466815937 L 0.24307374350927263, -1.0728071379406405 L 0.25158152449855414, -1.0708439365897273 L 0.26007345450096453, -1.0688132663210794 L 0.2685489984793186, -1.0667152550778278 L 0.2770076224288357, -1.0645500350459456 L 0.2854487934107916, -1.0623177426459203 L 0.29387197958608896, -1.0600185185241593 L 0.30227665024877276, -1.0576525075441279 L 0.31066227585946465, -1.0552198587772208 L 0.31902832807872394, -1.0527207254933733 L 0.32737427980034156, -1.0501552651514003 L 0.3356996051845476, -1.0475236393890779 L 0.3440037796911396, -1.04482601401296 L 0.3522862801125375, -1.042062558987929 L 0.3605465846067412, -1.03923344842649 L 0.36878417273021624, -1.0363388605777988 L 0.3769985254706812, -1.0333789778164313 L 0.385189125279806, -1.0303539866308948 L 0.3933554561058253, -1.027264077611876 L 0.4014970034260503, -1.0241094454402333 L 0.40961325427928313, -1.0208902888747329 L 0.417703697298143, -1.0176068107395222 L 0.42576782274127745, -1.0142592179113543 L 0.4338051225254854, -1.010847721306552 L 0.4418150902577264, -1.0073725358677184 L 0.44979722126702326, -1.0038338805501958 L 0.4577510126362644, -1.0002319783082696 L 0.4656759632338879, -0.9965670560811204 L 0.47357157374545245, -0.9928393447785274 L 0.4814373467051026, -0.9890490792663179 L 0.48927278652690853, -0.9851964983515696 L 0.4970773995360887, -0.9812818447675673 L 0.5048506940001196, -0.9773053651585044 L 0.5125921801597108, -0.973267310063949 L 0.5203013702596683, -0.9691679339030527 L 0.5279777785796235, -0.9650074949585242 L 0.5356209214646331, -0.9607862553603572 L 0.5432303173556586, -0.9565044810693103 L 0.5508054868198995, -0.9521624418601554 L 0.5583459525810068, -0.9477604113046758 L 0.5658512395491512, -0.9432986667544322 L 0.5733208748509533, -0.9387774893232889 L 0.580754387859283, -0.9341971638696992 L 0.5881513102229086, -0.9295579789787597 L 0.5955111758960026, -0.9248602269440287 L 0.6028335211675111, -0.9201042037491081 L 0.6101178846903667, -0.9152902090489948 L 0.6173638075105532, -0.9104185461512044 L 0.624570833096029, -0.905489521996656 L 0.6317385073654835, -0.9005034471403378 L 0.6388663787169528, -0.8954606357317373 L 0.6459539980562706, -0.8903614054950494 L 0.653000918825361, -0.8852060777091594 L 0.6600066970303801, -0.8799949771873976 L 0.6669708912696826, -0.8747284322570781 L 0.6738930627616391, -0.8694067747388088 L 0.680772775372279, -0.8640303399255866 L 0.6876095956427667, -0.858599466561674 L 0.6944030928167167, -0.8531144968212523 L 0.7011528388673312, -0.8475757762868654 L 0.7078584085243658, -0.8419836539276474 L 0.7145193793009282, -0.8363384820773325 L 0.7211353315200953, -0.8306406164120572 L 0.7277058483413527, -0.8248904159279536 L 0.7342305157868623, -0.8190882429185261 L 0.7407089227675407, -0.8132344629518289 L 0.747140661108964, -0.8073294448474305 L 0.7535253255770832, -0.8013735606531768 L 0.759862513903754, -0.7953671856217527 L 0.7661518268120865, -0.7893106981870338 L 0.7723928680415968, -0.7832044799402496 L 0.7785852443731777, -0.777048915605935 L 0.7847285656538718, -0.7708443930176939 L 0.790822444821452, -0.764591303093765 L 0.718929495292229, -0.6950830028125136 L 0.7133896051398835, -0.7007676300160853 L 0.7078047676119796, -0.7064081050963045 L 0.7021753345832698, -0.7120040726729541 L 0.6965016607382604, -0.7175551801700307 L 0.6907841035488672, -0.7230610778379569 L 0.6850230232518938, -0.7285214187756152 L 0.6792187828263309, -0.7339358589522095 L 0.6733717479704915, -0.7393040572289353 L 0.6674822870789656, -0.7446256753804782 L 0.6615507712194114, -0.7499003781163215 L 0.6555775741091775, -0.7551278331018701 L 0.6495630720917529, -0.7603077109793931 L 0.6435076441130597, -0.7654396853887703 L 0.6374116716975737, -0.7705234329880594 L 0.6312755389242879, -0.7755586334738657 L 0.6250996324025151, -0.7805449696015218 L 0.6188843412475263, -0.7854821272050787 L 0.6126300570560355, -0.7903697952170988 L 0.6063371738815295, -0.7952076656882527 L 0.6000060882094364, -0.799995433806725 L 0.5936371989321464, -0.8047327979174176 L 0.5872309073238824, -0.809419459540954 L 0.5807876170154116, -0.8140551233924884 L 0.5743077339686213, -0.8186394974003071 L 0.5677916664509354, -0.8231722927242326 L 0.5612398250095938, -0.8276532237738221 L 0.5546526224457878, -0.8320820082263589 L 0.5480304737886464, -0.8364583670446436 L 0.5413737962690932, -0.8407820244945715 L 0.5346830092935532, -0.8450527081625088 L 0.5279585344175299, -0.8492701489724538 L 0.5212007953190484, -0.8534340812029898 L 0.5144102177719556, -0.8575442425040292 L 0.5075872296190971, -0.8616003739133415 L 0.5007322607453631, -0.8656022198728685 L 0.4938457430505987, -0.8695495282448275 L 0.4869281104223937, -0.8734420503275974 L 0.4799797987087486, -0.8772795408713856 L 0.47300124569060753, -0.8810617580936841 L 0.4659928910542825, -0.8847884636944989 L 0.45895517636374505, -0.8884594228713676 L 0.4518885450328079, -0.892074404334152 L 0.44479344229718953, -0.8956331803196087 L 0.4376703151864568, -0.8991355266057435 L 0.43051961249586584, -0.902581222525934 L 0.4233417847580799, -0.9059700509828367 L 0.4161372842147858, -0.9093017984620632 L 0.4089065647882029, -0.9125762550456324 L 0.40165008205247854, -0.9157932144251983 L 0.39436829320498673, -0.9189524739150473 L 0.38706165703752493, -0.9220538344648675 L 0.3797306339074027, -0.9250971006722928 L 0.3723756857084392, -0.9280820807952116 L 0.3649972758418639, -0.9310085867638485 L 0.3575958691871139, -0.9338764341926145 L 0.3501719320725509, -0.9366854423917225 L 0.3427259322460738, -0.9394354343785738 L 0.3352583388456511, -0.9421262368889078 L 0.3277696223697647, -0.9447576803877181 L 0.3202602546477613, -0.9473295990799354 L 0.3127307088101269, -0.9498418309208726 L 0.3051814592586796, -0.9522942176264344 L 0.2976129816366741, -0.9546866046830911 L 0.2900257527988399, -0.9570188413576121 L 0.2824202507813315, -0.9592907807065644 L 0.2747969547716116, -0.9615022795855707 L 0.2671563450782627, -0.9636531986583265 L 0.2594989031007196, -0.9657434024053819 L 0.25182511129894153, -0.9677727591326777 L 0.2441354531630169, -0.9697411409798433 L 0.23643041318269503, -0.971648423928254 L 0.22871047681686738, -0.9734944878088428 L 0.2209761304629751, -0.9752792163096732 L 0.213227861426366, -0.9770024969832669 L 0.20546615788959424, -0.9786642212536883 L 0.19769150888165704, -0.9802642844233863 L 0.18990440424718577, -0.9818025856797901 L 0.1821053346155858, -0.9832790281016602 L 0.17429479137011805, -0.9846935186651972 L 0.16647326661694622, -0.9860459682499002 L 0.15864125315412536, -0.9873362916441838 L 0.15079924444055548, -0.988564407550746 L 0.1429477345648938, -0.9897302385916905 L 0.135087218214419, -0.9908337113134019 L 0.1272181906438661, -0.991874756191174 L 0.11934114764422535, -0.9928533076335896 L 0.1114565855114985, -0.9937693039866536 L 0.10356500101543659, -0.9946226875376776 L 0.09566689136823463, -0.9954134045189157 L 0.08776275419320717, -0.9961414051109525 L 0.07985308749343803, -0.9968066434458417 L 0.07193838962039814, -0.9974090776099964 L 0.06401915924254935, -0.9979486696468296 L 0.0560958953139283, -0.9984253855591457 L 0.048169097042703446, -0.9988391953112826 L 0.04023926385972935, -0.999190072831004 L 0.03230689538707365, -0.9994779960111422 L 0.024372491406540863, -0.9997029467109908 L 0.016436551828186065, -0.999864910757448 L 0.018080207011004674 ,-1.0998514018331929",
          "type": "path"
         },
         {
          "fillcolor": "rgba(102,194,165,0.75)",
          "layer": "below",
          "line": {
           "color": "rgb(150,150,150)",
           "width": 0.45
          },
          "path": "M 0.7908229252281799, -0.7645908062052176 L 0.7949769208737334, -0.7602708039101055 L 0.799107318122373, -0.7559282334476393 L 0.8032139943658179, -0.7515632237243305 L 0.80729682769993, -0.747175904312786 L 0.811355696928334, -0.7427664054478618 L 0.8153904815660138, -0.7383348580227973 L 0.8194010618428894, -0.7338813935853296 L 0.8233873187073724, -0.7294061443337889 L 0.827349133829899, -0.7249092431131748 L 0.8312863896064454, -0.72039082341121 L 0.835198969162015, -0.715851019354382 L 0.8390867563541097, -0.7112899657039589 L 0.8429496357761778, -0.7067077978519901 L 0.8467874927610389, -0.7021046518172869 L 0.8506002133842886, -0.6974806642413844 L 0.8543876844676794, -0.6928359723844867 L 0.8581497935824809, -0.6881707141213913 L 0.861886429052817, -0.6834850279373965 L 0.8655974799589807, -0.6787790529241912 L 0.8692828361407277, -0.6740529287757252 L 0.8729423882005447, -0.6693067957840632 L 0.8765760275068981, -0.66454079483522 L 0.8801836461974588, -0.6597550674049778 L 0.8837651371823028, -0.6549497555546882 L 0.8873203941470906, -0.650125001927054 L 0.8908493115562252, -0.6452809497418934 L 0.8943517846559809, -0.6404177427918922 L 0.8978277094776159, -0.6355355254383329 L 0.9012769828404572, -0.6306344426068103 L 0.9046995023549641, -0.6257146397829288 L 0.9080951664257673, -0.6207762630079845 L 0.9114638742546842, -0.6158194588746293 L 0.9148055258437123, -0.6108443745225204 L 0.9181200219979962, -0.6058511576339516 L 0.9214072643287731, -0.6008399564294694 L 0.9246671552562926, -0.5958109196634747 L 0.9278995980127145, -0.5907641966198046 L 0.9311044966449795, -0.5856999371073035 L 0.9342817560176597, -0.5806182914553746 L 0.9374312818157807, -0.5755194105095175 L 0.9405529805476222, -0.5704034456268514 L 0.9436467595474927, -0.5652705486716222 L 0.9467125269784821, -0.5601208720106912 L 0.9497501918351848, -0.5549545685090175 L 0.9527596639464034, -0.5497717915251169 L 0.9557408539778245, -0.5445726949065101 L 0.9586936734346706, -0.5393574329851563 L 0.9616180346643274, -0.5341261605728712 L 0.964513850858945, -0.5288790329567328 L 0.9673810360580157, -0.5236162058944703 L 0.9702195051509247, -0.5183378356098414 L 0.9730291738794772, -0.5130440787879949 L 0.9758099588403993, -0.5077350925708191 L 0.978561777487814, -0.5024110345522778 L 0.9812845481356912, -0.4970720627737316 L 0.9839781899602724, -0.49171833571924717 L 0.9866426230024707, -0.48635001231089187 L 0.9892777681702429, -0.4809672519040181 L 0.99188354724094, -0.4755702142825288 L 0.9944598828636252, -0.47015905965413984 L 0.9970066985613737, -0.4647339486456208 L 0.9995239187335405, -0.45929504229802764 L 1.002011468658006, -0.4538425020619225 L 1.0044692744933932, -0.44837648979258127 L 1.0068972632812598, -0.4428971677451883 L 1.0092953629482648, -0.4374046985700209 L 1.011663502308306, -0.43189924530762047 L 1.0140016110646357, -0.42638097138395303 L 1.016309619811945, -0.4208500406055581 L 1.0185874600384257, -0.4153066171546859 L 1.020835064127803, -0.409750865584424 L 1.0230523653613433, -0.40418295081381256 L 1.0252392979198346, -0.39860303812294867 L 1.02739579688554, -0.3930112931480804 L 1.0295217982441247, -0.38740788187669073 L 1.0316172388865574, -0.3817929706425665 L 1.0336820566109817, -0.3761667261208668 L 1.0357161901245642, -0.3705293153231713 L 1.0377195790453122, -0.3648809055925235 L 1.0396921639038688, -0.3592216645984637 L 1.041633886145275, -0.3535517603320514 L 1.0435446881307107, -0.34787136110087863 L 1.0454245131392037, -0.3421806355240741 L 1.0472733053693142, -0.33647975252729756 L 1.0490910099407915, -0.33076888133772553 L 1.0508775728962025, -0.32504819147902786 L 1.0526329412025337, -0.31931785276633556 L 1.0543570627527659, -0.3135780353011997 L 1.0560498863674193, -0.3078289094665424 L 1.0577113617960754, -0.3020706459215989 L 1.0593414397188656, -0.29630341559685264 L 1.0609400717479385, -0.2905273896889575 L 1.062507210428893, -0.2847427396556618 L 1.0640428092421896, -0.2789496372107144 L 1.0655468226045297, -0.2731482543187691 L 1.0670192058702093, -0.26733876319027944 L 1.0684599153324439, -0.261521336276387 L 1.0698689082246668, -0.25569614626380216 L 1.0712461427217979, -0.24986336606967813 L 0.9738601297470888, -0.22714851460879829 L 0.9726080983860607, -0.23245104205800193 L 0.9713271957567671, -0.23774666934216998 L 0.9700174598820083, -0.2430352392638904 L 0.9686789296404815, -0.24831659483524463 L 0.9673116447656269, -0.25359057928246764 L 0.9659156458444482, -0.2588570360506016 L 0.9644909743163076, -0.26411580880814317 L 0.9630376724716959, -0.2693667414516842 L 0.9615557834509775, -0.27460967811054443 L 0.9600453512431084, -0.27984446315140216 L 0.9585064206843324, -0.2850709411829088 L 0.9569390374568488, -0.29028895706030505 L 0.9553432480874567, -0.2954983558900253 L 0.953719099946174, -0.30069898303429593 L 0.952066641244831, -0.305890684115725 L 0.9503859210356396, -0.3110733050218855 L 0.948676989209737, -0.31624669190988963 L 0.9469398964957045, -0.3214106912109558 L 0.9451746944580623, -0.32656514963496697 L 0.9433814354957384, -0.3317099141750213 L 0.9415601728405127, -0.33684483211197386 L 0.9397109605554379, -0.3419697510189698 L 0.937833853533234, -0.3470845187659695 L 0.9359289074946587, -0.35218898352426425 L 0.9339961789868545, -0.35728299377098216 L 0.9320357253816677, -0.3623663982935897 L 0.9300476048739483, -0.367439046194375 L 0.9280318764798208, -0.3725007868949309 L 0.9259886000349323, -0.3775514701406235 L 0.9239178361926772, -0.3825909460050528 L 0.921819646422396, -0.3876190648945027 L 0.9196940930075509, -0.3926356775523822 L 0.917541239043877, -0.3976406350636553 L 0.9153611484375089, -0.40263378885926204 L 0.9131538859030846, -0.40761499072052837 L 0.9109195169618235, -0.4125840927835659 L 0.9086581079395822, -0.41754094754366144 L 0.9063697259648851, -0.4224854078596552 L 0.9040544389669319, -0.4274173269583089 L 0.9017123156735817, -0.43233655843866253 L 0.8993434256093117, -0.4372429562763801 L 0.8969478390931551, -0.4421363748280835 L 0.8945256272366112, -0.4470166688356792 L 0.8920768619415373, -0.4518836934306651 L 0.8896016158980127, -0.45673730413843433 L 0.8870999625821812, -0.46157735688256274 L 0.8845719762540701, -0.46640370798908615 L 0.882017731955386, -0.47121621419076487 L 0.8794373055072869, -0.4760147326313366 L 0.8768307735081318, -0.48079912086975707 L 0.8741982133312066, -0.4855692368844284 L 0.8715397031224278, -0.4903249390774147 L 0.8688553217980222, -0.4950660862786455 L 0.8661451490421849, -0.49979253775010624 L 0.8634092653047134, -0.5045041531900158 L 0.86064775179862, -0.5092007927369919 L 0.8578606904977205, -0.513882316974202 L 0.8550481641342019, -0.5185485869335013 L 0.8522102561961642, -0.5231994640995613 L 0.8493470509251452, -0.5278348104139768 L 0.8464586333136177, -0.5324544882793668 L 0.8435450891024676, -0.5370583605634587 L 0.8406065047784478, -0.5416462906031587 L 0.8376429675716118, -0.5462181422086085 L 0.8346545654527238, -0.5507737796672286 L 0.8316413871306475, -0.5553130677477458 L 0.8286035220497129, -0.5598358717042085 L 0.8255410603870611, -0.5643420572799859 L 0.8224540930499673, -0.5688314907117534 L 0.8193427116731429, -0.5733040387334639 L 0.8162070086160144, -0.5777595685803026 L 0.8130470769599826, -0.5821979479926293 L 0.8098630105056591, -0.586619045219903 L 0.8066549037700823, -0.5910227290245945 L 0.8034228519839115, -0.5954088686860801 L 0.8001669510885988, -0.5997773340045253 L 0.7968872977335437, -0.6041279953047454 L 0.7935839892732224, -0.6084607234400574 L 0.7902571237642978, -0.6127753897961138 L 0.7869067999627097, -0.6170718662947192 L 0.7835331173207426, -0.6213500253976332 L 0.7801361759840735, -0.6256097401103556 L 0.7767160767887994, -0.629850883985897 L 0.7732729212584442, -0.6340733311285313 L 0.7698068116009444, -0.6382769561975334 L 0.7663178507056161, -0.6424616344109001 L 0.7628061421400997, -0.6466272415490535 L 0.7592717901472863, -0.650773653958529 L 0.755714899642223, -0.6549007485556454 L 0.7521355762089991, -0.6590084028301589 L 0.7485339260976112, -0.663096494848899 L 0.7449100562208085, -0.6671649032593905 L 0.7412640741509215, -0.6712135072934521 L 0.7375960881166672, -0.6752421867707834 L 0.7339062069999364, -0.6792508221025327 L 0.7301945403325616, -0.6832392942948459 L 0.7264611982930663, -0.6872074849523993 L 0.722706291703394, -0.691155276281914 L 0.7189299320256181, -0.6950825510956523 L 0.7908229252281799 ,-0.7645908062052176",
          "type": "path"
         },
         {
          "fillcolor": "rgba(50,136,189,0.75)",
          "layer": "below",
          "line": {
           "color": "rgb(150,150,150)",
           "width": 0.45
          },
          "path": "M 1.0712462997153693, -0.24986269298582658 L 1.071821766848889, -0.24738249758001518 L 1.072391491735672, -0.2449009768313312 L 1.072955471323438, -0.24241814403443313 L 1.0735137025906865, -0.23993401249100882 L 1.0740661825467128, -0.23744859550970504 L 1.0746129082316263, -0.23496190640605233 L 1.0751538767163633, -0.23247395850239946 L 1.0756890851027043, -0.22998476512783828 L 1.07621853052329, -0.22749433961813312 L 1.0767422101416353, -0.22500269531564945 L 1.077260121152145, -0.2225098455692825 L 1.0777722607801299, -0.22001580373438545 L 1.07827862628182, -0.21752058317269907 L 1.0787792149443807, -0.2150241972522763 L 1.0792740240859258, -0.21252665934741627 L 1.079763051055533, -0.21002798283858884 L 1.080246293233258, -0.20752818111236399 L 1.080723748030148, -0.20502726756133988 L 1.0811954128882562, -0.20252525558407136 L 1.0816612852806549, -0.20002215858499803 L 1.082121362711449, -0.19751798997437334 L 1.0825756427157909, -0.19501276316818902 L 1.0830241228598916, -0.19250649158810898 L 1.0834668007410344, -0.18999918866139348 L 1.0839036739875887, -0.18749086782082816 L 1.0843347402590215, -0.1849815425046521 L 1.084759997245911, -0.18247122615648578 L 1.0851794426699577, -0.1799599322252592 L 1.085593074283998, -0.17744767416514065 L 1.0860008898720157, -0.17493446543546076 L 1.0864028872491527, -0.1724203195006463 L 1.086799064261723, -0.16990524983014402 L 1.087189418787222, -0.16738926989834974 L 1.0875739487343397, -0.16487239318453578 L 1.0879526520429703, -0.162354633172779 L 1.0883255266842247, -0.15983600335188858 L 1.0886925706604405, -0.15731651721533352 L 1.089053782005192, -0.15479618826117156 L 1.089409158783303, -0.15227502999197295 L 1.089758699090855, -0.14975305591475374 L 1.0901024010551983, -0.14723027954089976 L 1.090440262834962, -0.14470671438609514 L 1.0907722826200639, -0.14218237397024977 L 1.0910984586317192, -0.13965727181742707 L 1.091418789122452, -0.13713142145577142 L 1.0917332723761035, -0.13460483641743662 L 1.0920419067078404, -0.13207753023850966 L 1.0923446904641658, -0.1295495164589438 L 1.092641622022926, -0.12702080862248238 L 1.0929326997933215, -0.12449142027658708 L 1.0932179222159129, -0.12196136497236539 L 1.0934972877626317, -0.119430656264498 L 1.0937707949367867, -0.1168993077111662 L 1.0940384422730731, -0.11436733287398021 L 1.0943002283375802, -0.1118347453179026 L 1.0945561517277982, -0.10930155861118147 L 1.0948062110726267, -0.10676778632527394 L 1.095050405032382, -0.10423344203477425 L 1.0952887322988032, -0.10169853931734121 L 1.095521191595061, -0.09916309175362538 L 1.0957477816757628, -0.09662711292719625 L 1.0959685013269604, -0.09409061642446961 L 1.096183349366156, -0.09155361583463562 L 1.0963923246423093, -0.08901612474958213 L 1.0965954260358426, -0.08647815676382775 L 1.096792652458647, -0.08393972547444509 L 1.09698400285409, -0.08140084448098889 L 1.0971694761970179, -0.07886152738542314 L 1.097349071493764, -0.07632178779204829 L 1.097522787782153, -0.07378163930742822 L 1.097690624131506, -0.07124109554031849 L 1.0978525796426464, -0.06870017010158941 L 1.0980086534479023, -0.06615887660415899 L 1.0981588447111148, -0.06361722866291616 L 1.0983031526276392, -0.06107523989464875 L 1.098441576424351, -0.05853292391797056 L 1.0985741153596496, -0.05599029435324842 L 1.0987007687234627, -0.05344736482252915 L 1.0988215358372488, -0.05090414894946765 L 1.0989364160540034, -0.04836066035924992 L 1.0990454087582588, -0.045816912678526 L 1.0991485133660914, -0.04327291953533301 L 1.0992457293251214, -0.04072869455902311 L 1.099337056114518, -0.0381842513801905 L 1.099422493245001, -0.03563960363059841 L 1.099502040258844, -0.03309476494310604 L 1.099575696729877, -0.030549748951596505 L 1.099643462263488, -0.028004569290899905 L 1.0997053364966256, -0.025459239596726104 L 1.0997613190978008, -0.0229137735055878 L 1.0998114097670886, -0.020368184654728425 L 1.0998556082361304, -0.017822486682049103 L 1.099893914268134, -0.01527669322603556 L 1.099926327657877, -0.012730817925685077 L 1.099952848231705, -0.010184874420433422 L 1.0999734758475352, -0.007638876350082732 L 1.0999882103948564, -0.0050928373547245494 L 1.099997051794728, -0.0025467710746726016 L 1.099999999999783, -6.91150385814946e-07 L 0.9999999999998026, -6.283185325590418e-07 L 0.999997319813389, -0.0023152464315205467 L 0.999989282177142, -0.004629852140658681 L 0.9999758871341229, -0.006944433045529756 L 0.9999571347560954, -0.009258976745848566 L 0.9999330251435244, -0.011573470841531888 L 0.9999035584255764, -0.013887902932759598 L 0.9998687347601185, -0.016202260620044637 L 0.9998285543337169, -0.018516531504298567 L 0.999783017361637, -0.020830703186897996 L 0.9997321240878414, -0.023144763269751 L 0.9996758747849891, -0.02545869935536355 L 0.9996142697544337, -0.027772499046905912 L 0.9995473093262218, -0.030086149948278216 L 0.9994749938590917, -0.03239963966418037 L 0.9993973237404707, -0.03471295580017318 L 0.9993142993864739, -0.03702608596274828 L 0.9992259212419012, -0.03933901775939364 L 0.9991321897802353, -0.04165173879866 L 0.9990331055036393, -0.0439642366902272 L 0.9989286689429535, -0.04627649904497058 L 0.9988188806576932, -0.0485885134750265 L 0.998703741236045, -0.050900267593862195 L 0.9985832512948645, -0.05321174901633687 L 0.9984574114796719, -0.055522945358771586 L 0.9983262224646497, -0.057833844239014685 L 0.9981896849526385, -0.06014443327650817 L 0.9980477996751329, -0.062454700092354 L 0.9979005673922782, -0.06476463230938044 L 0.9977479888928662, -0.06707421755220747 L 0.9975900649943308, -0.06938344344731662 L 0.9974267965427434, -0.07169229762311194 L 0.997258184412809, -0.0740007677099899 L 0.997084229507861, -0.07630884134040462 L 0.9969049327598568, -0.07861650614893431 L 0.996720295129372, -0.08092374977234738 L 0.9965303176055963, -0.08323055984966873 L 0.9963350012063276, -0.0855369240222451 L 0.9961343469779661, -0.08784282993381477 L 0.9959283559955099, -0.09014826523056851 L 0.9957170293625482, -0.09245321756121928 L 0.9955003682112562, -0.09475767457706749 L 0.9952783737023878, -0.0970616239320672 L 0.9950510470252709, -0.09936505328289225 L 0.9948183893978001, -0.10166795028900236 L 0.9945804020664301, -0.10397030261270927 L 0.9943370863061697, -0.106272097919242 L 0.9940884434205741, -0.10857332387681635 L 0.9938344747417389, -0.1108739681566958 L 0.9935751816302921, -0.11317401843326097 L 0.9933105654753873, -0.11547346238407488 L 0.993040627694696, -0.11777228768994889 L 0.9927653697344003, -0.12007048203500877 L 0.9924847930691849, -0.12236803310676056 L 0.9921988992022291, -0.12466492859615583 L 0.9919076896651992, -0.12696115619766096 L 0.9916111660182397, -0.12925670360931796 L 0.9913093298499654, -0.13155155853281375 L 0.991002182777453, -0.13384570867354523 L 0.9906897264462318, -0.1361391417406852 L 0.9903719625302754, -0.13843184544724813 L 0.9900488927319926, -0.14072380751015595 L 0.9897205187822185, -0.1430150156503032 L 0.9893868424402043, -0.14530545759262598 L 0.9890478654936093, -0.14759512106616274 L 0.9887035897584905, -0.14988399380412343 L 0.9883540170792927, -0.1521720635439543 L 0.9879991493288389, -0.15445931802740365 L 0.9876389884083205, -0.15674574500058752 L 0.9872735362472869, -0.15903133221405522 L 0.9869027948036346, -0.16131606742285512 L 0.9865267660635979, -0.16359993838659925 L 0.9861454520417372, -0.1658829328695325 L 0.9857588547809286, -0.1681650386405928 L 0.9853669763523533, -0.17044624347348014 L 0.9849698188554857, -0.17272653514672134 L 0.9845673844180831, -0.17500590144373543 L 0.9841596751961735, -0.1772843301528991 L 0.9837466933740445, -0.1795618090676121 L 0.9833284411642316, -0.18183832598636182 L 0.9829049208075056, -0.18411386871279214 L 0.9824761345728618, -0.1863884250557635 L 0.9820420847575072, -0.1886619828294218 L 0.9816027736868481, -0.19093452985326256 L 0.9811582037144779, -0.1932060539521966 L 0.9807083772221642, -0.19547654295661482 L 0.9802532966198364, -0.1977459847024537 L 0.9797929643455726, -0.2000143670312595 L 0.9793273828655863, -0.2022816777902568 L 0.9788565546742137, -0.2045479048324086 L 0.9783804822939, -0.20681303601648462 L 0.9778991682751857, -0.2090770592071257 L 0.9774126151966938, -0.2113399622749086 L 0.9769208256651147, -0.2136017330964112 L 0.9764238023151934, -0.2158623595542773 L 0.9759215478097149, -0.21812182953728074 L 0.975414064839489, -0.22038013094039374 L 0.9749013561233382, -0.22263725166484652 L 0.9743834244080808, -0.2248931796181956 L 0.9738602724685175, -0.22714790271438778 L 1.0712462997153693 ,-0.24986269298582658",
          "type": "path"
         }
        ],
        "showlegend": false,
        "template": {
         "data": {
          "bar": [
           {
            "error_x": {
             "color": "#2a3f5f"
            },
            "error_y": {
             "color": "#2a3f5f"
            },
            "marker": {
             "line": {
              "color": "#E5ECF6",
              "width": 0.5
             },
             "pattern": {
              "fillmode": "overlay",
              "size": 10,
              "solidity": 0.2
             }
            },
            "type": "bar"
           }
          ],
          "barpolar": [
           {
            "marker": {
             "line": {
              "color": "#E5ECF6",
              "width": 0.5
             },
             "pattern": {
              "fillmode": "overlay",
              "size": 10,
              "solidity": 0.2
             }
            },
            "type": "barpolar"
           }
          ],
          "carpet": [
           {
            "aaxis": {
             "endlinecolor": "#2a3f5f",
             "gridcolor": "white",
             "linecolor": "white",
             "minorgridcolor": "white",
             "startlinecolor": "#2a3f5f"
            },
            "baxis": {
             "endlinecolor": "#2a3f5f",
             "gridcolor": "white",
             "linecolor": "white",
             "minorgridcolor": "white",
             "startlinecolor": "#2a3f5f"
            },
            "type": "carpet"
           }
          ],
          "choropleth": [
           {
            "colorbar": {
             "outlinewidth": 0,
             "ticks": ""
            },
            "type": "choropleth"
           }
          ],
          "contour": [
           {
            "colorbar": {
             "outlinewidth": 0,
             "ticks": ""
            },
            "colorscale": [
             [
              0,
              "#0d0887"
             ],
             [
              0.1111111111111111,
              "#46039f"
             ],
             [
              0.2222222222222222,
              "#7201a8"
             ],
             [
              0.3333333333333333,
              "#9c179e"
             ],
             [
              0.4444444444444444,
              "#bd3786"
             ],
             [
              0.5555555555555556,
              "#d8576b"
             ],
             [
              0.6666666666666666,
              "#ed7953"
             ],
             [
              0.7777777777777778,
              "#fb9f3a"
             ],
             [
              0.8888888888888888,
              "#fdca26"
             ],
             [
              1,
              "#f0f921"
             ]
            ],
            "type": "contour"
           }
          ],
          "contourcarpet": [
           {
            "colorbar": {
             "outlinewidth": 0,
             "ticks": ""
            },
            "type": "contourcarpet"
           }
          ],
          "heatmap": [
           {
            "colorbar": {
             "outlinewidth": 0,
             "ticks": ""
            },
            "colorscale": [
             [
              0,
              "#0d0887"
             ],
             [
              0.1111111111111111,
              "#46039f"
             ],
             [
              0.2222222222222222,
              "#7201a8"
             ],
             [
              0.3333333333333333,
              "#9c179e"
             ],
             [
              0.4444444444444444,
              "#bd3786"
             ],
             [
              0.5555555555555556,
              "#d8576b"
             ],
             [
              0.6666666666666666,
              "#ed7953"
             ],
             [
              0.7777777777777778,
              "#fb9f3a"
             ],
             [
              0.8888888888888888,
              "#fdca26"
             ],
             [
              1,
              "#f0f921"
             ]
            ],
            "type": "heatmap"
           }
          ],
          "heatmapgl": [
           {
            "colorbar": {
             "outlinewidth": 0,
             "ticks": ""
            },
            "colorscale": [
             [
              0,
              "#0d0887"
             ],
             [
              0.1111111111111111,
              "#46039f"
             ],
             [
              0.2222222222222222,
              "#7201a8"
             ],
             [
              0.3333333333333333,
              "#9c179e"
             ],
             [
              0.4444444444444444,
              "#bd3786"
             ],
             [
              0.5555555555555556,
              "#d8576b"
             ],
             [
              0.6666666666666666,
              "#ed7953"
             ],
             [
              0.7777777777777778,
              "#fb9f3a"
             ],
             [
              0.8888888888888888,
              "#fdca26"
             ],
             [
              1,
              "#f0f921"
             ]
            ],
            "type": "heatmapgl"
           }
          ],
          "histogram": [
           {
            "marker": {
             "pattern": {
              "fillmode": "overlay",
              "size": 10,
              "solidity": 0.2
             }
            },
            "type": "histogram"
           }
          ],
          "histogram2d": [
           {
            "colorbar": {
             "outlinewidth": 0,
             "ticks": ""
            },
            "colorscale": [
             [
              0,
              "#0d0887"
             ],
             [
              0.1111111111111111,
              "#46039f"
             ],
             [
              0.2222222222222222,
              "#7201a8"
             ],
             [
              0.3333333333333333,
              "#9c179e"
             ],
             [
              0.4444444444444444,
              "#bd3786"
             ],
             [
              0.5555555555555556,
              "#d8576b"
             ],
             [
              0.6666666666666666,
              "#ed7953"
             ],
             [
              0.7777777777777778,
              "#fb9f3a"
             ],
             [
              0.8888888888888888,
              "#fdca26"
             ],
             [
              1,
              "#f0f921"
             ]
            ],
            "type": "histogram2d"
           }
          ],
          "histogram2dcontour": [
           {
            "colorbar": {
             "outlinewidth": 0,
             "ticks": ""
            },
            "colorscale": [
             [
              0,
              "#0d0887"
             ],
             [
              0.1111111111111111,
              "#46039f"
             ],
             [
              0.2222222222222222,
              "#7201a8"
             ],
             [
              0.3333333333333333,
              "#9c179e"
             ],
             [
              0.4444444444444444,
              "#bd3786"
             ],
             [
              0.5555555555555556,
              "#d8576b"
             ],
             [
              0.6666666666666666,
              "#ed7953"
             ],
             [
              0.7777777777777778,
              "#fb9f3a"
             ],
             [
              0.8888888888888888,
              "#fdca26"
             ],
             [
              1,
              "#f0f921"
             ]
            ],
            "type": "histogram2dcontour"
           }
          ],
          "mesh3d": [
           {
            "colorbar": {
             "outlinewidth": 0,
             "ticks": ""
            },
            "type": "mesh3d"
           }
          ],
          "parcoords": [
           {
            "line": {
             "colorbar": {
              "outlinewidth": 0,
              "ticks": ""
             }
            },
            "type": "parcoords"
           }
          ],
          "pie": [
           {
            "automargin": true,
            "type": "pie"
           }
          ],
          "scatter": [
           {
            "marker": {
             "colorbar": {
              "outlinewidth": 0,
              "ticks": ""
             }
            },
            "type": "scatter"
           }
          ],
          "scatter3d": [
           {
            "line": {
             "colorbar": {
              "outlinewidth": 0,
              "ticks": ""
             }
            },
            "marker": {
             "colorbar": {
              "outlinewidth": 0,
              "ticks": ""
             }
            },
            "type": "scatter3d"
           }
          ],
          "scattercarpet": [
           {
            "marker": {
             "colorbar": {
              "outlinewidth": 0,
              "ticks": ""
             }
            },
            "type": "scattercarpet"
           }
          ],
          "scattergeo": [
           {
            "marker": {
             "colorbar": {
              "outlinewidth": 0,
              "ticks": ""
             }
            },
            "type": "scattergeo"
           }
          ],
          "scattergl": [
           {
            "marker": {
             "colorbar": {
              "outlinewidth": 0,
              "ticks": ""
             }
            },
            "type": "scattergl"
           }
          ],
          "scattermapbox": [
           {
            "marker": {
             "colorbar": {
              "outlinewidth": 0,
              "ticks": ""
             }
            },
            "type": "scattermapbox"
           }
          ],
          "scatterpolar": [
           {
            "marker": {
             "colorbar": {
              "outlinewidth": 0,
              "ticks": ""
             }
            },
            "type": "scatterpolar"
           }
          ],
          "scatterpolargl": [
           {
            "marker": {
             "colorbar": {
              "outlinewidth": 0,
              "ticks": ""
             }
            },
            "type": "scatterpolargl"
           }
          ],
          "scatterternary": [
           {
            "marker": {
             "colorbar": {
              "outlinewidth": 0,
              "ticks": ""
             }
            },
            "type": "scatterternary"
           }
          ],
          "surface": [
           {
            "colorbar": {
             "outlinewidth": 0,
             "ticks": ""
            },
            "colorscale": [
             [
              0,
              "#0d0887"
             ],
             [
              0.1111111111111111,
              "#46039f"
             ],
             [
              0.2222222222222222,
              "#7201a8"
             ],
             [
              0.3333333333333333,
              "#9c179e"
             ],
             [
              0.4444444444444444,
              "#bd3786"
             ],
             [
              0.5555555555555556,
              "#d8576b"
             ],
             [
              0.6666666666666666,
              "#ed7953"
             ],
             [
              0.7777777777777778,
              "#fb9f3a"
             ],
             [
              0.8888888888888888,
              "#fdca26"
             ],
             [
              1,
              "#f0f921"
             ]
            ],
            "type": "surface"
           }
          ],
          "table": [
           {
            "cells": {
             "fill": {
              "color": "#EBF0F8"
             },
             "line": {
              "color": "white"
             }
            },
            "header": {
             "fill": {
              "color": "#C8D4E3"
             },
             "line": {
              "color": "white"
             }
            },
            "type": "table"
           }
          ]
         },
         "layout": {
          "annotationdefaults": {
           "arrowcolor": "#2a3f5f",
           "arrowhead": 0,
           "arrowwidth": 1
          },
          "autotypenumbers": "strict",
          "coloraxis": {
           "colorbar": {
            "outlinewidth": 0,
            "ticks": ""
           }
          },
          "colorscale": {
           "diverging": [
            [
             0,
             "#8e0152"
            ],
            [
             0.1,
             "#c51b7d"
            ],
            [
             0.2,
             "#de77ae"
            ],
            [
             0.3,
             "#f1b6da"
            ],
            [
             0.4,
             "#fde0ef"
            ],
            [
             0.5,
             "#f7f7f7"
            ],
            [
             0.6,
             "#e6f5d0"
            ],
            [
             0.7,
             "#b8e186"
            ],
            [
             0.8,
             "#7fbc41"
            ],
            [
             0.9,
             "#4d9221"
            ],
            [
             1,
             "#276419"
            ]
           ],
           "sequential": [
            [
             0,
             "#0d0887"
            ],
            [
             0.1111111111111111,
             "#46039f"
            ],
            [
             0.2222222222222222,
             "#7201a8"
            ],
            [
             0.3333333333333333,
             "#9c179e"
            ],
            [
             0.4444444444444444,
             "#bd3786"
            ],
            [
             0.5555555555555556,
             "#d8576b"
            ],
            [
             0.6666666666666666,
             "#ed7953"
            ],
            [
             0.7777777777777778,
             "#fb9f3a"
            ],
            [
             0.8888888888888888,
             "#fdca26"
            ],
            [
             1,
             "#f0f921"
            ]
           ],
           "sequentialminus": [
            [
             0,
             "#0d0887"
            ],
            [
             0.1111111111111111,
             "#46039f"
            ],
            [
             0.2222222222222222,
             "#7201a8"
            ],
            [
             0.3333333333333333,
             "#9c179e"
            ],
            [
             0.4444444444444444,
             "#bd3786"
            ],
            [
             0.5555555555555556,
             "#d8576b"
            ],
            [
             0.6666666666666666,
             "#ed7953"
            ],
            [
             0.7777777777777778,
             "#fb9f3a"
            ],
            [
             0.8888888888888888,
             "#fdca26"
            ],
            [
             1,
             "#f0f921"
            ]
           ]
          },
          "colorway": [
           "#636efa",
           "#EF553B",
           "#00cc96",
           "#ab63fa",
           "#FFA15A",
           "#19d3f3",
           "#FF6692",
           "#B6E880",
           "#FF97FF",
           "#FECB52"
          ],
          "font": {
           "color": "#2a3f5f"
          },
          "geo": {
           "bgcolor": "white",
           "lakecolor": "white",
           "landcolor": "#E5ECF6",
           "showlakes": true,
           "showland": true,
           "subunitcolor": "white"
          },
          "hoverlabel": {
           "align": "left"
          },
          "hovermode": "closest",
          "mapbox": {
           "style": "light"
          },
          "paper_bgcolor": "white",
          "plot_bgcolor": "#E5ECF6",
          "polar": {
           "angularaxis": {
            "gridcolor": "white",
            "linecolor": "white",
            "ticks": ""
           },
           "bgcolor": "#E5ECF6",
           "radialaxis": {
            "gridcolor": "white",
            "linecolor": "white",
            "ticks": ""
           }
          },
          "scene": {
           "xaxis": {
            "backgroundcolor": "#E5ECF6",
            "gridcolor": "white",
            "gridwidth": 2,
            "linecolor": "white",
            "showbackground": true,
            "ticks": "",
            "zerolinecolor": "white"
           },
           "yaxis": {
            "backgroundcolor": "#E5ECF6",
            "gridcolor": "white",
            "gridwidth": 2,
            "linecolor": "white",
            "showbackground": true,
            "ticks": "",
            "zerolinecolor": "white"
           },
           "zaxis": {
            "backgroundcolor": "#E5ECF6",
            "gridcolor": "white",
            "gridwidth": 2,
            "linecolor": "white",
            "showbackground": true,
            "ticks": "",
            "zerolinecolor": "white"
           }
          },
          "shapedefaults": {
           "line": {
            "color": "#2a3f5f"
           }
          },
          "ternary": {
           "aaxis": {
            "gridcolor": "white",
            "linecolor": "white",
            "ticks": ""
           },
           "baxis": {
            "gridcolor": "white",
            "linecolor": "white",
            "ticks": ""
           },
           "bgcolor": "#E5ECF6",
           "caxis": {
            "gridcolor": "white",
            "linecolor": "white",
            "ticks": ""
           }
          },
          "title": {
           "x": 0.05
          },
          "xaxis": {
           "automargin": true,
           "gridcolor": "white",
           "linecolor": "white",
           "ticks": "",
           "title": {
            "standoff": 15
           },
           "zerolinecolor": "white",
           "zerolinewidth": 2
          },
          "yaxis": {
           "automargin": true,
           "gridcolor": "white",
           "linecolor": "white",
           "ticks": "",
           "title": {
            "standoff": 15
           },
           "zerolinecolor": "white",
           "zerolinewidth": 2
          }
         }
        },
        "title": {
         "text": " "
        },
        "width": 625,
        "xaxis": {
         "showgrid": false,
         "showline": false,
         "showticklabels": false,
         "title": {
          "text": ""
         },
         "zeroline": false
        },
        "yaxis": {
         "scaleanchor": "x",
         "showgrid": false,
         "showline": false,
         "showticklabels": false,
         "title": {
          "text": ""
         },
         "zeroline": false
        }
       }
      },
      "text/html": [
       "<div>                            <div id=\"eefea69f-dde8-464f-8a9f-d365eb554bc6\" class=\"plotly-graph-div\" style=\"height:625px; width:625px;\"></div>            <script type=\"text/javascript\">                require([\"plotly\"], function(Plotly) {                    window.PLOTLYENV=window.PLOTLYENV || {};                                    if (document.getElementById(\"eefea69f-dde8-464f-8a9f-d365eb554bc6\")) {                    Plotly.newPlot(                        \"eefea69f-dde8-464f-8a9f-d365eb554bc6\",                        [{\"hoverinfo\":\"text\",\"line\":{\"color\":\"rgba(213,62,79,0.75)\",\"shape\":\"spline\",\"width\":0.25},\"mode\":\"lines\",\"text\":\"Lake Union Park<br>1496 partidas\",\"x\":[1.1,1.0999925525688983,1.0999702103764366,1.0999329737251462,1.0998808431192402,1.099813819264608,1.099731903068805,1.099635095641041,1.0995233982921644,1.0993968125346445,1.099255340082552,1.0990989828515347,1.098927742958792,1.0987416227230464,1.0985406246645117,1.098324751504859,1.0980940061671807,1.0978483917759487,1.097587911656975,1.0973125693373642,1.0970223685454672,1.0967173132108303,1.0963974074641418,1.0960626556371764,1.095713062262736,1.095348632074589,1.094969370007406,1.094575281196692,1.0941663709787193,1.0937426448904521,1.093304108669474,1.092850768253909,1.0923826297823418,1.0918996995937345,1.09140198422734,1.0908894904226145,1.090362225119126,1.08982019545646,1.0892634087741226,1.0886918726114425,1.088105594707467,1.0875045830008585,1.0868888456297865,1.0862583909318178,1.0856132274438028,1.0849533639017614,1.084278809240763,1.0835895725948061,1.0828856632966954,1.0821670908779144,1.0814338650684971,1.0806859957968955,1.0799234931898458,1.0791463675722308,1.0783546294669408,1.0775482895947301,1.076727358874073,1.075891848421014,1.0750417695490204,1.0741771337688262,1.0732979527882776,1.0724042385121737,1.0714960030421072,1.0705732586762975,1.069636017909427,1.06868429343247,1.0677180981325223,1.0667374450926252,1.06574234759159,1.0647328191038163,1.0637088732991113,1.062670524042504,1.061617785394057,1.0605506716086768,1.0594691971359205,1.0583733766198,1.0572632248985843,1.0561387570045977,1.0549999881640169,1.0538469337966645,1.0526796095158004,1.0514980311279107,1.0503022146324925,1.0490921762218386,1.0478679322808175,1.0466294993866518,1.0453768943086938,1.0441101340081977,1.042829235638091,1.041534216542742,1.0402250942577236,1.0389018865095783,1.0375646112155756,1.0362132864834717,1.0348479306112626,1.0334685620869366,1.0320751995882251,1.0306678619823482,1.0292465683257606,1.027811337863892],\"y\":[0.0,0.004047751593157706,0.008095448376586123,0.012143035541298136,0.016190458279790945,0.02023766178678822,0.024284591259982176,0.02833119190077569,0.03237740891502427,0.036423187513778016,0.04046847291402356,0.04451321033942578,0.048557345021069585,0.05260082219820151,0.0566435871189712,0.06068558504117285,0.06472676123298636,0.06876706097371854,0.07280642955454403,0.07684481227924611,0.08088215446495728,0.08491840144289985,0.08895349855912597,0.09298739117525794,0.09702002466922788,0.10105134443601739,0.10508129588839703,0.10910982445766533,0.11313687559438783,0.11716239476913567,0.12118632747322393,0.12520861921944973,0.12922921554283007,0.13324806200133932,0.13726510417664636,0.1412802876748515,0.14529355812722297,0.14930486119093317,0.1533141425497945,0.15732134791499472,0.1613264230258323,0.165329313650451,0.1693299655865742,0.17332832466223885,0.17732433673652911,0.18131794770030926,0.18530910347695664,0.1892977500230937,0.19328383332931975,0.19726729942094245,0.2012480943587087,0.2052261642395347,0.20920145519723618,0.21317391340325764,0.21714348506740136,0.2211101164385555,0.2250737538054221,0.22903434349724458,0.232991831884534,0.2369461653797957,0.24089729043825464,0.24484515355858055,0.24878970128361236,0.25273088020108203,0.25666863694433784,0.260602918193067,0.2645336706740176,0.26846084116172014,0.2723843764792079,0.2763042234987374,0.2802203291425075,0.2841326403833782,0.28804110424558893,0.29194566780547526,0.2958462781921862,0.29974288258839965,0.303635428231038,0.30752386241198204,0.3114081324787851,0.3152881858353861,0.31916396994282115,0.32303543231993564,0.32690252054409424,0.3307651822518915,0.3346233651398602,0.33847701696517973,0.3423260855463841,0.34617051876406757,0.350010264561591,0.35384527094578666,0.35767548598766213,0.3615008578231036,0.3653213346535779,0.3691368647468343,0.37294739643760455,0.3767528781283029,0.38055325828972425,0.3843484854617425,0.3881385082540069,0.3919232753466383],\"type\":\"scatter\"},{\"hoverinfo\":\"text\",\"line\":{\"color\":\"rgba(244,109,67,0.75)\",\"shape\":\"spline\",\"width\":0.25},\"mode\":\"lines\",\"text\":\"E Pine St & 16th Ave<br>439 partidas\",\"x\":[1.0278110916110326,1.027387283324997,1.0269622770834643,1.0265360733820008,1.026108672717569,1.0256800755885271,1.0252502824946288,1.024819293937022,1.0243871104182483,1.0239537324422427,1.023519160514334,1.0230833951412415,1.0226464368310773,1.0222082860933441,1.021768943438935,1.0213284093801327,1.02088668443061,1.0204437691054267,1.0199996639210318,1.019554369395262,1.0191078860473395,1.0186602143978738,1.0182113549688594,1.0177613082836763,1.017310074867088,1.0168576552452426,1.0164040499456712,1.0159492594972872,1.0154932844303857,1.0150361252766436,1.014577782569118,1.0141182568422464,1.0136575486318458,1.0131956584751116,1.0127325869106176,1.012268334478315,1.0118029017195325,1.011336289176974,1.0108684973947202,1.010399526918226,1.009929378294321,1.0094580520712086,1.0089855487984654,1.00851186902704,1.0080370133092535,1.0075609821987974,1.0070837762507343,1.0066053960214965,1.0061258420688857,1.0056451149520718,1.005163215231593,1.0046801434693546,1.004195900228629,1.0037104860740533,1.0032239015716313,1.002736147288731,1.0022472237940843,1.0017571316577862,1.0012658714512945,1.0007734437474296,1.0002798491203722,0.9997850881456642,0.9992891614002078,0.9987920694622641,0.9982938129114525,0.9977943923287511,0.997293808296495,0.9967920613983758,0.996289152219441,0.9957850813460936,0.9952798493660907,0.9947734568685439,0.9942659044439175,0.9937571926840285,0.9932473221820456,0.9927362935324889,0.9922241073312283,0.9917107641754842,0.9911962646638257,0.99068060939617,0.9901637989737821,0.9896458339992742,0.9891267150766043,0.9886064428110763,0.9880850178093389,0.9875624406793845,0.9870387120305492,0.9865138324735119,0.9859878026202933,0.9854606230842555,0.9849322944801011,0.9844028174238726,0.9838721925329512,0.9833404204260573,0.982807501723248,0.9822734370459184,0.981738227016799,0.9812018722599564,0.9806643734007913,0.9801257310660392],\"y\":[0.39192392113947055,0.3930335482653897,0.3941427171058042,0.39525142636739924,0.39635967475739636,0.39746746098355423,0.39857478375417044,0.3996816417780832,0.40078803376467215,0.4018939584238607,0.40299941446611726,0.4041044006024564,0.4052089155444406,0.406312958004182,0.4074165266943434,0.40851962032814043,0.40962223761934197,0.410724377282273,0.4118260380318152,0.4129272185834084,0.4140279176530528,0.4151281339573097,0.41622786621330327,0.4173271131387225,0.41842587345182186,0.4195241458714233,0.4206219291169179,0.42171922190826694,0.42281602296600357,0.4239123310112343,0.4250081447656407,0.4261034629514804,0.42719828429158907,0.4282926075093817,0.429386431328854,0.4304797544745841,0.4315725756717339,0.43266489364605054,0.43375670712386794,0.4348480148321082,0.43593881549828345,0.43702910785049665,0.4381188906174438,0.4392081625284148,0.4402969223132954,0.44138516870256844,0.4424729004273155,0.44356011621921815,0.44464681481055945,0.44573299493422575,0.44681865532370785,0.44790379471310254,0.4489884118371142,0.45007250543105604,0.4511560742308518,0.45223911697303715,0.45332163239476114,0.4544036192337877,0.4554850762284971,0.45656600211788734,0.4576463956415759,0.4587262555398007,0.45980558055342213,0.4608843694239242,0.4619626208934161,0.4630403337046336,0.4641175066009404,0.4651941383263301,0.4662702276254272,0.4673457732434884,0.46842077392640463,0.46949522842070224,0.47056913547354423,0.47164249383273216,0.47271530224670727,0.473787559464552,0.4748592642359915,0.4759304153113953,0.47700101144177826,0.47807105137880246,0.4791405338747786,0.48020945768266715,0.4812778215560802,0.4823456242492826,0.48341286451719373,0.4844795411153886,0.4855456528000995,0.48661119832821753,0.48767617645729383,0.48874058594554115,0.4898044255518354,0.49086769403571673,0.4919303901573916,0.4929925126777335,0.4940540603582849,0.4951150319612587,0.4961754262495393,0.49723524198668434,0.4982944779369259,0.4993531328651724],\"type\":\"scatter\"},{\"hoverinfo\":\"text\",\"line\":{\"color\":\"rgba(253,174,97,0.75)\",\"shape\":\"spline\",\"width\":0.25},\"mode\":\"lines\",\"text\":\"Seattle Aquarium<br>4733 partidas\",\"x\":[0.9801254173130189,0.9742456521567747,0.96823384298827,0.9620908046157634,0.9558173696336137,0.949414388309435,0.9428827284688545,0.9362232753778933,0.9294369316229821,0.9225246169886288,0.9154872683327566,0.9083258394597272,0.9010413009910667,0.8936346402339135,0.8861068610472037,0.8784589837056135,0.8706920447612764,0.862807096903295,0.8548052088150649,0.8466874650294308,0.8384549657816956,0.8301088268604998,0.821650179456593,0.8130801700095202,0.804399960052237,0.7956107260536842,0.7867136592593337,0.7777099655297346,0.7686008651770766,0.7593875927997958,0.7500713971152443,0.7406535407904447,0.7311353002709562,0.7215179656078708,0.7118028402829685,0.701991241032048,0.6920844976664656,0.6820839528928987,0.6719909621313622,0.661806893331503,0.6515331267871955,0.6411710549494629,0.6307220822377531,0.6201876248495906,0.6095691105686328,0.5988679785711564,0.5880856792309976,0.577223673922979,0.56628343482484,0.5552664447177067,0.5441741967851249,0.5330081944106801,0.5217699509742381,0.51046098964683,0.49908284318420837,0.4876370537191071,0.47612517255222886,0.4645487599419894,0.4529093848930491,0.4412086249436583,0.429448065951847,0.4176293018804848,0.4057539345812446,0.3938235735774969,0.3818398358461622,0.3698043455985554,0.3577187340602496,0.34558463924998706,0.3334037057576722,0.32117758452147205,0.30890793260405786,0.2965964129680145,0.28424469425045207,0.2718544505368486,0.2594273611341518,0.24696511034317611,0.23446938723032176,0.22194188539864668,0.20938430275832534,0.19679834129652385,0.18418570684672034,0.1715481088575063,0.15888726016089688,0.1462048767401837,0.1335026774973582,0.1207823840201417,0.10804572034865141,0.09529441274173162,0.08253018944298773,0.06975478044654786,0.056969917262589514,0.04417733268265975,0.03137876054482275,0.018575935498663366,0.005770592770182748,-0.0070355320733841145,-0.019840703358799294,-0.032643185542064995,-0.04544124344364914,-0.05823314248366368],\"y\":[0.49935374869623306,0.5107302705475962,0.5220375707668621,0.5332741168234151,0.5444383857762786,0.5555288644805251,0.5665440497923604,0.5774824487728519,0.5883425788902724,0.5991229682210356,0.6098221556491921,0.6204386910644614,0.6309711355587719,0.6414180616212831,0.6517780533318621,0.6620497065529906,0.6722316291200732,0.682322441030125,0.6923207746288086,0.7022252747957998,0.7120345991284522,0.7217474181237401,0.7313624153584517,0.7408782876676101,0.7502937453210973,0.7596075121984573,0.768818325961855,0.7779249382271655,0.7869261147331745,0.7958206355088637,0.8046072950387573,0.8132849024263129,0.8218522815553286,0.8303082712493471,0.8386517254290359,0.8468815132675204,0.8549965193436497,0.862995643793176,0.8708778024578225,0.8786419270322267,0.88628696520873,0.8938118808200041,0.9012156539794863,0.9084972812196103,0.9156557756278099,0.9226901669802802,0.9295995018734768,0.9363828438533347,0.94303927354219,0.949567888763388,0.9559678046635589,0.9622381538325462,0.9683780864209708,0.9743867702554151,0.9802633909512112,0.9860071520228181,0.9916172749917734,0.9970929994922039,1.002433583373881,1.0076383028028095,1.0127064523593292,1.0176373451337264,1.022430312819333,1.0270847058031047,1.0315998932536665,1.0359752632068124,1.0402102226484475,1.0443041975949614,1.0482566331710244,1.0520669936847904,1.0557347627005027,1.0592594431084894,1.0626405571925377,1.065877646694642,1.0689702728771135,1.0719180165820439,1.0747204782881163,1.0773772781647541,1.0798880561236013,1.0822524718673259,1.0844702049357438,1.0865409547492508,1.0884644406495618,1.0902404019377505,1.0918685979095821,1.0933488078881375,1.0946808312537226,1.09586448747106,1.0968996161137559,1.0977860768860452,1.0985237496418063,1.0991125344008437,1.0995523513624401,1.0998431409161715,1.0999848636499872,1.0999775003555503,1.099821052030842,1.0995155398800267,1.0990610053105765,1.098457509927661],\"type\":\"scatter\"},{\"hoverinfo\":\"text\",\"line\":{\"color\":\"rgba(254,224,139,0.75)\",\"shape\":\"spline\",\"width\":0.25},\"mode\":\"lines\",\"text\":\"Pier 69<br>7898 partidas\",\"x\":[-0.058233832664860916,-0.07956136026086637,-0.10085886132858224,-0.12211829817211882,-0.1433316474610592,-0.1644909032584705,-0.18558808004235194,-0.20661521571937713,-0.22756437462979645,-0.24842765054236146,-0.2691971696381437,-0.2898650934821205,-0.31042362198140805,-0.33086499632902344,-0.351181501932065,-0.37136547132320585,-0.3914092870544045,-0.4113053845717355,-0.4310462550702584,-0.45062444832784865,-0.4700325755169175,-0.48926331199296125,-0.5083094000588908,-0.5271636517040905,-0.5458189513171808,-0.5642682583714578,-0.5825046100819912,-0.6005211240333888,-0.6183110007772236,-0.6358675263981528,-0.6531840750477567,-0.6702541114451366,-0.6870711933433393,-0.7036289739606642,-0.7199212043759451,-0.7359417358868988,-0.7516845223306516,-0.7671436223655651,-0.782313201713505,-0.7971875353617016,-0.8117610097233756,-0.8260281247563118,-0.8399834960385769,-0.853621856800609,-0.8669380599128977,-0.8799270798285175,-0.8925840144797723,-0.9049040871282419,-0.9168826481675252,-0.9285151768780079,-0.939797283132984,-0.9507247090554951,-0.9612933306252568,-0.9714991592350667,-0.9813383431961094,-0.9908071691915863,-0.9999020636781256,-1.00861959423444,-1.0169564708567262,-1.024909547200315,-1.0324758217671037,-1.0396524390383262,-1.0464366905522262,-1.0528260159262346,-1.0588180038232589,-1.0644103928617255,-1.0696010724690255,-1.0743880836780475,-1.0787696198664942,-1.0827440274387017,-1.0863098064497092,-1.0894656111713392,-1.0922102506000764,-1.0945426889065537,-1.0964620458264744,-1.0979675969928266,-1.0990587742092575,-1.099735165664513,-1.0999965160878546,-1.0998427268453999,-1.099273855977346,-1.0982901181760656,-1.0968918847050821,-1.0950796832589536,-1.0928541977641215,-1.0902162681207956,-1.0871668898859752,-1.083707213897724,-1.0798385458408446,-1.0755623457541106,-1.0708802274792466,-1.0657939580518638,-1.0603054570345782,-1.0544167957925665,-1.0481301967118315,-1.0414480323604702,-1.034372824593266,-1.0269072435999378,-1.0190541068974075,-1.0108163782664679],\"y\":[1.0984574733384818,1.0971189497741076,1.095366372540029,1.093200403060457,1.0906218587742036,1.0876317128261812,1.0842310937001363,1.0804212847927588,1.0762037239293265,1.0715800028210691,1.066551866464455,1.0611212124826277,1.055290090409241,1.049060700914964,1.042435394976945,1.0354166729915513,1.0280071838307177,1.0202097238422583,1.0120272357945244,1.0034628077657997,0.994519671978857,0.9852012035811155,0.975510919370855,0.9654524764699755,0.9550296709437949,0.9442464363684101,0.9331068423461634,0.9216150929697687,0.9097755252356861,0.8975926074073329,0.8850709373287583,0.8722152406894129,0.8590303692406689,0.8455212989647648,0.8316931281968662,0.8175510757009488,0.8031004787002309,0.788346790862904,0.7732955802439098,0.7579525271835538,0.7423234221637398,0.7264141636226342,0.7102307557285944,0.6937793061141856,0.6770660235711589,0.6600972157072457,0.6428792865656614,0.625418734208213,0.6077221482629265,0.5897962074371129,0.5716476769968213,0.5532834062136188,0.5347103257796699,0.5159354451920887,0.4969658501075454,0.47780869966813644,0.4584712237995158,0.43896072048231577,0.41928455299788103,0.39945014714936067,0.3794649884592043,0.35933661934411804,0.33907263626855033,0.31868068687777795,0.29816846711168093,0.27754371830028424,0.2568142242421764,0.2359878082668948,0.21507233028239536,0.19407568380871468,0.1730057929989495,0.15187060964867535,0.13067811019493014,0.10943629270590097,0.08815317386244383,0.0668367859325847,0.04549517374013047,0.024136391628548682,0.00276850042124917,-0.018600435620576897,-0.039962351841417845,-0.06130918623504869,-0.08263288248713851,-0.10392539301571214,-0.12517868200831375,-0.1463847284547316,-0.16753552917413111,-0.1886231018354662,-0.2096394879700149,-0.23057675597491428,-0.2514270041065537,-0.2721823634627012,-0.29283500095223325,-0.3133771222513493,-0.3338009747451583,-0.35409885045352113,-0.3742630889400512,-0.39428608020316686,-0.41416026754811613,-0.4338781504388771],\"type\":\"scatter\"},{\"hoverinfo\":\"text\",\"line\":{\"color\":\"rgba(255,255,191,0.75)\",\"shape\":\"spline\",\"width\":0.25},\"mode\":\"lines\",\"text\":\"Pine St & 9th Ave<br>1614 partidas\",\"x\":[-1.0108161056525866,-1.0090856311840606,-1.0073392523726703,-1.0055769967433419,-1.0037988920712384,-1.0020049663813213,-1.00019524794791,-0.9983697652942354,-0.9965285471919907,-0.9946716226608773,-0.9927990209681482,-0.9909107716281464,-0.9890069044018398,-0.9870874492963516,-0.9851524365644881,-0.9832018967042618,-0.98123586045841,-0.9792543588139111,-0.9772574230014955,-0.9752450844951543,-0.9732173750116422,-0.9711743265099781,-0.9691159711909416,-0.9670423414965649,-0.9649534701096221,-0.9628493899531139,-0.960730134189748,-0.9585957362214179,-0.9564462296886745,-0.9542816484701978,-0.9521020266822617,-0.9499073986781967,-0.9476977990478486,-0.9454732626170329,-0.9432338244469862,-0.9409795198338137,-0.9387103843079325,-0.9364264536335121,-0.9341277638079102,-0.9318143510611057,-0.9294862518551276,-0.9271435028834801,-0.924786141070565,-0.9224142035710985,-0.9200277277695263,-0.917626751279435,-0.9152113119429582,-0.9127814478301804,-0.9103371972385373,-0.9078785986922117,-0.9054056909415269,-0.902918512962335,-0.9004171039554042,-0.897901503345799,-0.8953717507822604,-0.8928278861365797,-0.8902699495029718,-0.8876979811974411,-0.8851120217571481,-0.8825121119397688,-0.8798982927228536,-0.8772706053031808,-0.8746290910961072,-0.8719737917349161,-0.8693047490701599,-0.8666220051690018,-0.8639256023145518,-0.8612155830052008,-0.8584919899539504,-0.8557548660877398,-0.8530042545467696,-0.8502401986838216,-0.8474627420635752,-0.8446719284619212,-0.8418678018652718,-0.8390504064698668,-0.8362197866810779,-0.8333759871127081,-0.8305190525862888,-0.8276490281303737,-0.8247659589798282,-0.8218698905751175,-0.8189608685615896,-0.8160389387887559,-0.8131041473095697,-0.8101565403796988,-0.8071961644567971,-0.804223066199773,-0.801237292468053,-0.7982388903208435,-0.7952279070163892,-0.7922043900112287,-0.7891683869594455,-0.7861199457119177,-0.7830591143155633,-0.7799859410125838,-0.7769004742397025,-0.7738027626274024,-0.7706928549991591,-0.767570800370671],\"y\":[-0.43387878555345294,-0.43788832930082344,-0.4418909714276474,-0.4458866488477101,-0.44987529858456865,-0.45385685777254436,-0.45783126365771387,-0.46179845359889793,-0.4657583650686488,-0.4697109356542358,-0.47365610305862904,-0.47759380510148114,-0.48152397972010735,-0.4854465649704638,-0.4893614990281236,-0.49326872018925166,-0.49716816687157667,-0.5010597776153621,-0.5049434910843749,-0.5088192460668518,-0.5126869814764646,-0.5165466363532828,-0.5203981498647342,-0.5242414613065638,-0.5280765101037905,-0.5319032358116622,-0.535721578116608,-0.5395314768371888,-0.5433328719250469,-0.5471257034658508,-0.5509099116802402,-0.5546854369247688,-0.5584522196928434,-0.5622102006156624,-0.5659593204631514,-0.5696995201448968,-0.5734307407110766,-0.57715292335339,-0.5808660094059847,-0.5845699403463803,-0.5882646577963924,-0.5919501035230506,-0.5956262194395183,-0.5992929476060072,-0.6029502302306903,-0.6065980096706137,-0.610236228432604,-0.6138648291741755,-0.6174837547044332,-0.6210929479849744,-0.6246923521307881,-0.6282819104111511,-0.6318615662505223,-0.6354312632294341,-0.6389909450853823,-0.6425405557137126,-0.6460800391685044,-0.649609339663453,-0.653128401572749,-0.6566371694319544,-0.6601355879388776,-0.6636236019544446,-0.6671011565035677,-0.6705681967760129,-0.6740246681272626,-0.677470516079378,-0.6809056863218568,-0.6843301247124901,-0.6877437772782148,-0.6911465902159648,-0.6945385098935191,-0.697919482850347,-0.7012894557984503,-0.7046483756232035,-0.7079961893841912,-0.7113328443160427,-0.7146582878292623,-0.7179724675110597,-0.7212753311261749,-0.7245668266177028,-0.727846902107912,-0.7311155058990642,-0.7343725864742278,-0.7376180924980903,-0.7408519728177673,-0.7440741764636088,-0.7472846526500029,-0.7504833507761752,-0.7536702204269875,-0.7568452113737317,-0.7600082735749217,-0.763159357177082,-0.7662984125155337,-0.7694253901151766,-0.7725402406912701,-0.7756429151502091,-0.7787333645902977,-0.7818115403025208,-0.7848773937713109,-0.7879308766753133],\"type\":\"scatter\"},{\"hoverinfo\":\"text\",\"line\":{\"color\":\"rgba(230,245,152,0.75)\",\"shape\":\"spline\",\"width\":0.25},\"mode\":\"lines\",\"text\":\"2nd Ave & Pine St<br>3239 partidas\",\"x\":[-0.767570305298949,-0.7612684594282708,-0.7549182921753098,-0.7485202066158214,-0.7420746088671673,-0.7355819080625363,-0.7290425163249772,-0.7224568487412358,-0.7158253233354105,-0.7091483610424147,-0.7024263856812639,-0.695659823928167,-0.688849105289448,-0.6819946620742806,-0.675096929367249,-0.6681563450007298,-0.6611733495271017,-0.6541483861907808,-0.6470819009000857,-0.639974342198934,-0.632826161238371,-0.6256378117479323,-0.6184097500068447,-0.6111424348150625,-0.6038363274641461,-0.5964918917079806,-0.5891095937333424,-0.581689902130303,-0.5742332878624893,-0.5667402242371871,-0.5592111868752992,-0.551646653681155,-0.5440471048121758,-0.5364130226483963,-0.5287448917618465,-0.5210431988857928,-0.5133084328838432,-0.5055410847189166,-0.49774164742207877,-0.48991061606124775,-0.48204848770976927,-0.4741557614148648,-0.46623293816595435,-0.4582805208628593,-0.45029901428387603,-0.4422889250537381,-0.4342507616114582,-0.42618503417805464,-0.418092254724165,-0.4099729369375496,-0.40182759619048436,-0.3936567495070482,-0.38546091553030504,-0.3772406144893826,-0.3689963681664515,-0.3607286998636047,-0.3524381343696414,-0.34412519792675583,-0.33579041819713457,-0.3274343242294618,-0.3190574464253422,-0.3106603165056279,-0.3022434674766716,-0.29380743359649286,-0.2853527503408665,-0.27687995436933294,-0.26838958349113423,-0.25988217663107666,-0.2513582737953222,-0.2428184160371122,-0.2342631454224239,-0.22569300499556283,-0.21710853874469332,-0.20851029156730883,-0.19989880923564374,-0.19127463836203543,-0.18263832636421753,-0.1739904214305861,-0.16533147248539293,-0.15666202915390753,-0.14798264172752865,-0.13929386112885478,-0.1305962388767144,-0.12189032705115832,-0.11317667825841667,-0.10445584559582215,-0.09572838261670234,-0.08699484329524304,-0.07825578199132481,-0.06951175341533507,-0.060763312592957947,-0.052011014829943185,-0.043255415676862086,-0.03449707089383817,-0.025736536415274323,-0.016974368314563965,-0.008211122768794411,0.0005526439765564092,0.009316375642927498,0.018079515953984496],\"y\":[-0.7879313589541151,-0.7940216197810406,-0.8000614802245598,-0.8060505569055877,-0.8119884696685298,-0.8178748416054125,-0.8237092990798062,-0.8294914717505438,-0.8352209925952263,-0.8408974979335216,-0.846520627450245,-0.8520900242182347,-0.8576053347210051,-0.8630662088751871,-0.8684723000527489,-0.8738232651029989,-0.8791187643743666,-0.8843584617359622,-0.8895420245989123,-0.8946691239374711,-0.8997394343099048,-0.9047526338791498,-0.9097084044332403,-0.9146064314055076,-0.9194464038945461,-0.9242280146839497,-0.9289509602618088,-0.9336149408399795,-0.938219660373111,-0.9427648265774361,-0.9472501509493252,-0.9516753487835985,-0.9560401391915978,-0.9603442451190153,-0.9645873933634803,-0.9687693145919003,-0.9728897433575571,-0.9769484181169553,-0.9809450812464249,-0.9848794790584727,-0.9887513618178864,-0.9925604837575845,-0.996306603094219,-0.9999894820435196,-1.0036088868353896,-1.0071645877287432,-1.010656359026088,-1.0140839790878518,-1.017447230346451,-1.0207458993201002,-1.0239797766263634,-1.0271486569954444,-1.0302523392832161,-1.0332906264839883,-1.0362633257430125,-1.039170248368723,-1.0420112098447152,-1.0447860298414557,-1.0474945322277314,-1.050136545081827,-1.0527119007024381,-1.055220435619318,-1.0576619906036513,-1.0600364106781628,-1.0623435451269534,-1.0645832475050678,-1.0667553756477892,-1.0688597916796636,-1.070896362023252,-1.0728649574076077,-1.0747654528764834,-1.0765977277962615,-1.078361665863612,-1.0800571551128746,-1.0816840879231662,-1.0832423610252107,-1.084731875507896,-1.0861525368245508,-1.0875042547989464,-1.0887869436310211,-1.0900005219023257,-1.0911449125811912,-1.09222004302762,-1.093225844997895,-1.0941622546489123,-1.0950292125422325,-1.0958266636478555,-1.0965545573477118,-1.097212847438876,-1.0978014921365,-1.0983204540764644,-1.0987697003177506,-1.0991492023445324,-1.0994589360679852,-1.0996988818278144,-1.0998690243935056,-1.0999693529652887,-1.0999998611748256,-1.0999605470856124,-1.0998514131931048],\"type\":\"scatter\"},{\"hoverinfo\":\"text\",\"line\":{\"color\":\"rgba(171,221,164,0.75)\",\"shape\":\"spline\",\"width\":0.25},\"mode\":\"lines\",\"text\":\"3rd Ave & Broad St<br>3227 partidas\",\"x\":[0.018080207011004674,0.02680974054719495,0.03553758492578102,0.044263190245702286,0.0529860067469738,0.06170548484532114,0.07042107516680429,0.07913222858243796,0.08783839624278184,0.0965390296125279,0.1052335805050581,0.11392150111698025,0.12260224406264836,0.1312752624086479,0.13994000970825274,0.1485959400358609,0.15724250802138318,0.16587916888461104,0.17450537846953793,0.18312059327864086,0.19172427050712987,0.2003158680771444,0.20889484467190436,0.21746065976982276,0.22601277367855369,0.2345506475690026,0.24307374350927263,0.25158152449855414,0.26007345450096453,0.2685489984793186,0.2770076224288357,0.2854487934107916,0.29387197958608896,0.30227665024877276,0.31066227585946465,0.31902832807872394,0.32737427980034156,0.3356996051845476,0.3440037796911396,0.3522862801125375,0.3605465846067412,0.36878417273021624,0.3769985254706812,0.385189125279806,0.3933554561058253,0.4014970034260503,0.40961325427928313,0.417703697298143,0.42576782274127745,0.4338051225254854,0.4418150902577264,0.44979722126702326,0.4577510126362644,0.4656759632338879,0.47357157374545245,0.4814373467051026,0.48927278652690853,0.4970773995360887,0.5048506940001196,0.5125921801597108,0.5203013702596683,0.5279777785796235,0.5356209214646331,0.5432303173556586,0.5508054868198995,0.5583459525810068,0.5658512395491512,0.5733208748509533,0.580754387859283,0.5881513102229086,0.5955111758960026,0.6028335211675111,0.6101178846903667,0.6173638075105532,0.624570833096029,0.6317385073654835,0.6388663787169528,0.6459539980562706,0.653000918825361,0.6600066970303801,0.6669708912696826,0.6738930627616391,0.680772775372279,0.6876095956427667,0.6944030928167167,0.7011528388673312,0.7078584085243658,0.7145193793009282,0.7211353315200953,0.7277058483413527,0.7342305157868623,0.7407089227675407,0.747140661108964,0.7535253255770832,0.759862513903754,0.7661518268120865,0.7723928680415968,0.7785852443731777,0.7847285656538718,0.790822444821452],\"y\":[-1.0998514018331929,-1.09967324138209,-1.0994257956122564,-1.0991090801141046,-1.098723114842411,-1.0982679241150604,-1.0977435366115127,-1.097149985370996,-1.096487307790426,-1.0957555456220478,-1.0949547449708072,-1.0940849562914454,-1.093146234385319,-1.0921386383969487,-1.0910622318102916,-1.0899170824447422,-1.0887032624508597,-1.0874208483058208,-1.0860699208086022,-1.0846505650748903,-1.083162870531717,-1.0816069309118264,-1.0799828442477692,-1.078290712865725,-1.0765306433790574,-1.0747027466815937,-1.0728071379406405,-1.0708439365897273,-1.0688132663210794,-1.0667152550778278,-1.0645500350459456,-1.0623177426459203,-1.0600185185241593,-1.0576525075441279,-1.0552198587772208,-1.0527207254933733,-1.0501552651514003,-1.0475236393890779,-1.04482601401296,-1.042062558987929,-1.03923344842649,-1.0363388605777988,-1.0333789778164313,-1.0303539866308948,-1.027264077611876,-1.0241094454402333,-1.0208902888747329,-1.0176068107395222,-1.0142592179113543,-1.010847721306552,-1.0073725358677184,-1.0038338805501958,-1.0002319783082696,-0.9965670560811204,-0.9928393447785274,-0.9890490792663179,-0.9851964983515696,-0.9812818447675673,-0.9773053651585044,-0.973267310063949,-0.9691679339030527,-0.9650074949585242,-0.9607862553603572,-0.9565044810693103,-0.9521624418601554,-0.9477604113046758,-0.9432986667544322,-0.9387774893232889,-0.9341971638696992,-0.9295579789787597,-0.9248602269440287,-0.9201042037491081,-0.9152902090489948,-0.9104185461512044,-0.905489521996656,-0.9005034471403378,-0.8954606357317373,-0.8903614054950494,-0.8852060777091594,-0.8799949771873976,-0.8747284322570781,-0.8694067747388088,-0.8640303399255866,-0.858599466561674,-0.8531144968212523,-0.8475757762868654,-0.8419836539276474,-0.8363384820773325,-0.8306406164120572,-0.8248904159279536,-0.8190882429185261,-0.8132344629518289,-0.8073294448474305,-0.8013735606531768,-0.7953671856217527,-0.7893106981870338,-0.7832044799402496,-0.777048915605935,-0.7708443930176939,-0.764591303093765],\"type\":\"scatter\"},{\"hoverinfo\":\"text\",\"line\":{\"color\":\"rgba(102,194,165,0.75)\",\"shape\":\"spline\",\"width\":0.25},\"mode\":\"lines\",\"text\":\"King Street Station Plaza<br>2215 partidas\",\"x\":[0.7908229252281799,0.7949769208737334,0.799107318122373,0.8032139943658179,0.80729682769993,0.811355696928334,0.8153904815660138,0.8194010618428894,0.8233873187073724,0.827349133829899,0.8312863896064454,0.835198969162015,0.8390867563541097,0.8429496357761778,0.8467874927610389,0.8506002133842886,0.8543876844676794,0.8581497935824809,0.861886429052817,0.8655974799589807,0.8692828361407277,0.8729423882005447,0.8765760275068981,0.8801836461974588,0.8837651371823028,0.8873203941470906,0.8908493115562252,0.8943517846559809,0.8978277094776159,0.9012769828404572,0.9046995023549641,0.9080951664257673,0.9114638742546842,0.9148055258437123,0.9181200219979962,0.9214072643287731,0.9246671552562926,0.9278995980127145,0.9311044966449795,0.9342817560176597,0.9374312818157807,0.9405529805476222,0.9436467595474927,0.9467125269784821,0.9497501918351848,0.9527596639464034,0.9557408539778245,0.9586936734346706,0.9616180346643274,0.964513850858945,0.9673810360580157,0.9702195051509247,0.9730291738794772,0.9758099588403993,0.978561777487814,0.9812845481356912,0.9839781899602724,0.9866426230024707,0.9892777681702429,0.99188354724094,0.9944598828636252,0.9970066985613737,0.9995239187335405,1.002011468658006,1.0044692744933932,1.0068972632812598,1.0092953629482648,1.011663502308306,1.0140016110646357,1.016309619811945,1.0185874600384257,1.020835064127803,1.0230523653613433,1.0252392979198346,1.02739579688554,1.0295217982441247,1.0316172388865574,1.0336820566109817,1.0357161901245642,1.0377195790453122,1.0396921639038688,1.041633886145275,1.0435446881307107,1.0454245131392037,1.0472733053693142,1.0490910099407915,1.0508775728962025,1.0526329412025337,1.0543570627527659,1.0560498863674193,1.0577113617960754,1.0593414397188656,1.0609400717479385,1.062507210428893,1.0640428092421896,1.0655468226045297,1.0670192058702093,1.0684599153324439,1.0698689082246668,1.0712461427217979],\"y\":[-0.7645908062052176,-0.7602708039101055,-0.7559282334476393,-0.7515632237243305,-0.747175904312786,-0.7427664054478618,-0.7383348580227973,-0.7338813935853296,-0.7294061443337889,-0.7249092431131748,-0.72039082341121,-0.715851019354382,-0.7112899657039589,-0.7067077978519901,-0.7021046518172869,-0.6974806642413844,-0.6928359723844867,-0.6881707141213913,-0.6834850279373965,-0.6787790529241912,-0.6740529287757252,-0.6693067957840632,-0.66454079483522,-0.6597550674049778,-0.6549497555546882,-0.650125001927054,-0.6452809497418934,-0.6404177427918922,-0.6355355254383329,-0.6306344426068103,-0.6257146397829288,-0.6207762630079845,-0.6158194588746293,-0.6108443745225204,-0.6058511576339516,-0.6008399564294694,-0.5958109196634747,-0.5907641966198046,-0.5856999371073035,-0.5806182914553746,-0.5755194105095175,-0.5704034456268514,-0.5652705486716222,-0.5601208720106912,-0.5549545685090175,-0.5497717915251169,-0.5445726949065101,-0.5393574329851563,-0.5341261605728712,-0.5288790329567328,-0.5236162058944703,-0.5183378356098414,-0.5130440787879949,-0.5077350925708191,-0.5024110345522778,-0.4970720627737316,-0.49171833571924717,-0.48635001231089187,-0.4809672519040181,-0.4755702142825288,-0.47015905965413984,-0.4647339486456208,-0.45929504229802764,-0.4538425020619225,-0.44837648979258127,-0.4428971677451883,-0.4374046985700209,-0.43189924530762047,-0.42638097138395303,-0.4208500406055581,-0.4153066171546859,-0.409750865584424,-0.40418295081381256,-0.39860303812294867,-0.3930112931480804,-0.38740788187669073,-0.3817929706425665,-0.3761667261208668,-0.3705293153231713,-0.3648809055925235,-0.3592216645984637,-0.3535517603320514,-0.34787136110087863,-0.3421806355240741,-0.33647975252729756,-0.33076888133772553,-0.32504819147902786,-0.31931785276633556,-0.3135780353011997,-0.3078289094665424,-0.3020706459215989,-0.29630341559685264,-0.2905273896889575,-0.2847427396556618,-0.2789496372107144,-0.2731482543187691,-0.26733876319027944,-0.261521336276387,-0.25569614626380216,-0.24986336606967813],\"type\":\"scatter\"},{\"hoverinfo\":\"text\",\"line\":{\"color\":\"rgba(50,136,189,0.75)\",\"shape\":\"spline\",\"width\":0.25},\"mode\":\"lines\",\"text\":\"Burke-Gilman Trail<br>941 partidas\",\"x\":[1.0712462997153693,1.071821766848889,1.072391491735672,1.072955471323438,1.0735137025906865,1.0740661825467128,1.0746129082316263,1.0751538767163633,1.0756890851027043,1.07621853052329,1.0767422101416353,1.077260121152145,1.0777722607801299,1.07827862628182,1.0787792149443807,1.0792740240859258,1.079763051055533,1.080246293233258,1.080723748030148,1.0811954128882562,1.0816612852806549,1.082121362711449,1.0825756427157909,1.0830241228598916,1.0834668007410344,1.0839036739875887,1.0843347402590215,1.084759997245911,1.0851794426699577,1.085593074283998,1.0860008898720157,1.0864028872491527,1.086799064261723,1.087189418787222,1.0875739487343397,1.0879526520429703,1.0883255266842247,1.0886925706604405,1.089053782005192,1.089409158783303,1.089758699090855,1.0901024010551983,1.090440262834962,1.0907722826200639,1.0910984586317192,1.091418789122452,1.0917332723761035,1.0920419067078404,1.0923446904641658,1.092641622022926,1.0929326997933215,1.0932179222159129,1.0934972877626317,1.0937707949367867,1.0940384422730731,1.0943002283375802,1.0945561517277982,1.0948062110726267,1.095050405032382,1.0952887322988032,1.095521191595061,1.0957477816757628,1.0959685013269604,1.096183349366156,1.0963923246423093,1.0965954260358426,1.096792652458647,1.09698400285409,1.0971694761970179,1.097349071493764,1.097522787782153,1.097690624131506,1.0978525796426464,1.0980086534479023,1.0981588447111148,1.0983031526276392,1.098441576424351,1.0985741153596496,1.0987007687234627,1.0988215358372488,1.0989364160540034,1.0990454087582588,1.0991485133660914,1.0992457293251214,1.099337056114518,1.099422493245001,1.099502040258844,1.099575696729877,1.099643462263488,1.0997053364966256,1.0997613190978008,1.0998114097670886,1.0998556082361304,1.099893914268134,1.099926327657877,1.099952848231705,1.0999734758475352,1.0999882103948564,1.099997051794728,1.099999999999783],\"y\":[-0.24986269298582658,-0.24738249758001518,-0.2449009768313312,-0.24241814403443313,-0.23993401249100882,-0.23744859550970504,-0.23496190640605233,-0.23247395850239946,-0.22998476512783828,-0.22749433961813312,-0.22500269531564945,-0.2225098455692825,-0.22001580373438545,-0.21752058317269907,-0.2150241972522763,-0.21252665934741627,-0.21002798283858884,-0.20752818111236399,-0.20502726756133988,-0.20252525558407136,-0.20002215858499803,-0.19751798997437334,-0.19501276316818902,-0.19250649158810898,-0.18999918866139348,-0.18749086782082816,-0.1849815425046521,-0.18247122615648578,-0.1799599322252592,-0.17744767416514065,-0.17493446543546076,-0.1724203195006463,-0.16990524983014402,-0.16738926989834974,-0.16487239318453578,-0.162354633172779,-0.15983600335188858,-0.15731651721533352,-0.15479618826117156,-0.15227502999197295,-0.14975305591475374,-0.14723027954089976,-0.14470671438609514,-0.14218237397024977,-0.13965727181742707,-0.13713142145577142,-0.13460483641743662,-0.13207753023850966,-0.1295495164589438,-0.12702080862248238,-0.12449142027658708,-0.12196136497236539,-0.119430656264498,-0.1168993077111662,-0.11436733287398021,-0.1118347453179026,-0.10930155861118147,-0.10676778632527394,-0.10423344203477425,-0.10169853931734121,-0.09916309175362538,-0.09662711292719625,-0.09409061642446961,-0.09155361583463562,-0.08901612474958213,-0.08647815676382775,-0.08393972547444509,-0.08140084448098889,-0.07886152738542314,-0.07632178779204829,-0.07378163930742822,-0.07124109554031849,-0.06870017010158941,-0.06615887660415899,-0.06361722866291616,-0.06107523989464875,-0.05853292391797056,-0.05599029435324842,-0.05344736482252915,-0.05090414894946765,-0.04836066035924992,-0.045816912678526,-0.04327291953533301,-0.04072869455902311,-0.0381842513801905,-0.03563960363059841,-0.03309476494310604,-0.030549748951596505,-0.028004569290899905,-0.025459239596726104,-0.0229137735055878,-0.020368184654728425,-0.017822486682049103,-0.01527669322603556,-0.012730817925685077,-0.010184874420433422,-0.007638876350082732,-0.0050928373547245494,-0.0025467710746726016,-6.91150385814946e-07],\"type\":\"scatter\"},{\"hoverinfo\":\"text\",\"marker\":{\"color\":\"rgba(213,62,79,0.75)\",\"size\":0.5},\"mode\":\"markers\",\"text\":\"Lake Union Park \\u2b8c : 960 viagens \",\"x\":[0.8725946755989946],\"y\":[0.22040538132333665],\"type\":\"scatter\"},{\"hoverinfo\":\"text\",\"marker\":{\"color\":\"rgba(213,62,79,0.75)\",\"size\":0.5},\"mode\":\"markers\",\"text\":\"Lake Union Park \\u2794 E Pine St & 16th Ave: 19 viagens \",\"x\":[0.8999812606617082],\"y\":[0.005807792847753183],\"type\":\"scatter\"},{\"hoverinfo\":\"text\",\"marker\":{\"color\":\"rgba(244,109,67,0.75)\",\"size\":0.5},\"mode\":\"markers\",\"text\":\"E Pine St & 16th Ave \\u2794 Lake Union Park: 5 viagens \",\"x\":[0.8401136922088065],\"y\":[0.3228141635109691],\"type\":\"scatter\"},{\"hoverinfo\":\"text\",\"marker\":{\"color\":\"rgba(213,62,79,0.75)\",\"size\":0.5},\"mode\":\"markers\",\"text\":\"Lake Union Park \\u2794 Seattle Aquarium: 17 viagens \",\"x\":[0.8999980720236289],\"y\":[0.001862888550337947],\"type\":\"scatter\"},{\"hoverinfo\":\"text\",\"marker\":{\"color\":\"rgba(253,174,97,0.75)\",\"size\":0.5},\"mode\":\"markers\",\"text\":\"Seattle Aquarium \\u2794 Lake Union Park: 70 viagens \",\"x\":[0.7890094280583178],\"y\":[0.43297127206673475],\"type\":\"scatter\"},{\"hoverinfo\":\"text\",\"marker\":{\"color\":\"rgba(213,62,79,0.75)\",\"size\":0.5},\"mode\":\"markers\",\"text\":\"Lake Union Park \\u2794 Pier 69: 75 viagens \",\"x\":[0.8987263079734807],\"y\":[0.047864635759151064],\"type\":\"scatter\"},{\"hoverinfo\":\"text\",\"marker\":{\"color\":\"rgba(254,224,139,0.75)\",\"size\":0.5},\"mode\":\"markers\",\"text\":\"Pier 69 \\u2794 Lake Union Park: 97 viagens \",\"x\":[-0.07770630139109433],\"y\":[0.8966391307120811],\"type\":\"scatter\"},{\"hoverinfo\":\"text\",\"marker\":{\"color\":\"rgba(213,62,79,0.75)\",\"size\":0.5},\"mode\":\"markers\",\"text\":\"Lake Union Park \\u2794 Pine St & 9th Ave: 73 viagens \",\"x\":[0.899442872119197],\"y\":[0.03166259297609468],\"type\":\"scatter\"},{\"hoverinfo\":\"text\",\"marker\":{\"color\":\"rgba(255,255,191,0.75)\",\"size\":0.5},\"mode\":\"markers\",\"text\":\"Pine St & 9th Ave \\u2794 Lake Union Park: 53 viagens \",\"x\":[-0.8127171431139611],\"y\":[-0.38664045997370905],\"type\":\"scatter\"},{\"hoverinfo\":\"text\",\"marker\":{\"color\":\"rgba(213,62,79,0.75)\",\"size\":0.5},\"mode\":\"markers\",\"text\":\"Lake Union Park \\u2794 2nd Ave & Pine St: 105 viagens \",\"x\":[0.8974615413908299],\"y\":[0.06754836581587811],\"type\":\"scatter\"},{\"hoverinfo\":\"text\",\"marker\":{\"color\":\"rgba(230,245,152,0.75)\",\"size\":0.5},\"mode\":\"markers\",\"text\":\"2nd Ave & Pine St \\u2794 Lake Union Park: 135 viagens \",\"x\":[-0.6158942701230447],\"y\":[-0.6562577603576221],\"type\":\"scatter\"},{\"hoverinfo\":\"text\",\"marker\":{\"color\":\"rgba(213,62,79,0.75)\",\"size\":0.5},\"mode\":\"markers\",\"text\":\"Lake Union Park \\u2794 3rd Ave & Broad St: 175 viagens \",\"x\":[0.894637625205355],\"y\":[0.0980995390759959],\"type\":\"scatter\"},{\"hoverinfo\":\"text\",\"marker\":{\"color\":\"rgba(171,221,164,0.75)\",\"size\":0.5},\"mode\":\"markers\",\"text\":\"3rd Ave & Broad St \\u2794 Lake Union Park: 264 viagens \",\"x\":[0.16313722925688928],\"y\":[-0.885091093860053],\"type\":\"scatter\"},{\"hoverinfo\":\"text\",\"marker\":{\"color\":\"rgba(213,62,79,0.75)\",\"size\":0.5},\"mode\":\"markers\",\"text\":\"Lake Union Park \\u2794 King Street Station Plaza: 26 viagens \",\"x\":[0.8999359305467565],\"y\":[0.010738757420840362],\"type\":\"scatter\"},{\"hoverinfo\":\"text\",\"marker\":{\"color\":\"rgba(102,194,165,0.75)\",\"size\":0.5},\"mode\":\"markers\",\"text\":\"King Street Station Plaza \\u2794 Lake Union Park: 31 viagens \",\"x\":[0.6495452666204724],\"y\":[-0.6229694588107345],\"type\":\"scatter\"},{\"hoverinfo\":\"text\",\"marker\":{\"color\":\"rgba(213,62,79,0.75)\",\"size\":0.5},\"mode\":\"markers\",\"text\":\"Lake Union Park \\u2794 Burke-Gilman Trail: 46 viagens \",\"x\":[0.8998072091774617],\"y\":[0.018627568608589207],\"type\":\"scatter\"},{\"hoverinfo\":\"text\",\"marker\":{\"color\":\"rgba(50,136,189,0.75)\",\"size\":0.5},\"mode\":\"markers\",\"text\":\"Burke-Gilman Trail \\u2794 Lake Union Park: 25 viagens \",\"x\":[0.8788275117579916],\"y\":[-0.1940675258183533],\"type\":\"scatter\"},{\"hoverinfo\":\"text\",\"marker\":{\"color\":\"rgba(244,109,67,0.75)\",\"size\":0.5},\"mode\":\"markers\",\"text\":\"E Pine St & 16th Ave \\u2b8c : 233 viagens \",\"x\":[0.813187459388484],\"y\":[0.385650302597188],\"type\":\"scatter\"},{\"hoverinfo\":\"text\",\"marker\":{\"color\":\"rgba(244,109,67,0.75)\",\"size\":0.5},\"mode\":\"markers\",\"text\":\"E Pine St & 16th Ave \\u2794 Seattle Aquarium: 2 viagens \",\"x\":[0.8408582363240528],\"y\":[0.3208697966559074],\"type\":\"scatter\"},{\"hoverinfo\":\"text\",\"marker\":{\"color\":\"rgba(253,174,97,0.75)\",\"size\":0.5},\"mode\":\"markers\",\"text\":\"Seattle Aquarium \\u2794 E Pine St & 16th Ave: 23 viagens \",\"x\":[0.8007735049050001],\"y\":[0.4108062728856047],\"type\":\"scatter\"},{\"hoverinfo\":\"text\",\"marker\":{\"color\":\"rgba(244,109,67,0.75)\",\"size\":0.5},\"mode\":\"markers\",\"text\":\"E Pine St & 16th Ave \\u2794 Pier 69: 3 viagens \",\"x\":[0.8406627397931998],\"y\":[0.3213816390576643],\"type\":\"scatter\"},{\"hoverinfo\":\"text\",\"marker\":{\"color\":\"rgba(254,224,139,0.75)\",\"size\":0.5},\"mode\":\"markers\",\"text\":\"Pier 69 \\u2794 E Pine St & 16th Ave: 23 viagens \",\"x\":[-0.05038134424409305],\"y\":[0.8985887380510387],\"type\":\"scatter\"},{\"hoverinfo\":\"text\",\"marker\":{\"color\":\"rgba(244,109,67,0.75)\",\"size\":0.5},\"mode\":\"markers\",\"text\":\"E Pine St & 16th Ave \\u2794 Pine St & 9th Ave: 98 viagens \",\"x\":[0.8280652574486439],\"y\":[0.35257329650231767],\"type\":\"scatter\"},{\"hoverinfo\":\"text\",\"marker\":{\"color\":\"rgba(255,255,191,0.75)\",\"size\":0.5},\"mode\":\"markers\",\"text\":\"Pine St & 9th Ave \\u2794 E Pine St & 16th Ave: 934 viagens \",\"x\":[-0.6971109548184351],\"y\":[-0.5692418788811395],\"type\":\"scatter\"},{\"hoverinfo\":\"text\",\"marker\":{\"color\":\"rgba(244,109,67,0.75)\",\"size\":0.5},\"mode\":\"markers\",\"text\":\"E Pine St & 16th Ave \\u2794 2nd Ave & Pine St: 53 viagens \",\"x\":[0.8344071135503175],\"y\":[0.33729033317992907],\"type\":\"scatter\"},{\"hoverinfo\":\"text\",\"marker\":{\"color\":\"rgba(230,245,152,0.75)\",\"size\":0.5},\"mode\":\"markers\",\"text\":\"2nd Ave & Pine St \\u2794 E Pine St & 16th Ave: 577 viagens \",\"x\":[-0.28475629135785985],\"y\":[-0.8537645193682609],\"type\":\"scatter\"},{\"hoverinfo\":\"text\",\"marker\":{\"color\":\"rgba(244,109,67,0.75)\",\"size\":0.5},\"mode\":\"markers\",\"text\":\"E Pine St & 16th Ave \\u2794 3rd Ave & Broad St: 16 viagens \",\"x\":[0.8392855443085956],\"y\":[0.32496119016680214],\"type\":\"scatter\"},{\"hoverinfo\":\"text\",\"marker\":{\"color\":\"rgba(171,221,164,0.75)\",\"size\":0.5},\"mode\":\"markers\",\"text\":\"3rd Ave & Broad St \\u2794 E Pine St & 16th Ave: 198 viagens \",\"x\":[0.11311728099322291],\"y\":[-0.8928630806236196],\"type\":\"scatter\"},{\"hoverinfo\":\"text\",\"marker\":{\"color\":\"rgba(244,109,67,0.75)\",\"size\":0.5},\"mode\":\"markers\",\"text\":\"E Pine St & 16th Ave \\u2794 King Street Station Plaza: 26 viagens \",\"x\":[0.8376127929190478],\"y\":[0.32924885594084047],\"type\":\"scatter\"},{\"hoverinfo\":\"text\",\"marker\":{\"color\":\"rgba(102,194,165,0.75)\",\"size\":0.5},\"mode\":\"markers\",\"text\":\"King Street Station Plaza \\u2794 E Pine St & 16th Ave: 71 viagens \",\"x\":[0.6668812863355773],\"y\":[-0.6043751731626688],\"type\":\"scatter\"},{\"hoverinfo\":\"text\",\"marker\":{\"color\":\"rgba(244,109,67,0.75)\",\"size\":0.5},\"mode\":\"markers\",\"text\":\"E Pine St & 16th Ave \\u2794 Burke-Gilman Trail: 3 viagens \",\"x\":[0.8404277326957871],\"y\":[0.3219956926976178],\"type\":\"scatter\"},{\"hoverinfo\":\"text\",\"marker\":{\"color\":\"rgba(50,136,189,0.75)\",\"size\":0.5},\"mode\":\"markers\",\"text\":\"Burke-Gilman Trail \\u2794 E Pine St & 16th Ave: 15 viagens \",\"x\":[0.8778719265429725],\"y\":[-0.19834535685951876],\"type\":\"scatter\"},{\"hoverinfo\":\"text\",\"marker\":{\"color\":\"rgba(253,174,97,0.75)\",\"size\":0.5},\"mode\":\"markers\",\"text\":\"Seattle Aquarium \\u2b8c : 1150 viagens \",\"x\":[0.5410432695066993],\"y\":[0.7192163655823615],\"type\":\"scatter\"},{\"hoverinfo\":\"text\",\"marker\":{\"color\":\"rgba(253,174,97,0.75)\",\"size\":0.5},\"mode\":\"markers\",\"text\":\"Seattle Aquarium \\u2794 Pier 69: 2291 viagens \",\"x\":[0.2016578553100923],\"y\":[0.8771169302845168],\"type\":\"scatter\"},{\"hoverinfo\":\"text\",\"marker\":{\"color\":\"rgba(254,224,139,0.75)\",\"size\":0.5},\"mode\":\"markers\",\"text\":\"Pier 69 \\u2794 Seattle Aquarium: 1605 viagens \",\"x\":[-0.6173309097667468],\"y\":[0.654906518402864],\"type\":\"scatter\"},{\"hoverinfo\":\"text\",\"marker\":{\"color\":\"rgba(253,174,97,0.75)\",\"size\":0.5},\"mode\":\"markers\",\"text\":\"Seattle Aquarium \\u2794 Pine St & 9th Ave: 68 viagens \",\"x\":[0.796172733512818],\"y\":[0.4196534027155353],\"type\":\"scatter\"},{\"hoverinfo\":\"text\",\"marker\":{\"color\":\"rgba(255,255,191,0.75)\",\"size\":0.5},\"mode\":\"markers\",\"text\":\"Pine St & 9th Ave \\u2794 Seattle Aquarium: 36 viagens \",\"x\":[-0.8252926409229097],\"y\":[-0.3590153991662327],\"type\":\"scatter\"},{\"hoverinfo\":\"text\",\"marker\":{\"color\":\"rgba(253,174,97,0.75)\",\"size\":0.5},\"mode\":\"markers\",\"text\":\"Seattle Aquarium \\u2794 2nd Ave & Pine St: 158 viagens \",\"x\":[0.7766873578297974],\"y\":[0.45470512223568404],\"type\":\"scatter\"},{\"hoverinfo\":\"text\",\"marker\":{\"color\":\"rgba(230,245,152,0.75)\",\"size\":0.5},\"mode\":\"markers\",\"text\":\"2nd Ave & Pine St \\u2794 Seattle Aquarium: 137 viagens \",\"x\":[-0.593826522820204],\"y\":[-0.6762914022780904],\"type\":\"scatter\"},{\"hoverinfo\":\"text\",\"marker\":{\"color\":\"rgba(253,174,97,0.75)\",\"size\":0.5},\"mode\":\"markers\",\"text\":\"Seattle Aquarium \\u2794 3rd Ave & Broad St: 792 viagens \",\"x\":[0.6944695505899565],\"y\":[0.5724613902294057],\"type\":\"scatter\"},{\"hoverinfo\":\"text\",\"marker\":{\"color\":\"rgba(171,221,164,0.75)\",\"size\":0.5},\"mode\":\"markers\",\"text\":\"3rd Ave & Broad St \\u2794 Seattle Aquarium: 478 viagens \",\"x\":[0.3146155356570754],\"y\":[-0.8432182782193538],\"type\":\"scatter\"},{\"hoverinfo\":\"text\",\"marker\":{\"color\":\"rgba(253,174,97,0.75)\",\"size\":0.5},\"mode\":\"markers\",\"text\":\"Seattle Aquarium \\u2794 King Street Station Plaza: 181 viagens \",\"x\":[0.7572628235278328],\"y\":[0.4863671618259754],\"type\":\"scatter\"},{\"hoverinfo\":\"text\",\"marker\":{\"color\":\"rgba(102,194,165,0.75)\",\"size\":0.5},\"mode\":\"markers\",\"text\":\"King Street Station Plaza \\u2794 Seattle Aquarium: 215 viagens \",\"x\":[0.7129770972014468],\"y\":[-0.5492391636311077],\"type\":\"scatter\"},{\"hoverinfo\":\"text\",\"marker\":{\"color\":\"rgba(253,174,97,0.75)\",\"size\":0.5},\"mode\":\"markers\",\"text\":\"Seattle Aquarium \\u2794 Burke-Gilman Trail: 0 viagens \",\"x\":[0.8019207959833791],\"y\":[0.40856215802419066],\"type\":\"scatter\"},{\"hoverinfo\":\"text\",\"marker\":{\"color\":\"rgba(50,136,189,0.75)\",\"size\":0.5},\"mode\":\"markers\",\"text\":\"Burke-Gilman Trail \\u2794 Seattle Aquarium: 4 viagens \",\"x\":[0.8766233587701106],\"y\":[-0.20379275467643612],\"type\":\"scatter\"},{\"hoverinfo\":\"text\",\"marker\":{\"color\":\"rgba(254,224,139,0.75)\",\"size\":0.5},\"mode\":\"markers\",\"text\":\"Pier 69 \\u2b8c : 4209 viagens \",\"x\":[-0.8948504127855135],\"y\":[0.09613916339138882],\"type\":\"scatter\"},{\"hoverinfo\":\"text\",\"marker\":{\"color\":\"rgba(254,224,139,0.75)\",\"size\":0.5},\"mode\":\"markers\",\"text\":\"Pier 69 \\u2794 Pine St & 9th Ave: 65 viagens \",\"x\":[-0.060006354995004695],\"y\":[0.8979973481921946],\"type\":\"scatter\"},{\"hoverinfo\":\"text\",\"marker\":{\"color\":\"rgba(255,255,191,0.75)\",\"size\":0.5},\"mode\":\"markers\",\"text\":\"Pine St & 9th Ave \\u2794 Pier 69: 52 viagens \",\"x\":[-0.8175936127388097],\"y\":[-0.3762189314863106],\"type\":\"scatter\"},{\"hoverinfo\":\"text\",\"marker\":{\"color\":\"rgba(254,224,139,0.75)\",\"size\":0.5},\"mode\":\"markers\",\"text\":\"Pier 69 \\u2794 2nd Ave & Pine St: 384 viagens \",\"x\":[-0.13005513148030243],\"y\":[0.8905535709746165],\"type\":\"scatter\"},{\"hoverinfo\":\"text\",\"marker\":{\"color\":\"rgba(230,245,152,0.75)\",\"size\":0.5},\"mode\":\"markers\",\"text\":\"2nd Ave & Pine St \\u2794 Pier 69: 310 viagens \",\"x\":[-0.5212286808663187],\"y\":[-0.7337033884631837],\"type\":\"scatter\"},{\"hoverinfo\":\"text\",\"marker\":{\"color\":\"rgba(254,224,139,0.75)\",\"size\":0.5},\"mode\":\"markers\",\"text\":\"Pier 69 \\u2794 3rd Ave & Broad St: 777 viagens \",\"x\":[-0.4042600449909907],\"y\":[0.8040981383039524],\"type\":\"scatter\"},{\"hoverinfo\":\"text\",\"marker\":{\"color\":\"rgba(171,221,164,0.75)\",\"size\":0.5},\"mode\":\"markers\",\"text\":\"3rd Ave & Broad St \\u2794 Pier 69: 347 viagens \",\"x\":[0.22847066428672783],\"y\":[-0.8705177514332384],\"type\":\"scatter\"},{\"hoverinfo\":\"text\",\"marker\":{\"color\":\"rgba(254,224,139,0.75)\",\"size\":0.5},\"mode\":\"markers\",\"text\":\"Pier 69 \\u2794 King Street Station Plaza: 737 viagens \",\"x\":[-0.250020488209378],\"y\":[0.8645748987077663],\"type\":\"scatter\"},{\"hoverinfo\":\"text\",\"marker\":{\"color\":\"rgba(102,194,165,0.75)\",\"size\":0.5},\"mode\":\"markers\",\"text\":\"King Street Station Plaza \\u2794 Pier 69: 962 viagens \",\"x\":[0.8465777810684654],\"y\":[-0.30546040758368936],\"type\":\"scatter\"},{\"hoverinfo\":\"text\",\"marker\":{\"color\":\"rgba(254,224,139,0.75)\",\"size\":0.5},\"mode\":\"markers\",\"text\":\"Pier 69 \\u2794 Burke-Gilman Trail: 1 viagens \",\"x\":[-0.04775529098048729],\"y\":[0.8987321248199427],\"type\":\"scatter\"},{\"hoverinfo\":\"text\",\"marker\":{\"color\":\"rgba(50,136,189,0.75)\",\"size\":0.5},\"mode\":\"markers\",\"text\":\"Burke-Gilman Trail \\u2794 Pier 69: 4 viagens \",\"x\":[0.8768214490551416],\"y\":[-0.20293877519301654],\"type\":\"scatter\"},{\"hoverinfo\":\"text\",\"marker\":{\"color\":\"rgba(255,255,191,0.75)\",\"size\":0.5},\"mode\":\"markers\",\"text\":\"Pine St & 9th Ave \\u2b8c : 186 viagens \",\"x\":[-0.7680253824180608],\"y\":[-0.4691876084910932],\"type\":\"scatter\"},{\"hoverinfo\":\"text\",\"marker\":{\"color\":\"rgba(255,255,191,0.75)\",\"size\":0.5},\"mode\":\"markers\",\"text\":\"Pine St & 9th Ave \\u2794 2nd Ave & Pine St: 158 viagens \",\"x\":[-0.7869977846256194],\"y\":[-0.4366170942534971],\"type\":\"scatter\"},{\"hoverinfo\":\"text\",\"marker\":{\"color\":\"rgba(230,245,152,0.75)\",\"size\":0.5},\"mode\":\"markers\",\"text\":\"2nd Ave & Pine St \\u2794 Pine St & 9th Ave: 344 viagens \",\"x\":[-0.46121433748930984],\"y\":[-0.7728397860451396],\"type\":\"scatter\"},{\"hoverinfo\":\"text\",\"marker\":{\"color\":\"rgba(255,255,191,0.75)\",\"size\":0.5},\"mode\":\"markers\",\"text\":\"Pine St & 9th Ave \\u2794 3rd Ave & Broad St: 151 viagens \",\"x\":[-0.8028638568527019],\"y\":[-0.4067058241033734],\"type\":\"scatter\"},{\"hoverinfo\":\"text\",\"marker\":{\"color\":\"rgba(171,221,164,0.75)\",\"size\":0.5},\"mode\":\"markers\",\"text\":\"3rd Ave & Broad St \\u2794 Pine St & 9th Ave: 166 viagens \",\"x\":[0.03429083173544636],\"y\":[-0.8993465065584518],\"type\":\"scatter\"},{\"hoverinfo\":\"text\",\"marker\":{\"color\":\"rgba(255,255,191,0.75)\",\"size\":0.5},\"mode\":\"markers\",\"text\":\"Pine St & 9th Ave \\u2794 King Street Station Plaza: 42 viagens \",\"x\":[-0.821845873531836],\"y\":[-0.3668369667286727],\"type\":\"scatter\"},{\"hoverinfo\":\"text\",\"marker\":{\"color\":\"rgba(102,194,165,0.75)\",\"size\":0.5},\"mode\":\"markers\",\"text\":\"King Street Station Plaza \\u2794 Pine St & 9th Ave: 65 viagens \",\"x\":[0.6567824489753843],\"y\":[-0.6153347176276476],\"type\":\"scatter\"},{\"hoverinfo\":\"text\",\"marker\":{\"color\":\"rgba(255,255,191,0.75)\",\"size\":0.5},\"mode\":\"markers\",\"text\":\"Pine St & 9th Ave \\u2794 Burke-Gilman Trail: 2 viagens \",\"x\":[-0.8269448888208717],\"y\":[-0.35519311768816136],\"type\":\"scatter\"},{\"hoverinfo\":\"text\",\"marker\":{\"color\":\"rgba(50,136,189,0.75)\",\"size\":0.5},\"mode\":\"markers\",\"text\":\"Burke-Gilman Trail \\u2794 Pine St & 9th Ave: 4 viagens \",\"x\":[0.8770187074198638],\"y\":[-0.2020846031631096],\"type\":\"scatter\"},{\"hoverinfo\":\"text\",\"marker\":{\"color\":\"rgba(230,245,152,0.75)\",\"size\":0.5},\"mode\":\"markers\",\"text\":\"2nd Ave & Pine St \\u2b8c : 427 viagens \",\"x\":[-0.38673967426483974],\"y\":[-0.8126699356747028],\"type\":\"scatter\"},{\"hoverinfo\":\"text\",\"marker\":{\"color\":\"rgba(230,245,152,0.75)\",\"size\":0.5},\"mode\":\"markers\",\"text\":\"2nd Ave & Pine St \\u2794 3rd Ave & Broad St: 1101 viagens \",\"x\":[-0.10561272666154187],\"y\":[-0.8937818257086649],\"type\":\"scatter\"},{\"hoverinfo\":\"text\",\"marker\":{\"color\":\"rgba(171,221,164,0.75)\",\"size\":0.5},\"mode\":\"markers\",\"text\":\"3rd Ave & Broad St \\u2794 2nd Ave & Pine St: 962 viagens \",\"x\":[0.5694964153892733],\"y\":[-0.6969030297385486],\"type\":\"scatter\"},{\"hoverinfo\":\"text\",\"marker\":{\"color\":\"rgba(230,245,152,0.75)\",\"size\":0.5},\"mode\":\"markers\",\"text\":\"2nd Ave & Pine St \\u2794 King Street Station Plaza: 199 viagens \",\"x\":[-0.5656699126386132],\"y\":[-0.7000125355559169],\"type\":\"scatter\"},{\"hoverinfo\":\"text\",\"marker\":{\"color\":\"rgba(102,194,165,0.75)\",\"size\":0.5},\"mode\":\"markers\",\"text\":\"King Street Station Plaza \\u2794 2nd Ave & Pine St: 384 viagens \",\"x\":[0.7853974896266565],\"y\":[-0.4394892300024496],\"type\":\"scatter\"},{\"hoverinfo\":\"text\",\"marker\":{\"color\":\"rgba(230,245,152,0.75)\",\"size\":0.5},\"mode\":\"markers\",\"text\":\"2nd Ave & Pine St \\u2794 Burke-Gilman Trail: 9 viagens \",\"x\":[-0.627305248457754],\"y\":[-0.6453589119686467],\"type\":\"scatter\"},{\"hoverinfo\":\"text\",\"marker\":{\"color\":\"rgba(50,136,189,0.75)\",\"size\":0.5},\"mode\":\"markers\",\"text\":\"Burke-Gilman Trail \\u2794 2nd Ave & Pine St: 1 viagens \",\"x\":[0.8764991299659123],\"y\":[-0.2043263937160317],\"type\":\"scatter\"},{\"hoverinfo\":\"text\",\"marker\":{\"color\":\"rgba(171,221,164,0.75)\",\"size\":0.5},\"mode\":\"markers\",\"text\":\"3rd Ave & Broad St \\u2b8c : 627 viagens \",\"x\":[0.4248787683408167],\"y\":[-0.7933965163858425],\"type\":\"scatter\"},{\"hoverinfo\":\"text\",\"marker\":{\"color\":\"rgba(171,221,164,0.75)\",\"size\":0.5},\"mode\":\"markers\",\"text\":\"3rd Ave & Broad St \\u2794 King Street Station Plaza: 179 viagens \",\"x\":[0.07202776375341151],\"y\":[-0.8971131485206773],\"type\":\"scatter\"},{\"hoverinfo\":\"text\",\"marker\":{\"color\":\"rgba(102,194,165,0.75)\",\"size\":0.5},\"mode\":\"markers\",\"text\":\"King Street Station Plaza \\u2794 3rd Ave & Broad St: 301 viagens \",\"x\":[0.7460547236937624],\"y\":[-0.5033908513811349],\"type\":\"scatter\"},{\"hoverinfo\":\"text\",\"marker\":{\"color\":\"rgba(171,221,164,0.75)\",\"size\":0.5},\"mode\":\"markers\",\"text\":\"3rd Ave & Broad St \\u2794 Burke-Gilman Trail: 6 viagens \",\"x\":[0.015450294973817157],\"y\":[-0.8998673726640066],\"type\":\"scatter\"},{\"hoverinfo\":\"text\",\"marker\":{\"color\":\"rgba(50,136,189,0.75)\",\"size\":0.5},\"mode\":\"markers\",\"text\":\"Burke-Gilman Trail \\u2794 3rd Ave & Broad St: 8 viagens \",\"x\":[0.8773130347071765],\"y\":[-0.20080298586645706],\"type\":\"scatter\"},{\"hoverinfo\":\"text\",\"marker\":{\"color\":\"rgba(102,194,165,0.75)\",\"size\":0.5},\"mode\":\"markers\",\"text\":\"King Street Station Plaza \\u2b8c : 185 viagens \",\"x\":[0.6853926406269647],\"y\":[-0.5832983183366779],\"type\":\"scatter\"},{\"hoverinfo\":\"text\",\"marker\":{\"color\":\"rgba(102,194,165,0.75)\",\"size\":0.5},\"mode\":\"markers\",\"text\":\"King Street Station Plaza \\u2794 Burke-Gilman Trail: 1 viagens \",\"x\":[0.6471131024370618],\"y\":[-0.6254955096995347],\"type\":\"scatter\"},{\"hoverinfo\":\"text\",\"marker\":{\"color\":\"rgba(50,136,189,0.75)\",\"size\":0.5},\"mode\":\"markers\",\"text\":\"Burke-Gilman Trail \\u2794 King Street Station Plaza: 0 viagens \",\"x\":[0.8764742452216657],\"y\":[-0.204433112442949],\"type\":\"scatter\"},{\"hoverinfo\":\"text\",\"marker\":{\"color\":\"rgba(50,136,189,0.75)\",\"size\":0.5},\"mode\":\"markers\",\"text\":\"Burke-Gilman Trail \\u2b8c : 880 viagens \",\"x\":[0.8948387126303851],\"y\":[-0.09624800454032885],\"type\":\"scatter\"}],                        {\"height\":625,\"hovermode\":\"closest\",\"margin\":{\"b\":25,\"l\":25,\"r\":25,\"t\":25},\"paper_bgcolor\":\"rgba(0,0,0,0)\",\"plot_bgcolor\":\"rgba(0,0,0,0)\",\"shapes\":[{\"fillcolor\":\"rgba(213,62,79,0.75)\",\"layer\":\"below\",\"line\":{\"color\":\"rgb(175,175,175)\",\"width\":0.5},\"path\":\"M 0.9914938229008279,0.13015375196090884 Q 0.19390992791088768, 0.04897897362740814 0.9343739435126289, 0.35629388667876205L 0.9343739435126289, 0.35629388667876205 L 0.9695496395544384, 0.2448948681370407 L 0.9914938229008279, 0.13015375196090884 \",\"type\":\"path\"},{\"fillcolor\":\"rgba(213,62,79,0.75)\",\"layer\":\"below\",\"line\":{\"color\":\"rgb(175, 175, 175)\",\"width\":0.5},\"path\":\"M 0.9999914312253062,0.004139743465923568 Q 0.1965576720689555, 0.03694701003914875 0.9332411245717708, 0.35925061365016014L 0.9332411245717708, 0.35925061365016014 L 0.933459658009785, 0.35868240390107675 L 0.933677845489744, 0.358114061217414 M 0.933677845489744,0.358114061217414 Q 0.19649440637609716, 0.037282009909676256 0.9999615741289217, 0.008766428326807591L 0.9999615741289217, 0.008766428326807591 L 0.9999791785130091, 0.006453103164170203 L 0.9999914312253062, 0.004139743465923568 \",\"type\":\"path\"},{\"fillcolor\":\"rgba(253,174,97,0.75)\",\"layer\":\"below\",\"line\":{\"color\":\"rgb(175, 175, 175)\",\"width\":0.5},\"path\":\"M 1.0,0.0 Q 0.1935223550483848, 0.05048859372696865 0.8725450951736551, 0.48853357805620395L 0.8725450951736551, 0.48853357805620395 L 0.8766771422870197, 0.4810791911852608 L 0.8807455060850746, 0.4735898579054937 M 0.8807455060850746,0.4735898579054937 Q 0.19384413422414817, 0.04923872080883529 0.9999914312253062, 0.004139743465923568L 0.9999914312253062, 0.004139743465923568 L 0.999997857804032, 0.002069876167042163 L 1.0, 0.0 \",\"type\":\"path\"},{\"fillcolor\":\"rgba(254,224,139,0.75)\",\"layer\":\"below\",\"line\":{\"color\":\"rgb(175, 175, 175)\",\"width\":0.5},\"path\":\"M 0.9990288007448713,0.04406194823500472 Q 0.13100728438931938, 0.15111946081473424 -0.09810043061287431, 0.9951765197760489L -0.09810043061287431, 0.9951765197760489 L -0.0863403348789937, 0.9962657007912012 L -0.07456819586274754, 0.9972159165224825 M -0.07456819586274754,0.9972159165224825 Q 0.13141161482897948, 0.15076799225313028 0.9980575011116339, 0.06229947411335748L 0.9980575011116339, 0.06229947411335748 L 0.9985847866372008, 0.053182928621278956 L 0.9990288007448713, 0.04406194823500472 \",\"type\":\"path\"},{\"fillcolor\":\"rgba(213,62,79,0.75)\",\"layer\":\"below\",\"line\":{\"color\":\"rgb(175, 175, 175)\",\"width\":0.5},\"path\":\"M 0.9996541848786391,0.026296590171041346 Q -0.04722993846235495, 0.1943433377114898 -0.9002279889333439, -0.4354188419683136L -0.9002279889333439, -0.4354188419683136 L -0.9030190479044012, -0.42960051108189895 L -0.905772502467258, -0.4237642903480671 M -0.905772502467258,-0.4237642903480671 Q -0.04770305301290772, 0.19422774964779807 0.9990288007448713, 0.04406194823500472L 0.9990288007448713, 0.04406194823500472 L 0.99938096902133, 0.03518065886232742 L 0.9996541848786391, 0.026296590171041346 \",\"type\":\"path\"},{\"fillcolor\":\"rgba(230,245,152,0.75)\",\"layer\":\"below\",\"line\":{\"color\":\"rgb(175, 175, 175)\",\"width\":0.5},\"path\":\"M 0.9980575011116339,0.06229947411335748 Q -0.08662312423552013, 0.18026767416172443 -0.6722494038514131, -0.7403247524035784L -0.6722494038514131, -0.7403247524035784 L -0.6843269668033829, -0.7291752892862468 L -0.696219639626708, -0.7178288190077471 M -0.696219639626708,-0.7178288190077471 Q -0.08596407677894496, 0.1805828826426903 0.9961384985513156, 0.08779573852944474L 0.9961384985513156, 0.08779573852944474 L 0.9971794904342555, 0.07505373979542013 L 0.9980575011116339, 0.06229947411335748 \",\"type\":\"path\"},{\"fillcolor\":\"rgba(171,221,164,0.75)\",\"layer\":\"below\",\"line\":{\"color\":\"rgb(175, 175, 175)\",\"width\":0.5},\"path\":\"M 0.9961384985513156,0.08779573852944474 Q -0.16110491668756088, 0.1185124711542801 0.21277604046217916, -0.9771009961131127L 0.21277604046217916, -0.9771009961131127 L 0.1812635880632103, -0.9834345487333922 L 0.14956386345197495, -0.9887520673805537 M 0.14956386345197495,-0.9887520673805537 Q -0.15981122852105856, 0.12025128372948873 0.9914938229008279, 0.13015375196090884L 0.9914938229008279, 0.13015375196090884 L 0.9940418057837277, 0.10899948786221766 L 0.9961384985513156, 0.08779573852944474 \",\"type\":\"path\"},{\"fillcolor\":\"rgba(102,194,165,0.75)\",\"layer\":\"below\",\"line\":{\"color\":\"rgb(175, 175, 175)\",\"width\":0.5},\"path\":\"M 0.9999615741289217,0.008766428326807591 Q -0.18602906935285493, 0.07343830986420295 0.7243244698825131, -0.6894592535671824L 0.7243244698825131, -0.6894592535671824 L 0.721716962911636, -0.6921882875674827 L 0.7190991738418623, -0.6949074601556319 M 0.7190991738418623,-0.6949074601556319 Q -0.1859843263987324, 0.0735515488212843 0.9998860284038681, 0.01509735747536738L 0.9998860284038681, 0.01509735747536738 L 0.9999288117186182, 0.011931952689822625 L 0.9999615741289217, 0.008766428326807591 \",\"type\":\"path\"},{\"fillcolor\":\"rgba(213,62,79,0.75)\",\"layer\":\"below\",\"line\":{\"color\":\"rgb(175, 175, 175)\",\"width\":0.5},\"path\":\"M 0.9998860284038681,0.01509735747536738 Q -0.19900884662219354, 0.019886652963841137 0.9771268536710254, -0.21265726377192626L 0.9771268536710254, -0.21265726377192626 L 0.9764750130644351, -0.21563058424261478 L 0.9758141248985377, -0.2186019067814849 M 0.9758141248985377,-0.2186019067814849 Q -0.19905904442510275, 0.01937774064655056 0.9996541848786391, 0.026296590171041346L 0.9996541848786391, 0.026296590171041346 L 0.9997857879749574, 0.020697298453988006 L 0.9998860284038681, 0.01509735747536738 \",\"type\":\"path\"},{\"fillcolor\":\"rgba(244,109,67,0.75)\",\"layer\":\"below\",\"line\":{\"color\":\"rgb(175,175,175)\",\"width\":0.5},\"path\":\"M 0.9153327099681478,0.4026984356343673 Q 0.180708324308552, 0.08570006724381957 0.8910233918782173, 0.453957393513793L 0.8910233918782173, 0.453957393513793 L 0.90354162154276, 0.4285003362190978 L 0.9153327099681478, 0.4026984356343673 \",\"type\":\"path\"},{\"fillcolor\":\"rgba(253,174,97,0.75)\",\"layer\":\"below\",\"line\":{\"color\":\"rgb(175, 175, 175)\",\"width\":0.5},\"path\":\"M 0.9343737196463932,0.35629447376315504 Q 0.18257281221681462, 0.08165272952721025 0.8884665931733088, 0.458941295608724L 0.8884665931733088, 0.458941295608724 L 0.8897483387833334, 0.4564514143173385 L 0.891023106648199, 0.45395795336021183 M 0.891023106648199,0.45395795336021183 Q 0.18278099402093165, 0.08118564050815978 0.9342000834491553, 0.35674949766410496L 0.9342000834491553, 0.35674949766410496 L 0.9342869292489475, 0.35652199628434156 L 0.9343737196463932, 0.35629447376315504 \",\"type\":\"path\"},{\"fillcolor\":\"rgba(254,224,139,0.75)\",\"layer\":\"below\",\"line\":{\"color\":\"rgb(175, 175, 175)\",\"width\":0.5},\"path\":\"M 0.9342000834491553,0.35674949766410496 Q 0.1085319809897704, 0.16799050301262902 -0.058775083571955676, 0.9982712504881174L -0.058775083571955676, 0.9982712504881174 L -0.05597927138232561, 0.9984319311678207 L -0.05318302018174883, 0.9985847817608416 M -0.05318302018174883,0.9985847817608416 Q 0.10894074180383491, 0.16772571292211036 0.9339392136872136, 0.35743187481995686L 0.9339392136872136, 0.35743187481995686 L 0.9340697108813332, 0.35709071006407145 L 0.9342000834491553, 0.35674949766410496 \",\"type\":\"path\"},{\"fillcolor\":\"rgba(255,255,191,0.75)\",\"layer\":\"below\",\"line\":{\"color\":\"rgb(175, 175, 175)\",\"width\":0.5},\"path\":\"M 0.9246813109111439,0.3807420035294877 Q -0.1120259715605137, 0.16568096358943285 -0.6977916367006103, -0.7163007969775571L -0.6977916367006103, -0.7163007969775571 L -0.774567727576039, -0.6324909765345994 L -0.8413374458764896, -0.5405102239236783 M -0.8413374458764896,-0.5405102239236783 Q -0.09461066930179063, 0.1762067571186395 0.9153327099681478, 0.4026984356343673L 0.9153327099681478, 0.4026984356343673 L 0.920072508276271, 0.3917481072247974 L 0.9246813109111439, 0.3807420035294877 \",\"type\":\"path\"},{\"fillcolor\":\"rgba(230,245,152,0.75)\",\"layer\":\"below\",\"line\":{\"color\":\"rgb(175, 175, 175)\",\"width\":0.5},\"path\":\"M 0.9295181115283057,0.3687764639193401 Q -0.15004569071767115, 0.13223573910655537 -0.24902520219669627, -0.968497004988087L -0.24902520219669627, -0.968497004988087 L -0.3163958792865109, -0.9486272437425122 L -0.3822055807483787, -0.9240773203822257 M -0.3822055807483787,-0.9240773203822257 Q -0.14130935517045734, 0.1415332686731623 0.9246813109111439, 0.3807420035294877L 0.9246813109111439, 0.3807420035294877 L 0.9271190150559083, 0.37476703686658785 L 0.9295181115283057, 0.3687764639193401 \",\"type\":\"path\"},{\"fillcolor\":\"rgba(171,221,164,0.75)\",\"layer\":\"below\",\"line\":{\"color\":\"rgb(175, 175, 175)\",\"width\":0.5},\"path\":\"M 0.9332411245717708,0.35925061365016014 Q -0.17290395802742914, 0.10051975576198456 0.14956386345197495, -0.9887520673805537L 0.14956386345197495, -0.9887520673805537 L 0.12568586777024768, -0.9920700895817995 L 0.10173482749051606, -0.9948115524437153 M 0.10173482749051606,-0.9948115524437153 Q -0.17063418144027845, 0.10432629641756741 0.93183432366334, 0.3628839941949573L 0.93183432366334, 0.3628839941949573 L 0.9325394936762172, 0.3610679890742246 L 0.9332411245717708, 0.35925061365016014 \",\"type\":\"path\"},{\"fillcolor\":\"rgba(102,194,165,0.75)\",\"layer\":\"below\",\"line\":{\"color\":\"rgb(175, 175, 175)\",\"width\":0.5},\"path\":\"M 0.93183432366334,0.3628839941949573 Q -0.19683529530594435, 0.03543820709095879 0.7467566642458927, -0.6650973495694799L 0.7467566642458927, -0.6650973495694799 L 0.7409792070395304, -0.6715279701807431 L 0.7351463750541911, -0.6779084062354461 M 0.7351463750541911,-0.6779084062354461 Q -0.19663817203940617, 0.03651615118000399 0.9295181115283057, 0.3687764639193401L 0.9295181115283057, 0.3687764639193401 L 0.9306808810211642, 0.3658320621564894 L 0.93183432366334, 0.3628839941949573 \",\"type\":\"path\"},{\"fillcolor\":\"rgba(50,136,189,0.75)\",\"layer\":\"below\",\"line\":{\"color\":\"rgb(175, 175, 175)\",\"width\":0.5},\"path\":\"M 0.9339392136872136,0.35743187481995686 Q -0.19947362561966633, -0.014500782121844106 0.9758141248985377, -0.2186019067814849L 0.9758141248985377, -0.2186019067814849 L 0.975413251714414, -0.22038372984390972 L 0.9750091249489338, -0.22216481779596536 M 0.9750091249489338,-0.22216481779596536 Q -0.1994945996399753, -0.014209317875463987 0.933677845489744, 0.358114061217414L 0.933677845489744, 0.358114061217414 L 0.9338085918842078, 0.357772991886242 L 0.9339392136872136, 0.35743187481995686 \",\"type\":\"path\"},{\"fillcolor\":\"rgba(253,174,97,0.75)\",\"layer\":\"below\",\"line\":{\"color\":\"rgb(175,175,175)\",\"width\":0.5},\"path\":\"M 0.7068055033410219,0.7074079307209135 Q 0.12023183766815543, 0.15982585901830257 0.4837458119098664, 0.8752085405545722L 0.4837458119098664, 0.8752085405545722 L 0.6011591883407771, 0.7991292950915128 L 0.7068055033410219, 0.7074079307209135 \",\"type\":\"path\"},{\"fillcolor\":\"rgba(253,174,97,0.75)\",\"layer\":\"below\",\"line\":{\"color\":\"rgb(175, 175, 175)\",\"width\":0.5},\"path\":\"M 0.4837458119098664,0.8752085405545722 Q -0.04426668363085966, 0.19503963884381398 -0.8141668023357478, 0.5806310515072229L -0.8141668023357478, 0.5806310515072229 L -0.7318358938435721, 0.6814809054420966 L -0.6371010464370789, 0.7707802907630547 L -0.5315679278215186, 0.8470156658005428 M -0.5315679278215186,0.8470156658005428 Q -0.06038424715641597, 0.19066657466727846 -0.052939220439694026, 0.9985977362978736L -0.052939220439694026, 0.9985977362978736 L 0.040007600677325755, 0.9991993754441821 L 0.1326087771874779, 0.9911684580397229 L 0.22406428367788034, 0.9745743669827964 L 0.3135839927214554, 0.9495604664837676 L 0.4003945011619173, 0.9163428634737651 L 0.4837458119098664, 0.8752085405545722 \",\"type\":\"path\"},{\"fillcolor\":\"rgba(253,174,97,0.75)\",\"layer\":\"below\",\"line\":{\"color\":\"rgb(175, 175, 175)\",\"width\":0.5},\"path\":\"M 0.8884665931733088,0.458941295608724 Q -0.08622784547263686, 0.1804570826128669 -0.9152345067082052, -0.40292157764332803L -0.9152345067082052, -0.40292157764332803 L -0.9169918232476774, -0.39890599907359187 L -0.9187315215932917, -0.3948827563098634 M -0.9187315215932917,-0.3948827563098634 Q -0.08693029500791122, 0.18011974852813206 0.8807455060850746, 0.4735898579054937L 0.8807455060850746, 0.4735898579054937 L 0.8846363705697978, 0.466281558572817 L 0.8884665931733088, 0.458941295608724 \",\"type\":\"path\"},{\"fillcolor\":\"rgba(253,174,97,0.75)\",\"layer\":\"below\",\"line\":{\"color\":\"rgb(175, 175, 175)\",\"width\":0.5},\"path\":\"M 0.8725450951736551,0.48853357805620395 Q -0.12710087814103993, 0.15441945076892524 -0.6471815049249788, -0.7623359493576567L -0.6471815049249788, -0.7623359493576567 L -0.6598072475780044, -0.7514348914201004 L -0.6722494038514131, -0.7403247524035784 M -0.6722494038514131,-0.7403247524035784 Q -0.12749529962303746, 0.15409396021269592 0.853107438968642, 0.5217352753804986L 0.853107438968642, 0.5217352753804986 L 0.8629859531442192, 0.5052279135952045 L 0.8725450951736551, 0.48853357805620395 \",\"type\":\"path\"},{\"fillcolor\":\"rgba(253,174,97,0.75)\",\"layer\":\"below\",\"line\":{\"color\":\"rgb(175, 175, 175)\",\"width\":0.5},\"path\":\"M 0.8292901999093383,0.5588181854005199 Q -0.19214126447627233, 0.055513372131939256 0.40347840898855414, -0.9149891657719588L 0.40347840898855414, -0.9149891657719588 L 0.34957281739675045, -0.9369091980215042 L 0.29448346715712037, -0.9556565740741395 M 0.29448346715712037,-0.9556565740741395 Q -0.19412272276965528, 0.04812866614083087 0.7068055033410219, 0.7074079307209135L 0.7068055033410219, 0.7074079307209135 L 0.7716328339888405, 0.6360682113660063 L 0.8292901999093383, 0.5588181854005199 \",\"type\":\"path\"},{\"fillcolor\":\"rgba(102,194,165,0.75)\",\"layer\":\"below\",\"line\":{\"color\":\"rgb(175, 175, 175)\",\"width\":0.5},\"path\":\"M 0.853107438968642,0.5217352753804986 Q -0.19983464084072278, 0.00813119425787679 0.8078989894049388, -0.5893209846242357L 0.8078989894049388, -0.5893209846242357 L 0.7921967746682742, -0.6102657373678975 L 0.7759517132589181, -0.6307923102658669 M 0.7759517132589181,-0.6307923102658669 Q -0.19979926754599753, 0.008958386466484653 0.8292901999093383, 0.5588181854005199L 0.8292901999093383, 0.5588181854005199 L 0.8414031372531475, 0.5404079575844171 L 0.853107438968642, 0.5217352753804986 \",\"type\":\"path\"},{\"fillcolor\":\"rgba(50,136,189,0.75)\",\"layer\":\"below\",\"line\":{\"color\":\"rgb(175, 175, 175)\",\"width\":0.5},\"path\":\"M 0.891023106648199,0.45395795336021183 Q -0.19852229262067922, -0.024267248147027572 0.9741361198788184, -0.22596198783742427L 0.9741361198788184, -0.22596198783742427 L 0.9740259541890117, -0.22643639408492902 L 0.9739155574624235, -0.22691074662222765 M 0.9739155574624235,-0.22691074662222765 Q -0.19853408794236044, -0.024170559052183634 0.891023106648199, 0.45395795336021183L 0.891023106648199, 0.45395795336021183 L 0.891023106648199, 0.45395795336021183 L 0.891023106648199, 0.45395795336021183 \",\"type\":\"path\"},{\"fillcolor\":\"rgba(254,224,139,0.75)\",\"layer\":\"below\",\"line\":{\"color\":\"rgb(175,175,175)\",\"width\":0.5},\"path\":\"M -0.8141668023357478,0.5806310515072229 Q -0.19885564728566968, 0.02136425853141974 -0.9189239802422434, -0.39443468221716144L -0.9189239802422434, -0.39443468221716144 L -0.9492229722216207, -0.3146041147327105 L -0.9726012284715878, -0.23247978487506898 L -0.9888882993316801, -0.14866045689724414 L -0.9979654366083462, -0.0637572531961093 L -0.999766459361902, 0.02161080134947007 L -0.9942782364283483, 0.1068212926570987 L -0.9815407821580102, 0.1912529554298221 L -0.9616469646729732, 0.27429020276936167 L -0.9347418287703945, 0.355327614388438 L -0.9010215384083692, 0.43377435069885784 L -0.8607319464846293, 0.5090584605924758 L -0.8141668023357478, 0.5806310515072229 \",\"type\":\"path\"},{\"fillcolor\":\"rgba(254,224,139,0.75)\",\"layer\":\"below\",\"line\":{\"color\":\"rgb(175, 175, 175)\",\"width\":0.5},\"path\":\"M -0.058775083571955676,0.9982712504881174 Q -0.1718294830678174, 0.10234563375467792 -0.905772502467258, -0.4237642903480671L -0.905772502467258, -0.4237642903480671 L -0.9084373474875663, -0.41802103498478954 L -0.9110657765421123, -0.41226102267097475 M -0.9110657765421123,-0.41226102267097475 Q -0.17199126633863537, 0.10207352400712243 -0.07456819586274754, 0.9972159165224825L -0.07456819586274754, 0.9972159165224825 L -0.06667372777222744, 0.9977748313246606 L -0.058775083571955676, 0.9982712504881174 \",\"type\":\"path\"},{\"fillcolor\":\"rgba(254,224,139,0.75)\",\"layer\":\"below\",\"line\":{\"color\":\"rgb(175, 175, 175)\",\"width\":0.5},\"path\":\"M -0.09810043061287431,0.9951765197760489 Q -0.1942277426008157, 0.04770308170539174 -0.5479671954434262, -0.836499822305938L -0.5479671954434262, -0.836499822305938 L -0.579142978740354, -0.8152259871813152 L -0.6094937696642503, -0.7927908581337588 M -0.6094937696642503,-0.7927908581337588 Q -0.19464966184147112, 0.04595116043149457 -0.19059513710975523, 0.9816687291088138L -0.19059513710975523, 0.9816687291088138 L -0.14450570164478047, 0.9895039677495738 L -0.09810043061287431, 0.9951765197760489 \",\"type\":\"path\"},{\"fillcolor\":\"rgba(254,224,139,0.75)\",\"layer\":\"below\",\"line\":{\"color\":\"rgb(175, 175, 175)\",\"width\":0.5},\"path\":\"M -0.3627704752686746,0.9318785233459026 Q -0.18887699329111832, -0.06576839214475937 0.29448346715712037, -0.9556565740741395L 0.29448346715712037, -0.9556565740741395 L 0.2538562936519198, -0.9672419460369315 L 0.21277604046217916, -0.9771009961131127 M 0.21277604046217916,-0.9771009961131127 Q -0.18517639870450953, -0.07556256588303847 -0.5315679278215186, 0.8470156658005428L -0.5315679278215186, 0.8470156658005428 L -0.44917782776776743, 0.8934423758932805 L -0.3627704752686746, 0.9318785233459026 \",\"type\":\"path\"},{\"fillcolor\":\"rgba(102,194,165,0.75)\",\"layer\":\"below\",\"line\":{\"color\":\"rgb(175, 175, 175)\",\"width\":0.5},\"path\":\"M -0.19059513710975523,0.9816687291088138 Q -0.14403968819044996, -0.138753624190498 0.9738601297470889, -0.22714851460879742L 0.9738601297470889, -0.22714851460879742 L 0.9406419789649615, -0.339400452870766 L 0.8945333239457168, -0.44700126660964545 M 0.8945333239457168,-0.44700126660964545 Q -0.1477863729300161, -0.1347560313165619 -0.3627704752686746, 0.9318785233459026L -0.3627704752686746, 0.9318785233459026 L -0.2778005424548644, 0.9606387763419625 L -0.19059513710975523, 0.9816687291088138 \",\"type\":\"path\"},{\"fillcolor\":\"rgba(50,136,189,0.75)\",\"layer\":\"below\",\"line\":{\"color\":\"rgb(175, 175, 175)\",\"width\":0.5},\"path\":\"M -0.052939847877146284,0.9985977030349833 Q -0.15317409924561776, -0.12859897091459813 0.9743557580436191, -0.22501301466191792L 0.9743557580436191, -0.22501301466191792 L 0.9742460545057129, -0.2254875279922406 L 0.9741361198788184, -0.22596198783742427 M 0.9741361198788184,-0.22596198783742427 Q -0.15322106261135215, -0.12854301214865047 -0.05318302018174883, 0.9985847817608416L -0.05318302018174883, 0.9985847817608416 L -0.05306143442276365, 0.9985912497999363 L -0.052939847877146284, 0.9985977030349833 \",\"type\":\"path\"},{\"fillcolor\":\"rgba(255,255,191,0.75)\",\"layer\":\"below\",\"line\":{\"color\":\"rgb(175,175,175)\",\"width\":0.5},\"path\":\"M -0.8649479710518586,-0.5018615420345269 Q -0.17067230720401352, -0.10426391299802072 -0.8413374458764896, -0.5405102239236783L -0.8413374458764896, -0.5405102239236783 L -0.8533615360200676, -0.5213195649901036 L -0.8649479710518586, -0.5018615420345269 \",\"type\":\"path\"},{\"fillcolor\":\"rgba(230,245,152,0.75)\",\"layer\":\"below\",\"line\":{\"color\":\"rgb(175, 175, 175)\",\"width\":0.5},\"path\":\"M -0.8836123836935376,-0.4682191317998705 Q -0.1420484809625696, -0.14079143814957817 -0.47605466567965027, -0.8794156896966511L -0.47605466567965027, -0.8794156896966511 L -0.512460374988122, -0.8587108733834884 L -0.5479671954434262, -0.836499822305938 M -0.5479671954434262,-0.836499822305938 Q -0.1452002770774011, -0.13753864742917152 -0.8649479710518586, -0.5018615420345269L -0.8649479710518586, -0.5018615420345269 L -0.8744419829173549, -0.48513010472610785 L -0.8836123836935376, -0.4682191317998705 \",\"type\":\"path\"},{\"fillcolor\":\"rgba(171,221,164,0.75)\",\"layer\":\"below\",\"line\":{\"color\":\"rgb(175, 175, 175)\",\"width\":0.5},\"path\":\"M -0.9002279889333439,-0.4354188419683136 Q -0.10127667205581692, -0.17246169342001288 0.05828885617417106, -0.9982997592135875L 0.05828885617417106, -0.9982997592135875 L 0.03810092415049595, -0.9992738961760576 L 0.017897427840545585, -0.9998398282108452 M 0.017897427840545585,-0.9998398282108452 Q -0.10159148338517549, -0.17227643629817635 -0.8836123836935376, -0.4682191317998705L -0.8836123836935376, -0.4682191317998705 L -0.8920709520585577, -0.45189536011485937 L -0.9002279889333439, -0.4354188419683136 \",\"type\":\"path\"},{\"fillcolor\":\"rgba(102,194,165,0.75)\",\"layer\":\"below\",\"line\":{\"color\":\"rgb(175, 175, 175)\",\"width\":0.5},\"path\":\"M -0.9152345067082052,-0.40292157764332803 Q -0.03287088241313043, -0.19728027040072244 0.7351463750541911, -0.6779084062354461L 0.7351463750541911, -0.6779084062354461 L 0.7297582766393158, -0.6837052418084973 L 0.7243244698825131, -0.6894592535671824 M 0.7243244698825131,-0.6894592535671824 Q -0.033423221691650504, -0.19718744445768038 -0.9110657765421123, -0.41226102267097475L -0.9110657765421123, -0.41226102267097475 L -0.91316208170204, -0.4075966296985252 L -0.9152345067082052, -0.40292157764332803 \",\"type\":\"path\"},{\"fillcolor\":\"rgba(50,136,189,0.75)\",\"layer\":\"below\",\"line\":{\"color\":\"rgb(175, 175, 175)\",\"width\":0.5},\"path\":\"M -0.9189237324114422,-0.39443525959404807 Q 0.017923010208526078, -0.1991952953888848 0.9745744717484347, -0.22406382799608587L 0.9745744717484347, -0.22406382799608587 L 0.9744652304665152, -0.22453844795901068 L 0.9743557580436191, -0.22501301466191792 M 0.9743557580436191,-0.22501301466191792 Q 0.017874502736641797, -0.1991996539954771 -0.9187315215932917, -0.3948827563098634L -0.9187315215932917, -0.3948827563098634 L -0.918827654245413, -0.39465901965351263 L -0.9189237324114422, -0.39443525959404807 \",\"type\":\"path\"},{\"fillcolor\":\"rgba(230,245,152,0.75)\",\"layer\":\"below\",\"line\":{\"color\":\"rgb(175,175,175)\",\"width\":0.5},\"path\":\"M -0.47605466567965027,-0.8794156896966511 Q -0.08594214983663107, -0.18059331903882286 -0.3822055807483787, -0.9240773203822257L -0.3822055807483787, -0.9240773203822257 L -0.42971074918315527, -0.9029665951941143 L -0.47605466567965027, -0.8794156896966511 \",\"type\":\"path\"},{\"fillcolor\":\"rgba(230,245,152,0.75)\",\"layer\":\"below\",\"line\":{\"color\":\"rgb(175, 175, 175)\",\"width\":0.5},\"path\":\"M -0.24902520219669627,-0.968497004988087 Q 0.054365914068952706, -0.19246908164026566 0.7189294952922284, -0.6950830028125142L 0.7189294952922284, -0.6950830028125142 L 0.6327737948769704, -0.7743366997094984 L 0.5379465919994642, -0.842978922723553 M 0.5379465919994642,-0.842978922723553 Q 0.05761537903008909, -0.19152145597613646 0.01643592359453136, -0.9998649210846406L 0.01643592359453136, -0.9998649210846406 L -0.11734747406837985, -0.9930909174540722 L -0.24902520219669627, -0.968497004988087 \",\"type\":\"path\"},{\"fillcolor\":\"rgba(102,194,165,0.75)\",\"layer\":\"below\",\"line\":{\"color\":\"rgb(175, 175, 175)\",\"width\":0.5},\"path\":\"M -0.6471815049249788,-0.7623359493576567 Q 0.04007728590070151, -0.19594338762722624 0.8945333239457168, -0.44700126660964545L 0.8945333239457168, -0.44700126660964545 L 0.8726638773629516, -0.4883213666693884 L 0.8488871162219647, -0.5285741801415924 M 0.8488871162219647,-0.5285741801415924 Q 0.035653839527506455, -0.19679635089845243 -0.6094937696642503, -0.7927908581337588L -0.6094937696642503, -0.7927908581337588 L -0.6285221251540146, -0.777791706173241 L -0.6471815049249788, -0.7623359493576567 \",\"type\":\"path\"},{\"fillcolor\":\"rgba(230,245,152,0.75)\",\"layer\":\"below\",\"line\":{\"color\":\"rgb(175, 175, 175)\",\"width\":0.5},\"path\":\"M -0.6977911866354081,-0.7163012354128319 Q 0.056191433393651985, -0.19194406167726777 0.9739155574624235, -0.22691074662222765L 0.9739155574624235, -0.22691074662222765 L 0.9738879221843469, -0.22702932635114634 L 0.9738602724685175, -0.22714790271438778 M 0.9738602724685175,-0.22714790271438778 Q 0.056378371971820065, -0.1918892367325669 -0.696219639626708, -0.7178288190077471L -0.696219639626708, -0.7178288190077471 L -0.6970058316197267, -0.7170654577429407 L -0.6977911866354081, -0.7163012354128319 \",\"type\":\"path\"},{\"fillcolor\":\"rgba(171,221,164,0.75)\",\"layer\":\"below\",\"line\":{\"color\":\"rgb(175,175,175)\",\"width\":0.5},\"path\":\"M 0.40347840898855414,-0.9149891657719588 Q 0.09441750407573705, -0.1763103369746317 0.5379465919994642, -0.842978922723553L 0.5379465919994642, -0.842978922723553 L 0.47208752037868523, -0.8815516848731584 L 0.40347840898855414, -0.9149891657719588 \",\"type\":\"path\"},{\"fillcolor\":\"rgba(102,194,165,0.75)\",\"layer\":\"below\",\"line\":{\"color\":\"rgb(175, 175, 175)\",\"width\":0.5},\"path\":\"M 0.05828885617417106,-0.9982997592135875 Q 0.1021572495972457, -0.17194154923905403 0.8488871162219647, -0.5285741801415924L 0.8488871162219647, -0.5285741801415924 L 0.8289496929930693, -0.559323168201261 L 0.8078989894049388, -0.5893209846242357 M 0.8078989894049388,-0.5893209846242357 Q 0.09959198167675747, -0.1734400103369935 0.10173482749051606, -0.9948115524437153L 0.10173482749051606, -0.9948115524437153 L 0.08003084861490167, -0.9967923872451969 L 0.05828885617417106, -0.9982997592135875 \",\"type\":\"path\"},{\"fillcolor\":\"rgba(50,136,189,0.75)\",\"layer\":\"below\",\"line\":{\"color\":\"rgb(175, 175, 175)\",\"width\":0.5},\"path\":\"M 0.016436551828186065,-0.999864910757448 Q 0.12600722061026265, -0.15531316864347533 0.9750091249489338, -0.22216481779596536L 0.9750091249489338, -0.22216481779596536 L 0.9747922607857517, -0.22311442874050785 L 0.9745744717484347, -0.22406382799608587 M 0.9745744717484347,-0.22406382799608587 Q 0.1259693960445539, -0.15534384847869043 0.017897427840545585, -0.9998398282108452L 0.017897427840545585, -0.9998398282108452 L 0.017166994415352396, -0.9998526362933406 L 0.016436551828186065, -0.999864910757448 \",\"type\":\"path\"},{\"fillcolor\":\"rgba(102,194,165,0.75)\",\"layer\":\"below\",\"line\":{\"color\":\"rgb(175,175,175)\",\"width\":0.5},\"path\":\"M 0.7467566642458927,-0.6650973495694799 Q 0.15230947569488107, -0.12962184851926176 0.7759517132589181, -0.6307923102658669L 0.7759517132589181, -0.6307923102658669 L 0.7615473784744052, -0.6481092425963088 L 0.7467566642458927, -0.6650973495694799 \",\"type\":\"path\"},{\"fillcolor\":\"rgba(102,194,165,0.75)\",\"layer\":\"below\",\"line\":{\"color\":\"rgb(175, 175, 175)\",\"width\":0.5},\"path\":\"M 0.7189299320256181,-0.6950825510956523 Q 0.17562748963607588, -0.09568168520741087 0.9738602724685175, -0.22714790271438778L 0.9738602724685175, -0.22714790271438778 L 0.9738602724685175, -0.22714790271438778 L 0.9738602724685175, -0.22714790271438778 M 0.9738602724685175,-0.22714790271438778 Q 0.17563913830434197, -0.09566030052068747 0.7190991738418623, -0.6949074601556319L 0.7190991738418623, -0.6949074601556319 L 0.719014558263402, -0.6949950107772608 L 0.7189299320256181, -0.6950825510956523 \",\"type\":\"path\"},{\"fillcolor\":\"rgba(50,136,189,0.75)\",\"layer\":\"below\",\"line\":{\"color\":\"rgb(175,175,175)\",\"width\":0.5},\"path\":\"M 0.9771268536710254,-0.21265726377192626 Q 0.19885304725119668, -0.021388445453406412 0.9999999999998026, -6.283185316708634e-07L 0.9999999999998026, -6.283185316708634e-07 L 0.9942652362559834, -0.10694222726703205 L 0.9771268536710254, -0.21265726377192626 \",\"type\":\"path\"},{\"fillcolor\":\"rgba(213,62,79,0.75)\",\"layer\":\"below\",\"line\":{\"color\":\"rgb(150,150,150)\",\"width\":0.45},\"path\":\"M 1.1, 0.0 L 1.0999925525688983, 0.004047751593157706 L 1.0999702103764366, 0.008095448376586123 L 1.0999329737251462, 0.012143035541298136 L 1.0998808431192402, 0.016190458279790945 L 1.099813819264608, 0.02023766178678822 L 1.099731903068805, 0.024284591259982176 L 1.099635095641041, 0.02833119190077569 L 1.0995233982921644, 0.03237740891502427 L 1.0993968125346445, 0.036423187513778016 L 1.099255340082552, 0.04046847291402356 L 1.0990989828515347, 0.04451321033942578 L 1.098927742958792, 0.048557345021069585 L 1.0987416227230464, 0.05260082219820151 L 1.0985406246645117, 0.0566435871189712 L 1.098324751504859, 0.06068558504117285 L 1.0980940061671807, 0.06472676123298636 L 1.0978483917759487, 0.06876706097371854 L 1.097587911656975, 0.07280642955454403 L 1.0973125693373642, 0.07684481227924611 L 1.0970223685454672, 0.08088215446495728 L 1.0967173132108303, 0.08491840144289985 L 1.0963974074641418, 0.08895349855912597 L 1.0960626556371764, 0.09298739117525794 L 1.095713062262736, 0.09702002466922788 L 1.095348632074589, 0.10105134443601739 L 1.094969370007406, 0.10508129588839703 L 1.094575281196692, 0.10910982445766533 L 1.0941663709787193, 0.11313687559438783 L 1.0937426448904521, 0.11716239476913567 L 1.093304108669474, 0.12118632747322393 L 1.092850768253909, 0.12520861921944973 L 1.0923826297823418, 0.12922921554283007 L 1.0918996995937345, 0.13324806200133932 L 1.09140198422734, 0.13726510417664636 L 1.0908894904226145, 0.1412802876748515 L 1.090362225119126, 0.14529355812722297 L 1.08982019545646, 0.14930486119093317 L 1.0892634087741226, 0.1533141425497945 L 1.0886918726114425, 0.15732134791499472 L 1.088105594707467, 0.1613264230258323 L 1.0875045830008585, 0.165329313650451 L 1.0868888456297865, 0.1693299655865742 L 1.0862583909318178, 0.17332832466223885 L 1.0856132274438028, 0.17732433673652911 L 1.0849533639017614, 0.18131794770030926 L 1.084278809240763, 0.18530910347695664 L 1.0835895725948061, 0.1892977500230937 L 1.0828856632966954, 0.19328383332931975 L 1.0821670908779144, 0.19726729942094245 L 1.0814338650684971, 0.2012480943587087 L 1.0806859957968955, 0.2052261642395347 L 1.0799234931898458, 0.20920145519723618 L 1.0791463675722308, 0.21317391340325764 L 1.0783546294669408, 0.21714348506740136 L 1.0775482895947301, 0.2211101164385555 L 1.076727358874073, 0.2250737538054221 L 1.075891848421014, 0.22903434349724458 L 1.0750417695490204, 0.232991831884534 L 1.0741771337688262, 0.2369461653797957 L 1.0732979527882776, 0.24089729043825464 L 1.0724042385121737, 0.24484515355858055 L 1.0714960030421072, 0.24878970128361236 L 1.0705732586762975, 0.25273088020108203 L 1.069636017909427, 0.25666863694433784 L 1.06868429343247, 0.260602918193067 L 1.0677180981325223, 0.2645336706740176 L 1.0667374450926252, 0.26846084116172014 L 1.06574234759159, 0.2723843764792079 L 1.0647328191038163, 0.2763042234987374 L 1.0637088732991113, 0.2802203291425075 L 1.062670524042504, 0.2841326403833782 L 1.061617785394057, 0.28804110424558893 L 1.0605506716086768, 0.29194566780547526 L 1.0594691971359205, 0.2958462781921862 L 1.0583733766198, 0.29974288258839965 L 1.0572632248985843, 0.303635428231038 L 1.0561387570045977, 0.30752386241198204 L 1.0549999881640169, 0.3114081324787851 L 1.0538469337966645, 0.3152881858353861 L 1.0526796095158004, 0.31916396994282115 L 1.0514980311279107, 0.32303543231993564 L 1.0503022146324925, 0.32690252054409424 L 1.0490921762218386, 0.3307651822518915 L 1.0478679322808175, 0.3346233651398602 L 1.0466294993866518, 0.33847701696517973 L 1.0453768943086938, 0.3423260855463841 L 1.0441101340081977, 0.34617051876406757 L 1.042829235638091, 0.350010264561591 L 1.041534216542742, 0.35384527094578666 L 1.0402250942577236, 0.35767548598766213 L 1.0389018865095783, 0.3615008578231036 L 1.0375646112155756, 0.3653213346535779 L 1.0362132864834717, 0.3691368647468343 L 1.0348479306112626, 0.37294739643760455 L 1.0334685620869366, 0.3767528781283029 L 1.0320751995882251, 0.38055325828972425 L 1.0306678619823482, 0.3843484854617425 L 1.0292465683257606, 0.3881385082540069 L 1.027811337863892, 0.3919232753466383 L 0.9343739435126289, 0.35629388667876205 L 0.935678698477964, 0.35285318932182447 L 0.9369707836203165, 0.3494077140561295 L 0.9382501814438409, 0.34595750753611293 L 0.9395168746244877, 0.3425026164802753 L 0.9407708460102385, 0.3390430876705496 L 0.9420120786213378, 0.33557896795166753 L 0.9432405556505232, 0.33211030423052534 L 0.9444562604632528, 0.3286371434755487 L 0.9456591765979304, 0.32515953271605647 L 0.9468492877661289, 0.3216775190416242 L 0.94802657785281, 0.31819114960144634 L 0.9491910309165433, 0.31470047160369774 L 0.9503426311897215, 0.3112055323148946 L 0.9514813630787744, 0.3077063790592543 L 0.9526072111643795, 0.3042030592180547 L 0.9537201602016714, 0.30069562022899227 L 0.9548201951204476, 0.2971841095855402 L 0.9559073010253732, 0.2936685748363051 L 0.9569814631961822, 0.29014906358438286 L 0.9580426670878767, 0.2866256234867146 L 0.9590908983309243, 0.283098302253441 L 0.9601261427314524, 0.2795671476472564 L 0.9611483862714402, 0.2760322074827618 L 0.9621576151089091, 0.27249352962581785 L 0.9631538155781094, 0.2689511619928965 L 0.964136974189706, 0.265405152550432 L 0.9651070776309608, 0.2618555493141717 L 0.9660641127659126, 0.25830240034852564 L 0.9670080666355557, 0.2547457537659159 L 0.9679389264580147, 0.2511856577261249 L 0.968856679628718, 0.24762216043564353 L 0.9697613137205684, 0.24405531014701828 L 0.9706528164841112, 0.24048515515819782 L 0.9715311758477, 0.23691174381187907 L 0.9723963799176608, 0.23333512449485255 L 0.9732484169784522, 0.22975534563734726 L 0.9740872754928246, 0.22617245571237485 L 0.974912944101976, 0.2225865032350732 L 0.9757254116257067, 0.21899753676204967 L 0.9765246670625691, 0.21540560489072336 L 0.9773106995900185, 0.21181075625866727 L 0.9780834985645582, 0.2082130395429496 L 0.9788430535218843, 0.20461250345947463 L 0.9795893541770274, 0.20100919676232315 L 0.9803223904244917, 0.19740316824309212 L 0.9810421523383916, 0.1937944667302342 L 0.9817486301725871, 0.1901831410883965 L 0.982441814360814, 0.18656924021775878 L 0.9831216955168155, 0.18295281305337152 L 0.9837882644344677, 0.17933390856449313 L 0.9844415120879049, 0.17571257575392704 L 0.9850814296316418, 0.1720888636573579 L 0.9857080084006935, 0.16846282134268784 L 0.9863212399106922, 0.16483449790937205 L 0.9869211158580026, 0.16120394248775372 L 0.9875076281198342, 0.15757120423839893 L 0.9880807687543512, 0.1539363323514311 L 0.9886405300007803, 0.15029937604586455 L 0.9891869042795154, 0.14666038456893846 L 0.9897198841922203, 0.14301940719544973 L 0.9902394625219296, 0.1393764932270859 L 0.9907456322331453, 0.1357316919917574 L 0.9912383864719326, 0.13208505284292996 L 0.9917177185660131, 0.1284366251589559 L 0.9921836220248543, 0.12478645834240579 L 0.9926360905397584, 0.12113460181939938 L 0.9930751179839471, 0.11748110503893643 L 0.9935006984126444, 0.11382601747222702 L 0.993912826063158, 0.11016938861202175 L 0.9943114953549563, 0.10651126797194152 L 0.9946967008897447, 0.10285170508580711 L 0.9950684374515382, 0.09919074950696848 L 0.9954267000067325, 0.09552845080763366 L 0.9957714837041718, 0.09186485857819762 L 0.9961027838752146, 0.0882000224265708 L 0.9964205960337967, 0.0845339919775072 L 0.9967249158764926, 0.0808668168719327 L 0.997015739282573, 0.07719854676627258 L 0.997293062314061, 0.07352923133177934 L 0.9975568812157856, 0.06985892025386009 L 0.9978071924154317, 0.06618766323140365 L 0.9980439925235897, 0.06251550997610776 L 0.9982672783338005, 0.058842510211805775 L 0.9984770468225992, 0.055168713673793494 L 0.998673295149556, 0.051494170108155636 L 0.9988560206573149, 0.04781892927109228 L 0.999025220871629, 0.04414304092824507 L 0.9991808935013952, 0.04046655485402343 L 0.9993230364386836, 0.036789520830930504 L 0.9994516477587677, 0.033111988648889104 L 0.9995667257201494, 0.029434008104567512 L 0.9996682687645827, 0.02575562900070517 L 0.9997562755170954, 0.02207690114543834 L 0.9998307447860072, 0.01839787435162565 L 0.9998916755629454, 0.014718598436173586 L 0.9999390670228601, 0.011039123219361941 L 0.9999729185240332, 0.007359498524169203 L 0.9999932296080892, 0.0036797741755979136 L 1.0, 0.0 L 1.1 ,0.0\",\"type\":\"path\"},{\"fillcolor\":\"rgba(244,109,67,0.75)\",\"layer\":\"below\",\"line\":{\"color\":\"rgb(150,150,150)\",\"width\":0.45},\"path\":\"M 1.0278110916110326, 0.39192392113947055 L 1.027387283324997, 0.3930335482653897 L 1.0269622770834643, 0.3941427171058042 L 1.0265360733820008, 0.39525142636739924 L 1.026108672717569, 0.39635967475739636 L 1.0256800755885271, 0.39746746098355423 L 1.0252502824946288, 0.39857478375417044 L 1.024819293937022, 0.3996816417780832 L 1.0243871104182483, 0.40078803376467215 L 1.0239537324422427, 0.4018939584238607 L 1.023519160514334, 0.40299941446611726 L 1.0230833951412415, 0.4041044006024564 L 1.0226464368310773, 0.4052089155444406 L 1.0222082860933441, 0.406312958004182 L 1.021768943438935, 0.4074165266943434 L 1.0213284093801327, 0.40851962032814043 L 1.02088668443061, 0.40962223761934197 L 1.0204437691054267, 0.410724377282273 L 1.0199996639210318, 0.4118260380318152 L 1.019554369395262, 0.4129272185834084 L 1.0191078860473395, 0.4140279176530528 L 1.0186602143978738, 0.4151281339573097 L 1.0182113549688594, 0.41622786621330327 L 1.0177613082836763, 0.4173271131387225 L 1.017310074867088, 0.41842587345182186 L 1.0168576552452426, 0.4195241458714233 L 1.0164040499456712, 0.4206219291169179 L 1.0159492594972872, 0.42171922190826694 L 1.0154932844303857, 0.42281602296600357 L 1.0150361252766436, 0.4239123310112343 L 1.014577782569118, 0.4250081447656407 L 1.0141182568422464, 0.4261034629514804 L 1.0136575486318458, 0.42719828429158907 L 1.0131956584751116, 0.4282926075093817 L 1.0127325869106176, 0.429386431328854 L 1.012268334478315, 0.4304797544745841 L 1.0118029017195325, 0.4315725756717339 L 1.011336289176974, 0.43266489364605054 L 1.0108684973947202, 0.43375670712386794 L 1.010399526918226, 0.4348480148321082 L 1.009929378294321, 0.43593881549828345 L 1.0094580520712086, 0.43702910785049665 L 1.0089855487984654, 0.4381188906174438 L 1.00851186902704, 0.4392081625284148 L 1.0080370133092535, 0.4402969223132954 L 1.0075609821987974, 0.44138516870256844 L 1.0070837762507343, 0.4424729004273155 L 1.0066053960214965, 0.44356011621921815 L 1.0061258420688857, 0.44464681481055945 L 1.0056451149520718, 0.44573299493422575 L 1.005163215231593, 0.44681865532370785 L 1.0046801434693546, 0.44790379471310254 L 1.004195900228629, 0.4489884118371142 L 1.0037104860740533, 0.45007250543105604 L 1.0032239015716313, 0.4511560742308518 L 1.002736147288731, 0.45223911697303715 L 1.0022472237940843, 0.45332163239476114 L 1.0017571316577862, 0.4544036192337877 L 1.0012658714512945, 0.4554850762284971 L 1.0007734437474296, 0.45656600211788734 L 1.0002798491203722, 0.4576463956415759 L 0.9997850881456642, 0.4587262555398007 L 0.9992891614002078, 0.45980558055342213 L 0.9987920694622641, 0.4608843694239242 L 0.9982938129114525, 0.4619626208934161 L 0.9977943923287511, 0.4630403337046336 L 0.997293808296495, 0.4641175066009404 L 0.9967920613983758, 0.4651941383263301 L 0.996289152219441, 0.4662702276254272 L 0.9957850813460936, 0.4673457732434884 L 0.9952798493660907, 0.46842077392640463 L 0.9947734568685439, 0.46949522842070224 L 0.9942659044439175, 0.47056913547354423 L 0.9937571926840285, 0.47164249383273216 L 0.9932473221820456, 0.47271530224670727 L 0.9927362935324889, 0.473787559464552 L 0.9922241073312283, 0.4748592642359915 L 0.9917107641754842, 0.4759304153113953 L 0.9911962646638257, 0.47700101144177826 L 0.99068060939617, 0.47807105137880246 L 0.9901637989737821, 0.4791405338747786 L 0.9896458339992742, 0.48020945768266715 L 0.9891267150766043, 0.4812778215560802 L 0.9886064428110763, 0.4823456242492826 L 0.9880850178093389, 0.48341286451719373 L 0.9875624406793845, 0.4844795411153886 L 0.9870387120305492, 0.4855456528000995 L 0.9865138324735119, 0.48661119832821753 L 0.9859878026202933, 0.48767617645729383 L 0.9854606230842555, 0.48874058594554115 L 0.9849322944801011, 0.4898044255518354 L 0.9844028174238726, 0.49086769403571673 L 0.9838721925329512, 0.4919303901573916 L 0.9833404204260573, 0.4929925126777335 L 0.982807501723248, 0.4940540603582849 L 0.9822734370459184, 0.4951150319612587 L 0.981738227016799, 0.4961754262495393 L 0.9812018722599564, 0.49723524198668434 L 0.9806643734007913, 0.4982944779369259 L 0.9801257310660392, 0.4993531328651724 L 0.8910233918782173, 0.45395739351379305 L 0.891513066727992, 0.45299497994265986 L 0.8920017020545057, 0.452032038169713 L 0.8924892972879991, 0.45106856931776296 L 0.8929758518599258, 0.45010457451023517 L 0.8934613652029527, 0.4491400548711681 L 0.8939458367509611, 0.4481750115252122 L 0.8944292659390465, 0.4472094455976287 L 0.8949116522035204, 0.4462433582142879 L 0.89539299498191, 0.4452767505016685 L 0.8958732937129595, 0.44430962358685555 L 0.8963525478366302, 0.4433419785975398 L 0.8968307567941016, 0.4423738166620159 L 0.8973079200277719, 0.4414051389091813 L 0.8977840369812585, 0.44043594646853507 L 0.8982591070993989, 0.4394662404701761 L 0.8987331298282512, 0.43849602204480237 L 0.8992061046150948, 0.43752529232370924 L 0.899678030908431, 0.4365540524387883 L 0.9001489081579837, 0.43558230352252597 L 0.9006187358146999, 0.4346100467080022 L 0.9010875133307505, 0.4336372831288893 L 0.901555240159531, 0.43266401391945025 L 0.902021915755662, 0.4316902402145377 L 0.9024875395749898, 0.43071596314959265 L 0.9029521110745868, 0.4297411838606429 L 0.9034156297127531, 0.42876590348430194 L 0.9038780949490158, 0.42779012315776743 L 0.9043395062441307, 0.42681384401882017 L 0.9047998630600824, 0.4258370672058224 L 0.905259164860085, 0.4248597938577167 L 0.9057174111085827, 0.4238820251140247 L 0.9061746012712507, 0.42290376211484554 L 0.9066307348149955, 0.4219250060008549 L 0.9070858112079555, 0.42094575791330324 L 0.9075398299195022, 0.4199660189940146 L 0.90799279042024, 0.4189857903853856 L 0.9084446921820071, 0.4180050732303837 L 0.9088955346778765, 0.41702386867254604 L 0.9093453173821564, 0.416042177855978 L 0.9097940397703904, 0.4150600019253521 L 0.9102417013193587, 0.4140773420259064 L 0.9106883015070782, 0.4130941993034433 L 0.9111338398128038, 0.4121105749043283 L 0.9115783157170282, 0.4111264699754883 L 0.912021728701483, 0.4101418856644107 L 0.9124640782491392, 0.4091568231191418 L 0.912905363844208, 0.4081712834882856 L 0.9133455849721406, 0.4071852679210023 L 0.9137847411196299, 0.4061987775670071 L 0.9142228317746106, 0.4052118135765688 L 0.9146598564262596, 0.40422437710050857 L 0.9150958145649968, 0.4032364692901983 L 0.9155307056824856, 0.4022480912975595 L 0.915964529271634, 0.4012592442750622 L 0.916397284826594, 0.4002699293757231 L 0.9168289718427637, 0.39928014775310433 L 0.9172595898167867, 0.3982899005613125 L 0.9176891382465533, 0.39729918895499694 L 0.9181176166312008, 0.39630801408934857 L 0.9185450244711144, 0.3953163771200984 L 0.9189713612679273, 0.39432427920351626 L 0.9193966265245217, 0.39333172149640955 L 0.9198208197450294, 0.3923387051561217 L 0.9202439404348318, 0.39134523134053095 L 0.9206659881005613, 0.39035130120804906 L 0.9210869622501013, 0.3893569159176197 L 0.9215068623925871, 0.3883620766287173 L 0.9219256880384058, 0.38736678450134576 L 0.9223434386991981, 0.38637104069603695 L 0.9227601138878576, 0.38537484637384933 L 0.9231757131185323, 0.38437820269636686 L 0.9235902359066246, 0.3833811108256972 L 0.924003681768792, 0.3823835719244708 L 0.9244160502229478, 0.3813855871558393 L 0.9248273407882618, 0.38038715768347436 L 0.9252375529851601, 0.3793882846715659 L 0.9256466863353267, 0.37838896928482113 L 0.9260547403617033, 0.3773892126884633 L 0.9264617145884904, 0.3763890160482298 L 0.9268676085411471, 0.37538838053037127 L 0.9272724217463926, 0.37438730730165015 L 0.9276761537322059, 0.3733857975293391 L 0.928078804027827, 0.37238385238121996 L 0.928480372163757, 0.37138147302558217 L 0.928880857671759, 0.37037866063122127 L 0.9292802600848582, 0.36937541636743815 L 0.929678578937343, 0.3683717414040369 L 0.9300758137647649, 0.36736763691132396 L 0.9304719641039398, 0.3663631040601066 L 0.930867029492948, 0.36535814402169153 L 0.9312610094711347, 0.36435275796788374 L 0.9316539035791108, 0.3633469470709847 L 0.9320457113587535, 0.3623407125037913 L 0.9324364323532065, 0.36133405543959474 L 0.9328260661068809, 0.3603269770521785 L 0.9332146121654552, 0.35931947851581747 L 0.9336020700758766, 0.3583115610052765 L 0.9339884393863609, 0.3573032256958088 L 0.9343737196463932, 0.35629447376315504 L 1.0278110916110326 ,0.39192392113947055\",\"type\":\"path\"},{\"fillcolor\":\"rgba(253,174,97,0.75)\",\"layer\":\"below\",\"line\":{\"color\":\"rgb(150,150,150)\",\"width\":0.45},\"path\":\"M 0.9801254173130189, 0.49935374869623306 L 0.9742456521567747, 0.5107302705475962 L 0.96823384298827, 0.5220375707668621 L 0.9620908046157634, 0.5332741168234151 L 0.9558173696336137, 0.5444383857762786 L 0.949414388309435, 0.5555288644805251 L 0.9428827284688545, 0.5665440497923604 L 0.9362232753778933, 0.5774824487728519 L 0.9294369316229821, 0.5883425788902724 L 0.9225246169886288, 0.5991229682210356 L 0.9154872683327566, 0.6098221556491921 L 0.9083258394597272, 0.6204386910644614 L 0.9010413009910667, 0.6309711355587719 L 0.8936346402339135, 0.6414180616212831 L 0.8861068610472037, 0.6517780533318621 L 0.8784589837056135, 0.6620497065529906 L 0.8706920447612764, 0.6722316291200732 L 0.862807096903295, 0.682322441030125 L 0.8548052088150649, 0.6923207746288086 L 0.8466874650294308, 0.7022252747957998 L 0.8384549657816956, 0.7120345991284522 L 0.8301088268604998, 0.7217474181237401 L 0.821650179456593, 0.7313624153584517 L 0.8130801700095202, 0.7408782876676101 L 0.804399960052237, 0.7502937453210973 L 0.7956107260536842, 0.7596075121984573 L 0.7867136592593337, 0.768818325961855 L 0.7777099655297346, 0.7779249382271655 L 0.7686008651770766, 0.7869261147331745 L 0.7593875927997958, 0.7958206355088637 L 0.7500713971152443, 0.8046072950387573 L 0.7406535407904447, 0.8132849024263129 L 0.7311353002709562, 0.8218522815553286 L 0.7215179656078708, 0.8303082712493471 L 0.7118028402829685, 0.8386517254290359 L 0.701991241032048, 0.8468815132675204 L 0.6920844976664656, 0.8549965193436497 L 0.6820839528928987, 0.862995643793176 L 0.6719909621313622, 0.8708778024578225 L 0.661806893331503, 0.8786419270322267 L 0.6515331267871955, 0.88628696520873 L 0.6411710549494629, 0.8938118808200041 L 0.6307220822377531, 0.9012156539794863 L 0.6201876248495906, 0.9084972812196103 L 0.6095691105686328, 0.9156557756278099 L 0.5988679785711564, 0.9226901669802802 L 0.5880856792309976, 0.9295995018734768 L 0.577223673922979, 0.9363828438533347 L 0.56628343482484, 0.94303927354219 L 0.5552664447177067, 0.949567888763388 L 0.5441741967851249, 0.9559678046635589 L 0.5330081944106801, 0.9622381538325462 L 0.5217699509742381, 0.9683780864209708 L 0.51046098964683, 0.9743867702554151 L 0.49908284318420837, 0.9802633909512112 L 0.4876370537191071, 0.9860071520228181 L 0.47612517255222886, 0.9916172749917734 L 0.4645487599419894, 0.9970929994922039 L 0.4529093848930491, 1.002433583373881 L 0.4412086249436583, 1.0076383028028095 L 0.429448065951847, 1.0127064523593292 L 0.4176293018804848, 1.0176373451337264 L 0.4057539345812446, 1.022430312819333 L 0.3938235735774969, 1.0270847058031047 L 0.3818398358461622, 1.0315998932536665 L 0.3698043455985554, 1.0359752632068124 L 0.3577187340602496, 1.0402102226484475 L 0.34558463924998706, 1.0443041975949614 L 0.3334037057576722, 1.0482566331710244 L 0.32117758452147205, 1.0520669936847904 L 0.30890793260405786, 1.0557347627005027 L 0.2965964129680145, 1.0592594431084894 L 0.28424469425045207, 1.0626405571925377 L 0.2718544505368486, 1.065877646694642 L 0.2594273611341518, 1.0689702728771135 L 0.24696511034317611, 1.0719180165820439 L 0.23446938723032176, 1.0747204782881163 L 0.22194188539864668, 1.0773772781647541 L 0.20938430275832534, 1.0798880561236013 L 0.19679834129652385, 1.0822524718673259 L 0.18418570684672034, 1.0844702049357438 L 0.1715481088575063, 1.0865409547492508 L 0.15888726016089688, 1.0884644406495618 L 0.1462048767401837, 1.0902404019377505 L 0.1335026774973582, 1.0918685979095821 L 0.1207823840201417, 1.0933488078881375 L 0.10804572034865141, 1.0946808312537226 L 0.09529441274173162, 1.09586448747106 L 0.08253018944298773, 1.0968996161137559 L 0.06975478044654786, 1.0977860768860452 L 0.056969917262589514, 1.0985237496418063 L 0.04417733268265975, 1.0991125344008437 L 0.03137876054482275, 1.0995523513624401 L 0.018575935498663366, 1.0998431409161715 L 0.005770592770182748, 1.0999848636499872 L -0.0070355320733841145, 1.0999775003555503 L -0.019840703358799294, 1.099821052030842 L -0.032643185542064995, 1.0995155398800267 L -0.04544124344364914, 1.0990610053105765 L -0.05823314248366368, 1.098457509927661 L -0.05293922043969425, 0.9985977362978736 L -0.0413102213124083, 0.9991463684641604 L -0.029675623220059084, 0.9995595817091151 L -0.0180370030534539, 0.9998373200280382 L -0.006395938248531013, 0.9999795457777729 L 0.005245993427438861, 0.9999862396818064 L 0.01688721408969397, 0.9998574008328832 L 0.02852614594983886, 0.9995930466931272 L 0.040161211529690675, 0.999193213091676 L 0.05179083387508137, 0.9986579542198238 L 0.06341343676958895, 0.9979873426236774 L 0.07502744494817067, 0.9971814691943234 L 0.0866312843106651, 0.9962404431555089 L 0.09822338213513764, 0.9951643920488387 L 0.1098021672910379, 0.9939534617164885 L 0.1213660704521438, 0.9926078162814381 L 0.1329135243092579, 0.9911276381252278 L 0.14444296378263352, 0.989513127863238 L 0.15595282623409662, 0.9877645043175006 L 0.16744155167883665, 0.9858820044870398 L 0.17890758299683984, 0.9838658835157508 L 0.1903493661439321, 0.9817164146578192 L 0.20176535036240606, 0.9794338892406855 L 0.2131539883912016, 0.9770186166255602 L 0.22451373667561464, 0.9744709241654944 L 0.23584305557650165, 0.9717911571610123 L 0.24714040957895322, 0.9689796788133109 L 0.25840426750041096, 0.9660368701750343 L 0.26963310269819496, 0.9629631300986267 L 0.2808253932764162, 0.9597588751822752 L 0.2919796222922473, 0.9564245397134458 L 0.30309427796152016, 0.9529605756100221 L 0.31416785386362456, 0.9493674523590558 L 0.3251988491456814, 0.945645656953134 L 0.33618576872595946, 0.9417956938243749 L 0.3471271234965111, 0.9378180847760603 L 0.3580214305249972, 0.9337133689119133 L 0.3688672132556769, 0.92948210256303 L 0.3796630017095316, 0.9251248592124786 L 0.3904073326834972, 0.9206422294175719 L 0.40109874994878025, 0.9160348207298268 L 0.41173580444822644, 0.9113032576126192 L 0.4223170544927176, 0.9064481813565489 L 0.4328410659565717, 0.9014702499925212 L 0.4433064124719155, 0.8963701382025618 L 0.4537116756220076, 0.8911485372283737 L 0.46405544513348174, 0.88580615477765 L 0.47433631906748913, 0.8803437149281552 L 0.4845529040097092, 0.8747619580295873 L 0.4947038152592044, 0.8690616406032353 L 0.504787677016097, 0.8632435352394436 L 0.5148031225680363, 0.8573084304929 L 0.5247487944754354, 0.8512571307757587 L 0.5346233447554524, 0.8450904562486152 L 0.5444254350646875, 0.8388092427093455 L 0.5541537368805752, 0.8324143414798271 L 0.5638069316814459, 0.8259066192905548 L 0.57338371112523, 0.8192869581631693 L 0.5828827772267844, 0.8125562552909127 L 0.592302842533814, 0.8057154229170271 L 0.6016426303013663, 0.7987653882111151 L 0.6109008746648747, 0.791707093143475 L 0.620076320811726, 0.7845414943574326 L 0.6291677251513323, 0.7772695630396815 L 0.63817385548368, 0.7698922847886548 L 0.647093491166335, 0.7624106594809417 L 0.6559254232798826, 0.7548257011357701 L 0.6646684547917783, 0.7471384377775714 L 0.673321400718586, 0.7393499112966481 L 0.6818830882865856, 0.7314611773079611 L 0.6903523570907234, 0.7234733050080578 L 0.6987280592518877, 0.7153873770301586 L 0.7070090595724859, 0.7072044892974231 L 0.7151942356903033, 0.6989257508744136 L 0.723282478230622, 0.6905522838167794 L 0.7312726909565791, 0.6820852230191793 L 0.7391637909177455, 0.6735257160614637 L 0.7469547085969027, 0.6648749230531379 L 0.7546443880549998, 0.6561340164761273 L 0.7622317870742688, 0.6473041810258656 L 0.7697158772994825, 0.638386613450727 L 0.7770956443773317, 0.629382522389826 L 0.7843700880939045, 0.6202931282092045 L 0.7915382225102512, 0.6111196628364302 L 0.7985990760960122, 0.6018633695936277 L 0.8055516918610942, 0.5925255030289656 L 0.8123951274853758, 0.583107328746621 L 0.8191284554464242, 0.5736101232352472 L 0.8257507631452065, 0.5640351736949648 L 0.8322611530297787, 0.5543837778629018 L 0.8386587427169352, 0.5446572438373051 L 0.8449426651118018, 0.5348568899002476 L 0.8511120685253575, 0.5249840443389563 L 0.8571661167898676, 0.5150400452657822 L 0.8631039893722136, 0.505026240436841 L 0.8689248814851034, 0.4949439870693441 L 0.8746280041961484, 0.48479465165765007 L 0.8802125845347908, 0.47457960978805636 L 0.8856778655970678, 0.4643002459523602 L 0.891023106648199, 0.45395795336021183 L 0.9801254173130189 ,0.49935374869623306\",\"type\":\"path\"},{\"fillcolor\":\"rgba(254,224,139,0.75)\",\"layer\":\"below\",\"line\":{\"color\":\"rgb(150,150,150)\",\"width\":0.45},\"path\":\"M -0.058233832664860916, 1.0984574733384818 L -0.07956136026086637, 1.0971189497741076 L -0.10085886132858224, 1.095366372540029 L -0.12211829817211882, 1.093200403060457 L -0.1433316474610592, 1.0906218587742036 L -0.1644909032584705, 1.0876317128261812 L -0.18558808004235194, 1.0842310937001363 L -0.20661521571937713, 1.0804212847927588 L -0.22756437462979645, 1.0762037239293265 L -0.24842765054236146, 1.0715800028210691 L -0.2691971696381437, 1.066551866464455 L -0.2898650934821205, 1.0611212124826277 L -0.31042362198140805, 1.055290090409241 L -0.33086499632902344, 1.049060700914964 L -0.351181501932065, 1.042435394976945 L -0.37136547132320585, 1.0354166729915513 L -0.3914092870544045, 1.0280071838307177 L -0.4113053845717355, 1.0202097238422583 L -0.4310462550702584, 1.0120272357945244 L -0.45062444832784865, 1.0034628077657997 L -0.4700325755169175, 0.994519671978857 L -0.48926331199296125, 0.9852012035811155 L -0.5083094000588908, 0.975510919370855 L -0.5271636517040905, 0.9654524764699755 L -0.5458189513171808, 0.9550296709437949 L -0.5642682583714578, 0.9442464363684101 L -0.5825046100819912, 0.9331068423461634 L -0.6005211240333888, 0.9216150929697687 L -0.6183110007772236, 0.9097755252356861 L -0.6358675263981528, 0.8975926074073329 L -0.6531840750477567, 0.8850709373287583 L -0.6702541114451366, 0.8722152406894129 L -0.6870711933433393, 0.8590303692406689 L -0.7036289739606642, 0.8455212989647648 L -0.7199212043759451, 0.8316931281968662 L -0.7359417358868988, 0.8175510757009488 L -0.7516845223306516, 0.8031004787002309 L -0.7671436223655651, 0.788346790862904 L -0.782313201713505, 0.7732955802439098 L -0.7971875353617016, 0.7579525271835538 L -0.8117610097233756, 0.7423234221637398 L -0.8260281247563118, 0.7264141636226342 L -0.8399834960385769, 0.7102307557285944 L -0.853621856800609, 0.6937793061141856 L -0.8669380599128977, 0.6770660235711589 L -0.8799270798285175, 0.6600972157072457 L -0.8925840144797723, 0.6428792865656614 L -0.9049040871282419, 0.625418734208213 L -0.9168826481675252, 0.6077221482629265 L -0.9285151768780079, 0.5897962074371129 L -0.939797283132984, 0.5716476769968213 L -0.9507247090554951, 0.5532834062136188 L -0.9612933306252568, 0.5347103257796699 L -0.9714991592350667, 0.5159354451920887 L -0.9813383431961094, 0.4969658501075454 L -0.9908071691915863, 0.47780869966813644 L -0.9999020636781256, 0.4584712237995158 L -1.00861959423444, 0.43896072048231577 L -1.0169564708567262, 0.41928455299788103 L -1.024909547200315, 0.39945014714936067 L -1.0324758217671037, 0.3794649884592043 L -1.0396524390383262, 0.35933661934411804 L -1.0464366905522262, 0.33907263626855033 L -1.0528260159262346, 0.31868068687777795 L -1.0588180038232589, 0.29816846711168093 L -1.0644103928617255, 0.27754371830028424 L -1.0696010724690255, 0.2568142242421764 L -1.0743880836780475, 0.2359878082668948 L -1.0787696198664942, 0.21507233028239536 L -1.0827440274387017, 0.19407568380871468 L -1.0863098064497092, 0.1730057929989495 L -1.0894656111713392, 0.15187060964867535 L -1.0922102506000764, 0.13067811019493014 L -1.0945426889065537, 0.10943629270590097 L -1.0964620458264744, 0.08815317386244383 L -1.0979675969928266, 0.0668367859325847 L -1.0990587742092575, 0.04549517374013047 L -1.099735165664513, 0.024136391628548682 L -1.0999965160878546, 0.00276850042124917 L -1.0998427268453999, -0.018600435620576897 L -1.099273855977346, -0.039962351841417845 L -1.0982901181760656, -0.06130918623504869 L -1.0968918847050821, -0.08263288248713851 L -1.0950796832589536, -0.10392539301571214 L -1.0928541977641215, -0.12517868200831375 L -1.0902162681207956, -0.1463847284547316 L -1.0871668898859752, -0.16753552917413111 L -1.083707213897724, -0.1886231018354662 L -1.0798385458408446, -0.2096394879700149 L -1.0755623457541106, -0.23057675597491428 L -1.0708802274792466, -0.2514270041065537 L -1.0657939580518638, -0.2721823634627012 L -1.0603054570345782, -0.29283500095223325 L -1.0544167957925665, -0.3133771222513493 L -1.0481301967118315, -0.3338009747451583 L -1.0414480323604702, -0.35409885045352113 L -1.034372824593266, -0.3742630889400512 L -1.0269072435999378, -0.39428608020316686 L -1.0190541068974075, -0.41416026754811613 L -1.0108163782664679, -0.4338781504388771 L -0.9189239802422435, -0.394434682217161 L -0.9264128244521886, -0.376509334134651 L -0.9335520396363071, -0.35844189109378805 L -0.9403389314484236, -0.3402391717636829 L -0.9467709385095183, -0.32190804586683736 L -0.9528456333743921, -0.3034554315865075 L -0.9585607234477878, -0.28488829295577206 L -0.9639140518496164, -0.2662136372293029 L -0.9689035982289671, -0.24743851223881924 L -0.9735274795265878, -0.22857000373323064 L -0.977783950685555, -0.20961523270446752 L -0.9816714053098587, -0.19058135270001353 L -0.9851883762706581, -0.17147554712315108 L -0.9883335362599773, -0.15230502652193736 L -0.9911056982916324, -0.13307702586793782 L -0.9935038161492014, -0.11379880182573976 L -0.9955269847808668, -0.09447763001428376 L -0.9971744406409836, -0.07512080226103501 L -0.9984455619782414, -0.05573562385004426 L -0.9993398690703145, -0.03632941076492531 L -0.999857024404909, -0.016909486927797177 L -0.9999968328071405, 0.0025168185647719723 L -0.9997592415131934, 0.021942174207771527 L -0.999144340190234, 0.04135924885466406 L -0.9981523609025695, 0.06076071448416791 L -0.9967836780240676, 0.08013924896585801 L -0.9950388080968668, 0.09948753882354633 L -0.9929184096364331, 0.11879828199539104 L -0.9904232828830356, 0.13806419058970484 L -0.9875543694997356, 0.15727799363540862 L -0.9843127522170014, 0.17643243982610424 L -0.9806996544240856, 0.19552030025672304 L -0.9767164397073159, 0.21453437115172252 L -0.9723646113354776, 0.2334674765837967 L -0.9676458116924775, 0.25231247118207656 L -0.962561821657508, 0.2710622428288008 L -0.9571145599329404, 0.2897097153434345 L -0.9513060823202055, 0.30824785115322756 L -0.9451385809439329, 0.32666965394919817 L -0.9386143834246397, 0.34496817132654933 L -0.9317359520002861, 0.3631364974085097 L -0.9245058825970237, 0.3811677754526191 L -0.9169269038494908, 0.39905520043846887 L -0.9090018760710232, 0.41679202163592344 L -0.9007337901741693, 0.43437154515285126 L -0.8921257665419176, 0.4517871364614049 L -0.8831810538500605, 0.4690322229018988 L -0.8739030278411425, 0.4861002961633363 L -0.8642951900504501, 0.5029849147396535 L -0.8543611664845309, 0.5196797063607466 L -0.8441047062527344, 0.5361783703973754 L -0.8335296801522956, 0.552474680239024 L -0.8226400792074926, 0.5685624856438299 L -0.8114400131634293, 0.5844357150596922 L -0.7999337089350158, 0.6000883779156778 L -0.7881255090117252, 0.6155145668828716 L -0.7760198698187354, 0.630708460103805 L -0.7636213600350699, 0.6456643233896312 L -0.7509346588693743, 0.6603765123842129 L -0.7379645542939778, 0.6748394746943088 L -0.7247159412379105, 0.6890477519850489 L -0.71119381973955, 0.7029959820399179 L -0.6974032930596046, 0.7166789007844582 L -0.6833495657551378, 0.7300913442729372 L -0.6690379417153625, 0.7432282506372261 L -0.65447382215995, 0.7560846619971511 L -0.6396627036006037, 0.7686557263316043 L -0.6246101757666721, 0.7809366993096989 L -0.6093219194955787, 0.7929229460812844 L -0.5938037045888697, 0.8046099430261439 L -0.5780613876346843, 0.8159932794612117 L -0.562100909797476, 0.827068659305169 L -0.5459282945758079, 0.8378319026997897 L -0.5295496455290828, 0.8482789475874212 L -0.5129711439740525, 0.8584058512440091 L -0.49619904665198256, 0.8682087917670862 L -0.47923968336735495, 0.8776840695181595 L -0.4620994545989916, 0.886828108518959 L -0.44478482908451017, 0.895637457801014 L -0.4273023413790159, 0.9041087927080518 L -0.4096585893889533, 0.9122389161507269 L -0.39186023188205305, 0.920024759813204 L -0.373913985974305, 0.9274633853111438 L -0.35582662459491315, 0.9345519853006523 L -0.3376049739301871, 0.9412878845377739 L -0.3192559108473318, 0.9476685408881317 L -0.3007863602991122, 0.9536915462863308 L -0.2822032927103709, 0.9593546276447644 L -0.2635137213473822, 0.9646556477114796 L -0.24472469967103974, 0.9695926058767772 L -0.22584331867487403, 0.9741636389282445 L -0.20687670420890586, 0.9783670217539331 L -0.18783201429034282, 0.982201167993417 L -0.16871643640213813, 0.9856646306364875 L -0.1495371847804277, 0.9887561025692555 L -0.130301497691872, 0.9914744170674578 L -0.11101663470192619, 0.9938185482367791 L -0.09168987393507476, 0.9957876114000265 L -0.07232850932806033, 0.9973808634310068 L -0.052939847877146284, 0.9985977030349833 L -0.058233832664860916 ,1.0984574733384818\",\"type\":\"path\"},{\"fillcolor\":\"rgba(255,255,191,0.75)\",\"layer\":\"below\",\"line\":{\"color\":\"rgb(150,150,150)\",\"width\":0.45},\"path\":\"M -1.0108161056525866, -0.43387878555345294 L -1.0090856311840606, -0.43788832930082344 L -1.0073392523726703, -0.4418909714276474 L -1.0055769967433419, -0.4458866488477101 L -1.0037988920712384, -0.44987529858456865 L -1.0020049663813213, -0.45385685777254436 L -1.00019524794791, -0.45783126365771387 L -0.9983697652942354, -0.46179845359889793 L -0.9965285471919907, -0.4657583650686488 L -0.9946716226608773, -0.4697109356542358 L -0.9927990209681482, -0.47365610305862904 L -0.9909107716281464, -0.47759380510148114 L -0.9890069044018398, -0.48152397972010735 L -0.9870874492963516, -0.4854465649704638 L -0.9851524365644881, -0.4893614990281236 L -0.9832018967042618, -0.49326872018925166 L -0.98123586045841, -0.49716816687157667 L -0.9792543588139111, -0.5010597776153621 L -0.9772574230014955, -0.5049434910843749 L -0.9752450844951543, -0.5088192460668518 L -0.9732173750116422, -0.5126869814764646 L -0.9711743265099781, -0.5165466363532828 L -0.9691159711909416, -0.5203981498647342 L -0.9670423414965649, -0.5242414613065638 L -0.9649534701096221, -0.5280765101037905 L -0.9628493899531139, -0.5319032358116622 L -0.960730134189748, -0.535721578116608 L -0.9585957362214179, -0.5395314768371888 L -0.9564462296886745, -0.5433328719250469 L -0.9542816484701978, -0.5471257034658508 L -0.9521020266822617, -0.5509099116802402 L -0.9499073986781967, -0.5546854369247688 L -0.9476977990478486, -0.5584522196928434 L -0.9454732626170329, -0.5622102006156624 L -0.9432338244469862, -0.5659593204631514 L -0.9409795198338137, -0.5696995201448968 L -0.9387103843079325, -0.5734307407110766 L -0.9364264536335121, -0.57715292335339 L -0.9341277638079102, -0.5808660094059847 L -0.9318143510611057, -0.5845699403463803 L -0.9294862518551276, -0.5882646577963924 L -0.9271435028834801, -0.5919501035230506 L -0.924786141070565, -0.5956262194395183 L -0.9224142035710985, -0.5992929476060072 L -0.9200277277695263, -0.6029502302306903 L -0.917626751279435, -0.6065980096706137 L -0.9152113119429582, -0.610236228432604 L -0.9127814478301804, -0.6138648291741755 L -0.9103371972385373, -0.6174837547044332 L -0.9078785986922117, -0.6210929479849744 L -0.9054056909415269, -0.6246923521307881 L -0.902918512962335, -0.6282819104111511 L -0.9004171039554042, -0.6318615662505223 L -0.897901503345799, -0.6354312632294341 L -0.8953717507822604, -0.6389909450853823 L -0.8928278861365797, -0.6425405557137126 L -0.8902699495029718, -0.6460800391685044 L -0.8876979811974411, -0.649609339663453 L -0.8851120217571481, -0.653128401572749 L -0.8825121119397688, -0.6566371694319544 L -0.8798982927228536, -0.6601355879388776 L -0.8772706053031808, -0.6636236019544446 L -0.8746290910961072, -0.6671011565035677 L -0.8719737917349161, -0.6705681967760129 L -0.8693047490701599, -0.6740246681272626 L -0.8666220051690018, -0.677470516079378 L -0.8639256023145518, -0.6809056863218568 L -0.8612155830052008, -0.6843301247124901 L -0.8584919899539504, -0.6877437772782148 L -0.8557548660877398, -0.6911465902159648 L -0.8530042545467696, -0.6945385098935191 L -0.8502401986838216, -0.697919482850347 L -0.8474627420635752, -0.7012894557984503 L -0.8446719284619212, -0.7046483756232035 L -0.8418678018652718, -0.7079961893841912 L -0.8390504064698668, -0.7113328443160427 L -0.8362197866810779, -0.7146582878292623 L -0.8333759871127081, -0.7179724675110597 L -0.8305190525862888, -0.7212753311261749 L -0.8276490281303737, -0.7245668266177028 L -0.8247659589798282, -0.727846902107912 L -0.8218698905751175, -0.7311155058990642 L -0.8189608685615896, -0.7343725864742278 L -0.8160389387887559, -0.7376180924980903 L -0.8131041473095697, -0.7408519728177673 L -0.8101565403796988, -0.7440741764636088 L -0.8071961644567971, -0.7472846526500029 L -0.804223066199773, -0.7504833507761752 L -0.801237292468053, -0.7536702204269875 L -0.7982388903208435, -0.7568452113737317 L -0.7952279070163892, -0.7600082735749217 L -0.7922043900112287, -0.763159357177082 L -0.7891683869594455, -0.7662984125155337 L -0.7861199457119177, -0.7694253901151766 L -0.7830591143155633, -0.7725402406912701 L -0.7799859410125838, -0.7756429151502091 L -0.7769004742397025, -0.7787333645902977 L -0.7738027626274024, -0.7818115403025208 L -0.7706928549991591, -0.7848773937713109 L -0.767570800370671, -0.7879308766753133 L -0.69779163670061, -0.7163007969775574 L -0.7006298681810537, -0.7135249034284644 L -0.7034570569340022, -0.7107377639113824 L -0.7062731583997295, -0.7079394223548161 L -0.7090781281932579, -0.7051299228638264 L -0.7118719221050575, -0.7023093097193365 L -0.7146544961017433, -0.6994776273774332 L -0.7174258063267686, -0.6966349204686669 L -0.720185809101117, -0.6937812337973472 L -0.7229344609239902, -0.6909166123408379 L -0.725671718473494, -0.688041101248847 L -0.7283975386073208, -0.6851547458427159 L -0.73111187836343, -0.6822575916147047 L -0.7338146949607246, -0.6793496842272753 L -0.7365059457997261, -0.6764310695123716 L -0.7391855884632451, -0.6735017934706975 L -0.7418535807170508, -0.6705619022709911 L -0.7445098805105359, -0.6676114422492979 L -0.7471544459773795, -0.6646504599082401 L -0.7497872354362074, -0.6616790019162836 L -0.7524082073912487, -0.6586971151070025 L -0.7550173205329898, -0.6557048464783408 L -0.7576145337388255, -0.6527022431918724 L -0.7601998060737071, -0.6496893525720566 L -0.762773096790788, -0.6466662221054933 L -0.7653343653320652, -0.6436328994401738 L -0.7678835713290192, -0.6405894323847304 L -0.7704206746032501, -0.637535868907682 L -0.7729456351671105, -0.634472257136679 L -0.775458413224336, -0.6313986453577446 L -0.7779589691706724, -0.6283150820145134 L -0.7804472635945002, -0.6252216157074679 L -0.7829232572774553, -0.6221182951931727 L -0.7853869111950471, -0.6190051693835061 L -0.7878381865172743, -0.615882287344889 L -0.7902770446092362, -0.6127496982975114 L -0.7927034470317418, -0.6096074516145571 L -0.7951173555419155, -0.6064555968214251 L -0.7975187320938006, -0.6032941835949496 L -0.7999075388389577, -0.600123261762616 L -0.8022837381270624, -0.5969428813017766 L -0.8046472925064982, -0.5937530923388626 L -0.8069981647249465, -0.5905539451485936 L -0.8093363177299743, -0.5873454901531858 L -0.8116617146696179, -0.5841277779215569 L -0.8139743188929639, -0.5809008591685294 L -0.8162740939507263, -0.5776647847540309 L -0.818561003595822, -0.5744196056822929 L -0.8208350117839409, -0.5711653731010464 L -0.8230960826741153, -0.5679021383007165 L -0.8253441806292833, -0.564629952713613 L -0.8275792702168521, -0.561348867913121 L -0.8298013162092549, -0.5580589356128868 L -0.8320102835845075, -0.5547602076660036 L -0.8342061375267591, -0.5514527360641942 L -0.836388843426842, -0.5481365729369911 L -0.8385583668828167, -0.5448117705509156 L -0.8407146737005136, -0.541478381308653 L -0.8428577298940728, -0.5381364577482277 L -0.8449875016864795, -0.5347860525421748 L -0.847103955510096, -0.5314272184967094 L -0.849207058007191, -0.5280600085508951 L -0.8512967760304655, -0.524684475775809 L -0.853373076643575, -0.5213006733737059 L -0.8554359271216487, -0.5179086546771788 L -0.8574852949518056, -0.5145084731483195 L -0.8595211478336662, -0.5111001823778749 L -0.8615434536798623, -0.507683836084403 L -0.8635521806165424, -0.5042594881134261 L -0.8655472969838742, -0.5008271924365819 L -0.8675287713365434, -0.4973870031507734 L -0.8694965724442495, -0.49393897447731533 L -0.871450669292198, -0.49048316076108067 L -0.873391031081589, -0.48701961646964365 L -0.8753176272301034, -0.4835483961924202 L -0.8772304273723837, -0.4800695546398095 L -0.8791294013605134, -0.47658314664233065 L -0.8810145192644923, -0.4730892271497583 L -0.8828857513727073, -0.4695878512302571 L -0.8847430681924019, -0.46607907406951327 L -0.8865864404501402, -0.4625629509698652 L -0.8884158390922686, -0.45903953734943165 L -0.8902312352853736, -0.45550888874123824 L -0.8920326004167364, -0.4519710607923424 L -0.8938199060947835, -0.448426109262956 L -0.8955931241495346, -0.4448740900255669 L -0.8973522266330468, -0.44131505906405794 L -0.8990971858198543, -0.43774907247282485 L -0.9008279742074058, -0.4341761864558919 L -0.9025445645164983, -0.43059645732602636 L -0.9042469296917065, -0.4270099415038507 L -0.9059350429018096, -0.42341669551695343 L -0.9076088775402139, -0.4198167759989981 L -0.9092684072253726, -0.41621023968883075 L -0.9109136058012011, -0.41259714342958576 L -0.9125444473374893, -0.40897754416778964 L -0.9141609061303108, -0.4053514989524637 L -0.9157629567024275, -0.4017190649342249 L -0.9173505738036913, -0.39808029936438494 L -0.9189237324114422, -0.39443525959404807 L -1.0108161056525866 ,-0.43387878555345294\",\"type\":\"path\"},{\"fillcolor\":\"rgba(230,245,152,0.75)\",\"layer\":\"below\",\"line\":{\"color\":\"rgb(150,150,150)\",\"width\":0.45},\"path\":\"M -0.767570305298949, -0.7879313589541151 L -0.7612684594282708, -0.7940216197810406 L -0.7549182921753098, -0.8000614802245598 L -0.7485202066158214, -0.8060505569055877 L -0.7420746088671673, -0.8119884696685298 L -0.7355819080625363, -0.8178748416054125 L -0.7290425163249772, -0.8237092990798062 L -0.7224568487412358, -0.8294914717505438 L -0.7158253233354105, -0.8352209925952263 L -0.7091483610424147, -0.8408974979335216 L -0.7024263856812639, -0.846520627450245 L -0.695659823928167, -0.8520900242182347 L -0.688849105289448, -0.8576053347210051 L -0.6819946620742806, -0.8630662088751871 L -0.675096929367249, -0.8684723000527489 L -0.6681563450007298, -0.8738232651029989 L -0.6611733495271017, -0.8791187643743666 L -0.6541483861907808, -0.8843584617359622 L -0.6470819009000857, -0.8895420245989123 L -0.639974342198934, -0.8946691239374711 L -0.632826161238371, -0.8997394343099048 L -0.6256378117479323, -0.9047526338791498 L -0.6184097500068447, -0.9097084044332403 L -0.6111424348150625, -0.9146064314055076 L -0.6038363274641461, -0.9194464038945461 L -0.5964918917079806, -0.9242280146839497 L -0.5891095937333424, -0.9289509602618088 L -0.581689902130303, -0.9336149408399795 L -0.5742332878624893, -0.938219660373111 L -0.5667402242371871, -0.9427648265774361 L -0.5592111868752992, -0.9472501509493252 L -0.551646653681155, -0.9516753487835985 L -0.5440471048121758, -0.9560401391915978 L -0.5364130226483963, -0.9603442451190153 L -0.5287448917618465, -0.9645873933634803 L -0.5210431988857928, -0.9687693145919003 L -0.5133084328838432, -0.9728897433575571 L -0.5055410847189166, -0.9769484181169553 L -0.49774164742207877, -0.9809450812464249 L -0.48991061606124775, -0.9848794790584727 L -0.48204848770976927, -0.9887513618178864 L -0.4741557614148648, -0.9925604837575845 L -0.46623293816595435, -0.996306603094219 L -0.4582805208628593, -0.9999894820435196 L -0.45029901428387603, -1.0036088868353896 L -0.4422889250537381, -1.0071645877287432 L -0.4342507616114582, -1.010656359026088 L -0.42618503417805464, -1.0140839790878518 L -0.418092254724165, -1.017447230346451 L -0.4099729369375496, -1.0207458993201002 L -0.40182759619048436, -1.0239797766263634 L -0.3936567495070482, -1.0271486569954444 L -0.38546091553030504, -1.0302523392832161 L -0.3772406144893826, -1.0332906264839883 L -0.3689963681664515, -1.0362633257430125 L -0.3607286998636047, -1.039170248368723 L -0.3524381343696414, -1.0420112098447152 L -0.34412519792675583, -1.0447860298414557 L -0.33579041819713457, -1.0474945322277314 L -0.3274343242294618, -1.050136545081827 L -0.3190574464253422, -1.0527119007024381 L -0.3106603165056279, -1.055220435619318 L -0.3022434674766716, -1.0576619906036513 L -0.29380743359649286, -1.0600364106781628 L -0.2853527503408665, -1.0623435451269534 L -0.27687995436933294, -1.0645832475050678 L -0.26838958349113423, -1.0667553756477892 L -0.25988217663107666, -1.0688597916796636 L -0.2513582737953222, -1.070896362023252 L -0.2428184160371122, -1.0728649574076077 L -0.2342631454224239, -1.0747654528764834 L -0.22569300499556283, -1.0765977277962615 L -0.21710853874469332, -1.078361665863612 L -0.20851029156730883, -1.0800571551128746 L -0.19989880923564374, -1.0816840879231662 L -0.19127463836203543, -1.0832423610252107 L -0.18263832636421753, -1.084731875507896 L -0.1739904214305861, -1.0861525368245508 L -0.16533147248539293, -1.0875042547989464 L -0.15666202915390753, -1.0887869436310211 L -0.14798264172752865, -1.0900005219023257 L -0.13929386112885478, -1.0911449125811912 L -0.1305962388767144, -1.09222004302762 L -0.12189032705115832, -1.093225844997895 L -0.11317667825841667, -1.0941622546489123 L -0.10445584559582215, -1.0950292125422325 L -0.09572838261670234, -1.0958266636478555 L -0.08699484329524304, -1.0965545573477118 L -0.07825578199132481, -1.097212847438876 L -0.06951175341533507, -1.0978014921365 L -0.060763312592957947, -1.0983204540764644 L -0.052011014829943185, -1.0987697003177506 L -0.043255415676862086, -1.0991492023445324 L -0.03449707089383817, -1.0994589360679852 L -0.025736536415274323, -1.0996988818278144 L -0.016974368314563965, -1.0998690243935056 L -0.008211122768794411, -1.0999693529652887 L 0.0005526439765564092, -1.0999998611748256 L 0.009316375642927498, -1.0999605470856124 L 0.018079515953984496, -1.0998514131931048 L 0.01643592359453136, -0.9998649210846406 L 0.008469432402661362, -0.9999641337141931 L 0.0005024036150512811, -0.9999998737952959 L -0.007464657062540373, -0.9999721390593533 L -0.015431243922330877, -0.9998809312668232 L -0.023396851286613018, -0.999726256207104 L -0.03136097353985288, -0.9995081236981682 L -0.03932310516078371, -0.9992265475859385 L -0.0472827407544938, -0.9988815457434096 L -0.05523937508450722, -0.9984731400695129 L -0.06319250310485006, -0.9980013564877271 L -0.07114161999211346, -0.9974662249444327 L -0.07908622117749367, -0.9968677794070107 L -0.08702580237882031, -0.9962060578616868 L -0.09495985963256558, -0.9954811023111204 L -0.10288788932583333, -0.9946929587717384 L -0.11080938822832574, -0.9938416772708137 L -0.1187238535242858, -0.992927311843291 L -0.12663078284441343, -0.9919499205283556 L -0.1345296742977533, -0.9909095653657505 L -0.1424200265035523, -0.9898063123918374 L -0.15030133862308448, -0.9886402316354058 L -0.15817311039144188, -0.9874113971132279 L -0.16603484214928865, -0.98611988682536 L -0.17388603487457766, -0.9847657827501914 L -0.18172619021422157, -0.9833491708392419 L -0.18955481051573528, -0.9818701410117041 L -0.1973713988588121, -0.9803287871487381 L -0.2051754590868753, -0.9787252070875103 L -0.21296649583856717, -0.9770595026149849 L -0.2207440145791929, -0.9753317794614615 L -0.22850752163211108, -0.9735421472938653 L -0.23625652421006965, -0.9716907197087851 L -0.24399053044648567, -0.9697776142252628 L -0.2517090494266663, -0.9678029522773343 L -0.2594115912189695, -0.9657668592063212 L -0.2670976669059026, -0.9636694642528753 L -0.27476678861515597, -0.9615109005487739 L -0.2824184695505708, -0.9592913051084708 L -0.2900522240230383, -0.9570108188203983 L -0.2976675674813289, -0.9546695864380244 L -0.30526401654284957, -0.9522677565706648 L -0.31284108902432345, -0.9498054816740507 L -0.3203983039724012, -0.94728291804065 L -0.32793518169418606, -0.9447002257897482 L -0.33545124378768315, -0.942057568857284 L -0.342946013172166, -0.9393551149854439 L -0.3504190141184591, -0.9365930357120147 L -0.3578697722791347, -0.9337715063594949 L -0.3652978147186221, -0.9308907060239667 L -0.37270266994322687, -0.9279508175637274 L -0.3800838679310591, -0.9249520275876827 L -0.3874409401618678, -0.9218945264435016 L -0.39477341964678014, -0.9187785082055344 L -0.4020808409579437, -0.9156041706624937 L -0.40936274025806907, -0.9123717153048996 L -0.4166186553298721, -0.9090813473122904 L -0.423848125605413, -0.905733275540199 L -0.4310506921953316, -0.9023277125068949 L -0.438225897917972, -0.8988648743798966 L -0.44537328732840703, -0.8953449809622479 L -0.4524924067473443, -0.891768255678568 L -0.45958280428992415, -0.8881349255608684 L -0.4666440298944029, -0.8844452212341427 L -0.47367563535072066, -0.8806993769017275 L -0.4806771743289513, -0.8768976303304366 L -0.48764820240763296, -0.8730402228354683 L -0.4945882771019779, -0.8691273992650889 L -0.501496957891959, -0.8651594079850895 L -0.508373806250272, -0.8611365008630228 L -0.51521838567017, -0.8570589332522146 L -0.522030261693172, -0.8529269639755553 L -0.528809001936639, -0.8487408553090723 L -0.5355541761212202, -0.8445008729652806 L -0.5422653560981641, -0.8402072860763178 L -0.5489421158764963, -0.8358603671768601 L -0.5555840316500568, -0.831460392186825 L -0.5621906818244042, -0.8270076403938548 L -0.5687616470435748, -0.8225023944355907 L -0.5752965102167008, -0.8179449402817316 L -0.5817948565444854, -0.8133355672158827 L -0.5882562735455323, -0.8086745678171929 L -0.5946803510825279, -0.8039622379417838 L -0.6010666813882742, -0.7991988767039696 L -0.6074148590915726, -0.7943847864572716 L -0.6137244812429535, -0.7895202727752262 L -0.6199951473402551, -0.7846056444319882 L -0.6262264593540435, -0.7796412133827318 L -0.6324180217528791, -0.7746272947438496 L -0.6385694415284217, -0.76956420677295 L -0.644680328220377, -0.764452270848656 L -0.6507502939412823, -0.7592918114502056 L -0.6567789534011235, -0.754083156136858 L -0.6627659239317973, -0.7488266355270965 L -0.6687108255113966, -0.7435225832776476 L -0.6746132807883338, -0.7381713360622998 L -0.6804729151052922, -0.7327732335505343 L -0.6862893565230088, -0.7273286183859634 L -0.6920622358438825, -0.7218378361645823 L -0.6977911866354081, -0.7163012354128319 L -0.767570305298949 ,-0.7879313589541151\",\"type\":\"path\"},{\"fillcolor\":\"rgba(171,221,164,0.75)\",\"layer\":\"below\",\"line\":{\"color\":\"rgb(150,150,150)\",\"width\":0.45},\"path\":\"M 0.018080207011004674, -1.0998514018331929 L 0.02680974054719495, -1.09967324138209 L 0.03553758492578102, -1.0994257956122564 L 0.044263190245702286, -1.0991090801141046 L 0.0529860067469738, -1.098723114842411 L 0.06170548484532114, -1.0982679241150604 L 0.07042107516680429, -1.0977435366115127 L 0.07913222858243796, -1.097149985370996 L 0.08783839624278184, -1.096487307790426 L 0.0965390296125279, -1.0957555456220478 L 0.1052335805050581, -1.0949547449708072 L 0.11392150111698025, -1.0940849562914454 L 0.12260224406264836, -1.093146234385319 L 0.1312752624086479, -1.0921386383969487 L 0.13994000970825274, -1.0910622318102916 L 0.1485959400358609, -1.0899170824447422 L 0.15724250802138318, -1.0887032624508597 L 0.16587916888461104, -1.0874208483058208 L 0.17450537846953793, -1.0860699208086022 L 0.18312059327864086, -1.0846505650748903 L 0.19172427050712987, -1.083162870531717 L 0.2003158680771444, -1.0816069309118264 L 0.20889484467190436, -1.0799828442477692 L 0.21746065976982276, -1.078290712865725 L 0.22601277367855369, -1.0765306433790574 L 0.2345506475690026, -1.0747027466815937 L 0.24307374350927263, -1.0728071379406405 L 0.25158152449855414, -1.0708439365897273 L 0.26007345450096453, -1.0688132663210794 L 0.2685489984793186, -1.0667152550778278 L 0.2770076224288357, -1.0645500350459456 L 0.2854487934107916, -1.0623177426459203 L 0.29387197958608896, -1.0600185185241593 L 0.30227665024877276, -1.0576525075441279 L 0.31066227585946465, -1.0552198587772208 L 0.31902832807872394, -1.0527207254933733 L 0.32737427980034156, -1.0501552651514003 L 0.3356996051845476, -1.0475236393890779 L 0.3440037796911396, -1.04482601401296 L 0.3522862801125375, -1.042062558987929 L 0.3605465846067412, -1.03923344842649 L 0.36878417273021624, -1.0363388605777988 L 0.3769985254706812, -1.0333789778164313 L 0.385189125279806, -1.0303539866308948 L 0.3933554561058253, -1.027264077611876 L 0.4014970034260503, -1.0241094454402333 L 0.40961325427928313, -1.0208902888747329 L 0.417703697298143, -1.0176068107395222 L 0.42576782274127745, -1.0142592179113543 L 0.4338051225254854, -1.010847721306552 L 0.4418150902577264, -1.0073725358677184 L 0.44979722126702326, -1.0038338805501958 L 0.4577510126362644, -1.0002319783082696 L 0.4656759632338879, -0.9965670560811204 L 0.47357157374545245, -0.9928393447785274 L 0.4814373467051026, -0.9890490792663179 L 0.48927278652690853, -0.9851964983515696 L 0.4970773995360887, -0.9812818447675673 L 0.5048506940001196, -0.9773053651585044 L 0.5125921801597108, -0.973267310063949 L 0.5203013702596683, -0.9691679339030527 L 0.5279777785796235, -0.9650074949585242 L 0.5356209214646331, -0.9607862553603572 L 0.5432303173556586, -0.9565044810693103 L 0.5508054868198995, -0.9521624418601554 L 0.5583459525810068, -0.9477604113046758 L 0.5658512395491512, -0.9432986667544322 L 0.5733208748509533, -0.9387774893232889 L 0.580754387859283, -0.9341971638696992 L 0.5881513102229086, -0.9295579789787597 L 0.5955111758960026, -0.9248602269440287 L 0.6028335211675111, -0.9201042037491081 L 0.6101178846903667, -0.9152902090489948 L 0.6173638075105532, -0.9104185461512044 L 0.624570833096029, -0.905489521996656 L 0.6317385073654835, -0.9005034471403378 L 0.6388663787169528, -0.8954606357317373 L 0.6459539980562706, -0.8903614054950494 L 0.653000918825361, -0.8852060777091594 L 0.6600066970303801, -0.8799949771873976 L 0.6669708912696826, -0.8747284322570781 L 0.6738930627616391, -0.8694067747388088 L 0.680772775372279, -0.8640303399255866 L 0.6876095956427667, -0.858599466561674 L 0.6944030928167167, -0.8531144968212523 L 0.7011528388673312, -0.8475757762868654 L 0.7078584085243658, -0.8419836539276474 L 0.7145193793009282, -0.8363384820773325 L 0.7211353315200953, -0.8306406164120572 L 0.7277058483413527, -0.8248904159279536 L 0.7342305157868623, -0.8190882429185261 L 0.7407089227675407, -0.8132344629518289 L 0.747140661108964, -0.8073294448474305 L 0.7535253255770832, -0.8013735606531768 L 0.759862513903754, -0.7953671856217527 L 0.7661518268120865, -0.7893106981870338 L 0.7723928680415968, -0.7832044799402496 L 0.7785852443731777, -0.777048915605935 L 0.7847285656538718, -0.7708443930176939 L 0.790822444821452, -0.764591303093765 L 0.718929495292229, -0.6950830028125136 L 0.7133896051398835, -0.7007676300160853 L 0.7078047676119796, -0.7064081050963045 L 0.7021753345832698, -0.7120040726729541 L 0.6965016607382604, -0.7175551801700307 L 0.6907841035488672, -0.7230610778379569 L 0.6850230232518938, -0.7285214187756152 L 0.6792187828263309, -0.7339358589522095 L 0.6733717479704915, -0.7393040572289353 L 0.6674822870789656, -0.7446256753804782 L 0.6615507712194114, -0.7499003781163215 L 0.6555775741091775, -0.7551278331018701 L 0.6495630720917529, -0.7603077109793931 L 0.6435076441130597, -0.7654396853887703 L 0.6374116716975737, -0.7705234329880594 L 0.6312755389242879, -0.7755586334738657 L 0.6250996324025151, -0.7805449696015218 L 0.6188843412475263, -0.7854821272050787 L 0.6126300570560355, -0.7903697952170988 L 0.6063371738815295, -0.7952076656882527 L 0.6000060882094364, -0.799995433806725 L 0.5936371989321464, -0.8047327979174176 L 0.5872309073238824, -0.809419459540954 L 0.5807876170154116, -0.8140551233924884 L 0.5743077339686213, -0.8186394974003071 L 0.5677916664509354, -0.8231722927242326 L 0.5612398250095938, -0.8276532237738221 L 0.5546526224457878, -0.8320820082263589 L 0.5480304737886464, -0.8364583670446436 L 0.5413737962690932, -0.8407820244945715 L 0.5346830092935532, -0.8450527081625088 L 0.5279585344175299, -0.8492701489724538 L 0.5212007953190484, -0.8534340812029898 L 0.5144102177719556, -0.8575442425040292 L 0.5075872296190971, -0.8616003739133415 L 0.5007322607453631, -0.8656022198728685 L 0.4938457430505987, -0.8695495282448275 L 0.4869281104223937, -0.8734420503275974 L 0.4799797987087486, -0.8772795408713856 L 0.47300124569060753, -0.8810617580936841 L 0.4659928910542825, -0.8847884636944989 L 0.45895517636374505, -0.8884594228713676 L 0.4518885450328079, -0.892074404334152 L 0.44479344229718953, -0.8956331803196087 L 0.4376703151864568, -0.8991355266057435 L 0.43051961249586584, -0.902581222525934 L 0.4233417847580799, -0.9059700509828367 L 0.4161372842147858, -0.9093017984620632 L 0.4089065647882029, -0.9125762550456324 L 0.40165008205247854, -0.9157932144251983 L 0.39436829320498673, -0.9189524739150473 L 0.38706165703752493, -0.9220538344648675 L 0.3797306339074027, -0.9250971006722928 L 0.3723756857084392, -0.9280820807952116 L 0.3649972758418639, -0.9310085867638485 L 0.3575958691871139, -0.9338764341926145 L 0.3501719320725509, -0.9366854423917225 L 0.3427259322460738, -0.9394354343785738 L 0.3352583388456511, -0.9421262368889078 L 0.3277696223697647, -0.9447576803877181 L 0.3202602546477613, -0.9473295990799354 L 0.3127307088101269, -0.9498418309208726 L 0.3051814592586796, -0.9522942176264344 L 0.2976129816366741, -0.9546866046830911 L 0.2900257527988399, -0.9570188413576121 L 0.2824202507813315, -0.9592907807065644 L 0.2747969547716116, -0.9615022795855707 L 0.2671563450782627, -0.9636531986583265 L 0.2594989031007196, -0.9657434024053819 L 0.25182511129894153, -0.9677727591326777 L 0.2441354531630169, -0.9697411409798433 L 0.23643041318269503, -0.971648423928254 L 0.22871047681686738, -0.9734944878088428 L 0.2209761304629751, -0.9752792163096732 L 0.213227861426366, -0.9770024969832669 L 0.20546615788959424, -0.9786642212536883 L 0.19769150888165704, -0.9802642844233863 L 0.18990440424718577, -0.9818025856797901 L 0.1821053346155858, -0.9832790281016602 L 0.17429479137011805, -0.9846935186651972 L 0.16647326661694622, -0.9860459682499002 L 0.15864125315412536, -0.9873362916441838 L 0.15079924444055548, -0.988564407550746 L 0.1429477345648938, -0.9897302385916905 L 0.135087218214419, -0.9908337113134019 L 0.1272181906438661, -0.991874756191174 L 0.11934114764422535, -0.9928533076335896 L 0.1114565855114985, -0.9937693039866536 L 0.10356500101543659, -0.9946226875376776 L 0.09566689136823463, -0.9954134045189157 L 0.08776275419320717, -0.9961414051109525 L 0.07985308749343803, -0.9968066434458417 L 0.07193838962039814, -0.9974090776099964 L 0.06401915924254935, -0.9979486696468296 L 0.0560958953139283, -0.9984253855591457 L 0.048169097042703446, -0.9988391953112826 L 0.04023926385972935, -0.999190072831004 L 0.03230689538707365, -0.9994779960111422 L 0.024372491406540863, -0.9997029467109908 L 0.016436551828186065, -0.999864910757448 L 0.018080207011004674 ,-1.0998514018331929\",\"type\":\"path\"},{\"fillcolor\":\"rgba(102,194,165,0.75)\",\"layer\":\"below\",\"line\":{\"color\":\"rgb(150,150,150)\",\"width\":0.45},\"path\":\"M 0.7908229252281799, -0.7645908062052176 L 0.7949769208737334, -0.7602708039101055 L 0.799107318122373, -0.7559282334476393 L 0.8032139943658179, -0.7515632237243305 L 0.80729682769993, -0.747175904312786 L 0.811355696928334, -0.7427664054478618 L 0.8153904815660138, -0.7383348580227973 L 0.8194010618428894, -0.7338813935853296 L 0.8233873187073724, -0.7294061443337889 L 0.827349133829899, -0.7249092431131748 L 0.8312863896064454, -0.72039082341121 L 0.835198969162015, -0.715851019354382 L 0.8390867563541097, -0.7112899657039589 L 0.8429496357761778, -0.7067077978519901 L 0.8467874927610389, -0.7021046518172869 L 0.8506002133842886, -0.6974806642413844 L 0.8543876844676794, -0.6928359723844867 L 0.8581497935824809, -0.6881707141213913 L 0.861886429052817, -0.6834850279373965 L 0.8655974799589807, -0.6787790529241912 L 0.8692828361407277, -0.6740529287757252 L 0.8729423882005447, -0.6693067957840632 L 0.8765760275068981, -0.66454079483522 L 0.8801836461974588, -0.6597550674049778 L 0.8837651371823028, -0.6549497555546882 L 0.8873203941470906, -0.650125001927054 L 0.8908493115562252, -0.6452809497418934 L 0.8943517846559809, -0.6404177427918922 L 0.8978277094776159, -0.6355355254383329 L 0.9012769828404572, -0.6306344426068103 L 0.9046995023549641, -0.6257146397829288 L 0.9080951664257673, -0.6207762630079845 L 0.9114638742546842, -0.6158194588746293 L 0.9148055258437123, -0.6108443745225204 L 0.9181200219979962, -0.6058511576339516 L 0.9214072643287731, -0.6008399564294694 L 0.9246671552562926, -0.5958109196634747 L 0.9278995980127145, -0.5907641966198046 L 0.9311044966449795, -0.5856999371073035 L 0.9342817560176597, -0.5806182914553746 L 0.9374312818157807, -0.5755194105095175 L 0.9405529805476222, -0.5704034456268514 L 0.9436467595474927, -0.5652705486716222 L 0.9467125269784821, -0.5601208720106912 L 0.9497501918351848, -0.5549545685090175 L 0.9527596639464034, -0.5497717915251169 L 0.9557408539778245, -0.5445726949065101 L 0.9586936734346706, -0.5393574329851563 L 0.9616180346643274, -0.5341261605728712 L 0.964513850858945, -0.5288790329567328 L 0.9673810360580157, -0.5236162058944703 L 0.9702195051509247, -0.5183378356098414 L 0.9730291738794772, -0.5130440787879949 L 0.9758099588403993, -0.5077350925708191 L 0.978561777487814, -0.5024110345522778 L 0.9812845481356912, -0.4970720627737316 L 0.9839781899602724, -0.49171833571924717 L 0.9866426230024707, -0.48635001231089187 L 0.9892777681702429, -0.4809672519040181 L 0.99188354724094, -0.4755702142825288 L 0.9944598828636252, -0.47015905965413984 L 0.9970066985613737, -0.4647339486456208 L 0.9995239187335405, -0.45929504229802764 L 1.002011468658006, -0.4538425020619225 L 1.0044692744933932, -0.44837648979258127 L 1.0068972632812598, -0.4428971677451883 L 1.0092953629482648, -0.4374046985700209 L 1.011663502308306, -0.43189924530762047 L 1.0140016110646357, -0.42638097138395303 L 1.016309619811945, -0.4208500406055581 L 1.0185874600384257, -0.4153066171546859 L 1.020835064127803, -0.409750865584424 L 1.0230523653613433, -0.40418295081381256 L 1.0252392979198346, -0.39860303812294867 L 1.02739579688554, -0.3930112931480804 L 1.0295217982441247, -0.38740788187669073 L 1.0316172388865574, -0.3817929706425665 L 1.0336820566109817, -0.3761667261208668 L 1.0357161901245642, -0.3705293153231713 L 1.0377195790453122, -0.3648809055925235 L 1.0396921639038688, -0.3592216645984637 L 1.041633886145275, -0.3535517603320514 L 1.0435446881307107, -0.34787136110087863 L 1.0454245131392037, -0.3421806355240741 L 1.0472733053693142, -0.33647975252729756 L 1.0490910099407915, -0.33076888133772553 L 1.0508775728962025, -0.32504819147902786 L 1.0526329412025337, -0.31931785276633556 L 1.0543570627527659, -0.3135780353011997 L 1.0560498863674193, -0.3078289094665424 L 1.0577113617960754, -0.3020706459215989 L 1.0593414397188656, -0.29630341559685264 L 1.0609400717479385, -0.2905273896889575 L 1.062507210428893, -0.2847427396556618 L 1.0640428092421896, -0.2789496372107144 L 1.0655468226045297, -0.2731482543187691 L 1.0670192058702093, -0.26733876319027944 L 1.0684599153324439, -0.261521336276387 L 1.0698689082246668, -0.25569614626380216 L 1.0712461427217979, -0.24986336606967813 L 0.9738601297470888, -0.22714851460879829 L 0.9726080983860607, -0.23245104205800193 L 0.9713271957567671, -0.23774666934216998 L 0.9700174598820083, -0.2430352392638904 L 0.9686789296404815, -0.24831659483524463 L 0.9673116447656269, -0.25359057928246764 L 0.9659156458444482, -0.2588570360506016 L 0.9644909743163076, -0.26411580880814317 L 0.9630376724716959, -0.2693667414516842 L 0.9615557834509775, -0.27460967811054443 L 0.9600453512431084, -0.27984446315140216 L 0.9585064206843324, -0.2850709411829088 L 0.9569390374568488, -0.29028895706030505 L 0.9553432480874567, -0.2954983558900253 L 0.953719099946174, -0.30069898303429593 L 0.952066641244831, -0.305890684115725 L 0.9503859210356396, -0.3110733050218855 L 0.948676989209737, -0.31624669190988963 L 0.9469398964957045, -0.3214106912109558 L 0.9451746944580623, -0.32656514963496697 L 0.9433814354957384, -0.3317099141750213 L 0.9415601728405127, -0.33684483211197386 L 0.9397109605554379, -0.3419697510189698 L 0.937833853533234, -0.3470845187659695 L 0.9359289074946587, -0.35218898352426425 L 0.9339961789868545, -0.35728299377098216 L 0.9320357253816677, -0.3623663982935897 L 0.9300476048739483, -0.367439046194375 L 0.9280318764798208, -0.3725007868949309 L 0.9259886000349323, -0.3775514701406235 L 0.9239178361926772, -0.3825909460050528 L 0.921819646422396, -0.3876190648945027 L 0.9196940930075509, -0.3926356775523822 L 0.917541239043877, -0.3976406350636553 L 0.9153611484375089, -0.40263378885926204 L 0.9131538859030846, -0.40761499072052837 L 0.9109195169618235, -0.4125840927835659 L 0.9086581079395822, -0.41754094754366144 L 0.9063697259648851, -0.4224854078596552 L 0.9040544389669319, -0.4274173269583089 L 0.9017123156735817, -0.43233655843866253 L 0.8993434256093117, -0.4372429562763801 L 0.8969478390931551, -0.4421363748280835 L 0.8945256272366112, -0.4470166688356792 L 0.8920768619415373, -0.4518836934306651 L 0.8896016158980127, -0.45673730413843433 L 0.8870999625821812, -0.46157735688256274 L 0.8845719762540701, -0.46640370798908615 L 0.882017731955386, -0.47121621419076487 L 0.8794373055072869, -0.4760147326313366 L 0.8768307735081318, -0.48079912086975707 L 0.8741982133312066, -0.4855692368844284 L 0.8715397031224278, -0.4903249390774147 L 0.8688553217980222, -0.4950660862786455 L 0.8661451490421849, -0.49979253775010624 L 0.8634092653047134, -0.5045041531900158 L 0.86064775179862, -0.5092007927369919 L 0.8578606904977205, -0.513882316974202 L 0.8550481641342019, -0.5185485869335013 L 0.8522102561961642, -0.5231994640995613 L 0.8493470509251452, -0.5278348104139768 L 0.8464586333136177, -0.5324544882793668 L 0.8435450891024676, -0.5370583605634587 L 0.8406065047784478, -0.5416462906031587 L 0.8376429675716118, -0.5462181422086085 L 0.8346545654527238, -0.5507737796672286 L 0.8316413871306475, -0.5553130677477458 L 0.8286035220497129, -0.5598358717042085 L 0.8255410603870611, -0.5643420572799859 L 0.8224540930499673, -0.5688314907117534 L 0.8193427116731429, -0.5733040387334639 L 0.8162070086160144, -0.5777595685803026 L 0.8130470769599826, -0.5821979479926293 L 0.8098630105056591, -0.586619045219903 L 0.8066549037700823, -0.5910227290245945 L 0.8034228519839115, -0.5954088686860801 L 0.8001669510885988, -0.5997773340045253 L 0.7968872977335437, -0.6041279953047454 L 0.7935839892732224, -0.6084607234400574 L 0.7902571237642978, -0.6127753897961138 L 0.7869067999627097, -0.6170718662947192 L 0.7835331173207426, -0.6213500253976332 L 0.7801361759840735, -0.6256097401103556 L 0.7767160767887994, -0.629850883985897 L 0.7732729212584442, -0.6340733311285313 L 0.7698068116009444, -0.6382769561975334 L 0.7663178507056161, -0.6424616344109001 L 0.7628061421400997, -0.6466272415490535 L 0.7592717901472863, -0.650773653958529 L 0.755714899642223, -0.6549007485556454 L 0.7521355762089991, -0.6590084028301589 L 0.7485339260976112, -0.663096494848899 L 0.7449100562208085, -0.6671649032593905 L 0.7412640741509215, -0.6712135072934521 L 0.7375960881166672, -0.6752421867707834 L 0.7339062069999364, -0.6792508221025327 L 0.7301945403325616, -0.6832392942948459 L 0.7264611982930663, -0.6872074849523993 L 0.722706291703394, -0.691155276281914 L 0.7189299320256181, -0.6950825510956523 L 0.7908229252281799 ,-0.7645908062052176\",\"type\":\"path\"},{\"fillcolor\":\"rgba(50,136,189,0.75)\",\"layer\":\"below\",\"line\":{\"color\":\"rgb(150,150,150)\",\"width\":0.45},\"path\":\"M 1.0712462997153693, -0.24986269298582658 L 1.071821766848889, -0.24738249758001518 L 1.072391491735672, -0.2449009768313312 L 1.072955471323438, -0.24241814403443313 L 1.0735137025906865, -0.23993401249100882 L 1.0740661825467128, -0.23744859550970504 L 1.0746129082316263, -0.23496190640605233 L 1.0751538767163633, -0.23247395850239946 L 1.0756890851027043, -0.22998476512783828 L 1.07621853052329, -0.22749433961813312 L 1.0767422101416353, -0.22500269531564945 L 1.077260121152145, -0.2225098455692825 L 1.0777722607801299, -0.22001580373438545 L 1.07827862628182, -0.21752058317269907 L 1.0787792149443807, -0.2150241972522763 L 1.0792740240859258, -0.21252665934741627 L 1.079763051055533, -0.21002798283858884 L 1.080246293233258, -0.20752818111236399 L 1.080723748030148, -0.20502726756133988 L 1.0811954128882562, -0.20252525558407136 L 1.0816612852806549, -0.20002215858499803 L 1.082121362711449, -0.19751798997437334 L 1.0825756427157909, -0.19501276316818902 L 1.0830241228598916, -0.19250649158810898 L 1.0834668007410344, -0.18999918866139348 L 1.0839036739875887, -0.18749086782082816 L 1.0843347402590215, -0.1849815425046521 L 1.084759997245911, -0.18247122615648578 L 1.0851794426699577, -0.1799599322252592 L 1.085593074283998, -0.17744767416514065 L 1.0860008898720157, -0.17493446543546076 L 1.0864028872491527, -0.1724203195006463 L 1.086799064261723, -0.16990524983014402 L 1.087189418787222, -0.16738926989834974 L 1.0875739487343397, -0.16487239318453578 L 1.0879526520429703, -0.162354633172779 L 1.0883255266842247, -0.15983600335188858 L 1.0886925706604405, -0.15731651721533352 L 1.089053782005192, -0.15479618826117156 L 1.089409158783303, -0.15227502999197295 L 1.089758699090855, -0.14975305591475374 L 1.0901024010551983, -0.14723027954089976 L 1.090440262834962, -0.14470671438609514 L 1.0907722826200639, -0.14218237397024977 L 1.0910984586317192, -0.13965727181742707 L 1.091418789122452, -0.13713142145577142 L 1.0917332723761035, -0.13460483641743662 L 1.0920419067078404, -0.13207753023850966 L 1.0923446904641658, -0.1295495164589438 L 1.092641622022926, -0.12702080862248238 L 1.0929326997933215, -0.12449142027658708 L 1.0932179222159129, -0.12196136497236539 L 1.0934972877626317, -0.119430656264498 L 1.0937707949367867, -0.1168993077111662 L 1.0940384422730731, -0.11436733287398021 L 1.0943002283375802, -0.1118347453179026 L 1.0945561517277982, -0.10930155861118147 L 1.0948062110726267, -0.10676778632527394 L 1.095050405032382, -0.10423344203477425 L 1.0952887322988032, -0.10169853931734121 L 1.095521191595061, -0.09916309175362538 L 1.0957477816757628, -0.09662711292719625 L 1.0959685013269604, -0.09409061642446961 L 1.096183349366156, -0.09155361583463562 L 1.0963923246423093, -0.08901612474958213 L 1.0965954260358426, -0.08647815676382775 L 1.096792652458647, -0.08393972547444509 L 1.09698400285409, -0.08140084448098889 L 1.0971694761970179, -0.07886152738542314 L 1.097349071493764, -0.07632178779204829 L 1.097522787782153, -0.07378163930742822 L 1.097690624131506, -0.07124109554031849 L 1.0978525796426464, -0.06870017010158941 L 1.0980086534479023, -0.06615887660415899 L 1.0981588447111148, -0.06361722866291616 L 1.0983031526276392, -0.06107523989464875 L 1.098441576424351, -0.05853292391797056 L 1.0985741153596496, -0.05599029435324842 L 1.0987007687234627, -0.05344736482252915 L 1.0988215358372488, -0.05090414894946765 L 1.0989364160540034, -0.04836066035924992 L 1.0990454087582588, -0.045816912678526 L 1.0991485133660914, -0.04327291953533301 L 1.0992457293251214, -0.04072869455902311 L 1.099337056114518, -0.0381842513801905 L 1.099422493245001, -0.03563960363059841 L 1.099502040258844, -0.03309476494310604 L 1.099575696729877, -0.030549748951596505 L 1.099643462263488, -0.028004569290899905 L 1.0997053364966256, -0.025459239596726104 L 1.0997613190978008, -0.0229137735055878 L 1.0998114097670886, -0.020368184654728425 L 1.0998556082361304, -0.017822486682049103 L 1.099893914268134, -0.01527669322603556 L 1.099926327657877, -0.012730817925685077 L 1.099952848231705, -0.010184874420433422 L 1.0999734758475352, -0.007638876350082732 L 1.0999882103948564, -0.0050928373547245494 L 1.099997051794728, -0.0025467710746726016 L 1.099999999999783, -6.91150385814946e-07 L 0.9999999999998026, -6.283185325590418e-07 L 0.999997319813389, -0.0023152464315205467 L 0.999989282177142, -0.004629852140658681 L 0.9999758871341229, -0.006944433045529756 L 0.9999571347560954, -0.009258976745848566 L 0.9999330251435244, -0.011573470841531888 L 0.9999035584255764, -0.013887902932759598 L 0.9998687347601185, -0.016202260620044637 L 0.9998285543337169, -0.018516531504298567 L 0.999783017361637, -0.020830703186897996 L 0.9997321240878414, -0.023144763269751 L 0.9996758747849891, -0.02545869935536355 L 0.9996142697544337, -0.027772499046905912 L 0.9995473093262218, -0.030086149948278216 L 0.9994749938590917, -0.03239963966418037 L 0.9993973237404707, -0.03471295580017318 L 0.9993142993864739, -0.03702608596274828 L 0.9992259212419012, -0.03933901775939364 L 0.9991321897802353, -0.04165173879866 L 0.9990331055036393, -0.0439642366902272 L 0.9989286689429535, -0.04627649904497058 L 0.9988188806576932, -0.0485885134750265 L 0.998703741236045, -0.050900267593862195 L 0.9985832512948645, -0.05321174901633687 L 0.9984574114796719, -0.055522945358771586 L 0.9983262224646497, -0.057833844239014685 L 0.9981896849526385, -0.06014443327650817 L 0.9980477996751329, -0.062454700092354 L 0.9979005673922782, -0.06476463230938044 L 0.9977479888928662, -0.06707421755220747 L 0.9975900649943308, -0.06938344344731662 L 0.9974267965427434, -0.07169229762311194 L 0.997258184412809, -0.0740007677099899 L 0.997084229507861, -0.07630884134040462 L 0.9969049327598568, -0.07861650614893431 L 0.996720295129372, -0.08092374977234738 L 0.9965303176055963, -0.08323055984966873 L 0.9963350012063276, -0.0855369240222451 L 0.9961343469779661, -0.08784282993381477 L 0.9959283559955099, -0.09014826523056851 L 0.9957170293625482, -0.09245321756121928 L 0.9955003682112562, -0.09475767457706749 L 0.9952783737023878, -0.0970616239320672 L 0.9950510470252709, -0.09936505328289225 L 0.9948183893978001, -0.10166795028900236 L 0.9945804020664301, -0.10397030261270927 L 0.9943370863061697, -0.106272097919242 L 0.9940884434205741, -0.10857332387681635 L 0.9938344747417389, -0.1108739681566958 L 0.9935751816302921, -0.11317401843326097 L 0.9933105654753873, -0.11547346238407488 L 0.993040627694696, -0.11777228768994889 L 0.9927653697344003, -0.12007048203500877 L 0.9924847930691849, -0.12236803310676056 L 0.9921988992022291, -0.12466492859615583 L 0.9919076896651992, -0.12696115619766096 L 0.9916111660182397, -0.12925670360931796 L 0.9913093298499654, -0.13155155853281375 L 0.991002182777453, -0.13384570867354523 L 0.9906897264462318, -0.1361391417406852 L 0.9903719625302754, -0.13843184544724813 L 0.9900488927319926, -0.14072380751015595 L 0.9897205187822185, -0.1430150156503032 L 0.9893868424402043, -0.14530545759262598 L 0.9890478654936093, -0.14759512106616274 L 0.9887035897584905, -0.14988399380412343 L 0.9883540170792927, -0.1521720635439543 L 0.9879991493288389, -0.15445931802740365 L 0.9876389884083205, -0.15674574500058752 L 0.9872735362472869, -0.15903133221405522 L 0.9869027948036346, -0.16131606742285512 L 0.9865267660635979, -0.16359993838659925 L 0.9861454520417372, -0.1658829328695325 L 0.9857588547809286, -0.1681650386405928 L 0.9853669763523533, -0.17044624347348014 L 0.9849698188554857, -0.17272653514672134 L 0.9845673844180831, -0.17500590144373543 L 0.9841596751961735, -0.1772843301528991 L 0.9837466933740445, -0.1795618090676121 L 0.9833284411642316, -0.18183832598636182 L 0.9829049208075056, -0.18411386871279214 L 0.9824761345728618, -0.1863884250557635 L 0.9820420847575072, -0.1886619828294218 L 0.9816027736868481, -0.19093452985326256 L 0.9811582037144779, -0.1932060539521966 L 0.9807083772221642, -0.19547654295661482 L 0.9802532966198364, -0.1977459847024537 L 0.9797929643455726, -0.2000143670312595 L 0.9793273828655863, -0.2022816777902568 L 0.9788565546742137, -0.2045479048324086 L 0.9783804822939, -0.20681303601648462 L 0.9778991682751857, -0.2090770592071257 L 0.9774126151966938, -0.2113399622749086 L 0.9769208256651147, -0.2136017330964112 L 0.9764238023151934, -0.2158623595542773 L 0.9759215478097149, -0.21812182953728074 L 0.975414064839489, -0.22038013094039374 L 0.9749013561233382, -0.22263725166484652 L 0.9743834244080808, -0.2248931796181956 L 0.9738602724685175, -0.22714790271438778 L 1.0712462997153693 ,-0.24986269298582658\",\"type\":\"path\"}],\"showlegend\":false,\"template\":{\"data\":{\"barpolar\":[{\"marker\":{\"line\":{\"color\":\"#E5ECF6\",\"width\":0.5},\"pattern\":{\"fillmode\":\"overlay\",\"size\":10,\"solidity\":0.2}},\"type\":\"barpolar\"}],\"bar\":[{\"error_x\":{\"color\":\"#2a3f5f\"},\"error_y\":{\"color\":\"#2a3f5f\"},\"marker\":{\"line\":{\"color\":\"#E5ECF6\",\"width\":0.5},\"pattern\":{\"fillmode\":\"overlay\",\"size\":10,\"solidity\":0.2}},\"type\":\"bar\"}],\"carpet\":[{\"aaxis\":{\"endlinecolor\":\"#2a3f5f\",\"gridcolor\":\"white\",\"linecolor\":\"white\",\"minorgridcolor\":\"white\",\"startlinecolor\":\"#2a3f5f\"},\"baxis\":{\"endlinecolor\":\"#2a3f5f\",\"gridcolor\":\"white\",\"linecolor\":\"white\",\"minorgridcolor\":\"white\",\"startlinecolor\":\"#2a3f5f\"},\"type\":\"carpet\"}],\"choropleth\":[{\"colorbar\":{\"outlinewidth\":0,\"ticks\":\"\"},\"type\":\"choropleth\"}],\"contourcarpet\":[{\"colorbar\":{\"outlinewidth\":0,\"ticks\":\"\"},\"type\":\"contourcarpet\"}],\"contour\":[{\"colorbar\":{\"outlinewidth\":0,\"ticks\":\"\"},\"colorscale\":[[0.0,\"#0d0887\"],[0.1111111111111111,\"#46039f\"],[0.2222222222222222,\"#7201a8\"],[0.3333333333333333,\"#9c179e\"],[0.4444444444444444,\"#bd3786\"],[0.5555555555555556,\"#d8576b\"],[0.6666666666666666,\"#ed7953\"],[0.7777777777777778,\"#fb9f3a\"],[0.8888888888888888,\"#fdca26\"],[1.0,\"#f0f921\"]],\"type\":\"contour\"}],\"heatmapgl\":[{\"colorbar\":{\"outlinewidth\":0,\"ticks\":\"\"},\"colorscale\":[[0.0,\"#0d0887\"],[0.1111111111111111,\"#46039f\"],[0.2222222222222222,\"#7201a8\"],[0.3333333333333333,\"#9c179e\"],[0.4444444444444444,\"#bd3786\"],[0.5555555555555556,\"#d8576b\"],[0.6666666666666666,\"#ed7953\"],[0.7777777777777778,\"#fb9f3a\"],[0.8888888888888888,\"#fdca26\"],[1.0,\"#f0f921\"]],\"type\":\"heatmapgl\"}],\"heatmap\":[{\"colorbar\":{\"outlinewidth\":0,\"ticks\":\"\"},\"colorscale\":[[0.0,\"#0d0887\"],[0.1111111111111111,\"#46039f\"],[0.2222222222222222,\"#7201a8\"],[0.3333333333333333,\"#9c179e\"],[0.4444444444444444,\"#bd3786\"],[0.5555555555555556,\"#d8576b\"],[0.6666666666666666,\"#ed7953\"],[0.7777777777777778,\"#fb9f3a\"],[0.8888888888888888,\"#fdca26\"],[1.0,\"#f0f921\"]],\"type\":\"heatmap\"}],\"histogram2dcontour\":[{\"colorbar\":{\"outlinewidth\":0,\"ticks\":\"\"},\"colorscale\":[[0.0,\"#0d0887\"],[0.1111111111111111,\"#46039f\"],[0.2222222222222222,\"#7201a8\"],[0.3333333333333333,\"#9c179e\"],[0.4444444444444444,\"#bd3786\"],[0.5555555555555556,\"#d8576b\"],[0.6666666666666666,\"#ed7953\"],[0.7777777777777778,\"#fb9f3a\"],[0.8888888888888888,\"#fdca26\"],[1.0,\"#f0f921\"]],\"type\":\"histogram2dcontour\"}],\"histogram2d\":[{\"colorbar\":{\"outlinewidth\":0,\"ticks\":\"\"},\"colorscale\":[[0.0,\"#0d0887\"],[0.1111111111111111,\"#46039f\"],[0.2222222222222222,\"#7201a8\"],[0.3333333333333333,\"#9c179e\"],[0.4444444444444444,\"#bd3786\"],[0.5555555555555556,\"#d8576b\"],[0.6666666666666666,\"#ed7953\"],[0.7777777777777778,\"#fb9f3a\"],[0.8888888888888888,\"#fdca26\"],[1.0,\"#f0f921\"]],\"type\":\"histogram2d\"}],\"histogram\":[{\"marker\":{\"pattern\":{\"fillmode\":\"overlay\",\"size\":10,\"solidity\":0.2}},\"type\":\"histogram\"}],\"mesh3d\":[{\"colorbar\":{\"outlinewidth\":0,\"ticks\":\"\"},\"type\":\"mesh3d\"}],\"parcoords\":[{\"line\":{\"colorbar\":{\"outlinewidth\":0,\"ticks\":\"\"}},\"type\":\"parcoords\"}],\"pie\":[{\"automargin\":true,\"type\":\"pie\"}],\"scatter3d\":[{\"line\":{\"colorbar\":{\"outlinewidth\":0,\"ticks\":\"\"}},\"marker\":{\"colorbar\":{\"outlinewidth\":0,\"ticks\":\"\"}},\"type\":\"scatter3d\"}],\"scattercarpet\":[{\"marker\":{\"colorbar\":{\"outlinewidth\":0,\"ticks\":\"\"}},\"type\":\"scattercarpet\"}],\"scattergeo\":[{\"marker\":{\"colorbar\":{\"outlinewidth\":0,\"ticks\":\"\"}},\"type\":\"scattergeo\"}],\"scattergl\":[{\"marker\":{\"colorbar\":{\"outlinewidth\":0,\"ticks\":\"\"}},\"type\":\"scattergl\"}],\"scattermapbox\":[{\"marker\":{\"colorbar\":{\"outlinewidth\":0,\"ticks\":\"\"}},\"type\":\"scattermapbox\"}],\"scatterpolargl\":[{\"marker\":{\"colorbar\":{\"outlinewidth\":0,\"ticks\":\"\"}},\"type\":\"scatterpolargl\"}],\"scatterpolar\":[{\"marker\":{\"colorbar\":{\"outlinewidth\":0,\"ticks\":\"\"}},\"type\":\"scatterpolar\"}],\"scatter\":[{\"marker\":{\"colorbar\":{\"outlinewidth\":0,\"ticks\":\"\"}},\"type\":\"scatter\"}],\"scatterternary\":[{\"marker\":{\"colorbar\":{\"outlinewidth\":0,\"ticks\":\"\"}},\"type\":\"scatterternary\"}],\"surface\":[{\"colorbar\":{\"outlinewidth\":0,\"ticks\":\"\"},\"colorscale\":[[0.0,\"#0d0887\"],[0.1111111111111111,\"#46039f\"],[0.2222222222222222,\"#7201a8\"],[0.3333333333333333,\"#9c179e\"],[0.4444444444444444,\"#bd3786\"],[0.5555555555555556,\"#d8576b\"],[0.6666666666666666,\"#ed7953\"],[0.7777777777777778,\"#fb9f3a\"],[0.8888888888888888,\"#fdca26\"],[1.0,\"#f0f921\"]],\"type\":\"surface\"}],\"table\":[{\"cells\":{\"fill\":{\"color\":\"#EBF0F8\"},\"line\":{\"color\":\"white\"}},\"header\":{\"fill\":{\"color\":\"#C8D4E3\"},\"line\":{\"color\":\"white\"}},\"type\":\"table\"}]},\"layout\":{\"annotationdefaults\":{\"arrowcolor\":\"#2a3f5f\",\"arrowhead\":0,\"arrowwidth\":1},\"autotypenumbers\":\"strict\",\"coloraxis\":{\"colorbar\":{\"outlinewidth\":0,\"ticks\":\"\"}},\"colorscale\":{\"diverging\":[[0,\"#8e0152\"],[0.1,\"#c51b7d\"],[0.2,\"#de77ae\"],[0.3,\"#f1b6da\"],[0.4,\"#fde0ef\"],[0.5,\"#f7f7f7\"],[0.6,\"#e6f5d0\"],[0.7,\"#b8e186\"],[0.8,\"#7fbc41\"],[0.9,\"#4d9221\"],[1,\"#276419\"]],\"sequential\":[[0.0,\"#0d0887\"],[0.1111111111111111,\"#46039f\"],[0.2222222222222222,\"#7201a8\"],[0.3333333333333333,\"#9c179e\"],[0.4444444444444444,\"#bd3786\"],[0.5555555555555556,\"#d8576b\"],[0.6666666666666666,\"#ed7953\"],[0.7777777777777778,\"#fb9f3a\"],[0.8888888888888888,\"#fdca26\"],[1.0,\"#f0f921\"]],\"sequentialminus\":[[0.0,\"#0d0887\"],[0.1111111111111111,\"#46039f\"],[0.2222222222222222,\"#7201a8\"],[0.3333333333333333,\"#9c179e\"],[0.4444444444444444,\"#bd3786\"],[0.5555555555555556,\"#d8576b\"],[0.6666666666666666,\"#ed7953\"],[0.7777777777777778,\"#fb9f3a\"],[0.8888888888888888,\"#fdca26\"],[1.0,\"#f0f921\"]]},\"colorway\":[\"#636efa\",\"#EF553B\",\"#00cc96\",\"#ab63fa\",\"#FFA15A\",\"#19d3f3\",\"#FF6692\",\"#B6E880\",\"#FF97FF\",\"#FECB52\"],\"font\":{\"color\":\"#2a3f5f\"},\"geo\":{\"bgcolor\":\"white\",\"lakecolor\":\"white\",\"landcolor\":\"#E5ECF6\",\"showlakes\":true,\"showland\":true,\"subunitcolor\":\"white\"},\"hoverlabel\":{\"align\":\"left\"},\"hovermode\":\"closest\",\"mapbox\":{\"style\":\"light\"},\"paper_bgcolor\":\"white\",\"plot_bgcolor\":\"#E5ECF6\",\"polar\":{\"angularaxis\":{\"gridcolor\":\"white\",\"linecolor\":\"white\",\"ticks\":\"\"},\"bgcolor\":\"#E5ECF6\",\"radialaxis\":{\"gridcolor\":\"white\",\"linecolor\":\"white\",\"ticks\":\"\"}},\"scene\":{\"xaxis\":{\"backgroundcolor\":\"#E5ECF6\",\"gridcolor\":\"white\",\"gridwidth\":2,\"linecolor\":\"white\",\"showbackground\":true,\"ticks\":\"\",\"zerolinecolor\":\"white\"},\"yaxis\":{\"backgroundcolor\":\"#E5ECF6\",\"gridcolor\":\"white\",\"gridwidth\":2,\"linecolor\":\"white\",\"showbackground\":true,\"ticks\":\"\",\"zerolinecolor\":\"white\"},\"zaxis\":{\"backgroundcolor\":\"#E5ECF6\",\"gridcolor\":\"white\",\"gridwidth\":2,\"linecolor\":\"white\",\"showbackground\":true,\"ticks\":\"\",\"zerolinecolor\":\"white\"}},\"shapedefaults\":{\"line\":{\"color\":\"#2a3f5f\"}},\"ternary\":{\"aaxis\":{\"gridcolor\":\"white\",\"linecolor\":\"white\",\"ticks\":\"\"},\"baxis\":{\"gridcolor\":\"white\",\"linecolor\":\"white\",\"ticks\":\"\"},\"bgcolor\":\"#E5ECF6\",\"caxis\":{\"gridcolor\":\"white\",\"linecolor\":\"white\",\"ticks\":\"\"}},\"title\":{\"x\":0.05},\"xaxis\":{\"automargin\":true,\"gridcolor\":\"white\",\"linecolor\":\"white\",\"ticks\":\"\",\"title\":{\"standoff\":15},\"zerolinecolor\":\"white\",\"zerolinewidth\":2},\"yaxis\":{\"automargin\":true,\"gridcolor\":\"white\",\"linecolor\":\"white\",\"ticks\":\"\",\"title\":{\"standoff\":15},\"zerolinecolor\":\"white\",\"zerolinewidth\":2}}},\"title\":{\"text\":\" \"},\"width\":625,\"xaxis\":{\"showgrid\":false,\"showline\":false,\"showticklabels\":false,\"title\":{\"text\":\"\"},\"zeroline\":false},\"yaxis\":{\"scaleanchor\":\"x\",\"showgrid\":false,\"showline\":false,\"showticklabels\":false,\"title\":{\"text\":\"\"},\"zeroline\":false}},                        {\"responsive\": true}                    ).then(function(){\n",
       "                            \n",
       "var gd = document.getElementById('eefea69f-dde8-464f-8a9f-d365eb554bc6');\n",
       "var x = new MutationObserver(function (mutations, observer) {{\n",
       "        var display = window.getComputedStyle(gd).display;\n",
       "        if (!display || display === 'none') {{\n",
       "            console.log([gd, 'removed!']);\n",
       "            Plotly.purge(gd);\n",
       "            observer.disconnect();\n",
       "        }}\n",
       "}});\n",
       "\n",
       "// Listen for the removal of the full notebook cells\n",
       "var notebookContainer = gd.closest('#notebook-container');\n",
       "if (notebookContainer) {{\n",
       "    x.observe(notebookContainer, {childList: true});\n",
       "}}\n",
       "\n",
       "// Listen for the clearing of the current output cell\n",
       "var outputEl = gd.closest('.output');\n",
       "if (outputEl) {{\n",
       "    x.observe(outputEl, {childList: true});\n",
       "}}\n",
       "\n",
       "                        })                };                });            </script>        </div>"
      ]
     },
     "metadata": {},
     "output_type": "display_data"
    }
   ],
   "source": [
    "from plotly.offline import download_plotlyjs, init_notebook_mode,  iplot, plot\n",
    "init_notebook_mode(connected=True)\n",
    "iplot(fig)"
   ]
  },
  {
   "cell_type": "markdown",
   "id": "6805ccf8",
   "metadata": {},
   "source": [
    "## MNE :)"
   ]
  },
  {
   "cell_type": "code",
   "execution_count": 28,
   "id": "84936b7e",
   "metadata": {},
   "outputs": [],
   "source": [
    "# !pip install mne"
   ]
  },
  {
   "cell_type": "code",
   "execution_count": 29,
   "id": "063ffa8a",
   "metadata": {},
   "outputs": [],
   "source": [
    "from mne.viz import plot_connectivity_circle"
   ]
  },
  {
   "cell_type": "code",
   "execution_count": 30,
   "id": "ca01ae9e",
   "metadata": {},
   "outputs": [
    {
     "data": {
      "image/png": "[encoded data removed]",
      "text/plain": [
       "<Figure size 576x576 with 2 Axes>"
      ]
     },
     "metadata": {},
     "output_type": "display_data"
    }
   ],
   "source": [
    "fig, axes = plot_connectivity_circle(matrix_data.to_numpy(), list(union_stations)) "
   ]
  }
 ],
 "metadata": {
  "kernelspec": {
   "display_name": "Python 3 (ipykernel)",
   "language": "python",
   "name": "python3"
  },
  "language_info": {
   "codemirror_mode": {
    "name": "ipython",
    "version": 3
   },
   "file_extension": ".py",
   "mimetype": "text/x-python",
   "name": "python",
   "nbconvert_exporter": "python",
   "pygments_lexer": "ipython3",
   "version": "3.7.11"
  }
 },
 "nbformat": 4,
 "nbformat_minor": 5
}
