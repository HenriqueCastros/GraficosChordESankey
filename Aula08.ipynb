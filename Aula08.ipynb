{
 "cells": [
  {
   "cell_type": "markdown",
   "id": "f7dc0009",
   "metadata": {},
   "source": [
    "# Exercício Gráfico Fluxo.\n",
    "Vocês vão utilizar um dos tipos de gráfico do tipo Fluxo (Flow).  \n",
    "  \n",
    "Referência: https://www.python-graph-gallery.com/  \n",
    "  \n",
    "Em grupo vocês devem decidir qual base aberta vão utilizar para fazer uma demonstracão de um fluxo de dados.  \n",
    "  \n",
    "No final da aula de hoje vocês devem ter decidido qual base utilizar e se possível uma tentatativa de como utilizar um dos gráficos de Fluxo.  \n",
    "  "
   ]
  },
  {
   "cell_type": "markdown",
   "id": "c60e95c6",
   "metadata": {},
   "source": [
    "# Processamento dos dados e exploração"
   ]
  },
  {
   "cell_type": "code",
   "execution_count": 1,
   "id": "1c216d60",
   "metadata": {},
   "outputs": [],
   "source": [
    "import numpy as np \n",
    "import pandas as pd"
   ]
  },
  {
   "cell_type": "code",
   "execution_count": 2,
   "id": "8e101173",
   "metadata": {
    "scrolled": true
   },
   "outputs": [],
   "source": [
    "df = pd.read_csv('./trip.csv', sep=',')\n",
    "df = df.drop_duplicates(subset=['trip_id'])"
   ]
  },
  {
   "cell_type": "code",
   "execution_count": 3,
   "id": "f114cbec",
   "metadata": {},
   "outputs": [
    {
     "name": "stdout",
     "output_type": "stream",
     "text": [
      "<class 'pandas.core.frame.DataFrame'>\n",
      "Int64Index: 236065 entries, 0 to 286857\n",
      "Data columns (total 12 columns):\n",
      " #   Column             Non-Null Count   Dtype  \n",
      "---  ------             --------------   -----  \n",
      " 0   trip_id            236065 non-null  int64  \n",
      " 1   starttime          236065 non-null  object \n",
      " 2   stoptime           236065 non-null  object \n",
      " 3   bikeid             236065 non-null  object \n",
      " 4   tripduration       236065 non-null  float64\n",
      " 5   from_station_name  236065 non-null  object \n",
      " 6   to_station_name    236065 non-null  object \n",
      " 7   from_station_id    236065 non-null  object \n",
      " 8   to_station_id      236065 non-null  object \n",
      " 9   usertype           236064 non-null  object \n",
      " 10  gender             146171 non-null  object \n",
      " 11  birthyear          146167 non-null  float64\n",
      "dtypes: float64(2), int64(1), object(9)\n",
      "memory usage: 23.4+ MB\n"
     ]
    }
   ],
   "source": [
    "df.info()"
   ]
  },
  {
   "cell_type": "code",
   "execution_count": 4,
   "id": "fa739c7c",
   "metadata": {},
   "outputs": [
    {
     "data": {
      "text/plain": [
       "array(['CBD-06', 'PS-04', 'CBD-07', 'PS-05', 'CBD-05', 'CH-02', 'DPD-01',\n",
       "       'UD-01', 'WF-04', 'BT-04', 'UW-02', 'BT-03', 'ID-04', 'UD-02',\n",
       "       'UD-04', 'CBD-13', 'FH-01', 'CH-09', 'SLU-15', 'SLU-18', 'UW-10',\n",
       "       'CH-15', 'BT-05', 'SLU-01', 'UD-07', 'CBD-03', 'CH-08', 'UW-07',\n",
       "       'SLU-19', 'DPD-03', 'WF-01', 'CH-05', 'SLU-02', 'CH-07', 'UW-06',\n",
       "       'UW-04', 'SLU-17', 'EL-01', 'EL-05', 'CH-06', 'SLU-04', 'BT-01',\n",
       "       'CH-01', 'CH-03', 'CH-12', 'EL-03', 'FH-04', 'SLU-07', 'SLU-16',\n",
       "       'UW-01', 'CD-01', 'Pronto shop', 'SLU-20', 'CBD-04', 'SLU-21',\n",
       "       'UW-11', 'CH-16', 'Pronto shop 2', 'SLU-22', 'WF-03', '8D OPS 02'],\n",
       "      dtype=object)"
      ]
     },
     "execution_count": 4,
     "metadata": {},
     "output_type": "execute_result"
    }
   ],
   "source": [
    "df['from_station_id'].unique()"
   ]
  },
  {
   "cell_type": "code",
   "execution_count": 5,
   "id": "474f0f8c",
   "metadata": {},
   "outputs": [],
   "source": [
    "# bad_stations = ['Pronto shop', 'Pronto shop 2','8D OPS 02']\n",
    "# mascara_from = df['from_station_id'].isin(bad_stations)\n",
    "# mascara_to = df['to_station_id'].isin(bad_stations)\n",
    "\n",
    "# df = df[~mascara_from & ~mascara_to]"
   ]
  },
  {
   "cell_type": "code",
   "execution_count": 6,
   "id": "4abd41fd",
   "metadata": {},
   "outputs": [
    {
     "data": {
      "text/html": [
       "<div>\n",
       "<style scoped>\n",
       "    .dataframe tbody tr th:only-of-type {\n",
       "        vertical-align: middle;\n",
       "    }\n",
       "\n",
       "    .dataframe tbody tr th {\n",
       "        vertical-align: top;\n",
       "    }\n",
       "\n",
       "    .dataframe thead th {\n",
       "        text-align: right;\n",
       "    }\n",
       "</style>\n",
       "<table border=\"1\" class=\"dataframe\">\n",
       "  <thead>\n",
       "    <tr style=\"text-align: right;\">\n",
       "      <th></th>\n",
       "      <th>from_station_id</th>\n",
       "      <th>to_station_id</th>\n",
       "    </tr>\n",
       "  </thead>\n",
       "  <tbody>\n",
       "    <tr>\n",
       "      <th>0</th>\n",
       "      <td>CBD-06</td>\n",
       "      <td>PS-04</td>\n",
       "    </tr>\n",
       "    <tr>\n",
       "      <th>1</th>\n",
       "      <td>CBD-06</td>\n",
       "      <td>PS-04</td>\n",
       "    </tr>\n",
       "    <tr>\n",
       "      <th>2</th>\n",
       "      <td>CBD-06</td>\n",
       "      <td>PS-04</td>\n",
       "    </tr>\n",
       "    <tr>\n",
       "      <th>3</th>\n",
       "      <td>CBD-06</td>\n",
       "      <td>PS-04</td>\n",
       "    </tr>\n",
       "    <tr>\n",
       "      <th>4</th>\n",
       "      <td>CBD-06</td>\n",
       "      <td>PS-04</td>\n",
       "    </tr>\n",
       "  </tbody>\n",
       "</table>\n",
       "</div>"
      ],
      "text/plain": [
       "  from_station_id to_station_id\n",
       "0          CBD-06         PS-04\n",
       "1          CBD-06         PS-04\n",
       "2          CBD-06         PS-04\n",
       "3          CBD-06         PS-04\n",
       "4          CBD-06         PS-04"
      ]
     },
     "execution_count": 6,
     "metadata": {},
     "output_type": "execute_result"
    }
   ],
   "source": [
    "df[['from_station_id','to_station_id']].head()"
   ]
  },
  {
   "cell_type": "code",
   "execution_count": 7,
   "id": "a8ddd32e",
   "metadata": {},
   "outputs": [],
   "source": [
    "crosstab_df = pd.crosstab(df['from_station_id'], df['to_station_id'])"
   ]
  },
  {
   "cell_type": "code",
   "execution_count": 8,
   "id": "09cf0b47",
   "metadata": {},
   "outputs": [
    {
     "data": {
      "text/html": [
       "<div>\n",
       "<style scoped>\n",
       "    .dataframe tbody tr th:only-of-type {\n",
       "        vertical-align: middle;\n",
       "    }\n",
       "\n",
       "    .dataframe tbody tr th {\n",
       "        vertical-align: top;\n",
       "    }\n",
       "\n",
       "    .dataframe thead th {\n",
       "        text-align: right;\n",
       "    }\n",
       "</style>\n",
       "<table border=\"1\" class=\"dataframe\">\n",
       "  <thead>\n",
       "    <tr style=\"text-align: right;\">\n",
       "      <th>to_station_id</th>\n",
       "      <th>8D OPS 02</th>\n",
       "      <th>BT-01</th>\n",
       "      <th>BT-03</th>\n",
       "      <th>BT-04</th>\n",
       "      <th>BT-05</th>\n",
       "      <th>CBD-03</th>\n",
       "      <th>CBD-04</th>\n",
       "      <th>CBD-05</th>\n",
       "      <th>CBD-06</th>\n",
       "      <th>CBD-07</th>\n",
       "      <th>...</th>\n",
       "      <th>UW-01</th>\n",
       "      <th>UW-02</th>\n",
       "      <th>UW-04</th>\n",
       "      <th>UW-06</th>\n",
       "      <th>UW-07</th>\n",
       "      <th>UW-10</th>\n",
       "      <th>UW-11</th>\n",
       "      <th>WF-01</th>\n",
       "      <th>WF-03</th>\n",
       "      <th>WF-04</th>\n",
       "    </tr>\n",
       "    <tr>\n",
       "      <th>from_station_id</th>\n",
       "      <th></th>\n",
       "      <th></th>\n",
       "      <th></th>\n",
       "      <th></th>\n",
       "      <th></th>\n",
       "      <th></th>\n",
       "      <th></th>\n",
       "      <th></th>\n",
       "      <th></th>\n",
       "      <th></th>\n",
       "      <th></th>\n",
       "      <th></th>\n",
       "      <th></th>\n",
       "      <th></th>\n",
       "      <th></th>\n",
       "      <th></th>\n",
       "      <th></th>\n",
       "      <th></th>\n",
       "      <th></th>\n",
       "      <th></th>\n",
       "      <th></th>\n",
       "    </tr>\n",
       "  </thead>\n",
       "  <tbody>\n",
       "    <tr>\n",
       "      <th>8D OPS 02</th>\n",
       "      <td>2</td>\n",
       "      <td>0</td>\n",
       "      <td>0</td>\n",
       "      <td>0</td>\n",
       "      <td>0</td>\n",
       "      <td>0</td>\n",
       "      <td>0</td>\n",
       "      <td>0</td>\n",
       "      <td>0</td>\n",
       "      <td>0</td>\n",
       "      <td>...</td>\n",
       "      <td>0</td>\n",
       "      <td>0</td>\n",
       "      <td>0</td>\n",
       "      <td>0</td>\n",
       "      <td>0</td>\n",
       "      <td>0</td>\n",
       "      <td>0</td>\n",
       "      <td>0</td>\n",
       "      <td>0</td>\n",
       "      <td>0</td>\n",
       "    </tr>\n",
       "    <tr>\n",
       "      <th>BT-01</th>\n",
       "      <td>0</td>\n",
       "      <td>627</td>\n",
       "      <td>182</td>\n",
       "      <td>114</td>\n",
       "      <td>403</td>\n",
       "      <td>179</td>\n",
       "      <td>135</td>\n",
       "      <td>236</td>\n",
       "      <td>743</td>\n",
       "      <td>104</td>\n",
       "      <td>...</td>\n",
       "      <td>3</td>\n",
       "      <td>1</td>\n",
       "      <td>21</td>\n",
       "      <td>4</td>\n",
       "      <td>2</td>\n",
       "      <td>4</td>\n",
       "      <td>3</td>\n",
       "      <td>777</td>\n",
       "      <td>13</td>\n",
       "      <td>792</td>\n",
       "    </tr>\n",
       "    <tr>\n",
       "      <th>BT-03</th>\n",
       "      <td>0</td>\n",
       "      <td>301</td>\n",
       "      <td>284</td>\n",
       "      <td>79</td>\n",
       "      <td>204</td>\n",
       "      <td>187</td>\n",
       "      <td>91</td>\n",
       "      <td>365</td>\n",
       "      <td>363</td>\n",
       "      <td>54</td>\n",
       "      <td>...</td>\n",
       "      <td>0</td>\n",
       "      <td>0</td>\n",
       "      <td>17</td>\n",
       "      <td>0</td>\n",
       "      <td>1</td>\n",
       "      <td>6</td>\n",
       "      <td>0</td>\n",
       "      <td>237</td>\n",
       "      <td>6</td>\n",
       "      <td>172</td>\n",
       "    </tr>\n",
       "    <tr>\n",
       "      <th>BT-04</th>\n",
       "      <td>0</td>\n",
       "      <td>178</td>\n",
       "      <td>106</td>\n",
       "      <td>146</td>\n",
       "      <td>60</td>\n",
       "      <td>72</td>\n",
       "      <td>55</td>\n",
       "      <td>265</td>\n",
       "      <td>101</td>\n",
       "      <td>41</td>\n",
       "      <td>...</td>\n",
       "      <td>0</td>\n",
       "      <td>0</td>\n",
       "      <td>5</td>\n",
       "      <td>0</td>\n",
       "      <td>1</td>\n",
       "      <td>4</td>\n",
       "      <td>1</td>\n",
       "      <td>98</td>\n",
       "      <td>1</td>\n",
       "      <td>42</td>\n",
       "    </tr>\n",
       "    <tr>\n",
       "      <th>BT-05</th>\n",
       "      <td>0</td>\n",
       "      <td>373</td>\n",
       "      <td>154</td>\n",
       "      <td>77</td>\n",
       "      <td>220</td>\n",
       "      <td>166</td>\n",
       "      <td>67</td>\n",
       "      <td>192</td>\n",
       "      <td>193</td>\n",
       "      <td>59</td>\n",
       "      <td>...</td>\n",
       "      <td>0</td>\n",
       "      <td>2</td>\n",
       "      <td>6</td>\n",
       "      <td>2</td>\n",
       "      <td>2</td>\n",
       "      <td>2</td>\n",
       "      <td>0</td>\n",
       "      <td>184</td>\n",
       "      <td>1</td>\n",
       "      <td>93</td>\n",
       "    </tr>\n",
       "  </tbody>\n",
       "</table>\n",
       "<p>5 rows × 61 columns</p>\n",
       "</div>"
      ],
      "text/plain": [
       "to_station_id    8D OPS 02  BT-01  BT-03  BT-04  BT-05  CBD-03  CBD-04  \\\n",
       "from_station_id                                                          \n",
       "8D OPS 02                2      0      0      0      0       0       0   \n",
       "BT-01                    0    627    182    114    403     179     135   \n",
       "BT-03                    0    301    284     79    204     187      91   \n",
       "BT-04                    0    178    106    146     60      72      55   \n",
       "BT-05                    0    373    154     77    220     166      67   \n",
       "\n",
       "to_station_id    CBD-05  CBD-06  CBD-07  ...  UW-01  UW-02  UW-04  UW-06  \\\n",
       "from_station_id                          ...                               \n",
       "8D OPS 02             0       0       0  ...      0      0      0      0   \n",
       "BT-01               236     743     104  ...      3      1     21      4   \n",
       "BT-03               365     363      54  ...      0      0     17      0   \n",
       "BT-04               265     101      41  ...      0      0      5      0   \n",
       "BT-05               192     193      59  ...      0      2      6      2   \n",
       "\n",
       "to_station_id    UW-07  UW-10  UW-11  WF-01  WF-03  WF-04  \n",
       "from_station_id                                            \n",
       "8D OPS 02            0      0      0      0      0      0  \n",
       "BT-01                2      4      3    777     13    792  \n",
       "BT-03                1      6      0    237      6    172  \n",
       "BT-04                1      4      1     98      1     42  \n",
       "BT-05                2      2      0    184      1     93  \n",
       "\n",
       "[5 rows x 61 columns]"
      ]
     },
     "execution_count": 8,
     "metadata": {},
     "output_type": "execute_result"
    }
   ],
   "source": [
    "crosstab_df.head()"
   ]
  },
  {
   "cell_type": "code",
   "execution_count": 9,
   "id": "424a18c5",
   "metadata": {},
   "outputs": [
    {
     "data": {
      "text/html": [
       "<div>\n",
       "<style scoped>\n",
       "    .dataframe tbody tr th:only-of-type {\n",
       "        vertical-align: middle;\n",
       "    }\n",
       "\n",
       "    .dataframe tbody tr th {\n",
       "        vertical-align: top;\n",
       "    }\n",
       "\n",
       "    .dataframe thead tr th {\n",
       "        text-align: left;\n",
       "    }\n",
       "\n",
       "    .dataframe thead tr:last-of-type th {\n",
       "        text-align: right;\n",
       "    }\n",
       "</style>\n",
       "<table border=\"1\" class=\"dataframe\">\n",
       "  <thead>\n",
       "    <tr>\n",
       "      <th></th>\n",
       "      <th colspan=\"8\" halign=\"left\">0</th>\n",
       "    </tr>\n",
       "    <tr>\n",
       "      <th>to_station_id</th>\n",
       "      <th>BT-01</th>\n",
       "      <th>CBD-13</th>\n",
       "      <th>PS-05</th>\n",
       "      <th>SLU-16</th>\n",
       "      <th>SLU-17</th>\n",
       "      <th>UD-01</th>\n",
       "      <th>WF-01</th>\n",
       "      <th>WF-04</th>\n",
       "    </tr>\n",
       "    <tr>\n",
       "      <th>from_station_id</th>\n",
       "      <th></th>\n",
       "      <th></th>\n",
       "      <th></th>\n",
       "      <th></th>\n",
       "      <th></th>\n",
       "      <th></th>\n",
       "      <th></th>\n",
       "      <th></th>\n",
       "    </tr>\n",
       "  </thead>\n",
       "  <tbody>\n",
       "    <tr>\n",
       "      <th>BT-01</th>\n",
       "      <td>NaN</td>\n",
       "      <td>1101.0</td>\n",
       "      <td>NaN</td>\n",
       "      <td>NaN</td>\n",
       "      <td>NaN</td>\n",
       "      <td>NaN</td>\n",
       "      <td>NaN</td>\n",
       "      <td>NaN</td>\n",
       "    </tr>\n",
       "    <tr>\n",
       "      <th>CBD-13</th>\n",
       "      <td>962.0</td>\n",
       "      <td>NaN</td>\n",
       "      <td>NaN</td>\n",
       "      <td>NaN</td>\n",
       "      <td>NaN</td>\n",
       "      <td>NaN</td>\n",
       "      <td>NaN</td>\n",
       "      <td>NaN</td>\n",
       "    </tr>\n",
       "    <tr>\n",
       "      <th>CH-07</th>\n",
       "      <td>NaN</td>\n",
       "      <td>NaN</td>\n",
       "      <td>NaN</td>\n",
       "      <td>934.0</td>\n",
       "      <td>NaN</td>\n",
       "      <td>NaN</td>\n",
       "      <td>NaN</td>\n",
       "      <td>NaN</td>\n",
       "    </tr>\n",
       "    <tr>\n",
       "      <th>SLU-17</th>\n",
       "      <td>NaN</td>\n",
       "      <td>NaN</td>\n",
       "      <td>NaN</td>\n",
       "      <td>NaN</td>\n",
       "      <td>960.0</td>\n",
       "      <td>NaN</td>\n",
       "      <td>NaN</td>\n",
       "      <td>NaN</td>\n",
       "    </tr>\n",
       "    <tr>\n",
       "      <th>UD-01</th>\n",
       "      <td>NaN</td>\n",
       "      <td>NaN</td>\n",
       "      <td>NaN</td>\n",
       "      <td>NaN</td>\n",
       "      <td>NaN</td>\n",
       "      <td>880.0</td>\n",
       "      <td>NaN</td>\n",
       "      <td>NaN</td>\n",
       "    </tr>\n",
       "    <tr>\n",
       "      <th>WF-01</th>\n",
       "      <td>NaN</td>\n",
       "      <td>NaN</td>\n",
       "      <td>962.0</td>\n",
       "      <td>NaN</td>\n",
       "      <td>NaN</td>\n",
       "      <td>NaN</td>\n",
       "      <td>4209.0</td>\n",
       "      <td>2291.0</td>\n",
       "    </tr>\n",
       "    <tr>\n",
       "      <th>WF-04</th>\n",
       "      <td>NaN</td>\n",
       "      <td>NaN</td>\n",
       "      <td>NaN</td>\n",
       "      <td>NaN</td>\n",
       "      <td>NaN</td>\n",
       "      <td>NaN</td>\n",
       "      <td>1605.0</td>\n",
       "      <td>1150.0</td>\n",
       "    </tr>\n",
       "  </tbody>\n",
       "</table>\n",
       "</div>"
      ],
      "text/plain": [
       "                     0                                                    \n",
       "to_station_id    BT-01  CBD-13  PS-05 SLU-16 SLU-17  UD-01   WF-01   WF-04\n",
       "from_station_id                                                           \n",
       "BT-01              NaN  1101.0    NaN    NaN    NaN    NaN     NaN     NaN\n",
       "CBD-13           962.0     NaN    NaN    NaN    NaN    NaN     NaN     NaN\n",
       "CH-07              NaN     NaN    NaN  934.0    NaN    NaN     NaN     NaN\n",
       "SLU-17             NaN     NaN    NaN    NaN  960.0    NaN     NaN     NaN\n",
       "UD-01              NaN     NaN    NaN    NaN    NaN  880.0     NaN     NaN\n",
       "WF-01              NaN     NaN  962.0    NaN    NaN    NaN  4209.0  2291.0\n",
       "WF-04              NaN     NaN    NaN    NaN    NaN    NaN  1605.0  1150.0"
      ]
     },
     "execution_count": 9,
     "metadata": {},
     "output_type": "execute_result"
    }
   ],
   "source": [
    "## DESCONSIDERAR\n",
    "df.groupby(['from_station_id', 'to_station_id']).size().to_frame()\\\n",
    "    .sort_values(by=0,ascending=False).head(10).reset_index().pivot(index='from_station_id', columns='to_station_id')"
   ]
  },
  {
   "cell_type": "code",
   "execution_count": 10,
   "id": "31627fdf",
   "metadata": {},
   "outputs": [],
   "source": [
    "top_10_estacoes = df.groupby(['from_station_id', 'to_station_id']).size().to_frame().nlargest(10, 0).reset_index()"
   ]
  },
  {
   "cell_type": "code",
   "execution_count": 11,
   "id": "c8163ce3",
   "metadata": {},
   "outputs": [
    {
     "data": {
      "text/html": [
       "<div>\n",
       "<style scoped>\n",
       "    .dataframe tbody tr th:only-of-type {\n",
       "        vertical-align: middle;\n",
       "    }\n",
       "\n",
       "    .dataframe tbody tr th {\n",
       "        vertical-align: top;\n",
       "    }\n",
       "\n",
       "    .dataframe thead th {\n",
       "        text-align: right;\n",
       "    }\n",
       "</style>\n",
       "<table border=\"1\" class=\"dataframe\">\n",
       "  <thead>\n",
       "    <tr style=\"text-align: right;\">\n",
       "      <th></th>\n",
       "      <th>from_station_id</th>\n",
       "      <th>to_station_id</th>\n",
       "      <th>0</th>\n",
       "    </tr>\n",
       "  </thead>\n",
       "  <tbody>\n",
       "    <tr>\n",
       "      <th>0</th>\n",
       "      <td>WF-01</td>\n",
       "      <td>WF-01</td>\n",
       "      <td>4209</td>\n",
       "    </tr>\n",
       "    <tr>\n",
       "      <th>1</th>\n",
       "      <td>WF-01</td>\n",
       "      <td>WF-04</td>\n",
       "      <td>2291</td>\n",
       "    </tr>\n",
       "    <tr>\n",
       "      <th>2</th>\n",
       "      <td>WF-04</td>\n",
       "      <td>WF-01</td>\n",
       "      <td>1605</td>\n",
       "    </tr>\n",
       "    <tr>\n",
       "      <th>3</th>\n",
       "      <td>WF-04</td>\n",
       "      <td>WF-04</td>\n",
       "      <td>1150</td>\n",
       "    </tr>\n",
       "    <tr>\n",
       "      <th>4</th>\n",
       "      <td>BT-01</td>\n",
       "      <td>CBD-13</td>\n",
       "      <td>1101</td>\n",
       "    </tr>\n",
       "    <tr>\n",
       "      <th>5</th>\n",
       "      <td>CBD-13</td>\n",
       "      <td>BT-01</td>\n",
       "      <td>962</td>\n",
       "    </tr>\n",
       "    <tr>\n",
       "      <th>6</th>\n",
       "      <td>WF-01</td>\n",
       "      <td>PS-05</td>\n",
       "      <td>962</td>\n",
       "    </tr>\n",
       "    <tr>\n",
       "      <th>7</th>\n",
       "      <td>SLU-17</td>\n",
       "      <td>SLU-17</td>\n",
       "      <td>960</td>\n",
       "    </tr>\n",
       "    <tr>\n",
       "      <th>8</th>\n",
       "      <td>CH-07</td>\n",
       "      <td>SLU-16</td>\n",
       "      <td>934</td>\n",
       "    </tr>\n",
       "    <tr>\n",
       "      <th>9</th>\n",
       "      <td>UD-01</td>\n",
       "      <td>UD-01</td>\n",
       "      <td>880</td>\n",
       "    </tr>\n",
       "  </tbody>\n",
       "</table>\n",
       "</div>"
      ],
      "text/plain": [
       "  from_station_id to_station_id     0\n",
       "0           WF-01         WF-01  4209\n",
       "1           WF-01         WF-04  2291\n",
       "2           WF-04         WF-01  1605\n",
       "3           WF-04         WF-04  1150\n",
       "4           BT-01        CBD-13  1101\n",
       "5          CBD-13         BT-01   962\n",
       "6           WF-01         PS-05   962\n",
       "7          SLU-17        SLU-17   960\n",
       "8           CH-07        SLU-16   934\n",
       "9           UD-01         UD-01   880"
      ]
     },
     "execution_count": 11,
     "metadata": {},
     "output_type": "execute_result"
    }
   ],
   "source": [
    "top_10_estacoes"
   ]
  },
  {
   "cell_type": "code",
   "execution_count": 12,
   "id": "a24fb0ca",
   "metadata": {},
   "outputs": [],
   "source": [
    "from_station_mask = top_10_estacoes['from_station_id'].unique()\n",
    "to_station_mask = top_10_estacoes['to_station_id'].unique()"
   ]
  },
  {
   "cell_type": "code",
   "execution_count": 13,
   "id": "29bbd1a5",
   "metadata": {},
   "outputs": [
    {
     "data": {
      "text/plain": [
       "{'BT-01', 'CBD-13', 'CH-07', 'SLU-17', 'UD-01', 'WF-01', 'WF-04'}"
      ]
     },
     "execution_count": 13,
     "metadata": {},
     "output_type": "execute_result"
    }
   ],
   "source": [
    "set(from_station_mask)"
   ]
  },
  {
   "cell_type": "code",
   "execution_count": 14,
   "id": "231bdb43",
   "metadata": {},
   "outputs": [
    {
     "data": {
      "text/plain": [
       "array(['WF-01', 'WF-04', 'CBD-13', 'BT-01', 'PS-05', 'SLU-17', 'SLU-16',\n",
       "       'UD-01'], dtype=object)"
      ]
     },
     "execution_count": 14,
     "metadata": {},
     "output_type": "execute_result"
    }
   ],
   "source": [
    "to_station_mask"
   ]
  },
  {
   "cell_type": "code",
   "execution_count": 15,
   "id": "e92d1b82",
   "metadata": {},
   "outputs": [
    {
     "data": {
      "text/plain": [
       "['WF-01',\n",
       " 'WF-04',\n",
       " 'CBD-13',\n",
       " 'BT-01',\n",
       " 'PS-05',\n",
       " 'SLU-17',\n",
       " 'SLU-16',\n",
       " 'UD-01',\n",
       " 'WF-01',\n",
       " 'WF-04',\n",
       " 'BT-01',\n",
       " 'CBD-13',\n",
       " 'SLU-17',\n",
       " 'CH-07',\n",
       " 'UD-01']"
      ]
     },
     "execution_count": 15,
     "metadata": {},
     "output_type": "execute_result"
    }
   ],
   "source": [
    "[*to_station_mask, *from_station_mask]"
   ]
  },
  {
   "cell_type": "code",
   "execution_count": 16,
   "id": "f2a58eaa",
   "metadata": {},
   "outputs": [],
   "source": [
    "union_stations = set([*from_station_mask, *to_station_mask])"
   ]
  },
  {
   "cell_type": "code",
   "execution_count": 17,
   "id": "f31e65d8",
   "metadata": {},
   "outputs": [
    {
     "data": {
      "text/plain": [
       "{'BT-01',\n",
       " 'CBD-13',\n",
       " 'CH-07',\n",
       " 'PS-05',\n",
       " 'SLU-16',\n",
       " 'SLU-17',\n",
       " 'UD-01',\n",
       " 'WF-01',\n",
       " 'WF-04'}"
      ]
     },
     "execution_count": 17,
     "metadata": {},
     "output_type": "execute_result"
    }
   ],
   "source": [
    "union_stations"
   ]
  },
  {
   "cell_type": "code",
   "execution_count": 18,
   "id": "b56a6852",
   "metadata": {},
   "outputs": [],
   "source": [
    "matrix_data = crosstab_df.loc[union_stations,union_stations]"
   ]
  },
  {
   "cell_type": "markdown",
   "id": "85230936",
   "metadata": {},
   "source": [
    "# Gráfico Chord\n",
    "Nesse caso tentamos usar 3 bibliotecas diferentes:\n",
    "- **Chord**: Nao Foi para frente porque precisaria pagar para usar\n",
    "- **MNE**: conseguimos plotar o gráfico mas não ficou tão bacan\n",
    "- **Plotly**: gráfico além de interativo ficou bom de interpretar"
   ]
  },
  {
   "cell_type": "markdown",
   "id": "70c7fe86",
   "metadata": {},
   "source": [
    "## Chord >:("
   ]
  },
  {
   "cell_type": "code",
   "execution_count": 19,
   "id": "b20fb4f4",
   "metadata": {},
   "outputs": [],
   "source": [
    "# !pip install chord\n",
    "# !pip install requests"
   ]
  },
  {
   "cell_type": "code",
   "execution_count": 20,
   "id": "f255d185",
   "metadata": {},
   "outputs": [],
   "source": [
    "import requests\n",
    "import numpy as np\n",
    "from chord import Chord"
   ]
  },
  {
   "cell_type": "code",
   "execution_count": 21,
   "id": "33cc572a",
   "metadata": {},
   "outputs": [
    {
     "data": {
      "text/plain": [
       "[[427, 158, 384, 1, 53, 384, 105, 962, 158],\n",
       " [137, 1150, 1605, 4, 2, 215, 17, 478, 36],\n",
       " [310, 2291, 4209, 4, 3, 962, 75, 347, 52],\n",
       " [9, 0, 1, 880, 3, 1, 46, 6, 2],\n",
       " [577, 23, 23, 15, 233, 71, 19, 198, 934],\n",
       " [199, 181, 737, 0, 26, 185, 26, 179, 42],\n",
       " [135, 70, 97, 25, 5, 31, 960, 264, 53],\n",
       " [1101, 792, 777, 8, 16, 301, 175, 627, 151],\n",
       " [344, 68, 65, 4, 98, 65, 73, 166, 186]]"
      ]
     },
     "execution_count": 21,
     "metadata": {},
     "output_type": "execute_result"
    }
   ],
   "source": [
    "matrix_data.values.tolist()"
   ]
  },
  {
   "cell_type": "code",
   "execution_count": 22,
   "id": "1f2ba25c",
   "metadata": {},
   "outputs": [],
   "source": [
    "Chord(matrix_data.values.tolist(), list(union_stations)).to_html('./chord.html')"
   ]
  },
  {
   "cell_type": "markdown",
   "id": "5ef0207a",
   "metadata": {},
   "source": [
    "## Plotly :O"
   ]
  },
  {
   "cell_type": "code",
   "execution_count": 23,
   "id": "d6dcc857",
   "metadata": {},
   "outputs": [],
   "source": [
    "# !pip install plotly\n",
    "# !pip install colorlover\n",
    "import pandas as pd\n",
    "import numpy as np\n",
    "import plotly.graph_objs as go\n",
    "#import colorlover as cl"
   ]
  },
  {
   "cell_type": "code",
   "execution_count": 24,
   "id": "114c284e",
   "metadata": {},
   "outputs": [],
   "source": [
    "df_2 = pd.read_csv('trip.csv', sep=',')\n",
    "df_2 = df_2.drop_duplicates(subset=['trip_id'])\n",
    "\n",
    "crosstab_df_2 = pd.crosstab(df_2['from_station_name'], df_2['to_station_name'])\n",
    "top_10_estacoes_2 = df_2.groupby(['from_station_name', 'to_station_name']).size().to_frame().nlargest(10, 0).reset_index()\n",
    "from_station_mask_2 = top_10_estacoes_2['from_station_name'].unique()\n",
    "to_station_mask_2 = top_10_estacoes_2['to_station_name'].unique()\n",
    "\n",
    "union_stations_2 = set([*from_station_mask_2, *to_station_mask_2])\n",
    "\n",
    "data_matrix_2 = crosstab_df_2.loc[union_stations_2,union_stations_2]\n",
    "matrix = data_matrix_2.copy()\n",
    "\n",
    "name_dict = {'Burke-Gilman Trail / NE Blakeley St & 24th Ave NE': 'Burke-Gilman Trail',\n",
    "                                 'King Street Station Plaza / 2nd Ave Extension S & S Jackson St': 'King Street Station Plaza',\n",
    "                                 'Lake Union Park / Valley St & Boren Ave N':'Lake Union Park',\n",
    "                                 'Pier 69 / Alaskan Way & Clay St':'Pier 69',\n",
    "                                 'Seattle Aquarium / Alaskan Way S & Elliott Bay Trail':'Seattle Aquarium'}\n",
    "\n",
    "matrix.rename(columns = name_dict, index = name_dict, inplace = True)"
   ]
  },
  {
   "cell_type": "code",
   "execution_count": 25,
   "id": "7cb36803",
   "metadata": {},
   "outputs": [],
   "source": [
    "#def get_spaced_colors(n, randomized=False):\n",
    "#    if n > 0:\n",
    "#        max_value = 255\n",
    "#        interval = max_value / n\n",
    "#        hues = np.arange(0, max_value, interval)\n",
    "#        return cl.to_rgb([\"hsl(%d,80%%,40%%)\" % i for i in hues])\n",
    "#    else:\n",
    "#        return None\n",
    "\n",
    "\n",
    "PI = np.pi\n",
    "\n",
    "\n",
    "def check_square(M):\n",
    "    d, n = M.shape\n",
    "    if d != n:\n",
    "        raise ValueError(\"Data array must be square.\")\n",
    "    return n\n",
    "\n",
    "\n",
    "def moduloAB(x, a, b):\n",
    "    if a >= b:\n",
    "        raise ValueError(\"Incorrect inverval ends\")\n",
    "    y = (x - a) % (b - a)\n",
    "    return y + b if y < 0 else y + a\n",
    "\n",
    "\n",
    "def test_2PI(x):\n",
    "    return 0 <= x < 2 * PI\n",
    "\n",
    "\n",
    "def get_ideogram_ends(ideaogram_len, gap):\n",
    "    ideo_ends = []\n",
    "    left = 0\n",
    "    for k in range(len(ideaogram_len)):\n",
    "        right = left + ideaogram_len[k]\n",
    "        ideo_ends.append([left, right])\n",
    "        left = right + gap\n",
    "    return ideo_ends\n",
    "\n",
    "\n",
    "def make_ideogram_arc(R, phi, a=50):\n",
    "    # R is the circle radius\n",
    "    # Phi is a list of the ends angle coordinates of an arc\n",
    "    # a is a parameter that controls the number of points to be evaluated\n",
    "    if not test_2PI(phi[0]) or not test_2PI(phi[1]):\n",
    "        phi = [moduloAB(t, 0, 2 * PI) for t in phi]\n",
    "    length = (phi[1] - phi[0]) % 2 * PI\n",
    "    nr = 5 if length <= PI / 4 else int(a * length / PI)\n",
    "    if phi[0] < phi[1]:\n",
    "        nr = 100\n",
    "\n",
    "        theta = np.linspace(phi[0], phi[1], nr)\n",
    "    else:\n",
    "        phi = [moduloAB(t, -PI, PI) for t in phi]\n",
    "        # nr = 100\n",
    "        theta = np.linspace(phi[0], phi[1], nr)\n",
    "    return R * np.exp(1j * theta)\n",
    "\n",
    "\n",
    "def map_data(data_matrix, row_value, ideogram_length):\n",
    "    n = data_matrix.shape[0]  # square, so same as 1\n",
    "    mapped = np.zeros([n, n])\n",
    "    for j in range(n):\n",
    "        mapped[:, j] = ideogram_length * data_matrix[:, j] / row_value\n",
    "    return mapped\n",
    "\n",
    "\n",
    "def make_ribbon_ends(mapped_data, ideo_ends, idx_sort):\n",
    "    n = mapped_data.shape[0]\n",
    "    ribbon_boundary = np.zeros((n, n + 1))\n",
    "    for k in range(n):\n",
    "        start = ideo_ends[k][0]\n",
    "        ribbon_boundary[k][0] = start\n",
    "        for j in range(1, n + 1):\n",
    "            J = idx_sort[k][j - 1]\n",
    "            ribbon_boundary[k][j] = start + mapped_data[k][J]\n",
    "            start = ribbon_boundary[k][j]\n",
    "    return [\n",
    "        [(ribbon_boundary[k][j], ribbon_boundary[k][j + 1]) for j in range(n)]\n",
    "        for k in range(n)\n",
    "    ]\n",
    "\n",
    "\n",
    "def control_pts(angle, radius):\n",
    "    if len(angle) != 3:\n",
    "        raise ValueError(\"Angle must have len = 3\")\n",
    "    b_cplx = np.array([np.exp(1j * angle[k]) for k in range(3)])\n",
    "    b_cplx[1] = radius * b_cplx[1]\n",
    "    return list(zip(b_cplx.real, b_cplx.imag))\n",
    "\n",
    "\n",
    "def ctrl_rib_chords(l, r, radius):\n",
    "    if len(l) != 2 or len(r) != 2:\n",
    "        raise ValueError(\"The arc ends must be elements in a list of len 2\")\n",
    "    return [control_pts([l[j], (l[j] + r[j]) / 2, r[j]], radius) for j in range(2)]\n",
    "\n",
    "\n",
    "def make_q_bezier(b):\n",
    "    if len(b) != 3:\n",
    "        raise ValueError(\"Contaol polygon must have 3 points\")\n",
    "    A, B, C = b\n",
    "    return (\n",
    "        \"M \"\n",
    "        + str(A[0])\n",
    "        + \",\"\n",
    "        + str(A[1])\n",
    "        + \" \"\n",
    "        + \"Q \"\n",
    "        + str(B[0])\n",
    "        + \", \"\n",
    "        + str(B[1])\n",
    "        + \" \"\n",
    "        + str(C[0])\n",
    "        + \", \"\n",
    "        + str(C[1])\n",
    "    )\n",
    "\n",
    "\n",
    "def make_ribbon_arc(theta0, theta1):\n",
    "    if test_2PI(theta0) and test_2PI(theta1):\n",
    "        if theta0 < theta1:\n",
    "            theta0 = moduloAB(theta0, -PI, PI)\n",
    "            theta1 = moduloAB(theta1, -PI, PI)\n",
    "            if theta0 * theta1 > 0:\n",
    "                raise ValueError(\"Incorrect angle coordinates for ribbon\")\n",
    "        nr = int(40 * (theta0 - theta1) / PI)\n",
    "        if nr <= 2:\n",
    "            nr = 3\n",
    "        theta = np.linspace(theta0, theta1, nr)\n",
    "        pts = np.exp(1j * theta)\n",
    "        string_arc = \"\"\n",
    "        for k in range(len(theta)):\n",
    "            string_arc += \"L \" + str(pts.real[k]) + \", \" + str(pts.imag[k]) + \" \"\n",
    "        return string_arc\n",
    "    else:\n",
    "        raise ValueError(\"The angle coords for arc ribbon must be [0, 2*PI]\")\n",
    "\n",
    "\n",
    "def make_layout(title):\n",
    "    xaxis = dict(\n",
    "        showline=False, zeroline=False, showgrid=False, showticklabels=False, title=\"\"\n",
    "    )\n",
    "    yaxis = {**xaxis, \"scaleanchor\": \"x\"}\n",
    "    return dict(\n",
    "        title=title,\n",
    "        xaxis=xaxis,\n",
    "        yaxis=yaxis,\n",
    "        showlegend=False,\n",
    "        margin=dict(t=25, b=25, l=25, r=25),\n",
    "        hovermode=\"closest\",\n",
    "        shapes=[],\n",
    "    )\n",
    "\n",
    "\n",
    "def make_ideo_shape(path, line_color, fill_color):\n",
    "    return dict(\n",
    "        line=go.layout.shape.Line(color=line_color, width=0.45),\n",
    "        path=path,\n",
    "        type=\"path\",\n",
    "        fillcolor=fill_color,\n",
    "        layer=\"below\",\n",
    "    )\n",
    "\n",
    "\n",
    "def make_ribbon(l, r, line_color, fill_color, radius=0.2):\n",
    "    poligon = ctrl_rib_chords(l, r, radius)\n",
    "    b, c = poligon\n",
    "    return dict(\n",
    "        line=go.layout.shape.Line(color=line_color, width=0.5),\n",
    "        path=make_q_bezier(b)\n",
    "        + make_ribbon_arc(r[0], r[1])\n",
    "        + make_q_bezier(c[::-1])\n",
    "        + make_ribbon_arc(l[1], l[0]),\n",
    "        type=\"path\",\n",
    "        fillcolor=fill_color,\n",
    "        layer=\"below\",\n",
    "    )\n",
    "\n",
    "\n",
    "def make_self_rel(l, line_color, fill_color, radius):\n",
    "    b = control_pts([l[0], (l[0] + l[1]) / 2, l[1]], radius)\n",
    "    return dict(\n",
    "        line=dict(color=line_color, width=0.5),\n",
    "        path=make_q_bezier(b) + make_ribbon_arc(l[1], l[0]),\n",
    "        type=\"path\",\n",
    "        fillcolor=fill_color,\n",
    "        layer=\"below\",\n",
    "    )\n",
    "\n",
    "\n",
    "def invPerm(perm):\n",
    "    inv = [0] * len(perm)\n",
    "    for i, s in enumerate(perm):\n",
    "        inv[s] = i\n",
    "    return inv\n",
    "\n",
    "\n",
    "def make_filled_chord(M):  # ,labels):\n",
    "\n",
    "    n = M.shape[0]\n",
    "    labels = list(M.columns)\n",
    "    M = M.T\n",
    "    matrix = M.to_numpy()\n",
    "    n = M.shape[0]\n",
    "    row_sum = [np.sum(matrix[k, :]) for k in range(n)]\n",
    "    gap = 2 * PI * 10e-8\n",
    "\n",
    "    ideogram_length = 2 * PI * np.asarray(row_sum) / sum(row_sum) - gap * np.ones(n)\n",
    "    ideo_colors=['rgba(213,62,79,0.75)',\n",
    "             'rgba(244,109,67,0.75)',\n",
    "             'rgba(253,174,97,0.75)',\n",
    "             'rgba(254,224,139,0.75)',\n",
    "             'rgba(255,255,191,0.75)',\n",
    "             'rgba(230,245,152,0.75)',\n",
    "             'rgba(171,221,164,0.75)',\n",
    "             'rgba(102,194,165,0.75)',\n",
    "             'rgba(50,136,189,0.75)']\n",
    "    #ideo_colors = [\n",
    "    #    x[:3] + \"a\" + x[3:-1] + \",.75\" + x[-1] for x in get_spaced_colors(len(labels))\n",
    "    #]\n",
    "    mapped_data = map_data(matrix, row_sum, ideogram_length)\n",
    "    idx_sort = np.argsort(mapped_data, axis=1)\n",
    "    ideo_ends = get_ideogram_ends(ideogram_length, gap)\n",
    "    ribbon_ends = make_ribbon_ends(mapped_data, ideo_ends, idx_sort)\n",
    "    ribbon_color = [n * [ideo_colors[k]] for k in range(n)]\n",
    "    layout = make_layout(\" \")\n",
    "    ribbon_info = []\n",
    "    radii_sribb = [0.2] * n\n",
    "    for k in range(n):\n",
    "        sigma = idx_sort[k]\n",
    "        sigma_inv = invPerm(sigma)\n",
    "        for j in range(k, n):\n",
    "            if M.iloc[k, j] == 0 and M.iloc[j, k] == 0:\n",
    "                continue\n",
    "            eta = idx_sort[j]\n",
    "            eta_inv = invPerm(eta)\n",
    "            l = ribbon_ends[k][sigma_inv[j]]\n",
    "            if j == k:\n",
    "                layout[\"shapes\"].append(\n",
    "                    make_self_rel(\n",
    "                        l, \"rgb(175,175,175)\", ideo_colors[k], radius=radii_sribb[k]\n",
    "                    )\n",
    "                )\n",
    "                z = 0.9 * np.exp(1j * (l[0] + l[1]) / 2)\n",
    "                text = (\n",
    "                    labels[k]\n",
    "                    + \" \\u2b8c \"\n",
    "                    #+ labels[k]\n",
    "                    + \": {0} viagens \".format(M.iloc[k, k])\n",
    "                )\n",
    "                ribbon_info.append(\n",
    "                    go.Scatter(\n",
    "                        x=[z.real],\n",
    "                        y=[z.imag],\n",
    "                        mode=\"markers\",\n",
    "                        text=text,\n",
    "                        hoverinfo=\"text\",\n",
    "                        marker=dict(size=0.5, color=ideo_colors[k]),\n",
    "                    )\n",
    "                )\n",
    "            else:\n",
    "                r = ribbon_ends[j][eta_inv[k]]\n",
    "                zi = 0.9 * np.exp(1j * (l[0] + l[1]) / 2)\n",
    "                zf = 0.9 * np.exp(1j * (r[0] + r[1]) / 2)\n",
    "\n",
    "                texti = (\n",
    "                    labels[k]\n",
    "                    + \" \\u2794 \"\n",
    "                    + labels[j]\n",
    "                    + \": {0} viagens \".format(matrix[k][j])\n",
    "                )\n",
    "                textf = (\n",
    "                    labels[j]\n",
    "                    + \" \\u2794 \"\n",
    "                    + labels[k]\n",
    "                    +\": {0} viagens \".format(matrix[j][k])\n",
    "                )\n",
    "\n",
    "                ribbon_info.append(\n",
    "                    go.Scatter(\n",
    "                        x=[zi.real],\n",
    "                        y=[zi.imag],\n",
    "                        mode=\"markers\",\n",
    "                        text=texti,\n",
    "                        hoverinfo=\"text\",\n",
    "                        marker=dict(size=0.5, color=ribbon_color[k][j]),\n",
    "                    )\n",
    "                )\n",
    "                ribbon_info.append(\n",
    "                    go.Scatter(\n",
    "                        x=[zf.real],\n",
    "                        y=[zf.imag],\n",
    "                        mode=\"markers\",\n",
    "                        text=textf,\n",
    "                        hoverinfo=\"text\",\n",
    "                        marker=dict(size=0.5, color=ribbon_color[j][k]),\n",
    "                    )\n",
    "                )\n",
    "                r = (r[1], r[0])\n",
    "                if matrix[k][j] > matrix[j][k]:\n",
    "                    color_of_highest = ribbon_color[k][j]\n",
    "                else:\n",
    "                    color_of_highest = ribbon_color[j][k]\n",
    "                layout[\"shapes\"].append(\n",
    "                    make_ribbon(l, r, \"rgb(175, 175, 175)\", color_of_highest)\n",
    "                )\n",
    "    ideograms = []\n",
    "    for k in range(len(ideo_ends)):\n",
    "        z = make_ideogram_arc(1.1, ideo_ends[k])\n",
    "        zi = make_ideogram_arc(1.0, ideo_ends[k])\n",
    "        m = len(z)\n",
    "        n = len(zi)\n",
    "        ideograms.append(\n",
    "            go.Scatter(\n",
    "                x=z.real,\n",
    "                y=z.imag,\n",
    "                mode=\"lines\",\n",
    "                line=dict(color=ideo_colors[k], shape=\"spline\", width=0.25),\n",
    "                text=labels[k] + \"<br>\" + \"{0} partidas\".format(row_sum[k]),\n",
    "                hoverinfo=\"text\",\n",
    "            )\n",
    "        )\n",
    "        path = \"M \"\n",
    "        for s in range(m):\n",
    "            path += str(z.real[s]) + \", \" + str(z.imag[s]) + \" L \"\n",
    "        Zi = np.array(zi.tolist()[::-1])\n",
    "        for s in range(m):\n",
    "            path += str(Zi.real[s]) + \", \" + str(Zi.imag[s]) + \" L \"\n",
    "        path += str(z.real[0]) + \" ,\" + str(z.imag[0])\n",
    "        layout[\"shapes\"].append(\n",
    "            make_ideo_shape(path, \"rgb(150,150,150)\", ideo_colors[k])\n",
    "        )\n",
    "\n",
    "    layout[\"paper_bgcolor\"] = \"rgba(0,0,0,0)\"\n",
    "    layout[\"plot_bgcolor\"] = \"rgba(0,0,0,0)\"\n",
    "    layout[\"width\"] = 625\n",
    "    layout[\"height\"] = 625\n",
    "    data = ideograms + ribbon_info\n",
    "    fig = {\"data\": data, \"layout\": layout}\n",
    "    return fig"
   ]
  },
  {
   "cell_type": "code",
   "execution_count": 26,
   "id": "daf5c106",
   "metadata": {},
   "outputs": [],
   "source": [
    "fig = make_filled_chord(matrix)"
   ]
  },
  {
   "cell_type": "code",
   "execution_count": 27,
   "id": "12a25331",
   "metadata": {},
   "outputs": [
    {
     "data": {
      "text/html": [
       "        <script type=\"text/javascript\">\n",
       "        window.PlotlyConfig = {MathJaxConfig: 'local'};\n",
       "        if (window.MathJax) {MathJax.Hub.Config({SVG: {font: \"STIX-Web\"}});}\n",
       "        if (typeof require !== 'undefined') {\n",
       "        require.undef(\"plotly\");\n",
       "        requirejs.config({\n",
       "            paths: {\n",
       "                'plotly': ['https://cdn.plot.ly/plotly-2.6.3.min']\n",
       "            }\n",
       "        });\n",
       "        require(['plotly'], function(Plotly) {\n",
       "            window._Plotly = Plotly;\n",
       "        });\n",
       "        }\n",
       "        </script>\n",
       "        "
      ]
     },
     "metadata": {},
     "output_type": "display_data"
    },
    {
     "data": {
      "application/vnd.plotly.v1+json": {
       "config": {
        "linkText": "Export to plot.ly",
        "plotlyServerURL": "https://plot.ly",
        "showLink": false
       },
       "data": [
        {
         "hoverinfo": "text",
         "line": {
          "color": "rgba(213,62,79,0.75)",
          "shape": "spline",
          "width": 0.25
         },
         "mode": "lines",
         "text": "Pine St & 9th Ave<br>1614 partidas",
         "type": "scatter",
         "x": [
          1.1,
          1.0999913313713872,
          1.0999653256221762,
          1.099921983162247,
          1.099861304674727,
          1.099783291115978,
          1.0996879437155826,
          1.0995752639763257,
          1.099445253674168,
          1.0992979148582207,
          1.099133249850712,
          1.0989512612469505,
          1.0987519519152846,
          1.0985353249970575,
          1.0983013839065565,
          1.0980501323309608,
          1.0977815742302826,
          1.0974957138373043,
          1.0971925556575122,
          1.0968721044690262,
          1.0965343653225228,
          1.096179343541157,
          1.0958070447204784,
          1.0954174747283416,
          1.0950106397048145,
          1.0945865460620827,
          1.0941452004843464,
          1.0936866099277163,
          1.093210781620104,
          1.0927177230611071,
          1.0922074420218921,
          1.0916799465450715,
          1.091135244944577,
          1.0905733458055282,
          1.0899942579840978,
          1.0893979906073719,
          1.0887845530732054,
          1.0881539550500754,
          1.0875062064769272,
          1.086841317563019,
          1.0861592987877595,
          1.0854601609005445,
          1.084743914920586,
          1.0840105721367392,
          1.0832601441073249,
          1.0824926426599462,
          1.081708079891303,
          1.0809064681670015,
          1.0800878201213586,
          1.079252148657203,
          1.0783994669456725,
          1.077529788426005,
          1.0766431268053283,
          1.0757394960584425,
          1.0748189104276011,
          1.0738813844222863,
          1.072926932818979,
          1.0719555706609272,
          1.0709673132579092,
          1.0699621761859908,
          1.0689401752872811,
          1.0679013266696826,
          1.0668456467066365,
          1.065773152036866,
          1.0646838595641126,
          1.0635777864568705,
          1.0624549501481164,
          1.0613153683350338,
          1.0601590589787342,
          1.058986040303975,
          1.0577963307988711,
          1.056589949214604,
          1.0553669145651263,
          1.054127246126862,
          1.0528709634384024,
          1.0515980863001986,
          1.0503086347742492,
          1.0490026291837837,
          1.047680090112943,
          1.0463410384064549,
          1.044985495169304,
          1.0436134817664016,
          1.042225019822247,
          1.0408201312205867,
          1.0393988381040715,
          1.0379611628739052,
          1.0365071281894924,
          1.0350367569680814,
          1.0335500723844038,
          1.0320470978703074,
          1.0305278571143883,
          1.0289923740616174,
          1.0274406729129624,
          1.025872778125007,
          1.0242887144095651,
          1.0226885067332914,
          1.0210721803172875,
          1.0194397606367052,
          1.0177912734203445,
          1.016126744650248
         ],
         "y": [
          0,
          0.004367025051814605,
          0.008733981274323177,
          0.013100799839304516,
          0.017467411920707058,
          0.02183374869573366,
          0.026199741345926314,
          0.03056532105825082,
          0.03493041902618135,
          0.039294966450784924,
          0.043658894541805736,
          0.04802213451874939,
          0.05238461761196698,
          0.05674627506373892,
          0.06110703812935871,
          0.06546683807821635,
          0.0698256061948817,
          0.07418327378018746,
          0.078539772152312,
          0.08289503264786174,
          0.08724898662295352,
          0.09160156545429643,
          0.09595270054027338,
          0.10030232330202235,
          0.1046503651845173,
          0.10899675765764866,
          0.11334143221730336,
          0.11768432038644476,
          0.1220253537161916,
          0.12636446378689717,
          0.13070158220922737,
          0.13503664062523887,
          0.13936957070945635,
          0.1437003041699495,
          0.1480287727494091,
          0.15235490822622336,
          0.15667864241555254,
          0.1609999071704042,
          0.16531863438270675,
          0.16963475598438346,
          0.17394820394842475,
          0.17825891028996077,
          0.18256680706733275,
          0.18687182638316377,
          0.19117390038542914,
          0.19547296126852556,
          0.19976894127434,
          0.20406177269331757,
          0.20835138786552862,
          0.21263771918173538,
          0.21692069908445727,
          0.2212002600690359,
          0.2254763346846988,
          0.2297488555356229,
          0.23401775528199636,
          0.23828296664108004,
          0.2425444223882681,
          0.24680205535814745,
          0.2510557984455563,
          0.2553055846066417,
          0.2595513468599168,
          0.2637930182873157,
          0.26803053203524874,
          0.2722638213156561,
          0.2764928194070604,
          0.2807174596556182,
          0.28493767547617077,
          0.28915340035329323,
          0.29336456784234327,
          0.29757111157050836,
          0.3017729652378513,
          0.305970062618356,
          0.3101623375609708,
          0.3143497239906509,
          0.31853215590940054,
          0.32270956739731216,
          0.3268818926136064,
          0.33104906579766913,
          0.3352110212700882,
          0.3393676934336885,
          0.3435190167745658,
          0.3476649258631198,
          0.3518053553550846,
          0.3559402399925593,
          0.360069514605036,
          0.36419311411042743,
          0.36831097351609227,
          0.37242302791986,
          0.37652921251105337,
          0.38062946257151,
          0.3847237134766028,
          0.38881190069625793,
          0.39289395979597236,
          0.39696982643782913,
          0.4010394363815115,
          0.40510272548531556,
          0.40915962970716085,
          0.41321008510560014,
          0.417254027840827,
          0.4212913941756819
         ]
        },
        {
         "hoverinfo": "text",
         "line": {
          "color": "rgba(244,109,67,0.75)",
          "shape": "spline",
          "width": 0.25
         },
         "mode": "lines",
         "text": "Seattle Aquarium<br>4733 partidas",
         "type": "scatter",
         "x": [
          1.0161264799448577,
          1.01115304901201,
          1.0060425718369692,
          1.0007957410663069,
          0.9954132678272266,
          0.9898958816311828,
          0.9842443302750056,
          0.9784593797395488,
          0.9725418140858734,
          0.9664924353489793,
          0.9603120634291025,
          0.95400153598059,
          0.9475617082983687,
          0.9409934532020231,
          0.9342976609174984,
          0.9274752389564437,
          0.9205271119932132,
          0.9134542217395403,
          0.9062575268169032,
          0.8989380026265992,
          0.8914966412175427,
          0.8839344511518094,
          0.8762524573679408,
          0.8684517010420297,
          0.8605332394466041,
          0.8524981458073316,
          0.8443475091575587,
          0.8360824341907097,
          0.8277040411105626,
          0.8192134654794229,
          0.8106118580642147,
          0.8019003846805128,
          0.7930802260345343,
          0.7841525775631116,
          0.7751186492716693,
          0.7659796655702271,
          0.7567368651074498,
          0.7473915006027665,
          0.7379448386765851,
          0.7283981596786211,
          0.7187527575143648,
          0.7090099394697139,
          0.6991710260337898,
          0.6892373507199661,
          0.679210259885131,
          0.6690911125472108,
          0.6588812802009733,
          0.6485821466321451,
          0.6381951077298601,
          0.6277215712974673,
          0.6171629568617257,
          0.606520695480409,
          0.5957962295483479,
          0.5849910126019352,
          0.5741065091221214,
          0.5631441943359278,
          0.5521055540165004,
          0.5409920842817376,
          0.5298052913915147,
          0.5185466915435316,
          0.5072178106678177,
          0.4958201842199143,
          0.48435535697276766,
          0.4728248828073586,
          0.4612303245020979,
          0.4495732535210161,
          0.437855249800775,
          0.42607790153653174,
          0.4142428049666843,
          0.4023515641565246,
          0.39040579078083254,
          0.37840710390543936,
          0.3663571297677864,
          0.35425750155651475,
          0.3421098591901113,
          0.3299158490946436,
          0.3176771239806112,
          0.30539534261894635,
          0.2930721696161943,
          0.28070927518889965,
          0.2683083349372352,
          0.25587102961790087,
          0.24339904491632114,
          0.2308940712181775,
          0.2183578033803032,
          0.20579194050096994,
          0.1931981856896024,
          0.18057824583594734,
          0.1679338313787319,
          0.15526665607383866,
          0.14257843676203308,
          0.1298708931362719,
          0.1171457475086261,
          0.10440472457684649,
          0.0916495511906083,
          0.07888195611746388,
          0.06610366980853341,
          0.0533164241639697,
          0.04052195229822636,
          0.027721988305159446
         ],
         "y": [
          0.42129203262686193,
          0.433092959390609,
          0.4448351870655655,
          0.4565171241733896,
          0.46813718740719823,
          0.47969380184616056,
          0.49118540116895365,
          0.5026104278660536,
          0.5139673334508319,
          0.5252545786694288,
          0.5364706337093762,
          0.5476139784069387,
          0.5586831024531504,
          0.5696765055985126,
          0.5805926978563298,
          0.5914301997046547,
          0.6021875422868149,
          0.6128632676104931,
          0.6234559287453365,
          0.6339640900190645,
          0.6443863272120539,
          0.6547212277503683,
          0.6649673908972118,
          0.6751234279427765,
          0.6851879623924617,
          0.6951596301534358,
          0.7050370797195183,
          0.7148189723543561,
          0.7245039822728679,
          0.7340907968209346,
          0.7435781166533088,
          0.7529646559097218,
          0.7622491423891615,
          0.7714303177222998,
          0.7805069375420459,
          0.7894777716522,
          0.798341604194188,
          0.8070972338118532,
          0.8157434738142799,
          0.824279152336633,
          0.8327031124989847,
          0.8410142125631128,
          0.8492113260872454,
          0.8572933420787325,
          0.8652591651446248,
          0.8731077156401357,
          0.8808379298149727,
          0.8884487599575108,
          0.8959391745367944,
          0.9033081583423449,
          0.9105547126217577,
          0.9176778552160672,
          0.9246766206928628,
          0.9315500604771397,
          0.9382972429798628,
          0.9449172537242291,
          0.9514091954696114,
          0.957772188333166,
          0.9640053699090853,
          0.9701078953854864,
          0.97607893765891,
          0.9819176874464226,
          0.9876233533953027,
          0.9931951621902957,
          0.9986323586584251,
          1.0039342058713452,
          1.009099985245219,
          1.014128996638113,
          1.019020558444889,
          1.023774007689587,
          1.028388700115279,
          1.03286401027139,
          1.0371993315984684,
          1.041394076510394,
          1.0454476764740177,
          1.0493595820862174,
          1.05312926314836,
          1.0567562087381632,
          1.0602399272789422,
          1.0635799466062357,
          1.0667758140317996,
          1.0698270964049637,
          1.0727333801713372,
          1.0754942714288604,
          1.0781093959811914,
          1.0805783993884226,
          1.082900947015121,
          1.0850767240756813,
          1.0871054356769907,
          1.0889868068583974,
          1.090720582628977,
          1.092306528002093,
          1.093744428027245,
          1.0950340878192024,
          1.0961753325844183,
          1.0971680076447192,
          1.09801197845827,
          1.0987071306378091,
          1.0992533699661513,
          1.099650622408958
         ]
        },
        {
         "hoverinfo": "text",
         "line": {
          "color": "rgba(253,174,97,0.75)",
          "shape": "spline",
          "width": 0.25
         },
         "mode": "lines",
         "text": "King Street Station Plaza<br>2215 partidas",
         "type": "scatter",
         "x": [
          0.027721297374290556,
          0.02172964050761886,
          0.015737338610043717,
          0.009744569559331237,
          0.003751511247113961,
          -0.002241658426388293,
          -0.00823476155765026,
          -0.014227620245121695,
          -0.020220056594509254,
          -0.02621189272405569,
          -0.03220295076982117,
          -0.03819305289096255,
          -0.04418202127501344,
          -0.050169678143160985,
          -0.05615584575552416,
          -0.062140346416429515,
          -0.06812300247968582,
          -0.07410363635385829,
          -0.08008207050753886,
          -0.08605812747461701,
          -0.09203162985954733,
          -0.0980024003426163,
          -0.1039702616852045,
          -0.10993503673504873,
          -0.11589654843150059,
          -0.12185461981078194,
          -0.12780907401123912,
          -0.1337597342785914,
          -0.13970642397117866,
          -0.14564896656520554,
          -0.15158718565998,
          -0.15752090498315058,
          -0.16344994839593882,
          -0.16937413989836753,
          -0.17529330363448611,
          -0.18120726389758945,
          -0.1871158451354345,
          -0.19301887195545103,
          -0.19891616912994892,
          -0.20480756160131838,
          -0.21069287448722723,
          -0.21657193308581213,
          -0.22244456288086406,
          -0.22831058954700972,
          -0.23416983895488497,
          -0.2400221371763046,
          -0.24586731048942478,
          -0.2517051853839009,
          -0.2575355885660367,
          -0.26335834696392924,
          -0.26917328773260635,
          -0.27498023825915696,
          -0.28077902616785627,
          -0.2865694793252809,
          -0.29235142584541934,
          -0.29812469409477516,
          -0.3038891126974604,
          -0.3096445105402833,
          -0.31539071677782804,
          -0.3211275608375257,
          -0.32685487242471783,
          -0.33257248152771196,
          -0.3382802184228273,
          -0.3439779136794333,
          -0.34966539816498005,
          -0.3553425030500173,
          -0.36100905981320697,
          -0.36666490024632564,
          -0.3723098564592569,
          -0.37794376088497683,
          -0.38356644628452585,
          -0.3891777457519748,
          -0.39477749271937823,
          -0.40036552096172057,
          -0.4059416646018484,
          -0.4115057581153956,
          -0.41705763633569676,
          -0.4225971344586894,
          -0.4281240880478074,
          -0.4336383330388606,
          -0.43913970574490585,
          -0.44462804286110613,
          -0.45010318146957756,
          -0.45556495904422567,
          -0.4610132134555701,
          -0.46644778297555733,
          -0.4718685062823612,
          -0.4772752224651714,
          -0.4826677710289718,
          -0.48804599189930176,
          -0.49340972542701006,
          -0.49875881239299297,
          -0.504093094012921,
          -0.5094124119419523,
          -0.5147166082794326,
          -0.5200055255735828,
          -0.5252790068261731,
          -0.5305368954971821,
          -0.5357790355094459,
          -0.5410052712532888
         ],
         "y": [
          1.0996506398269799,
          1.099785353022766,
          1.0998874197723478,
          1.0999568370459378,
          1.0999936027829267,
          1.0999977158919467,
          1.0999691762509025,
          1.0999079847069757,
          1.0998141430765995,
          1.0996876541454044,
          1.099528521668136,
          1.0993367503685432,
          1.0991123459392376,
          1.0988553150415263,
          1.0985656653052116,
          1.0982434053283663,
          1.0978885446770783,
          1.0975010938851657,
          1.097081064453865,
          1.0966284688514896,
          1.0961433205130593,
          1.0956256338399013,
          1.095075424199224,
          1.0944927079236588,
          1.0938775023107776,
          1.093229825622577,
          1.092549697084938,
          1.0918371368870545,
          1.0910921661808344,
          1.0903148070802706,
          1.0895050826607864,
          1.0886630169585487,
          1.087788634969756,
          1.0868819626498953,
          1.0859430269129722,
          1.0849718556307115,
          1.0839684776317309,
          1.0829329227006839,
          1.0818652215773763,
          1.0807654059558542,
          1.079633508483462,
          1.0784695627598744,
          1.0772736033360986,
          1.0760456657134478,
          1.0747857863424894,
          1.0734940026219613,
          1.072170352897662,
          1.0708148764613128,
          1.0694276135493908,
          1.068008605341936,
          1.0665578939613263,
          1.06507552247103,
          1.0635615348743253,
          1.062015976112995,
          1.0604388920659928,
          1.0588303295480805,
          1.0571903363084392,
          1.0555189610292506,
          1.0538162533242539,
          1.0520822637372713,
          1.0503170437407086,
          1.0485206457340266,
          1.0466931230421859,
          1.0448345299140647,
          1.0429449215208473,
          1.0410243539543869,
          1.039072884225541,
          1.0370905702624782,
          1.0350774709089594,
          1.0330336459225902,
          1.0309591559730484,
          1.0288540626402811,
          1.026718428412679,
          1.0245523166852195,
          1.022355791757586,
          1.020128918832259,
          1.0178717640125803,
          1.015584394300791,
          1.0132668775960425,
          1.0109192826923812,
          1.008541679276706,
          1.0061341379266993,
          1.0036967301087338,
          1.001229528175749,
          0.9987326053651042,
          0.9962060357964047,
          0.9936498944693013,
          0.9910642572612642,
          0.9884492009253305,
          0.9858048030878258,
          0.98313114224606,
          0.9804282977659975,
          0.9776963498799004,
          0.9749353796839475,
          0.972145469135827,
          0.9693267010523037,
          0.9664791591067597,
          0.9636029278267124,
          0.9606980925913031,
          0.9577647396287648
         ]
        },
        {
         "hoverinfo": "text",
         "line": {
          "color": "rgba(254,224,139,0.75)",
          "shape": "spline",
          "width": 0.25
         },
         "mode": "lines",
         "text": "Lake Union Park<br>1496 partidas",
         "type": "scatter",
         "x": [
          -0.5410058730345159,
          -0.5445265669170704,
          -0.5480398874830977,
          -0.5515457871594825,
          -0.5550442184735959,
          -0.5585351340539356,
          -0.5620184866307681,
          -0.5654942290367693,
          -0.5689623142076633,
          -0.5724226951828575,
          -0.5758753251060819,
          -0.5793201572260205,
          -0.5827571448969467,
          -0.5861862415793538,
          -0.5896074008405839,
          -0.5930205763554597,
          -0.5964257219069097,
          -0.5998227913865933,
          -0.6032117387955275,
          -0.6065925182447084,
          -0.6099650839557316,
          -0.6133293902614141,
          -0.616685391606412,
          -0.620033042547836,
          -0.6233722977558689,
          -0.6267031120143772,
          -0.6300254402215253,
          -0.6333392373903856,
          -0.6366444586495464,
          -0.6399410592437214,
          -0.6432289945343549,
          -0.6465082200002252,
          -0.6497786912380497,
          -0.6530403639630846,
          -0.656293194009724,
          -0.6595371373320996,
          -0.6627721500046766,
          -0.6659981882228472,
          -0.6692152083035253,
          -0.6724231666857383,
          -0.6756220199312138,
          -0.6788117247249726,
          -0.6819922378759116,
          -0.6851635163173891,
          -0.6883255171078102,
          -0.6914781974312049,
          -0.6946215145978107,
          -0.6977554260446499,
          -0.7008798893361042,
          -0.7039948621644923,
          -0.7071003023506406,
          -0.7101961678444542,
          -0.713282416725488,
          -0.7163590072035135,
          -0.7194258976190836,
          -0.7224830464440983,
          -0.7255304122823667,
          -0.728567953870166,
          -0.7315956300768031,
          -0.734613399905168,
          -0.7376212224922922,
          -0.7406190571099011,
          -0.7436068631649629,
          -0.7465846002002424,
          -0.7495522278948464,
          -0.7525097060647691,
          -0.7554569946634384,
          -0.7583940537822567,
          -0.7613208436511408,
          -0.7642373246390622,
          -0.7671434572545827,
          -0.7700392021463878,
          -0.7729245201038225,
          -0.7757993720574206,
          -0.7786637190794322,
          -0.781517522384354,
          -0.7843607433294529,
          -0.7871933434152878,
          -0.790015284286234,
          -0.7928265277309996,
          -0.7956270356831452,
          -0.7984167702215984,
          -0.801195693571166,
          -0.8039637681030483,
          -0.8067209563353466,
          -0.8094672209335704,
          -0.8122025247111448,
          -0.8149268306299132,
          -0.8176401018006373,
          -0.8203423014834993,
          -0.8230333930885969,
          -0.8257133401764407,
          -0.8283821064584469,
          -0.8310396557974276,
          -0.8336859522080818,
          -0.8363209598574824,
          -0.8389446430655599,
          -0.8415569663055873,
          -0.8441578942046608,
          -0.8467473915441771
         ],
         "y": [
          0.9577643997049387,
          0.9557671358241553,
          0.9537569301072018,
          0.9517338097738395,
          0.9496978022187034,
          0.9476489350109313,
          0.9455872358937917,
          0.9435127327843065,
          0.9414254537728733,
          0.9393254271228867,
          0.9372126812703532,
          0.9350872448235078,
          0.9329491465624261,
          0.9307984154386338,
          0.928635080574717,
          0.9264591712639249,
          0.9242707169697749,
          0.922069747325654,
          0.9198562921344161,
          0.9176303813679795,
          0.9153920451669205,
          0.9131413138400661,
          0.9108782178640822,
          0.9086027878830626,
          0.9063150547081122,
          0.9040150493169321,
          0.9017028028533977,
          0.8993783466271383,
          0.8970417121131137,
          0.8946929309511862,
          0.8923320349456939,
          0.8899590560650196,
          0.8875740264411569,
          0.8851769783692763,
          0.8827679443072879,
          0.8803469568754011,
          0.877914048855683,
          0.8754692531916156,
          0.8730126029876484,
          0.8705441315087502,
          0.8680638721799604,
          0.865571858585934,
          0.8630681244704882,
          0.8605527037361459,
          0.858025630443675,
          0.8554869388116291,
          0.8529366632158825,
          0.8503748381891655,
          0.8478014984205975,
          0.8452166787552159,
          0.8426204141935044,
          0.8400127398909211,
          0.8373936911574195,
          0.8347633034569718,
          0.8321216124070904,
          0.8294686537783421,
          0.8268044634938657,
          0.8241290776288869,
          0.8214425324102264,
          0.8187448642158129,
          0.8160361095741882,
          0.8133163051640127,
          0.8105854878135706,
          0.8078436945002693,
          0.8050909623501388,
          0.8023273286373305,
          0.7995528307836111,
          0.7967675063578556,
          0.793971393075541,
          0.7911645287982322,
          0.7883469515330713,
          0.7855186994322635,
          0.7826798107925588,
          0.7798303240547344,
          0.7769702778030748,
          0.7740997107648477,
          0.7712186618097804,
          0.7683271699495345,
          0.765425274337176,
          0.7625130142666462,
          0.7595904291722292,
          0.7566575586280174,
          0.7537144423473776,
          0.7507611201824107,
          0.7477976321234135,
          0.7448240182983378,
          0.7418403189722451,
          0.7388465745467627,
          0.7358428255595373,
          0.7328291126836841,
          0.7298054767272382,
          0.7267719586326,
          0.7237285994759821,
          0.7206754404668535,
          0.7176125229473801,
          0.7145398883918653,
          0.7114575784061904,
          0.7083656347272479,
          0.7052640992223785,
          0.7021530138888049
         ]
        },
        {
         "hoverinfo": "text",
         "line": {
          "color": "rgba(255,255,191,0.75)",
          "shape": "spline",
          "width": 0.25
         },
         "mode": "lines",
         "text": "E Pine St & 16th Ave<br>439 partidas",
         "type": "scatter",
         "x": [
          -0.8467478327197598,
          -0.8475055405255475,
          -0.848262260121789,
          -0.8490179906261324,
          -0.8497727311573807,
          -0.85052648083549,
          -0.8512792387815721,
          -0.8520310041178951,
          -0.8527817759678843,
          -0.8535315534561243,
          -0.8542803357083584,
          -0.8550281218514902,
          -0.8557749110135855,
          -0.8565207023238715,
          -0.8572654949127404,
          -0.8580092879117479,
          -0.8587520804536154,
          -0.859493871672231,
          -0.86023466070265,
          -0.8609744466810971,
          -0.8617132287449659,
          -0.8624510060328205,
          -0.8631877776843971,
          -0.8639235428406039,
          -0.8646583006435237,
          -0.8653920502364126,
          -0.8661247907637032,
          -0.8668565213710042,
          -0.867587241205102,
          -0.8683169494139622,
          -0.8690456451467292,
          -0.869773327553728,
          -0.8704999957864659,
          -0.8712256489976312,
          -0.871950286341098,
          -0.8726739069719229,
          -0.8733965100463493,
          -0.8741180947218063,
          -0.8748386601569106,
          -0.8755582055114678,
          -0.8762767299464729,
          -0.8769942326241106,
          -0.8777107127077577,
          -0.8784261693619828,
          -0.8791406017525487,
          -0.8798540090464119,
          -0.8805663904117239,
          -0.8812777450178327,
          -0.8819880720352845,
          -0.8826973706358223,
          -0.8834056399923887,
          -0.8841128792791269,
          -0.8848190876713798,
          -0.8855242643456946,
          -0.8862284084798199,
          -0.8869315192527082,
          -0.8876335958445176,
          -0.8883346374366117,
          -0.8890346432115611,
          -0.8897336123531445,
          -0.8904315440463484,
          -0.8911284374773698,
          -0.8918242918336158,
          -0.8925191063037059,
          -0.8932128800774715,
          -0.8939056123459571,
          -0.8945973023014225,
          -0.8952879491373422,
          -0.8959775520484077,
          -0.8966661102305268,
          -0.8973536228808262,
          -0.8980400891976515,
          -0.898725508380568,
          -0.8994098796303627,
          -0.9000932021490442,
          -0.9007754751398435,
          -0.9014566978072158,
          -0.9021368693568409,
          -0.9028159889956247,
          -0.9034940559316986,
          -0.9041710693744226,
          -0.904847028534384,
          -0.9055219326234005,
          -0.9061957808545194,
          -0.9068685724420191,
          -0.9075403066014106,
          -0.9082109825494373,
          -0.9088805995040765,
          -0.9095491566845411,
          -0.9102166533112788,
          -0.9108830886059742,
          -0.9115484617915499,
          -0.9122127720921659,
          -0.9128760187332231,
          -0.9135382009413612,
          -0.9141993179444617,
          -0.9148593689716482,
          -0.9155183532532868,
          -0.916176270020988,
          -0.916833118507607
         ],
         "y": [
          0.7021524818615896,
          0.7012377334246209,
          0.7003221673294904,
          0.6994057846437681,
          0.6984885864359747,
          0.6975705737755837,
          0.6966517477330171,
          0.6957321093796459,
          0.6948116597877882,
          0.6938904000307075,
          0.6929683311826123,
          0.6920454543186548,
          0.6911217705149288,
          0.6901972808484703,
          0.6892719863972526,
          0.6883458882401895,
          0.6874189874571311,
          0.6864912851288636,
          0.685562782337108,
          0.6846334801645176,
          0.6837033796946791,
          0.6827724820121092,
          0.6818407882022547,
          0.6809082993514908,
          0.6799750165471184,
          0.679040940877366,
          0.6781060734313855,
          0.6771704152992523,
          0.6762339675719642,
          0.6752967313414384,
          0.6743587077005126,
          0.6734198977429428,
          0.672480302563401,
          0.6715399232574758,
          0.6705987609216688,
          0.6696568166533957,
          0.6687140915509837,
          0.6677705867136703,
          0.6668263032416025,
          0.6658812422358347,
          0.6649354047983281,
          0.6639887920319495,
          0.6630414050404697,
          0.6620932449285624,
          0.6611443128018017,
          0.6601946097666633,
          0.6592441369305211,
          0.658292895401647,
          0.6573408862892084,
          0.6563881107032682,
          0.6554345697547835,
          0.6544802645556033,
          0.653525196218468,
          0.6525693658570071,
          0.6516127745857395,
          0.6506554235200711,
          0.6496973137762936,
          0.6487384464715837,
          0.6477788227240007,
          0.6468184436524864,
          0.6458573103768634,
          0.6448954240178337,
          0.6439327856969778,
          0.6429693965367514,
          0.6420052576604875,
          0.6410403701923925,
          0.6400747352575458,
          0.6391083539818988,
          0.6381412274922718,
          0.6371733569163552,
          0.636204743382707,
          0.6352353880207512,
          0.6342652919607772,
          0.6332944563339368,
          0.6323228822722455,
          0.6313505709085797,
          0.6303775233766747,
          0.6294037408111255,
          0.6284292243473822,
          0.6274539751217526,
          0.6264779942713977,
          0.6255012829343323,
          0.6245238422494229,
          0.6235456733563854,
          0.6225667773957861,
          0.6215871555090386,
          0.6206068088384027,
          0.6196257385269842,
          0.6186439457187312,
          0.6176614315584352,
          0.616678197191729,
          0.6156942437650846,
          0.6147095724258133,
          0.613724184322062,
          0.6127380806028145,
          0.6117512624178892,
          0.6107637309179367,
          0.6097754872544405,
          0.6087865325797128,
          0.6077968680468965
         ]
        },
        {
         "hoverinfo": "text",
         "line": {
          "color": "rgba(230,245,152,0.75)",
          "shape": "spline",
          "width": 0.25
         },
         "mode": "lines",
         "text": "2nd Ave & Pine St<br>3239 partidas",
         "type": "scatter",
         "x": [
          -0.916833500397461,
          -0.9216467433321074,
          -0.9264014849009573,
          -0.9310974232976215,
          -0.9357342604482322,
          -0.9403117020303615,
          -0.9448294574917064,
          -0.9492872400685294,
          -0.953684766803861,
          -0.9580217585654613,
          -0.9622979400635367,
          -0.9665130398682149,
          -0.9706667904267732,
          -0.9747589280806214,
          -0.9787891930820378,
          -0.9827573296106566,
          -0.986663085789706,
          -0.9905062137019954,
          -0.9942864694056535,
          -0.9980036129496105,
          -1.00165740838883,
          -1.0052476237992862,
          -1.0087740312926838,
          -1.012236407030924,
          -1.0156345312403126,
          -1.0189681882255097,
          -1.0222371663832217,
          -1.025441258215632,
          -1.0285802603435716,
          -1.03165397351943,
          -1.0346622026398005,
          -1.0376047567578666,
          -1.0404814490955203,
          -1.0432920970552186,
          -1.0460365222315742,
          -1.0487145504226787,
          -1.0513260116411616,
          -1.0538707401249785,
          -1.0563485743479346,
          -1.0587593570299356,
          -1.0611029351469727,
          -1.0633791599408353,
          -1.065587886928552,
          -1.0677289759115645,
          -1.0698022909846234,
          -1.0718077005444178,
          -1.0737450772979262,
          -1.0756142982704986,
          -1.0774152448136605,
          -1.0791478026126453,
          -1.0808118616936495,
          -1.0824073164308143,
          -1.0839340655529293,
          -1.0853920121498613,
          -1.0867810636787045,
          -1.0881011319696567,
          -1.0893521332316138,
          -1.0905339880574898,
          -1.0916466214292562,
          -1.0926899627227042,
          -1.0936639457119282,
          -1.094568508573528,
          -1.0954035938905342,
          -1.0961691486560525,
          -1.096865124276628,
          -1.0974914765753303,
          -1.0980481657945562,
          -1.0985351565985553,
          -1.0989524180756716,
          -1.0992999237403054,
          -1.0995776515345959,
          -1.0997855838298196,
          -1.0999237074275108,
          -1.0999920135602979,
          -1.0999904978924613,
          -1.0999191605202077,
          -1.0997780059716642,
          -1.0995670432065914,
          -1.0992862856158137,
          -1.09893575102037,
          -1.0985154616703825,
          -1.0980254442436443,
          -1.0974657298439254,
          -1.096836353999,
          -1.0961373566583894,
          -1.0953687821908273,
          -1.094530679381444,
          -1.0936231014286686,
          -1.0926461059408528,
          -1.0915997549326142,
          -1.0904841148209001,
          -1.0892992564207713,
          -1.0880452549409076,
          -1.0867221899788337,
          -1.0853301455158662,
          -1.0838692099117841,
          -1.0823394758992193,
          -1.0807410405777707,
          -1.0790740054078403,
          -1.0773384762041944
         ],
         "y": [
          0.6077962919835387,
          0.6004725476700169,
          0.5931106884665809,
          0.5857111816659556,
          0.5782744969505401,
          0.570801106362597,
          0.5632914842742857,
          0.5557461073575545,
          0.5481654545538831,
          0.5405500070438823,
          0.5329002482167503,
          0.5252166636395905,
          0.5174997410265892,
          0.5097499702080602,
          0.5019678430993498,
          0.4941538536696151,
          0.48630849791046793,
          0.47843227380449255,
          0.47052568129363637,
          0.46258922224747573,
          0.4546234004313596,
          0.4466287214744353,
          0.4386056928375503,
          0.43055482378104387,
          0.42247662533242103,
          0.4143716102539149,
          0.4062402930099397,
          0.3980831897344345,
          0.38990081819810374,
          0.3816936977755486,
          0.3734623494123022,
          0.3652072955917618,
          0.35692906030202465,
          0.34862816900262733,
          0.34030514859119293,
          0.3319605273699857,
          0.3235948350123785,
          0.31520860252923,
          0.3068023622351797,
          0.2983766477148598,
          0.2899319937890254,
          0.2814689364806066,
          0.2729880129806865,
          0.2644897616144,
          0.255974721806766,
          0.24744343404844654,
          0.2388964398614396,
          0.23033428176470594,
          0.22175750323973287,
          0.21316664869603677,
          0.2045622634366065,
          0.19594489362329195,
          0.18731508624213405,
          0.1786733890686466,
          0.17002035063304588,
          0.16135652018543273,
          0.15268244766092867,
          0.14399868364477073,
          0.1353057793373601,
          0.126604286519277,
          0.11789475751625572,
          0.1091777451641261,
          0.10045380277372216,
          0.09172348409576096,
          0.08298734328569327,
          0.07424593486852814,
          0.06549981370363661,
          0.05674953494952904,
          0.047995654028618544,
          0.039238726591965124,
          0.030479308484005867,
          0.021717955707272266,
          0.01295522438710006,
          0.0041916707363263235,
          -0.004572148980014095,
          -0.013335678479997877,
          -0.022098361500123134,
          -0.03085964183061815,
          -0.039618963350746675,
          -0.04837577006410762,
          -0.05712950613392678,
          -0.06587961591833905,
          -0.07462554400565566,
          -0.0833667352496218,
          -0.09210263480465249,
          -0.10083268816105173,
          -0.10955634118021053,
          -0.11827304012977864,
          -0.1269822317188157,
          -0.13568336313290916,
          -0.14437588206926474,
          -0.1530592367717637,
          -0.16173287606598535,
          -0.1703962493941929,
          -0.17904880685027996,
          -0.1876899992146757,
          -0.196319277989207,
          -0.20493609543191235,
          -0.21353990459181252,
          -0.2221301593436262
         ]
        },
        {
         "hoverinfo": "text",
         "line": {
          "color": "rgba(171,221,164,0.75)",
          "shape": "spline",
          "width": 0.25
         },
         "mode": "lines",
         "text": "Pier 69<br>7898 partidas",
         "type": "scatter",
         "x": [
          -1.0773383366354863,
          -1.0728199527554534,
          -1.0678966856688532,
          -1.0625703934210726,
          -1.056843086159555,
          -1.0507169253751665,
          -1.044194223086448,
          -1.0372774409670584,
          -1.0299691894167362,
          -1.022272226576131,
          -1.0141894572858807,
          -1.005723931990321,
          -0.9968788455862456,
          -0.9876575362171486,
          -0.978063484013406,
          -0.9681003097788728,
          -0.9577717736243873,
          -0.9470817735487013,
          -0.9360343439673736,
          -0.924633654190177,
          -0.9128840068475964,
          -0.9007898362670136,
          -0.888355706799188,
          -0.8755863110956646,
          -0.8624864683377664,
          -0.8490611224178279,
          -0.8353153400733678,
          -0.8212543089748973,
          -0.8068833357680881,
          -0.7922078440710394,
          -0.7772333724274012,
          -0.7619655722161205,
          -0.7464102055186085,
          -0.730573142944124,
          -0.714460361414201,
          -0.698077941906954,
          -0.6814320671621081,
          -0.6645290193476321,
          -0.6473751776888399,
          -0.6299770160608661,
          -0.6123411005454198,
          -0.5944740869527371,
          -0.5763827183096765,
          -0.5580738223148922,
          -0.5395543087620548,
          -0.5208311669320886,
          -0.5019114629554127,
          -0.48280233714517234,
          -0.4635110013024849,
          -0.4440447359946951,
          -0.4244108878076839,
          -0.4046168665732612,
          -0.384670142572685,
          -0.3645782437173761,
          -0.3443487527078742,
          -0.3239893041721202,
          -0.3035075817841417,
          -0.2829113153642269,
          -0.2622082779616849,
          -0.24140628292128571,
          -0.2205131809345032,
          -0.19953685707665292,
          -0.17848522783105977,
          -0.15736623810136618,
          -0.1361878582131243,
          -0.11495808090578404,
          -0.0936849183162271,
          -0.07237639895497941,
          -0.051040564676243995,
          -0.0296854676428991,
          -0.008319167287600793,
          0.013050272728848225,
          0.034414787560735315,
          0.05576631422111689,
          0.07709679462479589,
          0.09839817862945421,
          0.11966242707377779,
          0.14088151481144706,
          0.16204743373983344,
          0.18315219582226436,
          0.20418783610271543,
          0.22514641571179106,
          0.24602002486286445,
          0.2668007858372327,
          0.28748085595717837,
          0.3080524305458015,
          0.32850774587251497,
          0.3488390820830781,
          0.36903876611308,
          0.3890991745837602,
          0.40901273667907834,
          0.4287719370029471,
          0.4483693184155485,
          0.4677974848476685,
          0.4870491040919749,
          0.5061169105702025,
          0.5249937080751869,
          0.5436723724867232,
          0.5621458544602099,
          0.5804071820870818
         ],
         "y": [
          -0.22213083625531063,
          -0.24301717834298667,
          -0.2638118055309106,
          -0.28450686990824475,
          -0.3050945611392433,
          -0.3255671094108818,
          -0.3459167883651925,
          -0.3661359180151963,
          -0.38621686764333785,
          -0.40615205868132664,
          -0.4259339675702927,
          -0.44555512860018576,
          -0.465008136727342,
          -0.4842856503691515,
          -0.5033803941747812,
          -0.5222851617708957,
          -0.5409928184813506,
          -0.559496304019827,
          -0.5777886351543865,
          -0.5958629083429512,
          -0.6137123023387081,
          -0.63133008076445,
          -0.6487095946548929,
          -0.6658442849660017,
          -0.6827276850503772,
          -0.699353423097777,
          -0.7157152245398402,
          -0.7318069144181163,
          -0.7476224197144993,
          -0.7631557716431919,
          -0.7784011079033282,
          -0.793352674891413,
          -0.8080048298727358,
          -0.8223520431109445,
          -0.8363888999549728,
          -0.8501101028825334,
          -0.8635104734994107,
          -0.876584954493787,
          -0.8893286115448794,
          -0.9017366351851562,
          -0.9138043426154333,
          -0.9255271794721698,
          -0.9369007215462843,
          -0.9479206764528593,
          -0.9585828852510885,
          -0.9688833240138665,
          -0.9788181053464212,
          -0.9883834798534219,
          -0.9975758375540017,
          -1.0063917092441699,
          -1.0148277678060913,
          -1.0228808294637435,
          -1.0305478549844789,
          -1.0378259508260301,
          -1.0447123702285388,
          -1.051204514251183,
          -1.057299932753021,
          -1.0629963253176764,
          -1.0682915421215164,
          -1.0731835847449998,
          -1.0776706069268787,
          -1.0817509152609817,
          -1.0854229698353057,
          -1.088685384813181,
          -1.0915369289562868,
          -1.0939765260893213,
          -1.0960032555061512,
          -1.0976163523172884,
          -1.098815207738558,
          -1.0995993693208552,
          -1.0999685411209,
          -1.0999225838129258,
          -1.0994615147412616,
          -1.0985855079137863,
          -1.0972948939362575,
          -1.0955901598875404,
          -1.0934719491357852,
          -1.0909410610956178,
          -1.0879984509264407,
          -1.0846452291719553,
          -1.0808826613410407,
          -1.076712167430151,
          -1.0721353213874059,
          -1.0671538505185816,
          -1.0617696348352257,
          -1.0559847063451364,
          -1.0498012482854835,
          -1.0432215942988508,
          -1.0362482275525182,
          -1.028883779801313,
          -1.0211310303943815,
          -1.0129929052262612,
          -1.004472475632646,
          -0.9955729572312596,
          -0.9862977087082808,
          -0.9766502305507708,
          -0.9666341637255874,
          -0.9562532883052784,
          -0.9455115220414824,
          -0.9344129188863632
         ]
        },
        {
         "hoverinfo": "text",
         "line": {
          "color": "rgba(102,194,165,0.75)",
          "shape": "spline",
          "width": 0.25
         },
         "mode": "lines",
         "text": "Burke-Gilman Trail<br>941 partidas",
         "type": "scatter",
         "x": [
          0.5804077691959193,
          0.5825690226635398,
          0.5847271550384819,
          0.5868821547586285,
          0.5890340102786459,
          0.5911827100700442,
          0.5933282426212431,
          0.5954705964376278,
          0.5976097600416144,
          0.5997457219727107,
          0.6018784707875768,
          0.6040079950600876,
          0.606134283381393,
          0.6082573243599787,
          0.6103771066217301,
          0.6124936188099888,
          0.6146068495856168,
          0.6167167876270558,
          0.6188234216303882,
          0.6209267403093978,
          0.6230267323956302,
          0.625123386638452,
          0.6272166918051149,
          0.6293066366808107,
          0.6313932100687342,
          0.6334764007901436,
          0.6355561976844191,
          0.6376325896091233,
          0.6397055654400606,
          0.6417751140713368,
          0.6438412244154205,
          0.6459038854031988,
          0.6479630859840394,
          0.6500188151258488,
          0.6520710618151319,
          0.6541198150570503,
          0.6561650638754821,
          0.6582067973130798,
          0.660245004431329,
          0.6622796743106096,
          0.6643107960502499,
          0.6663383587685875,
          0.668362351603028,
          0.6703827637101024,
          0.6723995842655249,
          0.6744128024642518,
          0.6764224075205378,
          0.6784283886679975,
          0.6804307351596578,
          0.6824294362680189,
          0.6844244812851117,
          0.6864158595225532,
          0.6884035603116067,
          0.6903875730032356,
          0.6923678869681625,
          0.694344491596928,
          0.6963173762999425,
          0.698286530507547,
          0.7002519436700682,
          0.7022136052578755,
          0.7041715047614374,
          0.7061256316913771,
          0.7080759755785297,
          0.7100225259739971,
          0.7119652724492064,
          0.7139042045959624,
          0.7158393120265055,
          0.7177705843735669,
          0.7196980112904242,
          0.7216215824509566,
          0.7235412875497007,
          0.7254571163019043,
          0.727369058443585,
          0.7292771037315804,
          0.7311812419436061,
          0.73308146287831,
          0.7349777563553267,
          0.7368701122153313,
          0.7387585203200953,
          0.7406429705525391,
          0.7425234528167897,
          0.7443999570382297,
          0.7462724731635552,
          0.7481409911608279,
          0.7500055010195296,
          0.7518659927506155,
          0.7537224563865679,
          0.7555748819814483,
          0.7574232596109547,
          0.7592675793724691,
          0.7611078313851148,
          0.7629440057898073,
          0.7647760927493079,
          0.7666040824482764,
          0.7684279650933235,
          0.7702477309130632,
          0.7720633701581645,
          0.7738748731014067,
          0.775682230037727,
          0.7774854312842749
         ],
         "y": [
          -0.9344125542055911,
          -0.9330666288282141,
          -0.9317157045797839,
          -0.9303597886978292,
          -0.9289988884466205,
          -0.9276330111171326,
          -0.9262621640270035,
          -0.9248863545204979,
          -0.9235055899684659,
          -0.9221198777683042,
          -0.9207292253439163,
          -0.9193336401456728,
          -0.9179331296503712,
          -0.9165277013611972,
          -0.9151173628076812,
          -0.9137021215456622,
          -0.9122819851572446,
          -0.9108569612507582,
          -0.9094270574607174,
          -0.9079922814477807,
          -0.9065526408987092,
          -0.9051081435263261,
          -0.9036587970694734,
          -0.9022046092929732,
          -0.9007455879875845,
          -0.8992817409699618,
          -0.897813076082613,
          -0.8963396011938576,
          -0.8948613241977845,
          -0.8933782530142106,
          -0.8918903955886354,
          -0.8903977598922022,
          -0.8889003539216533,
          -0.8873981856992879,
          -0.8858912632729181,
          -0.884379594715827,
          -0.8828631881267248,
          -0.8813420516297055,
          -0.8798161933742038,
          -0.8782856215349497,
          -0.8767503443119276,
          -0.8752103699303301,
          -0.873665706640515,
          -0.8721163627179606,
          -0.8705623464632212,
          -0.8690036662018833,
          -0.8674403302845214,
          -0.8658723470866504,
          -0.8642997250086847,
          -0.8627224724758907,
          -0.8611405979383425,
          -0.8595541098708762,
          -0.8579630167730451,
          -0.856367327169073,
          -0.8547670496078109,
          -0.853162192662687,
          -0.8515527649316657,
          -0.8499387750371981,
          -0.8483202316261778,
          -0.8466971433698928,
          -0.8450695189639803,
          -0.8434373671283801,
          -0.841800696607287,
          -0.8401595161691051,
          -0.8385138346063991,
          -0.8368636607358491,
          -0.8352090033982029,
          -0.833549871458228,
          -0.8318862738046642,
          -0.8302182193501763,
          -0.8285457170313063,
          -0.8268687758084262,
          -0.8251874046656874,
          -0.8235016126109761,
          -0.8218114086758628,
          -0.8201168019155546,
          -0.8184178014088467,
          -0.8167144162580732,
          -0.8150066555890594,
          -0.8132945285510722,
          -0.8115780443167699,
          -0.8098572120821559,
          -0.808132041066527,
          -0.8064025405124257,
          -0.8046687196855887,
          -0.8029305878748995,
          -0.8011881543923366,
          -0.7994414285729259,
          -0.7976904197746871,
          -0.7959351373785877,
          -0.7941755907884904,
          -0.792411789431103,
          -0.7906437427559281,
          -0.7888714602352126,
          -0.7870949513638962,
          -0.7853142256595621,
          -0.7835292926623849,
          -0.7817401619350779,
          -0.7799468430628456,
          -0.7781493456533296
         ]
        },
        {
         "hoverinfo": "text",
         "line": {
          "color": "rgba(50,136,189,0.75)",
          "shape": "spline",
          "width": 0.25
         },
         "mode": "lines",
         "text": "3rd Ave & Broad St<br>3227 partidas",
         "type": "scatter",
         "x": [
          0.777485920209775,
          0.7836380069407067,
          0.7897407202695801,
          0.7957936756926863,
          0.8017964918413344,
          0.8077487905058762,
          0.8136501966595346,
          0.8195003384820367,
          0.8252988473830346,
          0.8310453580253345,
          0.8367395083479112,
          0.8423809395887194,
          0.8479692963073008,
          0.8535042264071769,
          0.8589853811580312,
          0.8644124152176854,
          0.8697849866538531,
          0.8751027569656871,
          0.8803653911051053,
          0.885572557497899,
          0.890723928064627,
          0.8958191782412847,
          0.9008579869997515,
          0.9058400368680218,
          0.9107650139502025,
          0.9156326079462939,
          0.9204425121717391,
          0.9251944235767448,
          0.9298880427653783,
          0.9345230740144298,
          0.9390992252920422,
          0.9436162082761154,
          0.9480737383724668,
          0.9524715347327672,
          0.9568093202722329,
          0.9610868216870829,
          0.9653037694717611,
          0.9694598979359156,
          0.9735549452211362,
          0.9775886533174573,
          0.9815607680796095,
          0.9854710392430356,
          0.9893192204396571,
          0.9931050692133957,
          0.9968283470354514,
          1.0004888193193304,
          1.0040862554356236,
          1.0076204287265405,
          1.011091116520187,
          1.014498100144597,
          1.0178411649415091,
          1.0211201002798909,
          1.0243346995692102,
          1.027484760272452,
          1.0305700839188776,
          1.0335904761165315,
          1.0365457465644874,
          1.0394357090648394,
          1.042260181534433,
          1.0450189860163368,
          1.0477119486910553,
          1.0503388998874812,
          1.0528996740935832,
          1.0553941099668371,
          1.05782205034439,
          1.0601833422529607,
          1.062477836918481,
          1.0647053897754666,
          1.0668658604761272,
          1.0689591128992086,
          1.0709850151585683,
          1.0729434396114867,
          1.0748342628667071,
          1.0766573657922127,
          1.07841263352273,
          1.080099955466967,
          1.0817192253145822,
          1.0832703410428801,
          1.0847532049232416,
          1.0861677235272802,
          1.0875138077327289,
          1.088791372729055,
          1.0900003380228043,
          1.0911406274426714,
          1.092212169144301,
          1.0932148956148118,
          1.0941487436770523,
          1.095013654493581,
          1.0958095735703717,
          1.096536450760249,
          1.0971942402660477,
          1.0977829006434967,
          1.0983023948038315,
          1.0987526900161309,
          1.099133757909378,
          1.0994455744742504,
          1.0996881200646296,
          1.0998613793988414,
          1.0999653415606172,
          1.099999999999783
         ],
         "y": [
          -0.7781488571446723,
          -0.7719530258234611,
          -0.7657085573167411,
          -0.7594158450595586,
          -0.7530752855265728,
          -0.7466872782070779,
          -0.7402522255798363,
          -0.7337705330877138,
          -0.7272426091121412,
          -0.7206688649473791,
          -0.714049714774606,
          -0.7073855756358244,
          -0.7006768674075813,
          -0.6939240127745162,
          -0.6871274372027303,
          -0.6802875689129766,
          -0.6734048388536846,
          -0.6664796806738027,
          -0.659512530695479,
          -0.652503827886573,
          -0.6454540138329928,
          -0.638363532710876,
          -0.631232831258606,
          -0.6240623587486599,
          -0.6168525669593081,
          -0.6096039101461446,
          -0.602316845013468,
          -0.5949918306855105,
          -0.5876293286775041,
          -0.5802298028666063,
          -0.5727937194626757,
          -0.5653215469788916,
          -0.557813756202243,
          -0.5502708201638601,
          -0.5426932141092128,
          -0.5350814154681711,
          -0.5274359038249189,
          -0.5197571608877403,
          -0.5120456704586718,
          -0.5043019184030143,
          -0.4965263926187281,
          -0.4887195830056861,
          -0.4808819814348103,
          -0.4730140817170845,
          -0.4651163795724354,
          -0.4571893725985026,
          -0.4492335602392902,
          -0.4412494437536924,
          -0.4332375261839191,
          -0.42519831232379507,
          -0.4171323086869579,
          -0.4090400234749476,
          -0.40092196654518203,
          -0.39277864937883533,
          -0.3846105850486151,
          -0.37641828818642953,
          -0.36820227495096997,
          -0.35996306299518394,
          -0.351701171433663,
          -0.3434171208099381,
          -0.33511143306367763,
          -0.32678463149780484,
          -0.3184372407455296,
          -0.31006978673728847,
          -0.30168279666761066,
          -0.2932767989619051,
          -0.2848523232431602,
          -0.27640990029858176,
          -0.26795006204614485,
          -0.2594733415010821,
          -0.2509802727423042,
          -0.24247139087874325,
          -0.23394723201564568,
          -0.22540833322078804,
          -0.2168552324906417,
          -0.2082884687164792,
          -0.19970858165041516,
          -0.19111611187140218,
          -0.18251160075117417,
          -0.17389559042013134,
          -0.16526862373318588,
          -0.1566312442355622,
          -0.14798399612854368,
          -0.13932742423519315,
          -0.13066207396601898,
          -0.12198849128461438,
          -0.1133072226732617,
          -0.10461881509849422,
          -0.09592381597664212,
          -0.08722277313933557,
          -0.07851623479899124,
          -0.06980474951427487,
          -0.06108886615553344,
          -0.052369133870216106,
          -0.043646102048278054,
          -0.034920320287560036,
          -0.02619233835916373,
          -0.01746270617281611,
          -0.008731973742216325,
          -6.911503848379499e-7
         ]
        },
        {
         "hoverinfo": "text",
         "marker": {
          "color": "rgba(213,62,79,0.75)",
          "size": 0.5
         },
         "mode": "markers",
         "text": "Pine St & 9th Ave ⮌ : 186 viagens ",
         "type": "scatter",
         "x": [
          0.8908208871518246
         ],
         "y": [
          0.12821133730694845
         ]
        },
        {
         "hoverinfo": "text",
         "marker": {
          "color": "rgba(213,62,79,0.75)",
          "size": 0.5
         },
         "mode": "markers",
         "text": "Pine St & 9th Ave ➔ Seattle Aquarium: 36 viagens ",
         "type": "scatter",
         "x": [
          0.89998932609697
         ],
         "y": [
          0.004383253531532917
         ]
        },
        {
         "hoverinfo": "text",
         "marker": {
          "color": "rgba(244,109,67,0.75)",
          "size": 0.5
         },
         "mode": "markers",
         "text": "Seattle Aquarium ➔ Pine St & 9th Ave: 68 viagens ",
         "type": "scatter",
         "x": [
          0.8265118034774824
         ],
         "y": [
          0.3561997174513191
         ]
        },
        {
         "hoverinfo": "text",
         "marker": {
          "color": "rgba(213,62,79,0.75)",
          "size": 0.5
         },
         "mode": "markers",
         "text": "Pine St & 9th Ave ➔ King Street Station Plaza: 42 viagens ",
         "type": "scatter",
         "x": [
          0.8999071117731342
         ],
         "y": [
          0.012930204179976649
         ]
        },
        {
         "hoverinfo": "text",
         "marker": {
          "color": "rgba(253,174,97,0.75)",
          "size": 0.5
         },
         "mode": "markers",
         "text": "King Street Station Plaza ➔ Pine St & 9th Ave: 65 viagens ",
         "type": "scatter",
         "x": [
          0.008547279819032192
         ],
         "y": [
          0.8999594124224132
         ]
        },
        {
         "hoverinfo": "text",
         "marker": {
          "color": "rgba(213,62,79,0.75)",
          "size": 0.5
         },
         "mode": "markers",
         "text": "Pine St & 9th Ave ➔ Lake Union Park: 53 viagens ",
         "type": "scatter",
         "x": [
          0.8993297007443375
         ],
         "y": [
          0.03472879725962917
         ]
        },
        {
         "hoverinfo": "text",
         "marker": {
          "color": "rgba(254,224,139,0.75)",
          "size": 0.5
         },
         "mode": "markers",
         "text": "Lake Union Park ➔ Pine St & 9th Ave: 73 viagens ",
         "type": "scatter",
         "x": [
          -0.46993561875488166
         ],
         "y": [
          0.7675679215714181
         ]
        },
        {
         "hoverinfo": "text",
         "marker": {
          "color": "rgba(213,62,79,0.75)",
          "size": 0.5
         },
         "mode": "markers",
         "text": "Pine St & 9th Ave ➔ E Pine St & 16th Ave: 934 viagens ",
         "type": "scatter",
         "x": [
          0.8651208687749465
         ],
         "y": [
          0.24812473155669484
         ]
        },
        {
         "hoverinfo": "text",
         "marker": {
          "color": "rgba(255,255,191,0.75)",
          "size": 0.5
         },
         "mode": "markers",
         "text": "E Pine St & 16th Ave ➔ Pine St & 9th Ave: 98 viagens ",
         "type": "scatter",
         "x": [
          -0.7142457447382619
         ],
         "y": [
          0.5475883637581114
         ]
        },
        {
         "hoverinfo": "text",
         "marker": {
          "color": "rgba(213,62,79,0.75)",
          "size": 0.5
         },
         "mode": "markers",
         "text": "Pine St & 9th Ave ➔ 2nd Ave & Pine St: 158 viagens ",
         "type": "scatter",
         "x": [
          0.8954081185627876
         ],
         "y": [
          0.09079813440731518
         ]
        },
        {
         "hoverinfo": "text",
         "marker": {
          "color": "rgba(230,245,152,0.75)",
          "size": 0.5
         },
         "mode": "markers",
         "text": "2nd Ave & Pine St ➔ Pine St & 9th Ave: 344 viagens ",
         "type": "scatter",
         "x": [
          -0.845080154606021
         ],
         "y": [
          0.30957960574150173
         ]
        },
        {
         "hoverinfo": "text",
         "marker": {
          "color": "rgba(213,62,79,0.75)",
          "size": 0.5
         },
         "mode": "markers",
         "text": "Pine St & 9th Ave ➔ Pier 69: 52 viagens ",
         "type": "scatter",
         "x": [
          0.8997001861187006
         ],
         "y": [
          0.023228755842177064
         ]
        },
        {
         "hoverinfo": "text",
         "marker": {
          "color": "rgba(171,221,164,0.75)",
          "size": 0.5
         },
         "mode": "markers",
         "text": "Pier 69 ➔ Pine St & 9th Ave: 65 viagens ",
         "type": "scatter",
         "x": [
          -0.8788747512878686
         ],
         "y": [
          -0.19385347958880475
         ]
        },
        {
         "hoverinfo": "text",
         "marker": {
          "color": "rgba(213,62,79,0.75)",
          "size": 0.5
         },
         "mode": "markers",
         "text": "Pine St & 9th Ave ➔ Burke-Gilman Trail: 2 viagens ",
         "type": "scatter",
         "x": [
          0.8999999733151899
         ],
         "y": [
          0.0002191635408299487
         ]
        },
        {
         "hoverinfo": "text",
         "marker": {
          "color": "rgba(102,194,165,0.75)",
          "size": 0.5
         },
         "mode": "markers",
         "text": "Burke-Gilman Trail ➔ Pine St & 9th Ave: 4 viagens ",
         "type": "scatter",
         "x": [
          0.47543747238630124
         ],
         "y": [
          -0.7641722383408894
         ]
        },
        {
         "hoverinfo": "text",
         "marker": {
          "color": "rgba(213,62,79,0.75)",
          "size": 0.5
         },
         "mode": "markers",
         "text": "Pine St & 9th Ave ➔ 3rd Ave & Broad St: 151 viagens ",
         "type": "scatter",
         "x": [
          0.8981897692659561
         ],
         "y": [
          0.0570538200821695
         ]
        },
        {
         "hoverinfo": "text",
         "marker": {
          "color": "rgba(50,136,189,0.75)",
          "size": 0.5
         },
         "mode": "markers",
         "text": "3rd Ave & Broad St ➔ Pine St & 9th Ave: 166 viagens ",
         "type": "scatter",
         "x": [
          0.6497727694262772
         ],
         "y": [
          -0.6227321640256798
         ]
        },
        {
         "hoverinfo": "text",
         "marker": {
          "color": "rgba(244,109,67,0.75)",
          "size": 0.5
         },
         "mode": "markers",
         "text": "Seattle Aquarium ⮌ : 1150 viagens ",
         "type": "scatter",
         "x": [
          0.5955539368661333
         ],
         "y": [
          0.6747707079321462
         ]
        },
        {
         "hoverinfo": "text",
         "marker": {
          "color": "rgba(244,109,67,0.75)",
          "size": 0.5
         },
         "mode": "markers",
         "text": "Seattle Aquarium ➔ King Street Station Plaza: 181 viagens ",
         "type": "scatter",
         "x": [
          0.7929303110634395
         ],
         "y": [
          0.4257481905972556
         ]
        },
        {
         "hoverinfo": "text",
         "marker": {
          "color": "rgba(253,174,97,0.75)",
          "size": 0.5
         },
         "mode": "markers",
         "text": "King Street Station Plaza ➔ Seattle Aquarium: 215 viagens ",
         "type": "scatter",
         "x": [
          -0.07814287578407306
         ],
         "y": [
          0.8966011883575635
         ]
        },
        {
         "hoverinfo": "text",
         "marker": {
          "color": "rgba(244,109,67,0.75)",
          "size": 0.5
         },
         "mode": "markers",
         "text": "Seattle Aquarium ➔ Lake Union Park: 70 viagens ",
         "type": "scatter",
         "x": [
          0.8204103493033605
         ],
         "y": [
          0.37003629383607495
         ]
        },
        {
         "hoverinfo": "text",
         "marker": {
          "color": "rgba(254,224,139,0.75)",
          "size": 0.5
         },
         "mode": "markers",
         "text": "Lake Union Park ➔ Seattle Aquarium: 17 viagens ",
         "type": "scatter",
         "x": [
          -0.44426222819877836
         ],
         "y": [
          0.7827075268552466
         ]
        },
        {
         "hoverinfo": "text",
         "marker": {
          "color": "rgba(244,109,67,0.75)",
          "size": 0.5
         },
         "mode": "markers",
         "text": "Seattle Aquarium ➔ E Pine St & 16th Ave: 23 viagens ",
         "type": "scatter",
         "x": [
          0.8304076635545531
         ],
         "y": [
          0.3470203341446554
         ]
        },
        {
         "hoverinfo": "text",
         "marker": {
          "color": "rgba(255,255,191,0.75)",
          "size": 0.5
         },
         "mode": "markers",
         "text": "E Pine St & 16th Ave ➔ Seattle Aquarium: 2 viagens ",
         "type": "scatter",
         "x": [
          -0.6929335567439526
         ],
         "y": [
          0.5743196722542032
         ]
        },
        {
         "hoverinfo": "text",
         "marker": {
          "color": "rgba(244,109,67,0.75)",
          "size": 0.5
         },
         "mode": "markers",
         "text": "Seattle Aquarium ➔ 2nd Ave & Pine St: 158 viagens ",
         "type": "scatter",
         "x": [
          0.8098230776170884
         ],
         "y": [
          0.3926659941461539
         ]
        },
        {
         "hoverinfo": "text",
         "marker": {
          "color": "rgba(230,245,152,0.75)",
          "size": 0.5
         },
         "mode": "markers",
         "text": "2nd Ave & Pine St ➔ Seattle Aquarium: 137 viagens ",
         "type": "scatter",
         "x": [
          -0.7748540524109921
         ],
         "y": [
          0.45782223347306256
         ]
        },
        {
         "hoverinfo": "text",
         "marker": {
          "color": "rgba(244,109,67,0.75)",
          "size": 0.5
         },
         "mode": "markers",
         "text": "Seattle Aquarium ➔ Pier 69: 2291 viagens ",
         "type": "scatter",
         "x": [
          0.26953514672515516
         ],
         "y": [
          0.8586913325985357
         ]
        },
        {
         "hoverinfo": "text",
         "marker": {
          "color": "rgba(171,221,164,0.75)",
          "size": 0.5
         },
         "mode": "markers",
         "text": "Pier 69 ➔ Seattle Aquarium: 1605 viagens ",
         "type": "scatter",
         "x": [
          -0.5550371947960259
         ],
         "y": [
          -0.7084728028604615
         ]
        },
        {
         "hoverinfo": "text",
         "marker": {
          "color": "rgba(244,109,67,0.75)",
          "size": 0.5
         },
         "mode": "markers",
         "text": "Seattle Aquarium ➔ Burke-Gilman Trail: 0 viagens ",
         "type": "scatter",
         "x": [
          0.8313762108639745
         ],
         "y": [
          0.34469348124015975
         ]
        },
        {
         "hoverinfo": "text",
         "marker": {
          "color": "rgba(102,194,165,0.75)",
          "size": 0.5
         },
         "mode": "markers",
         "text": "Burke-Gilman Trail ➔ Seattle Aquarium: 4 viagens ",
         "type": "scatter",
         "x": [
          0.47618159562865575
         ],
         "y": [
          -0.7637087717085272
         ]
        },
        {
         "hoverinfo": "text",
         "marker": {
          "color": "rgba(244,109,67,0.75)",
          "size": 0.5
         },
         "mode": "markers",
         "text": "Seattle Aquarium ➔ 3rd Ave & Broad St: 792 viagens ",
         "type": "scatter",
         "x": [
          0.7370517849203789
         ],
         "y": [
          0.5164829777888944
         ]
        },
        {
         "hoverinfo": "text",
         "marker": {
          "color": "rgba(50,136,189,0.75)",
          "size": 0.5
         },
         "mode": "markers",
         "text": "3rd Ave & Broad St ➔ Seattle Aquarium: 478 viagens ",
         "type": "scatter",
         "x": [
          0.8122928376193359
         ],
         "y": [
          -0.38753109030415517
         ]
        },
        {
         "hoverinfo": "text",
         "marker": {
          "color": "rgba(253,174,97,0.75)",
          "size": 0.5
         },
         "mode": "markers",
         "text": "King Street Station Plaza ⮌ : 185 viagens ",
         "type": "scatter",
         "x": [
          -0.03440028298769712
         ],
         "y": [
          0.899342326664528
         ]
        },
        {
         "hoverinfo": "text",
         "marker": {
          "color": "rgba(253,174,97,0.75)",
          "size": 0.5
         },
         "mode": "markers",
         "text": "King Street Station Plaza ➔ Lake Union Park: 31 viagens ",
         "type": "scatter",
         "x": [
          0.019065836607877886
         ],
         "y": [
          0.8997980294901972
         ]
        },
        {
         "hoverinfo": "text",
         "marker": {
          "color": "rgba(254,224,139,0.75)",
          "size": 0.5
         },
         "mode": "markers",
         "text": "Lake Union Park ➔ King Street Station Plaza: 26 viagens ",
         "type": "scatter",
         "x": [
          -0.45195983939575046
         ],
         "y": [
          0.7782880595084107
         ]
        },
        {
         "hoverinfo": "text",
         "marker": {
          "color": "rgba(253,174,97,0.75)",
          "size": 0.5
         },
         "mode": "markers",
         "text": "King Street Station Plaza ➔ E Pine St & 16th Ave: 71 viagens ",
         "type": "scatter",
         "x": [
          -0.006355666253249238
         ],
         "y": [
          0.8999775583349161
         ]
        },
        {
         "hoverinfo": "text",
         "marker": {
          "color": "rgba(255,255,191,0.75)",
          "size": 0.5
         },
         "mode": "markers",
         "text": "E Pine St & 16th Ave ➔ King Street Station Plaza: 26 viagens ",
         "type": "scatter",
         "x": [
          -0.698632975601605
         ],
         "y": [
          0.5673728627649081
         ]
        },
        {
         "hoverinfo": "text",
         "marker": {
          "color": "rgba(253,174,97,0.75)",
          "size": 0.5
         },
         "mode": "markers",
         "text": "King Street Station Plaza ➔ 2nd Ave & Pine St: 384 viagens ",
         "type": "scatter",
         "x": [
          -0.20795286685302866
         ],
         "y": [
          0.8756458217610625
         ]
        },
        {
         "hoverinfo": "text",
         "marker": {
          "color": "rgba(230,245,152,0.75)",
          "size": 0.5
         },
         "mode": "markers",
         "text": "2nd Ave & Pine St ➔ King Street Station Plaza: 199 viagens ",
         "type": "scatter",
         "x": [
          -0.7929302564937314
         ],
         "y": [
          0.42574829223002814
         ]
        },
        {
         "hoverinfo": "text",
         "marker": {
          "color": "rgba(253,174,97,0.75)",
          "size": 0.5
         },
         "mode": "markers",
         "text": "King Street Station Plaza ➔ Pier 69: 962 viagens ",
         "type": "scatter",
         "x": [
          -0.34803075511068526
         ],
         "y": [
          0.8299846947366477
         ]
        },
        {
         "hoverinfo": "text",
         "marker": {
          "color": "rgba(171,221,164,0.75)",
          "size": 0.5
         },
         "mode": "markers",
         "text": "Pier 69 ➔ King Street Station Plaza: 737 viagens ",
         "type": "scatter",
         "x": [
          -0.8173644360304279
         ],
         "y": [
          -0.3767165761055128
         ]
        },
        {
         "hoverinfo": "text",
         "marker": {
          "color": "rgba(253,174,97,0.75)",
          "size": 0.5
         },
         "mode": "markers",
         "text": "King Street Station Plaza ➔ Burke-Gilman Trail: 1 viagens ",
         "type": "scatter",
         "x": [
          0.02257151430437695
         ],
         "y": [
          0.8997169147804255
         ]
        },
        {
         "hoverinfo": "text",
         "marker": {
          "color": "rgba(102,194,165,0.75)",
          "size": 0.5
         },
         "mode": "markers",
         "text": "Burke-Gilman Trail ➔ King Street Station Plaza: 0 viagens ",
         "type": "scatter",
         "x": [
          0.47487908388757033
         ],
         "y": [
          -0.7645193625318472
         ]
        },
        {
         "hoverinfo": "text",
         "marker": {
          "color": "rgba(253,174,97,0.75)",
          "size": 0.5
         },
         "mode": "markers",
         "text": "King Street Station Plaza ➔ 3rd Ave & Broad St: 301 viagens ",
         "type": "scatter",
         "x": [
          -0.13428233375387608
         ],
         "y": [
          0.8899259827882388
         ]
        },
        {
         "hoverinfo": "text",
         "marker": {
          "color": "rgba(50,136,189,0.75)",
          "size": 0.5
         },
         "mode": "markers",
         "text": "3rd Ave & Broad St ➔ King Street Station Plaza: 179 viagens ",
         "type": "scatter",
         "x": [
          0.675350611194402
         ],
         "y": [
          -0.5948962531058232
         ]
        },
        {
         "hoverinfo": "text",
         "marker": {
          "color": "rgba(254,224,139,0.75)",
          "size": 0.5
         },
         "mode": "markers",
         "text": "Lake Union Park ⮌ : 960 viagens ",
         "type": "scatter",
         "x": [
          -0.6210684291023523
         ],
         "y": [
          0.6513631908331453
         ]
        },
        {
         "hoverinfo": "text",
         "marker": {
          "color": "rgba(254,224,139,0.75)",
          "size": 0.5
         },
         "mode": "markers",
         "text": "Lake Union Park ➔ E Pine St & 16th Ave: 19 viagens ",
         "type": "scatter",
         "x": [
          -0.44768876806311886
         ],
         "y": [
          0.780752692566684
         ]
        },
        {
         "hoverinfo": "text",
         "marker": {
          "color": "rgba(255,255,191,0.75)",
          "size": 0.5
         },
         "mode": "markers",
         "text": "E Pine St & 16th Ave ➔ Lake Union Park: 5 viagens ",
         "type": "scatter",
         "x": [
          -0.6942603227572827
         ],
         "y": [
          0.5727151161310077
         ]
        },
        {
         "hoverinfo": "text",
         "marker": {
          "color": "rgba(254,224,139,0.75)",
          "size": 0.5
         },
         "mode": "markers",
         "text": "Lake Union Park ➔ 2nd Ave & Pine St: 105 viagens ",
         "type": "scatter",
         "x": [
          -0.5002067134106747
         ],
         "y": [
          0.7481933198438029
         ]
        },
        {
         "hoverinfo": "text",
         "marker": {
          "color": "rgba(230,245,152,0.75)",
          "size": 0.5
         },
         "mode": "markers",
         "text": "2nd Ave & Pine St ➔ Lake Union Park: 135 viagens ",
         "type": "scatter",
         "x": [
          -0.7592697400033566
         ],
         "y": [
          0.4832281675515568
         ]
        },
        {
         "hoverinfo": "text",
         "marker": {
          "color": "rgba(254,224,139,0.75)",
          "size": 0.5
         },
         "mode": "markers",
         "text": "Lake Union Park ➔ Pier 69: 75 viagens ",
         "type": "scatter",
         "x": [
          -0.4836902318174899
         ],
         "y": [
          0.7589754670899073
         ]
        },
        {
         "hoverinfo": "text",
         "marker": {
          "color": "rgba(171,221,164,0.75)",
          "size": 0.5
         },
         "mode": "markers",
         "text": "Pier 69 ➔ Lake Union Park: 97 viagens ",
         "type": "scatter",
         "x": [
          -0.8748803245885537
         ],
         "y": [
          -0.2111502253084924
         ]
        },
        {
         "hoverinfo": "text",
         "marker": {
          "color": "rgba(254,224,139,0.75)",
          "size": 0.5
         },
         "mode": "markers",
         "text": "Lake Union Park ➔ Burke-Gilman Trail: 46 viagens ",
         "type": "scatter",
         "x": [
          -0.45876527893651986
         ],
         "y": [
          0.774296079573116
         ]
        },
        {
         "hoverinfo": "text",
         "marker": {
          "color": "rgba(102,194,165,0.75)",
          "size": 0.5
         },
         "mode": "markers",
         "text": "Burke-Gilman Trail ➔ Lake Union Park: 25 viagens ",
         "type": "scatter",
         "x": [
          0.4838750847821679
         ],
         "y": [
          -0.7588576298140843
         ]
        },
        {
         "hoverinfo": "text",
         "marker": {
          "color": "rgba(254,224,139,0.75)",
          "size": 0.5
         },
         "mode": "markers",
         "text": "Lake Union Park ➔ 3rd Ave & Broad St: 175 viagens ",
         "type": "scatter",
         "x": [
          -0.5254185960256376
         ],
         "y": [
          0.7307087647965145
         ]
        },
        {
         "hoverinfo": "text",
         "marker": {
          "color": "rgba(50,136,189,0.75)",
          "size": 0.5
         },
         "mode": "markers",
         "text": "3rd Ave & Broad St ➔ Lake Union Park: 264 viagens ",
         "type": "scatter",
         "x": [
          0.7324956126127901
         ],
         "y": [
          -0.5229246384547331
         ]
        },
        {
         "hoverinfo": "text",
         "marker": {
          "color": "rgba(255,255,191,0.75)",
          "size": 0.5
         },
         "mode": "markers",
         "text": "E Pine St & 16th Ave ⮌ : 233 viagens ",
         "type": "scatter",
         "x": [
          -0.7357284745183731
         ],
         "y": [
          0.5183662911328897
         ]
        },
        {
         "hoverinfo": "text",
         "marker": {
          "color": "rgba(255,255,191,0.75)",
          "size": 0.5
         },
         "mode": "markers",
         "text": "E Pine St & 16th Ave ➔ 2nd Ave & Pine St: 53 viagens ",
         "type": "scatter",
         "x": [
          -0.7040580203789575
         ],
         "y": [
          0.5606267064099458
         ]
        },
        {
         "hoverinfo": "text",
         "marker": {
          "color": "rgba(230,245,152,0.75)",
          "size": 0.5
         },
         "mode": "markers",
         "text": "2nd Ave & Pine St ➔ E Pine St & 16th Ave: 577 viagens ",
         "type": "scatter",
         "x": [
          -0.8918076038925855
         ],
         "y": [
          0.12115773866891574
         ]
        },
        {
         "hoverinfo": "text",
         "marker": {
          "color": "rgba(255,255,191,0.75)",
          "size": 0.5
         },
         "mode": "markers",
         "text": "E Pine St & 16th Ave ➔ Pier 69: 3 viagens ",
         "type": "scatter",
         "x": [
          -0.6932830655251464
         ],
         "y": [
          0.573897718287898
         ]
        },
        {
         "hoverinfo": "text",
         "marker": {
          "color": "rgba(171,221,164,0.75)",
          "size": 0.5
         },
         "mode": "markers",
         "text": "Pier 69 ➔ E Pine St & 16th Ave: 23 viagens ",
         "type": "scatter",
         "x": [
          -0.8809013399111199
         ],
         "y": [
          -0.18442567430483667
         ]
        },
        {
         "hoverinfo": "text",
         "marker": {
          "color": "rgba(255,255,191,0.75)",
          "size": 0.5
         },
         "mode": "markers",
         "text": "E Pine St & 16th Ave ➔ Burke-Gilman Trail: 3 viagens ",
         "type": "scatter",
         "x": [
          -0.6937021368851023
         ],
         "y": [
          0.5733910927813954
         ]
        },
        {
         "hoverinfo": "text",
         "marker": {
          "color": "rgba(102,194,165,0.75)",
          "size": 0.5
         },
         "mode": "markers",
         "text": "Burke-Gilman Trail ➔ E Pine St & 16th Ave: 15 viagens ",
         "type": "scatter",
         "x": [
          0.4801734998858236
         ],
         "y": [
          -0.7612052351418762
         ]
        },
        {
         "hoverinfo": "text",
         "marker": {
          "color": "rgba(255,255,191,0.75)",
          "size": 0.5
         },
         "mode": "markers",
         "text": "E Pine St & 16th Ave ➔ 3rd Ave & Broad St: 16 viagens ",
         "type": "scatter",
         "x": [
          -0.6957224253194818
         ],
         "y": [
          0.5709380937611171
         ]
        },
        {
         "hoverinfo": "text",
         "marker": {
          "color": "rgba(50,136,189,0.75)",
          "size": 0.5
         },
         "mode": "markers",
         "text": "3rd Ave & Broad St ➔ E Pine St & 16th Ave: 198 viagens ",
         "type": "scatter",
         "x": [
          0.701936946994368
         ],
         "y": [
          -0.563280145615151
         ]
        },
        {
         "hoverinfo": "text",
         "marker": {
          "color": "rgba(230,245,152,0.75)",
          "size": 0.5
         },
         "mode": "markers",
         "text": "2nd Ave & Pine St ⮌ : 427 viagens ",
         "type": "scatter",
         "x": [
          -0.8703783959447023
         ],
         "y": [
          0.2290009778859625
         ]
        },
        {
         "hoverinfo": "text",
         "marker": {
          "color": "rgba(230,245,152,0.75)",
          "size": 0.5
         },
         "mode": "markers",
         "text": "2nd Ave & Pine St ➔ Pier 69: 310 viagens ",
         "type": "scatter",
         "x": [
          -0.8177766841982929
         ],
         "y": [
          0.375820828030653
         ]
        },
        {
         "hoverinfo": "text",
         "marker": {
          "color": "rgba(171,221,164,0.75)",
          "size": 0.5
         },
         "mode": "markers",
         "text": "Pier 69 ➔ 2nd Ave & Pine St: 384 viagens ",
         "type": "scatter",
         "x": [
          -0.861021333797539
         ],
         "y": [
          -0.2619966846078534
         ]
        },
        {
         "hoverinfo": "text",
         "marker": {
          "color": "rgba(230,245,152,0.75)",
          "size": 0.5
         },
         "mode": "markers",
         "text": "2nd Ave & Pine St ➔ Burke-Gilman Trail: 9 viagens ",
         "type": "scatter",
         "x": [
          -0.7506809871275378
         ],
         "y": [
          0.49646556332259884
         ]
        },
        {
         "hoverinfo": "text",
         "marker": {
          "color": "rgba(102,194,165,0.75)",
          "size": 0.5
         },
         "mode": "markers",
         "text": "Burke-Gilman Trail ➔ 2nd Ave & Pine St: 1 viagens ",
         "type": "scatter",
         "x": [
          0.47497216624544886
         ],
         "y": [
          -0.7644615368297517
         ]
        },
        {
         "hoverinfo": "text",
         "marker": {
          "color": "rgba(230,245,152,0.75)",
          "size": 0.5
         },
         "mode": "markers",
         "text": "2nd Ave & Pine St ➔ 3rd Ave & Broad St: 1101 viagens ",
         "type": "scatter",
         "x": [
          -0.8978410141354999
         ],
         "y": [
          -0.062301792399072534
         ]
        },
        {
         "hoverinfo": "text",
         "marker": {
          "color": "rgba(50,136,189,0.75)",
          "size": 0.5
         },
         "mode": "markers",
         "text": "3rd Ave & Broad St ➔ 2nd Ave & Pine St: 962 viagens ",
         "type": "scatter",
         "x": [
          0.8938331549816029
         ],
         "y": [
          -0.10517742654977834
         ]
        },
        {
         "hoverinfo": "text",
         "marker": {
          "color": "rgba(171,221,164,0.75)",
          "size": 0.5
         },
         "mode": "markers",
         "text": "Pier 69 ⮌ : 4209 viagens ",
         "type": "scatter",
         "x": [
          0.038998543699203185
         ],
         "y": [
          -0.8991546661110875
         ]
        },
        {
         "hoverinfo": "text",
         "marker": {
          "color": "rgba(171,221,164,0.75)",
          "size": 0.5
         },
         "mode": "markers",
         "text": "Pier 69 ➔ Burke-Gilman Trail: 1 viagens ",
         "type": "scatter",
         "x": [
          -0.8814365038757591
         ],
         "y": [
          -0.18185073449199754
         ]
        },
        {
         "hoverinfo": "text",
         "marker": {
          "color": "rgba(102,194,165,0.75)",
          "size": 0.5
         },
         "mode": "markers",
         "text": "Burke-Gilman Trail ➔ Pier 69: 4 viagens ",
         "type": "scatter",
         "x": [
          0.476925267074194
         ],
         "y": [
          -0.7632445804761464
         ]
        },
        {
         "hoverinfo": "text",
         "marker": {
          "color": "rgba(171,221,164,0.75)",
          "size": 0.5
         },
         "mode": "markers",
         "text": "Pier 69 ➔ 3rd Ave & Broad St: 777 viagens ",
         "type": "scatter",
         "x": [
          -0.734464302654542
         ],
         "y": [
          -0.5201559267432961
         ]
        },
        {
         "hoverinfo": "text",
         "marker": {
          "color": "rgba(50,136,189,0.75)",
          "size": 0.5
         },
         "mode": "markers",
         "text": "3rd Ave & Broad St ➔ Pier 69: 347 viagens ",
         "type": "scatter",
         "x": [
          0.7693360985857712
         ],
         "y": [
          -0.46703529568205493
         ]
        },
        {
         "hoverinfo": "text",
         "marker": {
          "color": "rgba(102,194,165,0.75)",
          "size": 0.5
         },
         "mode": "markers",
         "text": "Burke-Gilman Trail ⮌ : 880 viagens ",
         "type": "scatter",
         "x": [
          0.5643902047211407
         ],
         "y": [
          -0.7010447181277589
         ]
        },
        {
         "hoverinfo": "text",
         "marker": {
          "color": "rgba(102,194,165,0.75)",
          "size": 0.5
         },
         "mode": "markers",
         "text": "Burke-Gilman Trail ➔ 3rd Ave & Broad St: 8 viagens ",
         "type": "scatter",
         "x": [
          0.4780399255801088
         ],
         "y": [
          -0.7625469359661503
         ]
        },
        {
         "hoverinfo": "text",
         "marker": {
          "color": "rgba(50,136,189,0.75)",
          "size": 0.5
         },
         "mode": "markers",
         "text": "3rd Ave & Broad St ➔ Burke-Gilman Trail: 6 viagens ",
         "type": "scatter",
         "x": [
          0.6365897885543418
         ],
         "y": [
          -0.6362023586158247
         ]
        },
        {
         "hoverinfo": "text",
         "marker": {
          "color": "rgba(50,136,189,0.75)",
          "size": 0.5
         },
         "mode": "markers",
         "text": "3rd Ave & Broad St ⮌ : 627 viagens ",
         "type": "scatter",
         "x": [
          0.8569341386822662
         ],
         "y": [
          -0.27507068538992413
         ]
        }
       ],
       "layout": {
        "height": 625,
        "hovermode": "closest",
        "margin": {
         "b": 25,
         "l": 25,
         "r": 25,
         "t": 25
        },
        "paper_bgcolor": "rgba(0,0,0,0)",
        "plot_bgcolor": "rgba(0,0,0,0)",
        "shapes": [
         {
          "fillcolor": "rgba(213,62,79,0.75)",
          "layer": "below",
          "line": {
           "color": "rgb(175,175,175)",
           "width": 0.5
          },
          "path": "M 0.9927731055133359,0.12000650386294458 Q 0.19796019714484991, 0.028491408290432986 0.9863212364689067, 0.16483451850400466L 0.9863212364689067, 0.16483451850400466 L 0.9898009857242496, 0.14245704145216492 L 0.9927731055133359, 0.12000650386294458 ",
          "type": "path"
         },
         {
          "fillcolor": "rgba(244,109,67,0.75)",
          "layer": "below",
          "line": {
           "color": "rgb(175, 175, 175)",
           "width": 0.5
          },
          "path": "M 0.9999998814008454,0.0004870300762928799 Q 0.1956957639453356, 0.0412694557009357 0.9150381618272247, 0.4033672797833926L 0.9150381618272247, 0.4033672797833926 L 0.9183464483083138, 0.395777463834799 L 0.9215917820801511, 0.38816051731510665 M 0.9215917820801511,0.38816051731510665 Q 0.1958550742307543, 0.04050666485981946 0.9999571860098385, 0.009253439754232156L 0.9999571860098385, 0.009253439754232156 L 0.9999881401077445, 0.00487028170170324 L 0.9999998814008454, 0.0004870300762928799 ",
          "type": "path"
         },
         {
          "fillcolor": "rgba(253,174,97,0.75)",
          "layer": "below",
          "line": {
           "color": "rgb(175, 175, 175)",
           "width": 0.5
          },
          "path": "M 0.9999571860098385,0.009253439754232156 Q 0.14087791745083467, 0.14196271473424216 0.0015828771954751763, 0.9999987472491073L 0.0015828771954751763, 0.9999987472491073 L 0.009496977576702436, 0.9999549026915702 L 0.0174104831156206, 0.9998484260515094 M 0.0174104831156206,0.9998484260515094 Q 0.14127492066772485, 0.1415676403360883 0.9998102473501405, 0.019479971602929122L 0.9998102473501405, 0.019479971602929122 L 0.9998967908590379, 0.014366893533307386 L 0.9999571860098385, 0.009253439754232156 ",
          "type": "path"
         },
         {
          "fillcolor": "rgba(254,224,139,0.75)",
          "layer": "below",
          "line": {
           "color": "rgb(175, 175, 175)",
           "width": 0.5
          },
          "path": "M 0.9994834265529925,0.032138451205508435 Q 0.09415987593926897, 0.1764480596750825 -0.5297103763043033, 0.8481785880553419L -0.5297103763043033, 0.8481785880553419 L -0.522150687505424, 0.8528532461904645 L -0.5145497481112087, 0.8574605277904586 M -0.5145497481112087,0.8574605277904586 Q 0.09458927371200905, 0.1762182433763163 0.9989854075757865, 0.045035046915039255L 0.9989854075757865, 0.045035046915039255 L 0.9992552230492638, 0.03858755251069908 L 0.9994834265529925, 0.032138451205508435 ",
          "type": "path"
         },
         {
          "fillcolor": "rgba(213,62,79,0.75)",
          "layer": "below",
          "line": {
           "color": "rgb(175, 175, 175)",
           "width": 0.5
          },
          "path": "M 0.9863212364689067,0.16483451850400466 Q 0.04720634109181012, 0.19434907090265105 -0.8008096339462132, 0.5989189679572121L -0.8008096339462132, 0.5989189679572121 L -0.7936063830425132, 0.6084315152867904 L -0.7862901421282357, 0.6178574369480059 M -0.7862901421282357,0.6178574369480059 Q 0.027213478116222392, 0.19813991674778175 0.92375158604568, 0.38299217652334716L 0.92375158604568, 0.38299217652334716 L 0.9612454097499405, 0.27569414617410537 L 0.9863212364689067, 0.16483451850400466 ",
          "type": "path"
         },
         {
          "fillcolor": "rgba(230,245,152,0.75)",
          "layer": "below",
          "line": {
           "color": "rgb(175, 175, 175)",
           "width": 0.5
          },
          "path": "M 0.9966545244270187,0.081729792237306 Q 0.022695384348949674, 0.19870812648015546 -0.952557583972628, 0.30435842228568244L -0.952557583972628, 0.30435842228568244 L -0.9389779495622456, 0.34397733971277966 L -0.9237512867113693, 0.38299289849694296 M -0.9237512867113693,0.38299289849694296 Q 0.02718930952292109, 0.19814323467549125 0.9927731055133359, 0.12000650386294458L 0.9927731055133359, 0.12000650386294458 L 0.9948979095142084, 0.10088681600812797 L 0.9966545244270187, 0.081729792237306 ",
          "type": "path"
         },
         {
          "fillcolor": "rgba(171,221,164,0.75)",
          "layer": "below",
          "line": {
           "color": "rgb(175, 175, 175)",
           "width": 0.5
          },
          "path": "M 0.9998102473501405,0.019479971602929122 Q -0.02438809828720894, 0.1985074826346187 -0.9747922648980742, -0.22311441077367164L -0.9747922648980742, -0.22311441077367164 L -0.9765275014309651, -0.21539275509867195 L -0.9782015731519016, -0.20765760829583138 M -0.9782015731519016,-0.20765760829583138 Q -0.024073858734435502, 0.19854583683783059 0.9994834265529925, 0.032138451205508435L 0.9994834265529925, 0.032138451205508435 L 0.9996668734652229, 0.025809728713530072 L 0.9998102473501405, 0.019479971602929122 ",
          "type": "path"
         },
         {
          "fillcolor": "rgba(102,194,165,0.75)",
          "layer": "below",
          "line": {
           "color": "rgb(175, 175, 175)",
           "width": 0.5
          },
          "path": "M 1.0,0.0 Q -0.17485292806864, 0.09708992504798326 0.5286773227088496, -0.8488228840302333L 0.5286773227088496, -0.8488228840302333 L 0.5282638582070014, -0.8490802648232104 L 0.5278502684021449, -0.8493374442162452 M 0.5278502684021449,-0.8493374442162452 Q -0.1748292800808723, 0.0971325013906463 0.9999998814008454, 0.0004870300762928799L 0.9999998814008454, 0.0004870300762928799 L 0.9999999703502109, 0.00024351504536660967 L 1.0, 0.0 ",
          "type": "path"
         },
         {
          "fillcolor": "rgba(50,136,189,0.75)",
          "layer": "below",
          "line": {
           "color": "rgb(175, 175, 175)",
           "width": 0.5
          },
          "path": "M 0.9989854075757865,0.045035046915039255 Q -0.18791259549314152, 0.06847522511851256 0.735806346799503, -0.6771920111826257L 0.735806346799503, -0.6771920111826257 L 0.7219697438069747, -0.6919246266951997 L 0.7078382150606691, -0.7063745899306726 M 0.7078382150606691,-0.7063745899306726 Q -0.1877872204426759, 0.06881831034262506 0.9966545244270187, 0.081729792237306L 0.9966545244270187, 0.081729792237306 L 0.997988632517729, 0.06339313342463278 L 0.9989854075757865, 0.045035046915039255 ",
          "type": "path"
         },
         {
          "fillcolor": "rgba(244,109,67,0.75)",
          "layer": "below",
          "line": {
           "color": "rgb(175,175,175)",
           "width": 0.5
          },
          "path": "M 0.7598878920325813,0.6500541450850691 Q 0.13234531930358517, 0.1499490462071436 0.5506126959985574, 0.834760839405635L 0.5506126959985574, 0.834760839405635 L 0.6617265965179259, 0.749745231035718 L 0.7598878920325813, 0.6500541450850691 ",
          "type": "path"
         },
         {
          "fillcolor": "rgba(253,174,97,0.75)",
          "layer": "below",
          "line": {
           "color": "rgb(175, 175, 175)",
           "width": 0.5
          },
          "path": "M 0.8912441117092594,0.45352390603315845 Q 0.09473943843881902, 0.17613755648440577 -0.11287171018787533, 0.9936095697200507L -0.11287171018787533, 0.9936095697200507 L -0.08682541753785895, 0.996223542619515 L -0.060719628446399394, 0.9981548610918705 M -0.060719628446399394,0.9981548610918705 Q 0.09546778894355672, 0.17574385131272308 0.8703953636226255, 0.492353441121556L 0.8703953636226255, 0.492353441121556 L 0.8810336789593772, 0.4730535451080618 L 0.8912441117092594, 0.45352390603315845 ",
          "type": "path"
         },
         {
          "fillcolor": "rgba(244,109,67,0.75)",
          "layer": "below",
          "line": {
           "color": "rgb(175, 175, 175)",
           "width": 0.5
          },
          "path": "M 0.9150381618272247,0.4033672797833926 Q 0.06265505420177765, 0.18993247269219737 -0.4954237601751405, 0.8686514248269699L -0.4954237601751405, 0.8686514248269699 L -0.4936246979986426, 0.8696750298391629 L -0.4918235209404689, 0.8706949088226714 M -0.4918235209404689,0.8706949088226714 Q 0.061428093876338755, 0.19033283816178362 0.9080297299580385, 0.41890572866974696L 0.9080297299580385, 0.41890572866974696 L 0.9115670547815117, 0.4111514375956388 L 0.9150381618272247, 0.4033672797833926 ",
          "type": "path"
         },
         {
          "fillcolor": "rgba(244,109,67,0.75)",
          "layer": "below",
          "line": {
           "color": "rgb(175, 175, 175)",
           "width": 0.5
          },
          "path": "M 0.9237513454044161,0.3829927569335108 Q 0.029768320309671043, 0.19777221014576551 -0.7700815456460249, 0.6379454624459909L -0.7700815456460249, 0.6379454624459909 L -0.7699261741599474, 0.6381329691713369 L -0.7697707570179634, 0.6383204380559905 M -0.7697707570179634,0.6383204380559905 Q 0.02926253741493017, 0.19784767854094173 0.9215917820801511, 0.38816051731510665L 0.9215917820801511, 0.38816051731510665 L 0.9226751817272811, 0.38557814904961707 L 0.9237513454044161, 0.3829927569335108 ",
          "type": "path"
         },
         {
          "fillcolor": "rgba(244,109,67,0.75)",
          "layer": "below",
          "line": {
           "color": "rgb(175, 175, 175)",
           "width": 0.5
          },
          "path": "M 0.9080297299580385,0.41890572866974696 Q 0.008471809271652532, 0.19982049056006432 -0.869314153390582, 0.49425995459354755L -0.869314153390582, 0.49425995459354755 L -0.8609489471233246, 0.5086913705256251 L -0.8523441883188422, 0.5229812469286963 M -0.8523441883188422,0.5229812469286963 Q 0.007960858147247231, 0.19984149903751075 0.8912441117092594, 0.45352390603315845L 0.8912441117092594, 0.45352390603315845 L 0.8998034195745426, 0.4362955490512821 L 0.9080297299580385, 0.41890572866974696 ",
          "type": "path"
         },
         {
          "fillcolor": "rgba(244,109,67,0.75)",
          "layer": "below",
          "line": {
           "color": "rgb(175, 175, 175)",
           "width": 0.5
          },
          "path": "M 0.5506126959985574,0.834760839405635 Q -0.17295286902864726, 0.1004355768378894 -0.45211293198464536, -0.8919607035807393L -0.45211293198464536, -0.8919607035807393 L -0.564158316353506, -0.8256666361729639 L -0.6666417410632128, -0.7453782858872455 L -0.757826207217534, -0.6524564657157496 M -0.757826207217534,-0.6524564657157496 Q -0.18072911469254177, 0.08565621461662948 0.02520180755014495, 0.9996823840081436L 0.02520180755014495, 0.9996823840081436 L 0.11791178773035194, 0.9930240733810195 L 0.20960307214212717, 0.9777865575618138 L 0.2994834963612835, 0.9541014806650396 L 0.386776540842326, 0.9221734692854943 L 0.47072803963850707, 0.8822783646322107 L 0.5506126959985574, 0.834760839405635 ",
          "type": "path"
         },
         {
          "fillcolor": "rgba(102,194,165,0.75)",
          "layer": "below",
          "line": {
           "color": "rgb(175, 175, 175)",
           "width": 0.5
          },
          "path": "M 0.9237513454044161,0.3829927569335108 Q -0.19047443673844625, 0.06098761307980203 0.5295038754112628, -0.8483075184886987L 0.5295038754112628, -0.8483075184886987 L 0.5290906618096175, -0.8485653018983635 L 0.5286773227088496, -0.8488228840302333 M 0.5286773227088496,-0.8488228840302333 Q -0.1904447113805, 0.06108037252013169 0.9237513454044161, 0.3829927569335108L 0.9237513454044161, 0.3829927569335108 L 0.9237513454044161, 0.3829927569335108 L 0.9237513454044161, 0.3829927569335108 ",
          "type": "path"
         },
         {
          "fillcolor": "rgba(244,109,67,0.75)",
          "layer": "below",
          "line": {
           "color": "rgb(175, 175, 175)",
           "width": 0.5
          },
          "path": "M 0.8703953636226255,0.492353441121556 Q -0.19959152911464995, -0.012775817221448169 0.9260657087176012, -0.3773622969208331L 0.9260657087176012, -0.3773622969208331 L 0.9025475973548176, -0.4305901003379502 L 0.8759731885047205, -0.4823597962318931 M 0.8759731885047205,-0.4823597962318931 Q -0.1989573524478471, -0.020395389355027084 0.7598878920325813, 0.6500541450850691L 0.7598878920325813, 0.6500541450850691 L 0.8189464276893099, 0.5738699753209937 L 0.8703953636226255, 0.492353441121556 ",
          "type": "path"
         },
         {
          "fillcolor": "rgba(253,174,97,0.75)",
          "layer": "below",
          "line": {
           "color": "rgb(175,175,175)",
           "width": 0.5
          },
          "path": "M -0.01570605223494908,0.9998766523542757 Q -0.007644507330599361, 0.19985385036989511 -0.060719628446399394, 0.9981548610918705L -0.060719628446399394, 0.9981548610918705 L -0.038222536652996804, 0.9992692518494755 L -0.01570605223494908, 0.9998766523542757 ",
          "type": "path"
         },
         {
          "fillcolor": "rgba(253,174,97,0.75)",
          "layer": "below",
          "line": {
           "color": "rgb(175, 175, 175)",
           "width": 0.5
          },
          "path": "M 0.024957740873419093,0.9996885070713253 Q -0.04989928924327458, 0.19367514278558318 -0.5049126593192504, 0.8631704388237369L -0.5049126593192504, 0.8631704388237369 L -0.5021775993286116, 0.8647645105649008 L -0.49943750670597015, 0.8663499159665937 M -0.49943750670597015,0.8663499159665937 Q -0.05001718741255488, 0.19364472872592575 0.0174104831156206, 0.9998484260515094L 0.0174104831156206, 0.9998484260515094 L 0.021184262897642095, 0.9997755883224413 L 0.024957740873419093, 0.9996885070713253 ",
          "type": "path"
         },
         {
          "fillcolor": "rgba(253,174,97,0.75)",
          "layer": "below",
          "line": {
           "color": "rgb(175, 175, 175)",
           "width": 0.5
          },
          "path": "M 0.0015828771954751763,0.9999987472491073 Q -0.08611796130960592, 0.18050954750338616 -0.7782506600179837, 0.6279537484413743L -0.7782506600179837, 0.6279537484413743 L -0.776258861779561, 0.630414291961009 L -0.7742592842360694, 0.632868517761983 M -0.7742592842360694,0.632868517761983 Q -0.08710569462915065, 0.1800349909411311 -0.01570605223494908, 0.9998766523542757L -0.01570605223494908, 0.9998766523542757 L -0.007061851392499153, 0.9999750648165734 L 0.0015828771954751763, 0.9999987472491073 ",
          "type": "path"
         },
         {
          "fillcolor": "rgba(253,174,97,0.75)",
          "layer": "below",
          "line": {
           "color": "rgb(175, 175, 175)",
           "width": 0.5
          },
          "path": "M -0.1853330966835013,0.9826757569380167 Q -0.12013444845083815, 0.15989907534258263 -0.8922358699460289, 0.45156965396453846L -0.8922358699460289, 0.45156965396453846 L -0.8810336183263682, 0.4730536580333646 L -0.869314153390582, 0.49425995459354755 M -0.869314153390582,0.49425995459354755 Q -0.12370541763853671, 0.15715269532170045 -0.276279377829727, 0.961077367013717L -0.276279377829727, 0.961077367013717 L -0.23105874094780962, 0.9729398019567361 L -0.1853330966835013, 0.9826757569380167 ",
          "type": "path"
         },
         {
          "fillcolor": "rgba(253,174,97,0.75)",
          "layer": "below",
          "line": {
           "color": "rgb(175, 175, 175)",
           "width": 0.5
          },
          "path": "M -0.276279377829727,0.961077367013717 Q -0.1853872504064069, 0.07504376980637491 -0.8670180970902388, -0.4982766493806641L -0.8670180970902388, -0.4982766493806641 L -0.9081827067004754, -0.41857397345056974 L -0.9420391322579053, -0.3355030153288834 M -0.9420391322579053,-0.3355030153288834 Q -0.18737328296985303, 0.06993749229919088 -0.49182297386662577, 0.8706952178443318L -0.49182297386662577, 0.8706952178443318 L -0.3867008390118725, 0.922205216374053 L -0.276279377829727, 0.961077367013717 ",
          "type": "path"
         },
         {
          "fillcolor": "rgba(253,174,97,0.75)",
          "layer": "below",
          "line": {
           "color": "rgb(175, 175, 175)",
           "width": 0.5
          },
          "path": "M 0.02520117943117323,0.9996823998427089 Q -0.193002248925482, -0.05244170010312681 0.5276434265417448, -0.8494659583687191L 0.5276434265417448, -0.8494659583687191 L 0.5276434265417448, -0.8494659583687191 L 0.5276434265417448, -0.8494659583687191 M 0.5276434265417448,-0.8494659583687191 Q -0.1929958623205549, -0.05246519920047399 0.024957740873419093, 0.9996885070713253L 0.024957740873419093, 0.9996885070713253 L 0.02507946033819661, 0.9996854608671394 L 0.02520117943117323, 0.9996823998427089 ",
          "type": "path"
         },
         {
          "fillcolor": "rgba(253,174,97,0.75)",
          "layer": "below",
          "line": {
           "color": "rgb(175, 175, 175)",
           "width": 0.5
          },
          "path": "M -0.11287171018787533,0.9936095697200507 Q -0.17629881455905275, -0.09443901728137971 0.764616364344398, -0.6444856983492767L 0.764616364344398, -0.6444856983492767 L 0.75038956799378, -0.660995836784248 L 0.735806346799503, -0.6771920111826257 M 0.735806346799503,-0.6771920111826257 Q -0.17487657952793667, -0.09704731800832643 -0.1853330966835013, 0.9826757569380167L -0.1853330966835013, 0.9826757569380167 L -0.1492025930598623, 0.9888066475424875 L -0.11287171018787533, 0.9936095697200507 ",
          "type": "path"
         },
         {
          "fillcolor": "rgba(254,224,139,0.75)",
          "layer": "below",
          "line": {
           "color": "rgb(175,175,175)",
           "width": 0.5
          },
          "path": "M -0.600964192166343,0.7992759471758516 Q -0.1380152064671894, 0.14474737574069896 -0.7697703559492518, 0.6383209217170953L -0.7697703559492518, 0.6383209217170953 L -0.6900760323359469, 0.7237368787034948 L -0.600964192166343, 0.7992759471758516 ",
          "type": "path"
         },
         {
          "fillcolor": "rgba(254,224,139,0.75)",
          "layer": "below",
          "line": {
           "color": "rgb(175, 175, 175)",
           "width": 0.5
          },
          "path": "M -0.4954237601751405,0.8686514248269699 Q -0.1288412598821227, 0.15297035579479878 -0.771787616069946, 0.6358803941631396L -0.771787616069946, 0.6358803941631396 L -0.771400358619203, 0.636350129034453 L -0.7710128152726897, 0.6368196280622018 M -0.7710128152726897,0.6368196280622018 Q -0.12910182700803086, 0.15275050986228644 -0.49943750670597015, 0.8663499159665937L -0.49943750670597015, 0.8663499159665937 L -0.4974319645145765, 0.86750299174076 L -0.4954237601751405, 0.8686514248269699 ",
          "type": "path"
         },
         {
          "fillcolor": "rgba(230,245,152,0.75)",
          "layer": "below",
          "line": {
           "color": "rgb(175, 175, 175)",
           "width": 0.5
          },
          "path": "M -0.5451119892305999,0.8383632382190063 Q -0.14326023763073062, 0.1395582470296421 -0.8523441883188422, 0.5229812469286963L -0.8523441883188422, 0.5229812469286963 L -0.8436330444481739, 0.5369201861683964 L -0.8346939694427067, 0.550714061356688 M -0.8346939694427067,0.550714061356688 Q -0.1427495129768865, 0.1400806073118678 -0.5663676462557741, 0.8241527099237703L -0.5663676462557741, 0.8241527099237703 L -0.5557852371229719, 0.8313259109375587 L -0.5451119892305999, 0.8383632382190063 ",
          "type": "path"
         },
         {
          "fillcolor": "rgba(171,221,164,0.75)",
          "layer": "below",
          "line": {
           "color": "rgb(175, 175, 175)",
           "width": 0.5
          },
          "path": "M -0.5297103763043033,0.8481785880553419 Q -0.1855876162836111, 0.07454687573713019 -0.9692506411842448, -0.24607558709455618L -0.9692506411842448, -0.24607558709455618 L -0.9720892495428374, -0.23461136145388042 L -0.9747922648980742, -0.22311441077367164 M -0.9747922648980742,-0.22311441077367164 Q -0.18538726334431566, 0.07504373784470866 -0.5451119892305999, 0.8383632382190063L -0.5451119892305999, 0.8383632382190063 L -0.5374335909083221, 0.8433060745443414 L -0.5297103763043033, 0.8481785880553419 ",
          "type": "path"
         },
         {
          "fillcolor": "rgba(254,224,139,0.75)",
          "layer": "below",
          "line": {
           "color": "rgb(175, 175, 175)",
           "width": 0.5
          },
          "path": "M -0.5049126593192504,0.8631704388237369 Q -0.17050703890256966, -0.10453396426366696 0.5402030583822396, -0.8415347026204414L 0.5402030583822396, -0.8415347026204414 L 0.5376389830912977, -0.8431751442378714 L 0.5350699262897991, -0.8448077733900351 M 0.5350699262897991,-0.8448077733900351 Q -0.17023919780463037, -0.10496959336320183 -0.5145497481112087, 0.8574605277904586L -0.5145497481112087, 0.8574605277904586 L -0.5097391988183554, 0.8603289773034621 L -0.5049126593192504, 0.8631704388237369 ",
          "type": "path"
         },
         {
          "fillcolor": "rgba(50,136,189,0.75)",
          "layer": "below",
          "line": {
           "color": "rgb(175, 175, 175)",
           "width": 0.5
          },
          "path": "M -0.5663676462557741,0.8241527099237703 Q -0.140410479569277, -0.14242505828373617 0.8321369173625595, -0.5545702397012815L 0.8321369173625595, -0.5545702397012815 L 0.8138840140142112, -0.5810273760608146 L 0.7947902475809921, -0.6068842248321712 M 0.7947902475809921,-0.6068842248321712 Q -0.14194558707826163, -0.1408951748961179 -0.600964192166343, 0.7992759471758516L -0.600964192166343, 0.7992759471758516 L -0.5837984400284861, 0.8118986275516827 L -0.5663676462557741, 0.8241527099237703 ",
          "type": "path"
         },
         {
          "fillcolor": "rgba(255,255,191,0.75)",
          "layer": "below",
          "line": {
           "color": "rgb(175,175,175)",
           "width": 0.5
          },
          "path": "M -0.8008096339462132,0.5989189679572121 Q -0.16349521655963847, 0.11519250914064215 -0.8334846531887335, 0.5525426073153604L -0.8334846531887335, 0.5525426073153604 L -0.8174760827981923, 0.5759625457032107 L -0.8008096339462132, 0.5989189679572121 ",
          "type": "path"
         },
         {
          "fillcolor": "rgba(230,245,152,0.75)",
          "layer": "below",
          "line": {
           "color": "rgb(175, 175, 175)",
           "width": 0.5
          },
          "path": "M -0.7782506600179837,0.6279537484413743 Q -0.1863314745438533, 0.07266761035229763 -0.9979027993915378, 0.06473023224531377L -0.9979027993915378, 0.06473023224531377 L -0.9908973376584284, 0.1346197096321286 L -0.9790031694182383, 0.20384502512704142 M -0.9790031694182383,0.20384502512704142 Q -0.1813192420272192, 0.08439983691142249 -0.7862901421282357, 0.6178574369480059L -0.7862901421282357, 0.6178574369480059 L -0.7822866893099527, 0.6229185626777176 L -0.7782506600179837, 0.6279537484413743 ",
          "type": "path"
         },
         {
          "fillcolor": "rgba(171,221,164,0.75)",
          "layer": "below",
          "line": {
           "color": "rgb(175, 175, 175)",
           "width": 0.5
          },
          "path": "M -0.7700815456460249,0.6379454624459909 Q -0.19420449059488312, 0.04779765509710658 -0.9782015731519016, -0.20765760829583138L -0.9782015731519016, -0.20765760829583138 L -0.9787792665679109, -0.20491741589426296 L -0.9793492840209819, -0.20217561645161428 M -0.9793492840209819,-0.20217561645161428 Q -0.19408752016795489, 0.04827043106347516 -0.770547386076697, 0.637382715337002L -0.770547386076697, 0.637382715337002 L -0.7703145172501626, 0.6376641314309978 L -0.7700815456460249, 0.6379454624459909 ",
          "type": "path"
         },
         {
          "fillcolor": "rgba(102,194,165,0.75)",
          "layer": "below",
          "line": {
           "color": "rgb(175, 175, 175)",
           "width": 0.5
          },
          "path": "M -0.770547386076697,0.637382715337002 Q -0.15007792239168904, -0.13219915737475094 0.5350699262897991, -0.8448077733900351L 0.5350699262897991, -0.8448077733900351 L 0.5335261109842484, -0.8457835946020846 L 0.5319805160528784, -0.8467565946245197 M 0.5319805160528784,-0.8467565946245197 Q -0.15027091696638145, -0.13197973902869672 -0.7710128152726897, 0.6368196280622018L -0.7710128152726897, 0.6368196280622018 L -0.7707801520945581, 0.6371012142015505 L -0.770547386076697, 0.637382715337002 ",
          "type": "path"
         },
         {
          "fillcolor": "rgba(50,136,189,0.75)",
          "layer": "below",
          "line": {
           "color": "rgb(175, 175, 175)",
           "width": 0.5
          },
          "path": "M -0.771787616069946,0.6358803941631396 Q -0.1242977481406238, -0.15668461892339675 0.7947902475809921, -0.6068842248321712L 0.7947902475809921, -0.6068842248321712 L 0.7799299411048534, -0.625866828461279 L 0.764616364344398, -0.6444856983492767 M 0.764616364344398,-0.6444856983492767 Q -0.12773906134465093, -0.15389194977901707 -0.7742592842360694, 0.632868517761983L -0.7742592842360694, 0.632868517761983 L -0.7730249170216464, 0.6343756597345745 L -0.771787616069946, 0.6358803941631396 ",
          "type": "path"
         },
         {
          "fillcolor": "rgba(230,245,152,0.75)",
          "layer": "below",
          "line": {
           "color": "rgb(175,175,175)",
           "width": 0.5
          },
          "path": "M -0.952557583972628,0.30435842228568244 Q -0.19341742132104497, 0.05088910619688056 -0.9790031694182383, 0.20384502512704142L -0.9790031694182383, 0.20384502512704142 L -0.9670871066052248, 0.25444553098440276 L -0.952557583972628, 0.30435842228568244 ",
          "type": "path"
         },
         {
          "fillcolor": "rgba(171,221,164,0.75)",
          "layer": "below",
          "line": {
           "color": "rgb(175, 175, 175)",
           "width": 0.5
          },
          "path": "M -0.8922358699460289,0.45156965396453846 Q -0.19960080587159248, 0.012630055241797406 -0.9420391322579053, -0.3355030153288834L -0.9420391322579053, -0.3355030153288834 L -0.9566903708861544, -0.29110742734205936 L -0.9692506411842448, -0.24607558709455618 M -0.9692506411842448,-0.24607558709455618 Q -0.19947890762135465, 0.014427938667428043 -0.9237512867113693, 0.38299289849694296L -0.9237512867113693, 0.38299289849694296 L -0.9086407602203254, 0.41757869781183665 L -0.8922358699460289, 0.45156965396453846 ",
          "type": "path"
         },
         {
          "fillcolor": "rgba(230,245,152,0.75)",
          "layer": "below",
          "line": {
           "color": "rgb(175, 175, 175)",
           "width": 0.5
          },
          "path": "M -0.8334850003613281,0.5525420836213988 Q -0.14348096737721203, -0.1393313030173027 0.5278502684021449, -0.8493374442162452L 0.5278502684021449, -0.8493374442162452 L 0.527746851383832, -0.849401707588613 L 0.5276434265417448, -0.8494659583687191 M 0.5276434265417448,-0.8494659583687191 Q -0.1433451821141547, -0.1394709961413477 -0.8346939694427067, 0.550714061356688L -0.8346939694427067, 0.550714061356688 L -0.8340899856972642, 0.5516284036917765 L -0.8334850003613281, 0.5525420836213988 ",
          "type": "path"
         },
         {
          "fillcolor": "rgba(230,245,152,0.75)",
          "layer": "below",
          "line": {
           "color": "rgb(175, 175, 175)",
           "width": 0.5
          },
          "path": "M -0.9979027993915378,0.06473023224531377 Q -0.006476482501888897, -0.19989511043145286 0.9999999999998026, -6.283185325590418e-07L 0.9999999999998026, -6.283185325590418e-07 L 0.9931479499795587, -0.11686380727753148 L 0.9726858469461395, -0.2321254900924742 M 0.9726858469461395,-0.2321254900924742 Q -0.0030926297244824475, -0.1999760876739698 -0.9793986147310857, -0.20193650849420564L -0.9793986147310857, -0.20193650849420564 L -0.997601126817222, -0.06922421377674726 L -0.9979027993915378, 0.06473023224531377 ",
          "type": "path"
         },
         {
          "fillcolor": "rgba(171,221,164,0.75)",
          "layer": "below",
          "line": {
           "color": "rgb(175,175,175)",
           "width": 0.5
          },
          "path": "M -0.45211293198464536,-0.8919607035807393 Q 0.008666343044267374, -0.19981214802468614 0.5276428928064372, -0.8494662898966943L 0.5276428928064372, -0.8494662898966943 L 0.45325209795142757, -0.8913823734529585 L 0.3755566654290627, -0.9267994341020084 L 0.29512306863032145, -0.9554592478814691 L 0.21253774476068696, -0.9771528575673517 L 0.1284028191567298, -0.991722096170396 L 0.04333171522133687, -0.9990607401234306 L -0.04205531801467871, -0.9991152837519223 L -0.12713572809626864, -0.9918853293810891 L -0.21128919814198785, -0.9774235902353267 L -0.29390216954238113, -0.9558355061088082 L -0.3743723153841572, -0.9272784746093835 L -0.45211293198464536, -0.8919607035807393 ",
          "type": "path"
         },
         {
          "fillcolor": "rgba(102,194,165,0.75)",
          "layer": "below",
          "line": {
           "color": "rgb(175, 175, 175)",
           "width": 0.5
          },
          "path": "M -0.979398487850442,-0.20193712386846419 Q -0.07866322218304757, -0.18388066096188715 0.5303299257251584, -0.8477913480806158L 0.5303299257251584, -0.8477913480806158 L 0.5299169634157711, -0.8480495338623849 L 0.5295038754112628, -0.8483075184886987 M 0.5295038754112628,-0.8483075184886987 Q -0.07873038336482964, -0.18385191523404634 -0.9793492840209819, -0.20217561645161428L -0.9793492840209819, -0.20217561645161428 L -0.9793738931952879, -0.20205637165777504 L -0.979398487850442, -0.20193712386846419 ",
          "type": "path"
         },
         {
          "fillcolor": "rgba(171,221,164,0.75)",
          "layer": "below",
          "line": {
           "color": "rgb(175, 175, 175)",
           "width": 0.5
          },
          "path": "M -0.8670180970902388,-0.4982766493806641 Q 0.0018263074122427518, -0.1999916613292564 0.8759731885047205, -0.4823597962318931L 0.8759731885047205, -0.4823597962318931 L 0.8548178873175236, -0.5189281063133944 L 0.8321369173625595, -0.5545702397012815 M 0.8321369173625595,-0.5545702397012815 Q 0.012289749747498323, -0.19962204800859015 -0.757826207217534, -0.6524564657157496L -0.757826207217534, -0.6524564657157496 L -0.8160714473939356, -0.5779510297147735 L -0.8670180970902388, -0.4982766493806641 ",
          "type": "path"
         },
         {
          "fillcolor": "rgba(102,194,165,0.75)",
          "layer": "below",
          "line": {
           "color": "rgb(175,175,175)",
           "width": 0.5
          },
          "path": "M 0.5402030583822396,-0.8415347026204414 Q 0.12542004549358682, -0.155787715139502 0.7068049375311597, -0.7074084960484808L 0.7068049375311597, -0.7074084960484808 L 0.627100227467934, -0.7789385756975099 L 0.5402030583822396, -0.8415347026204414 ",
          "type": "path"
         },
         {
          "fillcolor": "rgba(102,194,165,0.75)",
          "layer": "below",
          "line": {
           "color": "rgb(175, 175, 175)",
           "width": 0.5
          },
          "path": "M 0.5303299257251584,-0.8477913480806158 Q 0.12462178960128412, -0.15642701031654757 0.7078382150606691, -0.7063745899306726L 0.7078382150606691, -0.7063745899306726 L 0.707321987282602, -0.7068915095731386 L 0.7068053820088863, -0.707408051949702 M 0.7068053820088863,-0.707408051949702 Q 0.12465987797131402, -0.15639665860937407 0.5319805160528784, -0.8467565946245197L 0.5319805160528784, -0.8467565946245197 L 0.5311554728667875, -0.8472743732957225 L 0.5303299257251584, -0.8477913480806158 ",
          "type": "path"
         },
         {
          "fillcolor": "rgba(50,136,189,0.75)",
          "layer": "below",
          "line": {
           "color": "rgb(175,175,175)",
           "width": 0.5
          },
          "path": "M 0.9260657087176012,-0.3773622969208331 Q 0.19042980859605918, -0.06112681897553869 0.9726858469461395, -0.2321254900924742L 0.9726858469461395, -0.2321254900924742 L 0.9521490429802958, -0.30563409487769344 L 0.9260657087176012, -0.3773622969208331 ",
          "type": "path"
         },
         {
          "fillcolor": "rgba(213,62,79,0.75)",
          "layer": "below",
          "line": {
           "color": "rgb(150,150,150)",
           "width": 0.45
          },
          "path": "M 1.1, 0.0 L 1.0999913313713872, 0.004367025051814605 L 1.0999653256221762, 0.008733981274323177 L 1.099921983162247, 0.013100799839304516 L 1.099861304674727, 0.017467411920707058 L 1.099783291115978, 0.02183374869573366 L 1.0996879437155826, 0.026199741345926314 L 1.0995752639763257, 0.03056532105825082 L 1.099445253674168, 0.03493041902618135 L 1.0992979148582207, 0.039294966450784924 L 1.099133249850712, 0.043658894541805736 L 1.0989512612469505, 0.04802213451874939 L 1.0987519519152846, 0.05238461761196698 L 1.0985353249970575, 0.05674627506373892 L 1.0983013839065565, 0.06110703812935871 L 1.0980501323309608, 0.06546683807821635 L 1.0977815742302826, 0.0698256061948817 L 1.0974957138373043, 0.07418327378018746 L 1.0971925556575122, 0.078539772152312 L 1.0968721044690262, 0.08289503264786174 L 1.0965343653225228, 0.08724898662295352 L 1.096179343541157, 0.09160156545429643 L 1.0958070447204784, 0.09595270054027338 L 1.0954174747283416, 0.10030232330202235 L 1.0950106397048145, 0.1046503651845173 L 1.0945865460620827, 0.10899675765764866 L 1.0941452004843464, 0.11334143221730336 L 1.0936866099277163, 0.11768432038644476 L 1.093210781620104, 0.1220253537161916 L 1.0927177230611071, 0.12636446378689717 L 1.0922074420218921, 0.13070158220922737 L 1.0916799465450715, 0.13503664062523887 L 1.091135244944577, 0.13936957070945635 L 1.0905733458055282, 0.1437003041699495 L 1.0899942579840978, 0.1480287727494091 L 1.0893979906073719, 0.15235490822622336 L 1.0887845530732054, 0.15667864241555254 L 1.0881539550500754, 0.1609999071704042 L 1.0875062064769272, 0.16531863438270675 L 1.086841317563019, 0.16963475598438346 L 1.0861592987877595, 0.17394820394842475 L 1.0854601609005445, 0.17825891028996077 L 1.084743914920586, 0.18256680706733275 L 1.0840105721367392, 0.18687182638316377 L 1.0832601441073249, 0.19117390038542914 L 1.0824926426599462, 0.19547296126852556 L 1.081708079891303, 0.19976894127434 L 1.0809064681670015, 0.20406177269331757 L 1.0800878201213586, 0.20835138786552862 L 1.079252148657203, 0.21263771918173538 L 1.0783994669456725, 0.21692069908445727 L 1.077529788426005, 0.2212002600690359 L 1.0766431268053283, 0.2254763346846988 L 1.0757394960584425, 0.2297488555356229 L 1.0748189104276011, 0.23401775528199636 L 1.0738813844222863, 0.23828296664108004 L 1.072926932818979, 0.2425444223882681 L 1.0719555706609272, 0.24680205535814745 L 1.0709673132579092, 0.2510557984455563 L 1.0699621761859908, 0.2553055846066417 L 1.0689401752872811, 0.2595513468599168 L 1.0679013266696826, 0.2637930182873157 L 1.0668456467066365, 0.26803053203524874 L 1.065773152036866, 0.2722638213156561 L 1.0646838595641126, 0.2764928194070604 L 1.0635777864568705, 0.2807174596556182 L 1.0624549501481164, 0.28493767547617077 L 1.0613153683350338, 0.28915340035329323 L 1.0601590589787342, 0.29336456784234327 L 1.058986040303975, 0.29757111157050836 L 1.0577963307988711, 0.3017729652378513 L 1.056589949214604, 0.305970062618356 L 1.0553669145651263, 0.3101623375609708 L 1.054127246126862, 0.3143497239906509 L 1.0528709634384024, 0.31853215590940054 L 1.0515980863001986, 0.32270956739731216 L 1.0503086347742492, 0.3268818926136064 L 1.0490026291837837, 0.33104906579766913 L 1.047680090112943, 0.3352110212700882 L 1.0463410384064549, 0.3393676934336885 L 1.044985495169304, 0.3435190167745658 L 1.0436134817664016, 0.3476649258631198 L 1.042225019822247, 0.3518053553550846 L 1.0408201312205867, 0.3559402399925593 L 1.0393988381040715, 0.360069514605036 L 1.0379611628739052, 0.36419311411042743 L 1.0365071281894924, 0.36831097351609227 L 1.0350367569680814, 0.37242302791986 L 1.0335500723844038, 0.37652921251105337 L 1.0320470978703074, 0.38062946257151 L 1.0305278571143883, 0.3847237134766028 L 1.0289923740616174, 0.38881190069625793 L 1.0274406729129624, 0.39289395979597236 L 1.025872778125007, 0.39696982643782913 L 1.0242887144095651, 0.4010394363815115 L 1.0226885067332914, 0.40510272548531556 L 1.0210721803172875, 0.40915962970716085 L 1.0194397606367052, 0.41321008510560014 L 1.0177912734203445, 0.417254027840827 L 1.016126744650248, 0.4212913941756819 L 0.92375158604568, 0.38299217652334716 L 0.9252647940184949, 0.37932184349166087 L 0.9267634187606411, 0.37564553191418193 L 0.9282474366520794, 0.37196329973378256 L 0.9297168243029921, 0.3682752049866505 L 0.9311715585541501, 0.3645813058013741 L 0.9326116164772791, 0.36088166039802644 L 0.9340369753754203, 0.35717632708724756 L 0.9354476127832885, 0.35346536426932534 L 0.9368435064676256, 0.3497488304332752 L 0.938224634427552, 0.34602678415591814 L 0.9395909748949124, 0.34229928410095756 L 0.9409425063346194, 0.3385663890180545 L 0.9422792074449929, 0.33482815774190205 L 0.9436010571580955, 0.33108464919129765 L 0.944908034640065, 0.3273359223682145 L 0.9462001192914424, 0.32358203635687205 L 0.9474772907474971, 0.31982305032280417 L 0.9487395288785468, 0.31605902351192705 L 0.9499868137902764, 0.31229001524960526 L 0.9512191258240498, 0.3085160849397168 L 0.952436445557221, 0.3047372920637165 L 0.9536387538034397, 0.3009536961796992 L 0.9548260316129537, 0.29716535692146034 L 0.9559982602729077, 0.29337233399755647 L 0.9571554213076384, 0.2895746871903641 L 0.9582974964789653, 0.2857724763551372 L 0.9594244677864784, 0.2819657614190643 L 0.9605363174678218, 0.27815460238032363 L 0.9616330279989737, 0.27433905930713753 L 0.9627145820945227, 0.27051919233682575 L 0.9637809627079401, 0.2666950616748575 L 0.9648321530318488, 0.2628667275939029 L 0.9658681364982876, 0.2590342504328825 L 0.9668888967789732, 0.2551976905960165 L 0.9678944177855567, 0.25135710855187304 L 0.9688846836698781, 0.2475125648324146 L 0.969859678824215, 0.2436641200320443 L 0.9708193878815295, 0.2398118348066506 L 0.97176379571571, 0.23595576987265163 L 0.9726928874418097, 0.23209598600603792 L 0.973606648416281, 0.2282325440414148 L 0.9745050642372065, 0.22436550487104312 L 0.9753881207445262, 0.22049492944388008 L 0.9762558040202601, 0.2166208787646182 L 0.9771081003887283, 0.21274341389272394 L 0.9779449964167658, 0.20886259594147535 L 0.9787664789139346, 0.2049784860769989 L 0.9795725349327318, 0.20109114551730534 L 0.9803631517687931, 0.19720063553132477 L 0.9811383169610937, 0.19330701743794124 L 0.9818980182921441, 0.189410352605026 L 0.9826422437881831, 0.1855107024484705 L 0.9833709817193662, 0.18160812843121818 L 0.9840842205999509, 0.17770269206229594 L 0.9847819491884771, 0.17379445489584466 L 0.9854641564879447, 0.16988347853014887 L 0.9861308317459871, 0.16596982460666612 L 0.9867819644550404, 0.16205355480905523 L 0.9874175443525085, 0.1581347308622043 L 0.9880375614209261, 0.15421341453125767 L 0.9886420058881156, 0.1502896676206425 L 0.9892308682273412, 0.1463635519730947 L 0.9898041391574594, 0.1424351294686841 L 0.9903618096430652, 0.1385044620238394 L 0.9909038708946343, 0.1345716115903719 L 0.9914303143686619, 0.13063664015449952 L 0.9919411317677972, 0.1266996097358694 L 0.9924363150409741, 0.12276058238658079 L 0.9929158563835382, 0.11881962019020668 L 0.99337974823737, 0.11487678526081559 L 0.9938279832910035, 0.11093213974199236 L 0.994260554479742, 0.10698574580585886 L 0.9946774549857694, 0.10303766565209396 L 0.995078678238257, 0.09908796150695331 L 0.9954642179134677, 0.09513669562228845 L 0.9958340679348558, 0.09118393027456577 L 0.9961882224731622, 0.08722972776388489 L 0.9965266759465065, 0.08327415041299675 L 0.9968494230204752, 0.07931726056632138 L 0.9971564586082055, 0.07535912058896521 L 0.9974477778704656, 0.07139979286573818 L 0.997723376215731, 0.06743933980017042 L 0.9979832493002568, 0.06347782381352882 L 0.9982273930281462, 0.05951530734383304 L 0.9984558035514149, 0.055551852844871547 L 0.9986684772700521, 0.0515875227852172 L 0.9988654108320769, 0.0476223796472427 L 0.9990466011335913, 0.04365648592613581 L 0.999212045318829, 0.0396899041289143 L 0.9993617407802006, 0.03572269677344084 L 0.9994956851583344, 0.03175492638743759 L 0.9996138763421142, 0.027786655507500743 L 0.9997163124687115, 0.023817946678114828 L 0.9998029919236162, 0.019848862450666964 L 0.9998739133406608, 0.01587946538246096 L 0.9999290756020428, 0.011909818035731377 L 0.9999684778383419, 0.007939982976657434 L 0.9999921194285337, 0.003970022774376913 L 1.0, 0.0 L 1.1 ,0.0",
          "type": "path"
         },
         {
          "fillcolor": "rgba(244,109,67,0.75)",
          "layer": "below",
          "line": {
           "color": "rgb(150,150,150)",
           "width": 0.45
          },
          "path": "M 1.0161264799448577, 0.42129203262686193 L 1.01115304901201, 0.433092959390609 L 1.0060425718369692, 0.4448351870655655 L 1.0007957410663069, 0.4565171241733896 L 0.9954132678272266, 0.46813718740719823 L 0.9898958816311828, 0.47969380184616056 L 0.9842443302750056, 0.49118540116895365 L 0.9784593797395488, 0.5026104278660536 L 0.9725418140858734, 0.5139673334508319 L 0.9664924353489793, 0.5252545786694288 L 0.9603120634291025, 0.5364706337093762 L 0.95400153598059, 0.5476139784069387 L 0.9475617082983687, 0.5586831024531504 L 0.9409934532020231, 0.5696765055985126 L 0.9342976609174984, 0.5805926978563298 L 0.9274752389564437, 0.5914301997046547 L 0.9205271119932132, 0.6021875422868149 L 0.9134542217395403, 0.6128632676104931 L 0.9062575268169032, 0.6234559287453365 L 0.8989380026265992, 0.6339640900190645 L 0.8914966412175427, 0.6443863272120539 L 0.8839344511518094, 0.6547212277503683 L 0.8762524573679408, 0.6649673908972118 L 0.8684517010420297, 0.6751234279427765 L 0.8605332394466041, 0.6851879623924617 L 0.8524981458073316, 0.6951596301534358 L 0.8443475091575587, 0.7050370797195183 L 0.8360824341907097, 0.7148189723543561 L 0.8277040411105626, 0.7245039822728679 L 0.8192134654794229, 0.7340907968209346 L 0.8106118580642147, 0.7435781166533088 L 0.8019003846805128, 0.7529646559097218 L 0.7930802260345343, 0.7622491423891615 L 0.7841525775631116, 0.7714303177222998 L 0.7751186492716693, 0.7805069375420459 L 0.7659796655702271, 0.7894777716522 L 0.7567368651074498, 0.798341604194188 L 0.7473915006027665, 0.8070972338118532 L 0.7379448386765851, 0.8157434738142799 L 0.7283981596786211, 0.824279152336633 L 0.7187527575143648, 0.8327031124989847 L 0.7090099394697139, 0.8410142125631128 L 0.6991710260337898, 0.8492113260872454 L 0.6892373507199661, 0.8572933420787325 L 0.679210259885131, 0.8652591651446248 L 0.6690911125472108, 0.8731077156401357 L 0.6588812802009733, 0.8808379298149727 L 0.6485821466321451, 0.8884487599575108 L 0.6381951077298601, 0.8959391745367944 L 0.6277215712974673, 0.9033081583423449 L 0.6171629568617257, 0.9105547126217577 L 0.606520695480409, 0.9176778552160672 L 0.5957962295483479, 0.9246766206928628 L 0.5849910126019352, 0.9315500604771397 L 0.5741065091221214, 0.9382972429798628 L 0.5631441943359278, 0.9449172537242291 L 0.5521055540165004, 0.9514091954696114 L 0.5409920842817376, 0.957772188333166 L 0.5298052913915147, 0.9640053699090853 L 0.5185466915435316, 0.9701078953854864 L 0.5072178106678177, 0.97607893765891 L 0.4958201842199143, 0.9819176874464226 L 0.48435535697276766, 0.9876233533953027 L 0.4728248828073586, 0.9931951621902957 L 0.4612303245020979, 0.9986323586584251 L 0.4495732535210161, 1.0039342058713452 L 0.437855249800775, 1.009099985245219 L 0.42607790153653174, 1.014128996638113 L 0.4142428049666843, 1.019020558444889 L 0.4023515641565246, 1.023774007689587 L 0.39040579078083254, 1.028388700115279 L 0.37840710390543936, 1.03286401027139 L 0.3663571297677864, 1.0371993315984684 L 0.35425750155651475, 1.041394076510394 L 0.3421098591901113, 1.0454476764740177 L 0.3299158490946436, 1.0493595820862174 L 0.3176771239806112, 1.05312926314836 L 0.30539534261894635, 1.0567562087381632 L 0.2930721696161943, 1.0602399272789422 L 0.28070927518889965, 1.0635799466062357 L 0.2683083349372352, 1.0667758140317996 L 0.25587102961790087, 1.0698270964049637 L 0.24339904491632114, 1.0727333801713372 L 0.2308940712181775, 1.0754942714288604 L 0.2183578033803032, 1.0781093959811914 L 0.20579194050096994, 1.0805783993884226 L 0.1931981856896024, 1.082900947015121 L 0.18057824583594734, 1.0850767240756813 L 0.1679338313787319, 1.0871054356769907 L 0.15526665607383866, 1.0889868068583974 L 0.14257843676203308, 1.090720582628977 L 0.1298708931362719, 1.092306528002093 L 0.1171457475086261, 1.093744428027245 L 0.10440472457684649, 1.0950340878192024 L 0.0916495511906083, 1.0961753325844183 L 0.07888195611746388, 1.0971680076447192 L 0.06610366980853341, 1.09801197845827 L 0.0533164241639697, 1.0987071306378091 L 0.04052195229822636, 1.0992533699661513 L 0.027721988305159446, 1.099650622408958 L 0.02520180755014495, 0.9996823840081436 L 0.03683813845293305, 0.9993212454237739 L 0.04846947651269972, 0.9988246642161901 L 0.06009424528048491, 0.9981927076893363 L 0.07171086919769443, 0.9974254614951993 L 0.0833177738096439, 0.9965230296221984 L 0.09491338597895135, 0.9954855343810931 L 0.10649613409875099, 0.9943131163884045 L 0.11806444830570172, 0.9930059345473572 L 0.12961676069275732, 0.9915641660263427 L 0.1411515055216715, 0.9899880062349067 L 0.15266711943521083, 0.9882776687972642 L 0.16416204166904302, 0.9864333855233466 L 0.1756347142632749, 0.9844554063773827 L 0.18708358227360902, 0.9823439994440205 L 0.1985070939820938, 0.980099450891992 L 0.2099037011074341, 0.9777220649353277 L 0.22127185901483737, 0.9752121637921247 L 0.2326100269253644, 0.972570087640876 L 0.24391666812475926, 0.9697961945743632 L 0.2551902501717269, 0.9668908605511232 L 0.26642924510563115, 0.9638544793444929 L 0.2776321296535876, 0.9606874624892393 L 0.28879738543691924, 0.9573902392257817 L 0.2999234991769487, 0.9539632564420156 L 0.31100896290010116, 0.9504069786127433 L 0.3220522741422861, 0.9467218877367216 L 0.33305193615253303, 0.9429084832713348 L 0.34400645809585395, 0.9389672820649 L 0.3549143552553023, 0.9348988182866171 L 0.36577414923320417, 0.9307036433541698 L 0.3765843681515312, 0.92638232585899 L 0.38734354685139244, 0.9219354514891935 L 0.3980502270916136, 0.917363622950199 L 0.40870295774637827, 0.912667459883041 L 0.41930029500190713, 0.9078475987803865 L 0.4298408025521442, 0.9029046929002688 L 0.4403230517934251, 0.8978394121775478 L 0.45074562201810386, 0.8926524431331114 L 0.4611071006071069, 0.8873444887808272 L 0.4714060832213924, 0.8819162685322602 L 0.481641173992286, 0.8763685180991684 L 0.49181098571067056, 0.8707019893937872 L 0.5019141400150003, 0.8649174504269195 L 0.5119492675781161, 0.8590156852038445 L 0.5219150082928375, 0.8529974936180571 L 0.5318100114563047, 0.8468636913428542 L 0.5416329359530435, 0.8406151097207843 L 0.5513824504367354, 0.8342525956509701 L 0.5610572335106597, 0.8277770114743251 L 0.5706559739067885, 0.8211892348566772 L 0.5801773706635092, 0.814490158669813 L 0.5896201333019501, 0.8076806908704643 L 0.5989829820008847, 0.8007617543772478 L 0.6082646477701915, 0.7937342869455778 L 0.6174638726228463, 0.7865992410405679 L 0.6265794097454236, 0.7793575837079386 L 0.6356100236670815, 0.7720102964429503 L 0.6445544904270126, 0.7645583750573752 L 0.6534115977403316, 0.7570028295445315 L 0.6621801451623828, 0.7493446839423935 L 0.670858944251441, 0.7415849761947999 L 0.6794468187297876, 0.7337247580107755 L 0.6879426046431361, 0.725765094721989 L 0.6963451505183882, 0.7177070651383636 L 0.7046533175196993, 0.7095517614018598 L 0.7128659796028287, 0.7013002888384543 L 0.7209820236677584, 0.6929537658083286 L 0.7290003497095571, 0.6845133235542925 L 0.7369198709674678, 0.6759801060484625 L 0.7447395140722025, 0.6673552698372132 L 0.7524582191914205, 0.6586399838844254 L 0.7600749401733724, 0.649835429413051 L 0.7675886446886897, 0.6409427997450167 L 0.7749983143703014, 0.6319633001394871 L 0.7823029449514582, 0.6228981476295106 L 0.7895015464018451, 0.6137485708570695 L 0.7965931430617643, 0.6045158099065562 L 0.8035767737743721, 0.5952011161366985 L 0.8104514920159478, 0.5858057520109581 L 0.817216366024181, 0.5763309909264223 L 0.8238704789244574, 0.566778117041215 L 0.8304129288541274, 0.5571484251004483 L 0.8368428290847393, 0.5474432202607408 L 0.8431593081422215, 0.5376638179133224 L 0.8493615099249985, 0.5278115435057543 L 0.8554485938200209, 0.5178877323622841 L 0.8614197348166988, 0.507893729502864 L 0.8672741236187181, 0.49783088946085335 L 0.8730109667537295, 0.48770057609943285 L 0.8786294866808902, 0.4775041624267535 L 0.8841289218962485, 0.46724303040984716 L 0.8895085270359534, 0.45691857078732145 L 0.8947675729772777, 0.44653218288086693 L 0.8999053469374388, 0.43608527440560046 L 0.9049211525702059, 0.4255792612792711 L 0.9098143100602788, 0.4150155674303541 L 0.9145841562154265, 0.4043956246050595 L 0.9192300445563727, 0.3937208721732809 L 0.9237513454044161, 0.3829927569335108 L 1.0161264799448577 ,0.42129203262686193",
          "type": "path"
         },
         {
          "fillcolor": "rgba(253,174,97,0.75)",
          "layer": "below",
          "line": {
           "color": "rgb(150,150,150)",
           "width": 0.45
          },
          "path": "M 0.027721297374290556, 1.0996506398269799 L 0.02172964050761886, 1.099785353022766 L 0.015737338610043717, 1.0998874197723478 L 0.009744569559331237, 1.0999568370459378 L 0.003751511247113961, 1.0999936027829267 L -0.002241658426388293, 1.0999977158919467 L -0.00823476155765026, 1.0999691762509025 L -0.014227620245121695, 1.0999079847069757 L -0.020220056594509254, 1.0998141430765995 L -0.02621189272405569, 1.0996876541454044 L -0.03220295076982117, 1.099528521668136 L -0.03819305289096255, 1.0993367503685432 L -0.04418202127501344, 1.0991123459392376 L -0.050169678143160985, 1.0988553150415263 L -0.05615584575552416, 1.0985656653052116 L -0.062140346416429515, 1.0982434053283663 L -0.06812300247968582, 1.0978885446770783 L -0.07410363635385829, 1.0975010938851657 L -0.08008207050753886, 1.097081064453865 L -0.08605812747461701, 1.0966284688514896 L -0.09203162985954733, 1.0961433205130593 L -0.0980024003426163, 1.0956256338399013 L -0.1039702616852045, 1.095075424199224 L -0.10993503673504873, 1.0944927079236588 L -0.11589654843150059, 1.0938775023107776 L -0.12185461981078194, 1.093229825622577 L -0.12780907401123912, 1.092549697084938 L -0.1337597342785914, 1.0918371368870545 L -0.13970642397117866, 1.0910921661808344 L -0.14564896656520554, 1.0903148070802706 L -0.15158718565998, 1.0895050826607864 L -0.15752090498315058, 1.0886630169585487 L -0.16344994839593882, 1.087788634969756 L -0.16937413989836753, 1.0868819626498953 L -0.17529330363448611, 1.0859430269129722 L -0.18120726389758945, 1.0849718556307115 L -0.1871158451354345, 1.0839684776317309 L -0.19301887195545103, 1.0829329227006839 L -0.19891616912994892, 1.0818652215773763 L -0.20480756160131838, 1.0807654059558542 L -0.21069287448722723, 1.079633508483462 L -0.21657193308581213, 1.0784695627598744 L -0.22244456288086406, 1.0772736033360986 L -0.22831058954700972, 1.0760456657134478 L -0.23416983895488497, 1.0747857863424894 L -0.2400221371763046, 1.0734940026219613 L -0.24586731048942478, 1.072170352897662 L -0.2517051853839009, 1.0708148764613128 L -0.2575355885660367, 1.0694276135493908 L -0.26335834696392924, 1.068008605341936 L -0.26917328773260635, 1.0665578939613263 L -0.27498023825915696, 1.06507552247103 L -0.28077902616785627, 1.0635615348743253 L -0.2865694793252809, 1.062015976112995 L -0.29235142584541934, 1.0604388920659928 L -0.29812469409477516, 1.0588303295480805 L -0.3038891126974604, 1.0571903363084392 L -0.3096445105402833, 1.0555189610292506 L -0.31539071677782804, 1.0538162533242539 L -0.3211275608375257, 1.0520822637372713 L -0.32685487242471783, 1.0503170437407086 L -0.33257248152771196, 1.0485206457340266 L -0.3382802184228273, 1.0466931230421859 L -0.3439779136794333, 1.0448345299140647 L -0.34966539816498005, 1.0429449215208473 L -0.3553425030500173, 1.0410243539543869 L -0.36100905981320697, 1.039072884225541 L -0.36666490024632564, 1.0370905702624782 L -0.3723098564592569, 1.0350774709089594 L -0.37794376088497683, 1.0330336459225902 L -0.38356644628452585, 1.0309591559730484 L -0.3891777457519748, 1.0288540626402811 L -0.39477749271937823, 1.026718428412679 L -0.40036552096172057, 1.0245523166852195 L -0.4059416646018484, 1.022355791757586 L -0.4115057581153956, 1.020128918832259 L -0.41705763633569676, 1.0178717640125803 L -0.4225971344586894, 1.015584394300791 L -0.4281240880478074, 1.0132668775960425 L -0.4336383330388606, 1.0109192826923812 L -0.43913970574490585, 1.008541679276706 L -0.44462804286110613, 1.0061341379266993 L -0.45010318146957756, 1.0036967301087338 L -0.45556495904422567, 1.001229528175749 L -0.4610132134555701, 0.9987326053651042 L -0.46644778297555733, 0.9962060357964047 L -0.4718685062823612, 0.9936498944693013 L -0.4772752224651714, 0.9910642572612642 L -0.4826677710289718, 0.9884492009253305 L -0.48804599189930176, 0.9858048030878258 L -0.49340972542701006, 0.98313114224606 L -0.49875881239299297, 0.9804282977659975 L -0.504093094012921, 0.9776963498799004 L -0.5094124119419523, 0.9749353796839475 L -0.5147166082794326, 0.972145469135827 L -0.5200055255735828, 0.9693267010523037 L -0.5252790068261731, 0.9664791591067597 L -0.5305368954971821, 0.9636029278267124 L -0.5357790355094459, 0.9606980925913031 L -0.5410052712532888, 0.9577647396287648 L -0.4918229738666261, 0.8706952178443316 L -0.4870718504631326, 0.8733619023557301 L -0.4823062686338019, 0.8760026616606476 L -0.47752636984197555, 0.8786174173697815 L -0.4727322959759844, 0.8812060918657305 L -0.4679241893449386, 0.8837686083052972 L -0.46310219267450203, 0.8863048906217704 L -0.45826644910265546, 0.8888148635271821 L -0.4534171021754481, 0.8912984525145431 L -0.4485542958427364, 0.8937555838600545 L -0.44367817445391067, 0.8961861846252961 L -0.43878888275361067, 0.8985901826593913 L -0.4338865658774285, 0.9009675066011492 L -0.42897136934760105, 0.9033180858811829 L -0.42404343906868847, 0.9056418507240042 L -0.4191029213232455, 0.9079387321500947 L -0.41414996276747784, 0.9102086619779537 L -0.40918471042688864, 0.9124515728261217 L -0.40420731169191465, 0.9146673981151812 L -0.39921791431355075, 0.9168560720697325 L -0.3942166663989642, 0.9190175297203464 L -0.3892037164070976, 0.9211517069054932 L -0.38417921314426307, 0.9232585402734463 L -0.37914330575972427, 0.9253379672841638 L -0.3740961437412687, 0.9273899262111445 L -0.3690378769107712, 0.92941435614326 L -0.36396865541974593, 0.931411196986563 L -0.3588886297448893, 0.9333803894660717 L -0.3537979506836134, 0.9353218751275282 L -0.34869676934956895, 0.9372355963391348 L -0.34358523716816075, 0.9391214962932638 L -0.3384635058720517, 0.9409795190081448 L -0.3333317274966596, 0.9428096093295256 L -0.3281900543756427, 0.9446117129323099 L -0.3230386391363793, 0.9463857763221698 L -0.3178776346954364, 0.9481317468371337 L -0.31270719425403026, 0.9498495726491496 L -0.30752747129347935, 0.9515392027656234 L -0.3023386195706472, 0.9532005870309331 L -0.2971407931133798, 0.9548336761279168 L -0.29193414621593244, 0.9564384215793376 L -0.2867188334343891, 0.9580147757493217 L -0.2814950095820757, 0.9595626918447732 L -0.27626282972496397, 0.9610821239167627 L -0.2710224491770683, 0.9625730268618914 L -0.26577402349583573, 0.9640353564236298 L -0.26051770847752803, 0.9654690691936317 L -0.2552536601525966, 0.9668741226130229 L -0.24998203478105177, 0.9682504749736636 L -0.24470298884782393, 0.9695980854193874 L -0.23941667905811748, 0.9709169139472144 L -0.23412326233276062, 0.972206921408537 L -0.22882289580354626, 0.9734680695102842 L -0.22351573680856796, 0.9747003208160563 L -0.21820194288754963, 0.9759036387472374 L -0.21288167177716813, 0.9770779875840813 L -0.20755508140637247, 0.9782233324667706 L -0.20222232989169459, 0.9793396393964531 L -0.19688357553255648, 0.9804268752362494 L -0.1915389768065702, 0.9814850077122381 L -0.18618869236483487, 0.9825140054144128 L -0.18083288102722628, 0.9835138377976148 L -0.17547170177768273, 0.9844844751824399 L -0.1701053137594859, 0.9854258887561189 L -0.16473387627053585, 0.9863380505733741 L -0.15935754875862373, 0.9872209335572473 L -0.15397649081669773, 0.9880745114999048 L -0.1485908621781262, 0.9888987590634145 L -0.14320082271195506, 0.9896936517804988 L -0.13780653241816362, 0.9904591660552603 L -0.13240815142291412, 0.9911952791638824 L -0.12700583997379877, 0.9919019692553039 L -0.12159975843508308, 0.9925792153518678 L -0.11619006728294463, 0.9932269973499436 L -0.11077692710071084, 0.9938452960205244 L -0.10536049857409144, 0.9944340930097977 L -0.09994094248640793, 0.9949933708396899 L -0.09451841971382226, 0.9955231129083854 L -0.08909309122056026, 0.9960233034908194 L -0.08366511805413393, 0.9964939277391448 L -0.07823466134056091, 0.9969349716831724 L -0.07280188227958077, 0.9973464222307864 L -0.06736694213987117, 0.9977282671683324 L -0.06193000225425983, 0.9980804951609802 L -0.05649122401493592, 0.9984030957530602 L -0.05105076886865832, 0.998696059368374 L -0.04560879831196453, 0.9989593773104783 L -0.04016547388637585, 0.9991930417629432 L -0.03472095717360232, 0.9993970457895845 L -0.02927540979074652, 0.999571383334669 L -0.023828993385505173, 0.9997160492230949 L -0.018381869631372047, 0.9998310391605449 L -0.012934200222837904, 0.9999163497336142 L -0.007486146870591145, 0.9999719784099113 L -0.0020378712967166297, 0.9999979235381332 L 0.003410464770103601, 0.999994184348115 L 0.008858699599392034, 0.9999607609508524 L 0.014306671463676104, 0.999897654338498 L 0.019754218643289873, 0.9998048663843325 L 0.02520117943117323, 0.9996823998427089 L 0.027721297374290556 ,1.0996506398269799",
          "type": "path"
         },
         {
          "fillcolor": "rgba(254,224,139,0.75)",
          "layer": "below",
          "line": {
           "color": "rgb(150,150,150)",
           "width": 0.45
          },
          "path": "M -0.5410058730345159, 0.9577643997049387 L -0.5445265669170704, 0.9557671358241553 L -0.5480398874830977, 0.9537569301072018 L -0.5515457871594825, 0.9517338097738395 L -0.5550442184735959, 0.9496978022187034 L -0.5585351340539356, 0.9476489350109313 L -0.5620184866307681, 0.9455872358937917 L -0.5654942290367693, 0.9435127327843065 L -0.5689623142076633, 0.9414254537728733 L -0.5724226951828575, 0.9393254271228867 L -0.5758753251060819, 0.9372126812703532 L -0.5793201572260205, 0.9350872448235078 L -0.5827571448969467, 0.9329491465624261 L -0.5861862415793538, 0.9307984154386338 L -0.5896074008405839, 0.928635080574717 L -0.5930205763554597, 0.9264591712639249 L -0.5964257219069097, 0.9242707169697749 L -0.5998227913865933, 0.922069747325654 L -0.6032117387955275, 0.9198562921344161 L -0.6065925182447084, 0.9176303813679795 L -0.6099650839557316, 0.9153920451669205 L -0.6133293902614141, 0.9131413138400661 L -0.616685391606412, 0.9108782178640822 L -0.620033042547836, 0.9086027878830626 L -0.6233722977558689, 0.9063150547081122 L -0.6267031120143772, 0.9040150493169321 L -0.6300254402215253, 0.9017028028533977 L -0.6333392373903856, 0.8993783466271383 L -0.6366444586495464, 0.8970417121131137 L -0.6399410592437214, 0.8946929309511862 L -0.6432289945343549, 0.8923320349456939 L -0.6465082200002252, 0.8899590560650196 L -0.6497786912380497, 0.8875740264411569 L -0.6530403639630846, 0.8851769783692763 L -0.656293194009724, 0.8827679443072879 L -0.6595371373320996, 0.8803469568754011 L -0.6627721500046766, 0.877914048855683 L -0.6659981882228472, 0.8754692531916156 L -0.6692152083035253, 0.8730126029876484 L -0.6724231666857383, 0.8705441315087502 L -0.6756220199312138, 0.8680638721799604 L -0.6788117247249726, 0.865571858585934 L -0.6819922378759116, 0.8630681244704882 L -0.6851635163173891, 0.8605527037361459 L -0.6883255171078102, 0.858025630443675 L -0.6914781974312049, 0.8554869388116291 L -0.6946215145978107, 0.8529366632158825 L -0.6977554260446499, 0.8503748381891655 L -0.7008798893361042, 0.8478014984205975 L -0.7039948621644923, 0.8452166787552159 L -0.7071003023506406, 0.8426204141935044 L -0.7101961678444542, 0.8400127398909211 L -0.713282416725488, 0.8373936911574195 L -0.7163590072035135, 0.8347633034569718 L -0.7194258976190836, 0.8321216124070904 L -0.7224830464440983, 0.8294686537783421 L -0.7255304122823667, 0.8268044634938657 L -0.728567953870166, 0.8241290776288869 L -0.7315956300768031, 0.8214425324102264 L -0.734613399905168, 0.8187448642158129 L -0.7376212224922922, 0.8160361095741882 L -0.7406190571099011, 0.8133163051640127 L -0.7436068631649629, 0.8105854878135706 L -0.7465846002002424, 0.8078436945002693 L -0.7495522278948464, 0.8050909623501388 L -0.7525097060647691, 0.8023273286373305 L -0.7554569946634384, 0.7995528307836111 L -0.7583940537822567, 0.7967675063578556 L -0.7613208436511408, 0.793971393075541 L -0.7642373246390622, 0.7911645287982322 L -0.7671434572545827, 0.7883469515330713 L -0.7700392021463878, 0.7855186994322635 L -0.7729245201038225, 0.7826798107925588 L -0.7757993720574206, 0.7798303240547344 L -0.7786637190794322, 0.7769702778030748 L -0.781517522384354, 0.7740997107648477 L -0.7843607433294529, 0.7712186618097804 L -0.7871933434152878, 0.7683271699495345 L -0.790015284286234, 0.765425274337176 L -0.7928265277309996, 0.7625130142666462 L -0.7956270356831452, 0.7595904291722292 L -0.7984167702215984, 0.7566575586280174 L -0.801195693571166, 0.7537144423473776 L -0.8039637681030483, 0.7507611201824107 L -0.8067209563353466, 0.7477976321234135 L -0.8094672209335704, 0.7448240182983378 L -0.8122025247111448, 0.7418403189722451 L -0.8149268306299132, 0.7388465745467627 L -0.8176401018006373, 0.7358428255595373 L -0.8203423014834993, 0.7328291126836841 L -0.8230333930885969, 0.7298054767272382 L -0.8257133401764407, 0.7267719586326 L -0.8283821064584469, 0.7237285994759821 L -0.8310396557974276, 0.7206754404668535 L -0.8336859522080818, 0.7176125229473801 L -0.8363209598574824, 0.7145398883918653 L -0.8389446430655599, 0.7114575784061904 L -0.8415569663055873, 0.7083656347272479 L -0.8441578942046608, 0.7052640992223785 L -0.8467473915441771, 0.7021530138888049 L -0.7697703559492518, 0.6383209217170953 L -0.7674162674587824, 0.6411491811112532 L -0.7650517875505338, 0.6439687588429526 L -0.7626769482414181, 0.6467796167329003 L -0.7602917816886203, 0.6495817167198775 L -0.7578963201891652, 0.6523750208612545 L -0.7554905961794796, 0.6551594913335032 L -0.7530746422349517, 0.6579350904327109 L -0.7506484910694915, 0.6607017805750909 L -0.748212175535088, 0.6634595242974892 L -0.7457657286213629, 0.6662082842578946 L -0.7433091834551248, 0.6689480232359429 L -0.7408425732999211, 0.6716787041334206 L -0.7383659315555862, 0.6744002899747682 L -0.7358792917577912, 0.6771127439075797 L -0.7333826875775877, 0.6798160292031031 L -0.7308761528209529, 0.6825101092567369 L -0.7283597214283327, 0.6851949475885251 L -0.7258334274741803, 0.6878705078436521 L -0.7232973051664956, 0.6905367537929356 L -0.7207513888463633, 0.6931936493333146 L -0.7181957129874854, 0.6958411584883417 L -0.7156303121957162, 0.6984792454086677 L -0.7130552212085935, 0.7011078743725275 L -0.7104704748948673, 0.7037270097862252 L -0.7078761082540292, 0.7063366161846134 L -0.7052721564158368, 0.7089366582315767 L -0.7026586546398386, 0.711527100720508 L -0.7000356383148979, 0.7141079085747849 L -0.6974031429587114, 0.7166790468482466 L -0.6947612042173292, 0.7192404807256656 L -0.6921098578646734, 0.7217921755232191 L -0.6894491398020515, 0.7243340966889596 L -0.6867790860576712, 0.7268662098032828 L -0.6840997327861537, 0.7293884805793913 L -0.6814111162680422, 0.7319008748637624 L -0.6787132729093113, 0.7344033586366083 L -0.6760062392408753, 0.7368958980123369 L -0.6732900519180918, 0.7393784592400114 L -0.6705647477202656, 0.7418510087038074 L -0.6678303635501527, 0.7443135129234663 L -0.6650869364334573, 0.7467659385547512 L -0.6623345035183327, 0.7492082523898971 L -0.6595731020748787, 0.7516404213580596 L -0.6568027694946348, 0.7540624125257654 L -0.654023543290076, 0.7564741930973549 L -0.6512354610941031, 0.7588757304154289 L -0.6484385606595344, 0.7612669919612903 L -0.6456328798585946, 0.7636479453553827 L -0.6428184566824005, 0.7660185583577312 L -0.6399953292404474, 0.768378798868378 L -0.6371635357600947, 0.7707286349278158 L -0.6343231145860453, 0.7730680347174231 L -0.6314741041798279, 0.7753969665598931 L -0.6286165431192771, 0.7777153989196627 L -0.6257504700980092, 0.7800233004033408 L -0.6228759239248992, 0.7823206397601326 L -0.6199929435235559, 0.784607385882262 L -0.6171015679317933, 0.7868835078053945 L -0.6142018363011035, 0.7891489747090549 L -0.6112937878961257, 0.7914037559170456 L -0.6083774620941139, 0.7936478208978621 L -0.6054528983844065, 0.7958811392651051 L -0.6025201363678878, 0.7981036807778936 L -0.5995792157564541, 0.8003154153412737 L -0.5966301763724763, 0.8025163130066253 L -0.5936730581482587, 0.8047063439720693 L -0.5907079011254996, 0.8068854785828699 L -0.5877347454547501, 0.8090536873318359 L -0.584753631394868, 0.8112109408597217 L -0.5817645993124739, 0.8133572099556238 L -0.5787676896814058, 0.815492465557376 L -0.5757629430821687, 0.8176166787519439 L -0.5727504002013866, 0.819729820775816 L -0.569730101831252, 0.8218318630153928 L -0.5667020888689717, 0.8239227770073747 L -0.5636664023162145, 0.8260025344391477 L -0.5606230832785564, 0.8280711071491655 L -0.5575721729649219, 0.8301284671273328 L -0.5545137126870286, 0.8321745865153822 L -0.5514477438588258, 0.834209437607254 L -0.548374307995934, 0.8362329928494692 L -0.5452934467150848, 0.8382452248415037 L -0.5422052017335542, 0.8402461063361589 L -0.5391096148685997, 0.8422356102399317 L -0.5360067280368944, 0.844213709613379 L -0.532896583253958, 0.8461803776714852 L -0.5297792226335879, 0.8481355877840236 L -0.5266546883872913, 0.8500793134759161 L -0.5235230228237108, 0.8520115284275938 L -0.5203842683480522, 0.8539322064753515 L -0.517238467461512, 0.855841321611703 L -0.5140856627606993, 0.8577388479857331 L -0.5109258969370619, 0.8596247599034469 L -0.5077592127763051, 0.8614990318281193 L -0.5045856531578143, 0.8633616383806394 L -0.501405261054075, 0.865212554339854 L -0.4982180795300888, 0.8670517546429106 L -0.49502415174279124, 0.8688792143855957 L -0.4918235209404689, 0.8706949088226714 L -0.5410058730345159 ,0.9577643997049387",
          "type": "path"
         },
         {
          "fillcolor": "rgba(255,255,191,0.75)",
          "layer": "below",
          "line": {
           "color": "rgb(150,150,150)",
           "width": 0.45
          },
          "path": "M -0.8467478327197598, 0.7021524818615896 L -0.8475055405255475, 0.7012377334246209 L -0.848262260121789, 0.7003221673294904 L -0.8490179906261324, 0.6994057846437681 L -0.8497727311573807, 0.6984885864359747 L -0.85052648083549, 0.6975705737755837 L -0.8512792387815721, 0.6966517477330171 L -0.8520310041178951, 0.6957321093796459 L -0.8527817759678843, 0.6948116597877882 L -0.8535315534561243, 0.6938904000307075 L -0.8542803357083584, 0.6929683311826123 L -0.8550281218514902, 0.6920454543186548 L -0.8557749110135855, 0.6911217705149288 L -0.8565207023238715, 0.6901972808484703 L -0.8572654949127404, 0.6892719863972526 L -0.8580092879117479, 0.6883458882401895 L -0.8587520804536154, 0.6874189874571311 L -0.859493871672231, 0.6864912851288636 L -0.86023466070265, 0.685562782337108 L -0.8609744466810971, 0.6846334801645176 L -0.8617132287449659, 0.6837033796946791 L -0.8624510060328205, 0.6827724820121092 L -0.8631877776843971, 0.6818407882022547 L -0.8639235428406039, 0.6809082993514908 L -0.8646583006435237, 0.6799750165471184 L -0.8653920502364126, 0.679040940877366 L -0.8661247907637032, 0.6781060734313855 L -0.8668565213710042, 0.6771704152992523 L -0.867587241205102, 0.6762339675719642 L -0.8683169494139622, 0.6752967313414384 L -0.8690456451467292, 0.6743587077005126 L -0.869773327553728, 0.6734198977429428 L -0.8704999957864659, 0.672480302563401 L -0.8712256489976312, 0.6715399232574758 L -0.871950286341098, 0.6705987609216688 L -0.8726739069719229, 0.6696568166533957 L -0.8733965100463493, 0.6687140915509837 L -0.8741180947218063, 0.6677705867136703 L -0.8748386601569106, 0.6668263032416025 L -0.8755582055114678, 0.6658812422358347 L -0.8762767299464729, 0.6649354047983281 L -0.8769942326241106, 0.6639887920319495 L -0.8777107127077577, 0.6630414050404697 L -0.8784261693619828, 0.6620932449285624 L -0.8791406017525487, 0.6611443128018017 L -0.8798540090464119, 0.6601946097666633 L -0.8805663904117239, 0.6592441369305211 L -0.8812777450178327, 0.658292895401647 L -0.8819880720352845, 0.6573408862892084 L -0.8826973706358223, 0.6563881107032682 L -0.8834056399923887, 0.6554345697547835 L -0.8841128792791269, 0.6544802645556033 L -0.8848190876713798, 0.653525196218468 L -0.8855242643456946, 0.6525693658570071 L -0.8862284084798199, 0.6516127745857395 L -0.8869315192527082, 0.6506554235200711 L -0.8876335958445176, 0.6496973137762936 L -0.8883346374366117, 0.6487384464715837 L -0.8890346432115611, 0.6477788227240007 L -0.8897336123531445, 0.6468184436524864 L -0.8904315440463484, 0.6458573103768634 L -0.8911284374773698, 0.6448954240178337 L -0.8918242918336158, 0.6439327856969778 L -0.8925191063037059, 0.6429693965367514 L -0.8932128800774715, 0.6420052576604875 L -0.8939056123459571, 0.6410403701923925 L -0.8945973023014225, 0.6400747352575458 L -0.8952879491373422, 0.6391083539818988 L -0.8959775520484077, 0.6381412274922718 L -0.8966661102305268, 0.6371733569163552 L -0.8973536228808262, 0.636204743382707 L -0.8980400891976515, 0.6352353880207512 L -0.898725508380568, 0.6342652919607772 L -0.8994098796303627, 0.6332944563339368 L -0.9000932021490442, 0.6323228822722455 L -0.9007754751398435, 0.6313505709085797 L -0.9014566978072158, 0.6303775233766747 L -0.9021368693568409, 0.6294037408111255 L -0.9028159889956247, 0.6284292243473822 L -0.9034940559316986, 0.6274539751217526 L -0.9041710693744226, 0.6264779942713977 L -0.904847028534384, 0.6255012829343323 L -0.9055219326234005, 0.6245238422494229 L -0.9061957808545194, 0.6235456733563854 L -0.9068685724420191, 0.6225667773957861 L -0.9075403066014106, 0.6215871555090386 L -0.9082109825494373, 0.6206068088384027 L -0.9088805995040765, 0.6196257385269842 L -0.9095491566845411, 0.6186439457187312 L -0.9102166533112788, 0.6176614315584352 L -0.9108830886059742, 0.616678197191729 L -0.9115484617915499, 0.6156942437650846 L -0.9122127720921659, 0.6147095724258133 L -0.9128760187332231, 0.613724184322062 L -0.9135382009413612, 0.6127380806028145 L -0.9141993179444617, 0.6117512624178892 L -0.9148593689716482, 0.6107637309179367 L -0.9155183532532868, 0.6097754872544405 L -0.916176270020988, 0.6087865325797128 L -0.916833118507607, 0.6077968680468965 L -0.8334846531887335, 0.5525426073153604 L -0.8328875182008981, 0.5534423023451934 L -0.8322894120484424, 0.5543413520494913 L -0.831690335428771, 0.5552397553799424 L -0.8310902890404197, 0.5561375112889901 L -0.8304892735830556, 0.5570346187298314 L -0.8298872897574755, 0.5579310766564199 L -0.8292843382656053, 0.5588268840234666 L -0.8286804198104999, 0.5597220397864405 L -0.8280755350963401, 0.5606165429015718 L -0.8274696848284352, 0.5615103923258502 L -0.8268628697132191, 0.5624035870170283 L -0.8262550904582513, 0.563296125933622 L -0.8256463477722157, 0.5641880080349115 L -0.8250366423649187, 0.5650792322809441 L -0.8244259749472901, 0.5659697976325329 L -0.8238143462313812, 0.5668597030512594 L -0.823201756930364, 0.5677489474994754 L -0.8225882077585309, 0.568637529940302 L -0.8219736994312932, 0.5695254493376343 L -0.8213582326651805, 0.5704127046561387 L -0.8207418081778405, 0.5712992948612565 L -0.8201244266880371, 0.5721852189192049 L -0.8195060889156507, 0.573070475796977 L -0.8188867955816758, 0.5739550644623451 L -0.8182665474082219, 0.5748389838838596 L -0.8176453451185115, 0.5757222330308516 L -0.8170231894368799, 0.5766048108734337 L -0.816400081088774, 0.577486716382501 L -0.8157760208007511, 0.5783679485297336 L -0.8151510093004788, 0.5792485062875956 L -0.8145250473167341, 0.5801283886293379 L -0.8138981355794019, 0.5810075945289989 L -0.813270274819475, 0.5818861229614052 L -0.8126414657690518, 0.582763972902175 L -0.8120117091613376, 0.5836411433277159 L -0.8113810057306416, 0.5845176332152285 L -0.8107493562123779, 0.585393441542707 L -0.8101167613430634, 0.5862685672889397 L -0.8094832218603166, 0.5871430094335122 L -0.8088487385028585, 0.5880167669568058 L -0.80821331201051, 0.5888898388400006 L -0.8075769431241924, 0.5897622240650761 L -0.806939632585925, 0.5906339216148123 L -0.8063013811388255, 0.5915049304727918 L -0.8056621895271089, 0.5923752496233995 L -0.805022058496086, 0.5932448780518246 L -0.8043809887921635, 0.5941138147440618 L -0.8037389811628425, 0.594982058686912 L -0.803096036356717, 0.595849608867985 L -0.8024521551234748, 0.5967164642756984 L -0.8018073382138949, 0.5975826238992803 L -0.8011615863798479, 0.59844808672877 L -0.8005149003742944, 0.5993128517550191 L -0.7998672809512835, 0.6001769179696939 L -0.7992187288659534, 0.6010402843652742 L -0.7985692448745297, 0.6019029499350567 L -0.7979188297343252, 0.6027649136731542 L -0.7972674842037368, 0.6036261745744995 L -0.796615209042248, 0.6044867316348437 L -0.7959620050104252, 0.6053465838507588 L -0.7953078728699187, 0.6062057302196386 L -0.7946528133834603, 0.6070641697397002 L -0.793996827314863, 0.6079219014099851 L -0.7933399154290208, 0.6087789242303597 L -0.7926820784919072, 0.609635237201517 L -0.7920233172705737, 0.6104908393249779 L -0.7913636325331507, 0.6113457296030917 L -0.7907030250488436, 0.6121999070390388 L -0.7900414955879356, 0.6130533706368296 L -0.7893790449217838, 0.6139061194013076 L -0.7887156738228199, 0.6147581523381492 L -0.7880513830645492, 0.6156094684538657 L -0.7873861734215483, 0.616460066755805 L -0.786720045669466, 0.6173099462521509 L -0.7860530005850215, 0.6181591059519258 L -0.7853850389460035, 0.6190075448649915 L -0.7847161615312701, 0.6198552620020497 L -0.7840463691207459, 0.6207022563746446 L -0.7833756624954235, 0.6215485269951627 L -0.7827040424373609, 0.6223940728768341 L -0.7820315097296817, 0.6232388930337345 L -0.7813580651565736, 0.6240829864807851 L -0.7806837095032867, 0.6249263522337556 L -0.7800084435561344, 0.6257689893092632 L -0.7793322681024912, 0.6266108967247751 L -0.7786551839307921, 0.6274520734986093 L -0.7779771918305322, 0.6282925186499353 L -0.7772982925922638, 0.629132231198777 L -0.7766184870075985, 0.6299712101660111 L -0.7759377758692039, 0.6308094545733703 L -0.7752561599708039, 0.6316469634434438 L -0.7745736401071773, 0.6324837357996781 L -0.7738902170741564, 0.6333197706663791 L -0.7732058916686272, 0.6341550670687124 L -0.7725206646885279, 0.6349896240327042 L -0.7718345369328475, 0.6358234405852436 L -0.7711475092016262, 0.6366565157540821 L -0.7704595822959522, 0.6374888485678372 L -0.7697707570179634, 0.6383204380559905 L -0.8467478327197598 ,0.7021524818615896",
          "type": "path"
         },
         {
          "fillcolor": "rgba(230,245,152,0.75)",
          "layer": "below",
          "line": {
           "color": "rgb(150,150,150)",
           "width": 0.45
          },
          "path": "M -0.916833500397461, 0.6077962919835387 L -0.9216467433321074, 0.6004725476700169 L -0.9264014849009573, 0.5931106884665809 L -0.9310974232976215, 0.5857111816659556 L -0.9357342604482322, 0.5782744969505401 L -0.9403117020303615, 0.570801106362597 L -0.9448294574917064, 0.5632914842742857 L -0.9492872400685294, 0.5557461073575545 L -0.953684766803861, 0.5481654545538831 L -0.9580217585654613, 0.5405500070438823 L -0.9622979400635367, 0.5329002482167503 L -0.9665130398682149, 0.5252166636395905 L -0.9706667904267732, 0.5174997410265892 L -0.9747589280806214, 0.5097499702080602 L -0.9787891930820378, 0.5019678430993498 L -0.9827573296106566, 0.4941538536696151 L -0.986663085789706, 0.48630849791046793 L -0.9905062137019954, 0.47843227380449255 L -0.9942864694056535, 0.47052568129363637 L -0.9980036129496105, 0.46258922224747573 L -1.00165740838883, 0.4546234004313596 L -1.0052476237992862, 0.4466287214744353 L -1.0087740312926838, 0.4386056928375503 L -1.012236407030924, 0.43055482378104387 L -1.0156345312403126, 0.42247662533242103 L -1.0189681882255097, 0.4143716102539149 L -1.0222371663832217, 0.4062402930099397 L -1.025441258215632, 0.3980831897344345 L -1.0285802603435716, 0.38990081819810374 L -1.03165397351943, 0.3816936977755486 L -1.0346622026398005, 0.3734623494123022 L -1.0376047567578666, 0.3652072955917618 L -1.0404814490955203, 0.35692906030202465 L -1.0432920970552186, 0.34862816900262733 L -1.0460365222315742, 0.34030514859119293 L -1.0487145504226787, 0.3319605273699857 L -1.0513260116411616, 0.3235948350123785 L -1.0538707401249785, 0.31520860252923 L -1.0563485743479346, 0.3068023622351797 L -1.0587593570299356, 0.2983766477148598 L -1.0611029351469727, 0.2899319937890254 L -1.0633791599408353, 0.2814689364806066 L -1.065587886928552, 0.2729880129806865 L -1.0677289759115645, 0.2644897616144 L -1.0698022909846234, 0.255974721806766 L -1.0718077005444178, 0.24744343404844654 L -1.0737450772979262, 0.2388964398614396 L -1.0756142982704986, 0.23033428176470594 L -1.0774152448136605, 0.22175750323973287 L -1.0791478026126453, 0.21316664869603677 L -1.0808118616936495, 0.2045622634366065 L -1.0824073164308143, 0.19594489362329195 L -1.0839340655529293, 0.18731508624213405 L -1.0853920121498613, 0.1786733890686466 L -1.0867810636787045, 0.17002035063304588 L -1.0881011319696567, 0.16135652018543273 L -1.0893521332316138, 0.15268244766092867 L -1.0905339880574898, 0.14399868364477073 L -1.0916466214292562, 0.1353057793373601 L -1.0926899627227042, 0.126604286519277 L -1.0936639457119282, 0.11789475751625572 L -1.094568508573528, 0.1091777451641261 L -1.0954035938905342, 0.10045380277372216 L -1.0961691486560525, 0.09172348409576096 L -1.096865124276628, 0.08298734328569327 L -1.0974914765753303, 0.07424593486852814 L -1.0980481657945562, 0.06549981370363661 L -1.0985351565985553, 0.05674953494952904 L -1.0989524180756716, 0.047995654028618544 L -1.0992999237403054, 0.039238726591965124 L -1.0995776515345959, 0.030479308484005867 L -1.0997855838298196, 0.021717955707272266 L -1.0999237074275108, 0.01295522438710006 L -1.0999920135602979, 0.0041916707363263235 L -1.0999904978924613, -0.004572148980014095 L -1.0999191605202077, -0.013335678479997877 L -1.0997780059716642, -0.022098361500123134 L -1.0995670432065914, -0.03085964183061815 L -1.0992862856158137, -0.039618963350746675 L -1.09893575102037, -0.04837577006410762 L -1.0985154616703825, -0.05712950613392678 L -1.0980254442436443, -0.06587961591833905 L -1.0974657298439254, -0.07462554400565566 L -1.096836353999, -0.0833667352496218 L -1.0961373566583894, -0.09210263480465249 L -1.0953687821908273, -0.10083268816105173 L -1.094530679381444, -0.10955634118021053 L -1.0936231014286686, -0.11827304012977864 L -1.0926461059408528, -0.1269822317188157 L -1.0915997549326142, -0.13568336313290916 L -1.0904841148209001, -0.14437588206926474 L -1.0892992564207713, -0.1530592367717637 L -1.0880452549409076, -0.16173287606598535 L -1.0867221899788337, -0.1703962493941929 L -1.0853301455158662, -0.17904880685027996 L -1.0838692099117841, -0.1876899992146757 L -1.0823394758992193, -0.196319277989207 L -1.0807410405777707, -0.20493609543191235 L -1.0790740054078403, -0.21353990459181252 L -1.0773384762041944, -0.2221301593436262 L -0.9793986147310857, -0.20193650849420564 L -0.9809763685525821, -0.19412718599255682 L -0.9824918550707005, -0.1863055413017385 L -0.9839449780901992, -0.17847207089927908 L -0.9853356453743491, -0.17062727201334152 L -0.9866637686507874, -0.16277164259116358 L -0.9879292636171214, -0.15490568126744808 L -0.9891320499462797, -0.14702988733271394 L -0.9902720512916102, -0.13914476070160334 L -0.9913491952917273, -0.13125080188114976 L -0.9923634135751037, -0.12334851193900831 L -0.9933146417644115, -0.11543839247165062 L -0.9942028194806077, -0.10752094557252603 L -0.9950278903467672, -0.09959667380019138 L -0.9957898019916612, -0.09166608014641066 L -0.9964885060530811, -0.08372966800422953 L -0.997123958180909, -0.07578794113601982 L -0.9976961180399322, -0.06784140364150514 L -0.9982049493124038, -0.05989055992576277 L -0.9986504197003477, -0.051935914667206165 L -0.9990325009276091, -0.04397797278555238 L -0.9993511687416488, -0.036017239409769704 L -0.9996064029150831, -0.028054219846016498 L -0.9997981872469675, -0.020089419545566485 L -0.999926509563825, -0.01212334407272534 L -0.9999913617204192, -0.004156499072740086 L -0.9999927396002707, 0.003810609760296657 L -0.9999306431159187, 0.011777476715545509 L -0.9998050762089268, 0.01974359609752024 L -0.9996160468496325, 0.02770846225818715 L -0.9993635670366412, 0.0356715696290592 L -0.9990476527960649, 0.04363241275328958 L -0.9986683241805048, 0.05159048631775367 L -0.9982256052677783, 0.05954528518512419 L -0.997719524159391, 0.06749630442593467 L -0.9971501129787527, 0.07544303935063024 L -0.9965174078691386, 0.08338498554160087 L -0.9958214489913946, 0.09132163888520196 L -0.995062280521389, 0.09925249560375099 L -0.9942399506472074, 0.1071770522875052 L -0.9933545115660948, 0.11509480592661545 L -0.9924060194811419, 0.12300525394305463 L -0.991394534597718, 0.13090789422251883 L -0.990320121119649, 0.13880222514629878 L -0.9891828472451424, 0.14668774562312065 L -0.9879827851624585, 0.15456395512095078 L -0.9867200110453282, 0.16243035369876963 L -0.9853946050481175, 0.17028644203830368 L -0.9840066513007402, 0.17813172147571996 L -0.9825562379033177, 0.18596569403327862 L -0.9810434569205865, 0.1937878624509425 L -0.979468404376055, 0.20159773021793895 L -0.9778311802459078, 0.20939480160427812 L -0.9761318884526602, 0.2171785816922178 L -0.9743706368585615, 0.22494857640767865 L -0.9725475372587485, 0.23270429255160546 L -0.9706627053741493, 0.24044523783127275 L -0.9687162608441382, 0.24817092089153314 L -0.9667083272189411, 0.25588085134600597 L -0.9646390319517933, 0.2635745398082049 L -0.9625085063908505, 0.2712514979225998 L -0.9603168857708495, 0.2789112383956179 L -0.9580643092045259, 0.2865532750265727 L -0.9557509196737831, 0.2941771227385259 L -0.9533768640206169, 0.3017822976090779 L -0.9509422929377945, 0.30936831690108446 L -0.9484473609592896, 0.3169346990932975 L -0.945892226450473, 0.32448096391093145 L -0.9432770515980605, 0.3320066323561471 L -0.9406020023998186, 0.3395112267384565 L -0.937867248654027, 0.3469942707050442 L -0.9350729639487013, 0.3544552892710034 L -0.9322193256505744, 0.3618938088494859 L -0.9293065148938379, 0.36930935728176334 L -0.9263347165686452, 0.37670146386719533 L -0.923304119309375, 0.38406965939311 L -0.9202149154826581, 0.39141347616458533 L -0.9170673011751671, 0.3987324480341366 L -0.9138614761811693, 0.40602611043130477 L -0.9105976439898456, 0.4132940003921451 L -0.907276011772373, 0.42053565658861425 L -0.9038967903687758, 0.4277506193578512 L -0.9004601942745413, 0.43493843073135685 L -0.8969664416270053, 0.4420986344640617 L -0.893415754191506, 0.44923077606328643 L -0.889808357347307, 0.45633440281759075 L -0.886144480073292, 0.4634090638255092 L -0.8824243549334301, 0.470454310024172 L -0.8786482180620134, 0.4774696942178095 L -0.8748163091486697, 0.4844547711061366 L -0.8709288714231466, 0.4914090973126202 L -0.8669861516398736, 0.498332231412621 L -0.8629884000622994, 0.5052237339614131 L -0.8589358704470058, 0.5120831675220778 L -0.8548288200276013, 0.5189100966932699 L -0.8506675094983928, 0.5257040881368547 L -0.8464522029978376, 0.5324647106054141 L -0.8421831680917793, 0.5391915349696189 L -0.8378606757564612, 0.5458841342454699 L -0.8334850003613281, 0.5525420836213988 L -0.916833500397461 ,0.6077962919835387",
          "type": "path"
         },
         {
          "fillcolor": "rgba(171,221,164,0.75)",
          "layer": "below",
          "line": {
           "color": "rgb(150,150,150)",
           "width": 0.45
          },
          "path": "M -1.0773383366354863, -0.22213083625531063 L -1.0728199527554534, -0.24301717834298667 L -1.0678966856688532, -0.2638118055309106 L -1.0625703934210726, -0.28450686990824475 L -1.056843086159555, -0.3050945611392433 L -1.0507169253751665, -0.3255671094108818 L -1.044194223086448, -0.3459167883651925 L -1.0372774409670584, -0.3661359180151963 L -1.0299691894167362, -0.38621686764333785 L -1.022272226576131, -0.40615205868132664 L -1.0141894572858807, -0.4259339675702927 L -1.005723931990321, -0.44555512860018576 L -0.9968788455862456, -0.465008136727342 L -0.9876575362171486, -0.4842856503691515 L -0.978063484013406, -0.5033803941747812 L -0.9681003097788728, -0.5222851617708957 L -0.9577717736243873, -0.5409928184813506 L -0.9470817735487013, -0.559496304019827 L -0.9360343439673736, -0.5777886351543865 L -0.924633654190177, -0.5958629083429512 L -0.9128840068475964, -0.6137123023387081 L -0.9007898362670136, -0.63133008076445 L -0.888355706799188, -0.6487095946548929 L -0.8755863110956646, -0.6658442849660017 L -0.8624864683377664, -0.6827276850503772 L -0.8490611224178279, -0.699353423097777 L -0.8353153400733678, -0.7157152245398402 L -0.8212543089748973, -0.7318069144181163 L -0.8068833357680881, -0.7476224197144993 L -0.7922078440710394, -0.7631557716431919 L -0.7772333724274012, -0.7784011079033282 L -0.7619655722161205, -0.793352674891413 L -0.7464102055186085, -0.8080048298727358 L -0.730573142944124, -0.8223520431109445 L -0.714460361414201, -0.8363888999549728 L -0.698077941906954, -0.8501101028825334 L -0.6814320671621081, -0.8635104734994107 L -0.6645290193476321, -0.876584954493787 L -0.6473751776888399, -0.8893286115448794 L -0.6299770160608661, -0.9017366351851562 L -0.6123411005454198, -0.9138043426154333 L -0.5944740869527371, -0.9255271794721698 L -0.5763827183096765, -0.9369007215462843 L -0.5580738223148922, -0.9479206764528593 L -0.5395543087620548, -0.9585828852510885 L -0.5208311669320886, -0.9688833240138665 L -0.5019114629554127, -0.9788181053464212 L -0.48280233714517234, -0.9883834798534219 L -0.4635110013024849, -0.9975758375540017 L -0.4440447359946951, -1.0063917092441699 L -0.4244108878076839, -1.0148277678060913 L -0.4046168665732612, -1.0228808294637435 L -0.384670142572685, -1.0305478549844789 L -0.3645782437173761, -1.0378259508260301 L -0.3443487527078742, -1.0447123702285388 L -0.3239893041721202, -1.051204514251183 L -0.3035075817841417, -1.057299932753021 L -0.2829113153642269, -1.0629963253176764 L -0.2622082779616849, -1.0682915421215164 L -0.24140628292128571, -1.0731835847449998 L -0.2205131809345032, -1.0776706069268787 L -0.19953685707665292, -1.0817509152609817 L -0.17848522783105977, -1.0854229698353057 L -0.15736623810136618, -1.088685384813181 L -0.1361878582131243, -1.0915369289562868 L -0.11495808090578404, -1.0939765260893213 L -0.0936849183162271, -1.0960032555061512 L -0.07237639895497941, -1.0976163523172884 L -0.051040564676243995, -1.098815207738558 L -0.0296854676428991, -1.0995993693208552 L -0.008319167287600793, -1.0999685411209 L 0.013050272728848225, -1.0999225838129258 L 0.034414787560735315, -1.0994615147412616 L 0.05576631422111689, -1.0985855079137863 L 0.07709679462479589, -1.0972948939362575 L 0.09839817862945421, -1.0955901598875404 L 0.11966242707377779, -1.0934719491357852 L 0.14088151481144706, -1.0909410610956178 L 0.16204743373983344, -1.0879984509264407 L 0.18315219582226436, -1.0846452291719553 L 0.20418783610271543, -1.0808826613410407 L 0.22514641571179106, -1.076712167430151 L 0.24602002486286445, -1.0721353213874059 L 0.2668007858372327, -1.0671538505185816 L 0.28748085595717837, -1.0617696348352257 L 0.3080524305458015, -1.0559847063451364 L 0.32850774587251497, -1.0498012482854835 L 0.3488390820830781, -1.0432215942988508 L 0.36903876611308, -1.0362482275525182 L 0.3890991745837602, -1.028883779801313 L 0.40901273667907834, -1.0211310303943815 L 0.4287719370029471, -1.0129929052262612 L 0.4483693184155485, -1.004472475632646 L 0.4677974848476685, -0.9955729572312596 L 0.4870491040919749, -0.9862977087082808 L 0.5061169105702025, -0.9766502305507708 L 0.5249937080751869, -0.9666341637255874 L 0.5436723724867232, -0.9562532883052784 L 0.5621458544602099, -0.9455115220414824 L 0.5804071820870818, -0.9344129188863632 L 0.527642892806438, -0.8494662898966938 L 0.5110416858729181, -0.8595559291286202 L 0.4942476113515665, -0.8693211711866167 L 0.4772670073410789, -0.8787583306596248 L 0.46010628233654766, -0.8878638459552461 L 0.44277191281088624, -0.8966342806438916 L 0.42527044077060766, -0.9050663247556905 L 0.40760847128686223, -0.9131567960296781 L 0.38979267000267914, -0.9209026411147828 L 0.3718297606173439, -0.9283009367221648 L 0.35372652234887286, -0.9353488907284663 L 0.33548978737552726, -0.9420438432295619 L 0.3171264382573437, -0.9483832675444096 L 0.29864340533864997, -0.9543647711686213 L 0.2800476641325468, -0.9599860966773968 L 0.26134623268834395, -0.9652451225774777 L 0.2425461689429388, -0.9701398641078014 L 0.22365456805714948, -0.9746684739885506 L 0.20467855973799184, -0.978829243118319 L 0.18562530554792311, -0.9826206012191278 L 0.1665019962020585, -0.9860411174290501 L 0.14731584885439403, -0.9890895008422187 L 0.12807410437404276, -0.991764600996016 L 0.10878402461252526, -0.9940654083052591 L 0.08945288966314019, -0.9959910544432184 L 0.0700879951134508, -0.9975408126693248 L 0.050696649291924446, -0.998714098103442 L 0.031286170509759376, -0.9995104679466015 L 0.01186388429895293, -0.9999296216481143 L -0.007562879352364357, -0.999971401019 L -0.026986788766271905, -0.9996357902916865 L -0.04640051334203999, -0.9989229161259617 L -0.06579672632270855, -0.9978330475611712 L -0.08516810756020646, -0.9963665959146829 L -0.10450734627798548, -0.9945241146266556 L -0.12380714383011299, -0.9923062990511698 L -0.14306021645578743, -0.9897139861938009 L -0.16225929802823613, -0.9867481543957324 L -0.18139714279695718, -0.9834099229645288 L -0.2004665281222756, -0.9797005517517079 L -0.21946025720116882, -0.9756214406772725 L -0.23837116178334986, -0.9711741292013786 L -0.2571921048765699, -0.966360295743342 L -0.2759159834401288, -0.9611817570482009 L -0.2945357310655638, -0.9556404675010753 L -0.31304432064352194, -0.9497385183895807 L -0.33143476701579644, -0.9434781371145728 L -0.3497001296115318, -0.9368616863495262 L -0.36783351506660106, -0.9298916631488576 L -0.38582807982516715, -0.9225706980055374 L -0.40367703272245004, -0.9149015538583362 L -0.4213736375477135, -0.9068871250490924 L -0.4389112155865203, -0.8985304362303834 L -0.4562831481412842, -0.8898346412240192 L -0.47348287902917147, -0.8808030218307876 L -0.4905039170564134, -0.8714389865918986 L -0.5073398384680838, -0.8617460695025992 L -0.5239842893724331, -0.8517279286784403 L -0.5404309881388518, -0.8413883449746997 L -0.5566737277685634, -0.8307312205594848 L -0.572706378237151, -0.819760577441051 L -0.5885228888080363, -0.8084805559498903 L -0.6041172903160291, -0.79689541317617 L -0.6194836974200982, -0.7850095213631005 L -0.6346163108245036, -0.7728273662568484 L -0.6495094194674554, -0.7603535454136116 L -0.6641574026764763, -0.7475927664644949 L -0.678554732289644, -0.7345498453388507 L -0.6926959747419277, -0.7212297044467391 L -0.7065757931158192, -0.7076373708212074 L -0.7201889491554903, -0.6937779742210836 L -0.7335303052437164, -0.6796567451949993 L -0.7465948263408156, -0.6652790131073784 L -0.7593775818848798, -0.6506502041271274 L -0.7718737476525708, -0.6357758391797973 L -0.7840786075797876, -0.6206615318639792 L -0.7959875555415132, -0.6053129863327288 L -0.8075960970901708, -0.5897359951408117 L -0.8188998511518305, -0.5739364370585909 L -0.829894551679633, -0.5579202748533709 L -0.8405760492637971, -0.5416935530390465 L -0.8509403126976123, -0.5252623955948967 L -0.8609834304988193, -0.5086330036543881 L -0.8707016123858066, -0.4918116531648642 L -0.8800911907080662, -0.47480469251899604 L -0.889148621830369, -0.4576185401588919 L -0.897870487470135, -0.44025968215377403 L -0.9062534959874959, -0.42273466975212903 L -0.9142944836275646, -0.40505011690925974 L -0.9219904157144369, -0.3872126977911752 L -0.9293383877964826, -0.3692291442557515 L -0.9363356267424874, -0.3511062433121253 L -0.9429794917882349, -0.33285083455926934 L -0.9492674755331345, -0.31446980760472043 L -0.9551972048865149, -0.295970099464438 L -0.9607664419632318, -0.27735869194476664 L -0.9659730849282478, -0.2586426090074952 L -0.9708151687898664, -0.23982891411900964 L -0.9752908661413212, -0.2209247075845333 L -0.979398487850442, -0.20193712386846419 L -1.0773383366354863 ,-0.22213083625531063",
          "type": "path"
         },
         {
          "fillcolor": "rgba(102,194,165,0.75)",
          "layer": "below",
          "line": {
           "color": "rgb(150,150,150)",
           "width": 0.45
          },
          "path": "M 0.5804077691959193, -0.9344125542055911 L 0.5825690226635398, -0.9330666288282141 L 0.5847271550384819, -0.9317157045797839 L 0.5868821547586285, -0.9303597886978292 L 0.5890340102786459, -0.9289988884466205 L 0.5911827100700442, -0.9276330111171326 L 0.5933282426212431, -0.9262621640270035 L 0.5954705964376278, -0.9248863545204979 L 0.5976097600416144, -0.9235055899684659 L 0.5997457219727107, -0.9221198777683042 L 0.6018784707875768, -0.9207292253439163 L 0.6040079950600876, -0.9193336401456728 L 0.606134283381393, -0.9179331296503712 L 0.6082573243599787, -0.9165277013611972 L 0.6103771066217301, -0.9151173628076812 L 0.6124936188099888, -0.9137021215456622 L 0.6146068495856168, -0.9122819851572446 L 0.6167167876270558, -0.9108569612507582 L 0.6188234216303882, -0.9094270574607174 L 0.6209267403093978, -0.9079922814477807 L 0.6230267323956302, -0.9065526408987092 L 0.625123386638452, -0.9051081435263261 L 0.6272166918051149, -0.9036587970694734 L 0.6293066366808107, -0.9022046092929732 L 0.6313932100687342, -0.9007455879875845 L 0.6334764007901436, -0.8992817409699618 L 0.6355561976844191, -0.897813076082613 L 0.6376325896091233, -0.8963396011938576 L 0.6397055654400606, -0.8948613241977845 L 0.6417751140713368, -0.8933782530142106 L 0.6438412244154205, -0.8918903955886354 L 0.6459038854031988, -0.8903977598922022 L 0.6479630859840394, -0.8889003539216533 L 0.6500188151258488, -0.8873981856992879 L 0.6520710618151319, -0.8858912632729181 L 0.6541198150570503, -0.884379594715827 L 0.6561650638754821, -0.8828631881267248 L 0.6582067973130798, -0.8813420516297055 L 0.660245004431329, -0.8798161933742038 L 0.6622796743106096, -0.8782856215349497 L 0.6643107960502499, -0.8767503443119276 L 0.6663383587685875, -0.8752103699303301 L 0.668362351603028, -0.873665706640515 L 0.6703827637101024, -0.8721163627179606 L 0.6723995842655249, -0.8705623464632212 L 0.6744128024642518, -0.8690036662018833 L 0.6764224075205378, -0.8674403302845214 L 0.6784283886679975, -0.8658723470866504 L 0.6804307351596578, -0.8642997250086847 L 0.6824294362680189, -0.8627224724758907 L 0.6844244812851117, -0.8611405979383425 L 0.6864158595225532, -0.8595541098708762 L 0.6884035603116067, -0.8579630167730451 L 0.6903875730032356, -0.856367327169073 L 0.6923678869681625, -0.8547670496078109 L 0.694344491596928, -0.853162192662687 L 0.6963173762999425, -0.8515527649316657 L 0.698286530507547, -0.8499387750371981 L 0.7002519436700682, -0.8483202316261778 L 0.7022136052578755, -0.8466971433698928 L 0.7041715047614374, -0.8450695189639803 L 0.7061256316913771, -0.8434373671283801 L 0.7080759755785297, -0.841800696607287 L 0.7100225259739971, -0.8401595161691051 L 0.7119652724492064, -0.8385138346063991 L 0.7139042045959624, -0.8368636607358491 L 0.7158393120265055, -0.8352090033982029 L 0.7177705843735669, -0.833549871458228 L 0.7196980112904242, -0.8318862738046642 L 0.7216215824509566, -0.8302182193501763 L 0.7235412875497007, -0.8285457170313063 L 0.7254571163019043, -0.8268687758084262 L 0.727369058443585, -0.8251874046656874 L 0.7292771037315804, -0.8235016126109761 L 0.7311812419436061, -0.8218114086758628 L 0.73308146287831, -0.8201168019155546 L 0.7349777563553267, -0.8184178014088467 L 0.7368701122153313, -0.8167144162580732 L 0.7387585203200953, -0.8150066555890594 L 0.7406429705525391, -0.8132945285510722 L 0.7425234528167897, -0.8115780443167699 L 0.7443999570382297, -0.8098572120821559 L 0.7462724731635552, -0.808132041066527 L 0.7481409911608279, -0.8064025405124257 L 0.7500055010195296, -0.8046687196855887 L 0.7518659927506155, -0.8029305878748995 L 0.7537224563865679, -0.8011881543923366 L 0.7555748819814483, -0.7994414285729259 L 0.7574232596109547, -0.7976904197746871 L 0.7592675793724691, -0.7959351373785877 L 0.7611078313851148, -0.7941755907884904 L 0.7629440057898073, -0.792411789431103 L 0.7647760927493079, -0.7906437427559281 L 0.7666040824482764, -0.7888714602352126 L 0.7684279650933235, -0.7870949513638962 L 0.7702477309130632, -0.7853142256595621 L 0.7720633701581645, -0.7835292926623849 L 0.7738748731014067, -0.7817401619350779 L 0.775682230037727, -0.7799468430628456 L 0.7774854312842749, -0.7781493456533296 L 0.706804937531159, -0.7074084960484814 L 0.7051656636706608, -0.7090425846025868 L 0.7035226119103697, -0.7106728744864343 L 0.7018757910528768, -0.7122993569658044 L 0.7002252099209665, -0.7139220233268746 L 0.6985708773575667, -0.7155408648762692 L 0.6969128022257057, -0.7171558729411023 L 0.6952509934084616, -0.7187670388690255 L 0.6935854598089156, -0.7203743540282754 L 0.6919162103501043, -0.7219778098077185 L 0.6902432539749719, -0.7235773976168979 L 0.6885665996463224, -0.7251731088860791 L 0.6868862563467711, -0.7267649350662962 L 0.685202233078698, -0.7283528676293969 L 0.6835145388641959, -0.7299368980680904 L 0.6818231827450268, -0.7315170178959897 L 0.6801281737825707, -0.7330932186476596 L 0.6784295210577773, -0.7346654918786609 L 0.6767272336711179, -0.7362338291655962 L 0.675021320742536, -0.7377982221061544 L 0.6733117914113992, -0.7393586623191565 L 0.6715986548364502, -0.7409151414445994 L 0.6698819201957557, -0.7424676511437028 L 0.6681615966866605, -0.7440161830989515 L 0.6664376935257363, -0.7455607290141405 L 0.6647102199487328, -0.7471012806144206 L 0.6629791852105276, -0.7486378296463418 L 0.6612445985850772, -0.7501703678778976 L 0.6595064693653675, -0.7516988870985692 L 0.6577648068633642, -0.7532233791193693 L 0.6560196204099605, -0.7547438357728874 L 0.6542709193549311, -0.756260248913331 L 0.6525187130668789, -0.7577726104165708 L 0.6507630109331868, -0.7592809121801845 L 0.6490038223599658, -0.7607851461234991 L 0.6472411567720058, -0.7622853041876354 L 0.6454750236127246, -0.76378137833555 L 0.6437054323441179, -0.765273360552079 L 0.6419323924467064, -0.7667612428439818 L 0.6401559134194885, -0.7682450172399821 L 0.6383760047798868, -0.7697246757908115 L 0.6365926760636983, -0.7712002105692525 L 0.6348059368250426, -0.77267161367018 L 0.6330157966363114, -0.774138877210605 L 0.6312222650881163, -0.7756019933297154 L 0.6294253517892386, -0.777060954188919 L 0.6276250663665778, -0.7785157519718845 L 0.6258214184650969, -0.7799663788845864 L 0.6240144177477757, -0.781412827155342 L 0.622204073895556, -0.7828550890348568 L 0.6203903966072899, -0.7842931567962642 L 0.6185733955996888, -0.7857270227351678 L 0.6167530806072704, -0.7871566791696821 L 0.6149294613823071, -0.7885821184404739 L 0.6131025476947743, -0.7900033329108029 L 0.6112723493322954, -0.7914203149665646 L 0.6094388761000931, -0.7928330570163277 L 0.6076021378209345, -0.7942415514913772 L 0.6057621443350795, -0.7956457908457546 L 0.6039189055002271, -0.7970457675562977 L 0.6020724311914633, -0.7984414741226815 L 0.6002227313012082, -0.7998329030674579 L 0.5983698157391635, -0.8012200469360958 L 0.5965136944322564, -0.8026028982970225 L 0.5946543773245911, -0.8039814497416609 L 0.5927918743773926, -0.8053556938844709 L 0.5909261955689534, -0.8067256233629889 L 0.5890573508945812, -0.8080912308378666 L 0.5871853503665443, -0.809452508992911 L 0.5853102040140186, -0.810809450535123 L 0.5834319218830334, -0.8121620481947368 L 0.5815505140364187, -0.8135102947252586 L 0.5796659905537483, -0.8148541829035069 L 0.57777836153129, -0.8161937055296481 L 0.5758876370819487, -0.817528855427238 L 0.5739938273352129, -0.8188596254432586 L 0.5720969424371005, -0.8201860084481574 L 0.5701969925501044, -0.8215079973358849 L 0.5682939878531381, -0.8228255850239328 L 0.566387938541482, -0.824138764453372 L 0.5644788548267252, -0.8254475285888915 L 0.5625667469367165, -0.8267518704188339 L 0.5606516251155053, -0.8280517829552346 L 0.558733499623288, -0.8293472592338587 L 0.5568123807363534, -0.8306382923142384 L 0.5548882787470273, -0.8319248752797102 L 0.5529612039636169, -0.833207001237452 L 0.5510311667103572, -0.8344846633185192 L 0.5490981773273523, -0.8357578546778842 L 0.5471622461705243, -0.8370265684944693 L 0.5452233836115551, -0.8382907979711856 L 0.5432816000378312, -0.8395505363349689 L 0.5413369058523888, -0.8408057768368162 L 0.5393893114738573, -0.8420565127518213 L 0.5374388273364038, -0.8433027373792114 L 0.535485463889678, -0.8445444440423822 L 0.5335292315987531, -0.8457816260889356 L 0.5315701409440744, -0.8470142768907126 L 0.5296082024213998, -0.8482423898438309 L 0.5276434265417448, -0.8494659583687191 L 0.5804077691959193 ,-0.9344125542055911",
          "type": "path"
         },
         {
          "fillcolor": "rgba(50,136,189,0.75)",
          "layer": "below",
          "line": {
           "color": "rgb(150,150,150)",
           "width": 0.45
          },
          "path": "M 0.777485920209775, -0.7781488571446723 L 0.7836380069407067, -0.7719530258234611 L 0.7897407202695801, -0.7657085573167411 L 0.7957936756926863, -0.7594158450595586 L 0.8017964918413344, -0.7530752855265728 L 0.8077487905058762, -0.7466872782070779 L 0.8136501966595346, -0.7402522255798363 L 0.8195003384820367, -0.7337705330877138 L 0.8252988473830346, -0.7272426091121412 L 0.8310453580253345, -0.7206688649473791 L 0.8367395083479112, -0.714049714774606 L 0.8423809395887194, -0.7073855756358244 L 0.8479692963073008, -0.7006768674075813 L 0.8535042264071769, -0.6939240127745162 L 0.8589853811580312, -0.6871274372027303 L 0.8644124152176854, -0.6802875689129766 L 0.8697849866538531, -0.6734048388536846 L 0.8751027569656871, -0.6664796806738027 L 0.8803653911051053, -0.659512530695479 L 0.885572557497899, -0.652503827886573 L 0.890723928064627, -0.6454540138329928 L 0.8958191782412847, -0.638363532710876 L 0.9008579869997515, -0.631232831258606 L 0.9058400368680218, -0.6240623587486599 L 0.9107650139502025, -0.6168525669593081 L 0.9156326079462939, -0.6096039101461446 L 0.9204425121717391, -0.602316845013468 L 0.9251944235767448, -0.5949918306855105 L 0.9298880427653783, -0.5876293286775041 L 0.9345230740144298, -0.5802298028666063 L 0.9390992252920422, -0.5727937194626757 L 0.9436162082761154, -0.5653215469788916 L 0.9480737383724668, -0.557813756202243 L 0.9524715347327672, -0.5502708201638601 L 0.9568093202722329, -0.5426932141092128 L 0.9610868216870829, -0.5350814154681711 L 0.9653037694717611, -0.5274359038249189 L 0.9694598979359156, -0.5197571608877403 L 0.9735549452211362, -0.5120456704586718 L 0.9775886533174573, -0.5043019184030143 L 0.9815607680796095, -0.4965263926187281 L 0.9854710392430356, -0.4887195830056861 L 0.9893192204396571, -0.4808819814348103 L 0.9931050692133957, -0.4730140817170845 L 0.9968283470354514, -0.4651163795724354 L 1.0004888193193304, -0.4571893725985026 L 1.0040862554356236, -0.4492335602392902 L 1.0076204287265405, -0.4412494437536924 L 1.011091116520187, -0.4332375261839191 L 1.014498100144597, -0.42519831232379507 L 1.0178411649415091, -0.4171323086869579 L 1.0211201002798909, -0.4090400234749476 L 1.0243346995692102, -0.40092196654518203 L 1.027484760272452, -0.39277864937883533 L 1.0305700839188776, -0.3846105850486151 L 1.0335904761165315, -0.37641828818642953 L 1.0365457465644874, -0.36820227495096997 L 1.0394357090648394, -0.35996306299518394 L 1.042260181534433, -0.351701171433663 L 1.0450189860163368, -0.3434171208099381 L 1.0477119486910553, -0.33511143306367763 L 1.0503388998874812, -0.32678463149780484 L 1.0528996740935832, -0.3184372407455296 L 1.0553941099668371, -0.31006978673728847 L 1.05782205034439, -0.30168279666761066 L 1.0601833422529607, -0.2932767989619051 L 1.062477836918481, -0.2848523232431602 L 1.0647053897754666, -0.27640990029858176 L 1.0668658604761272, -0.26795006204614485 L 1.0689591128992086, -0.2594733415010821 L 1.0709850151585683, -0.2509802727423042 L 1.0729434396114867, -0.24247139087874325 L 1.0748342628667071, -0.23394723201564568 L 1.0766573657922127, -0.22540833322078804 L 1.07841263352273, -0.2168552324906417 L 1.080099955466967, -0.2082884687164792 L 1.0817192253145822, -0.19970858165041516 L 1.0832703410428801, -0.19111611187140218 L 1.0847532049232416, -0.18251160075117417 L 1.0861677235272802, -0.17389559042013134 L 1.0875138077327289, -0.16526862373318588 L 1.088791372729055, -0.1566312442355622 L 1.0900003380228043, -0.14798399612854368 L 1.0911406274426714, -0.13932742423519315 L 1.092212169144301, -0.13066207396601898 L 1.0932148956148118, -0.12198849128461438 L 1.0941487436770523, -0.1133072226732617 L 1.095013654493581, -0.10461881509849422 L 1.0958095735703717, -0.09592381597664212 L 1.096536450760249, -0.08722277313933557 L 1.0971942402660477, -0.07851623479899124 L 1.0977829006434967, -0.06980474951427487 L 1.0983023948038315, -0.06108886615553344 L 1.0987526900161309, -0.052369133870216106 L 1.099133757909378, -0.043646102048278054 L 1.0994455744742504, -0.034920320287560036 L 1.0996881200646296, -0.02619233835916373 L 1.0998613793988414, -0.01746270617281611 L 1.0999653415606172, -0.008731973742216325 L 1.099999999999783, -6.911503848379499e-07 L 0.9999999999998026, -6.283185316708634e-07 L 0.9999684923278338, -0.007938157947469385 L 0.9998739812716739, -0.015875187429832825 L 0.9997164727860268, -0.023811216690148844 L 0.999495976794773, -0.03174574571596367 L 0.9992125071903437, -0.039678274589343684 L 0.9988660818328461, -0.047608303518378275 L 0.9984567225489377, -0.055535332868666756 L 0.9979844551304515, -0.06345886319479534 L 0.9974493093327707, -0.07137839527181021 L 0.9968513188729536, -0.0792934301266687 L 0.9961905214276104, -0.08720346906967465 L 0.9954669586305279, -0.09510801372590383 L 0.9946806760700475, -0.10300656606660154 L 0.9938317232861924, -0.11089862844055852 L 0.9929201537675462, -0.11878370360547179 L 0.9919460249478831, -0.1266612947592665 L 0.9909093982025492, -0.13453090557140335 L 0.9898103388445953, -0.14239204021414745 L 0.9886489161206625, -0.15024420339380534 L 0.9874252032066182, -0.15808690038193757 L 0.9861392772029468, -0.16591963704652196 L 0.984791219129891, -0.17374191988309287 L 0.9833811139223473, -0.18155325604583195 L 0.9819090504245155, -0.18935315337861744 L 0.9803751213842999, -0.1971411204460379 L 0.9787794234474659, -0.20491666656435276 L 0.9771220571515519, -0.21267930183240516 L 0.9754031269195332, -0.22042853716249386 L 0.9736227410532439, -0.22816388431118564 L 0.9717810117265532, -0.23588485591007463 L 0.9698780549782974, -0.2435909654964953 L 0.9679139907049695, -0.2512817275441652 L 0.9658889426531645, -0.25895665749378194 L 0.9638030384117824, -0.2666152717835501 L 0.9616564094039909, -0.27425708787964603 L 0.9594491908789429, -0.28188162430662583 L 0.9571815219032574, -0.28948840067775417 L 0.9548535453522555, -0.2970769377252771 L 0.9524654079009592, -0.304646757330616 L 0.9500172600148515, -0.31219738255448914 L 0.9475092559403936, -0.3197283376669663 L 0.9449415536953084, -0.32723914817743993 L 0.9423143150586248, -0.3347293408645181 L 0.9396277055604831, -0.342198443805845 L 0.9368818944717068, -0.3496459864078319 L 0.9340770547931381, -0.3570714994353048 L 0.9312133632447365, -0.36447451504107453 L 0.9282910002544462, -0.3718545667954069 L 0.9253101499468265, -0.37921118971541623 L 0.9222710001314517, -0.38654392029435913 L 0.919173742291079, -0.3938522965308355 L 0.9160185715695822, -0.40113585795790213 L 0.9128056867596577, -0.40839414567208193 L 0.9095352902903003, -0.41562670236227506 L 0.9062075882140467, -0.4228330723385776 L 0.902822790193996, -0.43001280156098587 L 0.8993811094905974, -0.43716543766800936 L 0.8958827629482141, -0.4442905300051691 L 0.8923279709814631, -0.45138762965338913 L 0.8887169575613247, -0.4584562894572857 L 0.8850499502010328, -0.465496064053338 L 0.8813271799417414, -0.4725065098979457 L 0.8775488813379646, -0.4794871852953808 L 0.8737152924428025, -0.48643765042561005 L 0.8698266547929389, -0.4933574673720116 L 0.8658832133934247, -0.5002462001489637 L 0.8618852167022425, -0.5071034147293119 L 0.8578329166146502, -0.5139286790717196 L 0.853726568447311, -0.5207215631478869 L 0.8495664309222088, -0.5274816389696421 L 0.8453527661503438, -0.5342084806159128 L 0.8410858396152224, -0.540901664259555 L 0.8367659201561264, -0.5475607681940619 L 0.8323932799511762, -0.5541853728601314 L 0.827968194500184, -0.5607750608720983 L 0.8234909426072925, -0.5673294170442362 L 0.8189618063634104, -0.5738480284169145 L 0.8143810711284405, -0.5803304842826145 L 0.8097490255132972, -0.5867763762118117 L 0.8050659613617263, -0.5931852980787027 L 0.8003321737319138, -0.599556846086799 L 0.7955479608778973, -0.605890618794366 L 0.7907136242307754, -0.6121862171397132 L 0.7858294683797139, -0.6184432444663424 L 0.7808958010527556, -0.6246613065479366 L 0.7759129330974335, -0.6308400116131965 L 0.7708811784611824, -0.6369789703705284 L 0.7658008541715631, -0.6430777960325675 L 0.7606722803162829, -0.6491361043405508 L 0.7554957800230313, -0.6551535135885265 L 0.7502716794391223, -0.6611296446474011 L 0.7450003077109424, -0.6670641209888306 L 0.7396819969632132, -0.672956568708942 L 0.7343170822780692, -0.678806616551889 L 0.7289059016739403, -0.684613895933248 L 0.7234487960842603, -0.6903780409632351 L 0.7179461093359818, -0.6960986884697646 L 0.7123981881279151, -0.7017754780213282 L 0.7068053820088863, -0.707408051949702 L 0.777485920209775 ,-0.7781488571446723",
          "type": "path"
         }
        ],
        "showlegend": false,
        "template": {
         "data": {
          "bar": [
           {
            "error_x": {
             "color": "#2a3f5f"
            },
            "error_y": {
             "color": "#2a3f5f"
            },
            "marker": {
             "line": {
              "color": "#E5ECF6",
              "width": 0.5
             },
             "pattern": {
              "fillmode": "overlay",
              "size": 10,
              "solidity": 0.2
             }
            },
            "type": "bar"
           }
          ],
          "barpolar": [
           {
            "marker": {
             "line": {
              "color": "#E5ECF6",
              "width": 0.5
             },
             "pattern": {
              "fillmode": "overlay",
              "size": 10,
              "solidity": 0.2
             }
            },
            "type": "barpolar"
           }
          ],
          "carpet": [
           {
            "aaxis": {
             "endlinecolor": "#2a3f5f",
             "gridcolor": "white",
             "linecolor": "white",
             "minorgridcolor": "white",
             "startlinecolor": "#2a3f5f"
            },
            "baxis": {
             "endlinecolor": "#2a3f5f",
             "gridcolor": "white",
             "linecolor": "white",
             "minorgridcolor": "white",
             "startlinecolor": "#2a3f5f"
            },
            "type": "carpet"
           }
          ],
          "choropleth": [
           {
            "colorbar": {
             "outlinewidth": 0,
             "ticks": ""
            },
            "type": "choropleth"
           }
          ],
          "contour": [
           {
            "colorbar": {
             "outlinewidth": 0,
             "ticks": ""
            },
            "colorscale": [
             [
              0,
              "#0d0887"
             ],
             [
              0.1111111111111111,
              "#46039f"
             ],
             [
              0.2222222222222222,
              "#7201a8"
             ],
             [
              0.3333333333333333,
              "#9c179e"
             ],
             [
              0.4444444444444444,
              "#bd3786"
             ],
             [
              0.5555555555555556,
              "#d8576b"
             ],
             [
              0.6666666666666666,
              "#ed7953"
             ],
             [
              0.7777777777777778,
              "#fb9f3a"
             ],
             [
              0.8888888888888888,
              "#fdca26"
             ],
             [
              1,
              "#f0f921"
             ]
            ],
            "type": "contour"
           }
          ],
          "contourcarpet": [
           {
            "colorbar": {
             "outlinewidth": 0,
             "ticks": ""
            },
            "type": "contourcarpet"
           }
          ],
          "heatmap": [
           {
            "colorbar": {
             "outlinewidth": 0,
             "ticks": ""
            },
            "colorscale": [
             [
              0,
              "#0d0887"
             ],
             [
              0.1111111111111111,
              "#46039f"
             ],
             [
              0.2222222222222222,
              "#7201a8"
             ],
             [
              0.3333333333333333,
              "#9c179e"
             ],
             [
              0.4444444444444444,
              "#bd3786"
             ],
             [
              0.5555555555555556,
              "#d8576b"
             ],
             [
              0.6666666666666666,
              "#ed7953"
             ],
             [
              0.7777777777777778,
              "#fb9f3a"
             ],
             [
              0.8888888888888888,
              "#fdca26"
             ],
             [
              1,
              "#f0f921"
             ]
            ],
            "type": "heatmap"
           }
          ],
          "heatmapgl": [
           {
            "colorbar": {
             "outlinewidth": 0,
             "ticks": ""
            },
            "colorscale": [
             [
              0,
              "#0d0887"
             ],
             [
              0.1111111111111111,
              "#46039f"
             ],
             [
              0.2222222222222222,
              "#7201a8"
             ],
             [
              0.3333333333333333,
              "#9c179e"
             ],
             [
              0.4444444444444444,
              "#bd3786"
             ],
             [
              0.5555555555555556,
              "#d8576b"
             ],
             [
              0.6666666666666666,
              "#ed7953"
             ],
             [
              0.7777777777777778,
              "#fb9f3a"
             ],
             [
              0.8888888888888888,
              "#fdca26"
             ],
             [
              1,
              "#f0f921"
             ]
            ],
            "type": "heatmapgl"
           }
          ],
          "histogram": [
           {
            "marker": {
             "pattern": {
              "fillmode": "overlay",
              "size": 10,
              "solidity": 0.2
             }
            },
            "type": "histogram"
           }
          ],
          "histogram2d": [
           {
            "colorbar": {
             "outlinewidth": 0,
             "ticks": ""
            },
            "colorscale": [
             [
              0,
              "#0d0887"
             ],
             [
              0.1111111111111111,
              "#46039f"
             ],
             [
              0.2222222222222222,
              "#7201a8"
             ],
             [
              0.3333333333333333,
              "#9c179e"
             ],
             [
              0.4444444444444444,
              "#bd3786"
             ],
             [
              0.5555555555555556,
              "#d8576b"
             ],
             [
              0.6666666666666666,
              "#ed7953"
             ],
             [
              0.7777777777777778,
              "#fb9f3a"
             ],
             [
              0.8888888888888888,
              "#fdca26"
             ],
             [
              1,
              "#f0f921"
             ]
            ],
            "type": "histogram2d"
           }
          ],
          "histogram2dcontour": [
           {
            "colorbar": {
             "outlinewidth": 0,
             "ticks": ""
            },
            "colorscale": [
             [
              0,
              "#0d0887"
             ],
             [
              0.1111111111111111,
              "#46039f"
             ],
             [
              0.2222222222222222,
              "#7201a8"
             ],
             [
              0.3333333333333333,
              "#9c179e"
             ],
             [
              0.4444444444444444,
              "#bd3786"
             ],
             [
              0.5555555555555556,
              "#d8576b"
             ],
             [
              0.6666666666666666,
              "#ed7953"
             ],
             [
              0.7777777777777778,
              "#fb9f3a"
             ],
             [
              0.8888888888888888,
              "#fdca26"
             ],
             [
              1,
              "#f0f921"
             ]
            ],
            "type": "histogram2dcontour"
           }
          ],
          "mesh3d": [
           {
            "colorbar": {
             "outlinewidth": 0,
             "ticks": ""
            },
            "type": "mesh3d"
           }
          ],
          "parcoords": [
           {
            "line": {
             "colorbar": {
              "outlinewidth": 0,
              "ticks": ""
             }
            },
            "type": "parcoords"
           }
          ],
          "pie": [
           {
            "automargin": true,
            "type": "pie"
           }
          ],
          "scatter": [
           {
            "marker": {
             "colorbar": {
              "outlinewidth": 0,
              "ticks": ""
             }
            },
            "type": "scatter"
           }
          ],
          "scatter3d": [
           {
            "line": {
             "colorbar": {
              "outlinewidth": 0,
              "ticks": ""
             }
            },
            "marker": {
             "colorbar": {
              "outlinewidth": 0,
              "ticks": ""
             }
            },
            "type": "scatter3d"
           }
          ],
          "scattercarpet": [
           {
            "marker": {
             "colorbar": {
              "outlinewidth": 0,
              "ticks": ""
             }
            },
            "type": "scattercarpet"
           }
          ],
          "scattergeo": [
           {
            "marker": {
             "colorbar": {
              "outlinewidth": 0,
              "ticks": ""
             }
            },
            "type": "scattergeo"
           }
          ],
          "scattergl": [
           {
            "marker": {
             "colorbar": {
              "outlinewidth": 0,
              "ticks": ""
             }
            },
            "type": "scattergl"
           }
          ],
          "scattermapbox": [
           {
            "marker": {
             "colorbar": {
              "outlinewidth": 0,
              "ticks": ""
             }
            },
            "type": "scattermapbox"
           }
          ],
          "scatterpolar": [
           {
            "marker": {
             "colorbar": {
              "outlinewidth": 0,
              "ticks": ""
             }
            },
            "type": "scatterpolar"
           }
          ],
          "scatterpolargl": [
           {
            "marker": {
             "colorbar": {
              "outlinewidth": 0,
              "ticks": ""
             }
            },
            "type": "scatterpolargl"
           }
          ],
          "scatterternary": [
           {
            "marker": {
             "colorbar": {
              "outlinewidth": 0,
              "ticks": ""
             }
            },
            "type": "scatterternary"
           }
          ],
          "surface": [
           {
            "colorbar": {
             "outlinewidth": 0,
             "ticks": ""
            },
            "colorscale": [
             [
              0,
              "#0d0887"
             ],
             [
              0.1111111111111111,
              "#46039f"
             ],
             [
              0.2222222222222222,
              "#7201a8"
             ],
             [
              0.3333333333333333,
              "#9c179e"
             ],
             [
              0.4444444444444444,
              "#bd3786"
             ],
             [
              0.5555555555555556,
              "#d8576b"
             ],
             [
              0.6666666666666666,
              "#ed7953"
             ],
             [
              0.7777777777777778,
              "#fb9f3a"
             ],
             [
              0.8888888888888888,
              "#fdca26"
             ],
             [
              1,
              "#f0f921"
             ]
            ],
            "type": "surface"
           }
          ],
          "table": [
           {
            "cells": {
             "fill": {
              "color": "#EBF0F8"
             },
             "line": {
              "color": "white"
             }
            },
            "header": {
             "fill": {
              "color": "#C8D4E3"
             },
             "line": {
              "color": "white"
             }
            },
            "type": "table"
           }
          ]
         },
         "layout": {
          "annotationdefaults": {
           "arrowcolor": "#2a3f5f",
           "arrowhead": 0,
           "arrowwidth": 1
          },
          "autotypenumbers": "strict",
          "coloraxis": {
           "colorbar": {
            "outlinewidth": 0,
            "ticks": ""
           }
          },
          "colorscale": {
           "diverging": [
            [
             0,
             "#8e0152"
            ],
            [
             0.1,
             "#c51b7d"
            ],
            [
             0.2,
             "#de77ae"
            ],
            [
             0.3,
             "#f1b6da"
            ],
            [
             0.4,
             "#fde0ef"
            ],
            [
             0.5,
             "#f7f7f7"
            ],
            [
             0.6,
             "#e6f5d0"
            ],
            [
             0.7,
             "#b8e186"
            ],
            [
             0.8,
             "#7fbc41"
            ],
            [
             0.9,
             "#4d9221"
            ],
            [
             1,
             "#276419"
            ]
           ],
           "sequential": [
            [
             0,
             "#0d0887"
            ],
            [
             0.1111111111111111,
             "#46039f"
            ],
            [
             0.2222222222222222,
             "#7201a8"
            ],
            [
             0.3333333333333333,
             "#9c179e"
            ],
            [
             0.4444444444444444,
             "#bd3786"
            ],
            [
             0.5555555555555556,
             "#d8576b"
            ],
            [
             0.6666666666666666,
             "#ed7953"
            ],
            [
             0.7777777777777778,
             "#fb9f3a"
            ],
            [
             0.8888888888888888,
             "#fdca26"
            ],
            [
             1,
             "#f0f921"
            ]
           ],
           "sequentialminus": [
            [
             0,
             "#0d0887"
            ],
            [
             0.1111111111111111,
             "#46039f"
            ],
            [
             0.2222222222222222,
             "#7201a8"
            ],
            [
             0.3333333333333333,
             "#9c179e"
            ],
            [
             0.4444444444444444,
             "#bd3786"
            ],
            [
             0.5555555555555556,
             "#d8576b"
            ],
            [
             0.6666666666666666,
             "#ed7953"
            ],
            [
             0.7777777777777778,
             "#fb9f3a"
            ],
            [
             0.8888888888888888,
             "#fdca26"
            ],
            [
             1,
             "#f0f921"
            ]
           ]
          },
          "colorway": [
           "#636efa",
           "#EF553B",
           "#00cc96",
           "#ab63fa",
           "#FFA15A",
           "#19d3f3",
           "#FF6692",
           "#B6E880",
           "#FF97FF",
           "#FECB52"
          ],
          "font": {
           "color": "#2a3f5f"
          },
          "geo": {
           "bgcolor": "white",
           "lakecolor": "white",
           "landcolor": "#E5ECF6",
           "showlakes": true,
           "showland": true,
           "subunitcolor": "white"
          },
          "hoverlabel": {
           "align": "left"
          },
          "hovermode": "closest",
          "mapbox": {
           "style": "light"
          },
          "paper_bgcolor": "white",
          "plot_bgcolor": "#E5ECF6",
          "polar": {
           "angularaxis": {
            "gridcolor": "white",
            "linecolor": "white",
            "ticks": ""
           },
           "bgcolor": "#E5ECF6",
           "radialaxis": {
            "gridcolor": "white",
            "linecolor": "white",
            "ticks": ""
           }
          },
          "scene": {
           "xaxis": {
            "backgroundcolor": "#E5ECF6",
            "gridcolor": "white",
            "gridwidth": 2,
            "linecolor": "white",
            "showbackground": true,
            "ticks": "",
            "zerolinecolor": "white"
           },
           "yaxis": {
            "backgroundcolor": "#E5ECF6",
            "gridcolor": "white",
            "gridwidth": 2,
            "linecolor": "white",
            "showbackground": true,
            "ticks": "",
            "zerolinecolor": "white"
           },
           "zaxis": {
            "backgroundcolor": "#E5ECF6",
            "gridcolor": "white",
            "gridwidth": 2,
            "linecolor": "white",
            "showbackground": true,
            "ticks": "",
            "zerolinecolor": "white"
           }
          },
          "shapedefaults": {
           "line": {
            "color": "#2a3f5f"
           }
          },
          "ternary": {
           "aaxis": {
            "gridcolor": "white",
            "linecolor": "white",
            "ticks": ""
           },
           "baxis": {
            "gridcolor": "white",
            "linecolor": "white",
            "ticks": ""
           },
           "bgcolor": "#E5ECF6",
           "caxis": {
            "gridcolor": "white",
            "linecolor": "white",
            "ticks": ""
           }
          },
          "title": {
           "x": 0.05
          },
          "xaxis": {
           "automargin": true,
           "gridcolor": "white",
           "linecolor": "white",
           "ticks": "",
           "title": {
            "standoff": 15
           },
           "zerolinecolor": "white",
           "zerolinewidth": 2
          },
          "yaxis": {
           "automargin": true,
           "gridcolor": "white",
           "linecolor": "white",
           "ticks": "",
           "title": {
            "standoff": 15
           },
           "zerolinecolor": "white",
           "zerolinewidth": 2
          }
         }
        },
        "title": {
         "text": " "
        },
        "width": 625,
        "xaxis": {
         "showgrid": false,
         "showline": false,
         "showticklabels": false,
         "title": {
          "text": ""
         },
         "zeroline": false
        },
        "yaxis": {
         "scaleanchor": "x",
         "showgrid": false,
         "showline": false,
         "showticklabels": false,
         "title": {
          "text": ""
         },
         "zeroline": false
        }
       }
      },
      "text/html": [
       "<div>                            <div id=\"37b296aa-aeb7-47bf-a5a9-c0398dfebc3c\" class=\"plotly-graph-div\" style=\"height:625px; width:625px;\"></div>            <script type=\"text/javascript\">                require([\"plotly\"], function(Plotly) {                    window.PLOTLYENV=window.PLOTLYENV || {};                                    if (document.getElementById(\"37b296aa-aeb7-47bf-a5a9-c0398dfebc3c\")) {                    Plotly.newPlot(                        \"37b296aa-aeb7-47bf-a5a9-c0398dfebc3c\",                        [{\"hoverinfo\":\"text\",\"line\":{\"color\":\"rgba(213,62,79,0.75)\",\"shape\":\"spline\",\"width\":0.25},\"mode\":\"lines\",\"text\":\"Pine St & 9th Ave<br>1614 partidas\",\"x\":[1.1,1.0999913313713872,1.0999653256221762,1.099921983162247,1.099861304674727,1.099783291115978,1.0996879437155826,1.0995752639763257,1.099445253674168,1.0992979148582207,1.099133249850712,1.0989512612469505,1.0987519519152846,1.0985353249970575,1.0983013839065565,1.0980501323309608,1.0977815742302826,1.0974957138373043,1.0971925556575122,1.0968721044690262,1.0965343653225228,1.096179343541157,1.0958070447204784,1.0954174747283416,1.0950106397048145,1.0945865460620827,1.0941452004843464,1.0936866099277163,1.093210781620104,1.0927177230611071,1.0922074420218921,1.0916799465450715,1.091135244944577,1.0905733458055282,1.0899942579840978,1.0893979906073719,1.0887845530732054,1.0881539550500754,1.0875062064769272,1.086841317563019,1.0861592987877595,1.0854601609005445,1.084743914920586,1.0840105721367392,1.0832601441073249,1.0824926426599462,1.081708079891303,1.0809064681670015,1.0800878201213586,1.079252148657203,1.0783994669456725,1.077529788426005,1.0766431268053283,1.0757394960584425,1.0748189104276011,1.0738813844222863,1.072926932818979,1.0719555706609272,1.0709673132579092,1.0699621761859908,1.0689401752872811,1.0679013266696826,1.0668456467066365,1.065773152036866,1.0646838595641126,1.0635777864568705,1.0624549501481164,1.0613153683350338,1.0601590589787342,1.058986040303975,1.0577963307988711,1.056589949214604,1.0553669145651263,1.054127246126862,1.0528709634384024,1.0515980863001986,1.0503086347742492,1.0490026291837837,1.047680090112943,1.0463410384064549,1.044985495169304,1.0436134817664016,1.042225019822247,1.0408201312205867,1.0393988381040715,1.0379611628739052,1.0365071281894924,1.0350367569680814,1.0335500723844038,1.0320470978703074,1.0305278571143883,1.0289923740616174,1.0274406729129624,1.025872778125007,1.0242887144095651,1.0226885067332914,1.0210721803172875,1.0194397606367052,1.0177912734203445,1.016126744650248],\"y\":[0.0,0.004367025051814605,0.008733981274323177,0.013100799839304516,0.017467411920707058,0.02183374869573366,0.026199741345926314,0.03056532105825082,0.03493041902618135,0.039294966450784924,0.043658894541805736,0.04802213451874939,0.05238461761196698,0.05674627506373892,0.06110703812935871,0.06546683807821635,0.0698256061948817,0.07418327378018746,0.078539772152312,0.08289503264786174,0.08724898662295352,0.09160156545429643,0.09595270054027338,0.10030232330202235,0.1046503651845173,0.10899675765764866,0.11334143221730336,0.11768432038644476,0.1220253537161916,0.12636446378689717,0.13070158220922737,0.13503664062523887,0.13936957070945635,0.1437003041699495,0.1480287727494091,0.15235490822622336,0.15667864241555254,0.1609999071704042,0.16531863438270675,0.16963475598438346,0.17394820394842475,0.17825891028996077,0.18256680706733275,0.18687182638316377,0.19117390038542914,0.19547296126852556,0.19976894127434,0.20406177269331757,0.20835138786552862,0.21263771918173538,0.21692069908445727,0.2212002600690359,0.2254763346846988,0.2297488555356229,0.23401775528199636,0.23828296664108004,0.2425444223882681,0.24680205535814745,0.2510557984455563,0.2553055846066417,0.2595513468599168,0.2637930182873157,0.26803053203524874,0.2722638213156561,0.2764928194070604,0.2807174596556182,0.28493767547617077,0.28915340035329323,0.29336456784234327,0.29757111157050836,0.3017729652378513,0.305970062618356,0.3101623375609708,0.3143497239906509,0.31853215590940054,0.32270956739731216,0.3268818926136064,0.33104906579766913,0.3352110212700882,0.3393676934336885,0.3435190167745658,0.3476649258631198,0.3518053553550846,0.3559402399925593,0.360069514605036,0.36419311411042743,0.36831097351609227,0.37242302791986,0.37652921251105337,0.38062946257151,0.3847237134766028,0.38881190069625793,0.39289395979597236,0.39696982643782913,0.4010394363815115,0.40510272548531556,0.40915962970716085,0.41321008510560014,0.417254027840827,0.4212913941756819],\"type\":\"scatter\"},{\"hoverinfo\":\"text\",\"line\":{\"color\":\"rgba(244,109,67,0.75)\",\"shape\":\"spline\",\"width\":0.25},\"mode\":\"lines\",\"text\":\"Seattle Aquarium<br>4733 partidas\",\"x\":[1.0161264799448577,1.01115304901201,1.0060425718369692,1.0007957410663069,0.9954132678272266,0.9898958816311828,0.9842443302750056,0.9784593797395488,0.9725418140858734,0.9664924353489793,0.9603120634291025,0.95400153598059,0.9475617082983687,0.9409934532020231,0.9342976609174984,0.9274752389564437,0.9205271119932132,0.9134542217395403,0.9062575268169032,0.8989380026265992,0.8914966412175427,0.8839344511518094,0.8762524573679408,0.8684517010420297,0.8605332394466041,0.8524981458073316,0.8443475091575587,0.8360824341907097,0.8277040411105626,0.8192134654794229,0.8106118580642147,0.8019003846805128,0.7930802260345343,0.7841525775631116,0.7751186492716693,0.7659796655702271,0.7567368651074498,0.7473915006027665,0.7379448386765851,0.7283981596786211,0.7187527575143648,0.7090099394697139,0.6991710260337898,0.6892373507199661,0.679210259885131,0.6690911125472108,0.6588812802009733,0.6485821466321451,0.6381951077298601,0.6277215712974673,0.6171629568617257,0.606520695480409,0.5957962295483479,0.5849910126019352,0.5741065091221214,0.5631441943359278,0.5521055540165004,0.5409920842817376,0.5298052913915147,0.5185466915435316,0.5072178106678177,0.4958201842199143,0.48435535697276766,0.4728248828073586,0.4612303245020979,0.4495732535210161,0.437855249800775,0.42607790153653174,0.4142428049666843,0.4023515641565246,0.39040579078083254,0.37840710390543936,0.3663571297677864,0.35425750155651475,0.3421098591901113,0.3299158490946436,0.3176771239806112,0.30539534261894635,0.2930721696161943,0.28070927518889965,0.2683083349372352,0.25587102961790087,0.24339904491632114,0.2308940712181775,0.2183578033803032,0.20579194050096994,0.1931981856896024,0.18057824583594734,0.1679338313787319,0.15526665607383866,0.14257843676203308,0.1298708931362719,0.1171457475086261,0.10440472457684649,0.0916495511906083,0.07888195611746388,0.06610366980853341,0.0533164241639697,0.04052195229822636,0.027721988305159446],\"y\":[0.42129203262686193,0.433092959390609,0.4448351870655655,0.4565171241733896,0.46813718740719823,0.47969380184616056,0.49118540116895365,0.5026104278660536,0.5139673334508319,0.5252545786694288,0.5364706337093762,0.5476139784069387,0.5586831024531504,0.5696765055985126,0.5805926978563298,0.5914301997046547,0.6021875422868149,0.6128632676104931,0.6234559287453365,0.6339640900190645,0.6443863272120539,0.6547212277503683,0.6649673908972118,0.6751234279427765,0.6851879623924617,0.6951596301534358,0.7050370797195183,0.7148189723543561,0.7245039822728679,0.7340907968209346,0.7435781166533088,0.7529646559097218,0.7622491423891615,0.7714303177222998,0.7805069375420459,0.7894777716522,0.798341604194188,0.8070972338118532,0.8157434738142799,0.824279152336633,0.8327031124989847,0.8410142125631128,0.8492113260872454,0.8572933420787325,0.8652591651446248,0.8731077156401357,0.8808379298149727,0.8884487599575108,0.8959391745367944,0.9033081583423449,0.9105547126217577,0.9176778552160672,0.9246766206928628,0.9315500604771397,0.9382972429798628,0.9449172537242291,0.9514091954696114,0.957772188333166,0.9640053699090853,0.9701078953854864,0.97607893765891,0.9819176874464226,0.9876233533953027,0.9931951621902957,0.9986323586584251,1.0039342058713452,1.009099985245219,1.014128996638113,1.019020558444889,1.023774007689587,1.028388700115279,1.03286401027139,1.0371993315984684,1.041394076510394,1.0454476764740177,1.0493595820862174,1.05312926314836,1.0567562087381632,1.0602399272789422,1.0635799466062357,1.0667758140317996,1.0698270964049637,1.0727333801713372,1.0754942714288604,1.0781093959811914,1.0805783993884226,1.082900947015121,1.0850767240756813,1.0871054356769907,1.0889868068583974,1.090720582628977,1.092306528002093,1.093744428027245,1.0950340878192024,1.0961753325844183,1.0971680076447192,1.09801197845827,1.0987071306378091,1.0992533699661513,1.099650622408958],\"type\":\"scatter\"},{\"hoverinfo\":\"text\",\"line\":{\"color\":\"rgba(253,174,97,0.75)\",\"shape\":\"spline\",\"width\":0.25},\"mode\":\"lines\",\"text\":\"King Street Station Plaza<br>2215 partidas\",\"x\":[0.027721297374290556,0.02172964050761886,0.015737338610043717,0.009744569559331237,0.003751511247113961,-0.002241658426388293,-0.00823476155765026,-0.014227620245121695,-0.020220056594509254,-0.02621189272405569,-0.03220295076982117,-0.03819305289096255,-0.04418202127501344,-0.050169678143160985,-0.05615584575552416,-0.062140346416429515,-0.06812300247968582,-0.07410363635385829,-0.08008207050753886,-0.08605812747461701,-0.09203162985954733,-0.0980024003426163,-0.1039702616852045,-0.10993503673504873,-0.11589654843150059,-0.12185461981078194,-0.12780907401123912,-0.1337597342785914,-0.13970642397117866,-0.14564896656520554,-0.15158718565998,-0.15752090498315058,-0.16344994839593882,-0.16937413989836753,-0.17529330363448611,-0.18120726389758945,-0.1871158451354345,-0.19301887195545103,-0.19891616912994892,-0.20480756160131838,-0.21069287448722723,-0.21657193308581213,-0.22244456288086406,-0.22831058954700972,-0.23416983895488497,-0.2400221371763046,-0.24586731048942478,-0.2517051853839009,-0.2575355885660367,-0.26335834696392924,-0.26917328773260635,-0.27498023825915696,-0.28077902616785627,-0.2865694793252809,-0.29235142584541934,-0.29812469409477516,-0.3038891126974604,-0.3096445105402833,-0.31539071677782804,-0.3211275608375257,-0.32685487242471783,-0.33257248152771196,-0.3382802184228273,-0.3439779136794333,-0.34966539816498005,-0.3553425030500173,-0.36100905981320697,-0.36666490024632564,-0.3723098564592569,-0.37794376088497683,-0.38356644628452585,-0.3891777457519748,-0.39477749271937823,-0.40036552096172057,-0.4059416646018484,-0.4115057581153956,-0.41705763633569676,-0.4225971344586894,-0.4281240880478074,-0.4336383330388606,-0.43913970574490585,-0.44462804286110613,-0.45010318146957756,-0.45556495904422567,-0.4610132134555701,-0.46644778297555733,-0.4718685062823612,-0.4772752224651714,-0.4826677710289718,-0.48804599189930176,-0.49340972542701006,-0.49875881239299297,-0.504093094012921,-0.5094124119419523,-0.5147166082794326,-0.5200055255735828,-0.5252790068261731,-0.5305368954971821,-0.5357790355094459,-0.5410052712532888],\"y\":[1.0996506398269799,1.099785353022766,1.0998874197723478,1.0999568370459378,1.0999936027829267,1.0999977158919467,1.0999691762509025,1.0999079847069757,1.0998141430765995,1.0996876541454044,1.099528521668136,1.0993367503685432,1.0991123459392376,1.0988553150415263,1.0985656653052116,1.0982434053283663,1.0978885446770783,1.0975010938851657,1.097081064453865,1.0966284688514896,1.0961433205130593,1.0956256338399013,1.095075424199224,1.0944927079236588,1.0938775023107776,1.093229825622577,1.092549697084938,1.0918371368870545,1.0910921661808344,1.0903148070802706,1.0895050826607864,1.0886630169585487,1.087788634969756,1.0868819626498953,1.0859430269129722,1.0849718556307115,1.0839684776317309,1.0829329227006839,1.0818652215773763,1.0807654059558542,1.079633508483462,1.0784695627598744,1.0772736033360986,1.0760456657134478,1.0747857863424894,1.0734940026219613,1.072170352897662,1.0708148764613128,1.0694276135493908,1.068008605341936,1.0665578939613263,1.06507552247103,1.0635615348743253,1.062015976112995,1.0604388920659928,1.0588303295480805,1.0571903363084392,1.0555189610292506,1.0538162533242539,1.0520822637372713,1.0503170437407086,1.0485206457340266,1.0466931230421859,1.0448345299140647,1.0429449215208473,1.0410243539543869,1.039072884225541,1.0370905702624782,1.0350774709089594,1.0330336459225902,1.0309591559730484,1.0288540626402811,1.026718428412679,1.0245523166852195,1.022355791757586,1.020128918832259,1.0178717640125803,1.015584394300791,1.0132668775960425,1.0109192826923812,1.008541679276706,1.0061341379266993,1.0036967301087338,1.001229528175749,0.9987326053651042,0.9962060357964047,0.9936498944693013,0.9910642572612642,0.9884492009253305,0.9858048030878258,0.98313114224606,0.9804282977659975,0.9776963498799004,0.9749353796839475,0.972145469135827,0.9693267010523037,0.9664791591067597,0.9636029278267124,0.9606980925913031,0.9577647396287648],\"type\":\"scatter\"},{\"hoverinfo\":\"text\",\"line\":{\"color\":\"rgba(254,224,139,0.75)\",\"shape\":\"spline\",\"width\":0.25},\"mode\":\"lines\",\"text\":\"Lake Union Park<br>1496 partidas\",\"x\":[-0.5410058730345159,-0.5445265669170704,-0.5480398874830977,-0.5515457871594825,-0.5550442184735959,-0.5585351340539356,-0.5620184866307681,-0.5654942290367693,-0.5689623142076633,-0.5724226951828575,-0.5758753251060819,-0.5793201572260205,-0.5827571448969467,-0.5861862415793538,-0.5896074008405839,-0.5930205763554597,-0.5964257219069097,-0.5998227913865933,-0.6032117387955275,-0.6065925182447084,-0.6099650839557316,-0.6133293902614141,-0.616685391606412,-0.620033042547836,-0.6233722977558689,-0.6267031120143772,-0.6300254402215253,-0.6333392373903856,-0.6366444586495464,-0.6399410592437214,-0.6432289945343549,-0.6465082200002252,-0.6497786912380497,-0.6530403639630846,-0.656293194009724,-0.6595371373320996,-0.6627721500046766,-0.6659981882228472,-0.6692152083035253,-0.6724231666857383,-0.6756220199312138,-0.6788117247249726,-0.6819922378759116,-0.6851635163173891,-0.6883255171078102,-0.6914781974312049,-0.6946215145978107,-0.6977554260446499,-0.7008798893361042,-0.7039948621644923,-0.7071003023506406,-0.7101961678444542,-0.713282416725488,-0.7163590072035135,-0.7194258976190836,-0.7224830464440983,-0.7255304122823667,-0.728567953870166,-0.7315956300768031,-0.734613399905168,-0.7376212224922922,-0.7406190571099011,-0.7436068631649629,-0.7465846002002424,-0.7495522278948464,-0.7525097060647691,-0.7554569946634384,-0.7583940537822567,-0.7613208436511408,-0.7642373246390622,-0.7671434572545827,-0.7700392021463878,-0.7729245201038225,-0.7757993720574206,-0.7786637190794322,-0.781517522384354,-0.7843607433294529,-0.7871933434152878,-0.790015284286234,-0.7928265277309996,-0.7956270356831452,-0.7984167702215984,-0.801195693571166,-0.8039637681030483,-0.8067209563353466,-0.8094672209335704,-0.8122025247111448,-0.8149268306299132,-0.8176401018006373,-0.8203423014834993,-0.8230333930885969,-0.8257133401764407,-0.8283821064584469,-0.8310396557974276,-0.8336859522080818,-0.8363209598574824,-0.8389446430655599,-0.8415569663055873,-0.8441578942046608,-0.8467473915441771],\"y\":[0.9577643997049387,0.9557671358241553,0.9537569301072018,0.9517338097738395,0.9496978022187034,0.9476489350109313,0.9455872358937917,0.9435127327843065,0.9414254537728733,0.9393254271228867,0.9372126812703532,0.9350872448235078,0.9329491465624261,0.9307984154386338,0.928635080574717,0.9264591712639249,0.9242707169697749,0.922069747325654,0.9198562921344161,0.9176303813679795,0.9153920451669205,0.9131413138400661,0.9108782178640822,0.9086027878830626,0.9063150547081122,0.9040150493169321,0.9017028028533977,0.8993783466271383,0.8970417121131137,0.8946929309511862,0.8923320349456939,0.8899590560650196,0.8875740264411569,0.8851769783692763,0.8827679443072879,0.8803469568754011,0.877914048855683,0.8754692531916156,0.8730126029876484,0.8705441315087502,0.8680638721799604,0.865571858585934,0.8630681244704882,0.8605527037361459,0.858025630443675,0.8554869388116291,0.8529366632158825,0.8503748381891655,0.8478014984205975,0.8452166787552159,0.8426204141935044,0.8400127398909211,0.8373936911574195,0.8347633034569718,0.8321216124070904,0.8294686537783421,0.8268044634938657,0.8241290776288869,0.8214425324102264,0.8187448642158129,0.8160361095741882,0.8133163051640127,0.8105854878135706,0.8078436945002693,0.8050909623501388,0.8023273286373305,0.7995528307836111,0.7967675063578556,0.793971393075541,0.7911645287982322,0.7883469515330713,0.7855186994322635,0.7826798107925588,0.7798303240547344,0.7769702778030748,0.7740997107648477,0.7712186618097804,0.7683271699495345,0.765425274337176,0.7625130142666462,0.7595904291722292,0.7566575586280174,0.7537144423473776,0.7507611201824107,0.7477976321234135,0.7448240182983378,0.7418403189722451,0.7388465745467627,0.7358428255595373,0.7328291126836841,0.7298054767272382,0.7267719586326,0.7237285994759821,0.7206754404668535,0.7176125229473801,0.7145398883918653,0.7114575784061904,0.7083656347272479,0.7052640992223785,0.7021530138888049],\"type\":\"scatter\"},{\"hoverinfo\":\"text\",\"line\":{\"color\":\"rgba(255,255,191,0.75)\",\"shape\":\"spline\",\"width\":0.25},\"mode\":\"lines\",\"text\":\"E Pine St & 16th Ave<br>439 partidas\",\"x\":[-0.8467478327197598,-0.8475055405255475,-0.848262260121789,-0.8490179906261324,-0.8497727311573807,-0.85052648083549,-0.8512792387815721,-0.8520310041178951,-0.8527817759678843,-0.8535315534561243,-0.8542803357083584,-0.8550281218514902,-0.8557749110135855,-0.8565207023238715,-0.8572654949127404,-0.8580092879117479,-0.8587520804536154,-0.859493871672231,-0.86023466070265,-0.8609744466810971,-0.8617132287449659,-0.8624510060328205,-0.8631877776843971,-0.8639235428406039,-0.8646583006435237,-0.8653920502364126,-0.8661247907637032,-0.8668565213710042,-0.867587241205102,-0.8683169494139622,-0.8690456451467292,-0.869773327553728,-0.8704999957864659,-0.8712256489976312,-0.871950286341098,-0.8726739069719229,-0.8733965100463493,-0.8741180947218063,-0.8748386601569106,-0.8755582055114678,-0.8762767299464729,-0.8769942326241106,-0.8777107127077577,-0.8784261693619828,-0.8791406017525487,-0.8798540090464119,-0.8805663904117239,-0.8812777450178327,-0.8819880720352845,-0.8826973706358223,-0.8834056399923887,-0.8841128792791269,-0.8848190876713798,-0.8855242643456946,-0.8862284084798199,-0.8869315192527082,-0.8876335958445176,-0.8883346374366117,-0.8890346432115611,-0.8897336123531445,-0.8904315440463484,-0.8911284374773698,-0.8918242918336158,-0.8925191063037059,-0.8932128800774715,-0.8939056123459571,-0.8945973023014225,-0.8952879491373422,-0.8959775520484077,-0.8966661102305268,-0.8973536228808262,-0.8980400891976515,-0.898725508380568,-0.8994098796303627,-0.9000932021490442,-0.9007754751398435,-0.9014566978072158,-0.9021368693568409,-0.9028159889956247,-0.9034940559316986,-0.9041710693744226,-0.904847028534384,-0.9055219326234005,-0.9061957808545194,-0.9068685724420191,-0.9075403066014106,-0.9082109825494373,-0.9088805995040765,-0.9095491566845411,-0.9102166533112788,-0.9108830886059742,-0.9115484617915499,-0.9122127720921659,-0.9128760187332231,-0.9135382009413612,-0.9141993179444617,-0.9148593689716482,-0.9155183532532868,-0.916176270020988,-0.916833118507607],\"y\":[0.7021524818615896,0.7012377334246209,0.7003221673294904,0.6994057846437681,0.6984885864359747,0.6975705737755837,0.6966517477330171,0.6957321093796459,0.6948116597877882,0.6938904000307075,0.6929683311826123,0.6920454543186548,0.6911217705149288,0.6901972808484703,0.6892719863972526,0.6883458882401895,0.6874189874571311,0.6864912851288636,0.685562782337108,0.6846334801645176,0.6837033796946791,0.6827724820121092,0.6818407882022547,0.6809082993514908,0.6799750165471184,0.679040940877366,0.6781060734313855,0.6771704152992523,0.6762339675719642,0.6752967313414384,0.6743587077005126,0.6734198977429428,0.672480302563401,0.6715399232574758,0.6705987609216688,0.6696568166533957,0.6687140915509837,0.6677705867136703,0.6668263032416025,0.6658812422358347,0.6649354047983281,0.6639887920319495,0.6630414050404697,0.6620932449285624,0.6611443128018017,0.6601946097666633,0.6592441369305211,0.658292895401647,0.6573408862892084,0.6563881107032682,0.6554345697547835,0.6544802645556033,0.653525196218468,0.6525693658570071,0.6516127745857395,0.6506554235200711,0.6496973137762936,0.6487384464715837,0.6477788227240007,0.6468184436524864,0.6458573103768634,0.6448954240178337,0.6439327856969778,0.6429693965367514,0.6420052576604875,0.6410403701923925,0.6400747352575458,0.6391083539818988,0.6381412274922718,0.6371733569163552,0.636204743382707,0.6352353880207512,0.6342652919607772,0.6332944563339368,0.6323228822722455,0.6313505709085797,0.6303775233766747,0.6294037408111255,0.6284292243473822,0.6274539751217526,0.6264779942713977,0.6255012829343323,0.6245238422494229,0.6235456733563854,0.6225667773957861,0.6215871555090386,0.6206068088384027,0.6196257385269842,0.6186439457187312,0.6176614315584352,0.616678197191729,0.6156942437650846,0.6147095724258133,0.613724184322062,0.6127380806028145,0.6117512624178892,0.6107637309179367,0.6097754872544405,0.6087865325797128,0.6077968680468965],\"type\":\"scatter\"},{\"hoverinfo\":\"text\",\"line\":{\"color\":\"rgba(230,245,152,0.75)\",\"shape\":\"spline\",\"width\":0.25},\"mode\":\"lines\",\"text\":\"2nd Ave & Pine St<br>3239 partidas\",\"x\":[-0.916833500397461,-0.9216467433321074,-0.9264014849009573,-0.9310974232976215,-0.9357342604482322,-0.9403117020303615,-0.9448294574917064,-0.9492872400685294,-0.953684766803861,-0.9580217585654613,-0.9622979400635367,-0.9665130398682149,-0.9706667904267732,-0.9747589280806214,-0.9787891930820378,-0.9827573296106566,-0.986663085789706,-0.9905062137019954,-0.9942864694056535,-0.9980036129496105,-1.00165740838883,-1.0052476237992862,-1.0087740312926838,-1.012236407030924,-1.0156345312403126,-1.0189681882255097,-1.0222371663832217,-1.025441258215632,-1.0285802603435716,-1.03165397351943,-1.0346622026398005,-1.0376047567578666,-1.0404814490955203,-1.0432920970552186,-1.0460365222315742,-1.0487145504226787,-1.0513260116411616,-1.0538707401249785,-1.0563485743479346,-1.0587593570299356,-1.0611029351469727,-1.0633791599408353,-1.065587886928552,-1.0677289759115645,-1.0698022909846234,-1.0718077005444178,-1.0737450772979262,-1.0756142982704986,-1.0774152448136605,-1.0791478026126453,-1.0808118616936495,-1.0824073164308143,-1.0839340655529293,-1.0853920121498613,-1.0867810636787045,-1.0881011319696567,-1.0893521332316138,-1.0905339880574898,-1.0916466214292562,-1.0926899627227042,-1.0936639457119282,-1.094568508573528,-1.0954035938905342,-1.0961691486560525,-1.096865124276628,-1.0974914765753303,-1.0980481657945562,-1.0985351565985553,-1.0989524180756716,-1.0992999237403054,-1.0995776515345959,-1.0997855838298196,-1.0999237074275108,-1.0999920135602979,-1.0999904978924613,-1.0999191605202077,-1.0997780059716642,-1.0995670432065914,-1.0992862856158137,-1.09893575102037,-1.0985154616703825,-1.0980254442436443,-1.0974657298439254,-1.096836353999,-1.0961373566583894,-1.0953687821908273,-1.094530679381444,-1.0936231014286686,-1.0926461059408528,-1.0915997549326142,-1.0904841148209001,-1.0892992564207713,-1.0880452549409076,-1.0867221899788337,-1.0853301455158662,-1.0838692099117841,-1.0823394758992193,-1.0807410405777707,-1.0790740054078403,-1.0773384762041944],\"y\":[0.6077962919835387,0.6004725476700169,0.5931106884665809,0.5857111816659556,0.5782744969505401,0.570801106362597,0.5632914842742857,0.5557461073575545,0.5481654545538831,0.5405500070438823,0.5329002482167503,0.5252166636395905,0.5174997410265892,0.5097499702080602,0.5019678430993498,0.4941538536696151,0.48630849791046793,0.47843227380449255,0.47052568129363637,0.46258922224747573,0.4546234004313596,0.4466287214744353,0.4386056928375503,0.43055482378104387,0.42247662533242103,0.4143716102539149,0.4062402930099397,0.3980831897344345,0.38990081819810374,0.3816936977755486,0.3734623494123022,0.3652072955917618,0.35692906030202465,0.34862816900262733,0.34030514859119293,0.3319605273699857,0.3235948350123785,0.31520860252923,0.3068023622351797,0.2983766477148598,0.2899319937890254,0.2814689364806066,0.2729880129806865,0.2644897616144,0.255974721806766,0.24744343404844654,0.2388964398614396,0.23033428176470594,0.22175750323973287,0.21316664869603677,0.2045622634366065,0.19594489362329195,0.18731508624213405,0.1786733890686466,0.17002035063304588,0.16135652018543273,0.15268244766092867,0.14399868364477073,0.1353057793373601,0.126604286519277,0.11789475751625572,0.1091777451641261,0.10045380277372216,0.09172348409576096,0.08298734328569327,0.07424593486852814,0.06549981370363661,0.05674953494952904,0.047995654028618544,0.039238726591965124,0.030479308484005867,0.021717955707272266,0.01295522438710006,0.0041916707363263235,-0.004572148980014095,-0.013335678479997877,-0.022098361500123134,-0.03085964183061815,-0.039618963350746675,-0.04837577006410762,-0.05712950613392678,-0.06587961591833905,-0.07462554400565566,-0.0833667352496218,-0.09210263480465249,-0.10083268816105173,-0.10955634118021053,-0.11827304012977864,-0.1269822317188157,-0.13568336313290916,-0.14437588206926474,-0.1530592367717637,-0.16173287606598535,-0.1703962493941929,-0.17904880685027996,-0.1876899992146757,-0.196319277989207,-0.20493609543191235,-0.21353990459181252,-0.2221301593436262],\"type\":\"scatter\"},{\"hoverinfo\":\"text\",\"line\":{\"color\":\"rgba(171,221,164,0.75)\",\"shape\":\"spline\",\"width\":0.25},\"mode\":\"lines\",\"text\":\"Pier 69<br>7898 partidas\",\"x\":[-1.0773383366354863,-1.0728199527554534,-1.0678966856688532,-1.0625703934210726,-1.056843086159555,-1.0507169253751665,-1.044194223086448,-1.0372774409670584,-1.0299691894167362,-1.022272226576131,-1.0141894572858807,-1.005723931990321,-0.9968788455862456,-0.9876575362171486,-0.978063484013406,-0.9681003097788728,-0.9577717736243873,-0.9470817735487013,-0.9360343439673736,-0.924633654190177,-0.9128840068475964,-0.9007898362670136,-0.888355706799188,-0.8755863110956646,-0.8624864683377664,-0.8490611224178279,-0.8353153400733678,-0.8212543089748973,-0.8068833357680881,-0.7922078440710394,-0.7772333724274012,-0.7619655722161205,-0.7464102055186085,-0.730573142944124,-0.714460361414201,-0.698077941906954,-0.6814320671621081,-0.6645290193476321,-0.6473751776888399,-0.6299770160608661,-0.6123411005454198,-0.5944740869527371,-0.5763827183096765,-0.5580738223148922,-0.5395543087620548,-0.5208311669320886,-0.5019114629554127,-0.48280233714517234,-0.4635110013024849,-0.4440447359946951,-0.4244108878076839,-0.4046168665732612,-0.384670142572685,-0.3645782437173761,-0.3443487527078742,-0.3239893041721202,-0.3035075817841417,-0.2829113153642269,-0.2622082779616849,-0.24140628292128571,-0.2205131809345032,-0.19953685707665292,-0.17848522783105977,-0.15736623810136618,-0.1361878582131243,-0.11495808090578404,-0.0936849183162271,-0.07237639895497941,-0.051040564676243995,-0.0296854676428991,-0.008319167287600793,0.013050272728848225,0.034414787560735315,0.05576631422111689,0.07709679462479589,0.09839817862945421,0.11966242707377779,0.14088151481144706,0.16204743373983344,0.18315219582226436,0.20418783610271543,0.22514641571179106,0.24602002486286445,0.2668007858372327,0.28748085595717837,0.3080524305458015,0.32850774587251497,0.3488390820830781,0.36903876611308,0.3890991745837602,0.40901273667907834,0.4287719370029471,0.4483693184155485,0.4677974848476685,0.4870491040919749,0.5061169105702025,0.5249937080751869,0.5436723724867232,0.5621458544602099,0.5804071820870818],\"y\":[-0.22213083625531063,-0.24301717834298667,-0.2638118055309106,-0.28450686990824475,-0.3050945611392433,-0.3255671094108818,-0.3459167883651925,-0.3661359180151963,-0.38621686764333785,-0.40615205868132664,-0.4259339675702927,-0.44555512860018576,-0.465008136727342,-0.4842856503691515,-0.5033803941747812,-0.5222851617708957,-0.5409928184813506,-0.559496304019827,-0.5777886351543865,-0.5958629083429512,-0.6137123023387081,-0.63133008076445,-0.6487095946548929,-0.6658442849660017,-0.6827276850503772,-0.699353423097777,-0.7157152245398402,-0.7318069144181163,-0.7476224197144993,-0.7631557716431919,-0.7784011079033282,-0.793352674891413,-0.8080048298727358,-0.8223520431109445,-0.8363888999549728,-0.8501101028825334,-0.8635104734994107,-0.876584954493787,-0.8893286115448794,-0.9017366351851562,-0.9138043426154333,-0.9255271794721698,-0.9369007215462843,-0.9479206764528593,-0.9585828852510885,-0.9688833240138665,-0.9788181053464212,-0.9883834798534219,-0.9975758375540017,-1.0063917092441699,-1.0148277678060913,-1.0228808294637435,-1.0305478549844789,-1.0378259508260301,-1.0447123702285388,-1.051204514251183,-1.057299932753021,-1.0629963253176764,-1.0682915421215164,-1.0731835847449998,-1.0776706069268787,-1.0817509152609817,-1.0854229698353057,-1.088685384813181,-1.0915369289562868,-1.0939765260893213,-1.0960032555061512,-1.0976163523172884,-1.098815207738558,-1.0995993693208552,-1.0999685411209,-1.0999225838129258,-1.0994615147412616,-1.0985855079137863,-1.0972948939362575,-1.0955901598875404,-1.0934719491357852,-1.0909410610956178,-1.0879984509264407,-1.0846452291719553,-1.0808826613410407,-1.076712167430151,-1.0721353213874059,-1.0671538505185816,-1.0617696348352257,-1.0559847063451364,-1.0498012482854835,-1.0432215942988508,-1.0362482275525182,-1.028883779801313,-1.0211310303943815,-1.0129929052262612,-1.004472475632646,-0.9955729572312596,-0.9862977087082808,-0.9766502305507708,-0.9666341637255874,-0.9562532883052784,-0.9455115220414824,-0.9344129188863632],\"type\":\"scatter\"},{\"hoverinfo\":\"text\",\"line\":{\"color\":\"rgba(102,194,165,0.75)\",\"shape\":\"spline\",\"width\":0.25},\"mode\":\"lines\",\"text\":\"Burke-Gilman Trail<br>941 partidas\",\"x\":[0.5804077691959193,0.5825690226635398,0.5847271550384819,0.5868821547586285,0.5890340102786459,0.5911827100700442,0.5933282426212431,0.5954705964376278,0.5976097600416144,0.5997457219727107,0.6018784707875768,0.6040079950600876,0.606134283381393,0.6082573243599787,0.6103771066217301,0.6124936188099888,0.6146068495856168,0.6167167876270558,0.6188234216303882,0.6209267403093978,0.6230267323956302,0.625123386638452,0.6272166918051149,0.6293066366808107,0.6313932100687342,0.6334764007901436,0.6355561976844191,0.6376325896091233,0.6397055654400606,0.6417751140713368,0.6438412244154205,0.6459038854031988,0.6479630859840394,0.6500188151258488,0.6520710618151319,0.6541198150570503,0.6561650638754821,0.6582067973130798,0.660245004431329,0.6622796743106096,0.6643107960502499,0.6663383587685875,0.668362351603028,0.6703827637101024,0.6723995842655249,0.6744128024642518,0.6764224075205378,0.6784283886679975,0.6804307351596578,0.6824294362680189,0.6844244812851117,0.6864158595225532,0.6884035603116067,0.6903875730032356,0.6923678869681625,0.694344491596928,0.6963173762999425,0.698286530507547,0.7002519436700682,0.7022136052578755,0.7041715047614374,0.7061256316913771,0.7080759755785297,0.7100225259739971,0.7119652724492064,0.7139042045959624,0.7158393120265055,0.7177705843735669,0.7196980112904242,0.7216215824509566,0.7235412875497007,0.7254571163019043,0.727369058443585,0.7292771037315804,0.7311812419436061,0.73308146287831,0.7349777563553267,0.7368701122153313,0.7387585203200953,0.7406429705525391,0.7425234528167897,0.7443999570382297,0.7462724731635552,0.7481409911608279,0.7500055010195296,0.7518659927506155,0.7537224563865679,0.7555748819814483,0.7574232596109547,0.7592675793724691,0.7611078313851148,0.7629440057898073,0.7647760927493079,0.7666040824482764,0.7684279650933235,0.7702477309130632,0.7720633701581645,0.7738748731014067,0.775682230037727,0.7774854312842749],\"y\":[-0.9344125542055911,-0.9330666288282141,-0.9317157045797839,-0.9303597886978292,-0.9289988884466205,-0.9276330111171326,-0.9262621640270035,-0.9248863545204979,-0.9235055899684659,-0.9221198777683042,-0.9207292253439163,-0.9193336401456728,-0.9179331296503712,-0.9165277013611972,-0.9151173628076812,-0.9137021215456622,-0.9122819851572446,-0.9108569612507582,-0.9094270574607174,-0.9079922814477807,-0.9065526408987092,-0.9051081435263261,-0.9036587970694734,-0.9022046092929732,-0.9007455879875845,-0.8992817409699618,-0.897813076082613,-0.8963396011938576,-0.8948613241977845,-0.8933782530142106,-0.8918903955886354,-0.8903977598922022,-0.8889003539216533,-0.8873981856992879,-0.8858912632729181,-0.884379594715827,-0.8828631881267248,-0.8813420516297055,-0.8798161933742038,-0.8782856215349497,-0.8767503443119276,-0.8752103699303301,-0.873665706640515,-0.8721163627179606,-0.8705623464632212,-0.8690036662018833,-0.8674403302845214,-0.8658723470866504,-0.8642997250086847,-0.8627224724758907,-0.8611405979383425,-0.8595541098708762,-0.8579630167730451,-0.856367327169073,-0.8547670496078109,-0.853162192662687,-0.8515527649316657,-0.8499387750371981,-0.8483202316261778,-0.8466971433698928,-0.8450695189639803,-0.8434373671283801,-0.841800696607287,-0.8401595161691051,-0.8385138346063991,-0.8368636607358491,-0.8352090033982029,-0.833549871458228,-0.8318862738046642,-0.8302182193501763,-0.8285457170313063,-0.8268687758084262,-0.8251874046656874,-0.8235016126109761,-0.8218114086758628,-0.8201168019155546,-0.8184178014088467,-0.8167144162580732,-0.8150066555890594,-0.8132945285510722,-0.8115780443167699,-0.8098572120821559,-0.808132041066527,-0.8064025405124257,-0.8046687196855887,-0.8029305878748995,-0.8011881543923366,-0.7994414285729259,-0.7976904197746871,-0.7959351373785877,-0.7941755907884904,-0.792411789431103,-0.7906437427559281,-0.7888714602352126,-0.7870949513638962,-0.7853142256595621,-0.7835292926623849,-0.7817401619350779,-0.7799468430628456,-0.7781493456533296],\"type\":\"scatter\"},{\"hoverinfo\":\"text\",\"line\":{\"color\":\"rgba(50,136,189,0.75)\",\"shape\":\"spline\",\"width\":0.25},\"mode\":\"lines\",\"text\":\"3rd Ave & Broad St<br>3227 partidas\",\"x\":[0.777485920209775,0.7836380069407067,0.7897407202695801,0.7957936756926863,0.8017964918413344,0.8077487905058762,0.8136501966595346,0.8195003384820367,0.8252988473830346,0.8310453580253345,0.8367395083479112,0.8423809395887194,0.8479692963073008,0.8535042264071769,0.8589853811580312,0.8644124152176854,0.8697849866538531,0.8751027569656871,0.8803653911051053,0.885572557497899,0.890723928064627,0.8958191782412847,0.9008579869997515,0.9058400368680218,0.9107650139502025,0.9156326079462939,0.9204425121717391,0.9251944235767448,0.9298880427653783,0.9345230740144298,0.9390992252920422,0.9436162082761154,0.9480737383724668,0.9524715347327672,0.9568093202722329,0.9610868216870829,0.9653037694717611,0.9694598979359156,0.9735549452211362,0.9775886533174573,0.9815607680796095,0.9854710392430356,0.9893192204396571,0.9931050692133957,0.9968283470354514,1.0004888193193304,1.0040862554356236,1.0076204287265405,1.011091116520187,1.014498100144597,1.0178411649415091,1.0211201002798909,1.0243346995692102,1.027484760272452,1.0305700839188776,1.0335904761165315,1.0365457465644874,1.0394357090648394,1.042260181534433,1.0450189860163368,1.0477119486910553,1.0503388998874812,1.0528996740935832,1.0553941099668371,1.05782205034439,1.0601833422529607,1.062477836918481,1.0647053897754666,1.0668658604761272,1.0689591128992086,1.0709850151585683,1.0729434396114867,1.0748342628667071,1.0766573657922127,1.07841263352273,1.080099955466967,1.0817192253145822,1.0832703410428801,1.0847532049232416,1.0861677235272802,1.0875138077327289,1.088791372729055,1.0900003380228043,1.0911406274426714,1.092212169144301,1.0932148956148118,1.0941487436770523,1.095013654493581,1.0958095735703717,1.096536450760249,1.0971942402660477,1.0977829006434967,1.0983023948038315,1.0987526900161309,1.099133757909378,1.0994455744742504,1.0996881200646296,1.0998613793988414,1.0999653415606172,1.099999999999783],\"y\":[-0.7781488571446723,-0.7719530258234611,-0.7657085573167411,-0.7594158450595586,-0.7530752855265728,-0.7466872782070779,-0.7402522255798363,-0.7337705330877138,-0.7272426091121412,-0.7206688649473791,-0.714049714774606,-0.7073855756358244,-0.7006768674075813,-0.6939240127745162,-0.6871274372027303,-0.6802875689129766,-0.6734048388536846,-0.6664796806738027,-0.659512530695479,-0.652503827886573,-0.6454540138329928,-0.638363532710876,-0.631232831258606,-0.6240623587486599,-0.6168525669593081,-0.6096039101461446,-0.602316845013468,-0.5949918306855105,-0.5876293286775041,-0.5802298028666063,-0.5727937194626757,-0.5653215469788916,-0.557813756202243,-0.5502708201638601,-0.5426932141092128,-0.5350814154681711,-0.5274359038249189,-0.5197571608877403,-0.5120456704586718,-0.5043019184030143,-0.4965263926187281,-0.4887195830056861,-0.4808819814348103,-0.4730140817170845,-0.4651163795724354,-0.4571893725985026,-0.4492335602392902,-0.4412494437536924,-0.4332375261839191,-0.42519831232379507,-0.4171323086869579,-0.4090400234749476,-0.40092196654518203,-0.39277864937883533,-0.3846105850486151,-0.37641828818642953,-0.36820227495096997,-0.35996306299518394,-0.351701171433663,-0.3434171208099381,-0.33511143306367763,-0.32678463149780484,-0.3184372407455296,-0.31006978673728847,-0.30168279666761066,-0.2932767989619051,-0.2848523232431602,-0.27640990029858176,-0.26795006204614485,-0.2594733415010821,-0.2509802727423042,-0.24247139087874325,-0.23394723201564568,-0.22540833322078804,-0.2168552324906417,-0.2082884687164792,-0.19970858165041516,-0.19111611187140218,-0.18251160075117417,-0.17389559042013134,-0.16526862373318588,-0.1566312442355622,-0.14798399612854368,-0.13932742423519315,-0.13066207396601898,-0.12198849128461438,-0.1133072226732617,-0.10461881509849422,-0.09592381597664212,-0.08722277313933557,-0.07851623479899124,-0.06980474951427487,-0.06108886615553344,-0.052369133870216106,-0.043646102048278054,-0.034920320287560036,-0.02619233835916373,-0.01746270617281611,-0.008731973742216325,-6.911503848379499e-07],\"type\":\"scatter\"},{\"hoverinfo\":\"text\",\"marker\":{\"color\":\"rgba(213,62,79,0.75)\",\"size\":0.5},\"mode\":\"markers\",\"text\":\"Pine St & 9th Ave \\u2b8c : 186 viagens \",\"x\":[0.8908208871518246],\"y\":[0.12821133730694845],\"type\":\"scatter\"},{\"hoverinfo\":\"text\",\"marker\":{\"color\":\"rgba(213,62,79,0.75)\",\"size\":0.5},\"mode\":\"markers\",\"text\":\"Pine St & 9th Ave \\u2794 Seattle Aquarium: 36 viagens \",\"x\":[0.89998932609697],\"y\":[0.004383253531532917],\"type\":\"scatter\"},{\"hoverinfo\":\"text\",\"marker\":{\"color\":\"rgba(244,109,67,0.75)\",\"size\":0.5},\"mode\":\"markers\",\"text\":\"Seattle Aquarium \\u2794 Pine St & 9th Ave: 68 viagens \",\"x\":[0.8265118034774824],\"y\":[0.3561997174513191],\"type\":\"scatter\"},{\"hoverinfo\":\"text\",\"marker\":{\"color\":\"rgba(213,62,79,0.75)\",\"size\":0.5},\"mode\":\"markers\",\"text\":\"Pine St & 9th Ave \\u2794 King Street Station Plaza: 42 viagens \",\"x\":[0.8999071117731342],\"y\":[0.012930204179976649],\"type\":\"scatter\"},{\"hoverinfo\":\"text\",\"marker\":{\"color\":\"rgba(253,174,97,0.75)\",\"size\":0.5},\"mode\":\"markers\",\"text\":\"King Street Station Plaza \\u2794 Pine St & 9th Ave: 65 viagens \",\"x\":[0.008547279819032192],\"y\":[0.8999594124224132],\"type\":\"scatter\"},{\"hoverinfo\":\"text\",\"marker\":{\"color\":\"rgba(213,62,79,0.75)\",\"size\":0.5},\"mode\":\"markers\",\"text\":\"Pine St & 9th Ave \\u2794 Lake Union Park: 53 viagens \",\"x\":[0.8993297007443375],\"y\":[0.03472879725962917],\"type\":\"scatter\"},{\"hoverinfo\":\"text\",\"marker\":{\"color\":\"rgba(254,224,139,0.75)\",\"size\":0.5},\"mode\":\"markers\",\"text\":\"Lake Union Park \\u2794 Pine St & 9th Ave: 73 viagens \",\"x\":[-0.46993561875488166],\"y\":[0.7675679215714181],\"type\":\"scatter\"},{\"hoverinfo\":\"text\",\"marker\":{\"color\":\"rgba(213,62,79,0.75)\",\"size\":0.5},\"mode\":\"markers\",\"text\":\"Pine St & 9th Ave \\u2794 E Pine St & 16th Ave: 934 viagens \",\"x\":[0.8651208687749465],\"y\":[0.24812473155669484],\"type\":\"scatter\"},{\"hoverinfo\":\"text\",\"marker\":{\"color\":\"rgba(255,255,191,0.75)\",\"size\":0.5},\"mode\":\"markers\",\"text\":\"E Pine St & 16th Ave \\u2794 Pine St & 9th Ave: 98 viagens \",\"x\":[-0.7142457447382619],\"y\":[0.5475883637581114],\"type\":\"scatter\"},{\"hoverinfo\":\"text\",\"marker\":{\"color\":\"rgba(213,62,79,0.75)\",\"size\":0.5},\"mode\":\"markers\",\"text\":\"Pine St & 9th Ave \\u2794 2nd Ave & Pine St: 158 viagens \",\"x\":[0.8954081185627876],\"y\":[0.09079813440731518],\"type\":\"scatter\"},{\"hoverinfo\":\"text\",\"marker\":{\"color\":\"rgba(230,245,152,0.75)\",\"size\":0.5},\"mode\":\"markers\",\"text\":\"2nd Ave & Pine St \\u2794 Pine St & 9th Ave: 344 viagens \",\"x\":[-0.845080154606021],\"y\":[0.30957960574150173],\"type\":\"scatter\"},{\"hoverinfo\":\"text\",\"marker\":{\"color\":\"rgba(213,62,79,0.75)\",\"size\":0.5},\"mode\":\"markers\",\"text\":\"Pine St & 9th Ave \\u2794 Pier 69: 52 viagens \",\"x\":[0.8997001861187006],\"y\":[0.023228755842177064],\"type\":\"scatter\"},{\"hoverinfo\":\"text\",\"marker\":{\"color\":\"rgba(171,221,164,0.75)\",\"size\":0.5},\"mode\":\"markers\",\"text\":\"Pier 69 \\u2794 Pine St & 9th Ave: 65 viagens \",\"x\":[-0.8788747512878686],\"y\":[-0.19385347958880475],\"type\":\"scatter\"},{\"hoverinfo\":\"text\",\"marker\":{\"color\":\"rgba(213,62,79,0.75)\",\"size\":0.5},\"mode\":\"markers\",\"text\":\"Pine St & 9th Ave \\u2794 Burke-Gilman Trail: 2 viagens \",\"x\":[0.8999999733151899],\"y\":[0.0002191635408299487],\"type\":\"scatter\"},{\"hoverinfo\":\"text\",\"marker\":{\"color\":\"rgba(102,194,165,0.75)\",\"size\":0.5},\"mode\":\"markers\",\"text\":\"Burke-Gilman Trail \\u2794 Pine St & 9th Ave: 4 viagens \",\"x\":[0.47543747238630124],\"y\":[-0.7641722383408894],\"type\":\"scatter\"},{\"hoverinfo\":\"text\",\"marker\":{\"color\":\"rgba(213,62,79,0.75)\",\"size\":0.5},\"mode\":\"markers\",\"text\":\"Pine St & 9th Ave \\u2794 3rd Ave & Broad St: 151 viagens \",\"x\":[0.8981897692659561],\"y\":[0.0570538200821695],\"type\":\"scatter\"},{\"hoverinfo\":\"text\",\"marker\":{\"color\":\"rgba(50,136,189,0.75)\",\"size\":0.5},\"mode\":\"markers\",\"text\":\"3rd Ave & Broad St \\u2794 Pine St & 9th Ave: 166 viagens \",\"x\":[0.6497727694262772],\"y\":[-0.6227321640256798],\"type\":\"scatter\"},{\"hoverinfo\":\"text\",\"marker\":{\"color\":\"rgba(244,109,67,0.75)\",\"size\":0.5},\"mode\":\"markers\",\"text\":\"Seattle Aquarium \\u2b8c : 1150 viagens \",\"x\":[0.5955539368661333],\"y\":[0.6747707079321462],\"type\":\"scatter\"},{\"hoverinfo\":\"text\",\"marker\":{\"color\":\"rgba(244,109,67,0.75)\",\"size\":0.5},\"mode\":\"markers\",\"text\":\"Seattle Aquarium \\u2794 King Street Station Plaza: 181 viagens \",\"x\":[0.7929303110634395],\"y\":[0.4257481905972556],\"type\":\"scatter\"},{\"hoverinfo\":\"text\",\"marker\":{\"color\":\"rgba(253,174,97,0.75)\",\"size\":0.5},\"mode\":\"markers\",\"text\":\"King Street Station Plaza \\u2794 Seattle Aquarium: 215 viagens \",\"x\":[-0.07814287578407306],\"y\":[0.8966011883575635],\"type\":\"scatter\"},{\"hoverinfo\":\"text\",\"marker\":{\"color\":\"rgba(244,109,67,0.75)\",\"size\":0.5},\"mode\":\"markers\",\"text\":\"Seattle Aquarium \\u2794 Lake Union Park: 70 viagens \",\"x\":[0.8204103493033605],\"y\":[0.37003629383607495],\"type\":\"scatter\"},{\"hoverinfo\":\"text\",\"marker\":{\"color\":\"rgba(254,224,139,0.75)\",\"size\":0.5},\"mode\":\"markers\",\"text\":\"Lake Union Park \\u2794 Seattle Aquarium: 17 viagens \",\"x\":[-0.44426222819877836],\"y\":[0.7827075268552466],\"type\":\"scatter\"},{\"hoverinfo\":\"text\",\"marker\":{\"color\":\"rgba(244,109,67,0.75)\",\"size\":0.5},\"mode\":\"markers\",\"text\":\"Seattle Aquarium \\u2794 E Pine St & 16th Ave: 23 viagens \",\"x\":[0.8304076635545531],\"y\":[0.3470203341446554],\"type\":\"scatter\"},{\"hoverinfo\":\"text\",\"marker\":{\"color\":\"rgba(255,255,191,0.75)\",\"size\":0.5},\"mode\":\"markers\",\"text\":\"E Pine St & 16th Ave \\u2794 Seattle Aquarium: 2 viagens \",\"x\":[-0.6929335567439526],\"y\":[0.5743196722542032],\"type\":\"scatter\"},{\"hoverinfo\":\"text\",\"marker\":{\"color\":\"rgba(244,109,67,0.75)\",\"size\":0.5},\"mode\":\"markers\",\"text\":\"Seattle Aquarium \\u2794 2nd Ave & Pine St: 158 viagens \",\"x\":[0.8098230776170884],\"y\":[0.3926659941461539],\"type\":\"scatter\"},{\"hoverinfo\":\"text\",\"marker\":{\"color\":\"rgba(230,245,152,0.75)\",\"size\":0.5},\"mode\":\"markers\",\"text\":\"2nd Ave & Pine St \\u2794 Seattle Aquarium: 137 viagens \",\"x\":[-0.7748540524109921],\"y\":[0.45782223347306256],\"type\":\"scatter\"},{\"hoverinfo\":\"text\",\"marker\":{\"color\":\"rgba(244,109,67,0.75)\",\"size\":0.5},\"mode\":\"markers\",\"text\":\"Seattle Aquarium \\u2794 Pier 69: 2291 viagens \",\"x\":[0.26953514672515516],\"y\":[0.8586913325985357],\"type\":\"scatter\"},{\"hoverinfo\":\"text\",\"marker\":{\"color\":\"rgba(171,221,164,0.75)\",\"size\":0.5},\"mode\":\"markers\",\"text\":\"Pier 69 \\u2794 Seattle Aquarium: 1605 viagens \",\"x\":[-0.5550371947960259],\"y\":[-0.7084728028604615],\"type\":\"scatter\"},{\"hoverinfo\":\"text\",\"marker\":{\"color\":\"rgba(244,109,67,0.75)\",\"size\":0.5},\"mode\":\"markers\",\"text\":\"Seattle Aquarium \\u2794 Burke-Gilman Trail: 0 viagens \",\"x\":[0.8313762108639745],\"y\":[0.34469348124015975],\"type\":\"scatter\"},{\"hoverinfo\":\"text\",\"marker\":{\"color\":\"rgba(102,194,165,0.75)\",\"size\":0.5},\"mode\":\"markers\",\"text\":\"Burke-Gilman Trail \\u2794 Seattle Aquarium: 4 viagens \",\"x\":[0.47618159562865575],\"y\":[-0.7637087717085272],\"type\":\"scatter\"},{\"hoverinfo\":\"text\",\"marker\":{\"color\":\"rgba(244,109,67,0.75)\",\"size\":0.5},\"mode\":\"markers\",\"text\":\"Seattle Aquarium \\u2794 3rd Ave & Broad St: 792 viagens \",\"x\":[0.7370517849203789],\"y\":[0.5164829777888944],\"type\":\"scatter\"},{\"hoverinfo\":\"text\",\"marker\":{\"color\":\"rgba(50,136,189,0.75)\",\"size\":0.5},\"mode\":\"markers\",\"text\":\"3rd Ave & Broad St \\u2794 Seattle Aquarium: 478 viagens \",\"x\":[0.8122928376193359],\"y\":[-0.38753109030415517],\"type\":\"scatter\"},{\"hoverinfo\":\"text\",\"marker\":{\"color\":\"rgba(253,174,97,0.75)\",\"size\":0.5},\"mode\":\"markers\",\"text\":\"King Street Station Plaza \\u2b8c : 185 viagens \",\"x\":[-0.03440028298769712],\"y\":[0.899342326664528],\"type\":\"scatter\"},{\"hoverinfo\":\"text\",\"marker\":{\"color\":\"rgba(253,174,97,0.75)\",\"size\":0.5},\"mode\":\"markers\",\"text\":\"King Street Station Plaza \\u2794 Lake Union Park: 31 viagens \",\"x\":[0.019065836607877886],\"y\":[0.8997980294901972],\"type\":\"scatter\"},{\"hoverinfo\":\"text\",\"marker\":{\"color\":\"rgba(254,224,139,0.75)\",\"size\":0.5},\"mode\":\"markers\",\"text\":\"Lake Union Park \\u2794 King Street Station Plaza: 26 viagens \",\"x\":[-0.45195983939575046],\"y\":[0.7782880595084107],\"type\":\"scatter\"},{\"hoverinfo\":\"text\",\"marker\":{\"color\":\"rgba(253,174,97,0.75)\",\"size\":0.5},\"mode\":\"markers\",\"text\":\"King Street Station Plaza \\u2794 E Pine St & 16th Ave: 71 viagens \",\"x\":[-0.006355666253249238],\"y\":[0.8999775583349161],\"type\":\"scatter\"},{\"hoverinfo\":\"text\",\"marker\":{\"color\":\"rgba(255,255,191,0.75)\",\"size\":0.5},\"mode\":\"markers\",\"text\":\"E Pine St & 16th Ave \\u2794 King Street Station Plaza: 26 viagens \",\"x\":[-0.698632975601605],\"y\":[0.5673728627649081],\"type\":\"scatter\"},{\"hoverinfo\":\"text\",\"marker\":{\"color\":\"rgba(253,174,97,0.75)\",\"size\":0.5},\"mode\":\"markers\",\"text\":\"King Street Station Plaza \\u2794 2nd Ave & Pine St: 384 viagens \",\"x\":[-0.20795286685302866],\"y\":[0.8756458217610625],\"type\":\"scatter\"},{\"hoverinfo\":\"text\",\"marker\":{\"color\":\"rgba(230,245,152,0.75)\",\"size\":0.5},\"mode\":\"markers\",\"text\":\"2nd Ave & Pine St \\u2794 King Street Station Plaza: 199 viagens \",\"x\":[-0.7929302564937314],\"y\":[0.42574829223002814],\"type\":\"scatter\"},{\"hoverinfo\":\"text\",\"marker\":{\"color\":\"rgba(253,174,97,0.75)\",\"size\":0.5},\"mode\":\"markers\",\"text\":\"King Street Station Plaza \\u2794 Pier 69: 962 viagens \",\"x\":[-0.34803075511068526],\"y\":[0.8299846947366477],\"type\":\"scatter\"},{\"hoverinfo\":\"text\",\"marker\":{\"color\":\"rgba(171,221,164,0.75)\",\"size\":0.5},\"mode\":\"markers\",\"text\":\"Pier 69 \\u2794 King Street Station Plaza: 737 viagens \",\"x\":[-0.8173644360304279],\"y\":[-0.3767165761055128],\"type\":\"scatter\"},{\"hoverinfo\":\"text\",\"marker\":{\"color\":\"rgba(253,174,97,0.75)\",\"size\":0.5},\"mode\":\"markers\",\"text\":\"King Street Station Plaza \\u2794 Burke-Gilman Trail: 1 viagens \",\"x\":[0.02257151430437695],\"y\":[0.8997169147804255],\"type\":\"scatter\"},{\"hoverinfo\":\"text\",\"marker\":{\"color\":\"rgba(102,194,165,0.75)\",\"size\":0.5},\"mode\":\"markers\",\"text\":\"Burke-Gilman Trail \\u2794 King Street Station Plaza: 0 viagens \",\"x\":[0.47487908388757033],\"y\":[-0.7645193625318472],\"type\":\"scatter\"},{\"hoverinfo\":\"text\",\"marker\":{\"color\":\"rgba(253,174,97,0.75)\",\"size\":0.5},\"mode\":\"markers\",\"text\":\"King Street Station Plaza \\u2794 3rd Ave & Broad St: 301 viagens \",\"x\":[-0.13428233375387608],\"y\":[0.8899259827882388],\"type\":\"scatter\"},{\"hoverinfo\":\"text\",\"marker\":{\"color\":\"rgba(50,136,189,0.75)\",\"size\":0.5},\"mode\":\"markers\",\"text\":\"3rd Ave & Broad St \\u2794 King Street Station Plaza: 179 viagens \",\"x\":[0.675350611194402],\"y\":[-0.5948962531058232],\"type\":\"scatter\"},{\"hoverinfo\":\"text\",\"marker\":{\"color\":\"rgba(254,224,139,0.75)\",\"size\":0.5},\"mode\":\"markers\",\"text\":\"Lake Union Park \\u2b8c : 960 viagens \",\"x\":[-0.6210684291023523],\"y\":[0.6513631908331453],\"type\":\"scatter\"},{\"hoverinfo\":\"text\",\"marker\":{\"color\":\"rgba(254,224,139,0.75)\",\"size\":0.5},\"mode\":\"markers\",\"text\":\"Lake Union Park \\u2794 E Pine St & 16th Ave: 19 viagens \",\"x\":[-0.44768876806311886],\"y\":[0.780752692566684],\"type\":\"scatter\"},{\"hoverinfo\":\"text\",\"marker\":{\"color\":\"rgba(255,255,191,0.75)\",\"size\":0.5},\"mode\":\"markers\",\"text\":\"E Pine St & 16th Ave \\u2794 Lake Union Park: 5 viagens \",\"x\":[-0.6942603227572827],\"y\":[0.5727151161310077],\"type\":\"scatter\"},{\"hoverinfo\":\"text\",\"marker\":{\"color\":\"rgba(254,224,139,0.75)\",\"size\":0.5},\"mode\":\"markers\",\"text\":\"Lake Union Park \\u2794 2nd Ave & Pine St: 105 viagens \",\"x\":[-0.5002067134106747],\"y\":[0.7481933198438029],\"type\":\"scatter\"},{\"hoverinfo\":\"text\",\"marker\":{\"color\":\"rgba(230,245,152,0.75)\",\"size\":0.5},\"mode\":\"markers\",\"text\":\"2nd Ave & Pine St \\u2794 Lake Union Park: 135 viagens \",\"x\":[-0.7592697400033566],\"y\":[0.4832281675515568],\"type\":\"scatter\"},{\"hoverinfo\":\"text\",\"marker\":{\"color\":\"rgba(254,224,139,0.75)\",\"size\":0.5},\"mode\":\"markers\",\"text\":\"Lake Union Park \\u2794 Pier 69: 75 viagens \",\"x\":[-0.4836902318174899],\"y\":[0.7589754670899073],\"type\":\"scatter\"},{\"hoverinfo\":\"text\",\"marker\":{\"color\":\"rgba(171,221,164,0.75)\",\"size\":0.5},\"mode\":\"markers\",\"text\":\"Pier 69 \\u2794 Lake Union Park: 97 viagens \",\"x\":[-0.8748803245885537],\"y\":[-0.2111502253084924],\"type\":\"scatter\"},{\"hoverinfo\":\"text\",\"marker\":{\"color\":\"rgba(254,224,139,0.75)\",\"size\":0.5},\"mode\":\"markers\",\"text\":\"Lake Union Park \\u2794 Burke-Gilman Trail: 46 viagens \",\"x\":[-0.45876527893651986],\"y\":[0.774296079573116],\"type\":\"scatter\"},{\"hoverinfo\":\"text\",\"marker\":{\"color\":\"rgba(102,194,165,0.75)\",\"size\":0.5},\"mode\":\"markers\",\"text\":\"Burke-Gilman Trail \\u2794 Lake Union Park: 25 viagens \",\"x\":[0.4838750847821679],\"y\":[-0.7588576298140843],\"type\":\"scatter\"},{\"hoverinfo\":\"text\",\"marker\":{\"color\":\"rgba(254,224,139,0.75)\",\"size\":0.5},\"mode\":\"markers\",\"text\":\"Lake Union Park \\u2794 3rd Ave & Broad St: 175 viagens \",\"x\":[-0.5254185960256376],\"y\":[0.7307087647965145],\"type\":\"scatter\"},{\"hoverinfo\":\"text\",\"marker\":{\"color\":\"rgba(50,136,189,0.75)\",\"size\":0.5},\"mode\":\"markers\",\"text\":\"3rd Ave & Broad St \\u2794 Lake Union Park: 264 viagens \",\"x\":[0.7324956126127901],\"y\":[-0.5229246384547331],\"type\":\"scatter\"},{\"hoverinfo\":\"text\",\"marker\":{\"color\":\"rgba(255,255,191,0.75)\",\"size\":0.5},\"mode\":\"markers\",\"text\":\"E Pine St & 16th Ave \\u2b8c : 233 viagens \",\"x\":[-0.7357284745183731],\"y\":[0.5183662911328897],\"type\":\"scatter\"},{\"hoverinfo\":\"text\",\"marker\":{\"color\":\"rgba(255,255,191,0.75)\",\"size\":0.5},\"mode\":\"markers\",\"text\":\"E Pine St & 16th Ave \\u2794 2nd Ave & Pine St: 53 viagens \",\"x\":[-0.7040580203789575],\"y\":[0.5606267064099458],\"type\":\"scatter\"},{\"hoverinfo\":\"text\",\"marker\":{\"color\":\"rgba(230,245,152,0.75)\",\"size\":0.5},\"mode\":\"markers\",\"text\":\"2nd Ave & Pine St \\u2794 E Pine St & 16th Ave: 577 viagens \",\"x\":[-0.8918076038925855],\"y\":[0.12115773866891574],\"type\":\"scatter\"},{\"hoverinfo\":\"text\",\"marker\":{\"color\":\"rgba(255,255,191,0.75)\",\"size\":0.5},\"mode\":\"markers\",\"text\":\"E Pine St & 16th Ave \\u2794 Pier 69: 3 viagens \",\"x\":[-0.6932830655251464],\"y\":[0.573897718287898],\"type\":\"scatter\"},{\"hoverinfo\":\"text\",\"marker\":{\"color\":\"rgba(171,221,164,0.75)\",\"size\":0.5},\"mode\":\"markers\",\"text\":\"Pier 69 \\u2794 E Pine St & 16th Ave: 23 viagens \",\"x\":[-0.8809013399111199],\"y\":[-0.18442567430483667],\"type\":\"scatter\"},{\"hoverinfo\":\"text\",\"marker\":{\"color\":\"rgba(255,255,191,0.75)\",\"size\":0.5},\"mode\":\"markers\",\"text\":\"E Pine St & 16th Ave \\u2794 Burke-Gilman Trail: 3 viagens \",\"x\":[-0.6937021368851023],\"y\":[0.5733910927813954],\"type\":\"scatter\"},{\"hoverinfo\":\"text\",\"marker\":{\"color\":\"rgba(102,194,165,0.75)\",\"size\":0.5},\"mode\":\"markers\",\"text\":\"Burke-Gilman Trail \\u2794 E Pine St & 16th Ave: 15 viagens \",\"x\":[0.4801734998858236],\"y\":[-0.7612052351418762],\"type\":\"scatter\"},{\"hoverinfo\":\"text\",\"marker\":{\"color\":\"rgba(255,255,191,0.75)\",\"size\":0.5},\"mode\":\"markers\",\"text\":\"E Pine St & 16th Ave \\u2794 3rd Ave & Broad St: 16 viagens \",\"x\":[-0.6957224253194818],\"y\":[0.5709380937611171],\"type\":\"scatter\"},{\"hoverinfo\":\"text\",\"marker\":{\"color\":\"rgba(50,136,189,0.75)\",\"size\":0.5},\"mode\":\"markers\",\"text\":\"3rd Ave & Broad St \\u2794 E Pine St & 16th Ave: 198 viagens \",\"x\":[0.701936946994368],\"y\":[-0.563280145615151],\"type\":\"scatter\"},{\"hoverinfo\":\"text\",\"marker\":{\"color\":\"rgba(230,245,152,0.75)\",\"size\":0.5},\"mode\":\"markers\",\"text\":\"2nd Ave & Pine St \\u2b8c : 427 viagens \",\"x\":[-0.8703783959447023],\"y\":[0.2290009778859625],\"type\":\"scatter\"},{\"hoverinfo\":\"text\",\"marker\":{\"color\":\"rgba(230,245,152,0.75)\",\"size\":0.5},\"mode\":\"markers\",\"text\":\"2nd Ave & Pine St \\u2794 Pier 69: 310 viagens \",\"x\":[-0.8177766841982929],\"y\":[0.375820828030653],\"type\":\"scatter\"},{\"hoverinfo\":\"text\",\"marker\":{\"color\":\"rgba(171,221,164,0.75)\",\"size\":0.5},\"mode\":\"markers\",\"text\":\"Pier 69 \\u2794 2nd Ave & Pine St: 384 viagens \",\"x\":[-0.861021333797539],\"y\":[-0.2619966846078534],\"type\":\"scatter\"},{\"hoverinfo\":\"text\",\"marker\":{\"color\":\"rgba(230,245,152,0.75)\",\"size\":0.5},\"mode\":\"markers\",\"text\":\"2nd Ave & Pine St \\u2794 Burke-Gilman Trail: 9 viagens \",\"x\":[-0.7506809871275378],\"y\":[0.49646556332259884],\"type\":\"scatter\"},{\"hoverinfo\":\"text\",\"marker\":{\"color\":\"rgba(102,194,165,0.75)\",\"size\":0.5},\"mode\":\"markers\",\"text\":\"Burke-Gilman Trail \\u2794 2nd Ave & Pine St: 1 viagens \",\"x\":[0.47497216624544886],\"y\":[-0.7644615368297517],\"type\":\"scatter\"},{\"hoverinfo\":\"text\",\"marker\":{\"color\":\"rgba(230,245,152,0.75)\",\"size\":0.5},\"mode\":\"markers\",\"text\":\"2nd Ave & Pine St \\u2794 3rd Ave & Broad St: 1101 viagens \",\"x\":[-0.8978410141354999],\"y\":[-0.062301792399072534],\"type\":\"scatter\"},{\"hoverinfo\":\"text\",\"marker\":{\"color\":\"rgba(50,136,189,0.75)\",\"size\":0.5},\"mode\":\"markers\",\"text\":\"3rd Ave & Broad St \\u2794 2nd Ave & Pine St: 962 viagens \",\"x\":[0.8938331549816029],\"y\":[-0.10517742654977834],\"type\":\"scatter\"},{\"hoverinfo\":\"text\",\"marker\":{\"color\":\"rgba(171,221,164,0.75)\",\"size\":0.5},\"mode\":\"markers\",\"text\":\"Pier 69 \\u2b8c : 4209 viagens \",\"x\":[0.038998543699203185],\"y\":[-0.8991546661110875],\"type\":\"scatter\"},{\"hoverinfo\":\"text\",\"marker\":{\"color\":\"rgba(171,221,164,0.75)\",\"size\":0.5},\"mode\":\"markers\",\"text\":\"Pier 69 \\u2794 Burke-Gilman Trail: 1 viagens \",\"x\":[-0.8814365038757591],\"y\":[-0.18185073449199754],\"type\":\"scatter\"},{\"hoverinfo\":\"text\",\"marker\":{\"color\":\"rgba(102,194,165,0.75)\",\"size\":0.5},\"mode\":\"markers\",\"text\":\"Burke-Gilman Trail \\u2794 Pier 69: 4 viagens \",\"x\":[0.476925267074194],\"y\":[-0.7632445804761464],\"type\":\"scatter\"},{\"hoverinfo\":\"text\",\"marker\":{\"color\":\"rgba(171,221,164,0.75)\",\"size\":0.5},\"mode\":\"markers\",\"text\":\"Pier 69 \\u2794 3rd Ave & Broad St: 777 viagens \",\"x\":[-0.734464302654542],\"y\":[-0.5201559267432961],\"type\":\"scatter\"},{\"hoverinfo\":\"text\",\"marker\":{\"color\":\"rgba(50,136,189,0.75)\",\"size\":0.5},\"mode\":\"markers\",\"text\":\"3rd Ave & Broad St \\u2794 Pier 69: 347 viagens \",\"x\":[0.7693360985857712],\"y\":[-0.46703529568205493],\"type\":\"scatter\"},{\"hoverinfo\":\"text\",\"marker\":{\"color\":\"rgba(102,194,165,0.75)\",\"size\":0.5},\"mode\":\"markers\",\"text\":\"Burke-Gilman Trail \\u2b8c : 880 viagens \",\"x\":[0.5643902047211407],\"y\":[-0.7010447181277589],\"type\":\"scatter\"},{\"hoverinfo\":\"text\",\"marker\":{\"color\":\"rgba(102,194,165,0.75)\",\"size\":0.5},\"mode\":\"markers\",\"text\":\"Burke-Gilman Trail \\u2794 3rd Ave & Broad St: 8 viagens \",\"x\":[0.4780399255801088],\"y\":[-0.7625469359661503],\"type\":\"scatter\"},{\"hoverinfo\":\"text\",\"marker\":{\"color\":\"rgba(50,136,189,0.75)\",\"size\":0.5},\"mode\":\"markers\",\"text\":\"3rd Ave & Broad St \\u2794 Burke-Gilman Trail: 6 viagens \",\"x\":[0.6365897885543418],\"y\":[-0.6362023586158247],\"type\":\"scatter\"},{\"hoverinfo\":\"text\",\"marker\":{\"color\":\"rgba(50,136,189,0.75)\",\"size\":0.5},\"mode\":\"markers\",\"text\":\"3rd Ave & Broad St \\u2b8c : 627 viagens \",\"x\":[0.8569341386822662],\"y\":[-0.27507068538992413],\"type\":\"scatter\"}],                        {\"height\":625,\"hovermode\":\"closest\",\"margin\":{\"b\":25,\"l\":25,\"r\":25,\"t\":25},\"paper_bgcolor\":\"rgba(0,0,0,0)\",\"plot_bgcolor\":\"rgba(0,0,0,0)\",\"shapes\":[{\"fillcolor\":\"rgba(213,62,79,0.75)\",\"layer\":\"below\",\"line\":{\"color\":\"rgb(175,175,175)\",\"width\":0.5},\"path\":\"M 0.9927731055133359,0.12000650386294458 Q 0.19796019714484991, 0.028491408290432986 0.9863212364689067, 0.16483451850400466L 0.9863212364689067, 0.16483451850400466 L 0.9898009857242496, 0.14245704145216492 L 0.9927731055133359, 0.12000650386294458 \",\"type\":\"path\"},{\"fillcolor\":\"rgba(244,109,67,0.75)\",\"layer\":\"below\",\"line\":{\"color\":\"rgb(175, 175, 175)\",\"width\":0.5},\"path\":\"M 0.9999998814008454,0.0004870300762928799 Q 0.1956957639453356, 0.0412694557009357 0.9150381618272247, 0.4033672797833926L 0.9150381618272247, 0.4033672797833926 L 0.9183464483083138, 0.395777463834799 L 0.9215917820801511, 0.38816051731510665 M 0.9215917820801511,0.38816051731510665 Q 0.1958550742307543, 0.04050666485981946 0.9999571860098385, 0.009253439754232156L 0.9999571860098385, 0.009253439754232156 L 0.9999881401077445, 0.00487028170170324 L 0.9999998814008454, 0.0004870300762928799 \",\"type\":\"path\"},{\"fillcolor\":\"rgba(253,174,97,0.75)\",\"layer\":\"below\",\"line\":{\"color\":\"rgb(175, 175, 175)\",\"width\":0.5},\"path\":\"M 0.9999571860098385,0.009253439754232156 Q 0.14087791745083467, 0.14196271473424216 0.0015828771954751763, 0.9999987472491073L 0.0015828771954751763, 0.9999987472491073 L 0.009496977576702436, 0.9999549026915702 L 0.0174104831156206, 0.9998484260515094 M 0.0174104831156206,0.9998484260515094 Q 0.14127492066772485, 0.1415676403360883 0.9998102473501405, 0.019479971602929122L 0.9998102473501405, 0.019479971602929122 L 0.9998967908590379, 0.014366893533307386 L 0.9999571860098385, 0.009253439754232156 \",\"type\":\"path\"},{\"fillcolor\":\"rgba(254,224,139,0.75)\",\"layer\":\"below\",\"line\":{\"color\":\"rgb(175, 175, 175)\",\"width\":0.5},\"path\":\"M 0.9994834265529925,0.032138451205508435 Q 0.09415987593926897, 0.1764480596750825 -0.5297103763043033, 0.8481785880553419L -0.5297103763043033, 0.8481785880553419 L -0.522150687505424, 0.8528532461904645 L -0.5145497481112087, 0.8574605277904586 M -0.5145497481112087,0.8574605277904586 Q 0.09458927371200905, 0.1762182433763163 0.9989854075757865, 0.045035046915039255L 0.9989854075757865, 0.045035046915039255 L 0.9992552230492638, 0.03858755251069908 L 0.9994834265529925, 0.032138451205508435 \",\"type\":\"path\"},{\"fillcolor\":\"rgba(213,62,79,0.75)\",\"layer\":\"below\",\"line\":{\"color\":\"rgb(175, 175, 175)\",\"width\":0.5},\"path\":\"M 0.9863212364689067,0.16483451850400466 Q 0.04720634109181012, 0.19434907090265105 -0.8008096339462132, 0.5989189679572121L -0.8008096339462132, 0.5989189679572121 L -0.7936063830425132, 0.6084315152867904 L -0.7862901421282357, 0.6178574369480059 M -0.7862901421282357,0.6178574369480059 Q 0.027213478116222392, 0.19813991674778175 0.92375158604568, 0.38299217652334716L 0.92375158604568, 0.38299217652334716 L 0.9612454097499405, 0.27569414617410537 L 0.9863212364689067, 0.16483451850400466 \",\"type\":\"path\"},{\"fillcolor\":\"rgba(230,245,152,0.75)\",\"layer\":\"below\",\"line\":{\"color\":\"rgb(175, 175, 175)\",\"width\":0.5},\"path\":\"M 0.9966545244270187,0.081729792237306 Q 0.022695384348949674, 0.19870812648015546 -0.952557583972628, 0.30435842228568244L -0.952557583972628, 0.30435842228568244 L -0.9389779495622456, 0.34397733971277966 L -0.9237512867113693, 0.38299289849694296 M -0.9237512867113693,0.38299289849694296 Q 0.02718930952292109, 0.19814323467549125 0.9927731055133359, 0.12000650386294458L 0.9927731055133359, 0.12000650386294458 L 0.9948979095142084, 0.10088681600812797 L 0.9966545244270187, 0.081729792237306 \",\"type\":\"path\"},{\"fillcolor\":\"rgba(171,221,164,0.75)\",\"layer\":\"below\",\"line\":{\"color\":\"rgb(175, 175, 175)\",\"width\":0.5},\"path\":\"M 0.9998102473501405,0.019479971602929122 Q -0.02438809828720894, 0.1985074826346187 -0.9747922648980742, -0.22311441077367164L -0.9747922648980742, -0.22311441077367164 L -0.9765275014309651, -0.21539275509867195 L -0.9782015731519016, -0.20765760829583138 M -0.9782015731519016,-0.20765760829583138 Q -0.024073858734435502, 0.19854583683783059 0.9994834265529925, 0.032138451205508435L 0.9994834265529925, 0.032138451205508435 L 0.9996668734652229, 0.025809728713530072 L 0.9998102473501405, 0.019479971602929122 \",\"type\":\"path\"},{\"fillcolor\":\"rgba(102,194,165,0.75)\",\"layer\":\"below\",\"line\":{\"color\":\"rgb(175, 175, 175)\",\"width\":0.5},\"path\":\"M 1.0,0.0 Q -0.17485292806864, 0.09708992504798326 0.5286773227088496, -0.8488228840302333L 0.5286773227088496, -0.8488228840302333 L 0.5282638582070014, -0.8490802648232104 L 0.5278502684021449, -0.8493374442162452 M 0.5278502684021449,-0.8493374442162452 Q -0.1748292800808723, 0.0971325013906463 0.9999998814008454, 0.0004870300762928799L 0.9999998814008454, 0.0004870300762928799 L 0.9999999703502109, 0.00024351504536660967 L 1.0, 0.0 \",\"type\":\"path\"},{\"fillcolor\":\"rgba(50,136,189,0.75)\",\"layer\":\"below\",\"line\":{\"color\":\"rgb(175, 175, 175)\",\"width\":0.5},\"path\":\"M 0.9989854075757865,0.045035046915039255 Q -0.18791259549314152, 0.06847522511851256 0.735806346799503, -0.6771920111826257L 0.735806346799503, -0.6771920111826257 L 0.7219697438069747, -0.6919246266951997 L 0.7078382150606691, -0.7063745899306726 M 0.7078382150606691,-0.7063745899306726 Q -0.1877872204426759, 0.06881831034262506 0.9966545244270187, 0.081729792237306L 0.9966545244270187, 0.081729792237306 L 0.997988632517729, 0.06339313342463278 L 0.9989854075757865, 0.045035046915039255 \",\"type\":\"path\"},{\"fillcolor\":\"rgba(244,109,67,0.75)\",\"layer\":\"below\",\"line\":{\"color\":\"rgb(175,175,175)\",\"width\":0.5},\"path\":\"M 0.7598878920325813,0.6500541450850691 Q 0.13234531930358517, 0.1499490462071436 0.5506126959985574, 0.834760839405635L 0.5506126959985574, 0.834760839405635 L 0.6617265965179259, 0.749745231035718 L 0.7598878920325813, 0.6500541450850691 \",\"type\":\"path\"},{\"fillcolor\":\"rgba(253,174,97,0.75)\",\"layer\":\"below\",\"line\":{\"color\":\"rgb(175, 175, 175)\",\"width\":0.5},\"path\":\"M 0.8912441117092594,0.45352390603315845 Q 0.09473943843881902, 0.17613755648440577 -0.11287171018787533, 0.9936095697200507L -0.11287171018787533, 0.9936095697200507 L -0.08682541753785895, 0.996223542619515 L -0.060719628446399394, 0.9981548610918705 M -0.060719628446399394,0.9981548610918705 Q 0.09546778894355672, 0.17574385131272308 0.8703953636226255, 0.492353441121556L 0.8703953636226255, 0.492353441121556 L 0.8810336789593772, 0.4730535451080618 L 0.8912441117092594, 0.45352390603315845 \",\"type\":\"path\"},{\"fillcolor\":\"rgba(244,109,67,0.75)\",\"layer\":\"below\",\"line\":{\"color\":\"rgb(175, 175, 175)\",\"width\":0.5},\"path\":\"M 0.9150381618272247,0.4033672797833926 Q 0.06265505420177765, 0.18993247269219737 -0.4954237601751405, 0.8686514248269699L -0.4954237601751405, 0.8686514248269699 L -0.4936246979986426, 0.8696750298391629 L -0.4918235209404689, 0.8706949088226714 M -0.4918235209404689,0.8706949088226714 Q 0.061428093876338755, 0.19033283816178362 0.9080297299580385, 0.41890572866974696L 0.9080297299580385, 0.41890572866974696 L 0.9115670547815117, 0.4111514375956388 L 0.9150381618272247, 0.4033672797833926 \",\"type\":\"path\"},{\"fillcolor\":\"rgba(244,109,67,0.75)\",\"layer\":\"below\",\"line\":{\"color\":\"rgb(175, 175, 175)\",\"width\":0.5},\"path\":\"M 0.9237513454044161,0.3829927569335108 Q 0.029768320309671043, 0.19777221014576551 -0.7700815456460249, 0.6379454624459909L -0.7700815456460249, 0.6379454624459909 L -0.7699261741599474, 0.6381329691713369 L -0.7697707570179634, 0.6383204380559905 M -0.7697707570179634,0.6383204380559905 Q 0.02926253741493017, 0.19784767854094173 0.9215917820801511, 0.38816051731510665L 0.9215917820801511, 0.38816051731510665 L 0.9226751817272811, 0.38557814904961707 L 0.9237513454044161, 0.3829927569335108 \",\"type\":\"path\"},{\"fillcolor\":\"rgba(244,109,67,0.75)\",\"layer\":\"below\",\"line\":{\"color\":\"rgb(175, 175, 175)\",\"width\":0.5},\"path\":\"M 0.9080297299580385,0.41890572866974696 Q 0.008471809271652532, 0.19982049056006432 -0.869314153390582, 0.49425995459354755L -0.869314153390582, 0.49425995459354755 L -0.8609489471233246, 0.5086913705256251 L -0.8523441883188422, 0.5229812469286963 M -0.8523441883188422,0.5229812469286963 Q 0.007960858147247231, 0.19984149903751075 0.8912441117092594, 0.45352390603315845L 0.8912441117092594, 0.45352390603315845 L 0.8998034195745426, 0.4362955490512821 L 0.9080297299580385, 0.41890572866974696 \",\"type\":\"path\"},{\"fillcolor\":\"rgba(244,109,67,0.75)\",\"layer\":\"below\",\"line\":{\"color\":\"rgb(175, 175, 175)\",\"width\":0.5},\"path\":\"M 0.5506126959985574,0.834760839405635 Q -0.17295286902864726, 0.1004355768378894 -0.45211293198464536, -0.8919607035807393L -0.45211293198464536, -0.8919607035807393 L -0.564158316353506, -0.8256666361729639 L -0.6666417410632128, -0.7453782858872455 L -0.757826207217534, -0.6524564657157496 M -0.757826207217534,-0.6524564657157496 Q -0.18072911469254177, 0.08565621461662948 0.02520180755014495, 0.9996823840081436L 0.02520180755014495, 0.9996823840081436 L 0.11791178773035194, 0.9930240733810195 L 0.20960307214212717, 0.9777865575618138 L 0.2994834963612835, 0.9541014806650396 L 0.386776540842326, 0.9221734692854943 L 0.47072803963850707, 0.8822783646322107 L 0.5506126959985574, 0.834760839405635 \",\"type\":\"path\"},{\"fillcolor\":\"rgba(102,194,165,0.75)\",\"layer\":\"below\",\"line\":{\"color\":\"rgb(175, 175, 175)\",\"width\":0.5},\"path\":\"M 0.9237513454044161,0.3829927569335108 Q -0.19047443673844625, 0.06098761307980203 0.5295038754112628, -0.8483075184886987L 0.5295038754112628, -0.8483075184886987 L 0.5290906618096175, -0.8485653018983635 L 0.5286773227088496, -0.8488228840302333 M 0.5286773227088496,-0.8488228840302333 Q -0.1904447113805, 0.06108037252013169 0.9237513454044161, 0.3829927569335108L 0.9237513454044161, 0.3829927569335108 L 0.9237513454044161, 0.3829927569335108 L 0.9237513454044161, 0.3829927569335108 \",\"type\":\"path\"},{\"fillcolor\":\"rgba(244,109,67,0.75)\",\"layer\":\"below\",\"line\":{\"color\":\"rgb(175, 175, 175)\",\"width\":0.5},\"path\":\"M 0.8703953636226255,0.492353441121556 Q -0.19959152911464995, -0.012775817221448169 0.9260657087176012, -0.3773622969208331L 0.9260657087176012, -0.3773622969208331 L 0.9025475973548176, -0.4305901003379502 L 0.8759731885047205, -0.4823597962318931 M 0.8759731885047205,-0.4823597962318931 Q -0.1989573524478471, -0.020395389355027084 0.7598878920325813, 0.6500541450850691L 0.7598878920325813, 0.6500541450850691 L 0.8189464276893099, 0.5738699753209937 L 0.8703953636226255, 0.492353441121556 \",\"type\":\"path\"},{\"fillcolor\":\"rgba(253,174,97,0.75)\",\"layer\":\"below\",\"line\":{\"color\":\"rgb(175,175,175)\",\"width\":0.5},\"path\":\"M -0.01570605223494908,0.9998766523542757 Q -0.007644507330599361, 0.19985385036989511 -0.060719628446399394, 0.9981548610918705L -0.060719628446399394, 0.9981548610918705 L -0.038222536652996804, 0.9992692518494755 L -0.01570605223494908, 0.9998766523542757 \",\"type\":\"path\"},{\"fillcolor\":\"rgba(253,174,97,0.75)\",\"layer\":\"below\",\"line\":{\"color\":\"rgb(175, 175, 175)\",\"width\":0.5},\"path\":\"M 0.024957740873419093,0.9996885070713253 Q -0.04989928924327458, 0.19367514278558318 -0.5049126593192504, 0.8631704388237369L -0.5049126593192504, 0.8631704388237369 L -0.5021775993286116, 0.8647645105649008 L -0.49943750670597015, 0.8663499159665937 M -0.49943750670597015,0.8663499159665937 Q -0.05001718741255488, 0.19364472872592575 0.0174104831156206, 0.9998484260515094L 0.0174104831156206, 0.9998484260515094 L 0.021184262897642095, 0.9997755883224413 L 0.024957740873419093, 0.9996885070713253 \",\"type\":\"path\"},{\"fillcolor\":\"rgba(253,174,97,0.75)\",\"layer\":\"below\",\"line\":{\"color\":\"rgb(175, 175, 175)\",\"width\":0.5},\"path\":\"M 0.0015828771954751763,0.9999987472491073 Q -0.08611796130960592, 0.18050954750338616 -0.7782506600179837, 0.6279537484413743L -0.7782506600179837, 0.6279537484413743 L -0.776258861779561, 0.630414291961009 L -0.7742592842360694, 0.632868517761983 M -0.7742592842360694,0.632868517761983 Q -0.08710569462915065, 0.1800349909411311 -0.01570605223494908, 0.9998766523542757L -0.01570605223494908, 0.9998766523542757 L -0.007061851392499153, 0.9999750648165734 L 0.0015828771954751763, 0.9999987472491073 \",\"type\":\"path\"},{\"fillcolor\":\"rgba(253,174,97,0.75)\",\"layer\":\"below\",\"line\":{\"color\":\"rgb(175, 175, 175)\",\"width\":0.5},\"path\":\"M -0.1853330966835013,0.9826757569380167 Q -0.12013444845083815, 0.15989907534258263 -0.8922358699460289, 0.45156965396453846L -0.8922358699460289, 0.45156965396453846 L -0.8810336183263682, 0.4730536580333646 L -0.869314153390582, 0.49425995459354755 M -0.869314153390582,0.49425995459354755 Q -0.12370541763853671, 0.15715269532170045 -0.276279377829727, 0.961077367013717L -0.276279377829727, 0.961077367013717 L -0.23105874094780962, 0.9729398019567361 L -0.1853330966835013, 0.9826757569380167 \",\"type\":\"path\"},{\"fillcolor\":\"rgba(253,174,97,0.75)\",\"layer\":\"below\",\"line\":{\"color\":\"rgb(175, 175, 175)\",\"width\":0.5},\"path\":\"M -0.276279377829727,0.961077367013717 Q -0.1853872504064069, 0.07504376980637491 -0.8670180970902388, -0.4982766493806641L -0.8670180970902388, -0.4982766493806641 L -0.9081827067004754, -0.41857397345056974 L -0.9420391322579053, -0.3355030153288834 M -0.9420391322579053,-0.3355030153288834 Q -0.18737328296985303, 0.06993749229919088 -0.49182297386662577, 0.8706952178443318L -0.49182297386662577, 0.8706952178443318 L -0.3867008390118725, 0.922205216374053 L -0.276279377829727, 0.961077367013717 \",\"type\":\"path\"},{\"fillcolor\":\"rgba(253,174,97,0.75)\",\"layer\":\"below\",\"line\":{\"color\":\"rgb(175, 175, 175)\",\"width\":0.5},\"path\":\"M 0.02520117943117323,0.9996823998427089 Q -0.193002248925482, -0.05244170010312681 0.5276434265417448, -0.8494659583687191L 0.5276434265417448, -0.8494659583687191 L 0.5276434265417448, -0.8494659583687191 L 0.5276434265417448, -0.8494659583687191 M 0.5276434265417448,-0.8494659583687191 Q -0.1929958623205549, -0.05246519920047399 0.024957740873419093, 0.9996885070713253L 0.024957740873419093, 0.9996885070713253 L 0.02507946033819661, 0.9996854608671394 L 0.02520117943117323, 0.9996823998427089 \",\"type\":\"path\"},{\"fillcolor\":\"rgba(253,174,97,0.75)\",\"layer\":\"below\",\"line\":{\"color\":\"rgb(175, 175, 175)\",\"width\":0.5},\"path\":\"M -0.11287171018787533,0.9936095697200507 Q -0.17629881455905275, -0.09443901728137971 0.764616364344398, -0.6444856983492767L 0.764616364344398, -0.6444856983492767 L 0.75038956799378, -0.660995836784248 L 0.735806346799503, -0.6771920111826257 M 0.735806346799503,-0.6771920111826257 Q -0.17487657952793667, -0.09704731800832643 -0.1853330966835013, 0.9826757569380167L -0.1853330966835013, 0.9826757569380167 L -0.1492025930598623, 0.9888066475424875 L -0.11287171018787533, 0.9936095697200507 \",\"type\":\"path\"},{\"fillcolor\":\"rgba(254,224,139,0.75)\",\"layer\":\"below\",\"line\":{\"color\":\"rgb(175,175,175)\",\"width\":0.5},\"path\":\"M -0.600964192166343,0.7992759471758516 Q -0.1380152064671894, 0.14474737574069896 -0.7697703559492518, 0.6383209217170953L -0.7697703559492518, 0.6383209217170953 L -0.6900760323359469, 0.7237368787034948 L -0.600964192166343, 0.7992759471758516 \",\"type\":\"path\"},{\"fillcolor\":\"rgba(254,224,139,0.75)\",\"layer\":\"below\",\"line\":{\"color\":\"rgb(175, 175, 175)\",\"width\":0.5},\"path\":\"M -0.4954237601751405,0.8686514248269699 Q -0.1288412598821227, 0.15297035579479878 -0.771787616069946, 0.6358803941631396L -0.771787616069946, 0.6358803941631396 L -0.771400358619203, 0.636350129034453 L -0.7710128152726897, 0.6368196280622018 M -0.7710128152726897,0.6368196280622018 Q -0.12910182700803086, 0.15275050986228644 -0.49943750670597015, 0.8663499159665937L -0.49943750670597015, 0.8663499159665937 L -0.4974319645145765, 0.86750299174076 L -0.4954237601751405, 0.8686514248269699 \",\"type\":\"path\"},{\"fillcolor\":\"rgba(230,245,152,0.75)\",\"layer\":\"below\",\"line\":{\"color\":\"rgb(175, 175, 175)\",\"width\":0.5},\"path\":\"M -0.5451119892305999,0.8383632382190063 Q -0.14326023763073062, 0.1395582470296421 -0.8523441883188422, 0.5229812469286963L -0.8523441883188422, 0.5229812469286963 L -0.8436330444481739, 0.5369201861683964 L -0.8346939694427067, 0.550714061356688 M -0.8346939694427067,0.550714061356688 Q -0.1427495129768865, 0.1400806073118678 -0.5663676462557741, 0.8241527099237703L -0.5663676462557741, 0.8241527099237703 L -0.5557852371229719, 0.8313259109375587 L -0.5451119892305999, 0.8383632382190063 \",\"type\":\"path\"},{\"fillcolor\":\"rgba(171,221,164,0.75)\",\"layer\":\"below\",\"line\":{\"color\":\"rgb(175, 175, 175)\",\"width\":0.5},\"path\":\"M -0.5297103763043033,0.8481785880553419 Q -0.1855876162836111, 0.07454687573713019 -0.9692506411842448, -0.24607558709455618L -0.9692506411842448, -0.24607558709455618 L -0.9720892495428374, -0.23461136145388042 L -0.9747922648980742, -0.22311441077367164 M -0.9747922648980742,-0.22311441077367164 Q -0.18538726334431566, 0.07504373784470866 -0.5451119892305999, 0.8383632382190063L -0.5451119892305999, 0.8383632382190063 L -0.5374335909083221, 0.8433060745443414 L -0.5297103763043033, 0.8481785880553419 \",\"type\":\"path\"},{\"fillcolor\":\"rgba(254,224,139,0.75)\",\"layer\":\"below\",\"line\":{\"color\":\"rgb(175, 175, 175)\",\"width\":0.5},\"path\":\"M -0.5049126593192504,0.8631704388237369 Q -0.17050703890256966, -0.10453396426366696 0.5402030583822396, -0.8415347026204414L 0.5402030583822396, -0.8415347026204414 L 0.5376389830912977, -0.8431751442378714 L 0.5350699262897991, -0.8448077733900351 M 0.5350699262897991,-0.8448077733900351 Q -0.17023919780463037, -0.10496959336320183 -0.5145497481112087, 0.8574605277904586L -0.5145497481112087, 0.8574605277904586 L -0.5097391988183554, 0.8603289773034621 L -0.5049126593192504, 0.8631704388237369 \",\"type\":\"path\"},{\"fillcolor\":\"rgba(50,136,189,0.75)\",\"layer\":\"below\",\"line\":{\"color\":\"rgb(175, 175, 175)\",\"width\":0.5},\"path\":\"M -0.5663676462557741,0.8241527099237703 Q -0.140410479569277, -0.14242505828373617 0.8321369173625595, -0.5545702397012815L 0.8321369173625595, -0.5545702397012815 L 0.8138840140142112, -0.5810273760608146 L 0.7947902475809921, -0.6068842248321712 M 0.7947902475809921,-0.6068842248321712 Q -0.14194558707826163, -0.1408951748961179 -0.600964192166343, 0.7992759471758516L -0.600964192166343, 0.7992759471758516 L -0.5837984400284861, 0.8118986275516827 L -0.5663676462557741, 0.8241527099237703 \",\"type\":\"path\"},{\"fillcolor\":\"rgba(255,255,191,0.75)\",\"layer\":\"below\",\"line\":{\"color\":\"rgb(175,175,175)\",\"width\":0.5},\"path\":\"M -0.8008096339462132,0.5989189679572121 Q -0.16349521655963847, 0.11519250914064215 -0.8334846531887335, 0.5525426073153604L -0.8334846531887335, 0.5525426073153604 L -0.8174760827981923, 0.5759625457032107 L -0.8008096339462132, 0.5989189679572121 \",\"type\":\"path\"},{\"fillcolor\":\"rgba(230,245,152,0.75)\",\"layer\":\"below\",\"line\":{\"color\":\"rgb(175, 175, 175)\",\"width\":0.5},\"path\":\"M -0.7782506600179837,0.6279537484413743 Q -0.1863314745438533, 0.07266761035229763 -0.9979027993915378, 0.06473023224531377L -0.9979027993915378, 0.06473023224531377 L -0.9908973376584284, 0.1346197096321286 L -0.9790031694182383, 0.20384502512704142 M -0.9790031694182383,0.20384502512704142 Q -0.1813192420272192, 0.08439983691142249 -0.7862901421282357, 0.6178574369480059L -0.7862901421282357, 0.6178574369480059 L -0.7822866893099527, 0.6229185626777176 L -0.7782506600179837, 0.6279537484413743 \",\"type\":\"path\"},{\"fillcolor\":\"rgba(171,221,164,0.75)\",\"layer\":\"below\",\"line\":{\"color\":\"rgb(175, 175, 175)\",\"width\":0.5},\"path\":\"M -0.7700815456460249,0.6379454624459909 Q -0.19420449059488312, 0.04779765509710658 -0.9782015731519016, -0.20765760829583138L -0.9782015731519016, -0.20765760829583138 L -0.9787792665679109, -0.20491741589426296 L -0.9793492840209819, -0.20217561645161428 M -0.9793492840209819,-0.20217561645161428 Q -0.19408752016795489, 0.04827043106347516 -0.770547386076697, 0.637382715337002L -0.770547386076697, 0.637382715337002 L -0.7703145172501626, 0.6376641314309978 L -0.7700815456460249, 0.6379454624459909 \",\"type\":\"path\"},{\"fillcolor\":\"rgba(102,194,165,0.75)\",\"layer\":\"below\",\"line\":{\"color\":\"rgb(175, 175, 175)\",\"width\":0.5},\"path\":\"M -0.770547386076697,0.637382715337002 Q -0.15007792239168904, -0.13219915737475094 0.5350699262897991, -0.8448077733900351L 0.5350699262897991, -0.8448077733900351 L 0.5335261109842484, -0.8457835946020846 L 0.5319805160528784, -0.8467565946245197 M 0.5319805160528784,-0.8467565946245197 Q -0.15027091696638145, -0.13197973902869672 -0.7710128152726897, 0.6368196280622018L -0.7710128152726897, 0.6368196280622018 L -0.7707801520945581, 0.6371012142015505 L -0.770547386076697, 0.637382715337002 \",\"type\":\"path\"},{\"fillcolor\":\"rgba(50,136,189,0.75)\",\"layer\":\"below\",\"line\":{\"color\":\"rgb(175, 175, 175)\",\"width\":0.5},\"path\":\"M -0.771787616069946,0.6358803941631396 Q -0.1242977481406238, -0.15668461892339675 0.7947902475809921, -0.6068842248321712L 0.7947902475809921, -0.6068842248321712 L 0.7799299411048534, -0.625866828461279 L 0.764616364344398, -0.6444856983492767 M 0.764616364344398,-0.6444856983492767 Q -0.12773906134465093, -0.15389194977901707 -0.7742592842360694, 0.632868517761983L -0.7742592842360694, 0.632868517761983 L -0.7730249170216464, 0.6343756597345745 L -0.771787616069946, 0.6358803941631396 \",\"type\":\"path\"},{\"fillcolor\":\"rgba(230,245,152,0.75)\",\"layer\":\"below\",\"line\":{\"color\":\"rgb(175,175,175)\",\"width\":0.5},\"path\":\"M -0.952557583972628,0.30435842228568244 Q -0.19341742132104497, 0.05088910619688056 -0.9790031694182383, 0.20384502512704142L -0.9790031694182383, 0.20384502512704142 L -0.9670871066052248, 0.25444553098440276 L -0.952557583972628, 0.30435842228568244 \",\"type\":\"path\"},{\"fillcolor\":\"rgba(171,221,164,0.75)\",\"layer\":\"below\",\"line\":{\"color\":\"rgb(175, 175, 175)\",\"width\":0.5},\"path\":\"M -0.8922358699460289,0.45156965396453846 Q -0.19960080587159248, 0.012630055241797406 -0.9420391322579053, -0.3355030153288834L -0.9420391322579053, -0.3355030153288834 L -0.9566903708861544, -0.29110742734205936 L -0.9692506411842448, -0.24607558709455618 M -0.9692506411842448,-0.24607558709455618 Q -0.19947890762135465, 0.014427938667428043 -0.9237512867113693, 0.38299289849694296L -0.9237512867113693, 0.38299289849694296 L -0.9086407602203254, 0.41757869781183665 L -0.8922358699460289, 0.45156965396453846 \",\"type\":\"path\"},{\"fillcolor\":\"rgba(230,245,152,0.75)\",\"layer\":\"below\",\"line\":{\"color\":\"rgb(175, 175, 175)\",\"width\":0.5},\"path\":\"M -0.8334850003613281,0.5525420836213988 Q -0.14348096737721203, -0.1393313030173027 0.5278502684021449, -0.8493374442162452L 0.5278502684021449, -0.8493374442162452 L 0.527746851383832, -0.849401707588613 L 0.5276434265417448, -0.8494659583687191 M 0.5276434265417448,-0.8494659583687191 Q -0.1433451821141547, -0.1394709961413477 -0.8346939694427067, 0.550714061356688L -0.8346939694427067, 0.550714061356688 L -0.8340899856972642, 0.5516284036917765 L -0.8334850003613281, 0.5525420836213988 \",\"type\":\"path\"},{\"fillcolor\":\"rgba(230,245,152,0.75)\",\"layer\":\"below\",\"line\":{\"color\":\"rgb(175, 175, 175)\",\"width\":0.5},\"path\":\"M -0.9979027993915378,0.06473023224531377 Q -0.006476482501888897, -0.19989511043145286 0.9999999999998026, -6.283185325590418e-07L 0.9999999999998026, -6.283185325590418e-07 L 0.9931479499795587, -0.11686380727753148 L 0.9726858469461395, -0.2321254900924742 M 0.9726858469461395,-0.2321254900924742 Q -0.0030926297244824475, -0.1999760876739698 -0.9793986147310857, -0.20193650849420564L -0.9793986147310857, -0.20193650849420564 L -0.997601126817222, -0.06922421377674726 L -0.9979027993915378, 0.06473023224531377 \",\"type\":\"path\"},{\"fillcolor\":\"rgba(171,221,164,0.75)\",\"layer\":\"below\",\"line\":{\"color\":\"rgb(175,175,175)\",\"width\":0.5},\"path\":\"M -0.45211293198464536,-0.8919607035807393 Q 0.008666343044267374, -0.19981214802468614 0.5276428928064372, -0.8494662898966943L 0.5276428928064372, -0.8494662898966943 L 0.45325209795142757, -0.8913823734529585 L 0.3755566654290627, -0.9267994341020084 L 0.29512306863032145, -0.9554592478814691 L 0.21253774476068696, -0.9771528575673517 L 0.1284028191567298, -0.991722096170396 L 0.04333171522133687, -0.9990607401234306 L -0.04205531801467871, -0.9991152837519223 L -0.12713572809626864, -0.9918853293810891 L -0.21128919814198785, -0.9774235902353267 L -0.29390216954238113, -0.9558355061088082 L -0.3743723153841572, -0.9272784746093835 L -0.45211293198464536, -0.8919607035807393 \",\"type\":\"path\"},{\"fillcolor\":\"rgba(102,194,165,0.75)\",\"layer\":\"below\",\"line\":{\"color\":\"rgb(175, 175, 175)\",\"width\":0.5},\"path\":\"M -0.979398487850442,-0.20193712386846419 Q -0.07866322218304757, -0.18388066096188715 0.5303299257251584, -0.8477913480806158L 0.5303299257251584, -0.8477913480806158 L 0.5299169634157711, -0.8480495338623849 L 0.5295038754112628, -0.8483075184886987 M 0.5295038754112628,-0.8483075184886987 Q -0.07873038336482964, -0.18385191523404634 -0.9793492840209819, -0.20217561645161428L -0.9793492840209819, -0.20217561645161428 L -0.9793738931952879, -0.20205637165777504 L -0.979398487850442, -0.20193712386846419 \",\"type\":\"path\"},{\"fillcolor\":\"rgba(171,221,164,0.75)\",\"layer\":\"below\",\"line\":{\"color\":\"rgb(175, 175, 175)\",\"width\":0.5},\"path\":\"M -0.8670180970902388,-0.4982766493806641 Q 0.0018263074122427518, -0.1999916613292564 0.8759731885047205, -0.4823597962318931L 0.8759731885047205, -0.4823597962318931 L 0.8548178873175236, -0.5189281063133944 L 0.8321369173625595, -0.5545702397012815 M 0.8321369173625595,-0.5545702397012815 Q 0.012289749747498323, -0.19962204800859015 -0.757826207217534, -0.6524564657157496L -0.757826207217534, -0.6524564657157496 L -0.8160714473939356, -0.5779510297147735 L -0.8670180970902388, -0.4982766493806641 \",\"type\":\"path\"},{\"fillcolor\":\"rgba(102,194,165,0.75)\",\"layer\":\"below\",\"line\":{\"color\":\"rgb(175,175,175)\",\"width\":0.5},\"path\":\"M 0.5402030583822396,-0.8415347026204414 Q 0.12542004549358682, -0.155787715139502 0.7068049375311597, -0.7074084960484808L 0.7068049375311597, -0.7074084960484808 L 0.627100227467934, -0.7789385756975099 L 0.5402030583822396, -0.8415347026204414 \",\"type\":\"path\"},{\"fillcolor\":\"rgba(102,194,165,0.75)\",\"layer\":\"below\",\"line\":{\"color\":\"rgb(175, 175, 175)\",\"width\":0.5},\"path\":\"M 0.5303299257251584,-0.8477913480806158 Q 0.12462178960128412, -0.15642701031654757 0.7078382150606691, -0.7063745899306726L 0.7078382150606691, -0.7063745899306726 L 0.707321987282602, -0.7068915095731386 L 0.7068053820088863, -0.707408051949702 M 0.7068053820088863,-0.707408051949702 Q 0.12465987797131402, -0.15639665860937407 0.5319805160528784, -0.8467565946245197L 0.5319805160528784, -0.8467565946245197 L 0.5311554728667875, -0.8472743732957225 L 0.5303299257251584, -0.8477913480806158 \",\"type\":\"path\"},{\"fillcolor\":\"rgba(50,136,189,0.75)\",\"layer\":\"below\",\"line\":{\"color\":\"rgb(175,175,175)\",\"width\":0.5},\"path\":\"M 0.9260657087176012,-0.3773622969208331 Q 0.19042980859605918, -0.06112681897553869 0.9726858469461395, -0.2321254900924742L 0.9726858469461395, -0.2321254900924742 L 0.9521490429802958, -0.30563409487769344 L 0.9260657087176012, -0.3773622969208331 \",\"type\":\"path\"},{\"fillcolor\":\"rgba(213,62,79,0.75)\",\"layer\":\"below\",\"line\":{\"color\":\"rgb(150,150,150)\",\"width\":0.45},\"path\":\"M 1.1, 0.0 L 1.0999913313713872, 0.004367025051814605 L 1.0999653256221762, 0.008733981274323177 L 1.099921983162247, 0.013100799839304516 L 1.099861304674727, 0.017467411920707058 L 1.099783291115978, 0.02183374869573366 L 1.0996879437155826, 0.026199741345926314 L 1.0995752639763257, 0.03056532105825082 L 1.099445253674168, 0.03493041902618135 L 1.0992979148582207, 0.039294966450784924 L 1.099133249850712, 0.043658894541805736 L 1.0989512612469505, 0.04802213451874939 L 1.0987519519152846, 0.05238461761196698 L 1.0985353249970575, 0.05674627506373892 L 1.0983013839065565, 0.06110703812935871 L 1.0980501323309608, 0.06546683807821635 L 1.0977815742302826, 0.0698256061948817 L 1.0974957138373043, 0.07418327378018746 L 1.0971925556575122, 0.078539772152312 L 1.0968721044690262, 0.08289503264786174 L 1.0965343653225228, 0.08724898662295352 L 1.096179343541157, 0.09160156545429643 L 1.0958070447204784, 0.09595270054027338 L 1.0954174747283416, 0.10030232330202235 L 1.0950106397048145, 0.1046503651845173 L 1.0945865460620827, 0.10899675765764866 L 1.0941452004843464, 0.11334143221730336 L 1.0936866099277163, 0.11768432038644476 L 1.093210781620104, 0.1220253537161916 L 1.0927177230611071, 0.12636446378689717 L 1.0922074420218921, 0.13070158220922737 L 1.0916799465450715, 0.13503664062523887 L 1.091135244944577, 0.13936957070945635 L 1.0905733458055282, 0.1437003041699495 L 1.0899942579840978, 0.1480287727494091 L 1.0893979906073719, 0.15235490822622336 L 1.0887845530732054, 0.15667864241555254 L 1.0881539550500754, 0.1609999071704042 L 1.0875062064769272, 0.16531863438270675 L 1.086841317563019, 0.16963475598438346 L 1.0861592987877595, 0.17394820394842475 L 1.0854601609005445, 0.17825891028996077 L 1.084743914920586, 0.18256680706733275 L 1.0840105721367392, 0.18687182638316377 L 1.0832601441073249, 0.19117390038542914 L 1.0824926426599462, 0.19547296126852556 L 1.081708079891303, 0.19976894127434 L 1.0809064681670015, 0.20406177269331757 L 1.0800878201213586, 0.20835138786552862 L 1.079252148657203, 0.21263771918173538 L 1.0783994669456725, 0.21692069908445727 L 1.077529788426005, 0.2212002600690359 L 1.0766431268053283, 0.2254763346846988 L 1.0757394960584425, 0.2297488555356229 L 1.0748189104276011, 0.23401775528199636 L 1.0738813844222863, 0.23828296664108004 L 1.072926932818979, 0.2425444223882681 L 1.0719555706609272, 0.24680205535814745 L 1.0709673132579092, 0.2510557984455563 L 1.0699621761859908, 0.2553055846066417 L 1.0689401752872811, 0.2595513468599168 L 1.0679013266696826, 0.2637930182873157 L 1.0668456467066365, 0.26803053203524874 L 1.065773152036866, 0.2722638213156561 L 1.0646838595641126, 0.2764928194070604 L 1.0635777864568705, 0.2807174596556182 L 1.0624549501481164, 0.28493767547617077 L 1.0613153683350338, 0.28915340035329323 L 1.0601590589787342, 0.29336456784234327 L 1.058986040303975, 0.29757111157050836 L 1.0577963307988711, 0.3017729652378513 L 1.056589949214604, 0.305970062618356 L 1.0553669145651263, 0.3101623375609708 L 1.054127246126862, 0.3143497239906509 L 1.0528709634384024, 0.31853215590940054 L 1.0515980863001986, 0.32270956739731216 L 1.0503086347742492, 0.3268818926136064 L 1.0490026291837837, 0.33104906579766913 L 1.047680090112943, 0.3352110212700882 L 1.0463410384064549, 0.3393676934336885 L 1.044985495169304, 0.3435190167745658 L 1.0436134817664016, 0.3476649258631198 L 1.042225019822247, 0.3518053553550846 L 1.0408201312205867, 0.3559402399925593 L 1.0393988381040715, 0.360069514605036 L 1.0379611628739052, 0.36419311411042743 L 1.0365071281894924, 0.36831097351609227 L 1.0350367569680814, 0.37242302791986 L 1.0335500723844038, 0.37652921251105337 L 1.0320470978703074, 0.38062946257151 L 1.0305278571143883, 0.3847237134766028 L 1.0289923740616174, 0.38881190069625793 L 1.0274406729129624, 0.39289395979597236 L 1.025872778125007, 0.39696982643782913 L 1.0242887144095651, 0.4010394363815115 L 1.0226885067332914, 0.40510272548531556 L 1.0210721803172875, 0.40915962970716085 L 1.0194397606367052, 0.41321008510560014 L 1.0177912734203445, 0.417254027840827 L 1.016126744650248, 0.4212913941756819 L 0.92375158604568, 0.38299217652334716 L 0.9252647940184949, 0.37932184349166087 L 0.9267634187606411, 0.37564553191418193 L 0.9282474366520794, 0.37196329973378256 L 0.9297168243029921, 0.3682752049866505 L 0.9311715585541501, 0.3645813058013741 L 0.9326116164772791, 0.36088166039802644 L 0.9340369753754203, 0.35717632708724756 L 0.9354476127832885, 0.35346536426932534 L 0.9368435064676256, 0.3497488304332752 L 0.938224634427552, 0.34602678415591814 L 0.9395909748949124, 0.34229928410095756 L 0.9409425063346194, 0.3385663890180545 L 0.9422792074449929, 0.33482815774190205 L 0.9436010571580955, 0.33108464919129765 L 0.944908034640065, 0.3273359223682145 L 0.9462001192914424, 0.32358203635687205 L 0.9474772907474971, 0.31982305032280417 L 0.9487395288785468, 0.31605902351192705 L 0.9499868137902764, 0.31229001524960526 L 0.9512191258240498, 0.3085160849397168 L 0.952436445557221, 0.3047372920637165 L 0.9536387538034397, 0.3009536961796992 L 0.9548260316129537, 0.29716535692146034 L 0.9559982602729077, 0.29337233399755647 L 0.9571554213076384, 0.2895746871903641 L 0.9582974964789653, 0.2857724763551372 L 0.9594244677864784, 0.2819657614190643 L 0.9605363174678218, 0.27815460238032363 L 0.9616330279989737, 0.27433905930713753 L 0.9627145820945227, 0.27051919233682575 L 0.9637809627079401, 0.2666950616748575 L 0.9648321530318488, 0.2628667275939029 L 0.9658681364982876, 0.2590342504328825 L 0.9668888967789732, 0.2551976905960165 L 0.9678944177855567, 0.25135710855187304 L 0.9688846836698781, 0.2475125648324146 L 0.969859678824215, 0.2436641200320443 L 0.9708193878815295, 0.2398118348066506 L 0.97176379571571, 0.23595576987265163 L 0.9726928874418097, 0.23209598600603792 L 0.973606648416281, 0.2282325440414148 L 0.9745050642372065, 0.22436550487104312 L 0.9753881207445262, 0.22049492944388008 L 0.9762558040202601, 0.2166208787646182 L 0.9771081003887283, 0.21274341389272394 L 0.9779449964167658, 0.20886259594147535 L 0.9787664789139346, 0.2049784860769989 L 0.9795725349327318, 0.20109114551730534 L 0.9803631517687931, 0.19720063553132477 L 0.9811383169610937, 0.19330701743794124 L 0.9818980182921441, 0.189410352605026 L 0.9826422437881831, 0.1855107024484705 L 0.9833709817193662, 0.18160812843121818 L 0.9840842205999509, 0.17770269206229594 L 0.9847819491884771, 0.17379445489584466 L 0.9854641564879447, 0.16988347853014887 L 0.9861308317459871, 0.16596982460666612 L 0.9867819644550404, 0.16205355480905523 L 0.9874175443525085, 0.1581347308622043 L 0.9880375614209261, 0.15421341453125767 L 0.9886420058881156, 0.1502896676206425 L 0.9892308682273412, 0.1463635519730947 L 0.9898041391574594, 0.1424351294686841 L 0.9903618096430652, 0.1385044620238394 L 0.9909038708946343, 0.1345716115903719 L 0.9914303143686619, 0.13063664015449952 L 0.9919411317677972, 0.1266996097358694 L 0.9924363150409741, 0.12276058238658079 L 0.9929158563835382, 0.11881962019020668 L 0.99337974823737, 0.11487678526081559 L 0.9938279832910035, 0.11093213974199236 L 0.994260554479742, 0.10698574580585886 L 0.9946774549857694, 0.10303766565209396 L 0.995078678238257, 0.09908796150695331 L 0.9954642179134677, 0.09513669562228845 L 0.9958340679348558, 0.09118393027456577 L 0.9961882224731622, 0.08722972776388489 L 0.9965266759465065, 0.08327415041299675 L 0.9968494230204752, 0.07931726056632138 L 0.9971564586082055, 0.07535912058896521 L 0.9974477778704656, 0.07139979286573818 L 0.997723376215731, 0.06743933980017042 L 0.9979832493002568, 0.06347782381352882 L 0.9982273930281462, 0.05951530734383304 L 0.9984558035514149, 0.055551852844871547 L 0.9986684772700521, 0.0515875227852172 L 0.9988654108320769, 0.0476223796472427 L 0.9990466011335913, 0.04365648592613581 L 0.999212045318829, 0.0396899041289143 L 0.9993617407802006, 0.03572269677344084 L 0.9994956851583344, 0.03175492638743759 L 0.9996138763421142, 0.027786655507500743 L 0.9997163124687115, 0.023817946678114828 L 0.9998029919236162, 0.019848862450666964 L 0.9998739133406608, 0.01587946538246096 L 0.9999290756020428, 0.011909818035731377 L 0.9999684778383419, 0.007939982976657434 L 0.9999921194285337, 0.003970022774376913 L 1.0, 0.0 L 1.1 ,0.0\",\"type\":\"path\"},{\"fillcolor\":\"rgba(244,109,67,0.75)\",\"layer\":\"below\",\"line\":{\"color\":\"rgb(150,150,150)\",\"width\":0.45},\"path\":\"M 1.0161264799448577, 0.42129203262686193 L 1.01115304901201, 0.433092959390609 L 1.0060425718369692, 0.4448351870655655 L 1.0007957410663069, 0.4565171241733896 L 0.9954132678272266, 0.46813718740719823 L 0.9898958816311828, 0.47969380184616056 L 0.9842443302750056, 0.49118540116895365 L 0.9784593797395488, 0.5026104278660536 L 0.9725418140858734, 0.5139673334508319 L 0.9664924353489793, 0.5252545786694288 L 0.9603120634291025, 0.5364706337093762 L 0.95400153598059, 0.5476139784069387 L 0.9475617082983687, 0.5586831024531504 L 0.9409934532020231, 0.5696765055985126 L 0.9342976609174984, 0.5805926978563298 L 0.9274752389564437, 0.5914301997046547 L 0.9205271119932132, 0.6021875422868149 L 0.9134542217395403, 0.6128632676104931 L 0.9062575268169032, 0.6234559287453365 L 0.8989380026265992, 0.6339640900190645 L 0.8914966412175427, 0.6443863272120539 L 0.8839344511518094, 0.6547212277503683 L 0.8762524573679408, 0.6649673908972118 L 0.8684517010420297, 0.6751234279427765 L 0.8605332394466041, 0.6851879623924617 L 0.8524981458073316, 0.6951596301534358 L 0.8443475091575587, 0.7050370797195183 L 0.8360824341907097, 0.7148189723543561 L 0.8277040411105626, 0.7245039822728679 L 0.8192134654794229, 0.7340907968209346 L 0.8106118580642147, 0.7435781166533088 L 0.8019003846805128, 0.7529646559097218 L 0.7930802260345343, 0.7622491423891615 L 0.7841525775631116, 0.7714303177222998 L 0.7751186492716693, 0.7805069375420459 L 0.7659796655702271, 0.7894777716522 L 0.7567368651074498, 0.798341604194188 L 0.7473915006027665, 0.8070972338118532 L 0.7379448386765851, 0.8157434738142799 L 0.7283981596786211, 0.824279152336633 L 0.7187527575143648, 0.8327031124989847 L 0.7090099394697139, 0.8410142125631128 L 0.6991710260337898, 0.8492113260872454 L 0.6892373507199661, 0.8572933420787325 L 0.679210259885131, 0.8652591651446248 L 0.6690911125472108, 0.8731077156401357 L 0.6588812802009733, 0.8808379298149727 L 0.6485821466321451, 0.8884487599575108 L 0.6381951077298601, 0.8959391745367944 L 0.6277215712974673, 0.9033081583423449 L 0.6171629568617257, 0.9105547126217577 L 0.606520695480409, 0.9176778552160672 L 0.5957962295483479, 0.9246766206928628 L 0.5849910126019352, 0.9315500604771397 L 0.5741065091221214, 0.9382972429798628 L 0.5631441943359278, 0.9449172537242291 L 0.5521055540165004, 0.9514091954696114 L 0.5409920842817376, 0.957772188333166 L 0.5298052913915147, 0.9640053699090853 L 0.5185466915435316, 0.9701078953854864 L 0.5072178106678177, 0.97607893765891 L 0.4958201842199143, 0.9819176874464226 L 0.48435535697276766, 0.9876233533953027 L 0.4728248828073586, 0.9931951621902957 L 0.4612303245020979, 0.9986323586584251 L 0.4495732535210161, 1.0039342058713452 L 0.437855249800775, 1.009099985245219 L 0.42607790153653174, 1.014128996638113 L 0.4142428049666843, 1.019020558444889 L 0.4023515641565246, 1.023774007689587 L 0.39040579078083254, 1.028388700115279 L 0.37840710390543936, 1.03286401027139 L 0.3663571297677864, 1.0371993315984684 L 0.35425750155651475, 1.041394076510394 L 0.3421098591901113, 1.0454476764740177 L 0.3299158490946436, 1.0493595820862174 L 0.3176771239806112, 1.05312926314836 L 0.30539534261894635, 1.0567562087381632 L 0.2930721696161943, 1.0602399272789422 L 0.28070927518889965, 1.0635799466062357 L 0.2683083349372352, 1.0667758140317996 L 0.25587102961790087, 1.0698270964049637 L 0.24339904491632114, 1.0727333801713372 L 0.2308940712181775, 1.0754942714288604 L 0.2183578033803032, 1.0781093959811914 L 0.20579194050096994, 1.0805783993884226 L 0.1931981856896024, 1.082900947015121 L 0.18057824583594734, 1.0850767240756813 L 0.1679338313787319, 1.0871054356769907 L 0.15526665607383866, 1.0889868068583974 L 0.14257843676203308, 1.090720582628977 L 0.1298708931362719, 1.092306528002093 L 0.1171457475086261, 1.093744428027245 L 0.10440472457684649, 1.0950340878192024 L 0.0916495511906083, 1.0961753325844183 L 0.07888195611746388, 1.0971680076447192 L 0.06610366980853341, 1.09801197845827 L 0.0533164241639697, 1.0987071306378091 L 0.04052195229822636, 1.0992533699661513 L 0.027721988305159446, 1.099650622408958 L 0.02520180755014495, 0.9996823840081436 L 0.03683813845293305, 0.9993212454237739 L 0.04846947651269972, 0.9988246642161901 L 0.06009424528048491, 0.9981927076893363 L 0.07171086919769443, 0.9974254614951993 L 0.0833177738096439, 0.9965230296221984 L 0.09491338597895135, 0.9954855343810931 L 0.10649613409875099, 0.9943131163884045 L 0.11806444830570172, 0.9930059345473572 L 0.12961676069275732, 0.9915641660263427 L 0.1411515055216715, 0.9899880062349067 L 0.15266711943521083, 0.9882776687972642 L 0.16416204166904302, 0.9864333855233466 L 0.1756347142632749, 0.9844554063773827 L 0.18708358227360902, 0.9823439994440205 L 0.1985070939820938, 0.980099450891992 L 0.2099037011074341, 0.9777220649353277 L 0.22127185901483737, 0.9752121637921247 L 0.2326100269253644, 0.972570087640876 L 0.24391666812475926, 0.9697961945743632 L 0.2551902501717269, 0.9668908605511232 L 0.26642924510563115, 0.9638544793444929 L 0.2776321296535876, 0.9606874624892393 L 0.28879738543691924, 0.9573902392257817 L 0.2999234991769487, 0.9539632564420156 L 0.31100896290010116, 0.9504069786127433 L 0.3220522741422861, 0.9467218877367216 L 0.33305193615253303, 0.9429084832713348 L 0.34400645809585395, 0.9389672820649 L 0.3549143552553023, 0.9348988182866171 L 0.36577414923320417, 0.9307036433541698 L 0.3765843681515312, 0.92638232585899 L 0.38734354685139244, 0.9219354514891935 L 0.3980502270916136, 0.917363622950199 L 0.40870295774637827, 0.912667459883041 L 0.41930029500190713, 0.9078475987803865 L 0.4298408025521442, 0.9029046929002688 L 0.4403230517934251, 0.8978394121775478 L 0.45074562201810386, 0.8926524431331114 L 0.4611071006071069, 0.8873444887808272 L 0.4714060832213924, 0.8819162685322602 L 0.481641173992286, 0.8763685180991684 L 0.49181098571067056, 0.8707019893937872 L 0.5019141400150003, 0.8649174504269195 L 0.5119492675781161, 0.8590156852038445 L 0.5219150082928375, 0.8529974936180571 L 0.5318100114563047, 0.8468636913428542 L 0.5416329359530435, 0.8406151097207843 L 0.5513824504367354, 0.8342525956509701 L 0.5610572335106597, 0.8277770114743251 L 0.5706559739067885, 0.8211892348566772 L 0.5801773706635092, 0.814490158669813 L 0.5896201333019501, 0.8076806908704643 L 0.5989829820008847, 0.8007617543772478 L 0.6082646477701915, 0.7937342869455778 L 0.6174638726228463, 0.7865992410405679 L 0.6265794097454236, 0.7793575837079386 L 0.6356100236670815, 0.7720102964429503 L 0.6445544904270126, 0.7645583750573752 L 0.6534115977403316, 0.7570028295445315 L 0.6621801451623828, 0.7493446839423935 L 0.670858944251441, 0.7415849761947999 L 0.6794468187297876, 0.7337247580107755 L 0.6879426046431361, 0.725765094721989 L 0.6963451505183882, 0.7177070651383636 L 0.7046533175196993, 0.7095517614018598 L 0.7128659796028287, 0.7013002888384543 L 0.7209820236677584, 0.6929537658083286 L 0.7290003497095571, 0.6845133235542925 L 0.7369198709674678, 0.6759801060484625 L 0.7447395140722025, 0.6673552698372132 L 0.7524582191914205, 0.6586399838844254 L 0.7600749401733724, 0.649835429413051 L 0.7675886446886897, 0.6409427997450167 L 0.7749983143703014, 0.6319633001394871 L 0.7823029449514582, 0.6228981476295106 L 0.7895015464018451, 0.6137485708570695 L 0.7965931430617643, 0.6045158099065562 L 0.8035767737743721, 0.5952011161366985 L 0.8104514920159478, 0.5858057520109581 L 0.817216366024181, 0.5763309909264223 L 0.8238704789244574, 0.566778117041215 L 0.8304129288541274, 0.5571484251004483 L 0.8368428290847393, 0.5474432202607408 L 0.8431593081422215, 0.5376638179133224 L 0.8493615099249985, 0.5278115435057543 L 0.8554485938200209, 0.5178877323622841 L 0.8614197348166988, 0.507893729502864 L 0.8672741236187181, 0.49783088946085335 L 0.8730109667537295, 0.48770057609943285 L 0.8786294866808902, 0.4775041624267535 L 0.8841289218962485, 0.46724303040984716 L 0.8895085270359534, 0.45691857078732145 L 0.8947675729772777, 0.44653218288086693 L 0.8999053469374388, 0.43608527440560046 L 0.9049211525702059, 0.4255792612792711 L 0.9098143100602788, 0.4150155674303541 L 0.9145841562154265, 0.4043956246050595 L 0.9192300445563727, 0.3937208721732809 L 0.9237513454044161, 0.3829927569335108 L 1.0161264799448577 ,0.42129203262686193\",\"type\":\"path\"},{\"fillcolor\":\"rgba(253,174,97,0.75)\",\"layer\":\"below\",\"line\":{\"color\":\"rgb(150,150,150)\",\"width\":0.45},\"path\":\"M 0.027721297374290556, 1.0996506398269799 L 0.02172964050761886, 1.099785353022766 L 0.015737338610043717, 1.0998874197723478 L 0.009744569559331237, 1.0999568370459378 L 0.003751511247113961, 1.0999936027829267 L -0.002241658426388293, 1.0999977158919467 L -0.00823476155765026, 1.0999691762509025 L -0.014227620245121695, 1.0999079847069757 L -0.020220056594509254, 1.0998141430765995 L -0.02621189272405569, 1.0996876541454044 L -0.03220295076982117, 1.099528521668136 L -0.03819305289096255, 1.0993367503685432 L -0.04418202127501344, 1.0991123459392376 L -0.050169678143160985, 1.0988553150415263 L -0.05615584575552416, 1.0985656653052116 L -0.062140346416429515, 1.0982434053283663 L -0.06812300247968582, 1.0978885446770783 L -0.07410363635385829, 1.0975010938851657 L -0.08008207050753886, 1.097081064453865 L -0.08605812747461701, 1.0966284688514896 L -0.09203162985954733, 1.0961433205130593 L -0.0980024003426163, 1.0956256338399013 L -0.1039702616852045, 1.095075424199224 L -0.10993503673504873, 1.0944927079236588 L -0.11589654843150059, 1.0938775023107776 L -0.12185461981078194, 1.093229825622577 L -0.12780907401123912, 1.092549697084938 L -0.1337597342785914, 1.0918371368870545 L -0.13970642397117866, 1.0910921661808344 L -0.14564896656520554, 1.0903148070802706 L -0.15158718565998, 1.0895050826607864 L -0.15752090498315058, 1.0886630169585487 L -0.16344994839593882, 1.087788634969756 L -0.16937413989836753, 1.0868819626498953 L -0.17529330363448611, 1.0859430269129722 L -0.18120726389758945, 1.0849718556307115 L -0.1871158451354345, 1.0839684776317309 L -0.19301887195545103, 1.0829329227006839 L -0.19891616912994892, 1.0818652215773763 L -0.20480756160131838, 1.0807654059558542 L -0.21069287448722723, 1.079633508483462 L -0.21657193308581213, 1.0784695627598744 L -0.22244456288086406, 1.0772736033360986 L -0.22831058954700972, 1.0760456657134478 L -0.23416983895488497, 1.0747857863424894 L -0.2400221371763046, 1.0734940026219613 L -0.24586731048942478, 1.072170352897662 L -0.2517051853839009, 1.0708148764613128 L -0.2575355885660367, 1.0694276135493908 L -0.26335834696392924, 1.068008605341936 L -0.26917328773260635, 1.0665578939613263 L -0.27498023825915696, 1.06507552247103 L -0.28077902616785627, 1.0635615348743253 L -0.2865694793252809, 1.062015976112995 L -0.29235142584541934, 1.0604388920659928 L -0.29812469409477516, 1.0588303295480805 L -0.3038891126974604, 1.0571903363084392 L -0.3096445105402833, 1.0555189610292506 L -0.31539071677782804, 1.0538162533242539 L -0.3211275608375257, 1.0520822637372713 L -0.32685487242471783, 1.0503170437407086 L -0.33257248152771196, 1.0485206457340266 L -0.3382802184228273, 1.0466931230421859 L -0.3439779136794333, 1.0448345299140647 L -0.34966539816498005, 1.0429449215208473 L -0.3553425030500173, 1.0410243539543869 L -0.36100905981320697, 1.039072884225541 L -0.36666490024632564, 1.0370905702624782 L -0.3723098564592569, 1.0350774709089594 L -0.37794376088497683, 1.0330336459225902 L -0.38356644628452585, 1.0309591559730484 L -0.3891777457519748, 1.0288540626402811 L -0.39477749271937823, 1.026718428412679 L -0.40036552096172057, 1.0245523166852195 L -0.4059416646018484, 1.022355791757586 L -0.4115057581153956, 1.020128918832259 L -0.41705763633569676, 1.0178717640125803 L -0.4225971344586894, 1.015584394300791 L -0.4281240880478074, 1.0132668775960425 L -0.4336383330388606, 1.0109192826923812 L -0.43913970574490585, 1.008541679276706 L -0.44462804286110613, 1.0061341379266993 L -0.45010318146957756, 1.0036967301087338 L -0.45556495904422567, 1.001229528175749 L -0.4610132134555701, 0.9987326053651042 L -0.46644778297555733, 0.9962060357964047 L -0.4718685062823612, 0.9936498944693013 L -0.4772752224651714, 0.9910642572612642 L -0.4826677710289718, 0.9884492009253305 L -0.48804599189930176, 0.9858048030878258 L -0.49340972542701006, 0.98313114224606 L -0.49875881239299297, 0.9804282977659975 L -0.504093094012921, 0.9776963498799004 L -0.5094124119419523, 0.9749353796839475 L -0.5147166082794326, 0.972145469135827 L -0.5200055255735828, 0.9693267010523037 L -0.5252790068261731, 0.9664791591067597 L -0.5305368954971821, 0.9636029278267124 L -0.5357790355094459, 0.9606980925913031 L -0.5410052712532888, 0.9577647396287648 L -0.4918229738666261, 0.8706952178443316 L -0.4870718504631326, 0.8733619023557301 L -0.4823062686338019, 0.8760026616606476 L -0.47752636984197555, 0.8786174173697815 L -0.4727322959759844, 0.8812060918657305 L -0.4679241893449386, 0.8837686083052972 L -0.46310219267450203, 0.8863048906217704 L -0.45826644910265546, 0.8888148635271821 L -0.4534171021754481, 0.8912984525145431 L -0.4485542958427364, 0.8937555838600545 L -0.44367817445391067, 0.8961861846252961 L -0.43878888275361067, 0.8985901826593913 L -0.4338865658774285, 0.9009675066011492 L -0.42897136934760105, 0.9033180858811829 L -0.42404343906868847, 0.9056418507240042 L -0.4191029213232455, 0.9079387321500947 L -0.41414996276747784, 0.9102086619779537 L -0.40918471042688864, 0.9124515728261217 L -0.40420731169191465, 0.9146673981151812 L -0.39921791431355075, 0.9168560720697325 L -0.3942166663989642, 0.9190175297203464 L -0.3892037164070976, 0.9211517069054932 L -0.38417921314426307, 0.9232585402734463 L -0.37914330575972427, 0.9253379672841638 L -0.3740961437412687, 0.9273899262111445 L -0.3690378769107712, 0.92941435614326 L -0.36396865541974593, 0.931411196986563 L -0.3588886297448893, 0.9333803894660717 L -0.3537979506836134, 0.9353218751275282 L -0.34869676934956895, 0.9372355963391348 L -0.34358523716816075, 0.9391214962932638 L -0.3384635058720517, 0.9409795190081448 L -0.3333317274966596, 0.9428096093295256 L -0.3281900543756427, 0.9446117129323099 L -0.3230386391363793, 0.9463857763221698 L -0.3178776346954364, 0.9481317468371337 L -0.31270719425403026, 0.9498495726491496 L -0.30752747129347935, 0.9515392027656234 L -0.3023386195706472, 0.9532005870309331 L -0.2971407931133798, 0.9548336761279168 L -0.29193414621593244, 0.9564384215793376 L -0.2867188334343891, 0.9580147757493217 L -0.2814950095820757, 0.9595626918447732 L -0.27626282972496397, 0.9610821239167627 L -0.2710224491770683, 0.9625730268618914 L -0.26577402349583573, 0.9640353564236298 L -0.26051770847752803, 0.9654690691936317 L -0.2552536601525966, 0.9668741226130229 L -0.24998203478105177, 0.9682504749736636 L -0.24470298884782393, 0.9695980854193874 L -0.23941667905811748, 0.9709169139472144 L -0.23412326233276062, 0.972206921408537 L -0.22882289580354626, 0.9734680695102842 L -0.22351573680856796, 0.9747003208160563 L -0.21820194288754963, 0.9759036387472374 L -0.21288167177716813, 0.9770779875840813 L -0.20755508140637247, 0.9782233324667706 L -0.20222232989169459, 0.9793396393964531 L -0.19688357553255648, 0.9804268752362494 L -0.1915389768065702, 0.9814850077122381 L -0.18618869236483487, 0.9825140054144128 L -0.18083288102722628, 0.9835138377976148 L -0.17547170177768273, 0.9844844751824399 L -0.1701053137594859, 0.9854258887561189 L -0.16473387627053585, 0.9863380505733741 L -0.15935754875862373, 0.9872209335572473 L -0.15397649081669773, 0.9880745114999048 L -0.1485908621781262, 0.9888987590634145 L -0.14320082271195506, 0.9896936517804988 L -0.13780653241816362, 0.9904591660552603 L -0.13240815142291412, 0.9911952791638824 L -0.12700583997379877, 0.9919019692553039 L -0.12159975843508308, 0.9925792153518678 L -0.11619006728294463, 0.9932269973499436 L -0.11077692710071084, 0.9938452960205244 L -0.10536049857409144, 0.9944340930097977 L -0.09994094248640793, 0.9949933708396899 L -0.09451841971382226, 0.9955231129083854 L -0.08909309122056026, 0.9960233034908194 L -0.08366511805413393, 0.9964939277391448 L -0.07823466134056091, 0.9969349716831724 L -0.07280188227958077, 0.9973464222307864 L -0.06736694213987117, 0.9977282671683324 L -0.06193000225425983, 0.9980804951609802 L -0.05649122401493592, 0.9984030957530602 L -0.05105076886865832, 0.998696059368374 L -0.04560879831196453, 0.9989593773104783 L -0.04016547388637585, 0.9991930417629432 L -0.03472095717360232, 0.9993970457895845 L -0.02927540979074652, 0.999571383334669 L -0.023828993385505173, 0.9997160492230949 L -0.018381869631372047, 0.9998310391605449 L -0.012934200222837904, 0.9999163497336142 L -0.007486146870591145, 0.9999719784099113 L -0.0020378712967166297, 0.9999979235381332 L 0.003410464770103601, 0.999994184348115 L 0.008858699599392034, 0.9999607609508524 L 0.014306671463676104, 0.999897654338498 L 0.019754218643289873, 0.9998048663843325 L 0.02520117943117323, 0.9996823998427089 L 0.027721297374290556 ,1.0996506398269799\",\"type\":\"path\"},{\"fillcolor\":\"rgba(254,224,139,0.75)\",\"layer\":\"below\",\"line\":{\"color\":\"rgb(150,150,150)\",\"width\":0.45},\"path\":\"M -0.5410058730345159, 0.9577643997049387 L -0.5445265669170704, 0.9557671358241553 L -0.5480398874830977, 0.9537569301072018 L -0.5515457871594825, 0.9517338097738395 L -0.5550442184735959, 0.9496978022187034 L -0.5585351340539356, 0.9476489350109313 L -0.5620184866307681, 0.9455872358937917 L -0.5654942290367693, 0.9435127327843065 L -0.5689623142076633, 0.9414254537728733 L -0.5724226951828575, 0.9393254271228867 L -0.5758753251060819, 0.9372126812703532 L -0.5793201572260205, 0.9350872448235078 L -0.5827571448969467, 0.9329491465624261 L -0.5861862415793538, 0.9307984154386338 L -0.5896074008405839, 0.928635080574717 L -0.5930205763554597, 0.9264591712639249 L -0.5964257219069097, 0.9242707169697749 L -0.5998227913865933, 0.922069747325654 L -0.6032117387955275, 0.9198562921344161 L -0.6065925182447084, 0.9176303813679795 L -0.6099650839557316, 0.9153920451669205 L -0.6133293902614141, 0.9131413138400661 L -0.616685391606412, 0.9108782178640822 L -0.620033042547836, 0.9086027878830626 L -0.6233722977558689, 0.9063150547081122 L -0.6267031120143772, 0.9040150493169321 L -0.6300254402215253, 0.9017028028533977 L -0.6333392373903856, 0.8993783466271383 L -0.6366444586495464, 0.8970417121131137 L -0.6399410592437214, 0.8946929309511862 L -0.6432289945343549, 0.8923320349456939 L -0.6465082200002252, 0.8899590560650196 L -0.6497786912380497, 0.8875740264411569 L -0.6530403639630846, 0.8851769783692763 L -0.656293194009724, 0.8827679443072879 L -0.6595371373320996, 0.8803469568754011 L -0.6627721500046766, 0.877914048855683 L -0.6659981882228472, 0.8754692531916156 L -0.6692152083035253, 0.8730126029876484 L -0.6724231666857383, 0.8705441315087502 L -0.6756220199312138, 0.8680638721799604 L -0.6788117247249726, 0.865571858585934 L -0.6819922378759116, 0.8630681244704882 L -0.6851635163173891, 0.8605527037361459 L -0.6883255171078102, 0.858025630443675 L -0.6914781974312049, 0.8554869388116291 L -0.6946215145978107, 0.8529366632158825 L -0.6977554260446499, 0.8503748381891655 L -0.7008798893361042, 0.8478014984205975 L -0.7039948621644923, 0.8452166787552159 L -0.7071003023506406, 0.8426204141935044 L -0.7101961678444542, 0.8400127398909211 L -0.713282416725488, 0.8373936911574195 L -0.7163590072035135, 0.8347633034569718 L -0.7194258976190836, 0.8321216124070904 L -0.7224830464440983, 0.8294686537783421 L -0.7255304122823667, 0.8268044634938657 L -0.728567953870166, 0.8241290776288869 L -0.7315956300768031, 0.8214425324102264 L -0.734613399905168, 0.8187448642158129 L -0.7376212224922922, 0.8160361095741882 L -0.7406190571099011, 0.8133163051640127 L -0.7436068631649629, 0.8105854878135706 L -0.7465846002002424, 0.8078436945002693 L -0.7495522278948464, 0.8050909623501388 L -0.7525097060647691, 0.8023273286373305 L -0.7554569946634384, 0.7995528307836111 L -0.7583940537822567, 0.7967675063578556 L -0.7613208436511408, 0.793971393075541 L -0.7642373246390622, 0.7911645287982322 L -0.7671434572545827, 0.7883469515330713 L -0.7700392021463878, 0.7855186994322635 L -0.7729245201038225, 0.7826798107925588 L -0.7757993720574206, 0.7798303240547344 L -0.7786637190794322, 0.7769702778030748 L -0.781517522384354, 0.7740997107648477 L -0.7843607433294529, 0.7712186618097804 L -0.7871933434152878, 0.7683271699495345 L -0.790015284286234, 0.765425274337176 L -0.7928265277309996, 0.7625130142666462 L -0.7956270356831452, 0.7595904291722292 L -0.7984167702215984, 0.7566575586280174 L -0.801195693571166, 0.7537144423473776 L -0.8039637681030483, 0.7507611201824107 L -0.8067209563353466, 0.7477976321234135 L -0.8094672209335704, 0.7448240182983378 L -0.8122025247111448, 0.7418403189722451 L -0.8149268306299132, 0.7388465745467627 L -0.8176401018006373, 0.7358428255595373 L -0.8203423014834993, 0.7328291126836841 L -0.8230333930885969, 0.7298054767272382 L -0.8257133401764407, 0.7267719586326 L -0.8283821064584469, 0.7237285994759821 L -0.8310396557974276, 0.7206754404668535 L -0.8336859522080818, 0.7176125229473801 L -0.8363209598574824, 0.7145398883918653 L -0.8389446430655599, 0.7114575784061904 L -0.8415569663055873, 0.7083656347272479 L -0.8441578942046608, 0.7052640992223785 L -0.8467473915441771, 0.7021530138888049 L -0.7697703559492518, 0.6383209217170953 L -0.7674162674587824, 0.6411491811112532 L -0.7650517875505338, 0.6439687588429526 L -0.7626769482414181, 0.6467796167329003 L -0.7602917816886203, 0.6495817167198775 L -0.7578963201891652, 0.6523750208612545 L -0.7554905961794796, 0.6551594913335032 L -0.7530746422349517, 0.6579350904327109 L -0.7506484910694915, 0.6607017805750909 L -0.748212175535088, 0.6634595242974892 L -0.7457657286213629, 0.6662082842578946 L -0.7433091834551248, 0.6689480232359429 L -0.7408425732999211, 0.6716787041334206 L -0.7383659315555862, 0.6744002899747682 L -0.7358792917577912, 0.6771127439075797 L -0.7333826875775877, 0.6798160292031031 L -0.7308761528209529, 0.6825101092567369 L -0.7283597214283327, 0.6851949475885251 L -0.7258334274741803, 0.6878705078436521 L -0.7232973051664956, 0.6905367537929356 L -0.7207513888463633, 0.6931936493333146 L -0.7181957129874854, 0.6958411584883417 L -0.7156303121957162, 0.6984792454086677 L -0.7130552212085935, 0.7011078743725275 L -0.7104704748948673, 0.7037270097862252 L -0.7078761082540292, 0.7063366161846134 L -0.7052721564158368, 0.7089366582315767 L -0.7026586546398386, 0.711527100720508 L -0.7000356383148979, 0.7141079085747849 L -0.6974031429587114, 0.7166790468482466 L -0.6947612042173292, 0.7192404807256656 L -0.6921098578646734, 0.7217921755232191 L -0.6894491398020515, 0.7243340966889596 L -0.6867790860576712, 0.7268662098032828 L -0.6840997327861537, 0.7293884805793913 L -0.6814111162680422, 0.7319008748637624 L -0.6787132729093113, 0.7344033586366083 L -0.6760062392408753, 0.7368958980123369 L -0.6732900519180918, 0.7393784592400114 L -0.6705647477202656, 0.7418510087038074 L -0.6678303635501527, 0.7443135129234663 L -0.6650869364334573, 0.7467659385547512 L -0.6623345035183327, 0.7492082523898971 L -0.6595731020748787, 0.7516404213580596 L -0.6568027694946348, 0.7540624125257654 L -0.654023543290076, 0.7564741930973549 L -0.6512354610941031, 0.7588757304154289 L -0.6484385606595344, 0.7612669919612903 L -0.6456328798585946, 0.7636479453553827 L -0.6428184566824005, 0.7660185583577312 L -0.6399953292404474, 0.768378798868378 L -0.6371635357600947, 0.7707286349278158 L -0.6343231145860453, 0.7730680347174231 L -0.6314741041798279, 0.7753969665598931 L -0.6286165431192771, 0.7777153989196627 L -0.6257504700980092, 0.7800233004033408 L -0.6228759239248992, 0.7823206397601326 L -0.6199929435235559, 0.784607385882262 L -0.6171015679317933, 0.7868835078053945 L -0.6142018363011035, 0.7891489747090549 L -0.6112937878961257, 0.7914037559170456 L -0.6083774620941139, 0.7936478208978621 L -0.6054528983844065, 0.7958811392651051 L -0.6025201363678878, 0.7981036807778936 L -0.5995792157564541, 0.8003154153412737 L -0.5966301763724763, 0.8025163130066253 L -0.5936730581482587, 0.8047063439720693 L -0.5907079011254996, 0.8068854785828699 L -0.5877347454547501, 0.8090536873318359 L -0.584753631394868, 0.8112109408597217 L -0.5817645993124739, 0.8133572099556238 L -0.5787676896814058, 0.815492465557376 L -0.5757629430821687, 0.8176166787519439 L -0.5727504002013866, 0.819729820775816 L -0.569730101831252, 0.8218318630153928 L -0.5667020888689717, 0.8239227770073747 L -0.5636664023162145, 0.8260025344391477 L -0.5606230832785564, 0.8280711071491655 L -0.5575721729649219, 0.8301284671273328 L -0.5545137126870286, 0.8321745865153822 L -0.5514477438588258, 0.834209437607254 L -0.548374307995934, 0.8362329928494692 L -0.5452934467150848, 0.8382452248415037 L -0.5422052017335542, 0.8402461063361589 L -0.5391096148685997, 0.8422356102399317 L -0.5360067280368944, 0.844213709613379 L -0.532896583253958, 0.8461803776714852 L -0.5297792226335879, 0.8481355877840236 L -0.5266546883872913, 0.8500793134759161 L -0.5235230228237108, 0.8520115284275938 L -0.5203842683480522, 0.8539322064753515 L -0.517238467461512, 0.855841321611703 L -0.5140856627606993, 0.8577388479857331 L -0.5109258969370619, 0.8596247599034469 L -0.5077592127763051, 0.8614990318281193 L -0.5045856531578143, 0.8633616383806394 L -0.501405261054075, 0.865212554339854 L -0.4982180795300888, 0.8670517546429106 L -0.49502415174279124, 0.8688792143855957 L -0.4918235209404689, 0.8706949088226714 L -0.5410058730345159 ,0.9577643997049387\",\"type\":\"path\"},{\"fillcolor\":\"rgba(255,255,191,0.75)\",\"layer\":\"below\",\"line\":{\"color\":\"rgb(150,150,150)\",\"width\":0.45},\"path\":\"M -0.8467478327197598, 0.7021524818615896 L -0.8475055405255475, 0.7012377334246209 L -0.848262260121789, 0.7003221673294904 L -0.8490179906261324, 0.6994057846437681 L -0.8497727311573807, 0.6984885864359747 L -0.85052648083549, 0.6975705737755837 L -0.8512792387815721, 0.6966517477330171 L -0.8520310041178951, 0.6957321093796459 L -0.8527817759678843, 0.6948116597877882 L -0.8535315534561243, 0.6938904000307075 L -0.8542803357083584, 0.6929683311826123 L -0.8550281218514902, 0.6920454543186548 L -0.8557749110135855, 0.6911217705149288 L -0.8565207023238715, 0.6901972808484703 L -0.8572654949127404, 0.6892719863972526 L -0.8580092879117479, 0.6883458882401895 L -0.8587520804536154, 0.6874189874571311 L -0.859493871672231, 0.6864912851288636 L -0.86023466070265, 0.685562782337108 L -0.8609744466810971, 0.6846334801645176 L -0.8617132287449659, 0.6837033796946791 L -0.8624510060328205, 0.6827724820121092 L -0.8631877776843971, 0.6818407882022547 L -0.8639235428406039, 0.6809082993514908 L -0.8646583006435237, 0.6799750165471184 L -0.8653920502364126, 0.679040940877366 L -0.8661247907637032, 0.6781060734313855 L -0.8668565213710042, 0.6771704152992523 L -0.867587241205102, 0.6762339675719642 L -0.8683169494139622, 0.6752967313414384 L -0.8690456451467292, 0.6743587077005126 L -0.869773327553728, 0.6734198977429428 L -0.8704999957864659, 0.672480302563401 L -0.8712256489976312, 0.6715399232574758 L -0.871950286341098, 0.6705987609216688 L -0.8726739069719229, 0.6696568166533957 L -0.8733965100463493, 0.6687140915509837 L -0.8741180947218063, 0.6677705867136703 L -0.8748386601569106, 0.6668263032416025 L -0.8755582055114678, 0.6658812422358347 L -0.8762767299464729, 0.6649354047983281 L -0.8769942326241106, 0.6639887920319495 L -0.8777107127077577, 0.6630414050404697 L -0.8784261693619828, 0.6620932449285624 L -0.8791406017525487, 0.6611443128018017 L -0.8798540090464119, 0.6601946097666633 L -0.8805663904117239, 0.6592441369305211 L -0.8812777450178327, 0.658292895401647 L -0.8819880720352845, 0.6573408862892084 L -0.8826973706358223, 0.6563881107032682 L -0.8834056399923887, 0.6554345697547835 L -0.8841128792791269, 0.6544802645556033 L -0.8848190876713798, 0.653525196218468 L -0.8855242643456946, 0.6525693658570071 L -0.8862284084798199, 0.6516127745857395 L -0.8869315192527082, 0.6506554235200711 L -0.8876335958445176, 0.6496973137762936 L -0.8883346374366117, 0.6487384464715837 L -0.8890346432115611, 0.6477788227240007 L -0.8897336123531445, 0.6468184436524864 L -0.8904315440463484, 0.6458573103768634 L -0.8911284374773698, 0.6448954240178337 L -0.8918242918336158, 0.6439327856969778 L -0.8925191063037059, 0.6429693965367514 L -0.8932128800774715, 0.6420052576604875 L -0.8939056123459571, 0.6410403701923925 L -0.8945973023014225, 0.6400747352575458 L -0.8952879491373422, 0.6391083539818988 L -0.8959775520484077, 0.6381412274922718 L -0.8966661102305268, 0.6371733569163552 L -0.8973536228808262, 0.636204743382707 L -0.8980400891976515, 0.6352353880207512 L -0.898725508380568, 0.6342652919607772 L -0.8994098796303627, 0.6332944563339368 L -0.9000932021490442, 0.6323228822722455 L -0.9007754751398435, 0.6313505709085797 L -0.9014566978072158, 0.6303775233766747 L -0.9021368693568409, 0.6294037408111255 L -0.9028159889956247, 0.6284292243473822 L -0.9034940559316986, 0.6274539751217526 L -0.9041710693744226, 0.6264779942713977 L -0.904847028534384, 0.6255012829343323 L -0.9055219326234005, 0.6245238422494229 L -0.9061957808545194, 0.6235456733563854 L -0.9068685724420191, 0.6225667773957861 L -0.9075403066014106, 0.6215871555090386 L -0.9082109825494373, 0.6206068088384027 L -0.9088805995040765, 0.6196257385269842 L -0.9095491566845411, 0.6186439457187312 L -0.9102166533112788, 0.6176614315584352 L -0.9108830886059742, 0.616678197191729 L -0.9115484617915499, 0.6156942437650846 L -0.9122127720921659, 0.6147095724258133 L -0.9128760187332231, 0.613724184322062 L -0.9135382009413612, 0.6127380806028145 L -0.9141993179444617, 0.6117512624178892 L -0.9148593689716482, 0.6107637309179367 L -0.9155183532532868, 0.6097754872544405 L -0.916176270020988, 0.6087865325797128 L -0.916833118507607, 0.6077968680468965 L -0.8334846531887335, 0.5525426073153604 L -0.8328875182008981, 0.5534423023451934 L -0.8322894120484424, 0.5543413520494913 L -0.831690335428771, 0.5552397553799424 L -0.8310902890404197, 0.5561375112889901 L -0.8304892735830556, 0.5570346187298314 L -0.8298872897574755, 0.5579310766564199 L -0.8292843382656053, 0.5588268840234666 L -0.8286804198104999, 0.5597220397864405 L -0.8280755350963401, 0.5606165429015718 L -0.8274696848284352, 0.5615103923258502 L -0.8268628697132191, 0.5624035870170283 L -0.8262550904582513, 0.563296125933622 L -0.8256463477722157, 0.5641880080349115 L -0.8250366423649187, 0.5650792322809441 L -0.8244259749472901, 0.5659697976325329 L -0.8238143462313812, 0.5668597030512594 L -0.823201756930364, 0.5677489474994754 L -0.8225882077585309, 0.568637529940302 L -0.8219736994312932, 0.5695254493376343 L -0.8213582326651805, 0.5704127046561387 L -0.8207418081778405, 0.5712992948612565 L -0.8201244266880371, 0.5721852189192049 L -0.8195060889156507, 0.573070475796977 L -0.8188867955816758, 0.5739550644623451 L -0.8182665474082219, 0.5748389838838596 L -0.8176453451185115, 0.5757222330308516 L -0.8170231894368799, 0.5766048108734337 L -0.816400081088774, 0.577486716382501 L -0.8157760208007511, 0.5783679485297336 L -0.8151510093004788, 0.5792485062875956 L -0.8145250473167341, 0.5801283886293379 L -0.8138981355794019, 0.5810075945289989 L -0.813270274819475, 0.5818861229614052 L -0.8126414657690518, 0.582763972902175 L -0.8120117091613376, 0.5836411433277159 L -0.8113810057306416, 0.5845176332152285 L -0.8107493562123779, 0.585393441542707 L -0.8101167613430634, 0.5862685672889397 L -0.8094832218603166, 0.5871430094335122 L -0.8088487385028585, 0.5880167669568058 L -0.80821331201051, 0.5888898388400006 L -0.8075769431241924, 0.5897622240650761 L -0.806939632585925, 0.5906339216148123 L -0.8063013811388255, 0.5915049304727918 L -0.8056621895271089, 0.5923752496233995 L -0.805022058496086, 0.5932448780518246 L -0.8043809887921635, 0.5941138147440618 L -0.8037389811628425, 0.594982058686912 L -0.803096036356717, 0.595849608867985 L -0.8024521551234748, 0.5967164642756984 L -0.8018073382138949, 0.5975826238992803 L -0.8011615863798479, 0.59844808672877 L -0.8005149003742944, 0.5993128517550191 L -0.7998672809512835, 0.6001769179696939 L -0.7992187288659534, 0.6010402843652742 L -0.7985692448745297, 0.6019029499350567 L -0.7979188297343252, 0.6027649136731542 L -0.7972674842037368, 0.6036261745744995 L -0.796615209042248, 0.6044867316348437 L -0.7959620050104252, 0.6053465838507588 L -0.7953078728699187, 0.6062057302196386 L -0.7946528133834603, 0.6070641697397002 L -0.793996827314863, 0.6079219014099851 L -0.7933399154290208, 0.6087789242303597 L -0.7926820784919072, 0.609635237201517 L -0.7920233172705737, 0.6104908393249779 L -0.7913636325331507, 0.6113457296030917 L -0.7907030250488436, 0.6121999070390388 L -0.7900414955879356, 0.6130533706368296 L -0.7893790449217838, 0.6139061194013076 L -0.7887156738228199, 0.6147581523381492 L -0.7880513830645492, 0.6156094684538657 L -0.7873861734215483, 0.616460066755805 L -0.786720045669466, 0.6173099462521509 L -0.7860530005850215, 0.6181591059519258 L -0.7853850389460035, 0.6190075448649915 L -0.7847161615312701, 0.6198552620020497 L -0.7840463691207459, 0.6207022563746446 L -0.7833756624954235, 0.6215485269951627 L -0.7827040424373609, 0.6223940728768341 L -0.7820315097296817, 0.6232388930337345 L -0.7813580651565736, 0.6240829864807851 L -0.7806837095032867, 0.6249263522337556 L -0.7800084435561344, 0.6257689893092632 L -0.7793322681024912, 0.6266108967247751 L -0.7786551839307921, 0.6274520734986093 L -0.7779771918305322, 0.6282925186499353 L -0.7772982925922638, 0.629132231198777 L -0.7766184870075985, 0.6299712101660111 L -0.7759377758692039, 0.6308094545733703 L -0.7752561599708039, 0.6316469634434438 L -0.7745736401071773, 0.6324837357996781 L -0.7738902170741564, 0.6333197706663791 L -0.7732058916686272, 0.6341550670687124 L -0.7725206646885279, 0.6349896240327042 L -0.7718345369328475, 0.6358234405852436 L -0.7711475092016262, 0.6366565157540821 L -0.7704595822959522, 0.6374888485678372 L -0.7697707570179634, 0.6383204380559905 L -0.8467478327197598 ,0.7021524818615896\",\"type\":\"path\"},{\"fillcolor\":\"rgba(230,245,152,0.75)\",\"layer\":\"below\",\"line\":{\"color\":\"rgb(150,150,150)\",\"width\":0.45},\"path\":\"M -0.916833500397461, 0.6077962919835387 L -0.9216467433321074, 0.6004725476700169 L -0.9264014849009573, 0.5931106884665809 L -0.9310974232976215, 0.5857111816659556 L -0.9357342604482322, 0.5782744969505401 L -0.9403117020303615, 0.570801106362597 L -0.9448294574917064, 0.5632914842742857 L -0.9492872400685294, 0.5557461073575545 L -0.953684766803861, 0.5481654545538831 L -0.9580217585654613, 0.5405500070438823 L -0.9622979400635367, 0.5329002482167503 L -0.9665130398682149, 0.5252166636395905 L -0.9706667904267732, 0.5174997410265892 L -0.9747589280806214, 0.5097499702080602 L -0.9787891930820378, 0.5019678430993498 L -0.9827573296106566, 0.4941538536696151 L -0.986663085789706, 0.48630849791046793 L -0.9905062137019954, 0.47843227380449255 L -0.9942864694056535, 0.47052568129363637 L -0.9980036129496105, 0.46258922224747573 L -1.00165740838883, 0.4546234004313596 L -1.0052476237992862, 0.4466287214744353 L -1.0087740312926838, 0.4386056928375503 L -1.012236407030924, 0.43055482378104387 L -1.0156345312403126, 0.42247662533242103 L -1.0189681882255097, 0.4143716102539149 L -1.0222371663832217, 0.4062402930099397 L -1.025441258215632, 0.3980831897344345 L -1.0285802603435716, 0.38990081819810374 L -1.03165397351943, 0.3816936977755486 L -1.0346622026398005, 0.3734623494123022 L -1.0376047567578666, 0.3652072955917618 L -1.0404814490955203, 0.35692906030202465 L -1.0432920970552186, 0.34862816900262733 L -1.0460365222315742, 0.34030514859119293 L -1.0487145504226787, 0.3319605273699857 L -1.0513260116411616, 0.3235948350123785 L -1.0538707401249785, 0.31520860252923 L -1.0563485743479346, 0.3068023622351797 L -1.0587593570299356, 0.2983766477148598 L -1.0611029351469727, 0.2899319937890254 L -1.0633791599408353, 0.2814689364806066 L -1.065587886928552, 0.2729880129806865 L -1.0677289759115645, 0.2644897616144 L -1.0698022909846234, 0.255974721806766 L -1.0718077005444178, 0.24744343404844654 L -1.0737450772979262, 0.2388964398614396 L -1.0756142982704986, 0.23033428176470594 L -1.0774152448136605, 0.22175750323973287 L -1.0791478026126453, 0.21316664869603677 L -1.0808118616936495, 0.2045622634366065 L -1.0824073164308143, 0.19594489362329195 L -1.0839340655529293, 0.18731508624213405 L -1.0853920121498613, 0.1786733890686466 L -1.0867810636787045, 0.17002035063304588 L -1.0881011319696567, 0.16135652018543273 L -1.0893521332316138, 0.15268244766092867 L -1.0905339880574898, 0.14399868364477073 L -1.0916466214292562, 0.1353057793373601 L -1.0926899627227042, 0.126604286519277 L -1.0936639457119282, 0.11789475751625572 L -1.094568508573528, 0.1091777451641261 L -1.0954035938905342, 0.10045380277372216 L -1.0961691486560525, 0.09172348409576096 L -1.096865124276628, 0.08298734328569327 L -1.0974914765753303, 0.07424593486852814 L -1.0980481657945562, 0.06549981370363661 L -1.0985351565985553, 0.05674953494952904 L -1.0989524180756716, 0.047995654028618544 L -1.0992999237403054, 0.039238726591965124 L -1.0995776515345959, 0.030479308484005867 L -1.0997855838298196, 0.021717955707272266 L -1.0999237074275108, 0.01295522438710006 L -1.0999920135602979, 0.0041916707363263235 L -1.0999904978924613, -0.004572148980014095 L -1.0999191605202077, -0.013335678479997877 L -1.0997780059716642, -0.022098361500123134 L -1.0995670432065914, -0.03085964183061815 L -1.0992862856158137, -0.039618963350746675 L -1.09893575102037, -0.04837577006410762 L -1.0985154616703825, -0.05712950613392678 L -1.0980254442436443, -0.06587961591833905 L -1.0974657298439254, -0.07462554400565566 L -1.096836353999, -0.0833667352496218 L -1.0961373566583894, -0.09210263480465249 L -1.0953687821908273, -0.10083268816105173 L -1.094530679381444, -0.10955634118021053 L -1.0936231014286686, -0.11827304012977864 L -1.0926461059408528, -0.1269822317188157 L -1.0915997549326142, -0.13568336313290916 L -1.0904841148209001, -0.14437588206926474 L -1.0892992564207713, -0.1530592367717637 L -1.0880452549409076, -0.16173287606598535 L -1.0867221899788337, -0.1703962493941929 L -1.0853301455158662, -0.17904880685027996 L -1.0838692099117841, -0.1876899992146757 L -1.0823394758992193, -0.196319277989207 L -1.0807410405777707, -0.20493609543191235 L -1.0790740054078403, -0.21353990459181252 L -1.0773384762041944, -0.2221301593436262 L -0.9793986147310857, -0.20193650849420564 L -0.9809763685525821, -0.19412718599255682 L -0.9824918550707005, -0.1863055413017385 L -0.9839449780901992, -0.17847207089927908 L -0.9853356453743491, -0.17062727201334152 L -0.9866637686507874, -0.16277164259116358 L -0.9879292636171214, -0.15490568126744808 L -0.9891320499462797, -0.14702988733271394 L -0.9902720512916102, -0.13914476070160334 L -0.9913491952917273, -0.13125080188114976 L -0.9923634135751037, -0.12334851193900831 L -0.9933146417644115, -0.11543839247165062 L -0.9942028194806077, -0.10752094557252603 L -0.9950278903467672, -0.09959667380019138 L -0.9957898019916612, -0.09166608014641066 L -0.9964885060530811, -0.08372966800422953 L -0.997123958180909, -0.07578794113601982 L -0.9976961180399322, -0.06784140364150514 L -0.9982049493124038, -0.05989055992576277 L -0.9986504197003477, -0.051935914667206165 L -0.9990325009276091, -0.04397797278555238 L -0.9993511687416488, -0.036017239409769704 L -0.9996064029150831, -0.028054219846016498 L -0.9997981872469675, -0.020089419545566485 L -0.999926509563825, -0.01212334407272534 L -0.9999913617204192, -0.004156499072740086 L -0.9999927396002707, 0.003810609760296657 L -0.9999306431159187, 0.011777476715545509 L -0.9998050762089268, 0.01974359609752024 L -0.9996160468496325, 0.02770846225818715 L -0.9993635670366412, 0.0356715696290592 L -0.9990476527960649, 0.04363241275328958 L -0.9986683241805048, 0.05159048631775367 L -0.9982256052677783, 0.05954528518512419 L -0.997719524159391, 0.06749630442593467 L -0.9971501129787527, 0.07544303935063024 L -0.9965174078691386, 0.08338498554160087 L -0.9958214489913946, 0.09132163888520196 L -0.995062280521389, 0.09925249560375099 L -0.9942399506472074, 0.1071770522875052 L -0.9933545115660948, 0.11509480592661545 L -0.9924060194811419, 0.12300525394305463 L -0.991394534597718, 0.13090789422251883 L -0.990320121119649, 0.13880222514629878 L -0.9891828472451424, 0.14668774562312065 L -0.9879827851624585, 0.15456395512095078 L -0.9867200110453282, 0.16243035369876963 L -0.9853946050481175, 0.17028644203830368 L -0.9840066513007402, 0.17813172147571996 L -0.9825562379033177, 0.18596569403327862 L -0.9810434569205865, 0.1937878624509425 L -0.979468404376055, 0.20159773021793895 L -0.9778311802459078, 0.20939480160427812 L -0.9761318884526602, 0.2171785816922178 L -0.9743706368585615, 0.22494857640767865 L -0.9725475372587485, 0.23270429255160546 L -0.9706627053741493, 0.24044523783127275 L -0.9687162608441382, 0.24817092089153314 L -0.9667083272189411, 0.25588085134600597 L -0.9646390319517933, 0.2635745398082049 L -0.9625085063908505, 0.2712514979225998 L -0.9603168857708495, 0.2789112383956179 L -0.9580643092045259, 0.2865532750265727 L -0.9557509196737831, 0.2941771227385259 L -0.9533768640206169, 0.3017822976090779 L -0.9509422929377945, 0.30936831690108446 L -0.9484473609592896, 0.3169346990932975 L -0.945892226450473, 0.32448096391093145 L -0.9432770515980605, 0.3320066323561471 L -0.9406020023998186, 0.3395112267384565 L -0.937867248654027, 0.3469942707050442 L -0.9350729639487013, 0.3544552892710034 L -0.9322193256505744, 0.3618938088494859 L -0.9293065148938379, 0.36930935728176334 L -0.9263347165686452, 0.37670146386719533 L -0.923304119309375, 0.38406965939311 L -0.9202149154826581, 0.39141347616458533 L -0.9170673011751671, 0.3987324480341366 L -0.9138614761811693, 0.40602611043130477 L -0.9105976439898456, 0.4132940003921451 L -0.907276011772373, 0.42053565658861425 L -0.9038967903687758, 0.4277506193578512 L -0.9004601942745413, 0.43493843073135685 L -0.8969664416270053, 0.4420986344640617 L -0.893415754191506, 0.44923077606328643 L -0.889808357347307, 0.45633440281759075 L -0.886144480073292, 0.4634090638255092 L -0.8824243549334301, 0.470454310024172 L -0.8786482180620134, 0.4774696942178095 L -0.8748163091486697, 0.4844547711061366 L -0.8709288714231466, 0.4914090973126202 L -0.8669861516398736, 0.498332231412621 L -0.8629884000622994, 0.5052237339614131 L -0.8589358704470058, 0.5120831675220778 L -0.8548288200276013, 0.5189100966932699 L -0.8506675094983928, 0.5257040881368547 L -0.8464522029978376, 0.5324647106054141 L -0.8421831680917793, 0.5391915349696189 L -0.8378606757564612, 0.5458841342454699 L -0.8334850003613281, 0.5525420836213988 L -0.916833500397461 ,0.6077962919835387\",\"type\":\"path\"},{\"fillcolor\":\"rgba(171,221,164,0.75)\",\"layer\":\"below\",\"line\":{\"color\":\"rgb(150,150,150)\",\"width\":0.45},\"path\":\"M -1.0773383366354863, -0.22213083625531063 L -1.0728199527554534, -0.24301717834298667 L -1.0678966856688532, -0.2638118055309106 L -1.0625703934210726, -0.28450686990824475 L -1.056843086159555, -0.3050945611392433 L -1.0507169253751665, -0.3255671094108818 L -1.044194223086448, -0.3459167883651925 L -1.0372774409670584, -0.3661359180151963 L -1.0299691894167362, -0.38621686764333785 L -1.022272226576131, -0.40615205868132664 L -1.0141894572858807, -0.4259339675702927 L -1.005723931990321, -0.44555512860018576 L -0.9968788455862456, -0.465008136727342 L -0.9876575362171486, -0.4842856503691515 L -0.978063484013406, -0.5033803941747812 L -0.9681003097788728, -0.5222851617708957 L -0.9577717736243873, -0.5409928184813506 L -0.9470817735487013, -0.559496304019827 L -0.9360343439673736, -0.5777886351543865 L -0.924633654190177, -0.5958629083429512 L -0.9128840068475964, -0.6137123023387081 L -0.9007898362670136, -0.63133008076445 L -0.888355706799188, -0.6487095946548929 L -0.8755863110956646, -0.6658442849660017 L -0.8624864683377664, -0.6827276850503772 L -0.8490611224178279, -0.699353423097777 L -0.8353153400733678, -0.7157152245398402 L -0.8212543089748973, -0.7318069144181163 L -0.8068833357680881, -0.7476224197144993 L -0.7922078440710394, -0.7631557716431919 L -0.7772333724274012, -0.7784011079033282 L -0.7619655722161205, -0.793352674891413 L -0.7464102055186085, -0.8080048298727358 L -0.730573142944124, -0.8223520431109445 L -0.714460361414201, -0.8363888999549728 L -0.698077941906954, -0.8501101028825334 L -0.6814320671621081, -0.8635104734994107 L -0.6645290193476321, -0.876584954493787 L -0.6473751776888399, -0.8893286115448794 L -0.6299770160608661, -0.9017366351851562 L -0.6123411005454198, -0.9138043426154333 L -0.5944740869527371, -0.9255271794721698 L -0.5763827183096765, -0.9369007215462843 L -0.5580738223148922, -0.9479206764528593 L -0.5395543087620548, -0.9585828852510885 L -0.5208311669320886, -0.9688833240138665 L -0.5019114629554127, -0.9788181053464212 L -0.48280233714517234, -0.9883834798534219 L -0.4635110013024849, -0.9975758375540017 L -0.4440447359946951, -1.0063917092441699 L -0.4244108878076839, -1.0148277678060913 L -0.4046168665732612, -1.0228808294637435 L -0.384670142572685, -1.0305478549844789 L -0.3645782437173761, -1.0378259508260301 L -0.3443487527078742, -1.0447123702285388 L -0.3239893041721202, -1.051204514251183 L -0.3035075817841417, -1.057299932753021 L -0.2829113153642269, -1.0629963253176764 L -0.2622082779616849, -1.0682915421215164 L -0.24140628292128571, -1.0731835847449998 L -0.2205131809345032, -1.0776706069268787 L -0.19953685707665292, -1.0817509152609817 L -0.17848522783105977, -1.0854229698353057 L -0.15736623810136618, -1.088685384813181 L -0.1361878582131243, -1.0915369289562868 L -0.11495808090578404, -1.0939765260893213 L -0.0936849183162271, -1.0960032555061512 L -0.07237639895497941, -1.0976163523172884 L -0.051040564676243995, -1.098815207738558 L -0.0296854676428991, -1.0995993693208552 L -0.008319167287600793, -1.0999685411209 L 0.013050272728848225, -1.0999225838129258 L 0.034414787560735315, -1.0994615147412616 L 0.05576631422111689, -1.0985855079137863 L 0.07709679462479589, -1.0972948939362575 L 0.09839817862945421, -1.0955901598875404 L 0.11966242707377779, -1.0934719491357852 L 0.14088151481144706, -1.0909410610956178 L 0.16204743373983344, -1.0879984509264407 L 0.18315219582226436, -1.0846452291719553 L 0.20418783610271543, -1.0808826613410407 L 0.22514641571179106, -1.076712167430151 L 0.24602002486286445, -1.0721353213874059 L 0.2668007858372327, -1.0671538505185816 L 0.28748085595717837, -1.0617696348352257 L 0.3080524305458015, -1.0559847063451364 L 0.32850774587251497, -1.0498012482854835 L 0.3488390820830781, -1.0432215942988508 L 0.36903876611308, -1.0362482275525182 L 0.3890991745837602, -1.028883779801313 L 0.40901273667907834, -1.0211310303943815 L 0.4287719370029471, -1.0129929052262612 L 0.4483693184155485, -1.004472475632646 L 0.4677974848476685, -0.9955729572312596 L 0.4870491040919749, -0.9862977087082808 L 0.5061169105702025, -0.9766502305507708 L 0.5249937080751869, -0.9666341637255874 L 0.5436723724867232, -0.9562532883052784 L 0.5621458544602099, -0.9455115220414824 L 0.5804071820870818, -0.9344129188863632 L 0.527642892806438, -0.8494662898966938 L 0.5110416858729181, -0.8595559291286202 L 0.4942476113515665, -0.8693211711866167 L 0.4772670073410789, -0.8787583306596248 L 0.46010628233654766, -0.8878638459552461 L 0.44277191281088624, -0.8966342806438916 L 0.42527044077060766, -0.9050663247556905 L 0.40760847128686223, -0.9131567960296781 L 0.38979267000267914, -0.9209026411147828 L 0.3718297606173439, -0.9283009367221648 L 0.35372652234887286, -0.9353488907284663 L 0.33548978737552726, -0.9420438432295619 L 0.3171264382573437, -0.9483832675444096 L 0.29864340533864997, -0.9543647711686213 L 0.2800476641325468, -0.9599860966773968 L 0.26134623268834395, -0.9652451225774777 L 0.2425461689429388, -0.9701398641078014 L 0.22365456805714948, -0.9746684739885506 L 0.20467855973799184, -0.978829243118319 L 0.18562530554792311, -0.9826206012191278 L 0.1665019962020585, -0.9860411174290501 L 0.14731584885439403, -0.9890895008422187 L 0.12807410437404276, -0.991764600996016 L 0.10878402461252526, -0.9940654083052591 L 0.08945288966314019, -0.9959910544432184 L 0.0700879951134508, -0.9975408126693248 L 0.050696649291924446, -0.998714098103442 L 0.031286170509759376, -0.9995104679466015 L 0.01186388429895293, -0.9999296216481143 L -0.007562879352364357, -0.999971401019 L -0.026986788766271905, -0.9996357902916865 L -0.04640051334203999, -0.9989229161259617 L -0.06579672632270855, -0.9978330475611712 L -0.08516810756020646, -0.9963665959146829 L -0.10450734627798548, -0.9945241146266556 L -0.12380714383011299, -0.9923062990511698 L -0.14306021645578743, -0.9897139861938009 L -0.16225929802823613, -0.9867481543957324 L -0.18139714279695718, -0.9834099229645288 L -0.2004665281222756, -0.9797005517517079 L -0.21946025720116882, -0.9756214406772725 L -0.23837116178334986, -0.9711741292013786 L -0.2571921048765699, -0.966360295743342 L -0.2759159834401288, -0.9611817570482009 L -0.2945357310655638, -0.9556404675010753 L -0.31304432064352194, -0.9497385183895807 L -0.33143476701579644, -0.9434781371145728 L -0.3497001296115318, -0.9368616863495262 L -0.36783351506660106, -0.9298916631488576 L -0.38582807982516715, -0.9225706980055374 L -0.40367703272245004, -0.9149015538583362 L -0.4213736375477135, -0.9068871250490924 L -0.4389112155865203, -0.8985304362303834 L -0.4562831481412842, -0.8898346412240192 L -0.47348287902917147, -0.8808030218307876 L -0.4905039170564134, -0.8714389865918986 L -0.5073398384680838, -0.8617460695025992 L -0.5239842893724331, -0.8517279286784403 L -0.5404309881388518, -0.8413883449746997 L -0.5566737277685634, -0.8307312205594848 L -0.572706378237151, -0.819760577441051 L -0.5885228888080363, -0.8084805559498903 L -0.6041172903160291, -0.79689541317617 L -0.6194836974200982, -0.7850095213631005 L -0.6346163108245036, -0.7728273662568484 L -0.6495094194674554, -0.7603535454136116 L -0.6641574026764763, -0.7475927664644949 L -0.678554732289644, -0.7345498453388507 L -0.6926959747419277, -0.7212297044467391 L -0.7065757931158192, -0.7076373708212074 L -0.7201889491554903, -0.6937779742210836 L -0.7335303052437164, -0.6796567451949993 L -0.7465948263408156, -0.6652790131073784 L -0.7593775818848798, -0.6506502041271274 L -0.7718737476525708, -0.6357758391797973 L -0.7840786075797876, -0.6206615318639792 L -0.7959875555415132, -0.6053129863327288 L -0.8075960970901708, -0.5897359951408117 L -0.8188998511518305, -0.5739364370585909 L -0.829894551679633, -0.5579202748533709 L -0.8405760492637971, -0.5416935530390465 L -0.8509403126976123, -0.5252623955948967 L -0.8609834304988193, -0.5086330036543881 L -0.8707016123858066, -0.4918116531648642 L -0.8800911907080662, -0.47480469251899604 L -0.889148621830369, -0.4576185401588919 L -0.897870487470135, -0.44025968215377403 L -0.9062534959874959, -0.42273466975212903 L -0.9142944836275646, -0.40505011690925974 L -0.9219904157144369, -0.3872126977911752 L -0.9293383877964826, -0.3692291442557515 L -0.9363356267424874, -0.3511062433121253 L -0.9429794917882349, -0.33285083455926934 L -0.9492674755331345, -0.31446980760472043 L -0.9551972048865149, -0.295970099464438 L -0.9607664419632318, -0.27735869194476664 L -0.9659730849282478, -0.2586426090074952 L -0.9708151687898664, -0.23982891411900964 L -0.9752908661413212, -0.2209247075845333 L -0.979398487850442, -0.20193712386846419 L -1.0773383366354863 ,-0.22213083625531063\",\"type\":\"path\"},{\"fillcolor\":\"rgba(102,194,165,0.75)\",\"layer\":\"below\",\"line\":{\"color\":\"rgb(150,150,150)\",\"width\":0.45},\"path\":\"M 0.5804077691959193, -0.9344125542055911 L 0.5825690226635398, -0.9330666288282141 L 0.5847271550384819, -0.9317157045797839 L 0.5868821547586285, -0.9303597886978292 L 0.5890340102786459, -0.9289988884466205 L 0.5911827100700442, -0.9276330111171326 L 0.5933282426212431, -0.9262621640270035 L 0.5954705964376278, -0.9248863545204979 L 0.5976097600416144, -0.9235055899684659 L 0.5997457219727107, -0.9221198777683042 L 0.6018784707875768, -0.9207292253439163 L 0.6040079950600876, -0.9193336401456728 L 0.606134283381393, -0.9179331296503712 L 0.6082573243599787, -0.9165277013611972 L 0.6103771066217301, -0.9151173628076812 L 0.6124936188099888, -0.9137021215456622 L 0.6146068495856168, -0.9122819851572446 L 0.6167167876270558, -0.9108569612507582 L 0.6188234216303882, -0.9094270574607174 L 0.6209267403093978, -0.9079922814477807 L 0.6230267323956302, -0.9065526408987092 L 0.625123386638452, -0.9051081435263261 L 0.6272166918051149, -0.9036587970694734 L 0.6293066366808107, -0.9022046092929732 L 0.6313932100687342, -0.9007455879875845 L 0.6334764007901436, -0.8992817409699618 L 0.6355561976844191, -0.897813076082613 L 0.6376325896091233, -0.8963396011938576 L 0.6397055654400606, -0.8948613241977845 L 0.6417751140713368, -0.8933782530142106 L 0.6438412244154205, -0.8918903955886354 L 0.6459038854031988, -0.8903977598922022 L 0.6479630859840394, -0.8889003539216533 L 0.6500188151258488, -0.8873981856992879 L 0.6520710618151319, -0.8858912632729181 L 0.6541198150570503, -0.884379594715827 L 0.6561650638754821, -0.8828631881267248 L 0.6582067973130798, -0.8813420516297055 L 0.660245004431329, -0.8798161933742038 L 0.6622796743106096, -0.8782856215349497 L 0.6643107960502499, -0.8767503443119276 L 0.6663383587685875, -0.8752103699303301 L 0.668362351603028, -0.873665706640515 L 0.6703827637101024, -0.8721163627179606 L 0.6723995842655249, -0.8705623464632212 L 0.6744128024642518, -0.8690036662018833 L 0.6764224075205378, -0.8674403302845214 L 0.6784283886679975, -0.8658723470866504 L 0.6804307351596578, -0.8642997250086847 L 0.6824294362680189, -0.8627224724758907 L 0.6844244812851117, -0.8611405979383425 L 0.6864158595225532, -0.8595541098708762 L 0.6884035603116067, -0.8579630167730451 L 0.6903875730032356, -0.856367327169073 L 0.6923678869681625, -0.8547670496078109 L 0.694344491596928, -0.853162192662687 L 0.6963173762999425, -0.8515527649316657 L 0.698286530507547, -0.8499387750371981 L 0.7002519436700682, -0.8483202316261778 L 0.7022136052578755, -0.8466971433698928 L 0.7041715047614374, -0.8450695189639803 L 0.7061256316913771, -0.8434373671283801 L 0.7080759755785297, -0.841800696607287 L 0.7100225259739971, -0.8401595161691051 L 0.7119652724492064, -0.8385138346063991 L 0.7139042045959624, -0.8368636607358491 L 0.7158393120265055, -0.8352090033982029 L 0.7177705843735669, -0.833549871458228 L 0.7196980112904242, -0.8318862738046642 L 0.7216215824509566, -0.8302182193501763 L 0.7235412875497007, -0.8285457170313063 L 0.7254571163019043, -0.8268687758084262 L 0.727369058443585, -0.8251874046656874 L 0.7292771037315804, -0.8235016126109761 L 0.7311812419436061, -0.8218114086758628 L 0.73308146287831, -0.8201168019155546 L 0.7349777563553267, -0.8184178014088467 L 0.7368701122153313, -0.8167144162580732 L 0.7387585203200953, -0.8150066555890594 L 0.7406429705525391, -0.8132945285510722 L 0.7425234528167897, -0.8115780443167699 L 0.7443999570382297, -0.8098572120821559 L 0.7462724731635552, -0.808132041066527 L 0.7481409911608279, -0.8064025405124257 L 0.7500055010195296, -0.8046687196855887 L 0.7518659927506155, -0.8029305878748995 L 0.7537224563865679, -0.8011881543923366 L 0.7555748819814483, -0.7994414285729259 L 0.7574232596109547, -0.7976904197746871 L 0.7592675793724691, -0.7959351373785877 L 0.7611078313851148, -0.7941755907884904 L 0.7629440057898073, -0.792411789431103 L 0.7647760927493079, -0.7906437427559281 L 0.7666040824482764, -0.7888714602352126 L 0.7684279650933235, -0.7870949513638962 L 0.7702477309130632, -0.7853142256595621 L 0.7720633701581645, -0.7835292926623849 L 0.7738748731014067, -0.7817401619350779 L 0.775682230037727, -0.7799468430628456 L 0.7774854312842749, -0.7781493456533296 L 0.706804937531159, -0.7074084960484814 L 0.7051656636706608, -0.7090425846025868 L 0.7035226119103697, -0.7106728744864343 L 0.7018757910528768, -0.7122993569658044 L 0.7002252099209665, -0.7139220233268746 L 0.6985708773575667, -0.7155408648762692 L 0.6969128022257057, -0.7171558729411023 L 0.6952509934084616, -0.7187670388690255 L 0.6935854598089156, -0.7203743540282754 L 0.6919162103501043, -0.7219778098077185 L 0.6902432539749719, -0.7235773976168979 L 0.6885665996463224, -0.7251731088860791 L 0.6868862563467711, -0.7267649350662962 L 0.685202233078698, -0.7283528676293969 L 0.6835145388641959, -0.7299368980680904 L 0.6818231827450268, -0.7315170178959897 L 0.6801281737825707, -0.7330932186476596 L 0.6784295210577773, -0.7346654918786609 L 0.6767272336711179, -0.7362338291655962 L 0.675021320742536, -0.7377982221061544 L 0.6733117914113992, -0.7393586623191565 L 0.6715986548364502, -0.7409151414445994 L 0.6698819201957557, -0.7424676511437028 L 0.6681615966866605, -0.7440161830989515 L 0.6664376935257363, -0.7455607290141405 L 0.6647102199487328, -0.7471012806144206 L 0.6629791852105276, -0.7486378296463418 L 0.6612445985850772, -0.7501703678778976 L 0.6595064693653675, -0.7516988870985692 L 0.6577648068633642, -0.7532233791193693 L 0.6560196204099605, -0.7547438357728874 L 0.6542709193549311, -0.756260248913331 L 0.6525187130668789, -0.7577726104165708 L 0.6507630109331868, -0.7592809121801845 L 0.6490038223599658, -0.7607851461234991 L 0.6472411567720058, -0.7622853041876354 L 0.6454750236127246, -0.76378137833555 L 0.6437054323441179, -0.765273360552079 L 0.6419323924467064, -0.7667612428439818 L 0.6401559134194885, -0.7682450172399821 L 0.6383760047798868, -0.7697246757908115 L 0.6365926760636983, -0.7712002105692525 L 0.6348059368250426, -0.77267161367018 L 0.6330157966363114, -0.774138877210605 L 0.6312222650881163, -0.7756019933297154 L 0.6294253517892386, -0.777060954188919 L 0.6276250663665778, -0.7785157519718845 L 0.6258214184650969, -0.7799663788845864 L 0.6240144177477757, -0.781412827155342 L 0.622204073895556, -0.7828550890348568 L 0.6203903966072899, -0.7842931567962642 L 0.6185733955996888, -0.7857270227351678 L 0.6167530806072704, -0.7871566791696821 L 0.6149294613823071, -0.7885821184404739 L 0.6131025476947743, -0.7900033329108029 L 0.6112723493322954, -0.7914203149665646 L 0.6094388761000931, -0.7928330570163277 L 0.6076021378209345, -0.7942415514913772 L 0.6057621443350795, -0.7956457908457546 L 0.6039189055002271, -0.7970457675562977 L 0.6020724311914633, -0.7984414741226815 L 0.6002227313012082, -0.7998329030674579 L 0.5983698157391635, -0.8012200469360958 L 0.5965136944322564, -0.8026028982970225 L 0.5946543773245911, -0.8039814497416609 L 0.5927918743773926, -0.8053556938844709 L 0.5909261955689534, -0.8067256233629889 L 0.5890573508945812, -0.8080912308378666 L 0.5871853503665443, -0.809452508992911 L 0.5853102040140186, -0.810809450535123 L 0.5834319218830334, -0.8121620481947368 L 0.5815505140364187, -0.8135102947252586 L 0.5796659905537483, -0.8148541829035069 L 0.57777836153129, -0.8161937055296481 L 0.5758876370819487, -0.817528855427238 L 0.5739938273352129, -0.8188596254432586 L 0.5720969424371005, -0.8201860084481574 L 0.5701969925501044, -0.8215079973358849 L 0.5682939878531381, -0.8228255850239328 L 0.566387938541482, -0.824138764453372 L 0.5644788548267252, -0.8254475285888915 L 0.5625667469367165, -0.8267518704188339 L 0.5606516251155053, -0.8280517829552346 L 0.558733499623288, -0.8293472592338587 L 0.5568123807363534, -0.8306382923142384 L 0.5548882787470273, -0.8319248752797102 L 0.5529612039636169, -0.833207001237452 L 0.5510311667103572, -0.8344846633185192 L 0.5490981773273523, -0.8357578546778842 L 0.5471622461705243, -0.8370265684944693 L 0.5452233836115551, -0.8382907979711856 L 0.5432816000378312, -0.8395505363349689 L 0.5413369058523888, -0.8408057768368162 L 0.5393893114738573, -0.8420565127518213 L 0.5374388273364038, -0.8433027373792114 L 0.535485463889678, -0.8445444440423822 L 0.5335292315987531, -0.8457816260889356 L 0.5315701409440744, -0.8470142768907126 L 0.5296082024213998, -0.8482423898438309 L 0.5276434265417448, -0.8494659583687191 L 0.5804077691959193 ,-0.9344125542055911\",\"type\":\"path\"},{\"fillcolor\":\"rgba(50,136,189,0.75)\",\"layer\":\"below\",\"line\":{\"color\":\"rgb(150,150,150)\",\"width\":0.45},\"path\":\"M 0.777485920209775, -0.7781488571446723 L 0.7836380069407067, -0.7719530258234611 L 0.7897407202695801, -0.7657085573167411 L 0.7957936756926863, -0.7594158450595586 L 0.8017964918413344, -0.7530752855265728 L 0.8077487905058762, -0.7466872782070779 L 0.8136501966595346, -0.7402522255798363 L 0.8195003384820367, -0.7337705330877138 L 0.8252988473830346, -0.7272426091121412 L 0.8310453580253345, -0.7206688649473791 L 0.8367395083479112, -0.714049714774606 L 0.8423809395887194, -0.7073855756358244 L 0.8479692963073008, -0.7006768674075813 L 0.8535042264071769, -0.6939240127745162 L 0.8589853811580312, -0.6871274372027303 L 0.8644124152176854, -0.6802875689129766 L 0.8697849866538531, -0.6734048388536846 L 0.8751027569656871, -0.6664796806738027 L 0.8803653911051053, -0.659512530695479 L 0.885572557497899, -0.652503827886573 L 0.890723928064627, -0.6454540138329928 L 0.8958191782412847, -0.638363532710876 L 0.9008579869997515, -0.631232831258606 L 0.9058400368680218, -0.6240623587486599 L 0.9107650139502025, -0.6168525669593081 L 0.9156326079462939, -0.6096039101461446 L 0.9204425121717391, -0.602316845013468 L 0.9251944235767448, -0.5949918306855105 L 0.9298880427653783, -0.5876293286775041 L 0.9345230740144298, -0.5802298028666063 L 0.9390992252920422, -0.5727937194626757 L 0.9436162082761154, -0.5653215469788916 L 0.9480737383724668, -0.557813756202243 L 0.9524715347327672, -0.5502708201638601 L 0.9568093202722329, -0.5426932141092128 L 0.9610868216870829, -0.5350814154681711 L 0.9653037694717611, -0.5274359038249189 L 0.9694598979359156, -0.5197571608877403 L 0.9735549452211362, -0.5120456704586718 L 0.9775886533174573, -0.5043019184030143 L 0.9815607680796095, -0.4965263926187281 L 0.9854710392430356, -0.4887195830056861 L 0.9893192204396571, -0.4808819814348103 L 0.9931050692133957, -0.4730140817170845 L 0.9968283470354514, -0.4651163795724354 L 1.0004888193193304, -0.4571893725985026 L 1.0040862554356236, -0.4492335602392902 L 1.0076204287265405, -0.4412494437536924 L 1.011091116520187, -0.4332375261839191 L 1.014498100144597, -0.42519831232379507 L 1.0178411649415091, -0.4171323086869579 L 1.0211201002798909, -0.4090400234749476 L 1.0243346995692102, -0.40092196654518203 L 1.027484760272452, -0.39277864937883533 L 1.0305700839188776, -0.3846105850486151 L 1.0335904761165315, -0.37641828818642953 L 1.0365457465644874, -0.36820227495096997 L 1.0394357090648394, -0.35996306299518394 L 1.042260181534433, -0.351701171433663 L 1.0450189860163368, -0.3434171208099381 L 1.0477119486910553, -0.33511143306367763 L 1.0503388998874812, -0.32678463149780484 L 1.0528996740935832, -0.3184372407455296 L 1.0553941099668371, -0.31006978673728847 L 1.05782205034439, -0.30168279666761066 L 1.0601833422529607, -0.2932767989619051 L 1.062477836918481, -0.2848523232431602 L 1.0647053897754666, -0.27640990029858176 L 1.0668658604761272, -0.26795006204614485 L 1.0689591128992086, -0.2594733415010821 L 1.0709850151585683, -0.2509802727423042 L 1.0729434396114867, -0.24247139087874325 L 1.0748342628667071, -0.23394723201564568 L 1.0766573657922127, -0.22540833322078804 L 1.07841263352273, -0.2168552324906417 L 1.080099955466967, -0.2082884687164792 L 1.0817192253145822, -0.19970858165041516 L 1.0832703410428801, -0.19111611187140218 L 1.0847532049232416, -0.18251160075117417 L 1.0861677235272802, -0.17389559042013134 L 1.0875138077327289, -0.16526862373318588 L 1.088791372729055, -0.1566312442355622 L 1.0900003380228043, -0.14798399612854368 L 1.0911406274426714, -0.13932742423519315 L 1.092212169144301, -0.13066207396601898 L 1.0932148956148118, -0.12198849128461438 L 1.0941487436770523, -0.1133072226732617 L 1.095013654493581, -0.10461881509849422 L 1.0958095735703717, -0.09592381597664212 L 1.096536450760249, -0.08722277313933557 L 1.0971942402660477, -0.07851623479899124 L 1.0977829006434967, -0.06980474951427487 L 1.0983023948038315, -0.06108886615553344 L 1.0987526900161309, -0.052369133870216106 L 1.099133757909378, -0.043646102048278054 L 1.0994455744742504, -0.034920320287560036 L 1.0996881200646296, -0.02619233835916373 L 1.0998613793988414, -0.01746270617281611 L 1.0999653415606172, -0.008731973742216325 L 1.099999999999783, -6.911503848379499e-07 L 0.9999999999998026, -6.283185316708634e-07 L 0.9999684923278338, -0.007938157947469385 L 0.9998739812716739, -0.015875187429832825 L 0.9997164727860268, -0.023811216690148844 L 0.999495976794773, -0.03174574571596367 L 0.9992125071903437, -0.039678274589343684 L 0.9988660818328461, -0.047608303518378275 L 0.9984567225489377, -0.055535332868666756 L 0.9979844551304515, -0.06345886319479534 L 0.9974493093327707, -0.07137839527181021 L 0.9968513188729536, -0.0792934301266687 L 0.9961905214276104, -0.08720346906967465 L 0.9954669586305279, -0.09510801372590383 L 0.9946806760700475, -0.10300656606660154 L 0.9938317232861924, -0.11089862844055852 L 0.9929201537675462, -0.11878370360547179 L 0.9919460249478831, -0.1266612947592665 L 0.9909093982025492, -0.13453090557140335 L 0.9898103388445953, -0.14239204021414745 L 0.9886489161206625, -0.15024420339380534 L 0.9874252032066182, -0.15808690038193757 L 0.9861392772029468, -0.16591963704652196 L 0.984791219129891, -0.17374191988309287 L 0.9833811139223473, -0.18155325604583195 L 0.9819090504245155, -0.18935315337861744 L 0.9803751213842999, -0.1971411204460379 L 0.9787794234474659, -0.20491666656435276 L 0.9771220571515519, -0.21267930183240516 L 0.9754031269195332, -0.22042853716249386 L 0.9736227410532439, -0.22816388431118564 L 0.9717810117265532, -0.23588485591007463 L 0.9698780549782974, -0.2435909654964953 L 0.9679139907049695, -0.2512817275441652 L 0.9658889426531645, -0.25895665749378194 L 0.9638030384117824, -0.2666152717835501 L 0.9616564094039909, -0.27425708787964603 L 0.9594491908789429, -0.28188162430662583 L 0.9571815219032574, -0.28948840067775417 L 0.9548535453522555, -0.2970769377252771 L 0.9524654079009592, -0.304646757330616 L 0.9500172600148515, -0.31219738255448914 L 0.9475092559403936, -0.3197283376669663 L 0.9449415536953084, -0.32723914817743993 L 0.9423143150586248, -0.3347293408645181 L 0.9396277055604831, -0.342198443805845 L 0.9368818944717068, -0.3496459864078319 L 0.9340770547931381, -0.3570714994353048 L 0.9312133632447365, -0.36447451504107453 L 0.9282910002544462, -0.3718545667954069 L 0.9253101499468265, -0.37921118971541623 L 0.9222710001314517, -0.38654392029435913 L 0.919173742291079, -0.3938522965308355 L 0.9160185715695822, -0.40113585795790213 L 0.9128056867596577, -0.40839414567208193 L 0.9095352902903003, -0.41562670236227506 L 0.9062075882140467, -0.4228330723385776 L 0.902822790193996, -0.43001280156098587 L 0.8993811094905974, -0.43716543766800936 L 0.8958827629482141, -0.4442905300051691 L 0.8923279709814631, -0.45138762965338913 L 0.8887169575613247, -0.4584562894572857 L 0.8850499502010328, -0.465496064053338 L 0.8813271799417414, -0.4725065098979457 L 0.8775488813379646, -0.4794871852953808 L 0.8737152924428025, -0.48643765042561005 L 0.8698266547929389, -0.4933574673720116 L 0.8658832133934247, -0.5002462001489637 L 0.8618852167022425, -0.5071034147293119 L 0.8578329166146502, -0.5139286790717196 L 0.853726568447311, -0.5207215631478869 L 0.8495664309222088, -0.5274816389696421 L 0.8453527661503438, -0.5342084806159128 L 0.8410858396152224, -0.540901664259555 L 0.8367659201561264, -0.5475607681940619 L 0.8323932799511762, -0.5541853728601314 L 0.827968194500184, -0.5607750608720983 L 0.8234909426072925, -0.5673294170442362 L 0.8189618063634104, -0.5738480284169145 L 0.8143810711284405, -0.5803304842826145 L 0.8097490255132972, -0.5867763762118117 L 0.8050659613617263, -0.5931852980787027 L 0.8003321737319138, -0.599556846086799 L 0.7955479608778973, -0.605890618794366 L 0.7907136242307754, -0.6121862171397132 L 0.7858294683797139, -0.6184432444663424 L 0.7808958010527556, -0.6246613065479366 L 0.7759129330974335, -0.6308400116131965 L 0.7708811784611824, -0.6369789703705284 L 0.7658008541715631, -0.6430777960325675 L 0.7606722803162829, -0.6491361043405508 L 0.7554957800230313, -0.6551535135885265 L 0.7502716794391223, -0.6611296446474011 L 0.7450003077109424, -0.6670641209888306 L 0.7396819969632132, -0.672956568708942 L 0.7343170822780692, -0.678806616551889 L 0.7289059016739403, -0.684613895933248 L 0.7234487960842603, -0.6903780409632351 L 0.7179461093359818, -0.6960986884697646 L 0.7123981881279151, -0.7017754780213282 L 0.7068053820088863, -0.707408051949702 L 0.777485920209775 ,-0.7781488571446723\",\"type\":\"path\"}],\"showlegend\":false,\"template\":{\"data\":{\"barpolar\":[{\"marker\":{\"line\":{\"color\":\"#E5ECF6\",\"width\":0.5},\"pattern\":{\"fillmode\":\"overlay\",\"size\":10,\"solidity\":0.2}},\"type\":\"barpolar\"}],\"bar\":[{\"error_x\":{\"color\":\"#2a3f5f\"},\"error_y\":{\"color\":\"#2a3f5f\"},\"marker\":{\"line\":{\"color\":\"#E5ECF6\",\"width\":0.5},\"pattern\":{\"fillmode\":\"overlay\",\"size\":10,\"solidity\":0.2}},\"type\":\"bar\"}],\"carpet\":[{\"aaxis\":{\"endlinecolor\":\"#2a3f5f\",\"gridcolor\":\"white\",\"linecolor\":\"white\",\"minorgridcolor\":\"white\",\"startlinecolor\":\"#2a3f5f\"},\"baxis\":{\"endlinecolor\":\"#2a3f5f\",\"gridcolor\":\"white\",\"linecolor\":\"white\",\"minorgridcolor\":\"white\",\"startlinecolor\":\"#2a3f5f\"},\"type\":\"carpet\"}],\"choropleth\":[{\"colorbar\":{\"outlinewidth\":0,\"ticks\":\"\"},\"type\":\"choropleth\"}],\"contourcarpet\":[{\"colorbar\":{\"outlinewidth\":0,\"ticks\":\"\"},\"type\":\"contourcarpet\"}],\"contour\":[{\"colorbar\":{\"outlinewidth\":0,\"ticks\":\"\"},\"colorscale\":[[0.0,\"#0d0887\"],[0.1111111111111111,\"#46039f\"],[0.2222222222222222,\"#7201a8\"],[0.3333333333333333,\"#9c179e\"],[0.4444444444444444,\"#bd3786\"],[0.5555555555555556,\"#d8576b\"],[0.6666666666666666,\"#ed7953\"],[0.7777777777777778,\"#fb9f3a\"],[0.8888888888888888,\"#fdca26\"],[1.0,\"#f0f921\"]],\"type\":\"contour\"}],\"heatmapgl\":[{\"colorbar\":{\"outlinewidth\":0,\"ticks\":\"\"},\"colorscale\":[[0.0,\"#0d0887\"],[0.1111111111111111,\"#46039f\"],[0.2222222222222222,\"#7201a8\"],[0.3333333333333333,\"#9c179e\"],[0.4444444444444444,\"#bd3786\"],[0.5555555555555556,\"#d8576b\"],[0.6666666666666666,\"#ed7953\"],[0.7777777777777778,\"#fb9f3a\"],[0.8888888888888888,\"#fdca26\"],[1.0,\"#f0f921\"]],\"type\":\"heatmapgl\"}],\"heatmap\":[{\"colorbar\":{\"outlinewidth\":0,\"ticks\":\"\"},\"colorscale\":[[0.0,\"#0d0887\"],[0.1111111111111111,\"#46039f\"],[0.2222222222222222,\"#7201a8\"],[0.3333333333333333,\"#9c179e\"],[0.4444444444444444,\"#bd3786\"],[0.5555555555555556,\"#d8576b\"],[0.6666666666666666,\"#ed7953\"],[0.7777777777777778,\"#fb9f3a\"],[0.8888888888888888,\"#fdca26\"],[1.0,\"#f0f921\"]],\"type\":\"heatmap\"}],\"histogram2dcontour\":[{\"colorbar\":{\"outlinewidth\":0,\"ticks\":\"\"},\"colorscale\":[[0.0,\"#0d0887\"],[0.1111111111111111,\"#46039f\"],[0.2222222222222222,\"#7201a8\"],[0.3333333333333333,\"#9c179e\"],[0.4444444444444444,\"#bd3786\"],[0.5555555555555556,\"#d8576b\"],[0.6666666666666666,\"#ed7953\"],[0.7777777777777778,\"#fb9f3a\"],[0.8888888888888888,\"#fdca26\"],[1.0,\"#f0f921\"]],\"type\":\"histogram2dcontour\"}],\"histogram2d\":[{\"colorbar\":{\"outlinewidth\":0,\"ticks\":\"\"},\"colorscale\":[[0.0,\"#0d0887\"],[0.1111111111111111,\"#46039f\"],[0.2222222222222222,\"#7201a8\"],[0.3333333333333333,\"#9c179e\"],[0.4444444444444444,\"#bd3786\"],[0.5555555555555556,\"#d8576b\"],[0.6666666666666666,\"#ed7953\"],[0.7777777777777778,\"#fb9f3a\"],[0.8888888888888888,\"#fdca26\"],[1.0,\"#f0f921\"]],\"type\":\"histogram2d\"}],\"histogram\":[{\"marker\":{\"pattern\":{\"fillmode\":\"overlay\",\"size\":10,\"solidity\":0.2}},\"type\":\"histogram\"}],\"mesh3d\":[{\"colorbar\":{\"outlinewidth\":0,\"ticks\":\"\"},\"type\":\"mesh3d\"}],\"parcoords\":[{\"line\":{\"colorbar\":{\"outlinewidth\":0,\"ticks\":\"\"}},\"type\":\"parcoords\"}],\"pie\":[{\"automargin\":true,\"type\":\"pie\"}],\"scatter3d\":[{\"line\":{\"colorbar\":{\"outlinewidth\":0,\"ticks\":\"\"}},\"marker\":{\"colorbar\":{\"outlinewidth\":0,\"ticks\":\"\"}},\"type\":\"scatter3d\"}],\"scattercarpet\":[{\"marker\":{\"colorbar\":{\"outlinewidth\":0,\"ticks\":\"\"}},\"type\":\"scattercarpet\"}],\"scattergeo\":[{\"marker\":{\"colorbar\":{\"outlinewidth\":0,\"ticks\":\"\"}},\"type\":\"scattergeo\"}],\"scattergl\":[{\"marker\":{\"colorbar\":{\"outlinewidth\":0,\"ticks\":\"\"}},\"type\":\"scattergl\"}],\"scattermapbox\":[{\"marker\":{\"colorbar\":{\"outlinewidth\":0,\"ticks\":\"\"}},\"type\":\"scattermapbox\"}],\"scatterpolargl\":[{\"marker\":{\"colorbar\":{\"outlinewidth\":0,\"ticks\":\"\"}},\"type\":\"scatterpolargl\"}],\"scatterpolar\":[{\"marker\":{\"colorbar\":{\"outlinewidth\":0,\"ticks\":\"\"}},\"type\":\"scatterpolar\"}],\"scatter\":[{\"marker\":{\"colorbar\":{\"outlinewidth\":0,\"ticks\":\"\"}},\"type\":\"scatter\"}],\"scatterternary\":[{\"marker\":{\"colorbar\":{\"outlinewidth\":0,\"ticks\":\"\"}},\"type\":\"scatterternary\"}],\"surface\":[{\"colorbar\":{\"outlinewidth\":0,\"ticks\":\"\"},\"colorscale\":[[0.0,\"#0d0887\"],[0.1111111111111111,\"#46039f\"],[0.2222222222222222,\"#7201a8\"],[0.3333333333333333,\"#9c179e\"],[0.4444444444444444,\"#bd3786\"],[0.5555555555555556,\"#d8576b\"],[0.6666666666666666,\"#ed7953\"],[0.7777777777777778,\"#fb9f3a\"],[0.8888888888888888,\"#fdca26\"],[1.0,\"#f0f921\"]],\"type\":\"surface\"}],\"table\":[{\"cells\":{\"fill\":{\"color\":\"#EBF0F8\"},\"line\":{\"color\":\"white\"}},\"header\":{\"fill\":{\"color\":\"#C8D4E3\"},\"line\":{\"color\":\"white\"}},\"type\":\"table\"}]},\"layout\":{\"annotationdefaults\":{\"arrowcolor\":\"#2a3f5f\",\"arrowhead\":0,\"arrowwidth\":1},\"autotypenumbers\":\"strict\",\"coloraxis\":{\"colorbar\":{\"outlinewidth\":0,\"ticks\":\"\"}},\"colorscale\":{\"diverging\":[[0,\"#8e0152\"],[0.1,\"#c51b7d\"],[0.2,\"#de77ae\"],[0.3,\"#f1b6da\"],[0.4,\"#fde0ef\"],[0.5,\"#f7f7f7\"],[0.6,\"#e6f5d0\"],[0.7,\"#b8e186\"],[0.8,\"#7fbc41\"],[0.9,\"#4d9221\"],[1,\"#276419\"]],\"sequential\":[[0.0,\"#0d0887\"],[0.1111111111111111,\"#46039f\"],[0.2222222222222222,\"#7201a8\"],[0.3333333333333333,\"#9c179e\"],[0.4444444444444444,\"#bd3786\"],[0.5555555555555556,\"#d8576b\"],[0.6666666666666666,\"#ed7953\"],[0.7777777777777778,\"#fb9f3a\"],[0.8888888888888888,\"#fdca26\"],[1.0,\"#f0f921\"]],\"sequentialminus\":[[0.0,\"#0d0887\"],[0.1111111111111111,\"#46039f\"],[0.2222222222222222,\"#7201a8\"],[0.3333333333333333,\"#9c179e\"],[0.4444444444444444,\"#bd3786\"],[0.5555555555555556,\"#d8576b\"],[0.6666666666666666,\"#ed7953\"],[0.7777777777777778,\"#fb9f3a\"],[0.8888888888888888,\"#fdca26\"],[1.0,\"#f0f921\"]]},\"colorway\":[\"#636efa\",\"#EF553B\",\"#00cc96\",\"#ab63fa\",\"#FFA15A\",\"#19d3f3\",\"#FF6692\",\"#B6E880\",\"#FF97FF\",\"#FECB52\"],\"font\":{\"color\":\"#2a3f5f\"},\"geo\":{\"bgcolor\":\"white\",\"lakecolor\":\"white\",\"landcolor\":\"#E5ECF6\",\"showlakes\":true,\"showland\":true,\"subunitcolor\":\"white\"},\"hoverlabel\":{\"align\":\"left\"},\"hovermode\":\"closest\",\"mapbox\":{\"style\":\"light\"},\"paper_bgcolor\":\"white\",\"plot_bgcolor\":\"#E5ECF6\",\"polar\":{\"angularaxis\":{\"gridcolor\":\"white\",\"linecolor\":\"white\",\"ticks\":\"\"},\"bgcolor\":\"#E5ECF6\",\"radialaxis\":{\"gridcolor\":\"white\",\"linecolor\":\"white\",\"ticks\":\"\"}},\"scene\":{\"xaxis\":{\"backgroundcolor\":\"#E5ECF6\",\"gridcolor\":\"white\",\"gridwidth\":2,\"linecolor\":\"white\",\"showbackground\":true,\"ticks\":\"\",\"zerolinecolor\":\"white\"},\"yaxis\":{\"backgroundcolor\":\"#E5ECF6\",\"gridcolor\":\"white\",\"gridwidth\":2,\"linecolor\":\"white\",\"showbackground\":true,\"ticks\":\"\",\"zerolinecolor\":\"white\"},\"zaxis\":{\"backgroundcolor\":\"#E5ECF6\",\"gridcolor\":\"white\",\"gridwidth\":2,\"linecolor\":\"white\",\"showbackground\":true,\"ticks\":\"\",\"zerolinecolor\":\"white\"}},\"shapedefaults\":{\"line\":{\"color\":\"#2a3f5f\"}},\"ternary\":{\"aaxis\":{\"gridcolor\":\"white\",\"linecolor\":\"white\",\"ticks\":\"\"},\"baxis\":{\"gridcolor\":\"white\",\"linecolor\":\"white\",\"ticks\":\"\"},\"bgcolor\":\"#E5ECF6\",\"caxis\":{\"gridcolor\":\"white\",\"linecolor\":\"white\",\"ticks\":\"\"}},\"title\":{\"x\":0.05},\"xaxis\":{\"automargin\":true,\"gridcolor\":\"white\",\"linecolor\":\"white\",\"ticks\":\"\",\"title\":{\"standoff\":15},\"zerolinecolor\":\"white\",\"zerolinewidth\":2},\"yaxis\":{\"automargin\":true,\"gridcolor\":\"white\",\"linecolor\":\"white\",\"ticks\":\"\",\"title\":{\"standoff\":15},\"zerolinecolor\":\"white\",\"zerolinewidth\":2}}},\"title\":{\"text\":\" \"},\"width\":625,\"xaxis\":{\"showgrid\":false,\"showline\":false,\"showticklabels\":false,\"title\":{\"text\":\"\"},\"zeroline\":false},\"yaxis\":{\"scaleanchor\":\"x\",\"showgrid\":false,\"showline\":false,\"showticklabels\":false,\"title\":{\"text\":\"\"},\"zeroline\":false}},                        {\"responsive\": true}                    ).then(function(){\n",
       "                            \n",
       "var gd = document.getElementById('37b296aa-aeb7-47bf-a5a9-c0398dfebc3c');\n",
       "var x = new MutationObserver(function (mutations, observer) {{\n",
       "        var display = window.getComputedStyle(gd).display;\n",
       "        if (!display || display === 'none') {{\n",
       "            console.log([gd, 'removed!']);\n",
       "            Plotly.purge(gd);\n",
       "            observer.disconnect();\n",
       "        }}\n",
       "}});\n",
       "\n",
       "// Listen for the removal of the full notebook cells\n",
       "var notebookContainer = gd.closest('#notebook-container');\n",
       "if (notebookContainer) {{\n",
       "    x.observe(notebookContainer, {childList: true});\n",
       "}}\n",
       "\n",
       "// Listen for the clearing of the current output cell\n",
       "var outputEl = gd.closest('.output');\n",
       "if (outputEl) {{\n",
       "    x.observe(outputEl, {childList: true});\n",
       "}}\n",
       "\n",
       "                        })                };                });            </script>        </div>"
      ]
     },
     "metadata": {},
     "output_type": "display_data"
    }
   ],
   "source": [
    "from plotly.offline import download_plotlyjs, init_notebook_mode,  iplot, plot\n",
    "init_notebook_mode(connected=True)\n",
    "iplot(fig)"
   ]
  },
  {
   "cell_type": "markdown",
   "id": "6805ccf8",
   "metadata": {},
   "source": [
    "## MNE :)"
   ]
  },
  {
   "cell_type": "code",
   "execution_count": 28,
   "id": "84936b7e",
   "metadata": {},
   "outputs": [],
   "source": [
    "# !pip install mne"
   ]
  },
  {
   "cell_type": "code",
   "execution_count": 29,
   "id": "063ffa8a",
   "metadata": {},
   "outputs": [],
   "source": [
    "from mne.viz import plot_connectivity_circle"
   ]
  },
  {
   "cell_type": "code",
   "execution_count": 30,
   "id": "ca01ae9e",
   "metadata": {},
   "outputs": [
    {
     "data": {
      "image/png": "[encoded data removed]",
      "text/plain": [
       "<Figure size 576x576 with 2 Axes>"
      ]
     },
     "metadata": {},
     "output_type": "display_data"
    }
   ],
   "source": [
    "fig, axes = plot_connectivity_circle(matrix_data.to_numpy(), list(union_stations)) "
   ]
  },
  {
   "cell_type": "markdown",
   "id": "5f026e9b",
   "metadata": {},
   "source": [
    "# Grafico Sankey"
   ]
  },
  {
   "cell_type": "code",
   "execution_count": 31,
   "id": "128e9d72",
   "metadata": {},
   "outputs": [],
   "source": [
    "import plotly.graph_objects as go\n",
    "import plotly.colors as color_pallete\n",
    "\n",
    "color_dict = color_pallete.qualitative.Plotly"
   ]
  },
  {
   "cell_type": "code",
   "execution_count": 32,
   "id": "b76d9326",
   "metadata": {},
   "outputs": [
    {
     "data": {
      "text/plain": [
       "['#636EFA',\n",
       " '#EF553B',\n",
       " '#00CC96',\n",
       " '#AB63FA',\n",
       " '#FFA15A',\n",
       " '#19D3F3',\n",
       " '#FF6692',\n",
       " '#B6E880',\n",
       " '#FF97FF',\n",
       " '#FECB52']"
      ]
     },
     "execution_count": 32,
     "metadata": {},
     "output_type": "execute_result"
    }
   ],
   "source": [
    "color_dict"
   ]
  },
  {
   "cell_type": "code",
   "execution_count": 33,
   "id": "adb774c3",
   "metadata": {},
   "outputs": [
    {
     "data": {
      "text/html": [
       "<div>\n",
       "<style scoped>\n",
       "    .dataframe tbody tr th:only-of-type {\n",
       "        vertical-align: middle;\n",
       "    }\n",
       "\n",
       "    .dataframe tbody tr th {\n",
       "        vertical-align: top;\n",
       "    }\n",
       "\n",
       "    .dataframe thead th {\n",
       "        text-align: right;\n",
       "    }\n",
       "</style>\n",
       "<table border=\"1\" class=\"dataframe\">\n",
       "  <thead>\n",
       "    <tr style=\"text-align: right;\">\n",
       "      <th>to_station_id</th>\n",
       "      <th>CBD-13</th>\n",
       "      <th>WF-04</th>\n",
       "      <th>WF-01</th>\n",
       "      <th>UD-01</th>\n",
       "      <th>CH-07</th>\n",
       "      <th>PS-05</th>\n",
       "      <th>SLU-17</th>\n",
       "      <th>BT-01</th>\n",
       "      <th>SLU-16</th>\n",
       "    </tr>\n",
       "    <tr>\n",
       "      <th>from_station_id</th>\n",
       "      <th></th>\n",
       "      <th></th>\n",
       "      <th></th>\n",
       "      <th></th>\n",
       "      <th></th>\n",
       "      <th></th>\n",
       "      <th></th>\n",
       "      <th></th>\n",
       "      <th></th>\n",
       "    </tr>\n",
       "  </thead>\n",
       "  <tbody>\n",
       "    <tr>\n",
       "      <th>CBD-13</th>\n",
       "      <td>427</td>\n",
       "      <td>158</td>\n",
       "      <td>384</td>\n",
       "      <td>1</td>\n",
       "      <td>53</td>\n",
       "      <td>384</td>\n",
       "      <td>105</td>\n",
       "      <td>962</td>\n",
       "      <td>158</td>\n",
       "    </tr>\n",
       "    <tr>\n",
       "      <th>WF-04</th>\n",
       "      <td>137</td>\n",
       "      <td>1150</td>\n",
       "      <td>1605</td>\n",
       "      <td>4</td>\n",
       "      <td>2</td>\n",
       "      <td>215</td>\n",
       "      <td>17</td>\n",
       "      <td>478</td>\n",
       "      <td>36</td>\n",
       "    </tr>\n",
       "    <tr>\n",
       "      <th>WF-01</th>\n",
       "      <td>310</td>\n",
       "      <td>2291</td>\n",
       "      <td>4209</td>\n",
       "      <td>4</td>\n",
       "      <td>3</td>\n",
       "      <td>962</td>\n",
       "      <td>75</td>\n",
       "      <td>347</td>\n",
       "      <td>52</td>\n",
       "    </tr>\n",
       "    <tr>\n",
       "      <th>UD-01</th>\n",
       "      <td>9</td>\n",
       "      <td>0</td>\n",
       "      <td>1</td>\n",
       "      <td>880</td>\n",
       "      <td>3</td>\n",
       "      <td>1</td>\n",
       "      <td>46</td>\n",
       "      <td>6</td>\n",
       "      <td>2</td>\n",
       "    </tr>\n",
       "    <tr>\n",
       "      <th>CH-07</th>\n",
       "      <td>577</td>\n",
       "      <td>23</td>\n",
       "      <td>23</td>\n",
       "      <td>15</td>\n",
       "      <td>233</td>\n",
       "      <td>71</td>\n",
       "      <td>19</td>\n",
       "      <td>198</td>\n",
       "      <td>934</td>\n",
       "    </tr>\n",
       "    <tr>\n",
       "      <th>PS-05</th>\n",
       "      <td>199</td>\n",
       "      <td>181</td>\n",
       "      <td>737</td>\n",
       "      <td>0</td>\n",
       "      <td>26</td>\n",
       "      <td>185</td>\n",
       "      <td>26</td>\n",
       "      <td>179</td>\n",
       "      <td>42</td>\n",
       "    </tr>\n",
       "    <tr>\n",
       "      <th>SLU-17</th>\n",
       "      <td>135</td>\n",
       "      <td>70</td>\n",
       "      <td>97</td>\n",
       "      <td>25</td>\n",
       "      <td>5</td>\n",
       "      <td>31</td>\n",
       "      <td>960</td>\n",
       "      <td>264</td>\n",
       "      <td>53</td>\n",
       "    </tr>\n",
       "    <tr>\n",
       "      <th>BT-01</th>\n",
       "      <td>1101</td>\n",
       "      <td>792</td>\n",
       "      <td>777</td>\n",
       "      <td>8</td>\n",
       "      <td>16</td>\n",
       "      <td>301</td>\n",
       "      <td>175</td>\n",
       "      <td>627</td>\n",
       "      <td>151</td>\n",
       "    </tr>\n",
       "    <tr>\n",
       "      <th>SLU-16</th>\n",
       "      <td>344</td>\n",
       "      <td>68</td>\n",
       "      <td>65</td>\n",
       "      <td>4</td>\n",
       "      <td>98</td>\n",
       "      <td>65</td>\n",
       "      <td>73</td>\n",
       "      <td>166</td>\n",
       "      <td>186</td>\n",
       "    </tr>\n",
       "  </tbody>\n",
       "</table>\n",
       "</div>"
      ],
      "text/plain": [
       "to_station_id    CBD-13  WF-04  WF-01  UD-01  CH-07  PS-05  SLU-17  BT-01  \\\n",
       "from_station_id                                                             \n",
       "CBD-13              427    158    384      1     53    384     105    962   \n",
       "WF-04               137   1150   1605      4      2    215      17    478   \n",
       "WF-01               310   2291   4209      4      3    962      75    347   \n",
       "UD-01                 9      0      1    880      3      1      46      6   \n",
       "CH-07               577     23     23     15    233     71      19    198   \n",
       "PS-05               199    181    737      0     26    185      26    179   \n",
       "SLU-17              135     70     97     25      5     31     960    264   \n",
       "BT-01              1101    792    777      8     16    301     175    627   \n",
       "SLU-16              344     68     65      4     98     65      73    166   \n",
       "\n",
       "to_station_id    SLU-16  \n",
       "from_station_id          \n",
       "CBD-13              158  \n",
       "WF-04                36  \n",
       "WF-01                52  \n",
       "UD-01                 2  \n",
       "CH-07               934  \n",
       "PS-05                42  \n",
       "SLU-17               53  \n",
       "BT-01               151  \n",
       "SLU-16              186  "
      ]
     },
     "execution_count": 33,
     "metadata": {},
     "output_type": "execute_result"
    }
   ],
   "source": [
    "matrix_data"
   ]
  },
  {
   "cell_type": "markdown",
   "id": "d2861e11",
   "metadata": {},
   "source": [
    "## Grafico de teste"
   ]
  },
  {
   "cell_type": "code",
   "execution_count": 34,
   "id": "d43e3ac1",
   "metadata": {},
   "outputs": [],
   "source": [
    "wf01_data = matrix_data.loc['WF-01']\n",
    "source_wf01 = np.full(len(wf01_data), 0).tolist()\n",
    "target_wf01 = pd.factorize(wf01_data.index)[0].tolist()\n",
    "value_wf01 = wf01_data.values.tolist()"
   ]
  },
  {
   "cell_type": "code",
   "execution_count": 35,
   "id": "f69abd4d",
   "metadata": {},
   "outputs": [],
   "source": [
    "wf04_data = matrix_data.loc['WF-04']\n",
    "source_wf04 = np.full(len(wf04_data), 1).tolist()\n",
    "target_wf04 = pd.factorize(wf04_data.index)[0].tolist()\n",
    "value_wf04 = wf04_data.values.tolist()"
   ]
  },
  {
   "cell_type": "code",
   "execution_count": 36,
   "id": "5bbc273a",
   "metadata": {},
   "outputs": [],
   "source": [
    "color_test = {\n",
    "    0 : 'blue',\n",
    "    1 : 'red'\n",
    "}"
   ]
  },
  {
   "cell_type": "code",
   "execution_count": 37,
   "id": "09c65808",
   "metadata": {},
   "outputs": [],
   "source": [
    "link_color = np.concatenate([np.full(len(wf01_data), 'blue'), np.full(len(wf04_data), 'red')]).tolist()"
   ]
  },
  {
   "cell_type": "code",
   "execution_count": 38,
   "id": "39b298ae",
   "metadata": {},
   "outputs": [],
   "source": [
    "source = source_wf01 + source_wf04\n",
    "target = (pd.factorize(np.concatenate([wf01_data.index.to_numpy(), wf04_data.index.to_numpy()]))[0] + 2).tolist()\n",
    "value = value_wf01 + value_wf04"
   ]
  },
  {
   "cell_type": "code",
   "execution_count": 39,
   "id": "ce327b90",
   "metadata": {},
   "outputs": [
    {
     "data": {
      "application/vnd.plotly.v1+json": {
       "config": {
        "plotlyServerURL": "https://plot.ly"
       },
       "data": [
        {
         "link": {
          "color": [
           "blue",
           "blue",
           "blue",
           "blue",
           "blue",
           "blue",
           "blue",
           "blue",
           "blue",
           "red",
           "red",
           "red",
           "red",
           "red",
           "red",
           "red",
           "red",
           "red"
          ],
          "source": [
           0,
           0,
           0,
           0,
           0,
           0,
           0,
           0,
           0,
           1,
           1,
           1,
           1,
           1,
           1,
           1,
           1,
           1
          ],
          "target": [
           2,
           3,
           4,
           5,
           6,
           7,
           8,
           9,
           10,
           2,
           3,
           4,
           5,
           6,
           7,
           8,
           9,
           10
          ],
          "value": [
           310,
           2291,
           4209,
           4,
           3,
           962,
           75,
           347,
           52,
           137,
           1150,
           1605,
           4,
           2,
           215,
           17,
           478,
           36
          ]
         },
         "node": {
          "label": [
           "WF-01",
           "WF-04",
           "CBD-13",
           "WF-04",
           "WF-01",
           "UD-01",
           "CH-07",
           "PS-05",
           "SLU-17",
           "BT-01",
           "SLU-16"
          ]
         },
         "type": "sankey"
        }
       ],
       "layout": {
        "template": {
         "data": {
          "bar": [
           {
            "error_x": {
             "color": "#2a3f5f"
            },
            "error_y": {
             "color": "#2a3f5f"
            },
            "marker": {
             "line": {
              "color": "#E5ECF6",
              "width": 0.5
             },
             "pattern": {
              "fillmode": "overlay",
              "size": 10,
              "solidity": 0.2
             }
            },
            "type": "bar"
           }
          ],
          "barpolar": [
           {
            "marker": {
             "line": {
              "color": "#E5ECF6",
              "width": 0.5
             },
             "pattern": {
              "fillmode": "overlay",
              "size": 10,
              "solidity": 0.2
             }
            },
            "type": "barpolar"
           }
          ],
          "carpet": [
           {
            "aaxis": {
             "endlinecolor": "#2a3f5f",
             "gridcolor": "white",
             "linecolor": "white",
             "minorgridcolor": "white",
             "startlinecolor": "#2a3f5f"
            },
            "baxis": {
             "endlinecolor": "#2a3f5f",
             "gridcolor": "white",
             "linecolor": "white",
             "minorgridcolor": "white",
             "startlinecolor": "#2a3f5f"
            },
            "type": "carpet"
           }
          ],
          "choropleth": [
           {
            "colorbar": {
             "outlinewidth": 0,
             "ticks": ""
            },
            "type": "choropleth"
           }
          ],
          "contour": [
           {
            "colorbar": {
             "outlinewidth": 0,
             "ticks": ""
            },
            "colorscale": [
             [
              0,
              "#0d0887"
             ],
             [
              0.1111111111111111,
              "#46039f"
             ],
             [
              0.2222222222222222,
              "#7201a8"
             ],
             [
              0.3333333333333333,
              "#9c179e"
             ],
             [
              0.4444444444444444,
              "#bd3786"
             ],
             [
              0.5555555555555556,
              "#d8576b"
             ],
             [
              0.6666666666666666,
              "#ed7953"
             ],
             [
              0.7777777777777778,
              "#fb9f3a"
             ],
             [
              0.8888888888888888,
              "#fdca26"
             ],
             [
              1,
              "#f0f921"
             ]
            ],
            "type": "contour"
           }
          ],
          "contourcarpet": [
           {
            "colorbar": {
             "outlinewidth": 0,
             "ticks": ""
            },
            "type": "contourcarpet"
           }
          ],
          "heatmap": [
           {
            "colorbar": {
             "outlinewidth": 0,
             "ticks": ""
            },
            "colorscale": [
             [
              0,
              "#0d0887"
             ],
             [
              0.1111111111111111,
              "#46039f"
             ],
             [
              0.2222222222222222,
              "#7201a8"
             ],
             [
              0.3333333333333333,
              "#9c179e"
             ],
             [
              0.4444444444444444,
              "#bd3786"
             ],
             [
              0.5555555555555556,
              "#d8576b"
             ],
             [
              0.6666666666666666,
              "#ed7953"
             ],
             [
              0.7777777777777778,
              "#fb9f3a"
             ],
             [
              0.8888888888888888,
              "#fdca26"
             ],
             [
              1,
              "#f0f921"
             ]
            ],
            "type": "heatmap"
           }
          ],
          "heatmapgl": [
           {
            "colorbar": {
             "outlinewidth": 0,
             "ticks": ""
            },
            "colorscale": [
             [
              0,
              "#0d0887"
             ],
             [
              0.1111111111111111,
              "#46039f"
             ],
             [
              0.2222222222222222,
              "#7201a8"
             ],
             [
              0.3333333333333333,
              "#9c179e"
             ],
             [
              0.4444444444444444,
              "#bd3786"
             ],
             [
              0.5555555555555556,
              "#d8576b"
             ],
             [
              0.6666666666666666,
              "#ed7953"
             ],
             [
              0.7777777777777778,
              "#fb9f3a"
             ],
             [
              0.8888888888888888,
              "#fdca26"
             ],
             [
              1,
              "#f0f921"
             ]
            ],
            "type": "heatmapgl"
           }
          ],
          "histogram": [
           {
            "marker": {
             "pattern": {
              "fillmode": "overlay",
              "size": 10,
              "solidity": 0.2
             }
            },
            "type": "histogram"
           }
          ],
          "histogram2d": [
           {
            "colorbar": {
             "outlinewidth": 0,
             "ticks": ""
            },
            "colorscale": [
             [
              0,
              "#0d0887"
             ],
             [
              0.1111111111111111,
              "#46039f"
             ],
             [
              0.2222222222222222,
              "#7201a8"
             ],
             [
              0.3333333333333333,
              "#9c179e"
             ],
             [
              0.4444444444444444,
              "#bd3786"
             ],
             [
              0.5555555555555556,
              "#d8576b"
             ],
             [
              0.6666666666666666,
              "#ed7953"
             ],
             [
              0.7777777777777778,
              "#fb9f3a"
             ],
             [
              0.8888888888888888,
              "#fdca26"
             ],
             [
              1,
              "#f0f921"
             ]
            ],
            "type": "histogram2d"
           }
          ],
          "histogram2dcontour": [
           {
            "colorbar": {
             "outlinewidth": 0,
             "ticks": ""
            },
            "colorscale": [
             [
              0,
              "#0d0887"
             ],
             [
              0.1111111111111111,
              "#46039f"
             ],
             [
              0.2222222222222222,
              "#7201a8"
             ],
             [
              0.3333333333333333,
              "#9c179e"
             ],
             [
              0.4444444444444444,
              "#bd3786"
             ],
             [
              0.5555555555555556,
              "#d8576b"
             ],
             [
              0.6666666666666666,
              "#ed7953"
             ],
             [
              0.7777777777777778,
              "#fb9f3a"
             ],
             [
              0.8888888888888888,
              "#fdca26"
             ],
             [
              1,
              "#f0f921"
             ]
            ],
            "type": "histogram2dcontour"
           }
          ],
          "mesh3d": [
           {
            "colorbar": {
             "outlinewidth": 0,
             "ticks": ""
            },
            "type": "mesh3d"
           }
          ],
          "parcoords": [
           {
            "line": {
             "colorbar": {
              "outlinewidth": 0,
              "ticks": ""
             }
            },
            "type": "parcoords"
           }
          ],
          "pie": [
           {
            "automargin": true,
            "type": "pie"
           }
          ],
          "scatter": [
           {
            "marker": {
             "colorbar": {
              "outlinewidth": 0,
              "ticks": ""
             }
            },
            "type": "scatter"
           }
          ],
          "scatter3d": [
           {
            "line": {
             "colorbar": {
              "outlinewidth": 0,
              "ticks": ""
             }
            },
            "marker": {
             "colorbar": {
              "outlinewidth": 0,
              "ticks": ""
             }
            },
            "type": "scatter3d"
           }
          ],
          "scattercarpet": [
           {
            "marker": {
             "colorbar": {
              "outlinewidth": 0,
              "ticks": ""
             }
            },
            "type": "scattercarpet"
           }
          ],
          "scattergeo": [
           {
            "marker": {
             "colorbar": {
              "outlinewidth": 0,
              "ticks": ""
             }
            },
            "type": "scattergeo"
           }
          ],
          "scattergl": [
           {
            "marker": {
             "colorbar": {
              "outlinewidth": 0,
              "ticks": ""
             }
            },
            "type": "scattergl"
           }
          ],
          "scattermapbox": [
           {
            "marker": {
             "colorbar": {
              "outlinewidth": 0,
              "ticks": ""
             }
            },
            "type": "scattermapbox"
           }
          ],
          "scatterpolar": [
           {
            "marker": {
             "colorbar": {
              "outlinewidth": 0,
              "ticks": ""
             }
            },
            "type": "scatterpolar"
           }
          ],
          "scatterpolargl": [
           {
            "marker": {
             "colorbar": {
              "outlinewidth": 0,
              "ticks": ""
             }
            },
            "type": "scatterpolargl"
           }
          ],
          "scatterternary": [
           {
            "marker": {
             "colorbar": {
              "outlinewidth": 0,
              "ticks": ""
             }
            },
            "type": "scatterternary"
           }
          ],
          "surface": [
           {
            "colorbar": {
             "outlinewidth": 0,
             "ticks": ""
            },
            "colorscale": [
             [
              0,
              "#0d0887"
             ],
             [
              0.1111111111111111,
              "#46039f"
             ],
             [
              0.2222222222222222,
              "#7201a8"
             ],
             [
              0.3333333333333333,
              "#9c179e"
             ],
             [
              0.4444444444444444,
              "#bd3786"
             ],
             [
              0.5555555555555556,
              "#d8576b"
             ],
             [
              0.6666666666666666,
              "#ed7953"
             ],
             [
              0.7777777777777778,
              "#fb9f3a"
             ],
             [
              0.8888888888888888,
              "#fdca26"
             ],
             [
              1,
              "#f0f921"
             ]
            ],
            "type": "surface"
           }
          ],
          "table": [
           {
            "cells": {
             "fill": {
              "color": "#EBF0F8"
             },
             "line": {
              "color": "white"
             }
            },
            "header": {
             "fill": {
              "color": "#C8D4E3"
             },
             "line": {
              "color": "white"
             }
            },
            "type": "table"
           }
          ]
         },
         "layout": {
          "annotationdefaults": {
           "arrowcolor": "#2a3f5f",
           "arrowhead": 0,
           "arrowwidth": 1
          },
          "autotypenumbers": "strict",
          "coloraxis": {
           "colorbar": {
            "outlinewidth": 0,
            "ticks": ""
           }
          },
          "colorscale": {
           "diverging": [
            [
             0,
             "#8e0152"
            ],
            [
             0.1,
             "#c51b7d"
            ],
            [
             0.2,
             "#de77ae"
            ],
            [
             0.3,
             "#f1b6da"
            ],
            [
             0.4,
             "#fde0ef"
            ],
            [
             0.5,
             "#f7f7f7"
            ],
            [
             0.6,
             "#e6f5d0"
            ],
            [
             0.7,
             "#b8e186"
            ],
            [
             0.8,
             "#7fbc41"
            ],
            [
             0.9,
             "#4d9221"
            ],
            [
             1,
             "#276419"
            ]
           ],
           "sequential": [
            [
             0,
             "#0d0887"
            ],
            [
             0.1111111111111111,
             "#46039f"
            ],
            [
             0.2222222222222222,
             "#7201a8"
            ],
            [
             0.3333333333333333,
             "#9c179e"
            ],
            [
             0.4444444444444444,
             "#bd3786"
            ],
            [
             0.5555555555555556,
             "#d8576b"
            ],
            [
             0.6666666666666666,
             "#ed7953"
            ],
            [
             0.7777777777777778,
             "#fb9f3a"
            ],
            [
             0.8888888888888888,
             "#fdca26"
            ],
            [
             1,
             "#f0f921"
            ]
           ],
           "sequentialminus": [
            [
             0,
             "#0d0887"
            ],
            [
             0.1111111111111111,
             "#46039f"
            ],
            [
             0.2222222222222222,
             "#7201a8"
            ],
            [
             0.3333333333333333,
             "#9c179e"
            ],
            [
             0.4444444444444444,
             "#bd3786"
            ],
            [
             0.5555555555555556,
             "#d8576b"
            ],
            [
             0.6666666666666666,
             "#ed7953"
            ],
            [
             0.7777777777777778,
             "#fb9f3a"
            ],
            [
             0.8888888888888888,
             "#fdca26"
            ],
            [
             1,
             "#f0f921"
            ]
           ]
          },
          "colorway": [
           "#636efa",
           "#EF553B",
           "#00cc96",
           "#ab63fa",
           "#FFA15A",
           "#19d3f3",
           "#FF6692",
           "#B6E880",
           "#FF97FF",
           "#FECB52"
          ],
          "font": {
           "color": "#2a3f5f"
          },
          "geo": {
           "bgcolor": "white",
           "lakecolor": "white",
           "landcolor": "#E5ECF6",
           "showlakes": true,
           "showland": true,
           "subunitcolor": "white"
          },
          "hoverlabel": {
           "align": "left"
          },
          "hovermode": "closest",
          "mapbox": {
           "style": "light"
          },
          "paper_bgcolor": "white",
          "plot_bgcolor": "#E5ECF6",
          "polar": {
           "angularaxis": {
            "gridcolor": "white",
            "linecolor": "white",
            "ticks": ""
           },
           "bgcolor": "#E5ECF6",
           "radialaxis": {
            "gridcolor": "white",
            "linecolor": "white",
            "ticks": ""
           }
          },
          "scene": {
           "xaxis": {
            "backgroundcolor": "#E5ECF6",
            "gridcolor": "white",
            "gridwidth": 2,
            "linecolor": "white",
            "showbackground": true,
            "ticks": "",
            "zerolinecolor": "white"
           },
           "yaxis": {
            "backgroundcolor": "#E5ECF6",
            "gridcolor": "white",
            "gridwidth": 2,
            "linecolor": "white",
            "showbackground": true,
            "ticks": "",
            "zerolinecolor": "white"
           },
           "zaxis": {
            "backgroundcolor": "#E5ECF6",
            "gridcolor": "white",
            "gridwidth": 2,
            "linecolor": "white",
            "showbackground": true,
            "ticks": "",
            "zerolinecolor": "white"
           }
          },
          "shapedefaults": {
           "line": {
            "color": "#2a3f5f"
           }
          },
          "ternary": {
           "aaxis": {
            "gridcolor": "white",
            "linecolor": "white",
            "ticks": ""
           },
           "baxis": {
            "gridcolor": "white",
            "linecolor": "white",
            "ticks": ""
           },
           "bgcolor": "#E5ECF6",
           "caxis": {
            "gridcolor": "white",
            "linecolor": "white",
            "ticks": ""
           }
          },
          "title": {
           "x": 0.05
          },
          "xaxis": {
           "automargin": true,
           "gridcolor": "white",
           "linecolor": "white",
           "ticks": "",
           "title": {
            "standoff": 15
           },
           "zerolinecolor": "white",
           "zerolinewidth": 2
          },
          "yaxis": {
           "automargin": true,
           "gridcolor": "white",
           "linecolor": "white",
           "ticks": "",
           "title": {
            "standoff": 15
           },
           "zerolinecolor": "white",
           "zerolinewidth": 2
          }
         }
        }
       }
      },
      "text/html": [
       "<div>                            <div id=\"4c452922-806f-45dd-9b4d-7dcdb8e097b5\" class=\"plotly-graph-div\" style=\"height:525px; width:100%;\"></div>            <script type=\"text/javascript\">                require([\"plotly\"], function(Plotly) {                    window.PLOTLYENV=window.PLOTLYENV || {};                                    if (document.getElementById(\"4c452922-806f-45dd-9b4d-7dcdb8e097b5\")) {                    Plotly.newPlot(                        \"4c452922-806f-45dd-9b4d-7dcdb8e097b5\",                        [{\"link\":{\"color\":[\"blue\",\"blue\",\"blue\",\"blue\",\"blue\",\"blue\",\"blue\",\"blue\",\"blue\",\"red\",\"red\",\"red\",\"red\",\"red\",\"red\",\"red\",\"red\",\"red\"],\"source\":[0,0,0,0,0,0,0,0,0,1,1,1,1,1,1,1,1,1],\"target\":[2,3,4,5,6,7,8,9,10,2,3,4,5,6,7,8,9,10],\"value\":[310,2291,4209,4,3,962,75,347,52,137,1150,1605,4,2,215,17,478,36]},\"node\":{\"label\":[\"WF-01\",\"WF-04\",\"CBD-13\",\"WF-04\",\"WF-01\",\"UD-01\",\"CH-07\",\"PS-05\",\"SLU-17\",\"BT-01\",\"SLU-16\"]},\"type\":\"sankey\"}],                        {\"template\":{\"data\":{\"bar\":[{\"error_x\":{\"color\":\"#2a3f5f\"},\"error_y\":{\"color\":\"#2a3f5f\"},\"marker\":{\"line\":{\"color\":\"#E5ECF6\",\"width\":0.5},\"pattern\":{\"fillmode\":\"overlay\",\"size\":10,\"solidity\":0.2}},\"type\":\"bar\"}],\"barpolar\":[{\"marker\":{\"line\":{\"color\":\"#E5ECF6\",\"width\":0.5},\"pattern\":{\"fillmode\":\"overlay\",\"size\":10,\"solidity\":0.2}},\"type\":\"barpolar\"}],\"carpet\":[{\"aaxis\":{\"endlinecolor\":\"#2a3f5f\",\"gridcolor\":\"white\",\"linecolor\":\"white\",\"minorgridcolor\":\"white\",\"startlinecolor\":\"#2a3f5f\"},\"baxis\":{\"endlinecolor\":\"#2a3f5f\",\"gridcolor\":\"white\",\"linecolor\":\"white\",\"minorgridcolor\":\"white\",\"startlinecolor\":\"#2a3f5f\"},\"type\":\"carpet\"}],\"choropleth\":[{\"colorbar\":{\"outlinewidth\":0,\"ticks\":\"\"},\"type\":\"choropleth\"}],\"contour\":[{\"colorbar\":{\"outlinewidth\":0,\"ticks\":\"\"},\"colorscale\":[[0.0,\"#0d0887\"],[0.1111111111111111,\"#46039f\"],[0.2222222222222222,\"#7201a8\"],[0.3333333333333333,\"#9c179e\"],[0.4444444444444444,\"#bd3786\"],[0.5555555555555556,\"#d8576b\"],[0.6666666666666666,\"#ed7953\"],[0.7777777777777778,\"#fb9f3a\"],[0.8888888888888888,\"#fdca26\"],[1.0,\"#f0f921\"]],\"type\":\"contour\"}],\"contourcarpet\":[{\"colorbar\":{\"outlinewidth\":0,\"ticks\":\"\"},\"type\":\"contourcarpet\"}],\"heatmap\":[{\"colorbar\":{\"outlinewidth\":0,\"ticks\":\"\"},\"colorscale\":[[0.0,\"#0d0887\"],[0.1111111111111111,\"#46039f\"],[0.2222222222222222,\"#7201a8\"],[0.3333333333333333,\"#9c179e\"],[0.4444444444444444,\"#bd3786\"],[0.5555555555555556,\"#d8576b\"],[0.6666666666666666,\"#ed7953\"],[0.7777777777777778,\"#fb9f3a\"],[0.8888888888888888,\"#fdca26\"],[1.0,\"#f0f921\"]],\"type\":\"heatmap\"}],\"heatmapgl\":[{\"colorbar\":{\"outlinewidth\":0,\"ticks\":\"\"},\"colorscale\":[[0.0,\"#0d0887\"],[0.1111111111111111,\"#46039f\"],[0.2222222222222222,\"#7201a8\"],[0.3333333333333333,\"#9c179e\"],[0.4444444444444444,\"#bd3786\"],[0.5555555555555556,\"#d8576b\"],[0.6666666666666666,\"#ed7953\"],[0.7777777777777778,\"#fb9f3a\"],[0.8888888888888888,\"#fdca26\"],[1.0,\"#f0f921\"]],\"type\":\"heatmapgl\"}],\"histogram\":[{\"marker\":{\"pattern\":{\"fillmode\":\"overlay\",\"size\":10,\"solidity\":0.2}},\"type\":\"histogram\"}],\"histogram2d\":[{\"colorbar\":{\"outlinewidth\":0,\"ticks\":\"\"},\"colorscale\":[[0.0,\"#0d0887\"],[0.1111111111111111,\"#46039f\"],[0.2222222222222222,\"#7201a8\"],[0.3333333333333333,\"#9c179e\"],[0.4444444444444444,\"#bd3786\"],[0.5555555555555556,\"#d8576b\"],[0.6666666666666666,\"#ed7953\"],[0.7777777777777778,\"#fb9f3a\"],[0.8888888888888888,\"#fdca26\"],[1.0,\"#f0f921\"]],\"type\":\"histogram2d\"}],\"histogram2dcontour\":[{\"colorbar\":{\"outlinewidth\":0,\"ticks\":\"\"},\"colorscale\":[[0.0,\"#0d0887\"],[0.1111111111111111,\"#46039f\"],[0.2222222222222222,\"#7201a8\"],[0.3333333333333333,\"#9c179e\"],[0.4444444444444444,\"#bd3786\"],[0.5555555555555556,\"#d8576b\"],[0.6666666666666666,\"#ed7953\"],[0.7777777777777778,\"#fb9f3a\"],[0.8888888888888888,\"#fdca26\"],[1.0,\"#f0f921\"]],\"type\":\"histogram2dcontour\"}],\"mesh3d\":[{\"colorbar\":{\"outlinewidth\":0,\"ticks\":\"\"},\"type\":\"mesh3d\"}],\"parcoords\":[{\"line\":{\"colorbar\":{\"outlinewidth\":0,\"ticks\":\"\"}},\"type\":\"parcoords\"}],\"pie\":[{\"automargin\":true,\"type\":\"pie\"}],\"scatter\":[{\"marker\":{\"colorbar\":{\"outlinewidth\":0,\"ticks\":\"\"}},\"type\":\"scatter\"}],\"scatter3d\":[{\"line\":{\"colorbar\":{\"outlinewidth\":0,\"ticks\":\"\"}},\"marker\":{\"colorbar\":{\"outlinewidth\":0,\"ticks\":\"\"}},\"type\":\"scatter3d\"}],\"scattercarpet\":[{\"marker\":{\"colorbar\":{\"outlinewidth\":0,\"ticks\":\"\"}},\"type\":\"scattercarpet\"}],\"scattergeo\":[{\"marker\":{\"colorbar\":{\"outlinewidth\":0,\"ticks\":\"\"}},\"type\":\"scattergeo\"}],\"scattergl\":[{\"marker\":{\"colorbar\":{\"outlinewidth\":0,\"ticks\":\"\"}},\"type\":\"scattergl\"}],\"scattermapbox\":[{\"marker\":{\"colorbar\":{\"outlinewidth\":0,\"ticks\":\"\"}},\"type\":\"scattermapbox\"}],\"scatterpolar\":[{\"marker\":{\"colorbar\":{\"outlinewidth\":0,\"ticks\":\"\"}},\"type\":\"scatterpolar\"}],\"scatterpolargl\":[{\"marker\":{\"colorbar\":{\"outlinewidth\":0,\"ticks\":\"\"}},\"type\":\"scatterpolargl\"}],\"scatterternary\":[{\"marker\":{\"colorbar\":{\"outlinewidth\":0,\"ticks\":\"\"}},\"type\":\"scatterternary\"}],\"surface\":[{\"colorbar\":{\"outlinewidth\":0,\"ticks\":\"\"},\"colorscale\":[[0.0,\"#0d0887\"],[0.1111111111111111,\"#46039f\"],[0.2222222222222222,\"#7201a8\"],[0.3333333333333333,\"#9c179e\"],[0.4444444444444444,\"#bd3786\"],[0.5555555555555556,\"#d8576b\"],[0.6666666666666666,\"#ed7953\"],[0.7777777777777778,\"#fb9f3a\"],[0.8888888888888888,\"#fdca26\"],[1.0,\"#f0f921\"]],\"type\":\"surface\"}],\"table\":[{\"cells\":{\"fill\":{\"color\":\"#EBF0F8\"},\"line\":{\"color\":\"white\"}},\"header\":{\"fill\":{\"color\":\"#C8D4E3\"},\"line\":{\"color\":\"white\"}},\"type\":\"table\"}]},\"layout\":{\"annotationdefaults\":{\"arrowcolor\":\"#2a3f5f\",\"arrowhead\":0,\"arrowwidth\":1},\"autotypenumbers\":\"strict\",\"coloraxis\":{\"colorbar\":{\"outlinewidth\":0,\"ticks\":\"\"}},\"colorscale\":{\"diverging\":[[0,\"#8e0152\"],[0.1,\"#c51b7d\"],[0.2,\"#de77ae\"],[0.3,\"#f1b6da\"],[0.4,\"#fde0ef\"],[0.5,\"#f7f7f7\"],[0.6,\"#e6f5d0\"],[0.7,\"#b8e186\"],[0.8,\"#7fbc41\"],[0.9,\"#4d9221\"],[1,\"#276419\"]],\"sequential\":[[0.0,\"#0d0887\"],[0.1111111111111111,\"#46039f\"],[0.2222222222222222,\"#7201a8\"],[0.3333333333333333,\"#9c179e\"],[0.4444444444444444,\"#bd3786\"],[0.5555555555555556,\"#d8576b\"],[0.6666666666666666,\"#ed7953\"],[0.7777777777777778,\"#fb9f3a\"],[0.8888888888888888,\"#fdca26\"],[1.0,\"#f0f921\"]],\"sequentialminus\":[[0.0,\"#0d0887\"],[0.1111111111111111,\"#46039f\"],[0.2222222222222222,\"#7201a8\"],[0.3333333333333333,\"#9c179e\"],[0.4444444444444444,\"#bd3786\"],[0.5555555555555556,\"#d8576b\"],[0.6666666666666666,\"#ed7953\"],[0.7777777777777778,\"#fb9f3a\"],[0.8888888888888888,\"#fdca26\"],[1.0,\"#f0f921\"]]},\"colorway\":[\"#636efa\",\"#EF553B\",\"#00cc96\",\"#ab63fa\",\"#FFA15A\",\"#19d3f3\",\"#FF6692\",\"#B6E880\",\"#FF97FF\",\"#FECB52\"],\"font\":{\"color\":\"#2a3f5f\"},\"geo\":{\"bgcolor\":\"white\",\"lakecolor\":\"white\",\"landcolor\":\"#E5ECF6\",\"showlakes\":true,\"showland\":true,\"subunitcolor\":\"white\"},\"hoverlabel\":{\"align\":\"left\"},\"hovermode\":\"closest\",\"mapbox\":{\"style\":\"light\"},\"paper_bgcolor\":\"white\",\"plot_bgcolor\":\"#E5ECF6\",\"polar\":{\"angularaxis\":{\"gridcolor\":\"white\",\"linecolor\":\"white\",\"ticks\":\"\"},\"bgcolor\":\"#E5ECF6\",\"radialaxis\":{\"gridcolor\":\"white\",\"linecolor\":\"white\",\"ticks\":\"\"}},\"scene\":{\"xaxis\":{\"backgroundcolor\":\"#E5ECF6\",\"gridcolor\":\"white\",\"gridwidth\":2,\"linecolor\":\"white\",\"showbackground\":true,\"ticks\":\"\",\"zerolinecolor\":\"white\"},\"yaxis\":{\"backgroundcolor\":\"#E5ECF6\",\"gridcolor\":\"white\",\"gridwidth\":2,\"linecolor\":\"white\",\"showbackground\":true,\"ticks\":\"\",\"zerolinecolor\":\"white\"},\"zaxis\":{\"backgroundcolor\":\"#E5ECF6\",\"gridcolor\":\"white\",\"gridwidth\":2,\"linecolor\":\"white\",\"showbackground\":true,\"ticks\":\"\",\"zerolinecolor\":\"white\"}},\"shapedefaults\":{\"line\":{\"color\":\"#2a3f5f\"}},\"ternary\":{\"aaxis\":{\"gridcolor\":\"white\",\"linecolor\":\"white\",\"ticks\":\"\"},\"baxis\":{\"gridcolor\":\"white\",\"linecolor\":\"white\",\"ticks\":\"\"},\"bgcolor\":\"#E5ECF6\",\"caxis\":{\"gridcolor\":\"white\",\"linecolor\":\"white\",\"ticks\":\"\"}},\"title\":{\"x\":0.05},\"xaxis\":{\"automargin\":true,\"gridcolor\":\"white\",\"linecolor\":\"white\",\"ticks\":\"\",\"title\":{\"standoff\":15},\"zerolinecolor\":\"white\",\"zerolinewidth\":2},\"yaxis\":{\"automargin\":true,\"gridcolor\":\"white\",\"linecolor\":\"white\",\"ticks\":\"\",\"title\":{\"standoff\":15},\"zerolinecolor\":\"white\",\"zerolinewidth\":2}}}},                        {\"responsive\": true}                    ).then(function(){\n",
       "                            \n",
       "var gd = document.getElementById('4c452922-806f-45dd-9b4d-7dcdb8e097b5');\n",
       "var x = new MutationObserver(function (mutations, observer) {{\n",
       "        var display = window.getComputedStyle(gd).display;\n",
       "        if (!display || display === 'none') {{\n",
       "            console.log([gd, 'removed!']);\n",
       "            Plotly.purge(gd);\n",
       "            observer.disconnect();\n",
       "        }}\n",
       "}});\n",
       "\n",
       "// Listen for the removal of the full notebook cells\n",
       "var notebookContainer = gd.closest('#notebook-container');\n",
       "if (notebookContainer) {{\n",
       "    x.observe(notebookContainer, {childList: true});\n",
       "}}\n",
       "\n",
       "// Listen for the clearing of the current output cell\n",
       "var outputEl = gd.closest('.output');\n",
       "if (outputEl) {{\n",
       "    x.observe(outputEl, {childList: true});\n",
       "}}\n",
       "\n",
       "                        })                };                });            </script>        </div>"
      ]
     },
     "metadata": {},
     "output_type": "display_data"
    }
   ],
   "source": [
    "link = dict(source = source, target = target, value = value, color=link_color)\n",
    "data = go.Sankey(link = link, node = dict( label = ['WF-01', 'WF-04',*wf01_data.index.to_list()]))\n",
    "\n",
    "fig = go.Figure(data)\n",
    "\n",
    "fig.show()"
   ]
  },
  {
   "cell_type": "markdown",
   "id": "39739f71",
   "metadata": {},
   "source": [
    "## Grafico Final"
   ]
  },
  {
   "cell_type": "code",
   "execution_count": 40,
   "id": "9737663f",
   "metadata": {},
   "outputs": [],
   "source": [
    "top_5 = df.groupby(['from_station_id', 'to_station_id']).size().to_frame().nlargest(5, 0).reset_index()\n",
    "to_station_mask = top_5['to_station_id'].unique()\n",
    "\n",
    "from_mask = df['from_station_id'] == 'WF-01'\n",
    "to_mask = df['to_station_id'].isin(to_station_mask)\n",
    "wf01_df = df[from_mask & to_mask].copy()\n",
    "\n",
    "wf01_df['starttime'] = pd.to_datetime(wf01_df['starttime'])\n",
    "wf01_df['stoptime'] = pd.to_datetime(wf01_df['stoptime'])\n",
    "\n",
    "wf01_df['part_of_day'] = pd.cut(wf01_df['starttime'].dt.hour, \n",
    "        [0,6,12,18,23], \n",
    "        labels =['Night', 'Morning', 'Afternoon', 'Evening'],\n",
    "        include_lowest=True)"
   ]
  },
  {
   "cell_type": "code",
   "execution_count": 41,
   "id": "fcf26cde",
   "metadata": {},
   "outputs": [
    {
     "data": {
      "text/html": [
       "<div>\n",
       "<style scoped>\n",
       "    .dataframe tbody tr th:only-of-type {\n",
       "        vertical-align: middle;\n",
       "    }\n",
       "\n",
       "    .dataframe tbody tr th {\n",
       "        vertical-align: top;\n",
       "    }\n",
       "\n",
       "    .dataframe thead th {\n",
       "        text-align: right;\n",
       "    }\n",
       "</style>\n",
       "<table border=\"1\" class=\"dataframe\">\n",
       "  <thead>\n",
       "    <tr style=\"text-align: right;\">\n",
       "      <th></th>\n",
       "      <th>from_station_name</th>\n",
       "      <th>to_station_name</th>\n",
       "      <th>part_of_day</th>\n",
       "      <th>rides</th>\n",
       "    </tr>\n",
       "  </thead>\n",
       "  <tbody>\n",
       "    <tr>\n",
       "      <th>0</th>\n",
       "      <td>Pier 69 / Alaskan Way &amp; Clay St</td>\n",
       "      <td>2nd Ave &amp; Pine St</td>\n",
       "      <td>Night</td>\n",
       "      <td>6</td>\n",
       "    </tr>\n",
       "    <tr>\n",
       "      <th>1</th>\n",
       "      <td>Pier 69 / Alaskan Way &amp; Clay St</td>\n",
       "      <td>2nd Ave &amp; Pine St</td>\n",
       "      <td>Morning</td>\n",
       "      <td>62</td>\n",
       "    </tr>\n",
       "    <tr>\n",
       "      <th>2</th>\n",
       "      <td>Pier 69 / Alaskan Way &amp; Clay St</td>\n",
       "      <td>2nd Ave &amp; Pine St</td>\n",
       "      <td>Afternoon</td>\n",
       "      <td>181</td>\n",
       "    </tr>\n",
       "    <tr>\n",
       "      <th>3</th>\n",
       "      <td>Pier 69 / Alaskan Way &amp; Clay St</td>\n",
       "      <td>2nd Ave &amp; Pine St</td>\n",
       "      <td>Evening</td>\n",
       "      <td>61</td>\n",
       "    </tr>\n",
       "    <tr>\n",
       "      <th>4</th>\n",
       "      <td>Pier 69 / Alaskan Way &amp; Clay St</td>\n",
       "      <td>Pier 69 / Alaskan Way &amp; Clay St</td>\n",
       "      <td>Night</td>\n",
       "      <td>65</td>\n",
       "    </tr>\n",
       "  </tbody>\n",
       "</table>\n",
       "</div>"
      ],
      "text/plain": [
       "                 from_station_name                  to_station_name  \\\n",
       "0  Pier 69 / Alaskan Way & Clay St                2nd Ave & Pine St   \n",
       "1  Pier 69 / Alaskan Way & Clay St                2nd Ave & Pine St   \n",
       "2  Pier 69 / Alaskan Way & Clay St                2nd Ave & Pine St   \n",
       "3  Pier 69 / Alaskan Way & Clay St                2nd Ave & Pine St   \n",
       "4  Pier 69 / Alaskan Way & Clay St  Pier 69 / Alaskan Way & Clay St   \n",
       "\n",
       "  part_of_day  rides  \n",
       "0       Night      6  \n",
       "1     Morning     62  \n",
       "2   Afternoon    181  \n",
       "3     Evening     61  \n",
       "4       Night     65  "
      ]
     },
     "execution_count": 41,
     "metadata": {},
     "output_type": "execute_result"
    }
   ],
   "source": [
    "sankey_data = wf01_df.groupby(['from_station_name', 'to_station_name', 'part_of_day']).size().to_frame().reset_index()\n",
    "sankey_data = sankey_data.rename(columns={0:'rides'})\n",
    "sankey_data.head()"
   ]
  },
  {
   "cell_type": "code",
   "execution_count": 42,
   "id": "71a69419",
   "metadata": {},
   "outputs": [],
   "source": [
    "first_half = sankey_data.groupby(['from_station_name','part_of_day']).rides.sum()\\\n",
    "    .reset_index().rename(columns = {'from_station_name':'from','part_of_day':'to'})\n",
    "\n",
    "second_half = sankey_data.groupby(['part_of_day','to_station_name']).rides.sum()\\\n",
    "    .reset_index().rename(columns = {'part_of_day':'from','to_station_name':'to'})\n",
    "\n",
    "sankey_processed = pd.concat([first_half, second_half], axis = 0).reset_index(drop=True)"
   ]
  },
  {
   "cell_type": "code",
   "execution_count": 43,
   "id": "142722a4",
   "metadata": {},
   "outputs": [],
   "source": [
    "from_codes, from_index = pd.factorize(sankey_processed['from'])\n",
    "to_codes, to_index = pd.factorize(sankey_processed['to'])\n",
    "\n",
    "to_dict = dict(zip(np.unique(to_codes) + 1, to_index))\n",
    "from_dict = dict(zip(np.unique(from_codes), from_index))\n",
    "general_dict = to_dict.copy()\n",
    "general_dict.update(from_dict)"
   ]
  },
  {
   "cell_type": "code",
   "execution_count": 44,
   "id": "9973db47",
   "metadata": {},
   "outputs": [],
   "source": [
    "source = from_codes\n",
    "target = to_codes + 1\n",
    "value = sankey_processed['rides']"
   ]
  },
  {
   "cell_type": "code",
   "execution_count": 45,
   "id": "8dd18bd1",
   "metadata": {},
   "outputs": [],
   "source": [
    "link_color = [color_dict[x% len(color_dict)] for x in source]"
   ]
  },
  {
   "cell_type": "code",
   "execution_count": 46,
   "id": "b16f8a1e",
   "metadata": {},
   "outputs": [],
   "source": [
    "node_series = pd.Series(general_dict, index = general_dict.keys()).sort_index()\n",
    "nodes_labels = node_series.values\n",
    "node_color = [color_dict[x % len(color_dict)] for x in node_series.index]"
   ]
  },
  {
   "cell_type": "code",
   "execution_count": 47,
   "id": "312b30aa",
   "metadata": {},
   "outputs": [],
   "source": [
    "link = dict(\n",
    "    source = source,\n",
    "    target = target,\n",
    "    value = value,\n",
    "    color = link_color\n",
    ")\n",
    "data = go.Sankey(link=link, node= dict( label = pd.Series(general_dict, index = general_dict.keys()).sort_index().values, color = node_color))"
   ]
  },
  {
   "cell_type": "code",
   "execution_count": 48,
   "id": "e6ecb08c",
   "metadata": {},
   "outputs": [
    {
     "data": {
      "application/vnd.plotly.v1+json": {
       "config": {
        "plotlyServerURL": "https://plot.ly"
       },
       "data": [
        {
         "link": {
          "color": [
           "#636EFA",
           "#636EFA",
           "#636EFA",
           "#636EFA",
           "#EF553B",
           "#EF553B",
           "#EF553B",
           "#00CC96",
           "#00CC96",
           "#00CC96",
           "#AB63FA",
           "#AB63FA",
           "#AB63FA",
           "#FFA15A",
           "#FFA15A",
           "#FFA15A"
          ],
          "source": [
           0,
           0,
           0,
           0,
           1,
           1,
           1,
           2,
           2,
           2,
           3,
           3,
           3,
           4,
           4,
           4
          ],
          "target": [
           1,
           2,
           3,
           4,
           5,
           6,
           7,
           5,
           6,
           7,
           5,
           6,
           7,
           5,
           6,
           7
          ],
          "value": [
           99,
           2066,
           3805,
           840,
           6,
           65,
           28,
           62,
           1215,
           789,
           181,
           2411,
           1213,
           61,
           518,
           261
          ]
         },
         "node": {
          "color": [
           "#636EFA",
           "#EF553B",
           "#00CC96",
           "#AB63FA",
           "#FFA15A",
           "#19D3F3",
           "#FF6692",
           "#B6E880"
          ],
          "label": [
           "Pier 69 / Alaskan Way & Clay St",
           "Night",
           "Morning",
           "Afternoon",
           "Evening",
           "2nd Ave & Pine St",
           "Pier 69 / Alaskan Way & Clay St",
           "Seattle Aquarium / Alaskan Way S & Elliott Bay Trail"
          ]
         },
         "type": "sankey"
        }
       ],
       "layout": {
        "template": {
         "data": {
          "bar": [
           {
            "error_x": {
             "color": "#2a3f5f"
            },
            "error_y": {
             "color": "#2a3f5f"
            },
            "marker": {
             "line": {
              "color": "#E5ECF6",
              "width": 0.5
             },
             "pattern": {
              "fillmode": "overlay",
              "size": 10,
              "solidity": 0.2
             }
            },
            "type": "bar"
           }
          ],
          "barpolar": [
           {
            "marker": {
             "line": {
              "color": "#E5ECF6",
              "width": 0.5
             },
             "pattern": {
              "fillmode": "overlay",
              "size": 10,
              "solidity": 0.2
             }
            },
            "type": "barpolar"
           }
          ],
          "carpet": [
           {
            "aaxis": {
             "endlinecolor": "#2a3f5f",
             "gridcolor": "white",
             "linecolor": "white",
             "minorgridcolor": "white",
             "startlinecolor": "#2a3f5f"
            },
            "baxis": {
             "endlinecolor": "#2a3f5f",
             "gridcolor": "white",
             "linecolor": "white",
             "minorgridcolor": "white",
             "startlinecolor": "#2a3f5f"
            },
            "type": "carpet"
           }
          ],
          "choropleth": [
           {
            "colorbar": {
             "outlinewidth": 0,
             "ticks": ""
            },
            "type": "choropleth"
           }
          ],
          "contour": [
           {
            "colorbar": {
             "outlinewidth": 0,
             "ticks": ""
            },
            "colorscale": [
             [
              0,
              "#0d0887"
             ],
             [
              0.1111111111111111,
              "#46039f"
             ],
             [
              0.2222222222222222,
              "#7201a8"
             ],
             [
              0.3333333333333333,
              "#9c179e"
             ],
             [
              0.4444444444444444,
              "#bd3786"
             ],
             [
              0.5555555555555556,
              "#d8576b"
             ],
             [
              0.6666666666666666,
              "#ed7953"
             ],
             [
              0.7777777777777778,
              "#fb9f3a"
             ],
             [
              0.8888888888888888,
              "#fdca26"
             ],
             [
              1,
              "#f0f921"
             ]
            ],
            "type": "contour"
           }
          ],
          "contourcarpet": [
           {
            "colorbar": {
             "outlinewidth": 0,
             "ticks": ""
            },
            "type": "contourcarpet"
           }
          ],
          "heatmap": [
           {
            "colorbar": {
             "outlinewidth": 0,
             "ticks": ""
            },
            "colorscale": [
             [
              0,
              "#0d0887"
             ],
             [
              0.1111111111111111,
              "#46039f"
             ],
             [
              0.2222222222222222,
              "#7201a8"
             ],
             [
              0.3333333333333333,
              "#9c179e"
             ],
             [
              0.4444444444444444,
              "#bd3786"
             ],
             [
              0.5555555555555556,
              "#d8576b"
             ],
             [
              0.6666666666666666,
              "#ed7953"
             ],
             [
              0.7777777777777778,
              "#fb9f3a"
             ],
             [
              0.8888888888888888,
              "#fdca26"
             ],
             [
              1,
              "#f0f921"
             ]
            ],
            "type": "heatmap"
           }
          ],
          "heatmapgl": [
           {
            "colorbar": {
             "outlinewidth": 0,
             "ticks": ""
            },
            "colorscale": [
             [
              0,
              "#0d0887"
             ],
             [
              0.1111111111111111,
              "#46039f"
             ],
             [
              0.2222222222222222,
              "#7201a8"
             ],
             [
              0.3333333333333333,
              "#9c179e"
             ],
             [
              0.4444444444444444,
              "#bd3786"
             ],
             [
              0.5555555555555556,
              "#d8576b"
             ],
             [
              0.6666666666666666,
              "#ed7953"
             ],
             [
              0.7777777777777778,
              "#fb9f3a"
             ],
             [
              0.8888888888888888,
              "#fdca26"
             ],
             [
              1,
              "#f0f921"
             ]
            ],
            "type": "heatmapgl"
           }
          ],
          "histogram": [
           {
            "marker": {
             "pattern": {
              "fillmode": "overlay",
              "size": 10,
              "solidity": 0.2
             }
            },
            "type": "histogram"
           }
          ],
          "histogram2d": [
           {
            "colorbar": {
             "outlinewidth": 0,
             "ticks": ""
            },
            "colorscale": [
             [
              0,
              "#0d0887"
             ],
             [
              0.1111111111111111,
              "#46039f"
             ],
             [
              0.2222222222222222,
              "#7201a8"
             ],
             [
              0.3333333333333333,
              "#9c179e"
             ],
             [
              0.4444444444444444,
              "#bd3786"
             ],
             [
              0.5555555555555556,
              "#d8576b"
             ],
             [
              0.6666666666666666,
              "#ed7953"
             ],
             [
              0.7777777777777778,
              "#fb9f3a"
             ],
             [
              0.8888888888888888,
              "#fdca26"
             ],
             [
              1,
              "#f0f921"
             ]
            ],
            "type": "histogram2d"
           }
          ],
          "histogram2dcontour": [
           {
            "colorbar": {
             "outlinewidth": 0,
             "ticks": ""
            },
            "colorscale": [
             [
              0,
              "#0d0887"
             ],
             [
              0.1111111111111111,
              "#46039f"
             ],
             [
              0.2222222222222222,
              "#7201a8"
             ],
             [
              0.3333333333333333,
              "#9c179e"
             ],
             [
              0.4444444444444444,
              "#bd3786"
             ],
             [
              0.5555555555555556,
              "#d8576b"
             ],
             [
              0.6666666666666666,
              "#ed7953"
             ],
             [
              0.7777777777777778,
              "#fb9f3a"
             ],
             [
              0.8888888888888888,
              "#fdca26"
             ],
             [
              1,
              "#f0f921"
             ]
            ],
            "type": "histogram2dcontour"
           }
          ],
          "mesh3d": [
           {
            "colorbar": {
             "outlinewidth": 0,
             "ticks": ""
            },
            "type": "mesh3d"
           }
          ],
          "parcoords": [
           {
            "line": {
             "colorbar": {
              "outlinewidth": 0,
              "ticks": ""
             }
            },
            "type": "parcoords"
           }
          ],
          "pie": [
           {
            "automargin": true,
            "type": "pie"
           }
          ],
          "scatter": [
           {
            "marker": {
             "colorbar": {
              "outlinewidth": 0,
              "ticks": ""
             }
            },
            "type": "scatter"
           }
          ],
          "scatter3d": [
           {
            "line": {
             "colorbar": {
              "outlinewidth": 0,
              "ticks": ""
             }
            },
            "marker": {
             "colorbar": {
              "outlinewidth": 0,
              "ticks": ""
             }
            },
            "type": "scatter3d"
           }
          ],
          "scattercarpet": [
           {
            "marker": {
             "colorbar": {
              "outlinewidth": 0,
              "ticks": ""
             }
            },
            "type": "scattercarpet"
           }
          ],
          "scattergeo": [
           {
            "marker": {
             "colorbar": {
              "outlinewidth": 0,
              "ticks": ""
             }
            },
            "type": "scattergeo"
           }
          ],
          "scattergl": [
           {
            "marker": {
             "colorbar": {
              "outlinewidth": 0,
              "ticks": ""
             }
            },
            "type": "scattergl"
           }
          ],
          "scattermapbox": [
           {
            "marker": {
             "colorbar": {
              "outlinewidth": 0,
              "ticks": ""
             }
            },
            "type": "scattermapbox"
           }
          ],
          "scatterpolar": [
           {
            "marker": {
             "colorbar": {
              "outlinewidth": 0,
              "ticks": ""
             }
            },
            "type": "scatterpolar"
           }
          ],
          "scatterpolargl": [
           {
            "marker": {
             "colorbar": {
              "outlinewidth": 0,
              "ticks": ""
             }
            },
            "type": "scatterpolargl"
           }
          ],
          "scatterternary": [
           {
            "marker": {
             "colorbar": {
              "outlinewidth": 0,
              "ticks": ""
             }
            },
            "type": "scatterternary"
           }
          ],
          "surface": [
           {
            "colorbar": {
             "outlinewidth": 0,
             "ticks": ""
            },
            "colorscale": [
             [
              0,
              "#0d0887"
             ],
             [
              0.1111111111111111,
              "#46039f"
             ],
             [
              0.2222222222222222,
              "#7201a8"
             ],
             [
              0.3333333333333333,
              "#9c179e"
             ],
             [
              0.4444444444444444,
              "#bd3786"
             ],
             [
              0.5555555555555556,
              "#d8576b"
             ],
             [
              0.6666666666666666,
              "#ed7953"
             ],
             [
              0.7777777777777778,
              "#fb9f3a"
             ],
             [
              0.8888888888888888,
              "#fdca26"
             ],
             [
              1,
              "#f0f921"
             ]
            ],
            "type": "surface"
           }
          ],
          "table": [
           {
            "cells": {
             "fill": {
              "color": "#EBF0F8"
             },
             "line": {
              "color": "white"
             }
            },
            "header": {
             "fill": {
              "color": "#C8D4E3"
             },
             "line": {
              "color": "white"
             }
            },
            "type": "table"
           }
          ]
         },
         "layout": {
          "annotationdefaults": {
           "arrowcolor": "#2a3f5f",
           "arrowhead": 0,
           "arrowwidth": 1
          },
          "autotypenumbers": "strict",
          "coloraxis": {
           "colorbar": {
            "outlinewidth": 0,
            "ticks": ""
           }
          },
          "colorscale": {
           "diverging": [
            [
             0,
             "#8e0152"
            ],
            [
             0.1,
             "#c51b7d"
            ],
            [
             0.2,
             "#de77ae"
            ],
            [
             0.3,
             "#f1b6da"
            ],
            [
             0.4,
             "#fde0ef"
            ],
            [
             0.5,
             "#f7f7f7"
            ],
            [
             0.6,
             "#e6f5d0"
            ],
            [
             0.7,
             "#b8e186"
            ],
            [
             0.8,
             "#7fbc41"
            ],
            [
             0.9,
             "#4d9221"
            ],
            [
             1,
             "#276419"
            ]
           ],
           "sequential": [
            [
             0,
             "#0d0887"
            ],
            [
             0.1111111111111111,
             "#46039f"
            ],
            [
             0.2222222222222222,
             "#7201a8"
            ],
            [
             0.3333333333333333,
             "#9c179e"
            ],
            [
             0.4444444444444444,
             "#bd3786"
            ],
            [
             0.5555555555555556,
             "#d8576b"
            ],
            [
             0.6666666666666666,
             "#ed7953"
            ],
            [
             0.7777777777777778,
             "#fb9f3a"
            ],
            [
             0.8888888888888888,
             "#fdca26"
            ],
            [
             1,
             "#f0f921"
            ]
           ],
           "sequentialminus": [
            [
             0,
             "#0d0887"
            ],
            [
             0.1111111111111111,
             "#46039f"
            ],
            [
             0.2222222222222222,
             "#7201a8"
            ],
            [
             0.3333333333333333,
             "#9c179e"
            ],
            [
             0.4444444444444444,
             "#bd3786"
            ],
            [
             0.5555555555555556,
             "#d8576b"
            ],
            [
             0.6666666666666666,
             "#ed7953"
            ],
            [
             0.7777777777777778,
             "#fb9f3a"
            ],
            [
             0.8888888888888888,
             "#fdca26"
            ],
            [
             1,
             "#f0f921"
            ]
           ]
          },
          "colorway": [
           "#636efa",
           "#EF553B",
           "#00cc96",
           "#ab63fa",
           "#FFA15A",
           "#19d3f3",
           "#FF6692",
           "#B6E880",
           "#FF97FF",
           "#FECB52"
          ],
          "font": {
           "color": "#2a3f5f"
          },
          "geo": {
           "bgcolor": "white",
           "lakecolor": "white",
           "landcolor": "#E5ECF6",
           "showlakes": true,
           "showland": true,
           "subunitcolor": "white"
          },
          "hoverlabel": {
           "align": "left"
          },
          "hovermode": "closest",
          "mapbox": {
           "style": "light"
          },
          "paper_bgcolor": "white",
          "plot_bgcolor": "#E5ECF6",
          "polar": {
           "angularaxis": {
            "gridcolor": "white",
            "linecolor": "white",
            "ticks": ""
           },
           "bgcolor": "#E5ECF6",
           "radialaxis": {
            "gridcolor": "white",
            "linecolor": "white",
            "ticks": ""
           }
          },
          "scene": {
           "xaxis": {
            "backgroundcolor": "#E5ECF6",
            "gridcolor": "white",
            "gridwidth": 2,
            "linecolor": "white",
            "showbackground": true,
            "ticks": "",
            "zerolinecolor": "white"
           },
           "yaxis": {
            "backgroundcolor": "#E5ECF6",
            "gridcolor": "white",
            "gridwidth": 2,
            "linecolor": "white",
            "showbackground": true,
            "ticks": "",
            "zerolinecolor": "white"
           },
           "zaxis": {
            "backgroundcolor": "#E5ECF6",
            "gridcolor": "white",
            "gridwidth": 2,
            "linecolor": "white",
            "showbackground": true,
            "ticks": "",
            "zerolinecolor": "white"
           }
          },
          "shapedefaults": {
           "line": {
            "color": "#2a3f5f"
           }
          },
          "ternary": {
           "aaxis": {
            "gridcolor": "white",
            "linecolor": "white",
            "ticks": ""
           },
           "baxis": {
            "gridcolor": "white",
            "linecolor": "white",
            "ticks": ""
           },
           "bgcolor": "#E5ECF6",
           "caxis": {
            "gridcolor": "white",
            "linecolor": "white",
            "ticks": ""
           }
          },
          "title": {
           "x": 0.05
          },
          "xaxis": {
           "automargin": true,
           "gridcolor": "white",
           "linecolor": "white",
           "ticks": "",
           "title": {
            "standoff": 15
           },
           "zerolinecolor": "white",
           "zerolinewidth": 2
          },
          "yaxis": {
           "automargin": true,
           "gridcolor": "white",
           "linecolor": "white",
           "ticks": "",
           "title": {
            "standoff": 15
           },
           "zerolinecolor": "white",
           "zerolinewidth": 2
          }
         }
        }
       }
      },
      "text/html": [
       "<div>                            <div id=\"ca4a61f3-fb3c-47b6-9100-6ccedade8f5b\" class=\"plotly-graph-div\" style=\"height:525px; width:100%;\"></div>            <script type=\"text/javascript\">                require([\"plotly\"], function(Plotly) {                    window.PLOTLYENV=window.PLOTLYENV || {};                                    if (document.getElementById(\"ca4a61f3-fb3c-47b6-9100-6ccedade8f5b\")) {                    Plotly.newPlot(                        \"ca4a61f3-fb3c-47b6-9100-6ccedade8f5b\",                        [{\"link\":{\"color\":[\"#636EFA\",\"#636EFA\",\"#636EFA\",\"#636EFA\",\"#EF553B\",\"#EF553B\",\"#EF553B\",\"#00CC96\",\"#00CC96\",\"#00CC96\",\"#AB63FA\",\"#AB63FA\",\"#AB63FA\",\"#FFA15A\",\"#FFA15A\",\"#FFA15A\"],\"source\":[0,0,0,0,1,1,1,2,2,2,3,3,3,4,4,4],\"target\":[1,2,3,4,5,6,7,5,6,7,5,6,7,5,6,7],\"value\":[99,2066,3805,840,6,65,28,62,1215,789,181,2411,1213,61,518,261]},\"node\":{\"color\":[\"#636EFA\",\"#EF553B\",\"#00CC96\",\"#AB63FA\",\"#FFA15A\",\"#19D3F3\",\"#FF6692\",\"#B6E880\"],\"label\":[\"Pier 69 / Alaskan Way & Clay St\",\"Night\",\"Morning\",\"Afternoon\",\"Evening\",\"2nd Ave & Pine St\",\"Pier 69 / Alaskan Way & Clay St\",\"Seattle Aquarium / Alaskan Way S & Elliott Bay Trail\"]},\"type\":\"sankey\"}],                        {\"template\":{\"data\":{\"bar\":[{\"error_x\":{\"color\":\"#2a3f5f\"},\"error_y\":{\"color\":\"#2a3f5f\"},\"marker\":{\"line\":{\"color\":\"#E5ECF6\",\"width\":0.5},\"pattern\":{\"fillmode\":\"overlay\",\"size\":10,\"solidity\":0.2}},\"type\":\"bar\"}],\"barpolar\":[{\"marker\":{\"line\":{\"color\":\"#E5ECF6\",\"width\":0.5},\"pattern\":{\"fillmode\":\"overlay\",\"size\":10,\"solidity\":0.2}},\"type\":\"barpolar\"}],\"carpet\":[{\"aaxis\":{\"endlinecolor\":\"#2a3f5f\",\"gridcolor\":\"white\",\"linecolor\":\"white\",\"minorgridcolor\":\"white\",\"startlinecolor\":\"#2a3f5f\"},\"baxis\":{\"endlinecolor\":\"#2a3f5f\",\"gridcolor\":\"white\",\"linecolor\":\"white\",\"minorgridcolor\":\"white\",\"startlinecolor\":\"#2a3f5f\"},\"type\":\"carpet\"}],\"choropleth\":[{\"colorbar\":{\"outlinewidth\":0,\"ticks\":\"\"},\"type\":\"choropleth\"}],\"contour\":[{\"colorbar\":{\"outlinewidth\":0,\"ticks\":\"\"},\"colorscale\":[[0.0,\"#0d0887\"],[0.1111111111111111,\"#46039f\"],[0.2222222222222222,\"#7201a8\"],[0.3333333333333333,\"#9c179e\"],[0.4444444444444444,\"#bd3786\"],[0.5555555555555556,\"#d8576b\"],[0.6666666666666666,\"#ed7953\"],[0.7777777777777778,\"#fb9f3a\"],[0.8888888888888888,\"#fdca26\"],[1.0,\"#f0f921\"]],\"type\":\"contour\"}],\"contourcarpet\":[{\"colorbar\":{\"outlinewidth\":0,\"ticks\":\"\"},\"type\":\"contourcarpet\"}],\"heatmap\":[{\"colorbar\":{\"outlinewidth\":0,\"ticks\":\"\"},\"colorscale\":[[0.0,\"#0d0887\"],[0.1111111111111111,\"#46039f\"],[0.2222222222222222,\"#7201a8\"],[0.3333333333333333,\"#9c179e\"],[0.4444444444444444,\"#bd3786\"],[0.5555555555555556,\"#d8576b\"],[0.6666666666666666,\"#ed7953\"],[0.7777777777777778,\"#fb9f3a\"],[0.8888888888888888,\"#fdca26\"],[1.0,\"#f0f921\"]],\"type\":\"heatmap\"}],\"heatmapgl\":[{\"colorbar\":{\"outlinewidth\":0,\"ticks\":\"\"},\"colorscale\":[[0.0,\"#0d0887\"],[0.1111111111111111,\"#46039f\"],[0.2222222222222222,\"#7201a8\"],[0.3333333333333333,\"#9c179e\"],[0.4444444444444444,\"#bd3786\"],[0.5555555555555556,\"#d8576b\"],[0.6666666666666666,\"#ed7953\"],[0.7777777777777778,\"#fb9f3a\"],[0.8888888888888888,\"#fdca26\"],[1.0,\"#f0f921\"]],\"type\":\"heatmapgl\"}],\"histogram\":[{\"marker\":{\"pattern\":{\"fillmode\":\"overlay\",\"size\":10,\"solidity\":0.2}},\"type\":\"histogram\"}],\"histogram2d\":[{\"colorbar\":{\"outlinewidth\":0,\"ticks\":\"\"},\"colorscale\":[[0.0,\"#0d0887\"],[0.1111111111111111,\"#46039f\"],[0.2222222222222222,\"#7201a8\"],[0.3333333333333333,\"#9c179e\"],[0.4444444444444444,\"#bd3786\"],[0.5555555555555556,\"#d8576b\"],[0.6666666666666666,\"#ed7953\"],[0.7777777777777778,\"#fb9f3a\"],[0.8888888888888888,\"#fdca26\"],[1.0,\"#f0f921\"]],\"type\":\"histogram2d\"}],\"histogram2dcontour\":[{\"colorbar\":{\"outlinewidth\":0,\"ticks\":\"\"},\"colorscale\":[[0.0,\"#0d0887\"],[0.1111111111111111,\"#46039f\"],[0.2222222222222222,\"#7201a8\"],[0.3333333333333333,\"#9c179e\"],[0.4444444444444444,\"#bd3786\"],[0.5555555555555556,\"#d8576b\"],[0.6666666666666666,\"#ed7953\"],[0.7777777777777778,\"#fb9f3a\"],[0.8888888888888888,\"#fdca26\"],[1.0,\"#f0f921\"]],\"type\":\"histogram2dcontour\"}],\"mesh3d\":[{\"colorbar\":{\"outlinewidth\":0,\"ticks\":\"\"},\"type\":\"mesh3d\"}],\"parcoords\":[{\"line\":{\"colorbar\":{\"outlinewidth\":0,\"ticks\":\"\"}},\"type\":\"parcoords\"}],\"pie\":[{\"automargin\":true,\"type\":\"pie\"}],\"scatter\":[{\"marker\":{\"colorbar\":{\"outlinewidth\":0,\"ticks\":\"\"}},\"type\":\"scatter\"}],\"scatter3d\":[{\"line\":{\"colorbar\":{\"outlinewidth\":0,\"ticks\":\"\"}},\"marker\":{\"colorbar\":{\"outlinewidth\":0,\"ticks\":\"\"}},\"type\":\"scatter3d\"}],\"scattercarpet\":[{\"marker\":{\"colorbar\":{\"outlinewidth\":0,\"ticks\":\"\"}},\"type\":\"scattercarpet\"}],\"scattergeo\":[{\"marker\":{\"colorbar\":{\"outlinewidth\":0,\"ticks\":\"\"}},\"type\":\"scattergeo\"}],\"scattergl\":[{\"marker\":{\"colorbar\":{\"outlinewidth\":0,\"ticks\":\"\"}},\"type\":\"scattergl\"}],\"scattermapbox\":[{\"marker\":{\"colorbar\":{\"outlinewidth\":0,\"ticks\":\"\"}},\"type\":\"scattermapbox\"}],\"scatterpolar\":[{\"marker\":{\"colorbar\":{\"outlinewidth\":0,\"ticks\":\"\"}},\"type\":\"scatterpolar\"}],\"scatterpolargl\":[{\"marker\":{\"colorbar\":{\"outlinewidth\":0,\"ticks\":\"\"}},\"type\":\"scatterpolargl\"}],\"scatterternary\":[{\"marker\":{\"colorbar\":{\"outlinewidth\":0,\"ticks\":\"\"}},\"type\":\"scatterternary\"}],\"surface\":[{\"colorbar\":{\"outlinewidth\":0,\"ticks\":\"\"},\"colorscale\":[[0.0,\"#0d0887\"],[0.1111111111111111,\"#46039f\"],[0.2222222222222222,\"#7201a8\"],[0.3333333333333333,\"#9c179e\"],[0.4444444444444444,\"#bd3786\"],[0.5555555555555556,\"#d8576b\"],[0.6666666666666666,\"#ed7953\"],[0.7777777777777778,\"#fb9f3a\"],[0.8888888888888888,\"#fdca26\"],[1.0,\"#f0f921\"]],\"type\":\"surface\"}],\"table\":[{\"cells\":{\"fill\":{\"color\":\"#EBF0F8\"},\"line\":{\"color\":\"white\"}},\"header\":{\"fill\":{\"color\":\"#C8D4E3\"},\"line\":{\"color\":\"white\"}},\"type\":\"table\"}]},\"layout\":{\"annotationdefaults\":{\"arrowcolor\":\"#2a3f5f\",\"arrowhead\":0,\"arrowwidth\":1},\"autotypenumbers\":\"strict\",\"coloraxis\":{\"colorbar\":{\"outlinewidth\":0,\"ticks\":\"\"}},\"colorscale\":{\"diverging\":[[0,\"#8e0152\"],[0.1,\"#c51b7d\"],[0.2,\"#de77ae\"],[0.3,\"#f1b6da\"],[0.4,\"#fde0ef\"],[0.5,\"#f7f7f7\"],[0.6,\"#e6f5d0\"],[0.7,\"#b8e186\"],[0.8,\"#7fbc41\"],[0.9,\"#4d9221\"],[1,\"#276419\"]],\"sequential\":[[0.0,\"#0d0887\"],[0.1111111111111111,\"#46039f\"],[0.2222222222222222,\"#7201a8\"],[0.3333333333333333,\"#9c179e\"],[0.4444444444444444,\"#bd3786\"],[0.5555555555555556,\"#d8576b\"],[0.6666666666666666,\"#ed7953\"],[0.7777777777777778,\"#fb9f3a\"],[0.8888888888888888,\"#fdca26\"],[1.0,\"#f0f921\"]],\"sequentialminus\":[[0.0,\"#0d0887\"],[0.1111111111111111,\"#46039f\"],[0.2222222222222222,\"#7201a8\"],[0.3333333333333333,\"#9c179e\"],[0.4444444444444444,\"#bd3786\"],[0.5555555555555556,\"#d8576b\"],[0.6666666666666666,\"#ed7953\"],[0.7777777777777778,\"#fb9f3a\"],[0.8888888888888888,\"#fdca26\"],[1.0,\"#f0f921\"]]},\"colorway\":[\"#636efa\",\"#EF553B\",\"#00cc96\",\"#ab63fa\",\"#FFA15A\",\"#19d3f3\",\"#FF6692\",\"#B6E880\",\"#FF97FF\",\"#FECB52\"],\"font\":{\"color\":\"#2a3f5f\"},\"geo\":{\"bgcolor\":\"white\",\"lakecolor\":\"white\",\"landcolor\":\"#E5ECF6\",\"showlakes\":true,\"showland\":true,\"subunitcolor\":\"white\"},\"hoverlabel\":{\"align\":\"left\"},\"hovermode\":\"closest\",\"mapbox\":{\"style\":\"light\"},\"paper_bgcolor\":\"white\",\"plot_bgcolor\":\"#E5ECF6\",\"polar\":{\"angularaxis\":{\"gridcolor\":\"white\",\"linecolor\":\"white\",\"ticks\":\"\"},\"bgcolor\":\"#E5ECF6\",\"radialaxis\":{\"gridcolor\":\"white\",\"linecolor\":\"white\",\"ticks\":\"\"}},\"scene\":{\"xaxis\":{\"backgroundcolor\":\"#E5ECF6\",\"gridcolor\":\"white\",\"gridwidth\":2,\"linecolor\":\"white\",\"showbackground\":true,\"ticks\":\"\",\"zerolinecolor\":\"white\"},\"yaxis\":{\"backgroundcolor\":\"#E5ECF6\",\"gridcolor\":\"white\",\"gridwidth\":2,\"linecolor\":\"white\",\"showbackground\":true,\"ticks\":\"\",\"zerolinecolor\":\"white\"},\"zaxis\":{\"backgroundcolor\":\"#E5ECF6\",\"gridcolor\":\"white\",\"gridwidth\":2,\"linecolor\":\"white\",\"showbackground\":true,\"ticks\":\"\",\"zerolinecolor\":\"white\"}},\"shapedefaults\":{\"line\":{\"color\":\"#2a3f5f\"}},\"ternary\":{\"aaxis\":{\"gridcolor\":\"white\",\"linecolor\":\"white\",\"ticks\":\"\"},\"baxis\":{\"gridcolor\":\"white\",\"linecolor\":\"white\",\"ticks\":\"\"},\"bgcolor\":\"#E5ECF6\",\"caxis\":{\"gridcolor\":\"white\",\"linecolor\":\"white\",\"ticks\":\"\"}},\"title\":{\"x\":0.05},\"xaxis\":{\"automargin\":true,\"gridcolor\":\"white\",\"linecolor\":\"white\",\"ticks\":\"\",\"title\":{\"standoff\":15},\"zerolinecolor\":\"white\",\"zerolinewidth\":2},\"yaxis\":{\"automargin\":true,\"gridcolor\":\"white\",\"linecolor\":\"white\",\"ticks\":\"\",\"title\":{\"standoff\":15},\"zerolinecolor\":\"white\",\"zerolinewidth\":2}}}},                        {\"responsive\": true}                    ).then(function(){\n",
       "                            \n",
       "var gd = document.getElementById('ca4a61f3-fb3c-47b6-9100-6ccedade8f5b');\n",
       "var x = new MutationObserver(function (mutations, observer) {{\n",
       "        var display = window.getComputedStyle(gd).display;\n",
       "        if (!display || display === 'none') {{\n",
       "            console.log([gd, 'removed!']);\n",
       "            Plotly.purge(gd);\n",
       "            observer.disconnect();\n",
       "        }}\n",
       "}});\n",
       "\n",
       "// Listen for the removal of the full notebook cells\n",
       "var notebookContainer = gd.closest('#notebook-container');\n",
       "if (notebookContainer) {{\n",
       "    x.observe(notebookContainer, {childList: true});\n",
       "}}\n",
       "\n",
       "// Listen for the clearing of the current output cell\n",
       "var outputEl = gd.closest('.output');\n",
       "if (outputEl) {{\n",
       "    x.observe(outputEl, {childList: true});\n",
       "}}\n",
       "\n",
       "                        })                };                });            </script>        </div>"
      ]
     },
     "metadata": {},
     "output_type": "display_data"
    }
   ],
   "source": [
    "fig = go.Figure(data)\n",
    "fig.show()"
   ]
  },
  {
   "cell_type": "code",
   "execution_count": null,
   "id": "1936bf07",
   "metadata": {},
   "outputs": [],
   "source": []
  }
 ],
 "metadata": {
  "kernelspec": {
   "display_name": "Python 3 (ipykernel)",
   "language": "python",
   "name": "python3"
  },
  "language_info": {
   "codemirror_mode": {
    "name": "ipython",
    "version": 3
   },
   "file_extension": ".py",
   "mimetype": "text/x-python",
   "name": "python",
   "nbconvert_exporter": "python",
   "pygments_lexer": "ipython3",
   "version": "3.7.11"
  }
 },
 "nbformat": 4,
 "nbformat_minor": 5
}
