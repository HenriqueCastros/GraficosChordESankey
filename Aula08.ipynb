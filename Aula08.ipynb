{
 "cells": [
  {
   "cell_type": "markdown",
   "id": "f7dc0009",
   "metadata": {},
   "source": [
    "# Exercício Gráfico Fluxo.\n",
    "Vocês vão utilizar um dos tipos de gráfico do tipo Fluxo (Flow).  \n",
    "  \n",
    "Referência: https://www.python-graph-gallery.com/  \n",
    "  \n",
    "Em grupo vocês devem decidir qual base aberta vão utilizar para fazer uma demonstracão de um fluxo de dados.  \n",
    "  \n",
    "No final da aula de hoje vocês devem ter decidido qual base utilizar e se possível uma tentatativa de como utilizar um dos gráficos de Fluxo.  \n",
    "  "
   ]
  },
  {
   "cell_type": "markdown",
   "id": "c60e95c6",
   "metadata": {},
   "source": [
    "# Processamento dos dados e exploração"
   ]
  },
  {
   "cell_type": "code",
   "execution_count": 1,
   "id": "1c216d60",
   "metadata": {},
   "outputs": [],
   "source": [
    "import numpy as np \n",
    "import pandas as pd"
   ]
  },
  {
   "cell_type": "code",
   "execution_count": 2,
   "id": "8e101173",
   "metadata": {
    "scrolled": true
   },
   "outputs": [],
   "source": [
    "df = pd.read_csv('./trip.csv', sep=',')\n",
    "df = df.drop_duplicates(subset=['trip_id'])"
   ]
  },
  {
   "cell_type": "code",
   "execution_count": 3,
   "id": "f114cbec",
   "metadata": {},
   "outputs": [
    {
     "name": "stdout",
     "output_type": "stream",
     "text": [
      "<class 'pandas.core.frame.DataFrame'>\n",
      "Int64Index: 236065 entries, 0 to 286857\n",
      "Data columns (total 12 columns):\n",
      " #   Column             Non-Null Count   Dtype  \n",
      "---  ------             --------------   -----  \n",
      " 0   trip_id            236065 non-null  int64  \n",
      " 1   starttime          236065 non-null  object \n",
      " 2   stoptime           236065 non-null  object \n",
      " 3   bikeid             236065 non-null  object \n",
      " 4   tripduration       236065 non-null  float64\n",
      " 5   from_station_name  236065 non-null  object \n",
      " 6   to_station_name    236065 non-null  object \n",
      " 7   from_station_id    236065 non-null  object \n",
      " 8   to_station_id      236065 non-null  object \n",
      " 9   usertype           236064 non-null  object \n",
      " 10  gender             146171 non-null  object \n",
      " 11  birthyear          146167 non-null  float64\n",
      "dtypes: float64(2), int64(1), object(9)\n",
      "memory usage: 23.4+ MB\n"
     ]
    }
   ],
   "source": [
    "df.info()"
   ]
  },
  {
   "cell_type": "code",
   "execution_count": 4,
   "id": "fa739c7c",
   "metadata": {},
   "outputs": [
    {
     "data": {
      "text/plain": [
       "array(['CBD-06', 'PS-04', 'CBD-07', 'PS-05', 'CBD-05', 'CH-02', 'DPD-01',\n",
       "       'UD-01', 'WF-04', 'BT-04', 'UW-02', 'BT-03', 'ID-04', 'UD-02',\n",
       "       'UD-04', 'CBD-13', 'FH-01', 'CH-09', 'SLU-15', 'SLU-18', 'UW-10',\n",
       "       'CH-15', 'BT-05', 'SLU-01', 'UD-07', 'CBD-03', 'CH-08', 'UW-07',\n",
       "       'SLU-19', 'DPD-03', 'WF-01', 'CH-05', 'SLU-02', 'CH-07', 'UW-06',\n",
       "       'UW-04', 'SLU-17', 'EL-01', 'EL-05', 'CH-06', 'SLU-04', 'BT-01',\n",
       "       'CH-01', 'CH-03', 'CH-12', 'EL-03', 'FH-04', 'SLU-07', 'SLU-16',\n",
       "       'UW-01', 'CD-01', 'Pronto shop', 'SLU-20', 'CBD-04', 'SLU-21',\n",
       "       'UW-11', 'CH-16', 'Pronto shop 2', 'SLU-22', 'WF-03', '8D OPS 02'],\n",
       "      dtype=object)"
      ]
     },
     "execution_count": 4,
     "metadata": {},
     "output_type": "execute_result"
    }
   ],
   "source": [
    "df['from_station_id'].unique()"
   ]
  },
  {
   "cell_type": "code",
   "execution_count": 5,
   "id": "474f0f8c",
   "metadata": {},
   "outputs": [],
   "source": [
    "# bad_stations = ['Pronto shop', 'Pronto shop 2','8D OPS 02']\n",
    "# mascara_from = df['from_station_id'].isin(bad_stations)\n",
    "# mascara_to = df['to_station_id'].isin(bad_stations)\n",
    "\n",
    "# df = df[~mascara_from & ~mascara_to]"
   ]
  },
  {
   "cell_type": "code",
   "execution_count": 6,
   "id": "4abd41fd",
   "metadata": {},
   "outputs": [
    {
     "data": {
      "text/html": [
       "<div>\n",
       "<style scoped>\n",
       "    .dataframe tbody tr th:only-of-type {\n",
       "        vertical-align: middle;\n",
       "    }\n",
       "\n",
       "    .dataframe tbody tr th {\n",
       "        vertical-align: top;\n",
       "    }\n",
       "\n",
       "    .dataframe thead th {\n",
       "        text-align: right;\n",
       "    }\n",
       "</style>\n",
       "<table border=\"1\" class=\"dataframe\">\n",
       "  <thead>\n",
       "    <tr style=\"text-align: right;\">\n",
       "      <th></th>\n",
       "      <th>from_station_id</th>\n",
       "      <th>to_station_id</th>\n",
       "    </tr>\n",
       "  </thead>\n",
       "  <tbody>\n",
       "    <tr>\n",
       "      <th>0</th>\n",
       "      <td>CBD-06</td>\n",
       "      <td>PS-04</td>\n",
       "    </tr>\n",
       "    <tr>\n",
       "      <th>1</th>\n",
       "      <td>CBD-06</td>\n",
       "      <td>PS-04</td>\n",
       "    </tr>\n",
       "    <tr>\n",
       "      <th>2</th>\n",
       "      <td>CBD-06</td>\n",
       "      <td>PS-04</td>\n",
       "    </tr>\n",
       "    <tr>\n",
       "      <th>3</th>\n",
       "      <td>CBD-06</td>\n",
       "      <td>PS-04</td>\n",
       "    </tr>\n",
       "    <tr>\n",
       "      <th>4</th>\n",
       "      <td>CBD-06</td>\n",
       "      <td>PS-04</td>\n",
       "    </tr>\n",
       "  </tbody>\n",
       "</table>\n",
       "</div>"
      ],
      "text/plain": [
       "  from_station_id to_station_id\n",
       "0          CBD-06         PS-04\n",
       "1          CBD-06         PS-04\n",
       "2          CBD-06         PS-04\n",
       "3          CBD-06         PS-04\n",
       "4          CBD-06         PS-04"
      ]
     },
     "execution_count": 6,
     "metadata": {},
     "output_type": "execute_result"
    }
   ],
   "source": [
    "df[['from_station_id','to_station_id']].head()"
   ]
  },
  {
   "cell_type": "code",
   "execution_count": 7,
   "id": "a8ddd32e",
   "metadata": {},
   "outputs": [],
   "source": [
    "crosstab_df = pd.crosstab(df['from_station_id'], df['to_station_id'])"
   ]
  },
  {
   "cell_type": "code",
   "execution_count": 8,
   "id": "09cf0b47",
   "metadata": {},
   "outputs": [
    {
     "data": {
      "text/html": [
       "<div>\n",
       "<style scoped>\n",
       "    .dataframe tbody tr th:only-of-type {\n",
       "        vertical-align: middle;\n",
       "    }\n",
       "\n",
       "    .dataframe tbody tr th {\n",
       "        vertical-align: top;\n",
       "    }\n",
       "\n",
       "    .dataframe thead th {\n",
       "        text-align: right;\n",
       "    }\n",
       "</style>\n",
       "<table border=\"1\" class=\"dataframe\">\n",
       "  <thead>\n",
       "    <tr style=\"text-align: right;\">\n",
       "      <th>to_station_id</th>\n",
       "      <th>8D OPS 02</th>\n",
       "      <th>BT-01</th>\n",
       "      <th>BT-03</th>\n",
       "      <th>BT-04</th>\n",
       "      <th>BT-05</th>\n",
       "      <th>CBD-03</th>\n",
       "      <th>CBD-04</th>\n",
       "      <th>CBD-05</th>\n",
       "      <th>CBD-06</th>\n",
       "      <th>CBD-07</th>\n",
       "      <th>...</th>\n",
       "      <th>UW-01</th>\n",
       "      <th>UW-02</th>\n",
       "      <th>UW-04</th>\n",
       "      <th>UW-06</th>\n",
       "      <th>UW-07</th>\n",
       "      <th>UW-10</th>\n",
       "      <th>UW-11</th>\n",
       "      <th>WF-01</th>\n",
       "      <th>WF-03</th>\n",
       "      <th>WF-04</th>\n",
       "    </tr>\n",
       "    <tr>\n",
       "      <th>from_station_id</th>\n",
       "      <th></th>\n",
       "      <th></th>\n",
       "      <th></th>\n",
       "      <th></th>\n",
       "      <th></th>\n",
       "      <th></th>\n",
       "      <th></th>\n",
       "      <th></th>\n",
       "      <th></th>\n",
       "      <th></th>\n",
       "      <th></th>\n",
       "      <th></th>\n",
       "      <th></th>\n",
       "      <th></th>\n",
       "      <th></th>\n",
       "      <th></th>\n",
       "      <th></th>\n",
       "      <th></th>\n",
       "      <th></th>\n",
       "      <th></th>\n",
       "      <th></th>\n",
       "    </tr>\n",
       "  </thead>\n",
       "  <tbody>\n",
       "    <tr>\n",
       "      <th>8D OPS 02</th>\n",
       "      <td>2</td>\n",
       "      <td>0</td>\n",
       "      <td>0</td>\n",
       "      <td>0</td>\n",
       "      <td>0</td>\n",
       "      <td>0</td>\n",
       "      <td>0</td>\n",
       "      <td>0</td>\n",
       "      <td>0</td>\n",
       "      <td>0</td>\n",
       "      <td>...</td>\n",
       "      <td>0</td>\n",
       "      <td>0</td>\n",
       "      <td>0</td>\n",
       "      <td>0</td>\n",
       "      <td>0</td>\n",
       "      <td>0</td>\n",
       "      <td>0</td>\n",
       "      <td>0</td>\n",
       "      <td>0</td>\n",
       "      <td>0</td>\n",
       "    </tr>\n",
       "    <tr>\n",
       "      <th>BT-01</th>\n",
       "      <td>0</td>\n",
       "      <td>627</td>\n",
       "      <td>182</td>\n",
       "      <td>114</td>\n",
       "      <td>403</td>\n",
       "      <td>179</td>\n",
       "      <td>135</td>\n",
       "      <td>236</td>\n",
       "      <td>743</td>\n",
       "      <td>104</td>\n",
       "      <td>...</td>\n",
       "      <td>3</td>\n",
       "      <td>1</td>\n",
       "      <td>21</td>\n",
       "      <td>4</td>\n",
       "      <td>2</td>\n",
       "      <td>4</td>\n",
       "      <td>3</td>\n",
       "      <td>777</td>\n",
       "      <td>13</td>\n",
       "      <td>792</td>\n",
       "    </tr>\n",
       "    <tr>\n",
       "      <th>BT-03</th>\n",
       "      <td>0</td>\n",
       "      <td>301</td>\n",
       "      <td>284</td>\n",
       "      <td>79</td>\n",
       "      <td>204</td>\n",
       "      <td>187</td>\n",
       "      <td>91</td>\n",
       "      <td>365</td>\n",
       "      <td>363</td>\n",
       "      <td>54</td>\n",
       "      <td>...</td>\n",
       "      <td>0</td>\n",
       "      <td>0</td>\n",
       "      <td>17</td>\n",
       "      <td>0</td>\n",
       "      <td>1</td>\n",
       "      <td>6</td>\n",
       "      <td>0</td>\n",
       "      <td>237</td>\n",
       "      <td>6</td>\n",
       "      <td>172</td>\n",
       "    </tr>\n",
       "    <tr>\n",
       "      <th>BT-04</th>\n",
       "      <td>0</td>\n",
       "      <td>178</td>\n",
       "      <td>106</td>\n",
       "      <td>146</td>\n",
       "      <td>60</td>\n",
       "      <td>72</td>\n",
       "      <td>55</td>\n",
       "      <td>265</td>\n",
       "      <td>101</td>\n",
       "      <td>41</td>\n",
       "      <td>...</td>\n",
       "      <td>0</td>\n",
       "      <td>0</td>\n",
       "      <td>5</td>\n",
       "      <td>0</td>\n",
       "      <td>1</td>\n",
       "      <td>4</td>\n",
       "      <td>1</td>\n",
       "      <td>98</td>\n",
       "      <td>1</td>\n",
       "      <td>42</td>\n",
       "    </tr>\n",
       "    <tr>\n",
       "      <th>BT-05</th>\n",
       "      <td>0</td>\n",
       "      <td>373</td>\n",
       "      <td>154</td>\n",
       "      <td>77</td>\n",
       "      <td>220</td>\n",
       "      <td>166</td>\n",
       "      <td>67</td>\n",
       "      <td>192</td>\n",
       "      <td>193</td>\n",
       "      <td>59</td>\n",
       "      <td>...</td>\n",
       "      <td>0</td>\n",
       "      <td>2</td>\n",
       "      <td>6</td>\n",
       "      <td>2</td>\n",
       "      <td>2</td>\n",
       "      <td>2</td>\n",
       "      <td>0</td>\n",
       "      <td>184</td>\n",
       "      <td>1</td>\n",
       "      <td>93</td>\n",
       "    </tr>\n",
       "  </tbody>\n",
       "</table>\n",
       "<p>5 rows × 61 columns</p>\n",
       "</div>"
      ],
      "text/plain": [
       "to_station_id    8D OPS 02  BT-01  BT-03  BT-04  BT-05  CBD-03  CBD-04  \\\n",
       "from_station_id                                                          \n",
       "8D OPS 02                2      0      0      0      0       0       0   \n",
       "BT-01                    0    627    182    114    403     179     135   \n",
       "BT-03                    0    301    284     79    204     187      91   \n",
       "BT-04                    0    178    106    146     60      72      55   \n",
       "BT-05                    0    373    154     77    220     166      67   \n",
       "\n",
       "to_station_id    CBD-05  CBD-06  CBD-07  ...  UW-01  UW-02  UW-04  UW-06  \\\n",
       "from_station_id                          ...                               \n",
       "8D OPS 02             0       0       0  ...      0      0      0      0   \n",
       "BT-01               236     743     104  ...      3      1     21      4   \n",
       "BT-03               365     363      54  ...      0      0     17      0   \n",
       "BT-04               265     101      41  ...      0      0      5      0   \n",
       "BT-05               192     193      59  ...      0      2      6      2   \n",
       "\n",
       "to_station_id    UW-07  UW-10  UW-11  WF-01  WF-03  WF-04  \n",
       "from_station_id                                            \n",
       "8D OPS 02            0      0      0      0      0      0  \n",
       "BT-01                2      4      3    777     13    792  \n",
       "BT-03                1      6      0    237      6    172  \n",
       "BT-04                1      4      1     98      1     42  \n",
       "BT-05                2      2      0    184      1     93  \n",
       "\n",
       "[5 rows x 61 columns]"
      ]
     },
     "execution_count": 8,
     "metadata": {},
     "output_type": "execute_result"
    }
   ],
   "source": [
    "crosstab_df.head()"
   ]
  },
  {
   "cell_type": "code",
   "execution_count": 9,
   "id": "424a18c5",
   "metadata": {},
   "outputs": [
    {
     "data": {
      "text/html": [
       "<div>\n",
       "<style scoped>\n",
       "    .dataframe tbody tr th:only-of-type {\n",
       "        vertical-align: middle;\n",
       "    }\n",
       "\n",
       "    .dataframe tbody tr th {\n",
       "        vertical-align: top;\n",
       "    }\n",
       "\n",
       "    .dataframe thead tr th {\n",
       "        text-align: left;\n",
       "    }\n",
       "\n",
       "    .dataframe thead tr:last-of-type th {\n",
       "        text-align: right;\n",
       "    }\n",
       "</style>\n",
       "<table border=\"1\" class=\"dataframe\">\n",
       "  <thead>\n",
       "    <tr>\n",
       "      <th></th>\n",
       "      <th colspan=\"8\" halign=\"left\">0</th>\n",
       "    </tr>\n",
       "    <tr>\n",
       "      <th>to_station_id</th>\n",
       "      <th>BT-01</th>\n",
       "      <th>CBD-13</th>\n",
       "      <th>PS-05</th>\n",
       "      <th>SLU-16</th>\n",
       "      <th>SLU-17</th>\n",
       "      <th>UD-01</th>\n",
       "      <th>WF-01</th>\n",
       "      <th>WF-04</th>\n",
       "    </tr>\n",
       "    <tr>\n",
       "      <th>from_station_id</th>\n",
       "      <th></th>\n",
       "      <th></th>\n",
       "      <th></th>\n",
       "      <th></th>\n",
       "      <th></th>\n",
       "      <th></th>\n",
       "      <th></th>\n",
       "      <th></th>\n",
       "    </tr>\n",
       "  </thead>\n",
       "  <tbody>\n",
       "    <tr>\n",
       "      <th>BT-01</th>\n",
       "      <td>NaN</td>\n",
       "      <td>1101.0</td>\n",
       "      <td>NaN</td>\n",
       "      <td>NaN</td>\n",
       "      <td>NaN</td>\n",
       "      <td>NaN</td>\n",
       "      <td>NaN</td>\n",
       "      <td>NaN</td>\n",
       "    </tr>\n",
       "    <tr>\n",
       "      <th>CBD-13</th>\n",
       "      <td>962.0</td>\n",
       "      <td>NaN</td>\n",
       "      <td>NaN</td>\n",
       "      <td>NaN</td>\n",
       "      <td>NaN</td>\n",
       "      <td>NaN</td>\n",
       "      <td>NaN</td>\n",
       "      <td>NaN</td>\n",
       "    </tr>\n",
       "    <tr>\n",
       "      <th>CH-07</th>\n",
       "      <td>NaN</td>\n",
       "      <td>NaN</td>\n",
       "      <td>NaN</td>\n",
       "      <td>934.0</td>\n",
       "      <td>NaN</td>\n",
       "      <td>NaN</td>\n",
       "      <td>NaN</td>\n",
       "      <td>NaN</td>\n",
       "    </tr>\n",
       "    <tr>\n",
       "      <th>SLU-17</th>\n",
       "      <td>NaN</td>\n",
       "      <td>NaN</td>\n",
       "      <td>NaN</td>\n",
       "      <td>NaN</td>\n",
       "      <td>960.0</td>\n",
       "      <td>NaN</td>\n",
       "      <td>NaN</td>\n",
       "      <td>NaN</td>\n",
       "    </tr>\n",
       "    <tr>\n",
       "      <th>UD-01</th>\n",
       "      <td>NaN</td>\n",
       "      <td>NaN</td>\n",
       "      <td>NaN</td>\n",
       "      <td>NaN</td>\n",
       "      <td>NaN</td>\n",
       "      <td>880.0</td>\n",
       "      <td>NaN</td>\n",
       "      <td>NaN</td>\n",
       "    </tr>\n",
       "    <tr>\n",
       "      <th>WF-01</th>\n",
       "      <td>NaN</td>\n",
       "      <td>NaN</td>\n",
       "      <td>962.0</td>\n",
       "      <td>NaN</td>\n",
       "      <td>NaN</td>\n",
       "      <td>NaN</td>\n",
       "      <td>4209.0</td>\n",
       "      <td>2291.0</td>\n",
       "    </tr>\n",
       "    <tr>\n",
       "      <th>WF-04</th>\n",
       "      <td>NaN</td>\n",
       "      <td>NaN</td>\n",
       "      <td>NaN</td>\n",
       "      <td>NaN</td>\n",
       "      <td>NaN</td>\n",
       "      <td>NaN</td>\n",
       "      <td>1605.0</td>\n",
       "      <td>1150.0</td>\n",
       "    </tr>\n",
       "  </tbody>\n",
       "</table>\n",
       "</div>"
      ],
      "text/plain": [
       "                     0                                                    \n",
       "to_station_id    BT-01  CBD-13  PS-05 SLU-16 SLU-17  UD-01   WF-01   WF-04\n",
       "from_station_id                                                           \n",
       "BT-01              NaN  1101.0    NaN    NaN    NaN    NaN     NaN     NaN\n",
       "CBD-13           962.0     NaN    NaN    NaN    NaN    NaN     NaN     NaN\n",
       "CH-07              NaN     NaN    NaN  934.0    NaN    NaN     NaN     NaN\n",
       "SLU-17             NaN     NaN    NaN    NaN  960.0    NaN     NaN     NaN\n",
       "UD-01              NaN     NaN    NaN    NaN    NaN  880.0     NaN     NaN\n",
       "WF-01              NaN     NaN  962.0    NaN    NaN    NaN  4209.0  2291.0\n",
       "WF-04              NaN     NaN    NaN    NaN    NaN    NaN  1605.0  1150.0"
      ]
     },
     "execution_count": 9,
     "metadata": {},
     "output_type": "execute_result"
    }
   ],
   "source": [
    "## DESCONSIDERAR\n",
    "df.groupby(['from_station_id', 'to_station_id']).size().to_frame()\\\n",
    "    .sort_values(by=0,ascending=False).head(10).reset_index().pivot(index='from_station_id', columns='to_station_id')"
   ]
  },
  {
   "cell_type": "code",
   "execution_count": 10,
   "id": "31627fdf",
   "metadata": {},
   "outputs": [],
   "source": [
    "top_10_estacoes = df.groupby(['from_station_id', 'to_station_id']).size().to_frame().nlargest(10, 0).reset_index()"
   ]
  },
  {
   "cell_type": "code",
   "execution_count": 11,
   "id": "c8163ce3",
   "metadata": {},
   "outputs": [
    {
     "data": {
      "text/html": [
       "<div>\n",
       "<style scoped>\n",
       "    .dataframe tbody tr th:only-of-type {\n",
       "        vertical-align: middle;\n",
       "    }\n",
       "\n",
       "    .dataframe tbody tr th {\n",
       "        vertical-align: top;\n",
       "    }\n",
       "\n",
       "    .dataframe thead th {\n",
       "        text-align: right;\n",
       "    }\n",
       "</style>\n",
       "<table border=\"1\" class=\"dataframe\">\n",
       "  <thead>\n",
       "    <tr style=\"text-align: right;\">\n",
       "      <th></th>\n",
       "      <th>from_station_id</th>\n",
       "      <th>to_station_id</th>\n",
       "      <th>0</th>\n",
       "    </tr>\n",
       "  </thead>\n",
       "  <tbody>\n",
       "    <tr>\n",
       "      <th>0</th>\n",
       "      <td>WF-01</td>\n",
       "      <td>WF-01</td>\n",
       "      <td>4209</td>\n",
       "    </tr>\n",
       "    <tr>\n",
       "      <th>1</th>\n",
       "      <td>WF-01</td>\n",
       "      <td>WF-04</td>\n",
       "      <td>2291</td>\n",
       "    </tr>\n",
       "    <tr>\n",
       "      <th>2</th>\n",
       "      <td>WF-04</td>\n",
       "      <td>WF-01</td>\n",
       "      <td>1605</td>\n",
       "    </tr>\n",
       "    <tr>\n",
       "      <th>3</th>\n",
       "      <td>WF-04</td>\n",
       "      <td>WF-04</td>\n",
       "      <td>1150</td>\n",
       "    </tr>\n",
       "    <tr>\n",
       "      <th>4</th>\n",
       "      <td>BT-01</td>\n",
       "      <td>CBD-13</td>\n",
       "      <td>1101</td>\n",
       "    </tr>\n",
       "    <tr>\n",
       "      <th>5</th>\n",
       "      <td>CBD-13</td>\n",
       "      <td>BT-01</td>\n",
       "      <td>962</td>\n",
       "    </tr>\n",
       "    <tr>\n",
       "      <th>6</th>\n",
       "      <td>WF-01</td>\n",
       "      <td>PS-05</td>\n",
       "      <td>962</td>\n",
       "    </tr>\n",
       "    <tr>\n",
       "      <th>7</th>\n",
       "      <td>SLU-17</td>\n",
       "      <td>SLU-17</td>\n",
       "      <td>960</td>\n",
       "    </tr>\n",
       "    <tr>\n",
       "      <th>8</th>\n",
       "      <td>CH-07</td>\n",
       "      <td>SLU-16</td>\n",
       "      <td>934</td>\n",
       "    </tr>\n",
       "    <tr>\n",
       "      <th>9</th>\n",
       "      <td>UD-01</td>\n",
       "      <td>UD-01</td>\n",
       "      <td>880</td>\n",
       "    </tr>\n",
       "  </tbody>\n",
       "</table>\n",
       "</div>"
      ],
      "text/plain": [
       "  from_station_id to_station_id     0\n",
       "0           WF-01         WF-01  4209\n",
       "1           WF-01         WF-04  2291\n",
       "2           WF-04         WF-01  1605\n",
       "3           WF-04         WF-04  1150\n",
       "4           BT-01        CBD-13  1101\n",
       "5          CBD-13         BT-01   962\n",
       "6           WF-01         PS-05   962\n",
       "7          SLU-17        SLU-17   960\n",
       "8           CH-07        SLU-16   934\n",
       "9           UD-01         UD-01   880"
      ]
     },
     "execution_count": 11,
     "metadata": {},
     "output_type": "execute_result"
    }
   ],
   "source": [
    "top_10_estacoes"
   ]
  },
  {
   "cell_type": "code",
   "execution_count": 12,
   "id": "a24fb0ca",
   "metadata": {},
   "outputs": [],
   "source": [
    "from_station_mask = top_10_estacoes['from_station_id'].unique()\n",
    "to_station_mask = top_10_estacoes['to_station_id'].unique()"
   ]
  },
  {
   "cell_type": "code",
   "execution_count": 13,
   "id": "29bbd1a5",
   "metadata": {},
   "outputs": [
    {
     "data": {
      "text/plain": [
       "{'BT-01', 'CBD-13', 'CH-07', 'SLU-17', 'UD-01', 'WF-01', 'WF-04'}"
      ]
     },
     "execution_count": 13,
     "metadata": {},
     "output_type": "execute_result"
    }
   ],
   "source": [
    "set(from_station_mask)"
   ]
  },
  {
   "cell_type": "code",
   "execution_count": 14,
   "id": "231bdb43",
   "metadata": {},
   "outputs": [
    {
     "data": {
      "text/plain": [
       "array(['WF-01', 'WF-04', 'CBD-13', 'BT-01', 'PS-05', 'SLU-17', 'SLU-16',\n",
       "       'UD-01'], dtype=object)"
      ]
     },
     "execution_count": 14,
     "metadata": {},
     "output_type": "execute_result"
    }
   ],
   "source": [
    "to_station_mask"
   ]
  },
  {
   "cell_type": "code",
   "execution_count": 15,
   "id": "e92d1b82",
   "metadata": {},
   "outputs": [
    {
     "data": {
      "text/plain": [
       "['WF-01',\n",
       " 'WF-04',\n",
       " 'CBD-13',\n",
       " 'BT-01',\n",
       " 'PS-05',\n",
       " 'SLU-17',\n",
       " 'SLU-16',\n",
       " 'UD-01',\n",
       " 'WF-01',\n",
       " 'WF-04',\n",
       " 'BT-01',\n",
       " 'CBD-13',\n",
       " 'SLU-17',\n",
       " 'CH-07',\n",
       " 'UD-01']"
      ]
     },
     "execution_count": 15,
     "metadata": {},
     "output_type": "execute_result"
    }
   ],
   "source": [
    "[*to_station_mask, *from_station_mask]"
   ]
  },
  {
   "cell_type": "code",
   "execution_count": 16,
   "id": "f2a58eaa",
   "metadata": {},
   "outputs": [],
   "source": [
    "union_stations = set([*from_station_mask, *to_station_mask])"
   ]
  },
  {
   "cell_type": "code",
   "execution_count": 17,
   "id": "f31e65d8",
   "metadata": {},
   "outputs": [
    {
     "data": {
      "text/plain": [
       "{'BT-01',\n",
       " 'CBD-13',\n",
       " 'CH-07',\n",
       " 'PS-05',\n",
       " 'SLU-16',\n",
       " 'SLU-17',\n",
       " 'UD-01',\n",
       " 'WF-01',\n",
       " 'WF-04'}"
      ]
     },
     "execution_count": 17,
     "metadata": {},
     "output_type": "execute_result"
    }
   ],
   "source": [
    "union_stations"
   ]
  },
  {
   "cell_type": "code",
   "execution_count": 18,
   "id": "b56a6852",
   "metadata": {},
   "outputs": [],
   "source": [
    "matrix_data = crosstab_df.loc[union_stations,union_stations]"
   ]
  },
  {
   "cell_type": "markdown",
   "id": "85230936",
   "metadata": {},
   "source": [
    "# Gráfico Chord\n",
    "Nesse caso tentamos usar 3 bibliotecas diferentes:\n",
    "- **Chord**: Nao Foi para frente porque precisaria pagar para usar\n",
    "- **MNE**: conseguimos plotar o gráfico mas não ficou tão bacan\n",
    "- **Plotly**: gráfico além de interativo ficou bom de interpretar"
   ]
  },
  {
   "cell_type": "markdown",
   "id": "70c7fe86",
   "metadata": {},
   "source": [
    "## Chord >:("
   ]
  },
  {
   "cell_type": "code",
   "execution_count": null,
   "id": "b20fb4f4",
   "metadata": {},
   "outputs": [],
   "source": [
    "# !pip install chord\n",
    "# !pip install requests"
   ]
  },
  {
   "cell_type": "code",
   "execution_count": null,
   "id": "f255d185",
   "metadata": {},
   "outputs": [],
   "source": [
    "import requests\n",
    "import numpy as np\n",
    "from chord import Chord"
   ]
  },
  {
   "cell_type": "code",
   "execution_count": null,
   "id": "33cc572a",
   "metadata": {},
   "outputs": [],
   "source": [
    "matrix_data.values.tolist()"
   ]
  },
  {
   "cell_type": "code",
   "execution_count": null,
   "id": "1f2ba25c",
   "metadata": {},
   "outputs": [],
   "source": [
    "Chord(matrix_data.values.tolist(), list(union_stations)).to_html('./chord.html')"
   ]
  },
  {
   "cell_type": "markdown",
   "id": "5ef0207a",
   "metadata": {},
   "source": [
    "## Plotly :O"
   ]
  },
  {
   "cell_type": "code",
   "execution_count": null,
   "id": "d6dcc857",
   "metadata": {},
   "outputs": [],
   "source": [
    "# !pip install plotly\n",
    "# !pip install colorlover\n",
    "import pandas as pd\n",
    "import numpy as np\n",
    "import plotly.graph_objs as go\n",
    "#import colorlover as cl"
   ]
  },
  {
   "cell_type": "code",
   "execution_count": null,
   "id": "114c284e",
   "metadata": {},
   "outputs": [],
   "source": [
    "df_2 = pd.read_csv('trip.csv', sep=',')\n",
    "df_2 = df_2.drop_duplicates(subset=['trip_id'])\n",
    "\n",
    "crosstab_df_2 = pd.crosstab(df_2['from_station_name'], df_2['to_station_name'])\n",
    "top_10_estacoes_2 = df_2.groupby(['from_station_name', 'to_station_name']).size().to_frame().nlargest(10, 0).reset_index()\n",
    "from_station_mask_2 = top_10_estacoes_2['from_station_name'].unique()\n",
    "to_station_mask_2 = top_10_estacoes_2['to_station_name'].unique()\n",
    "\n",
    "union_stations_2 = set([*from_station_mask_2, *to_station_mask_2])\n",
    "\n",
    "data_matrix_2 = crosstab_df_2.loc[union_stations_2,union_stations_2]\n",
    "matrix = data_matrix_2.copy()\n",
    "\n",
    "name_dict = {'Burke-Gilman Trail / NE Blakeley St & 24th Ave NE': 'Burke-Gilman Trail',\n",
    "                                 'King Street Station Plaza / 2nd Ave Extension S & S Jackson St': 'King Street Station Plaza',\n",
    "                                 'Lake Union Park / Valley St & Boren Ave N':'Lake Union Park',\n",
    "                                 'Pier 69 / Alaskan Way & Clay St':'Pier 69',\n",
    "                                 'Seattle Aquarium / Alaskan Way S & Elliott Bay Trail':'Seattle Aquarium'}\n",
    "\n",
    "matrix.rename(columns = name_dict, index = name_dict, inplace = True)"
   ]
  },
  {
   "cell_type": "code",
   "execution_count": null,
   "id": "7cb36803",
   "metadata": {},
   "outputs": [],
   "source": [
    "#def get_spaced_colors(n, randomized=False):\n",
    "#    if n > 0:\n",
    "#        max_value = 255\n",
    "#        interval = max_value / n\n",
    "#        hues = np.arange(0, max_value, interval)\n",
    "#        return cl.to_rgb([\"hsl(%d,80%%,40%%)\" % i for i in hues])\n",
    "#    else:\n",
    "#        return None\n",
    "\n",
    "\n",
    "PI = np.pi\n",
    "\n",
    "\n",
    "def check_square(M):\n",
    "    d, n = M.shape\n",
    "    if d != n:\n",
    "        raise ValueError(\"Data array must be square.\")\n",
    "    return n\n",
    "\n",
    "\n",
    "def moduloAB(x, a, b):\n",
    "    if a >= b:\n",
    "        raise ValueError(\"Incorrect inverval ends\")\n",
    "    y = (x - a) % (b - a)\n",
    "    return y + b if y < 0 else y + a\n",
    "\n",
    "\n",
    "def test_2PI(x):\n",
    "    return 0 <= x < 2 * PI\n",
    "\n",
    "\n",
    "def get_ideogram_ends(ideaogram_len, gap):\n",
    "    ideo_ends = []\n",
    "    left = 0\n",
    "    for k in range(len(ideaogram_len)):\n",
    "        right = left + ideaogram_len[k]\n",
    "        ideo_ends.append([left, right])\n",
    "        left = right + gap\n",
    "    return ideo_ends\n",
    "\n",
    "\n",
    "def make_ideogram_arc(R, phi, a=50):\n",
    "    # R is the circle radius\n",
    "    # Phi is a list of the ends angle coordinates of an arc\n",
    "    # a is a parameter that controls the number of points to be evaluated\n",
    "    if not test_2PI(phi[0]) or not test_2PI(phi[1]):\n",
    "        phi = [moduloAB(t, 0, 2 * PI) for t in phi]\n",
    "    length = (phi[1] - phi[0]) % 2 * PI\n",
    "    nr = 5 if length <= PI / 4 else int(a * length / PI)\n",
    "    if phi[0] < phi[1]:\n",
    "        nr = 100\n",
    "\n",
    "        theta = np.linspace(phi[0], phi[1], nr)\n",
    "    else:\n",
    "        phi = [moduloAB(t, -PI, PI) for t in phi]\n",
    "        # nr = 100\n",
    "        theta = np.linspace(phi[0], phi[1], nr)\n",
    "    return R * np.exp(1j * theta)\n",
    "\n",
    "\n",
    "def map_data(data_matrix, row_value, ideogram_length):\n",
    "    n = data_matrix.shape[0]  # square, so same as 1\n",
    "    mapped = np.zeros([n, n])\n",
    "    for j in range(n):\n",
    "        mapped[:, j] = ideogram_length * data_matrix[:, j] / row_value\n",
    "    return mapped\n",
    "\n",
    "\n",
    "def make_ribbon_ends(mapped_data, ideo_ends, idx_sort):\n",
    "    n = mapped_data.shape[0]\n",
    "    ribbon_boundary = np.zeros((n, n + 1))\n",
    "    for k in range(n):\n",
    "        start = ideo_ends[k][0]\n",
    "        ribbon_boundary[k][0] = start\n",
    "        for j in range(1, n + 1):\n",
    "            J = idx_sort[k][j - 1]\n",
    "            ribbon_boundary[k][j] = start + mapped_data[k][J]\n",
    "            start = ribbon_boundary[k][j]\n",
    "    return [\n",
    "        [(ribbon_boundary[k][j], ribbon_boundary[k][j + 1]) for j in range(n)]\n",
    "        for k in range(n)\n",
    "    ]\n",
    "\n",
    "\n",
    "def control_pts(angle, radius):\n",
    "    if len(angle) != 3:\n",
    "        raise ValueError(\"Angle must have len = 3\")\n",
    "    b_cplx = np.array([np.exp(1j * angle[k]) for k in range(3)])\n",
    "    b_cplx[1] = radius * b_cplx[1]\n",
    "    return list(zip(b_cplx.real, b_cplx.imag))\n",
    "\n",
    "\n",
    "def ctrl_rib_chords(l, r, radius):\n",
    "    if len(l) != 2 or len(r) != 2:\n",
    "        raise ValueError(\"The arc ends must be elements in a list of len 2\")\n",
    "    return [control_pts([l[j], (l[j] + r[j]) / 2, r[j]], radius) for j in range(2)]\n",
    "\n",
    "\n",
    "def make_q_bezier(b):\n",
    "    if len(b) != 3:\n",
    "        raise ValueError(\"Contaol polygon must have 3 points\")\n",
    "    A, B, C = b\n",
    "    return (\n",
    "        \"M \"\n",
    "        + str(A[0])\n",
    "        + \",\"\n",
    "        + str(A[1])\n",
    "        + \" \"\n",
    "        + \"Q \"\n",
    "        + str(B[0])\n",
    "        + \", \"\n",
    "        + str(B[1])\n",
    "        + \" \"\n",
    "        + str(C[0])\n",
    "        + \", \"\n",
    "        + str(C[1])\n",
    "    )\n",
    "\n",
    "\n",
    "def make_ribbon_arc(theta0, theta1):\n",
    "    if test_2PI(theta0) and test_2PI(theta1):\n",
    "        if theta0 < theta1:\n",
    "            theta0 = moduloAB(theta0, -PI, PI)\n",
    "            theta1 = moduloAB(theta1, -PI, PI)\n",
    "            if theta0 * theta1 > 0:\n",
    "                raise ValueError(\"Incorrect angle coordinates for ribbon\")\n",
    "        nr = int(40 * (theta0 - theta1) / PI)\n",
    "        if nr <= 2:\n",
    "            nr = 3\n",
    "        theta = np.linspace(theta0, theta1, nr)\n",
    "        pts = np.exp(1j * theta)\n",
    "        string_arc = \"\"\n",
    "        for k in range(len(theta)):\n",
    "            string_arc += \"L \" + str(pts.real[k]) + \", \" + str(pts.imag[k]) + \" \"\n",
    "        return string_arc\n",
    "    else:\n",
    "        raise ValueError(\"The angle coords for arc ribbon must be [0, 2*PI]\")\n",
    "\n",
    "\n",
    "def make_layout(title):\n",
    "    xaxis = dict(\n",
    "        showline=False, zeroline=False, showgrid=False, showticklabels=False, title=\"\"\n",
    "    )\n",
    "    yaxis = {**xaxis, \"scaleanchor\": \"x\"}\n",
    "    return dict(\n",
    "        title=title,\n",
    "        xaxis=xaxis,\n",
    "        yaxis=yaxis,\n",
    "        showlegend=False,\n",
    "        margin=dict(t=25, b=25, l=25, r=25),\n",
    "        hovermode=\"closest\",\n",
    "        shapes=[],\n",
    "    )\n",
    "\n",
    "\n",
    "def make_ideo_shape(path, line_color, fill_color):\n",
    "    return dict(\n",
    "        line=go.layout.shape.Line(color=line_color, width=0.45),\n",
    "        path=path,\n",
    "        type=\"path\",\n",
    "        fillcolor=fill_color,\n",
    "        layer=\"below\",\n",
    "    )\n",
    "\n",
    "\n",
    "def make_ribbon(l, r, line_color, fill_color, radius=0.2):\n",
    "    poligon = ctrl_rib_chords(l, r, radius)\n",
    "    b, c = poligon\n",
    "    return dict(\n",
    "        line=go.layout.shape.Line(color=line_color, width=0.5),\n",
    "        path=make_q_bezier(b)\n",
    "        + make_ribbon_arc(r[0], r[1])\n",
    "        + make_q_bezier(c[::-1])\n",
    "        + make_ribbon_arc(l[1], l[0]),\n",
    "        type=\"path\",\n",
    "        fillcolor=fill_color,\n",
    "        layer=\"below\",\n",
    "    )\n",
    "\n",
    "\n",
    "def make_self_rel(l, line_color, fill_color, radius):\n",
    "    b = control_pts([l[0], (l[0] + l[1]) / 2, l[1]], radius)\n",
    "    return dict(\n",
    "        line=dict(color=line_color, width=0.5),\n",
    "        path=make_q_bezier(b) + make_ribbon_arc(l[1], l[0]),\n",
    "        type=\"path\",\n",
    "        fillcolor=fill_color,\n",
    "        layer=\"below\",\n",
    "    )\n",
    "\n",
    "\n",
    "def invPerm(perm):\n",
    "    inv = [0] * len(perm)\n",
    "    for i, s in enumerate(perm):\n",
    "        inv[s] = i\n",
    "    return inv\n",
    "\n",
    "\n",
    "def make_filled_chord(M):  # ,labels):\n",
    "\n",
    "    n = M.shape[0]\n",
    "    labels = list(M.columns)\n",
    "    M = M.T\n",
    "    matrix = M.to_numpy()\n",
    "    n = M.shape[0]\n",
    "    row_sum = [np.sum(matrix[k, :]) for k in range(n)]\n",
    "    gap = 2 * PI * 10e-8\n",
    "\n",
    "    ideogram_length = 2 * PI * np.asarray(row_sum) / sum(row_sum) - gap * np.ones(n)\n",
    "    ideo_colors=['rgba(213,62,79,0.75)',\n",
    "             'rgba(244,109,67,0.75)',\n",
    "             'rgba(253,174,97,0.75)',\n",
    "             'rgba(254,224,139,0.75)',\n",
    "             'rgba(255,255,191,0.75)',\n",
    "             'rgba(230,245,152,0.75)',\n",
    "             'rgba(171,221,164,0.75)',\n",
    "             'rgba(102,194,165,0.75)',\n",
    "             'rgba(50,136,189,0.75)']\n",
    "    #ideo_colors = [\n",
    "    #    x[:3] + \"a\" + x[3:-1] + \",.75\" + x[-1] for x in get_spaced_colors(len(labels))\n",
    "    #]\n",
    "    mapped_data = map_data(matrix, row_sum, ideogram_length)\n",
    "    idx_sort = np.argsort(mapped_data, axis=1)\n",
    "    ideo_ends = get_ideogram_ends(ideogram_length, gap)\n",
    "    ribbon_ends = make_ribbon_ends(mapped_data, ideo_ends, idx_sort)\n",
    "    ribbon_color = [n * [ideo_colors[k]] for k in range(n)]\n",
    "    layout = make_layout(\" \")\n",
    "    ribbon_info = []\n",
    "    radii_sribb = [0.2] * n\n",
    "    for k in range(n):\n",
    "        sigma = idx_sort[k]\n",
    "        sigma_inv = invPerm(sigma)\n",
    "        for j in range(k, n):\n",
    "            if M.iloc[k, j] == 0 and M.iloc[j, k] == 0:\n",
    "                continue\n",
    "            eta = idx_sort[j]\n",
    "            eta_inv = invPerm(eta)\n",
    "            l = ribbon_ends[k][sigma_inv[j]]\n",
    "            if j == k:\n",
    "                layout[\"shapes\"].append(\n",
    "                    make_self_rel(\n",
    "                        l, \"rgb(175,175,175)\", ideo_colors[k], radius=radii_sribb[k]\n",
    "                    )\n",
    "                )\n",
    "                z = 0.9 * np.exp(1j * (l[0] + l[1]) / 2)\n",
    "                text = (\n",
    "                    labels[k]\n",
    "                    + \" \\u2b8c \"\n",
    "                    #+ labels[k]\n",
    "                    + \": {0} viagens \".format(M.iloc[k, k])\n",
    "                )\n",
    "                ribbon_info.append(\n",
    "                    go.Scatter(\n",
    "                        x=[z.real],\n",
    "                        y=[z.imag],\n",
    "                        mode=\"markers\",\n",
    "                        text=text,\n",
    "                        hoverinfo=\"text\",\n",
    "                        marker=dict(size=0.5, color=ideo_colors[k]),\n",
    "                    )\n",
    "                )\n",
    "            else:\n",
    "                r = ribbon_ends[j][eta_inv[k]]\n",
    "                zi = 0.9 * np.exp(1j * (l[0] + l[1]) / 2)\n",
    "                zf = 0.9 * np.exp(1j * (r[0] + r[1]) / 2)\n",
    "\n",
    "                texti = (\n",
    "                    labels[k]\n",
    "                    + \" \\u2794 \"\n",
    "                    + labels[j]\n",
    "                    + \": {0} viagens \".format(matrix[k][j])\n",
    "                )\n",
    "                textf = (\n",
    "                    labels[j]\n",
    "                    + \" \\u2794 \"\n",
    "                    + labels[k]\n",
    "                    +\": {0} viagens \".format(matrix[j][k])\n",
    "                )\n",
    "\n",
    "                ribbon_info.append(\n",
    "                    go.Scatter(\n",
    "                        x=[zi.real],\n",
    "                        y=[zi.imag],\n",
    "                        mode=\"markers\",\n",
    "                        text=texti,\n",
    "                        hoverinfo=\"text\",\n",
    "                        marker=dict(size=0.5, color=ribbon_color[k][j]),\n",
    "                    )\n",
    "                )\n",
    "                ribbon_info.append(\n",
    "                    go.Scatter(\n",
    "                        x=[zf.real],\n",
    "                        y=[zf.imag],\n",
    "                        mode=\"markers\",\n",
    "                        text=textf,\n",
    "                        hoverinfo=\"text\",\n",
    "                        marker=dict(size=0.5, color=ribbon_color[j][k]),\n",
    "                    )\n",
    "                )\n",
    "                r = (r[1], r[0])\n",
    "                if matrix[k][j] > matrix[j][k]:\n",
    "                    color_of_highest = ribbon_color[k][j]\n",
    "                else:\n",
    "                    color_of_highest = ribbon_color[j][k]\n",
    "                layout[\"shapes\"].append(\n",
    "                    make_ribbon(l, r, \"rgb(175, 175, 175)\", color_of_highest)\n",
    "                )\n",
    "    ideograms = []\n",
    "    for k in range(len(ideo_ends)):\n",
    "        z = make_ideogram_arc(1.1, ideo_ends[k])\n",
    "        zi = make_ideogram_arc(1.0, ideo_ends[k])\n",
    "        m = len(z)\n",
    "        n = len(zi)\n",
    "        ideograms.append(\n",
    "            go.Scatter(\n",
    "                x=z.real,\n",
    "                y=z.imag,\n",
    "                mode=\"lines\",\n",
    "                line=dict(color=ideo_colors[k], shape=\"spline\", width=0.25),\n",
    "                text=labels[k] + \"<br>\" + \"{0} partidas\".format(row_sum[k]),\n",
    "                hoverinfo=\"text\",\n",
    "            )\n",
    "        )\n",
    "        path = \"M \"\n",
    "        for s in range(m):\n",
    "            path += str(z.real[s]) + \", \" + str(z.imag[s]) + \" L \"\n",
    "        Zi = np.array(zi.tolist()[::-1])\n",
    "        for s in range(m):\n",
    "            path += str(Zi.real[s]) + \", \" + str(Zi.imag[s]) + \" L \"\n",
    "        path += str(z.real[0]) + \" ,\" + str(z.imag[0])\n",
    "        layout[\"shapes\"].append(\n",
    "            make_ideo_shape(path, \"rgb(150,150,150)\", ideo_colors[k])\n",
    "        )\n",
    "\n",
    "    layout[\"paper_bgcolor\"] = \"rgba(0,0,0,0)\"\n",
    "    layout[\"plot_bgcolor\"] = \"rgba(0,0,0,0)\"\n",
    "    layout[\"width\"] = 625\n",
    "    layout[\"height\"] = 625\n",
    "    data = ideograms + ribbon_info\n",
    "    fig = {\"data\": data, \"layout\": layout}\n",
    "    return fig"
   ]
  },
  {
   "cell_type": "code",
   "execution_count": null,
   "id": "daf5c106",
   "metadata": {},
   "outputs": [],
   "source": [
    "fig = make_filled_chord(matrix)"
   ]
  },
  {
   "cell_type": "code",
   "execution_count": null,
   "id": "12a25331",
   "metadata": {},
   "outputs": [],
   "source": [
    "from plotly.offline import download_plotlyjs, init_notebook_mode,  iplot, plot\n",
    "init_notebook_mode(connected=True)\n",
    "iplot(fig)"
   ]
  },
  {
   "cell_type": "markdown",
   "id": "6805ccf8",
   "metadata": {},
   "source": [
    "## MNE :)"
   ]
  },
  {
   "cell_type": "code",
   "execution_count": null,
   "id": "84936b7e",
   "metadata": {},
   "outputs": [],
   "source": [
    "# !pip install mne"
   ]
  },
  {
   "cell_type": "code",
   "execution_count": null,
   "id": "063ffa8a",
   "metadata": {},
   "outputs": [],
   "source": [
    "from mne.viz import plot_connectivity_circle"
   ]
  },
  {
   "cell_type": "code",
   "execution_count": null,
   "id": "ca01ae9e",
   "metadata": {},
   "outputs": [],
   "source": [
    "fig, axes = plot_connectivity_circle(matrix_data.to_numpy(), list(union_stations)) "
   ]
  },
  {
   "cell_type": "markdown",
   "id": "5f026e9b",
   "metadata": {},
   "source": [
    "# Grafico Sankey"
   ]
  },
  {
   "cell_type": "code",
   "execution_count": 35,
   "id": "128e9d72",
   "metadata": {},
   "outputs": [],
   "source": [
    "import plotly.graph_objects as go\n",
    "import plotly.colors as color_pallete\n",
    "\n",
    "color_dict = color_pallete.qualitative.Plotly"
   ]
  },
  {
   "cell_type": "code",
   "execution_count": 20,
   "id": "adb774c3",
   "metadata": {},
   "outputs": [
    {
     "data": {
      "text/html": [
       "<div>\n",
       "<style scoped>\n",
       "    .dataframe tbody tr th:only-of-type {\n",
       "        vertical-align: middle;\n",
       "    }\n",
       "\n",
       "    .dataframe tbody tr th {\n",
       "        vertical-align: top;\n",
       "    }\n",
       "\n",
       "    .dataframe thead th {\n",
       "        text-align: right;\n",
       "    }\n",
       "</style>\n",
       "<table border=\"1\" class=\"dataframe\">\n",
       "  <thead>\n",
       "    <tr style=\"text-align: right;\">\n",
       "      <th>to_station_id</th>\n",
       "      <th>PS-05</th>\n",
       "      <th>WF-01</th>\n",
       "      <th>CH-07</th>\n",
       "      <th>BT-01</th>\n",
       "      <th>WF-04</th>\n",
       "      <th>SLU-16</th>\n",
       "      <th>UD-01</th>\n",
       "      <th>SLU-17</th>\n",
       "      <th>CBD-13</th>\n",
       "    </tr>\n",
       "    <tr>\n",
       "      <th>from_station_id</th>\n",
       "      <th></th>\n",
       "      <th></th>\n",
       "      <th></th>\n",
       "      <th></th>\n",
       "      <th></th>\n",
       "      <th></th>\n",
       "      <th></th>\n",
       "      <th></th>\n",
       "      <th></th>\n",
       "    </tr>\n",
       "  </thead>\n",
       "  <tbody>\n",
       "    <tr>\n",
       "      <th>PS-05</th>\n",
       "      <td>185</td>\n",
       "      <td>737</td>\n",
       "      <td>26</td>\n",
       "      <td>179</td>\n",
       "      <td>181</td>\n",
       "      <td>42</td>\n",
       "      <td>0</td>\n",
       "      <td>26</td>\n",
       "      <td>199</td>\n",
       "    </tr>\n",
       "    <tr>\n",
       "      <th>WF-01</th>\n",
       "      <td>962</td>\n",
       "      <td>4209</td>\n",
       "      <td>3</td>\n",
       "      <td>347</td>\n",
       "      <td>2291</td>\n",
       "      <td>52</td>\n",
       "      <td>4</td>\n",
       "      <td>75</td>\n",
       "      <td>310</td>\n",
       "    </tr>\n",
       "    <tr>\n",
       "      <th>CH-07</th>\n",
       "      <td>71</td>\n",
       "      <td>23</td>\n",
       "      <td>233</td>\n",
       "      <td>198</td>\n",
       "      <td>23</td>\n",
       "      <td>934</td>\n",
       "      <td>15</td>\n",
       "      <td>19</td>\n",
       "      <td>577</td>\n",
       "    </tr>\n",
       "    <tr>\n",
       "      <th>BT-01</th>\n",
       "      <td>301</td>\n",
       "      <td>777</td>\n",
       "      <td>16</td>\n",
       "      <td>627</td>\n",
       "      <td>792</td>\n",
       "      <td>151</td>\n",
       "      <td>8</td>\n",
       "      <td>175</td>\n",
       "      <td>1101</td>\n",
       "    </tr>\n",
       "    <tr>\n",
       "      <th>WF-04</th>\n",
       "      <td>215</td>\n",
       "      <td>1605</td>\n",
       "      <td>2</td>\n",
       "      <td>478</td>\n",
       "      <td>1150</td>\n",
       "      <td>36</td>\n",
       "      <td>4</td>\n",
       "      <td>17</td>\n",
       "      <td>137</td>\n",
       "    </tr>\n",
       "    <tr>\n",
       "      <th>SLU-16</th>\n",
       "      <td>65</td>\n",
       "      <td>65</td>\n",
       "      <td>98</td>\n",
       "      <td>166</td>\n",
       "      <td>68</td>\n",
       "      <td>186</td>\n",
       "      <td>4</td>\n",
       "      <td>73</td>\n",
       "      <td>344</td>\n",
       "    </tr>\n",
       "    <tr>\n",
       "      <th>UD-01</th>\n",
       "      <td>1</td>\n",
       "      <td>1</td>\n",
       "      <td>3</td>\n",
       "      <td>6</td>\n",
       "      <td>0</td>\n",
       "      <td>2</td>\n",
       "      <td>880</td>\n",
       "      <td>46</td>\n",
       "      <td>9</td>\n",
       "    </tr>\n",
       "    <tr>\n",
       "      <th>SLU-17</th>\n",
       "      <td>31</td>\n",
       "      <td>97</td>\n",
       "      <td>5</td>\n",
       "      <td>264</td>\n",
       "      <td>70</td>\n",
       "      <td>53</td>\n",
       "      <td>25</td>\n",
       "      <td>960</td>\n",
       "      <td>135</td>\n",
       "    </tr>\n",
       "    <tr>\n",
       "      <th>CBD-13</th>\n",
       "      <td>384</td>\n",
       "      <td>384</td>\n",
       "      <td>53</td>\n",
       "      <td>962</td>\n",
       "      <td>158</td>\n",
       "      <td>158</td>\n",
       "      <td>1</td>\n",
       "      <td>105</td>\n",
       "      <td>427</td>\n",
       "    </tr>\n",
       "  </tbody>\n",
       "</table>\n",
       "</div>"
      ],
      "text/plain": [
       "to_station_id    PS-05  WF-01  CH-07  BT-01  WF-04  SLU-16  UD-01  SLU-17  \\\n",
       "from_station_id                                                             \n",
       "PS-05              185    737     26    179    181      42      0      26   \n",
       "WF-01              962   4209      3    347   2291      52      4      75   \n",
       "CH-07               71     23    233    198     23     934     15      19   \n",
       "BT-01              301    777     16    627    792     151      8     175   \n",
       "WF-04              215   1605      2    478   1150      36      4      17   \n",
       "SLU-16              65     65     98    166     68     186      4      73   \n",
       "UD-01                1      1      3      6      0       2    880      46   \n",
       "SLU-17              31     97      5    264     70      53     25     960   \n",
       "CBD-13             384    384     53    962    158     158      1     105   \n",
       "\n",
       "to_station_id    CBD-13  \n",
       "from_station_id          \n",
       "PS-05               199  \n",
       "WF-01               310  \n",
       "CH-07               577  \n",
       "BT-01              1101  \n",
       "WF-04               137  \n",
       "SLU-16              344  \n",
       "UD-01                 9  \n",
       "SLU-17              135  \n",
       "CBD-13              427  "
      ]
     },
     "execution_count": 20,
     "metadata": {},
     "output_type": "execute_result"
    }
   ],
   "source": [
    "matrix_data"
   ]
  },
  {
   "cell_type": "markdown",
   "id": "d2861e11",
   "metadata": {},
   "source": [
    "## Grafico de teste"
   ]
  },
  {
   "cell_type": "code",
   "execution_count": 21,
   "id": "d43e3ac1",
   "metadata": {},
   "outputs": [],
   "source": [
    "wf01_data = matrix_data.loc['WF-01']\n",
    "source_wf01 = np.full(len(wf01_data), 0).tolist()\n",
    "target_wf01 = pd.factorize(wf01_data.index)[0].tolist()\n",
    "value_wf01 = wf01_data.values.tolist()"
   ]
  },
  {
   "cell_type": "code",
   "execution_count": 22,
   "id": "f69abd4d",
   "metadata": {},
   "outputs": [],
   "source": [
    "wf04_data = matrix_data.loc['WF-04']\n",
    "source_wf04 = np.full(len(wf04_data), 1).tolist()\n",
    "target_wf04 = pd.factorize(wf04_data.index)[0].tolist()\n",
    "value_wf04 = wf04_data.values.tolist()"
   ]
  },
  {
   "cell_type": "code",
   "execution_count": 23,
   "id": "5bbc273a",
   "metadata": {},
   "outputs": [],
   "source": [
    "color_dict = {\n",
    "    0 : 'blue',\n",
    "    1 : 'red'\n",
    "}"
   ]
  },
  {
   "cell_type": "code",
   "execution_count": 24,
   "id": "09c65808",
   "metadata": {},
   "outputs": [],
   "source": [
    "link_color = np.concatenate([np.full(len(wf01_data), 'blue'), np.full(len(wf04_data), 'red')]).tolist()"
   ]
  },
  {
   "cell_type": "code",
   "execution_count": 25,
   "id": "39b298ae",
   "metadata": {},
   "outputs": [],
   "source": [
    "source = source_wf01 + source_wf04\n",
    "target = (pd.factorize(np.concatenate([wf01_data.index.to_numpy(), wf04_data.index.to_numpy()]))[0] + 2).tolist()\n",
    "value = value_wf01 + value_wf04"
   ]
  },
  {
   "cell_type": "code",
   "execution_count": 27,
   "id": "ce327b90",
   "metadata": {},
   "outputs": [
    {
     "data": {
      "application/vnd.plotly.v1+json": {
       "config": {
        "plotlyServerURL": "https://plot.ly"
       },
       "data": [
        {
         "link": {
          "color": [
           "blue",
           "blue",
           "blue",
           "blue",
           "blue",
           "blue",
           "blue",
           "blue",
           "blue",
           "red",
           "red",
           "red",
           "red",
           "red",
           "red",
           "red",
           "red",
           "red"
          ],
          "source": [
           0,
           0,
           0,
           0,
           0,
           0,
           0,
           0,
           0,
           1,
           1,
           1,
           1,
           1,
           1,
           1,
           1,
           1
          ],
          "target": [
           2,
           3,
           4,
           5,
           6,
           7,
           8,
           9,
           10,
           2,
           3,
           4,
           5,
           6,
           7,
           8,
           9,
           10
          ],
          "value": [
           962,
           4209,
           3,
           347,
           2291,
           52,
           4,
           75,
           310,
           215,
           1605,
           2,
           478,
           1150,
           36,
           4,
           17,
           137
          ]
         },
         "node": {
          "label": [
           "WF-01",
           "WF-04",
           "PS-05",
           "WF-01",
           "CH-07",
           "BT-01",
           "WF-04",
           "SLU-16",
           "UD-01",
           "SLU-17",
           "CBD-13"
          ]
         },
         "type": "sankey"
        }
       ],
       "layout": {
        "template": {
         "data": {
          "bar": [
           {
            "error_x": {
             "color": "#2a3f5f"
            },
            "error_y": {
             "color": "#2a3f5f"
            },
            "marker": {
             "line": {
              "color": "#E5ECF6",
              "width": 0.5
             },
             "pattern": {
              "fillmode": "overlay",
              "size": 10,
              "solidity": 0.2
             }
            },
            "type": "bar"
           }
          ],
          "barpolar": [
           {
            "marker": {
             "line": {
              "color": "#E5ECF6",
              "width": 0.5
             },
             "pattern": {
              "fillmode": "overlay",
              "size": 10,
              "solidity": 0.2
             }
            },
            "type": "barpolar"
           }
          ],
          "carpet": [
           {
            "aaxis": {
             "endlinecolor": "#2a3f5f",
             "gridcolor": "white",
             "linecolor": "white",
             "minorgridcolor": "white",
             "startlinecolor": "#2a3f5f"
            },
            "baxis": {
             "endlinecolor": "#2a3f5f",
             "gridcolor": "white",
             "linecolor": "white",
             "minorgridcolor": "white",
             "startlinecolor": "#2a3f5f"
            },
            "type": "carpet"
           }
          ],
          "choropleth": [
           {
            "colorbar": {
             "outlinewidth": 0,
             "ticks": ""
            },
            "type": "choropleth"
           }
          ],
          "contour": [
           {
            "colorbar": {
             "outlinewidth": 0,
             "ticks": ""
            },
            "colorscale": [
             [
              0,
              "#0d0887"
             ],
             [
              0.1111111111111111,
              "#46039f"
             ],
             [
              0.2222222222222222,
              "#7201a8"
             ],
             [
              0.3333333333333333,
              "#9c179e"
             ],
             [
              0.4444444444444444,
              "#bd3786"
             ],
             [
              0.5555555555555556,
              "#d8576b"
             ],
             [
              0.6666666666666666,
              "#ed7953"
             ],
             [
              0.7777777777777778,
              "#fb9f3a"
             ],
             [
              0.8888888888888888,
              "#fdca26"
             ],
             [
              1,
              "#f0f921"
             ]
            ],
            "type": "contour"
           }
          ],
          "contourcarpet": [
           {
            "colorbar": {
             "outlinewidth": 0,
             "ticks": ""
            },
            "type": "contourcarpet"
           }
          ],
          "heatmap": [
           {
            "colorbar": {
             "outlinewidth": 0,
             "ticks": ""
            },
            "colorscale": [
             [
              0,
              "#0d0887"
             ],
             [
              0.1111111111111111,
              "#46039f"
             ],
             [
              0.2222222222222222,
              "#7201a8"
             ],
             [
              0.3333333333333333,
              "#9c179e"
             ],
             [
              0.4444444444444444,
              "#bd3786"
             ],
             [
              0.5555555555555556,
              "#d8576b"
             ],
             [
              0.6666666666666666,
              "#ed7953"
             ],
             [
              0.7777777777777778,
              "#fb9f3a"
             ],
             [
              0.8888888888888888,
              "#fdca26"
             ],
             [
              1,
              "#f0f921"
             ]
            ],
            "type": "heatmap"
           }
          ],
          "heatmapgl": [
           {
            "colorbar": {
             "outlinewidth": 0,
             "ticks": ""
            },
            "colorscale": [
             [
              0,
              "#0d0887"
             ],
             [
              0.1111111111111111,
              "#46039f"
             ],
             [
              0.2222222222222222,
              "#7201a8"
             ],
             [
              0.3333333333333333,
              "#9c179e"
             ],
             [
              0.4444444444444444,
              "#bd3786"
             ],
             [
              0.5555555555555556,
              "#d8576b"
             ],
             [
              0.6666666666666666,
              "#ed7953"
             ],
             [
              0.7777777777777778,
              "#fb9f3a"
             ],
             [
              0.8888888888888888,
              "#fdca26"
             ],
             [
              1,
              "#f0f921"
             ]
            ],
            "type": "heatmapgl"
           }
          ],
          "histogram": [
           {
            "marker": {
             "pattern": {
              "fillmode": "overlay",
              "size": 10,
              "solidity": 0.2
             }
            },
            "type": "histogram"
           }
          ],
          "histogram2d": [
           {
            "colorbar": {
             "outlinewidth": 0,
             "ticks": ""
            },
            "colorscale": [
             [
              0,
              "#0d0887"
             ],
             [
              0.1111111111111111,
              "#46039f"
             ],
             [
              0.2222222222222222,
              "#7201a8"
             ],
             [
              0.3333333333333333,
              "#9c179e"
             ],
             [
              0.4444444444444444,
              "#bd3786"
             ],
             [
              0.5555555555555556,
              "#d8576b"
             ],
             [
              0.6666666666666666,
              "#ed7953"
             ],
             [
              0.7777777777777778,
              "#fb9f3a"
             ],
             [
              0.8888888888888888,
              "#fdca26"
             ],
             [
              1,
              "#f0f921"
             ]
            ],
            "type": "histogram2d"
           }
          ],
          "histogram2dcontour": [
           {
            "colorbar": {
             "outlinewidth": 0,
             "ticks": ""
            },
            "colorscale": [
             [
              0,
              "#0d0887"
             ],
             [
              0.1111111111111111,
              "#46039f"
             ],
             [
              0.2222222222222222,
              "#7201a8"
             ],
             [
              0.3333333333333333,
              "#9c179e"
             ],
             [
              0.4444444444444444,
              "#bd3786"
             ],
             [
              0.5555555555555556,
              "#d8576b"
             ],
             [
              0.6666666666666666,
              "#ed7953"
             ],
             [
              0.7777777777777778,
              "#fb9f3a"
             ],
             [
              0.8888888888888888,
              "#fdca26"
             ],
             [
              1,
              "#f0f921"
             ]
            ],
            "type": "histogram2dcontour"
           }
          ],
          "mesh3d": [
           {
            "colorbar": {
             "outlinewidth": 0,
             "ticks": ""
            },
            "type": "mesh3d"
           }
          ],
          "parcoords": [
           {
            "line": {
             "colorbar": {
              "outlinewidth": 0,
              "ticks": ""
             }
            },
            "type": "parcoords"
           }
          ],
          "pie": [
           {
            "automargin": true,
            "type": "pie"
           }
          ],
          "scatter": [
           {
            "marker": {
             "colorbar": {
              "outlinewidth": 0,
              "ticks": ""
             }
            },
            "type": "scatter"
           }
          ],
          "scatter3d": [
           {
            "line": {
             "colorbar": {
              "outlinewidth": 0,
              "ticks": ""
             }
            },
            "marker": {
             "colorbar": {
              "outlinewidth": 0,
              "ticks": ""
             }
            },
            "type": "scatter3d"
           }
          ],
          "scattercarpet": [
           {
            "marker": {
             "colorbar": {
              "outlinewidth": 0,
              "ticks": ""
             }
            },
            "type": "scattercarpet"
           }
          ],
          "scattergeo": [
           {
            "marker": {
             "colorbar": {
              "outlinewidth": 0,
              "ticks": ""
             }
            },
            "type": "scattergeo"
           }
          ],
          "scattergl": [
           {
            "marker": {
             "colorbar": {
              "outlinewidth": 0,
              "ticks": ""
             }
            },
            "type": "scattergl"
           }
          ],
          "scattermapbox": [
           {
            "marker": {
             "colorbar": {
              "outlinewidth": 0,
              "ticks": ""
             }
            },
            "type": "scattermapbox"
           }
          ],
          "scatterpolar": [
           {
            "marker": {
             "colorbar": {
              "outlinewidth": 0,
              "ticks": ""
             }
            },
            "type": "scatterpolar"
           }
          ],
          "scatterpolargl": [
           {
            "marker": {
             "colorbar": {
              "outlinewidth": 0,
              "ticks": ""
             }
            },
            "type": "scatterpolargl"
           }
          ],
          "scatterternary": [
           {
            "marker": {
             "colorbar": {
              "outlinewidth": 0,
              "ticks": ""
             }
            },
            "type": "scatterternary"
           }
          ],
          "surface": [
           {
            "colorbar": {
             "outlinewidth": 0,
             "ticks": ""
            },
            "colorscale": [
             [
              0,
              "#0d0887"
             ],
             [
              0.1111111111111111,
              "#46039f"
             ],
             [
              0.2222222222222222,
              "#7201a8"
             ],
             [
              0.3333333333333333,
              "#9c179e"
             ],
             [
              0.4444444444444444,
              "#bd3786"
             ],
             [
              0.5555555555555556,
              "#d8576b"
             ],
             [
              0.6666666666666666,
              "#ed7953"
             ],
             [
              0.7777777777777778,
              "#fb9f3a"
             ],
             [
              0.8888888888888888,
              "#fdca26"
             ],
             [
              1,
              "#f0f921"
             ]
            ],
            "type": "surface"
           }
          ],
          "table": [
           {
            "cells": {
             "fill": {
              "color": "#EBF0F8"
             },
             "line": {
              "color": "white"
             }
            },
            "header": {
             "fill": {
              "color": "#C8D4E3"
             },
             "line": {
              "color": "white"
             }
            },
            "type": "table"
           }
          ]
         },
         "layout": {
          "annotationdefaults": {
           "arrowcolor": "#2a3f5f",
           "arrowhead": 0,
           "arrowwidth": 1
          },
          "autotypenumbers": "strict",
          "coloraxis": {
           "colorbar": {
            "outlinewidth": 0,
            "ticks": ""
           }
          },
          "colorscale": {
           "diverging": [
            [
             0,
             "#8e0152"
            ],
            [
             0.1,
             "#c51b7d"
            ],
            [
             0.2,
             "#de77ae"
            ],
            [
             0.3,
             "#f1b6da"
            ],
            [
             0.4,
             "#fde0ef"
            ],
            [
             0.5,
             "#f7f7f7"
            ],
            [
             0.6,
             "#e6f5d0"
            ],
            [
             0.7,
             "#b8e186"
            ],
            [
             0.8,
             "#7fbc41"
            ],
            [
             0.9,
             "#4d9221"
            ],
            [
             1,
             "#276419"
            ]
           ],
           "sequential": [
            [
             0,
             "#0d0887"
            ],
            [
             0.1111111111111111,
             "#46039f"
            ],
            [
             0.2222222222222222,
             "#7201a8"
            ],
            [
             0.3333333333333333,
             "#9c179e"
            ],
            [
             0.4444444444444444,
             "#bd3786"
            ],
            [
             0.5555555555555556,
             "#d8576b"
            ],
            [
             0.6666666666666666,
             "#ed7953"
            ],
            [
             0.7777777777777778,
             "#fb9f3a"
            ],
            [
             0.8888888888888888,
             "#fdca26"
            ],
            [
             1,
             "#f0f921"
            ]
           ],
           "sequentialminus": [
            [
             0,
             "#0d0887"
            ],
            [
             0.1111111111111111,
             "#46039f"
            ],
            [
             0.2222222222222222,
             "#7201a8"
            ],
            [
             0.3333333333333333,
             "#9c179e"
            ],
            [
             0.4444444444444444,
             "#bd3786"
            ],
            [
             0.5555555555555556,
             "#d8576b"
            ],
            [
             0.6666666666666666,
             "#ed7953"
            ],
            [
             0.7777777777777778,
             "#fb9f3a"
            ],
            [
             0.8888888888888888,
             "#fdca26"
            ],
            [
             1,
             "#f0f921"
            ]
           ]
          },
          "colorway": [
           "#636efa",
           "#EF553B",
           "#00cc96",
           "#ab63fa",
           "#FFA15A",
           "#19d3f3",
           "#FF6692",
           "#B6E880",
           "#FF97FF",
           "#FECB52"
          ],
          "font": {
           "color": "#2a3f5f"
          },
          "geo": {
           "bgcolor": "white",
           "lakecolor": "white",
           "landcolor": "#E5ECF6",
           "showlakes": true,
           "showland": true,
           "subunitcolor": "white"
          },
          "hoverlabel": {
           "align": "left"
          },
          "hovermode": "closest",
          "mapbox": {
           "style": "light"
          },
          "paper_bgcolor": "white",
          "plot_bgcolor": "#E5ECF6",
          "polar": {
           "angularaxis": {
            "gridcolor": "white",
            "linecolor": "white",
            "ticks": ""
           },
           "bgcolor": "#E5ECF6",
           "radialaxis": {
            "gridcolor": "white",
            "linecolor": "white",
            "ticks": ""
           }
          },
          "scene": {
           "xaxis": {
            "backgroundcolor": "#E5ECF6",
            "gridcolor": "white",
            "gridwidth": 2,
            "linecolor": "white",
            "showbackground": true,
            "ticks": "",
            "zerolinecolor": "white"
           },
           "yaxis": {
            "backgroundcolor": "#E5ECF6",
            "gridcolor": "white",
            "gridwidth": 2,
            "linecolor": "white",
            "showbackground": true,
            "ticks": "",
            "zerolinecolor": "white"
           },
           "zaxis": {
            "backgroundcolor": "#E5ECF6",
            "gridcolor": "white",
            "gridwidth": 2,
            "linecolor": "white",
            "showbackground": true,
            "ticks": "",
            "zerolinecolor": "white"
           }
          },
          "shapedefaults": {
           "line": {
            "color": "#2a3f5f"
           }
          },
          "ternary": {
           "aaxis": {
            "gridcolor": "white",
            "linecolor": "white",
            "ticks": ""
           },
           "baxis": {
            "gridcolor": "white",
            "linecolor": "white",
            "ticks": ""
           },
           "bgcolor": "#E5ECF6",
           "caxis": {
            "gridcolor": "white",
            "linecolor": "white",
            "ticks": ""
           }
          },
          "title": {
           "x": 0.05
          },
          "xaxis": {
           "automargin": true,
           "gridcolor": "white",
           "linecolor": "white",
           "ticks": "",
           "title": {
            "standoff": 15
           },
           "zerolinecolor": "white",
           "zerolinewidth": 2
          },
          "yaxis": {
           "automargin": true,
           "gridcolor": "white",
           "linecolor": "white",
           "ticks": "",
           "title": {
            "standoff": 15
           },
           "zerolinecolor": "white",
           "zerolinewidth": 2
          }
         }
        }
       }
      }
     },
     "metadata": {},
     "output_type": "display_data"
    }
   ],
   "source": [
    "link = dict(source = source, target = target, value = value, color=link_color)\n",
    "data = go.Sankey(link = link, node = dict( label = ['WF-01', 'WF-04',*wf01_data.index.to_list()]))\n",
    "\n",
    "fig = go.Figure(data)\n",
    "\n",
    "fig.show()"
   ]
  },
  {
   "cell_type": "markdown",
   "id": "39739f71",
   "metadata": {},
   "source": [
    "## Grafico Final"
   ]
  },
  {
   "cell_type": "code",
   "execution_count": 30,
   "id": "9737663f",
   "metadata": {},
   "outputs": [],
   "source": [
    "from_mask = df['from_station_id'] == 'WF-01'\n",
    "to_mask = df['to_station_id'].isin(to_station_mask)\n",
    "wf01_df = df[from_mask & to_mask].copy()\n",
    "\n",
    "wf01_df['starttime'] = pd.to_datetime(wf01_df['starttime'])\n",
    "wf01_df['stoptime'] = pd.to_datetime(wf01_df['stoptime'])\n",
    "\n",
    "wf01_df['part_of_day'] = pd.cut(wf01_df['starttime'].dt.hour, \n",
    "        [0,6,12,18,23], \n",
    "        labels =['Night', 'Morning', 'Afternoon', 'Evening'],\n",
    "        include_lowest=True)"
   ]
  },
  {
   "cell_type": "code",
   "execution_count": 31,
   "id": "fcf26cde",
   "metadata": {},
   "outputs": [
    {
     "data": {
      "text/html": [
       "<div>\n",
       "<style scoped>\n",
       "    .dataframe tbody tr th:only-of-type {\n",
       "        vertical-align: middle;\n",
       "    }\n",
       "\n",
       "    .dataframe tbody tr th {\n",
       "        vertical-align: top;\n",
       "    }\n",
       "\n",
       "    .dataframe thead th {\n",
       "        text-align: right;\n",
       "    }\n",
       "</style>\n",
       "<table border=\"1\" class=\"dataframe\">\n",
       "  <thead>\n",
       "    <tr style=\"text-align: right;\">\n",
       "      <th></th>\n",
       "      <th>from_station_name</th>\n",
       "      <th>to_station_name</th>\n",
       "      <th>part_of_day</th>\n",
       "      <th>rides</th>\n",
       "    </tr>\n",
       "  </thead>\n",
       "  <tbody>\n",
       "    <tr>\n",
       "      <th>0</th>\n",
       "      <td>Pier 69 / Alaskan Way &amp; Clay St</td>\n",
       "      <td>2nd Ave &amp; Pine St</td>\n",
       "      <td>Night</td>\n",
       "      <td>6</td>\n",
       "    </tr>\n",
       "    <tr>\n",
       "      <th>1</th>\n",
       "      <td>Pier 69 / Alaskan Way &amp; Clay St</td>\n",
       "      <td>2nd Ave &amp; Pine St</td>\n",
       "      <td>Morning</td>\n",
       "      <td>62</td>\n",
       "    </tr>\n",
       "    <tr>\n",
       "      <th>2</th>\n",
       "      <td>Pier 69 / Alaskan Way &amp; Clay St</td>\n",
       "      <td>2nd Ave &amp; Pine St</td>\n",
       "      <td>Afternoon</td>\n",
       "      <td>181</td>\n",
       "    </tr>\n",
       "    <tr>\n",
       "      <th>3</th>\n",
       "      <td>Pier 69 / Alaskan Way &amp; Clay St</td>\n",
       "      <td>2nd Ave &amp; Pine St</td>\n",
       "      <td>Evening</td>\n",
       "      <td>61</td>\n",
       "    </tr>\n",
       "    <tr>\n",
       "      <th>4</th>\n",
       "      <td>Pier 69 / Alaskan Way &amp; Clay St</td>\n",
       "      <td>3rd Ave &amp; Broad St</td>\n",
       "      <td>Night</td>\n",
       "      <td>1</td>\n",
       "    </tr>\n",
       "  </tbody>\n",
       "</table>\n",
       "</div>"
      ],
      "text/plain": [
       "                 from_station_name     to_station_name part_of_day  rides\n",
       "0  Pier 69 / Alaskan Way & Clay St   2nd Ave & Pine St       Night      6\n",
       "1  Pier 69 / Alaskan Way & Clay St   2nd Ave & Pine St     Morning     62\n",
       "2  Pier 69 / Alaskan Way & Clay St   2nd Ave & Pine St   Afternoon    181\n",
       "3  Pier 69 / Alaskan Way & Clay St   2nd Ave & Pine St     Evening     61\n",
       "4  Pier 69 / Alaskan Way & Clay St  3rd Ave & Broad St       Night      1"
      ]
     },
     "execution_count": 31,
     "metadata": {},
     "output_type": "execute_result"
    }
   ],
   "source": [
    "sankey_data = wf01_df.groupby(['from_station_name', 'to_station_name', 'part_of_day']).size().to_frame().reset_index()\n",
    "sankey_data = sankey_data.rename(columns={0:'rides'})\n",
    "sankey_data.head()"
   ]
  },
  {
   "cell_type": "code",
   "execution_count": 32,
   "id": "71a69419",
   "metadata": {},
   "outputs": [],
   "source": [
    "first_half = sankey_data.groupby(['from_station_name','part_of_day']).rides.sum()\\\n",
    "    .reset_index().rename(columns = {'from_station_name':'from','part_of_day':'to'})\n",
    "\n",
    "second_half = sankey_data.groupby(['part_of_day','to_station_name']).rides.sum()\\\n",
    "    .reset_index().rename(columns = {'part_of_day':'from','to_station_name':'to'})\n",
    "\n",
    "sankey_processed = pd.concat([first_half, second_half], axis = 0).reset_index(drop=True)"
   ]
  },
  {
   "cell_type": "code",
   "execution_count": 33,
   "id": "142722a4",
   "metadata": {},
   "outputs": [],
   "source": [
    "from_codes, from_index = pd.factorize(sankey_processed['from'])\n",
    "to_codes, to_index = pd.factorize(sankey_processed['to'])\n",
    "\n",
    "to_dict = dict(zip(np.unique(to_codes) + 1, to_index))\n",
    "from_dict = dict(zip(np.unique(from_codes), from_index))\n",
    "general_dict = to_dict.copy()\n",
    "general_dict.update(from_dict)"
   ]
  },
  {
   "cell_type": "code",
   "execution_count": 34,
   "id": "9973db47",
   "metadata": {},
   "outputs": [],
   "source": [
    "source = from_codes\n",
    "target = to_codes + 1\n",
    "value = sankey_processed['rides']"
   ]
  },
  {
   "cell_type": "code",
   "execution_count": 36,
   "id": "8dd18bd1",
   "metadata": {},
   "outputs": [],
   "source": [
    "link_color = [color_dict[x% len(color_dict)] for x in source]"
   ]
  },
  {
   "cell_type": "code",
   "execution_count": 37,
   "id": "b16f8a1e",
   "metadata": {},
   "outputs": [],
   "source": [
    "node_series = pd.Series(general_dict, index = general_dict.keys()).sort_index()\n",
    "nodes_labels = node_series.values\n",
    "node_color = [color_dict[x % len(color_dict)] for x in node_series.index]"
   ]
  },
  {
   "cell_type": "code",
   "execution_count": 43,
   "id": "312b30aa",
   "metadata": {},
   "outputs": [],
   "source": [
    "link = dict(\n",
    "    source = source,\n",
    "    target = target,\n",
    "    value = value,\n",
    "    color = link_color\n",
    ")\n",
    "data = go.Sankey(link=link, node= dict( label = pd.Series(general_dict, index = general_dict.keys()).sort_index().values, color = node_color))"
   ]
  },
  {
   "cell_type": "code",
   "execution_count": 44,
   "id": "e6ecb08c",
   "metadata": {},
   "outputs": [
    {
     "data": {
      "application/vnd.plotly.v1+json": {
       "config": {
        "plotlyServerURL": "https://plot.ly"
       },
       "data": [
        {
         "link": {
          "color": [
           "#636EFA",
           "#636EFA",
           "#636EFA",
           "#636EFA",
           "#EF553B",
           "#EF553B",
           "#EF553B",
           "#EF553B",
           "#EF553B",
           "#EF553B",
           "#EF553B",
           "#EF553B",
           "#00CC96",
           "#00CC96",
           "#00CC96",
           "#00CC96",
           "#00CC96",
           "#00CC96",
           "#00CC96",
           "#00CC96",
           "#AB63FA",
           "#AB63FA",
           "#AB63FA",
           "#AB63FA",
           "#AB63FA",
           "#AB63FA",
           "#AB63FA",
           "#AB63FA",
           "#FFA15A",
           "#FFA15A",
           "#FFA15A",
           "#FFA15A",
           "#FFA15A",
           "#FFA15A",
           "#FFA15A",
           "#FFA15A"
          ],
          "source": [
           0,
           0,
           0,
           0,
           1,
           1,
           1,
           1,
           1,
           1,
           1,
           1,
           2,
           2,
           2,
           2,
           2,
           2,
           2,
           2,
           3,
           3,
           3,
           3,
           3,
           3,
           3,
           3,
           4,
           4,
           4,
           4,
           4,
           4,
           4,
           4
          ],
          "target": [
           1,
           2,
           3,
           4,
           5,
           6,
           7,
           8,
           9,
           10,
           11,
           12,
           5,
           6,
           7,
           8,
           9,
           10,
           11,
           12,
           5,
           6,
           7,
           8,
           9,
           10,
           11,
           12,
           5,
           6,
           7,
           8,
           9,
           10,
           11,
           12
          ],
          "value": [
           100,
           2258,
           4963,
           929,
           6,
           1,
           0,
           0,
           0,
           65,
           0,
           28,
           62,
           115,
           0,
           40,
           29,
           1215,
           8,
           789,
           181,
           187,
           4,
           892,
           44,
           2411,
           31,
           1213,
           61,
           44,
           0,
           30,
           2,
           518,
           13,
           261
          ]
         },
         "node": {
          "color": [
           "#636EFA",
           "#EF553B",
           "#00CC96",
           "#AB63FA",
           "#FFA15A",
           "#19D3F3",
           "#FF6692",
           "#B6E880",
           "#FF97FF",
           "#FECB52",
           "#636EFA",
           "#EF553B",
           "#00CC96"
          ],
          "label": [
           "Pier 69 / Alaskan Way & Clay St",
           "Night",
           "Morning",
           "Afternoon",
           "Evening",
           "2nd Ave & Pine St",
           "3rd Ave & Broad St",
           "Burke-Gilman Trail / NE Blakeley St & 24th Ave NE",
           "King Street Station Plaza / 2nd Ave Extension S & S Jackson St",
           "Lake Union Park / Valley St & Boren Ave N",
           "Pier 69 / Alaskan Way & Clay St",
           "Pine St & 9th Ave",
           "Seattle Aquarium / Alaskan Way S & Elliott Bay Trail"
          ]
         },
         "type": "sankey"
        }
       ],
       "layout": {
        "template": {
         "data": {
          "bar": [
           {
            "error_x": {
             "color": "#2a3f5f"
            },
            "error_y": {
             "color": "#2a3f5f"
            },
            "marker": {
             "line": {
              "color": "#E5ECF6",
              "width": 0.5
             },
             "pattern": {
              "fillmode": "overlay",
              "size": 10,
              "solidity": 0.2
             }
            },
            "type": "bar"
           }
          ],
          "barpolar": [
           {
            "marker": {
             "line": {
              "color": "#E5ECF6",
              "width": 0.5
             },
             "pattern": {
              "fillmode": "overlay",
              "size": 10,
              "solidity": 0.2
             }
            },
            "type": "barpolar"
           }
          ],
          "carpet": [
           {
            "aaxis": {
             "endlinecolor": "#2a3f5f",
             "gridcolor": "white",
             "linecolor": "white",
             "minorgridcolor": "white",
             "startlinecolor": "#2a3f5f"
            },
            "baxis": {
             "endlinecolor": "#2a3f5f",
             "gridcolor": "white",
             "linecolor": "white",
             "minorgridcolor": "white",
             "startlinecolor": "#2a3f5f"
            },
            "type": "carpet"
           }
          ],
          "choropleth": [
           {
            "colorbar": {
             "outlinewidth": 0,
             "ticks": ""
            },
            "type": "choropleth"
           }
          ],
          "contour": [
           {
            "colorbar": {
             "outlinewidth": 0,
             "ticks": ""
            },
            "colorscale": [
             [
              0,
              "#0d0887"
             ],
             [
              0.1111111111111111,
              "#46039f"
             ],
             [
              0.2222222222222222,
              "#7201a8"
             ],
             [
              0.3333333333333333,
              "#9c179e"
             ],
             [
              0.4444444444444444,
              "#bd3786"
             ],
             [
              0.5555555555555556,
              "#d8576b"
             ],
             [
              0.6666666666666666,
              "#ed7953"
             ],
             [
              0.7777777777777778,
              "#fb9f3a"
             ],
             [
              0.8888888888888888,
              "#fdca26"
             ],
             [
              1,
              "#f0f921"
             ]
            ],
            "type": "contour"
           }
          ],
          "contourcarpet": [
           {
            "colorbar": {
             "outlinewidth": 0,
             "ticks": ""
            },
            "type": "contourcarpet"
           }
          ],
          "heatmap": [
           {
            "colorbar": {
             "outlinewidth": 0,
             "ticks": ""
            },
            "colorscale": [
             [
              0,
              "#0d0887"
             ],
             [
              0.1111111111111111,
              "#46039f"
             ],
             [
              0.2222222222222222,
              "#7201a8"
             ],
             [
              0.3333333333333333,
              "#9c179e"
             ],
             [
              0.4444444444444444,
              "#bd3786"
             ],
             [
              0.5555555555555556,
              "#d8576b"
             ],
             [
              0.6666666666666666,
              "#ed7953"
             ],
             [
              0.7777777777777778,
              "#fb9f3a"
             ],
             [
              0.8888888888888888,
              "#fdca26"
             ],
             [
              1,
              "#f0f921"
             ]
            ],
            "type": "heatmap"
           }
          ],
          "heatmapgl": [
           {
            "colorbar": {
             "outlinewidth": 0,
             "ticks": ""
            },
            "colorscale": [
             [
              0,
              "#0d0887"
             ],
             [
              0.1111111111111111,
              "#46039f"
             ],
             [
              0.2222222222222222,
              "#7201a8"
             ],
             [
              0.3333333333333333,
              "#9c179e"
             ],
             [
              0.4444444444444444,
              "#bd3786"
             ],
             [
              0.5555555555555556,
              "#d8576b"
             ],
             [
              0.6666666666666666,
              "#ed7953"
             ],
             [
              0.7777777777777778,
              "#fb9f3a"
             ],
             [
              0.8888888888888888,
              "#fdca26"
             ],
             [
              1,
              "#f0f921"
             ]
            ],
            "type": "heatmapgl"
           }
          ],
          "histogram": [
           {
            "marker": {
             "pattern": {
              "fillmode": "overlay",
              "size": 10,
              "solidity": 0.2
             }
            },
            "type": "histogram"
           }
          ],
          "histogram2d": [
           {
            "colorbar": {
             "outlinewidth": 0,
             "ticks": ""
            },
            "colorscale": [
             [
              0,
              "#0d0887"
             ],
             [
              0.1111111111111111,
              "#46039f"
             ],
             [
              0.2222222222222222,
              "#7201a8"
             ],
             [
              0.3333333333333333,
              "#9c179e"
             ],
             [
              0.4444444444444444,
              "#bd3786"
             ],
             [
              0.5555555555555556,
              "#d8576b"
             ],
             [
              0.6666666666666666,
              "#ed7953"
             ],
             [
              0.7777777777777778,
              "#fb9f3a"
             ],
             [
              0.8888888888888888,
              "#fdca26"
             ],
             [
              1,
              "#f0f921"
             ]
            ],
            "type": "histogram2d"
           }
          ],
          "histogram2dcontour": [
           {
            "colorbar": {
             "outlinewidth": 0,
             "ticks": ""
            },
            "colorscale": [
             [
              0,
              "#0d0887"
             ],
             [
              0.1111111111111111,
              "#46039f"
             ],
             [
              0.2222222222222222,
              "#7201a8"
             ],
             [
              0.3333333333333333,
              "#9c179e"
             ],
             [
              0.4444444444444444,
              "#bd3786"
             ],
             [
              0.5555555555555556,
              "#d8576b"
             ],
             [
              0.6666666666666666,
              "#ed7953"
             ],
             [
              0.7777777777777778,
              "#fb9f3a"
             ],
             [
              0.8888888888888888,
              "#fdca26"
             ],
             [
              1,
              "#f0f921"
             ]
            ],
            "type": "histogram2dcontour"
           }
          ],
          "mesh3d": [
           {
            "colorbar": {
             "outlinewidth": 0,
             "ticks": ""
            },
            "type": "mesh3d"
           }
          ],
          "parcoords": [
           {
            "line": {
             "colorbar": {
              "outlinewidth": 0,
              "ticks": ""
             }
            },
            "type": "parcoords"
           }
          ],
          "pie": [
           {
            "automargin": true,
            "type": "pie"
           }
          ],
          "scatter": [
           {
            "marker": {
             "colorbar": {
              "outlinewidth": 0,
              "ticks": ""
             }
            },
            "type": "scatter"
           }
          ],
          "scatter3d": [
           {
            "line": {
             "colorbar": {
              "outlinewidth": 0,
              "ticks": ""
             }
            },
            "marker": {
             "colorbar": {
              "outlinewidth": 0,
              "ticks": ""
             }
            },
            "type": "scatter3d"
           }
          ],
          "scattercarpet": [
           {
            "marker": {
             "colorbar": {
              "outlinewidth": 0,
              "ticks": ""
             }
            },
            "type": "scattercarpet"
           }
          ],
          "scattergeo": [
           {
            "marker": {
             "colorbar": {
              "outlinewidth": 0,
              "ticks": ""
             }
            },
            "type": "scattergeo"
           }
          ],
          "scattergl": [
           {
            "marker": {
             "colorbar": {
              "outlinewidth": 0,
              "ticks": ""
             }
            },
            "type": "scattergl"
           }
          ],
          "scattermapbox": [
           {
            "marker": {
             "colorbar": {
              "outlinewidth": 0,
              "ticks": ""
             }
            },
            "type": "scattermapbox"
           }
          ],
          "scatterpolar": [
           {
            "marker": {
             "colorbar": {
              "outlinewidth": 0,
              "ticks": ""
             }
            },
            "type": "scatterpolar"
           }
          ],
          "scatterpolargl": [
           {
            "marker": {
             "colorbar": {
              "outlinewidth": 0,
              "ticks": ""
             }
            },
            "type": "scatterpolargl"
           }
          ],
          "scatterternary": [
           {
            "marker": {
             "colorbar": {
              "outlinewidth": 0,
              "ticks": ""
             }
            },
            "type": "scatterternary"
           }
          ],
          "surface": [
           {
            "colorbar": {
             "outlinewidth": 0,
             "ticks": ""
            },
            "colorscale": [
             [
              0,
              "#0d0887"
             ],
             [
              0.1111111111111111,
              "#46039f"
             ],
             [
              0.2222222222222222,
              "#7201a8"
             ],
             [
              0.3333333333333333,
              "#9c179e"
             ],
             [
              0.4444444444444444,
              "#bd3786"
             ],
             [
              0.5555555555555556,
              "#d8576b"
             ],
             [
              0.6666666666666666,
              "#ed7953"
             ],
             [
              0.7777777777777778,
              "#fb9f3a"
             ],
             [
              0.8888888888888888,
              "#fdca26"
             ],
             [
              1,
              "#f0f921"
             ]
            ],
            "type": "surface"
           }
          ],
          "table": [
           {
            "cells": {
             "fill": {
              "color": "#EBF0F8"
             },
             "line": {
              "color": "white"
             }
            },
            "header": {
             "fill": {
              "color": "#C8D4E3"
             },
             "line": {
              "color": "white"
             }
            },
            "type": "table"
           }
          ]
         },
         "layout": {
          "annotationdefaults": {
           "arrowcolor": "#2a3f5f",
           "arrowhead": 0,
           "arrowwidth": 1
          },
          "autotypenumbers": "strict",
          "coloraxis": {
           "colorbar": {
            "outlinewidth": 0,
            "ticks": ""
           }
          },
          "colorscale": {
           "diverging": [
            [
             0,
             "#8e0152"
            ],
            [
             0.1,
             "#c51b7d"
            ],
            [
             0.2,
             "#de77ae"
            ],
            [
             0.3,
             "#f1b6da"
            ],
            [
             0.4,
             "#fde0ef"
            ],
            [
             0.5,
             "#f7f7f7"
            ],
            [
             0.6,
             "#e6f5d0"
            ],
            [
             0.7,
             "#b8e186"
            ],
            [
             0.8,
             "#7fbc41"
            ],
            [
             0.9,
             "#4d9221"
            ],
            [
             1,
             "#276419"
            ]
           ],
           "sequential": [
            [
             0,
             "#0d0887"
            ],
            [
             0.1111111111111111,
             "#46039f"
            ],
            [
             0.2222222222222222,
             "#7201a8"
            ],
            [
             0.3333333333333333,
             "#9c179e"
            ],
            [
             0.4444444444444444,
             "#bd3786"
            ],
            [
             0.5555555555555556,
             "#d8576b"
            ],
            [
             0.6666666666666666,
             "#ed7953"
            ],
            [
             0.7777777777777778,
             "#fb9f3a"
            ],
            [
             0.8888888888888888,
             "#fdca26"
            ],
            [
             1,
             "#f0f921"
            ]
           ],
           "sequentialminus": [
            [
             0,
             "#0d0887"
            ],
            [
             0.1111111111111111,
             "#46039f"
            ],
            [
             0.2222222222222222,
             "#7201a8"
            ],
            [
             0.3333333333333333,
             "#9c179e"
            ],
            [
             0.4444444444444444,
             "#bd3786"
            ],
            [
             0.5555555555555556,
             "#d8576b"
            ],
            [
             0.6666666666666666,
             "#ed7953"
            ],
            [
             0.7777777777777778,
             "#fb9f3a"
            ],
            [
             0.8888888888888888,
             "#fdca26"
            ],
            [
             1,
             "#f0f921"
            ]
           ]
          },
          "colorway": [
           "#636efa",
           "#EF553B",
           "#00cc96",
           "#ab63fa",
           "#FFA15A",
           "#19d3f3",
           "#FF6692",
           "#B6E880",
           "#FF97FF",
           "#FECB52"
          ],
          "font": {
           "color": "#2a3f5f"
          },
          "geo": {
           "bgcolor": "white",
           "lakecolor": "white",
           "landcolor": "#E5ECF6",
           "showlakes": true,
           "showland": true,
           "subunitcolor": "white"
          },
          "hoverlabel": {
           "align": "left"
          },
          "hovermode": "closest",
          "mapbox": {
           "style": "light"
          },
          "paper_bgcolor": "white",
          "plot_bgcolor": "#E5ECF6",
          "polar": {
           "angularaxis": {
            "gridcolor": "white",
            "linecolor": "white",
            "ticks": ""
           },
           "bgcolor": "#E5ECF6",
           "radialaxis": {
            "gridcolor": "white",
            "linecolor": "white",
            "ticks": ""
           }
          },
          "scene": {
           "xaxis": {
            "backgroundcolor": "#E5ECF6",
            "gridcolor": "white",
            "gridwidth": 2,
            "linecolor": "white",
            "showbackground": true,
            "ticks": "",
            "zerolinecolor": "white"
           },
           "yaxis": {
            "backgroundcolor": "#E5ECF6",
            "gridcolor": "white",
            "gridwidth": 2,
            "linecolor": "white",
            "showbackground": true,
            "ticks": "",
            "zerolinecolor": "white"
           },
           "zaxis": {
            "backgroundcolor": "#E5ECF6",
            "gridcolor": "white",
            "gridwidth": 2,
            "linecolor": "white",
            "showbackground": true,
            "ticks": "",
            "zerolinecolor": "white"
           }
          },
          "shapedefaults": {
           "line": {
            "color": "#2a3f5f"
           }
          },
          "ternary": {
           "aaxis": {
            "gridcolor": "white",
            "linecolor": "white",
            "ticks": ""
           },
           "baxis": {
            "gridcolor": "white",
            "linecolor": "white",
            "ticks": ""
           },
           "bgcolor": "#E5ECF6",
           "caxis": {
            "gridcolor": "white",
            "linecolor": "white",
            "ticks": ""
           }
          },
          "title": {
           "x": 0.05
          },
          "xaxis": {
           "automargin": true,
           "gridcolor": "white",
           "linecolor": "white",
           "ticks": "",
           "title": {
            "standoff": 15
           },
           "zerolinecolor": "white",
           "zerolinewidth": 2
          },
          "yaxis": {
           "automargin": true,
           "gridcolor": "white",
           "linecolor": "white",
           "ticks": "",
           "title": {
            "standoff": 15
           },
           "zerolinecolor": "white",
           "zerolinewidth": 2
          }
         }
        }
       }
      }
     },
     "metadata": {},
     "output_type": "display_data"
    }
   ],
   "source": [
    "fig = go.Figure(data)\n",
    "fig.show()"
   ]
  },
  {
   "cell_type": "code",
   "execution_count": null,
   "id": "1936bf07",
   "metadata": {},
   "outputs": [],
   "source": []
  }
 ],
 "metadata": {
  "kernelspec": {
   "display_name": "Python 3 (ipykernel)",
   "language": "python",
   "name": "python3"
  },
  "language_info": {
   "codemirror_mode": {
    "name": "ipython",
    "version": 3
   },
   "file_extension": ".py",
   "mimetype": "text/x-python",
   "name": "python",
   "nbconvert_exporter": "python",
   "pygments_lexer": "ipython3",
   "version": "3.7.11"
  }
 },
 "nbformat": 4,
 "nbformat_minor": 5
}
