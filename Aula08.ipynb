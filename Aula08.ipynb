{
 "cells": [
  {
   "cell_type": "code",
   "execution_count": 1,
   "id": "d6dcc857",
   "metadata": {},
   "outputs": [],
   "source": [
    "# !pip install plotly\n",
    "# !pip install colorlover\n",
    "import pandas as pd\n",
    "import numpy as np\n",
    "import plotly.graph_objs as go\n",
    "import plotly\n",
    "import chart_studio.plotly as py\n",
    "from plotly.offline import download_plotlyjs, init_notebook_mode, iplot, plot\n",
    "#import colorlover as cl"
   ]
  },
  {
   "cell_type": "code",
   "execution_count": 2,
   "id": "8e101173",
   "metadata": {
    "scrolled": true
   },
   "outputs": [],
   "source": [
    "df = pd.read_csv('./trip.csv', sep=',')\n",
    "df = df.drop_duplicates(subset=['trip_id'])"
   ]
  },
  {
   "cell_type": "code",
   "execution_count": 3,
   "id": "f114cbec",
   "metadata": {},
   "outputs": [
    {
     "name": "stdout",
     "output_type": "stream",
     "text": [
      "<class 'pandas.core.frame.DataFrame'>\n",
      "Int64Index: 236065 entries, 0 to 286857\n",
      "Data columns (total 12 columns):\n",
      " #   Column             Non-Null Count   Dtype  \n",
      "---  ------             --------------   -----  \n",
      " 0   trip_id            236065 non-null  int64  \n",
      " 1   starttime          236065 non-null  object \n",
      " 2   stoptime           236065 non-null  object \n",
      " 3   bikeid             236065 non-null  object \n",
      " 4   tripduration       236065 non-null  float64\n",
      " 5   from_station_name  236065 non-null  object \n",
      " 6   to_station_name    236065 non-null  object \n",
      " 7   from_station_id    236065 non-null  object \n",
      " 8   to_station_id      236065 non-null  object \n",
      " 9   usertype           236064 non-null  object \n",
      " 10  gender             146171 non-null  object \n",
      " 11  birthyear          146167 non-null  float64\n",
      "dtypes: float64(2), int64(1), object(9)\n",
      "memory usage: 23.4+ MB\n"
     ]
    }
   ],
   "source": [
    "df.info()"
   ]
  },
  {
   "cell_type": "code",
   "execution_count": 4,
   "id": "fa739c7c",
   "metadata": {},
   "outputs": [
    {
     "data": {
      "text/plain": [
       "array(['2nd Ave & Spring St',\n",
       "       'Occidental Park / Occidental Ave S & S Washington St',\n",
       "       'City Hall / 4th Ave & James St',\n",
       "       'King Street Station Plaza / 2nd Ave Extension S & S Jackson St',\n",
       "       '1st Ave & Marion St', 'E Harrison St & Broadway Ave E',\n",
       "       '9th Ave N & Mercer St',\n",
       "       'Burke-Gilman Trail / NE Blakeley St & 24th Ave NE',\n",
       "       'Seattle Aquarium / Alaskan Way S & Elliott Bay Trail',\n",
       "       '6th Ave & Blanchard St',\n",
       "       'Burke Museum / E Stevens Way NE & Memorial Way NE',\n",
       "       '2nd Ave & Vine St', '6th Ave S & S King St',\n",
       "       'NE 42nd St & University Way NE', '12th Ave & NE Campus Pkwy',\n",
       "       '2nd Ave & Pine St', 'Frye Art Museum / Terry Ave & Columbia St',\n",
       "       'Harvard Ave & E Pine St', 'Westlake Ave & 6th Ave',\n",
       "       'Dexter Ave & Denny Way',\n",
       "       'UW Magnuson Health Sciences Center Rotunda / Columbia Rd & San Juan Rd',\n",
       "       '12th Ave & E Mercer St', '2nd Ave & Blanchard St',\n",
       "       'REI / Yale Ave N & John St', 'NE 47th St & 12th Ave NE',\n",
       "       '7th Ave & Union St', 'Cal Anderson Park / 11th Ave & Pine St',\n",
       "       'UW Intramural Activities Building',\n",
       "       'Key Arena / 1st Ave N & Harrison St',\n",
       "       \"Children's Hospital / Sandpoint Way NE & 40th Ave NE\",\n",
       "       'Pier 69 / Alaskan Way & Clay St', '15th Ave E & E Thomas St',\n",
       "       'Dexter Ave N & Aloha St', 'E Pine St & 16th Ave',\n",
       "       'UW Engineering Library / E Stevens Way NE & Jefferson Rd',\n",
       "       '15th Ave NE & NE 40th St',\n",
       "       'Lake Union Park / Valley St & Boren Ave N',\n",
       "       'Fred Hutchinson Cancer Research Center / Fairview Ave N & Ward St',\n",
       "       'Eastlake Ave E & E Allison St', '12th Ave & E Denny Way',\n",
       "       'Republican St & Westlake Ave N', '3rd Ave & Broad St',\n",
       "       'Summit Ave & E Denny Way', 'Summit Ave E & E Republican St',\n",
       "       'Bellevue Ave & E Pine St', 'E Blaine St & Fairview Ave E',\n",
       "       'Seattle University / E Columbia St & 12th Ave',\n",
       "       'PATH / 9th Ave & Westlake Ave', 'Pine St & 9th Ave',\n",
       "       'UW McCarty Hall / Whitman Ct', '12th Ave & E Yesler Way',\n",
       "       'Pronto shop', 'Terry Ave & Stewart St', 'Union St & 4th Ave',\n",
       "       'Mercer St & 9th Ave N', 'NE Pacific St/UW Medical Center',\n",
       "       'Broadway and E Denny Way', 'Pronto shop 2',\n",
       "       'Thomas St & 5th Ave N', 'Pier 66 / Alaskan Way & Bell St',\n",
       "       '8D OPS 02'], dtype=object)"
      ]
     },
     "execution_count": 4,
     "metadata": {},
     "output_type": "execute_result"
    }
   ],
   "source": [
    "df['from_station_name'].unique()"
   ]
  },
  {
   "cell_type": "code",
   "execution_count": 5,
   "id": "4abd41fd",
   "metadata": {},
   "outputs": [
    {
     "data": {
      "text/html": [
       "<div>\n",
       "<style scoped>\n",
       "    .dataframe tbody tr th:only-of-type {\n",
       "        vertical-align: middle;\n",
       "    }\n",
       "\n",
       "    .dataframe tbody tr th {\n",
       "        vertical-align: top;\n",
       "    }\n",
       "\n",
       "    .dataframe thead th {\n",
       "        text-align: right;\n",
       "    }\n",
       "</style>\n",
       "<table border=\"1\" class=\"dataframe\">\n",
       "  <thead>\n",
       "    <tr style=\"text-align: right;\">\n",
       "      <th></th>\n",
       "      <th>from_station_name</th>\n",
       "      <th>to_station_name</th>\n",
       "    </tr>\n",
       "  </thead>\n",
       "  <tbody>\n",
       "    <tr>\n",
       "      <th>0</th>\n",
       "      <td>2nd Ave &amp; Spring St</td>\n",
       "      <td>Occidental Park / Occidental Ave S &amp; S Washing...</td>\n",
       "    </tr>\n",
       "    <tr>\n",
       "      <th>1</th>\n",
       "      <td>2nd Ave &amp; Spring St</td>\n",
       "      <td>Occidental Park / Occidental Ave S &amp; S Washing...</td>\n",
       "    </tr>\n",
       "    <tr>\n",
       "      <th>2</th>\n",
       "      <td>2nd Ave &amp; Spring St</td>\n",
       "      <td>Occidental Park / Occidental Ave S &amp; S Washing...</td>\n",
       "    </tr>\n",
       "    <tr>\n",
       "      <th>3</th>\n",
       "      <td>2nd Ave &amp; Spring St</td>\n",
       "      <td>Occidental Park / Occidental Ave S &amp; S Washing...</td>\n",
       "    </tr>\n",
       "    <tr>\n",
       "      <th>4</th>\n",
       "      <td>2nd Ave &amp; Spring St</td>\n",
       "      <td>Occidental Park / Occidental Ave S &amp; S Washing...</td>\n",
       "    </tr>\n",
       "    <tr>\n",
       "      <th>...</th>\n",
       "      <td>...</td>\n",
       "      <td>...</td>\n",
       "    </tr>\n",
       "    <tr>\n",
       "      <th>286853</th>\n",
       "      <td>Harvard Ave &amp; E Pine St</td>\n",
       "      <td>2nd Ave &amp; Spring St</td>\n",
       "    </tr>\n",
       "    <tr>\n",
       "      <th>286854</th>\n",
       "      <td>Cal Anderson Park / 11th Ave &amp; Pine St</td>\n",
       "      <td>6th Ave S &amp; S King St</td>\n",
       "    </tr>\n",
       "    <tr>\n",
       "      <th>286855</th>\n",
       "      <td>Cal Anderson Park / 11th Ave &amp; Pine St</td>\n",
       "      <td>6th Ave S &amp; S King St</td>\n",
       "    </tr>\n",
       "    <tr>\n",
       "      <th>286856</th>\n",
       "      <td>Cal Anderson Park / 11th Ave &amp; Pine St</td>\n",
       "      <td>6th Ave S &amp; S King St</td>\n",
       "    </tr>\n",
       "    <tr>\n",
       "      <th>286857</th>\n",
       "      <td>Cal Anderson Park / 11th Ave &amp; Pine St</td>\n",
       "      <td>6th Ave S &amp; S King St</td>\n",
       "    </tr>\n",
       "  </tbody>\n",
       "</table>\n",
       "<p>236065 rows × 2 columns</p>\n",
       "</div>"
      ],
      "text/plain": [
       "                             from_station_name  \\\n",
       "0                          2nd Ave & Spring St   \n",
       "1                          2nd Ave & Spring St   \n",
       "2                          2nd Ave & Spring St   \n",
       "3                          2nd Ave & Spring St   \n",
       "4                          2nd Ave & Spring St   \n",
       "...                                        ...   \n",
       "286853                 Harvard Ave & E Pine St   \n",
       "286854  Cal Anderson Park / 11th Ave & Pine St   \n",
       "286855  Cal Anderson Park / 11th Ave & Pine St   \n",
       "286856  Cal Anderson Park / 11th Ave & Pine St   \n",
       "286857  Cal Anderson Park / 11th Ave & Pine St   \n",
       "\n",
       "                                          to_station_name  \n",
       "0       Occidental Park / Occidental Ave S & S Washing...  \n",
       "1       Occidental Park / Occidental Ave S & S Washing...  \n",
       "2       Occidental Park / Occidental Ave S & S Washing...  \n",
       "3       Occidental Park / Occidental Ave S & S Washing...  \n",
       "4       Occidental Park / Occidental Ave S & S Washing...  \n",
       "...                                                   ...  \n",
       "286853                                2nd Ave & Spring St  \n",
       "286854                              6th Ave S & S King St  \n",
       "286855                              6th Ave S & S King St  \n",
       "286856                              6th Ave S & S King St  \n",
       "286857                              6th Ave S & S King St  \n",
       "\n",
       "[236065 rows x 2 columns]"
      ]
     },
     "execution_count": 5,
     "metadata": {},
     "output_type": "execute_result"
    }
   ],
   "source": [
    "df[['from_station_name','to_station_name']]"
   ]
  },
  {
   "cell_type": "code",
   "execution_count": 6,
   "id": "a8ddd32e",
   "metadata": {},
   "outputs": [],
   "source": [
    "crosstab_df = pd.crosstab(df['from_station_name'], df['to_station_name'])"
   ]
  },
  {
   "cell_type": "code",
   "execution_count": 7,
   "id": "09cf0b47",
   "metadata": {},
   "outputs": [
    {
     "data": {
      "text/html": [
       "<div>\n",
       "<style scoped>\n",
       "    .dataframe tbody tr th:only-of-type {\n",
       "        vertical-align: middle;\n",
       "    }\n",
       "\n",
       "    .dataframe tbody tr th {\n",
       "        vertical-align: top;\n",
       "    }\n",
       "\n",
       "    .dataframe thead th {\n",
       "        text-align: right;\n",
       "    }\n",
       "</style>\n",
       "<table border=\"1\" class=\"dataframe\">\n",
       "  <thead>\n",
       "    <tr style=\"text-align: right;\">\n",
       "      <th>to_station_name</th>\n",
       "      <th>12th Ave &amp; E Denny Way</th>\n",
       "      <th>12th Ave &amp; E Mercer St</th>\n",
       "      <th>12th Ave &amp; E Yesler Way</th>\n",
       "      <th>12th Ave &amp; NE Campus Pkwy</th>\n",
       "      <th>15th Ave E &amp; E Thomas St</th>\n",
       "      <th>15th Ave NE &amp; NE 40th St</th>\n",
       "      <th>1st Ave &amp; Marion St</th>\n",
       "      <th>2nd Ave &amp; Blanchard St</th>\n",
       "      <th>2nd Ave &amp; Pine St</th>\n",
       "      <th>2nd Ave &amp; Spring St</th>\n",
       "      <th>...</th>\n",
       "      <th>Summit Ave &amp; E Denny Way</th>\n",
       "      <th>Summit Ave E &amp; E Republican St</th>\n",
       "      <th>Terry Ave &amp; Stewart St</th>\n",
       "      <th>Thomas St &amp; 5th Ave N</th>\n",
       "      <th>UW Engineering Library / E Stevens Way NE &amp; Jefferson Rd</th>\n",
       "      <th>UW Intramural Activities Building</th>\n",
       "      <th>UW Magnuson Health Sciences Center Rotunda / Columbia Rd &amp; San Juan Rd</th>\n",
       "      <th>UW McCarty Hall / Whitman Ct</th>\n",
       "      <th>Union St &amp; 4th Ave</th>\n",
       "      <th>Westlake Ave &amp; 6th Ave</th>\n",
       "    </tr>\n",
       "    <tr>\n",
       "      <th>from_station_name</th>\n",
       "      <th></th>\n",
       "      <th></th>\n",
       "      <th></th>\n",
       "      <th></th>\n",
       "      <th></th>\n",
       "      <th></th>\n",
       "      <th></th>\n",
       "      <th></th>\n",
       "      <th></th>\n",
       "      <th></th>\n",
       "      <th></th>\n",
       "      <th></th>\n",
       "      <th></th>\n",
       "      <th></th>\n",
       "      <th></th>\n",
       "      <th></th>\n",
       "      <th></th>\n",
       "      <th></th>\n",
       "      <th></th>\n",
       "      <th></th>\n",
       "      <th></th>\n",
       "    </tr>\n",
       "  </thead>\n",
       "  <tbody>\n",
       "    <tr>\n",
       "      <th>12th Ave &amp; E Denny Way</th>\n",
       "      <td>66</td>\n",
       "      <td>117</td>\n",
       "      <td>55</td>\n",
       "      <td>15</td>\n",
       "      <td>24</td>\n",
       "      <td>4</td>\n",
       "      <td>166</td>\n",
       "      <td>25</td>\n",
       "      <td>162</td>\n",
       "      <td>58</td>\n",
       "      <td>...</td>\n",
       "      <td>75</td>\n",
       "      <td>19</td>\n",
       "      <td>18</td>\n",
       "      <td>3</td>\n",
       "      <td>0</td>\n",
       "      <td>0</td>\n",
       "      <td>9</td>\n",
       "      <td>0</td>\n",
       "      <td>11</td>\n",
       "      <td>62</td>\n",
       "    </tr>\n",
       "    <tr>\n",
       "      <th>12th Ave &amp; E Mercer St</th>\n",
       "      <td>134</td>\n",
       "      <td>199</td>\n",
       "      <td>32</td>\n",
       "      <td>64</td>\n",
       "      <td>62</td>\n",
       "      <td>14</td>\n",
       "      <td>99</td>\n",
       "      <td>62</td>\n",
       "      <td>296</td>\n",
       "      <td>215</td>\n",
       "      <td>...</td>\n",
       "      <td>81</td>\n",
       "      <td>63</td>\n",
       "      <td>21</td>\n",
       "      <td>3</td>\n",
       "      <td>8</td>\n",
       "      <td>11</td>\n",
       "      <td>14</td>\n",
       "      <td>0</td>\n",
       "      <td>62</td>\n",
       "      <td>118</td>\n",
       "    </tr>\n",
       "    <tr>\n",
       "      <th>12th Ave &amp; E Yesler Way</th>\n",
       "      <td>21</td>\n",
       "      <td>24</td>\n",
       "      <td>44</td>\n",
       "      <td>6</td>\n",
       "      <td>6</td>\n",
       "      <td>0</td>\n",
       "      <td>12</td>\n",
       "      <td>7</td>\n",
       "      <td>13</td>\n",
       "      <td>13</td>\n",
       "      <td>...</td>\n",
       "      <td>8</td>\n",
       "      <td>2</td>\n",
       "      <td>3</td>\n",
       "      <td>0</td>\n",
       "      <td>1</td>\n",
       "      <td>0</td>\n",
       "      <td>0</td>\n",
       "      <td>0</td>\n",
       "      <td>11</td>\n",
       "      <td>10</td>\n",
       "    </tr>\n",
       "    <tr>\n",
       "      <th>12th Ave &amp; NE Campus Pkwy</th>\n",
       "      <td>5</td>\n",
       "      <td>14</td>\n",
       "      <td>4</td>\n",
       "      <td>655</td>\n",
       "      <td>17</td>\n",
       "      <td>85</td>\n",
       "      <td>5</td>\n",
       "      <td>16</td>\n",
       "      <td>11</td>\n",
       "      <td>15</td>\n",
       "      <td>...</td>\n",
       "      <td>3</td>\n",
       "      <td>11</td>\n",
       "      <td>4</td>\n",
       "      <td>3</td>\n",
       "      <td>504</td>\n",
       "      <td>120</td>\n",
       "      <td>123</td>\n",
       "      <td>37</td>\n",
       "      <td>0</td>\n",
       "      <td>18</td>\n",
       "    </tr>\n",
       "    <tr>\n",
       "      <th>15th Ave E &amp; E Thomas St</th>\n",
       "      <td>40</td>\n",
       "      <td>107</td>\n",
       "      <td>27</td>\n",
       "      <td>183</td>\n",
       "      <td>166</td>\n",
       "      <td>26</td>\n",
       "      <td>57</td>\n",
       "      <td>88</td>\n",
       "      <td>254</td>\n",
       "      <td>87</td>\n",
       "      <td>...</td>\n",
       "      <td>216</td>\n",
       "      <td>234</td>\n",
       "      <td>25</td>\n",
       "      <td>3</td>\n",
       "      <td>2</td>\n",
       "      <td>23</td>\n",
       "      <td>22</td>\n",
       "      <td>0</td>\n",
       "      <td>67</td>\n",
       "      <td>158</td>\n",
       "    </tr>\n",
       "    <tr>\n",
       "      <th>...</th>\n",
       "      <td>...</td>\n",
       "      <td>...</td>\n",
       "      <td>...</td>\n",
       "      <td>...</td>\n",
       "      <td>...</td>\n",
       "      <td>...</td>\n",
       "      <td>...</td>\n",
       "      <td>...</td>\n",
       "      <td>...</td>\n",
       "      <td>...</td>\n",
       "      <td>...</td>\n",
       "      <td>...</td>\n",
       "      <td>...</td>\n",
       "      <td>...</td>\n",
       "      <td>...</td>\n",
       "      <td>...</td>\n",
       "      <td>...</td>\n",
       "      <td>...</td>\n",
       "      <td>...</td>\n",
       "      <td>...</td>\n",
       "      <td>...</td>\n",
       "    </tr>\n",
       "    <tr>\n",
       "      <th>UW Intramural Activities Building</th>\n",
       "      <td>1</td>\n",
       "      <td>8</td>\n",
       "      <td>2</td>\n",
       "      <td>150</td>\n",
       "      <td>7</td>\n",
       "      <td>147</td>\n",
       "      <td>3</td>\n",
       "      <td>0</td>\n",
       "      <td>4</td>\n",
       "      <td>0</td>\n",
       "      <td>...</td>\n",
       "      <td>0</td>\n",
       "      <td>4</td>\n",
       "      <td>0</td>\n",
       "      <td>0</td>\n",
       "      <td>43</td>\n",
       "      <td>213</td>\n",
       "      <td>77</td>\n",
       "      <td>35</td>\n",
       "      <td>0</td>\n",
       "      <td>1</td>\n",
       "    </tr>\n",
       "    <tr>\n",
       "      <th>UW Magnuson Health Sciences Center Rotunda / Columbia Rd &amp; San Juan Rd</th>\n",
       "      <td>0</td>\n",
       "      <td>3</td>\n",
       "      <td>0</td>\n",
       "      <td>78</td>\n",
       "      <td>12</td>\n",
       "      <td>60</td>\n",
       "      <td>2</td>\n",
       "      <td>2</td>\n",
       "      <td>15</td>\n",
       "      <td>0</td>\n",
       "      <td>...</td>\n",
       "      <td>6</td>\n",
       "      <td>12</td>\n",
       "      <td>1</td>\n",
       "      <td>0</td>\n",
       "      <td>30</td>\n",
       "      <td>78</td>\n",
       "      <td>215</td>\n",
       "      <td>12</td>\n",
       "      <td>0</td>\n",
       "      <td>4</td>\n",
       "    </tr>\n",
       "    <tr>\n",
       "      <th>UW McCarty Hall / Whitman Ct</th>\n",
       "      <td>1</td>\n",
       "      <td>1</td>\n",
       "      <td>0</td>\n",
       "      <td>26</td>\n",
       "      <td>0</td>\n",
       "      <td>92</td>\n",
       "      <td>0</td>\n",
       "      <td>0</td>\n",
       "      <td>0</td>\n",
       "      <td>0</td>\n",
       "      <td>...</td>\n",
       "      <td>0</td>\n",
       "      <td>0</td>\n",
       "      <td>0</td>\n",
       "      <td>0</td>\n",
       "      <td>198</td>\n",
       "      <td>22</td>\n",
       "      <td>4</td>\n",
       "      <td>30</td>\n",
       "      <td>0</td>\n",
       "      <td>0</td>\n",
       "    </tr>\n",
       "    <tr>\n",
       "      <th>Union St &amp; 4th Ave</th>\n",
       "      <td>2</td>\n",
       "      <td>7</td>\n",
       "      <td>16</td>\n",
       "      <td>2</td>\n",
       "      <td>3</td>\n",
       "      <td>10</td>\n",
       "      <td>67</td>\n",
       "      <td>60</td>\n",
       "      <td>62</td>\n",
       "      <td>30</td>\n",
       "      <td>...</td>\n",
       "      <td>22</td>\n",
       "      <td>32</td>\n",
       "      <td>29</td>\n",
       "      <td>20</td>\n",
       "      <td>1</td>\n",
       "      <td>0</td>\n",
       "      <td>2</td>\n",
       "      <td>0</td>\n",
       "      <td>131</td>\n",
       "      <td>78</td>\n",
       "    </tr>\n",
       "    <tr>\n",
       "      <th>Westlake Ave &amp; 6th Ave</th>\n",
       "      <td>8</td>\n",
       "      <td>12</td>\n",
       "      <td>4</td>\n",
       "      <td>15</td>\n",
       "      <td>9</td>\n",
       "      <td>11</td>\n",
       "      <td>533</td>\n",
       "      <td>146</td>\n",
       "      <td>225</td>\n",
       "      <td>238</td>\n",
       "      <td>...</td>\n",
       "      <td>32</td>\n",
       "      <td>30</td>\n",
       "      <td>63</td>\n",
       "      <td>24</td>\n",
       "      <td>0</td>\n",
       "      <td>3</td>\n",
       "      <td>2</td>\n",
       "      <td>0</td>\n",
       "      <td>84</td>\n",
       "      <td>379</td>\n",
       "    </tr>\n",
       "  </tbody>\n",
       "</table>\n",
       "<p>61 rows × 61 columns</p>\n",
       "</div>"
      ],
      "text/plain": [
       "to_station_name                                     12th Ave & E Denny Way  \\\n",
       "from_station_name                                                            \n",
       "12th Ave & E Denny Way                                                  66   \n",
       "12th Ave & E Mercer St                                                 134   \n",
       "12th Ave & E Yesler Way                                                 21   \n",
       "12th Ave & NE Campus Pkwy                                                5   \n",
       "15th Ave E & E Thomas St                                                40   \n",
       "...                                                                    ...   \n",
       "UW Intramural Activities Building                                        1   \n",
       "UW Magnuson Health Sciences Center Rotunda / Co...                       0   \n",
       "UW McCarty Hall / Whitman Ct                                             1   \n",
       "Union St & 4th Ave                                                       2   \n",
       "Westlake Ave & 6th Ave                                                   8   \n",
       "\n",
       "to_station_name                                     12th Ave & E Mercer St  \\\n",
       "from_station_name                                                            \n",
       "12th Ave & E Denny Way                                                 117   \n",
       "12th Ave & E Mercer St                                                 199   \n",
       "12th Ave & E Yesler Way                                                 24   \n",
       "12th Ave & NE Campus Pkwy                                               14   \n",
       "15th Ave E & E Thomas St                                               107   \n",
       "...                                                                    ...   \n",
       "UW Intramural Activities Building                                        8   \n",
       "UW Magnuson Health Sciences Center Rotunda / Co...                       3   \n",
       "UW McCarty Hall / Whitman Ct                                             1   \n",
       "Union St & 4th Ave                                                       7   \n",
       "Westlake Ave & 6th Ave                                                  12   \n",
       "\n",
       "to_station_name                                     12th Ave & E Yesler Way  \\\n",
       "from_station_name                                                             \n",
       "12th Ave & E Denny Way                                                   55   \n",
       "12th Ave & E Mercer St                                                   32   \n",
       "12th Ave & E Yesler Way                                                  44   \n",
       "12th Ave & NE Campus Pkwy                                                 4   \n",
       "15th Ave E & E Thomas St                                                 27   \n",
       "...                                                                     ...   \n",
       "UW Intramural Activities Building                                         2   \n",
       "UW Magnuson Health Sciences Center Rotunda / Co...                        0   \n",
       "UW McCarty Hall / Whitman Ct                                              0   \n",
       "Union St & 4th Ave                                                       16   \n",
       "Westlake Ave & 6th Ave                                                    4   \n",
       "\n",
       "to_station_name                                     12th Ave & NE Campus Pkwy  \\\n",
       "from_station_name                                                               \n",
       "12th Ave & E Denny Way                                                     15   \n",
       "12th Ave & E Mercer St                                                     64   \n",
       "12th Ave & E Yesler Way                                                     6   \n",
       "12th Ave & NE Campus Pkwy                                                 655   \n",
       "15th Ave E & E Thomas St                                                  183   \n",
       "...                                                                       ...   \n",
       "UW Intramural Activities Building                                         150   \n",
       "UW Magnuson Health Sciences Center Rotunda / Co...                         78   \n",
       "UW McCarty Hall / Whitman Ct                                               26   \n",
       "Union St & 4th Ave                                                          2   \n",
       "Westlake Ave & 6th Ave                                                     15   \n",
       "\n",
       "to_station_name                                     15th Ave E & E Thomas St  \\\n",
       "from_station_name                                                              \n",
       "12th Ave & E Denny Way                                                    24   \n",
       "12th Ave & E Mercer St                                                    62   \n",
       "12th Ave & E Yesler Way                                                    6   \n",
       "12th Ave & NE Campus Pkwy                                                 17   \n",
       "15th Ave E & E Thomas St                                                 166   \n",
       "...                                                                      ...   \n",
       "UW Intramural Activities Building                                          7   \n",
       "UW Magnuson Health Sciences Center Rotunda / Co...                        12   \n",
       "UW McCarty Hall / Whitman Ct                                               0   \n",
       "Union St & 4th Ave                                                         3   \n",
       "Westlake Ave & 6th Ave                                                     9   \n",
       "\n",
       "to_station_name                                     15th Ave NE & NE 40th St  \\\n",
       "from_station_name                                                              \n",
       "12th Ave & E Denny Way                                                     4   \n",
       "12th Ave & E Mercer St                                                    14   \n",
       "12th Ave & E Yesler Way                                                    0   \n",
       "12th Ave & NE Campus Pkwy                                                 85   \n",
       "15th Ave E & E Thomas St                                                  26   \n",
       "...                                                                      ...   \n",
       "UW Intramural Activities Building                                        147   \n",
       "UW Magnuson Health Sciences Center Rotunda / Co...                        60   \n",
       "UW McCarty Hall / Whitman Ct                                              92   \n",
       "Union St & 4th Ave                                                        10   \n",
       "Westlake Ave & 6th Ave                                                    11   \n",
       "\n",
       "to_station_name                                     1st Ave & Marion St  \\\n",
       "from_station_name                                                         \n",
       "12th Ave & E Denny Way                                              166   \n",
       "12th Ave & E Mercer St                                               99   \n",
       "12th Ave & E Yesler Way                                              12   \n",
       "12th Ave & NE Campus Pkwy                                             5   \n",
       "15th Ave E & E Thomas St                                             57   \n",
       "...                                                                 ...   \n",
       "UW Intramural Activities Building                                     3   \n",
       "UW Magnuson Health Sciences Center Rotunda / Co...                    2   \n",
       "UW McCarty Hall / Whitman Ct                                          0   \n",
       "Union St & 4th Ave                                                   67   \n",
       "Westlake Ave & 6th Ave                                              533   \n",
       "\n",
       "to_station_name                                     2nd Ave & Blanchard St  \\\n",
       "from_station_name                                                            \n",
       "12th Ave & E Denny Way                                                  25   \n",
       "12th Ave & E Mercer St                                                  62   \n",
       "12th Ave & E Yesler Way                                                  7   \n",
       "12th Ave & NE Campus Pkwy                                               16   \n",
       "15th Ave E & E Thomas St                                                88   \n",
       "...                                                                    ...   \n",
       "UW Intramural Activities Building                                        0   \n",
       "UW Magnuson Health Sciences Center Rotunda / Co...                       2   \n",
       "UW McCarty Hall / Whitman Ct                                             0   \n",
       "Union St & 4th Ave                                                      60   \n",
       "Westlake Ave & 6th Ave                                                 146   \n",
       "\n",
       "to_station_name                                     2nd Ave & Pine St  \\\n",
       "from_station_name                                                       \n",
       "12th Ave & E Denny Way                                            162   \n",
       "12th Ave & E Mercer St                                            296   \n",
       "12th Ave & E Yesler Way                                            13   \n",
       "12th Ave & NE Campus Pkwy                                          11   \n",
       "15th Ave E & E Thomas St                                          254   \n",
       "...                                                               ...   \n",
       "UW Intramural Activities Building                                   4   \n",
       "UW Magnuson Health Sciences Center Rotunda / Co...                 15   \n",
       "UW McCarty Hall / Whitman Ct                                        0   \n",
       "Union St & 4th Ave                                                 62   \n",
       "Westlake Ave & 6th Ave                                            225   \n",
       "\n",
       "to_station_name                                     2nd Ave & Spring St  ...  \\\n",
       "from_station_name                                                        ...   \n",
       "12th Ave & E Denny Way                                               58  ...   \n",
       "12th Ave & E Mercer St                                              215  ...   \n",
       "12th Ave & E Yesler Way                                              13  ...   \n",
       "12th Ave & NE Campus Pkwy                                            15  ...   \n",
       "15th Ave E & E Thomas St                                             87  ...   \n",
       "...                                                                 ...  ...   \n",
       "UW Intramural Activities Building                                     0  ...   \n",
       "UW Magnuson Health Sciences Center Rotunda / Co...                    0  ...   \n",
       "UW McCarty Hall / Whitman Ct                                          0  ...   \n",
       "Union St & 4th Ave                                                   30  ...   \n",
       "Westlake Ave & 6th Ave                                              238  ...   \n",
       "\n",
       "to_station_name                                     Summit Ave & E Denny Way  \\\n",
       "from_station_name                                                              \n",
       "12th Ave & E Denny Way                                                    75   \n",
       "12th Ave & E Mercer St                                                    81   \n",
       "12th Ave & E Yesler Way                                                    8   \n",
       "12th Ave & NE Campus Pkwy                                                  3   \n",
       "15th Ave E & E Thomas St                                                 216   \n",
       "...                                                                      ...   \n",
       "UW Intramural Activities Building                                          0   \n",
       "UW Magnuson Health Sciences Center Rotunda / Co...                         6   \n",
       "UW McCarty Hall / Whitman Ct                                               0   \n",
       "Union St & 4th Ave                                                        22   \n",
       "Westlake Ave & 6th Ave                                                    32   \n",
       "\n",
       "to_station_name                                     Summit Ave E & E Republican St  \\\n",
       "from_station_name                                                                    \n",
       "12th Ave & E Denny Way                                                          19   \n",
       "12th Ave & E Mercer St                                                          63   \n",
       "12th Ave & E Yesler Way                                                          2   \n",
       "12th Ave & NE Campus Pkwy                                                       11   \n",
       "15th Ave E & E Thomas St                                                       234   \n",
       "...                                                                            ...   \n",
       "UW Intramural Activities Building                                                4   \n",
       "UW Magnuson Health Sciences Center Rotunda / Co...                              12   \n",
       "UW McCarty Hall / Whitman Ct                                                     0   \n",
       "Union St & 4th Ave                                                              32   \n",
       "Westlake Ave & 6th Ave                                                          30   \n",
       "\n",
       "to_station_name                                     Terry Ave & Stewart St  \\\n",
       "from_station_name                                                            \n",
       "12th Ave & E Denny Way                                                  18   \n",
       "12th Ave & E Mercer St                                                  21   \n",
       "12th Ave & E Yesler Way                                                  3   \n",
       "12th Ave & NE Campus Pkwy                                                4   \n",
       "15th Ave E & E Thomas St                                                25   \n",
       "...                                                                    ...   \n",
       "UW Intramural Activities Building                                        0   \n",
       "UW Magnuson Health Sciences Center Rotunda / Co...                       1   \n",
       "UW McCarty Hall / Whitman Ct                                             0   \n",
       "Union St & 4th Ave                                                      29   \n",
       "Westlake Ave & 6th Ave                                                  63   \n",
       "\n",
       "to_station_name                                     Thomas St & 5th Ave N  \\\n",
       "from_station_name                                                           \n",
       "12th Ave & E Denny Way                                                  3   \n",
       "12th Ave & E Mercer St                                                  3   \n",
       "12th Ave & E Yesler Way                                                 0   \n",
       "12th Ave & NE Campus Pkwy                                               3   \n",
       "15th Ave E & E Thomas St                                                3   \n",
       "...                                                                   ...   \n",
       "UW Intramural Activities Building                                       0   \n",
       "UW Magnuson Health Sciences Center Rotunda / Co...                      0   \n",
       "UW McCarty Hall / Whitman Ct                                            0   \n",
       "Union St & 4th Ave                                                     20   \n",
       "Westlake Ave & 6th Ave                                                 24   \n",
       "\n",
       "to_station_name                                     UW Engineering Library / E Stevens Way NE & Jefferson Rd  \\\n",
       "from_station_name                                                                                              \n",
       "12th Ave & E Denny Way                                                                              0          \n",
       "12th Ave & E Mercer St                                                                              8          \n",
       "12th Ave & E Yesler Way                                                                             1          \n",
       "12th Ave & NE Campus Pkwy                                                                         504          \n",
       "15th Ave E & E Thomas St                                                                            2          \n",
       "...                                                                                               ...          \n",
       "UW Intramural Activities Building                                                                  43          \n",
       "UW Magnuson Health Sciences Center Rotunda / Co...                                                 30          \n",
       "UW McCarty Hall / Whitman Ct                                                                      198          \n",
       "Union St & 4th Ave                                                                                  1          \n",
       "Westlake Ave & 6th Ave                                                                              0          \n",
       "\n",
       "to_station_name                                     UW Intramural Activities Building  \\\n",
       "from_station_name                                                                       \n",
       "12th Ave & E Denny Way                                                              0   \n",
       "12th Ave & E Mercer St                                                             11   \n",
       "12th Ave & E Yesler Way                                                             0   \n",
       "12th Ave & NE Campus Pkwy                                                         120   \n",
       "15th Ave E & E Thomas St                                                           23   \n",
       "...                                                                               ...   \n",
       "UW Intramural Activities Building                                                 213   \n",
       "UW Magnuson Health Sciences Center Rotunda / Co...                                 78   \n",
       "UW McCarty Hall / Whitman Ct                                                       22   \n",
       "Union St & 4th Ave                                                                  0   \n",
       "Westlake Ave & 6th Ave                                                              3   \n",
       "\n",
       "to_station_name                                     UW Magnuson Health Sciences Center Rotunda / Columbia Rd & San Juan Rd  \\\n",
       "from_station_name                                                                                                            \n",
       "12th Ave & E Denny Way                                                                              9                        \n",
       "12th Ave & E Mercer St                                                                             14                        \n",
       "12th Ave & E Yesler Way                                                                             0                        \n",
       "12th Ave & NE Campus Pkwy                                                                         123                        \n",
       "15th Ave E & E Thomas St                                                                           22                        \n",
       "...                                                                                               ...                        \n",
       "UW Intramural Activities Building                                                                  77                        \n",
       "UW Magnuson Health Sciences Center Rotunda / Co...                                                215                        \n",
       "UW McCarty Hall / Whitman Ct                                                                        4                        \n",
       "Union St & 4th Ave                                                                                  2                        \n",
       "Westlake Ave & 6th Ave                                                                              2                        \n",
       "\n",
       "to_station_name                                     UW McCarty Hall / Whitman Ct  \\\n",
       "from_station_name                                                                  \n",
       "12th Ave & E Denny Way                                                         0   \n",
       "12th Ave & E Mercer St                                                         0   \n",
       "12th Ave & E Yesler Way                                                        0   \n",
       "12th Ave & NE Campus Pkwy                                                     37   \n",
       "15th Ave E & E Thomas St                                                       0   \n",
       "...                                                                          ...   \n",
       "UW Intramural Activities Building                                             35   \n",
       "UW Magnuson Health Sciences Center Rotunda / Co...                            12   \n",
       "UW McCarty Hall / Whitman Ct                                                  30   \n",
       "Union St & 4th Ave                                                             0   \n",
       "Westlake Ave & 6th Ave                                                         0   \n",
       "\n",
       "to_station_name                                     Union St & 4th Ave  \\\n",
       "from_station_name                                                        \n",
       "12th Ave & E Denny Way                                              11   \n",
       "12th Ave & E Mercer St                                              62   \n",
       "12th Ave & E Yesler Way                                             11   \n",
       "12th Ave & NE Campus Pkwy                                            0   \n",
       "15th Ave E & E Thomas St                                            67   \n",
       "...                                                                ...   \n",
       "UW Intramural Activities Building                                    0   \n",
       "UW Magnuson Health Sciences Center Rotunda / Co...                   0   \n",
       "UW McCarty Hall / Whitman Ct                                         0   \n",
       "Union St & 4th Ave                                                 131   \n",
       "Westlake Ave & 6th Ave                                              84   \n",
       "\n",
       "to_station_name                                     Westlake Ave & 6th Ave  \n",
       "from_station_name                                                           \n",
       "12th Ave & E Denny Way                                                  62  \n",
       "12th Ave & E Mercer St                                                 118  \n",
       "12th Ave & E Yesler Way                                                 10  \n",
       "12th Ave & NE Campus Pkwy                                               18  \n",
       "15th Ave E & E Thomas St                                               158  \n",
       "...                                                                    ...  \n",
       "UW Intramural Activities Building                                        1  \n",
       "UW Magnuson Health Sciences Center Rotunda / Co...                       4  \n",
       "UW McCarty Hall / Whitman Ct                                             0  \n",
       "Union St & 4th Ave                                                      78  \n",
       "Westlake Ave & 6th Ave                                                 379  \n",
       "\n",
       "[61 rows x 61 columns]"
      ]
     },
     "execution_count": 7,
     "metadata": {},
     "output_type": "execute_result"
    }
   ],
   "source": [
    "crosstab_df"
   ]
  },
  {
   "cell_type": "code",
   "execution_count": 8,
   "id": "31627fdf",
   "metadata": {},
   "outputs": [],
   "source": [
    "top_10_estacoes = df.groupby(['from_station_name', 'to_station_name']).size().to_frame().nlargest(10, 0).reset_index()"
   ]
  },
  {
   "cell_type": "code",
   "execution_count": 9,
   "id": "c8163ce3",
   "metadata": {},
   "outputs": [
    {
     "data": {
      "text/html": [
       "<div>\n",
       "<style scoped>\n",
       "    .dataframe tbody tr th:only-of-type {\n",
       "        vertical-align: middle;\n",
       "    }\n",
       "\n",
       "    .dataframe tbody tr th {\n",
       "        vertical-align: top;\n",
       "    }\n",
       "\n",
       "    .dataframe thead th {\n",
       "        text-align: right;\n",
       "    }\n",
       "</style>\n",
       "<table border=\"1\" class=\"dataframe\">\n",
       "  <thead>\n",
       "    <tr style=\"text-align: right;\">\n",
       "      <th></th>\n",
       "      <th>from_station_name</th>\n",
       "      <th>to_station_name</th>\n",
       "      <th>0</th>\n",
       "    </tr>\n",
       "  </thead>\n",
       "  <tbody>\n",
       "    <tr>\n",
       "      <th>0</th>\n",
       "      <td>Pier 69 / Alaskan Way &amp; Clay St</td>\n",
       "      <td>Pier 69 / Alaskan Way &amp; Clay St</td>\n",
       "      <td>4209</td>\n",
       "    </tr>\n",
       "    <tr>\n",
       "      <th>1</th>\n",
       "      <td>Pier 69 / Alaskan Way &amp; Clay St</td>\n",
       "      <td>Seattle Aquarium / Alaskan Way S &amp; Elliott Bay...</td>\n",
       "      <td>2291</td>\n",
       "    </tr>\n",
       "    <tr>\n",
       "      <th>2</th>\n",
       "      <td>Seattle Aquarium / Alaskan Way S &amp; Elliott Bay...</td>\n",
       "      <td>Pier 69 / Alaskan Way &amp; Clay St</td>\n",
       "      <td>1605</td>\n",
       "    </tr>\n",
       "    <tr>\n",
       "      <th>3</th>\n",
       "      <td>Seattle Aquarium / Alaskan Way S &amp; Elliott Bay...</td>\n",
       "      <td>Seattle Aquarium / Alaskan Way S &amp; Elliott Bay...</td>\n",
       "      <td>1150</td>\n",
       "    </tr>\n",
       "    <tr>\n",
       "      <th>4</th>\n",
       "      <td>3rd Ave &amp; Broad St</td>\n",
       "      <td>2nd Ave &amp; Pine St</td>\n",
       "      <td>1101</td>\n",
       "    </tr>\n",
       "    <tr>\n",
       "      <th>5</th>\n",
       "      <td>2nd Ave &amp; Pine St</td>\n",
       "      <td>3rd Ave &amp; Broad St</td>\n",
       "      <td>962</td>\n",
       "    </tr>\n",
       "    <tr>\n",
       "      <th>6</th>\n",
       "      <td>Pier 69 / Alaskan Way &amp; Clay St</td>\n",
       "      <td>King Street Station Plaza / 2nd Ave Extension ...</td>\n",
       "      <td>962</td>\n",
       "    </tr>\n",
       "    <tr>\n",
       "      <th>7</th>\n",
       "      <td>Lake Union Park / Valley St &amp; Boren Ave N</td>\n",
       "      <td>Lake Union Park / Valley St &amp; Boren Ave N</td>\n",
       "      <td>960</td>\n",
       "    </tr>\n",
       "    <tr>\n",
       "      <th>8</th>\n",
       "      <td>E Pine St &amp; 16th Ave</td>\n",
       "      <td>Pine St &amp; 9th Ave</td>\n",
       "      <td>934</td>\n",
       "    </tr>\n",
       "    <tr>\n",
       "      <th>9</th>\n",
       "      <td>Burke-Gilman Trail / NE Blakeley St &amp; 24th Ave NE</td>\n",
       "      <td>Burke-Gilman Trail / NE Blakeley St &amp; 24th Ave NE</td>\n",
       "      <td>880</td>\n",
       "    </tr>\n",
       "  </tbody>\n",
       "</table>\n",
       "</div>"
      ],
      "text/plain": [
       "                                   from_station_name  \\\n",
       "0                    Pier 69 / Alaskan Way & Clay St   \n",
       "1                    Pier 69 / Alaskan Way & Clay St   \n",
       "2  Seattle Aquarium / Alaskan Way S & Elliott Bay...   \n",
       "3  Seattle Aquarium / Alaskan Way S & Elliott Bay...   \n",
       "4                                 3rd Ave & Broad St   \n",
       "5                                  2nd Ave & Pine St   \n",
       "6                    Pier 69 / Alaskan Way & Clay St   \n",
       "7          Lake Union Park / Valley St & Boren Ave N   \n",
       "8                               E Pine St & 16th Ave   \n",
       "9  Burke-Gilman Trail / NE Blakeley St & 24th Ave NE   \n",
       "\n",
       "                                     to_station_name     0  \n",
       "0                    Pier 69 / Alaskan Way & Clay St  4209  \n",
       "1  Seattle Aquarium / Alaskan Way S & Elliott Bay...  2291  \n",
       "2                    Pier 69 / Alaskan Way & Clay St  1605  \n",
       "3  Seattle Aquarium / Alaskan Way S & Elliott Bay...  1150  \n",
       "4                                  2nd Ave & Pine St  1101  \n",
       "5                                 3rd Ave & Broad St   962  \n",
       "6  King Street Station Plaza / 2nd Ave Extension ...   962  \n",
       "7          Lake Union Park / Valley St & Boren Ave N   960  \n",
       "8                                  Pine St & 9th Ave   934  \n",
       "9  Burke-Gilman Trail / NE Blakeley St & 24th Ave NE   880  "
      ]
     },
     "execution_count": 9,
     "metadata": {},
     "output_type": "execute_result"
    }
   ],
   "source": [
    "top_10_estacoes"
   ]
  },
  {
   "cell_type": "code",
   "execution_count": 10,
   "id": "a24fb0ca",
   "metadata": {},
   "outputs": [],
   "source": [
    "from_station_mask = top_10_estacoes['from_station_name'].unique()\n",
    "to_station_mask = top_10_estacoes['to_station_name'].unique()"
   ]
  },
  {
   "cell_type": "code",
   "execution_count": 11,
   "id": "29bbd1a5",
   "metadata": {},
   "outputs": [
    {
     "data": {
      "text/plain": [
       "{'2nd Ave & Pine St',\n",
       " '3rd Ave & Broad St',\n",
       " 'Burke-Gilman Trail / NE Blakeley St & 24th Ave NE',\n",
       " 'E Pine St & 16th Ave',\n",
       " 'Lake Union Park / Valley St & Boren Ave N',\n",
       " 'Pier 69 / Alaskan Way & Clay St',\n",
       " 'Seattle Aquarium / Alaskan Way S & Elliott Bay Trail'}"
      ]
     },
     "execution_count": 11,
     "metadata": {},
     "output_type": "execute_result"
    }
   ],
   "source": [
    "set(from_station_mask)"
   ]
  },
  {
   "cell_type": "code",
   "execution_count": 12,
   "id": "231bdb43",
   "metadata": {},
   "outputs": [
    {
     "data": {
      "text/plain": [
       "array(['Pier 69 / Alaskan Way & Clay St',\n",
       "       'Seattle Aquarium / Alaskan Way S & Elliott Bay Trail',\n",
       "       '2nd Ave & Pine St', '3rd Ave & Broad St',\n",
       "       'King Street Station Plaza / 2nd Ave Extension S & S Jackson St',\n",
       "       'Lake Union Park / Valley St & Boren Ave N', 'Pine St & 9th Ave',\n",
       "       'Burke-Gilman Trail / NE Blakeley St & 24th Ave NE'], dtype=object)"
      ]
     },
     "execution_count": 12,
     "metadata": {},
     "output_type": "execute_result"
    }
   ],
   "source": [
    "to_station_mask"
   ]
  },
  {
   "cell_type": "code",
   "execution_count": 13,
   "id": "e92d1b82",
   "metadata": {},
   "outputs": [
    {
     "data": {
      "text/plain": [
       "['Pier 69 / Alaskan Way & Clay St',\n",
       " 'Seattle Aquarium / Alaskan Way S & Elliott Bay Trail',\n",
       " '2nd Ave & Pine St',\n",
       " '3rd Ave & Broad St',\n",
       " 'King Street Station Plaza / 2nd Ave Extension S & S Jackson St',\n",
       " 'Lake Union Park / Valley St & Boren Ave N',\n",
       " 'Pine St & 9th Ave',\n",
       " 'Burke-Gilman Trail / NE Blakeley St & 24th Ave NE',\n",
       " 'Pier 69 / Alaskan Way & Clay St',\n",
       " 'Seattle Aquarium / Alaskan Way S & Elliott Bay Trail',\n",
       " '3rd Ave & Broad St',\n",
       " '2nd Ave & Pine St',\n",
       " 'Lake Union Park / Valley St & Boren Ave N',\n",
       " 'E Pine St & 16th Ave',\n",
       " 'Burke-Gilman Trail / NE Blakeley St & 24th Ave NE']"
      ]
     },
     "execution_count": 13,
     "metadata": {},
     "output_type": "execute_result"
    }
   ],
   "source": [
    "[*to_station_mask, *from_station_mask]"
   ]
  },
  {
   "cell_type": "code",
   "execution_count": 14,
   "id": "f2a58eaa",
   "metadata": {},
   "outputs": [],
   "source": [
    "union_stations = set([*from_station_mask, *to_station_mask])"
   ]
  },
  {
   "cell_type": "code",
   "execution_count": 15,
   "id": "f31e65d8",
   "metadata": {},
   "outputs": [
    {
     "data": {
      "text/plain": [
       "{'2nd Ave & Pine St',\n",
       " '3rd Ave & Broad St',\n",
       " 'Burke-Gilman Trail / NE Blakeley St & 24th Ave NE',\n",
       " 'E Pine St & 16th Ave',\n",
       " 'King Street Station Plaza / 2nd Ave Extension S & S Jackson St',\n",
       " 'Lake Union Park / Valley St & Boren Ave N',\n",
       " 'Pier 69 / Alaskan Way & Clay St',\n",
       " 'Pine St & 9th Ave',\n",
       " 'Seattle Aquarium / Alaskan Way S & Elliott Bay Trail'}"
      ]
     },
     "execution_count": 15,
     "metadata": {},
     "output_type": "execute_result"
    }
   ],
   "source": [
    "union_stations"
   ]
  },
  {
   "cell_type": "code",
   "execution_count": 16,
   "id": "b56a6852",
   "metadata": {},
   "outputs": [],
   "source": [
    "matrix_data = crosstab_df.loc[union_stations,union_stations]"
   ]
  },
  {
   "cell_type": "code",
   "execution_count": 17,
   "id": "114c284e",
   "metadata": {},
   "outputs": [],
   "source": [
    "matrix = matrix_data.copy()\n",
    "\n",
    "name_dict = {'Burke-Gilman Trail / NE Blakeley St & 24th Ave NE': 'Burke-Gilman Trail',\n",
    "                                 'King Street Station Plaza / 2nd Ave Extension S & S Jackson St': 'King Street Station Plaza',\n",
    "                                 'Lake Union Park / Valley St & Boren Ave N':'Lake Union Park',\n",
    "                                 'Pier 69 / Alaskan Way & Clay St':'Pier 69',\n",
    "                                 'Seattle Aquarium / Alaskan Way S & Elliott Bay Trail':'Seattle Aquarium'}\n",
    "\n",
    "matrix.rename(columns = name_dict, index = name_dict, inplace = True)"
   ]
  },
  {
   "cell_type": "code",
   "execution_count": 18,
   "id": "7cb36803",
   "metadata": {},
   "outputs": [],
   "source": [
    "#def get_spaced_colors(n, randomized=False):\n",
    "#    if n > 0:\n",
    "#        max_value = 255\n",
    "#        interval = max_value / n\n",
    "#        hues = np.arange(0, max_value, interval)\n",
    "#        return cl.to_rgb([\"hsl(%d,80%%,40%%)\" % i for i in hues])\n",
    "#    else:\n",
    "#        return None\n",
    "\n",
    "\n",
    "PI = np.pi\n",
    "\n",
    "\n",
    "def check_square(M):\n",
    "    d, n = M.shape\n",
    "    if d != n:\n",
    "        raise ValueError(\"Data array must be square.\")\n",
    "    return n\n",
    "\n",
    "\n",
    "def moduloAB(x, a, b):\n",
    "    if a >= b:\n",
    "        raise ValueError(\"Incorrect inverval ends\")\n",
    "    y = (x - a) % (b - a)\n",
    "    return y + b if y < 0 else y + a\n",
    "\n",
    "\n",
    "def test_2PI(x):\n",
    "    return 0 <= x < 2 * PI\n",
    "\n",
    "\n",
    "def get_ideogram_ends(ideaogram_len, gap):\n",
    "    ideo_ends = []\n",
    "    left = 0\n",
    "    for k in range(len(ideaogram_len)):\n",
    "        right = left + ideaogram_len[k]\n",
    "        ideo_ends.append([left, right])\n",
    "        left = right + gap\n",
    "    return ideo_ends\n",
    "\n",
    "\n",
    "def make_ideogram_arc(R, phi, a=50):\n",
    "    # R is the circle radius\n",
    "    # Phi is a list of the ends angle coordinates of an arc\n",
    "    # a is a parameter that controls the number of points to be evaluated\n",
    "    if not test_2PI(phi[0]) or not test_2PI(phi[1]):\n",
    "        phi = [moduloAB(t, 0, 2 * PI) for t in phi]\n",
    "    length = (phi[1] - phi[0]) % 2 * PI\n",
    "    nr = 5 if length <= PI / 4 else int(a * length / PI)\n",
    "    if phi[0] < phi[1]:\n",
    "        nr = 100\n",
    "\n",
    "        theta = np.linspace(phi[0], phi[1], nr)\n",
    "    else:\n",
    "        phi = [moduloAB(t, -PI, PI) for t in phi]\n",
    "        # nr = 100\n",
    "        theta = np.linspace(phi[0], phi[1], nr)\n",
    "    return R * np.exp(1j * theta)\n",
    "\n",
    "\n",
    "def map_data(data_matrix, row_value, ideogram_length):\n",
    "    n = data_matrix.shape[0]  # square, so same as 1\n",
    "    mapped = np.zeros([n, n])\n",
    "    for j in range(n):\n",
    "        mapped[:, j] = ideogram_length * data_matrix[:, j] / row_value\n",
    "    return mapped\n",
    "\n",
    "\n",
    "def make_ribbon_ends(mapped_data, ideo_ends, idx_sort):\n",
    "    n = mapped_data.shape[0]\n",
    "    ribbon_boundary = np.zeros((n, n + 1))\n",
    "    for k in range(n):\n",
    "        start = ideo_ends[k][0]\n",
    "        ribbon_boundary[k][0] = start\n",
    "        for j in range(1, n + 1):\n",
    "            J = idx_sort[k][j - 1]\n",
    "            ribbon_boundary[k][j] = start + mapped_data[k][J]\n",
    "            start = ribbon_boundary[k][j]\n",
    "    return [\n",
    "        [(ribbon_boundary[k][j], ribbon_boundary[k][j + 1]) for j in range(n)]\n",
    "        for k in range(n)\n",
    "    ]\n",
    "\n",
    "\n",
    "def control_pts(angle, radius):\n",
    "    if len(angle) != 3:\n",
    "        raise ValueError(\"Angle must have len = 3\")\n",
    "    b_cplx = np.array([np.exp(1j * angle[k]) for k in range(3)])\n",
    "    b_cplx[1] = radius * b_cplx[1]\n",
    "    return list(zip(b_cplx.real, b_cplx.imag))\n",
    "\n",
    "\n",
    "def ctrl_rib_chords(l, r, radius):\n",
    "    if len(l) != 2 or len(r) != 2:\n",
    "        raise ValueError(\"The arc ends must be elements in a list of len 2\")\n",
    "    return [control_pts([l[j], (l[j] + r[j]) / 2, r[j]], radius) for j in range(2)]\n",
    "\n",
    "\n",
    "def make_q_bezier(b):\n",
    "    if len(b) != 3:\n",
    "        raise ValueError(\"Contaol polygon must have 3 points\")\n",
    "    A, B, C = b\n",
    "    return (\n",
    "        \"M \"\n",
    "        + str(A[0])\n",
    "        + \",\"\n",
    "        + str(A[1])\n",
    "        + \" \"\n",
    "        + \"Q \"\n",
    "        + str(B[0])\n",
    "        + \", \"\n",
    "        + str(B[1])\n",
    "        + \" \"\n",
    "        + str(C[0])\n",
    "        + \", \"\n",
    "        + str(C[1])\n",
    "    )\n",
    "\n",
    "\n",
    "def make_ribbon_arc(theta0, theta1):\n",
    "    if test_2PI(theta0) and test_2PI(theta1):\n",
    "        if theta0 < theta1:\n",
    "            theta0 = moduloAB(theta0, -PI, PI)\n",
    "            theta1 = moduloAB(theta1, -PI, PI)\n",
    "            if theta0 * theta1 > 0:\n",
    "                raise ValueError(\"Incorrect angle coordinates for ribbon\")\n",
    "        nr = int(40 * (theta0 - theta1) / PI)\n",
    "        if nr <= 2:\n",
    "            nr = 3\n",
    "        theta = np.linspace(theta0, theta1, nr)\n",
    "        pts = np.exp(1j * theta)\n",
    "        string_arc = \"\"\n",
    "        for k in range(len(theta)):\n",
    "            string_arc += \"L \" + str(pts.real[k]) + \", \" + str(pts.imag[k]) + \" \"\n",
    "        return string_arc\n",
    "    else:\n",
    "        raise ValueError(\"The angle coords for arc ribbon must be [0, 2*PI]\")\n",
    "\n",
    "\n",
    "def make_layout(title):\n",
    "    xaxis = dict(\n",
    "        showline=False, zeroline=False, showgrid=False, showticklabels=False, title=\"Seatlle Bike Flow\"\n",
    "    )\n",
    "    yaxis = {**xaxis, \"scaleanchor\": \"x\"}\n",
    "    return dict(\n",
    "        title=title,\n",
    "        xaxis=xaxis,\n",
    "        yaxis=yaxis,\n",
    "        showlegend=False,\n",
    "        margin=dict(t=25, b=25, l=25, r=25),\n",
    "        hovermode=\"closest\",\n",
    "        shapes=[],\n",
    "    )\n",
    "\n",
    "\n",
    "def make_ideo_shape(path, line_color, fill_color):\n",
    "    return dict(\n",
    "        line=go.layout.shape.Line(color=line_color, width=0.45),\n",
    "        path=path,\n",
    "        type=\"path\",\n",
    "        fillcolor=fill_color,\n",
    "        layer=\"below\",\n",
    "    )\n",
    "\n",
    "\n",
    "def make_ribbon(l, r, line_color, fill_color, radius=0.2):\n",
    "    poligon = ctrl_rib_chords(l, r, radius)\n",
    "    b, c = poligon\n",
    "    return dict(\n",
    "        line=go.layout.shape.Line(color=line_color, width=0.5),\n",
    "        path=make_q_bezier(b)\n",
    "        + make_ribbon_arc(r[0], r[1])\n",
    "        + make_q_bezier(c[::-1])\n",
    "        + make_ribbon_arc(l[1], l[0]),\n",
    "        type=\"path\",\n",
    "        fillcolor=fill_color,\n",
    "        layer=\"below\",\n",
    "    )\n",
    "\n",
    "\n",
    "def make_self_rel(l, line_color, fill_color, radius):\n",
    "    b = control_pts([l[0], (l[0] + l[1]) / 2, l[1]], radius)\n",
    "    return dict(\n",
    "        line=dict(color=line_color, width=0.5),\n",
    "        path=make_q_bezier(b) + make_ribbon_arc(l[1], l[0]),\n",
    "        type=\"path\",\n",
    "        fillcolor=fill_color,\n",
    "        layer=\"below\",\n",
    "    )\n",
    "\n",
    "\n",
    "def invPerm(perm):\n",
    "    inv = [0] * len(perm)\n",
    "    for i, s in enumerate(perm):\n",
    "        inv[s] = i\n",
    "    return inv\n",
    "\n",
    "\n",
    "def make_filled_chord(M):  # ,labels):\n",
    "\n",
    "    n = M.shape[0]\n",
    "    labels = list(M.columns)\n",
    "    M = M.T\n",
    "    matrix = M.to_numpy()\n",
    "    n = M.shape[0]\n",
    "    row_sum = [np.sum(matrix[k, :]) for k in range(n)]\n",
    "    gap = 2 * PI * 10e-8\n",
    "\n",
    "    ideogram_length = 2 * PI * np.asarray(row_sum) / sum(row_sum) - gap * np.ones(n)\n",
    "    ideo_colors=['rgba(213,62,79,0.75)',\n",
    "             'rgba(244,109,67,0.75)',\n",
    "             'rgba(253,174,97,0.75)',\n",
    "             'rgba(254,224,139,0.75)',\n",
    "             'rgba(255,255,191,0.75)',\n",
    "             'rgba(230,245,152,0.75)',\n",
    "             'rgba(171,221,164,0.75)',\n",
    "             'rgba(102,194,165,0.75)',\n",
    "             'rgba(50,136,189,0.75)']\n",
    "    #ideo_colors = [\n",
    "    #    x[:3] + \"a\" + x[3:-1] + \",.75\" + x[-1] for x in get_spaced_colors(len(labels))\n",
    "    #]\n",
    "    mapped_data = map_data(matrix, row_sum, ideogram_length)\n",
    "    idx_sort = np.argsort(mapped_data, axis=1)\n",
    "    ideo_ends = get_ideogram_ends(ideogram_length, gap)\n",
    "    ribbon_ends = make_ribbon_ends(mapped_data, ideo_ends, idx_sort)\n",
    "    ribbon_color = [n * [ideo_colors[k]] for k in range(n)]\n",
    "    layout = make_layout(\" \")\n",
    "    ribbon_info = []\n",
    "    radii_sribb = [0.2] * n\n",
    "    for k in range(n):\n",
    "        sigma = idx_sort[k]\n",
    "        sigma_inv = invPerm(sigma)\n",
    "        for j in range(k, n):\n",
    "            if M.iloc[k, j] == 0 and M.iloc[j, k] == 0:\n",
    "                continue\n",
    "            eta = idx_sort[j]\n",
    "            eta_inv = invPerm(eta)\n",
    "            l = ribbon_ends[k][sigma_inv[j]]\n",
    "            if j == k:\n",
    "                layout[\"shapes\"].append(\n",
    "                    make_self_rel(\n",
    "                        l, \"rgb(175,175,175)\", ideo_colors[k], radius=radii_sribb[k]\n",
    "                    )\n",
    "                )\n",
    "                z = 0.9 * np.exp(1j * (l[0] + l[1]) / 2)\n",
    "                text = (\n",
    "                    labels[k]\n",
    "                    + \" \\u2b8c \"\n",
    "                    #+ labels[k]\n",
    "                    + \": {0} viagens \".format(M.iloc[k, k])\n",
    "                )\n",
    "                ribbon_info.append(\n",
    "                    go.Scatter(\n",
    "                        x=[z.real],\n",
    "                        y=[z.imag],\n",
    "                        mode=\"markers\",\n",
    "                        text=text,\n",
    "                        hoverinfo=\"text\",\n",
    "                        marker=dict(size=0.5, color=ideo_colors[k]),\n",
    "                    )\n",
    "                )\n",
    "            else:\n",
    "                r = ribbon_ends[j][eta_inv[k]]\n",
    "                zi = 0.9 * np.exp(1j * (l[0] + l[1]) / 2)\n",
    "                zf = 0.9 * np.exp(1j * (r[0] + r[1]) / 2)\n",
    "\n",
    "                texti = (\n",
    "                    labels[k]\n",
    "                    + \" \\u2794 \"\n",
    "                    + labels[j]\n",
    "                    + \": {0} viagens \".format(matrix[k][j])\n",
    "                )\n",
    "                textf = (\n",
    "                    labels[j]\n",
    "                    + \" \\u2794 \"\n",
    "                    + labels[k]\n",
    "                    +\": {0} viagens \".format(matrix[j][k])\n",
    "                )\n",
    "\n",
    "                ribbon_info.append(\n",
    "                    go.Scatter(\n",
    "                        x=[zi.real],\n",
    "                        y=[zi.imag],\n",
    "                        mode=\"markers\",\n",
    "                        text=texti,\n",
    "                        hoverinfo=\"text\",\n",
    "                        marker=dict(size=0.5, color=ribbon_color[k][j]),\n",
    "                    )\n",
    "                )\n",
    "                ribbon_info.append(\n",
    "                    go.Scatter(\n",
    "                        x=[zf.real],\n",
    "                        y=[zf.imag],\n",
    "                        mode=\"markers\",\n",
    "                        text=textf,\n",
    "                        hoverinfo=\"text\",\n",
    "                        marker=dict(size=0.5, color=ribbon_color[j][k]),\n",
    "                    )\n",
    "                )\n",
    "                r = (r[1], r[0])\n",
    "                if matrix[k][j] > matrix[j][k]:\n",
    "                    color_of_highest = ribbon_color[k][j]\n",
    "                else:\n",
    "                    color_of_highest = ribbon_color[j][k]\n",
    "                layout[\"shapes\"].append(\n",
    "                    make_ribbon(l, r, \"rgb(175, 175, 175)\", color_of_highest)\n",
    "                )\n",
    "    ideograms = []\n",
    "    for k in range(len(ideo_ends)):\n",
    "        z = make_ideogram_arc(1.1, ideo_ends[k])\n",
    "        zi = make_ideogram_arc(1.0, ideo_ends[k])\n",
    "        m = len(z)\n",
    "        n = len(zi)\n",
    "        ideograms.append(\n",
    "            go.Scatter(\n",
    "                x=z.real,\n",
    "                y=z.imag,\n",
    "                mode=\"lines\",\n",
    "                line=dict(color=ideo_colors[k], shape=\"spline\", width=0.25),\n",
    "                text=labels[k] + \"<br>\" + \"{0} partidas\".format(row_sum[k]),\n",
    "                hoverinfo=\"text\",\n",
    "            )\n",
    "        )\n",
    "        path = \"M \"\n",
    "        for s in range(m):\n",
    "            path += str(z.real[s]) + \", \" + str(z.imag[s]) + \" L \"\n",
    "        Zi = np.array(zi.tolist()[::-1])\n",
    "        for s in range(m):\n",
    "            path += str(Zi.real[s]) + \", \" + str(Zi.imag[s]) + \" L \"\n",
    "        path += str(z.real[0]) + \" ,\" + str(z.imag[0])\n",
    "        layout[\"shapes\"].append(\n",
    "            make_ideo_shape(path, \"rgb(150,150,150)\", ideo_colors[k])\n",
    "        )\n",
    "\n",
    "    layout[\"paper_bgcolor\"] = \"rgba(0,0,0,0)\"\n",
    "    layout[\"plot_bgcolor\"] = \"rgba(0,0,0,0)\"\n",
    "    layout[\"width\"] = 625\n",
    "    layout[\"height\"] = 625\n",
    "    data = ideograms + ribbon_info\n",
    "    fig = {\"data\": data, \"layout\": layout}\n",
    "    return fig"
   ]
  },
  {
   "cell_type": "code",
   "execution_count": 19,
   "id": "daf5c106",
   "metadata": {},
   "outputs": [],
   "source": [
    "chord = make_filled_chord(matrix)"
   ]
  },
  {
   "cell_type": "code",
   "execution_count": 20,
   "id": "12a25331",
   "metadata": {
    "scrolled": true
   },
   "outputs": [
    {
     "data": {
      "text/html": [
       "        <script type=\"text/javascript\">\n",
       "        window.PlotlyConfig = {MathJaxConfig: 'local'};\n",
       "        if (window.MathJax) {MathJax.Hub.Config({SVG: {font: \"STIX-Web\"}});}\n",
       "        if (typeof require !== 'undefined') {\n",
       "        require.undef(\"plotly\");\n",
       "        requirejs.config({\n",
       "            paths: {\n",
       "                'plotly': ['https://cdn.plot.ly/plotly-2.6.3.min']\n",
       "            }\n",
       "        });\n",
       "        require(['plotly'], function(Plotly) {\n",
       "            window._Plotly = Plotly;\n",
       "        });\n",
       "        }\n",
       "        </script>\n",
       "        "
      ]
     },
     "metadata": {},
     "output_type": "display_data"
    },
    {
     "data": {
      "application/vnd.plotly.v1+json": {
       "config": {
        "linkText": "Export to plot.ly",
        "plotlyServerURL": "https://plot.ly",
        "showLink": false
       },
       "data": [
        {
         "hoverinfo": "text",
         "line": {
          "color": "rgba(213,62,79,0.75)",
          "shape": "spline",
          "width": 0.25
         },
         "mode": "lines",
         "text": "Pier 69<br>7898 partidas",
         "type": "scatter",
         "x": [
          1.1,
          1.0997924295096861,
          1.0991697963760323,
          1.0981323355813382,
          1.0966804386642328,
          1.0948146535719068,
          1.0925356844533176,
          1.089844391393442,
          1.08674179008868,
          1.0832290514635299,
          1.0793075012286806,
          1.0749786193806865,
          1.0702440396434163,
          1.0651055488514836,
          1.059565086275894,
          1.0536247428921628,
          1.0472867605911789,
          1.0405535313331127,
          1.0334275962446886,
          1.0259116446601617,
          1.0180085131063608,
          1.009721184232179,
          1.0010527856829217,
          0.9920065889199293,
          0.9825860079859244,
          0.97279459821655,
          0.9626360548985818,
          0.9521142118753242,
          0.941233040099714,
          0.9299966461356797,
          0.9184092706083204,
          0.9064752866034901,
          0.8941991980173911,
          0.8815856378567997,
          0.8686393664905652,
          0.8553652698530424,
          0.8417683576001364,
          0.8278537612186522,
          0.8136267320896691,
          0.7990926395066633,
          0.7842569686491329,
          0.7691253185124847,
          0.7537033997949703,
          0.7379970327424615,
          0.7220121449518863,
          0.7057547691341468,
          0.68923104083737,
          0.6724471961313454,
          0.6554095692540276,
          0.6381245902209889,
          0.6205987823987253,
          0.6028387600427334,
          0.5848512258012825,
          0.566642968185831,
          0.5482208590090354,
          0.5295918507913218,
          0.510762974136999,
          0.4917413350809021,
          0.4725341124065681,
          0.45314855493695694,
          0.4335919787987399,
          0.4138717646611857,
          0.39399535495068994,
          0.3739702510419966,
          0.3538040104271733,
          0.33350424386340555,
          0.3130786125006912,
          0.292534824990516,
          0.27188063457660044,
          0.2511238361688195,
          0.23027226340139637,
          0.20933378567648267,
          0.18831630519423778,
          0.16722775397053238,
          0.1460760908433981,
          0.12486929846935582,
          0.10361538031075274,
          0.08232235761524934,
          0.06099826638859297,
          0.03965115436182306,
          0.01828907795404878,
          -0.0030799007680499453,
          -0.024447717132852893,
          -0.04580630690741525,
          -0.06714760934091535,
          -0.08846357020678967,
          -0.10974614484240423,
          -0.13098730118511875,
          -0.15217902280359347,
          -0.1733133119231978,
          -0.1943821924443767,
          -0.2153777129528393,
          -0.23629194972042858,
          -0.257117009695544,
          -0.2778450334819855,
          -0.29846819830509763,
          -0.3189787209640912,
          -0.3393688607694295,
          -0.35963092246417294,
          -0.3797572591281749
         ],
         "y": [
          0,
          0.021368481302664256,
          0.042728898121435314,
          0.0640731890159634,
          0.08539329863183687,
          0.10668118074068028,
          0.12792880127680803,
          0.14912814136928795,
          0.17027120036827034,
          0.19134999886444037,
          0.2123565817004543,
          0.2332830209732228,
          0.2541214190259089,
          0.27486391142851047,
          0.29550266994590324,
          0.3160299054922237,
          0.33643787107047707,
          0.35671886469626085,
          0.37686523230450053,
          0.3968693706381006,
          0.4167237301174208,
          0.43642081768949387,
          0.4559531996559105,
          0.47531350447830384,
          0.4944944255603747,
          0.513488724005407,
          0.5322892313482349,
          0.5508888522606267,
          0.5692805672290691,
          0.5874574352039368,
          0.6054125962190522,
          0.6231392739806412,
          0.6406307784247138,
          0.6578805082418995,
          0.6748819533687872,
          0.6916286974448299,
          0.7081144202338837,
          0.7243329000094716,
          0.7402780159028675,
          0.7559437502131187,
          0.7713241906781307,
          0.7864135327059607,
          0.8012060815654756,
          0.8156962545355486,
          0.8298785830119828,
          0.8437477145713684,
          0.8572984149910905,
          0.8705255702247305,
          0.8834241883321117,
          0.8959894013632612,
          0.9082164671955799,
          0.920100771323522,
          0.9316378286001152,
          0.9428232849296582,
          0.9536529189109607,
          0.9641226434305039,
          0.9742285072049203,
          0.9839666962722123,
          0.9933335354311447,
          1.0023254896282683,
          1.0109391652920532,
          1.0191713116136247,
          1.0270188217736227,
          1.0344787341147164,
          1.0415482332593382,
          1.0482246511722086,
          1.0545054681672552,
          1.060388313858545,
          1.06587096805487,
          1.070951361597648,
          1.0756275771418276,
          1.0798978498794933,
          1.0837605682059073,
          1.0872142743277295,
          1.0902576648131905,
          1.0928895910840084,
          1.095109059848862,
          1.0969152334782608,
          1.0983074303206668,
          1.0992851249597508,
          1.0998479484126844,
          1.0999956882693946,
          1.0997282887727278,
          1.0990458508394925,
          1.0979486320223728,
          1.0964370464127289,
          1.094511664484317,
          1.0921732128779935,
          1.0894225741274794,
          1.0862607863262912,
          1.0826890427359637,
          1.078708691335712,
          1.0743212343137032,
          1.0695283275001284,
          1.064331779742292,
          1.0587335522219503,
          1.0527357577151601,
          1.0463406597949159,
          1.039550671976873,
          1.0323683568084874
         ]
        },
        {
         "hoverinfo": "text",
         "line": {
          "color": "rgba(244,109,67,0.75)",
          "shape": "spline",
          "width": 0.25
         },
         "mode": "lines",
         "text": "2nd Ave & Pine St<br>3239 partidas",
         "type": "scatter",
         "x": [
          -0.37975790778426904,
          -0.38797077926712153,
          -0.39615902437263334,
          -0.4043221233533786,
          -0.4124595580580777,
          -0.4205708119644863,
          -0.42865537021218214,
          -0.43671271963524416,
          -0.44474234879482766,
          -0.45274374801162637,
          -0.460716409398225,
          -0.4686598268913365,
          -0.4765734962839253,
          -0.48445691525721113,
          -0.4923095834125538,
          -0.5001310023032165,
          -0.5079206754660024,
          -0.5156781084527707,
          -0.5234028088618199,
          -0.5310942863691427,
          -0.53875205275955,
          -0.5463756219576598,
          -0.5539645100587514,
          -0.5615182353594793,
          -0.5690363183884521,
          -0.5765182819366647,
          -0.5839636510877897,
          -0.5913719532483229,
          -0.5987427181775805,
          -0.6060754780175484,
          -0.6133697673225786,
          -0.6206251230889331,
          -0.6278410847841742,
          -0.6350171943763956,
          -0.6421529963632964,
          -0.6492480378010937,
          -0.6563018683332739,
          -0.663314040219178,
          -0.6702841083624216,
          -0.677211630339149,
          -0.6840961664261147,
          -0.6909372796285951,
          -0.6977345357081265,
          -0.7044875032100683,
          -0.7111957534909894,
          -0.7178588607458777,
          -0.7244764020351648,
          -0.7310479573115756,
          -0.7375731094467883,
          -0.7440514442579131,
          -0.7504825505337809,
          -0.7568660200610463,
          -0.763201447650097,
          -0.7694884311607758,
          -0.7757265715279041,
          -0.7819154727866132,
          -0.7880547420974787,
          -0.794143989771455,
          -0.8001828292946112,
          -0.8061708773526655,
          -0.8121077538553142,
          -0.8179930819603604,
          -0.823826488097632,
          -0.8296076019926952,
          -0.8353360566903568,
          -0.8410114885779573,
          -0.8466335374084498,
          -0.8522018463232689,
          -0.8577160618749803,
          -0.8631758340497163,
          -0.8685808162893934,
          -0.8739306655137097,
          -0.8792250421419212,
          -0.8844636101143981,
          -0.8896460369139545,
          -0.8947719935869562,
          -0.8998411547641998,
          -0.9048531986815666,
          -0.9098078072004456,
          -0.914704665827928,
          -0.9195434637367694,
          -0.9243238937851184,
          -0.9290456525360141,
          -0.9337084402766463,
          -0.9383119610373786,
          -0.9428559226105361,
          -0.9473400365689526,
          -0.9517640182842797,
          -0.9561275869450514,
          -0.9604304655745108,
          -0.9646723810481893,
          -0.9688530641112443,
          -0.9729722493955498,
          -0.9770296754365407,
          -0.9810250846898085,
          -0.9849582235474506,
          -0.9888288423541652,
          -0.992636695423101,
          -0.9963815410514506,
          -1.000063141535793
         ],
         "y": [
          1.0323681181997606,
          1.0293098048861977,
          1.0261861563128414,
          1.0229973707527382,
          1.0197436506134938,
          1.0164252024244247,
          1.013042236823449,
          1.0095949685437169,
          1.006083616399979,
          1.0025084032746983,
          0.9988695561039026,
          0.9951673058627794,
          0.9914018875510151,
          0.9875735401778784,
          0.9836825067470489,
          0.9797290342411927,
          0.9757133736062862,
          0.971635779735685,
          0.967496511453947,
          0.9632958315004022,
          0.9590340065124757,
          0.954711307008763,
          0.9503280073718589,
          0.945884385830941,
          0.9413807244441095,
          0.9368173090804828,
          0.9321944294020525,
          0.9275123788452981,
          0.9227714546025589,
          0.9179719576031724,
          0.9131141924943703,
          0.9081984676219438,
          0.9032250950106687,
          0.8981943903445019,
          0.8931066729465413,
          0.8879622657587595,
          0.882761495321502,
          0.8775046917527626,
          0.8721921887272288,
          0.8668243234551001,
          0.8614014366606859,
          0.8559238725607767,
          0.8503919788427955,
          0.8448061066427281,
          0.8391666105228354,
          0.8334738484491465,
          0.8277281817687389,
          0.8219299751867996,
          0.816079596743477,
          0.8101774177905194,
          0.8042238129677032,
          0.7982191601790526,
          0.7921638405688537,
          0.786058238497459,
          0.7799027415168919,
          0.7736977403462462,
          0.7674436288468858,
          0.761140803997444,
          0.7547896658686255,
          0.7483906175978116,
          0.7419440653634725,
          0.735450418359383,
          0.7289100887686507,
          0.7223234917375524,
          0.7156910453491822,
          0.7090131705969139,
          0.70229029135768,
          0.6955228343650636,
          0.6887112291822135,
          0.6818559081745768,
          0.6749573064824554,
          0.6680158619933847,
          0.6610320153143394,
          0.6540062097437656,
          0.6469388912434426,
          0.6398305084101759,
          0.6326815124473225,
          0.6254923571361505,
          0.6182634988070353,
          0.6109953963104948,
          0.6036885109880632,
          0.5963433066430087,
          0.5889602495108917,
          0.581539808229972,
          0.5740824538114618,
          0.5665886596096282,
          0.5590589012917472,
          0.5514936568079107,
          0.5438934063606888,
          0.5362586323746487,
          0.5285898194657341,
          0.5208874544105027,
          0.5131520261152286,
          0.5053840255848697,
          0.49758394589190075,
          0.4897522821450152,
          0.48188953145770014,
          0.4739961929166795,
          0.4660727675502362,
          0.45811975829640933
         ]
        },
        {
         "hoverinfo": "text",
         "line": {
          "color": "rgba(253,174,97,0.75)",
          "shape": "spline",
          "width": 0.25
         },
         "mode": "lines",
         "text": "3rd Ave & Broad St<br>3227 partidas",
         "type": "scatter",
         "x": [
          -1.000063429380729,
          -1.0036682588743968,
          -1.0072098518787154,
          -1.0106879852543103,
          -1.0141024398601026,
          -1.0174530005671194,
          -1.0207394562720458,
          -1.0239615999105258,
          -1.0271192284702102,
          -1.0302121430035447,
          -1.0332401486403067,
          -1.036203054599883,
          -1.0391006742032896,
          -1.0419328248849324,
          -1.0446993282041122,
          -1.0474000098562655,
          -1.0500346996839471,
          -1.0526032316875515,
          -1.0551054440357712,
          -1.057541179075793,
          -1.0599102833432308,
          -1.0622126075717955,
          -1.0644480067026987,
          -1.0666163398937925,
          -1.0687174705284432,
          -1.0707512662241394,
          -1.072717598840832,
          -1.074616344489008,
          -1.0764473835374968,
          -1.078210600621007,
          -1.0799058846473946,
          -1.081533128804664,
          -1.083092230567695,
          -1.0845830917047066,
          -1.086005618283441,
          -1.0873597206770862,
          -1.088645313569921,
          -1.0898623159626897,
          -1.0910106511777076,
          -1.0920902468636904,
          -1.093101035000313,
          -1.094042951902495,
          -1.094915938224415,
          -1.0957199389632468,
          -1.096454903462627,
          -1.0971207854158458,
          -1.0977175428687649,
          -1.0982451382224607,
          -1.098703538235593,
          -1.0990927140264992,
          -1.0994126410750156,
          -1.0996632992240198,
          -1.099844672680703,
          -1.099956750017563,
          -1.0999995241731264,
          -1.099972992452391,
          -1.0998771565269985,
          -1.0997120224351262,
          -1.0994776005811089,
          -1.0991739057347818,
          -1.098800957030551,
          -1.0983587779661872,
          -1.097847396401346,
          -1.0972668445558114,
          -1.0966171590074671,
          -1.095898380689991,
          -1.0951105548902764,
          -1.0942537312455787,
          -1.0933279637403883,
          -1.0923333107030286,
          -1.0912698348019818,
          -1.0901376030419396,
          -1.0889366867595824,
          -1.0876671616190843,
          -1.0863291076073454,
          -1.0849226090289525,
          -1.083447754500869,
          -1.0819046369468481,
          -1.0802933535915822,
          -1.0786140059545735,
          -1.0768666998437404,
          -1.07505154534875,
          -1.0731686568340812,
          -1.0712181529318208,
          -1.069200156534187,
          -1.0671147947857886,
          -1.0649621990756128,
          -1.0627425050287471,
          -1.060455852497835,
          -1.0581023855542635,
          -1.0556822524790868,
          -1.0531956057536829,
          -1.0506426020501476,
          -1.0480234022214219,
          -1.0453381712911587,
          -1.0425870784433238,
          -1.039770297011539,
          -1.0368880044681585,
          -1.0339403824130884,
          -1.0309276165623449
         ],
         "y": [
          0.45811912993811543,
          0.4501666648343001,
          0.4421858368135012,
          0.43417714871073493,
          0.42614110511635356,
          0.41807821234425174,
          0.4099889783999671,
          0.40187391294867114,
          0.39373352728306027,
          0.3855683342911399,
          0.3773788484239109,
          0.3691655856629539,
          0.36092906348792325,
          0.3526698008439407,
          0.3443883181089,
          0.3360851370606789,
          0.3277607808442663,
          0.3194157739388003,
          0.31105064212452344,
          0.3026659124496546,
          0.2942621131971841,
          0.2858397738515877,
          0.2773994250654672,
          0.26894159862611433,
          0.2604668274220081,
          0.2519756454092384,
          0.2434685875778645,
          0.23494618991820623,
          0.2264089893870763,
          0.2178575238739473,
          0.20929233216706283,
          0.20071395391948885,
          0.1921229296151158,
          0.18351980053460296,
          0.17490510872127601,
          0.16627939694697352,
          0.15764320867785217,
          0.14899708804014355,
          0.1403415797858723,
          0.1316772292585319,
          0.12300458235872788,
          0.11432418550978142,
          0.10563658562330248,
          0.09694233006472966,
          0.08824196661884609,
          0.07953604345526408,
          0.07082510909388852,
          0.06210971237035521,
          0.053390402401454186,
          0.04466772855053093,
          0.035942240392872124,
          0.027214487681082325,
          0.01848502031044468,
          0.009754388284275052,
          0.0010231416792693421,
          -0.0077081693891562515,
          -0.016438994801522517,
          -0.025168784468949188,
          -0.03389698836781495,
          -0.04262305657440896,
          -0.051346439299580944,
          -0.06006658692338037,
          -0.068782950029685,
          -0.07749497944081894,
          -0.08620212625215094,
          -0.09490384186667973,
          -0.10359957802960006,
          -0.11228878686284278,
          -0.12097092089959609,
          -0.12964543311879825,
          -0.13831177697960256,
          -0.1469694064558142,
          -0.15561777607028984,
          -0.16425634092930727,
          -0.17288455675689787,
          -0.18150187992913625,
          -0.1901077675083931,
          -0.19870167727754295,
          -0.20728306777412628,
          -0.21585139832446631,
          -0.22440612907773153,
          -0.23294672103995076,
          -0.24147263610797395,
          -0.2499833371033728,
          -0.2584782878062877,
          -0.266956952989212,
          -0.2754187984507139,
          -0.28386329104909575,
          -0.2922898987359819,
          -0.3006980905898423,
          -0.30908733684944467,
          -0.3174571089472294,
          -0.32580687954261406,
          -0.33413612255521846,
          -0.34244431319800983,
          -0.3507309280103689,
          -0.3589954448910685,
          -0.36723734313116957,
          -0.3754561034468303,
          -0.38365120801202107
         ]
        },
        {
         "hoverinfo": "text",
         "line": {
          "color": "rgba(254,224,139,0.75)",
          "shape": "spline",
          "width": 0.25
         },
         "mode": "lines",
         "text": "Pine St & 9th Ave<br>1614 partidas",
         "type": "scatter",
         "x": [
          -1.030927375506978,
          -1.0293961446053084,
          -1.0278486892438692,
          -1.0262850338123262,
          -1.0247052029556756,
          -1.0231092215738578,
          -1.021497114821363,
          -1.0198689081068364,
          -1.018224627092677,
          -1.0165642976946323,
          -1.0148879460813915,
          -1.0131955986741723,
          -1.011487282146304,
          -1.009763023422807,
          -1.0080228496799701,
          -1.0062667883449203,
          -1.0044948670951912,
          -1.0027071138582866,
          -1.0009035568112412,
          -0.9990842243801754,
          -0.9972491452398474,
          -0.9953983483132021,
          -0.9935318627709142,
          -0.9916497180309293,
          -0.9897519437579995,
          -0.9878385698632164,
          -0.9859096265035395,
          -0.983965144081321,
          -0.9820051532438258,
          -0.9800296848827499,
          -0.9780387701337325,
          -0.9760324403758655,
          -0.974010727231199,
          -0.9719736625642429,
          -0.9699212784814645,
          -0.9678536073307826,
          -0.965770681701058,
          -0.9636725344215791,
          -0.961559198561545,
          -0.9594307074295443,
          -0.9572870945730302,
          -0.9551283937777909,
          -0.9529546390674185,
          -0.9507658647027715,
          -0.9485621051814357,
          -0.9463433952371797,
          -0.9441097698394083,
          -0.9418612641926104,
          -0.939597913735805,
          -0.9373197541419822,
          -0.9350268213175409,
          -0.9327191514017231,
          -0.9303967807660444,
          -0.9280597460137198,
          -0.9257080839790885,
          -0.923341831727032,
          -0.92096102655239,
          -0.9185657059793733,
          -0.9161559077609719,
          -0.9137316698783596,
          -0.9112930305402965,
          -0.9088400281825257,
          -0.9063727014671681,
          -0.9038910892821125,
          -0.9013952307404032,
          -0.8988851651796237,
          -0.8963609321612758,
          -0.8938225714701571,
          -0.8912701231137331,
          -0.8887036273215073,
          -0.8861231245443867,
          -0.8835286554540444,
          -0.8809202609422785,
          -0.8782979821203678,
          -0.8756618603184239,
          -0.8730119370847387,
          -0.8703482541851313,
          -0.8676708536022887,
          -0.8649797775351041,
          -0.8622750683980122,
          -0.85955676882032,
          -0.8568249216455358,
          -0.8540795699306936,
          -0.8513207569456739,
          -0.8485485261725226,
          -0.8457629213047653,
          -0.8429639862467182,
          -0.8401517651127969,
          -0.8373263022268208,
          -0.834487642121314,
          -0.8316358295368046,
          -0.8287709094211179,
          -0.8258929269286696,
          -0.823001927419753,
          -0.8200979564598246,
          -0.817181059818786,
          -0.8142512834702617,
          -0.8113086735908758,
          -0.8083532765595229,
          -0.8053851389566384
         ],
         "y": [
          -0.3836518557628705,
          -0.3877416375264943,
          -0.39182530803874827,
          -0.3959028029363176,
          -0.39997405795322244,
          -0.4040390089218307,
          -0.408097591773869,
          -0.41214974254143294,
          -0.41619539735799516,
          -0.42023449245941175,
          -0.4242669641849275,
          -0.4282927489781792,
          -0.43231178338819726,
          -0.43632400407040606,
          -0.44032934778762184,
          -0.4443277514110497,
          -0.4483191519212787,
          -0.4523034864092749,
          -0.456280692077373,
          -0.4602507062402659,
          -0.46421346632599303,
          -0.46816890987692616,
          -0.4721169745507542,
          -0.4760575981214655,
          -0.47999071848032865,
          -0.4839162736368716,
          -0.4878342017198585,
          -0.49174444097826414,
          -0.49564692978224983,
          -0.49954160662413116,
          -0.5034284101193498,
          -0.5073072790074402,
          -0.5111781521529954,
          -0.5150409685466307,
          -0.5188956673059447,
          -0.5227421876764792,
          -0.5265804690326767,
          -0.5304104508788366,
          -0.5342320728500671,
          -0.5380452747132385,
          -0.5418499963679309,
          -0.5456461778473826,
          -0.5494337593194346,
          -0.5532126810874741,
          -0.5569828835913749,
          -0.5607443074084366,
          -0.5644968932543205,
          -0.568240581983985,
          -0.5719753145926167,
          -0.5757010322165613,
          -0.5794176761342509,
          -0.5831251877671292,
          -0.5868235086805755,
          -0.5905125805848255,
          -0.5941923453358895,
          -0.5978627449364691,
          -0.6015237215368718,
          -0.6051752174359222,
          -0.6088171750818713,
          -0.6124495370733042,
          -0.6160722461600444,
          -0.6196852452440561,
          -0.6232884773803444,
          -0.6268818857778524,
          -0.630465413800357,
          -0.6340390049673608,
          -0.6376026029549824,
          -0.6411561515968448,
          -0.6446995948849598,
          -0.6482328769706113,
          -0.6517559421652352,
          -0.6552687349412977,
          -0.6587711999331697,
          -0.6622632819379995,
          -0.6657449259165835,
          -0.6692160769942339,
          -0.6726766804616422,
          -0.6761266817757423,
          -0.6795660265605705,
          -0.682994660608122,
          -0.6864125298792055,
          -0.689819580504295,
          -0.6932157587843785,
          -0.6966010111918048,
          -0.6999752843711268,
          -0.7033385251399425,
          -0.7066906804897337,
          -0.7100316975867007,
          -0.7133615237725952,
          -0.7166801065655513,
          -0.7199873936609107,
          -0.7232833329320492,
          -0.7265678724311965,
          -0.7298409603902565,
          -0.7331025452216215,
          -0.7363525755189874,
          -0.7395910000581616,
          -0.7428177677978725,
          -0.7460328278805722,
          -0.7492361296332395
         ]
        },
        {
         "hoverinfo": "text",
         "line": {
          "color": "rgba(255,255,191,0.75)",
          "shape": "spline",
          "width": 0.25
         },
         "mode": "lines",
         "text": "Burke-Gilman Trail<br>941 partidas",
         "type": "scatter",
         "x": [
          -0.8053846681975354,
          -0.8036483140986742,
          -0.8019076544827468,
          -0.8001626986752752,
          -0.7984134560247973,
          -0.7966599359028178,
          -0.7949021477037583,
          -0.7931401008449065,
          -0.7913738047663644,
          -0.7896032689310006,
          -0.7878285028243971,
          -0.7860495159548005,
          -0.7842663178530683,
          -0.782478918072621,
          -0.780687326189389,
          -0.7788915518017616,
          -0.7770916045305355,
          -0.7752874940188638,
          -0.7734792299322041,
          -0.771666821958267,
          -0.7698502798069623,
          -0.7680296132103501,
          -0.7662048319225865,
          -0.7643759457198721,
          -0.7625429644003987,
          -0.7607058977842984,
          -0.7588647557135898,
          -0.7570195480521259,
          -0.7551702846855403,
          -0.7533169755211949,
          -0.7514596304881279,
          -0.749598259536999,
          -0.7477328726400355,
          -0.7458634797909812,
          -0.7439900910050418,
          -0.7421127163188304,
          -0.7402313657903148,
          -0.7383460494987624,
          -0.7364567775446885,
          -0.7345635600497995,
          -0.732666407156941,
          -0.7307653290300408,
          -0.7288603358540573,
          -0.7269514378349232,
          -0.7250386451994917,
          -0.72312196819548,
          -0.7212014170914172,
          -0.7192770021765867,
          -0.717348733760973,
          -0.7154166221752043,
          -0.7134806777704997,
          -0.7115409109186122,
          -0.7095973320117729,
          -0.7076499514626363,
          -0.7056987797042248,
          -0.7037438271898696,
          -0.7017851043931598,
          -0.6998226218078822,
          -0.6978563899479676,
          -0.6958864193474322,
          -0.6939127205603233,
          -0.6919353041606613,
          -0.6899541807423839,
          -0.6879693609192895,
          -0.6859808553249777,
          -0.6839886746127969,
          -0.681992829455784,
          -0.6799933305466076,
          -0.6779901885975119,
          -0.675983414340258,
          -0.6739730185260672,
          -0.6719590119255635,
          -0.6699414053287142,
          -0.6679202095447748,
          -0.6658954354022294,
          -0.663867093748733,
          -0.6618351954510532,
          -0.6597997513950126,
          -0.6577607724854297,
          -0.6557182696460621,
          -0.6536722538195435,
          -0.6516227359673317,
          -0.649569727069645,
          -0.647513238125405,
          -0.6454532801521776,
          -0.6433898641861141,
          -0.6413230012818915,
          -0.6392527025126543,
          -0.637178978969953,
          -0.6351018417636877,
          -0.6330213020220467,
          -0.6309373708914469,
          -0.628850059536475,
          -0.6267593791398268,
          -0.6246653409022476,
          -0.6225679560424723,
          -0.6204672357971661,
          -0.6183631914208606,
          -0.6162558341858994,
          -0.614145175382373
         ],
         "y": [
          -0.7492366356714987,
          -0.7510987866095638,
          -0.7529569135627747,
          -0.7548110065762824,
          -0.7566610557168508,
          -0.7585070510729075,
          -0.7603489827545984,
          -0.7621868408938399,
          -0.7640206156443741,
          -0.7658502971818176,
          -0.7676758757037172,
          -0.769497341429601,
          -0.7713146846010324,
          -0.77312789548166,
          -0.7749369643572713,
          -0.7767418815358444,
          -0.778542637347601,
          -0.7803392221450556,
          -0.7821316263030696,
          -0.7839198402189018,
          -0.7857038543122606,
          -0.7874836590253541,
          -0.7892592448229423,
          -0.7910306021923875,
          -0.7927977216437069,
          -0.7945605937096205,
          -0.7963192089456048,
          -0.7980735579299412,
          -0.7998236312637683,
          -0.8015694195711307,
          -0.8033109134990302,
          -0.8050481037174748,
          -0.8067809809195311,
          -0.8085095358213709,
          -0.8102337591623233,
          -0.8119536417049237,
          -0.8136691742349623,
          -0.815380347561536,
          -0.8170871525170944,
          -0.8187895799574911,
          -0.8204876207620317,
          -0.8221812658335244,
          -0.8238705060983255,
          -0.8255553325063911,
          -0.8272357360313237,
          -0.828911707670422,
          -0.830583238444728,
          -0.8322503193990752,
          -0.8339129416021369,
          -0.8355710961464746,
          -0.8372247741485845,
          -0.8388739667489461,
          -0.8405186651120689,
          -0.8421588604265402,
          -0.8437945439050718,
          -0.8454257067845495,
          -0.8470523403260758,
          -0.8486744358150197,
          -0.8502919845610627,
          -0.8519049778982454,
          -0.8535134071850137,
          -0.8551172638042652,
          -0.8567165391633957,
          -0.8583112246943441,
          -0.8599013118536406,
          -0.8614867921224502,
          -0.8630676570066186,
          -0.864643898036719,
          -0.8662155067680967,
          -0.8677824747809137,
          -0.8693447936801956,
          -0.8709024550958738,
          -0.8724554506828344,
          -0.8740037721209585,
          -0.8755474111151694,
          -0.8770863593954766,
          -0.8786206087170199,
          -0.8801501508601131,
          -0.8816749776302891,
          -0.8831950808583428,
          -0.8847104524003763,
          -0.8862210841378405,
          -0.88772696797758,
          -0.8892280958518758,
          -0.8907244597184892,
          -0.8922160515607046,
          -0.8937028633873718,
          -0.8951848872329492,
          -0.8966621151575482,
          -0.8981345392469727,
          -0.8996021516127632,
          -0.9010649443922392,
          -0.9025229097485404,
          -0.9039760398706699,
          -0.905424326973535,
          -0.9068677632979896,
          -0.9083063411108744,
          -0.9097400527050615,
          -0.9111688903994921,
          -0.912592846539219
         ]
        },
        {
         "hoverinfo": "text",
         "line": {
          "color": "rgba(230,245,152,0.75)",
          "shape": "spline",
          "width": 0.25
         },
         "mode": "lines",
         "text": "King Street Station Plaza<br>2215 partidas",
         "type": "scatter",
         "x": [
          -0.6141446019832554,
          -0.6091633893882603,
          -0.6041640941558066,
          -0.599146864686873,
          -0.5941118499148048,
          -0.5890591993008936,
          -0.5839890628299393,
          -0.578901591005799,
          -0.573796934846919,
          -0.5686752458818527,
          -0.5635366761447592,
          -0.5583813781708956,
          -0.5532095049920853,
          -0.5480212101321763,
          -0.5428166476024844,
          -0.5375959718972205,
          -0.5323593379889057,
          -0.52710690132377,
          -0.5218388178171389,
          -0.5165552438488044,
          -0.5112563362583832,
          -0.5059422523406611,
          -0.500613149840924,
          -0.4952691869502747,
          -0.48991052230093796,
          -0.4845373149615516,
          -0.4791497244324417,
          -0.47374791064089294,
          -0.46833203393639816,
          -0.46290225508589866,
          -0.4574587352690126,
          -0.45200163607325,
          -0.44653111948921653,
          -0.44104734790580447,
          -0.4355504841053728,
          -0.4300406912589146,
          -0.42451813292121393,
          -0.4189829730259902,
          -0.4134353758810326,
          -0.407875506163322,
          -0.40230352891414334,
          -0.39671960953418595,
          -0.39112391377863476,
          -0.38551660775224644,
          -0.3798978579044242,
          -0.37426783102427275,
          -0.368626694235649,
          -0.3629746149922001,
          -0.35731176107239343,
          -0.3516383005745361,
          -0.34595440191178467,
          -0.34026023380714615,
          -0.3345559652884698,
          -0.3288417656834292,
          -0.32311780461449613,
          -0.3173842519939053,
          -0.3116412780186108,
          -0.3058890531652338,
          -0.30012774818500293,
          -0.2943575340986819,
          -0.28857858219149846,
          -0.2827910640080565,
          -0.27699515134724423,
          -0.27119101625713493,
          -0.2653788310298793,
          -0.25955876819659174,
          -0.2537310005222282,
          -0.24789570100045816,
          -0.24205304284852938,
          -0.23620319950212593,
          -0.2303463446102199,
          -0.22448265202991688,
          -0.21861229582129485,
          -0.2127354502422375,
          -0.2068522897432615,
          -0.20096298896233905,
          -0.1950677227197097,
          -0.1891666660126971,
          -0.18325999401051024,
          -0.1773478820490446,
          -0.17143050562567758,
          -0.16550804039405878,
          -0.159580662158896,
          -0.1536485468707364,
          -0.14771187062074367,
          -0.1417708096354709,
          -0.1358255402716292,
          -0.12987623901085288,
          -0.12392308245446057,
          -0.11796624731821295,
          -0.11200591042706709,
          -0.10604224870992845,
          -0.10007543919439495,
          -0.09410565900150789,
          -0.0881330853404903,
          -0.08215789550348761,
          -0.07618026686030477,
          -0.07020037685314118,
          -0.06421840299132348,
          -0.058234522846036176
         ],
         "y": [
          -0.9125932324178331,
          -0.9159257420932152,
          -0.9192310630809285,
          -0.9225090972645691,
          -0.925759747337725,
          -0.9289829168068648,
          -0.9321785099942015,
          -0.9353464320405327,
          -0.9384865889080573,
          -0.9415988873831652,
          -0.9446832350792074,
          -0.9477395404392345,
          -0.9507677127387174,
          -0.9537676620882389,
          -0.9567392994361633,
          -0.9596825365712784,
          -0.9625972861254151,
          -0.9654834615760404,
          -0.9683409772488258,
          -0.9711697483201907,
          -0.9739696908198198,
          -0.9767407216331563,
          -0.9794827585038691,
          -0.982195720036294,
          -0.9848795256978501,
          -0.9875340958214305,
          -0.9901593516077679,
          -0.992755215127772,
          -0.9953216093248436,
          -0.9978584580171628,
          -1.0003656858999492,
          -1.0028432185476979,
          -1.0052909824163885,
          -1.0077089048456684,
          -1.01009691406101,
          -1.0124549391758406,
          -1.0147829101936467,
          -1.0170807580100523,
          -1.0193484144148701,
          -1.0215858120941255,
          -1.0237928846320563,
          -1.0259695665130828,
          -1.0281157931237528,
          -1.0302315007546607,
          -1.0323166266023376,
          -1.0343711087711154,
          -1.036394886274965,
          -1.0383878990393063,
          -1.040350087902791,
          -1.0422813946190599,
          -1.0441817618584706,
          -1.0460511332098,
          -1.0478894531819185,
          -1.0496966672054384,
          -1.0514727216343316,
          -1.0532175637475238,
          -1.054931141750459,
          -1.056613404776637,
          -1.058264302889122,
          -1.0598837870820288,
          -1.0614718092819728,
          -1.0630283223494994,
          -1.064553280080484,
          -1.0660466372075017,
          -1.0675083494011721,
          -1.0689383732714755,
          -1.07033666636904,
          -1.0717031871864018,
          -1.073037895159238,
          -1.0743407506675706,
          -1.075611715036941,
          -1.0768507505395608,
          -1.078057820395429,
          -1.0792328887734253,
          -1.080375920792374,
          -1.081486882522078,
          -1.0825657409843277,
          -1.0836124641538787,
          -1.0846270209594024,
          -1.0856093812844094,
          -1.0865595159681427,
          -1.0874773968064435,
          -1.0883629965525878,
          -1.089216288918097,
          -1.090037248573516,
          -1.0908258511491664,
          -1.0915820732358699,
          -1.092305892385643,
          -1.092997287112363,
          -1.093656236892406,
          -1.0942827221652567,
          -1.0948767243340878,
          -1.0954382257663138,
          -1.0959672097941124,
          -1.0964636607149212,
          -1.0969275637919025,
          -1.0973589052543808,
          -1.0977576722982523,
          -1.0981238530863648,
          -1.0984574367488686
         ]
        },
        {
         "hoverinfo": "text",
         "line": {
          "color": "rgba(171,221,164,0.75)",
          "shape": "spline",
          "width": 0.25
         },
         "mode": "lines",
         "text": "Lake Union Park<br>1496 partidas",
         "type": "scatter",
         "x": [
          -0.058233832664862165,
          -0.05419136295560876,
          -0.05014815945282556,
          -0.04610427690465517,
          -0.042059770068437974,
          -0.03801469370996766,
          -0.03396910260274681,
          -0.029923051527251,
          -0.025876595270184148,
          -0.021829788623733727,
          -0.017782686384834684,
          -0.013735343354424513,
          -0.009687814336698287,
          -0.005640154138372423,
          -0.0015924175679396288,
          0.002455340565076184,
          0.006503065450856197,
          0.010550702280032761,
          0.01459819624442961,
          0.018645492537807902,
          0.022692536356602497,
          0.026739272900666945,
          0.03078564737401847,
          0.034831604985574104,
          0.038877090949895485,
          0.042922050487933676,
          0.04696642882776503,
          0.05101017120533579,
          0.055053222865206516,
          0.059095529061287747,
          0.06313703505758417,
          0.06717768612893871,
          0.07121742756176773,
          0.07525620465480486,
          0.07929396271984447,
          0.08333064708247655,
          0.08736620308282977,
          0.09140057607631473,
          0.09543371143435787,
          0.0994655545451442,
          0.10349605081435972,
          0.10752514566592478,
          0.11155278454273601,
          0.11557891290740802,
          0.11960347624300602,
          0.12362642005378692,
          0.12764768986594022,
          0.1316672312283197,
          0.13568498971318474,
          0.13970091091693526,
          0.14371494046085234,
          0.14772702399182774,
          0.15173710718310762,
          0.15574513573502144,
          0.15975105537572099,
          0.16375481186191346,
          0.16775635097959973,
          0.17175561854480267,
          0.17575256040430381,
          0.17974712243637936,
          0.18373925055152746,
          0.1877288906932033,
          0.1917159888385542,
          0.19570049099914508,
          0.1996823432216926,
          0.2036614915887985,
          0.20763788221967402,
          0.21161146127087233,
          0.21558217493702025,
          0.21954996945154162,
          0.22351479108738764,
          0.22747658615776759,
          0.23143530101686988,
          0.23539088206059147,
          0.2393432757272664,
          0.24329242849838564,
          0.24723828689932414,
          0.2511807975000683,
          0.25511990691593334,
          0.2590555618082893,
          0.262987708885286,
          0.2669162949025689,
          0.27084126666400316,
          0.2747625710223965,
          0.27868015488021336,
          0.28259396519029756,
          0.2865039489565889,
          0.29041005323484437,
          0.29431222513334937,
          0.29821041181363683,
          0.3021045604912055,
          0.305994618436229,
          0.30988053297427276,
          0.31376225148701,
          0.3176397214129284,
          0.3215128902480451,
          0.32538170554662,
          0.3292461149218606,
          0.333106066046634,
          0.33696150665417834
         ],
         "y": [
          -1.0984574733384815,
          -1.098664323704476,
          -1.0988562972943707,
          -1.0990333915086925,
          -1.0991956039494473,
          -1.0993429324201514,
          -1.0994753749258617,
          -1.099592929673203,
          -1.099695595070392,
          -1.0997833697272583,
          -1.0998562524552646,
          -1.0999142422675217,
          -1.0999573383788017,
          -1.09998554020555,
          -1.0999988473658913,
          -1.0999972596796366,
          -1.0999807771682841,
          -1.0999494000550198,
          -1.099903128764715,
          -1.0998419639239188,
          -1.0997659063608511,
          -1.0996749571053912,
          -1.099569117389063,
          -1.099448388645019,
          -1.0993127725080218,
          -1.0991622708144195,
          -1.0989968856021235,
          -1.0988166191105786,
          -1.098621473780735,
          -1.098411452255013,
          -1.098186557377269,
          -1.0979467921927555,
          -1.0976921599480816,
          -1.097422664091167,
          -1.097138308271197,
          -1.0968390963385724,
          -1.096525032344857,
          -1.0961961205427238,
          -1.0958523653858963,
          -1.0954937715290887,
          -1.0951203438279429,
          -1.0947320873389625,
          -1.0943290073194452,
          -1.0939111092274099,
          -1.0934783987215244,
          -1.0930308816610284,
          -1.0925685641056533,
          -1.0920914523155414,
          -1.0915995527511604,
          -1.0910928720732158,
          -1.0905714171425611,
          -1.0900351950201048,
          -1.089484212966715,
          -1.08891847844312,
          -1.0883379991098094,
          -1.087742782826928,
          -1.0871328376541707,
          -1.0865081718506733,
          -1.0858687938749008,
          -1.0852147123845315,
          -1.0845459362363417,
          -1.0838624744860852,
          -1.083164336388369,
          -1.0824515313965304,
          -1.081724069162508,
          -1.0809819595367103,
          -1.0802252125678835,
          -1.0794538385029748,
          -1.0786678477869933,
          -1.0778672510628697,
          -1.077052059171311,
          -1.0762222831506547,
          -1.075377934236718,
          -1.0745190238626476,
          -1.0736455636587625,
          -1.0727575654523989,
          -1.0718550412677488,
          -1.0709380033256968,
          -1.070006464043655,
          -1.0690604360353964,
          -1.0680999321108808,
          -1.0671249652760848,
          -1.0661355487328235,
          -1.065131695878572,
          -1.064113420306285,
          -1.0630807358042123,
          -1.062033656355711,
          -1.0609721961390577,
          -1.0598963695272556,
          -1.0588061910878408,
          -1.0577016755826834,
          -1.0565828379677888,
          -1.0554496933930961,
          -1.0543022572022704,
          -1.0531405449324973,
          -1.0519645723142719,
          -1.0507743552711841,
          -1.0495699099197067,
          -1.0483512525689735,
          -1.04711839972056
         ]
        },
        {
         "hoverinfo": "text",
         "line": {
          "color": "rgba(102,194,165,0.75)",
          "shape": "spline",
          "width": 0.25
         },
         "mode": "lines",
         "text": "E Pine St & 16th Ave<br>439 partidas",
         "type": "scatter",
         "x": [
          0.33696216457800604,
          0.3380926720233657,
          0.33922278524545557,
          0.34035250292653785,
          0.34148182374933933,
          0.3426107463970461,
          0.343739269553311,
          0.34486739190225313,
          0.34599511212845574,
          0.3471224289169748,
          0.34824934095333315,
          0.34937584692352813,
          0.3505019455140307,
          0.35162763541178405,
          0.35275291530421155,
          0.3538777838792109,
          0.3550022398251625,
          0.3561262818309274,
          0.35724990858584693,
          0.3583731187797492,
          0.35949591110294804,
          0.3606182842462418,
          0.36174023690092133,
          0.36286176775876405,
          0.36398287551204195,
          0.36510355885352036,
          0.36622381647645674,
          0.3673436470746087,
          0.368463049342228,
          0.3695820219740686,
          0.3707005636653855,
          0.37181867311193334,
          0.37293634900997447,
          0.3740535900562731,
          0.3751703949481033,
          0.37628676238324765,
          0.37740269105999596,
          0.3785181796771535,
          0.37963322693403495,
          0.3807478315304722,
          0.3818619921668135,
          0.382975707543922,
          0.3840889763631835,
          0.385201797326501,
          0.38631416913630257,
          0.38742609049553967,
          0.3885375601076865,
          0.3896485766767476,
          0.39075913890725217,
          0.3918692455042618,
          0.3929788951733694,
          0.39408808662069805,
          0.39519681855290767,
          0.3963050896771941,
          0.39741289870128776,
          0.39852024433346145,
          0.3996271252825248,
          0.40073354025783187,
          0.4018394879692801,
          0.402944967127309,
          0.4040499764429081,
          0.4051545146276112,
          0.40625858039350415,
          0.4073621724532234,
          0.4084652895199556,
          0.4095679303074441,
          0.41067009352998474,
          0.4117717779024324,
          0.41287298214020063,
          0.41397370495925984,
          0.41507394507614565,
          0.41617370120795266,
          0.4172729720723428,
          0.41837175638754365,
          0.41947005287234745,
          0.42056786024611875,
          0.4216651772287891,
          0.4227620025408643,
          0.4238583349034235,
          0.42495417303811794,
          0.4260495156671789,
          0.4271443615134116,
          0.42823870930020336,
          0.4293325577515222,
          0.43042590559191557,
          0.43151875154651764,
          0.4326110943410475,
          0.43370293270180843,
          0.43479426535569526,
          0.43588509103018913,
          0.43697540845336486,
          0.43806521635389006,
          0.4391545134610236,
          0.4402432985046235,
          0.4413315702151416,
          0.4424193273236306,
          0.44350656856174336,
          0.44459329266173175,
          0.44567949835645404,
          0.44676518437936924
         ],
         "y": [
          -1.0471181880011946,
          -1.046753717511479,
          -1.0463880264845904,
          -1.0460211153469328,
          -1.045652984526332,
          -1.0452836344520369,
          -1.044913065554717,
          -1.0445412782664636,
          -1.0441682730207893,
          -1.0437940502526253,
          -1.0434186103983238,
          -1.043041953895656,
          -1.0426640811838104,
          -1.0422849927033957,
          -1.0419046888964365,
          -1.0415231702063754,
          -1.0411404370780715,
          -1.0407564899577995,
          -1.04037132929325,
          -1.0399849555335288,
          -1.0395973691291553,
          -1.0392085705320646,
          -1.0388185601956028,
          -1.0384273385745317,
          -1.0380349061250231,
          -1.0376412633046617,
          -1.037246410572444,
          -1.0368503483887757,
          -1.0364530772154747,
          -1.0360545975157676,
          -1.0356549097542895,
          -1.0352540143970856,
          -1.034851911911608,
          -1.0344486027667172,
          -1.0340440874326802,
          -1.03363836638117,
          -1.0332314400852665,
          -1.0328233090194539,
          -1.0324139736596225,
          -1.0320034344830658,
          -1.0315916919684807,
          -1.0311787465959685,
          -1.0307645988470315,
          -1.030349249204576,
          -1.0299326981529078,
          -1.0295149461777338,
          -1.0290959937661628,
          -1.0286758414067014,
          -1.028254489589257,
          -1.027831938805134,
          -1.027408189547036,
          -1.026983242309064,
          -1.026557097586715,
          -1.026129755876883,
          -1.0257012176778577,
          -1.0252714834893235,
          -1.0248405538123604,
          -1.0244084291494409,
          -1.0239751100044312,
          -1.0235405968825917,
          -1.023104890290573,
          -1.0226679907364193,
          -1.0222298987295642,
          -1.021790614780832,
          -1.0213501394024378,
          -1.0209084731079847,
          -1.020465616412466,
          -1.020021569832261,
          -1.0195763338851378,
          -1.0191299090902515,
          -1.0186822959681419,
          -1.0182334950407366,
          -1.0177835068313468,
          -1.0173323318646674,
          -1.0168799706667795,
          -1.0164264237651446,
          -1.015971691688609,
          -1.0155157749673998,
          -1.015058674133125,
          -1.0146003897187748,
          -1.0141409222587177,
          -1.0136802722887035,
          -1.0132184403458595,
          -1.0127554269686914,
          -1.012291232697083,
          -1.0118258580722945,
          -1.0113593036369624,
          -1.0108915699350998,
          -1.0104226575120936,
          -1.009952566914706,
          -1.009481298691073,
          -1.0090088533907022,
          -1.0085352315644762,
          -1.0080604337646475,
          -1.0075844605448407,
          -1.007107312460051,
          -1.006628990066642,
          -1.0061494939223494,
          -1.0056688245862748,
          -1.0051869826188897
         ]
        },
        {
         "hoverinfo": "text",
         "line": {
          "color": "rgba(50,136,189,0.75)",
          "shape": "spline",
          "width": 0.25
         },
         "mode": "lines",
         "text": "Seattle Aquarium<br>4733 partidas",
         "type": "scatter",
         "x": [
          0.44676581595688886,
          0.45843765841911255,
          0.47004736670844555,
          0.48159336730750957,
          0.4930740953335261,
          0.5044879947504074,
          0.5158335185796568,
          0.5271091291100363,
          0.5383132981059806,
          0.5494445070147246,
          0.5605012471721229,
          0.5714820200071217,
          0.5823853372448698,
          0.5932097211084313,
          0.6039537045190743,
          0.6146158312951112,
          0.6251946563492644,
          0.6356887458845211,
          0.6460966775884651,
          0.6564170408260493,
          0.6666484368307852,
          0.6767894788943234,
          0.6868387925544034,
          0.696795015781137,
          0.706656799161613,
          0.7164228060827883,
          0.7260917129126452,
          0.7356622091795919,
          0.7451329977500728,
          0.7545027950043769,
          0.763770331010613,
          0.7729343496968294,
          0.7819936090212541,
          0.7909468811406354,
          0.7997929525766582,
          0.8085306243804093,
          0.817158712294879,
          0.8256760469154683,
          0.8340814738484825,
          0.8423738538675948,
          0.8505520630682468,
          0.858614993019979,
          0.8665615509166605,
          0.8743906597246031,
          0.8821012583285353,
          0.8896923016754206,
          0.8971627609161001,
          0.9045116235447342,
          0.9117378935360343,
          0.9188405914802577,
          0.9258187547159514,
          0.9326714374604285,
          0.9393977109379507,
          0.9459966635056118,
          0.9524674007768967,
          0.9588090457429012,
          0.9650207388911981,
          0.9711016383223297,
          0.9770509198639142,
          0.9828677771823514,
          0.9885514218921067,
          0.9941010836625654,
          0.9995160103224396,
          1.0047954679617142,
          1.009938741031114,
          1.0149451324390892,
          1.0198139636462926,
          1.0245445747575461,
          1.0291363246112812,
          1.0335885908664353,
          1.0379007700868021,
          1.0420722778228186,
          1.0461025486907776,
          1.0499910364494567,
          1.0537372140741528,
          1.0573405738281132,
          1.0608006273313502,
          1.064116905626834,
          1.0672889592440526,
          1.0703163582599313,
          1.0731986923571009,
          1.0759355708795106,
          1.0785266228853756,
          1.080971497197452,
          1.083269862450634,
          1.0854214071368655,
          1.0874258396473588,
          1.08928288831212,
          1.0909923014367673,
          1.092553847336646,
          1.0939673143682294,
          1.0952325109578032,
          1.096349265627431,
          1.0973174270181953,
          1.0981368639107119,
          1.0988074652429147,
          1.0993291401251082,
          1.0997018178522864,
          1.0999254479137164,
          1.099999999999783
         ],
         "y": [
          -1.0051867019078473,
          -0.9999174532646188,
          -0.9945126811913744,
          -0.9889731182218324,
          -0.9832995151585426,
          -0.9774926409711293,
          -0.9715532826920669,
          -0.9654822453100106,
          -0.9592803516606925,
          -0.9529484423153997,
          -0.9464873754670451,
          -0.939898026813856,
          -0.9331812894406849,
          -0.9263380736979655,
          -0.919369307078329,
          -0.9122759340908975,
          -0.9050589161332676,
          -0.8977192313612118,
          -0.8902578745561014,
          -0.8826758569900803,
          -0.8749742062890029,
          -0.8671539662931551,
          -0.8592161969157759,
          -0.8511619739994057,
          -0.8429923891700707,
          -0.8347085496893294,
          -0.8263115783042018,
          -0.8178026130949952,
          -0.8091828073210591,
          -0.8004533292644759,
          -0.7916153620717189,
          -0.7826701035932954,
          -0.7736187662213954,
          -0.7644625767255724,
          -0.7552027760864704,
          -0.745840619327632,
          -0.7363773753453967,
          -0.7268143267369224,
          -0.7171527696263492,
          -0.7073940134891278,
          -0.6975393809745434,
          -0.6875902077264492,
          -0.6775478422022403,
          -0.6674136454900915,
          -0.6571889911244824,
          -0.6468752649000368,
          -0.6364738646836968,
          -0.6259862002252679,
          -0.6154136929663454,
          -0.6047577758476615,
          -0.594019893114873,
          -0.5832015001228119,
          -0.5723040631382401,
          -0.5613290591411161,
          -0.5502779756244134,
          -0.5391523103925157,
          -0.5279535713582078,
          -0.5166832763383072,
          -0.5053429528479437,
          -0.493934137893529,
          -0.48245837776443934,
          -0.47091722782343953,
          -0.4593122522958786,
          -0.44764502405767914,
          -0.43591712442216396,
          -0.42413014292572965,
          -0.41228567711241015,
          -0.4003853323173553,
          -0.3884307214492485,
          -0.3764234647717076,
          -0.3643651896836792,
          -0.3522575304988704,
          -0.3401021282242431,
          -0.3279006303376009,
          -0.31565469056429923,
          -0.3033659686531048,
          -0.291036130151248,
          -0.2786668461786797,
          -0.26625979320157755,
          -0.2538166528051276,
          -0.2413391114656078,
          -0.2288288603218176,
          -0.21628759494586633,
          -0.20371701511336535,
          -0.19111882457305077,
          -0.17849473081586242,
          -0.16584644484352576,
          -0.15317568093664782,
          -0.14048415642237394,
          -0.12777359144163042,
          -0.11504570871598598,
          -0.10230223331416415,
          -0.08954489241823306,
          -0.07677541508951811,
          -0.06399553203425057,
          -0.05120697536899786,
          -0.03841147838590279,
          -0.025610775317758572,
          -0.012806601102966098,
          -6.91150385814946e-07
         ]
        },
        {
         "hoverinfo": "text",
         "marker": {
          "color": "rgba(213,62,79,0.75)",
          "size": 0.5
         },
         "mode": "markers",
         "text": "Pier 69 ⮌ : 4209 viagens ",
         "type": "scatter",
         "x": [
          0.14337759246001286
         ],
         "y": [
          0.8885059740825441
         ]
        },
        {
         "hoverinfo": "text",
         "marker": {
          "color": "rgba(213,62,79,0.75)",
          "size": 0.5
         },
         "mode": "markers",
         "text": "Pier 69 ➔ 2nd Ave & Pine St: 384 viagens ",
         "type": "scatter",
         "x": [
          0.8961898492810634
         ],
         "y": [
          0.08272698499029714
         ]
        },
        {
         "hoverinfo": "text",
         "marker": {
          "color": "rgba(244,109,67,0.75)",
          "size": 0.5
         },
         "mode": "markers",
         "text": "2nd Ave & Pine St ➔ Pier 69: 310 viagens ",
         "type": "scatter",
         "x": [
          -0.4370961587788165
         ],
         "y": [
          0.7867318145218253
         ]
        },
        {
         "hoverinfo": "text",
         "marker": {
          "color": "rgba(213,62,79,0.75)",
          "size": 0.5
         },
         "mode": "markers",
         "text": "Pier 69 ➔ 3rd Ave & Broad St: 777 viagens ",
         "type": "scatter",
         "x": [
          0.8243720192096645
         ],
         "y": [
          0.36112431923671456
         ]
        },
        {
         "hoverinfo": "text",
         "marker": {
          "color": "rgba(253,174,97,0.75)",
          "size": 0.5
         },
         "mode": "markers",
         "text": "3rd Ave & Broad St ➔ Pier 69: 347 viagens ",
         "type": "scatter",
         "x": [
          -0.8839169117208985
         ],
         "y": [
          0.16938386338075268
         ]
        },
        {
         "hoverinfo": "text",
         "marker": {
          "color": "rgba(213,62,79,0.75)",
          "size": 0.5
         },
         "mode": "markers",
         "text": "Pier 69 ➔ Pine St & 9th Ave: 65 viagens ",
         "type": "scatter",
         "x": [
          0.8999148165413291
         ],
         "y": [
          0.012382365258137889
         ]
        },
        {
         "hoverinfo": "text",
         "marker": {
          "color": "rgba(254,224,139,0.75)",
          "size": 0.5
         },
         "mode": "markers",
         "text": "Pine St & 9th Ave ➔ Pier 69: 52 viagens ",
         "type": "scatter",
         "x": [
          -0.8351034512114344
         ],
         "y": [
          -0.33556255121027956
         ]
        },
        {
         "hoverinfo": "text",
         "marker": {
          "color": "rgba(213,62,79,0.75)",
          "size": 0.5
         },
         "mode": "markers",
         "text": "Pier 69 ➔ Burke-Gilman Trail: 1 viagens ",
         "type": "scatter",
         "x": [
          0.8999999933287804
         ],
         "y": [
          0.00010958191060962971
         ]
        },
        {
         "hoverinfo": "text",
         "marker": {
          "color": "rgba(255,255,191,0.75)",
          "size": 0.5
         },
         "mode": "markers",
         "text": "Burke-Gilman Trail ➔ Pier 69: 4 viagens ",
         "type": "scatter",
         "x": [
          -0.6585030840859969
         ],
         "y": [
          -0.6134930221683296
         ]
        },
        {
         "hoverinfo": "text",
         "marker": {
          "color": "rgba(213,62,79,0.75)",
          "size": 0.5
         },
         "mode": "markers",
         "text": "Pier 69 ➔ King Street Station Plaza: 737 viagens ",
         "type": "scatter",
         "x": [
          0.876598554563253
         ],
         "y": [
          0.2038994216215817
         ]
        },
        {
         "hoverinfo": "text",
         "marker": {
          "color": "rgba(230,245,152,0.75)",
          "size": 0.5
         },
         "mode": "markers",
         "text": "King Street Station Plaza ➔ Pier 69: 962 viagens ",
         "type": "scatter",
         "x": [
          -0.15234928986161725
         ],
         "y": [
          -0.8870116650183699
         ]
        },
        {
         "hoverinfo": "text",
         "marker": {
          "color": "rgba(213,62,79,0.75)",
          "size": 0.5
         },
         "mode": "markers",
         "text": "Pier 69 ➔ Lake Union Park: 97 viagens ",
         "type": "scatter",
         "x": [
          0.8994955361551085
         ],
         "y": [
          0.030129394899896716
         ]
        },
        {
         "hoverinfo": "text",
         "marker": {
          "color": "rgba(171,221,164,0.75)",
          "size": 0.5
         },
         "mode": "markers",
         "text": "Lake Union Park ➔ Pier 69: 75 viagens ",
         "type": "scatter",
         "x": [
          0.00021908129838834765
         ],
         "y": [
          -0.8999999733352133
         ]
        },
        {
         "hoverinfo": "text",
         "marker": {
          "color": "rgba(213,62,79,0.75)",
          "size": 0.5
         },
         "mode": "markers",
         "text": "Pier 69 ➔ E Pine St & 16th Ave: 23 viagens ",
         "type": "scatter",
         "x": [
          0.899995830491
         ],
         "y": [
          0.002739543541427226
         ]
        },
        {
         "hoverinfo": "text",
         "marker": {
          "color": "rgba(102,194,165,0.75)",
          "size": 0.5
         },
         "mode": "markers",
         "text": "E Pine St & 16th Ave ➔ Pier 69: 3 viagens ",
         "type": "scatter",
         "x": [
          0.27642640899996396
         ],
         "y": [
          -0.856497776066806
         ]
        },
        {
         "hoverinfo": "text",
         "marker": {
          "color": "rgba(213,62,79,0.75)",
          "size": 0.5
         },
         "mode": "markers",
         "text": "Pier 69 ➔ Seattle Aquarium: 1605 viagens ",
         "type": "scatter",
         "x": [
          0.6866695494326499
         ],
         "y": [
          0.5817945770475706
         ]
        },
        {
         "hoverinfo": "text",
         "marker": {
          "color": "rgba(50,136,189,0.75)",
          "size": 0.5
         },
         "mode": "markers",
         "text": "Seattle Aquarium ➔ Pier 69: 2291 viagens ",
         "type": "scatter",
         "x": [
          0.8652112156918659
         ],
         "y": [
          -0.24780950797135198
         ]
        },
        {
         "hoverinfo": "text",
         "marker": {
          "color": "rgba(244,109,67,0.75)",
          "size": 0.5
         },
         "mode": "markers",
         "text": "2nd Ave & Pine St ⮌ : 427 viagens ",
         "type": "scatter",
         "x": [
          -0.5663512651481472
         ],
         "y": [
          0.6994613959791441
         ]
        },
        {
         "hoverinfo": "text",
         "marker": {
          "color": "rgba(244,109,67,0.75)",
          "size": 0.5
         },
         "mode": "markers",
         "text": "2nd Ave & Pine St ➔ 3rd Ave & Broad St: 1101 viagens ",
         "type": "scatter",
         "x": [
          -0.7607954449913064
         ],
         "y": [
          0.480822514947543
         ]
        },
        {
         "hoverinfo": "text",
         "marker": {
          "color": "rgba(253,174,97,0.75)",
          "size": 0.5
         },
         "mode": "markers",
         "text": "3rd Ave & Broad St ➔ 2nd Ave & Pine St: 962 viagens ",
         "type": "scatter",
         "x": [
          -0.8743896213513551
         ],
         "y": [
          -0.21317314575957666
         ]
        },
        {
         "hoverinfo": "text",
         "marker": {
          "color": "rgba(244,109,67,0.75)",
          "size": 0.5
         },
         "mode": "markers",
         "text": "2nd Ave & Pine St ➔ Pine St & 9th Ave: 344 viagens ",
         "type": "scatter",
         "x": [
          -0.49829197307304535
         ],
         "y": [
          0.7494698856998668
         ]
        },
        {
         "hoverinfo": "text",
         "marker": {
          "color": "rgba(254,224,139,0.75)",
          "size": 0.5
         },
         "mode": "markers",
         "text": "Pine St & 9th Ave ➔ 2nd Ave & Pine St: 158 viagens ",
         "type": "scatter",
         "x": [
          -0.8075144262840024
         ],
         "y": [
          -0.39739206250656084
         ]
        },
        {
         "hoverinfo": "text",
         "marker": {
          "color": "rgba(244,109,67,0.75)",
          "size": 0.5
         },
         "mode": "markers",
         "text": "2nd Ave & Pine St ➔ Burke-Gilman Trail: 9 viagens ",
         "type": "scatter",
         "x": [
          -0.3116364281405797
         ],
         "y": [
          0.8443238339972297
         ]
        },
        {
         "hoverinfo": "text",
         "marker": {
          "color": "rgba(255,255,191,0.75)",
          "size": 0.5
         },
         "mode": "markers",
         "text": "Burke-Gilman Trail ➔ 2nd Ave & Pine St: 1 viagens ",
         "type": "scatter",
         "x": [
          -0.6588764485647057
         ],
         "y": [
          -0.6130920204396407
         ]
        },
        {
         "hoverinfo": "text",
         "marker": {
          "color": "rgba(244,109,67,0.75)",
          "size": 0.5
         },
         "mode": "markers",
         "text": "2nd Ave & Pine St ➔ King Street Station Plaza: 199 viagens ",
         "type": "scatter",
         "x": [
          -0.387530809083394
         ],
         "y": [
          0.8122929717849158
         ]
        },
        {
         "hoverinfo": "text",
         "marker": {
          "color": "rgba(230,245,152,0.75)",
          "size": 0.5
         },
         "mode": "markers",
         "text": "King Street Station Plaza ➔ 2nd Ave & Pine St: 384 viagens ",
         "type": "scatter",
         "x": [
          -0.29502659538456916
         ],
         "y": [
          -0.8502701382594767
         ]
        },
        {
         "hoverinfo": "text",
         "marker": {
          "color": "rgba(244,109,67,0.75)",
          "size": 0.5
         },
         "mode": "markers",
         "text": "2nd Ave & Pine St ➔ Lake Union Park: 135 viagens ",
         "type": "scatter",
         "x": [
          -0.3263913830215023
         ],
         "y": [
          0.8387303887956553
         ]
        },
        {
         "hoverinfo": "text",
         "marker": {
          "color": "rgba(171,221,164,0.75)",
          "size": 0.5
         },
         "mode": "markers",
         "text": "Lake Union Park ➔ 2nd Ave & Pine St: 105 viagens ",
         "type": "scatter",
         "x": [
          0.019942165470682283
         ],
         "y": [
          -0.8997790340057608
         ]
        },
        {
         "hoverinfo": "text",
         "marker": {
          "color": "rgba(244,109,67,0.75)",
          "size": 0.5
         },
         "mode": "markers",
         "text": "2nd Ave & Pine St ➔ E Pine St & 16th Ave: 577 viagens ",
         "type": "scatter",
         "x": [
          -0.6474174370915804
         ],
         "y": [
          0.6251805036545602
         ]
        },
        {
         "hoverinfo": "text",
         "marker": {
          "color": "rgba(102,194,165,0.75)",
          "size": 0.5
         },
         "mode": "markers",
         "text": "E Pine St & 16th Ave ➔ 2nd Ave & Pine St: 53 viagens ",
         "type": "scatter",
         "x": [
          0.2926439663104172
         ],
         "y": [
          -0.8510931259163755
         ]
        },
        {
         "hoverinfo": "text",
         "marker": {
          "color": "rgba(244,109,67,0.75)",
          "size": 0.5
         },
         "mode": "markers",
         "text": "2nd Ave & Pine St ➔ Seattle Aquarium: 137 viagens ",
         "type": "scatter",
         "x": [
          -0.3539844621228249
         ],
         "y": [
          0.8274629904567421
         ]
        },
        {
         "hoverinfo": "text",
         "marker": {
          "color": "rgba(50,136,189,0.75)",
          "size": 0.5
         },
         "mode": "markers",
         "text": "Seattle Aquarium ➔ 2nd Ave & Pine St: 158 viagens ",
         "type": "scatter",
         "x": [
          0.41294978005118166
         ],
         "y": [
          -0.7996702315052628
         ]
        },
        {
         "hoverinfo": "text",
         "marker": {
          "color": "rgba(253,174,97,0.75)",
          "size": 0.5
         },
         "mode": "markers",
         "text": "3rd Ave & Broad St ⮌ : 627 viagens ",
         "type": "scatter",
         "x": [
          -0.8990620377180458
         ],
         "y": [
          -0.04107861164006351
         ]
        },
        {
         "hoverinfo": "text",
         "marker": {
          "color": "rgba(253,174,97,0.75)",
          "size": 0.5
         },
         "mode": "markers",
         "text": "3rd Ave & Broad St ➔ Pine St & 9th Ave: 166 viagens ",
         "type": "scatter",
         "x": [
          -0.8261644420292849
         ],
         "y": [
          0.35700464244382085
         ]
        },
        {
         "hoverinfo": "text",
         "marker": {
          "color": "rgba(254,224,139,0.75)",
          "size": 0.5
         },
         "mode": "markers",
         "text": "Pine St & 9th Ave ➔ 3rd Ave & Broad St: 151 viagens ",
         "type": "scatter",
         "x": [
          -0.8218905614397137
         ],
         "y": [
          -0.36673683346006053
         ]
        },
        {
         "hoverinfo": "text",
         "marker": {
          "color": "rgba(253,174,97,0.75)",
          "size": 0.5
         },
         "mode": "markers",
         "text": "3rd Ave & Broad St ➔ Burke-Gilman Trail: 6 viagens ",
         "type": "scatter",
         "x": [
          -0.818507323193224
         ],
         "y": [
          0.37422688556417666
         ]
        },
        {
         "hoverinfo": "text",
         "marker": {
          "color": "rgba(255,255,191,0.75)",
          "size": 0.5
         },
         "mode": "markers",
         "text": "Burke-Gilman Trail ➔ 3rd Ave & Broad St: 8 viagens ",
         "type": "scatter",
         "x": [
          -0.6564077367872565
         ],
         "y": [
          -0.6157344257761066
         ]
        },
        {
         "hoverinfo": "text",
         "marker": {
          "color": "rgba(253,174,97,0.75)",
          "size": 0.5
         },
         "mode": "markers",
         "text": "3rd Ave & Broad St ➔ King Street Station Plaza: 179 viagens ",
         "type": "scatter",
         "x": [
          -0.8404277133055511
         ],
         "y": [
          0.32199574330727154
         ]
        },
        {
         "hoverinfo": "text",
         "marker": {
          "color": "rgba(230,245,152,0.75)",
          "size": 0.5
         },
         "mode": "markers",
         "text": "King Street Station Plaza ➔ 3rd Ave & Broad St: 301 viagens ",
         "type": "scatter",
         "x": [
          -0.3648347460505546
         ],
         "y": [
          -0.822736657791682
         ]
        },
        {
         "hoverinfo": "text",
         "marker": {
          "color": "rgba(253,174,97,0.75)",
          "size": 0.5
         },
         "mode": "markers",
         "text": "3rd Ave & Broad St ➔ Lake Union Park: 264 viagens ",
         "type": "scatter",
         "x": [
          -0.8688825340441514
         ],
         "y": [
          0.23461274908455887
         ]
        },
        {
         "hoverinfo": "text",
         "marker": {
          "color": "rgba(171,221,164,0.75)",
          "size": 0.5
         },
         "mode": "markers",
         "text": "Lake Union Park ➔ 3rd Ave & Broad St: 175 viagens ",
         "type": "scatter",
         "x": [
          0.05059999460653614
         ],
         "y": [
          -0.8985764522542411
         ]
        },
        {
         "hoverinfo": "text",
         "marker": {
          "color": "rgba(253,174,97,0.75)",
          "size": 0.5
         },
         "mode": "markers",
         "text": "3rd Ave & Broad St ➔ E Pine St & 16th Ave: 198 viagens ",
         "type": "scatter",
         "x": [
          -0.8543177161053798
         ],
         "y": [
          0.28309228168300116
         ]
        },
        {
         "hoverinfo": "text",
         "marker": {
          "color": "rgba(102,194,165,0.75)",
          "size": 0.5
         },
         "mode": "markers",
         "text": "E Pine St & 16th Ave ➔ 3rd Ave & Broad St: 16 viagens ",
         "type": "scatter",
         "x": [
          0.2800738490348972
         ],
         "y": [
          -0.8553120127104363
         ]
        },
        {
         "hoverinfo": "text",
         "marker": {
          "color": "rgba(253,174,97,0.75)",
          "size": 0.5
         },
         "mode": "markers",
         "text": "3rd Ave & Broad St ➔ Seattle Aquarium: 478 viagens ",
         "type": "scatter",
         "x": [
          -0.8964472229009233
         ],
         "y": [
          0.07988977752642969
         ]
        },
        {
         "hoverinfo": "text",
         "marker": {
          "color": "rgba(50,136,189,0.75)",
          "size": 0.5
         },
         "mode": "markers",
         "text": "Seattle Aquarium ➔ 3rd Ave & Broad St: 792 viagens ",
         "type": "scatter",
         "x": [
          0.5348935169957539
         ],
         "y": [
          -0.723801716961153
         ]
        },
        {
         "hoverinfo": "text",
         "marker": {
          "color": "rgba(254,224,139,0.75)",
          "size": 0.5
         },
         "mode": "markers",
         "text": "Pine St & 9th Ave ⮌ : 186 viagens ",
         "type": "scatter",
         "x": [
          -0.7901664743187078
         ],
         "y": [
          -0.43085605817110545
         ]
        },
        {
         "hoverinfo": "text",
         "marker": {
          "color": "rgba(254,224,139,0.75)",
          "size": 0.5
         },
         "mode": "markers",
         "text": "Pine St & 9th Ave ➔ Burke-Gilman Trail: 2 viagens ",
         "type": "scatter",
         "x": [
          -0.8434095708609308
         ],
         "y": [
          -0.3141023651298739
         ]
        },
        {
         "hoverinfo": "text",
         "marker": {
          "color": "rgba(255,255,191,0.75)",
          "size": 0.5
         },
         "mode": "markers",
         "text": "Burke-Gilman Trail ➔ Pine St & 9th Ave: 4 viagens ",
         "type": "scatter",
         "x": [
          -0.6579051933424188
         ],
         "y": [
          -0.6141341519351244
         ]
        },
        {
         "hoverinfo": "text",
         "marker": {
          "color": "rgba(254,224,139,0.75)",
          "size": 0.5
         },
         "mode": "markers",
         "text": "Pine St & 9th Ave ➔ King Street Station Plaza: 42 viagens ",
         "type": "scatter",
         "x": [
          -0.8388892546466372
         ],
         "y": [
          -0.3259828499145462
         ]
        },
        {
         "hoverinfo": "text",
         "marker": {
          "color": "rgba(230,245,152,0.75)",
          "size": 0.5
         },
         "mode": "markers",
         "text": "King Street Station Plaza ➔ Pine St & 9th Ave: 65 viagens ",
         "type": "scatter",
         "x": [
          -0.49069275107057553
         ],
         "y": [
          -0.7544671126343349
         ]
        },
        {
         "hoverinfo": "text",
         "marker": {
          "color": "rgba(254,224,139,0.75)",
          "size": 0.5
         },
         "mode": "markers",
         "text": "Pine St & 9th Ave ➔ Lake Union Park: 53 viagens ",
         "type": "scatter",
         "x": [
          -0.8307453096243332
         ],
         "y": [
          -0.346211251315105
         ]
        },
        {
         "hoverinfo": "text",
         "marker": {
          "color": "rgba(171,221,164,0.75)",
          "size": 0.5
         },
         "mode": "markers",
         "text": "Lake Union Park ➔ Pine St & 9th Ave: 73 viagens ",
         "type": "scatter",
         "x": [
          -0.015998176206115343
         ],
         "y": [
          -0.8998577989649688
         ]
        },
        {
         "hoverinfo": "text",
         "marker": {
          "color": "rgba(254,224,139,0.75)",
          "size": 0.5
         },
         "mode": "markers",
         "text": "Pine St & 9th Ave ➔ E Pine St & 16th Ave: 934 viagens ",
         "type": "scatter",
         "x": [
          -0.7242575209273476
         ],
         "y": [
          -0.5342761864243742
         ]
        },
        {
         "hoverinfo": "text",
         "marker": {
          "color": "rgba(102,194,165,0.75)",
          "size": 0.5
         },
         "mode": "markers",
         "text": "E Pine St & 16th Ave ➔ Pine St & 9th Ave: 98 viagens ",
         "type": "scatter",
         "x": [
          0.3082412352770038
         ],
         "y": [
          -0.845569240733665
         ]
        },
        {
         "hoverinfo": "text",
         "marker": {
          "color": "rgba(254,224,139,0.75)",
          "size": 0.5
         },
         "mode": "markers",
         "text": "Pine St & 9th Ave ➔ Seattle Aquarium: 36 viagens ",
         "type": "scatter",
         "x": [
          -0.8419472641689012
         ],
         "y": [
          -0.31800126471211154
         ]
        },
        {
         "hoverinfo": "text",
         "marker": {
          "color": "rgba(50,136,189,0.75)",
          "size": 0.5
         },
         "mode": "markers",
         "text": "Seattle Aquarium ➔ Pine St & 9th Ave: 68 viagens ",
         "type": "scatter",
         "x": [
          0.3769156606264464
         ],
         "y": [
          -0.8172726502058719
         ]
        },
        {
         "hoverinfo": "text",
         "marker": {
          "color": "rgba(255,255,191,0.75)",
          "size": 0.5
         },
         "mode": "markers",
         "text": "Burke-Gilman Trail ⮌ : 880 viagens ",
         "type": "scatter",
         "x": [
          -0.5794505841680193
         ],
         "y": [
          -0.688648691647157
         ]
        },
        {
         "hoverinfo": "text",
         "marker": {
          "color": "rgba(255,255,191,0.75)",
          "size": 0.5
         },
         "mode": "markers",
         "text": "Burke-Gilman Trail ➔ King Street Station Plaza: 0 viagens ",
         "type": "scatter",
         "x": [
          -0.6589510921616198
         ],
         "y": [
          -0.6130117928221352
         ]
        },
        {
         "hoverinfo": "text",
         "marker": {
          "color": "rgba(230,245,152,0.75)",
          "size": 0.5
         },
         "mode": "markers",
         "text": "King Street Station Plaza ➔ Burke-Gilman Trail: 1 viagens ",
         "type": "scatter",
         "x": [
          -0.502391030965134
         ],
         "y": [
          -0.7467283656094696
         ]
        },
        {
         "hoverinfo": "text",
         "marker": {
          "color": "rgba(255,255,191,0.75)",
          "size": 0.5
         },
         "mode": "markers",
         "text": "Burke-Gilman Trail ➔ Lake Union Park: 25 viagens ",
         "type": "scatter",
         "x": [
          -0.6516653482858618
         ],
         "y": [
          -0.6207513784466906
         ]
        },
        {
         "hoverinfo": "text",
         "marker": {
          "color": "rgba(171,221,164,0.75)",
          "size": 0.5
         },
         "mode": "markers",
         "text": "Lake Union Park ➔ Burke-Gilman Trail: 46 viagens ",
         "type": "scatter",
         "x": [
          -0.0290342095469516
         ],
         "y": [
          -0.8995315529073917
         ]
        },
        {
         "hoverinfo": "text",
         "marker": {
          "color": "rgba(255,255,191,0.75)",
          "size": 0.5
         },
         "mode": "markers",
         "text": "Burke-Gilman Trail ➔ E Pine St & 16th Ave: 15 viagens ",
         "type": "scatter",
         "x": [
          -0.6546808502459117
         ],
         "y": [
          -0.6175702262263703
         ]
        },
        {
         "hoverinfo": "text",
         "marker": {
          "color": "rgba(102,194,165,0.75)",
          "size": 0.5
         },
         "mode": "markers",
         "text": "E Pine St & 16th Ave ➔ Burke-Gilman Trail: 3 viagens ",
         "type": "scatter",
         "x": [
          0.27705204279434786
         ],
         "y": [
          -0.8562956064254207
         ]
        },
        {
         "hoverinfo": "text",
         "marker": {
          "color": "rgba(255,255,191,0.75)",
          "size": 0.5
         },
         "mode": "markers",
         "text": "Burke-Gilman Trail ➔ Seattle Aquarium: 4 viagens ",
         "type": "scatter",
         "x": [
          -0.657306678384307
         ],
         "y": [
          -0.6147746990169562
         ]
        },
        {
         "hoverinfo": "text",
         "marker": {
          "color": "rgba(50,136,189,0.75)",
          "size": 0.5
         },
         "mode": "markers",
         "text": "Seattle Aquarium ➔ Burke-Gilman Trail: 0 viagens ",
         "type": "scatter",
         "x": [
          0.36553566760109085
         ],
         "y": [
          -0.8224254833791477
         ]
        },
        {
         "hoverinfo": "text",
         "marker": {
          "color": "rgba(230,245,152,0.75)",
          "size": 0.5
         },
         "mode": "markers",
         "text": "King Street Station Plaza ⮌ : 185 viagens ",
         "type": "scatter",
         "x": [
          -0.45413767703838
         ],
         "y": [
          -0.7770192856642517
         ]
        },
        {
         "hoverinfo": "text",
         "marker": {
          "color": "rgba(230,245,152,0.75)",
          "size": 0.5
         },
         "mode": "markers",
         "text": "King Street Station Plaza ➔ Lake Union Park: 31 viagens ",
         "type": "scatter",
         "x": [
          -0.4994777902460776
         ],
         "y": [
          -0.7486801299960453
         ]
        },
        {
         "hoverinfo": "text",
         "marker": {
          "color": "rgba(171,221,164,0.75)",
          "size": 0.5
         },
         "mode": "markers",
         "text": "Lake Union Park ➔ King Street Station Plaza: 26 viagens ",
         "type": "scatter",
         "x": [
          -0.03691877276842327
         ],
         "y": [
          -0.89924246130689
         ]
        },
        {
         "hoverinfo": "text",
         "marker": {
          "color": "rgba(230,245,152,0.75)",
          "size": 0.5
         },
         "mode": "markers",
         "text": "King Street Station Plaza ➔ E Pine St & 16th Ave: 71 viagens ",
         "type": "scatter",
         "x": [
          -0.47813280532536134
         ],
         "y": [
          -0.7624887018649523
         ]
        },
        {
         "hoverinfo": "text",
         "marker": {
          "color": "rgba(102,194,165,0.75)",
          "size": 0.5
         },
         "mode": "markers",
         "text": "E Pine St & 16th Ave ➔ King Street Station Plaza: 26 viagens ",
         "type": "scatter",
         "x": [
          0.2844440574323321
         ],
         "y": [
          -0.8538685953889112
         ]
        },
        {
         "hoverinfo": "text",
         "marker": {
          "color": "rgba(230,245,152,0.75)",
          "size": 0.5
         },
         "mode": "markers",
         "text": "King Street Station Plaza ➔ Seattle Aquarium: 215 viagens ",
         "type": "scatter",
         "x": [
          -0.4157709442692791
         ],
         "y": [
          -0.7982070670580611
         ]
        },
        {
         "hoverinfo": "text",
         "marker": {
          "color": "rgba(50,136,189,0.75)",
          "size": 0.5
         },
         "mode": "markers",
         "text": "Seattle Aquarium ➔ King Street Station Plaza: 181 viagens ",
         "type": "scatter",
         "x": [
          0.4455957519504798
         ],
         "y": [
          -0.781949119728187
         ]
        },
        {
         "hoverinfo": "text",
         "marker": {
          "color": "rgba(171,221,164,0.75)",
          "size": 0.5
         },
         "mode": "markers",
         "text": "Lake Union Park ⮌ : 960 viagens ",
         "type": "scatter",
         "x": [
          0.17390127814141412
         ],
         "y": [
          -0.8830392660922743
         ]
        },
        {
         "hoverinfo": "text",
         "marker": {
          "color": "rgba(171,221,164,0.75)",
          "size": 0.5
         },
         "mode": "markers",
         "text": "Lake Union Park ➔ E Pine St & 16th Ave: 19 viagens ",
         "type": "scatter",
         "x": [
          -0.041845222434245016
         ],
         "y": [
          -0.8990266833411724
         ]
        },
        {
         "hoverinfo": "text",
         "marker": {
          "color": "rgba(102,194,165,0.75)",
          "size": 0.5
         },
         "mode": "markers",
         "text": "E Pine St & 16th Ave ➔ Lake Union Park: 5 viagens ",
         "type": "scatter",
         "x": [
          0.2778859911241703
         ],
         "y": [
          -0.8560253360368124
         ]
        },
        {
         "hoverinfo": "text",
         "marker": {
          "color": "rgba(171,221,164,0.75)",
          "size": 0.5
         },
         "mode": "markers",
         "text": "Lake Union Park ➔ Seattle Aquarium: 17 viagens ",
         "type": "scatter",
         "x": [
          -0.04578548479527939
         ],
         "y": [
          -0.898834628495176
         ]
        },
        {
         "hoverinfo": "text",
         "marker": {
          "color": "rgba(50,136,189,0.75)",
          "size": 0.5
         },
         "mode": "markers",
         "text": "Seattle Aquarium ➔ Lake Union Park: 70 viagens ",
         "type": "scatter",
         "x": [
          0.39059407867093315
         ],
         "y": [
          -0.81082443581037
         ]
        },
        {
         "hoverinfo": "text",
         "marker": {
          "color": "rgba(102,194,165,0.75)",
          "size": 0.5
         },
         "mode": "markers",
         "text": "E Pine St & 16th Ave ⮌ : 233 viagens ",
         "type": "scatter",
         "x": [
          0.34205948595266744
         ],
         "y": [
          -0.8324633974354649
         ]
        },
        {
         "hoverinfo": "text",
         "marker": {
          "color": "rgba(102,194,165,0.75)",
          "size": 0.5
         },
         "mode": "markers",
         "text": "E Pine St & 16th Ave ➔ Seattle Aquarium: 2 viagens ",
         "type": "scatter",
         "x": [
          0.27590493479664935
         ],
         "y": [
          -0.8566659015945812
         ]
        },
        {
         "hoverinfo": "text",
         "marker": {
          "color": "rgba(50,136,189,0.75)",
          "size": 0.5
         },
         "mode": "markers",
         "text": "Seattle Aquarium ➔ E Pine St & 16th Ave: 23 viagens ",
         "type": "scatter",
         "x": [
          0.3678373729622058
         ],
         "y": [
          -0.8213986042429481
         ]
        },
        {
         "hoverinfo": "text",
         "marker": {
          "color": "rgba(50,136,189,0.75)",
          "size": 0.5
         },
         "mode": "markers",
         "text": "Seattle Aquarium ⮌ : 1150 viagens ",
         "type": "scatter",
         "x": [
          0.6895650622730755
         ],
         "y": [
          -0.578359771156613
         ]
        }
       ],
       "layout": {
        "height": 625,
        "hovermode": "closest",
        "margin": {
         "b": 25,
         "l": 25,
         "r": 25,
         "t": 25
        },
        "paper_bgcolor": "rgba(0,0,0,0)",
        "plot_bgcolor": "rgba(0,0,0,0)",
        "shapes": [
         {
          "fillcolor": "rgba(213,62,79,0.75)",
          "layer": "below",
          "line": {
           "color": "rgb(175,175,175)",
           "width": 0.5
          },
          "path": "M 0.6229187010081774,0.7822865791602749 Q 0.031861687213336196, 0.19744577201834312 -0.3452338719347044, 0.9385166880077158L -0.3452338719347044, 0.9385166880077158 L -0.2639112265865334, 0.9645469737040241 L -0.18066441809789902, 0.9835447971665284 L -0.09610039465560964, 0.995371646244274 L -0.010835708192758415, 0.9999412919906655 L 0.07450798085961882, 0.9972204173542691 L 0.15930843606668096, 0.9872288600917156 L 0.24294738168353305, 0.9700394681316403 L 0.32481501047179145, 0.9457775684441929 L 0.4043144297727051, 0.9146200532885622 L 0.48086601342074253, 0.8767940905006387 L 0.5539116277680676, 0.8325754672240407 L 0.6229187010081774, 0.7822865791602749 ",
          "type": "path"
         },
         {
          "fillcolor": "rgba(213,62,79,0.75)",
          "layer": "below",
          "line": {
           "color": "rgb(175, 175, 175)",
           "width": 0.5
          },
          "path": "M 0.9989744086360391,0.04527837110890709 Q 0.09418136273954948, 0.1764365917618038 -0.5183031885169904, 0.8551969391743174L -0.5183031885169904, 0.8551969391743174 L -0.4856623986431295, 0.8741464605798058 L -0.45232977999907426, 0.8918507555224636 M -0.45232977999907426,0.8918507555224636 Q 0.09258785251624502, 0.17727800079657394 0.9903822155940469, 0.1383584729426672L 0.9903822155940469, 0.1383584729426672 L 0.9957664992011815, 0.09191887221144127 L 0.9989744086360391, 0.04527837110890709 ",
          "type": "path"
         },
         {
          "fillcolor": "rgba(213,62,79,0.75)",
          "layer": "below",
          "line": {
           "color": "rgb(175, 175, 175)",
           "width": 0.5
          },
          "path": "M 0.9497767666958941,0.3129282560662959 Q -0.017098205786895148, 0.19926778806136478 -0.9892027010994698, 0.14655379946460934L -0.9892027010994698, 0.14655379946460934 L -0.9821299019121094, 0.18820429264528074 L -0.9733042089920976, 0.22951888104961485 M -0.9733042089920976,0.22951888104961485 Q -0.027502840089808068, 0.19809995907872988 0.8739690235383102, 0.4859816312325936L 0.8739690235383102, 0.4859816312325936 L 0.9159689102329606, 0.4012492435963495 L 0.9497767666958941, 0.3129282560662959 ",
          "type": "path"
         },
         {
          "fillcolor": "rgba(213,62,79,0.75)",
          "layer": "below",
          "line": {
           "color": "rgb(175, 175, 175)",
           "width": 0.5
          },
          "path": "M 0.9999829217265603,0.0058443353096745325 Q -0.03917030558455903, 0.19612671200122708 -0.9255134994115093, -0.37871461868676554L -0.9255134994115093, -0.37871461868676554 L -0.9278927235682604, -0.37284727912253285 L -0.9302347518636281, -0.36696499346015843 M -0.9302347518636281,-0.36696499346015843 Q -0.03948069709651842, 0.19606446530866567 0.9997651526147238, 0.02167117018663315L 0.9997651526147238, 0.02167117018663315 L 0.9999053517125879, 0.01375818362015321 L 0.9999829217265603, 0.0058443353096745325 ",
          "type": "path"
         },
         {
          "fillcolor": "rgba(255,255,191,0.75)",
          "layer": "below",
          "line": {
           "color": "rgb(175, 175, 175)",
           "width": 0.5
          },
          "path": "M 1.0,0.0 Q -0.0733023848669949, 0.18608267080201468 -0.7313380186405478, -0.6820151776103797L -0.7313380186405478, -0.6820151776103797 L -0.7316700934288854, -0.6816589135203662 L -0.7320019946667107, -0.6813024877423807 M -0.7320019946667107,-0.6813024877423807 Q -0.07323440921510681, 0.18610943368597488 0.9999999703501354, 0.00024351535510523892L 0.9999999703501354, 0.00024351535510523892 L 0.9999999925875338, 0.00012175767845514412 L 1.0, 0.0 ",
          "type": "path"
         },
         {
          "fillcolor": "rgba(230,245,152,0.75)",
          "layer": "below",
          "line": {
           "color": "rgb(175, 175, 175)",
           "width": 0.5
          },
          "path": "M 0.9903822155940469,0.1383584729426672 Q -0.14735895924151102, 0.1352232862019656 -0.05294047531457745, -0.9985976697716987L -0.05294047531457745, -0.9985976697716987 L -0.16927698873513028, -0.9855685166870777 L -0.2832937399195361, -0.959033188644899 M -0.2832937399195361,-0.959033188644899 Q -0.14359963585652874, 0.13920899605223921 0.9497767666958941, 0.3129282560662959L 0.9497767666958941, 0.3129282560662959 L 0.97399839395917, 0.22655491291286856 L 0.9903822155940469, 0.1383584729426672 ",
          "type": "path"
         },
         {
          "fillcolor": "rgba(213,62,79,0.75)",
          "layer": "below",
          "line": {
           "color": "rgb(175, 175, 175)",
           "width": 0.5
          },
          "path": "M 0.9997651526147238,0.02167117018663315 Q -0.14359965985683562, 0.1392089712949604 0.009375099468390899, -0.9999560527893002L 0.009375099468390899, -0.9999560527893002 L 0.00024342366487594184, -0.9999999703724592 L -0.0088882724376001, -0.9999604985263543 M -0.0088882724376001,-0.9999604985263543 Q -0.14397204074711012, 0.1388238145388336 0.9989744086360391, 0.04527837110890709L 0.9989744086360391, 0.04527837110890709 L 0.9994394846167872, 0.033477105444329684 L 0.9997651526147238, 0.02167117018663315 ",
          "type": "path"
         },
         {
          "fillcolor": "rgba(213,62,79,0.75)",
          "layer": "below",
          "line": {
           "color": "rgb(175, 175, 175)",
           "width": 0.5
          },
          "path": "M 0.9999999703501354,0.00024351535510523892 Q -0.16172320536520582, 0.11766734825941932 0.3074880492875926, -0.9515519426417619L 0.3074880492875926, -0.9515519426417619 L 0.3071404544444044, -0.9516641956297844 L 0.3067928186216427, -0.9517763216440026 M 0.3067928186216427,-0.9517763216440026 Q -0.1620092638766989, 0.11727317859651519 0.9999829217265603, 0.0058443353096745325L 0.9999829217265603, 0.0058443353096745325 L 0.9999953672122222, 0.0030439372682524732 L 0.9999999703501354, 0.00024351535510523892 ",
          "type": "path"
         },
         {
          "fillcolor": "rgba(50,136,189,0.75)",
          "layer": "below",
          "line": {
           "color": "rgb(175, 175, 175)",
           "width": 0.5
          },
          "path": "M 0.8739690235383102,0.4859816312325936 Q -0.1935959363669291, -0.050205711051751284 0.9999999999998026, -6.283185325590418e-07L 0.9999999999998026, -6.283185325590418e-07 L 0.9956802048987627, -0.09284896107527449 L 0.9827582570277136, -0.18489512769094368 L 0.9613457952131843, -0.27534389774594664 L 0.9316278118521351, -0.363413841485988 L 0.8938610546750428, -0.44834408096373934 L 0.8483718085806801, -0.529400863623725 M 0.8483718085806801,-0.529400863623725 Q -0.19710960684764883, -0.03387923978434748 0.6229187010081774, 0.7822865791602749L 0.6229187010081774, 0.7822865791602749 L 0.7192685477277928, 0.69473214712546 L 0.8034274603813727, 0.5954026502335523 L 0.8739690235383102, 0.4859816312325936 ",
          "type": "path"
         },
         {
          "fillcolor": "rgba(244,109,67,0.75)",
          "layer": "below",
          "line": {
           "color": "rgb(175,175,175)",
           "width": 0.5
          },
          "path": "M -0.5880411554742166,0.8088310079791379 Q -0.12585583669958827, 0.15543586577314317 -0.6688166450989107, 0.7434273974226654L -0.6688166450989107, 0.7434273974226654 L -0.6292791834979413, 0.7771793288657157 L -0.5880411554742166, 0.8088310079791379 ",
          "type": "path"
         },
         {
          "fillcolor": "rgba(244,109,67,0.75)",
          "layer": "below",
          "line": {
           "color": "rgb(175, 175, 175)",
           "width": 0.5
          },
          "path": "M -0.7663397609593062,0.6424354993093341 Q -0.19709305502374283, 0.03397539788446758 -0.9372069241475863, -0.34877382546547325L -0.9372069241475863, -0.34877382546547325 L -0.971544023723728, -0.23685905084397407 L -0.9925671294807354, -0.12169837087805596 M -0.9925671294807354,-0.12169837087805596 Q -0.19763981150040644, 0.030635027502579668 -0.9091483104870846, 0.4164725075421903L -0.9091483104870846, 0.4164725075421903 L -0.8453282722125626, 0.5342472388306033 L -0.7663397609593062, 0.6424354993093341 ",
          "type": "path"
         },
         {
          "fillcolor": "rgba(244,109,67,0.75)",
          "layer": "below",
          "line": {
           "color": "rgb(175, 175, 175)",
           "width": 0.5
          },
          "path": "M -0.5183031885169904,0.8551969391743174 Q -0.19250210565431472, 0.05424886467618522 -0.8885784129364934, -0.45872475850259326L -0.8885784129364934, -0.45872475850259326 L -0.8972382514266694, -0.44154673611840095 L -0.9055660424470413, -0.42420530732983924 M -0.9055660424470413,-0.42420530732983924 Q -0.1936812075693698, 0.049875743949044954 -0.5880411554742166, 0.8088310079791379L -0.5880411554742166, 0.8088310079791379 L -0.5536577478589393, 0.8327443174442964 L -0.5183031885169904, 0.8551969391743174 ",
          "type": "path"
         },
         {
          "fillcolor": "rgba(244,109,67,0.75)",
          "layer": "below",
          "line": {
           "color": "rgb(175, 175, 175)",
           "width": 0.5
          },
          "path": "M -0.3452344616220627,0.9385164710906914 Q -0.19453153580210725, 0.04644869835069092 -0.7320019946667107, -0.6813024877423807L -0.7320019946667107, -0.6813024877423807 L -0.732084942849673, -0.6812133560440452 L -0.7321678801795776, -0.6811242142468169 M -0.7321678801795776,-0.6811242142468169 Q -0.19457668738494313, 0.04625919072251611 -0.34729051844731806, 0.9377575890370565L -0.34729051844731806, 0.9377575890370565 L -0.3462626979339774, 0.9381375933302551 L -0.3452344616220627, 0.9385164710906914 ",
          "type": "path"
         },
         {
          "fillcolor": "rgba(230,245,152,0.75)",
          "layer": "below",
          "line": {
           "color": "rgb(175, 175, 175)",
           "width": 0.5
          },
          "path": "M -0.4085970167701012,0.9127148940860852 Q -0.19955334385571377, -0.013359002807218162 -0.2832937399195361, -0.959033188644899L -0.2832937399195361, -0.959033188644899 L -0.32780732820507685, -0.9447445980660852 L -0.37160445313560087, -0.9283911516218748 M -0.37160445313560087,-0.9283911516218748 Q -0.19980360910293096, -0.008861026432821698 -0.45232977999907426, 0.8918507555224636L -0.45232977999907426, 0.8918507555224636 L -0.4305897878704378, 0.9025477464276842 L -0.4085970167701012, 0.9127148940860852 ",
          "type": "path"
         },
         {
          "fillcolor": "rgba(244,109,67,0.75)",
          "layer": "below",
          "line": {
           "color": "rgb(175, 175, 175)",
           "width": 0.5
          },
          "path": "M -0.34729051844731806,0.9377575890370565 Q -0.19621680549573922, -0.0387164724768056 0.034937202253887176, -0.9993895096000713L 0.034937202253887176, -0.9993895096000713 L 0.022157961634091426, -0.9997544822286231 L 0.009375099468390899, -0.9999560527893002 M 0.009375099468390899,-0.9999560527893002 Q -0.19607407557152187, -0.039432941670298156 -0.37792568405721627, 0.9258359343479196L -0.37792568405721627, 0.9258359343479196 L -0.36265709224611364, 0.9319226542173947 L -0.34729051844731806, 0.9377575890370565 ",
          "type": "path"
         },
         {
          "fillcolor": "rgba(244,109,67,0.75)",
          "layer": "below",
          "line": {
           "color": "rgb(175, 175, 175)",
           "width": 0.5
          },
          "path": "M -0.6688166450989107,0.7434273974226654 Q -0.1720409841697632, -0.10198970421517695 0.3312556022390065, -0.9435410568625369L 0.3312556022390065, -0.9435410568625369 L 0.32515996256713026, -0.9456590287959727 L 0.319050782379854, -0.9477376210021438 M 0.319050782379854,-0.9477376210021438 Q -0.16518831626116273, -0.11275114265852067 -0.7663397609593062, 0.6424354993093341L -0.7663397609593062, 0.6424354993093341 L -0.7193527078795338, 0.6946450040606225 L -0.6688166450989107, 0.7434273974226654 ",
          "type": "path"
         },
         {
          "fillcolor": "rgba(50,136,189,0.75)",
          "layer": "below",
          "line": {
           "color": "rgb(175, 175, 175)",
           "width": 0.5
          },
          "path": "M -0.37792568405721627,0.9258359343479196 Q -0.1808020911314206, -0.08550206922937881 0.4758402695454269, -0.8795317151069286L 0.4758402695454269, -0.8795317151069286 L 0.45883308894575736, -0.8885224794502921 L 0.44165610429794155, -0.8971844211400273 M 0.44165610429794155,-0.8971844211400273 Q -0.18102012138224097, -0.0850394946760548 -0.4085970167701012, 0.9127148940860852L -0.4085970167701012, 0.9127148940860852 L -0.39331606902536104, 0.9194033227297134 L -0.37792568405721627, 0.9258359343479196 ",
          "type": "path"
         },
         {
          "fillcolor": "rgba(253,174,97,0.75)",
          "layer": "below",
          "line": {
           "color": "rgb(175,175,175)",
           "width": 0.5
          },
          "path": "M -0.9995293055853302,0.030678449701829688 Q -0.19979156393734354, -0.009128580364458558 -0.9925671294807354, -0.12169837087805596L -0.9925671294807354, -0.12169837087805596 L -0.9989578196867176, -0.04564290182229279 L -0.9995293055853302, 0.030678449701829688 ",
          "type": "path"
         },
         {
          "fillcolor": "rgba(253,174,97,0.75)",
          "layer": "below",
          "line": {
           "color": "rgb(175, 175, 175)",
           "width": 0.5
          },
          "path": "M -0.9097561051151629,0.4151431430310377 Q -0.1999975079983013, -0.0009983959482152782 -0.9055660424470413, -0.42420530732983924L -0.9055660424470413, -0.42420530732983924 L -0.9132117349330152, -0.40748537051117834 L -0.9205487500714105, -0.3906276983803937 M -0.9205487500714105,-0.3906276983803937 Q -0.19999535098813312, -0.0013636653304399257 -0.9257898888958132, 0.37803846579187944L -0.9257898888958132, 0.37803846579187944 L -0.9179604911436499, 0.39667182493757874 L -0.9097561051151629, 0.4151431430310377 ",
          "type": "path"
         },
         {
          "fillcolor": "rgba(255,255,191,0.75)",
          "layer": "below",
          "line": {
           "color": "rgb(175, 175, 175)",
           "width": 0.5
          },
          "path": "M -0.909148572164299,0.4164719363073776 Q -0.1973676136772592, -0.03234231085349614 -0.7286751819761298, -0.6848594594309508L -0.7286751819761298, -0.6848594594309508 L -0.7293419297636183, -0.6841493619734518 L -0.7300079855580399, -0.6834386154011878 M -0.7300079855580399,-0.6834386154011878 Q -0.1973754836098282, -0.032294248246188366 -0.9097561051151629, 0.4151431430310377L -0.9097561051151629, 0.4151431430310377 L -0.9094525813258043, 0.4158076506268629 L -0.909148572164299, 0.4164719363073776 ",
          "type": "path"
         },
         {
          "fillcolor": "rgba(230,245,152,0.75)",
          "layer": "below",
          "line": {
           "color": "rgb(175, 175, 175)",
           "width": 0.5
          },
          "path": "M -0.9257898888958132,0.37803846579187944 Q -0.1841192663463271, -0.07810310979781962 -0.37160445313560087, -0.9283911516218748L -0.37160445313560087, -0.9283911516218748 L -0.4053719400561718, -0.9141518419907578 L -0.43859501201059536, -0.8986848254195826 M -0.43859501201059536,-0.8986848254195826 Q -0.18525908687142217, -0.07535960941755776 -0.9413837054068979, 0.3373376931123752L -0.9413837054068979, 0.3373376931123752 L -0.9338085703395013, 0.3577730481191906 L -0.9257898888958132, 0.37803846579187944 ",
          "type": "path"
         },
         {
          "fillcolor": "rgba(253,174,97,0.75)",
          "layer": "below",
          "line": {
           "color": "rgb(175, 175, 175)",
           "width": 0.5
          },
          "path": "M -0.9565484391884432,0.29157346156012404 Q -0.1559860199680287, -0.1251733261303452 0.07748170559404778, -0.9969937739515916L 0.07748170559404778, -0.9969937739515916 L 0.0562222162294846, -0.9984182802824901 L 0.034937202253887176, -0.9993895096000713 M 0.034937202253887176,-0.9993895096000713 Q -0.15462045375512357, -0.1268562780494513 -0.9733042089920976, 0.22951888104961485L -0.9733042089920976, 0.22951888104961485 L -0.9654250378268349, 0.2606808323161765 L -0.9565484391884432, 0.29157346156012404 ",
          "type": "path"
         },
         {
          "fillcolor": "rgba(253,174,97,0.75)",
          "layer": "below",
          "line": {
           "color": "rgb(175, 175, 175)",
           "width": 0.5
          },
          "path": "M -0.9413837054068979,0.3373376931123752 Q -0.1432262659171262, -0.13959311140395378 0.31304395572980265, -0.9497386386691011L 0.31304395572980265, -0.9497386386691011 L 0.3111931655943302, -0.9503466807893737 L 0.3093411944374301, -0.9509511162115664 M 0.3093411944374301,-0.9509511162115664 Q -0.14009798513986255, -0.1427324579755805 -0.9565484391884432, 0.29157346156012404L -0.9565484391884432, 0.29157346156012404 L -0.9492419067837553, 0.31454697964777906 L -0.9413837054068979, 0.3373376931123752 ",
          "type": "path"
         },
         {
          "fillcolor": "rgba(50,136,189,0.75)",
          "layer": "below",
          "line": {
           "color": "rgb(175, 175, 175)",
           "width": 0.5
          },
          "path": "M -0.9892027010994698,0.14655379946460934 Q -0.0945678417515638, -0.17622974580487594 0.6689977589010302, -0.7432644203682826L 0.6689977589010302, -0.7432644203682826 L 0.5943261299952821, -0.8042241299568367 L 0.5141320593259266, -0.8577110385049745 M 0.5141320593259266,-0.8577110385049745 Q -0.10123469609933929, -0.17248633657676896 -0.9995293055853302, 0.030678449701829688L -0.9995293055853302, 0.030678449701829688 L -0.9960524698899147, 0.08876641947381075 L -0.9892027010994698, 0.14655379946460934 ",
          "type": "path"
         },
         {
          "fillcolor": "rgba(254,224,139,0.75)",
          "layer": "below",
          "line": {
           "color": "rgb(175,175,175)",
           "width": 0.5
          },
          "path": "M -0.8885784129364934,-0.45872475850259326 Q -0.17559254984860173, -0.0957457907046901 -0.8668968134562246, -0.49848762754901327L -0.8668968134562246, -0.49848762754901327 L -0.8779627492430087, -0.47872895352345046 L -0.8885784129364934, -0.45872475850259326 ",
          "type": "path"
         },
         {
          "fillcolor": "rgba(255,255,191,0.75)",
          "layer": "below",
          "line": {
           "color": "rgb(175, 175, 175)",
           "width": 0.5
          },
          "path": "M -0.9372067050063436,-0.3487744143298822 Q -0.17009845238324373, -0.10519751183761611 -0.7306733487274466, -0.6827272203885086L -0.7306733487274466, -0.6827272203885086 L -0.7310057703804653, -0.682371279927916 L -0.7313380186405478, -0.6820151776103797 M -0.7313380186405478,-0.6820151776103797 Q -0.17012406445817274, -0.10515608728091537 -0.9370367302248006, -0.34923082081857293L -0.9370367302248006, -0.34923082081857293 L -0.9371217454010342, -0.3490026279220821 L -0.9372067050063436, -0.3487744143298822 ",
          "type": "path"
         },
         {
          "fillcolor": "rgba(230,245,152,0.75)",
          "layer": "below",
          "line": {
           "color": "rgb(175, 175, 175)",
           "width": 0.5
          },
          "path": "M -0.933939216416877,-0.3574318676875773 Q -0.15503663531466133, -0.1263473059083917 -0.5385626783100497, -0.8425854505814268L -0.5385626783100497, -0.8425854505814268 L -0.545214167856195, -0.8382967918159276 L -0.5518315079635377, -0.8339556264086765 M -0.5518315079635377,-0.8339556264086765 Q -0.1553898532652548, -0.1259126423446136 -0.9302347518636281, -0.36696499346015843L -0.9302347518636281, -0.36696499346015843 L -0.9320991718295969, -0.36220316657171797 L -0.933939216416877, -0.3574318676875773 ",
          "type": "path"
         },
         {
          "fillcolor": "rgba(171,221,164,0.75)",
          "layer": "below",
          "line": {
           "color": "rgb(175, 175, 175)",
           "width": 0.5
          },
          "path": "M -0.9255134994115093,-0.37871461868676554 Q -0.11220753604158776, -0.16555805282581634 -0.0088882724376001, -0.9999604985263543L -0.0088882724376001, -0.9999604985263543 L -0.017775751340128158, -0.9998419988499653 L -0.026661825934774744, -0.99964451033246 M -0.026661825934774744,-0.99964451033246 Q -0.11261036153650468, -0.16528432011118813 -0.9205487500714105, -0.3906276983803937L -0.9205487500714105, -0.3906276983803937 L -0.9230503440270369, -0.38467916812789443 L -0.9255134994115093, -0.37871461868676554 ",
          "type": "path"
         },
         {
          "fillcolor": "rgba(254,224,139,0.75)",
          "layer": "below",
          "line": {
           "color": "rgb(175, 175, 175)",
           "width": 0.5
          },
          "path": "M -0.8668968134562246,-0.49848762754901327 Q -0.06739880149747611, -0.1883013583506604 0.3536761584175691, -0.9353679356098276L 0.3536761584175691, -0.9353679356098276 L 0.3424902614188931, -0.9395213785929611 L 0.3312556022390065, -0.9435410568625369 M 0.3312556022390065,-0.9435410568625369 Q -0.047915951256877407, -0.19417533729891795 -0.7321683081423987, -0.6811237542120355L -0.7321683081423987, -0.6811237542120355 L -0.804730578808164, -0.5936402071381935 L -0.8668968134562246, -0.49848762754901327 ",
          "type": "path"
         },
         {
          "fillcolor": "rgba(50,136,189,0.75)",
          "layer": "below",
          "line": {
           "color": "rgb(175, 175, 175)",
           "width": 0.5
          },
          "path": "M -0.9370367302248006,-0.34923082081857293 Q -0.07544984981321487, -0.18522235330316728 0.42629921117446395, -0.9045822143686165L 0.42629921117446395, -0.9045822143686165 L 0.4187951784738293, -0.9080807224509688 L 0.41126243733624795, -0.9115169815402502 M 0.41126243733624795,-0.9115169815402502 Q -0.07617094779397389, -0.18492697670206937 -0.933939216416877, -0.3574318676875773L -0.933939216416877, -0.3574318676875773 L -0.935496960187668, -0.3533347385690128 L -0.9370367302248006, -0.34923082081857293 ",
          "type": "path"
         },
         {
          "fillcolor": "rgba(255,255,191,0.75)",
          "layer": "below",
          "line": {
           "color": "rgb(175,175,175)",
           "width": 0.5
          },
          "path": "M -0.7219697839797232,-0.6919245847780463 Q -0.12876679648178208, -0.15303304258825712 -0.5583137958021572, -0.829629860490199L -0.5583137958021572, -0.829629860490199 L -0.6438339824089103, -0.7651652129412856 L -0.7219697839797232, -0.6919245847780463 ",
          "type": "path"
         },
         {
          "fillcolor": "rgba(230,245,152,0.75)",
          "layer": "below",
          "line": {
           "color": "rgb(175, 175, 175)",
           "width": 0.5
          },
          "path": "M -0.7321678801795776,-0.6811242142468169 Q -0.12988127681604672, -0.1520883096514438 -0.5581112304501754, -0.8297661444319062L -0.5581112304501754, -0.8297661444319062 L -0.5582122566279267, -0.8296981840105218 L -0.5583132745302322, -0.8296302112889391 M -0.5583132745302322,-0.8296302112889391 Q -0.12989979375728958, -0.15207249449461147 -0.7321678801795776, -0.6811242142468169L -0.7321678801795776, -0.6811242142468169 L -0.7321678801795776, -0.6811242142468169 L -0.7321678801795776, -0.6811242142468169 ",
          "type": "path"
         },
         {
          "fillcolor": "rgba(171,221,164,0.75)",
          "layer": "below",
          "line": {
           "color": "rgb(175, 175, 175)",
           "width": 0.5
          },
          "path": "M -0.7261687255162427,-0.6875165322245828 Q -0.08149709896160448, -0.18264233589407045 -0.026661825934774744, -0.99964451033246L -0.026661825934774744, -0.99964451033246 L -0.03226023282994622, -0.9994795032304352 L -0.03785762774138588, -0.9992831430689676 M -0.03785762774138588,-0.9992831430689676 Q -0.08196383220405645, -0.18243335827206952 -0.7219697839797232, -0.6919245847780463L -0.7219697839797232, -0.6919245847780463 L -0.7240726092065131, -0.6897237538296562 L -0.7261687255162427, -0.6875165322245828 ",
          "type": "path"
         },
         {
          "fillcolor": "rgba(255,255,191,0.75)",
          "layer": "below",
          "line": {
           "color": "rgb(175, 175, 175)",
           "width": 0.5
          },
          "path": "M -0.7286751819761298,-0.6848594594309508 Q -0.04978137780256639, -0.1937054837222688 0.30818311584974867, -0.9513270558042278L 0.30818311584974867, -0.9513270558042278 L 0.30783560310483093, -0.9514395626949118 L 0.3074880492875926, -0.9515519426417619 M 0.3074880492875926,-0.9515519426417619 Q -0.04949830366804993, -0.1937780119982283 -0.7261687255162427, -0.6875165322245828L -0.7261687255162427, -0.6875165322245828 L -0.7274231669399019, -0.6861891402515224 L -0.7286751819761298, -0.6848594594309508 ",
          "type": "path"
         },
         {
          "fillcolor": "rgba(255,255,191,0.75)",
          "layer": "below",
          "line": {
           "color": "rgb(175, 175, 175)",
           "width": 0.5
          },
          "path": "M -0.7306733487274466,-0.6827272203885086 Q -0.0398387208157165, -0.19599203127619091 0.40615074177898985, -0.9138060926434974L 0.40615074177898985, -0.9138060926434974 L 0.40615074177898985, -0.9138060926434974 L 0.40615074177898985, -0.9138060926434974 M 0.40615074177898985,-0.9138060926434974 Q -0.039743262186079896, -0.19601141066480932 -0.7300079855580399, -0.6834386154011878L -0.7300079855580399, -0.6834386154011878 L -0.7303407537603411, -0.6830829989077292 L -0.7306733487274466, -0.6827272203885086 ",
          "type": "path"
         },
         {
          "fillcolor": "rgba(230,245,152,0.75)",
          "layer": "below",
          "line": {
           "color": "rgb(175,175,175)",
           "width": 0.5
          },
          "path": "M -0.5239149648910297,-0.8517705733137481 Q -0.10091948378630666, -0.17267095236983374 -0.48502385991798236, -0.8745009178441504L -0.48502385991798236, -0.8745009178441504 L -0.5045974189315333, -0.8633547618491686 L -0.5239149648910297, -0.8517705733137481 ",
          "type": "path"
         },
         {
          "fillcolor": "rgba(230,245,152,0.75)",
          "layer": "below",
          "line": {
           "color": "rgb(175, 175, 175)",
           "width": 0.5
          },
          "path": "M -0.5581112304501754,-0.8297661444319062 Q -0.06196086609797113, -0.1901600669761906 -0.03785762774138588, -0.9992831430689676L -0.03785762774138588, -0.9992831430689676 L -0.04102085863158141, -0.9991582903409889 L -0.04418367842640711, -0.9990234244304343 M -0.04418367842640711,-0.9990234244304343 Q -0.06184508714127523, -0.19019775286918633 -0.5518315079635377, -0.8339556264086765L -0.5518315079635377, -0.8339556264086765 L -0.5549753224956417, -0.831866811106717 L -0.5581112304501754, -0.8297661444319062 ",
          "type": "path"
         },
         {
          "fillcolor": "rgba(230,245,152,0.75)",
          "layer": "below",
          "line": {
           "color": "rgb(175, 175, 175)",
           "width": 0.5
          },
          "path": "M -0.5385626783100497,-0.8425854505814268 Q -0.024339772266612634, -0.19851341386921298 0.319050782379854, -0.9477376210021438L 0.319050782379854, -0.9477376210021438 L 0.3160489527025912, -0.9487428837654569 L 0.31304395572980265, -0.9497386386691011 M 0.31304395572980265,-0.9497386386691011 Q -0.023251736351108287, -0.19864379365250392 -0.5239149648910297, -0.8517705733137481L -0.5239149648910297, -0.8517705733137481 L -0.5312586725837348, -0.8472096687388359 L -0.5385626783100497, -0.8425854505814268 ",
          "type": "path"
         },
         {
          "fillcolor": "rgba(230,245,152,0.75)",
          "layer": "below",
          "line": {
           "color": "rgb(175, 175, 175)",
           "width": 0.5
          },
          "path": "M -0.48502385991798236,-0.8745009178441504 Q 0.003360338258266167, -0.19997176832440633 0.5141320593259266, -0.8577110385049745L 0.5141320593259266, -0.8577110385049745 L 0.49510639105608867, -0.8688323552535411 L 0.4758402695454269, -0.8795317151069286 M 0.4758402695454269,-0.8795317151069286 Q 0.004188139018089712, -0.19995614392052363 -0.43859501201059536, -0.8986848254195826L -0.43859501201059536, -0.8986848254195826 L -0.46196771585475455, -0.8868967411756234 L -0.48502385991798236, -0.8745009178441504 ",
          "type": "path"
         },
         {
          "fillcolor": "rgba(171,221,164,0.75)",
          "layer": "below",
          "line": {
           "color": "rgb(175,175,175)",
           "width": 0.5
          },
          "path": "M 0.07748170559404778,-0.9969937739515916 Q 0.038644728475869805, -0.19623094802050542 0.3063286424128902, -0.9519258179277814L 0.3063286424128902, -0.9519258179277814 L 0.19322364237934903, -0.981154740102527 L 0.07748170559404778, -0.9969937739515916 ",
          "type": "path"
         },
         {
          "fillcolor": "rgba(171,221,164,0.75)",
          "layer": "below",
          "line": {
           "color": "rgb(175, 175, 175)",
           "width": 0.5
          },
          "path": "M -0.04880545593129362,-0.9988083036655926 Q 0.026489466100687593, -0.1982380089329504 0.3093411944374301, -0.9509511162115664L 0.3093411944374301, -0.9509511162115664 L 0.3087622123601892, -0.9511392622631248 L 0.30818311584974867, -0.9513270558042278 M 0.30818311584974867,-0.9513270558042278 Q 0.026827345478069253, -0.19819256679956573 -0.04418367842640711, -0.9990234244304343L -0.04418367842640711, -0.9990234244304343 L -0.04649469159360557, -0.9989185370457471 L -0.04880545593129362, -0.9988083036655926 ",
          "type": "path"
         },
         {
          "fillcolor": "rgba(50,136,189,0.75)",
          "layer": "below",
          "line": {
           "color": "rgb(175, 175, 175)",
           "width": 0.5
          },
          "path": "M -0.052939847877147415,-0.9985977030349832 Q 0.040172749688128534, -0.1959238377086744 0.44165610429794155, -0.8971844211400273L 0.44165610429794155, -0.8971844211400273 L 0.43399342074548125, -0.9009160397893 L 0.42629921117446395, -0.9045822143686165 M 0.42629921117446395,-0.9045822143686165 Q 0.03890759452237985, -0.19617899757232446 -0.04880545593129362, -0.9988083036655926L -0.04880545593129362, -0.9988083036655926 L -0.050872760883643765, -0.9987051427724178 L -0.052939847877147415, -0.9985977030349832 ",
          "type": "path"
         },
         {
          "fillcolor": "rgba(102,194,165,0.75)",
          "layer": "below",
          "line": {
           "color": "rgb(175,175,175)",
           "width": 0.5
          },
          "path": "M 0.3536761584175691,-0.9353679356098276 Q 0.07601321910059278, -0.18499186609676999 0.40615016761760836, -0.9138063478353543L 0.40615016761760836, -0.9138063478353543 L 0.38006609550296383, -0.9249593304838499 L 0.3536761584175691, -0.9353679356098276 ",
          "type": "path"
         },
         {
          "fillcolor": "rgba(50,136,189,0.75)",
          "layer": "below",
          "line": {
           "color": "rgb(175, 175, 175)",
           "width": 0.5
          },
          "path": "M 0.30632924052546,-0.9519256254556313 Q 0.07187285124714757, -0.18663947399627284 0.41126243733624795, -0.9115169815402502L 0.41126243733624795, -0.9115169815402502 L 0.4087081921802287, -0.9126651158254978 L 0.40615074177898985, -0.9138060926434974 M 0.40615074177898985,-0.9138060926434974 Q 0.07139539611257018, -0.18682263624606416 0.3067928186216427, -0.9517763216440026L 0.3067928186216427, -0.9517763216440026 L 0.3065610386629437, -0.9518510017717569 L 0.30632924052546, -0.9519256254556313 ",
          "type": "path"
         },
         {
          "fillcolor": "rgba(50,136,189,0.75)",
          "layer": "below",
          "line": {
           "color": "rgb(175,175,175)",
           "width": 0.5
          },
          "path": "M 0.6689977589010302,-0.7432644203682826 Q 0.15323668050512787, -0.12852439359035844 0.8483718085806801, -0.529400863623725L 0.8483718085806801, -0.529400863623725 L 0.7661834025256393, -0.6426219679517922 L 0.6689977589010302, -0.7432644203682826 ",
          "type": "path"
         },
         {
          "fillcolor": "rgba(213,62,79,0.75)",
          "layer": "below",
          "line": {
           "color": "rgb(150,150,150)",
           "width": 0.45
          },
          "path": "M 1.1, 0.0 L 1.0997924295096861, 0.021368481302664256 L 1.0991697963760323, 0.042728898121435314 L 1.0981323355813382, 0.0640731890159634 L 1.0966804386642328, 0.08539329863183687 L 1.0948146535719068, 0.10668118074068028 L 1.0925356844533176, 0.12792880127680803 L 1.089844391393442, 0.14912814136928795 L 1.08674179008868, 0.17027120036827034 L 1.0832290514635299, 0.19134999886444037 L 1.0793075012286806, 0.2123565817004543 L 1.0749786193806865, 0.2332830209732228 L 1.0702440396434163, 0.2541214190259089 L 1.0651055488514836, 0.27486391142851047 L 1.059565086275894, 0.29550266994590324 L 1.0536247428921628, 0.3160299054922237 L 1.0472867605911789, 0.33643787107047707 L 1.0405535313331127, 0.35671886469626085 L 1.0334275962446886, 0.37686523230450053 L 1.0259116446601617, 0.3968693706381006 L 1.0180085131063608, 0.4167237301174208 L 1.009721184232179, 0.43642081768949387 L 1.0010527856829217, 0.4559531996559105 L 0.9920065889199293, 0.47531350447830384 L 0.9825860079859244, 0.4944944255603747 L 0.97279459821655, 0.513488724005407 L 0.9626360548985818, 0.5322892313482349 L 0.9521142118753242, 0.5508888522606267 L 0.941233040099714, 0.5692805672290691 L 0.9299966461356797, 0.5874574352039368 L 0.9184092706083204, 0.6054125962190522 L 0.9064752866034901, 0.6231392739806412 L 0.8941991980173911, 0.6406307784247138 L 0.8815856378567997, 0.6578805082418995 L 0.8686393664905652, 0.6748819533687872 L 0.8553652698530424, 0.6916286974448299 L 0.8417683576001364, 0.7081144202338837 L 0.8278537612186522, 0.7243329000094716 L 0.8136267320896691, 0.7402780159028675 L 0.7990926395066633, 0.7559437502131187 L 0.7842569686491329, 0.7713241906781307 L 0.7691253185124847, 0.7864135327059607 L 0.7537033997949703, 0.8012060815654756 L 0.7379970327424615, 0.8156962545355486 L 0.7220121449518863, 0.8298785830119828 L 0.7057547691341468, 0.8437477145713684 L 0.68923104083737, 0.8572984149910905 L 0.6724471961313454, 0.8705255702247305 L 0.6554095692540276, 0.8834241883321117 L 0.6381245902209889, 0.8959894013632612 L 0.6205987823987253, 0.9082164671955799 L 0.6028387600427334, 0.920100771323522 L 0.5848512258012825, 0.9316378286001152 L 0.566642968185831, 0.9428232849296582 L 0.5482208590090354, 0.9536529189109607 L 0.5295918507913218, 0.9641226434305039 L 0.510762974136999, 0.9742285072049203 L 0.4917413350809021, 0.9839666962722123 L 0.4725341124065681, 0.9933335354311447 L 0.45314855493695694, 1.0023254896282683 L 0.4335919787987399, 1.0109391652920532 L 0.4138717646611857, 1.0191713116136247 L 0.39399535495068994, 1.0270188217736227 L 0.3739702510419966, 1.0344787341147164 L 0.3538040104271733, 1.0415482332593382 L 0.33350424386340555, 1.0482246511722086 L 0.3130786125006912, 1.0545054681672552 L 0.292534824990516, 1.060388313858545 L 0.27188063457660044, 1.06587096805487 L 0.2511238361688195, 1.070951361597648 L 0.23027226340139637, 1.0756275771418276 L 0.20933378567648267, 1.0798978498794933 L 0.18831630519423778, 1.0837605682059073 L 0.16722775397053238, 1.0872142743277295 L 0.1460760908433981, 1.0902576648131905 L 0.12486929846935582, 1.0928895910840084 L 0.10361538031075274, 1.095109059848862 L 0.08232235761524934, 1.0969152334782608 L 0.06099826638859297, 1.0983074303206668 L 0.03965115436182306, 1.0992851249597508 L 0.01828907795404878, 1.0998479484126844 L -0.0030799007680499453, 1.0999956882693946 L -0.024447717132852893, 1.0997282887727278 L -0.04580630690741525, 1.0990458508394925 L -0.06714760934091535, 1.0979486320223728 L -0.08846357020678967, 1.0964370464127289 L -0.10974614484240423, 1.094511664484317 L -0.13098730118511875, 1.0921732128779935 L -0.15217902280359347, 1.0894225741274794 L -0.1733133119231978, 1.0862607863262912 L -0.1943821924443767, 1.0826890427359637 L -0.2153777129528393, 1.078708691335712 L -0.23629194972042858, 1.0743212343137032 L -0.257117009695544, 1.0695283275001284 L -0.2778450334819855, 1.064331779742292 L -0.29846819830509763, 1.0587335522219503 L -0.3189787209640912, 1.0527357577151601 L -0.3393688607694295, 1.0463406597949159 L -0.35963092246417294, 1.039550671976873 L -0.3797572591281749, 1.0323683568084874 L -0.3452338719347044, 0.9385166880077158 L -0.3269372022401572, 0.9450460654335209 L -0.3085171461540268, 0.9512187816317416 L -0.28998065542190105, 0.957032507013782 L -0.2713347257319069, 0.9624850474745001 L -0.25258639407453226, 0.9675743452202653 L -0.2337427360868582, 0.9722984795455711 L -0.21481086338220778, 0.9766556675579119 L -0.19579792086621753, 0.9806442648506473 L -0.17671108404034244, 0.9842627661236033 L -0.15755755629381615, 0.9875098057511738 L -0.13834456618508495, 0.9903841582977085 L -0.1190793647137443, 0.9928847389799941 L -0.09976922258400384, 0.9950106040766518 L -0.08042142746071788, 0.9967609512842989 L -0.06104328121901395, 0.9981351200203389 L -0.04164209718855932, 0.9991325916722658 L -0.02222519739350263, 0.9997529897933889 L -0.0027999097891363138, 0.9999960802449042 L 0.016626434503680707, 0.9998617712842585 L 0.036046503965293686, 0.9993501135997734 L 0.05545296944417542, 0.9984613002915153 L 0.07483850692295393, 0.9971956667984188 L 0.09419580028250248, 0.9955536907716925 L 0.11351754406305074, 0.993535991894553 L 0.132796446221271, 0.991143331648355 L 0.15202523088230216, 0.9883766130252085 L 0.1711966410856707, 0.9852368801871884 L 0.19030344152407513, 0.9817253180722666 L 0.20933842127399668, 0.9778432519471159 L 0.22829439651710862, 0.9735921469069526 L 0.2471642132514549, 0.9689736073226088 L 0.2659407499913781, 0.9639893762350409 L 0.2846169204551738, 0.9586413346975047 L 0.3031856762394596, 0.9529315010656441 L 0.3216400094792484, 0.946862030235762 L 0.33997295549272416, 0.9404352128315603 L 0.3581775954097181, 0.9336534743396568 L 0.37624705878289605, 0.9265193741942043 L 0.3941745261806726, 0.9190356048109574 L 0.4119532317608699, 0.911204990571153 L 0.4295764658241528, 0.903030486755586 L 0.44703757734627464, 0.8945151784292839 L 0.4643299764881809, 0.8856622792772002 L 0.4814471370830197, 0.8764751303913672 L 0.4983825990991231, 0.8669571990099643 L 0.5151299710780282, 0.8571120772087801 L 0.5316829325466204, 0.8469434805455592 L 0.5480352364024849, 0.8364552466577472 L 0.5641807112715684, 0.8256513338141634 L 0.5801132638372626, 0.8145358194211465 L 0.595826881140025, 0.8031128984837378 L 0.6113156328466776, 0.7913868820224822 L 0.6265736734885181, 0.7793621954464458 L 0.6415952446674061, 0.7670433768830621 L 0.6563746772289875, 0.7544350754654389 L 0.6709063934022377, 0.7415420495777714 L 0.6851849089045183, 0.7283691650595232 L 0.6992048350113497, 0.7149213933690551 L 0.7129608805901207, 0.7012038097073915 L 0.7264478540969665, 0.6872215911028351 L 0.7396606655360627, 0.6729800144571522 L 0.7525943283805928, 0.658484454554065 L 0.7652439614546693, 0.6437403820308033 L 0.777604790775493, 0.6287533613134817 L 0.7896721513550592, 0.6135290485170792 L 0.8014414889607269, 0.5980731893108177 L 0.8129083618339918, 0.5823916167497398 L 0.8240684423668091, 0.5664902490733101 L 0.8349175187348367, 0.5503750874718656 L 0.8454514964869815, 0.5340522138217607 L 0.855666400090649, 0.5175277883900627 L 0.8655583744321128, 0.5008080475096606 L 0.875123686271438, 0.48389930122566804 L 0.884358725651409, 0.46680793091400635 L 0.8932600072599313, 0.44954038687306785 L 0.9018241717453902, 0.4321031858893671 L 0.9100479869844742, 0.4145029087781004 L 0.9179283493019808, 0.39674619789953985 L 0.925462284642146, 0.3788397546522007 L 0.9326469496910561, 0.3607903369437278 L 0.9394796329497168, 0.342604756640455 L 0.9459577557573751, 0.3242898769966007 L 0.952078873264708, 0.30585261006407005 L 0.9578406753565116, 0.2872999140838397 L 0.9632409875235399, 0.268638790859912 L 0.9682777716831669, 0.24987628311682766 L 0.9729491269485603, 0.23101947184173535 L 0.9772532903460787, 0.2120754736120207 L 0.9811886374806187, 0.19305143790950388 L 0.9847536831486635, 0.1739545444222185 L 0.9879470818987999, 0.1547920003347912 L 0.9907676285394926, 0.13557103760844358 L 0.993214258593925, 0.11629891025164366 L 0.9952860487017334, 0.09698289158243661 L 0.9969822169674843, 0.07763027148348806 L 0.998302123255762, 0.05824835365087581 L 0.9992452694327565, 0.038844452837668464 L 0.9998112995542601, 0.01942589209333114 L 1.0, 0.0 L 1.1 ,0.0",
          "type": "path"
         },
         {
          "fillcolor": "rgba(244,109,67,0.75)",
          "layer": "below",
          "line": {
           "color": "rgb(150,150,150)",
           "width": 0.45
          },
          "path": "M -0.37975790778426904, 1.0323681181997606 L -0.38797077926712153, 1.0293098048861977 L -0.39615902437263334, 1.0261861563128414 L -0.4043221233533786, 1.0229973707527382 L -0.4124595580580777, 1.0197436506134938 L -0.4205708119644863, 1.0164252024244247 L -0.42865537021218214, 1.013042236823449 L -0.43671271963524416, 1.0095949685437169 L -0.44474234879482766, 1.006083616399979 L -0.45274374801162637, 1.0025084032746983 L -0.460716409398225, 0.9988695561039026 L -0.4686598268913365, 0.9951673058627794 L -0.4765734962839253, 0.9914018875510151 L -0.48445691525721113, 0.9875735401778784 L -0.4923095834125538, 0.9836825067470489 L -0.5001310023032165, 0.9797290342411927 L -0.5079206754660024, 0.9757133736062862 L -0.5156781084527707, 0.971635779735685 L -0.5234028088618199, 0.967496511453947 L -0.5310942863691427, 0.9632958315004022 L -0.53875205275955, 0.9590340065124757 L -0.5463756219576598, 0.954711307008763 L -0.5539645100587514, 0.9503280073718589 L -0.5615182353594793, 0.945884385830941 L -0.5690363183884521, 0.9413807244441095 L -0.5765182819366647, 0.9368173090804828 L -0.5839636510877897, 0.9321944294020525 L -0.5913719532483229, 0.9275123788452981 L -0.5987427181775805, 0.9227714546025589 L -0.6060754780175484, 0.9179719576031724 L -0.6133697673225786, 0.9131141924943703 L -0.6206251230889331, 0.9081984676219438 L -0.6278410847841742, 0.9032250950106687 L -0.6350171943763956, 0.8981943903445019 L -0.6421529963632964, 0.8931066729465413 L -0.6492480378010937, 0.8879622657587595 L -0.6563018683332739, 0.882761495321502 L -0.663314040219178, 0.8775046917527626 L -0.6702841083624216, 0.8721921887272288 L -0.677211630339149, 0.8668243234551001 L -0.6840961664261147, 0.8614014366606859 L -0.6909372796285951, 0.8559238725607767 L -0.6977345357081265, 0.8503919788427955 L -0.7044875032100683, 0.8448061066427281 L -0.7111957534909894, 0.8391666105228354 L -0.7178588607458777, 0.8334738484491465 L -0.7244764020351648, 0.8277281817687389 L -0.7310479573115756, 0.8219299751867996 L -0.7375731094467883, 0.816079596743477 L -0.7440514442579131, 0.8101774177905194 L -0.7504825505337809, 0.8042238129677032 L -0.7568660200610463, 0.7982191601790526 L -0.763201447650097, 0.7921638405688537 L -0.7694884311607758, 0.786058238497459 L -0.7757265715279041, 0.7799027415168919 L -0.7819154727866132, 0.7736977403462462 L -0.7880547420974787, 0.7674436288468858 L -0.794143989771455, 0.761140803997444 L -0.8001828292946112, 0.7547896658686255 L -0.8061708773526655, 0.7483906175978116 L -0.8121077538553142, 0.7419440653634725 L -0.8179930819603604, 0.735450418359383 L -0.823826488097632, 0.7289100887686507 L -0.8296076019926952, 0.7223234917375524 L -0.8353360566903568, 0.7156910453491822 L -0.8410114885779573, 0.7090131705969139 L -0.8466335374084498, 0.70229029135768 L -0.8522018463232689, 0.6955228343650636 L -0.8577160618749803, 0.6887112291822135 L -0.8631758340497163, 0.6818559081745768 L -0.8685808162893934, 0.6749573064824554 L -0.8739306655137097, 0.6680158619933847 L -0.8792250421419212, 0.6610320153143394 L -0.8844636101143981, 0.6540062097437656 L -0.8896460369139545, 0.6469388912434426 L -0.8947719935869562, 0.6398305084101759 L -0.8998411547641998, 0.6326815124473225 L -0.9048531986815666, 0.6254923571361505 L -0.9098078072004456, 0.6182634988070353 L -0.914704665827928, 0.6109953963104948 L -0.9195434637367694, 0.6036885109880632 L -0.9243238937851184, 0.5963433066430087 L -0.9290456525360141, 0.5889602495108917 L -0.9337084402766463, 0.581539808229972 L -0.9383119610373786, 0.5740824538114618 L -0.9428559226105361, 0.5665886596096282 L -0.9473400365689526, 0.5590589012917472 L -0.9517640182842797, 0.5514936568079107 L -0.9561275869450514, 0.5438934063606888 L -0.9604304655745108, 0.5362586323746487 L -0.9646723810481893, 0.5285898194657341 L -0.9688530641112443, 0.5208874544105027 L -0.9729722493955498, 0.5131520261152286 L -0.9770296754365407, 0.5053840255848697 L -0.9810250846898085, 0.49758394589190075 L -0.9849582235474506, 0.4897522821450152 L -0.9888288423541652, 0.48188953145770014 L -0.992636695423101, 0.4739961929166795 L -0.9963815410514506, 0.4660727675502362 L -1.000063141535793, 0.45811975829640933 L -0.9091483104870846, 0.4164725075421903 L -0.9058014009558641, 0.42370251595476016 L -0.9023969958391826, 0.4309056299242541 L -0.8989353112310592, 0.43808139223427284 L -0.8954165668613187, 0.4452293474045592 L -0.8918409860816441, 0.45234904171990975 L -0.8882087958514006, 0.45944002325897243 L -0.884520226723227, 0.46650184192293503 L -0.8807755128284038, 0.4735340494640933 L -0.8769748918619902, 0.4805361995143037 L -0.8731186050677371, 0.4875078476133169 L -0.8692068972227739, 0.4944485512369898 L -0.8652400166220724, 0.5013578698253733 L -0.8612182150626841, 0.5082353648106792 L -0.85714174782776, 0.5150805996451165 L -0.8530108736703441, 0.5218931398286016 L -0.8488258547969512, 0.5286725529363381 L -0.8445869568509219, 0.5354184086462651 L -0.840294448895562, 0.5421302787663715 L -0.835948603397063, 0.5488077372618756 L -0.8315496962072072, 0.555450360282268 L -0.8270980065458596, 0.5620577261882139 L -0.8225938169832423, 0.5686294155783186 L -0.8180374134219998, 0.5751650113157477 L -0.8134290850790511, 0.5816640985547052 L -0.8087691244672313, 0.588126264766766 L -0.8040578273767255, 0.5945510997670596 L -0.799295492856292, 0.6009381957403085 L -0.7944824231942814, 0.6072871472667133 L -0.7896189238994485, 0.6135975513476867 L -0.7847053036815602, 0.6198690074314334 L -0.7797418744318002, 0.6261011174383758 L -0.7747289512029717, 0.6322934857864214 L -0.7696668521894998, 0.6384457194160726 L -0.7645558987072338, 0.6445574278153763 L -0.7593964151730516, 0.650628223044711 L -0.7541887290842684, 0.6566577197614112 L -0.7489331709978473, 0.6626455352442279 L -0.7436300745094184, 0.6685912894176208 L -0.7382797762321037, 0.674494604875884 L -0.7328826157751503, 0.6803551069071013 L -0.7274389357223737, 0.6861724235169322 L -0.7219490816104135, 0.6919461854522218 L -0.7164134019067988, 0.6976760262244416 L -0.7108322479878302, 0.703361582132951 L -0.7052059741162764, 0.7090024922880834 L -0.6995349374188871, 0.7145983986340536 L -0.6938194978637245, 0.7201489459716851 L -0.6880600182373148, 0.7256537819809569 L -0.6822568641216189, 0.7311125572433664 L -0.6764104038708301, 0.7365249252641085 L -0.6705210085879894, 0.7418905424940699 L -0.6645890521014323, 0.7472090683516359 L -0.6586149109410588, 0.7524801652443079 L -0.6525989643144342, 0.7577034985901331 L -0.6465415940827176, 0.7628787368389411 L -0.6404431847364256, 0.7680055514933891 L -0.634304123371024, 0.773083617129814 L -0.6281247996623591, 0.7781126114188879 L -0.6219056058419224, 0.7830922151460781 L -0.6156469366719536, 0.7880221122319091 L -0.6093491894203832, 0.7929019897520261 L -0.6030127638356163, 0.7977315379570569 L -0.596638062121158, 0.8025104502922745 L -0.5902254889100852, 0.807238423417054 L -0.5837754512393603, 0.8119151572241284 L -0.577288358523996, 0.816540354858638 L -0.5707646225310674, 0.8211137227369715 L -0.5642046573535755, 0.8256349705654034 L -0.5576088793841624, 0.8301038113585184 L -0.5509777072886802, 0.8345199614574293 L -0.5443115619796186, 0.8388831405477808 L -0.5376108665893844, 0.8431930716775436 L -0.5308760464434451, 0.8474494812745932 L -0.5241075290333315, 0.8516520991640751 L -0.5173057439895019, 0.855800658585554 L -0.510471123054072, 0.8598948962099463 L -0.5036041000534103, 0.8639345521562353 L -0.49670511087059976, 0.8679193700079664 L -0.4897745934177727, 0.8718490968295233 L -0.4828129876083115, 0.8757234831821837 L -0.47582073532892716, 0.8795422831399518 L -0.46879828041160976, 0.8833052543051682 L -0.4617460686054567, 0.8870121578238964 L -0.4546645475483786, 0.8906627584010842 L -0.44755416673868526, 0.8942568243154989 L -0.4404153775065555, 0.8977941274344348 L -0.43324863298538663, 0.9012744432281955 L -0.42605438808303314, 0.9046975507843448 L -0.4188330994529318, 0.9080632328217295 L -0.41158522546511483, 0.9113712757042711 L -0.404311226177116, 0.9146214694545263 L -0.3970115633047674, 0.9178136077670154 L -0.3896867001928928, 0.9209474880213173 L -0.38233710178589664, 0.9240229112949315 L -0.3749632345982524, 0.9270396823759034 L -0.3675655666848896, 0.9299976097752165 L -0.36014456761148483, 0.9328965057389467 L -0.3527007084246559, 0.9357361862601797 L -0.3452344616220627, 0.9385164710906914 L -0.37975790778426904 ,1.0323681181997606",
          "type": "path"
         },
         {
          "fillcolor": "rgba(253,174,97,0.75)",
          "layer": "below",
          "line": {
           "color": "rgb(150,150,150)",
           "width": 0.45
          },
          "path": "M -1.000063429380729, 0.45811912993811543 L -1.0036682588743968, 0.4501666648343001 L -1.0072098518787154, 0.4421858368135012 L -1.0106879852543103, 0.43417714871073493 L -1.0141024398601026, 0.42614110511635356 L -1.0174530005671194, 0.41807821234425174 L -1.0207394562720458, 0.4099889783999671 L -1.0239615999105258, 0.40187391294867114 L -1.0271192284702102, 0.39373352728306027 L -1.0302121430035447, 0.3855683342911399 L -1.0332401486403067, 0.3773788484239109 L -1.036203054599883, 0.3691655856629539 L -1.0391006742032896, 0.36092906348792325 L -1.0419328248849324, 0.3526698008439407 L -1.0446993282041122, 0.3443883181089 L -1.0474000098562655, 0.3360851370606789 L -1.0500346996839471, 0.3277607808442663 L -1.0526032316875515, 0.3194157739388003 L -1.0551054440357712, 0.31105064212452344 L -1.057541179075793, 0.3026659124496546 L -1.0599102833432308, 0.2942621131971841 L -1.0622126075717955, 0.2858397738515877 L -1.0644480067026987, 0.2773994250654672 L -1.0666163398937925, 0.26894159862611433 L -1.0687174705284432, 0.2604668274220081 L -1.0707512662241394, 0.2519756454092384 L -1.072717598840832, 0.2434685875778645 L -1.074616344489008, 0.23494618991820623 L -1.0764473835374968, 0.2264089893870763 L -1.078210600621007, 0.2178575238739473 L -1.0799058846473946, 0.20929233216706283 L -1.081533128804664, 0.20071395391948885 L -1.083092230567695, 0.1921229296151158 L -1.0845830917047066, 0.18351980053460296 L -1.086005618283441, 0.17490510872127601 L -1.0873597206770862, 0.16627939694697352 L -1.088645313569921, 0.15764320867785217 L -1.0898623159626897, 0.14899708804014355 L -1.0910106511777076, 0.1403415797858723 L -1.0920902468636904, 0.1316772292585319 L -1.093101035000313, 0.12300458235872788 L -1.094042951902495, 0.11432418550978142 L -1.094915938224415, 0.10563658562330248 L -1.0957199389632468, 0.09694233006472966 L -1.096454903462627, 0.08824196661884609 L -1.0971207854158458, 0.07953604345526408 L -1.0977175428687649, 0.07082510909388852 L -1.0982451382224607, 0.06210971237035521 L -1.098703538235593, 0.053390402401454186 L -1.0990927140264992, 0.04466772855053093 L -1.0994126410750156, 0.035942240392872124 L -1.0996632992240198, 0.027214487681082325 L -1.099844672680703, 0.01848502031044468 L -1.099956750017563, 0.009754388284275052 L -1.0999995241731264, 0.0010231416792693421 L -1.099972992452391, -0.0077081693891562515 L -1.0998771565269985, -0.016438994801522517 L -1.0997120224351262, -0.025168784468949188 L -1.0994776005811089, -0.03389698836781495 L -1.0991739057347818, -0.04262305657440896 L -1.098800957030551, -0.051346439299580944 L -1.0983587779661872, -0.06006658692338037 L -1.097847396401346, -0.068782950029685 L -1.0972668445558114, -0.07749497944081894 L -1.0966171590074671, -0.08620212625215094 L -1.095898380689991, -0.09490384186667973 L -1.0951105548902764, -0.10359957802960006 L -1.0942537312455787, -0.11228878686284278 L -1.0933279637403883, -0.12097092089959609 L -1.0923333107030286, -0.12964543311879825 L -1.0912698348019818, -0.13831177697960256 L -1.0901376030419396, -0.1469694064558142 L -1.0889366867595824, -0.15561777607028984 L -1.0876671616190843, -0.16425634092930727 L -1.0863291076073454, -0.17288455675689787 L -1.0849226090289525, -0.18150187992913625 L -1.083447754500869, -0.1901077675083931 L -1.0819046369468481, -0.19870167727754295 L -1.0802933535915822, -0.20728306777412628 L -1.0786140059545735, -0.21585139832446631 L -1.0768666998437404, -0.22440612907773153 L -1.07505154534875, -0.23294672103995076 L -1.0731686568340812, -0.24147263610797395 L -1.0712181529318208, -0.2499833371033728 L -1.069200156534187, -0.2584782878062877 L -1.0671147947857886, -0.266956952989212 L -1.0649621990756128, -0.2754187984507139 L -1.0627425050287471, -0.28386329104909575 L -1.060455852497835, -0.2922898987359819 L -1.0581023855542635, -0.3006980905898423 L -1.0556822524790868, -0.30908733684944467 L -1.0531956057536829, -0.3174571089472294 L -1.0506426020501476, -0.32580687954261406 L -1.0480234022214219, -0.33413612255521846 L -1.0453381712911587, -0.34244431319800983 L -1.0425870784433238, -0.3507309280103689 L -1.039770297011539, -0.3589954448910685 L -1.0368880044681585, -0.36723734313116957 L -1.0339403824130884, -0.3754561034468303 L -1.0309276165623449, -0.38365120801202107 L -0.9372069241475861, -0.3487738254654737 L -0.9399458021937166, -0.34132373040620934 L -0.9426254586074168, -0.333852130119245 L -0.9452457245559445, -0.3263594953555168 L -0.9478064349484762, -0.31884629819124444 L -0.9503074284465077, -0.3113130119981907 L -0.9527485474740198, -0.30376011141383497 L -0.9551296382274068, -0.2961880723114673 L -0.9574505506851663, -0.2885973717702085 L -0.9597111386173515, -0.2809884880449497 L -0.9619112595947849, -0.2733619005362203 L -0.9640507749980316, -0.2657180897599835 L -0.9661295500261337, -0.25805753731735975 L -0.9681474537051025, -0.25038072586428534 L -0.9701043588961714, -0.24268813908110182 L -0.9720001423038064, -0.2349802616420797 L -0.9738346844834733, -0.22725757918488435 L -0.9756078698491647, -0.21952057827997631 L -0.9773195866806818, -0.21176974639995522 L -0.9789697271306731, -0.20400557188884683 L -0.9805581872314304, -0.196228543931333 L -0.9820848669014383, -0.18843915252193297 L -0.98354966995168, -0.18063788843412995 L -0.9849525040916989, -0.17282524318944825 L -0.9862932809354114, -0.16500170902648748 L -0.9875719160066775, -0.15716777886990715 L -0.9887883287446221, -0.14932394629937024 L -0.9899424425087113, -0.1414707055184453 L -0.9910341845835815, -0.13360855132346744 L -0.9920634861836198, -0.12573797907236595 L -0.9930302824572987, -0.11785948465345295 L -0.9939345124912621, -0.10997356445417825 L -0.9947761193141624, -0.10208071532985707 L -0.9955550499002511, -0.09418143457236368 L -0.996271255172719, -0.08627621987879974 L -0.9969246900067882, -0.07836556932013722 L -0.9975153132325557, -0.0704499813098354 L -0.9980430876375872, -0.0625299545724409 L -0.998507979969261, -0.05460598811216397 L -0.9989099609368645, -0.046678581181437216 L -0.9992490052134378, -0.03874823324946269 L -0.9995250914373717, -0.030815443970740857 L -0.9997382022137511, -0.02288071315359017 L -0.9998883241154531, -0.014944540728656832 L -0.9999754476839919, -0.007007426717414773 L -0.9999995674301148, 0.0009301287993357654 L -0.9999606818341482, 0.00886762571297732 L -0.9998587933460935, 0.016804563918586073 L -0.9996939083854726, 0.024740443346438476 L -0.9994660373409232, 0.03267476399352011 L -0.9991751945695447, 0.04060702595502812 L -0.9988213983959935, 0.048536729455867435 L -0.9984046711113279, 0.05646337488214109 L -0.9979250389716045, 0.06438646281262592 L -0.9973825321962234, 0.07230549405024006 L -0.9967771849660244, 0.08021996965349644 L -0.9961090354211334, 0.08812939096793605 L -0.995378125658559, 0.0960332596575477 L -0.9945845017295409, 0.10393107773616492 L -0.993728213636648, 0.11182234759884352 L -0.9928093153306276, 0.1197065720532108 L -0.9918278647070069, 0.12758325435079299 L -0.9907839236024452, 0.1354518982183123 L -0.9896775577908371, 0.1433120078889565 L -0.9885088369791692, 0.1511630881336123 L -0.987277834803128, 0.1590046442920691 L -0.9859846288224604, 0.16683618230418448 L -0.9846293005160864, 0.17465720874101434 L -0.983211935276967, 0.18246723083589894 L -0.9817326224067223, 0.19026575651551164 L -0.9801914551100063, 0.19805229443086117 L -0.9785885304886335, 0.20582635398825117 L -0.9769239495354618, 0.21358744538018748 L -0.9751978171280289, 0.22133507961624044 L -0.9734102420219449, 0.22906876855385305 L -0.9715613368440392, 0.23678802492909826 L -0.9696512180852658, 0.24449236238737665 L -0.9676800060933624, 0.2521812955140611 L -0.9656478250652686, 0.2598543398650797 L -0.9635548030393006, 0.26751101199744004 L -0.9614010718870843, 0.27515082949968594 L -0.9591867673052464, 0.282773311022294 L -0.956912028806865, 0.2903779763080002 L -0.9545769997126792, 0.29796434622206025 L -0.9521818271420593, 0.30553194278243534 L -0.9497266620037382, 0.3130802891899091 L -0.9472116589863022, 0.32060890985812784 L -0.9446369765484449, 0.32811733044356656 L -0.9420027769089846, 0.3356050778754126 L -0.9393092260366424, 0.3430716803853735 L -0.9365564936395859, 0.3505166675373999 L -0.9337447531547365, 0.3579395702573275 L -0.9308741817368417, 0.3653399208624283 L -0.9279449602473142, 0.37271725309087916 L -0.9249572732428358, 0.38007110213113793 L -0.9219113089637296, 0.38740100465123045 L -0.9188072593221001, 0.3947064988279408 L -0.9156453198897412, 0.40198712437591017 L -0.9124256898858152, 0.40924242257663646 L -0.909148572164299, 0.4164719363073776 L -1.000063429380729 ,0.45811912993811543",
          "type": "path"
         },
         {
          "fillcolor": "rgba(254,224,139,0.75)",
          "layer": "below",
          "line": {
           "color": "rgb(150,150,150)",
           "width": 0.45
          },
          "path": "M -1.030927375506978, -0.3836518557628705 L -1.0293961446053084, -0.3877416375264943 L -1.0278486892438692, -0.39182530803874827 L -1.0262850338123262, -0.3959028029363176 L -1.0247052029556756, -0.39997405795322244 L -1.0231092215738578, -0.4040390089218307 L -1.021497114821363, -0.408097591773869 L -1.0198689081068364, -0.41214974254143294 L -1.018224627092677, -0.41619539735799516 L -1.0165642976946323, -0.42023449245941175 L -1.0148879460813915, -0.4242669641849275 L -1.0131955986741723, -0.4282927489781792 L -1.011487282146304, -0.43231178338819726 L -1.009763023422807, -0.43632400407040606 L -1.0080228496799701, -0.44032934778762184 L -1.0062667883449203, -0.4443277514110497 L -1.0044948670951912, -0.4483191519212787 L -1.0027071138582866, -0.4523034864092749 L -1.0009035568112412, -0.456280692077373 L -0.9990842243801754, -0.4602507062402659 L -0.9972491452398474, -0.46421346632599303 L -0.9953983483132021, -0.46816890987692616 L -0.9935318627709142, -0.4721169745507542 L -0.9916497180309293, -0.4760575981214655 L -0.9897519437579995, -0.47999071848032865 L -0.9878385698632164, -0.4839162736368716 L -0.9859096265035395, -0.4878342017198585 L -0.983965144081321, -0.49174444097826414 L -0.9820051532438258, -0.49564692978224983 L -0.9800296848827499, -0.49954160662413116 L -0.9780387701337325, -0.5034284101193498 L -0.9760324403758655, -0.5073072790074402 L -0.974010727231199, -0.5111781521529954 L -0.9719736625642429, -0.5150409685466307 L -0.9699212784814645, -0.5188956673059447 L -0.9678536073307826, -0.5227421876764792 L -0.965770681701058, -0.5265804690326767 L -0.9636725344215791, -0.5304104508788366 L -0.961559198561545, -0.5342320728500671 L -0.9594307074295443, -0.5380452747132385 L -0.9572870945730302, -0.5418499963679309 L -0.9551283937777909, -0.5456461778473826 L -0.9529546390674185, -0.5494337593194346 L -0.9507658647027715, -0.5532126810874741 L -0.9485621051814357, -0.5569828835913749 L -0.9463433952371797, -0.5607443074084366 L -0.9441097698394083, -0.5644968932543205 L -0.9418612641926104, -0.568240581983985 L -0.939597913735805, -0.5719753145926167 L -0.9373197541419822, -0.5757010322165613 L -0.9350268213175409, -0.5794176761342509 L -0.9327191514017231, -0.5831251877671292 L -0.9303967807660444, -0.5868235086805755 L -0.9280597460137198, -0.5905125805848255 L -0.9257080839790885, -0.5941923453358895 L -0.923341831727032, -0.5978627449364691 L -0.92096102655239, -0.6015237215368718 L -0.9185657059793733, -0.6051752174359222 L -0.9161559077609719, -0.6088171750818713 L -0.9137316698783596, -0.6124495370733042 L -0.9112930305402965, -0.6160722461600444 L -0.9088400281825257, -0.6196852452440561 L -0.9063727014671681, -0.6232884773803444 L -0.9038910892821125, -0.6268818857778524 L -0.9013952307404032, -0.630465413800357 L -0.8988851651796237, -0.6340390049673608 L -0.8963609321612758, -0.6376026029549824 L -0.8938225714701571, -0.6411561515968448 L -0.8912701231137331, -0.6446995948849598 L -0.8887036273215073, -0.6482328769706113 L -0.8861231245443867, -0.6517559421652352 L -0.8835286554540444, -0.6552687349412977 L -0.8809202609422785, -0.6587711999331697 L -0.8782979821203678, -0.6622632819379995 L -0.8756618603184239, -0.6657449259165835 L -0.8730119370847387, -0.6692160769942339 L -0.8703482541851313, -0.6726766804616422 L -0.8676708536022887, -0.6761266817757423 L -0.8649797775351041, -0.6795660265605705 L -0.8622750683980122, -0.682994660608122 L -0.85955676882032, -0.6864125298792055 L -0.8568249216455358, -0.689819580504295 L -0.8540795699306936, -0.6932157587843785 L -0.8513207569456739, -0.6966010111918048 L -0.8485485261725226, -0.6999752843711268 L -0.8457629213047653, -0.7033385251399425 L -0.8429639862467182, -0.7066906804897337 L -0.8401517651127969, -0.7100316975867007 L -0.8373263022268208, -0.7133615237725952 L -0.834487642121314, -0.7166801065655513 L -0.8316358295368046, -0.7199873936609107 L -0.8287709094211179, -0.7232833329320492 L -0.8258929269286696, -0.7265678724311965 L -0.823001927419753, -0.7298409603902565 L -0.8200979564598246, -0.7331025452216215 L -0.817181059818786, -0.7363525755189874 L -0.8142512834702617, -0.7395910000581616 L -0.8113086735908758, -0.7428177677978725 L -0.8083532765595229, -0.7460328278805722 L -0.8053851389566384, -0.7492361296332395 L -0.7321683081423985, -0.6811237542120359 L -0.7348666150541117, -0.6782116617096111 L -0.7375533396280688, -0.6752888798162476 L -0.7402284395184197, -0.6723554545983287 L -0.7428918725625326, -0.6694114322899885 L -0.7455435967816587, -0.6664568592923832 L -0.7481835703815936, -0.6634917821729603 L -0.7508117517533359, -0.660516247664724 L -0.7534280994737435, -0.6575303026654992 L -0.7560325723061859, -0.6545339942371915 L -0.7586251292011945, -0.6515273696050465 L -0.7612057292971097, -0.6485104761569047 L -0.7637743319207244, -0.6454833614424551 L -0.7663308965879255, -0.6424460731724851 L -0.768875383004332, -0.6393986592181296 L -0.7714077510659296, -0.6363411676101152 L -0.7739279608597035, -0.6332736465380043 L -0.7764359726642668, -0.6301961443494349 L -0.7789317469504871, -0.627108709549359 L -0.781415244382109, -0.6240113907992777 L -0.7838864258163746, -0.6209042369164745 L -0.78634525230464, -0.6177872968732459 L -0.7887916850929897, -0.6146606197961293 L -0.7912256856228466, -0.6115242549651292 L -0.7936472155315806, -0.6083782518129399 L -0.7960562366531125, -0.6052226599241668 L -0.7984527110185161, -0.602057529034545 L -0.8008366008566168, -0.5988829090301542 L -0.8032078685945857, -0.5956988499466342 L -0.8055664768585333, -0.5925054019683956 L -0.8079123884740975, -0.5893026154278284 L -0.81024556646703, -0.5860905408045088 L -0.8125659740637791, -0.5828692287244043 L -0.8148735746920688, -0.5796387299590748 L -0.817168331981476, -0.5763990954248733 L -0.8194502097640028, -0.5731503761821427 L -0.8217191720746476, -0.5698926234344113 L -0.8239751831519709, -0.5666258885275858 L -0.8262182074386597, -0.5633502229491418 L -0.8284482095820876, -0.560065678327313 L -0.8306651544348723, -0.5567723064302765 L -0.8328690070554289, -0.5534701591653375 L -0.8350597327085211, -0.550159288578111 L -0.837237296865809, -0.5468397468517017 L -0.8394016652063927, -0.5435115863058809 L -0.8415528036173532, -0.5401748593962631 L -0.8436906781942907, -0.5368296187134777 L -0.8458152552418584, -0.5334759169823413 L -0.8479265012742937, -0.5301138070610265 L -0.8500243830159462, -0.526743341940228 L -0.8521088674018019, -0.5233645747423284 L -0.8541799215780045, -0.5199775587205606 L -0.856237512902373, -0.5165823472581681 L -0.8582816089449166, -0.513178993867564 L -0.8603121774883451, -0.5097675521894878 L -0.8623291865285778, -0.506348075992159 L -0.8643326042752467, -0.502920619170431 L -0.8663223991521986, -0.4994852357449405 L -0.8682985397979917, -0.49604197986125687 L -0.870260995066391, -0.49259090578902803 L -0.8722097340268584, -0.48913206792112585 L -0.8741447259650409, -0.4856655207727883 L -0.8760659403832536, -0.4821913189807605 L -0.8779733470009617, -0.4787095173024334 L -0.8798669157552569, -0.475220170614981 L -0.8817466168013313, -0.4717233339144951 L -0.883612420512948, -0.46821906231511884 L -0.8854642974829081, -0.46470741104817764 L -0.887302218523514, -0.4611884354613092 L -0.8891261546670295, -0.45766219101759065 L -0.8909360771661362, -0.45412873329466463 L -0.8927319574943869, -0.45058811798386345 L -0.8945137673466553, -0.447040400889331 L -0.8962814786395813, -0.443485637927144 L -0.8980350635120148, -0.4399238851244287 L -0.899774494325454, -0.43635519861848054 L -0.901499743664481, -0.43277963465587765 L -0.9032107843371947, -0.42919724959159467 L -0.9049075893756382, -0.42560809988811465 L -0.9065901320362248, -0.4220122421145391 L -0.9082583858001594, -0.4184097329456963 L -0.9099123243738556, -0.41480062916124816 L -0.9115519216893514, -0.41118498764479533 L -0.9131771519047192, -0.4075628653829806 L -0.9147879894044729, -0.4039343194645906 L -0.9163844087999728, -0.40029940707965617 L -0.9179663849298245, -0.3966581855185509 L -0.9195338928602762, -0.3930107121710884 L -0.9210869078856112, -0.3893570445256174 L -0.9226254055285378, -0.38569724016811585 L -0.9241493615405747, -0.38203135678128336 L -0.9256587519024334, -0.3783594521436319 L -0.9271535528243967, -0.3746815841285754 L -0.9286337407466935, -0.37099781070351723 L -0.9300992923398705, -0.367308189928937 L -0.9315501845051596, -0.36361277995747493 L -0.9329863943748419, -0.35991163903301593 L -0.9344078993126084, -0.3562048254897711 L -0.9358146769139166, -0.35249239775135843 L -0.9372067050063436, -0.3487744143298822 L -1.030927375506978 ,-0.3836518557628705",
          "type": "path"
         },
         {
          "fillcolor": "rgba(255,255,191,0.75)",
          "layer": "below",
          "line": {
           "color": "rgb(150,150,150)",
           "width": 0.45
          },
          "path": "M -0.8053846681975354, -0.7492366356714987 L -0.8036483140986742, -0.7510987866095638 L -0.8019076544827468, -0.7529569135627747 L -0.8001626986752752, -0.7548110065762824 L -0.7984134560247973, -0.7566610557168508 L -0.7966599359028178, -0.7585070510729075 L -0.7949021477037583, -0.7603489827545984 L -0.7931401008449065, -0.7621868408938399 L -0.7913738047663644, -0.7640206156443741 L -0.7896032689310006, -0.7658502971818176 L -0.7878285028243971, -0.7676758757037172 L -0.7860495159548005, -0.769497341429601 L -0.7842663178530683, -0.7713146846010324 L -0.782478918072621, -0.77312789548166 L -0.780687326189389, -0.7749369643572713 L -0.7788915518017616, -0.7767418815358444 L -0.7770916045305355, -0.778542637347601 L -0.7752874940188638, -0.7803392221450556 L -0.7734792299322041, -0.7821316263030696 L -0.771666821958267, -0.7839198402189018 L -0.7698502798069623, -0.7857038543122606 L -0.7680296132103501, -0.7874836590253541 L -0.7662048319225865, -0.7892592448229423 L -0.7643759457198721, -0.7910306021923875 L -0.7625429644003987, -0.7927977216437069 L -0.7607058977842984, -0.7945605937096205 L -0.7588647557135898, -0.7963192089456048 L -0.7570195480521259, -0.7980735579299412 L -0.7551702846855403, -0.7998236312637683 L -0.7533169755211949, -0.8015694195711307 L -0.7514596304881279, -0.8033109134990302 L -0.749598259536999, -0.8050481037174748 L -0.7477328726400355, -0.8067809809195311 L -0.7458634797909812, -0.8085095358213709 L -0.7439900910050418, -0.8102337591623233 L -0.7421127163188304, -0.8119536417049237 L -0.7402313657903148, -0.8136691742349623 L -0.7383460494987624, -0.815380347561536 L -0.7364567775446885, -0.8170871525170944 L -0.7345635600497995, -0.8187895799574911 L -0.732666407156941, -0.8204876207620317 L -0.7307653290300408, -0.8221812658335244 L -0.7288603358540573, -0.8238705060983255 L -0.7269514378349232, -0.8255553325063911 L -0.7250386451994917, -0.8272357360313237 L -0.72312196819548, -0.828911707670422 L -0.7212014170914172, -0.830583238444728 L -0.7192770021765867, -0.8322503193990752 L -0.717348733760973, -0.8339129416021369 L -0.7154166221752043, -0.8355710961464746 L -0.7134806777704997, -0.8372247741485845 L -0.7115409109186122, -0.8388739667489461 L -0.7095973320117729, -0.8405186651120689 L -0.7076499514626363, -0.8421588604265402 L -0.7056987797042248, -0.8437945439050718 L -0.7037438271898696, -0.8454257067845495 L -0.7017851043931598, -0.8470523403260758 L -0.6998226218078822, -0.8486744358150197 L -0.6978563899479676, -0.8502919845610627 L -0.6958864193474322, -0.8519049778982454 L -0.6939127205603233, -0.8535134071850137 L -0.6919353041606613, -0.8551172638042652 L -0.6899541807423839, -0.8567165391633957 L -0.6879693609192895, -0.8583112246943441 L -0.6859808553249777, -0.8599013118536406 L -0.6839886746127969, -0.8614867921224502 L -0.681992829455784, -0.8630676570066186 L -0.6799933305466076, -0.864643898036719 L -0.6779901885975119, -0.8662155067680967 L -0.675983414340258, -0.8677824747809137 L -0.6739730185260672, -0.8693447936801956 L -0.6719590119255635, -0.8709024550958738 L -0.6699414053287142, -0.8724554506828344 L -0.6679202095447748, -0.8740037721209585 L -0.6658954354022294, -0.8755474111151694 L -0.663867093748733, -0.8770863593954766 L -0.6618351954510532, -0.8786206087170199 L -0.6597997513950126, -0.8801501508601131 L -0.6577607724854297, -0.8816749776302891 L -0.6557182696460621, -0.8831950808583428 L -0.6536722538195435, -0.8847104524003763 L -0.6516227359673317, -0.8862210841378405 L -0.649569727069645, -0.88772696797758 L -0.647513238125405, -0.8892280958518758 L -0.6454532801521776, -0.8907244597184892 L -0.6433898641861141, -0.8922160515607046 L -0.6413230012818915, -0.8937028633873718 L -0.6392527025126543, -0.8951848872329492 L -0.637178978969953, -0.8966621151575482 L -0.6351018417636877, -0.8981345392469727 L -0.6330213020220467, -0.8996021516127632 L -0.6309373708914469, -0.9010649443922392 L -0.628850059536475, -0.9025229097485404 L -0.6267593791398268, -0.9039760398706699 L -0.6246653409022476, -0.905424326973535 L -0.6225679560424723, -0.9068677632979896 L -0.6204672357971661, -0.9083063411108744 L -0.6183631914208606, -0.9097400527050615 L -0.6162558341858994, -0.9111688903994921 L -0.614145175382373, -0.912592846539219 L -0.5583137958021572, -0.829629860490199 L -0.5602325765326357, -0.8283353549086291 L -0.562148355837146, -0.8270364115500559 L -0.5640611234519691, -0.8257330373735221 L -0.5659708691295202, -0.8244252393618087 L -0.5678775826384068, -0.8231130245213955 L -0.5697812537634789, -0.8217963998824271 L -0.5716818723058863, -0.8204753724986731 L -0.5735794280831334, -0.8191499494474901 L -0.5754739109291332, -0.8178201378297847 L -0.5773653106942614, -0.8164859447699752 L -0.5792536172454118, -0.8151473774159529 L -0.5811388204660494, -0.8138044429390446 L -0.5830209102562649, -0.8124571485339743 L -0.5848998765328309, -0.8111055014188223 L -0.5867757092292524, -0.8097495088349902 L -0.5886483982958226, -0.8083891780471597 L -0.5905179336996772, -0.8070245163432544 L -0.5923843054248469, -0.8056555310344004 L -0.5942475034723123, -0.8042822294548875 L -0.5961075178600563, -0.8029046189621297 L -0.5979643386231179, -0.8015227069366264 L -0.5998179558136477, -0.8001365007819209 L -0.6016683595009574, -0.7987460079245634 L -0.6035155397715753, -0.7973512358140696 L -0.6053594867292994, -0.7959521919228812 L -0.6072001904952498, -0.7945488837463258 L -0.6090376412079219, -0.7931413188025767 L -0.6108718290232396, -0.7917295046326125 L -0.6127027441146065, -0.7903134488001777 L -0.6145303766729617, -0.7888931588917397 L -0.616354716906829, -0.7874686425164514 L -0.6181757550423705, -0.7860399073061082 L -0.6199934813234399, -0.7846069609151077 L -0.6218078860116335, -0.7831698110204092 L -0.6236189593863433, -0.7817284653214914 L -0.6254266917448086, -0.7802829315403127 L -0.6272310734021671, -0.7788332174212688 L -0.6290320946915102, -0.7773793307311502 L -0.6308297459639302, -0.7759212792591033 L -0.6326240175885747, -0.7744590708165866 L -0.6344148999526977, -0.7729927132373297 L -0.6362023834617111, -0.7715222143772905 L -0.6379864585392361, -0.7700475821146143 L -0.6397671156271542, -0.7685688243495904 L -0.6415443451856588, -0.7670859490046107 L -0.6433181376933057, -0.7655989640241274 L -0.6450884836470662, -0.764107877374608 L -0.6468553735623747, -0.7626126970444964 L -0.6486187979731816, -0.7611134310441677 L -0.6503787474320039, -0.759610087405886 L -0.6521352125099754, -0.7581026741837608 L -0.653888183796897, -0.7565911994537047 L -0.6556376519012883, -0.755075671313389 L -0.6573836074504363, -0.7535560978822018 L -0.6591260410904469, -0.7520324873012033 L -0.6608649434862938, -0.7505048477330828 L -0.6626003053218702, -0.748973187362114 L -0.664332117300037, -0.747437514394113 L -0.6660603701426736, -0.7458978370563925 L -0.6677850545907268, -0.7443541635977191 L -0.6695061614042622, -0.7428065022882676 L -0.6712236813625112, -0.7412548614195781 L -0.6729376052639224, -0.7396992493045111 L -0.6746479239262093, -0.7381396742772033 L -0.6763546281864016, -0.7365761446930211 L -0.678057708900892, -0.7350086689285189 L -0.6797571569454868, -0.7334372553813918 L -0.6814529632154536, -0.7318619124704316 L -0.6831451186255708, -0.7302826486354819 L -0.6848336141101772, -0.7286994723373915 L -0.6865184406232183, -0.7271123920579712 L -0.6881995891382963, -0.7255214162999465 L -0.689877050648718, -0.7239265535869134 L -0.691550816167544, -0.7223278124632914 L -0.6932208767276351, -0.7207252014942789 L -0.6948872233817018, -0.7191187292658068 L -0.6965498472023512, -0.7175084043844929 L -0.6982087392821364, -0.7158942354775946 L -0.699863890733602, -0.7142762311929641 L -0.7015152926893335, -0.7126544001990016 L -0.7031629363020037, -0.7110287511846087 L -0.7048068127444216, -0.7093992928591414 L -0.7064469132095776, -0.7077660339523645 L -0.7080832289106923, -0.706128983214404 L -0.7097157510812626, -0.7044881494157011 L -0.71134447097511, -0.7028435413469636 L -0.7129693798664257, -0.7011951678191203 L -0.7145904690498186, -0.6995430376632736 L -0.716207729840361, -0.697887159730652 L -0.7178211535736368, -0.6962275428925614 L -0.7194307316057857, -0.69456419604034 L -0.7210364553135513, -0.692897128085309 L -0.7226383160943257, -0.6912263479587257 L -0.724236305366198, -0.689551864611734 L -0.7258304145679975, -0.6878736870153189 L -0.7274206351593411, -0.6861918241602567 L -0.7290069586206789, -0.6845062850570679 L -0.7305893764533401, -0.682817078735967 L -0.7321678801795776, -0.6811242142468169 L -0.8053846681975354 ,-0.7492366356714987",
          "type": "path"
         },
         {
          "fillcolor": "rgba(230,245,152,0.75)",
          "layer": "below",
          "line": {
           "color": "rgb(150,150,150)",
           "width": 0.45
          },
          "path": "M -0.6141446019832554, -0.9125932324178331 L -0.6091633893882603, -0.9159257420932152 L -0.6041640941558066, -0.9192310630809285 L -0.599146864686873, -0.9225090972645691 L -0.5941118499148048, -0.925759747337725 L -0.5890591993008936, -0.9289829168068648 L -0.5839890628299393, -0.9321785099942015 L -0.578901591005799, -0.9353464320405327 L -0.573796934846919, -0.9384865889080573 L -0.5686752458818527, -0.9415988873831652 L -0.5635366761447592, -0.9446832350792074 L -0.5583813781708956, -0.9477395404392345 L -0.5532095049920853, -0.9507677127387174 L -0.5480212101321763, -0.9537676620882389 L -0.5428166476024844, -0.9567392994361633 L -0.5375959718972205, -0.9596825365712784 L -0.5323593379889057, -0.9625972861254151 L -0.52710690132377, -0.9654834615760404 L -0.5218388178171389, -0.9683409772488258 L -0.5165552438488044, -0.9711697483201907 L -0.5112563362583832, -0.9739696908198198 L -0.5059422523406611, -0.9767407216331563 L -0.500613149840924, -0.9794827585038691 L -0.4952691869502747, -0.982195720036294 L -0.48991052230093796, -0.9848795256978501 L -0.4845373149615516, -0.9875340958214305 L -0.4791497244324417, -0.9901593516077679 L -0.47374791064089294, -0.992755215127772 L -0.46833203393639816, -0.9953216093248436 L -0.46290225508589866, -0.9978584580171628 L -0.4574587352690126, -1.0003656858999492 L -0.45200163607325, -1.0028432185476979 L -0.44653111948921653, -1.0052909824163885 L -0.44104734790580447, -1.0077089048456684 L -0.4355504841053728, -1.01009691406101 L -0.4300406912589146, -1.0124549391758406 L -0.42451813292121393, -1.0147829101936467 L -0.4189829730259902, -1.0170807580100523 L -0.4134353758810326, -1.0193484144148701 L -0.407875506163322, -1.0215858120941255 L -0.40230352891414334, -1.0237928846320563 L -0.39671960953418595, -1.0259695665130828 L -0.39112391377863476, -1.0281157931237528 L -0.38551660775224644, -1.0302315007546607 L -0.3798978579044242, -1.0323166266023376 L -0.37426783102427275, -1.0343711087711154 L -0.368626694235649, -1.036394886274965 L -0.3629746149922001, -1.0383878990393063 L -0.35731176107239343, -1.040350087902791 L -0.3516383005745361, -1.0422813946190599 L -0.34595440191178467, -1.0441817618584706 L -0.34026023380714615, -1.0460511332098 L -0.3345559652884698, -1.0478894531819185 L -0.3288417656834292, -1.0496966672054384 L -0.32311780461449613, -1.0514727216343316 L -0.3173842519939053, -1.0532175637475238 L -0.3116412780186108, -1.054931141750459 L -0.3058890531652338, -1.056613404776637 L -0.30012774818500293, -1.058264302889122 L -0.2943575340986819, -1.0598837870820288 L -0.28857858219149846, -1.0614718092819728 L -0.2827910640080565, -1.0630283223494994 L -0.27699515134724423, -1.064553280080484 L -0.27119101625713493, -1.0660466372075017 L -0.2653788310298793, -1.0675083494011721 L -0.25955876819659174, -1.0689383732714755 L -0.2537310005222282, -1.07033666636904 L -0.24789570100045816, -1.0717031871864018 L -0.24205304284852938, -1.073037895159238 L -0.23620319950212593, -1.0743407506675706 L -0.2303463446102199, -1.075611715036941 L -0.22448265202991688, -1.0768507505395608 L -0.21861229582129485, -1.078057820395429 L -0.2127354502422375, -1.0792328887734253 L -0.2068522897432615, -1.080375920792374 L -0.20096298896233905, -1.081486882522078 L -0.1950677227197097, -1.0825657409843277 L -0.1891666660126971, -1.0836124641538787 L -0.18325999401051024, -1.0846270209594024 L -0.1773478820490446, -1.0856093812844094 L -0.17143050562567758, -1.0865595159681427 L -0.16550804039405878, -1.0874773968064435 L -0.159580662158896, -1.0883629965525878 L -0.1536485468707364, -1.089216288918097 L -0.14771187062074367, -1.090037248573516 L -0.1417708096354709, -1.0908258511491664 L -0.1358255402716292, -1.0915820732358699 L -0.12987623901085288, -1.092305892385643 L -0.12392308245446057, -1.092997287112363 L -0.11796624731821295, -1.093656236892406 L -0.11200591042706709, -1.0942827221652567 L -0.10604224870992845, -1.0948767243340878 L -0.10007543919439495, -1.0954382257663138 L -0.09410565900150789, -1.0959672097941124 L -0.0881330853404903, -1.0964636607149212 L -0.08215789550348761, -1.0969275637919025 L -0.07618026686030477, -1.0973589052543808 L -0.07020037685314118, -1.0977576722982523 L -0.06421840299132348, -1.0981238530863648 L -0.058234522846036176, -1.0984574367488686 L -0.052940475314578336, -0.9985976697716986 L -0.05838036635574861, -0.9982944118966952 L -0.06381852441194652, -0.9979615202711384 L -0.0692547880548225, -0.9975990047767097 L -0.07468899591226145, -0.9972068761744567 L -0.080120986673173, -0.9967851461044738 L -0.08555059909227988, -0.9963338270855567 L -0.09097767199490449, -0.9958529325148305 L -0.09640204428175313, -0.9953424766673524 L -0.10182355493369735, -0.9948024746956877 L -0.10724204301655722, -0.9942329426294599 L -0.11265734768587324, -0.9936338973748753 L -0.11806930819168443, -0.9930053567142209 L -0.12347776388329927, -0.9923473393053363 L -0.12888255421406444, -0.9916598646810603 L -0.1342835187461306, -0.9909429532486508 L -0.13968049715521488, -0.990196626289179 L -0.14507332923535998, -0.989420905956898 L -0.1504618549036898, -0.9886158152785849 L -0.15584591420516142, -0.9877813781528569 L -0.16122534731731325, -0.9869176193494631 L -0.1665999945550093, -0.9860245645085476 L -0.17196969637517917, -0.9851022401398896 L -0.17733429338155426, -0.9841506736221161 L -0.18269362632939912, -0.9831698932018891 L -0.18804753613023772, -0.9821599279930672 L -0.19339586385657953, -0.9811208079758411 L -0.19873845074663166, -0.9800525639958444 L -0.20407513820901532, -0.9789552277632371 L -0.20940576782747264, -0.9778288318517646 L -0.214730181365569, -0.9766734096977914 L -0.22004822077139033, -0.9754889955993074 L -0.22535972818223468, -0.9742756247149106 L -0.23066454592929833, -0.9730333330627634 L -0.23596251654235612, -0.971762157519523 L -0.24125348275443573, -0.9704621358192473 L -0.24653728750648626, -0.9691333065522741 L -0.2518137739520402, -0.9677757091640763 L -0.2570827854618695, -0.9663893839540904 L -0.26234416562863494, -0.9649743720745206 L -0.26759775827152893, -0.9635307155291171 L -0.27284340744091173, -0.9620584571719292 L -0.2780809574229398, -0.9605576407060334 L -0.28331025274419164, -0.9590283106822354 L -0.2885311381762775, -0.9574705124977488 L -0.293743458740451, -0.9558842923948468 L -0.29894705971220836, -0.9542696974594893 L -0.30414178662588165, -0.9526267756199259 L -0.30932748527922377, -0.9509555756452726 L -0.31450400173798604, -0.949256147144064 L -0.31967118234048736, -0.9475285405627816 L -0.32482887370217584, -0.9457728071843554 L -0.32997692272018186, -0.9439889991266419 L -0.33511517657786266, -0.9421771693408771 L -0.34024348274933885, -0.9403373716101048 L -0.345361689004022, -0.9384696605475795 L -0.3504696434111331, -0.9365740915951462 L -0.3555671943442134, -0.9346507210215934 L -0.3606541904856236, -0.9326996059209843 L -0.3657304808310394, -0.9307208042109603 L -0.3707959146939291, -0.9287143746310231 L -0.37585034171002957, -0.9266803767407908 L -0.38089361184180925, -0.9246188709182293 L -0.3859255753829217, -0.9225299183578606 L -0.3909460829626496, -0.9204135810689459 L -0.39595498555033887, -0.9182699218736454 L -0.4009521344598222, -0.916099004405153 L -0.40593738135383317, -0.9139008931058076 L -0.41091057824840904, -0.9116756532251797 L -0.41587157751728415, -0.9094233508181355 L -0.4208202318962715, -0.9071440527428751 L -0.42575639448763464, -0.9048378266589486 L -0.4306799187644481, -0.9025047410252471 L -0.43559065857494694, -0.9001448650979708 L -0.44048846814686504, -0.8977582689285731 L -0.44537320209176173, -0.8953450233616819 L -0.45024471540934063, -0.8929052000329945 L -0.45510286349174905, -0.8904388713671537 L -0.4599475021278737, -0.8879461105755966 L -0.464778487507621, -0.8854269916543815 L -0.46959567622618575, -0.8828815893819915 L -0.47439892528830807, -0.8803099793171143 L -0.47918809211251817, -0.8777122377964003 L -0.4839630345353687, -0.8750884419321955 L -0.48872361081565496, -0.8724386696102531 L -0.4934696796386221, -0.8697629994874211 L -0.4982011001201603, -0.8670615109893081 L -0.5029177318109866, -0.8643342843079248 L -0.5076194347008142, -0.861581400399304 L -0.5123060692225083, -0.8588029409810976 L -0.5169774962562297, -0.8559989885301501 L -0.5216335771335626, -0.853169626280052 L -0.5262741736416354, -0.850314938218666 L -0.5308991480272175, -0.8474350090856376 L -0.5355083630008123, -0.8445299243698771 L -0.5401016817407316, -0.8415997703070227 L -0.5446789678971572, -0.8386446338768809 L -0.5492400855961878, -0.835664602800844 L -0.553784899443873, -0.8326597655392864 L -0.5583132745302322, -0.8296302112889391 L -0.6141446019832554 ,-0.9125932324178331",
          "type": "path"
         },
         {
          "fillcolor": "rgba(171,221,164,0.75)",
          "layer": "below",
          "line": {
           "color": "rgb(150,150,150)",
           "width": 0.45
          },
          "path": "M -0.058233832664862165, -1.0984574733384815 L -0.05419136295560876, -1.098664323704476 L -0.05014815945282556, -1.0988562972943707 L -0.04610427690465517, -1.0990333915086925 L -0.042059770068437974, -1.0991956039494473 L -0.03801469370996766, -1.0993429324201514 L -0.03396910260274681, -1.0994753749258617 L -0.029923051527251, -1.099592929673203 L -0.025876595270184148, -1.099695595070392 L -0.021829788623733727, -1.0997833697272583 L -0.017782686384834684, -1.0998562524552646 L -0.013735343354424513, -1.0999142422675217 L -0.009687814336698287, -1.0999573383788017 L -0.005640154138372423, -1.09998554020555 L -0.0015924175679396288, -1.0999988473658913 L 0.002455340565076184, -1.0999972596796366 L 0.006503065450856197, -1.0999807771682841 L 0.010550702280032761, -1.0999494000550198 L 0.01459819624442961, -1.099903128764715 L 0.018645492537807902, -1.0998419639239188 L 0.022692536356602497, -1.0997659063608511 L 0.026739272900666945, -1.0996749571053912 L 0.03078564737401847, -1.099569117389063 L 0.034831604985574104, -1.099448388645019 L 0.038877090949895485, -1.0993127725080218 L 0.042922050487933676, -1.0991622708144195 L 0.04696642882776503, -1.0989968856021235 L 0.05101017120533579, -1.0988166191105786 L 0.055053222865206516, -1.098621473780735 L 0.059095529061287747, -1.098411452255013 L 0.06313703505758417, -1.098186557377269 L 0.06717768612893871, -1.0979467921927555 L 0.07121742756176773, -1.0976921599480816 L 0.07525620465480486, -1.097422664091167 L 0.07929396271984447, -1.097138308271197 L 0.08333064708247655, -1.0968390963385724 L 0.08736620308282977, -1.096525032344857 L 0.09140057607631473, -1.0961961205427238 L 0.09543371143435787, -1.0958523653858963 L 0.0994655545451442, -1.0954937715290887 L 0.10349605081435972, -1.0951203438279429 L 0.10752514566592478, -1.0947320873389625 L 0.11155278454273601, -1.0943290073194452 L 0.11557891290740802, -1.0939111092274099 L 0.11960347624300602, -1.0934783987215244 L 0.12362642005378692, -1.0930308816610284 L 0.12764768986594022, -1.0925685641056533 L 0.1316672312283197, -1.0920914523155414 L 0.13568498971318474, -1.0915995527511604 L 0.13970091091693526, -1.0910928720732158 L 0.14371494046085234, -1.0905714171425611 L 0.14772702399182774, -1.0900351950201048 L 0.15173710718310762, -1.089484212966715 L 0.15574513573502144, -1.08891847844312 L 0.15975105537572099, -1.0883379991098094 L 0.16375481186191346, -1.087742782826928 L 0.16775635097959973, -1.0871328376541707 L 0.17175561854480267, -1.0865081718506733 L 0.17575256040430381, -1.0858687938749008 L 0.17974712243637936, -1.0852147123845315 L 0.18373925055152746, -1.0845459362363417 L 0.1877288906932033, -1.0838624744860852 L 0.1917159888385542, -1.083164336388369 L 0.19570049099914508, -1.0824515313965304 L 0.1996823432216926, -1.081724069162508 L 0.2036614915887985, -1.0809819595367103 L 0.20763788221967402, -1.0802252125678835 L 0.21161146127087233, -1.0794538385029748 L 0.21558217493702025, -1.0786678477869933 L 0.21954996945154162, -1.0778672510628697 L 0.22351479108738764, -1.077052059171311 L 0.22747658615776759, -1.0762222831506547 L 0.23143530101686988, -1.075377934236718 L 0.23539088206059147, -1.0745190238626476 L 0.2393432757272664, -1.0736455636587625 L 0.24329242849838564, -1.0727575654523989 L 0.24723828689932414, -1.0718550412677488 L 0.2511807975000683, -1.0709380033256968 L 0.25511990691593334, -1.070006464043655 L 0.2590555618082893, -1.0690604360353964 L 0.262987708885286, -1.0680999321108808 L 0.2669162949025689, -1.0671249652760848 L 0.27084126666400316, -1.0661355487328235 L 0.2747625710223965, -1.065131695878572 L 0.27868015488021336, -1.064113420306285 L 0.28259396519029756, -1.0630807358042123 L 0.2865039489565889, -1.062033656355711 L 0.29041005323484437, -1.0609721961390577 L 0.29431222513334937, -1.0598963695272556 L 0.29821041181363683, -1.0588061910878408 L 0.3021045604912055, -1.0577016755826834 L 0.305994618436229, -1.0565828379677888 L 0.30988053297427276, -1.0554496933930961 L 0.31376225148701, -1.0543022572022704 L 0.3176397214129284, -1.0531405449324973 L 0.3215128902480451, -1.0519645723142719 L 0.32538170554662, -1.0507743552711841 L 0.3292461149218606, -1.0495699099197067 L 0.333106066046634, -1.0483512525689735 L 0.33696150665417834, -1.04711839972056 L 0.3063286424128894, -0.9519258179277816 L 0.3028236964060309, -0.9530465932445213 L 0.29931464992896417, -0.9541544635633696 L 0.29580155049692725, -0.9552494138828946 L 0.29228444568004097, -0.9563314293766106 L 0.28876338310266214, -0.9574004953931793 L 0.28523841044273635, -0.9584565974566095 L 0.28170957543115704, -0.959499721266451 L 0.27817692585111725, -0.9605298526979898 L 0.2746405095374595, -0.9615469778024393 L 0.27110037437603346, -0.962551082807128 L 0.26755656830304486, -0.9635421541156869 L 0.26400913930440395, -0.9645201783082341 L 0.26045813541508084, -0.9654851421415553 L 0.2569036047184523, -0.9664370325492837 L 0.2533455953456485, -0.9673758366420773 L 0.2497841554749059, -0.9683015417077926 L 0.24621933333091195, -0.9692141352116576 L 0.24265117718415355, -0.9701136047964406 L 0.23907973535025998, -0.9709999382826189 L 0.2355050561893539, -0.9718731236685421 L 0.23192718810539392, -0.9727331491305954 L 0.22834617954551661, -0.9735800030233606 L 0.22476207899938558, -0.9744136738797716 L 0.22117493499853239, -0.9752341504112717 L 0.21758479611569673, -0.9760414215079659 L 0.21399171096417405, -0.9768354762387704 L 0.2103957281971544, -0.9776163038515617 L 0.20679689650706143, -0.9783838937733224 L 0.20319526462489784, -0.9791382356102828 L 0.19959088131958327, -0.9798793191480633 L 0.19598379539729113, -0.980607134351812 L 0.192374055700793, -0.9813216713663406 L 0.18876171110879456, -0.9820229205162576 L 0.18514681053527135, -0.9827108723061002 L 0.18152940292881142, -0.9833855174204618 L 0.17790953727195005, -0.9840468467241185 L 0.1742872625805038, -0.9846948512621535 L 0.1706626279029121, -0.9853295222600773 L 0.1670356823195704, -0.985950851123947 L 0.16340647494216304, -0.9865588294404831 L 0.15977505491300345, -0.9871534489771825 L 0.15614147140436604, -0.9877347016824303 L 0.15250577361781792, -0.9883025796856096 L 0.14886801078355769, -0.9888570752972072 L 0.14522823215974634, -0.9893981810089175 L 0.14158648703183765, -0.9899258894937455 L 0.13794282471191602, -0.9904401936061045 L 0.13429729453802522, -0.9909410863819135 L 0.13064994587350212, -0.9914285610386918 L 0.12700082810630478, -0.9919026109756506 L 0.12334999064834976, -0.992363229773782 L 0.11969748293483608, -0.9928104111959466 L 0.116043354423582, -0.9932441491869575 L 0.11238765459435174, -0.993664437873662 L 0.10873043294818728, -0.9940712715650221 L 0.10507173900673455, -0.9944646447521907 L 0.10141162231157819, -0.9948445521085864 L 0.09775013242356798, -0.9952109884899658 L 0.0940873189221452, -0.9955639489344934 L 0.09042323140467655, -0.9959034286628078 L 0.08675791948577988, -0.9962294230780875 L 0.08309143279664975, -0.9965419277661125 L 0.0794238209843907, -0.9968409384953245 L 0.0757551337113423, -0.9971264512168838 L 0.07208542065440406, -0.9973984620647245 L 0.06841473150436804, -0.9976569673556063 L 0.06474311596524339, -0.9979019635891649 L 0.06107062375358063, -0.9981334474479595 L 0.05739730459780378, -0.9983514157975172 L 0.05372320823753431, -0.9985558656863753 L 0.05004838442291501, -0.9987467943461226 L 0.04637288291394162, -0.998924199191435 L 0.04269675347978639, -0.9990880778201121 L 0.03902004589812152, -0.9992384280131086 L 0.03534280995445044, -0.9993752477345652 L 0.031665095441431, -0.9994985351318355 L 0.027986952158198606, -0.9996082885355116 L 0.02430842990969722, -0.9997045064594464 L 0.020629578506002267, -0.9997871876007737 L 0.016950447761643547, -0.9998563308399261 L 0.013271087494936008, -0.9999119352406499 L 0.00959154752730251, -0.999954000050018 L 0.005911877682596542, -0.99998252469844 L 0.0022321277864328945, -0.9999975087996695 L -0.0014476523344905715, -0.9999989521508102 L -0.005127412853065839, -0.9999868547323181 L -0.008807103942452987, -0.9999612167080015 L -0.012486675776749556, -0.9999220384250196 L -0.016166078531667894, -0.9998693204138769 L -0.01984526238521248, -0.9998030633884165 L -0.023524177518349225, -0.9997232682458107 L -0.027202774115682723, -0.9996299360665482 L -0.03088100236613346, -0.9995230681144197 L -0.03455881246360697, -0.9994026658365012 L -0.03823615460767088, -0.9992687308631338 L -0.04191297900423197, -0.9991212650079022 L -0.04558923586620505, -0.9989602702676096 L -0.04926487541418978, -0.9987857488222508 L -0.052939847877147415, -0.9985977030349832 L -0.058233832664862165 ,-1.0984574733384815",
          "type": "path"
         },
         {
          "fillcolor": "rgba(102,194,165,0.75)",
          "layer": "below",
          "line": {
           "color": "rgb(150,150,150)",
           "width": 0.45
          },
          "path": "M 0.33696216457800604, -1.0471181880011946 L 0.3380926720233657, -1.046753717511479 L 0.33922278524545557, -1.0463880264845904 L 0.34035250292653785, -1.0460211153469328 L 0.34148182374933933, -1.045652984526332 L 0.3426107463970461, -1.0452836344520369 L 0.343739269553311, -1.044913065554717 L 0.34486739190225313, -1.0445412782664636 L 0.34599511212845574, -1.0441682730207893 L 0.3471224289169748, -1.0437940502526253 L 0.34824934095333315, -1.0434186103983238 L 0.34937584692352813, -1.043041953895656 L 0.3505019455140307, -1.0426640811838104 L 0.35162763541178405, -1.0422849927033957 L 0.35275291530421155, -1.0419046888964365 L 0.3538777838792109, -1.0415231702063754 L 0.3550022398251625, -1.0411404370780715 L 0.3561262818309274, -1.0407564899577995 L 0.35724990858584693, -1.04037132929325 L 0.3583731187797492, -1.0399849555335288 L 0.35949591110294804, -1.0395973691291553 L 0.3606182842462418, -1.0392085705320646 L 0.36174023690092133, -1.0388185601956028 L 0.36286176775876405, -1.0384273385745317 L 0.36398287551204195, -1.0380349061250231 L 0.36510355885352036, -1.0376412633046617 L 0.36622381647645674, -1.037246410572444 L 0.3673436470746087, -1.0368503483887757 L 0.368463049342228, -1.0364530772154747 L 0.3695820219740686, -1.0360545975157676 L 0.3707005636653855, -1.0356549097542895 L 0.37181867311193334, -1.0352540143970856 L 0.37293634900997447, -1.034851911911608 L 0.3740535900562731, -1.0344486027667172 L 0.3751703949481033, -1.0340440874326802 L 0.37628676238324765, -1.03363836638117 L 0.37740269105999596, -1.0332314400852665 L 0.3785181796771535, -1.0328233090194539 L 0.37963322693403495, -1.0324139736596225 L 0.3807478315304722, -1.0320034344830658 L 0.3818619921668135, -1.0315916919684807 L 0.382975707543922, -1.0311787465959685 L 0.3840889763631835, -1.0307645988470315 L 0.385201797326501, -1.030349249204576 L 0.38631416913630257, -1.0299326981529078 L 0.38742609049553967, -1.0295149461777338 L 0.3885375601076865, -1.0290959937661628 L 0.3896485766767476, -1.0286758414067014 L 0.39075913890725217, -1.028254489589257 L 0.3918692455042618, -1.027831938805134 L 0.3929788951733694, -1.027408189547036 L 0.39408808662069805, -1.026983242309064 L 0.39519681855290767, -1.026557097586715 L 0.3963050896771941, -1.026129755876883 L 0.39741289870128776, -1.0257012176778577 L 0.39852024433346145, -1.0252714834893235 L 0.3996271252825248, -1.0248405538123604 L 0.40073354025783187, -1.0244084291494409 L 0.4018394879692801, -1.0239751100044312 L 0.402944967127309, -1.0235405968825917 L 0.4040499764429081, -1.023104890290573 L 0.4051545146276112, -1.0226679907364193 L 0.40625858039350415, -1.0222298987295642 L 0.4073621724532234, -1.021790614780832 L 0.4084652895199556, -1.0213501394024378 L 0.4095679303074441, -1.0209084731079847 L 0.41067009352998474, -1.020465616412466 L 0.4117717779024324, -1.020021569832261 L 0.41287298214020063, -1.0195763338851378 L 0.41397370495925984, -1.0191299090902515 L 0.41507394507614565, -1.0186822959681419 L 0.41617370120795266, -1.0182334950407366 L 0.4172729720723428, -1.0177835068313468 L 0.41837175638754365, -1.0173323318646674 L 0.41947005287234745, -1.0168799706667795 L 0.42056786024611875, -1.0164264237651446 L 0.4216651772287891, -1.015971691688609 L 0.4227620025408643, -1.0155157749673998 L 0.4238583349034235, -1.015058674133125 L 0.42495417303811794, -1.0146003897187748 L 0.4260495156671789, -1.0141409222587177 L 0.4271443615134116, -1.0136802722887035 L 0.42823870930020336, -1.0132184403458595 L 0.4293325577515222, -1.0127554269686914 L 0.43042590559191557, -1.012291232697083 L 0.43151875154651764, -1.0118258580722945 L 0.4326110943410475, -1.0113593036369624 L 0.43370293270180843, -1.0108915699350998 L 0.43479426535569526, -1.0104226575120936 L 0.43588509103018913, -1.009952566914706 L 0.43697540845336486, -1.009481298691073 L 0.43806521635389006, -1.0090088533907022 L 0.4391545134610236, -1.0085352315644762 L 0.4402432985046235, -1.0080604337646475 L 0.4413315702151416, -1.0075844605448407 L 0.4424193273236306, -1.007107312460051 L 0.44350656856174336, -1.006628990066642 L 0.44459329266173175, -1.0061494939223494 L 0.44567949835645404, -1.0056688245862748 L 0.44676518437936924, -1.0051869826188897 L 0.40615016761760836, -0.9138063478353543 L 0.4051631803240491, -0.9142443859875226 L 0.4041757206015743, -0.9146813581112267 L 0.40318778960158486, -0.9151172636969472 L 0.40219938847602776, -0.9155521022364098 L 0.4012105183774014, -0.9159858732225824 L 0.4002211804587486, -0.9164185761496794 L 0.39923137587365776, -0.9168502105131602 L 0.39824110577626365, -0.9172807758097292 L 0.39725037132124075, -0.917710271537339 L 0.39625917366380825, -0.9181386971951873 L 0.3952675139597229, -0.9185660522837213 L 0.39427539336528034, -0.9189923363046362 L 0.3932828130373159, -0.9194175487608748 L 0.3922897741331978, -0.9198416891566312 L 0.3912962778108323, -0.920264756997348 L 0.3903023252286565, -0.9206867517897193 L 0.38930791754563937, -0.9211076730416904 L 0.38831305592128323, -0.9215275202624577 L 0.38731774151561715, -0.9219462929624705 L 0.3863219754891981, -0.9223639906534314 L 0.3853257590031122, -0.9227806128482953 L 0.3843290932189675, -0.9231961590612724 L 0.3833319792988992, -0.9236106288078263 L 0.3823344184055625, -0.9240240216046768 L 0.381336411702134, -0.9244363369697994 L 0.3803379603523124, -0.9248475744224249 L 0.3793390655203116, -0.9252577334830424 L 0.37833972837086605, -0.9256668136733969 L 0.3773399500692233, -0.9260748145164925 L 0.37633973178114527, -0.9264817355365921 L 0.3753390746729096, -0.926887576259216 L 0.3743379799113022, -0.9272923362111463 L 0.3733364486636225, -0.9276960149204234 L 0.37233448209767644, -0.9280986119163497 L 0.37133208138177776, -0.9285001267294888 L 0.37032924768474856, -0.9289005588916653 L 0.36932598217591284, -0.9292999079359673 L 0.3683222860251011, -0.9296981733967448 L 0.3673181604026437, -0.9300953548096118 L 0.3663136064793718, -0.9304914517114469 L 0.36530862542661824, -0.930886463640392 L 0.3643032184162108, -0.9312803901358552 L 0.36329738662047706, -0.9316732307385093 L 0.36229113121223766, -0.9320649849902941 L 0.361284453364807, -0.9324556524344161 L 0.3602773542519946, -0.932845232615348 L 0.35926983504809784, -0.9332337250788317 L 0.3582618969279073, -0.9336211293718761 L 0.35725354106669943, -0.9340074450427599 L 0.35624476864023796, -0.9343926716410309 L 0.3552355808247747, -0.9347768087175061 L 0.35422597879704326, -0.9351598558242739 L 0.3532159637342604, -0.9355418125146934 L 0.3522055368141269, -0.9359226783433943 L 0.3511946992148205, -0.9363024528662797 L 0.3501834521150009, -0.9366811356405236 L 0.34917179669380316, -0.9370587262245741 L 0.34815973413083817, -0.9374352241781531 L 0.3471472656061941, -0.9378106290622551 L 0.34613439230042925, -0.9381849404391506 L 0.3451211153945772, -0.9385581578723841 L 0.34410743607013955, -0.9389302809267762 L 0.3430933555090872, -0.9393013091684239 L 0.34207887489386146, -0.9396712421646998 L 0.3410639954073666, -0.9400400794842546 L 0.3400487182329755, -0.9404078206970157 L 0.3390330445545222, -0.9407744653741891 L 0.338016975556303, -0.9411400130882597 L 0.3370005124230777, -0.9415044634129904 L 0.33598365634006233, -0.9418678159234251 L 0.3349664084929345, -0.9422300701958861 L 0.3339487700678261, -0.9425912258079778 L 0.3329307422513243, -0.9429512823385853 L 0.331912326230473, -0.9433102393678742 L 0.3308935231927654, -0.9436680964772937 L 0.3298743343261491, -0.9440248532495742 L 0.3288547608190194, -0.9443805092687299 L 0.3278348038602198, -0.9447350641200586 L 0.3268144646390436, -0.9450885173901412 L 0.3257937443452265, -0.9454408686668443 L 0.32477264416895174, -0.9457921175393181 L 0.3237511653008431, -0.9461422635979994 L 0.3227293089319659, -0.9464913064346104 L 0.3217070762538281, -0.9468392456421595 L 0.3206844684583741, -0.9471860808149422 L 0.31966148673798545, -0.9475318115485415 L 0.31863813228548243, -0.9478764374398276 L 0.31761440629411647, -0.9482199580869599 L 0.3165903099575756, -0.9485623730893853 L 0.3155658444699771, -0.948903682047841 L 0.31454101102586884, -0.9492438845643538 L 0.3135158108202301, -0.9495829802422396 L 0.31249024504846457, -0.9499209686861063 L 0.3114643149064055, -0.9502578495018515 L 0.3104380215903085, -0.9505936222966653 L 0.30941136629685256, -0.9509282866790297 L 0.3083843502231414, -0.9512618422587185 L 0.30735697456669603, -0.951594288646799 L 0.30632924052546, -0.9519256254556313 L 0.33696216457800604 ,-1.0471181880011946",
          "type": "path"
         },
         {
          "fillcolor": "rgba(50,136,189,0.75)",
          "layer": "below",
          "line": {
           "color": "rgb(150,150,150)",
           "width": 0.45
          },
          "path": "M 0.44676581595688886, -1.0051867019078473 L 0.45843765841911255, -0.9999174532646188 L 0.47004736670844555, -0.9945126811913744 L 0.48159336730750957, -0.9889731182218324 L 0.4930740953335261, -0.9832995151585426 L 0.5044879947504074, -0.9774926409711293 L 0.5158335185796568, -0.9715532826920669 L 0.5271091291100363, -0.9654822453100106 L 0.5383132981059806, -0.9592803516606925 L 0.5494445070147246, -0.9529484423153997 L 0.5605012471721229, -0.9464873754670451 L 0.5714820200071217, -0.939898026813856 L 0.5823853372448698, -0.9331812894406849 L 0.5932097211084313, -0.9263380736979655 L 0.6039537045190743, -0.919369307078329 L 0.6146158312951112, -0.9122759340908975 L 0.6251946563492644, -0.9050589161332676 L 0.6356887458845211, -0.8977192313612118 L 0.6460966775884651, -0.8902578745561014 L 0.6564170408260493, -0.8826758569900803 L 0.6666484368307852, -0.8749742062890029 L 0.6767894788943234, -0.8671539662931551 L 0.6868387925544034, -0.8592161969157759 L 0.696795015781137, -0.8511619739994057 L 0.706656799161613, -0.8429923891700707 L 0.7164228060827883, -0.8347085496893294 L 0.7260917129126452, -0.8263115783042018 L 0.7356622091795919, -0.8178026130949952 L 0.7451329977500728, -0.8091828073210591 L 0.7545027950043769, -0.8004533292644759 L 0.763770331010613, -0.7916153620717189 L 0.7729343496968294, -0.7826701035932954 L 0.7819936090212541, -0.7736187662213954 L 0.7909468811406354, -0.7644625767255724 L 0.7997929525766582, -0.7552027760864704 L 0.8085306243804093, -0.745840619327632 L 0.817158712294879, -0.7363773753453967 L 0.8256760469154683, -0.7268143267369224 L 0.8340814738484825, -0.7171527696263492 L 0.8423738538675948, -0.7073940134891278 L 0.8505520630682468, -0.6975393809745434 L 0.858614993019979, -0.6875902077264492 L 0.8665615509166605, -0.6775478422022403 L 0.8743906597246031, -0.6674136454900915 L 0.8821012583285353, -0.6571889911244824 L 0.8896923016754206, -0.6468752649000368 L 0.8971627609161001, -0.6364738646836968 L 0.9045116235447342, -0.6259862002252679 L 0.9117378935360343, -0.6154136929663454 L 0.9188405914802577, -0.6047577758476615 L 0.9258187547159514, -0.594019893114873 L 0.9326714374604285, -0.5832015001228119 L 0.9393977109379507, -0.5723040631382401 L 0.9459966635056118, -0.5613290591411161 L 0.9524674007768967, -0.5502779756244134 L 0.9588090457429012, -0.5391523103925157 L 0.9650207388911981, -0.5279535713582078 L 0.9711016383223297, -0.5166832763383072 L 0.9770509198639142, -0.5053429528479437 L 0.9828677771823514, -0.493934137893529 L 0.9885514218921067, -0.48245837776443934 L 0.9941010836625654, -0.47091722782343953 L 0.9995160103224396, -0.4593122522958786 L 1.0047954679617142, -0.44764502405767914 L 1.009938741031114, -0.43591712442216396 L 1.0149451324390892, -0.42413014292572965 L 1.0198139636462926, -0.41228567711241015 L 1.0245445747575461, -0.4003853323173553 L 1.0291363246112812, -0.3884307214492485 L 1.0335885908664353, -0.3764234647717076 L 1.0379007700868021, -0.3643651896836792 L 1.0420722778228186, -0.3522575304988704 L 1.0461025486907776, -0.3401021282242431 L 1.0499910364494567, -0.3279006303376009 L 1.0537372140741528, -0.31565469056429923 L 1.0573405738281132, -0.3033659686531048 L 1.0608006273313502, -0.291036130151248 L 1.064116905626834, -0.2786668461786797 L 1.0672889592440526, -0.26625979320157755 L 1.0703163582599313, -0.2538166528051276 L 1.0731986923571009, -0.2413391114656078 L 1.0759355708795106, -0.2288288603218176 L 1.0785266228853756, -0.21628759494586633 L 1.080971497197452, -0.20371701511336535 L 1.083269862450634, -0.19111882457305077 L 1.0854214071368655, -0.17849473081586242 L 1.0874258396473588, -0.16584644484352576 L 1.08928288831212, -0.15317568093664782 L 1.0909923014367673, -0.14048415642237394 L 1.092553847336646, -0.12777359144163042 L 1.0939673143682294, -0.11504570871598598 L 1.0952325109578032, -0.10230223331416415 L 1.096349265627431, -0.08954489241823306 L 1.0973174270181953, -0.07677541508951811 L 1.0981368639107119, -0.06399553203425057 L 1.0988074652429147, -0.05120697536899786 L 1.0993291401251082, -0.03841147838590279 L 1.0997018178522864, -0.025610775317758572 L 1.0999254479137164, -0.012806601102966098 L 1.099999999999783, -6.91150385814946e-07 L 0.9999999999998026, -6.283185325590418e-07 L 0.9999322253761057, -0.011642364639060088 L 0.9997289253202604, -0.023282523016144155 L 0.9993901273864618, -0.03491952580536617 L 0.9989158774935587, -0.04655179578999805 L 0.9983062399188289, -0.05817775639477324 L 0.9975612972892683, -0.06979583189956191 L 0.9966811505703917, -0.08140444765293914 L 0.9956659190525483, -0.09300203028560376 L 0.994515740334754, -0.1045870079236236 L 0.9932307703060419, -0.1161578104014822 L 0.9918111831243338, -0.1277128694748854 L 0.9902571711928363, -0.1392506190333162 L 0.9885689451339625, -0.15076949531229614 L 0.9867467337607867, -0.16226793710532947 L 0.9847907840460309, -0.17374438597550068 L 0.9827013610885927, -0.18519728646669575 L 0.980478748077614, -0.1966250863144239 L 0.9781232462541004, -0.2080262366561978 L 0.9756351748700915, -0.21939919224146162 L 0.973014871145392, -0.23074241164102507 L 0.9702626902218661, -0.24205435745597956 L 0.9673790051153035, -0.25333349652607245 L 0.9643642066648637, -0.26457830013749817 L 0.9612187034801029, -0.2757872442300952 L 0.9579429218855933, -0.28695880960390835 L 0.9545373058631423, -0.29809148212509173 L 0.9510023169916159, -0.3091837529311301 L 0.9473384343843805, -0.3202341186353367 L 0.9435461546243654, -0.33124108153061743 L 0.9396259916967592, -0.34220314979246147 L 0.9355784769193465, -0.353118837681135 L 0.9314041588704964, -0.3639866657430502 L 0.9271036033148113, -0.3748051610112819 L 0.9226773931264447, -0.38557285720520873 L 0.9181261282101036, -0.39628829492923995 L 0.9134504254197401, -0.40695002187061735 L 0.9086509184749451, -0.4175565929962532 L 0.9037282578750594, -0.4281065707485814 L 0.8986831108110059, -0.4385985252403994 L 0.8935161610748649, -0.4490310344486627 L 0.8882281089671947, -0.4594026844072215 L 0.8828196712021178, -0.46971206939846105 L 0.87729158081018, -0.4799577921438252 L 0.8716445870390009, -0.49013846399319605 L 0.8658794552517243, -0.500252705113103 L 0.8599969668232834, -0.5102991446737418 L 0.8539979190345005, -0.5202764210347637 L 0.8478831249640258, -0.5301831819298289 L 0.8416534133781376, -0.5400180846498845 L 0.835309628618416, -0.5497797962251468 L 0.8288526304873038, -0.5594669936057685 L 0.8222832941315765, -0.5690783638411525 L 0.8156025099237273, -0.5786126042579062 L 0.8088111833412913, -0.588068422636397 L 0.8019102348441229, -0.597444537385893 L 0.7949005997496391, -0.606739677718265 L 0.787783228106055, -0.6159525838202184 L 0.7805590845636172, -0.6250820070240447 L 0.7732291482438607, -0.6341267099768576 L 0.7657944126069043, -0.6430854668082979 L 0.7582558853168022, -0.651957063296681 L 0.7506145881049711, -0.6607402970335657 L 0.7428715566317081, -0.6694339775867242 L 0.7350278403458266, -0.6780369266614836 L 0.7270845023424165, -0.6865479782604276 L 0.7190426192187593, -0.6949659788414294 L 0.7109032809284128, -0.7032897874739957 L 0.7026675906334812, -0.7115182759939048 L 0.6943366645551027, -0.719650329156108 L 0.6859116318221608, -0.7276848447858871 L 0.677393634318248, -0.7356207339282355 L 0.6687838265269017, -0.7434569209954501 L 0.660083375375132, -0.7511923439129107 L 0.651293460075262, -0.7588259542630267 L 0.6424152719651026, -0.7663567174273369 L 0.6334500143464882, -0.7737836127267325 L 0.6243989023221849, -0.7811056335597962 L 0.6152631626312031, -0.7883217875392319 L 0.606044033482532, -0.7954310966263662 L 0.5967427643873175, -0.8024325972637093 L 0.5873606159895137, -0.8093253405055466 L 0.5778988598950191, -0.8161083921465561 L 0.5683587784993313, -0.8227808328484251 L 0.5587416648137374, -0.8293417582644522 L 0.5490488222900675, -0.8357902791621172 L 0.5392815646440284, -0.842125521543605 L 0.5294412156771544, -0.848346626764259 L 0.5195291090973833, -0.85445275164896 L 0.5095465883382935, -0.8604430686064045 L 0.49949500637702227, -0.8663167657412724 L 0.4893757255508914, -0.8720730469642658 L 0.4791901173727602, -0.8777111321000095 L 0.46893956234514245, -0.883230256992788 L 0.4586254497730976, -0.8886296736101175 L 0.44824917757593274, -0.8939086501441296 L 0.43781215209773594, -0.8990664711107567 L 0.42731578791676866, -0.9041024374467039 L 0.41676150765373865, -0.9090158666041989 L 0.40615074177898985, -0.9138060926434974 L 0.44676581595688886 ,-1.0051867019078473",
          "type": "path"
         }
        ],
        "showlegend": false,
        "template": {
         "data": {
          "bar": [
           {
            "error_x": {
             "color": "#2a3f5f"
            },
            "error_y": {
             "color": "#2a3f5f"
            },
            "marker": {
             "line": {
              "color": "#E5ECF6",
              "width": 0.5
             },
             "pattern": {
              "fillmode": "overlay",
              "size": 10,
              "solidity": 0.2
             }
            },
            "type": "bar"
           }
          ],
          "barpolar": [
           {
            "marker": {
             "line": {
              "color": "#E5ECF6",
              "width": 0.5
             },
             "pattern": {
              "fillmode": "overlay",
              "size": 10,
              "solidity": 0.2
             }
            },
            "type": "barpolar"
           }
          ],
          "carpet": [
           {
            "aaxis": {
             "endlinecolor": "#2a3f5f",
             "gridcolor": "white",
             "linecolor": "white",
             "minorgridcolor": "white",
             "startlinecolor": "#2a3f5f"
            },
            "baxis": {
             "endlinecolor": "#2a3f5f",
             "gridcolor": "white",
             "linecolor": "white",
             "minorgridcolor": "white",
             "startlinecolor": "#2a3f5f"
            },
            "type": "carpet"
           }
          ],
          "choropleth": [
           {
            "colorbar": {
             "outlinewidth": 0,
             "ticks": ""
            },
            "type": "choropleth"
           }
          ],
          "contour": [
           {
            "colorbar": {
             "outlinewidth": 0,
             "ticks": ""
            },
            "colorscale": [
             [
              0,
              "#0d0887"
             ],
             [
              0.1111111111111111,
              "#46039f"
             ],
             [
              0.2222222222222222,
              "#7201a8"
             ],
             [
              0.3333333333333333,
              "#9c179e"
             ],
             [
              0.4444444444444444,
              "#bd3786"
             ],
             [
              0.5555555555555556,
              "#d8576b"
             ],
             [
              0.6666666666666666,
              "#ed7953"
             ],
             [
              0.7777777777777778,
              "#fb9f3a"
             ],
             [
              0.8888888888888888,
              "#fdca26"
             ],
             [
              1,
              "#f0f921"
             ]
            ],
            "type": "contour"
           }
          ],
          "contourcarpet": [
           {
            "colorbar": {
             "outlinewidth": 0,
             "ticks": ""
            },
            "type": "contourcarpet"
           }
          ],
          "heatmap": [
           {
            "colorbar": {
             "outlinewidth": 0,
             "ticks": ""
            },
            "colorscale": [
             [
              0,
              "#0d0887"
             ],
             [
              0.1111111111111111,
              "#46039f"
             ],
             [
              0.2222222222222222,
              "#7201a8"
             ],
             [
              0.3333333333333333,
              "#9c179e"
             ],
             [
              0.4444444444444444,
              "#bd3786"
             ],
             [
              0.5555555555555556,
              "#d8576b"
             ],
             [
              0.6666666666666666,
              "#ed7953"
             ],
             [
              0.7777777777777778,
              "#fb9f3a"
             ],
             [
              0.8888888888888888,
              "#fdca26"
             ],
             [
              1,
              "#f0f921"
             ]
            ],
            "type": "heatmap"
           }
          ],
          "heatmapgl": [
           {
            "colorbar": {
             "outlinewidth": 0,
             "ticks": ""
            },
            "colorscale": [
             [
              0,
              "#0d0887"
             ],
             [
              0.1111111111111111,
              "#46039f"
             ],
             [
              0.2222222222222222,
              "#7201a8"
             ],
             [
              0.3333333333333333,
              "#9c179e"
             ],
             [
              0.4444444444444444,
              "#bd3786"
             ],
             [
              0.5555555555555556,
              "#d8576b"
             ],
             [
              0.6666666666666666,
              "#ed7953"
             ],
             [
              0.7777777777777778,
              "#fb9f3a"
             ],
             [
              0.8888888888888888,
              "#fdca26"
             ],
             [
              1,
              "#f0f921"
             ]
            ],
            "type": "heatmapgl"
           }
          ],
          "histogram": [
           {
            "marker": {
             "pattern": {
              "fillmode": "overlay",
              "size": 10,
              "solidity": 0.2
             }
            },
            "type": "histogram"
           }
          ],
          "histogram2d": [
           {
            "colorbar": {
             "outlinewidth": 0,
             "ticks": ""
            },
            "colorscale": [
             [
              0,
              "#0d0887"
             ],
             [
              0.1111111111111111,
              "#46039f"
             ],
             [
              0.2222222222222222,
              "#7201a8"
             ],
             [
              0.3333333333333333,
              "#9c179e"
             ],
             [
              0.4444444444444444,
              "#bd3786"
             ],
             [
              0.5555555555555556,
              "#d8576b"
             ],
             [
              0.6666666666666666,
              "#ed7953"
             ],
             [
              0.7777777777777778,
              "#fb9f3a"
             ],
             [
              0.8888888888888888,
              "#fdca26"
             ],
             [
              1,
              "#f0f921"
             ]
            ],
            "type": "histogram2d"
           }
          ],
          "histogram2dcontour": [
           {
            "colorbar": {
             "outlinewidth": 0,
             "ticks": ""
            },
            "colorscale": [
             [
              0,
              "#0d0887"
             ],
             [
              0.1111111111111111,
              "#46039f"
             ],
             [
              0.2222222222222222,
              "#7201a8"
             ],
             [
              0.3333333333333333,
              "#9c179e"
             ],
             [
              0.4444444444444444,
              "#bd3786"
             ],
             [
              0.5555555555555556,
              "#d8576b"
             ],
             [
              0.6666666666666666,
              "#ed7953"
             ],
             [
              0.7777777777777778,
              "#fb9f3a"
             ],
             [
              0.8888888888888888,
              "#fdca26"
             ],
             [
              1,
              "#f0f921"
             ]
            ],
            "type": "histogram2dcontour"
           }
          ],
          "mesh3d": [
           {
            "colorbar": {
             "outlinewidth": 0,
             "ticks": ""
            },
            "type": "mesh3d"
           }
          ],
          "parcoords": [
           {
            "line": {
             "colorbar": {
              "outlinewidth": 0,
              "ticks": ""
             }
            },
            "type": "parcoords"
           }
          ],
          "pie": [
           {
            "automargin": true,
            "type": "pie"
           }
          ],
          "scatter": [
           {
            "marker": {
             "colorbar": {
              "outlinewidth": 0,
              "ticks": ""
             }
            },
            "type": "scatter"
           }
          ],
          "scatter3d": [
           {
            "line": {
             "colorbar": {
              "outlinewidth": 0,
              "ticks": ""
             }
            },
            "marker": {
             "colorbar": {
              "outlinewidth": 0,
              "ticks": ""
             }
            },
            "type": "scatter3d"
           }
          ],
          "scattercarpet": [
           {
            "marker": {
             "colorbar": {
              "outlinewidth": 0,
              "ticks": ""
             }
            },
            "type": "scattercarpet"
           }
          ],
          "scattergeo": [
           {
            "marker": {
             "colorbar": {
              "outlinewidth": 0,
              "ticks": ""
             }
            },
            "type": "scattergeo"
           }
          ],
          "scattergl": [
           {
            "marker": {
             "colorbar": {
              "outlinewidth": 0,
              "ticks": ""
             }
            },
            "type": "scattergl"
           }
          ],
          "scattermapbox": [
           {
            "marker": {
             "colorbar": {
              "outlinewidth": 0,
              "ticks": ""
             }
            },
            "type": "scattermapbox"
           }
          ],
          "scatterpolar": [
           {
            "marker": {
             "colorbar": {
              "outlinewidth": 0,
              "ticks": ""
             }
            },
            "type": "scatterpolar"
           }
          ],
          "scatterpolargl": [
           {
            "marker": {
             "colorbar": {
              "outlinewidth": 0,
              "ticks": ""
             }
            },
            "type": "scatterpolargl"
           }
          ],
          "scatterternary": [
           {
            "marker": {
             "colorbar": {
              "outlinewidth": 0,
              "ticks": ""
             }
            },
            "type": "scatterternary"
           }
          ],
          "surface": [
           {
            "colorbar": {
             "outlinewidth": 0,
             "ticks": ""
            },
            "colorscale": [
             [
              0,
              "#0d0887"
             ],
             [
              0.1111111111111111,
              "#46039f"
             ],
             [
              0.2222222222222222,
              "#7201a8"
             ],
             [
              0.3333333333333333,
              "#9c179e"
             ],
             [
              0.4444444444444444,
              "#bd3786"
             ],
             [
              0.5555555555555556,
              "#d8576b"
             ],
             [
              0.6666666666666666,
              "#ed7953"
             ],
             [
              0.7777777777777778,
              "#fb9f3a"
             ],
             [
              0.8888888888888888,
              "#fdca26"
             ],
             [
              1,
              "#f0f921"
             ]
            ],
            "type": "surface"
           }
          ],
          "table": [
           {
            "cells": {
             "fill": {
              "color": "#EBF0F8"
             },
             "line": {
              "color": "white"
             }
            },
            "header": {
             "fill": {
              "color": "#C8D4E3"
             },
             "line": {
              "color": "white"
             }
            },
            "type": "table"
           }
          ]
         },
         "layout": {
          "annotationdefaults": {
           "arrowcolor": "#2a3f5f",
           "arrowhead": 0,
           "arrowwidth": 1
          },
          "autotypenumbers": "strict",
          "coloraxis": {
           "colorbar": {
            "outlinewidth": 0,
            "ticks": ""
           }
          },
          "colorscale": {
           "diverging": [
            [
             0,
             "#8e0152"
            ],
            [
             0.1,
             "#c51b7d"
            ],
            [
             0.2,
             "#de77ae"
            ],
            [
             0.3,
             "#f1b6da"
            ],
            [
             0.4,
             "#fde0ef"
            ],
            [
             0.5,
             "#f7f7f7"
            ],
            [
             0.6,
             "#e6f5d0"
            ],
            [
             0.7,
             "#b8e186"
            ],
            [
             0.8,
             "#7fbc41"
            ],
            [
             0.9,
             "#4d9221"
            ],
            [
             1,
             "#276419"
            ]
           ],
           "sequential": [
            [
             0,
             "#0d0887"
            ],
            [
             0.1111111111111111,
             "#46039f"
            ],
            [
             0.2222222222222222,
             "#7201a8"
            ],
            [
             0.3333333333333333,
             "#9c179e"
            ],
            [
             0.4444444444444444,
             "#bd3786"
            ],
            [
             0.5555555555555556,
             "#d8576b"
            ],
            [
             0.6666666666666666,
             "#ed7953"
            ],
            [
             0.7777777777777778,
             "#fb9f3a"
            ],
            [
             0.8888888888888888,
             "#fdca26"
            ],
            [
             1,
             "#f0f921"
            ]
           ],
           "sequentialminus": [
            [
             0,
             "#0d0887"
            ],
            [
             0.1111111111111111,
             "#46039f"
            ],
            [
             0.2222222222222222,
             "#7201a8"
            ],
            [
             0.3333333333333333,
             "#9c179e"
            ],
            [
             0.4444444444444444,
             "#bd3786"
            ],
            [
             0.5555555555555556,
             "#d8576b"
            ],
            [
             0.6666666666666666,
             "#ed7953"
            ],
            [
             0.7777777777777778,
             "#fb9f3a"
            ],
            [
             0.8888888888888888,
             "#fdca26"
            ],
            [
             1,
             "#f0f921"
            ]
           ]
          },
          "colorway": [
           "#636efa",
           "#EF553B",
           "#00cc96",
           "#ab63fa",
           "#FFA15A",
           "#19d3f3",
           "#FF6692",
           "#B6E880",
           "#FF97FF",
           "#FECB52"
          ],
          "font": {
           "color": "#2a3f5f"
          },
          "geo": {
           "bgcolor": "white",
           "lakecolor": "white",
           "landcolor": "#E5ECF6",
           "showlakes": true,
           "showland": true,
           "subunitcolor": "white"
          },
          "hoverlabel": {
           "align": "left"
          },
          "hovermode": "closest",
          "mapbox": {
           "style": "light"
          },
          "paper_bgcolor": "white",
          "plot_bgcolor": "#E5ECF6",
          "polar": {
           "angularaxis": {
            "gridcolor": "white",
            "linecolor": "white",
            "ticks": ""
           },
           "bgcolor": "#E5ECF6",
           "radialaxis": {
            "gridcolor": "white",
            "linecolor": "white",
            "ticks": ""
           }
          },
          "scene": {
           "xaxis": {
            "backgroundcolor": "#E5ECF6",
            "gridcolor": "white",
            "gridwidth": 2,
            "linecolor": "white",
            "showbackground": true,
            "ticks": "",
            "zerolinecolor": "white"
           },
           "yaxis": {
            "backgroundcolor": "#E5ECF6",
            "gridcolor": "white",
            "gridwidth": 2,
            "linecolor": "white",
            "showbackground": true,
            "ticks": "",
            "zerolinecolor": "white"
           },
           "zaxis": {
            "backgroundcolor": "#E5ECF6",
            "gridcolor": "white",
            "gridwidth": 2,
            "linecolor": "white",
            "showbackground": true,
            "ticks": "",
            "zerolinecolor": "white"
           }
          },
          "shapedefaults": {
           "line": {
            "color": "#2a3f5f"
           }
          },
          "ternary": {
           "aaxis": {
            "gridcolor": "white",
            "linecolor": "white",
            "ticks": ""
           },
           "baxis": {
            "gridcolor": "white",
            "linecolor": "white",
            "ticks": ""
           },
           "bgcolor": "#E5ECF6",
           "caxis": {
            "gridcolor": "white",
            "linecolor": "white",
            "ticks": ""
           }
          },
          "title": {
           "x": 0.05
          },
          "xaxis": {
           "automargin": true,
           "gridcolor": "white",
           "linecolor": "white",
           "ticks": "",
           "title": {
            "standoff": 15
           },
           "zerolinecolor": "white",
           "zerolinewidth": 2
          },
          "yaxis": {
           "automargin": true,
           "gridcolor": "white",
           "linecolor": "white",
           "ticks": "",
           "title": {
            "standoff": 15
           },
           "zerolinecolor": "white",
           "zerolinewidth": 2
          }
         }
        },
        "title": {
         "text": " "
        },
        "width": 625,
        "xaxis": {
         "showgrid": false,
         "showline": false,
         "showticklabels": false,
         "title": {
          "text": "Seatlle Bike Flow"
         },
         "zeroline": false
        },
        "yaxis": {
         "scaleanchor": "x",
         "showgrid": false,
         "showline": false,
         "showticklabels": false,
         "title": {
          "text": "Seatlle Bike Flow"
         },
         "zeroline": false
        }
       }
      },
      "text/html": [
       "<div>                            <div id=\"0233d8f9-6477-4159-a746-8e1bf9cc85f0\" class=\"plotly-graph-div\" style=\"height:625px; width:625px;\"></div>            <script type=\"text/javascript\">                require([\"plotly\"], function(Plotly) {                    window.PLOTLYENV=window.PLOTLYENV || {};                                    if (document.getElementById(\"0233d8f9-6477-4159-a746-8e1bf9cc85f0\")) {                    Plotly.newPlot(                        \"0233d8f9-6477-4159-a746-8e1bf9cc85f0\",                        [{\"hoverinfo\":\"text\",\"line\":{\"color\":\"rgba(213,62,79,0.75)\",\"shape\":\"spline\",\"width\":0.25},\"mode\":\"lines\",\"text\":\"Pier 69<br>7898 partidas\",\"x\":[1.1,1.0997924295096861,1.0991697963760323,1.0981323355813382,1.0966804386642328,1.0948146535719068,1.0925356844533176,1.089844391393442,1.08674179008868,1.0832290514635299,1.0793075012286806,1.0749786193806865,1.0702440396434163,1.0651055488514836,1.059565086275894,1.0536247428921628,1.0472867605911789,1.0405535313331127,1.0334275962446886,1.0259116446601617,1.0180085131063608,1.009721184232179,1.0010527856829217,0.9920065889199293,0.9825860079859244,0.97279459821655,0.9626360548985818,0.9521142118753242,0.941233040099714,0.9299966461356797,0.9184092706083204,0.9064752866034901,0.8941991980173911,0.8815856378567997,0.8686393664905652,0.8553652698530424,0.8417683576001364,0.8278537612186522,0.8136267320896691,0.7990926395066633,0.7842569686491329,0.7691253185124847,0.7537033997949703,0.7379970327424615,0.7220121449518863,0.7057547691341468,0.68923104083737,0.6724471961313454,0.6554095692540276,0.6381245902209889,0.6205987823987253,0.6028387600427334,0.5848512258012825,0.566642968185831,0.5482208590090354,0.5295918507913218,0.510762974136999,0.4917413350809021,0.4725341124065681,0.45314855493695694,0.4335919787987399,0.4138717646611857,0.39399535495068994,0.3739702510419966,0.3538040104271733,0.33350424386340555,0.3130786125006912,0.292534824990516,0.27188063457660044,0.2511238361688195,0.23027226340139637,0.20933378567648267,0.18831630519423778,0.16722775397053238,0.1460760908433981,0.12486929846935582,0.10361538031075274,0.08232235761524934,0.06099826638859297,0.03965115436182306,0.01828907795404878,-0.0030799007680499453,-0.024447717132852893,-0.04580630690741525,-0.06714760934091535,-0.08846357020678967,-0.10974614484240423,-0.13098730118511875,-0.15217902280359347,-0.1733133119231978,-0.1943821924443767,-0.2153777129528393,-0.23629194972042858,-0.257117009695544,-0.2778450334819855,-0.29846819830509763,-0.3189787209640912,-0.3393688607694295,-0.35963092246417294,-0.3797572591281749],\"y\":[0.0,0.021368481302664256,0.042728898121435314,0.0640731890159634,0.08539329863183687,0.10668118074068028,0.12792880127680803,0.14912814136928795,0.17027120036827034,0.19134999886444037,0.2123565817004543,0.2332830209732228,0.2541214190259089,0.27486391142851047,0.29550266994590324,0.3160299054922237,0.33643787107047707,0.35671886469626085,0.37686523230450053,0.3968693706381006,0.4167237301174208,0.43642081768949387,0.4559531996559105,0.47531350447830384,0.4944944255603747,0.513488724005407,0.5322892313482349,0.5508888522606267,0.5692805672290691,0.5874574352039368,0.6054125962190522,0.6231392739806412,0.6406307784247138,0.6578805082418995,0.6748819533687872,0.6916286974448299,0.7081144202338837,0.7243329000094716,0.7402780159028675,0.7559437502131187,0.7713241906781307,0.7864135327059607,0.8012060815654756,0.8156962545355486,0.8298785830119828,0.8437477145713684,0.8572984149910905,0.8705255702247305,0.8834241883321117,0.8959894013632612,0.9082164671955799,0.920100771323522,0.9316378286001152,0.9428232849296582,0.9536529189109607,0.9641226434305039,0.9742285072049203,0.9839666962722123,0.9933335354311447,1.0023254896282683,1.0109391652920532,1.0191713116136247,1.0270188217736227,1.0344787341147164,1.0415482332593382,1.0482246511722086,1.0545054681672552,1.060388313858545,1.06587096805487,1.070951361597648,1.0756275771418276,1.0798978498794933,1.0837605682059073,1.0872142743277295,1.0902576648131905,1.0928895910840084,1.095109059848862,1.0969152334782608,1.0983074303206668,1.0992851249597508,1.0998479484126844,1.0999956882693946,1.0997282887727278,1.0990458508394925,1.0979486320223728,1.0964370464127289,1.094511664484317,1.0921732128779935,1.0894225741274794,1.0862607863262912,1.0826890427359637,1.078708691335712,1.0743212343137032,1.0695283275001284,1.064331779742292,1.0587335522219503,1.0527357577151601,1.0463406597949159,1.039550671976873,1.0323683568084874],\"type\":\"scatter\"},{\"hoverinfo\":\"text\",\"line\":{\"color\":\"rgba(244,109,67,0.75)\",\"shape\":\"spline\",\"width\":0.25},\"mode\":\"lines\",\"text\":\"2nd Ave & Pine St<br>3239 partidas\",\"x\":[-0.37975790778426904,-0.38797077926712153,-0.39615902437263334,-0.4043221233533786,-0.4124595580580777,-0.4205708119644863,-0.42865537021218214,-0.43671271963524416,-0.44474234879482766,-0.45274374801162637,-0.460716409398225,-0.4686598268913365,-0.4765734962839253,-0.48445691525721113,-0.4923095834125538,-0.5001310023032165,-0.5079206754660024,-0.5156781084527707,-0.5234028088618199,-0.5310942863691427,-0.53875205275955,-0.5463756219576598,-0.5539645100587514,-0.5615182353594793,-0.5690363183884521,-0.5765182819366647,-0.5839636510877897,-0.5913719532483229,-0.5987427181775805,-0.6060754780175484,-0.6133697673225786,-0.6206251230889331,-0.6278410847841742,-0.6350171943763956,-0.6421529963632964,-0.6492480378010937,-0.6563018683332739,-0.663314040219178,-0.6702841083624216,-0.677211630339149,-0.6840961664261147,-0.6909372796285951,-0.6977345357081265,-0.7044875032100683,-0.7111957534909894,-0.7178588607458777,-0.7244764020351648,-0.7310479573115756,-0.7375731094467883,-0.7440514442579131,-0.7504825505337809,-0.7568660200610463,-0.763201447650097,-0.7694884311607758,-0.7757265715279041,-0.7819154727866132,-0.7880547420974787,-0.794143989771455,-0.8001828292946112,-0.8061708773526655,-0.8121077538553142,-0.8179930819603604,-0.823826488097632,-0.8296076019926952,-0.8353360566903568,-0.8410114885779573,-0.8466335374084498,-0.8522018463232689,-0.8577160618749803,-0.8631758340497163,-0.8685808162893934,-0.8739306655137097,-0.8792250421419212,-0.8844636101143981,-0.8896460369139545,-0.8947719935869562,-0.8998411547641998,-0.9048531986815666,-0.9098078072004456,-0.914704665827928,-0.9195434637367694,-0.9243238937851184,-0.9290456525360141,-0.9337084402766463,-0.9383119610373786,-0.9428559226105361,-0.9473400365689526,-0.9517640182842797,-0.9561275869450514,-0.9604304655745108,-0.9646723810481893,-0.9688530641112443,-0.9729722493955498,-0.9770296754365407,-0.9810250846898085,-0.9849582235474506,-0.9888288423541652,-0.992636695423101,-0.9963815410514506,-1.000063141535793],\"y\":[1.0323681181997606,1.0293098048861977,1.0261861563128414,1.0229973707527382,1.0197436506134938,1.0164252024244247,1.013042236823449,1.0095949685437169,1.006083616399979,1.0025084032746983,0.9988695561039026,0.9951673058627794,0.9914018875510151,0.9875735401778784,0.9836825067470489,0.9797290342411927,0.9757133736062862,0.971635779735685,0.967496511453947,0.9632958315004022,0.9590340065124757,0.954711307008763,0.9503280073718589,0.945884385830941,0.9413807244441095,0.9368173090804828,0.9321944294020525,0.9275123788452981,0.9227714546025589,0.9179719576031724,0.9131141924943703,0.9081984676219438,0.9032250950106687,0.8981943903445019,0.8931066729465413,0.8879622657587595,0.882761495321502,0.8775046917527626,0.8721921887272288,0.8668243234551001,0.8614014366606859,0.8559238725607767,0.8503919788427955,0.8448061066427281,0.8391666105228354,0.8334738484491465,0.8277281817687389,0.8219299751867996,0.816079596743477,0.8101774177905194,0.8042238129677032,0.7982191601790526,0.7921638405688537,0.786058238497459,0.7799027415168919,0.7736977403462462,0.7674436288468858,0.761140803997444,0.7547896658686255,0.7483906175978116,0.7419440653634725,0.735450418359383,0.7289100887686507,0.7223234917375524,0.7156910453491822,0.7090131705969139,0.70229029135768,0.6955228343650636,0.6887112291822135,0.6818559081745768,0.6749573064824554,0.6680158619933847,0.6610320153143394,0.6540062097437656,0.6469388912434426,0.6398305084101759,0.6326815124473225,0.6254923571361505,0.6182634988070353,0.6109953963104948,0.6036885109880632,0.5963433066430087,0.5889602495108917,0.581539808229972,0.5740824538114618,0.5665886596096282,0.5590589012917472,0.5514936568079107,0.5438934063606888,0.5362586323746487,0.5285898194657341,0.5208874544105027,0.5131520261152286,0.5053840255848697,0.49758394589190075,0.4897522821450152,0.48188953145770014,0.4739961929166795,0.4660727675502362,0.45811975829640933],\"type\":\"scatter\"},{\"hoverinfo\":\"text\",\"line\":{\"color\":\"rgba(253,174,97,0.75)\",\"shape\":\"spline\",\"width\":0.25},\"mode\":\"lines\",\"text\":\"3rd Ave & Broad St<br>3227 partidas\",\"x\":[-1.000063429380729,-1.0036682588743968,-1.0072098518787154,-1.0106879852543103,-1.0141024398601026,-1.0174530005671194,-1.0207394562720458,-1.0239615999105258,-1.0271192284702102,-1.0302121430035447,-1.0332401486403067,-1.036203054599883,-1.0391006742032896,-1.0419328248849324,-1.0446993282041122,-1.0474000098562655,-1.0500346996839471,-1.0526032316875515,-1.0551054440357712,-1.057541179075793,-1.0599102833432308,-1.0622126075717955,-1.0644480067026987,-1.0666163398937925,-1.0687174705284432,-1.0707512662241394,-1.072717598840832,-1.074616344489008,-1.0764473835374968,-1.078210600621007,-1.0799058846473946,-1.081533128804664,-1.083092230567695,-1.0845830917047066,-1.086005618283441,-1.0873597206770862,-1.088645313569921,-1.0898623159626897,-1.0910106511777076,-1.0920902468636904,-1.093101035000313,-1.094042951902495,-1.094915938224415,-1.0957199389632468,-1.096454903462627,-1.0971207854158458,-1.0977175428687649,-1.0982451382224607,-1.098703538235593,-1.0990927140264992,-1.0994126410750156,-1.0996632992240198,-1.099844672680703,-1.099956750017563,-1.0999995241731264,-1.099972992452391,-1.0998771565269985,-1.0997120224351262,-1.0994776005811089,-1.0991739057347818,-1.098800957030551,-1.0983587779661872,-1.097847396401346,-1.0972668445558114,-1.0966171590074671,-1.095898380689991,-1.0951105548902764,-1.0942537312455787,-1.0933279637403883,-1.0923333107030286,-1.0912698348019818,-1.0901376030419396,-1.0889366867595824,-1.0876671616190843,-1.0863291076073454,-1.0849226090289525,-1.083447754500869,-1.0819046369468481,-1.0802933535915822,-1.0786140059545735,-1.0768666998437404,-1.07505154534875,-1.0731686568340812,-1.0712181529318208,-1.069200156534187,-1.0671147947857886,-1.0649621990756128,-1.0627425050287471,-1.060455852497835,-1.0581023855542635,-1.0556822524790868,-1.0531956057536829,-1.0506426020501476,-1.0480234022214219,-1.0453381712911587,-1.0425870784433238,-1.039770297011539,-1.0368880044681585,-1.0339403824130884,-1.0309276165623449],\"y\":[0.45811912993811543,0.4501666648343001,0.4421858368135012,0.43417714871073493,0.42614110511635356,0.41807821234425174,0.4099889783999671,0.40187391294867114,0.39373352728306027,0.3855683342911399,0.3773788484239109,0.3691655856629539,0.36092906348792325,0.3526698008439407,0.3443883181089,0.3360851370606789,0.3277607808442663,0.3194157739388003,0.31105064212452344,0.3026659124496546,0.2942621131971841,0.2858397738515877,0.2773994250654672,0.26894159862611433,0.2604668274220081,0.2519756454092384,0.2434685875778645,0.23494618991820623,0.2264089893870763,0.2178575238739473,0.20929233216706283,0.20071395391948885,0.1921229296151158,0.18351980053460296,0.17490510872127601,0.16627939694697352,0.15764320867785217,0.14899708804014355,0.1403415797858723,0.1316772292585319,0.12300458235872788,0.11432418550978142,0.10563658562330248,0.09694233006472966,0.08824196661884609,0.07953604345526408,0.07082510909388852,0.06210971237035521,0.053390402401454186,0.04466772855053093,0.035942240392872124,0.027214487681082325,0.01848502031044468,0.009754388284275052,0.0010231416792693421,-0.0077081693891562515,-0.016438994801522517,-0.025168784468949188,-0.03389698836781495,-0.04262305657440896,-0.051346439299580944,-0.06006658692338037,-0.068782950029685,-0.07749497944081894,-0.08620212625215094,-0.09490384186667973,-0.10359957802960006,-0.11228878686284278,-0.12097092089959609,-0.12964543311879825,-0.13831177697960256,-0.1469694064558142,-0.15561777607028984,-0.16425634092930727,-0.17288455675689787,-0.18150187992913625,-0.1901077675083931,-0.19870167727754295,-0.20728306777412628,-0.21585139832446631,-0.22440612907773153,-0.23294672103995076,-0.24147263610797395,-0.2499833371033728,-0.2584782878062877,-0.266956952989212,-0.2754187984507139,-0.28386329104909575,-0.2922898987359819,-0.3006980905898423,-0.30908733684944467,-0.3174571089472294,-0.32580687954261406,-0.33413612255521846,-0.34244431319800983,-0.3507309280103689,-0.3589954448910685,-0.36723734313116957,-0.3754561034468303,-0.38365120801202107],\"type\":\"scatter\"},{\"hoverinfo\":\"text\",\"line\":{\"color\":\"rgba(254,224,139,0.75)\",\"shape\":\"spline\",\"width\":0.25},\"mode\":\"lines\",\"text\":\"Pine St & 9th Ave<br>1614 partidas\",\"x\":[-1.030927375506978,-1.0293961446053084,-1.0278486892438692,-1.0262850338123262,-1.0247052029556756,-1.0231092215738578,-1.021497114821363,-1.0198689081068364,-1.018224627092677,-1.0165642976946323,-1.0148879460813915,-1.0131955986741723,-1.011487282146304,-1.009763023422807,-1.0080228496799701,-1.0062667883449203,-1.0044948670951912,-1.0027071138582866,-1.0009035568112412,-0.9990842243801754,-0.9972491452398474,-0.9953983483132021,-0.9935318627709142,-0.9916497180309293,-0.9897519437579995,-0.9878385698632164,-0.9859096265035395,-0.983965144081321,-0.9820051532438258,-0.9800296848827499,-0.9780387701337325,-0.9760324403758655,-0.974010727231199,-0.9719736625642429,-0.9699212784814645,-0.9678536073307826,-0.965770681701058,-0.9636725344215791,-0.961559198561545,-0.9594307074295443,-0.9572870945730302,-0.9551283937777909,-0.9529546390674185,-0.9507658647027715,-0.9485621051814357,-0.9463433952371797,-0.9441097698394083,-0.9418612641926104,-0.939597913735805,-0.9373197541419822,-0.9350268213175409,-0.9327191514017231,-0.9303967807660444,-0.9280597460137198,-0.9257080839790885,-0.923341831727032,-0.92096102655239,-0.9185657059793733,-0.9161559077609719,-0.9137316698783596,-0.9112930305402965,-0.9088400281825257,-0.9063727014671681,-0.9038910892821125,-0.9013952307404032,-0.8988851651796237,-0.8963609321612758,-0.8938225714701571,-0.8912701231137331,-0.8887036273215073,-0.8861231245443867,-0.8835286554540444,-0.8809202609422785,-0.8782979821203678,-0.8756618603184239,-0.8730119370847387,-0.8703482541851313,-0.8676708536022887,-0.8649797775351041,-0.8622750683980122,-0.85955676882032,-0.8568249216455358,-0.8540795699306936,-0.8513207569456739,-0.8485485261725226,-0.8457629213047653,-0.8429639862467182,-0.8401517651127969,-0.8373263022268208,-0.834487642121314,-0.8316358295368046,-0.8287709094211179,-0.8258929269286696,-0.823001927419753,-0.8200979564598246,-0.817181059818786,-0.8142512834702617,-0.8113086735908758,-0.8083532765595229,-0.8053851389566384],\"y\":[-0.3836518557628705,-0.3877416375264943,-0.39182530803874827,-0.3959028029363176,-0.39997405795322244,-0.4040390089218307,-0.408097591773869,-0.41214974254143294,-0.41619539735799516,-0.42023449245941175,-0.4242669641849275,-0.4282927489781792,-0.43231178338819726,-0.43632400407040606,-0.44032934778762184,-0.4443277514110497,-0.4483191519212787,-0.4523034864092749,-0.456280692077373,-0.4602507062402659,-0.46421346632599303,-0.46816890987692616,-0.4721169745507542,-0.4760575981214655,-0.47999071848032865,-0.4839162736368716,-0.4878342017198585,-0.49174444097826414,-0.49564692978224983,-0.49954160662413116,-0.5034284101193498,-0.5073072790074402,-0.5111781521529954,-0.5150409685466307,-0.5188956673059447,-0.5227421876764792,-0.5265804690326767,-0.5304104508788366,-0.5342320728500671,-0.5380452747132385,-0.5418499963679309,-0.5456461778473826,-0.5494337593194346,-0.5532126810874741,-0.5569828835913749,-0.5607443074084366,-0.5644968932543205,-0.568240581983985,-0.5719753145926167,-0.5757010322165613,-0.5794176761342509,-0.5831251877671292,-0.5868235086805755,-0.5905125805848255,-0.5941923453358895,-0.5978627449364691,-0.6015237215368718,-0.6051752174359222,-0.6088171750818713,-0.6124495370733042,-0.6160722461600444,-0.6196852452440561,-0.6232884773803444,-0.6268818857778524,-0.630465413800357,-0.6340390049673608,-0.6376026029549824,-0.6411561515968448,-0.6446995948849598,-0.6482328769706113,-0.6517559421652352,-0.6552687349412977,-0.6587711999331697,-0.6622632819379995,-0.6657449259165835,-0.6692160769942339,-0.6726766804616422,-0.6761266817757423,-0.6795660265605705,-0.682994660608122,-0.6864125298792055,-0.689819580504295,-0.6932157587843785,-0.6966010111918048,-0.6999752843711268,-0.7033385251399425,-0.7066906804897337,-0.7100316975867007,-0.7133615237725952,-0.7166801065655513,-0.7199873936609107,-0.7232833329320492,-0.7265678724311965,-0.7298409603902565,-0.7331025452216215,-0.7363525755189874,-0.7395910000581616,-0.7428177677978725,-0.7460328278805722,-0.7492361296332395],\"type\":\"scatter\"},{\"hoverinfo\":\"text\",\"line\":{\"color\":\"rgba(255,255,191,0.75)\",\"shape\":\"spline\",\"width\":0.25},\"mode\":\"lines\",\"text\":\"Burke-Gilman Trail<br>941 partidas\",\"x\":[-0.8053846681975354,-0.8036483140986742,-0.8019076544827468,-0.8001626986752752,-0.7984134560247973,-0.7966599359028178,-0.7949021477037583,-0.7931401008449065,-0.7913738047663644,-0.7896032689310006,-0.7878285028243971,-0.7860495159548005,-0.7842663178530683,-0.782478918072621,-0.780687326189389,-0.7788915518017616,-0.7770916045305355,-0.7752874940188638,-0.7734792299322041,-0.771666821958267,-0.7698502798069623,-0.7680296132103501,-0.7662048319225865,-0.7643759457198721,-0.7625429644003987,-0.7607058977842984,-0.7588647557135898,-0.7570195480521259,-0.7551702846855403,-0.7533169755211949,-0.7514596304881279,-0.749598259536999,-0.7477328726400355,-0.7458634797909812,-0.7439900910050418,-0.7421127163188304,-0.7402313657903148,-0.7383460494987624,-0.7364567775446885,-0.7345635600497995,-0.732666407156941,-0.7307653290300408,-0.7288603358540573,-0.7269514378349232,-0.7250386451994917,-0.72312196819548,-0.7212014170914172,-0.7192770021765867,-0.717348733760973,-0.7154166221752043,-0.7134806777704997,-0.7115409109186122,-0.7095973320117729,-0.7076499514626363,-0.7056987797042248,-0.7037438271898696,-0.7017851043931598,-0.6998226218078822,-0.6978563899479676,-0.6958864193474322,-0.6939127205603233,-0.6919353041606613,-0.6899541807423839,-0.6879693609192895,-0.6859808553249777,-0.6839886746127969,-0.681992829455784,-0.6799933305466076,-0.6779901885975119,-0.675983414340258,-0.6739730185260672,-0.6719590119255635,-0.6699414053287142,-0.6679202095447748,-0.6658954354022294,-0.663867093748733,-0.6618351954510532,-0.6597997513950126,-0.6577607724854297,-0.6557182696460621,-0.6536722538195435,-0.6516227359673317,-0.649569727069645,-0.647513238125405,-0.6454532801521776,-0.6433898641861141,-0.6413230012818915,-0.6392527025126543,-0.637178978969953,-0.6351018417636877,-0.6330213020220467,-0.6309373708914469,-0.628850059536475,-0.6267593791398268,-0.6246653409022476,-0.6225679560424723,-0.6204672357971661,-0.6183631914208606,-0.6162558341858994,-0.614145175382373],\"y\":[-0.7492366356714987,-0.7510987866095638,-0.7529569135627747,-0.7548110065762824,-0.7566610557168508,-0.7585070510729075,-0.7603489827545984,-0.7621868408938399,-0.7640206156443741,-0.7658502971818176,-0.7676758757037172,-0.769497341429601,-0.7713146846010324,-0.77312789548166,-0.7749369643572713,-0.7767418815358444,-0.778542637347601,-0.7803392221450556,-0.7821316263030696,-0.7839198402189018,-0.7857038543122606,-0.7874836590253541,-0.7892592448229423,-0.7910306021923875,-0.7927977216437069,-0.7945605937096205,-0.7963192089456048,-0.7980735579299412,-0.7998236312637683,-0.8015694195711307,-0.8033109134990302,-0.8050481037174748,-0.8067809809195311,-0.8085095358213709,-0.8102337591623233,-0.8119536417049237,-0.8136691742349623,-0.815380347561536,-0.8170871525170944,-0.8187895799574911,-0.8204876207620317,-0.8221812658335244,-0.8238705060983255,-0.8255553325063911,-0.8272357360313237,-0.828911707670422,-0.830583238444728,-0.8322503193990752,-0.8339129416021369,-0.8355710961464746,-0.8372247741485845,-0.8388739667489461,-0.8405186651120689,-0.8421588604265402,-0.8437945439050718,-0.8454257067845495,-0.8470523403260758,-0.8486744358150197,-0.8502919845610627,-0.8519049778982454,-0.8535134071850137,-0.8551172638042652,-0.8567165391633957,-0.8583112246943441,-0.8599013118536406,-0.8614867921224502,-0.8630676570066186,-0.864643898036719,-0.8662155067680967,-0.8677824747809137,-0.8693447936801956,-0.8709024550958738,-0.8724554506828344,-0.8740037721209585,-0.8755474111151694,-0.8770863593954766,-0.8786206087170199,-0.8801501508601131,-0.8816749776302891,-0.8831950808583428,-0.8847104524003763,-0.8862210841378405,-0.88772696797758,-0.8892280958518758,-0.8907244597184892,-0.8922160515607046,-0.8937028633873718,-0.8951848872329492,-0.8966621151575482,-0.8981345392469727,-0.8996021516127632,-0.9010649443922392,-0.9025229097485404,-0.9039760398706699,-0.905424326973535,-0.9068677632979896,-0.9083063411108744,-0.9097400527050615,-0.9111688903994921,-0.912592846539219],\"type\":\"scatter\"},{\"hoverinfo\":\"text\",\"line\":{\"color\":\"rgba(230,245,152,0.75)\",\"shape\":\"spline\",\"width\":0.25},\"mode\":\"lines\",\"text\":\"King Street Station Plaza<br>2215 partidas\",\"x\":[-0.6141446019832554,-0.6091633893882603,-0.6041640941558066,-0.599146864686873,-0.5941118499148048,-0.5890591993008936,-0.5839890628299393,-0.578901591005799,-0.573796934846919,-0.5686752458818527,-0.5635366761447592,-0.5583813781708956,-0.5532095049920853,-0.5480212101321763,-0.5428166476024844,-0.5375959718972205,-0.5323593379889057,-0.52710690132377,-0.5218388178171389,-0.5165552438488044,-0.5112563362583832,-0.5059422523406611,-0.500613149840924,-0.4952691869502747,-0.48991052230093796,-0.4845373149615516,-0.4791497244324417,-0.47374791064089294,-0.46833203393639816,-0.46290225508589866,-0.4574587352690126,-0.45200163607325,-0.44653111948921653,-0.44104734790580447,-0.4355504841053728,-0.4300406912589146,-0.42451813292121393,-0.4189829730259902,-0.4134353758810326,-0.407875506163322,-0.40230352891414334,-0.39671960953418595,-0.39112391377863476,-0.38551660775224644,-0.3798978579044242,-0.37426783102427275,-0.368626694235649,-0.3629746149922001,-0.35731176107239343,-0.3516383005745361,-0.34595440191178467,-0.34026023380714615,-0.3345559652884698,-0.3288417656834292,-0.32311780461449613,-0.3173842519939053,-0.3116412780186108,-0.3058890531652338,-0.30012774818500293,-0.2943575340986819,-0.28857858219149846,-0.2827910640080565,-0.27699515134724423,-0.27119101625713493,-0.2653788310298793,-0.25955876819659174,-0.2537310005222282,-0.24789570100045816,-0.24205304284852938,-0.23620319950212593,-0.2303463446102199,-0.22448265202991688,-0.21861229582129485,-0.2127354502422375,-0.2068522897432615,-0.20096298896233905,-0.1950677227197097,-0.1891666660126971,-0.18325999401051024,-0.1773478820490446,-0.17143050562567758,-0.16550804039405878,-0.159580662158896,-0.1536485468707364,-0.14771187062074367,-0.1417708096354709,-0.1358255402716292,-0.12987623901085288,-0.12392308245446057,-0.11796624731821295,-0.11200591042706709,-0.10604224870992845,-0.10007543919439495,-0.09410565900150789,-0.0881330853404903,-0.08215789550348761,-0.07618026686030477,-0.07020037685314118,-0.06421840299132348,-0.058234522846036176],\"y\":[-0.9125932324178331,-0.9159257420932152,-0.9192310630809285,-0.9225090972645691,-0.925759747337725,-0.9289829168068648,-0.9321785099942015,-0.9353464320405327,-0.9384865889080573,-0.9415988873831652,-0.9446832350792074,-0.9477395404392345,-0.9507677127387174,-0.9537676620882389,-0.9567392994361633,-0.9596825365712784,-0.9625972861254151,-0.9654834615760404,-0.9683409772488258,-0.9711697483201907,-0.9739696908198198,-0.9767407216331563,-0.9794827585038691,-0.982195720036294,-0.9848795256978501,-0.9875340958214305,-0.9901593516077679,-0.992755215127772,-0.9953216093248436,-0.9978584580171628,-1.0003656858999492,-1.0028432185476979,-1.0052909824163885,-1.0077089048456684,-1.01009691406101,-1.0124549391758406,-1.0147829101936467,-1.0170807580100523,-1.0193484144148701,-1.0215858120941255,-1.0237928846320563,-1.0259695665130828,-1.0281157931237528,-1.0302315007546607,-1.0323166266023376,-1.0343711087711154,-1.036394886274965,-1.0383878990393063,-1.040350087902791,-1.0422813946190599,-1.0441817618584706,-1.0460511332098,-1.0478894531819185,-1.0496966672054384,-1.0514727216343316,-1.0532175637475238,-1.054931141750459,-1.056613404776637,-1.058264302889122,-1.0598837870820288,-1.0614718092819728,-1.0630283223494994,-1.064553280080484,-1.0660466372075017,-1.0675083494011721,-1.0689383732714755,-1.07033666636904,-1.0717031871864018,-1.073037895159238,-1.0743407506675706,-1.075611715036941,-1.0768507505395608,-1.078057820395429,-1.0792328887734253,-1.080375920792374,-1.081486882522078,-1.0825657409843277,-1.0836124641538787,-1.0846270209594024,-1.0856093812844094,-1.0865595159681427,-1.0874773968064435,-1.0883629965525878,-1.089216288918097,-1.090037248573516,-1.0908258511491664,-1.0915820732358699,-1.092305892385643,-1.092997287112363,-1.093656236892406,-1.0942827221652567,-1.0948767243340878,-1.0954382257663138,-1.0959672097941124,-1.0964636607149212,-1.0969275637919025,-1.0973589052543808,-1.0977576722982523,-1.0981238530863648,-1.0984574367488686],\"type\":\"scatter\"},{\"hoverinfo\":\"text\",\"line\":{\"color\":\"rgba(171,221,164,0.75)\",\"shape\":\"spline\",\"width\":0.25},\"mode\":\"lines\",\"text\":\"Lake Union Park<br>1496 partidas\",\"x\":[-0.058233832664862165,-0.05419136295560876,-0.05014815945282556,-0.04610427690465517,-0.042059770068437974,-0.03801469370996766,-0.03396910260274681,-0.029923051527251,-0.025876595270184148,-0.021829788623733727,-0.017782686384834684,-0.013735343354424513,-0.009687814336698287,-0.005640154138372423,-0.0015924175679396288,0.002455340565076184,0.006503065450856197,0.010550702280032761,0.01459819624442961,0.018645492537807902,0.022692536356602497,0.026739272900666945,0.03078564737401847,0.034831604985574104,0.038877090949895485,0.042922050487933676,0.04696642882776503,0.05101017120533579,0.055053222865206516,0.059095529061287747,0.06313703505758417,0.06717768612893871,0.07121742756176773,0.07525620465480486,0.07929396271984447,0.08333064708247655,0.08736620308282977,0.09140057607631473,0.09543371143435787,0.0994655545451442,0.10349605081435972,0.10752514566592478,0.11155278454273601,0.11557891290740802,0.11960347624300602,0.12362642005378692,0.12764768986594022,0.1316672312283197,0.13568498971318474,0.13970091091693526,0.14371494046085234,0.14772702399182774,0.15173710718310762,0.15574513573502144,0.15975105537572099,0.16375481186191346,0.16775635097959973,0.17175561854480267,0.17575256040430381,0.17974712243637936,0.18373925055152746,0.1877288906932033,0.1917159888385542,0.19570049099914508,0.1996823432216926,0.2036614915887985,0.20763788221967402,0.21161146127087233,0.21558217493702025,0.21954996945154162,0.22351479108738764,0.22747658615776759,0.23143530101686988,0.23539088206059147,0.2393432757272664,0.24329242849838564,0.24723828689932414,0.2511807975000683,0.25511990691593334,0.2590555618082893,0.262987708885286,0.2669162949025689,0.27084126666400316,0.2747625710223965,0.27868015488021336,0.28259396519029756,0.2865039489565889,0.29041005323484437,0.29431222513334937,0.29821041181363683,0.3021045604912055,0.305994618436229,0.30988053297427276,0.31376225148701,0.3176397214129284,0.3215128902480451,0.32538170554662,0.3292461149218606,0.333106066046634,0.33696150665417834],\"y\":[-1.0984574733384815,-1.098664323704476,-1.0988562972943707,-1.0990333915086925,-1.0991956039494473,-1.0993429324201514,-1.0994753749258617,-1.099592929673203,-1.099695595070392,-1.0997833697272583,-1.0998562524552646,-1.0999142422675217,-1.0999573383788017,-1.09998554020555,-1.0999988473658913,-1.0999972596796366,-1.0999807771682841,-1.0999494000550198,-1.099903128764715,-1.0998419639239188,-1.0997659063608511,-1.0996749571053912,-1.099569117389063,-1.099448388645019,-1.0993127725080218,-1.0991622708144195,-1.0989968856021235,-1.0988166191105786,-1.098621473780735,-1.098411452255013,-1.098186557377269,-1.0979467921927555,-1.0976921599480816,-1.097422664091167,-1.097138308271197,-1.0968390963385724,-1.096525032344857,-1.0961961205427238,-1.0958523653858963,-1.0954937715290887,-1.0951203438279429,-1.0947320873389625,-1.0943290073194452,-1.0939111092274099,-1.0934783987215244,-1.0930308816610284,-1.0925685641056533,-1.0920914523155414,-1.0915995527511604,-1.0910928720732158,-1.0905714171425611,-1.0900351950201048,-1.089484212966715,-1.08891847844312,-1.0883379991098094,-1.087742782826928,-1.0871328376541707,-1.0865081718506733,-1.0858687938749008,-1.0852147123845315,-1.0845459362363417,-1.0838624744860852,-1.083164336388369,-1.0824515313965304,-1.081724069162508,-1.0809819595367103,-1.0802252125678835,-1.0794538385029748,-1.0786678477869933,-1.0778672510628697,-1.077052059171311,-1.0762222831506547,-1.075377934236718,-1.0745190238626476,-1.0736455636587625,-1.0727575654523989,-1.0718550412677488,-1.0709380033256968,-1.070006464043655,-1.0690604360353964,-1.0680999321108808,-1.0671249652760848,-1.0661355487328235,-1.065131695878572,-1.064113420306285,-1.0630807358042123,-1.062033656355711,-1.0609721961390577,-1.0598963695272556,-1.0588061910878408,-1.0577016755826834,-1.0565828379677888,-1.0554496933930961,-1.0543022572022704,-1.0531405449324973,-1.0519645723142719,-1.0507743552711841,-1.0495699099197067,-1.0483512525689735,-1.04711839972056],\"type\":\"scatter\"},{\"hoverinfo\":\"text\",\"line\":{\"color\":\"rgba(102,194,165,0.75)\",\"shape\":\"spline\",\"width\":0.25},\"mode\":\"lines\",\"text\":\"E Pine St & 16th Ave<br>439 partidas\",\"x\":[0.33696216457800604,0.3380926720233657,0.33922278524545557,0.34035250292653785,0.34148182374933933,0.3426107463970461,0.343739269553311,0.34486739190225313,0.34599511212845574,0.3471224289169748,0.34824934095333315,0.34937584692352813,0.3505019455140307,0.35162763541178405,0.35275291530421155,0.3538777838792109,0.3550022398251625,0.3561262818309274,0.35724990858584693,0.3583731187797492,0.35949591110294804,0.3606182842462418,0.36174023690092133,0.36286176775876405,0.36398287551204195,0.36510355885352036,0.36622381647645674,0.3673436470746087,0.368463049342228,0.3695820219740686,0.3707005636653855,0.37181867311193334,0.37293634900997447,0.3740535900562731,0.3751703949481033,0.37628676238324765,0.37740269105999596,0.3785181796771535,0.37963322693403495,0.3807478315304722,0.3818619921668135,0.382975707543922,0.3840889763631835,0.385201797326501,0.38631416913630257,0.38742609049553967,0.3885375601076865,0.3896485766767476,0.39075913890725217,0.3918692455042618,0.3929788951733694,0.39408808662069805,0.39519681855290767,0.3963050896771941,0.39741289870128776,0.39852024433346145,0.3996271252825248,0.40073354025783187,0.4018394879692801,0.402944967127309,0.4040499764429081,0.4051545146276112,0.40625858039350415,0.4073621724532234,0.4084652895199556,0.4095679303074441,0.41067009352998474,0.4117717779024324,0.41287298214020063,0.41397370495925984,0.41507394507614565,0.41617370120795266,0.4172729720723428,0.41837175638754365,0.41947005287234745,0.42056786024611875,0.4216651772287891,0.4227620025408643,0.4238583349034235,0.42495417303811794,0.4260495156671789,0.4271443615134116,0.42823870930020336,0.4293325577515222,0.43042590559191557,0.43151875154651764,0.4326110943410475,0.43370293270180843,0.43479426535569526,0.43588509103018913,0.43697540845336486,0.43806521635389006,0.4391545134610236,0.4402432985046235,0.4413315702151416,0.4424193273236306,0.44350656856174336,0.44459329266173175,0.44567949835645404,0.44676518437936924],\"y\":[-1.0471181880011946,-1.046753717511479,-1.0463880264845904,-1.0460211153469328,-1.045652984526332,-1.0452836344520369,-1.044913065554717,-1.0445412782664636,-1.0441682730207893,-1.0437940502526253,-1.0434186103983238,-1.043041953895656,-1.0426640811838104,-1.0422849927033957,-1.0419046888964365,-1.0415231702063754,-1.0411404370780715,-1.0407564899577995,-1.04037132929325,-1.0399849555335288,-1.0395973691291553,-1.0392085705320646,-1.0388185601956028,-1.0384273385745317,-1.0380349061250231,-1.0376412633046617,-1.037246410572444,-1.0368503483887757,-1.0364530772154747,-1.0360545975157676,-1.0356549097542895,-1.0352540143970856,-1.034851911911608,-1.0344486027667172,-1.0340440874326802,-1.03363836638117,-1.0332314400852665,-1.0328233090194539,-1.0324139736596225,-1.0320034344830658,-1.0315916919684807,-1.0311787465959685,-1.0307645988470315,-1.030349249204576,-1.0299326981529078,-1.0295149461777338,-1.0290959937661628,-1.0286758414067014,-1.028254489589257,-1.027831938805134,-1.027408189547036,-1.026983242309064,-1.026557097586715,-1.026129755876883,-1.0257012176778577,-1.0252714834893235,-1.0248405538123604,-1.0244084291494409,-1.0239751100044312,-1.0235405968825917,-1.023104890290573,-1.0226679907364193,-1.0222298987295642,-1.021790614780832,-1.0213501394024378,-1.0209084731079847,-1.020465616412466,-1.020021569832261,-1.0195763338851378,-1.0191299090902515,-1.0186822959681419,-1.0182334950407366,-1.0177835068313468,-1.0173323318646674,-1.0168799706667795,-1.0164264237651446,-1.015971691688609,-1.0155157749673998,-1.015058674133125,-1.0146003897187748,-1.0141409222587177,-1.0136802722887035,-1.0132184403458595,-1.0127554269686914,-1.012291232697083,-1.0118258580722945,-1.0113593036369624,-1.0108915699350998,-1.0104226575120936,-1.009952566914706,-1.009481298691073,-1.0090088533907022,-1.0085352315644762,-1.0080604337646475,-1.0075844605448407,-1.007107312460051,-1.006628990066642,-1.0061494939223494,-1.0056688245862748,-1.0051869826188897],\"type\":\"scatter\"},{\"hoverinfo\":\"text\",\"line\":{\"color\":\"rgba(50,136,189,0.75)\",\"shape\":\"spline\",\"width\":0.25},\"mode\":\"lines\",\"text\":\"Seattle Aquarium<br>4733 partidas\",\"x\":[0.44676581595688886,0.45843765841911255,0.47004736670844555,0.48159336730750957,0.4930740953335261,0.5044879947504074,0.5158335185796568,0.5271091291100363,0.5383132981059806,0.5494445070147246,0.5605012471721229,0.5714820200071217,0.5823853372448698,0.5932097211084313,0.6039537045190743,0.6146158312951112,0.6251946563492644,0.6356887458845211,0.6460966775884651,0.6564170408260493,0.6666484368307852,0.6767894788943234,0.6868387925544034,0.696795015781137,0.706656799161613,0.7164228060827883,0.7260917129126452,0.7356622091795919,0.7451329977500728,0.7545027950043769,0.763770331010613,0.7729343496968294,0.7819936090212541,0.7909468811406354,0.7997929525766582,0.8085306243804093,0.817158712294879,0.8256760469154683,0.8340814738484825,0.8423738538675948,0.8505520630682468,0.858614993019979,0.8665615509166605,0.8743906597246031,0.8821012583285353,0.8896923016754206,0.8971627609161001,0.9045116235447342,0.9117378935360343,0.9188405914802577,0.9258187547159514,0.9326714374604285,0.9393977109379507,0.9459966635056118,0.9524674007768967,0.9588090457429012,0.9650207388911981,0.9711016383223297,0.9770509198639142,0.9828677771823514,0.9885514218921067,0.9941010836625654,0.9995160103224396,1.0047954679617142,1.009938741031114,1.0149451324390892,1.0198139636462926,1.0245445747575461,1.0291363246112812,1.0335885908664353,1.0379007700868021,1.0420722778228186,1.0461025486907776,1.0499910364494567,1.0537372140741528,1.0573405738281132,1.0608006273313502,1.064116905626834,1.0672889592440526,1.0703163582599313,1.0731986923571009,1.0759355708795106,1.0785266228853756,1.080971497197452,1.083269862450634,1.0854214071368655,1.0874258396473588,1.08928288831212,1.0909923014367673,1.092553847336646,1.0939673143682294,1.0952325109578032,1.096349265627431,1.0973174270181953,1.0981368639107119,1.0988074652429147,1.0993291401251082,1.0997018178522864,1.0999254479137164,1.099999999999783],\"y\":[-1.0051867019078473,-0.9999174532646188,-0.9945126811913744,-0.9889731182218324,-0.9832995151585426,-0.9774926409711293,-0.9715532826920669,-0.9654822453100106,-0.9592803516606925,-0.9529484423153997,-0.9464873754670451,-0.939898026813856,-0.9331812894406849,-0.9263380736979655,-0.919369307078329,-0.9122759340908975,-0.9050589161332676,-0.8977192313612118,-0.8902578745561014,-0.8826758569900803,-0.8749742062890029,-0.8671539662931551,-0.8592161969157759,-0.8511619739994057,-0.8429923891700707,-0.8347085496893294,-0.8263115783042018,-0.8178026130949952,-0.8091828073210591,-0.8004533292644759,-0.7916153620717189,-0.7826701035932954,-0.7736187662213954,-0.7644625767255724,-0.7552027760864704,-0.745840619327632,-0.7363773753453967,-0.7268143267369224,-0.7171527696263492,-0.7073940134891278,-0.6975393809745434,-0.6875902077264492,-0.6775478422022403,-0.6674136454900915,-0.6571889911244824,-0.6468752649000368,-0.6364738646836968,-0.6259862002252679,-0.6154136929663454,-0.6047577758476615,-0.594019893114873,-0.5832015001228119,-0.5723040631382401,-0.5613290591411161,-0.5502779756244134,-0.5391523103925157,-0.5279535713582078,-0.5166832763383072,-0.5053429528479437,-0.493934137893529,-0.48245837776443934,-0.47091722782343953,-0.4593122522958786,-0.44764502405767914,-0.43591712442216396,-0.42413014292572965,-0.41228567711241015,-0.4003853323173553,-0.3884307214492485,-0.3764234647717076,-0.3643651896836792,-0.3522575304988704,-0.3401021282242431,-0.3279006303376009,-0.31565469056429923,-0.3033659686531048,-0.291036130151248,-0.2786668461786797,-0.26625979320157755,-0.2538166528051276,-0.2413391114656078,-0.2288288603218176,-0.21628759494586633,-0.20371701511336535,-0.19111882457305077,-0.17849473081586242,-0.16584644484352576,-0.15317568093664782,-0.14048415642237394,-0.12777359144163042,-0.11504570871598598,-0.10230223331416415,-0.08954489241823306,-0.07677541508951811,-0.06399553203425057,-0.05120697536899786,-0.03841147838590279,-0.025610775317758572,-0.012806601102966098,-6.91150385814946e-07],\"type\":\"scatter\"},{\"hoverinfo\":\"text\",\"marker\":{\"color\":\"rgba(213,62,79,0.75)\",\"size\":0.5},\"mode\":\"markers\",\"text\":\"Pier 69 \\u2b8c : 4209 viagens \",\"x\":[0.14337759246001286],\"y\":[0.8885059740825441],\"type\":\"scatter\"},{\"hoverinfo\":\"text\",\"marker\":{\"color\":\"rgba(213,62,79,0.75)\",\"size\":0.5},\"mode\":\"markers\",\"text\":\"Pier 69 \\u2794 2nd Ave & Pine St: 384 viagens \",\"x\":[0.8961898492810634],\"y\":[0.08272698499029714],\"type\":\"scatter\"},{\"hoverinfo\":\"text\",\"marker\":{\"color\":\"rgba(244,109,67,0.75)\",\"size\":0.5},\"mode\":\"markers\",\"text\":\"2nd Ave & Pine St \\u2794 Pier 69: 310 viagens \",\"x\":[-0.4370961587788165],\"y\":[0.7867318145218253],\"type\":\"scatter\"},{\"hoverinfo\":\"text\",\"marker\":{\"color\":\"rgba(213,62,79,0.75)\",\"size\":0.5},\"mode\":\"markers\",\"text\":\"Pier 69 \\u2794 3rd Ave & Broad St: 777 viagens \",\"x\":[0.8243720192096645],\"y\":[0.36112431923671456],\"type\":\"scatter\"},{\"hoverinfo\":\"text\",\"marker\":{\"color\":\"rgba(253,174,97,0.75)\",\"size\":0.5},\"mode\":\"markers\",\"text\":\"3rd Ave & Broad St \\u2794 Pier 69: 347 viagens \",\"x\":[-0.8839169117208985],\"y\":[0.16938386338075268],\"type\":\"scatter\"},{\"hoverinfo\":\"text\",\"marker\":{\"color\":\"rgba(213,62,79,0.75)\",\"size\":0.5},\"mode\":\"markers\",\"text\":\"Pier 69 \\u2794 Pine St & 9th Ave: 65 viagens \",\"x\":[0.8999148165413291],\"y\":[0.012382365258137889],\"type\":\"scatter\"},{\"hoverinfo\":\"text\",\"marker\":{\"color\":\"rgba(254,224,139,0.75)\",\"size\":0.5},\"mode\":\"markers\",\"text\":\"Pine St & 9th Ave \\u2794 Pier 69: 52 viagens \",\"x\":[-0.8351034512114344],\"y\":[-0.33556255121027956],\"type\":\"scatter\"},{\"hoverinfo\":\"text\",\"marker\":{\"color\":\"rgba(213,62,79,0.75)\",\"size\":0.5},\"mode\":\"markers\",\"text\":\"Pier 69 \\u2794 Burke-Gilman Trail: 1 viagens \",\"x\":[0.8999999933287804],\"y\":[0.00010958191060962971],\"type\":\"scatter\"},{\"hoverinfo\":\"text\",\"marker\":{\"color\":\"rgba(255,255,191,0.75)\",\"size\":0.5},\"mode\":\"markers\",\"text\":\"Burke-Gilman Trail \\u2794 Pier 69: 4 viagens \",\"x\":[-0.6585030840859969],\"y\":[-0.6134930221683296],\"type\":\"scatter\"},{\"hoverinfo\":\"text\",\"marker\":{\"color\":\"rgba(213,62,79,0.75)\",\"size\":0.5},\"mode\":\"markers\",\"text\":\"Pier 69 \\u2794 King Street Station Plaza: 737 viagens \",\"x\":[0.876598554563253],\"y\":[0.2038994216215817],\"type\":\"scatter\"},{\"hoverinfo\":\"text\",\"marker\":{\"color\":\"rgba(230,245,152,0.75)\",\"size\":0.5},\"mode\":\"markers\",\"text\":\"King Street Station Plaza \\u2794 Pier 69: 962 viagens \",\"x\":[-0.15234928986161725],\"y\":[-0.8870116650183699],\"type\":\"scatter\"},{\"hoverinfo\":\"text\",\"marker\":{\"color\":\"rgba(213,62,79,0.75)\",\"size\":0.5},\"mode\":\"markers\",\"text\":\"Pier 69 \\u2794 Lake Union Park: 97 viagens \",\"x\":[0.8994955361551085],\"y\":[0.030129394899896716],\"type\":\"scatter\"},{\"hoverinfo\":\"text\",\"marker\":{\"color\":\"rgba(171,221,164,0.75)\",\"size\":0.5},\"mode\":\"markers\",\"text\":\"Lake Union Park \\u2794 Pier 69: 75 viagens \",\"x\":[0.00021908129838834765],\"y\":[-0.8999999733352133],\"type\":\"scatter\"},{\"hoverinfo\":\"text\",\"marker\":{\"color\":\"rgba(213,62,79,0.75)\",\"size\":0.5},\"mode\":\"markers\",\"text\":\"Pier 69 \\u2794 E Pine St & 16th Ave: 23 viagens \",\"x\":[0.899995830491],\"y\":[0.002739543541427226],\"type\":\"scatter\"},{\"hoverinfo\":\"text\",\"marker\":{\"color\":\"rgba(102,194,165,0.75)\",\"size\":0.5},\"mode\":\"markers\",\"text\":\"E Pine St & 16th Ave \\u2794 Pier 69: 3 viagens \",\"x\":[0.27642640899996396],\"y\":[-0.856497776066806],\"type\":\"scatter\"},{\"hoverinfo\":\"text\",\"marker\":{\"color\":\"rgba(213,62,79,0.75)\",\"size\":0.5},\"mode\":\"markers\",\"text\":\"Pier 69 \\u2794 Seattle Aquarium: 1605 viagens \",\"x\":[0.6866695494326499],\"y\":[0.5817945770475706],\"type\":\"scatter\"},{\"hoverinfo\":\"text\",\"marker\":{\"color\":\"rgba(50,136,189,0.75)\",\"size\":0.5},\"mode\":\"markers\",\"text\":\"Seattle Aquarium \\u2794 Pier 69: 2291 viagens \",\"x\":[0.8652112156918659],\"y\":[-0.24780950797135198],\"type\":\"scatter\"},{\"hoverinfo\":\"text\",\"marker\":{\"color\":\"rgba(244,109,67,0.75)\",\"size\":0.5},\"mode\":\"markers\",\"text\":\"2nd Ave & Pine St \\u2b8c : 427 viagens \",\"x\":[-0.5663512651481472],\"y\":[0.6994613959791441],\"type\":\"scatter\"},{\"hoverinfo\":\"text\",\"marker\":{\"color\":\"rgba(244,109,67,0.75)\",\"size\":0.5},\"mode\":\"markers\",\"text\":\"2nd Ave & Pine St \\u2794 3rd Ave & Broad St: 1101 viagens \",\"x\":[-0.7607954449913064],\"y\":[0.480822514947543],\"type\":\"scatter\"},{\"hoverinfo\":\"text\",\"marker\":{\"color\":\"rgba(253,174,97,0.75)\",\"size\":0.5},\"mode\":\"markers\",\"text\":\"3rd Ave & Broad St \\u2794 2nd Ave & Pine St: 962 viagens \",\"x\":[-0.8743896213513551],\"y\":[-0.21317314575957666],\"type\":\"scatter\"},{\"hoverinfo\":\"text\",\"marker\":{\"color\":\"rgba(244,109,67,0.75)\",\"size\":0.5},\"mode\":\"markers\",\"text\":\"2nd Ave & Pine St \\u2794 Pine St & 9th Ave: 344 viagens \",\"x\":[-0.49829197307304535],\"y\":[0.7494698856998668],\"type\":\"scatter\"},{\"hoverinfo\":\"text\",\"marker\":{\"color\":\"rgba(254,224,139,0.75)\",\"size\":0.5},\"mode\":\"markers\",\"text\":\"Pine St & 9th Ave \\u2794 2nd Ave & Pine St: 158 viagens \",\"x\":[-0.8075144262840024],\"y\":[-0.39739206250656084],\"type\":\"scatter\"},{\"hoverinfo\":\"text\",\"marker\":{\"color\":\"rgba(244,109,67,0.75)\",\"size\":0.5},\"mode\":\"markers\",\"text\":\"2nd Ave & Pine St \\u2794 Burke-Gilman Trail: 9 viagens \",\"x\":[-0.3116364281405797],\"y\":[0.8443238339972297],\"type\":\"scatter\"},{\"hoverinfo\":\"text\",\"marker\":{\"color\":\"rgba(255,255,191,0.75)\",\"size\":0.5},\"mode\":\"markers\",\"text\":\"Burke-Gilman Trail \\u2794 2nd Ave & Pine St: 1 viagens \",\"x\":[-0.6588764485647057],\"y\":[-0.6130920204396407],\"type\":\"scatter\"},{\"hoverinfo\":\"text\",\"marker\":{\"color\":\"rgba(244,109,67,0.75)\",\"size\":0.5},\"mode\":\"markers\",\"text\":\"2nd Ave & Pine St \\u2794 King Street Station Plaza: 199 viagens \",\"x\":[-0.387530809083394],\"y\":[0.8122929717849158],\"type\":\"scatter\"},{\"hoverinfo\":\"text\",\"marker\":{\"color\":\"rgba(230,245,152,0.75)\",\"size\":0.5},\"mode\":\"markers\",\"text\":\"King Street Station Plaza \\u2794 2nd Ave & Pine St: 384 viagens \",\"x\":[-0.29502659538456916],\"y\":[-0.8502701382594767],\"type\":\"scatter\"},{\"hoverinfo\":\"text\",\"marker\":{\"color\":\"rgba(244,109,67,0.75)\",\"size\":0.5},\"mode\":\"markers\",\"text\":\"2nd Ave & Pine St \\u2794 Lake Union Park: 135 viagens \",\"x\":[-0.3263913830215023],\"y\":[0.8387303887956553],\"type\":\"scatter\"},{\"hoverinfo\":\"text\",\"marker\":{\"color\":\"rgba(171,221,164,0.75)\",\"size\":0.5},\"mode\":\"markers\",\"text\":\"Lake Union Park \\u2794 2nd Ave & Pine St: 105 viagens \",\"x\":[0.019942165470682283],\"y\":[-0.8997790340057608],\"type\":\"scatter\"},{\"hoverinfo\":\"text\",\"marker\":{\"color\":\"rgba(244,109,67,0.75)\",\"size\":0.5},\"mode\":\"markers\",\"text\":\"2nd Ave & Pine St \\u2794 E Pine St & 16th Ave: 577 viagens \",\"x\":[-0.6474174370915804],\"y\":[0.6251805036545602],\"type\":\"scatter\"},{\"hoverinfo\":\"text\",\"marker\":{\"color\":\"rgba(102,194,165,0.75)\",\"size\":0.5},\"mode\":\"markers\",\"text\":\"E Pine St & 16th Ave \\u2794 2nd Ave & Pine St: 53 viagens \",\"x\":[0.2926439663104172],\"y\":[-0.8510931259163755],\"type\":\"scatter\"},{\"hoverinfo\":\"text\",\"marker\":{\"color\":\"rgba(244,109,67,0.75)\",\"size\":0.5},\"mode\":\"markers\",\"text\":\"2nd Ave & Pine St \\u2794 Seattle Aquarium: 137 viagens \",\"x\":[-0.3539844621228249],\"y\":[0.8274629904567421],\"type\":\"scatter\"},{\"hoverinfo\":\"text\",\"marker\":{\"color\":\"rgba(50,136,189,0.75)\",\"size\":0.5},\"mode\":\"markers\",\"text\":\"Seattle Aquarium \\u2794 2nd Ave & Pine St: 158 viagens \",\"x\":[0.41294978005118166],\"y\":[-0.7996702315052628],\"type\":\"scatter\"},{\"hoverinfo\":\"text\",\"marker\":{\"color\":\"rgba(253,174,97,0.75)\",\"size\":0.5},\"mode\":\"markers\",\"text\":\"3rd Ave & Broad St \\u2b8c : 627 viagens \",\"x\":[-0.8990620377180458],\"y\":[-0.04107861164006351],\"type\":\"scatter\"},{\"hoverinfo\":\"text\",\"marker\":{\"color\":\"rgba(253,174,97,0.75)\",\"size\":0.5},\"mode\":\"markers\",\"text\":\"3rd Ave & Broad St \\u2794 Pine St & 9th Ave: 166 viagens \",\"x\":[-0.8261644420292849],\"y\":[0.35700464244382085],\"type\":\"scatter\"},{\"hoverinfo\":\"text\",\"marker\":{\"color\":\"rgba(254,224,139,0.75)\",\"size\":0.5},\"mode\":\"markers\",\"text\":\"Pine St & 9th Ave \\u2794 3rd Ave & Broad St: 151 viagens \",\"x\":[-0.8218905614397137],\"y\":[-0.36673683346006053],\"type\":\"scatter\"},{\"hoverinfo\":\"text\",\"marker\":{\"color\":\"rgba(253,174,97,0.75)\",\"size\":0.5},\"mode\":\"markers\",\"text\":\"3rd Ave & Broad St \\u2794 Burke-Gilman Trail: 6 viagens \",\"x\":[-0.818507323193224],\"y\":[0.37422688556417666],\"type\":\"scatter\"},{\"hoverinfo\":\"text\",\"marker\":{\"color\":\"rgba(255,255,191,0.75)\",\"size\":0.5},\"mode\":\"markers\",\"text\":\"Burke-Gilman Trail \\u2794 3rd Ave & Broad St: 8 viagens \",\"x\":[-0.6564077367872565],\"y\":[-0.6157344257761066],\"type\":\"scatter\"},{\"hoverinfo\":\"text\",\"marker\":{\"color\":\"rgba(253,174,97,0.75)\",\"size\":0.5},\"mode\":\"markers\",\"text\":\"3rd Ave & Broad St \\u2794 King Street Station Plaza: 179 viagens \",\"x\":[-0.8404277133055511],\"y\":[0.32199574330727154],\"type\":\"scatter\"},{\"hoverinfo\":\"text\",\"marker\":{\"color\":\"rgba(230,245,152,0.75)\",\"size\":0.5},\"mode\":\"markers\",\"text\":\"King Street Station Plaza \\u2794 3rd Ave & Broad St: 301 viagens \",\"x\":[-0.3648347460505546],\"y\":[-0.822736657791682],\"type\":\"scatter\"},{\"hoverinfo\":\"text\",\"marker\":{\"color\":\"rgba(253,174,97,0.75)\",\"size\":0.5},\"mode\":\"markers\",\"text\":\"3rd Ave & Broad St \\u2794 Lake Union Park: 264 viagens \",\"x\":[-0.8688825340441514],\"y\":[0.23461274908455887],\"type\":\"scatter\"},{\"hoverinfo\":\"text\",\"marker\":{\"color\":\"rgba(171,221,164,0.75)\",\"size\":0.5},\"mode\":\"markers\",\"text\":\"Lake Union Park \\u2794 3rd Ave & Broad St: 175 viagens \",\"x\":[0.05059999460653614],\"y\":[-0.8985764522542411],\"type\":\"scatter\"},{\"hoverinfo\":\"text\",\"marker\":{\"color\":\"rgba(253,174,97,0.75)\",\"size\":0.5},\"mode\":\"markers\",\"text\":\"3rd Ave & Broad St \\u2794 E Pine St & 16th Ave: 198 viagens \",\"x\":[-0.8543177161053798],\"y\":[0.28309228168300116],\"type\":\"scatter\"},{\"hoverinfo\":\"text\",\"marker\":{\"color\":\"rgba(102,194,165,0.75)\",\"size\":0.5},\"mode\":\"markers\",\"text\":\"E Pine St & 16th Ave \\u2794 3rd Ave & Broad St: 16 viagens \",\"x\":[0.2800738490348972],\"y\":[-0.8553120127104363],\"type\":\"scatter\"},{\"hoverinfo\":\"text\",\"marker\":{\"color\":\"rgba(253,174,97,0.75)\",\"size\":0.5},\"mode\":\"markers\",\"text\":\"3rd Ave & Broad St \\u2794 Seattle Aquarium: 478 viagens \",\"x\":[-0.8964472229009233],\"y\":[0.07988977752642969],\"type\":\"scatter\"},{\"hoverinfo\":\"text\",\"marker\":{\"color\":\"rgba(50,136,189,0.75)\",\"size\":0.5},\"mode\":\"markers\",\"text\":\"Seattle Aquarium \\u2794 3rd Ave & Broad St: 792 viagens \",\"x\":[0.5348935169957539],\"y\":[-0.723801716961153],\"type\":\"scatter\"},{\"hoverinfo\":\"text\",\"marker\":{\"color\":\"rgba(254,224,139,0.75)\",\"size\":0.5},\"mode\":\"markers\",\"text\":\"Pine St & 9th Ave \\u2b8c : 186 viagens \",\"x\":[-0.7901664743187078],\"y\":[-0.43085605817110545],\"type\":\"scatter\"},{\"hoverinfo\":\"text\",\"marker\":{\"color\":\"rgba(254,224,139,0.75)\",\"size\":0.5},\"mode\":\"markers\",\"text\":\"Pine St & 9th Ave \\u2794 Burke-Gilman Trail: 2 viagens \",\"x\":[-0.8434095708609308],\"y\":[-0.3141023651298739],\"type\":\"scatter\"},{\"hoverinfo\":\"text\",\"marker\":{\"color\":\"rgba(255,255,191,0.75)\",\"size\":0.5},\"mode\":\"markers\",\"text\":\"Burke-Gilman Trail \\u2794 Pine St & 9th Ave: 4 viagens \",\"x\":[-0.6579051933424188],\"y\":[-0.6141341519351244],\"type\":\"scatter\"},{\"hoverinfo\":\"text\",\"marker\":{\"color\":\"rgba(254,224,139,0.75)\",\"size\":0.5},\"mode\":\"markers\",\"text\":\"Pine St & 9th Ave \\u2794 King Street Station Plaza: 42 viagens \",\"x\":[-0.8388892546466372],\"y\":[-0.3259828499145462],\"type\":\"scatter\"},{\"hoverinfo\":\"text\",\"marker\":{\"color\":\"rgba(230,245,152,0.75)\",\"size\":0.5},\"mode\":\"markers\",\"text\":\"King Street Station Plaza \\u2794 Pine St & 9th Ave: 65 viagens \",\"x\":[-0.49069275107057553],\"y\":[-0.7544671126343349],\"type\":\"scatter\"},{\"hoverinfo\":\"text\",\"marker\":{\"color\":\"rgba(254,224,139,0.75)\",\"size\":0.5},\"mode\":\"markers\",\"text\":\"Pine St & 9th Ave \\u2794 Lake Union Park: 53 viagens \",\"x\":[-0.8307453096243332],\"y\":[-0.346211251315105],\"type\":\"scatter\"},{\"hoverinfo\":\"text\",\"marker\":{\"color\":\"rgba(171,221,164,0.75)\",\"size\":0.5},\"mode\":\"markers\",\"text\":\"Lake Union Park \\u2794 Pine St & 9th Ave: 73 viagens \",\"x\":[-0.015998176206115343],\"y\":[-0.8998577989649688],\"type\":\"scatter\"},{\"hoverinfo\":\"text\",\"marker\":{\"color\":\"rgba(254,224,139,0.75)\",\"size\":0.5},\"mode\":\"markers\",\"text\":\"Pine St & 9th Ave \\u2794 E Pine St & 16th Ave: 934 viagens \",\"x\":[-0.7242575209273476],\"y\":[-0.5342761864243742],\"type\":\"scatter\"},{\"hoverinfo\":\"text\",\"marker\":{\"color\":\"rgba(102,194,165,0.75)\",\"size\":0.5},\"mode\":\"markers\",\"text\":\"E Pine St & 16th Ave \\u2794 Pine St & 9th Ave: 98 viagens \",\"x\":[0.3082412352770038],\"y\":[-0.845569240733665],\"type\":\"scatter\"},{\"hoverinfo\":\"text\",\"marker\":{\"color\":\"rgba(254,224,139,0.75)\",\"size\":0.5},\"mode\":\"markers\",\"text\":\"Pine St & 9th Ave \\u2794 Seattle Aquarium: 36 viagens \",\"x\":[-0.8419472641689012],\"y\":[-0.31800126471211154],\"type\":\"scatter\"},{\"hoverinfo\":\"text\",\"marker\":{\"color\":\"rgba(50,136,189,0.75)\",\"size\":0.5},\"mode\":\"markers\",\"text\":\"Seattle Aquarium \\u2794 Pine St & 9th Ave: 68 viagens \",\"x\":[0.3769156606264464],\"y\":[-0.8172726502058719],\"type\":\"scatter\"},{\"hoverinfo\":\"text\",\"marker\":{\"color\":\"rgba(255,255,191,0.75)\",\"size\":0.5},\"mode\":\"markers\",\"text\":\"Burke-Gilman Trail \\u2b8c : 880 viagens \",\"x\":[-0.5794505841680193],\"y\":[-0.688648691647157],\"type\":\"scatter\"},{\"hoverinfo\":\"text\",\"marker\":{\"color\":\"rgba(255,255,191,0.75)\",\"size\":0.5},\"mode\":\"markers\",\"text\":\"Burke-Gilman Trail \\u2794 King Street Station Plaza: 0 viagens \",\"x\":[-0.6589510921616198],\"y\":[-0.6130117928221352],\"type\":\"scatter\"},{\"hoverinfo\":\"text\",\"marker\":{\"color\":\"rgba(230,245,152,0.75)\",\"size\":0.5},\"mode\":\"markers\",\"text\":\"King Street Station Plaza \\u2794 Burke-Gilman Trail: 1 viagens \",\"x\":[-0.502391030965134],\"y\":[-0.7467283656094696],\"type\":\"scatter\"},{\"hoverinfo\":\"text\",\"marker\":{\"color\":\"rgba(255,255,191,0.75)\",\"size\":0.5},\"mode\":\"markers\",\"text\":\"Burke-Gilman Trail \\u2794 Lake Union Park: 25 viagens \",\"x\":[-0.6516653482858618],\"y\":[-0.6207513784466906],\"type\":\"scatter\"},{\"hoverinfo\":\"text\",\"marker\":{\"color\":\"rgba(171,221,164,0.75)\",\"size\":0.5},\"mode\":\"markers\",\"text\":\"Lake Union Park \\u2794 Burke-Gilman Trail: 46 viagens \",\"x\":[-0.0290342095469516],\"y\":[-0.8995315529073917],\"type\":\"scatter\"},{\"hoverinfo\":\"text\",\"marker\":{\"color\":\"rgba(255,255,191,0.75)\",\"size\":0.5},\"mode\":\"markers\",\"text\":\"Burke-Gilman Trail \\u2794 E Pine St & 16th Ave: 15 viagens \",\"x\":[-0.6546808502459117],\"y\":[-0.6175702262263703],\"type\":\"scatter\"},{\"hoverinfo\":\"text\",\"marker\":{\"color\":\"rgba(102,194,165,0.75)\",\"size\":0.5},\"mode\":\"markers\",\"text\":\"E Pine St & 16th Ave \\u2794 Burke-Gilman Trail: 3 viagens \",\"x\":[0.27705204279434786],\"y\":[-0.8562956064254207],\"type\":\"scatter\"},{\"hoverinfo\":\"text\",\"marker\":{\"color\":\"rgba(255,255,191,0.75)\",\"size\":0.5},\"mode\":\"markers\",\"text\":\"Burke-Gilman Trail \\u2794 Seattle Aquarium: 4 viagens \",\"x\":[-0.657306678384307],\"y\":[-0.6147746990169562],\"type\":\"scatter\"},{\"hoverinfo\":\"text\",\"marker\":{\"color\":\"rgba(50,136,189,0.75)\",\"size\":0.5},\"mode\":\"markers\",\"text\":\"Seattle Aquarium \\u2794 Burke-Gilman Trail: 0 viagens \",\"x\":[0.36553566760109085],\"y\":[-0.8224254833791477],\"type\":\"scatter\"},{\"hoverinfo\":\"text\",\"marker\":{\"color\":\"rgba(230,245,152,0.75)\",\"size\":0.5},\"mode\":\"markers\",\"text\":\"King Street Station Plaza \\u2b8c : 185 viagens \",\"x\":[-0.45413767703838],\"y\":[-0.7770192856642517],\"type\":\"scatter\"},{\"hoverinfo\":\"text\",\"marker\":{\"color\":\"rgba(230,245,152,0.75)\",\"size\":0.5},\"mode\":\"markers\",\"text\":\"King Street Station Plaza \\u2794 Lake Union Park: 31 viagens \",\"x\":[-0.4994777902460776],\"y\":[-0.7486801299960453],\"type\":\"scatter\"},{\"hoverinfo\":\"text\",\"marker\":{\"color\":\"rgba(171,221,164,0.75)\",\"size\":0.5},\"mode\":\"markers\",\"text\":\"Lake Union Park \\u2794 King Street Station Plaza: 26 viagens \",\"x\":[-0.03691877276842327],\"y\":[-0.89924246130689],\"type\":\"scatter\"},{\"hoverinfo\":\"text\",\"marker\":{\"color\":\"rgba(230,245,152,0.75)\",\"size\":0.5},\"mode\":\"markers\",\"text\":\"King Street Station Plaza \\u2794 E Pine St & 16th Ave: 71 viagens \",\"x\":[-0.47813280532536134],\"y\":[-0.7624887018649523],\"type\":\"scatter\"},{\"hoverinfo\":\"text\",\"marker\":{\"color\":\"rgba(102,194,165,0.75)\",\"size\":0.5},\"mode\":\"markers\",\"text\":\"E Pine St & 16th Ave \\u2794 King Street Station Plaza: 26 viagens \",\"x\":[0.2844440574323321],\"y\":[-0.8538685953889112],\"type\":\"scatter\"},{\"hoverinfo\":\"text\",\"marker\":{\"color\":\"rgba(230,245,152,0.75)\",\"size\":0.5},\"mode\":\"markers\",\"text\":\"King Street Station Plaza \\u2794 Seattle Aquarium: 215 viagens \",\"x\":[-0.4157709442692791],\"y\":[-0.7982070670580611],\"type\":\"scatter\"},{\"hoverinfo\":\"text\",\"marker\":{\"color\":\"rgba(50,136,189,0.75)\",\"size\":0.5},\"mode\":\"markers\",\"text\":\"Seattle Aquarium \\u2794 King Street Station Plaza: 181 viagens \",\"x\":[0.4455957519504798],\"y\":[-0.781949119728187],\"type\":\"scatter\"},{\"hoverinfo\":\"text\",\"marker\":{\"color\":\"rgba(171,221,164,0.75)\",\"size\":0.5},\"mode\":\"markers\",\"text\":\"Lake Union Park \\u2b8c : 960 viagens \",\"x\":[0.17390127814141412],\"y\":[-0.8830392660922743],\"type\":\"scatter\"},{\"hoverinfo\":\"text\",\"marker\":{\"color\":\"rgba(171,221,164,0.75)\",\"size\":0.5},\"mode\":\"markers\",\"text\":\"Lake Union Park \\u2794 E Pine St & 16th Ave: 19 viagens \",\"x\":[-0.041845222434245016],\"y\":[-0.8990266833411724],\"type\":\"scatter\"},{\"hoverinfo\":\"text\",\"marker\":{\"color\":\"rgba(102,194,165,0.75)\",\"size\":0.5},\"mode\":\"markers\",\"text\":\"E Pine St & 16th Ave \\u2794 Lake Union Park: 5 viagens \",\"x\":[0.2778859911241703],\"y\":[-0.8560253360368124],\"type\":\"scatter\"},{\"hoverinfo\":\"text\",\"marker\":{\"color\":\"rgba(171,221,164,0.75)\",\"size\":0.5},\"mode\":\"markers\",\"text\":\"Lake Union Park \\u2794 Seattle Aquarium: 17 viagens \",\"x\":[-0.04578548479527939],\"y\":[-0.898834628495176],\"type\":\"scatter\"},{\"hoverinfo\":\"text\",\"marker\":{\"color\":\"rgba(50,136,189,0.75)\",\"size\":0.5},\"mode\":\"markers\",\"text\":\"Seattle Aquarium \\u2794 Lake Union Park: 70 viagens \",\"x\":[0.39059407867093315],\"y\":[-0.81082443581037],\"type\":\"scatter\"},{\"hoverinfo\":\"text\",\"marker\":{\"color\":\"rgba(102,194,165,0.75)\",\"size\":0.5},\"mode\":\"markers\",\"text\":\"E Pine St & 16th Ave \\u2b8c : 233 viagens \",\"x\":[0.34205948595266744],\"y\":[-0.8324633974354649],\"type\":\"scatter\"},{\"hoverinfo\":\"text\",\"marker\":{\"color\":\"rgba(102,194,165,0.75)\",\"size\":0.5},\"mode\":\"markers\",\"text\":\"E Pine St & 16th Ave \\u2794 Seattle Aquarium: 2 viagens \",\"x\":[0.27590493479664935],\"y\":[-0.8566659015945812],\"type\":\"scatter\"},{\"hoverinfo\":\"text\",\"marker\":{\"color\":\"rgba(50,136,189,0.75)\",\"size\":0.5},\"mode\":\"markers\",\"text\":\"Seattle Aquarium \\u2794 E Pine St & 16th Ave: 23 viagens \",\"x\":[0.3678373729622058],\"y\":[-0.8213986042429481],\"type\":\"scatter\"},{\"hoverinfo\":\"text\",\"marker\":{\"color\":\"rgba(50,136,189,0.75)\",\"size\":0.5},\"mode\":\"markers\",\"text\":\"Seattle Aquarium \\u2b8c : 1150 viagens \",\"x\":[0.6895650622730755],\"y\":[-0.578359771156613],\"type\":\"scatter\"}],                        {\"height\":625,\"hovermode\":\"closest\",\"margin\":{\"b\":25,\"l\":25,\"r\":25,\"t\":25},\"paper_bgcolor\":\"rgba(0,0,0,0)\",\"plot_bgcolor\":\"rgba(0,0,0,0)\",\"shapes\":[{\"fillcolor\":\"rgba(213,62,79,0.75)\",\"layer\":\"below\",\"line\":{\"color\":\"rgb(175,175,175)\",\"width\":0.5},\"path\":\"M 0.6229187010081774,0.7822865791602749 Q 0.031861687213336196, 0.19744577201834312 -0.3452338719347044, 0.9385166880077158L -0.3452338719347044, 0.9385166880077158 L -0.2639112265865334, 0.9645469737040241 L -0.18066441809789902, 0.9835447971665284 L -0.09610039465560964, 0.995371646244274 L -0.010835708192758415, 0.9999412919906655 L 0.07450798085961882, 0.9972204173542691 L 0.15930843606668096, 0.9872288600917156 L 0.24294738168353305, 0.9700394681316403 L 0.32481501047179145, 0.9457775684441929 L 0.4043144297727051, 0.9146200532885622 L 0.48086601342074253, 0.8767940905006387 L 0.5539116277680676, 0.8325754672240407 L 0.6229187010081774, 0.7822865791602749 \",\"type\":\"path\"},{\"fillcolor\":\"rgba(213,62,79,0.75)\",\"layer\":\"below\",\"line\":{\"color\":\"rgb(175, 175, 175)\",\"width\":0.5},\"path\":\"M 0.9989744086360391,0.04527837110890709 Q 0.09418136273954948, 0.1764365917618038 -0.5183031885169904, 0.8551969391743174L -0.5183031885169904, 0.8551969391743174 L -0.4856623986431295, 0.8741464605798058 L -0.45232977999907426, 0.8918507555224636 M -0.45232977999907426,0.8918507555224636 Q 0.09258785251624502, 0.17727800079657394 0.9903822155940469, 0.1383584729426672L 0.9903822155940469, 0.1383584729426672 L 0.9957664992011815, 0.09191887221144127 L 0.9989744086360391, 0.04527837110890709 \",\"type\":\"path\"},{\"fillcolor\":\"rgba(213,62,79,0.75)\",\"layer\":\"below\",\"line\":{\"color\":\"rgb(175, 175, 175)\",\"width\":0.5},\"path\":\"M 0.9497767666958941,0.3129282560662959 Q -0.017098205786895148, 0.19926778806136478 -0.9892027010994698, 0.14655379946460934L -0.9892027010994698, 0.14655379946460934 L -0.9821299019121094, 0.18820429264528074 L -0.9733042089920976, 0.22951888104961485 M -0.9733042089920976,0.22951888104961485 Q -0.027502840089808068, 0.19809995907872988 0.8739690235383102, 0.4859816312325936L 0.8739690235383102, 0.4859816312325936 L 0.9159689102329606, 0.4012492435963495 L 0.9497767666958941, 0.3129282560662959 \",\"type\":\"path\"},{\"fillcolor\":\"rgba(213,62,79,0.75)\",\"layer\":\"below\",\"line\":{\"color\":\"rgb(175, 175, 175)\",\"width\":0.5},\"path\":\"M 0.9999829217265603,0.0058443353096745325 Q -0.03917030558455903, 0.19612671200122708 -0.9255134994115093, -0.37871461868676554L -0.9255134994115093, -0.37871461868676554 L -0.9278927235682604, -0.37284727912253285 L -0.9302347518636281, -0.36696499346015843 M -0.9302347518636281,-0.36696499346015843 Q -0.03948069709651842, 0.19606446530866567 0.9997651526147238, 0.02167117018663315L 0.9997651526147238, 0.02167117018663315 L 0.9999053517125879, 0.01375818362015321 L 0.9999829217265603, 0.0058443353096745325 \",\"type\":\"path\"},{\"fillcolor\":\"rgba(255,255,191,0.75)\",\"layer\":\"below\",\"line\":{\"color\":\"rgb(175, 175, 175)\",\"width\":0.5},\"path\":\"M 1.0,0.0 Q -0.0733023848669949, 0.18608267080201468 -0.7313380186405478, -0.6820151776103797L -0.7313380186405478, -0.6820151776103797 L -0.7316700934288854, -0.6816589135203662 L -0.7320019946667107, -0.6813024877423807 M -0.7320019946667107,-0.6813024877423807 Q -0.07323440921510681, 0.18610943368597488 0.9999999703501354, 0.00024351535510523892L 0.9999999703501354, 0.00024351535510523892 L 0.9999999925875338, 0.00012175767845514412 L 1.0, 0.0 \",\"type\":\"path\"},{\"fillcolor\":\"rgba(230,245,152,0.75)\",\"layer\":\"below\",\"line\":{\"color\":\"rgb(175, 175, 175)\",\"width\":0.5},\"path\":\"M 0.9903822155940469,0.1383584729426672 Q -0.14735895924151102, 0.1352232862019656 -0.05294047531457745, -0.9985976697716987L -0.05294047531457745, -0.9985976697716987 L -0.16927698873513028, -0.9855685166870777 L -0.2832937399195361, -0.959033188644899 M -0.2832937399195361,-0.959033188644899 Q -0.14359963585652874, 0.13920899605223921 0.9497767666958941, 0.3129282560662959L 0.9497767666958941, 0.3129282560662959 L 0.97399839395917, 0.22655491291286856 L 0.9903822155940469, 0.1383584729426672 \",\"type\":\"path\"},{\"fillcolor\":\"rgba(213,62,79,0.75)\",\"layer\":\"below\",\"line\":{\"color\":\"rgb(175, 175, 175)\",\"width\":0.5},\"path\":\"M 0.9997651526147238,0.02167117018663315 Q -0.14359965985683562, 0.1392089712949604 0.009375099468390899, -0.9999560527893002L 0.009375099468390899, -0.9999560527893002 L 0.00024342366487594184, -0.9999999703724592 L -0.0088882724376001, -0.9999604985263543 M -0.0088882724376001,-0.9999604985263543 Q -0.14397204074711012, 0.1388238145388336 0.9989744086360391, 0.04527837110890709L 0.9989744086360391, 0.04527837110890709 L 0.9994394846167872, 0.033477105444329684 L 0.9997651526147238, 0.02167117018663315 \",\"type\":\"path\"},{\"fillcolor\":\"rgba(213,62,79,0.75)\",\"layer\":\"below\",\"line\":{\"color\":\"rgb(175, 175, 175)\",\"width\":0.5},\"path\":\"M 0.9999999703501354,0.00024351535510523892 Q -0.16172320536520582, 0.11766734825941932 0.3074880492875926, -0.9515519426417619L 0.3074880492875926, -0.9515519426417619 L 0.3071404544444044, -0.9516641956297844 L 0.3067928186216427, -0.9517763216440026 M 0.3067928186216427,-0.9517763216440026 Q -0.1620092638766989, 0.11727317859651519 0.9999829217265603, 0.0058443353096745325L 0.9999829217265603, 0.0058443353096745325 L 0.9999953672122222, 0.0030439372682524732 L 0.9999999703501354, 0.00024351535510523892 \",\"type\":\"path\"},{\"fillcolor\":\"rgba(50,136,189,0.75)\",\"layer\":\"below\",\"line\":{\"color\":\"rgb(175, 175, 175)\",\"width\":0.5},\"path\":\"M 0.8739690235383102,0.4859816312325936 Q -0.1935959363669291, -0.050205711051751284 0.9999999999998026, -6.283185325590418e-07L 0.9999999999998026, -6.283185325590418e-07 L 0.9956802048987627, -0.09284896107527449 L 0.9827582570277136, -0.18489512769094368 L 0.9613457952131843, -0.27534389774594664 L 0.9316278118521351, -0.363413841485988 L 0.8938610546750428, -0.44834408096373934 L 0.8483718085806801, -0.529400863623725 M 0.8483718085806801,-0.529400863623725 Q -0.19710960684764883, -0.03387923978434748 0.6229187010081774, 0.7822865791602749L 0.6229187010081774, 0.7822865791602749 L 0.7192685477277928, 0.69473214712546 L 0.8034274603813727, 0.5954026502335523 L 0.8739690235383102, 0.4859816312325936 \",\"type\":\"path\"},{\"fillcolor\":\"rgba(244,109,67,0.75)\",\"layer\":\"below\",\"line\":{\"color\":\"rgb(175,175,175)\",\"width\":0.5},\"path\":\"M -0.5880411554742166,0.8088310079791379 Q -0.12585583669958827, 0.15543586577314317 -0.6688166450989107, 0.7434273974226654L -0.6688166450989107, 0.7434273974226654 L -0.6292791834979413, 0.7771793288657157 L -0.5880411554742166, 0.8088310079791379 \",\"type\":\"path\"},{\"fillcolor\":\"rgba(244,109,67,0.75)\",\"layer\":\"below\",\"line\":{\"color\":\"rgb(175, 175, 175)\",\"width\":0.5},\"path\":\"M -0.7663397609593062,0.6424354993093341 Q -0.19709305502374283, 0.03397539788446758 -0.9372069241475863, -0.34877382546547325L -0.9372069241475863, -0.34877382546547325 L -0.971544023723728, -0.23685905084397407 L -0.9925671294807354, -0.12169837087805596 M -0.9925671294807354,-0.12169837087805596 Q -0.19763981150040644, 0.030635027502579668 -0.9091483104870846, 0.4164725075421903L -0.9091483104870846, 0.4164725075421903 L -0.8453282722125626, 0.5342472388306033 L -0.7663397609593062, 0.6424354993093341 \",\"type\":\"path\"},{\"fillcolor\":\"rgba(244,109,67,0.75)\",\"layer\":\"below\",\"line\":{\"color\":\"rgb(175, 175, 175)\",\"width\":0.5},\"path\":\"M -0.5183031885169904,0.8551969391743174 Q -0.19250210565431472, 0.05424886467618522 -0.8885784129364934, -0.45872475850259326L -0.8885784129364934, -0.45872475850259326 L -0.8972382514266694, -0.44154673611840095 L -0.9055660424470413, -0.42420530732983924 M -0.9055660424470413,-0.42420530732983924 Q -0.1936812075693698, 0.049875743949044954 -0.5880411554742166, 0.8088310079791379L -0.5880411554742166, 0.8088310079791379 L -0.5536577478589393, 0.8327443174442964 L -0.5183031885169904, 0.8551969391743174 \",\"type\":\"path\"},{\"fillcolor\":\"rgba(244,109,67,0.75)\",\"layer\":\"below\",\"line\":{\"color\":\"rgb(175, 175, 175)\",\"width\":0.5},\"path\":\"M -0.3452344616220627,0.9385164710906914 Q -0.19453153580210725, 0.04644869835069092 -0.7320019946667107, -0.6813024877423807L -0.7320019946667107, -0.6813024877423807 L -0.732084942849673, -0.6812133560440452 L -0.7321678801795776, -0.6811242142468169 M -0.7321678801795776,-0.6811242142468169 Q -0.19457668738494313, 0.04625919072251611 -0.34729051844731806, 0.9377575890370565L -0.34729051844731806, 0.9377575890370565 L -0.3462626979339774, 0.9381375933302551 L -0.3452344616220627, 0.9385164710906914 \",\"type\":\"path\"},{\"fillcolor\":\"rgba(230,245,152,0.75)\",\"layer\":\"below\",\"line\":{\"color\":\"rgb(175, 175, 175)\",\"width\":0.5},\"path\":\"M -0.4085970167701012,0.9127148940860852 Q -0.19955334385571377, -0.013359002807218162 -0.2832937399195361, -0.959033188644899L -0.2832937399195361, -0.959033188644899 L -0.32780732820507685, -0.9447445980660852 L -0.37160445313560087, -0.9283911516218748 M -0.37160445313560087,-0.9283911516218748 Q -0.19980360910293096, -0.008861026432821698 -0.45232977999907426, 0.8918507555224636L -0.45232977999907426, 0.8918507555224636 L -0.4305897878704378, 0.9025477464276842 L -0.4085970167701012, 0.9127148940860852 \",\"type\":\"path\"},{\"fillcolor\":\"rgba(244,109,67,0.75)\",\"layer\":\"below\",\"line\":{\"color\":\"rgb(175, 175, 175)\",\"width\":0.5},\"path\":\"M -0.34729051844731806,0.9377575890370565 Q -0.19621680549573922, -0.0387164724768056 0.034937202253887176, -0.9993895096000713L 0.034937202253887176, -0.9993895096000713 L 0.022157961634091426, -0.9997544822286231 L 0.009375099468390899, -0.9999560527893002 M 0.009375099468390899,-0.9999560527893002 Q -0.19607407557152187, -0.039432941670298156 -0.37792568405721627, 0.9258359343479196L -0.37792568405721627, 0.9258359343479196 L -0.36265709224611364, 0.9319226542173947 L -0.34729051844731806, 0.9377575890370565 \",\"type\":\"path\"},{\"fillcolor\":\"rgba(244,109,67,0.75)\",\"layer\":\"below\",\"line\":{\"color\":\"rgb(175, 175, 175)\",\"width\":0.5},\"path\":\"M -0.6688166450989107,0.7434273974226654 Q -0.1720409841697632, -0.10198970421517695 0.3312556022390065, -0.9435410568625369L 0.3312556022390065, -0.9435410568625369 L 0.32515996256713026, -0.9456590287959727 L 0.319050782379854, -0.9477376210021438 M 0.319050782379854,-0.9477376210021438 Q -0.16518831626116273, -0.11275114265852067 -0.7663397609593062, 0.6424354993093341L -0.7663397609593062, 0.6424354993093341 L -0.7193527078795338, 0.6946450040606225 L -0.6688166450989107, 0.7434273974226654 \",\"type\":\"path\"},{\"fillcolor\":\"rgba(50,136,189,0.75)\",\"layer\":\"below\",\"line\":{\"color\":\"rgb(175, 175, 175)\",\"width\":0.5},\"path\":\"M -0.37792568405721627,0.9258359343479196 Q -0.1808020911314206, -0.08550206922937881 0.4758402695454269, -0.8795317151069286L 0.4758402695454269, -0.8795317151069286 L 0.45883308894575736, -0.8885224794502921 L 0.44165610429794155, -0.8971844211400273 M 0.44165610429794155,-0.8971844211400273 Q -0.18102012138224097, -0.0850394946760548 -0.4085970167701012, 0.9127148940860852L -0.4085970167701012, 0.9127148940860852 L -0.39331606902536104, 0.9194033227297134 L -0.37792568405721627, 0.9258359343479196 \",\"type\":\"path\"},{\"fillcolor\":\"rgba(253,174,97,0.75)\",\"layer\":\"below\",\"line\":{\"color\":\"rgb(175,175,175)\",\"width\":0.5},\"path\":\"M -0.9995293055853302,0.030678449701829688 Q -0.19979156393734354, -0.009128580364458558 -0.9925671294807354, -0.12169837087805596L -0.9925671294807354, -0.12169837087805596 L -0.9989578196867176, -0.04564290182229279 L -0.9995293055853302, 0.030678449701829688 \",\"type\":\"path\"},{\"fillcolor\":\"rgba(253,174,97,0.75)\",\"layer\":\"below\",\"line\":{\"color\":\"rgb(175, 175, 175)\",\"width\":0.5},\"path\":\"M -0.9097561051151629,0.4151431430310377 Q -0.1999975079983013, -0.0009983959482152782 -0.9055660424470413, -0.42420530732983924L -0.9055660424470413, -0.42420530732983924 L -0.9132117349330152, -0.40748537051117834 L -0.9205487500714105, -0.3906276983803937 M -0.9205487500714105,-0.3906276983803937 Q -0.19999535098813312, -0.0013636653304399257 -0.9257898888958132, 0.37803846579187944L -0.9257898888958132, 0.37803846579187944 L -0.9179604911436499, 0.39667182493757874 L -0.9097561051151629, 0.4151431430310377 \",\"type\":\"path\"},{\"fillcolor\":\"rgba(255,255,191,0.75)\",\"layer\":\"below\",\"line\":{\"color\":\"rgb(175, 175, 175)\",\"width\":0.5},\"path\":\"M -0.909148572164299,0.4164719363073776 Q -0.1973676136772592, -0.03234231085349614 -0.7286751819761298, -0.6848594594309508L -0.7286751819761298, -0.6848594594309508 L -0.7293419297636183, -0.6841493619734518 L -0.7300079855580399, -0.6834386154011878 M -0.7300079855580399,-0.6834386154011878 Q -0.1973754836098282, -0.032294248246188366 -0.9097561051151629, 0.4151431430310377L -0.9097561051151629, 0.4151431430310377 L -0.9094525813258043, 0.4158076506268629 L -0.909148572164299, 0.4164719363073776 \",\"type\":\"path\"},{\"fillcolor\":\"rgba(230,245,152,0.75)\",\"layer\":\"below\",\"line\":{\"color\":\"rgb(175, 175, 175)\",\"width\":0.5},\"path\":\"M -0.9257898888958132,0.37803846579187944 Q -0.1841192663463271, -0.07810310979781962 -0.37160445313560087, -0.9283911516218748L -0.37160445313560087, -0.9283911516218748 L -0.4053719400561718, -0.9141518419907578 L -0.43859501201059536, -0.8986848254195826 M -0.43859501201059536,-0.8986848254195826 Q -0.18525908687142217, -0.07535960941755776 -0.9413837054068979, 0.3373376931123752L -0.9413837054068979, 0.3373376931123752 L -0.9338085703395013, 0.3577730481191906 L -0.9257898888958132, 0.37803846579187944 \",\"type\":\"path\"},{\"fillcolor\":\"rgba(253,174,97,0.75)\",\"layer\":\"below\",\"line\":{\"color\":\"rgb(175, 175, 175)\",\"width\":0.5},\"path\":\"M -0.9565484391884432,0.29157346156012404 Q -0.1559860199680287, -0.1251733261303452 0.07748170559404778, -0.9969937739515916L 0.07748170559404778, -0.9969937739515916 L 0.0562222162294846, -0.9984182802824901 L 0.034937202253887176, -0.9993895096000713 M 0.034937202253887176,-0.9993895096000713 Q -0.15462045375512357, -0.1268562780494513 -0.9733042089920976, 0.22951888104961485L -0.9733042089920976, 0.22951888104961485 L -0.9654250378268349, 0.2606808323161765 L -0.9565484391884432, 0.29157346156012404 \",\"type\":\"path\"},{\"fillcolor\":\"rgba(253,174,97,0.75)\",\"layer\":\"below\",\"line\":{\"color\":\"rgb(175, 175, 175)\",\"width\":0.5},\"path\":\"M -0.9413837054068979,0.3373376931123752 Q -0.1432262659171262, -0.13959311140395378 0.31304395572980265, -0.9497386386691011L 0.31304395572980265, -0.9497386386691011 L 0.3111931655943302, -0.9503466807893737 L 0.3093411944374301, -0.9509511162115664 M 0.3093411944374301,-0.9509511162115664 Q -0.14009798513986255, -0.1427324579755805 -0.9565484391884432, 0.29157346156012404L -0.9565484391884432, 0.29157346156012404 L -0.9492419067837553, 0.31454697964777906 L -0.9413837054068979, 0.3373376931123752 \",\"type\":\"path\"},{\"fillcolor\":\"rgba(50,136,189,0.75)\",\"layer\":\"below\",\"line\":{\"color\":\"rgb(175, 175, 175)\",\"width\":0.5},\"path\":\"M -0.9892027010994698,0.14655379946460934 Q -0.0945678417515638, -0.17622974580487594 0.6689977589010302, -0.7432644203682826L 0.6689977589010302, -0.7432644203682826 L 0.5943261299952821, -0.8042241299568367 L 0.5141320593259266, -0.8577110385049745 M 0.5141320593259266,-0.8577110385049745 Q -0.10123469609933929, -0.17248633657676896 -0.9995293055853302, 0.030678449701829688L -0.9995293055853302, 0.030678449701829688 L -0.9960524698899147, 0.08876641947381075 L -0.9892027010994698, 0.14655379946460934 \",\"type\":\"path\"},{\"fillcolor\":\"rgba(254,224,139,0.75)\",\"layer\":\"below\",\"line\":{\"color\":\"rgb(175,175,175)\",\"width\":0.5},\"path\":\"M -0.8885784129364934,-0.45872475850259326 Q -0.17559254984860173, -0.0957457907046901 -0.8668968134562246, -0.49848762754901327L -0.8668968134562246, -0.49848762754901327 L -0.8779627492430087, -0.47872895352345046 L -0.8885784129364934, -0.45872475850259326 \",\"type\":\"path\"},{\"fillcolor\":\"rgba(255,255,191,0.75)\",\"layer\":\"below\",\"line\":{\"color\":\"rgb(175, 175, 175)\",\"width\":0.5},\"path\":\"M -0.9372067050063436,-0.3487744143298822 Q -0.17009845238324373, -0.10519751183761611 -0.7306733487274466, -0.6827272203885086L -0.7306733487274466, -0.6827272203885086 L -0.7310057703804653, -0.682371279927916 L -0.7313380186405478, -0.6820151776103797 M -0.7313380186405478,-0.6820151776103797 Q -0.17012406445817274, -0.10515608728091537 -0.9370367302248006, -0.34923082081857293L -0.9370367302248006, -0.34923082081857293 L -0.9371217454010342, -0.3490026279220821 L -0.9372067050063436, -0.3487744143298822 \",\"type\":\"path\"},{\"fillcolor\":\"rgba(230,245,152,0.75)\",\"layer\":\"below\",\"line\":{\"color\":\"rgb(175, 175, 175)\",\"width\":0.5},\"path\":\"M -0.933939216416877,-0.3574318676875773 Q -0.15503663531466133, -0.1263473059083917 -0.5385626783100497, -0.8425854505814268L -0.5385626783100497, -0.8425854505814268 L -0.545214167856195, -0.8382967918159276 L -0.5518315079635377, -0.8339556264086765 M -0.5518315079635377,-0.8339556264086765 Q -0.1553898532652548, -0.1259126423446136 -0.9302347518636281, -0.36696499346015843L -0.9302347518636281, -0.36696499346015843 L -0.9320991718295969, -0.36220316657171797 L -0.933939216416877, -0.3574318676875773 \",\"type\":\"path\"},{\"fillcolor\":\"rgba(171,221,164,0.75)\",\"layer\":\"below\",\"line\":{\"color\":\"rgb(175, 175, 175)\",\"width\":0.5},\"path\":\"M -0.9255134994115093,-0.37871461868676554 Q -0.11220753604158776, -0.16555805282581634 -0.0088882724376001, -0.9999604985263543L -0.0088882724376001, -0.9999604985263543 L -0.017775751340128158, -0.9998419988499653 L -0.026661825934774744, -0.99964451033246 M -0.026661825934774744,-0.99964451033246 Q -0.11261036153650468, -0.16528432011118813 -0.9205487500714105, -0.3906276983803937L -0.9205487500714105, -0.3906276983803937 L -0.9230503440270369, -0.38467916812789443 L -0.9255134994115093, -0.37871461868676554 \",\"type\":\"path\"},{\"fillcolor\":\"rgba(254,224,139,0.75)\",\"layer\":\"below\",\"line\":{\"color\":\"rgb(175, 175, 175)\",\"width\":0.5},\"path\":\"M -0.8668968134562246,-0.49848762754901327 Q -0.06739880149747611, -0.1883013583506604 0.3536761584175691, -0.9353679356098276L 0.3536761584175691, -0.9353679356098276 L 0.3424902614188931, -0.9395213785929611 L 0.3312556022390065, -0.9435410568625369 M 0.3312556022390065,-0.9435410568625369 Q -0.047915951256877407, -0.19417533729891795 -0.7321683081423987, -0.6811237542120355L -0.7321683081423987, -0.6811237542120355 L -0.804730578808164, -0.5936402071381935 L -0.8668968134562246, -0.49848762754901327 \",\"type\":\"path\"},{\"fillcolor\":\"rgba(50,136,189,0.75)\",\"layer\":\"below\",\"line\":{\"color\":\"rgb(175, 175, 175)\",\"width\":0.5},\"path\":\"M -0.9370367302248006,-0.34923082081857293 Q -0.07544984981321487, -0.18522235330316728 0.42629921117446395, -0.9045822143686165L 0.42629921117446395, -0.9045822143686165 L 0.4187951784738293, -0.9080807224509688 L 0.41126243733624795, -0.9115169815402502 M 0.41126243733624795,-0.9115169815402502 Q -0.07617094779397389, -0.18492697670206937 -0.933939216416877, -0.3574318676875773L -0.933939216416877, -0.3574318676875773 L -0.935496960187668, -0.3533347385690128 L -0.9370367302248006, -0.34923082081857293 \",\"type\":\"path\"},{\"fillcolor\":\"rgba(255,255,191,0.75)\",\"layer\":\"below\",\"line\":{\"color\":\"rgb(175,175,175)\",\"width\":0.5},\"path\":\"M -0.7219697839797232,-0.6919245847780463 Q -0.12876679648178208, -0.15303304258825712 -0.5583137958021572, -0.829629860490199L -0.5583137958021572, -0.829629860490199 L -0.6438339824089103, -0.7651652129412856 L -0.7219697839797232, -0.6919245847780463 \",\"type\":\"path\"},{\"fillcolor\":\"rgba(230,245,152,0.75)\",\"layer\":\"below\",\"line\":{\"color\":\"rgb(175, 175, 175)\",\"width\":0.5},\"path\":\"M -0.7321678801795776,-0.6811242142468169 Q -0.12988127681604672, -0.1520883096514438 -0.5581112304501754, -0.8297661444319062L -0.5581112304501754, -0.8297661444319062 L -0.5582122566279267, -0.8296981840105218 L -0.5583132745302322, -0.8296302112889391 M -0.5583132745302322,-0.8296302112889391 Q -0.12989979375728958, -0.15207249449461147 -0.7321678801795776, -0.6811242142468169L -0.7321678801795776, -0.6811242142468169 L -0.7321678801795776, -0.6811242142468169 L -0.7321678801795776, -0.6811242142468169 \",\"type\":\"path\"},{\"fillcolor\":\"rgba(171,221,164,0.75)\",\"layer\":\"below\",\"line\":{\"color\":\"rgb(175, 175, 175)\",\"width\":0.5},\"path\":\"M -0.7261687255162427,-0.6875165322245828 Q -0.08149709896160448, -0.18264233589407045 -0.026661825934774744, -0.99964451033246L -0.026661825934774744, -0.99964451033246 L -0.03226023282994622, -0.9994795032304352 L -0.03785762774138588, -0.9992831430689676 M -0.03785762774138588,-0.9992831430689676 Q -0.08196383220405645, -0.18243335827206952 -0.7219697839797232, -0.6919245847780463L -0.7219697839797232, -0.6919245847780463 L -0.7240726092065131, -0.6897237538296562 L -0.7261687255162427, -0.6875165322245828 \",\"type\":\"path\"},{\"fillcolor\":\"rgba(255,255,191,0.75)\",\"layer\":\"below\",\"line\":{\"color\":\"rgb(175, 175, 175)\",\"width\":0.5},\"path\":\"M -0.7286751819761298,-0.6848594594309508 Q -0.04978137780256639, -0.1937054837222688 0.30818311584974867, -0.9513270558042278L 0.30818311584974867, -0.9513270558042278 L 0.30783560310483093, -0.9514395626949118 L 0.3074880492875926, -0.9515519426417619 M 0.3074880492875926,-0.9515519426417619 Q -0.04949830366804993, -0.1937780119982283 -0.7261687255162427, -0.6875165322245828L -0.7261687255162427, -0.6875165322245828 L -0.7274231669399019, -0.6861891402515224 L -0.7286751819761298, -0.6848594594309508 \",\"type\":\"path\"},{\"fillcolor\":\"rgba(255,255,191,0.75)\",\"layer\":\"below\",\"line\":{\"color\":\"rgb(175, 175, 175)\",\"width\":0.5},\"path\":\"M -0.7306733487274466,-0.6827272203885086 Q -0.0398387208157165, -0.19599203127619091 0.40615074177898985, -0.9138060926434974L 0.40615074177898985, -0.9138060926434974 L 0.40615074177898985, -0.9138060926434974 L 0.40615074177898985, -0.9138060926434974 M 0.40615074177898985,-0.9138060926434974 Q -0.039743262186079896, -0.19601141066480932 -0.7300079855580399, -0.6834386154011878L -0.7300079855580399, -0.6834386154011878 L -0.7303407537603411, -0.6830829989077292 L -0.7306733487274466, -0.6827272203885086 \",\"type\":\"path\"},{\"fillcolor\":\"rgba(230,245,152,0.75)\",\"layer\":\"below\",\"line\":{\"color\":\"rgb(175,175,175)\",\"width\":0.5},\"path\":\"M -0.5239149648910297,-0.8517705733137481 Q -0.10091948378630666, -0.17267095236983374 -0.48502385991798236, -0.8745009178441504L -0.48502385991798236, -0.8745009178441504 L -0.5045974189315333, -0.8633547618491686 L -0.5239149648910297, -0.8517705733137481 \",\"type\":\"path\"},{\"fillcolor\":\"rgba(230,245,152,0.75)\",\"layer\":\"below\",\"line\":{\"color\":\"rgb(175, 175, 175)\",\"width\":0.5},\"path\":\"M -0.5581112304501754,-0.8297661444319062 Q -0.06196086609797113, -0.1901600669761906 -0.03785762774138588, -0.9992831430689676L -0.03785762774138588, -0.9992831430689676 L -0.04102085863158141, -0.9991582903409889 L -0.04418367842640711, -0.9990234244304343 M -0.04418367842640711,-0.9990234244304343 Q -0.06184508714127523, -0.19019775286918633 -0.5518315079635377, -0.8339556264086765L -0.5518315079635377, -0.8339556264086765 L -0.5549753224956417, -0.831866811106717 L -0.5581112304501754, -0.8297661444319062 \",\"type\":\"path\"},{\"fillcolor\":\"rgba(230,245,152,0.75)\",\"layer\":\"below\",\"line\":{\"color\":\"rgb(175, 175, 175)\",\"width\":0.5},\"path\":\"M -0.5385626783100497,-0.8425854505814268 Q -0.024339772266612634, -0.19851341386921298 0.319050782379854, -0.9477376210021438L 0.319050782379854, -0.9477376210021438 L 0.3160489527025912, -0.9487428837654569 L 0.31304395572980265, -0.9497386386691011 M 0.31304395572980265,-0.9497386386691011 Q -0.023251736351108287, -0.19864379365250392 -0.5239149648910297, -0.8517705733137481L -0.5239149648910297, -0.8517705733137481 L -0.5312586725837348, -0.8472096687388359 L -0.5385626783100497, -0.8425854505814268 \",\"type\":\"path\"},{\"fillcolor\":\"rgba(230,245,152,0.75)\",\"layer\":\"below\",\"line\":{\"color\":\"rgb(175, 175, 175)\",\"width\":0.5},\"path\":\"M -0.48502385991798236,-0.8745009178441504 Q 0.003360338258266167, -0.19997176832440633 0.5141320593259266, -0.8577110385049745L 0.5141320593259266, -0.8577110385049745 L 0.49510639105608867, -0.8688323552535411 L 0.4758402695454269, -0.8795317151069286 M 0.4758402695454269,-0.8795317151069286 Q 0.004188139018089712, -0.19995614392052363 -0.43859501201059536, -0.8986848254195826L -0.43859501201059536, -0.8986848254195826 L -0.46196771585475455, -0.8868967411756234 L -0.48502385991798236, -0.8745009178441504 \",\"type\":\"path\"},{\"fillcolor\":\"rgba(171,221,164,0.75)\",\"layer\":\"below\",\"line\":{\"color\":\"rgb(175,175,175)\",\"width\":0.5},\"path\":\"M 0.07748170559404778,-0.9969937739515916 Q 0.038644728475869805, -0.19623094802050542 0.3063286424128902, -0.9519258179277814L 0.3063286424128902, -0.9519258179277814 L 0.19322364237934903, -0.981154740102527 L 0.07748170559404778, -0.9969937739515916 \",\"type\":\"path\"},{\"fillcolor\":\"rgba(171,221,164,0.75)\",\"layer\":\"below\",\"line\":{\"color\":\"rgb(175, 175, 175)\",\"width\":0.5},\"path\":\"M -0.04880545593129362,-0.9988083036655926 Q 0.026489466100687593, -0.1982380089329504 0.3093411944374301, -0.9509511162115664L 0.3093411944374301, -0.9509511162115664 L 0.3087622123601892, -0.9511392622631248 L 0.30818311584974867, -0.9513270558042278 M 0.30818311584974867,-0.9513270558042278 Q 0.026827345478069253, -0.19819256679956573 -0.04418367842640711, -0.9990234244304343L -0.04418367842640711, -0.9990234244304343 L -0.04649469159360557, -0.9989185370457471 L -0.04880545593129362, -0.9988083036655926 \",\"type\":\"path\"},{\"fillcolor\":\"rgba(50,136,189,0.75)\",\"layer\":\"below\",\"line\":{\"color\":\"rgb(175, 175, 175)\",\"width\":0.5},\"path\":\"M -0.052939847877147415,-0.9985977030349832 Q 0.040172749688128534, -0.1959238377086744 0.44165610429794155, -0.8971844211400273L 0.44165610429794155, -0.8971844211400273 L 0.43399342074548125, -0.9009160397893 L 0.42629921117446395, -0.9045822143686165 M 0.42629921117446395,-0.9045822143686165 Q 0.03890759452237985, -0.19617899757232446 -0.04880545593129362, -0.9988083036655926L -0.04880545593129362, -0.9988083036655926 L -0.050872760883643765, -0.9987051427724178 L -0.052939847877147415, -0.9985977030349832 \",\"type\":\"path\"},{\"fillcolor\":\"rgba(102,194,165,0.75)\",\"layer\":\"below\",\"line\":{\"color\":\"rgb(175,175,175)\",\"width\":0.5},\"path\":\"M 0.3536761584175691,-0.9353679356098276 Q 0.07601321910059278, -0.18499186609676999 0.40615016761760836, -0.9138063478353543L 0.40615016761760836, -0.9138063478353543 L 0.38006609550296383, -0.9249593304838499 L 0.3536761584175691, -0.9353679356098276 \",\"type\":\"path\"},{\"fillcolor\":\"rgba(50,136,189,0.75)\",\"layer\":\"below\",\"line\":{\"color\":\"rgb(175, 175, 175)\",\"width\":0.5},\"path\":\"M 0.30632924052546,-0.9519256254556313 Q 0.07187285124714757, -0.18663947399627284 0.41126243733624795, -0.9115169815402502L 0.41126243733624795, -0.9115169815402502 L 0.4087081921802287, -0.9126651158254978 L 0.40615074177898985, -0.9138060926434974 M 0.40615074177898985,-0.9138060926434974 Q 0.07139539611257018, -0.18682263624606416 0.3067928186216427, -0.9517763216440026L 0.3067928186216427, -0.9517763216440026 L 0.3065610386629437, -0.9518510017717569 L 0.30632924052546, -0.9519256254556313 \",\"type\":\"path\"},{\"fillcolor\":\"rgba(50,136,189,0.75)\",\"layer\":\"below\",\"line\":{\"color\":\"rgb(175,175,175)\",\"width\":0.5},\"path\":\"M 0.6689977589010302,-0.7432644203682826 Q 0.15323668050512787, -0.12852439359035844 0.8483718085806801, -0.529400863623725L 0.8483718085806801, -0.529400863623725 L 0.7661834025256393, -0.6426219679517922 L 0.6689977589010302, -0.7432644203682826 \",\"type\":\"path\"},{\"fillcolor\":\"rgba(213,62,79,0.75)\",\"layer\":\"below\",\"line\":{\"color\":\"rgb(150,150,150)\",\"width\":0.45},\"path\":\"M 1.1, 0.0 L 1.0997924295096861, 0.021368481302664256 L 1.0991697963760323, 0.042728898121435314 L 1.0981323355813382, 0.0640731890159634 L 1.0966804386642328, 0.08539329863183687 L 1.0948146535719068, 0.10668118074068028 L 1.0925356844533176, 0.12792880127680803 L 1.089844391393442, 0.14912814136928795 L 1.08674179008868, 0.17027120036827034 L 1.0832290514635299, 0.19134999886444037 L 1.0793075012286806, 0.2123565817004543 L 1.0749786193806865, 0.2332830209732228 L 1.0702440396434163, 0.2541214190259089 L 1.0651055488514836, 0.27486391142851047 L 1.059565086275894, 0.29550266994590324 L 1.0536247428921628, 0.3160299054922237 L 1.0472867605911789, 0.33643787107047707 L 1.0405535313331127, 0.35671886469626085 L 1.0334275962446886, 0.37686523230450053 L 1.0259116446601617, 0.3968693706381006 L 1.0180085131063608, 0.4167237301174208 L 1.009721184232179, 0.43642081768949387 L 1.0010527856829217, 0.4559531996559105 L 0.9920065889199293, 0.47531350447830384 L 0.9825860079859244, 0.4944944255603747 L 0.97279459821655, 0.513488724005407 L 0.9626360548985818, 0.5322892313482349 L 0.9521142118753242, 0.5508888522606267 L 0.941233040099714, 0.5692805672290691 L 0.9299966461356797, 0.5874574352039368 L 0.9184092706083204, 0.6054125962190522 L 0.9064752866034901, 0.6231392739806412 L 0.8941991980173911, 0.6406307784247138 L 0.8815856378567997, 0.6578805082418995 L 0.8686393664905652, 0.6748819533687872 L 0.8553652698530424, 0.6916286974448299 L 0.8417683576001364, 0.7081144202338837 L 0.8278537612186522, 0.7243329000094716 L 0.8136267320896691, 0.7402780159028675 L 0.7990926395066633, 0.7559437502131187 L 0.7842569686491329, 0.7713241906781307 L 0.7691253185124847, 0.7864135327059607 L 0.7537033997949703, 0.8012060815654756 L 0.7379970327424615, 0.8156962545355486 L 0.7220121449518863, 0.8298785830119828 L 0.7057547691341468, 0.8437477145713684 L 0.68923104083737, 0.8572984149910905 L 0.6724471961313454, 0.8705255702247305 L 0.6554095692540276, 0.8834241883321117 L 0.6381245902209889, 0.8959894013632612 L 0.6205987823987253, 0.9082164671955799 L 0.6028387600427334, 0.920100771323522 L 0.5848512258012825, 0.9316378286001152 L 0.566642968185831, 0.9428232849296582 L 0.5482208590090354, 0.9536529189109607 L 0.5295918507913218, 0.9641226434305039 L 0.510762974136999, 0.9742285072049203 L 0.4917413350809021, 0.9839666962722123 L 0.4725341124065681, 0.9933335354311447 L 0.45314855493695694, 1.0023254896282683 L 0.4335919787987399, 1.0109391652920532 L 0.4138717646611857, 1.0191713116136247 L 0.39399535495068994, 1.0270188217736227 L 0.3739702510419966, 1.0344787341147164 L 0.3538040104271733, 1.0415482332593382 L 0.33350424386340555, 1.0482246511722086 L 0.3130786125006912, 1.0545054681672552 L 0.292534824990516, 1.060388313858545 L 0.27188063457660044, 1.06587096805487 L 0.2511238361688195, 1.070951361597648 L 0.23027226340139637, 1.0756275771418276 L 0.20933378567648267, 1.0798978498794933 L 0.18831630519423778, 1.0837605682059073 L 0.16722775397053238, 1.0872142743277295 L 0.1460760908433981, 1.0902576648131905 L 0.12486929846935582, 1.0928895910840084 L 0.10361538031075274, 1.095109059848862 L 0.08232235761524934, 1.0969152334782608 L 0.06099826638859297, 1.0983074303206668 L 0.03965115436182306, 1.0992851249597508 L 0.01828907795404878, 1.0998479484126844 L -0.0030799007680499453, 1.0999956882693946 L -0.024447717132852893, 1.0997282887727278 L -0.04580630690741525, 1.0990458508394925 L -0.06714760934091535, 1.0979486320223728 L -0.08846357020678967, 1.0964370464127289 L -0.10974614484240423, 1.094511664484317 L -0.13098730118511875, 1.0921732128779935 L -0.15217902280359347, 1.0894225741274794 L -0.1733133119231978, 1.0862607863262912 L -0.1943821924443767, 1.0826890427359637 L -0.2153777129528393, 1.078708691335712 L -0.23629194972042858, 1.0743212343137032 L -0.257117009695544, 1.0695283275001284 L -0.2778450334819855, 1.064331779742292 L -0.29846819830509763, 1.0587335522219503 L -0.3189787209640912, 1.0527357577151601 L -0.3393688607694295, 1.0463406597949159 L -0.35963092246417294, 1.039550671976873 L -0.3797572591281749, 1.0323683568084874 L -0.3452338719347044, 0.9385166880077158 L -0.3269372022401572, 0.9450460654335209 L -0.3085171461540268, 0.9512187816317416 L -0.28998065542190105, 0.957032507013782 L -0.2713347257319069, 0.9624850474745001 L -0.25258639407453226, 0.9675743452202653 L -0.2337427360868582, 0.9722984795455711 L -0.21481086338220778, 0.9766556675579119 L -0.19579792086621753, 0.9806442648506473 L -0.17671108404034244, 0.9842627661236033 L -0.15755755629381615, 0.9875098057511738 L -0.13834456618508495, 0.9903841582977085 L -0.1190793647137443, 0.9928847389799941 L -0.09976922258400384, 0.9950106040766518 L -0.08042142746071788, 0.9967609512842989 L -0.06104328121901395, 0.9981351200203389 L -0.04164209718855932, 0.9991325916722658 L -0.02222519739350263, 0.9997529897933889 L -0.0027999097891363138, 0.9999960802449042 L 0.016626434503680707, 0.9998617712842585 L 0.036046503965293686, 0.9993501135997734 L 0.05545296944417542, 0.9984613002915153 L 0.07483850692295393, 0.9971956667984188 L 0.09419580028250248, 0.9955536907716925 L 0.11351754406305074, 0.993535991894553 L 0.132796446221271, 0.991143331648355 L 0.15202523088230216, 0.9883766130252085 L 0.1711966410856707, 0.9852368801871884 L 0.19030344152407513, 0.9817253180722666 L 0.20933842127399668, 0.9778432519471159 L 0.22829439651710862, 0.9735921469069526 L 0.2471642132514549, 0.9689736073226088 L 0.2659407499913781, 0.9639893762350409 L 0.2846169204551738, 0.9586413346975047 L 0.3031856762394596, 0.9529315010656441 L 0.3216400094792484, 0.946862030235762 L 0.33997295549272416, 0.9404352128315603 L 0.3581775954097181, 0.9336534743396568 L 0.37624705878289605, 0.9265193741942043 L 0.3941745261806726, 0.9190356048109574 L 0.4119532317608699, 0.911204990571153 L 0.4295764658241528, 0.903030486755586 L 0.44703757734627464, 0.8945151784292839 L 0.4643299764881809, 0.8856622792772002 L 0.4814471370830197, 0.8764751303913672 L 0.4983825990991231, 0.8669571990099643 L 0.5151299710780282, 0.8571120772087801 L 0.5316829325466204, 0.8469434805455592 L 0.5480352364024849, 0.8364552466577472 L 0.5641807112715684, 0.8256513338141634 L 0.5801132638372626, 0.8145358194211465 L 0.595826881140025, 0.8031128984837378 L 0.6113156328466776, 0.7913868820224822 L 0.6265736734885181, 0.7793621954464458 L 0.6415952446674061, 0.7670433768830621 L 0.6563746772289875, 0.7544350754654389 L 0.6709063934022377, 0.7415420495777714 L 0.6851849089045183, 0.7283691650595232 L 0.6992048350113497, 0.7149213933690551 L 0.7129608805901207, 0.7012038097073915 L 0.7264478540969665, 0.6872215911028351 L 0.7396606655360627, 0.6729800144571522 L 0.7525943283805928, 0.658484454554065 L 0.7652439614546693, 0.6437403820308033 L 0.777604790775493, 0.6287533613134817 L 0.7896721513550592, 0.6135290485170792 L 0.8014414889607269, 0.5980731893108177 L 0.8129083618339918, 0.5823916167497398 L 0.8240684423668091, 0.5664902490733101 L 0.8349175187348367, 0.5503750874718656 L 0.8454514964869815, 0.5340522138217607 L 0.855666400090649, 0.5175277883900627 L 0.8655583744321128, 0.5008080475096606 L 0.875123686271438, 0.48389930122566804 L 0.884358725651409, 0.46680793091400635 L 0.8932600072599313, 0.44954038687306785 L 0.9018241717453902, 0.4321031858893671 L 0.9100479869844742, 0.4145029087781004 L 0.9179283493019808, 0.39674619789953985 L 0.925462284642146, 0.3788397546522007 L 0.9326469496910561, 0.3607903369437278 L 0.9394796329497168, 0.342604756640455 L 0.9459577557573751, 0.3242898769966007 L 0.952078873264708, 0.30585261006407005 L 0.9578406753565116, 0.2872999140838397 L 0.9632409875235399, 0.268638790859912 L 0.9682777716831669, 0.24987628311682766 L 0.9729491269485603, 0.23101947184173535 L 0.9772532903460787, 0.2120754736120207 L 0.9811886374806187, 0.19305143790950388 L 0.9847536831486635, 0.1739545444222185 L 0.9879470818987999, 0.1547920003347912 L 0.9907676285394926, 0.13557103760844358 L 0.993214258593925, 0.11629891025164366 L 0.9952860487017334, 0.09698289158243661 L 0.9969822169674843, 0.07763027148348806 L 0.998302123255762, 0.05824835365087581 L 0.9992452694327565, 0.038844452837668464 L 0.9998112995542601, 0.01942589209333114 L 1.0, 0.0 L 1.1 ,0.0\",\"type\":\"path\"},{\"fillcolor\":\"rgba(244,109,67,0.75)\",\"layer\":\"below\",\"line\":{\"color\":\"rgb(150,150,150)\",\"width\":0.45},\"path\":\"M -0.37975790778426904, 1.0323681181997606 L -0.38797077926712153, 1.0293098048861977 L -0.39615902437263334, 1.0261861563128414 L -0.4043221233533786, 1.0229973707527382 L -0.4124595580580777, 1.0197436506134938 L -0.4205708119644863, 1.0164252024244247 L -0.42865537021218214, 1.013042236823449 L -0.43671271963524416, 1.0095949685437169 L -0.44474234879482766, 1.006083616399979 L -0.45274374801162637, 1.0025084032746983 L -0.460716409398225, 0.9988695561039026 L -0.4686598268913365, 0.9951673058627794 L -0.4765734962839253, 0.9914018875510151 L -0.48445691525721113, 0.9875735401778784 L -0.4923095834125538, 0.9836825067470489 L -0.5001310023032165, 0.9797290342411927 L -0.5079206754660024, 0.9757133736062862 L -0.5156781084527707, 0.971635779735685 L -0.5234028088618199, 0.967496511453947 L -0.5310942863691427, 0.9632958315004022 L -0.53875205275955, 0.9590340065124757 L -0.5463756219576598, 0.954711307008763 L -0.5539645100587514, 0.9503280073718589 L -0.5615182353594793, 0.945884385830941 L -0.5690363183884521, 0.9413807244441095 L -0.5765182819366647, 0.9368173090804828 L -0.5839636510877897, 0.9321944294020525 L -0.5913719532483229, 0.9275123788452981 L -0.5987427181775805, 0.9227714546025589 L -0.6060754780175484, 0.9179719576031724 L -0.6133697673225786, 0.9131141924943703 L -0.6206251230889331, 0.9081984676219438 L -0.6278410847841742, 0.9032250950106687 L -0.6350171943763956, 0.8981943903445019 L -0.6421529963632964, 0.8931066729465413 L -0.6492480378010937, 0.8879622657587595 L -0.6563018683332739, 0.882761495321502 L -0.663314040219178, 0.8775046917527626 L -0.6702841083624216, 0.8721921887272288 L -0.677211630339149, 0.8668243234551001 L -0.6840961664261147, 0.8614014366606859 L -0.6909372796285951, 0.8559238725607767 L -0.6977345357081265, 0.8503919788427955 L -0.7044875032100683, 0.8448061066427281 L -0.7111957534909894, 0.8391666105228354 L -0.7178588607458777, 0.8334738484491465 L -0.7244764020351648, 0.8277281817687389 L -0.7310479573115756, 0.8219299751867996 L -0.7375731094467883, 0.816079596743477 L -0.7440514442579131, 0.8101774177905194 L -0.7504825505337809, 0.8042238129677032 L -0.7568660200610463, 0.7982191601790526 L -0.763201447650097, 0.7921638405688537 L -0.7694884311607758, 0.786058238497459 L -0.7757265715279041, 0.7799027415168919 L -0.7819154727866132, 0.7736977403462462 L -0.7880547420974787, 0.7674436288468858 L -0.794143989771455, 0.761140803997444 L -0.8001828292946112, 0.7547896658686255 L -0.8061708773526655, 0.7483906175978116 L -0.8121077538553142, 0.7419440653634725 L -0.8179930819603604, 0.735450418359383 L -0.823826488097632, 0.7289100887686507 L -0.8296076019926952, 0.7223234917375524 L -0.8353360566903568, 0.7156910453491822 L -0.8410114885779573, 0.7090131705969139 L -0.8466335374084498, 0.70229029135768 L -0.8522018463232689, 0.6955228343650636 L -0.8577160618749803, 0.6887112291822135 L -0.8631758340497163, 0.6818559081745768 L -0.8685808162893934, 0.6749573064824554 L -0.8739306655137097, 0.6680158619933847 L -0.8792250421419212, 0.6610320153143394 L -0.8844636101143981, 0.6540062097437656 L -0.8896460369139545, 0.6469388912434426 L -0.8947719935869562, 0.6398305084101759 L -0.8998411547641998, 0.6326815124473225 L -0.9048531986815666, 0.6254923571361505 L -0.9098078072004456, 0.6182634988070353 L -0.914704665827928, 0.6109953963104948 L -0.9195434637367694, 0.6036885109880632 L -0.9243238937851184, 0.5963433066430087 L -0.9290456525360141, 0.5889602495108917 L -0.9337084402766463, 0.581539808229972 L -0.9383119610373786, 0.5740824538114618 L -0.9428559226105361, 0.5665886596096282 L -0.9473400365689526, 0.5590589012917472 L -0.9517640182842797, 0.5514936568079107 L -0.9561275869450514, 0.5438934063606888 L -0.9604304655745108, 0.5362586323746487 L -0.9646723810481893, 0.5285898194657341 L -0.9688530641112443, 0.5208874544105027 L -0.9729722493955498, 0.5131520261152286 L -0.9770296754365407, 0.5053840255848697 L -0.9810250846898085, 0.49758394589190075 L -0.9849582235474506, 0.4897522821450152 L -0.9888288423541652, 0.48188953145770014 L -0.992636695423101, 0.4739961929166795 L -0.9963815410514506, 0.4660727675502362 L -1.000063141535793, 0.45811975829640933 L -0.9091483104870846, 0.4164725075421903 L -0.9058014009558641, 0.42370251595476016 L -0.9023969958391826, 0.4309056299242541 L -0.8989353112310592, 0.43808139223427284 L -0.8954165668613187, 0.4452293474045592 L -0.8918409860816441, 0.45234904171990975 L -0.8882087958514006, 0.45944002325897243 L -0.884520226723227, 0.46650184192293503 L -0.8807755128284038, 0.4735340494640933 L -0.8769748918619902, 0.4805361995143037 L -0.8731186050677371, 0.4875078476133169 L -0.8692068972227739, 0.4944485512369898 L -0.8652400166220724, 0.5013578698253733 L -0.8612182150626841, 0.5082353648106792 L -0.85714174782776, 0.5150805996451165 L -0.8530108736703441, 0.5218931398286016 L -0.8488258547969512, 0.5286725529363381 L -0.8445869568509219, 0.5354184086462651 L -0.840294448895562, 0.5421302787663715 L -0.835948603397063, 0.5488077372618756 L -0.8315496962072072, 0.555450360282268 L -0.8270980065458596, 0.5620577261882139 L -0.8225938169832423, 0.5686294155783186 L -0.8180374134219998, 0.5751650113157477 L -0.8134290850790511, 0.5816640985547052 L -0.8087691244672313, 0.588126264766766 L -0.8040578273767255, 0.5945510997670596 L -0.799295492856292, 0.6009381957403085 L -0.7944824231942814, 0.6072871472667133 L -0.7896189238994485, 0.6135975513476867 L -0.7847053036815602, 0.6198690074314334 L -0.7797418744318002, 0.6261011174383758 L -0.7747289512029717, 0.6322934857864214 L -0.7696668521894998, 0.6384457194160726 L -0.7645558987072338, 0.6445574278153763 L -0.7593964151730516, 0.650628223044711 L -0.7541887290842684, 0.6566577197614112 L -0.7489331709978473, 0.6626455352442279 L -0.7436300745094184, 0.6685912894176208 L -0.7382797762321037, 0.674494604875884 L -0.7328826157751503, 0.6803551069071013 L -0.7274389357223737, 0.6861724235169322 L -0.7219490816104135, 0.6919461854522218 L -0.7164134019067988, 0.6976760262244416 L -0.7108322479878302, 0.703361582132951 L -0.7052059741162764, 0.7090024922880834 L -0.6995349374188871, 0.7145983986340536 L -0.6938194978637245, 0.7201489459716851 L -0.6880600182373148, 0.7256537819809569 L -0.6822568641216189, 0.7311125572433664 L -0.6764104038708301, 0.7365249252641085 L -0.6705210085879894, 0.7418905424940699 L -0.6645890521014323, 0.7472090683516359 L -0.6586149109410588, 0.7524801652443079 L -0.6525989643144342, 0.7577034985901331 L -0.6465415940827176, 0.7628787368389411 L -0.6404431847364256, 0.7680055514933891 L -0.634304123371024, 0.773083617129814 L -0.6281247996623591, 0.7781126114188879 L -0.6219056058419224, 0.7830922151460781 L -0.6156469366719536, 0.7880221122319091 L -0.6093491894203832, 0.7929019897520261 L -0.6030127638356163, 0.7977315379570569 L -0.596638062121158, 0.8025104502922745 L -0.5902254889100852, 0.807238423417054 L -0.5837754512393603, 0.8119151572241284 L -0.577288358523996, 0.816540354858638 L -0.5707646225310674, 0.8211137227369715 L -0.5642046573535755, 0.8256349705654034 L -0.5576088793841624, 0.8301038113585184 L -0.5509777072886802, 0.8345199614574293 L -0.5443115619796186, 0.8388831405477808 L -0.5376108665893844, 0.8431930716775436 L -0.5308760464434451, 0.8474494812745932 L -0.5241075290333315, 0.8516520991640751 L -0.5173057439895019, 0.855800658585554 L -0.510471123054072, 0.8598948962099463 L -0.5036041000534103, 0.8639345521562353 L -0.49670511087059976, 0.8679193700079664 L -0.4897745934177727, 0.8718490968295233 L -0.4828129876083115, 0.8757234831821837 L -0.47582073532892716, 0.8795422831399518 L -0.46879828041160976, 0.8833052543051682 L -0.4617460686054567, 0.8870121578238964 L -0.4546645475483786, 0.8906627584010842 L -0.44755416673868526, 0.8942568243154989 L -0.4404153775065555, 0.8977941274344348 L -0.43324863298538663, 0.9012744432281955 L -0.42605438808303314, 0.9046975507843448 L -0.4188330994529318, 0.9080632328217295 L -0.41158522546511483, 0.9113712757042711 L -0.404311226177116, 0.9146214694545263 L -0.3970115633047674, 0.9178136077670154 L -0.3896867001928928, 0.9209474880213173 L -0.38233710178589664, 0.9240229112949315 L -0.3749632345982524, 0.9270396823759034 L -0.3675655666848896, 0.9299976097752165 L -0.36014456761148483, 0.9328965057389467 L -0.3527007084246559, 0.9357361862601797 L -0.3452344616220627, 0.9385164710906914 L -0.37975790778426904 ,1.0323681181997606\",\"type\":\"path\"},{\"fillcolor\":\"rgba(253,174,97,0.75)\",\"layer\":\"below\",\"line\":{\"color\":\"rgb(150,150,150)\",\"width\":0.45},\"path\":\"M -1.000063429380729, 0.45811912993811543 L -1.0036682588743968, 0.4501666648343001 L -1.0072098518787154, 0.4421858368135012 L -1.0106879852543103, 0.43417714871073493 L -1.0141024398601026, 0.42614110511635356 L -1.0174530005671194, 0.41807821234425174 L -1.0207394562720458, 0.4099889783999671 L -1.0239615999105258, 0.40187391294867114 L -1.0271192284702102, 0.39373352728306027 L -1.0302121430035447, 0.3855683342911399 L -1.0332401486403067, 0.3773788484239109 L -1.036203054599883, 0.3691655856629539 L -1.0391006742032896, 0.36092906348792325 L -1.0419328248849324, 0.3526698008439407 L -1.0446993282041122, 0.3443883181089 L -1.0474000098562655, 0.3360851370606789 L -1.0500346996839471, 0.3277607808442663 L -1.0526032316875515, 0.3194157739388003 L -1.0551054440357712, 0.31105064212452344 L -1.057541179075793, 0.3026659124496546 L -1.0599102833432308, 0.2942621131971841 L -1.0622126075717955, 0.2858397738515877 L -1.0644480067026987, 0.2773994250654672 L -1.0666163398937925, 0.26894159862611433 L -1.0687174705284432, 0.2604668274220081 L -1.0707512662241394, 0.2519756454092384 L -1.072717598840832, 0.2434685875778645 L -1.074616344489008, 0.23494618991820623 L -1.0764473835374968, 0.2264089893870763 L -1.078210600621007, 0.2178575238739473 L -1.0799058846473946, 0.20929233216706283 L -1.081533128804664, 0.20071395391948885 L -1.083092230567695, 0.1921229296151158 L -1.0845830917047066, 0.18351980053460296 L -1.086005618283441, 0.17490510872127601 L -1.0873597206770862, 0.16627939694697352 L -1.088645313569921, 0.15764320867785217 L -1.0898623159626897, 0.14899708804014355 L -1.0910106511777076, 0.1403415797858723 L -1.0920902468636904, 0.1316772292585319 L -1.093101035000313, 0.12300458235872788 L -1.094042951902495, 0.11432418550978142 L -1.094915938224415, 0.10563658562330248 L -1.0957199389632468, 0.09694233006472966 L -1.096454903462627, 0.08824196661884609 L -1.0971207854158458, 0.07953604345526408 L -1.0977175428687649, 0.07082510909388852 L -1.0982451382224607, 0.06210971237035521 L -1.098703538235593, 0.053390402401454186 L -1.0990927140264992, 0.04466772855053093 L -1.0994126410750156, 0.035942240392872124 L -1.0996632992240198, 0.027214487681082325 L -1.099844672680703, 0.01848502031044468 L -1.099956750017563, 0.009754388284275052 L -1.0999995241731264, 0.0010231416792693421 L -1.099972992452391, -0.0077081693891562515 L -1.0998771565269985, -0.016438994801522517 L -1.0997120224351262, -0.025168784468949188 L -1.0994776005811089, -0.03389698836781495 L -1.0991739057347818, -0.04262305657440896 L -1.098800957030551, -0.051346439299580944 L -1.0983587779661872, -0.06006658692338037 L -1.097847396401346, -0.068782950029685 L -1.0972668445558114, -0.07749497944081894 L -1.0966171590074671, -0.08620212625215094 L -1.095898380689991, -0.09490384186667973 L -1.0951105548902764, -0.10359957802960006 L -1.0942537312455787, -0.11228878686284278 L -1.0933279637403883, -0.12097092089959609 L -1.0923333107030286, -0.12964543311879825 L -1.0912698348019818, -0.13831177697960256 L -1.0901376030419396, -0.1469694064558142 L -1.0889366867595824, -0.15561777607028984 L -1.0876671616190843, -0.16425634092930727 L -1.0863291076073454, -0.17288455675689787 L -1.0849226090289525, -0.18150187992913625 L -1.083447754500869, -0.1901077675083931 L -1.0819046369468481, -0.19870167727754295 L -1.0802933535915822, -0.20728306777412628 L -1.0786140059545735, -0.21585139832446631 L -1.0768666998437404, -0.22440612907773153 L -1.07505154534875, -0.23294672103995076 L -1.0731686568340812, -0.24147263610797395 L -1.0712181529318208, -0.2499833371033728 L -1.069200156534187, -0.2584782878062877 L -1.0671147947857886, -0.266956952989212 L -1.0649621990756128, -0.2754187984507139 L -1.0627425050287471, -0.28386329104909575 L -1.060455852497835, -0.2922898987359819 L -1.0581023855542635, -0.3006980905898423 L -1.0556822524790868, -0.30908733684944467 L -1.0531956057536829, -0.3174571089472294 L -1.0506426020501476, -0.32580687954261406 L -1.0480234022214219, -0.33413612255521846 L -1.0453381712911587, -0.34244431319800983 L -1.0425870784433238, -0.3507309280103689 L -1.039770297011539, -0.3589954448910685 L -1.0368880044681585, -0.36723734313116957 L -1.0339403824130884, -0.3754561034468303 L -1.0309276165623449, -0.38365120801202107 L -0.9372069241475861, -0.3487738254654737 L -0.9399458021937166, -0.34132373040620934 L -0.9426254586074168, -0.333852130119245 L -0.9452457245559445, -0.3263594953555168 L -0.9478064349484762, -0.31884629819124444 L -0.9503074284465077, -0.3113130119981907 L -0.9527485474740198, -0.30376011141383497 L -0.9551296382274068, -0.2961880723114673 L -0.9574505506851663, -0.2885973717702085 L -0.9597111386173515, -0.2809884880449497 L -0.9619112595947849, -0.2733619005362203 L -0.9640507749980316, -0.2657180897599835 L -0.9661295500261337, -0.25805753731735975 L -0.9681474537051025, -0.25038072586428534 L -0.9701043588961714, -0.24268813908110182 L -0.9720001423038064, -0.2349802616420797 L -0.9738346844834733, -0.22725757918488435 L -0.9756078698491647, -0.21952057827997631 L -0.9773195866806818, -0.21176974639995522 L -0.9789697271306731, -0.20400557188884683 L -0.9805581872314304, -0.196228543931333 L -0.9820848669014383, -0.18843915252193297 L -0.98354966995168, -0.18063788843412995 L -0.9849525040916989, -0.17282524318944825 L -0.9862932809354114, -0.16500170902648748 L -0.9875719160066775, -0.15716777886990715 L -0.9887883287446221, -0.14932394629937024 L -0.9899424425087113, -0.1414707055184453 L -0.9910341845835815, -0.13360855132346744 L -0.9920634861836198, -0.12573797907236595 L -0.9930302824572987, -0.11785948465345295 L -0.9939345124912621, -0.10997356445417825 L -0.9947761193141624, -0.10208071532985707 L -0.9955550499002511, -0.09418143457236368 L -0.996271255172719, -0.08627621987879974 L -0.9969246900067882, -0.07836556932013722 L -0.9975153132325557, -0.0704499813098354 L -0.9980430876375872, -0.0625299545724409 L -0.998507979969261, -0.05460598811216397 L -0.9989099609368645, -0.046678581181437216 L -0.9992490052134378, -0.03874823324946269 L -0.9995250914373717, -0.030815443970740857 L -0.9997382022137511, -0.02288071315359017 L -0.9998883241154531, -0.014944540728656832 L -0.9999754476839919, -0.007007426717414773 L -0.9999995674301148, 0.0009301287993357654 L -0.9999606818341482, 0.00886762571297732 L -0.9998587933460935, 0.016804563918586073 L -0.9996939083854726, 0.024740443346438476 L -0.9994660373409232, 0.03267476399352011 L -0.9991751945695447, 0.04060702595502812 L -0.9988213983959935, 0.048536729455867435 L -0.9984046711113279, 0.05646337488214109 L -0.9979250389716045, 0.06438646281262592 L -0.9973825321962234, 0.07230549405024006 L -0.9967771849660244, 0.08021996965349644 L -0.9961090354211334, 0.08812939096793605 L -0.995378125658559, 0.0960332596575477 L -0.9945845017295409, 0.10393107773616492 L -0.993728213636648, 0.11182234759884352 L -0.9928093153306276, 0.1197065720532108 L -0.9918278647070069, 0.12758325435079299 L -0.9907839236024452, 0.1354518982183123 L -0.9896775577908371, 0.1433120078889565 L -0.9885088369791692, 0.1511630881336123 L -0.987277834803128, 0.1590046442920691 L -0.9859846288224604, 0.16683618230418448 L -0.9846293005160864, 0.17465720874101434 L -0.983211935276967, 0.18246723083589894 L -0.9817326224067223, 0.19026575651551164 L -0.9801914551100063, 0.19805229443086117 L -0.9785885304886335, 0.20582635398825117 L -0.9769239495354618, 0.21358744538018748 L -0.9751978171280289, 0.22133507961624044 L -0.9734102420219449, 0.22906876855385305 L -0.9715613368440392, 0.23678802492909826 L -0.9696512180852658, 0.24449236238737665 L -0.9676800060933624, 0.2521812955140611 L -0.9656478250652686, 0.2598543398650797 L -0.9635548030393006, 0.26751101199744004 L -0.9614010718870843, 0.27515082949968594 L -0.9591867673052464, 0.282773311022294 L -0.956912028806865, 0.2903779763080002 L -0.9545769997126792, 0.29796434622206025 L -0.9521818271420593, 0.30553194278243534 L -0.9497266620037382, 0.3130802891899091 L -0.9472116589863022, 0.32060890985812784 L -0.9446369765484449, 0.32811733044356656 L -0.9420027769089846, 0.3356050778754126 L -0.9393092260366424, 0.3430716803853735 L -0.9365564936395859, 0.3505166675373999 L -0.9337447531547365, 0.3579395702573275 L -0.9308741817368417, 0.3653399208624283 L -0.9279449602473142, 0.37271725309087916 L -0.9249572732428358, 0.38007110213113793 L -0.9219113089637296, 0.38740100465123045 L -0.9188072593221001, 0.3947064988279408 L -0.9156453198897412, 0.40198712437591017 L -0.9124256898858152, 0.40924242257663646 L -0.909148572164299, 0.4164719363073776 L -1.000063429380729 ,0.45811912993811543\",\"type\":\"path\"},{\"fillcolor\":\"rgba(254,224,139,0.75)\",\"layer\":\"below\",\"line\":{\"color\":\"rgb(150,150,150)\",\"width\":0.45},\"path\":\"M -1.030927375506978, -0.3836518557628705 L -1.0293961446053084, -0.3877416375264943 L -1.0278486892438692, -0.39182530803874827 L -1.0262850338123262, -0.3959028029363176 L -1.0247052029556756, -0.39997405795322244 L -1.0231092215738578, -0.4040390089218307 L -1.021497114821363, -0.408097591773869 L -1.0198689081068364, -0.41214974254143294 L -1.018224627092677, -0.41619539735799516 L -1.0165642976946323, -0.42023449245941175 L -1.0148879460813915, -0.4242669641849275 L -1.0131955986741723, -0.4282927489781792 L -1.011487282146304, -0.43231178338819726 L -1.009763023422807, -0.43632400407040606 L -1.0080228496799701, -0.44032934778762184 L -1.0062667883449203, -0.4443277514110497 L -1.0044948670951912, -0.4483191519212787 L -1.0027071138582866, -0.4523034864092749 L -1.0009035568112412, -0.456280692077373 L -0.9990842243801754, -0.4602507062402659 L -0.9972491452398474, -0.46421346632599303 L -0.9953983483132021, -0.46816890987692616 L -0.9935318627709142, -0.4721169745507542 L -0.9916497180309293, -0.4760575981214655 L -0.9897519437579995, -0.47999071848032865 L -0.9878385698632164, -0.4839162736368716 L -0.9859096265035395, -0.4878342017198585 L -0.983965144081321, -0.49174444097826414 L -0.9820051532438258, -0.49564692978224983 L -0.9800296848827499, -0.49954160662413116 L -0.9780387701337325, -0.5034284101193498 L -0.9760324403758655, -0.5073072790074402 L -0.974010727231199, -0.5111781521529954 L -0.9719736625642429, -0.5150409685466307 L -0.9699212784814645, -0.5188956673059447 L -0.9678536073307826, -0.5227421876764792 L -0.965770681701058, -0.5265804690326767 L -0.9636725344215791, -0.5304104508788366 L -0.961559198561545, -0.5342320728500671 L -0.9594307074295443, -0.5380452747132385 L -0.9572870945730302, -0.5418499963679309 L -0.9551283937777909, -0.5456461778473826 L -0.9529546390674185, -0.5494337593194346 L -0.9507658647027715, -0.5532126810874741 L -0.9485621051814357, -0.5569828835913749 L -0.9463433952371797, -0.5607443074084366 L -0.9441097698394083, -0.5644968932543205 L -0.9418612641926104, -0.568240581983985 L -0.939597913735805, -0.5719753145926167 L -0.9373197541419822, -0.5757010322165613 L -0.9350268213175409, -0.5794176761342509 L -0.9327191514017231, -0.5831251877671292 L -0.9303967807660444, -0.5868235086805755 L -0.9280597460137198, -0.5905125805848255 L -0.9257080839790885, -0.5941923453358895 L -0.923341831727032, -0.5978627449364691 L -0.92096102655239, -0.6015237215368718 L -0.9185657059793733, -0.6051752174359222 L -0.9161559077609719, -0.6088171750818713 L -0.9137316698783596, -0.6124495370733042 L -0.9112930305402965, -0.6160722461600444 L -0.9088400281825257, -0.6196852452440561 L -0.9063727014671681, -0.6232884773803444 L -0.9038910892821125, -0.6268818857778524 L -0.9013952307404032, -0.630465413800357 L -0.8988851651796237, -0.6340390049673608 L -0.8963609321612758, -0.6376026029549824 L -0.8938225714701571, -0.6411561515968448 L -0.8912701231137331, -0.6446995948849598 L -0.8887036273215073, -0.6482328769706113 L -0.8861231245443867, -0.6517559421652352 L -0.8835286554540444, -0.6552687349412977 L -0.8809202609422785, -0.6587711999331697 L -0.8782979821203678, -0.6622632819379995 L -0.8756618603184239, -0.6657449259165835 L -0.8730119370847387, -0.6692160769942339 L -0.8703482541851313, -0.6726766804616422 L -0.8676708536022887, -0.6761266817757423 L -0.8649797775351041, -0.6795660265605705 L -0.8622750683980122, -0.682994660608122 L -0.85955676882032, -0.6864125298792055 L -0.8568249216455358, -0.689819580504295 L -0.8540795699306936, -0.6932157587843785 L -0.8513207569456739, -0.6966010111918048 L -0.8485485261725226, -0.6999752843711268 L -0.8457629213047653, -0.7033385251399425 L -0.8429639862467182, -0.7066906804897337 L -0.8401517651127969, -0.7100316975867007 L -0.8373263022268208, -0.7133615237725952 L -0.834487642121314, -0.7166801065655513 L -0.8316358295368046, -0.7199873936609107 L -0.8287709094211179, -0.7232833329320492 L -0.8258929269286696, -0.7265678724311965 L -0.823001927419753, -0.7298409603902565 L -0.8200979564598246, -0.7331025452216215 L -0.817181059818786, -0.7363525755189874 L -0.8142512834702617, -0.7395910000581616 L -0.8113086735908758, -0.7428177677978725 L -0.8083532765595229, -0.7460328278805722 L -0.8053851389566384, -0.7492361296332395 L -0.7321683081423985, -0.6811237542120359 L -0.7348666150541117, -0.6782116617096111 L -0.7375533396280688, -0.6752888798162476 L -0.7402284395184197, -0.6723554545983287 L -0.7428918725625326, -0.6694114322899885 L -0.7455435967816587, -0.6664568592923832 L -0.7481835703815936, -0.6634917821729603 L -0.7508117517533359, -0.660516247664724 L -0.7534280994737435, -0.6575303026654992 L -0.7560325723061859, -0.6545339942371915 L -0.7586251292011945, -0.6515273696050465 L -0.7612057292971097, -0.6485104761569047 L -0.7637743319207244, -0.6454833614424551 L -0.7663308965879255, -0.6424460731724851 L -0.768875383004332, -0.6393986592181296 L -0.7714077510659296, -0.6363411676101152 L -0.7739279608597035, -0.6332736465380043 L -0.7764359726642668, -0.6301961443494349 L -0.7789317469504871, -0.627108709549359 L -0.781415244382109, -0.6240113907992777 L -0.7838864258163746, -0.6209042369164745 L -0.78634525230464, -0.6177872968732459 L -0.7887916850929897, -0.6146606197961293 L -0.7912256856228466, -0.6115242549651292 L -0.7936472155315806, -0.6083782518129399 L -0.7960562366531125, -0.6052226599241668 L -0.7984527110185161, -0.602057529034545 L -0.8008366008566168, -0.5988829090301542 L -0.8032078685945857, -0.5956988499466342 L -0.8055664768585333, -0.5925054019683956 L -0.8079123884740975, -0.5893026154278284 L -0.81024556646703, -0.5860905408045088 L -0.8125659740637791, -0.5828692287244043 L -0.8148735746920688, -0.5796387299590748 L -0.817168331981476, -0.5763990954248733 L -0.8194502097640028, -0.5731503761821427 L -0.8217191720746476, -0.5698926234344113 L -0.8239751831519709, -0.5666258885275858 L -0.8262182074386597, -0.5633502229491418 L -0.8284482095820876, -0.560065678327313 L -0.8306651544348723, -0.5567723064302765 L -0.8328690070554289, -0.5534701591653375 L -0.8350597327085211, -0.550159288578111 L -0.837237296865809, -0.5468397468517017 L -0.8394016652063927, -0.5435115863058809 L -0.8415528036173532, -0.5401748593962631 L -0.8436906781942907, -0.5368296187134777 L -0.8458152552418584, -0.5334759169823413 L -0.8479265012742937, -0.5301138070610265 L -0.8500243830159462, -0.526743341940228 L -0.8521088674018019, -0.5233645747423284 L -0.8541799215780045, -0.5199775587205606 L -0.856237512902373, -0.5165823472581681 L -0.8582816089449166, -0.513178993867564 L -0.8603121774883451, -0.5097675521894878 L -0.8623291865285778, -0.506348075992159 L -0.8643326042752467, -0.502920619170431 L -0.8663223991521986, -0.4994852357449405 L -0.8682985397979917, -0.49604197986125687 L -0.870260995066391, -0.49259090578902803 L -0.8722097340268584, -0.48913206792112585 L -0.8741447259650409, -0.4856655207727883 L -0.8760659403832536, -0.4821913189807605 L -0.8779733470009617, -0.4787095173024334 L -0.8798669157552569, -0.475220170614981 L -0.8817466168013313, -0.4717233339144951 L -0.883612420512948, -0.46821906231511884 L -0.8854642974829081, -0.46470741104817764 L -0.887302218523514, -0.4611884354613092 L -0.8891261546670295, -0.45766219101759065 L -0.8909360771661362, -0.45412873329466463 L -0.8927319574943869, -0.45058811798386345 L -0.8945137673466553, -0.447040400889331 L -0.8962814786395813, -0.443485637927144 L -0.8980350635120148, -0.4399238851244287 L -0.899774494325454, -0.43635519861848054 L -0.901499743664481, -0.43277963465587765 L -0.9032107843371947, -0.42919724959159467 L -0.9049075893756382, -0.42560809988811465 L -0.9065901320362248, -0.4220122421145391 L -0.9082583858001594, -0.4184097329456963 L -0.9099123243738556, -0.41480062916124816 L -0.9115519216893514, -0.41118498764479533 L -0.9131771519047192, -0.4075628653829806 L -0.9147879894044729, -0.4039343194645906 L -0.9163844087999728, -0.40029940707965617 L -0.9179663849298245, -0.3966581855185509 L -0.9195338928602762, -0.3930107121710884 L -0.9210869078856112, -0.3893570445256174 L -0.9226254055285378, -0.38569724016811585 L -0.9241493615405747, -0.38203135678128336 L -0.9256587519024334, -0.3783594521436319 L -0.9271535528243967, -0.3746815841285754 L -0.9286337407466935, -0.37099781070351723 L -0.9300992923398705, -0.367308189928937 L -0.9315501845051596, -0.36361277995747493 L -0.9329863943748419, -0.35991163903301593 L -0.9344078993126084, -0.3562048254897711 L -0.9358146769139166, -0.35249239775135843 L -0.9372067050063436, -0.3487744143298822 L -1.030927375506978 ,-0.3836518557628705\",\"type\":\"path\"},{\"fillcolor\":\"rgba(255,255,191,0.75)\",\"layer\":\"below\",\"line\":{\"color\":\"rgb(150,150,150)\",\"width\":0.45},\"path\":\"M -0.8053846681975354, -0.7492366356714987 L -0.8036483140986742, -0.7510987866095638 L -0.8019076544827468, -0.7529569135627747 L -0.8001626986752752, -0.7548110065762824 L -0.7984134560247973, -0.7566610557168508 L -0.7966599359028178, -0.7585070510729075 L -0.7949021477037583, -0.7603489827545984 L -0.7931401008449065, -0.7621868408938399 L -0.7913738047663644, -0.7640206156443741 L -0.7896032689310006, -0.7658502971818176 L -0.7878285028243971, -0.7676758757037172 L -0.7860495159548005, -0.769497341429601 L -0.7842663178530683, -0.7713146846010324 L -0.782478918072621, -0.77312789548166 L -0.780687326189389, -0.7749369643572713 L -0.7788915518017616, -0.7767418815358444 L -0.7770916045305355, -0.778542637347601 L -0.7752874940188638, -0.7803392221450556 L -0.7734792299322041, -0.7821316263030696 L -0.771666821958267, -0.7839198402189018 L -0.7698502798069623, -0.7857038543122606 L -0.7680296132103501, -0.7874836590253541 L -0.7662048319225865, -0.7892592448229423 L -0.7643759457198721, -0.7910306021923875 L -0.7625429644003987, -0.7927977216437069 L -0.7607058977842984, -0.7945605937096205 L -0.7588647557135898, -0.7963192089456048 L -0.7570195480521259, -0.7980735579299412 L -0.7551702846855403, -0.7998236312637683 L -0.7533169755211949, -0.8015694195711307 L -0.7514596304881279, -0.8033109134990302 L -0.749598259536999, -0.8050481037174748 L -0.7477328726400355, -0.8067809809195311 L -0.7458634797909812, -0.8085095358213709 L -0.7439900910050418, -0.8102337591623233 L -0.7421127163188304, -0.8119536417049237 L -0.7402313657903148, -0.8136691742349623 L -0.7383460494987624, -0.815380347561536 L -0.7364567775446885, -0.8170871525170944 L -0.7345635600497995, -0.8187895799574911 L -0.732666407156941, -0.8204876207620317 L -0.7307653290300408, -0.8221812658335244 L -0.7288603358540573, -0.8238705060983255 L -0.7269514378349232, -0.8255553325063911 L -0.7250386451994917, -0.8272357360313237 L -0.72312196819548, -0.828911707670422 L -0.7212014170914172, -0.830583238444728 L -0.7192770021765867, -0.8322503193990752 L -0.717348733760973, -0.8339129416021369 L -0.7154166221752043, -0.8355710961464746 L -0.7134806777704997, -0.8372247741485845 L -0.7115409109186122, -0.8388739667489461 L -0.7095973320117729, -0.8405186651120689 L -0.7076499514626363, -0.8421588604265402 L -0.7056987797042248, -0.8437945439050718 L -0.7037438271898696, -0.8454257067845495 L -0.7017851043931598, -0.8470523403260758 L -0.6998226218078822, -0.8486744358150197 L -0.6978563899479676, -0.8502919845610627 L -0.6958864193474322, -0.8519049778982454 L -0.6939127205603233, -0.8535134071850137 L -0.6919353041606613, -0.8551172638042652 L -0.6899541807423839, -0.8567165391633957 L -0.6879693609192895, -0.8583112246943441 L -0.6859808553249777, -0.8599013118536406 L -0.6839886746127969, -0.8614867921224502 L -0.681992829455784, -0.8630676570066186 L -0.6799933305466076, -0.864643898036719 L -0.6779901885975119, -0.8662155067680967 L -0.675983414340258, -0.8677824747809137 L -0.6739730185260672, -0.8693447936801956 L -0.6719590119255635, -0.8709024550958738 L -0.6699414053287142, -0.8724554506828344 L -0.6679202095447748, -0.8740037721209585 L -0.6658954354022294, -0.8755474111151694 L -0.663867093748733, -0.8770863593954766 L -0.6618351954510532, -0.8786206087170199 L -0.6597997513950126, -0.8801501508601131 L -0.6577607724854297, -0.8816749776302891 L -0.6557182696460621, -0.8831950808583428 L -0.6536722538195435, -0.8847104524003763 L -0.6516227359673317, -0.8862210841378405 L -0.649569727069645, -0.88772696797758 L -0.647513238125405, -0.8892280958518758 L -0.6454532801521776, -0.8907244597184892 L -0.6433898641861141, -0.8922160515607046 L -0.6413230012818915, -0.8937028633873718 L -0.6392527025126543, -0.8951848872329492 L -0.637178978969953, -0.8966621151575482 L -0.6351018417636877, -0.8981345392469727 L -0.6330213020220467, -0.8996021516127632 L -0.6309373708914469, -0.9010649443922392 L -0.628850059536475, -0.9025229097485404 L -0.6267593791398268, -0.9039760398706699 L -0.6246653409022476, -0.905424326973535 L -0.6225679560424723, -0.9068677632979896 L -0.6204672357971661, -0.9083063411108744 L -0.6183631914208606, -0.9097400527050615 L -0.6162558341858994, -0.9111688903994921 L -0.614145175382373, -0.912592846539219 L -0.5583137958021572, -0.829629860490199 L -0.5602325765326357, -0.8283353549086291 L -0.562148355837146, -0.8270364115500559 L -0.5640611234519691, -0.8257330373735221 L -0.5659708691295202, -0.8244252393618087 L -0.5678775826384068, -0.8231130245213955 L -0.5697812537634789, -0.8217963998824271 L -0.5716818723058863, -0.8204753724986731 L -0.5735794280831334, -0.8191499494474901 L -0.5754739109291332, -0.8178201378297847 L -0.5773653106942614, -0.8164859447699752 L -0.5792536172454118, -0.8151473774159529 L -0.5811388204660494, -0.8138044429390446 L -0.5830209102562649, -0.8124571485339743 L -0.5848998765328309, -0.8111055014188223 L -0.5867757092292524, -0.8097495088349902 L -0.5886483982958226, -0.8083891780471597 L -0.5905179336996772, -0.8070245163432544 L -0.5923843054248469, -0.8056555310344004 L -0.5942475034723123, -0.8042822294548875 L -0.5961075178600563, -0.8029046189621297 L -0.5979643386231179, -0.8015227069366264 L -0.5998179558136477, -0.8001365007819209 L -0.6016683595009574, -0.7987460079245634 L -0.6035155397715753, -0.7973512358140696 L -0.6053594867292994, -0.7959521919228812 L -0.6072001904952498, -0.7945488837463258 L -0.6090376412079219, -0.7931413188025767 L -0.6108718290232396, -0.7917295046326125 L -0.6127027441146065, -0.7903134488001777 L -0.6145303766729617, -0.7888931588917397 L -0.616354716906829, -0.7874686425164514 L -0.6181757550423705, -0.7860399073061082 L -0.6199934813234399, -0.7846069609151077 L -0.6218078860116335, -0.7831698110204092 L -0.6236189593863433, -0.7817284653214914 L -0.6254266917448086, -0.7802829315403127 L -0.6272310734021671, -0.7788332174212688 L -0.6290320946915102, -0.7773793307311502 L -0.6308297459639302, -0.7759212792591033 L -0.6326240175885747, -0.7744590708165866 L -0.6344148999526977, -0.7729927132373297 L -0.6362023834617111, -0.7715222143772905 L -0.6379864585392361, -0.7700475821146143 L -0.6397671156271542, -0.7685688243495904 L -0.6415443451856588, -0.7670859490046107 L -0.6433181376933057, -0.7655989640241274 L -0.6450884836470662, -0.764107877374608 L -0.6468553735623747, -0.7626126970444964 L -0.6486187979731816, -0.7611134310441677 L -0.6503787474320039, -0.759610087405886 L -0.6521352125099754, -0.7581026741837608 L -0.653888183796897, -0.7565911994537047 L -0.6556376519012883, -0.755075671313389 L -0.6573836074504363, -0.7535560978822018 L -0.6591260410904469, -0.7520324873012033 L -0.6608649434862938, -0.7505048477330828 L -0.6626003053218702, -0.748973187362114 L -0.664332117300037, -0.747437514394113 L -0.6660603701426736, -0.7458978370563925 L -0.6677850545907268, -0.7443541635977191 L -0.6695061614042622, -0.7428065022882676 L -0.6712236813625112, -0.7412548614195781 L -0.6729376052639224, -0.7396992493045111 L -0.6746479239262093, -0.7381396742772033 L -0.6763546281864016, -0.7365761446930211 L -0.678057708900892, -0.7350086689285189 L -0.6797571569454868, -0.7334372553813918 L -0.6814529632154536, -0.7318619124704316 L -0.6831451186255708, -0.7302826486354819 L -0.6848336141101772, -0.7286994723373915 L -0.6865184406232183, -0.7271123920579712 L -0.6881995891382963, -0.7255214162999465 L -0.689877050648718, -0.7239265535869134 L -0.691550816167544, -0.7223278124632914 L -0.6932208767276351, -0.7207252014942789 L -0.6948872233817018, -0.7191187292658068 L -0.6965498472023512, -0.7175084043844929 L -0.6982087392821364, -0.7158942354775946 L -0.699863890733602, -0.7142762311929641 L -0.7015152926893335, -0.7126544001990016 L -0.7031629363020037, -0.7110287511846087 L -0.7048068127444216, -0.7093992928591414 L -0.7064469132095776, -0.7077660339523645 L -0.7080832289106923, -0.706128983214404 L -0.7097157510812626, -0.7044881494157011 L -0.71134447097511, -0.7028435413469636 L -0.7129693798664257, -0.7011951678191203 L -0.7145904690498186, -0.6995430376632736 L -0.716207729840361, -0.697887159730652 L -0.7178211535736368, -0.6962275428925614 L -0.7194307316057857, -0.69456419604034 L -0.7210364553135513, -0.692897128085309 L -0.7226383160943257, -0.6912263479587257 L -0.724236305366198, -0.689551864611734 L -0.7258304145679975, -0.6878736870153189 L -0.7274206351593411, -0.6861918241602567 L -0.7290069586206789, -0.6845062850570679 L -0.7305893764533401, -0.682817078735967 L -0.7321678801795776, -0.6811242142468169 L -0.8053846681975354 ,-0.7492366356714987\",\"type\":\"path\"},{\"fillcolor\":\"rgba(230,245,152,0.75)\",\"layer\":\"below\",\"line\":{\"color\":\"rgb(150,150,150)\",\"width\":0.45},\"path\":\"M -0.6141446019832554, -0.9125932324178331 L -0.6091633893882603, -0.9159257420932152 L -0.6041640941558066, -0.9192310630809285 L -0.599146864686873, -0.9225090972645691 L -0.5941118499148048, -0.925759747337725 L -0.5890591993008936, -0.9289829168068648 L -0.5839890628299393, -0.9321785099942015 L -0.578901591005799, -0.9353464320405327 L -0.573796934846919, -0.9384865889080573 L -0.5686752458818527, -0.9415988873831652 L -0.5635366761447592, -0.9446832350792074 L -0.5583813781708956, -0.9477395404392345 L -0.5532095049920853, -0.9507677127387174 L -0.5480212101321763, -0.9537676620882389 L -0.5428166476024844, -0.9567392994361633 L -0.5375959718972205, -0.9596825365712784 L -0.5323593379889057, -0.9625972861254151 L -0.52710690132377, -0.9654834615760404 L -0.5218388178171389, -0.9683409772488258 L -0.5165552438488044, -0.9711697483201907 L -0.5112563362583832, -0.9739696908198198 L -0.5059422523406611, -0.9767407216331563 L -0.500613149840924, -0.9794827585038691 L -0.4952691869502747, -0.982195720036294 L -0.48991052230093796, -0.9848795256978501 L -0.4845373149615516, -0.9875340958214305 L -0.4791497244324417, -0.9901593516077679 L -0.47374791064089294, -0.992755215127772 L -0.46833203393639816, -0.9953216093248436 L -0.46290225508589866, -0.9978584580171628 L -0.4574587352690126, -1.0003656858999492 L -0.45200163607325, -1.0028432185476979 L -0.44653111948921653, -1.0052909824163885 L -0.44104734790580447, -1.0077089048456684 L -0.4355504841053728, -1.01009691406101 L -0.4300406912589146, -1.0124549391758406 L -0.42451813292121393, -1.0147829101936467 L -0.4189829730259902, -1.0170807580100523 L -0.4134353758810326, -1.0193484144148701 L -0.407875506163322, -1.0215858120941255 L -0.40230352891414334, -1.0237928846320563 L -0.39671960953418595, -1.0259695665130828 L -0.39112391377863476, -1.0281157931237528 L -0.38551660775224644, -1.0302315007546607 L -0.3798978579044242, -1.0323166266023376 L -0.37426783102427275, -1.0343711087711154 L -0.368626694235649, -1.036394886274965 L -0.3629746149922001, -1.0383878990393063 L -0.35731176107239343, -1.040350087902791 L -0.3516383005745361, -1.0422813946190599 L -0.34595440191178467, -1.0441817618584706 L -0.34026023380714615, -1.0460511332098 L -0.3345559652884698, -1.0478894531819185 L -0.3288417656834292, -1.0496966672054384 L -0.32311780461449613, -1.0514727216343316 L -0.3173842519939053, -1.0532175637475238 L -0.3116412780186108, -1.054931141750459 L -0.3058890531652338, -1.056613404776637 L -0.30012774818500293, -1.058264302889122 L -0.2943575340986819, -1.0598837870820288 L -0.28857858219149846, -1.0614718092819728 L -0.2827910640080565, -1.0630283223494994 L -0.27699515134724423, -1.064553280080484 L -0.27119101625713493, -1.0660466372075017 L -0.2653788310298793, -1.0675083494011721 L -0.25955876819659174, -1.0689383732714755 L -0.2537310005222282, -1.07033666636904 L -0.24789570100045816, -1.0717031871864018 L -0.24205304284852938, -1.073037895159238 L -0.23620319950212593, -1.0743407506675706 L -0.2303463446102199, -1.075611715036941 L -0.22448265202991688, -1.0768507505395608 L -0.21861229582129485, -1.078057820395429 L -0.2127354502422375, -1.0792328887734253 L -0.2068522897432615, -1.080375920792374 L -0.20096298896233905, -1.081486882522078 L -0.1950677227197097, -1.0825657409843277 L -0.1891666660126971, -1.0836124641538787 L -0.18325999401051024, -1.0846270209594024 L -0.1773478820490446, -1.0856093812844094 L -0.17143050562567758, -1.0865595159681427 L -0.16550804039405878, -1.0874773968064435 L -0.159580662158896, -1.0883629965525878 L -0.1536485468707364, -1.089216288918097 L -0.14771187062074367, -1.090037248573516 L -0.1417708096354709, -1.0908258511491664 L -0.1358255402716292, -1.0915820732358699 L -0.12987623901085288, -1.092305892385643 L -0.12392308245446057, -1.092997287112363 L -0.11796624731821295, -1.093656236892406 L -0.11200591042706709, -1.0942827221652567 L -0.10604224870992845, -1.0948767243340878 L -0.10007543919439495, -1.0954382257663138 L -0.09410565900150789, -1.0959672097941124 L -0.0881330853404903, -1.0964636607149212 L -0.08215789550348761, -1.0969275637919025 L -0.07618026686030477, -1.0973589052543808 L -0.07020037685314118, -1.0977576722982523 L -0.06421840299132348, -1.0981238530863648 L -0.058234522846036176, -1.0984574367488686 L -0.052940475314578336, -0.9985976697716986 L -0.05838036635574861, -0.9982944118966952 L -0.06381852441194652, -0.9979615202711384 L -0.0692547880548225, -0.9975990047767097 L -0.07468899591226145, -0.9972068761744567 L -0.080120986673173, -0.9967851461044738 L -0.08555059909227988, -0.9963338270855567 L -0.09097767199490449, -0.9958529325148305 L -0.09640204428175313, -0.9953424766673524 L -0.10182355493369735, -0.9948024746956877 L -0.10724204301655722, -0.9942329426294599 L -0.11265734768587324, -0.9936338973748753 L -0.11806930819168443, -0.9930053567142209 L -0.12347776388329927, -0.9923473393053363 L -0.12888255421406444, -0.9916598646810603 L -0.1342835187461306, -0.9909429532486508 L -0.13968049715521488, -0.990196626289179 L -0.14507332923535998, -0.989420905956898 L -0.1504618549036898, -0.9886158152785849 L -0.15584591420516142, -0.9877813781528569 L -0.16122534731731325, -0.9869176193494631 L -0.1665999945550093, -0.9860245645085476 L -0.17196969637517917, -0.9851022401398896 L -0.17733429338155426, -0.9841506736221161 L -0.18269362632939912, -0.9831698932018891 L -0.18804753613023772, -0.9821599279930672 L -0.19339586385657953, -0.9811208079758411 L -0.19873845074663166, -0.9800525639958444 L -0.20407513820901532, -0.9789552277632371 L -0.20940576782747264, -0.9778288318517646 L -0.214730181365569, -0.9766734096977914 L -0.22004822077139033, -0.9754889955993074 L -0.22535972818223468, -0.9742756247149106 L -0.23066454592929833, -0.9730333330627634 L -0.23596251654235612, -0.971762157519523 L -0.24125348275443573, -0.9704621358192473 L -0.24653728750648626, -0.9691333065522741 L -0.2518137739520402, -0.9677757091640763 L -0.2570827854618695, -0.9663893839540904 L -0.26234416562863494, -0.9649743720745206 L -0.26759775827152893, -0.9635307155291171 L -0.27284340744091173, -0.9620584571719292 L -0.2780809574229398, -0.9605576407060334 L -0.28331025274419164, -0.9590283106822354 L -0.2885311381762775, -0.9574705124977488 L -0.293743458740451, -0.9558842923948468 L -0.29894705971220836, -0.9542696974594893 L -0.30414178662588165, -0.9526267756199259 L -0.30932748527922377, -0.9509555756452726 L -0.31450400173798604, -0.949256147144064 L -0.31967118234048736, -0.9475285405627816 L -0.32482887370217584, -0.9457728071843554 L -0.32997692272018186, -0.9439889991266419 L -0.33511517657786266, -0.9421771693408771 L -0.34024348274933885, -0.9403373716101048 L -0.345361689004022, -0.9384696605475795 L -0.3504696434111331, -0.9365740915951462 L -0.3555671943442134, -0.9346507210215934 L -0.3606541904856236, -0.9326996059209843 L -0.3657304808310394, -0.9307208042109603 L -0.3707959146939291, -0.9287143746310231 L -0.37585034171002957, -0.9266803767407908 L -0.38089361184180925, -0.9246188709182293 L -0.3859255753829217, -0.9225299183578606 L -0.3909460829626496, -0.9204135810689459 L -0.39595498555033887, -0.9182699218736454 L -0.4009521344598222, -0.916099004405153 L -0.40593738135383317, -0.9139008931058076 L -0.41091057824840904, -0.9116756532251797 L -0.41587157751728415, -0.9094233508181355 L -0.4208202318962715, -0.9071440527428751 L -0.42575639448763464, -0.9048378266589486 L -0.4306799187644481, -0.9025047410252471 L -0.43559065857494694, -0.9001448650979708 L -0.44048846814686504, -0.8977582689285731 L -0.44537320209176173, -0.8953450233616819 L -0.45024471540934063, -0.8929052000329945 L -0.45510286349174905, -0.8904388713671537 L -0.4599475021278737, -0.8879461105755966 L -0.464778487507621, -0.8854269916543815 L -0.46959567622618575, -0.8828815893819915 L -0.47439892528830807, -0.8803099793171143 L -0.47918809211251817, -0.8777122377964003 L -0.4839630345353687, -0.8750884419321955 L -0.48872361081565496, -0.8724386696102531 L -0.4934696796386221, -0.8697629994874211 L -0.4982011001201603, -0.8670615109893081 L -0.5029177318109866, -0.8643342843079248 L -0.5076194347008142, -0.861581400399304 L -0.5123060692225083, -0.8588029409810976 L -0.5169774962562297, -0.8559989885301501 L -0.5216335771335626, -0.853169626280052 L -0.5262741736416354, -0.850314938218666 L -0.5308991480272175, -0.8474350090856376 L -0.5355083630008123, -0.8445299243698771 L -0.5401016817407316, -0.8415997703070227 L -0.5446789678971572, -0.8386446338768809 L -0.5492400855961878, -0.835664602800844 L -0.553784899443873, -0.8326597655392864 L -0.5583132745302322, -0.8296302112889391 L -0.6141446019832554 ,-0.9125932324178331\",\"type\":\"path\"},{\"fillcolor\":\"rgba(171,221,164,0.75)\",\"layer\":\"below\",\"line\":{\"color\":\"rgb(150,150,150)\",\"width\":0.45},\"path\":\"M -0.058233832664862165, -1.0984574733384815 L -0.05419136295560876, -1.098664323704476 L -0.05014815945282556, -1.0988562972943707 L -0.04610427690465517, -1.0990333915086925 L -0.042059770068437974, -1.0991956039494473 L -0.03801469370996766, -1.0993429324201514 L -0.03396910260274681, -1.0994753749258617 L -0.029923051527251, -1.099592929673203 L -0.025876595270184148, -1.099695595070392 L -0.021829788623733727, -1.0997833697272583 L -0.017782686384834684, -1.0998562524552646 L -0.013735343354424513, -1.0999142422675217 L -0.009687814336698287, -1.0999573383788017 L -0.005640154138372423, -1.09998554020555 L -0.0015924175679396288, -1.0999988473658913 L 0.002455340565076184, -1.0999972596796366 L 0.006503065450856197, -1.0999807771682841 L 0.010550702280032761, -1.0999494000550198 L 0.01459819624442961, -1.099903128764715 L 0.018645492537807902, -1.0998419639239188 L 0.022692536356602497, -1.0997659063608511 L 0.026739272900666945, -1.0996749571053912 L 0.03078564737401847, -1.099569117389063 L 0.034831604985574104, -1.099448388645019 L 0.038877090949895485, -1.0993127725080218 L 0.042922050487933676, -1.0991622708144195 L 0.04696642882776503, -1.0989968856021235 L 0.05101017120533579, -1.0988166191105786 L 0.055053222865206516, -1.098621473780735 L 0.059095529061287747, -1.098411452255013 L 0.06313703505758417, -1.098186557377269 L 0.06717768612893871, -1.0979467921927555 L 0.07121742756176773, -1.0976921599480816 L 0.07525620465480486, -1.097422664091167 L 0.07929396271984447, -1.097138308271197 L 0.08333064708247655, -1.0968390963385724 L 0.08736620308282977, -1.096525032344857 L 0.09140057607631473, -1.0961961205427238 L 0.09543371143435787, -1.0958523653858963 L 0.0994655545451442, -1.0954937715290887 L 0.10349605081435972, -1.0951203438279429 L 0.10752514566592478, -1.0947320873389625 L 0.11155278454273601, -1.0943290073194452 L 0.11557891290740802, -1.0939111092274099 L 0.11960347624300602, -1.0934783987215244 L 0.12362642005378692, -1.0930308816610284 L 0.12764768986594022, -1.0925685641056533 L 0.1316672312283197, -1.0920914523155414 L 0.13568498971318474, -1.0915995527511604 L 0.13970091091693526, -1.0910928720732158 L 0.14371494046085234, -1.0905714171425611 L 0.14772702399182774, -1.0900351950201048 L 0.15173710718310762, -1.089484212966715 L 0.15574513573502144, -1.08891847844312 L 0.15975105537572099, -1.0883379991098094 L 0.16375481186191346, -1.087742782826928 L 0.16775635097959973, -1.0871328376541707 L 0.17175561854480267, -1.0865081718506733 L 0.17575256040430381, -1.0858687938749008 L 0.17974712243637936, -1.0852147123845315 L 0.18373925055152746, -1.0845459362363417 L 0.1877288906932033, -1.0838624744860852 L 0.1917159888385542, -1.083164336388369 L 0.19570049099914508, -1.0824515313965304 L 0.1996823432216926, -1.081724069162508 L 0.2036614915887985, -1.0809819595367103 L 0.20763788221967402, -1.0802252125678835 L 0.21161146127087233, -1.0794538385029748 L 0.21558217493702025, -1.0786678477869933 L 0.21954996945154162, -1.0778672510628697 L 0.22351479108738764, -1.077052059171311 L 0.22747658615776759, -1.0762222831506547 L 0.23143530101686988, -1.075377934236718 L 0.23539088206059147, -1.0745190238626476 L 0.2393432757272664, -1.0736455636587625 L 0.24329242849838564, -1.0727575654523989 L 0.24723828689932414, -1.0718550412677488 L 0.2511807975000683, -1.0709380033256968 L 0.25511990691593334, -1.070006464043655 L 0.2590555618082893, -1.0690604360353964 L 0.262987708885286, -1.0680999321108808 L 0.2669162949025689, -1.0671249652760848 L 0.27084126666400316, -1.0661355487328235 L 0.2747625710223965, -1.065131695878572 L 0.27868015488021336, -1.064113420306285 L 0.28259396519029756, -1.0630807358042123 L 0.2865039489565889, -1.062033656355711 L 0.29041005323484437, -1.0609721961390577 L 0.29431222513334937, -1.0598963695272556 L 0.29821041181363683, -1.0588061910878408 L 0.3021045604912055, -1.0577016755826834 L 0.305994618436229, -1.0565828379677888 L 0.30988053297427276, -1.0554496933930961 L 0.31376225148701, -1.0543022572022704 L 0.3176397214129284, -1.0531405449324973 L 0.3215128902480451, -1.0519645723142719 L 0.32538170554662, -1.0507743552711841 L 0.3292461149218606, -1.0495699099197067 L 0.333106066046634, -1.0483512525689735 L 0.33696150665417834, -1.04711839972056 L 0.3063286424128894, -0.9519258179277816 L 0.3028236964060309, -0.9530465932445213 L 0.29931464992896417, -0.9541544635633696 L 0.29580155049692725, -0.9552494138828946 L 0.29228444568004097, -0.9563314293766106 L 0.28876338310266214, -0.9574004953931793 L 0.28523841044273635, -0.9584565974566095 L 0.28170957543115704, -0.959499721266451 L 0.27817692585111725, -0.9605298526979898 L 0.2746405095374595, -0.9615469778024393 L 0.27110037437603346, -0.962551082807128 L 0.26755656830304486, -0.9635421541156869 L 0.26400913930440395, -0.9645201783082341 L 0.26045813541508084, -0.9654851421415553 L 0.2569036047184523, -0.9664370325492837 L 0.2533455953456485, -0.9673758366420773 L 0.2497841554749059, -0.9683015417077926 L 0.24621933333091195, -0.9692141352116576 L 0.24265117718415355, -0.9701136047964406 L 0.23907973535025998, -0.9709999382826189 L 0.2355050561893539, -0.9718731236685421 L 0.23192718810539392, -0.9727331491305954 L 0.22834617954551661, -0.9735800030233606 L 0.22476207899938558, -0.9744136738797716 L 0.22117493499853239, -0.9752341504112717 L 0.21758479611569673, -0.9760414215079659 L 0.21399171096417405, -0.9768354762387704 L 0.2103957281971544, -0.9776163038515617 L 0.20679689650706143, -0.9783838937733224 L 0.20319526462489784, -0.9791382356102828 L 0.19959088131958327, -0.9798793191480633 L 0.19598379539729113, -0.980607134351812 L 0.192374055700793, -0.9813216713663406 L 0.18876171110879456, -0.9820229205162576 L 0.18514681053527135, -0.9827108723061002 L 0.18152940292881142, -0.9833855174204618 L 0.17790953727195005, -0.9840468467241185 L 0.1742872625805038, -0.9846948512621535 L 0.1706626279029121, -0.9853295222600773 L 0.1670356823195704, -0.985950851123947 L 0.16340647494216304, -0.9865588294404831 L 0.15977505491300345, -0.9871534489771825 L 0.15614147140436604, -0.9877347016824303 L 0.15250577361781792, -0.9883025796856096 L 0.14886801078355769, -0.9888570752972072 L 0.14522823215974634, -0.9893981810089175 L 0.14158648703183765, -0.9899258894937455 L 0.13794282471191602, -0.9904401936061045 L 0.13429729453802522, -0.9909410863819135 L 0.13064994587350212, -0.9914285610386918 L 0.12700082810630478, -0.9919026109756506 L 0.12334999064834976, -0.992363229773782 L 0.11969748293483608, -0.9928104111959466 L 0.116043354423582, -0.9932441491869575 L 0.11238765459435174, -0.993664437873662 L 0.10873043294818728, -0.9940712715650221 L 0.10507173900673455, -0.9944646447521907 L 0.10141162231157819, -0.9948445521085864 L 0.09775013242356798, -0.9952109884899658 L 0.0940873189221452, -0.9955639489344934 L 0.09042323140467655, -0.9959034286628078 L 0.08675791948577988, -0.9962294230780875 L 0.08309143279664975, -0.9965419277661125 L 0.0794238209843907, -0.9968409384953245 L 0.0757551337113423, -0.9971264512168838 L 0.07208542065440406, -0.9973984620647245 L 0.06841473150436804, -0.9976569673556063 L 0.06474311596524339, -0.9979019635891649 L 0.06107062375358063, -0.9981334474479595 L 0.05739730459780378, -0.9983514157975172 L 0.05372320823753431, -0.9985558656863753 L 0.05004838442291501, -0.9987467943461226 L 0.04637288291394162, -0.998924199191435 L 0.04269675347978639, -0.9990880778201121 L 0.03902004589812152, -0.9992384280131086 L 0.03534280995445044, -0.9993752477345652 L 0.031665095441431, -0.9994985351318355 L 0.027986952158198606, -0.9996082885355116 L 0.02430842990969722, -0.9997045064594464 L 0.020629578506002267, -0.9997871876007737 L 0.016950447761643547, -0.9998563308399261 L 0.013271087494936008, -0.9999119352406499 L 0.00959154752730251, -0.999954000050018 L 0.005911877682596542, -0.99998252469844 L 0.0022321277864328945, -0.9999975087996695 L -0.0014476523344905715, -0.9999989521508102 L -0.005127412853065839, -0.9999868547323181 L -0.008807103942452987, -0.9999612167080015 L -0.012486675776749556, -0.9999220384250196 L -0.016166078531667894, -0.9998693204138769 L -0.01984526238521248, -0.9998030633884165 L -0.023524177518349225, -0.9997232682458107 L -0.027202774115682723, -0.9996299360665482 L -0.03088100236613346, -0.9995230681144197 L -0.03455881246360697, -0.9994026658365012 L -0.03823615460767088, -0.9992687308631338 L -0.04191297900423197, -0.9991212650079022 L -0.04558923586620505, -0.9989602702676096 L -0.04926487541418978, -0.9987857488222508 L -0.052939847877147415, -0.9985977030349832 L -0.058233832664862165 ,-1.0984574733384815\",\"type\":\"path\"},{\"fillcolor\":\"rgba(102,194,165,0.75)\",\"layer\":\"below\",\"line\":{\"color\":\"rgb(150,150,150)\",\"width\":0.45},\"path\":\"M 0.33696216457800604, -1.0471181880011946 L 0.3380926720233657, -1.046753717511479 L 0.33922278524545557, -1.0463880264845904 L 0.34035250292653785, -1.0460211153469328 L 0.34148182374933933, -1.045652984526332 L 0.3426107463970461, -1.0452836344520369 L 0.343739269553311, -1.044913065554717 L 0.34486739190225313, -1.0445412782664636 L 0.34599511212845574, -1.0441682730207893 L 0.3471224289169748, -1.0437940502526253 L 0.34824934095333315, -1.0434186103983238 L 0.34937584692352813, -1.043041953895656 L 0.3505019455140307, -1.0426640811838104 L 0.35162763541178405, -1.0422849927033957 L 0.35275291530421155, -1.0419046888964365 L 0.3538777838792109, -1.0415231702063754 L 0.3550022398251625, -1.0411404370780715 L 0.3561262818309274, -1.0407564899577995 L 0.35724990858584693, -1.04037132929325 L 0.3583731187797492, -1.0399849555335288 L 0.35949591110294804, -1.0395973691291553 L 0.3606182842462418, -1.0392085705320646 L 0.36174023690092133, -1.0388185601956028 L 0.36286176775876405, -1.0384273385745317 L 0.36398287551204195, -1.0380349061250231 L 0.36510355885352036, -1.0376412633046617 L 0.36622381647645674, -1.037246410572444 L 0.3673436470746087, -1.0368503483887757 L 0.368463049342228, -1.0364530772154747 L 0.3695820219740686, -1.0360545975157676 L 0.3707005636653855, -1.0356549097542895 L 0.37181867311193334, -1.0352540143970856 L 0.37293634900997447, -1.034851911911608 L 0.3740535900562731, -1.0344486027667172 L 0.3751703949481033, -1.0340440874326802 L 0.37628676238324765, -1.03363836638117 L 0.37740269105999596, -1.0332314400852665 L 0.3785181796771535, -1.0328233090194539 L 0.37963322693403495, -1.0324139736596225 L 0.3807478315304722, -1.0320034344830658 L 0.3818619921668135, -1.0315916919684807 L 0.382975707543922, -1.0311787465959685 L 0.3840889763631835, -1.0307645988470315 L 0.385201797326501, -1.030349249204576 L 0.38631416913630257, -1.0299326981529078 L 0.38742609049553967, -1.0295149461777338 L 0.3885375601076865, -1.0290959937661628 L 0.3896485766767476, -1.0286758414067014 L 0.39075913890725217, -1.028254489589257 L 0.3918692455042618, -1.027831938805134 L 0.3929788951733694, -1.027408189547036 L 0.39408808662069805, -1.026983242309064 L 0.39519681855290767, -1.026557097586715 L 0.3963050896771941, -1.026129755876883 L 0.39741289870128776, -1.0257012176778577 L 0.39852024433346145, -1.0252714834893235 L 0.3996271252825248, -1.0248405538123604 L 0.40073354025783187, -1.0244084291494409 L 0.4018394879692801, -1.0239751100044312 L 0.402944967127309, -1.0235405968825917 L 0.4040499764429081, -1.023104890290573 L 0.4051545146276112, -1.0226679907364193 L 0.40625858039350415, -1.0222298987295642 L 0.4073621724532234, -1.021790614780832 L 0.4084652895199556, -1.0213501394024378 L 0.4095679303074441, -1.0209084731079847 L 0.41067009352998474, -1.020465616412466 L 0.4117717779024324, -1.020021569832261 L 0.41287298214020063, -1.0195763338851378 L 0.41397370495925984, -1.0191299090902515 L 0.41507394507614565, -1.0186822959681419 L 0.41617370120795266, -1.0182334950407366 L 0.4172729720723428, -1.0177835068313468 L 0.41837175638754365, -1.0173323318646674 L 0.41947005287234745, -1.0168799706667795 L 0.42056786024611875, -1.0164264237651446 L 0.4216651772287891, -1.015971691688609 L 0.4227620025408643, -1.0155157749673998 L 0.4238583349034235, -1.015058674133125 L 0.42495417303811794, -1.0146003897187748 L 0.4260495156671789, -1.0141409222587177 L 0.4271443615134116, -1.0136802722887035 L 0.42823870930020336, -1.0132184403458595 L 0.4293325577515222, -1.0127554269686914 L 0.43042590559191557, -1.012291232697083 L 0.43151875154651764, -1.0118258580722945 L 0.4326110943410475, -1.0113593036369624 L 0.43370293270180843, -1.0108915699350998 L 0.43479426535569526, -1.0104226575120936 L 0.43588509103018913, -1.009952566914706 L 0.43697540845336486, -1.009481298691073 L 0.43806521635389006, -1.0090088533907022 L 0.4391545134610236, -1.0085352315644762 L 0.4402432985046235, -1.0080604337646475 L 0.4413315702151416, -1.0075844605448407 L 0.4424193273236306, -1.007107312460051 L 0.44350656856174336, -1.006628990066642 L 0.44459329266173175, -1.0061494939223494 L 0.44567949835645404, -1.0056688245862748 L 0.44676518437936924, -1.0051869826188897 L 0.40615016761760836, -0.9138063478353543 L 0.4051631803240491, -0.9142443859875226 L 0.4041757206015743, -0.9146813581112267 L 0.40318778960158486, -0.9151172636969472 L 0.40219938847602776, -0.9155521022364098 L 0.4012105183774014, -0.9159858732225824 L 0.4002211804587486, -0.9164185761496794 L 0.39923137587365776, -0.9168502105131602 L 0.39824110577626365, -0.9172807758097292 L 0.39725037132124075, -0.917710271537339 L 0.39625917366380825, -0.9181386971951873 L 0.3952675139597229, -0.9185660522837213 L 0.39427539336528034, -0.9189923363046362 L 0.3932828130373159, -0.9194175487608748 L 0.3922897741331978, -0.9198416891566312 L 0.3912962778108323, -0.920264756997348 L 0.3903023252286565, -0.9206867517897193 L 0.38930791754563937, -0.9211076730416904 L 0.38831305592128323, -0.9215275202624577 L 0.38731774151561715, -0.9219462929624705 L 0.3863219754891981, -0.9223639906534314 L 0.3853257590031122, -0.9227806128482953 L 0.3843290932189675, -0.9231961590612724 L 0.3833319792988992, -0.9236106288078263 L 0.3823344184055625, -0.9240240216046768 L 0.381336411702134, -0.9244363369697994 L 0.3803379603523124, -0.9248475744224249 L 0.3793390655203116, -0.9252577334830424 L 0.37833972837086605, -0.9256668136733969 L 0.3773399500692233, -0.9260748145164925 L 0.37633973178114527, -0.9264817355365921 L 0.3753390746729096, -0.926887576259216 L 0.3743379799113022, -0.9272923362111463 L 0.3733364486636225, -0.9276960149204234 L 0.37233448209767644, -0.9280986119163497 L 0.37133208138177776, -0.9285001267294888 L 0.37032924768474856, -0.9289005588916653 L 0.36932598217591284, -0.9292999079359673 L 0.3683222860251011, -0.9296981733967448 L 0.3673181604026437, -0.9300953548096118 L 0.3663136064793718, -0.9304914517114469 L 0.36530862542661824, -0.930886463640392 L 0.3643032184162108, -0.9312803901358552 L 0.36329738662047706, -0.9316732307385093 L 0.36229113121223766, -0.9320649849902941 L 0.361284453364807, -0.9324556524344161 L 0.3602773542519946, -0.932845232615348 L 0.35926983504809784, -0.9332337250788317 L 0.3582618969279073, -0.9336211293718761 L 0.35725354106669943, -0.9340074450427599 L 0.35624476864023796, -0.9343926716410309 L 0.3552355808247747, -0.9347768087175061 L 0.35422597879704326, -0.9351598558242739 L 0.3532159637342604, -0.9355418125146934 L 0.3522055368141269, -0.9359226783433943 L 0.3511946992148205, -0.9363024528662797 L 0.3501834521150009, -0.9366811356405236 L 0.34917179669380316, -0.9370587262245741 L 0.34815973413083817, -0.9374352241781531 L 0.3471472656061941, -0.9378106290622551 L 0.34613439230042925, -0.9381849404391506 L 0.3451211153945772, -0.9385581578723841 L 0.34410743607013955, -0.9389302809267762 L 0.3430933555090872, -0.9393013091684239 L 0.34207887489386146, -0.9396712421646998 L 0.3410639954073666, -0.9400400794842546 L 0.3400487182329755, -0.9404078206970157 L 0.3390330445545222, -0.9407744653741891 L 0.338016975556303, -0.9411400130882597 L 0.3370005124230777, -0.9415044634129904 L 0.33598365634006233, -0.9418678159234251 L 0.3349664084929345, -0.9422300701958861 L 0.3339487700678261, -0.9425912258079778 L 0.3329307422513243, -0.9429512823385853 L 0.331912326230473, -0.9433102393678742 L 0.3308935231927654, -0.9436680964772937 L 0.3298743343261491, -0.9440248532495742 L 0.3288547608190194, -0.9443805092687299 L 0.3278348038602198, -0.9447350641200586 L 0.3268144646390436, -0.9450885173901412 L 0.3257937443452265, -0.9454408686668443 L 0.32477264416895174, -0.9457921175393181 L 0.3237511653008431, -0.9461422635979994 L 0.3227293089319659, -0.9464913064346104 L 0.3217070762538281, -0.9468392456421595 L 0.3206844684583741, -0.9471860808149422 L 0.31966148673798545, -0.9475318115485415 L 0.31863813228548243, -0.9478764374398276 L 0.31761440629411647, -0.9482199580869599 L 0.3165903099575756, -0.9485623730893853 L 0.3155658444699771, -0.948903682047841 L 0.31454101102586884, -0.9492438845643538 L 0.3135158108202301, -0.9495829802422396 L 0.31249024504846457, -0.9499209686861063 L 0.3114643149064055, -0.9502578495018515 L 0.3104380215903085, -0.9505936222966653 L 0.30941136629685256, -0.9509282866790297 L 0.3083843502231414, -0.9512618422587185 L 0.30735697456669603, -0.951594288646799 L 0.30632924052546, -0.9519256254556313 L 0.33696216457800604 ,-1.0471181880011946\",\"type\":\"path\"},{\"fillcolor\":\"rgba(50,136,189,0.75)\",\"layer\":\"below\",\"line\":{\"color\":\"rgb(150,150,150)\",\"width\":0.45},\"path\":\"M 0.44676581595688886, -1.0051867019078473 L 0.45843765841911255, -0.9999174532646188 L 0.47004736670844555, -0.9945126811913744 L 0.48159336730750957, -0.9889731182218324 L 0.4930740953335261, -0.9832995151585426 L 0.5044879947504074, -0.9774926409711293 L 0.5158335185796568, -0.9715532826920669 L 0.5271091291100363, -0.9654822453100106 L 0.5383132981059806, -0.9592803516606925 L 0.5494445070147246, -0.9529484423153997 L 0.5605012471721229, -0.9464873754670451 L 0.5714820200071217, -0.939898026813856 L 0.5823853372448698, -0.9331812894406849 L 0.5932097211084313, -0.9263380736979655 L 0.6039537045190743, -0.919369307078329 L 0.6146158312951112, -0.9122759340908975 L 0.6251946563492644, -0.9050589161332676 L 0.6356887458845211, -0.8977192313612118 L 0.6460966775884651, -0.8902578745561014 L 0.6564170408260493, -0.8826758569900803 L 0.6666484368307852, -0.8749742062890029 L 0.6767894788943234, -0.8671539662931551 L 0.6868387925544034, -0.8592161969157759 L 0.696795015781137, -0.8511619739994057 L 0.706656799161613, -0.8429923891700707 L 0.7164228060827883, -0.8347085496893294 L 0.7260917129126452, -0.8263115783042018 L 0.7356622091795919, -0.8178026130949952 L 0.7451329977500728, -0.8091828073210591 L 0.7545027950043769, -0.8004533292644759 L 0.763770331010613, -0.7916153620717189 L 0.7729343496968294, -0.7826701035932954 L 0.7819936090212541, -0.7736187662213954 L 0.7909468811406354, -0.7644625767255724 L 0.7997929525766582, -0.7552027760864704 L 0.8085306243804093, -0.745840619327632 L 0.817158712294879, -0.7363773753453967 L 0.8256760469154683, -0.7268143267369224 L 0.8340814738484825, -0.7171527696263492 L 0.8423738538675948, -0.7073940134891278 L 0.8505520630682468, -0.6975393809745434 L 0.858614993019979, -0.6875902077264492 L 0.8665615509166605, -0.6775478422022403 L 0.8743906597246031, -0.6674136454900915 L 0.8821012583285353, -0.6571889911244824 L 0.8896923016754206, -0.6468752649000368 L 0.8971627609161001, -0.6364738646836968 L 0.9045116235447342, -0.6259862002252679 L 0.9117378935360343, -0.6154136929663454 L 0.9188405914802577, -0.6047577758476615 L 0.9258187547159514, -0.594019893114873 L 0.9326714374604285, -0.5832015001228119 L 0.9393977109379507, -0.5723040631382401 L 0.9459966635056118, -0.5613290591411161 L 0.9524674007768967, -0.5502779756244134 L 0.9588090457429012, -0.5391523103925157 L 0.9650207388911981, -0.5279535713582078 L 0.9711016383223297, -0.5166832763383072 L 0.9770509198639142, -0.5053429528479437 L 0.9828677771823514, -0.493934137893529 L 0.9885514218921067, -0.48245837776443934 L 0.9941010836625654, -0.47091722782343953 L 0.9995160103224396, -0.4593122522958786 L 1.0047954679617142, -0.44764502405767914 L 1.009938741031114, -0.43591712442216396 L 1.0149451324390892, -0.42413014292572965 L 1.0198139636462926, -0.41228567711241015 L 1.0245445747575461, -0.4003853323173553 L 1.0291363246112812, -0.3884307214492485 L 1.0335885908664353, -0.3764234647717076 L 1.0379007700868021, -0.3643651896836792 L 1.0420722778228186, -0.3522575304988704 L 1.0461025486907776, -0.3401021282242431 L 1.0499910364494567, -0.3279006303376009 L 1.0537372140741528, -0.31565469056429923 L 1.0573405738281132, -0.3033659686531048 L 1.0608006273313502, -0.291036130151248 L 1.064116905626834, -0.2786668461786797 L 1.0672889592440526, -0.26625979320157755 L 1.0703163582599313, -0.2538166528051276 L 1.0731986923571009, -0.2413391114656078 L 1.0759355708795106, -0.2288288603218176 L 1.0785266228853756, -0.21628759494586633 L 1.080971497197452, -0.20371701511336535 L 1.083269862450634, -0.19111882457305077 L 1.0854214071368655, -0.17849473081586242 L 1.0874258396473588, -0.16584644484352576 L 1.08928288831212, -0.15317568093664782 L 1.0909923014367673, -0.14048415642237394 L 1.092553847336646, -0.12777359144163042 L 1.0939673143682294, -0.11504570871598598 L 1.0952325109578032, -0.10230223331416415 L 1.096349265627431, -0.08954489241823306 L 1.0973174270181953, -0.07677541508951811 L 1.0981368639107119, -0.06399553203425057 L 1.0988074652429147, -0.05120697536899786 L 1.0993291401251082, -0.03841147838590279 L 1.0997018178522864, -0.025610775317758572 L 1.0999254479137164, -0.012806601102966098 L 1.099999999999783, -6.91150385814946e-07 L 0.9999999999998026, -6.283185325590418e-07 L 0.9999322253761057, -0.011642364639060088 L 0.9997289253202604, -0.023282523016144155 L 0.9993901273864618, -0.03491952580536617 L 0.9989158774935587, -0.04655179578999805 L 0.9983062399188289, -0.05817775639477324 L 0.9975612972892683, -0.06979583189956191 L 0.9966811505703917, -0.08140444765293914 L 0.9956659190525483, -0.09300203028560376 L 0.994515740334754, -0.1045870079236236 L 0.9932307703060419, -0.1161578104014822 L 0.9918111831243338, -0.1277128694748854 L 0.9902571711928363, -0.1392506190333162 L 0.9885689451339625, -0.15076949531229614 L 0.9867467337607867, -0.16226793710532947 L 0.9847907840460309, -0.17374438597550068 L 0.9827013610885927, -0.18519728646669575 L 0.980478748077614, -0.1966250863144239 L 0.9781232462541004, -0.2080262366561978 L 0.9756351748700915, -0.21939919224146162 L 0.973014871145392, -0.23074241164102507 L 0.9702626902218661, -0.24205435745597956 L 0.9673790051153035, -0.25333349652607245 L 0.9643642066648637, -0.26457830013749817 L 0.9612187034801029, -0.2757872442300952 L 0.9579429218855933, -0.28695880960390835 L 0.9545373058631423, -0.29809148212509173 L 0.9510023169916159, -0.3091837529311301 L 0.9473384343843805, -0.3202341186353367 L 0.9435461546243654, -0.33124108153061743 L 0.9396259916967592, -0.34220314979246147 L 0.9355784769193465, -0.353118837681135 L 0.9314041588704964, -0.3639866657430502 L 0.9271036033148113, -0.3748051610112819 L 0.9226773931264447, -0.38557285720520873 L 0.9181261282101036, -0.39628829492923995 L 0.9134504254197401, -0.40695002187061735 L 0.9086509184749451, -0.4175565929962532 L 0.9037282578750594, -0.4281065707485814 L 0.8986831108110059, -0.4385985252403994 L 0.8935161610748649, -0.4490310344486627 L 0.8882281089671947, -0.4594026844072215 L 0.8828196712021178, -0.46971206939846105 L 0.87729158081018, -0.4799577921438252 L 0.8716445870390009, -0.49013846399319605 L 0.8658794552517243, -0.500252705113103 L 0.8599969668232834, -0.5102991446737418 L 0.8539979190345005, -0.5202764210347637 L 0.8478831249640258, -0.5301831819298289 L 0.8416534133781376, -0.5400180846498845 L 0.835309628618416, -0.5497797962251468 L 0.8288526304873038, -0.5594669936057685 L 0.8222832941315765, -0.5690783638411525 L 0.8156025099237273, -0.5786126042579062 L 0.8088111833412913, -0.588068422636397 L 0.8019102348441229, -0.597444537385893 L 0.7949005997496391, -0.606739677718265 L 0.787783228106055, -0.6159525838202184 L 0.7805590845636172, -0.6250820070240447 L 0.7732291482438607, -0.6341267099768576 L 0.7657944126069043, -0.6430854668082979 L 0.7582558853168022, -0.651957063296681 L 0.7506145881049711, -0.6607402970335657 L 0.7428715566317081, -0.6694339775867242 L 0.7350278403458266, -0.6780369266614836 L 0.7270845023424165, -0.6865479782604276 L 0.7190426192187593, -0.6949659788414294 L 0.7109032809284128, -0.7032897874739957 L 0.7026675906334812, -0.7115182759939048 L 0.6943366645551027, -0.719650329156108 L 0.6859116318221608, -0.7276848447858871 L 0.677393634318248, -0.7356207339282355 L 0.6687838265269017, -0.7434569209954501 L 0.660083375375132, -0.7511923439129107 L 0.651293460075262, -0.7588259542630267 L 0.6424152719651026, -0.7663567174273369 L 0.6334500143464882, -0.7737836127267325 L 0.6243989023221849, -0.7811056335597962 L 0.6152631626312031, -0.7883217875392319 L 0.606044033482532, -0.7954310966263662 L 0.5967427643873175, -0.8024325972637093 L 0.5873606159895137, -0.8093253405055466 L 0.5778988598950191, -0.8161083921465561 L 0.5683587784993313, -0.8227808328484251 L 0.5587416648137374, -0.8293417582644522 L 0.5490488222900675, -0.8357902791621172 L 0.5392815646440284, -0.842125521543605 L 0.5294412156771544, -0.848346626764259 L 0.5195291090973833, -0.85445275164896 L 0.5095465883382935, -0.8604430686064045 L 0.49949500637702227, -0.8663167657412724 L 0.4893757255508914, -0.8720730469642658 L 0.4791901173727602, -0.8777111321000095 L 0.46893956234514245, -0.883230256992788 L 0.4586254497730976, -0.8886296736101175 L 0.44824917757593274, -0.8939086501441296 L 0.43781215209773594, -0.8990664711107567 L 0.42731578791676866, -0.9041024374467039 L 0.41676150765373865, -0.9090158666041989 L 0.40615074177898985, -0.9138060926434974 L 0.44676581595688886 ,-1.0051867019078473\",\"type\":\"path\"}],\"showlegend\":false,\"template\":{\"data\":{\"barpolar\":[{\"marker\":{\"line\":{\"color\":\"#E5ECF6\",\"width\":0.5},\"pattern\":{\"fillmode\":\"overlay\",\"size\":10,\"solidity\":0.2}},\"type\":\"barpolar\"}],\"bar\":[{\"error_x\":{\"color\":\"#2a3f5f\"},\"error_y\":{\"color\":\"#2a3f5f\"},\"marker\":{\"line\":{\"color\":\"#E5ECF6\",\"width\":0.5},\"pattern\":{\"fillmode\":\"overlay\",\"size\":10,\"solidity\":0.2}},\"type\":\"bar\"}],\"carpet\":[{\"aaxis\":{\"endlinecolor\":\"#2a3f5f\",\"gridcolor\":\"white\",\"linecolor\":\"white\",\"minorgridcolor\":\"white\",\"startlinecolor\":\"#2a3f5f\"},\"baxis\":{\"endlinecolor\":\"#2a3f5f\",\"gridcolor\":\"white\",\"linecolor\":\"white\",\"minorgridcolor\":\"white\",\"startlinecolor\":\"#2a3f5f\"},\"type\":\"carpet\"}],\"choropleth\":[{\"colorbar\":{\"outlinewidth\":0,\"ticks\":\"\"},\"type\":\"choropleth\"}],\"contourcarpet\":[{\"colorbar\":{\"outlinewidth\":0,\"ticks\":\"\"},\"type\":\"contourcarpet\"}],\"contour\":[{\"colorbar\":{\"outlinewidth\":0,\"ticks\":\"\"},\"colorscale\":[[0.0,\"#0d0887\"],[0.1111111111111111,\"#46039f\"],[0.2222222222222222,\"#7201a8\"],[0.3333333333333333,\"#9c179e\"],[0.4444444444444444,\"#bd3786\"],[0.5555555555555556,\"#d8576b\"],[0.6666666666666666,\"#ed7953\"],[0.7777777777777778,\"#fb9f3a\"],[0.8888888888888888,\"#fdca26\"],[1.0,\"#f0f921\"]],\"type\":\"contour\"}],\"heatmapgl\":[{\"colorbar\":{\"outlinewidth\":0,\"ticks\":\"\"},\"colorscale\":[[0.0,\"#0d0887\"],[0.1111111111111111,\"#46039f\"],[0.2222222222222222,\"#7201a8\"],[0.3333333333333333,\"#9c179e\"],[0.4444444444444444,\"#bd3786\"],[0.5555555555555556,\"#d8576b\"],[0.6666666666666666,\"#ed7953\"],[0.7777777777777778,\"#fb9f3a\"],[0.8888888888888888,\"#fdca26\"],[1.0,\"#f0f921\"]],\"type\":\"heatmapgl\"}],\"heatmap\":[{\"colorbar\":{\"outlinewidth\":0,\"ticks\":\"\"},\"colorscale\":[[0.0,\"#0d0887\"],[0.1111111111111111,\"#46039f\"],[0.2222222222222222,\"#7201a8\"],[0.3333333333333333,\"#9c179e\"],[0.4444444444444444,\"#bd3786\"],[0.5555555555555556,\"#d8576b\"],[0.6666666666666666,\"#ed7953\"],[0.7777777777777778,\"#fb9f3a\"],[0.8888888888888888,\"#fdca26\"],[1.0,\"#f0f921\"]],\"type\":\"heatmap\"}],\"histogram2dcontour\":[{\"colorbar\":{\"outlinewidth\":0,\"ticks\":\"\"},\"colorscale\":[[0.0,\"#0d0887\"],[0.1111111111111111,\"#46039f\"],[0.2222222222222222,\"#7201a8\"],[0.3333333333333333,\"#9c179e\"],[0.4444444444444444,\"#bd3786\"],[0.5555555555555556,\"#d8576b\"],[0.6666666666666666,\"#ed7953\"],[0.7777777777777778,\"#fb9f3a\"],[0.8888888888888888,\"#fdca26\"],[1.0,\"#f0f921\"]],\"type\":\"histogram2dcontour\"}],\"histogram2d\":[{\"colorbar\":{\"outlinewidth\":0,\"ticks\":\"\"},\"colorscale\":[[0.0,\"#0d0887\"],[0.1111111111111111,\"#46039f\"],[0.2222222222222222,\"#7201a8\"],[0.3333333333333333,\"#9c179e\"],[0.4444444444444444,\"#bd3786\"],[0.5555555555555556,\"#d8576b\"],[0.6666666666666666,\"#ed7953\"],[0.7777777777777778,\"#fb9f3a\"],[0.8888888888888888,\"#fdca26\"],[1.0,\"#f0f921\"]],\"type\":\"histogram2d\"}],\"histogram\":[{\"marker\":{\"pattern\":{\"fillmode\":\"overlay\",\"size\":10,\"solidity\":0.2}},\"type\":\"histogram\"}],\"mesh3d\":[{\"colorbar\":{\"outlinewidth\":0,\"ticks\":\"\"},\"type\":\"mesh3d\"}],\"parcoords\":[{\"line\":{\"colorbar\":{\"outlinewidth\":0,\"ticks\":\"\"}},\"type\":\"parcoords\"}],\"pie\":[{\"automargin\":true,\"type\":\"pie\"}],\"scatter3d\":[{\"line\":{\"colorbar\":{\"outlinewidth\":0,\"ticks\":\"\"}},\"marker\":{\"colorbar\":{\"outlinewidth\":0,\"ticks\":\"\"}},\"type\":\"scatter3d\"}],\"scattercarpet\":[{\"marker\":{\"colorbar\":{\"outlinewidth\":0,\"ticks\":\"\"}},\"type\":\"scattercarpet\"}],\"scattergeo\":[{\"marker\":{\"colorbar\":{\"outlinewidth\":0,\"ticks\":\"\"}},\"type\":\"scattergeo\"}],\"scattergl\":[{\"marker\":{\"colorbar\":{\"outlinewidth\":0,\"ticks\":\"\"}},\"type\":\"scattergl\"}],\"scattermapbox\":[{\"marker\":{\"colorbar\":{\"outlinewidth\":0,\"ticks\":\"\"}},\"type\":\"scattermapbox\"}],\"scatterpolargl\":[{\"marker\":{\"colorbar\":{\"outlinewidth\":0,\"ticks\":\"\"}},\"type\":\"scatterpolargl\"}],\"scatterpolar\":[{\"marker\":{\"colorbar\":{\"outlinewidth\":0,\"ticks\":\"\"}},\"type\":\"scatterpolar\"}],\"scatter\":[{\"marker\":{\"colorbar\":{\"outlinewidth\":0,\"ticks\":\"\"}},\"type\":\"scatter\"}],\"scatterternary\":[{\"marker\":{\"colorbar\":{\"outlinewidth\":0,\"ticks\":\"\"}},\"type\":\"scatterternary\"}],\"surface\":[{\"colorbar\":{\"outlinewidth\":0,\"ticks\":\"\"},\"colorscale\":[[0.0,\"#0d0887\"],[0.1111111111111111,\"#46039f\"],[0.2222222222222222,\"#7201a8\"],[0.3333333333333333,\"#9c179e\"],[0.4444444444444444,\"#bd3786\"],[0.5555555555555556,\"#d8576b\"],[0.6666666666666666,\"#ed7953\"],[0.7777777777777778,\"#fb9f3a\"],[0.8888888888888888,\"#fdca26\"],[1.0,\"#f0f921\"]],\"type\":\"surface\"}],\"table\":[{\"cells\":{\"fill\":{\"color\":\"#EBF0F8\"},\"line\":{\"color\":\"white\"}},\"header\":{\"fill\":{\"color\":\"#C8D4E3\"},\"line\":{\"color\":\"white\"}},\"type\":\"table\"}]},\"layout\":{\"annotationdefaults\":{\"arrowcolor\":\"#2a3f5f\",\"arrowhead\":0,\"arrowwidth\":1},\"autotypenumbers\":\"strict\",\"coloraxis\":{\"colorbar\":{\"outlinewidth\":0,\"ticks\":\"\"}},\"colorscale\":{\"diverging\":[[0,\"#8e0152\"],[0.1,\"#c51b7d\"],[0.2,\"#de77ae\"],[0.3,\"#f1b6da\"],[0.4,\"#fde0ef\"],[0.5,\"#f7f7f7\"],[0.6,\"#e6f5d0\"],[0.7,\"#b8e186\"],[0.8,\"#7fbc41\"],[0.9,\"#4d9221\"],[1,\"#276419\"]],\"sequential\":[[0.0,\"#0d0887\"],[0.1111111111111111,\"#46039f\"],[0.2222222222222222,\"#7201a8\"],[0.3333333333333333,\"#9c179e\"],[0.4444444444444444,\"#bd3786\"],[0.5555555555555556,\"#d8576b\"],[0.6666666666666666,\"#ed7953\"],[0.7777777777777778,\"#fb9f3a\"],[0.8888888888888888,\"#fdca26\"],[1.0,\"#f0f921\"]],\"sequentialminus\":[[0.0,\"#0d0887\"],[0.1111111111111111,\"#46039f\"],[0.2222222222222222,\"#7201a8\"],[0.3333333333333333,\"#9c179e\"],[0.4444444444444444,\"#bd3786\"],[0.5555555555555556,\"#d8576b\"],[0.6666666666666666,\"#ed7953\"],[0.7777777777777778,\"#fb9f3a\"],[0.8888888888888888,\"#fdca26\"],[1.0,\"#f0f921\"]]},\"colorway\":[\"#636efa\",\"#EF553B\",\"#00cc96\",\"#ab63fa\",\"#FFA15A\",\"#19d3f3\",\"#FF6692\",\"#B6E880\",\"#FF97FF\",\"#FECB52\"],\"font\":{\"color\":\"#2a3f5f\"},\"geo\":{\"bgcolor\":\"white\",\"lakecolor\":\"white\",\"landcolor\":\"#E5ECF6\",\"showlakes\":true,\"showland\":true,\"subunitcolor\":\"white\"},\"hoverlabel\":{\"align\":\"left\"},\"hovermode\":\"closest\",\"mapbox\":{\"style\":\"light\"},\"paper_bgcolor\":\"white\",\"plot_bgcolor\":\"#E5ECF6\",\"polar\":{\"angularaxis\":{\"gridcolor\":\"white\",\"linecolor\":\"white\",\"ticks\":\"\"},\"bgcolor\":\"#E5ECF6\",\"radialaxis\":{\"gridcolor\":\"white\",\"linecolor\":\"white\",\"ticks\":\"\"}},\"scene\":{\"xaxis\":{\"backgroundcolor\":\"#E5ECF6\",\"gridcolor\":\"white\",\"gridwidth\":2,\"linecolor\":\"white\",\"showbackground\":true,\"ticks\":\"\",\"zerolinecolor\":\"white\"},\"yaxis\":{\"backgroundcolor\":\"#E5ECF6\",\"gridcolor\":\"white\",\"gridwidth\":2,\"linecolor\":\"white\",\"showbackground\":true,\"ticks\":\"\",\"zerolinecolor\":\"white\"},\"zaxis\":{\"backgroundcolor\":\"#E5ECF6\",\"gridcolor\":\"white\",\"gridwidth\":2,\"linecolor\":\"white\",\"showbackground\":true,\"ticks\":\"\",\"zerolinecolor\":\"white\"}},\"shapedefaults\":{\"line\":{\"color\":\"#2a3f5f\"}},\"ternary\":{\"aaxis\":{\"gridcolor\":\"white\",\"linecolor\":\"white\",\"ticks\":\"\"},\"baxis\":{\"gridcolor\":\"white\",\"linecolor\":\"white\",\"ticks\":\"\"},\"bgcolor\":\"#E5ECF6\",\"caxis\":{\"gridcolor\":\"white\",\"linecolor\":\"white\",\"ticks\":\"\"}},\"title\":{\"x\":0.05},\"xaxis\":{\"automargin\":true,\"gridcolor\":\"white\",\"linecolor\":\"white\",\"ticks\":\"\",\"title\":{\"standoff\":15},\"zerolinecolor\":\"white\",\"zerolinewidth\":2},\"yaxis\":{\"automargin\":true,\"gridcolor\":\"white\",\"linecolor\":\"white\",\"ticks\":\"\",\"title\":{\"standoff\":15},\"zerolinecolor\":\"white\",\"zerolinewidth\":2}}},\"title\":{\"text\":\" \"},\"width\":625,\"xaxis\":{\"showgrid\":false,\"showline\":false,\"showticklabels\":false,\"title\":{\"text\":\"Seatlle Bike Flow\"},\"zeroline\":false},\"yaxis\":{\"scaleanchor\":\"x\",\"showgrid\":false,\"showline\":false,\"showticklabels\":false,\"title\":{\"text\":\"Seatlle Bike Flow\"},\"zeroline\":false}},                        {\"responsive\": true}                    ).then(function(){\n",
       "                            \n",
       "var gd = document.getElementById('0233d8f9-6477-4159-a746-8e1bf9cc85f0');\n",
       "var x = new MutationObserver(function (mutations, observer) {{\n",
       "        var display = window.getComputedStyle(gd).display;\n",
       "        if (!display || display === 'none') {{\n",
       "            console.log([gd, 'removed!']);\n",
       "            Plotly.purge(gd);\n",
       "            observer.disconnect();\n",
       "        }}\n",
       "}});\n",
       "\n",
       "// Listen for the removal of the full notebook cells\n",
       "var notebookContainer = gd.closest('#notebook-container');\n",
       "if (notebookContainer) {{\n",
       "    x.observe(notebookContainer, {childList: true});\n",
       "}}\n",
       "\n",
       "// Listen for the clearing of the current output cell\n",
       "var outputEl = gd.closest('.output');\n",
       "if (outputEl) {{\n",
       "    x.observe(outputEl, {childList: true});\n",
       "}}\n",
       "\n",
       "                        })                };                });            </script>        </div>"
      ]
     },
     "metadata": {},
     "output_type": "display_data"
    }
   ],
   "source": [
    "init_notebook_mode(connected=True)\n",
    "iplot(chord)"
   ]
  },
  {
   "cell_type": "code",
   "execution_count": null,
   "id": "1dc54257",
   "metadata": {},
   "outputs": [],
   "source": []
  }
 ],
 "metadata": {
  "kernelspec": {
   "display_name": "Python 3 (ipykernel)",
   "language": "python",
   "name": "python3"
  },
  "language_info": {
   "codemirror_mode": {
    "name": "ipython",
    "version": 3
   },
   "file_extension": ".py",
   "mimetype": "text/x-python",
   "name": "python",
   "nbconvert_exporter": "python",
   "pygments_lexer": "ipython3",
   "version": "3.9.6"
  }
 },
 "nbformat": 4,
 "nbformat_minor": 5
}
