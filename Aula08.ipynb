{
 "cells": [
  {
   "cell_type": "markdown",
   "id": "f7dc0009",
   "metadata": {},
   "source": [
    "# Exercício Gráfico Fluxo.\n",
    "Vocês vão utilizar um dos tipos de gráfico do tipo Fluxo (Flow).  \n",
    "  \n",
    "Referência: https://www.python-graph-gallery.com/  \n",
    "  \n",
    "Em grupo vocês devem decidir qual base aberta vão utilizar para fazer uma demonstracão de um fluxo de dados.  \n",
    "  \n",
    "No final da aula de hoje vocês devem ter decidido qual base utilizar e se possível uma tentatativa de como utilizar um dos gráficos de Fluxo.  \n",
    "  "
   ]
  },
  {
   "cell_type": "code",
   "execution_count": 69,
   "id": "d6dcc857",
   "metadata": {},
   "outputs": [],
   "source": [
    "# !pip install plotly\n",
    "# !pip install colorlover\n",
    "import pandas as pd\n",
    "import numpy as np\n",
    "import plotly.graph_objs as go\n",
    "import plotly\n",
    "import chart_studio.plotly as py\n",
    "from plotly.offline import download_plotlyjs, init_notebook_mode, iplot, plot\n",
    "#import colorlover as cl"
   ]
  },
  {
   "cell_type": "code",
   "execution_count": 3,
   "id": "8e101173",
   "metadata": {
    "scrolled": true
   },
   "outputs": [],
   "source": [
    "df = pd.read_csv('./trip.csv', sep=',')\n",
    "df = df.drop_duplicates(subset=['trip_id'])"
   ]
  },
  {
   "cell_type": "code",
   "execution_count": 4,
   "id": "f114cbec",
   "metadata": {},
   "outputs": [
    {
     "name": "stdout",
     "output_type": "stream",
     "text": [
      "<class 'pandas.core.frame.DataFrame'>\n",
      "Int64Index: 236065 entries, 0 to 286857\n",
      "Data columns (total 12 columns):\n",
      " #   Column             Non-Null Count   Dtype  \n",
      "---  ------             --------------   -----  \n",
      " 0   trip_id            236065 non-null  int64  \n",
      " 1   starttime          236065 non-null  object \n",
      " 2   stoptime           236065 non-null  object \n",
      " 3   bikeid             236065 non-null  object \n",
      " 4   tripduration       236065 non-null  float64\n",
      " 5   from_station_name  236065 non-null  object \n",
      " 6   to_station_name    236065 non-null  object \n",
      " 7   from_station_id    236065 non-null  object \n",
      " 8   to_station_id      236065 non-null  object \n",
      " 9   usertype           236064 non-null  object \n",
      " 10  gender             146171 non-null  object \n",
      " 11  birthyear          146167 non-null  float64\n",
      "dtypes: float64(2), int64(1), object(9)\n",
      "memory usage: 23.4+ MB\n"
     ]
    }
   ],
   "source": [
    "df.info()"
   ]
  },
  {
   "cell_type": "code",
   "execution_count": 5,
   "id": "fa739c7c",
   "metadata": {},
   "outputs": [
    {
     "data": {
      "text/plain": [
       "array(['2nd Ave & Spring St',\n",
       "       'Occidental Park / Occidental Ave S & S Washington St',\n",
       "       'City Hall / 4th Ave & James St',\n",
       "       'King Street Station Plaza / 2nd Ave Extension S & S Jackson St',\n",
       "       '1st Ave & Marion St', 'E Harrison St & Broadway Ave E',\n",
       "       '9th Ave N & Mercer St',\n",
       "       'Burke-Gilman Trail / NE Blakeley St & 24th Ave NE',\n",
       "       'Seattle Aquarium / Alaskan Way S & Elliott Bay Trail',\n",
       "       '6th Ave & Blanchard St',\n",
       "       'Burke Museum / E Stevens Way NE & Memorial Way NE',\n",
       "       '2nd Ave & Vine St', '6th Ave S & S King St',\n",
       "       'NE 42nd St & University Way NE', '12th Ave & NE Campus Pkwy',\n",
       "       '2nd Ave & Pine St', 'Frye Art Museum / Terry Ave & Columbia St',\n",
       "       'Harvard Ave & E Pine St', 'Westlake Ave & 6th Ave',\n",
       "       'Dexter Ave & Denny Way',\n",
       "       'UW Magnuson Health Sciences Center Rotunda / Columbia Rd & San Juan Rd',\n",
       "       '12th Ave & E Mercer St', '2nd Ave & Blanchard St',\n",
       "       'REI / Yale Ave N & John St', 'NE 47th St & 12th Ave NE',\n",
       "       '7th Ave & Union St', 'Cal Anderson Park / 11th Ave & Pine St',\n",
       "       'UW Intramural Activities Building',\n",
       "       'Key Arena / 1st Ave N & Harrison St',\n",
       "       \"Children's Hospital / Sandpoint Way NE & 40th Ave NE\",\n",
       "       'Pier 69 / Alaskan Way & Clay St', '15th Ave E & E Thomas St',\n",
       "       'Dexter Ave N & Aloha St', 'E Pine St & 16th Ave',\n",
       "       'UW Engineering Library / E Stevens Way NE & Jefferson Rd',\n",
       "       '15th Ave NE & NE 40th St',\n",
       "       'Lake Union Park / Valley St & Boren Ave N',\n",
       "       'Fred Hutchinson Cancer Research Center / Fairview Ave N & Ward St',\n",
       "       'Eastlake Ave E & E Allison St', '12th Ave & E Denny Way',\n",
       "       'Republican St & Westlake Ave N', '3rd Ave & Broad St',\n",
       "       'Summit Ave & E Denny Way', 'Summit Ave E & E Republican St',\n",
       "       'Bellevue Ave & E Pine St', 'E Blaine St & Fairview Ave E',\n",
       "       'Seattle University / E Columbia St & 12th Ave',\n",
       "       'PATH / 9th Ave & Westlake Ave', 'Pine St & 9th Ave',\n",
       "       'UW McCarty Hall / Whitman Ct', '12th Ave & E Yesler Way',\n",
       "       'Pronto shop', 'Terry Ave & Stewart St', 'Union St & 4th Ave',\n",
       "       'Mercer St & 9th Ave N', 'NE Pacific St/UW Medical Center',\n",
       "       'Broadway and E Denny Way', 'Pronto shop 2',\n",
       "       'Thomas St & 5th Ave N', 'Pier 66 / Alaskan Way & Bell St',\n",
       "       '8D OPS 02'], dtype=object)"
      ]
     },
     "execution_count": 5,
     "metadata": {},
     "output_type": "execute_result"
    }
   ],
   "source": [
    "df['from_station_name'].unique()"
   ]
  },
  {
   "cell_type": "code",
   "execution_count": 6,
   "id": "4abd41fd",
   "metadata": {},
   "outputs": [
    {
     "data": {
      "text/html": [
       "<div>\n",
       "<style scoped>\n",
       "    .dataframe tbody tr th:only-of-type {\n",
       "        vertical-align: middle;\n",
       "    }\n",
       "\n",
       "    .dataframe tbody tr th {\n",
       "        vertical-align: top;\n",
       "    }\n",
       "\n",
       "    .dataframe thead th {\n",
       "        text-align: right;\n",
       "    }\n",
       "</style>\n",
       "<table border=\"1\" class=\"dataframe\">\n",
       "  <thead>\n",
       "    <tr style=\"text-align: right;\">\n",
       "      <th></th>\n",
       "      <th>from_station_name</th>\n",
       "      <th>to_station_name</th>\n",
       "    </tr>\n",
       "  </thead>\n",
       "  <tbody>\n",
       "    <tr>\n",
       "      <th>0</th>\n",
       "      <td>2nd Ave &amp; Spring St</td>\n",
       "      <td>Occidental Park / Occidental Ave S &amp; S Washing...</td>\n",
       "    </tr>\n",
       "    <tr>\n",
       "      <th>1</th>\n",
       "      <td>2nd Ave &amp; Spring St</td>\n",
       "      <td>Occidental Park / Occidental Ave S &amp; S Washing...</td>\n",
       "    </tr>\n",
       "    <tr>\n",
       "      <th>2</th>\n",
       "      <td>2nd Ave &amp; Spring St</td>\n",
       "      <td>Occidental Park / Occidental Ave S &amp; S Washing...</td>\n",
       "    </tr>\n",
       "    <tr>\n",
       "      <th>3</th>\n",
       "      <td>2nd Ave &amp; Spring St</td>\n",
       "      <td>Occidental Park / Occidental Ave S &amp; S Washing...</td>\n",
       "    </tr>\n",
       "    <tr>\n",
       "      <th>4</th>\n",
       "      <td>2nd Ave &amp; Spring St</td>\n",
       "      <td>Occidental Park / Occidental Ave S &amp; S Washing...</td>\n",
       "    </tr>\n",
       "    <tr>\n",
       "      <th>...</th>\n",
       "      <td>...</td>\n",
       "      <td>...</td>\n",
       "    </tr>\n",
       "    <tr>\n",
       "      <th>286853</th>\n",
       "      <td>Harvard Ave &amp; E Pine St</td>\n",
       "      <td>2nd Ave &amp; Spring St</td>\n",
       "    </tr>\n",
       "    <tr>\n",
       "      <th>286854</th>\n",
       "      <td>Cal Anderson Park / 11th Ave &amp; Pine St</td>\n",
       "      <td>6th Ave S &amp; S King St</td>\n",
       "    </tr>\n",
       "    <tr>\n",
       "      <th>286855</th>\n",
       "      <td>Cal Anderson Park / 11th Ave &amp; Pine St</td>\n",
       "      <td>6th Ave S &amp; S King St</td>\n",
       "    </tr>\n",
       "    <tr>\n",
       "      <th>286856</th>\n",
       "      <td>Cal Anderson Park / 11th Ave &amp; Pine St</td>\n",
       "      <td>6th Ave S &amp; S King St</td>\n",
       "    </tr>\n",
       "    <tr>\n",
       "      <th>286857</th>\n",
       "      <td>Cal Anderson Park / 11th Ave &amp; Pine St</td>\n",
       "      <td>6th Ave S &amp; S King St</td>\n",
       "    </tr>\n",
       "  </tbody>\n",
       "</table>\n",
       "<p>236065 rows × 2 columns</p>\n",
       "</div>"
      ],
      "text/plain": [
       "                             from_station_name  \\\n",
       "0                          2nd Ave & Spring St   \n",
       "1                          2nd Ave & Spring St   \n",
       "2                          2nd Ave & Spring St   \n",
       "3                          2nd Ave & Spring St   \n",
       "4                          2nd Ave & Spring St   \n",
       "...                                        ...   \n",
       "286853                 Harvard Ave & E Pine St   \n",
       "286854  Cal Anderson Park / 11th Ave & Pine St   \n",
       "286855  Cal Anderson Park / 11th Ave & Pine St   \n",
       "286856  Cal Anderson Park / 11th Ave & Pine St   \n",
       "286857  Cal Anderson Park / 11th Ave & Pine St   \n",
       "\n",
       "                                          to_station_name  \n",
       "0       Occidental Park / Occidental Ave S & S Washing...  \n",
       "1       Occidental Park / Occidental Ave S & S Washing...  \n",
       "2       Occidental Park / Occidental Ave S & S Washing...  \n",
       "3       Occidental Park / Occidental Ave S & S Washing...  \n",
       "4       Occidental Park / Occidental Ave S & S Washing...  \n",
       "...                                                   ...  \n",
       "286853                                2nd Ave & Spring St  \n",
       "286854                              6th Ave S & S King St  \n",
       "286855                              6th Ave S & S King St  \n",
       "286856                              6th Ave S & S King St  \n",
       "286857                              6th Ave S & S King St  \n",
       "\n",
       "[236065 rows x 2 columns]"
      ]
     },
     "execution_count": 6,
     "metadata": {},
     "output_type": "execute_result"
    }
   ],
   "source": [
    "df[['from_station_name','to_station_name']]"
   ]
  },
  {
   "cell_type": "code",
   "execution_count": 7,
   "id": "a8ddd32e",
   "metadata": {},
   "outputs": [],
   "source": [
    "crosstab_df = pd.crosstab(df['from_station_name'], df['to_station_name'])"
   ]
  },
  {
   "cell_type": "code",
   "execution_count": 8,
   "id": "09cf0b47",
   "metadata": {},
   "outputs": [
    {
     "data": {
      "text/html": [
       "<div>\n",
       "<style scoped>\n",
       "    .dataframe tbody tr th:only-of-type {\n",
       "        vertical-align: middle;\n",
       "    }\n",
       "\n",
       "    .dataframe tbody tr th {\n",
       "        vertical-align: top;\n",
       "    }\n",
       "\n",
       "    .dataframe thead th {\n",
       "        text-align: right;\n",
       "    }\n",
       "</style>\n",
       "<table border=\"1\" class=\"dataframe\">\n",
       "  <thead>\n",
       "    <tr style=\"text-align: right;\">\n",
       "      <th>to_station_name</th>\n",
       "      <th>12th Ave &amp; E Denny Way</th>\n",
       "      <th>12th Ave &amp; E Mercer St</th>\n",
       "      <th>12th Ave &amp; E Yesler Way</th>\n",
       "      <th>12th Ave &amp; NE Campus Pkwy</th>\n",
       "      <th>15th Ave E &amp; E Thomas St</th>\n",
       "      <th>15th Ave NE &amp; NE 40th St</th>\n",
       "      <th>1st Ave &amp; Marion St</th>\n",
       "      <th>2nd Ave &amp; Blanchard St</th>\n",
       "      <th>2nd Ave &amp; Pine St</th>\n",
       "      <th>2nd Ave &amp; Spring St</th>\n",
       "      <th>...</th>\n",
       "      <th>Summit Ave &amp; E Denny Way</th>\n",
       "      <th>Summit Ave E &amp; E Republican St</th>\n",
       "      <th>Terry Ave &amp; Stewart St</th>\n",
       "      <th>Thomas St &amp; 5th Ave N</th>\n",
       "      <th>UW Engineering Library / E Stevens Way NE &amp; Jefferson Rd</th>\n",
       "      <th>UW Intramural Activities Building</th>\n",
       "      <th>UW Magnuson Health Sciences Center Rotunda / Columbia Rd &amp; San Juan Rd</th>\n",
       "      <th>UW McCarty Hall / Whitman Ct</th>\n",
       "      <th>Union St &amp; 4th Ave</th>\n",
       "      <th>Westlake Ave &amp; 6th Ave</th>\n",
       "    </tr>\n",
       "    <tr>\n",
       "      <th>from_station_name</th>\n",
       "      <th></th>\n",
       "      <th></th>\n",
       "      <th></th>\n",
       "      <th></th>\n",
       "      <th></th>\n",
       "      <th></th>\n",
       "      <th></th>\n",
       "      <th></th>\n",
       "      <th></th>\n",
       "      <th></th>\n",
       "      <th></th>\n",
       "      <th></th>\n",
       "      <th></th>\n",
       "      <th></th>\n",
       "      <th></th>\n",
       "      <th></th>\n",
       "      <th></th>\n",
       "      <th></th>\n",
       "      <th></th>\n",
       "      <th></th>\n",
       "      <th></th>\n",
       "    </tr>\n",
       "  </thead>\n",
       "  <tbody>\n",
       "    <tr>\n",
       "      <th>12th Ave &amp; E Denny Way</th>\n",
       "      <td>66</td>\n",
       "      <td>117</td>\n",
       "      <td>55</td>\n",
       "      <td>15</td>\n",
       "      <td>24</td>\n",
       "      <td>4</td>\n",
       "      <td>166</td>\n",
       "      <td>25</td>\n",
       "      <td>162</td>\n",
       "      <td>58</td>\n",
       "      <td>...</td>\n",
       "      <td>75</td>\n",
       "      <td>19</td>\n",
       "      <td>18</td>\n",
       "      <td>3</td>\n",
       "      <td>0</td>\n",
       "      <td>0</td>\n",
       "      <td>9</td>\n",
       "      <td>0</td>\n",
       "      <td>11</td>\n",
       "      <td>62</td>\n",
       "    </tr>\n",
       "    <tr>\n",
       "      <th>12th Ave &amp; E Mercer St</th>\n",
       "      <td>134</td>\n",
       "      <td>199</td>\n",
       "      <td>32</td>\n",
       "      <td>64</td>\n",
       "      <td>62</td>\n",
       "      <td>14</td>\n",
       "      <td>99</td>\n",
       "      <td>62</td>\n",
       "      <td>296</td>\n",
       "      <td>215</td>\n",
       "      <td>...</td>\n",
       "      <td>81</td>\n",
       "      <td>63</td>\n",
       "      <td>21</td>\n",
       "      <td>3</td>\n",
       "      <td>8</td>\n",
       "      <td>11</td>\n",
       "      <td>14</td>\n",
       "      <td>0</td>\n",
       "      <td>62</td>\n",
       "      <td>118</td>\n",
       "    </tr>\n",
       "    <tr>\n",
       "      <th>12th Ave &amp; E Yesler Way</th>\n",
       "      <td>21</td>\n",
       "      <td>24</td>\n",
       "      <td>44</td>\n",
       "      <td>6</td>\n",
       "      <td>6</td>\n",
       "      <td>0</td>\n",
       "      <td>12</td>\n",
       "      <td>7</td>\n",
       "      <td>13</td>\n",
       "      <td>13</td>\n",
       "      <td>...</td>\n",
       "      <td>8</td>\n",
       "      <td>2</td>\n",
       "      <td>3</td>\n",
       "      <td>0</td>\n",
       "      <td>1</td>\n",
       "      <td>0</td>\n",
       "      <td>0</td>\n",
       "      <td>0</td>\n",
       "      <td>11</td>\n",
       "      <td>10</td>\n",
       "    </tr>\n",
       "    <tr>\n",
       "      <th>12th Ave &amp; NE Campus Pkwy</th>\n",
       "      <td>5</td>\n",
       "      <td>14</td>\n",
       "      <td>4</td>\n",
       "      <td>655</td>\n",
       "      <td>17</td>\n",
       "      <td>85</td>\n",
       "      <td>5</td>\n",
       "      <td>16</td>\n",
       "      <td>11</td>\n",
       "      <td>15</td>\n",
       "      <td>...</td>\n",
       "      <td>3</td>\n",
       "      <td>11</td>\n",
       "      <td>4</td>\n",
       "      <td>3</td>\n",
       "      <td>504</td>\n",
       "      <td>120</td>\n",
       "      <td>123</td>\n",
       "      <td>37</td>\n",
       "      <td>0</td>\n",
       "      <td>18</td>\n",
       "    </tr>\n",
       "    <tr>\n",
       "      <th>15th Ave E &amp; E Thomas St</th>\n",
       "      <td>40</td>\n",
       "      <td>107</td>\n",
       "      <td>27</td>\n",
       "      <td>183</td>\n",
       "      <td>166</td>\n",
       "      <td>26</td>\n",
       "      <td>57</td>\n",
       "      <td>88</td>\n",
       "      <td>254</td>\n",
       "      <td>87</td>\n",
       "      <td>...</td>\n",
       "      <td>216</td>\n",
       "      <td>234</td>\n",
       "      <td>25</td>\n",
       "      <td>3</td>\n",
       "      <td>2</td>\n",
       "      <td>23</td>\n",
       "      <td>22</td>\n",
       "      <td>0</td>\n",
       "      <td>67</td>\n",
       "      <td>158</td>\n",
       "    </tr>\n",
       "    <tr>\n",
       "      <th>...</th>\n",
       "      <td>...</td>\n",
       "      <td>...</td>\n",
       "      <td>...</td>\n",
       "      <td>...</td>\n",
       "      <td>...</td>\n",
       "      <td>...</td>\n",
       "      <td>...</td>\n",
       "      <td>...</td>\n",
       "      <td>...</td>\n",
       "      <td>...</td>\n",
       "      <td>...</td>\n",
       "      <td>...</td>\n",
       "      <td>...</td>\n",
       "      <td>...</td>\n",
       "      <td>...</td>\n",
       "      <td>...</td>\n",
       "      <td>...</td>\n",
       "      <td>...</td>\n",
       "      <td>...</td>\n",
       "      <td>...</td>\n",
       "      <td>...</td>\n",
       "    </tr>\n",
       "    <tr>\n",
       "      <th>UW Intramural Activities Building</th>\n",
       "      <td>1</td>\n",
       "      <td>8</td>\n",
       "      <td>2</td>\n",
       "      <td>150</td>\n",
       "      <td>7</td>\n",
       "      <td>147</td>\n",
       "      <td>3</td>\n",
       "      <td>0</td>\n",
       "      <td>4</td>\n",
       "      <td>0</td>\n",
       "      <td>...</td>\n",
       "      <td>0</td>\n",
       "      <td>4</td>\n",
       "      <td>0</td>\n",
       "      <td>0</td>\n",
       "      <td>43</td>\n",
       "      <td>213</td>\n",
       "      <td>77</td>\n",
       "      <td>35</td>\n",
       "      <td>0</td>\n",
       "      <td>1</td>\n",
       "    </tr>\n",
       "    <tr>\n",
       "      <th>UW Magnuson Health Sciences Center Rotunda / Columbia Rd &amp; San Juan Rd</th>\n",
       "      <td>0</td>\n",
       "      <td>3</td>\n",
       "      <td>0</td>\n",
       "      <td>78</td>\n",
       "      <td>12</td>\n",
       "      <td>60</td>\n",
       "      <td>2</td>\n",
       "      <td>2</td>\n",
       "      <td>15</td>\n",
       "      <td>0</td>\n",
       "      <td>...</td>\n",
       "      <td>6</td>\n",
       "      <td>12</td>\n",
       "      <td>1</td>\n",
       "      <td>0</td>\n",
       "      <td>30</td>\n",
       "      <td>78</td>\n",
       "      <td>215</td>\n",
       "      <td>12</td>\n",
       "      <td>0</td>\n",
       "      <td>4</td>\n",
       "    </tr>\n",
       "    <tr>\n",
       "      <th>UW McCarty Hall / Whitman Ct</th>\n",
       "      <td>1</td>\n",
       "      <td>1</td>\n",
       "      <td>0</td>\n",
       "      <td>26</td>\n",
       "      <td>0</td>\n",
       "      <td>92</td>\n",
       "      <td>0</td>\n",
       "      <td>0</td>\n",
       "      <td>0</td>\n",
       "      <td>0</td>\n",
       "      <td>...</td>\n",
       "      <td>0</td>\n",
       "      <td>0</td>\n",
       "      <td>0</td>\n",
       "      <td>0</td>\n",
       "      <td>198</td>\n",
       "      <td>22</td>\n",
       "      <td>4</td>\n",
       "      <td>30</td>\n",
       "      <td>0</td>\n",
       "      <td>0</td>\n",
       "    </tr>\n",
       "    <tr>\n",
       "      <th>Union St &amp; 4th Ave</th>\n",
       "      <td>2</td>\n",
       "      <td>7</td>\n",
       "      <td>16</td>\n",
       "      <td>2</td>\n",
       "      <td>3</td>\n",
       "      <td>10</td>\n",
       "      <td>67</td>\n",
       "      <td>60</td>\n",
       "      <td>62</td>\n",
       "      <td>30</td>\n",
       "      <td>...</td>\n",
       "      <td>22</td>\n",
       "      <td>32</td>\n",
       "      <td>29</td>\n",
       "      <td>20</td>\n",
       "      <td>1</td>\n",
       "      <td>0</td>\n",
       "      <td>2</td>\n",
       "      <td>0</td>\n",
       "      <td>131</td>\n",
       "      <td>78</td>\n",
       "    </tr>\n",
       "    <tr>\n",
       "      <th>Westlake Ave &amp; 6th Ave</th>\n",
       "      <td>8</td>\n",
       "      <td>12</td>\n",
       "      <td>4</td>\n",
       "      <td>15</td>\n",
       "      <td>9</td>\n",
       "      <td>11</td>\n",
       "      <td>533</td>\n",
       "      <td>146</td>\n",
       "      <td>225</td>\n",
       "      <td>238</td>\n",
       "      <td>...</td>\n",
       "      <td>32</td>\n",
       "      <td>30</td>\n",
       "      <td>63</td>\n",
       "      <td>24</td>\n",
       "      <td>0</td>\n",
       "      <td>3</td>\n",
       "      <td>2</td>\n",
       "      <td>0</td>\n",
       "      <td>84</td>\n",
       "      <td>379</td>\n",
       "    </tr>\n",
       "  </tbody>\n",
       "</table>\n",
       "<p>61 rows × 61 columns</p>\n",
       "</div>"
      ],
      "text/plain": [
       "to_station_name                                     12th Ave & E Denny Way  \\\n",
       "from_station_name                                                            \n",
       "12th Ave & E Denny Way                                                  66   \n",
       "12th Ave & E Mercer St                                                 134   \n",
       "12th Ave & E Yesler Way                                                 21   \n",
       "12th Ave & NE Campus Pkwy                                                5   \n",
       "15th Ave E & E Thomas St                                                40   \n",
       "...                                                                    ...   \n",
       "UW Intramural Activities Building                                        1   \n",
       "UW Magnuson Health Sciences Center Rotunda / Co...                       0   \n",
       "UW McCarty Hall / Whitman Ct                                             1   \n",
       "Union St & 4th Ave                                                       2   \n",
       "Westlake Ave & 6th Ave                                                   8   \n",
       "\n",
       "to_station_name                                     12th Ave & E Mercer St  \\\n",
       "from_station_name                                                            \n",
       "12th Ave & E Denny Way                                                 117   \n",
       "12th Ave & E Mercer St                                                 199   \n",
       "12th Ave & E Yesler Way                                                 24   \n",
       "12th Ave & NE Campus Pkwy                                               14   \n",
       "15th Ave E & E Thomas St                                               107   \n",
       "...                                                                    ...   \n",
       "UW Intramural Activities Building                                        8   \n",
       "UW Magnuson Health Sciences Center Rotunda / Co...                       3   \n",
       "UW McCarty Hall / Whitman Ct                                             1   \n",
       "Union St & 4th Ave                                                       7   \n",
       "Westlake Ave & 6th Ave                                                  12   \n",
       "\n",
       "to_station_name                                     12th Ave & E Yesler Way  \\\n",
       "from_station_name                                                             \n",
       "12th Ave & E Denny Way                                                   55   \n",
       "12th Ave & E Mercer St                                                   32   \n",
       "12th Ave & E Yesler Way                                                  44   \n",
       "12th Ave & NE Campus Pkwy                                                 4   \n",
       "15th Ave E & E Thomas St                                                 27   \n",
       "...                                                                     ...   \n",
       "UW Intramural Activities Building                                         2   \n",
       "UW Magnuson Health Sciences Center Rotunda / Co...                        0   \n",
       "UW McCarty Hall / Whitman Ct                                              0   \n",
       "Union St & 4th Ave                                                       16   \n",
       "Westlake Ave & 6th Ave                                                    4   \n",
       "\n",
       "to_station_name                                     12th Ave & NE Campus Pkwy  \\\n",
       "from_station_name                                                               \n",
       "12th Ave & E Denny Way                                                     15   \n",
       "12th Ave & E Mercer St                                                     64   \n",
       "12th Ave & E Yesler Way                                                     6   \n",
       "12th Ave & NE Campus Pkwy                                                 655   \n",
       "15th Ave E & E Thomas St                                                  183   \n",
       "...                                                                       ...   \n",
       "UW Intramural Activities Building                                         150   \n",
       "UW Magnuson Health Sciences Center Rotunda / Co...                         78   \n",
       "UW McCarty Hall / Whitman Ct                                               26   \n",
       "Union St & 4th Ave                                                          2   \n",
       "Westlake Ave & 6th Ave                                                     15   \n",
       "\n",
       "to_station_name                                     15th Ave E & E Thomas St  \\\n",
       "from_station_name                                                              \n",
       "12th Ave & E Denny Way                                                    24   \n",
       "12th Ave & E Mercer St                                                    62   \n",
       "12th Ave & E Yesler Way                                                    6   \n",
       "12th Ave & NE Campus Pkwy                                                 17   \n",
       "15th Ave E & E Thomas St                                                 166   \n",
       "...                                                                      ...   \n",
       "UW Intramural Activities Building                                          7   \n",
       "UW Magnuson Health Sciences Center Rotunda / Co...                        12   \n",
       "UW McCarty Hall / Whitman Ct                                               0   \n",
       "Union St & 4th Ave                                                         3   \n",
       "Westlake Ave & 6th Ave                                                     9   \n",
       "\n",
       "to_station_name                                     15th Ave NE & NE 40th St  \\\n",
       "from_station_name                                                              \n",
       "12th Ave & E Denny Way                                                     4   \n",
       "12th Ave & E Mercer St                                                    14   \n",
       "12th Ave & E Yesler Way                                                    0   \n",
       "12th Ave & NE Campus Pkwy                                                 85   \n",
       "15th Ave E & E Thomas St                                                  26   \n",
       "...                                                                      ...   \n",
       "UW Intramural Activities Building                                        147   \n",
       "UW Magnuson Health Sciences Center Rotunda / Co...                        60   \n",
       "UW McCarty Hall / Whitman Ct                                              92   \n",
       "Union St & 4th Ave                                                        10   \n",
       "Westlake Ave & 6th Ave                                                    11   \n",
       "\n",
       "to_station_name                                     1st Ave & Marion St  \\\n",
       "from_station_name                                                         \n",
       "12th Ave & E Denny Way                                              166   \n",
       "12th Ave & E Mercer St                                               99   \n",
       "12th Ave & E Yesler Way                                              12   \n",
       "12th Ave & NE Campus Pkwy                                             5   \n",
       "15th Ave E & E Thomas St                                             57   \n",
       "...                                                                 ...   \n",
       "UW Intramural Activities Building                                     3   \n",
       "UW Magnuson Health Sciences Center Rotunda / Co...                    2   \n",
       "UW McCarty Hall / Whitman Ct                                          0   \n",
       "Union St & 4th Ave                                                   67   \n",
       "Westlake Ave & 6th Ave                                              533   \n",
       "\n",
       "to_station_name                                     2nd Ave & Blanchard St  \\\n",
       "from_station_name                                                            \n",
       "12th Ave & E Denny Way                                                  25   \n",
       "12th Ave & E Mercer St                                                  62   \n",
       "12th Ave & E Yesler Way                                                  7   \n",
       "12th Ave & NE Campus Pkwy                                               16   \n",
       "15th Ave E & E Thomas St                                                88   \n",
       "...                                                                    ...   \n",
       "UW Intramural Activities Building                                        0   \n",
       "UW Magnuson Health Sciences Center Rotunda / Co...                       2   \n",
       "UW McCarty Hall / Whitman Ct                                             0   \n",
       "Union St & 4th Ave                                                      60   \n",
       "Westlake Ave & 6th Ave                                                 146   \n",
       "\n",
       "to_station_name                                     2nd Ave & Pine St  \\\n",
       "from_station_name                                                       \n",
       "12th Ave & E Denny Way                                            162   \n",
       "12th Ave & E Mercer St                                            296   \n",
       "12th Ave & E Yesler Way                                            13   \n",
       "12th Ave & NE Campus Pkwy                                          11   \n",
       "15th Ave E & E Thomas St                                          254   \n",
       "...                                                               ...   \n",
       "UW Intramural Activities Building                                   4   \n",
       "UW Magnuson Health Sciences Center Rotunda / Co...                 15   \n",
       "UW McCarty Hall / Whitman Ct                                        0   \n",
       "Union St & 4th Ave                                                 62   \n",
       "Westlake Ave & 6th Ave                                            225   \n",
       "\n",
       "to_station_name                                     2nd Ave & Spring St  ...  \\\n",
       "from_station_name                                                        ...   \n",
       "12th Ave & E Denny Way                                               58  ...   \n",
       "12th Ave & E Mercer St                                              215  ...   \n",
       "12th Ave & E Yesler Way                                              13  ...   \n",
       "12th Ave & NE Campus Pkwy                                            15  ...   \n",
       "15th Ave E & E Thomas St                                             87  ...   \n",
       "...                                                                 ...  ...   \n",
       "UW Intramural Activities Building                                     0  ...   \n",
       "UW Magnuson Health Sciences Center Rotunda / Co...                    0  ...   \n",
       "UW McCarty Hall / Whitman Ct                                          0  ...   \n",
       "Union St & 4th Ave                                                   30  ...   \n",
       "Westlake Ave & 6th Ave                                              238  ...   \n",
       "\n",
       "to_station_name                                     Summit Ave & E Denny Way  \\\n",
       "from_station_name                                                              \n",
       "12th Ave & E Denny Way                                                    75   \n",
       "12th Ave & E Mercer St                                                    81   \n",
       "12th Ave & E Yesler Way                                                    8   \n",
       "12th Ave & NE Campus Pkwy                                                  3   \n",
       "15th Ave E & E Thomas St                                                 216   \n",
       "...                                                                      ...   \n",
       "UW Intramural Activities Building                                          0   \n",
       "UW Magnuson Health Sciences Center Rotunda / Co...                         6   \n",
       "UW McCarty Hall / Whitman Ct                                               0   \n",
       "Union St & 4th Ave                                                        22   \n",
       "Westlake Ave & 6th Ave                                                    32   \n",
       "\n",
       "to_station_name                                     Summit Ave E & E Republican St  \\\n",
       "from_station_name                                                                    \n",
       "12th Ave & E Denny Way                                                          19   \n",
       "12th Ave & E Mercer St                                                          63   \n",
       "12th Ave & E Yesler Way                                                          2   \n",
       "12th Ave & NE Campus Pkwy                                                       11   \n",
       "15th Ave E & E Thomas St                                                       234   \n",
       "...                                                                            ...   \n",
       "UW Intramural Activities Building                                                4   \n",
       "UW Magnuson Health Sciences Center Rotunda / Co...                              12   \n",
       "UW McCarty Hall / Whitman Ct                                                     0   \n",
       "Union St & 4th Ave                                                              32   \n",
       "Westlake Ave & 6th Ave                                                          30   \n",
       "\n",
       "to_station_name                                     Terry Ave & Stewart St  \\\n",
       "from_station_name                                                            \n",
       "12th Ave & E Denny Way                                                  18   \n",
       "12th Ave & E Mercer St                                                  21   \n",
       "12th Ave & E Yesler Way                                                  3   \n",
       "12th Ave & NE Campus Pkwy                                                4   \n",
       "15th Ave E & E Thomas St                                                25   \n",
       "...                                                                    ...   \n",
       "UW Intramural Activities Building                                        0   \n",
       "UW Magnuson Health Sciences Center Rotunda / Co...                       1   \n",
       "UW McCarty Hall / Whitman Ct                                             0   \n",
       "Union St & 4th Ave                                                      29   \n",
       "Westlake Ave & 6th Ave                                                  63   \n",
       "\n",
       "to_station_name                                     Thomas St & 5th Ave N  \\\n",
       "from_station_name                                                           \n",
       "12th Ave & E Denny Way                                                  3   \n",
       "12th Ave & E Mercer St                                                  3   \n",
       "12th Ave & E Yesler Way                                                 0   \n",
       "12th Ave & NE Campus Pkwy                                               3   \n",
       "15th Ave E & E Thomas St                                                3   \n",
       "...                                                                   ...   \n",
       "UW Intramural Activities Building                                       0   \n",
       "UW Magnuson Health Sciences Center Rotunda / Co...                      0   \n",
       "UW McCarty Hall / Whitman Ct                                            0   \n",
       "Union St & 4th Ave                                                     20   \n",
       "Westlake Ave & 6th Ave                                                 24   \n",
       "\n",
       "to_station_name                                     UW Engineering Library / E Stevens Way NE & Jefferson Rd  \\\n",
       "from_station_name                                                                                              \n",
       "12th Ave & E Denny Way                                                                              0          \n",
       "12th Ave & E Mercer St                                                                              8          \n",
       "12th Ave & E Yesler Way                                                                             1          \n",
       "12th Ave & NE Campus Pkwy                                                                         504          \n",
       "15th Ave E & E Thomas St                                                                            2          \n",
       "...                                                                                               ...          \n",
       "UW Intramural Activities Building                                                                  43          \n",
       "UW Magnuson Health Sciences Center Rotunda / Co...                                                 30          \n",
       "UW McCarty Hall / Whitman Ct                                                                      198          \n",
       "Union St & 4th Ave                                                                                  1          \n",
       "Westlake Ave & 6th Ave                                                                              0          \n",
       "\n",
       "to_station_name                                     UW Intramural Activities Building  \\\n",
       "from_station_name                                                                       \n",
       "12th Ave & E Denny Way                                                              0   \n",
       "12th Ave & E Mercer St                                                             11   \n",
       "12th Ave & E Yesler Way                                                             0   \n",
       "12th Ave & NE Campus Pkwy                                                         120   \n",
       "15th Ave E & E Thomas St                                                           23   \n",
       "...                                                                               ...   \n",
       "UW Intramural Activities Building                                                 213   \n",
       "UW Magnuson Health Sciences Center Rotunda / Co...                                 78   \n",
       "UW McCarty Hall / Whitman Ct                                                       22   \n",
       "Union St & 4th Ave                                                                  0   \n",
       "Westlake Ave & 6th Ave                                                              3   \n",
       "\n",
       "to_station_name                                     UW Magnuson Health Sciences Center Rotunda / Columbia Rd & San Juan Rd  \\\n",
       "from_station_name                                                                                                            \n",
       "12th Ave & E Denny Way                                                                              9                        \n",
       "12th Ave & E Mercer St                                                                             14                        \n",
       "12th Ave & E Yesler Way                                                                             0                        \n",
       "12th Ave & NE Campus Pkwy                                                                         123                        \n",
       "15th Ave E & E Thomas St                                                                           22                        \n",
       "...                                                                                               ...                        \n",
       "UW Intramural Activities Building                                                                  77                        \n",
       "UW Magnuson Health Sciences Center Rotunda / Co...                                                215                        \n",
       "UW McCarty Hall / Whitman Ct                                                                        4                        \n",
       "Union St & 4th Ave                                                                                  2                        \n",
       "Westlake Ave & 6th Ave                                                                              2                        \n",
       "\n",
       "to_station_name                                     UW McCarty Hall / Whitman Ct  \\\n",
       "from_station_name                                                                  \n",
       "12th Ave & E Denny Way                                                         0   \n",
       "12th Ave & E Mercer St                                                         0   \n",
       "12th Ave & E Yesler Way                                                        0   \n",
       "12th Ave & NE Campus Pkwy                                                     37   \n",
       "15th Ave E & E Thomas St                                                       0   \n",
       "...                                                                          ...   \n",
       "UW Intramural Activities Building                                             35   \n",
       "UW Magnuson Health Sciences Center Rotunda / Co...                            12   \n",
       "UW McCarty Hall / Whitman Ct                                                  30   \n",
       "Union St & 4th Ave                                                             0   \n",
       "Westlake Ave & 6th Ave                                                         0   \n",
       "\n",
       "to_station_name                                     Union St & 4th Ave  \\\n",
       "from_station_name                                                        \n",
       "12th Ave & E Denny Way                                              11   \n",
       "12th Ave & E Mercer St                                              62   \n",
       "12th Ave & E Yesler Way                                             11   \n",
       "12th Ave & NE Campus Pkwy                                            0   \n",
       "15th Ave E & E Thomas St                                            67   \n",
       "...                                                                ...   \n",
       "UW Intramural Activities Building                                    0   \n",
       "UW Magnuson Health Sciences Center Rotunda / Co...                   0   \n",
       "UW McCarty Hall / Whitman Ct                                         0   \n",
       "Union St & 4th Ave                                                 131   \n",
       "Westlake Ave & 6th Ave                                              84   \n",
       "\n",
       "to_station_name                                     Westlake Ave & 6th Ave  \n",
       "from_station_name                                                           \n",
       "12th Ave & E Denny Way                                                  62  \n",
       "12th Ave & E Mercer St                                                 118  \n",
       "12th Ave & E Yesler Way                                                 10  \n",
       "12th Ave & NE Campus Pkwy                                               18  \n",
       "15th Ave E & E Thomas St                                               158  \n",
       "...                                                                    ...  \n",
       "UW Intramural Activities Building                                        1  \n",
       "UW Magnuson Health Sciences Center Rotunda / Co...                       4  \n",
       "UW McCarty Hall / Whitman Ct                                             0  \n",
       "Union St & 4th Ave                                                      78  \n",
       "Westlake Ave & 6th Ave                                                 379  \n",
       "\n",
       "[61 rows x 61 columns]"
      ]
     },
     "execution_count": 8,
     "metadata": {},
     "output_type": "execute_result"
    }
   ],
   "source": [
    "crosstab_df"
   ]
  },
  {
   "cell_type": "code",
   "execution_count": 9,
   "id": "31627fdf",
   "metadata": {},
   "outputs": [],
   "source": [
    "top_10_estacoes = df.groupby(['from_station_name', 'to_station_name']).size().to_frame().nlargest(10, 0).reset_index()"
   ]
  },
  {
   "cell_type": "code",
   "execution_count": 10,
   "id": "c8163ce3",
   "metadata": {},
   "outputs": [
    {
     "data": {
      "text/html": [
       "<div>\n",
       "<style scoped>\n",
       "    .dataframe tbody tr th:only-of-type {\n",
       "        vertical-align: middle;\n",
       "    }\n",
       "\n",
       "    .dataframe tbody tr th {\n",
       "        vertical-align: top;\n",
       "    }\n",
       "\n",
       "    .dataframe thead th {\n",
       "        text-align: right;\n",
       "    }\n",
       "</style>\n",
       "<table border=\"1\" class=\"dataframe\">\n",
       "  <thead>\n",
       "    <tr style=\"text-align: right;\">\n",
       "      <th></th>\n",
       "      <th>from_station_name</th>\n",
       "      <th>to_station_name</th>\n",
       "      <th>0</th>\n",
       "    </tr>\n",
       "  </thead>\n",
       "  <tbody>\n",
       "    <tr>\n",
       "      <th>0</th>\n",
       "      <td>Pier 69 / Alaskan Way &amp; Clay St</td>\n",
       "      <td>Pier 69 / Alaskan Way &amp; Clay St</td>\n",
       "      <td>4209</td>\n",
       "    </tr>\n",
       "    <tr>\n",
       "      <th>1</th>\n",
       "      <td>Pier 69 / Alaskan Way &amp; Clay St</td>\n",
       "      <td>Seattle Aquarium / Alaskan Way S &amp; Elliott Bay...</td>\n",
       "      <td>2291</td>\n",
       "    </tr>\n",
       "    <tr>\n",
       "      <th>2</th>\n",
       "      <td>Seattle Aquarium / Alaskan Way S &amp; Elliott Bay...</td>\n",
       "      <td>Pier 69 / Alaskan Way &amp; Clay St</td>\n",
       "      <td>1605</td>\n",
       "    </tr>\n",
       "    <tr>\n",
       "      <th>3</th>\n",
       "      <td>Seattle Aquarium / Alaskan Way S &amp; Elliott Bay...</td>\n",
       "      <td>Seattle Aquarium / Alaskan Way S &amp; Elliott Bay...</td>\n",
       "      <td>1150</td>\n",
       "    </tr>\n",
       "    <tr>\n",
       "      <th>4</th>\n",
       "      <td>3rd Ave &amp; Broad St</td>\n",
       "      <td>2nd Ave &amp; Pine St</td>\n",
       "      <td>1101</td>\n",
       "    </tr>\n",
       "    <tr>\n",
       "      <th>5</th>\n",
       "      <td>2nd Ave &amp; Pine St</td>\n",
       "      <td>3rd Ave &amp; Broad St</td>\n",
       "      <td>962</td>\n",
       "    </tr>\n",
       "    <tr>\n",
       "      <th>6</th>\n",
       "      <td>Pier 69 / Alaskan Way &amp; Clay St</td>\n",
       "      <td>King Street Station Plaza / 2nd Ave Extension ...</td>\n",
       "      <td>962</td>\n",
       "    </tr>\n",
       "    <tr>\n",
       "      <th>7</th>\n",
       "      <td>Lake Union Park / Valley St &amp; Boren Ave N</td>\n",
       "      <td>Lake Union Park / Valley St &amp; Boren Ave N</td>\n",
       "      <td>960</td>\n",
       "    </tr>\n",
       "    <tr>\n",
       "      <th>8</th>\n",
       "      <td>E Pine St &amp; 16th Ave</td>\n",
       "      <td>Pine St &amp; 9th Ave</td>\n",
       "      <td>934</td>\n",
       "    </tr>\n",
       "    <tr>\n",
       "      <th>9</th>\n",
       "      <td>Burke-Gilman Trail / NE Blakeley St &amp; 24th Ave NE</td>\n",
       "      <td>Burke-Gilman Trail / NE Blakeley St &amp; 24th Ave NE</td>\n",
       "      <td>880</td>\n",
       "    </tr>\n",
       "  </tbody>\n",
       "</table>\n",
       "</div>"
      ],
      "text/plain": [
       "                                   from_station_name  \\\n",
       "0                    Pier 69 / Alaskan Way & Clay St   \n",
       "1                    Pier 69 / Alaskan Way & Clay St   \n",
       "2  Seattle Aquarium / Alaskan Way S & Elliott Bay...   \n",
       "3  Seattle Aquarium / Alaskan Way S & Elliott Bay...   \n",
       "4                                 3rd Ave & Broad St   \n",
       "5                                  2nd Ave & Pine St   \n",
       "6                    Pier 69 / Alaskan Way & Clay St   \n",
       "7          Lake Union Park / Valley St & Boren Ave N   \n",
       "8                               E Pine St & 16th Ave   \n",
       "9  Burke-Gilman Trail / NE Blakeley St & 24th Ave NE   \n",
       "\n",
       "                                     to_station_name     0  \n",
       "0                    Pier 69 / Alaskan Way & Clay St  4209  \n",
       "1  Seattle Aquarium / Alaskan Way S & Elliott Bay...  2291  \n",
       "2                    Pier 69 / Alaskan Way & Clay St  1605  \n",
       "3  Seattle Aquarium / Alaskan Way S & Elliott Bay...  1150  \n",
       "4                                  2nd Ave & Pine St  1101  \n",
       "5                                 3rd Ave & Broad St   962  \n",
       "6  King Street Station Plaza / 2nd Ave Extension ...   962  \n",
       "7          Lake Union Park / Valley St & Boren Ave N   960  \n",
       "8                                  Pine St & 9th Ave   934  \n",
       "9  Burke-Gilman Trail / NE Blakeley St & 24th Ave NE   880  "
      ]
     },
     "execution_count": 10,
     "metadata": {},
     "output_type": "execute_result"
    }
   ],
   "source": [
    "top_10_estacoes"
   ]
  },
  {
   "cell_type": "code",
   "execution_count": 11,
   "id": "a24fb0ca",
   "metadata": {},
   "outputs": [],
   "source": [
    "from_station_mask = top_10_estacoes['from_station_name'].unique()\n",
    "to_station_mask = top_10_estacoes['to_station_name'].unique()"
   ]
  },
  {
   "cell_type": "code",
   "execution_count": 12,
   "id": "29bbd1a5",
   "metadata": {},
   "outputs": [
    {
     "data": {
      "text/plain": [
       "{'2nd Ave & Pine St',\n",
       " '3rd Ave & Broad St',\n",
       " 'Burke-Gilman Trail / NE Blakeley St & 24th Ave NE',\n",
       " 'E Pine St & 16th Ave',\n",
       " 'Lake Union Park / Valley St & Boren Ave N',\n",
       " 'Pier 69 / Alaskan Way & Clay St',\n",
       " 'Seattle Aquarium / Alaskan Way S & Elliott Bay Trail'}"
      ]
     },
     "execution_count": 12,
     "metadata": {},
     "output_type": "execute_result"
    }
   ],
   "source": [
    "set(from_station_mask)"
   ]
  },
  {
   "cell_type": "code",
   "execution_count": 13,
   "id": "231bdb43",
   "metadata": {},
   "outputs": [
    {
     "data": {
      "text/plain": [
       "array(['Pier 69 / Alaskan Way & Clay St',\n",
       "       'Seattle Aquarium / Alaskan Way S & Elliott Bay Trail',\n",
       "       '2nd Ave & Pine St', '3rd Ave & Broad St',\n",
       "       'King Street Station Plaza / 2nd Ave Extension S & S Jackson St',\n",
       "       'Lake Union Park / Valley St & Boren Ave N', 'Pine St & 9th Ave',\n",
       "       'Burke-Gilman Trail / NE Blakeley St & 24th Ave NE'], dtype=object)"
      ]
     },
     "execution_count": 13,
     "metadata": {},
     "output_type": "execute_result"
    }
   ],
   "source": [
    "to_station_mask"
   ]
  },
  {
   "cell_type": "code",
   "execution_count": 14,
   "id": "e92d1b82",
   "metadata": {},
   "outputs": [
    {
     "data": {
      "text/plain": [
       "['Pier 69 / Alaskan Way & Clay St',\n",
       " 'Seattle Aquarium / Alaskan Way S & Elliott Bay Trail',\n",
       " '2nd Ave & Pine St',\n",
       " '3rd Ave & Broad St',\n",
       " 'King Street Station Plaza / 2nd Ave Extension S & S Jackson St',\n",
       " 'Lake Union Park / Valley St & Boren Ave N',\n",
       " 'Pine St & 9th Ave',\n",
       " 'Burke-Gilman Trail / NE Blakeley St & 24th Ave NE',\n",
       " 'Pier 69 / Alaskan Way & Clay St',\n",
       " 'Seattle Aquarium / Alaskan Way S & Elliott Bay Trail',\n",
       " '3rd Ave & Broad St',\n",
       " '2nd Ave & Pine St',\n",
       " 'Lake Union Park / Valley St & Boren Ave N',\n",
       " 'E Pine St & 16th Ave',\n",
       " 'Burke-Gilman Trail / NE Blakeley St & 24th Ave NE']"
      ]
     },
     "execution_count": 14,
     "metadata": {},
     "output_type": "execute_result"
    }
   ],
   "source": [
    "[*to_station_mask, *from_station_mask]"
   ]
  },
  {
   "cell_type": "code",
   "execution_count": 15,
   "id": "f2a58eaa",
   "metadata": {},
   "outputs": [],
   "source": [
    "union_stations = set([*from_station_mask, *to_station_mask])"
   ]
  },
  {
   "cell_type": "code",
   "execution_count": 16,
   "id": "f31e65d8",
   "metadata": {},
   "outputs": [
    {
     "data": {
      "text/plain": [
       "{'2nd Ave & Pine St',\n",
       " '3rd Ave & Broad St',\n",
       " 'Burke-Gilman Trail / NE Blakeley St & 24th Ave NE',\n",
       " 'E Pine St & 16th Ave',\n",
       " 'King Street Station Plaza / 2nd Ave Extension S & S Jackson St',\n",
       " 'Lake Union Park / Valley St & Boren Ave N',\n",
       " 'Pier 69 / Alaskan Way & Clay St',\n",
       " 'Pine St & 9th Ave',\n",
       " 'Seattle Aquarium / Alaskan Way S & Elliott Bay Trail'}"
      ]
     },
     "execution_count": 16,
     "metadata": {},
     "output_type": "execute_result"
    }
   ],
   "source": [
    "union_stations"
   ]
  },
  {
   "cell_type": "code",
   "execution_count": 17,
   "id": "b56a6852",
   "metadata": {},
   "outputs": [],
   "source": [
    "matrix_data = crosstab_df.loc[union_stations,union_stations]"
   ]
  },
  {
   "cell_type": "code",
   "execution_count": 18,
   "id": "114c284e",
   "metadata": {},
   "outputs": [],
   "source": [
    "matrix = matrix_data.copy()\n",
    "\n",
    "name_dict = {'Burke-Gilman Trail / NE Blakeley St & 24th Ave NE': 'Burke-Gilman Trail',\n",
    "                                 'King Street Station Plaza / 2nd Ave Extension S & S Jackson St': 'King Street Station Plaza',\n",
    "                                 'Lake Union Park / Valley St & Boren Ave N':'Lake Union Park',\n",
    "                                 'Pier 69 / Alaskan Way & Clay St':'Pier 69',\n",
    "                                 'Seattle Aquarium / Alaskan Way S & Elliott Bay Trail':'Seattle Aquarium'}\n",
    "\n",
    "matrix.rename(columns = name_dict, index = name_dict, inplace = True)"
   ]
  },
  {
   "cell_type": "code",
   "execution_count": 332,
   "id": "7cb36803",
   "metadata": {},
   "outputs": [],
   "source": [
    "#def get_spaced_colors(n, randomized=False):\n",
    "#    if n > 0:\n",
    "#        max_value = 255\n",
    "#        interval = max_value / n\n",
    "#        hues = np.arange(0, max_value, interval)\n",
    "#        return cl.to_rgb([\"hsl(%d,80%%,40%%)\" % i for i in hues])\n",
    "#    else:\n",
    "#        return None\n",
    "\n",
    "\n",
    "PI = np.pi\n",
    "\n",
    "\n",
    "def check_square(M):\n",
    "    d, n = M.shape\n",
    "    if d != n:\n",
    "        raise ValueError(\"Data array must be square.\")\n",
    "    return n\n",
    "\n",
    "\n",
    "def moduloAB(x, a, b):\n",
    "    if a >= b:\n",
    "        raise ValueError(\"Incorrect inverval ends\")\n",
    "    y = (x - a) % (b - a)\n",
    "    return y + b if y < 0 else y + a\n",
    "\n",
    "\n",
    "def test_2PI(x):\n",
    "    return 0 <= x < 2 * PI\n",
    "\n",
    "\n",
    "def get_ideogram_ends(ideaogram_len, gap):\n",
    "    ideo_ends = []\n",
    "    left = 0\n",
    "    for k in range(len(ideaogram_len)):\n",
    "        right = left + ideaogram_len[k]\n",
    "        ideo_ends.append([left, right])\n",
    "        left = right + gap\n",
    "    return ideo_ends\n",
    "\n",
    "\n",
    "def make_ideogram_arc(R, phi, a=50):\n",
    "    # R is the circle radius\n",
    "    # Phi is a list of the ends angle coordinates of an arc\n",
    "    # a is a parameter that controls the number of points to be evaluated\n",
    "    if not test_2PI(phi[0]) or not test_2PI(phi[1]):\n",
    "        phi = [moduloAB(t, 0, 2 * PI) for t in phi]\n",
    "    length = (phi[1] - phi[0]) % 2 * PI\n",
    "    nr = 5 if length <= PI / 4 else int(a * length / PI)\n",
    "    if phi[0] < phi[1]:\n",
    "        nr = 100\n",
    "\n",
    "        theta = np.linspace(phi[0], phi[1], nr)\n",
    "    else:\n",
    "        phi = [moduloAB(t, -PI, PI) for t in phi]\n",
    "        # nr = 100\n",
    "        theta = np.linspace(phi[0], phi[1], nr)\n",
    "    return R * np.exp(1j * theta)\n",
    "\n",
    "\n",
    "def map_data(data_matrix, row_value, ideogram_length):\n",
    "    n = data_matrix.shape[0]  # square, so same as 1\n",
    "    mapped = np.zeros([n, n])\n",
    "    for j in range(n):\n",
    "        mapped[:, j] = ideogram_length * data_matrix[:, j] / row_value\n",
    "    return mapped\n",
    "\n",
    "\n",
    "def make_ribbon_ends(mapped_data, ideo_ends, idx_sort):\n",
    "    n = mapped_data.shape[0]\n",
    "    ribbon_boundary = np.zeros((n, n + 1))\n",
    "    for k in range(n):\n",
    "        start = ideo_ends[k][0]\n",
    "        ribbon_boundary[k][0] = start\n",
    "        for j in range(1, n + 1):\n",
    "            J = idx_sort[k][j - 1]\n",
    "            ribbon_boundary[k][j] = start + mapped_data[k][J]\n",
    "            start = ribbon_boundary[k][j]\n",
    "    return [\n",
    "        [(ribbon_boundary[k][j], ribbon_boundary[k][j + 1]) for j in range(n)]\n",
    "        for k in range(n)\n",
    "    ]\n",
    "\n",
    "\n",
    "def control_pts(angle, radius):\n",
    "    if len(angle) != 3:\n",
    "        raise ValueError(\"Angle must have len = 3\")\n",
    "    b_cplx = np.array([np.exp(1j * angle[k]) for k in range(3)])\n",
    "    b_cplx[1] = radius * b_cplx[1]\n",
    "    return list(zip(b_cplx.real, b_cplx.imag))\n",
    "\n",
    "\n",
    "def ctrl_rib_chords(l, r, radius):\n",
    "    if len(l) != 2 or len(r) != 2:\n",
    "        raise ValueError(\"The arc ends must be elements in a list of len 2\")\n",
    "    return [control_pts([l[j], (l[j] + r[j]) / 2, r[j]], radius) for j in range(2)]\n",
    "\n",
    "\n",
    "def make_q_bezier(b):\n",
    "    if len(b) != 3:\n",
    "        raise ValueError(\"Contaol polygon must have 3 points\")\n",
    "    A, B, C = b\n",
    "    return (\n",
    "        \"M \"\n",
    "        + str(A[0])\n",
    "        + \",\"\n",
    "        + str(A[1])\n",
    "        + \" \"\n",
    "        + \"Q \"\n",
    "        + str(B[0])\n",
    "        + \", \"\n",
    "        + str(B[1])\n",
    "        + \" \"\n",
    "        + str(C[0])\n",
    "        + \", \"\n",
    "        + str(C[1])\n",
    "    )\n",
    "\n",
    "\n",
    "def make_ribbon_arc(theta0, theta1):\n",
    "    if test_2PI(theta0) and test_2PI(theta1):\n",
    "        if theta0 < theta1:\n",
    "            theta0 = moduloAB(theta0, -PI, PI)\n",
    "            theta1 = moduloAB(theta1, -PI, PI)\n",
    "            if theta0 * theta1 > 0:\n",
    "                raise ValueError(\"Incorrect angle coordinates for ribbon\")\n",
    "        nr = int(40 * (theta0 - theta1) / PI)\n",
    "        if nr <= 2:\n",
    "            nr = 3\n",
    "        theta = np.linspace(theta0, theta1, nr)\n",
    "        pts = np.exp(1j * theta)\n",
    "        string_arc = \"\"\n",
    "        for k in range(len(theta)):\n",
    "            string_arc += \"L \" + str(pts.real[k]) + \", \" + str(pts.imag[k]) + \" \"\n",
    "        return string_arc\n",
    "    else:\n",
    "        raise ValueError(\"The angle coords for arc ribbon must be [0, 2*PI]\")\n",
    "\n",
    "\n",
    "def make_layout(title):\n",
    "    xaxis = dict(\n",
    "        showline=False, zeroline=False, showgrid=False, showticklabels=False, title=\"Seatlle Bike Flow\"\n",
    "    )\n",
    "    yaxis = {**xaxis, \"scaleanchor\": \"x\"}\n",
    "    return dict(\n",
    "        title=title,\n",
    "        xaxis=xaxis,\n",
    "        yaxis=yaxis,\n",
    "        showlegend=False,\n",
    "        margin=dict(t=25, b=25, l=25, r=25),\n",
    "        hovermode=\"closest\",\n",
    "        shapes=[],\n",
    "    )\n",
    "\n",
    "\n",
    "def make_ideo_shape(path, line_color, fill_color):\n",
    "    return dict(\n",
    "        line=go.layout.shape.Line(color=line_color, width=0.45),\n",
    "        path=path,\n",
    "        type=\"path\",\n",
    "        fillcolor=fill_color,\n",
    "        layer=\"below\",\n",
    "    )\n",
    "\n",
    "\n",
    "def make_ribbon(l, r, line_color, fill_color, radius=0.2):\n",
    "    poligon = ctrl_rib_chords(l, r, radius)\n",
    "    b, c = poligon\n",
    "    return dict(\n",
    "        line=go.layout.shape.Line(color=line_color, width=0.5),\n",
    "        path=make_q_bezier(b)\n",
    "        + make_ribbon_arc(r[0], r[1])\n",
    "        + make_q_bezier(c[::-1])\n",
    "        + make_ribbon_arc(l[1], l[0]),\n",
    "        type=\"path\",\n",
    "        fillcolor=fill_color,\n",
    "        layer=\"below\",\n",
    "    )\n",
    "\n",
    "\n",
    "def make_self_rel(l, line_color, fill_color, radius):\n",
    "    b = control_pts([l[0], (l[0] + l[1]) / 2, l[1]], radius)\n",
    "    return dict(\n",
    "        line=dict(color=line_color, width=0.5),\n",
    "        path=make_q_bezier(b) + make_ribbon_arc(l[1], l[0]),\n",
    "        type=\"path\",\n",
    "        fillcolor=fill_color,\n",
    "        layer=\"below\",\n",
    "    )\n",
    "\n",
    "\n",
    "def invPerm(perm):\n",
    "    inv = [0] * len(perm)\n",
    "    for i, s in enumerate(perm):\n",
    "        inv[s] = i\n",
    "    return inv\n",
    "\n",
    "\n",
    "def make_filled_chord(M):  # ,labels):\n",
    "\n",
    "    n = M.shape[0]\n",
    "    labels = list(M.columns)\n",
    "    M = M.T\n",
    "    matrix = M.to_numpy()\n",
    "    n = M.shape[0]\n",
    "    row_sum = [np.sum(matrix[k, :]) for k in range(n)]\n",
    "    gap = 2 * PI * 10e-8\n",
    "\n",
    "    ideogram_length = 2 * PI * np.asarray(row_sum) / sum(row_sum) - gap * np.ones(n)\n",
    "    ideo_colors=['rgba(213,62,79,0.75)',\n",
    "             'rgba(244,109,67,0.75)',\n",
    "             'rgba(253,174,97,0.75)',\n",
    "             'rgba(254,224,139,0.75)',\n",
    "             'rgba(255,255,191,0.75)',\n",
    "             'rgba(230,245,152,0.75)',\n",
    "             'rgba(171,221,164,0.75)',\n",
    "             'rgba(102,194,165,0.75)',\n",
    "             'rgba(50,136,189,0.75)']\n",
    "    #ideo_colors = [\n",
    "    #    x[:3] + \"a\" + x[3:-1] + \",.75\" + x[-1] for x in get_spaced_colors(len(labels))\n",
    "    #]\n",
    "    mapped_data = map_data(matrix, row_sum, ideogram_length)\n",
    "    idx_sort = np.argsort(mapped_data, axis=1)\n",
    "    ideo_ends = get_ideogram_ends(ideogram_length, gap)\n",
    "    ribbon_ends = make_ribbon_ends(mapped_data, ideo_ends, idx_sort)\n",
    "    ribbon_color = [n * [ideo_colors[k]] for k in range(n)]\n",
    "    layout = make_layout(\" \")\n",
    "    ribbon_info = []\n",
    "    radii_sribb = [0.2] * n\n",
    "    for k in range(n):\n",
    "        sigma = idx_sort[k]\n",
    "        sigma_inv = invPerm(sigma)\n",
    "        for j in range(k, n):\n",
    "            if M.iloc[k, j] == 0 and M.iloc[j, k] == 0:\n",
    "                continue\n",
    "            eta = idx_sort[j]\n",
    "            eta_inv = invPerm(eta)\n",
    "            l = ribbon_ends[k][sigma_inv[j]]\n",
    "            if j == k:\n",
    "                layout[\"shapes\"].append(\n",
    "                    make_self_rel(\n",
    "                        l, \"rgb(175,175,175)\", ideo_colors[k], radius=radii_sribb[k]\n",
    "                    )\n",
    "                )\n",
    "                z = 0.9 * np.exp(1j * (l[0] + l[1]) / 2)\n",
    "                text = (\n",
    "                    labels[k]\n",
    "                    + \" \\u2b8c \"\n",
    "                    #+ labels[k]\n",
    "                    + \": {0} viagens \".format(M.iloc[k, k])\n",
    "                )\n",
    "                ribbon_info.append(\n",
    "                    go.Scatter(\n",
    "                        x=[z.real],\n",
    "                        y=[z.imag],\n",
    "                        mode=\"markers\",\n",
    "                        text=text,\n",
    "                        hoverinfo=\"text\",\n",
    "                        marker=dict(size=0.5, color=ideo_colors[k]),\n",
    "                    )\n",
    "                )\n",
    "            else:\n",
    "                r = ribbon_ends[j][eta_inv[k]]\n",
    "                zi = 0.9 * np.exp(1j * (l[0] + l[1]) / 2)\n",
    "                zf = 0.9 * np.exp(1j * (r[0] + r[1]) / 2)\n",
    "\n",
    "                texti = (\n",
    "                    labels[k]\n",
    "                    + \" \\u2794 \"\n",
    "                    + labels[j]\n",
    "                    + \": {0} viagens \".format(matrix[k][j])\n",
    "                )\n",
    "                textf = (\n",
    "                    labels[j]\n",
    "                    + \" \\u2794 \"\n",
    "                    + labels[k]\n",
    "                    +\": {0} viagens \".format(matrix[j][k])\n",
    "                )\n",
    "\n",
    "                ribbon_info.append(\n",
    "                    go.Scatter(\n",
    "                        x=[zi.real],\n",
    "                        y=[zi.imag],\n",
    "                        mode=\"markers\",\n",
    "                        text=texti,\n",
    "                        hoverinfo=\"text\",\n",
    "                        marker=dict(size=0.5, color=ribbon_color[k][j]),\n",
    "                    )\n",
    "                )\n",
    "                ribbon_info.append(\n",
    "                    go.Scatter(\n",
    "                        x=[zf.real],\n",
    "                        y=[zf.imag],\n",
    "                        mode=\"markers\",\n",
    "                        text=textf,\n",
    "                        hoverinfo=\"text\",\n",
    "                        marker=dict(size=0.5, color=ribbon_color[j][k]),\n",
    "                    )\n",
    "                )\n",
    "                r = (r[1], r[0])\n",
    "                if matrix[k][j] > matrix[j][k]:\n",
    "                    color_of_highest = ribbon_color[k][j]\n",
    "                else:\n",
    "                    color_of_highest = ribbon_color[j][k]\n",
    "                layout[\"shapes\"].append(\n",
    "                    make_ribbon(l, r, \"rgb(175, 175, 175)\", color_of_highest)\n",
    "                )\n",
    "    ideograms = []\n",
    "    for k in range(len(ideo_ends)):\n",
    "        z = make_ideogram_arc(1.1, ideo_ends[k])\n",
    "        zi = make_ideogram_arc(1.0, ideo_ends[k])\n",
    "        m = len(z)\n",
    "        n = len(zi)\n",
    "        ideograms.append(\n",
    "            go.Scatter(\n",
    "                x=z.real,\n",
    "                y=z.imag,\n",
    "                mode=\"lines\",\n",
    "                line=dict(color=ideo_colors[k], shape=\"spline\", width=0.25),\n",
    "                text=labels[k] + \"<br>\" + \"{0} partidas\".format(row_sum[k]),\n",
    "                hoverinfo=\"text\",\n",
    "            )\n",
    "        )\n",
    "        path = \"M \"\n",
    "        for s in range(m):\n",
    "            path += str(z.real[s]) + \", \" + str(z.imag[s]) + \" L \"\n",
    "        Zi = np.array(zi.tolist()[::-1])\n",
    "        for s in range(m):\n",
    "            path += str(Zi.real[s]) + \", \" + str(Zi.imag[s]) + \" L \"\n",
    "        path += str(z.real[0]) + \" ,\" + str(z.imag[0])\n",
    "        layout[\"shapes\"].append(\n",
    "            make_ideo_shape(path, \"rgb(150,150,150)\", ideo_colors[k])\n",
    "        )\n",
    "\n",
    "    layout[\"paper_bgcolor\"] = \"rgba(0,0,0,0)\"\n",
    "    layout[\"plot_bgcolor\"] = \"rgba(0,0,0,0)\"\n",
    "    layout[\"width\"] = 625\n",
    "    layout[\"height\"] = 625\n",
    "    data = ideograms + ribbon_info\n",
    "    fig = {\"data\": data, \"layout\": layout}\n",
    "    return fig"
   ]
  },
  {
   "cell_type": "code",
   "execution_count": 333,
   "id": "daf5c106",
   "metadata": {},
   "outputs": [],
   "source": [
    "chord = make_filled_chord(matrix)"
   ]
  },
  {
   "cell_type": "code",
   "execution_count": 334,
   "id": "12a25331",
   "metadata": {
    "scrolled": true
   },
   "outputs": [
    {
     "data": {
      "text/html": [
       "        <script type=\"text/javascript\">\n",
       "        window.PlotlyConfig = {MathJaxConfig: 'local'};\n",
       "        if (window.MathJax) {MathJax.Hub.Config({SVG: {font: \"STIX-Web\"}});}\n",
       "        if (typeof require !== 'undefined') {\n",
       "        require.undef(\"plotly\");\n",
       "        requirejs.config({\n",
       "            paths: {\n",
       "                'plotly': ['https://cdn.plot.ly/plotly-2.6.3.min']\n",
       "            }\n",
       "        });\n",
       "        require(['plotly'], function(Plotly) {\n",
       "            window._Plotly = Plotly;\n",
       "        });\n",
       "        }\n",
       "        </script>\n",
       "        "
      ]
     },
     "metadata": {},
     "output_type": "display_data"
    },
    {
     "data": {
      "application/vnd.plotly.v1+json": {
       "config": {
        "linkText": "Export to plot.ly",
        "plotlyServerURL": "https://plot.ly",
        "showLink": false
       },
       "data": [
        {
         "hoverinfo": "text",
         "line": {
          "color": "rgba(213,62,79,0.75)",
          "shape": "spline",
          "width": 0.25
         },
         "mode": "lines",
         "text": "Pier 69<br>7898 partidas",
         "type": "scatter",
         "x": [
          1.1,
          1.0997924295096861,
          1.0991697963760323,
          1.0981323355813382,
          1.0966804386642328,
          1.0948146535719068,
          1.0925356844533176,
          1.089844391393442,
          1.08674179008868,
          1.0832290514635299,
          1.0793075012286806,
          1.0749786193806865,
          1.0702440396434163,
          1.0651055488514836,
          1.059565086275894,
          1.0536247428921628,
          1.0472867605911789,
          1.0405535313331127,
          1.0334275962446886,
          1.0259116446601617,
          1.0180085131063608,
          1.009721184232179,
          1.0010527856829217,
          0.9920065889199293,
          0.9825860079859244,
          0.97279459821655,
          0.9626360548985818,
          0.9521142118753242,
          0.941233040099714,
          0.9299966461356797,
          0.9184092706083204,
          0.9064752866034901,
          0.8941991980173911,
          0.8815856378567997,
          0.8686393664905652,
          0.8553652698530424,
          0.8417683576001364,
          0.8278537612186522,
          0.8136267320896691,
          0.7990926395066633,
          0.7842569686491329,
          0.7691253185124847,
          0.7537033997949703,
          0.7379970327424615,
          0.7220121449518863,
          0.7057547691341468,
          0.68923104083737,
          0.6724471961313454,
          0.6554095692540276,
          0.6381245902209889,
          0.6205987823987253,
          0.6028387600427334,
          0.5848512258012825,
          0.566642968185831,
          0.5482208590090354,
          0.5295918507913218,
          0.510762974136999,
          0.4917413350809021,
          0.4725341124065681,
          0.45314855493695694,
          0.4335919787987399,
          0.4138717646611857,
          0.39399535495068994,
          0.3739702510419966,
          0.3538040104271733,
          0.33350424386340555,
          0.3130786125006912,
          0.292534824990516,
          0.27188063457660044,
          0.2511238361688195,
          0.23027226340139637,
          0.20933378567648267,
          0.18831630519423778,
          0.16722775397053238,
          0.1460760908433981,
          0.12486929846935582,
          0.10361538031075274,
          0.08232235761524934,
          0.06099826638859297,
          0.03965115436182306,
          0.01828907795404878,
          -0.0030799007680499453,
          -0.024447717132852893,
          -0.04580630690741525,
          -0.06714760934091535,
          -0.08846357020678967,
          -0.10974614484240423,
          -0.13098730118511875,
          -0.15217902280359347,
          -0.1733133119231978,
          -0.1943821924443767,
          -0.2153777129528393,
          -0.23629194972042858,
          -0.257117009695544,
          -0.2778450334819855,
          -0.29846819830509763,
          -0.3189787209640912,
          -0.3393688607694295,
          -0.35963092246417294,
          -0.3797572591281749
         ],
         "y": [
          0,
          0.021368481302664256,
          0.042728898121435314,
          0.0640731890159634,
          0.08539329863183687,
          0.10668118074068028,
          0.12792880127680803,
          0.14912814136928795,
          0.17027120036827034,
          0.19134999886444037,
          0.2123565817004543,
          0.2332830209732228,
          0.2541214190259089,
          0.27486391142851047,
          0.29550266994590324,
          0.3160299054922237,
          0.33643787107047707,
          0.35671886469626085,
          0.37686523230450053,
          0.3968693706381006,
          0.4167237301174208,
          0.43642081768949387,
          0.4559531996559105,
          0.47531350447830384,
          0.4944944255603747,
          0.513488724005407,
          0.5322892313482349,
          0.5508888522606267,
          0.5692805672290691,
          0.5874574352039368,
          0.6054125962190522,
          0.6231392739806412,
          0.6406307784247138,
          0.6578805082418995,
          0.6748819533687872,
          0.6916286974448299,
          0.7081144202338837,
          0.7243329000094716,
          0.7402780159028675,
          0.7559437502131187,
          0.7713241906781307,
          0.7864135327059607,
          0.8012060815654756,
          0.8156962545355486,
          0.8298785830119828,
          0.8437477145713684,
          0.8572984149910905,
          0.8705255702247305,
          0.8834241883321117,
          0.8959894013632612,
          0.9082164671955799,
          0.920100771323522,
          0.9316378286001152,
          0.9428232849296582,
          0.9536529189109607,
          0.9641226434305039,
          0.9742285072049203,
          0.9839666962722123,
          0.9933335354311447,
          1.0023254896282683,
          1.0109391652920532,
          1.0191713116136247,
          1.0270188217736227,
          1.0344787341147164,
          1.0415482332593382,
          1.0482246511722086,
          1.0545054681672552,
          1.060388313858545,
          1.06587096805487,
          1.070951361597648,
          1.0756275771418276,
          1.0798978498794933,
          1.0837605682059073,
          1.0872142743277295,
          1.0902576648131905,
          1.0928895910840084,
          1.095109059848862,
          1.0969152334782608,
          1.0983074303206668,
          1.0992851249597508,
          1.0998479484126844,
          1.0999956882693946,
          1.0997282887727278,
          1.0990458508394925,
          1.0979486320223728,
          1.0964370464127289,
          1.094511664484317,
          1.0921732128779935,
          1.0894225741274794,
          1.0862607863262912,
          1.0826890427359637,
          1.078708691335712,
          1.0743212343137032,
          1.0695283275001284,
          1.064331779742292,
          1.0587335522219503,
          1.0527357577151601,
          1.0463406597949159,
          1.039550671976873,
          1.0323683568084874
         ]
        },
        {
         "hoverinfo": "text",
         "line": {
          "color": "rgba(244,109,67,0.75)",
          "shape": "spline",
          "width": 0.25
         },
         "mode": "lines",
         "text": "E Pine St & 16th Ave<br>439 partidas",
         "type": "scatter",
         "x": [
          -0.37975790778426904,
          -0.38087246279216647,
          -0.381986573694644,
          -0.38310023919262515,
          -0.3842134579875517,
          -0.38532622878138717,
          -0.3864385502766168,
          -0.3875504211762498,
          -0.3886618401838216,
          -0.38977280600339315,
          -0.39088331733955534,
          -0.39199337289742764,
          -0.39310297138266204,
          -0.39421211150144286,
          -0.39532079196048886,
          -0.3964290114670553,
          -0.3975367687289341,
          -0.3986440624544573,
          -0.3997508913524965,
          -0.4008572541324652,
          -0.4019631495043214,
          -0.40306857617856695,
          -0.40417353286625135,
          -0.4052780182789709,
          -0.4063820311288726,
          -0.4074855701286536,
          -0.40858863399156375,
          -0.40969122143140746,
          -0.41079333116254374,
          -0.4118949618998896,
          -0.4129961123589199,
          -0.41409678125566945,
          -0.41519696730673533,
          -0.4162966692292766,
          -0.4173958857410178,
          -0.4184946155602487,
          -0.4195928574058272,
          -0.4206906099971796,
          -0.42178787205430285,
          -0.42288464229776646,
          -0.42398091944871236,
          -0.42507670222885846,
          -0.42617198936049844,
          -0.427266779566504,
          -0.4283610715703267,
          -0.4294548640959983,
          -0.4305481558681339,
          -0.4316409456119317,
          -0.43273323205317527,
          -0.4338250139182358,
          -0.4349162899340719,
          -0.43600705882823276,
          -0.43709731932885837,
          -0.438187070164682,
          -0.43927631006503065,
          -0.4403650377598273,
          -0.44145325197959256,
          -0.442540951455445,
          -0.44362813491910424,
          -0.44471480110289097,
          -0.445800948739729,
          -0.4468865765631474,
          -0.44797168330728065,
          -0.4490562677068714,
          -0.4501403284972708,
          -0.4512238644144412,
          -0.4523068741949564,
          -0.45338935657600365,
          -0.45447131029538584,
          -0.4555527340915214,
          -0.4566336267034476,
          -0.45771398687082027,
          -0.45879381333391644,
          -0.459873104833635,
          -0.4609518601114999,
          -0.462030077909659,
          -0.4631077569708873,
          -0.46418489603858815,
          -0.46526149385679383,
          -0.4663375491701693,
          -0.46741306072401057,
          -0.46848802726424826,
          -0.4695624475374484,
          -0.47063632029081365,
          -0.4717096442721863,
          -0.47278241823004724,
          -0.47385464091351914,
          -0.47492631107236755,
          -0.4759974274570017,
          -0.47706798881847784,
          -0.4781379939084982,
          -0.479207441479414,
          -0.48027633028422617,
          -0.4813446590765884,
          -0.48241242661080597,
          -0.48347963164183927,
          -0.48454627292530444,
          -0.48561234921747454,
          -0.4866778592752826,
          -0.487742801856321
         ],
         "y": [
          1.0323681181997606,
          1.031957444416498,
          1.0315455673488334,
          1.0311324874770234,
          1.0307182052827282,
          1.0303027212490095,
          1.029886035860331,
          1.0294681496025564,
          1.02904906296295,
          1.0286287764301763,
          1.0282072904942976,
          1.0277846056467757,
          1.0273607223804704,
          1.0269356411896386,
          1.026509362569934,
          1.0260818870184063,
          1.0256532150335016,
          1.02522334711506,
          1.0247922837643173,
          1.024360025483902,
          1.0239265727778368,
          1.0234919261515367,
          1.0230560861118092,
          1.0226190531668526,
          1.022180827826257,
          1.0217414106010023,
          1.0213008020034589,
          1.020859002547385,
          1.0204160127479287,
          1.0199718331216254,
          1.019526464186398,
          1.0190799064615563,
          1.0186321604677961,
          1.0181832267271989,
          1.0177331057632306,
          1.0172817981007425,
          1.0168293042659684,
          1.0163756247865259,
          1.0159207601914153,
          1.015464711011018,
          1.0150074777770972,
          1.0145490610227967,
          1.01408946128264,
          1.0136286790925308,
          1.0131667149897503,
          1.0127035695129585,
          1.0122392432021934,
          1.011773736598869,
          1.0113070502457762,
          1.010839184687081,
          1.010370140468325,
          1.0098999181364232,
          1.0094285182396654,
          1.0089559413277134,
          1.0084821879516024,
          1.008007258663739,
          1.0075311540179006,
          1.0070538745692357,
          1.0065754208742619,
          1.0060957934908665,
          1.0056149929783056,
          1.0051330198972026,
          1.0046498748095485,
          1.0041655582787008,
          1.003680070869383,
          1.0031934131476832,
          1.0027055856810552,
          1.0022165890383163,
          1.0017264237896468,
          1.00123509050659,
          1.000742589762051,
          1.000248922130296,
          0.999754088186952,
          0.9992580885090061,
          0.9987609236748044,
          0.9982625942640516,
          0.9977631008578107,
          0.9972624440385015,
          0.9967606243899008,
          0.9962576424971404,
          0.9957534989467085,
          0.995248194326447,
          0.9947417292255519,
          0.9942341042345726,
          0.99372531994541,
          0.9932153769513181,
          0.9927042758469009,
          0.9921920172281135,
          0.9916786016922603,
          0.9911640298379946,
          0.9906483022653181,
          0.9901314195755805,
          0.989613382371478,
          0.9890941912570527,
          0.9885738468376928,
          0.9880523497201308,
          0.9875297005124436,
          0.9870058998240516,
          0.9864809482657171,
          0.985954846449545
         ]
        },
        {
         "hoverinfo": "text",
         "line": {
          "color": "rgba(253,174,97,0.75)",
          "shape": "spline",
          "width": 0.25
         },
         "mode": "lines",
         "text": "Seattle Aquarium<br>4733 partidas",
         "type": "scatter",
         "x": [
          -0.48774342134992504,
          -0.49918859111138014,
          -0.5105661035378505,
          -0.5218744165825367,
          -0.5331119975775503,
          -0.544277323441644,
          -0.5553688808866429,
          -0.5663851666225459,
          -0.5773246875612749,
          -0.5881859610190384,
          -0.5989675149172877,
          -0.6096678879822348,
          -0.620285629942904,
          -0.6308193017276947,
          -0.6412674756594267,
          -0.6516287356488373,
          -0.6619016773865121,
          -0.672084908533218,
          -0.6821770489086116,
          -0.6921767306783025,
          -0.702082598539243,
          -0.7118933099034169,
          -0.7216075350798069,
          -0.7312239574546158,
          -0.7407412736697103,
          -0.7501581937992737,
          -0.7594734415246339,
          -0.7686857543072487,
          -0.7777938835598255,
          -0.786796594815545,
          -0.7956926678953767,
          -0.8044808970734547,
          -0.8131600912404949,
          -0.8217290740652312,
          -0.8301866841538507,
          -0.8385317752074007,
          -0.8467632161771541,
          -0.8548798914179034,
          -0.862880700839171,
          -0.870764560054308,
          -0.8785304005274687,
          -0.8861771697184304,
          -0.8937038312252531,
          -0.9011093649247446,
          -0.9083927671107238,
          -0.9155530506300587,
          -0.9225892450164578,
          -0.9295003966220027,
          -0.9362855687464013,
          -0.9429438417639421,
          -0.9494743132481348,
          -0.9558760980940223,
          -0.962148328638141,
          -0.9682901547761206,
          -0.9743007440779017,
          -0.9801792819005596,
          -0.9859249714987164,
          -0.9915370341325275,
          -0.9970147091732279,
          -1.0023572542062238,
          -1.0075639451317153,
          -1.0126340762628365,
          -1.017566960421302,
          -1.0223619290305417,
          -1.0270183322063176,
          -1.0315355388448035,
          -1.035912936708124,
          -1.0401499325073313,
          -1.044245951982819,
          -1.0482004399821525,
          -1.0520128605353114,
          -1.0556826969273325,
          -1.0592094517683426,
          -1.0625926470609712,
          -1.0658318242651377,
          -1.0689265443601963,
          -1.071876387904442,
          -1.0746809550919565,
          -1.0773398658067976,
          -1.079852759674518,
          -1.0822192961110062,
          -1.0844391543686516,
          -1.0865120335798124,
          -1.0884376527975972,
          -1.090215751033941,
          -1.0918460872949782,
          -1.0933284406137067,
          -1.0946626100799361,
          -1.0958484148675172,
          -1.0968856942588512,
          -1.0977743076666722,
          -1.098514134653101,
          -1.0991050749459705,
          -1.099547048452413,
          -1.0998399952697187,
          -1.0999838756934524,
          -1.0999786702228358,
          -1.0998243795633904,
          -1.099521024626842,
          -1.099068646528286
         ],
         "y": [
          0.9859545399915098,
          0.980209544181363,
          0.9743316960451287,
          0.968321792234708,
          0.962180647300118,
          0.9559090935790915,
          0.9495079810842655,
          0.9429781773879771,
          0.936320567504675,
          0.9295360537709714,
          0.9226255557233438,
          0.9155900099735041,
          0.9084303700814581,
          0.9011476064262636,
          0.8937427060745093,
          0.8862166726465363,
          0.8785705261804096,
          0.8708053029936693,
          0.8629220555428734,
          0.8549218522809537,
          0.8468057775124024,
          0.8385749312463127,
          0.8302304290472889,
          0.8217734018842484,
          0.8132049959771371,
          0.8045263726415757,
          0.7957387081314624,
          0.7868431934795498,
          0.7778410343360171,
          0.768733450805065,
          0.7595216772795481,
          0.7502069622736712,
          0.7407905682537744,
          0.7312737714672242,
          0.7216578617694361,
          0.7119441424490585,
          0.7021339300513274,
          0.6922285541996327,
          0.682229357415306,
          0.6721376949356639,
          0.6619549345303241,
          0.651682456315829,
          0.6413216525685879,
          0.6308739275361789,
          0.6203406972470229,
          0.6097233893184624,
          0.5990234427632717,
          0.5882423077946196,
          0.5773814456295143,
          0.5664423282907608,
          0.5554264384074483,
          0.5443352690140031,
          0.5331703233478323,
          0.5219331146455806,
          0.5106251659380365,
          0.4992480098437083,
          0.48780318836110087,
          0.4762922526597206,
          0.4647167628698409,
          0.4530782878710474,
          0.44137840507960296,
          0.4296187002346523,
          0.4178007671832981,
          0.40592620766458226,
          0.3939966310923918,
          0.38201365433733003,
          0.3699789015075736,
          0.3578940037287499,
          0.34576059892286154,
          0.33358033158629424,
          0.3213548525669273,
          0.30908581884038916,
          0.29677489328547885,
          0.28442374445878854,
          0.2720340463685548,
          0.25960747824777586,
          0.24714572432661358,
          0.23465047360412514,
          0.22212341961934395,
          0.20956626022174507,
          0.19698069734113094,
          0.18436843675695747,
          0.17173118786714495,
          0.15907066345639365,
          0.1463885794640432,
          0.13368665475150146,
          0.1209666108692826,
          0.10823017182367363,
          0.0954790638430752,
          0.08271501514403594,
          0.06993975569702039,
          0.057155016991936494,
          0.044362531803459816,
          0.03156403395618358,
          0.018761258089623933,
          0.005955939423117219,
          -0.006850186479364268,
          -0.019655383944437856,
          -0.03245791742455824,
          -0.04525605173324083
         ]
        },
        {
         "hoverinfo": "text",
         "line": {
          "color": "rgba(254,224,139,0.75)",
          "shape": "spline",
          "width": 0.25
         },
         "mode": "lines",
         "text": "3rd Ave & Broad St<br>3227 partidas",
         "type": "scatter",
         "x": [
          -1.099068618092853,
          -1.0986747677469457,
          -1.098211694991508,
          -1.09767942900261,
          -1.0970780033158665,
          -1.0964074558243253,
          -1.0956678287760788,
          -1.0948591687716025,
          -1.0939815267608182,
          -1.0930349580398853,
          -1.0920195222477156,
          -1.0909352833622161,
          -1.0897823096962584,
          -1.0885606738933742,
          -1.0872704529231783,
          -1.0859117280765196,
          -1.0844845849603588,
          -1.082989113492375,
          -1.0814254078953005,
          -1.0797935666909841,
          -1.0780936926941833,
          -1.0763258930060873,
          -1.0744902790075683,
          -1.0725869663521643,
          -1.070616074958792,
          -1.0685777290041918,
          -1.0664720569151034,
          -1.0642991913601743,
          -1.062059269241601,
          -1.0597524316865046,
          -1.0573788240380373,
          -1.054938595846225,
          -1.0524319008585463,
          -1.0498588970102452,
          -1.0472197464143793,
          -1.0445146153516067,
          -1.0417436742597088,
          -1.038907097722853,
          -1.0360050644605914,
          -1.0330377573166012,
          -1.0300053632471657,
          -1.0269080733093927,
          -1.023746082649179,
          -1.0205195904889137,
          -1.0172288001149274,
          -1.0138739188646828,
          -1.0104551581137124,
          -1.0069727332622995,
          -1.0034268637219086,
          -0.9998177729013599,
          -0.9961456881927527,
          -0.9924108409571409,
          -0.9886134665099542,
          -0.9847538041061717,
          -0.9808320969252492,
          -0.9768485920557957,
          -0.9728035404800067,
          -0.9686971970578513,
          -0.9645298205110129,
          -0.9603016734065901,
          -0.9560130221405531,
          -0.9516641369209587,
          -0.9472552917509269,
          -0.9427867644113753,
          -0.9382588364435196,
          -0.9336717931311342,
          -0.9290259234825765,
          -0.92432152021258,
          -0.9195588797238101,
          -0.9147383020881902,
          -0.9098600910279945,
          -0.9049245538967124,
          -0.8999320016596838,
          -0.8948827488745068,
          -0.8897771136712175,
          -0.8846154177322476,
          -0.8793979862721565,
          -0.8741251480171403,
          -0.868797235184321,
          -0.8634145834608138,
          -0.8579775319825791,
          -0.8524864233130535,
          -0.8469416034215663,
          -0.841343421661543,
          -0.8356922307484932,
          -0.8299883867377872,
          -0.8242322490022245,
          -0.8184241802093879,
          -0.8125645462987976,
          -0.8066537164588524,
          -0.800692063103569,
          -0.7946799618491192,
          -0.7886177914901632,
          -0.7825059339759832,
          -0.77634477438642,
          -0.770134700907608,
          -0.7638761048075211,
          -0.7575693804113185,
          -0.7512149250764991,
          -0.7448131391678688
         ],
         "y": [
          -0.04525674229842885,
          -0.05397920633165048,
          -0.06269826938503983,
          -0.07141338211080986,
          -0.0801239954100639,
          -0.08882956046739388,
          -0.09752952878545745,
          -0.10622335221953849,
          -0.11491048301208001,
          -0.12359037382719791,
          -0.132262477785165,
          -0.14092624849686944,
          -0.1495811400982371,
          -0.158226607284626,
          -0.16686210534518253,
          -0.17548709019716274,
          -0.1841010184202101,
          -0.1927033472905953,
          -0.2012935348154102,
          -0.20987103976671811,
          -0.21843532171565094,
          -0.22698584106646139,
          -0.2355220590905192,
          -0.2440434379602559,
          -0.25254944078304803,
          -0.2610395316350461,
          -0.2695131755949397,
          -0.2779698387776625,
          -0.28640898836802664,
          -0.2948300926542954,
          -0.30323262106168225,
          -0.31161604418578265,
          -0.3199798338259257,
          -0.32832346301845605,
          -0.3366464060699342,
          -0.3449481385902602,
          -0.3532281375257099,
          -0.3614858811918923,
          -0.36972084930661714,
          -0.3779325230226778,
          -0.3861203849605385,
          -0.3942839192409337,
          -0.4024226115173704,
          -0.41053594900853657,
          -0.4186234205306067,
          -0.4266845165294504,
          -0.43471872911273646,
          -0.4427255520819346,
          -0.45070448096420596,
          -0.4586550130441889,
          -0.4665766473956741,
          -0.474468884913163,
          -0.48233122834331593,
          -0.4901631823162811,
          -0.49796425337690536,
          -0.5057339500158261,
          -0.5134717827004365,
          -0.5211772639057297,
          -0.5288499081450176,
          -0.5364892320005155,
          -0.5440947541538022,
          -0.5516659954161456,
          -0.559202478758693,
          -0.5667037293425288,
          -0.5741692745485888,
          -0.5815986440074398,
          -0.5889913696289156,
          -0.5963469856316079,
          -0.6036650285722135,
          -0.610945037374734,
          -0.6181865533595257,
          -0.6253891202722001,
          -0.6325522843123682,
          -0.6396755941622336,
          -0.6467586010150292,
          -0.6538008586032915,
          -0.6608019232269805,
          -0.6677613537814334,
          -0.6746787117851577,
          -0.6815535614074579,
          -0.6883854694958942,
          -0.6951740056035738,
          -0.7019187420162725,
          -0.7086192537793813,
          -0.7152751187246817,
          -0.7218859174969446,
          -0.7284512335803511,
          -0.7349706533247374,
          -0.7414437659716545,
          -0.7478701636802484,
          -0.7542494415529589,
          -0.7605811976610272,
          -0.7668650330698211,
          -0.7731005518639695,
          -0.7792873611723078,
          -0.7854250711926308,
          -0.7915132952162517,
          -0.7975516496523666,
          -0.8035397540522249,
          -0.8094772311330968
         ]
        },
        {
         "hoverinfo": "text",
         "line": {
          "color": "rgba(255,255,191,0.75)",
          "shape": "spline",
          "width": 0.25
         },
         "mode": "lines",
         "text": "Pine St & 9th Ave<br>1614 partidas",
         "type": "scatter",
         "x": [
          -0.7448126305581774,
          -0.7415931161081852,
          -0.7383619133030922,
          -0.7351190730703477,
          -0.7318646465208204,
          -0.7285986849479917,
          -0.7253212398271494,
          -0.7220323628145741,
          -0.7187321057467266,
          -0.7154205206394302,
          -0.7120976596870513,
          -0.7087635752616761,
          -0.705418319912286,
          -0.7020619463639285,
          -0.6986945075168868,
          -0.695316056445846,
          -0.6919266463990564,
          -0.6885263307974941,
          -0.6851151632340193,
          -0.6816931974725315,
          -0.6782604874471224,
          -0.6748170872612251,
          -0.6713630511867622,
          -0.66789843366329,
          -0.6644232892971406,
          -0.6609376728605606,
          -0.6574416392908493,
          -0.6539352436894915,
          -0.6504185413212892,
          -0.6468915876134912,
          -0.643354438154919,
          -0.6398071486950909,
          -0.6362497751433429,
          -0.6326823735679482,
          -0.6291050001952327,
          -0.6255177114086897,
          -0.6219205637480902,
          -0.6183136139085932,
          -0.61469691873985,
          -0.6110705352451105,
          -0.6074345205803231,
          -0.6037889320532347,
          -0.6001338271224872,
          -0.5964692633967118,
          -0.5927952986336211,
          -0.5891119907390991,
          -0.5854193977662877,
          -0.5817175779146727,
          -0.5780065895291658,
          -0.5742864910991855,
          -0.5705573412577348,
          -0.5668191987804774,
          -0.563072122584811,
          -0.5593161717289401,
          -0.5555514054109414,
          -0.5517778829678357,
          -0.5479956638746494,
          -0.5442048077434785,
          -0.5404053743225482,
          -0.5365974234952717,
          -0.5327810152793063,
          -0.5289562098256074,
          -0.5251230674174805,
          -0.5212816484696308,
          -0.5174320135272115,
          -0.5135742232648691,
          -0.5097083384857874,
          -0.5058344201207291,
          -0.5019525292270749,
          -0.49806272698786236,
          -0.4941650747108204,
          -0.4902596338274037,
          -0.4863464658918242,
          -0.48242563258008103,
          -0.4784971956889885,
          -0.474561217135202,
          -0.4706177589542419,
          -0.46666688329951644,
          -0.4627086524413414,
          -0.4587431287659592,
          -0.4547703747745552,
          -0.4507904530822729,
          -0.446803426417227,
          -0.44280935761951457,
          -0.4388083096402249,
          -0.43480034554044705,
          -0.43078552849027596,
          -0.4267639217678172,
          -0.42273558875818895,
          -0.4187005929525237,
          -0.414658997946967,
          -0.41061086744167535,
          -0.4065562652398124,
          -0.4024952552465429,
          -0.3984279014680258,
          -0.39435426801040535,
          -0.39027441907880084,
          -0.38618841897629425,
          -0.3820963321029173,
          -0.3779982229546362
         ],
         "y": [
          -0.8094776991128342,
          -0.8124282430719355,
          -0.8153659822333753,
          -0.818290870295027,
          -0.8212028611573117,
          -0.824101908923925,
          -0.8269879679025609,
          -0.8298609926056312,
          -0.832720937750983,
          -0.835567758262612,
          -0.8384014092713732,
          -0.8412218461156882,
          -0.8440290243422486,
          -0.8468228997067172,
          -0.8496034281744249,
          -0.8523705659210653,
          -0.8551242693333848,
          -0.8578644950098704,
          -0.8605911997614334,
          -0.8633043406120904,
          -0.8660038747996409,
          -0.8686897597763406,
          -0.8713619532095723,
          -0.8740204129825138,
          -0.8766650971948002,
          -0.8792959641631859,
          -0.8819129724222005,
          -0.8845160807248026,
          -0.8871052480430305,
          -0.8896804335686478,
          -0.8922415967137872,
          -0.8947886971115907,
          -0.8973216946168446,
          -0.8998405493066133,
          -0.9023452214808678,
          -0.9048356716631122,
          -0.907311860601005,
          -0.9097737492669787,
          -0.912221298858854,
          -0.9146544708004518,
          -0.9170732267422015,
          -0.9194775285617449,
          -0.9218673383645376,
          -0.9242426184844456,
          -0.9266033314843392,
          -0.9289494401566836,
          -0.9312809075241246,
          -0.933597696840072,
          -0.9358997715892778,
          -0.9381870954884134,
          -0.9404596324866394,
          -0.9427173467661756,
          -0.9449602027428645,
          -0.9471881650667321,
          -0.9494011986225466,
          -0.9515992685303691,
          -0.9537823401461061,
          -0.9559503790620535,
          -0.95810335110744,
          -0.9602412223489659,
          -0.9623639590913367,
          -0.9644715278777949,
          -0.9665638954906481,
          -0.968641028951791,
          -0.9707028955232264,
          -0.9727494627075806,
          -0.9747806982486154,
          -0.9767965701317373,
          -0.9787970465845015,
          -0.9807820960771125,
          -0.9827516873229216,
          -0.9847057892789197,
          -0.9866443711462265,
          -0.9885674023705763,
          -0.9904748526427989,
          -0.9923666918992978,
          -0.9942428903225243,
          -0.9961034183414469,
          -0.9979482466320175,
          -0.9997773461176337,
          -1.001590687969597,
          -1.0033882436075676,
          -1.0051699847000137,
          -1.0069358831646598,
          -1.008685911168927,
          -1.0104200411303748,
          -1.0121382457171322,
          -1.0138404978483315,
          -1.0155267706945335,
          -1.0171970376781507,
          -1.0188512724738668,
          -1.0204894490090504,
          -1.022111541464167,
          -1.0237175242731857,
          -1.0253073721239818,
          -1.0268810599587361,
          -1.02843856297433,
          -1.0299798566227354,
          -1.031504916611403,
          -1.0330137189036444
         ]
        },
        {
         "hoverinfo": "text",
         "line": {
          "color": "rgba(230,245,152,0.75)",
          "shape": "spline",
          "width": 0.25
         },
         "mode": "lines",
         "text": "2nd Ave & Pine St<br>3239 partidas",
         "type": "scatter",
         "x": [
          -0.3779975738928997,
          -0.3697555077891956,
          -0.36148997151932105,
          -0.3532014897367448,
          -0.34489058855139804,
          -0.3365577954962795,
          -0.32820363949397063,
          -0.3198286508230621,
          -0.31143336108449376,
          -0.3030183031678149,
          -0.2945840112173537,
          -0.2861310205983162,
          -0.27765986786280306,
          -0.26917109071575235,
          -0.26066522798080827,
          -0.25214281956611995,
          -0.24360440643007053,
          -0.23505053054694008,
          -0.22648173487250384,
          -0.21789856330956817,
          -0.20930156067344652,
          -0.20069127265737713,
          -0.1920682457978846,
          -0.1834330274400922,
          -0.17478616570297353,
          -0.1661282094445647,
          -0.15745970822712446,
          -0.14878121228225114,
          -0.1400932724759566,
          -0.13139644027370012,
          -0.1226912677053843,
          -0.11397830733031496,
          -0.10525811220212766,
          -0.09653123583368259,
          -0.08779823216193054,
          -0.07905965551275179,
          -0.07031606056577039,
          -0.061568002319144964,
          -0.05281603605434427,
          -0.044060717300894864,
          -0.035302601801122935,
          -0.026542245474877667,
          -0.017780204384244287,
          -0.009017034698248156,
          -0.0002532926575520297,
          0.008510465460851222,
          0.0172736833789482,
          0.02603580485301463,
          0.03479627370892282,
          0.04355453387744474,
          0.05231002942954936,
          0.0610622046116863,
          0.06981050388106798,
          0.07855437194092872,
          0.08729325377577314,
          0.09602659468660557,
          0.10475384032613953,
          0.11347443673398487,
          0.12218783037181018,
          0.13089346815847866,
          0.13959079750515482,
          0.14827926635037988,
          0.15695832319511396,
          0.1656274171377421,
          0.174285997909043,
          0.18293351590711782,
          0.19156942223227263,
          0.20019316872186516,
          0.20880420798509566,
          0.21740199343775332,
          0.22598597933691075,
          0.2345556208155646,
          0.24311037391722132,
          0.25164969563042433,
          0.26017304392322177,
          0.26867987777757196,
          0.27716965722368414,
          0.28564184337429316,
          0.2940958984588663,
          0.3025312858577332,
          0.31094747013615814,
          0.31934391707831367,
          0.3277200937212,
          0.33607546838846997,
          0.34440951072417847,
          0.352721691726446,
          0.36101148378103776,
          0.36927836069485337,
          0.37752179772932687,
          0.38574127163373473,
          0.3939362606784087,
          0.40210624468785283,
          0.41025070507376155,
          0.41836912486793754,
          0.42646098875510274,
          0.43452578310561357,
          0.44256299600805943,
          0.45057211730175734,
          0.4585526386091345,
          0.4665040533679969
         ],
         "y": [
          -1.0330139564067282,
          -1.0359926951767346,
          -1.038905674491655,
          -1.0417527094506374,
          -1.0445336193386359,
          -1.0472482276378818,
          -1.0498963620390882,
          -1.052477854452387,
          -1.0549925410179997,
          -1.0574402621166352,
          -1.0598208623796261,
          -1.0621341906987865,
          -1.0643801002360063,
          -1.0665584484325705,
          -1.0686690970182087,
          -1.0707119120198707,
          -1.0726867637702318,
          -1.0745935269159228,
          -1.0764320804254865,
          -1.0782023075970606,
          -1.0799040960657849,
          -1.081537337810934,
          -1.0831019291627744,
          -1.0845977708091432,
          -1.0860247678017536,
          -1.0873828295622214,
          -1.0886718698878137,
          -1.0898918069569217,
          -1.091042563334253,
          -1.092124065975748,
          -1.0931362462332157,
          -1.0940790398586915,
          -1.094952387008515,
          -1.0957562322471281,
          -1.0964905245505954,
          -1.0971552173098413,
          -1.0977502683336093,
          -1.0982756398511395,
          -1.098731298514567,
          -1.0991172154010376,
          -1.0994333660145446,
          -1.099679730287483,
          -1.099856292581924,
          -1.0999630416906063,
          -1.0999999708376496,
          -1.099967077678982,
          -1.0998643643024917,
          -1.0996918372278917,
          -1.0994495074063082,
          -1.0991373902195842,
          -1.0987555054793035,
          -1.0983038774255331,
          -1.097782534725285,
          -1.0971915104706955,
          -1.096530842176926,
          -1.0958005717797807,
          -1.0950007456330457,
          -1.0941314145055452,
          -1.0931926335779207,
          -1.0921844624391273,
          -1.0911069650826517,
          -1.0899602099024501,
          -1.0887442696886072,
          -1.0874592216227148,
          -1.0861051472729744,
          -1.0846821325890181,
          -1.0831902678964547,
          -1.0816296478911342,
          -1.0800003716331383,
          -1.0783025425404928,
          -1.076536268382602,
          -1.074701661273409,
          -1.0727988376642794,
          -1.070827918336609,
          -1.0687890283941568,
          -1.0666822972551053,
          -1.0645078586438457,
          -1.0622658505824876,
          -1.0599564153821006,
          -1.0575796996336808,
          -1.0551358541988436,
          -1.0526250342002508,
          -1.0500473990117627,
          -1.0474031122483218,
          -1.0446923417555678,
          -1.0419152595991836,
          -1.039072042053973,
          -1.0361628695926726,
          -1.0331879268744952,
          -1.0301474027334097,
          -1.0270414901661533,
          -1.0238703863199836,
          -1.0206342924801624,
          -1.0173334140571793,
          -1.0139679605737157,
          -1.0105381456513423,
          -1.0070441869969613,
          -1.003486306388987,
          -0.9998647296632683,
          -0.9961796866987549
         ]
        },
        {
         "hoverinfo": "text",
         "line": {
          "color": "rgba(171,221,164,0.75)",
          "shape": "spline",
          "width": 0.25
         },
         "mode": "lines",
         "text": "Lake Union Park<br>1496 partidas",
         "type": "scatter",
         "x": [
          0.4665046792860617,
          0.4701672360733334,
          0.47382342642770053,
          0.4774732008414817,
          0.48111650989386967,
          0.48475330425160323,
          0.4883835346696381,
          0.4920071519918079,
          0.49562410715149297,
          0.4992343511722873,
          0.502837835168656,
          0.5064345103466006,
          0.5100243280043216,
          0.5136072395328733,
          0.5171831964168244,
          0.5207521502349176,
          0.5243140526607198,
          0.5278688554632803,
          0.5314165105077819,
          0.5349569697561964,
          0.5384901852679295,
          0.542016109200473,
          0.5455346938100549,
          0.5490458914522808,
          0.5525496545827814,
          0.5560459357578595,
          0.5595346876351267,
          0.563015862974147,
          0.5664894146370795,
          0.5699552955893111,
          0.5734134589000963,
          0.5768638577431952,
          0.5803064453975018,
          0.58374117524768,
          0.5871680007847973,
          0.5905868756069491,
          0.5939977534198896,
          0.5974005880376613,
          0.6007953333832153,
          0.6041819434890384,
          0.6075603724977766,
          0.610930574662852,
          0.6142925043490852,
          0.6176461160333147,
          0.6209913643050087,
          0.6243282038668827,
          0.6276565895355152,
          0.6309764762419546,
          0.6342878190323327,
          0.6375905730684718,
          0.640884693628495,
          0.6441701361074266,
          0.6474468560178015,
          0.6507148089902631,
          0.6539739507741666,
          0.657224237238177,
          0.6604656243708694,
          0.6636980682813206,
          0.6669215251997056,
          0.6701359514778926,
          0.6733413035900296,
          0.6765375381331359,
          0.6797246118276917,
          0.6829024815182207,
          0.6860711041738754,
          0.689230436889023,
          0.6923804368838213,
          0.6955210615048009,
          0.6986522682254438,
          0.7017740146467563,
          0.7048862584978441,
          0.7079889576364876,
          0.7110820700497075,
          0.7141655538543368,
          0.7172393672975892,
          0.7203034687576207,
          0.7233578167440952,
          0.7264023698987481,
          0.7294370869959427,
          0.73246192694323,
          0.7354768487819079,
          0.7384818116875705,
          0.7414767749706643,
          0.7444616980770402,
          0.747436540588499,
          0.750401262223341,
          0.7533558228369114,
          0.7563001824221446,
          0.7592343011101034,
          0.7621581391705202,
          0.7650716570123374,
          0.7679748151842388,
          0.7708675743751868,
          0.7737498954149556,
          0.7766217392746588,
          0.7794830670672787,
          0.7823338400481954,
          0.7851740196157078,
          0.7880035673115573,
          0.790822444821452
         ],
         "y": [
          -0.996179393585417,
          -0.9944560171888763,
          -0.9927191750783873,
          -0.9909688907721524,
          -0.9892051879703938,
          -0.9874280905550301,
          -0.9856376225893523,
          -0.9838338083177007,
          -0.9820166721651347,
          -0.9801862387371012,
          -0.9783425328191041,
          -0.976485579376367,
          -0.9746154035534942,
          -0.9727320306741328,
          -0.970835486240628,
          -0.9689257959336772,
          -0.9670029856119846,
          -0.965067081311909,
          -0.9631181092471124,
          -0.9611560958082034,
          -0.9591810675623822,
          -0.9571930512530799,
          -0.9551920737995944,
          -0.9531781622967296,
          -0.9511513440144261,
          -0.9491116463973912,
          -0.9470590970647299,
          -0.9449937238095695,
          -0.9429155545986816,
          -0.9408246175721069,
          -0.9387209410427722,
          -0.9366045534961054,
          -0.9344754835896535,
          -0.9323337601526921,
          -0.9301794121858344,
          -0.928012468860641,
          -0.9258329595192235,
          -0.9236409136738458,
          -0.9214363610065273,
          -0.9192193313686394,
          -0.9169898547805003,
          -0.9147479614309711,
          -0.9124936816770455,
          -0.9102270460434371,
          -0.9079480852221696,
          -0.9056568300721595,
          -0.9033533116187963,
          -0.9010375610535258,
          -0.8987096097334261,
          -0.8963694891807831,
          -0.8940172310826622,
          -0.891652867290483,
          -0.8892764298195834,
          -0.8868879508487899,
          -0.88448746271998,
          -0.882074997937645,
          -0.8796505891684481,
          -0.8772142692407846,
          -0.8747660711443366,
          -0.8723060280296242,
          -0.8698341732075601,
          -0.8673505401489964,
          -0.8648551624842705,
          -0.8623480740027524,
          -0.8598293086523857,
          -0.8572989005392266,
          -0.8547568839269847,
          -0.8522032932365583,
          -0.8496381630455654,
          -0.8470615280878802,
          -0.84447342325316,
          -0.8418738835863719,
          -0.8392629442873211,
          -0.8366406407101729,
          -0.8340070083629718,
          -0.8313620829071648,
          -0.8287059001571163,
          -0.8260384960796214,
          -0.8233599067934227,
          -0.8206701685687194,
          -0.8179693178266741,
          -0.8152573911389234,
          -0.8125344252270811,
          -0.8098004569622383,
          -0.8070555233644693,
          -0.8042996616023262,
          -0.8015329089923384,
          -0.7987553029985034,
          -0.795966881231784,
          -0.7931676814495976,
          -0.7903577415553014,
          -0.7875370995976851,
          -0.7847057937704526,
          -0.7818638624117022,
          -0.779011344003413,
          -0.7761482771709208,
          -0.7732747006823932,
          -0.7703906534483089,
          -0.767496174520929,
          -0.764591303093765
         ]
        },
        {
         "hoverinfo": "text",
         "line": {
          "color": "rgba(102,194,165,0.75)",
          "shape": "spline",
          "width": 0.25
         },
         "mode": "lines",
         "text": "Burke-Gilman Trail<br>941 partidas",
         "type": "scatter",
         "x": [
          0.7908229252281799,
          0.7925905425557817,
          0.7943539136079324,
          0.7961130289374349,
          0.7978678791198918,
          0.7996184547537555,
          0.8013647464603808,
          0.803106744884072,
          0.8048444406921348,
          0.8065778245749262,
          0.808306887245904,
          0.8100316194416772,
          0.8117520119220543,
          0.8134680554700938,
          0.8151797408921552,
          0.8168870590179443,
          0.8185900007005656,
          0.8202885568165701,
          0.8219827182660038,
          0.8236724759724576,
          0.8253578208831154,
          0.8270387439688011,
          0.8287152362240309,
          0.830387288667057,
          0.8320548923399183,
          0.8337180383084878,
          0.8353767176625204,
          0.8370309215157011,
          0.838680641005692,
          0.840325867294179,
          0.8419665915669228,
          0.8436028050338011,
          0.8452344989288588,
          0.8468616645103544,
          0.8484842930608064,
          0.8501023758870406,
          0.8517159043202361,
          0.8533248697159722,
          0.8549292634542738,
          0.8565290769396599,
          0.8581243016011866,
          0.8597149288924949,
          0.8613009502918559,
          0.862882357302217,
          0.8644591414512465,
          0.86603129429138,
          0.8675988073998643,
          0.8691616723788052,
          0.8707198808552089,
          0.8722734244810293,
          0.8738222949332121,
          0.8753664839137393,
          0.8769059831496737,
          0.8784407843932034,
          0.879970879421685,
          0.8814962600376903,
          0.8830169180690467,
          0.8845328453688833,
          0.8860440338156739,
          0.8875504753132806,
          0.8890521617909967,
          0.8905490852035909,
          0.892041237531349,
          0.8935286107801195,
          0.8950111969813528,
          0.8964889881921466,
          0.8979619764952873,
          0.8994301539992928,
          0.9008935128384546,
          0.9023520451728805,
          0.9038057431885353,
          0.9052545990972836,
          0.9066986051369328,
          0.9081377535712716,
          0.9095720366901139,
          0.9110014468093394,
          0.9124259762709344,
          0.9138456174430332,
          0.9152603627199594,
          0.916670204522265,
          0.9180751352967741,
          0.9194751475166201,
          0.9208702336812874,
          0.9222603863166519,
          0.9236455979750208,
          0.9250258612351719,
          0.9264011687023946,
          0.9277715130085277,
          0.9291368868120016,
          0.9304972827978745,
          0.9318526936778738,
          0.9332031121904342,
          0.9345485311007369,
          0.935888943200748,
          0.9372243413092579,
          0.9385547182719186,
          0.9398800669612841,
          0.9412003802768457,
          0.9425156511450721,
          0.9438258725194467
         ],
         "y": [
          -0.7645908062052176,
          -0.762758305003054,
          -0.7609217173505838,
          -0.7590810530872597,
          -0.7572363220743745,
          -0.7553875341950094,
          -0.7535346993539778,
          -0.7516778274777768,
          -0.7498169285145306,
          -0.7479520124339393,
          -0.7460830892272238,
          -0.744210168907073,
          -0.7423332615075908,
          -0.740452377084242,
          -0.7385675257137961,
          -0.7366787174942775,
          -0.7347859625449087,
          -0.7328892710060565,
          -0.7309886530391779,
          -0.7290841188267657,
          -0.7271756785722935,
          -0.7252633425001626,
          -0.7233471208556435,
          -0.7214270239048257,
          -0.7195030619345599,
          -0.7175752452524036,
          -0.7156435841865655,
          -0.7137080890858506,
          -0.7117687703196046,
          -0.709825638277659,
          -0.7078787033702729,
          -0.705927976028081,
          -0.7039734667020351,
          -0.7020151858633488,
          -0.7000531440034419,
          -0.6980873516338831,
          -0.696117819286335,
          -0.6941445575124962,
          -0.6921675768840472,
          -0.6901868879925889,
          -0.6882025014495923,
          -0.6862144278863369,
          -0.6842226779538559,
          -0.6822272623228782,
          -0.6802281916837716,
          -0.6782254767464853,
          -0.6762191282404939,
          -0.6742091569147358,
          -0.6721955735375613,
          -0.6701783888966716,
          -0.6681576137990607,
          -0.666133259070959,
          -0.6641053355577745,
          -0.6620738541240349,
          -0.6600388256533297,
          -0.6580002610482498,
          -0.6559581712303328,
          -0.6539125671400018,
          -0.6518634597365073,
          -0.6498108599978689,
          -0.6477547789208165,
          -0.6456952275207303,
          -0.6436322168315843,
          -0.6415657579058829,
          -0.6394958618146064,
          -0.6374225396471491,
          -0.6353458025112603,
          -0.6332656615329847,
          -0.6311821278566031,
          -0.6290952126445726,
          -0.627004927077467,
          -0.6249112823539167,
          -0.6228142896905472,
          -0.620713960321922,
          -0.6186103055004807,
          -0.6165033364964788,
          -0.614393064597927,
          -0.6122795011105315,
          -0.6101626573576333,
          -0.6080425446801475,
          -0.6059191744365003,
          -0.6037925580025726,
          -0.6016627067716358,
          -0.5995296321542916,
          -0.5973933455784107,
          -0.5952538584890724,
          -0.5931111823485017,
          -0.5909653286360104,
          -0.588816308847931,
          -0.586664134497561,
          -0.5845088171150977,
          -0.5823503682475766,
          -0.5801887994588101,
          -0.5780241223293257,
          -0.5758563484563036,
          -0.5736854894535155,
          -0.5715115569512591,
          -0.5693345625963009,
          -0.56715451805181,
          -0.5649714349972973
         ]
        },
        {
         "hoverinfo": "text",
         "line": {
          "color": "rgba(50,136,189,0.75)",
          "shape": "spline",
          "width": 0.25
         },
         "mode": "lines",
         "text": "King Street Station Plaza<br>2215 partidas",
         "type": "scatter",
         "x": [
          0.9438262275012823,
          0.946890359371438,
          0.9499263833884627,
          0.9529342094298663,
          0.9559137482101979,
          0.9588649112836966,
          0.9617876110469165,
          0.9646817607413275,
          0.9675472744558908,
          0.9703840671296082,
          0.9731920545540493,
          0.9759711533758483,
          0.9787212810991799,
          0.9814423560882082,
          0.9841342975695093,
          0.98679702563447,
          0.9894304612416586,
          0.9920345262191724,
          0.9946091432669573,
          0.9971542359591027,
          0.9996697287461104,
          1.0021555469571368,
          1.0046116168022101,
          1.0070378653744196,
          1.0094342206520814,
          1.011800611500875,
          1.014136967675955,
          1.016443219824038,
          1.0187192994854588,
          1.020965139096204,
          1.0231806719899177,
          1.0253658323998796,
          1.0275205554609577,
          1.0296447772115347,
          1.031738434595405,
          1.0338014654636476,
          1.0358338085764702,
          1.037835403605028,
          1.0398061911332137,
          1.0417461126594219,
          1.0436551105982848,
          1.0455331282823823,
          1.0473801099639242,
          1.049196000816405,
          1.0509807469362304,
          1.0527342953443188,
          1.0544565939876729,
          1.0561475917409258,
          1.0578072384078576,
          1.0594354847228862,
          1.0610322823525293,
          1.0625975838968398,
          1.0641313428908117,
          1.0656335138057607,
          1.0671040520506745,
          1.0685429139735374,
          1.0699500568626252,
          1.0713254389477742,
          1.0726690194016197,
          1.0739807583408092,
          1.075260616827186,
          1.0765085568689445,
          1.0777245414217584,
          1.0789085343898805,
          1.0800605006272135,
          1.0811804059383536,
          1.082268217079607,
          1.083323901759974,
          1.0843474286421098,
          1.0853387673432533,
          1.08629788843613,
          1.0872247634498253,
          1.0881193648706287,
          1.0889816661428522,
          1.089811641669617,
          1.0906092668136147,
          1.091374517897837,
          1.0921073722062804,
          1.0928078079846189,
          1.093475804440851,
          1.0941113417459163,
          1.0947144010342835,
          1.0952849644045117,
          1.0958230149197816,
          1.0963285366083968,
          1.0968015144642598,
          1.0972419344473159,
          1.0976497834839711,
          1.09802504946748,
          1.098367721258304,
          1.098677788684444,
          1.0989552425417408,
          1.0992000745941481,
          1.0994122775739787,
          1.0995918451821187,
          1.0997387720882148,
          1.0998530539308333,
          1.0999346873175884,
          1.0999836698252432,
          1.099999999999783
         ],
         "y": [
          -0.5649708419739004,
          -0.5598201919629455,
          -0.5546529240367488,
          -0.5494691915824542,
          -0.5442691484759451,
          -0.5390529490772765,
          -0.5338207482260928,
          -0.5285727012370317,
          -0.5233089638951136,
          -0.5180296924511183,
          -0.512735043616943,
          -0.5074251745609559,
          -0.5021002429033273,
          -0.49676040671135124,
          -0.4914058244947537,
          -0.4860366552009873,
          -0.480653058210513,
          -0.475255193332069,
          -0.4698432207979269,
          -0.4644173012591352,
          -0.45897759578075087,
          -0.45352426583705757,
          -0.448057473306773,
          -0.4425773804682434,
          -0.43708414999462636,
          -0.4315779449490619,
          -0.4260589287798333,
          -0.4205272653155112,
          -0.41498311876009625,
          -0.40942665368814085,
          -0.40385803503986495,
          -0.39827742811625994,
          -0.3926849985741816,
          -0.38708091242143305,
          -0.38146533601183635,
          -0.37583843604029504,
          -0.3702003795378454,
          -0.3645513338666983,
          -0.35889146671527145,
          -0.3532209460932115,
          -0.34753994032640667,
          -0.3418486180519901,
          -0.33614714821333536,
          -0.33043570005503703,
          -0.32471444311789277,
          -0.318983547233867,
          -0.3132431825210501,
          -0.3074935193786089,
          -0.3017347284817282,
          -0.2959669807765448,
          -0.2901904474750725,
          -0.28440530005012016,
          -0.27861171023020176,
          -0.2728098499944382,
          -0.2669998915674528,
          -0.26118200741425857,
          -0.2553563702351388,
          -0.24952315296052058,
          -0.24368252874584137,
          -0.2378346709664101,
          -0.23197975321225656,
          -0.22611794928298456,
          -0.2202494331826087,
          -0.2143743791143902,
          -0.20849296147566584,
          -0.20260535485267103,
          -0.19671173401535733,
          -0.19081227391220457,
          -0.18490714966502747,
          -0.1789965365637775,
          -0.1730806100613392,
          -0.16715954576832223,
          -0.16123351944784836,
          -0.15530270701033402,
          -0.1493672845082696,
          -0.14342742813098944,
          -0.13748331419944762,
          -0.13153511916098015,
          -0.12558301958406815,
          -0.1196271921530965,
          -0.1136678136631092,
          -0.10770506101456113,
          -0.10173911120806708,
          -0.09577014133914741,
          -0.08979832859297121,
          -0.0838238502390966,
          -0.0778468836262086,
          -0.0718676061768547,
          -0.06588619538217806,
          -0.059902828796648946,
          -0.053917684032794046,
          -0.047930938755924135,
          -0.04194277067886123,
          -0.03595335755665937,
          -0.029962877181333877,
          -0.02397150737657988,
          -0.01797942599249466,
          -0.011986810900298277,
          -0.0059938399870536,
          -6.91150385814946e-07
         ]
        },
        {
         "hoverinfo": "text",
         "marker": {
          "color": "rgba(213,62,79,0.75)",
          "size": 0.5
         },
         "mode": "markers",
         "text": "Pier 69 ⮌ : 4209 viagens ",
         "type": "scatter",
         "x": [
          0.14337759246001286
         ],
         "y": [
          0.8885059740825441
         ]
        },
        {
         "hoverinfo": "text",
         "marker": {
          "color": "rgba(213,62,79,0.75)",
          "size": 0.5
         },
         "mode": "markers",
         "text": "Pier 69 ➔ E Pine St & 16th Ave: 23 viagens ",
         "type": "scatter",
         "x": [
          0.899995830491
         ],
         "y": [
          0.002739543541427226
         ]
        },
        {
         "hoverinfo": "text",
         "marker": {
          "color": "rgba(244,109,67,0.75)",
          "size": 0.5
         },
         "mode": "markers",
         "text": "E Pine St & 16th Ave ➔ Pier 69: 3 viagens ",
         "type": "scatter",
         "x": [
          -0.3114308095223587
         ],
         "y": [
          0.8443996985315949
         ]
        },
        {
         "hoverinfo": "text",
         "marker": {
          "color": "rgba(213,62,79,0.75)",
          "size": 0.5
         },
         "mode": "markers",
         "text": "Pier 69 ➔ Seattle Aquarium: 1605 viagens ",
         "type": "scatter",
         "x": [
          0.6866695494326499
         ],
         "y": [
          0.5817945770475706
         ]
        },
        {
         "hoverinfo": "text",
         "marker": {
          "color": "rgba(253,174,97,0.75)",
          "size": 0.5
         },
         "mode": "markers",
         "text": "Seattle Aquarium ➔ Pier 69: 2291 viagens ",
         "type": "scatter",
         "x": [
          -0.874674132936597
         ],
         "y": [
          0.2120027385946046
         ]
        },
        {
         "hoverinfo": "text",
         "marker": {
          "color": "rgba(213,62,79,0.75)",
          "size": 0.5
         },
         "mode": "markers",
         "text": "Pier 69 ➔ 3rd Ave & Broad St: 777 viagens ",
         "type": "scatter",
         "x": [
          0.8243720192096645
         ],
         "y": [
          0.36112431923671456
         ]
        },
        {
         "hoverinfo": "text",
         "marker": {
          "color": "rgba(254,224,139,0.75)",
          "size": 0.5
         },
         "mode": "markers",
         "text": "3rd Ave & Broad St ➔ Pier 69: 347 viagens ",
         "type": "scatter",
         "x": [
          -0.8646053635674775
         ],
         "y": [
          -0.2499151161701706
         ]
        },
        {
         "hoverinfo": "text",
         "marker": {
          "color": "rgba(213,62,79,0.75)",
          "size": 0.5
         },
         "mode": "markers",
         "text": "Pier 69 ➔ Pine St & 9th Ave: 65 viagens ",
         "type": "scatter",
         "x": [
          0.8999148165413291
         ],
         "y": [
          0.012382365258137889
         ]
        },
        {
         "hoverinfo": "text",
         "marker": {
          "color": "rgba(255,255,191,0.75)",
          "size": 0.5
         },
         "mode": "markers",
         "text": "Pine St & 9th Ave ➔ Pier 69: 52 viagens ",
         "type": "scatter",
         "x": [
          -0.5920953659130653
         ],
         "y": [
          -0.6778075520856
         ]
        },
        {
         "hoverinfo": "text",
         "marker": {
          "color": "rgba(213,62,79,0.75)",
          "size": 0.5
         },
         "mode": "markers",
         "text": "Pier 69 ➔ 2nd Ave & Pine St: 384 viagens ",
         "type": "scatter",
         "x": [
          0.8961898492810634
         ],
         "y": [
          0.08272698499029714
         ]
        },
        {
         "hoverinfo": "text",
         "marker": {
          "color": "rgba(230,245,152,0.75)",
          "size": 0.5
         },
         "mode": "markers",
         "text": "2nd Ave & Pine St ➔ Pier 69: 310 viagens ",
         "type": "scatter",
         "x": [
          -0.17540674603012135
         ],
         "y": [
          -0.8827414533413079
         ]
        },
        {
         "hoverinfo": "text",
         "marker": {
          "color": "rgba(213,62,79,0.75)",
          "size": 0.5
         },
         "mode": "markers",
         "text": "Pier 69 ➔ Lake Union Park: 97 viagens ",
         "type": "scatter",
         "x": [
          0.8994955361551085
         ],
         "y": [
          0.030129394899896716
         ]
        },
        {
         "hoverinfo": "text",
         "marker": {
          "color": "rgba(171,221,164,0.75)",
          "size": 0.5
         },
         "mode": "markers",
         "text": "Lake Union Park ➔ Pier 69: 75 viagens ",
         "type": "scatter",
         "x": [
          0.42449253808350296
         ],
         "y": [
          -0.7936032290202869
         ]
        },
        {
         "hoverinfo": "text",
         "marker": {
          "color": "rgba(213,62,79,0.75)",
          "size": 0.5
         },
         "mode": "markers",
         "text": "Pier 69 ➔ Burke-Gilman Trail: 1 viagens ",
         "type": "scatter",
         "x": [
          0.8999999933287804
         ],
         "y": [
          0.00010958191060962971
         ]
        },
        {
         "hoverinfo": "text",
         "marker": {
          "color": "rgba(102,194,165,0.75)",
          "size": 0.5
         },
         "mode": "markers",
         "text": "Burke-Gilman Trail ➔ Pier 69: 4 viagens ",
         "type": "scatter",
         "x": [
          0.6474937758634278
         ],
         "y": [
          -0.6251014399424474
         ]
        },
        {
         "hoverinfo": "text",
         "marker": {
          "color": "rgba(213,62,79,0.75)",
          "size": 0.5
         },
         "mode": "markers",
         "text": "Pier 69 ➔ King Street Station Plaza: 737 viagens ",
         "type": "scatter",
         "x": [
          0.876598554563253
         ],
         "y": [
          0.2038994216215817
         ]
        },
        {
         "hoverinfo": "text",
         "marker": {
          "color": "rgba(50,136,189,0.75)",
          "size": 0.5
         },
         "mode": "markers",
         "text": "King Street Station Plaza ➔ Pier 69: 962 viagens ",
         "type": "scatter",
         "x": [
          0.8938331594820453
         ],
         "y": [
          -0.10517738830349668
         ]
        },
        {
         "hoverinfo": "text",
         "marker": {
          "color": "rgba(244,109,67,0.75)",
          "size": 0.5
         },
         "mode": "markers",
         "text": "E Pine St & 16th Ave ⮌ : 233 viagens ",
         "type": "scatter",
         "x": [
          -0.3760194799837846
         ],
         "y": [
          0.8176853616598039
         ]
        },
        {
         "hoverinfo": "text",
         "marker": {
          "color": "rgba(244,109,67,0.75)",
          "size": 0.5
         },
         "mode": "markers",
         "text": "E Pine St & 16th Ave ➔ Seattle Aquarium: 2 viagens ",
         "type": "scatter",
         "x": [
          -0.31091669396024646
         ],
         "y": [
          0.8445891364544245
         ]
        },
        {
         "hoverinfo": "text",
         "marker": {
          "color": "rgba(253,174,97,0.75)",
          "size": 0.5
         },
         "mode": "markers",
         "text": "Seattle Aquarium ➔ E Pine St & 16th Ave: 23 viagens ",
         "type": "scatter",
         "x": [
          -0.40132030740090124
         ],
         "y": [
          0.8055693706116477
         ]
        },
        {
         "hoverinfo": "text",
         "marker": {
          "color": "rgba(244,109,67,0.75)",
          "size": 0.5
         },
         "mode": "markers",
         "text": "E Pine St & 16th Ave ➔ 3rd Ave & Broad St: 16 viagens ",
         "type": "scatter",
         "x": [
          -0.3150263759697445
         ],
         "y": [
          0.8430648743977945
         ]
        },
        {
         "hoverinfo": "text",
         "marker": {
          "color": "rgba(254,224,139,0.75)",
          "size": 0.5
         },
         "mode": "markers",
         "text": "3rd Ave & Broad St ➔ E Pine St & 16th Ave: 198 viagens ",
         "type": "scatter",
         "x": [
          -0.8897947456412232
         ],
         "y": [
          -0.13514921616225134
         ]
        },
        {
         "hoverinfo": "text",
         "marker": {
          "color": "rgba(244,109,67,0.75)",
          "size": 0.5
         },
         "mode": "markers",
         "text": "E Pine St & 16th Ave ➔ Pine St & 9th Ave: 98 viagens ",
         "type": "scatter",
         "x": [
          -0.3427690706531767
         ],
         "y": [
          0.8321714752402641
         ]
        },
        {
         "hoverinfo": "text",
         "marker": {
          "color": "rgba(255,255,191,0.75)",
          "size": 0.5
         },
         "mode": "markers",
         "text": "Pine St & 9th Ave ➔ E Pine St & 16th Ave: 934 viagens ",
         "type": "scatter",
         "x": [
          -0.40318319384503654
         ],
         "y": [
          -0.8046386221161123
         ]
        },
        {
         "hoverinfo": "text",
         "marker": {
          "color": "rgba(244,109,67,0.75)",
          "size": 0.5
         },
         "mode": "markers",
         "text": "E Pine St & 16th Ave ➔ 2nd Ave & Pine St: 53 viagens ",
         "type": "scatter",
         "x": [
          -0.3274122744705142
         ],
         "y": [
          0.8383323938188508
         ]
        },
        {
         "hoverinfo": "text",
         "marker": {
          "color": "rgba(230,245,152,0.75)",
          "size": 0.5
         },
         "mode": "markers",
         "text": "2nd Ave & Pine St ➔ E Pine St & 16th Ave: 577 viagens ",
         "type": "scatter",
         "x": [
          0.08948958714137278
         ],
         "y": [
          -0.8955398448942775
         ]
        },
        {
         "hoverinfo": "text",
         "marker": {
          "color": "rgba(244,109,67,0.75)",
          "size": 0.5
         },
         "mode": "markers",
         "text": "E Pine St & 16th Ave ➔ Lake Union Park: 5 viagens ",
         "type": "scatter",
         "x": [
          -0.31286971844195477
         ],
         "y": [
          0.8438676076743626
         ]
        },
        {
         "hoverinfo": "text",
         "marker": {
          "color": "rgba(171,221,164,0.75)",
          "size": 0.5
         },
         "mode": "markers",
         "text": "Lake Union Park ➔ E Pine St & 16th Ave: 19 viagens ",
         "type": "scatter",
         "x": [
          0.3869373390232727
         ],
         "y": [
          -0.8125758399494714
         ]
        },
        {
         "hoverinfo": "text",
         "marker": {
          "color": "rgba(244,109,67,0.75)",
          "size": 0.5
         },
         "mode": "markers",
         "text": "E Pine St & 16th Ave ➔ Burke-Gilman Trail: 3 viagens ",
         "type": "scatter",
         "x": [
          -0.312047595822782
         ],
         "y": [
          0.8441719599354279
         ]
        },
        {
         "hoverinfo": "text",
         "marker": {
          "color": "rgba(102,194,165,0.75)",
          "size": 0.5
         },
         "mode": "markers",
         "text": "Burke-Gilman Trail ➔ E Pine St & 16th Ave: 15 viagens ",
         "type": "scatter",
         "x": [
          0.6513629139925476
         ],
         "y": [
          -0.6210687194466784
         ]
        },
        {
         "hoverinfo": "text",
         "marker": {
          "color": "rgba(244,109,67,0.75)",
          "size": 0.5
         },
         "mode": "markers",
         "text": "E Pine St & 16th Ave ➔ King Street Station Plaza: 26 viagens ",
         "type": "scatter",
         "x": [
          -0.3193334982773787
         ],
         "y": [
          0.8414428779649462
         ]
        },
        {
         "hoverinfo": "text",
         "marker": {
          "color": "rgba(50,136,189,0.75)",
          "size": 0.5
         },
         "mode": "markers",
         "text": "King Street Station Plaza ➔ E Pine St & 16th Ave: 71 viagens ",
         "type": "scatter",
         "x": [
          0.786731744251465
         ],
         "y": [
          -0.43709628525880606
         ]
        },
        {
         "hoverinfo": "text",
         "marker": {
          "color": "rgba(253,174,97,0.75)",
          "size": 0.5
         },
         "mode": "markers",
         "text": "Seattle Aquarium ⮌ : 1150 viagens ",
         "type": "scatter",
         "x": [
          -0.7127763629059961
         ],
         "y": [
          0.5494996419311843
         ]
        },
        {
         "hoverinfo": "text",
         "marker": {
          "color": "rgba(253,174,97,0.75)",
          "size": 0.5
         },
         "mode": "markers",
         "text": "Seattle Aquarium ➔ 3rd Ave & Broad St: 792 viagens ",
         "type": "scatter",
         "x": [
          -0.5642196239372931
         ],
         "y": [
          0.7011820134345002
         ]
        },
        {
         "hoverinfo": "text",
         "marker": {
          "color": "rgba(254,224,139,0.75)",
          "size": 0.5
         },
         "mode": "markers",
         "text": "3rd Ave & Broad St ➔ Seattle Aquarium: 478 viagens ",
         "type": "scatter",
         "x": [
          -0.8351852186226535
         ],
         "y": [
          -0.3353589876449273
         ]
        },
        {
         "hoverinfo": "text",
         "marker": {
          "color": "rgba(253,174,97,0.75)",
          "size": 0.5
         },
         "mode": "markers",
         "text": "Seattle Aquarium ➔ Pine St & 9th Ave: 68 viagens ",
         "type": "scatter",
         "x": [
          -0.41022115634562445
         ],
         "y": [
          0.8010734066778517
         ]
        },
        {
         "hoverinfo": "text",
         "marker": {
          "color": "rgba(255,255,191,0.75)",
          "size": 0.5
         },
         "mode": "markers",
         "text": "Pine St & 9th Ave ➔ Seattle Aquarium: 36 viagens ",
         "type": "scatter",
         "x": [
          -0.6061593376920292
         ],
         "y": [
          -0.6652599922802818
         ]
        },
        {
         "hoverinfo": "text",
         "marker": {
          "color": "rgba(253,174,97,0.75)",
          "size": 0.5
         },
         "mode": "markers",
         "text": "Seattle Aquarium ➔ 2nd Ave & Pine St: 158 viagens ",
         "type": "scatter",
         "x": [
          -0.44550055790323717
         ],
         "y": [
          0.7820033586295551
         ]
        },
        {
         "hoverinfo": "text",
         "marker": {
          "color": "rgba(230,245,152,0.75)",
          "size": 0.5
         },
         "mode": "markers",
         "text": "2nd Ave & Pine St ➔ Seattle Aquarium: 137 viagens ",
         "type": "scatter",
         "x": [
          -0.2651400708902122
         ],
         "y": [
          -0.8600585694057895
         ]
        },
        {
         "hoverinfo": "text",
         "marker": {
          "color": "rgba(253,174,97,0.75)",
          "size": 0.5
         },
         "mode": "markers",
         "text": "Seattle Aquarium ➔ Lake Union Park: 70 viagens ",
         "type": "scatter",
         "x": [
          -0.42362269710986783
         ],
         "y": [
          0.7940678878366517
         ]
        },
        {
         "hoverinfo": "text",
         "marker": {
          "color": "rgba(171,221,164,0.75)",
          "size": 0.5
         },
         "mode": "markers",
         "text": "Lake Union Park ➔ Seattle Aquarium: 17 viagens ",
         "type": "scatter",
         "x": [
          0.38337189375804503
         ],
         "y": [
          -0.8142640794462017
         ]
        },
        {
         "hoverinfo": "text",
         "marker": {
          "color": "rgba(253,174,97,0.75)",
          "size": 0.5
         },
         "mode": "markers",
         "text": "Seattle Aquarium ➔ Burke-Gilman Trail: 0 viagens ",
         "type": "scatter",
         "x": [
          -0.3990627992863023
         ],
         "y": [
          0.8066900781748716
         ]
        },
        {
         "hoverinfo": "text",
         "marker": {
          "color": "rgba(102,194,165,0.75)",
          "size": 0.5
         },
         "mode": "markers",
         "text": "Burke-Gilman Trail ➔ Seattle Aquarium: 4 viagens ",
         "type": "scatter",
         "x": [
          0.6481023543308849
         ],
         "y": [
          -0.6244704463069203
         ]
        },
        {
         "hoverinfo": "text",
         "marker": {
          "color": "rgba(253,174,97,0.75)",
          "size": 0.5
         },
         "mode": "markers",
         "text": "Seattle Aquarium ➔ King Street Station Plaza: 181 viagens ",
         "type": "scatter",
         "x": [
          -0.47738979738753007
         ],
         "y": [
          0.762954114839348
         ]
        },
        {
         "hoverinfo": "text",
         "marker": {
          "color": "rgba(50,136,189,0.75)",
          "size": 0.5
         },
         "mode": "markers",
         "text": "King Street Station Plaza ➔ Seattle Aquarium: 215 viagens ",
         "type": "scatter",
         "x": [
          0.8190985942518232
         ],
         "y": [
          -0.37293094923147274
         ]
        },
        {
         "hoverinfo": "text",
         "marker": {
          "color": "rgba(254,224,139,0.75)",
          "size": 0.5
         },
         "mode": "markers",
         "text": "3rd Ave & Broad St ⮌ : 627 viagens ",
         "type": "scatter",
         "x": [
          -0.7826535959544273
         ],
         "y": [
          -0.4443572309973184
         ]
        },
        {
         "hoverinfo": "text",
         "marker": {
          "color": "rgba(254,224,139,0.75)",
          "size": 0.5
         },
         "mode": "markers",
         "text": "3rd Ave & Broad St ➔ Pine St & 9th Ave: 166 viagens ",
         "type": "scatter",
         "x": [
          -0.8982243317822916
         ],
         "y": [
          -0.056507077382004625
         ]
        },
        {
         "hoverinfo": "text",
         "marker": {
          "color": "rgba(255,255,191,0.75)",
          "size": 0.5
         },
         "mode": "markers",
         "text": "Pine St & 9th Ave ➔ 3rd Ave & Broad St: 151 viagens ",
         "type": "scatter",
         "x": [
          -0.5661811725288247
         ],
         "y": [
          -0.6995990851008063
         ]
        },
        {
         "hoverinfo": "text",
         "marker": {
          "color": "rgba(254,224,139,0.75)",
          "size": 0.5
         },
         "mode": "markers",
         "text": "3rd Ave & Broad St ➔ 2nd Ave & Pine St: 962 viagens ",
         "type": "scatter",
         "x": [
          -0.6826154588037137
         ],
         "y": [
          -0.5865459363103588
         ]
        },
        {
         "hoverinfo": "text",
         "marker": {
          "color": "rgba(230,245,152,0.75)",
          "size": 0.5
         },
         "mode": "markers",
         "text": "2nd Ave & Pine St ➔ 3rd Ave & Broad St: 1101 viagens ",
         "type": "scatter",
         "x": [
          0.269325177289812
         ],
         "y": [
          -0.8587572118345275
         ]
        },
        {
         "hoverinfo": "text",
         "marker": {
          "color": "rgba(254,224,139,0.75)",
          "size": 0.5
         },
         "mode": "markers",
         "text": "3rd Ave & Broad St ➔ Lake Union Park: 264 viagens ",
         "type": "scatter",
         "x": [
          -0.8807889247710943
         ],
         "y": [
          -0.1849618068699042
         ]
        },
        {
         "hoverinfo": "text",
         "marker": {
          "color": "rgba(171,221,164,0.75)",
          "size": 0.5
         },
         "mode": "markers",
         "text": "Lake Union Park ➔ 3rd Ave & Broad St: 175 viagens ",
         "type": "scatter",
         "x": [
          0.46825216161036587
         ],
         "y": [
          -0.7685960663100091
         ]
        },
        {
         "hoverinfo": "text",
         "marker": {
          "color": "rgba(254,224,139,0.75)",
          "size": 0.5
         },
         "mode": "markers",
         "text": "3rd Ave & Broad St ➔ Burke-Gilman Trail: 6 viagens ",
         "type": "scatter",
         "x": [
          -0.8992106694746629
         ],
         "y": [
          -0.0376851682088413
         ]
        },
        {
         "hoverinfo": "text",
         "marker": {
          "color": "rgba(102,194,165,0.75)",
          "size": 0.5
         },
         "mode": "markers",
         "text": "Burke-Gilman Trail ➔ 3rd Ave & Broad St: 8 viagens ",
         "type": "scatter",
         "x": [
          0.6496211089904833
         ],
         "y": [
          -0.6228903713768374
         ]
        },
        {
         "hoverinfo": "text",
         "marker": {
          "color": "rgba(254,224,139,0.75)",
          "size": 0.5
         },
         "mode": "markers",
         "text": "3rd Ave & Broad St ➔ King Street Station Plaza: 179 viagens ",
         "type": "scatter",
         "x": [
          -0.8950590140433847
         ],
         "y": [
          -0.09417728696285523
         ]
        },
        {
         "hoverinfo": "text",
         "marker": {
          "color": "rgba(50,136,189,0.75)",
          "size": 0.5
         },
         "mode": "markers",
         "text": "King Street Station Plaza ➔ 3rd Ave & Broad St: 301 viagens ",
         "type": "scatter",
         "x": [
          0.8408972326296659
         ],
         "y": [
          -0.3207675858869934
         ]
        },
        {
         "hoverinfo": "text",
         "marker": {
          "color": "rgba(255,255,191,0.75)",
          "size": 0.5
         },
         "mode": "markers",
         "text": "Pine St & 9th Ave ⮌ : 186 viagens ",
         "type": "scatter",
         "x": [
          -0.508827663629374
         ],
         "y": [
          -0.7423573322366208
         ]
        },
        {
         "hoverinfo": "text",
         "marker": {
          "color": "rgba(255,255,191,0.75)",
          "size": 0.5
         },
         "mode": "markers",
         "text": "Pine St & 9th Ave ➔ 2nd Ave & Pine St: 158 viagens ",
         "type": "scatter",
         "x": [
          -0.5394656466237515
         ],
         "y": [
          -0.7204004553807679
         ]
        },
        {
         "hoverinfo": "text",
         "marker": {
          "color": "rgba(230,245,152,0.75)",
          "size": 0.5
         },
         "mode": "markers",
         "text": "2nd Ave & Pine St ➔ Pine St & 9th Ave: 344 viagens ",
         "type": "scatter",
         "x": [
          -0.10463294054278206
         ],
         "y": [
          -0.8938970565749563
         ]
        },
        {
         "hoverinfo": "text",
         "marker": {
          "color": "rgba(255,255,191,0.75)",
          "size": 0.5
         },
         "mode": "markers",
         "text": "Pine St & 9th Ave ➔ Lake Union Park: 53 viagens ",
         "type": "scatter",
         "x": [
          -0.5833817575016431
         ],
         "y": [
          -0.6853216215867511
         ]
        },
        {
         "hoverinfo": "text",
         "marker": {
          "color": "rgba(171,221,164,0.75)",
          "size": 0.5
         },
         "mode": "markers",
         "text": "Lake Union Park ➔ Pine St & 9th Ave: 73 viagens ",
         "type": "scatter",
         "x": [
          0.410123573876698
         ],
         "y": [
          -0.8011233701188629
         ]
        },
        {
         "hoverinfo": "text",
         "marker": {
          "color": "rgba(255,255,191,0.75)",
          "size": 0.5
         },
         "mode": "markers",
         "text": "Pine St & 9th Ave ➔ Burke-Gilman Trail: 2 viagens ",
         "type": "scatter",
         "x": [
          -0.6092308542076504
         ],
         "y": [
          -0.6624483121583273
         ]
        },
        {
         "hoverinfo": "text",
         "marker": {
          "color": "rgba(102,194,165,0.75)",
          "size": 0.5
         },
         "mode": "markers",
         "text": "Burke-Gilman Trail ➔ Pine St & 9th Ave: 4 viagens ",
         "type": "scatter",
         "x": [
          0.6487103178846526
         ],
         "y": [
          -0.623838860179448
         ]
        },
        {
         "hoverinfo": "text",
         "marker": {
          "color": "rgba(255,255,191,0.75)",
          "size": 0.5
         },
         "mode": "markers",
         "text": "Pine St & 9th Ave ➔ King Street Station Plaza: 42 viagens ",
         "type": "scatter",
         "x": [
          -0.5998140647719026
         ],
         "y": [
          -0.6709866524021233
         ]
        },
        {
         "hoverinfo": "text",
         "marker": {
          "color": "rgba(50,136,189,0.75)",
          "size": 0.5
         },
         "mode": "markers",
         "text": "King Street Station Plaza ➔ Pine St & 9th Ave: 65 viagens ",
         "type": "scatter",
         "x": [
          0.7793863252881775
         ],
         "y": [
          -0.45006327994382217
         ]
        },
        {
         "hoverinfo": "text",
         "marker": {
          "color": "rgba(230,245,152,0.75)",
          "size": 0.5
         },
         "mode": "markers",
         "text": "2nd Ave & Pine St ⮌ : 427 viagens ",
         "type": "scatter",
         "x": [
          -0.020380735035910064
         ],
         "y": [
          -0.8997692068744051
         ]
        },
        {
         "hoverinfo": "text",
         "marker": {
          "color": "rgba(230,245,152,0.75)",
          "size": 0.5
         },
         "mode": "markers",
         "text": "2nd Ave & Pine St ➔ Lake Union Park: 135 viagens ",
         "type": "scatter",
         "x": [
          -0.2934729564776494
         ],
         "y": [
          -0.8508076303232521
         ]
        },
        {
         "hoverinfo": "text",
         "marker": {
          "color": "rgba(171,221,164,0.75)",
          "size": 0.5
         },
         "mode": "markers",
         "text": "Lake Union Park ➔ 2nd Ave & Pine St: 105 viagens ",
         "type": "scatter",
         "x": [
          0.44178208966750127
         ],
         "y": [
          -0.784110059397924
         ]
        },
        {
         "hoverinfo": "text",
         "marker": {
          "color": "rgba(230,245,152,0.75)",
          "size": 0.5
         },
         "mode": "markers",
         "text": "2nd Ave & Pine St ➔ Burke-Gilman Trail: 9 viagens ",
         "type": "scatter",
         "x": [
          -0.3083443783078141
         ],
         "y": [
          -0.8455316341604066
         ]
        },
        {
         "hoverinfo": "text",
         "marker": {
          "color": "rgba(102,194,165,0.75)",
          "size": 0.5
         },
         "mode": "markers",
         "text": "Burke-Gilman Trail ➔ 2nd Ave & Pine St: 1 viagens ",
         "type": "scatter",
         "x": [
          0.6471131023169516
         ],
         "y": [
          -0.6254955098237961
         ]
        },
        {
         "hoverinfo": "text",
         "marker": {
          "color": "rgba(230,245,152,0.75)",
          "size": 0.5
         },
         "mode": "markers",
         "text": "2nd Ave & Pine St ➔ King Street Station Plaza: 199 viagens ",
         "type": "scatter",
         "x": [
          -0.22974255840247326
         ],
         "y": [
          -0.8701829444770142
         ]
        },
        {
         "hoverinfo": "text",
         "marker": {
          "color": "rgba(50,136,189,0.75)",
          "size": 0.5
         },
         "mode": "markers",
         "text": "King Street Station Plaza ➔ 2nd Ave & Pine St: 384 viagens ",
         "type": "scatter",
         "x": [
          0.8646964701045221
         ],
         "y": [
          -0.24959970871132686
         ]
        },
        {
         "hoverinfo": "text",
         "marker": {
          "color": "rgba(171,221,164,0.75)",
          "size": 0.5
         },
         "mode": "markers",
         "text": "Lake Union Park ⮌ : 960 viagens ",
         "type": "scatter",
         "x": [
          0.5696661803606166
         ],
         "y": [
          -0.6967642664153678
         ]
        },
        {
         "hoverinfo": "text",
         "marker": {
          "color": "rgba(171,221,164,0.75)",
          "size": 0.5
         },
         "mode": "markers",
         "text": "Lake Union Park ➔ Burke-Gilman Trail: 46 viagens ",
         "type": "scatter",
         "x": [
          0.3984733395791756
         ],
         "y": [
          -0.8069814109659647
         ]
        },
        {
         "hoverinfo": "text",
         "marker": {
          "color": "rgba(102,194,165,0.75)",
          "size": 0.5
         },
         "mode": "markers",
         "text": "Burke-Gilman Trail ➔ Lake Union Park: 25 viagens ",
         "type": "scatter",
         "x": [
          0.6543799650777253
         ],
         "y": [
          -0.6178890364012578
         ]
        },
        {
         "hoverinfo": "text",
         "marker": {
          "color": "rgba(171,221,164,0.75)",
          "size": 0.5
         },
         "mode": "markers",
         "text": "Lake Union Park ➔ King Street Station Plaza: 26 viagens ",
         "type": "scatter",
         "x": [
          0.3913836831937016
         ],
         "y": [
          -0.8104435899738687
         ]
        },
        {
         "hoverinfo": "text",
         "marker": {
          "color": "rgba(50,136,189,0.75)",
          "size": 0.5
         },
         "mode": "markers",
         "text": "King Street Station Plaza ➔ Lake Union Park: 31 viagens ",
         "type": "scatter",
         "x": [
          0.7740725363556237
         ],
         "y": [
          -0.45914236186609014
         ]
        },
        {
         "hoverinfo": "text",
         "marker": {
          "color": "rgba(102,194,165,0.75)",
          "size": 0.5
         },
         "mode": "markers",
         "text": "Burke-Gilman Trail ⮌ : 880 viagens ",
         "type": "scatter",
         "x": [
          0.718359027455076
         ],
         "y": [
          -0.542181065395867
         ]
        },
        {
         "hoverinfo": "text",
         "marker": {
          "color": "rgba(102,194,165,0.75)",
          "size": 0.5
         },
         "mode": "markers",
         "text": "Burke-Gilman Trail ➔ King Street Station Plaza: 0 viagens ",
         "type": "scatter",
         "x": [
          0.6470369388230562
         ],
         "y": [
          -0.625574295986087
         ]
        },
        {
         "hoverinfo": "text",
         "marker": {
          "color": "rgba(50,136,189,0.75)",
          "size": 0.5
         },
         "mode": "markers",
         "text": "King Street Station Plaza ➔ Burke-Gilman Trail: 1 viagens ",
         "type": "scatter",
         "x": [
          0.7722777354428204
         ],
         "y": [
          -0.46215484346624464
         ]
        },
        {
         "hoverinfo": "text",
         "marker": {
          "color": "rgba(50,136,189,0.75)",
          "size": 0.5
         },
         "mode": "markers",
         "text": "King Street Station Plaza ⮌ : 185 viagens ",
         "type": "scatter",
         "x": [
          0.7999716534158974
         ],
         "y": [
          -0.41236555837149563
         ]
        }
       ],
       "layout": {
        "height": 625,
        "hovermode": "closest",
        "margin": {
         "b": 25,
         "l": 25,
         "r": 25,
         "t": 25
        },
        "paper_bgcolor": "rgba(0,0,0,0)",
        "plot_bgcolor": "rgba(0,0,0,0)",
        "shapes": [
         {
          "fillcolor": "rgba(213,62,79,0.75)",
          "layer": "below",
          "line": {
           "color": "rgb(175,175,175)",
           "width": 0.5
          },
          "path": "M 0.6229187010081774,0.7822865791602749 Q 0.031861687213336196, 0.19744577201834312 -0.3452338719347044, 0.9385166880077158L -0.3452338719347044, 0.9385166880077158 L -0.2639112265865334, 0.9645469737040241 L -0.18066441809789902, 0.9835447971665284 L -0.09610039465560964, 0.995371646244274 L -0.010835708192758415, 0.9999412919906655 L 0.07450798085961882, 0.9972204173542691 L 0.15930843606668096, 0.9872288600917156 L 0.24294738168353305, 0.9700394681316403 L 0.32481501047179145, 0.9457775684441929 L 0.4043144297727051, 0.9146200532885622 L 0.48086601342074253, 0.8767940905006387 L 0.5539116277680676, 0.8325754672240407 L 0.6229187010081774, 0.7822865791602749 ",
          "type": "path"
         },
         {
          "fillcolor": "rgba(213,62,79,0.75)",
          "layer": "below",
          "line": {
           "color": "rgb(175, 175, 175)",
           "width": 0.5
          },
          "path": "M 0.9999999703501354,0.00024351535510523892 Q 0.11431488570286381, 0.1641100451122392 -0.3463769149657192, 0.9380954283967229L -0.3463769149657192, 0.9380954283967229 L -0.34603423280262074, 0.9382218872573277 L -0.3456915044706283, 0.9383482209376397 M -0.3456915044706283,0.9383482209376397 Q 0.1139149136595393, 0.16438793278686764 0.9999829217265603, 0.0058443353096745325L 0.9999829217265603, 0.0058443353096745325 L 0.9999953672122222, 0.0030439372682524732 L 0.9999999703501354, 0.00024351535510523892 ",
          "type": "path"
         },
         {
          "fillcolor": "rgba(253,174,97,0.75)",
          "layer": "below",
          "line": {
           "color": "rgb(175, 175, 175)",
           "width": 0.5
          },
          "path": "M 0.8739690235383102,0.4859816312325936 Q -0.05417843550151814, 0.19252193933837214 -0.9991533150257145, -0.04114186521203711L -0.9991533150257145, -0.04114186521203711 L -0.9986571894223205, 0.051805578996006074 L -0.9895331914699406, 0.14430545027584368 L -0.97186014770733, 0.23555859843844956 L -0.9457907439281896, 0.324776644326161 L -0.911550206056293, 0.4111887909935409 L -0.8694343543120802, 0.4940484829871824 M -0.8694343543120802,0.4940484829871824 Q -0.037927716436576955, 0.19637079295533388 0.6229187010081774, 0.7822865791602749L 0.6229187010081774, 0.7822865791602749 L 0.7192685477277928, 0.69473214712546 L 0.8034274603813727, 0.5954026502335523 L 0.8739690235383102, 0.4859816312325936 ",
          "type": "path"
         },
         {
          "fillcolor": "rgba(213,62,79,0.75)",
          "layer": "below",
          "line": {
           "color": "rgb(175, 175, 175)",
           "width": 0.5
          },
          "path": "M 0.9497767666958941,0.3129282560662959 Q -0.06309424217430858, 0.18978702960015392 -0.9480867207517846, -0.31801190218941133L -0.9480867207517846, -0.31801190218941133 L -0.9606726261860862, -0.27768346241130065 L -0.9715439345774787, -0.23685941650209266 M -0.9715439345774787,-0.23685941650209266 Q -0.07293970410924909, 0.18622513139867883 0.8739690235383102, 0.4859816312325936L 0.8739690235383102, 0.4859816312325936 L 0.9159689102329606, 0.4012492435963495 L 0.9497767666958941, 0.3129282560662959 ",
          "type": "path"
         },
         {
          "fillcolor": "rgba(213,62,79,0.75)",
          "layer": "below",
          "line": {
           "color": "rgb(175, 175, 175)",
           "width": 0.5
          },
          "path": "M 0.9999829217265603,0.0058443353096745325 Q -0.08382536614289776, 0.18158553904705388 -0.6531022914503184, -0.7572696989199709L -0.6531022914503184, -0.7572696989199709 L -0.6578837399034059, -0.7531195023173333 L -0.6626388161781432, -0.7489391158792742 M -0.6626388161781432,-0.7489391158792742 Q -0.08411268511406168, 0.18145262798566109 0.9997651526147238, 0.02167117018663315L 0.9997651526147238, 0.02167117018663315 L 0.9999053517125879, 0.01375818362015321 L 0.9999829217265603, 0.0058443353096745325 ",
          "type": "path"
         },
         {
          "fillcolor": "rgba(213,62,79,0.75)",
          "layer": "below",
          "line": {
           "color": "rgb(175, 175, 175)",
           "width": 0.5
          },
          "path": "M 0.9989744086360391,0.04527837110890709 Q -0.13320119839913586, 0.14918927825093214 -0.15774529781795002, -0.9874798332200644L -0.15774529781795002, -0.9874798332200644 L -0.1948963844779126, -0.9808238370458977 L -0.23176984016136787, -0.9727706518967223 M -0.23176984016136787,-0.9727706518967223 Q -0.13453998172387122, 0.14798308456624495 0.9903822155940469, 0.1383584729426672L 0.9903822155940469, 0.1383584729426672 L 0.9957664992011815, 0.09191887221144127 L 0.9989744086360391, 0.04527837110890709 ",
          "type": "path"
         },
         {
          "fillcolor": "rgba(213,62,79,0.75)",
          "layer": "below",
          "line": {
           "color": "rgb(175, 175, 175)",
           "width": 0.5
          },
          "path": "M 0.9997651526147238,0.02167117018663315 Q -0.1731238461541631, 0.10014057066339128 0.47969086073460565, -0.8774375636634741L 0.47969086073460565, -0.8774375636634741 L 0.4716583756483366, -0.8817813655780965 L 0.4635865592381494, -0.886051636245729 M 0.4635865592381494,-0.886051636245729 Q -0.17339146943688638, 0.09967646826868064 0.9989744086360391, 0.04527837110890709L 0.9989744086360391, 0.04527837110890709 L 0.9994394846167872, 0.033477105444329684 L 0.9997651526147238, 0.02167117018663315 ",
          "type": "path"
         },
         {
          "fillcolor": "rgba(102,194,165,0.75)",
          "layer": "below",
          "line": {
           "color": "rgb(175, 175, 175)",
           "width": 0.5
          },
          "path": "M 1.0,0.0 Q -0.18546027678456245, 0.07486311331352374 0.7197757132503252, -0.6942066858040087L 0.7197757132503252, -0.6942066858040087 L 0.7194375287371421, -0.6945571554916081 L 0.7190991735749842, -0.6949074604318007 M 0.7190991735749842,-0.6949074604318007 Q -0.1854329190241465, 0.07493085173801467 0.9999999703501354, 0.00024351535510523892L 0.9999999703501354, 0.00024351535510523892 L 0.9999999925875338, 0.00012175767845514412 L 1.0, 0.0 ",
          "type": "path"
         },
         {
          "fillcolor": "rgba(50,136,189,0.75)",
          "layer": "below",
          "line": {
           "color": "rgb(175, 175, 175)",
           "width": 0.5
          },
          "path": "M 0.9903822155940469,0.1383584729426672 Q -0.19951853560644656, -0.01386917263066252 0.9999999999998026, -6.283185325590418e-07L 0.9999999999998026, -6.283185325590418e-07 L 0.9931479549800504, -0.11686376478166298 L 0.9726858668109996, -0.23212540685184493 M 0.9726858668109996,-0.23212540685184493 Q -0.19982357400193662, -0.008398766164894215 0.9497767666958941, 0.3129282560662959L 0.9497767666958941, 0.3129282560662959 L 0.97399839395917, 0.22655491291286856 L 0.9903822155940469, 0.1383584729426672 ",
          "type": "path"
         },
         {
          "fillcolor": "rgba(244,109,67,0.75)",
          "layer": "below",
          "line": {
           "color": "rgb(175,175,175)",
           "width": 0.5
          },
          "path": "M -0.39186006572772364,0.9200248305822317 Q -0.08355988444084103, 0.18170785814662307 -0.44340254714210997, 0.8963225876814045L -0.44340254714210997, 0.8963225876814045 L -0.41779942220420513, 0.9085392907331153 L -0.39186006572772364, 0.9200248305822317 ",
          "type": "path"
         },
         {
          "fillcolor": "rgba(253,174,97,0.75)",
          "layer": "below",
          "line": {
           "color": "rgb(175, 175, 175)",
           "width": 0.5
          },
          "path": "M -0.3452344616220627,0.9385164710906914 Q -0.07949080897814535, 0.1835244160541044 -0.4484162980098726, 0.893824828296418L -0.4484162980098726, 0.893824828296418 L -0.445911452667668, 0.8950770784573863 L -0.44340311031811364, 0.8963223090831907 M -0.44340311031811364,0.8963223090831907 Q -0.07902129386157826, 0.18372706691296767 -0.3456915044706283, 0.9383482209376397L -0.3456915044706283, 0.9383482209376397 L -0.34546299328916275, 0.9384323738382494 L -0.3452344616220627, 0.9385164710906914 ",
          "type": "path"
         },
         {
          "fillcolor": "rgba(254,224,139,0.75)",
          "layer": "below",
          "line": {
           "color": "rgb(175, 175, 175)",
           "width": 0.5
          },
          "path": "M -0.34820377154030113,0.9374188676814169 Q -0.17354902337022618, 0.09940189378095715 -0.9847536918070957, -0.1739544954069756L -0.9847536918070957, -0.1739544954069756 L -0.988660828490248, -0.15016579573583483 L -0.9919933871873465, -0.1262898245171606 M -0.9919933871873465,-0.1262898245171606 Q -0.17130385808527712, 0.10322300230616839 -0.35185351331580406, 0.9360550759262648L -0.35185351331580406, 0.9360550759262648 L -0.35002930663304943, 0.9367387493308829 L -0.34820377154030113, 0.9374188676814169 ",
          "type": "path"
         },
         {
          "fillcolor": "rgba(255,255,191,0.75)",
          "layer": "below",
          "line": {
           "color": "rgb(175, 175, 175)",
           "width": 0.5
          },
          "path": "M -0.3697947558606889,0.9291134691403056 Q -0.1999803954306693, -0.0028002577369132535 -0.3436347481405775, -0.939103380821495L -0.3436347481405775, -0.939103380821495 L -0.447981326494485, -0.894042913462347 L -0.5465405890334605, -0.8374326149243043 M -0.5465405890334605,-0.8374326149243043 Q -0.1992298286307193, 0.017534976012935456 -0.39186006572772364, 0.9200248305822317L -0.39186006572772364, 0.9200248305822317 L -0.3808545229479741, 0.9246349724891824 L -0.3697947558606889, 0.9291134691403056 ",
          "type": "path"
         },
         {
          "fillcolor": "rgba(230,245,152,0.75)",
          "layer": "below",
          "line": {
           "color": "rgb(175, 175, 175)",
           "width": 0.5
          },
          "path": "M -0.35777292706535646,0.9338086167192329 Q -0.1928675424106, -0.0529349703362098 0.16903608900054717, -0.9856098622758394L 0.16903608900054717, -0.9856098622758394 L 0.09943287460152532, -0.9950442721047528 L 0.029339096626834007, -0.9995695160463435 M 0.029339096626834007,-0.9995695160463435 Q -0.19585014968727604, -0.04053046838455701 -0.3697947558606889, 0.9291134691403056L -0.3697947558606889, 0.9291134691403056 L -0.3637914160783491, 0.9314804375765009 L -0.35777292706535646, 0.9338086167192329 ",
          "type": "path"
         },
         {
          "fillcolor": "rgba(171,221,164,0.75)",
          "layer": "below",
          "line": {
           "color": "rgb(175, 175, 175)",
           "width": 0.5
          },
          "path": "M -0.34706214060235474,0.9378421352021412 Q -0.18416677062379472, -0.07799102895848081 0.4320178988108247, -0.9018650315358058L 0.4320178988108247, -0.9018650315358058 L 0.4299303766925252, -0.9028620443883015 L 0.427840553680049, -0.903854225318856 M 0.427840553680049,-0.903854225318856 Q -0.18429944709836665, -0.07767698371613273 -0.34820377154030113, 0.9374188676814169L -0.34820377154030113, 0.9374188676814169 L -0.3476330204910609, 0.9376306751937362 L -0.34706214060235474, 0.9378421352021412 ",
          "type": "path"
         },
         {
          "fillcolor": "rgba(102,194,165,0.75)",
          "layer": "below",
          "line": {
           "color": "rgb(175, 175, 175)",
           "width": 0.5
          },
          "path": "M -0.3463769149657192,0.9380954283967229 Q -0.16703261031362546, -0.11000048677990724 0.7249956917400161, -0.688753400687369L 0.7249956917400161, -0.688753400687369 L 0.7237365711028307, -0.6900763549407538 L 0.7224750363751956, -0.6913970073804627 M 0.7224750363751956,-0.6913970073804627 Q -0.16719315255224568, -0.10975631981640743 -0.34706214060235474, 0.9378421352021412L -0.34706214060235474, 0.9378421352021412 L -0.34671955091420226, 0.9379688443726977 L -0.3463769149657192, 0.9380954283967229 ",
          "type": "path"
         },
         {
          "fillcolor": "rgba(50,136,189,0.75)",
          "layer": "below",
          "line": {
           "color": "rgb(175, 175, 175)",
           "width": 0.5
          },
          "path": "M -0.35185351331580406,0.9360550759262648 Q -0.15089593710950314, -0.13126467980323145 0.8783121165657908, -0.4780876759483775L 0.8783121165657908, -0.4780876759483775 L 0.8741463825016277, -0.4856625391764512 L 0.8699153218233512, -0.49320110792350746 M 0.8699153218233512,-0.49320110792350746 Q -0.1516128816009182, -0.1304359388077763 -0.35777292706535646, 0.9338086167192329L -0.35777292706535646, 0.9338086167192329 L -0.35481499808597633, 0.9349365310721625 L -0.35185351331580406, 0.9360550759262648 ",
          "type": "path"
         },
         {
          "fillcolor": "rgba(253,174,97,0.75)",
          "layer": "below",
          "line": {
           "color": "rgb(175,175,175)",
           "width": 0.5
          },
          "path": "M -0.6990110624679736,0.7151108547263108 Q -0.1583947473124436, 0.12211103154026318 -0.8694343543120802, 0.4940484829871824L -0.8694343543120802, 0.4940484829871824 L -0.7919737365622179, 0.6105551577013159 L -0.6990110624679736, 0.7151108547263108 ",
          "type": "path"
         },
         {
          "fillcolor": "rgba(253,174,97,0.75)",
          "layer": "below",
          "line": {
           "color": "rgb(175, 175, 175)",
           "width": 0.5
          },
          "path": "M -0.5489851085424711,0.8358321306330664 Q -0.19249549793084136, 0.05427230671675427 -0.9047380003846264, -0.42596848552449024L -0.9047380003846264, -0.42596848552449024 L -0.9279835762473928, -0.3726210973832525 L -0.9480867207517846, -0.31801190218941133 M -0.9480867207517846,-0.31801190218941133 Q -0.19442926061538637, 0.0468749679099001 -0.6990110624679736, 0.7151108547263108L -0.6990110624679736, 0.7151108547263108 L -0.626910693263659, 0.7790911260383335 L -0.5489851085424711, 0.8358321306330664 ",
          "type": "path"
         },
         {
          "fillcolor": "rgba(253,174,97,0.75)",
          "layer": "below",
          "line": {
           "color": "rgb(175, 175, 175)",
           "width": 0.5
          },
          "path": "M -0.4484162980098726,0.893824828296418 Q -0.19818602745362535, 0.026875612033047072 -0.6702638991240049, -0.7421228372251361L -0.6702638991240049, -0.7421228372251361 L -0.6735103752133658, -0.7391777692003131 L -0.6767439111258844, -0.7362184993288617 M -0.6767439111258844,-0.7362184993288617 Q -0.19828923697291284, 0.026103227783169237 -0.4631550264391062, 0.8862772825048552L -0.4631550264391062, 0.8862772825048552 L -0.4558012848284716, 0.8900815629753908 L -0.4484162980098726, 0.893824828296418 ",
          "type": "path"
         },
         {
          "fillcolor": "rgba(253,174,97,0.75)",
          "layer": "below",
          "line": {
           "color": "rgb(175, 175, 175)",
           "width": 0.5
          },
          "path": "M -0.4781945530588306,0.8782539322000587 Q -0.19883212729100835, -0.021582056364773332 -0.27861932181215926, -0.9604016209445569L -0.27861932181215926, -0.9604016209445569 L -0.2946000787669024, -0.9556206326730995 L -0.3104988654764049, -0.9505737501834697 M -0.3104988654764049,-0.9505737501834697 Q -0.19877629390651413, -0.02209038208793855 -0.5116234978691953, 0.8592097511248866L -0.5116234978691953, 0.8592097511248866 L -0.4950006198924857, 0.8688926206995056 L -0.4781945530588306, 0.8782539322000587 ",
          "type": "path"
         },
         {
          "fillcolor": "rgba(253,174,97,0.75)",
          "layer": "below",
          "line": {
           "color": "rgb(175, 175, 175)",
           "width": 0.5
          },
          "path": "M -0.4631550264391062,0.8862772825048552 Q -0.17904798036530442, -0.08911689361229758 0.427840553680049, -0.903854225318856L 0.427840553680049, -0.903854225318856 L 0.42596877084227225, -0.9047378660513352 L 0.4240951629873288, -0.9056176305321971 M 0.4240951629873288,-0.9056176305321971 Q -0.178469170904415, -0.09027045494895167 -0.4781945530588306, 0.8782539322000587L -0.4781945530588306, 0.8782539322000587 L -0.47069188567763093, 0.8822976531518352 L -0.4631550264391062, 0.8862772825048552 ",
          "type": "path"
         },
         {
          "fillcolor": "rgba(102,194,165,0.75)",
          "layer": "below",
          "line": {
           "color": "rgb(175, 175, 175)",
           "width": 0.5
          },
          "path": "M -0.44340311031811364,0.8963223090831907 Q -0.1613786703578733, -0.11813942929236146 0.7204515700089393, -0.6935052525191532L 0.7204515700089393, -0.6935052525191532 L 0.7201137270343165, -0.6938560514521336 L 0.7197757132503252, -0.6942066858040087 M 0.7197757132503252,-0.6942066858040087 Q -0.16143618860801973, -0.11806081910488292 -0.44340311031811364, 0.8963223090831907L -0.44340311031811364, 0.8963223090831907 L -0.44340311031811364, 0.8963223090831907 L -0.44340311031811364, 0.8963223090831907 ",
          "type": "path"
         },
         {
          "fillcolor": "rgba(50,136,189,0.75)",
          "layer": "below",
          "line": {
           "color": "rgb(175, 175, 175)",
           "width": 0.5
          },
          "path": "M -0.5116234978691953,0.8592097511248866 Q -0.13148503460430272, -0.15070396701847408 0.9206437556319055, -0.3904037336091706L 0.9206437556319055, -0.3904037336091706 L 0.9101095491686924, -0.414367721368303 L 0.8989516972219966, -0.4380477668721662 M 0.8989516972219966,-0.4380477668721662 Q -0.13210778199863646, -0.15015836285535597 -0.5489851085424711, 0.8358321306330664L -0.5489851085424711, 0.8358321306330664 L -0.5304331082083668, 0.8477267942659422 L -0.5116234978691953, 0.8592097511248866 ",
          "type": "path"
         },
         {
          "fillcolor": "rgba(254,224,139,0.75)",
          "layer": "below",
          "line": {
           "color": "rgb(175,175,175)",
           "width": 0.5
          },
          "path": "M -0.9047380003846264,-0.42596848552449024 Q -0.17392302132320606, -0.09874605133273742 -0.8294264654510519, -0.558615913136544L -0.8294264654510519, -0.558615913136544 L -0.8696151066160303, -0.4937302566636871 L -0.9047380003846264, -0.42596848552449024 ",
          "type": "path"
         },
         {
          "fillcolor": "rgba(254,224,139,0.75)",
          "layer": "below",
          "line": {
           "color": "rgb(175, 175, 175)",
           "width": 0.5
          },
          "path": "M -0.9990921097616313,-0.04260230289611728 Q -0.1777938010509989, -0.09159347306352032 -0.614693121751793, -0.7887663570862004L -0.614693121751793, -0.7887663570862004 L -0.6290901916986941, -0.7773323167786736 L -0.6432746210450273, -0.7656355281198598 M -0.6432746210450273,-0.7656355281198598 Q -0.17762622021766206, -0.09191803898684216 -0.9965542652825862, -0.08294333214360838L -0.9965542652825862, -0.08294333214360838 L -0.9980270353136572, -0.0627856415355607 L -0.9990921097616313, -0.04260230289611728 ",
          "type": "path"
         },
         {
          "fillcolor": "rgba(230,245,152,0.75)",
          "layer": "below",
          "line": {
           "color": "rgb(175, 175, 175)",
           "width": 0.5
          },
          "path": "M -0.8294264654510519,-0.558615913136544 Q -0.05335768949664021, -0.19275102326986526 0.42409459397090543, -0.9056178969988683L 0.42409459397090543, -0.9056178969988683 L 0.29925019698867994, -0.9541746798161416 L 0.16903608900054717, -0.9856098622758394 M 0.16903608900054717,-0.9856098622758394 Q -0.05661207028802964, -0.19182041991848311 -0.677102853788972, -0.7358883919391785L -0.677102853788972, -0.7358883919391785 L -0.7584616208930152, -0.6517177070115098 L -0.8294264654510519, -0.558615913136544 ",
          "type": "path"
         },
         {
          "fillcolor": "rgba(254,224,139,0.75)",
          "layer": "below",
          "line": {
           "color": "rgb(175, 175, 175)",
           "width": 0.5
          },
          "path": "M -0.9847536918070957,-0.1739544954069756 Q -0.0804060114521061, -0.1831252940539995 0.5383572668797703, -0.8427167099314834L 0.5383572668797703, -0.8427167099314834 L 0.5202801795670732, -0.8539956292333434 L 0.5019668875989335, -0.864886838698705 M 0.5019668875989335,-0.864886838698705 Q -0.0784169016271373, -0.18398584059432366 -0.9715439345774787, -0.23685941650209266L -0.9715439345774787, -0.23685941650209266 L -0.9786543608567714, -0.205513118744338 L -0.9847536918070957, -0.1739544954069756 ",
          "type": "path"
         },
         {
          "fillcolor": "rgba(102,194,165,0.75)",
          "layer": "below",
          "line": {
           "color": "rgb(175, 175, 175)",
           "width": 0.5
          },
          "path": "M -0.999153289175321,-0.04114249299857167 Q -0.07066695048228416, -0.18709939099188538 0.7224750363751956, -0.6913970073804627L 0.7224750363751956, -0.6913970073804627 L 0.7218012322116482, -0.6921004126409305 L 0.7211267432095797, -0.6928031612427479 M 0.7211267432095797,-0.6928031612427479 Q -0.0707125095861483, -0.18708217709880567 -0.9990921097616313, -0.04260230289611728L -0.9990921097616313, -0.04260230289611728 L -0.9991229660829587, -0.04187240912093478 L -0.999153289175321, -0.04114249299857167 ",
          "type": "path"
         },
         {
          "fillcolor": "rgba(50,136,189,0.75)",
          "layer": "below",
          "line": {
           "color": "rgb(175, 175, 175)",
           "width": 0.5
          },
          "path": "M -0.9965542652825862,-0.08294333214360838 Q -0.024412299508464155, -0.19850450783976933 0.9467619547470754, -0.3219344670014331L 0.9467619547470754, -0.3219344670014331 L 0.9343302584774065, -0.35640842876332596 L 0.9206437556319055, -0.3904037336091706 M 0.9206437556319055,-0.3904037336091706 Q -0.027358166404011702, -0.19811999074048636 -0.9919933871873465, -0.1262898245171606L -0.9919933871873465, -0.1262898245171606 L -0.9945100156037608, -0.10464142995872802 L -0.9965542652825862, -0.08294333214360838 ",
          "type": "path"
         },
         {
          "fillcolor": "rgba(255,255,191,0.75)",
          "layer": "below",
          "line": {
           "color": "rgb(175,175,175)",
           "width": 0.5
          },
          "path": "M -0.5838975996720424,-0.8118273172893526 Q -0.11307281413986091, -0.16496829605258242 -0.5465405890334605, -0.8374326149243043L -0.5465405890334605, -0.8374326149243043 L -0.5653640706993045, -0.824841480262912 L -0.5838975996720424, -0.8118273172893526 ",
          "type": "path"
         },
         {
          "fillcolor": "rgba(230,245,152,0.75)",
          "layer": "below",
          "line": {
           "color": "rgb(175, 175, 175)",
           "width": 0.5
          },
          "path": "M -0.614693121751793,-0.7887663570862004 Q -0.07200921384557327, -0.18658690501035302 -0.0745684222902922, -0.9972158995910247L -0.0745684222902922, -0.9972158995910247 L -0.1162588228253134, -0.9932189517499515 L -0.15774529781795002, -0.9874798332200644 M -0.15774529781795002,-0.9874798332200644 Q -0.07621600840703614, -0.18490840992907434 -0.5838975996720424, -0.8118273172893526L -0.5838975996720424, -0.8118273172893526 L -0.5994062740263906, -0.8004449504230754 L -0.614693121751793, -0.7887663570862004 ",
          "type": "path"
         },
         {
          "fillcolor": "rgba(171,221,164,0.75)",
          "layer": "below",
          "line": {
           "color": "rgb(175, 175, 175)",
           "width": 0.5
          },
          "path": "M -0.6531022914503184,-0.7572696989199709 Q -0.022913096721589168, -0.19868313969390333 0.4635865592381494, -0.886051636245729L 0.4635865592381494, -0.886051636245729 L 0.4556928598629978, -0.8901370779098476 L 0.4477631601488465, -0.8941521975667892 M 0.4477631601488465,-0.8941521975667892 Q -0.023396851426525356, -0.19862675384581277 -0.6432746210450273, -0.7656355281198598L -0.6432746210450273, -0.7656355281198598 L -0.6482019527796035, -0.7614684684297235 L -0.6531022914503184, -0.7572696989199709 ",
          "type": "path"
         },
         {
          "fillcolor": "rgba(102,194,165,0.75)",
          "layer": "below",
          "line": {
           "color": "rgb(175, 175, 175)",
           "width": 0.5
          },
          "path": "M -0.6771023914165248,-0.7358888173753038 Q 0.006159965353126184, -0.19990511455900345 0.7211267432095797, -0.6928031612427479L 0.7211267432095797, -0.6928031612427479 L 0.7207892420940585, -0.6931542890882756 L 0.7204515700089393, -0.6935052525191532 M 0.7204515700089393,-0.6935052525191532 Q 0.006111285378759949, -0.19990660867269835 -0.6767439111258844, -0.7362184993288617L -0.6767439111258844, -0.7362184993288617 L -0.6769231713418338, -0.7360536801759192 L -0.6771023914165248, -0.7358888173753038 ",
          "type": "path"
         },
         {
          "fillcolor": "rgba(50,136,189,0.75)",
          "layer": "below",
          "line": {
           "color": "rgb(175, 175, 175)",
           "width": 0.5
          },
          "path": "M -0.6702638991240049,-0.7421228372251361 Q 0.031909672186405495, -0.19743802273360656 0.8699153218233512, -0.49320110792350746L 0.8699153218233512, -0.49320110792350746 L 0.8659848058757528, -0.5000703110486913 L 0.8620000490502104, -0.5069081923163551 M 0.8620000490502104,-0.5069081923163551 Q 0.03135663711768055, -0.1975266091155065 -0.6626388161781432, -0.7489391158792742L -0.6626388161781432, -0.7489391158792742 L -0.6664600719687807, -0.7455407248912481 L -0.6702638991240049, -0.7421228372251361 ",
          "type": "path"
         },
         {
          "fillcolor": "rgba(230,245,152,0.75)",
          "layer": "below",
          "line": {
           "color": "rgb(175,175,175)",
           "width": 0.5
          },
          "path": "M -0.0745684222902922,-0.9972158995910247 Q -0.004529052230202237, -0.1999487126387567 0.029339096626834007, -0.9995695160463435L 0.029339096626834007, -0.9995695160463435 L -0.022645261151011183, -0.9997435631937834 L -0.0745684222902922, -0.9972158995910247 ",
          "type": "path"
         },
         {
          "fillcolor": "rgba(230,245,152,0.75)",
          "layer": "below",
          "line": {
           "color": "rgb(175, 175, 175)",
           "width": 0.5
          },
          "path": "M -0.34157516008228467,-0.9398544621454757 Q 0.017704702996953033, -0.19921481745038366 0.5019668875989335, -0.864886838698705L 0.5019668875989335, -0.864886838698705 L 0.4908689885194458, -0.8712333993310266 L 0.47969086073460565, -0.8774375636634741 M 0.47969086073460565,-0.8774375636634741 Q 0.018432263300565924, -0.19914881789661373 -0.3104988654764049, -0.9505737501834697L -0.3104988654764049, -0.9505737501834697 L -0.3260810627529438, -0.9453418114702802 L -0.34157516008228467, -0.9398544621454757 ",
          "type": "path"
         },
         {
          "fillcolor": "rgba(230,245,152,0.75)",
          "layer": "below",
          "line": {
           "color": "rgb(175, 175, 175)",
           "width": 0.5
          },
          "path": "M -0.34363415808445424,-0.9391035967333893 Q 0.04478903111721967, -0.19492034960870744 0.7190991735749842, -0.6949074604318007L 0.7190991735749842, -0.6949074604318007 L 0.7190145581299462, -0.694995010915329 L 0.7189299320256181, -0.6950825510956523 M 0.7189299320256181,-0.6950825510956523 Q 0.04497887419082294, -0.1948766298880554 -0.34157516008228467, -0.9398544621454757L -0.34157516008228467, -0.9398544621454757 L -0.3426048647864601, -0.9394795935115628 L -0.34363415808445424, -0.9391035967333893 ",
          "type": "path"
         },
         {
          "fillcolor": "rgba(50,136,189,0.75)",
          "layer": "below",
          "line": {
           "color": "rgb(175, 175, 175)",
           "width": 0.5
          },
          "path": "M -0.27861932181215926,-0.9604016209445569 Q 0.10060390712590835, -0.1728550082323379 0.9726858668109996, -0.23212540685184493L 0.9726858668109996, -0.23212540685184493 L 0.9607738556716913, -0.27733300967925206 L 0.9467619547470754, -0.3219344670014331 M 0.9467619547470754,-0.3219344670014331 Q 0.09668513140544388, -0.17507708406616798 -0.23176984016136787, -0.9727706518967223L -0.23176984016136787, -0.9727706518967223 L -0.2552695093360814, -0.9668699383077934 L -0.27861932181215926, -0.9604016209445569 ",
          "type": "path"
         },
         {
          "fillcolor": "rgba(171,221,164,0.75)",
          "layer": "below",
          "line": {
           "color": "rgb(175,175,175)",
           "width": 0.5
          },
          "path": "M 0.5383572668797703,-0.8427167099314834 Q 0.12659248452458147, -0.1548365036478595 0.7189294952922296, -0.695083002812513L 0.7189294952922296, -0.695083002812513 L 0.6329624226229073, -0.7741825182392975 L 0.5383572668797703, -0.8427167099314834 ",
          "type": "path"
         },
         {
          "fillcolor": "rgba(171,221,164,0.75)",
          "layer": "below",
          "line": {
           "color": "rgb(175, 175, 175)",
           "width": 0.5
          },
          "path": "M 0.43771926128883115,-0.8991116995661662 Q 0.11864970813831438, -0.1610038718748491 0.7291752715685743, -0.6843269856822072L 0.7291752715685743, -0.6843269856822072 L 0.7270888500863615, -0.6865433737791753 L 0.7249956917400161, -0.688753400687369 M 0.7249956917400161,-0.688753400687369 Q 0.11906099237127149, -0.1606999691834695 0.4477631601488465, -0.8941521975667892L 0.4477631601488465, -0.8941521975667892 L 0.4427481550879729, -0.8966460121844051 L 0.43771926128883115, -0.8991116995661662 ",
          "type": "path"
         },
         {
          "fillcolor": "rgba(50,136,189,0.75)",
          "layer": "below",
          "line": {
           "color": "rgb(175, 175, 175)",
           "width": 0.5
          },
          "path": "M 0.4320178988108247,-0.9018650315358058 Q 0.1352949871293355, -0.1472931310607285 0.8620000490502104, -0.5069081923163551L 0.8620000490502104, -0.5069081923163551 L 0.860080595950693, -0.5101581798512113 L 0.8581488895244546, -0.5134008993057428 M 0.8581488895244546,-0.5134008993057428 Q 0.13520529152846728, -0.14737546994904605 0.43771926128883115, -0.8991116995661662L 0.43771926128883115, -0.8991116995661662 L 0.4348707591041129, -0.900492877748743 L 0.4320178988108247, -0.9018650315358058 ",
          "type": "path"
         },
         {
          "fillcolor": "rgba(102,194,165,0.75)",
          "layer": "below",
          "line": {
           "color": "rgb(175,175,175)",
           "width": 0.5
          },
          "path": "M 0.7291752715685743,-0.6843269856822072 Q 0.15963533943446134, -0.12048468119908157 0.8580235204722246, -0.5136103954520876L 0.8580235204722246, -0.5136103954520876 L 0.7981766971723067, -0.6024234059954078 L 0.7291752715685743, -0.6843269856822072 ",
          "type": "path"
         },
         {
          "fillcolor": "rgba(50,136,189,0.75)",
          "layer": "below",
          "line": {
           "color": "rgb(175, 175, 175)",
           "width": 0.5
          },
          "path": "M 0.7189299320256181,-0.6950825510956523 Q 0.15875093171313598, -0.12164761271891547 0.8581488895244546, -0.5134008993057428L 0.8581488895244546, -0.5134008993057428 L 0.8580863727142449, -0.5135053816291607 L 0.8580238431829839, -0.5136098563399094 M 0.8580238431829839,-0.5136098563399094 Q 0.15873611901790252, -0.12166694094590483 0.7189299320256181, -0.6950825510956523L 0.7189299320256181, -0.6950825510956523 L 0.7189299320256181, -0.6950825510956523 L 0.7189299320256181, -0.6950825510956523 ",
          "type": "path"
         },
         {
          "fillcolor": "rgba(50,136,189,0.75)",
          "layer": "below",
          "line": {
           "color": "rgb(175,175,175)",
           "width": 0.5
          },
          "path": "M 0.8783121165657908,-0.4780876759483775 Q 0.1777714785368661, -0.09163679074922126 0.8989516972219966, -0.4380477668721662L 0.8989516972219966, -0.4380477668721662 L 0.8888573926843304, -0.45818395374610627 L 0.8783121165657908, -0.4780876759483775 ",
          "type": "path"
         },
         {
          "fillcolor": "rgba(213,62,79,0.75)",
          "layer": "below",
          "line": {
           "color": "rgb(150,150,150)",
           "width": 0.45
          },
          "path": "M 1.1, 0.0 L 1.0997924295096861, 0.021368481302664256 L 1.0991697963760323, 0.042728898121435314 L 1.0981323355813382, 0.0640731890159634 L 1.0966804386642328, 0.08539329863183687 L 1.0948146535719068, 0.10668118074068028 L 1.0925356844533176, 0.12792880127680803 L 1.089844391393442, 0.14912814136928795 L 1.08674179008868, 0.17027120036827034 L 1.0832290514635299, 0.19134999886444037 L 1.0793075012286806, 0.2123565817004543 L 1.0749786193806865, 0.2332830209732228 L 1.0702440396434163, 0.2541214190259089 L 1.0651055488514836, 0.27486391142851047 L 1.059565086275894, 0.29550266994590324 L 1.0536247428921628, 0.3160299054922237 L 1.0472867605911789, 0.33643787107047707 L 1.0405535313331127, 0.35671886469626085 L 1.0334275962446886, 0.37686523230450053 L 1.0259116446601617, 0.3968693706381006 L 1.0180085131063608, 0.4167237301174208 L 1.009721184232179, 0.43642081768949387 L 1.0010527856829217, 0.4559531996559105 L 0.9920065889199293, 0.47531350447830384 L 0.9825860079859244, 0.4944944255603747 L 0.97279459821655, 0.513488724005407 L 0.9626360548985818, 0.5322892313482349 L 0.9521142118753242, 0.5508888522606267 L 0.941233040099714, 0.5692805672290691 L 0.9299966461356797, 0.5874574352039368 L 0.9184092706083204, 0.6054125962190522 L 0.9064752866034901, 0.6231392739806412 L 0.8941991980173911, 0.6406307784247138 L 0.8815856378567997, 0.6578805082418995 L 0.8686393664905652, 0.6748819533687872 L 0.8553652698530424, 0.6916286974448299 L 0.8417683576001364, 0.7081144202338837 L 0.8278537612186522, 0.7243329000094716 L 0.8136267320896691, 0.7402780159028675 L 0.7990926395066633, 0.7559437502131187 L 0.7842569686491329, 0.7713241906781307 L 0.7691253185124847, 0.7864135327059607 L 0.7537033997949703, 0.8012060815654756 L 0.7379970327424615, 0.8156962545355486 L 0.7220121449518863, 0.8298785830119828 L 0.7057547691341468, 0.8437477145713684 L 0.68923104083737, 0.8572984149910905 L 0.6724471961313454, 0.8705255702247305 L 0.6554095692540276, 0.8834241883321117 L 0.6381245902209889, 0.8959894013632612 L 0.6205987823987253, 0.9082164671955799 L 0.6028387600427334, 0.920100771323522 L 0.5848512258012825, 0.9316378286001152 L 0.566642968185831, 0.9428232849296582 L 0.5482208590090354, 0.9536529189109607 L 0.5295918507913218, 0.9641226434305039 L 0.510762974136999, 0.9742285072049203 L 0.4917413350809021, 0.9839666962722123 L 0.4725341124065681, 0.9933335354311447 L 0.45314855493695694, 1.0023254896282683 L 0.4335919787987399, 1.0109391652920532 L 0.4138717646611857, 1.0191713116136247 L 0.39399535495068994, 1.0270188217736227 L 0.3739702510419966, 1.0344787341147164 L 0.3538040104271733, 1.0415482332593382 L 0.33350424386340555, 1.0482246511722086 L 0.3130786125006912, 1.0545054681672552 L 0.292534824990516, 1.060388313858545 L 0.27188063457660044, 1.06587096805487 L 0.2511238361688195, 1.070951361597648 L 0.23027226340139637, 1.0756275771418276 L 0.20933378567648267, 1.0798978498794933 L 0.18831630519423778, 1.0837605682059073 L 0.16722775397053238, 1.0872142743277295 L 0.1460760908433981, 1.0902576648131905 L 0.12486929846935582, 1.0928895910840084 L 0.10361538031075274, 1.095109059848862 L 0.08232235761524934, 1.0969152334782608 L 0.06099826638859297, 1.0983074303206668 L 0.03965115436182306, 1.0992851249597508 L 0.01828907795404878, 1.0998479484126844 L -0.0030799007680499453, 1.0999956882693946 L -0.024447717132852893, 1.0997282887727278 L -0.04580630690741525, 1.0990458508394925 L -0.06714760934091535, 1.0979486320223728 L -0.08846357020678967, 1.0964370464127289 L -0.10974614484240423, 1.094511664484317 L -0.13098730118511875, 1.0921732128779935 L -0.15217902280359347, 1.0894225741274794 L -0.1733133119231978, 1.0862607863262912 L -0.1943821924443767, 1.0826890427359637 L -0.2153777129528393, 1.078708691335712 L -0.23629194972042858, 1.0743212343137032 L -0.257117009695544, 1.0695283275001284 L -0.2778450334819855, 1.064331779742292 L -0.29846819830509763, 1.0587335522219503 L -0.3189787209640912, 1.0527357577151601 L -0.3393688607694295, 1.0463406597949159 L -0.35963092246417294, 1.039550671976873 L -0.3797572591281749, 1.0323683568084874 L -0.3452338719347044, 0.9385166880077158 L -0.3269372022401572, 0.9450460654335209 L -0.3085171461540268, 0.9512187816317416 L -0.28998065542190105, 0.957032507013782 L -0.2713347257319069, 0.9624850474745001 L -0.25258639407453226, 0.9675743452202653 L -0.2337427360868582, 0.9722984795455711 L -0.21481086338220778, 0.9766556675579119 L -0.19579792086621753, 0.9806442648506473 L -0.17671108404034244, 0.9842627661236033 L -0.15755755629381615, 0.9875098057511738 L -0.13834456618508495, 0.9903841582977085 L -0.1190793647137443, 0.9928847389799941 L -0.09976922258400384, 0.9950106040766518 L -0.08042142746071788, 0.9967609512842989 L -0.06104328121901395, 0.9981351200203389 L -0.04164209718855932, 0.9991325916722658 L -0.02222519739350263, 0.9997529897933889 L -0.0027999097891363138, 0.9999960802449042 L 0.016626434503680707, 0.9998617712842585 L 0.036046503965293686, 0.9993501135997734 L 0.05545296944417542, 0.9984613002915153 L 0.07483850692295393, 0.9971956667984188 L 0.09419580028250248, 0.9955536907716925 L 0.11351754406305074, 0.993535991894553 L 0.132796446221271, 0.991143331648355 L 0.15202523088230216, 0.9883766130252085 L 0.1711966410856707, 0.9852368801871884 L 0.19030344152407513, 0.9817253180722666 L 0.20933842127399668, 0.9778432519471159 L 0.22829439651710862, 0.9735921469069526 L 0.2471642132514549, 0.9689736073226088 L 0.2659407499913781, 0.9639893762350409 L 0.2846169204551738, 0.9586413346975047 L 0.3031856762394596, 0.9529315010656441 L 0.3216400094792484, 0.946862030235762 L 0.33997295549272416, 0.9404352128315603 L 0.3581775954097181, 0.9336534743396568 L 0.37624705878289605, 0.9265193741942043 L 0.3941745261806726, 0.9190356048109574 L 0.4119532317608699, 0.911204990571153 L 0.4295764658241528, 0.903030486755586 L 0.44703757734627464, 0.8945151784292839 L 0.4643299764881809, 0.8856622792772002 L 0.4814471370830197, 0.8764751303913672 L 0.4983825990991231, 0.8669571990099643 L 0.5151299710780282, 0.8571120772087801 L 0.5316829325466204, 0.8469434805455592 L 0.5480352364024849, 0.8364552466577472 L 0.5641807112715684, 0.8256513338141634 L 0.5801132638372626, 0.8145358194211465 L 0.595826881140025, 0.8031128984837378 L 0.6113156328466776, 0.7913868820224822 L 0.6265736734885181, 0.7793621954464458 L 0.6415952446674061, 0.7670433768830621 L 0.6563746772289875, 0.7544350754654389 L 0.6709063934022377, 0.7415420495777714 L 0.6851849089045183, 0.7283691650595232 L 0.6992048350113497, 0.7149213933690551 L 0.7129608805901207, 0.7012038097073915 L 0.7264478540969665, 0.6872215911028351 L 0.7396606655360627, 0.6729800144571522 L 0.7525943283805928, 0.658484454554065 L 0.7652439614546693, 0.6437403820308033 L 0.777604790775493, 0.6287533613134817 L 0.7896721513550592, 0.6135290485170792 L 0.8014414889607269, 0.5980731893108177 L 0.8129083618339918, 0.5823916167497398 L 0.8240684423668091, 0.5664902490733101 L 0.8349175187348367, 0.5503750874718656 L 0.8454514964869815, 0.5340522138217607 L 0.855666400090649, 0.5175277883900627 L 0.8655583744321128, 0.5008080475096606 L 0.875123686271438, 0.48389930122566804 L 0.884358725651409, 0.46680793091400635 L 0.8932600072599313, 0.44954038687306785 L 0.9018241717453902, 0.4321031858893671 L 0.9100479869844742, 0.4145029087781004 L 0.9179283493019808, 0.39674619789953985 L 0.925462284642146, 0.3788397546522007 L 0.9326469496910561, 0.3607903369437278 L 0.9394796329497168, 0.342604756640455 L 0.9459577557573751, 0.3242898769966007 L 0.952078873264708, 0.30585261006407005 L 0.9578406753565116, 0.2872999140838397 L 0.9632409875235399, 0.268638790859912 L 0.9682777716831669, 0.24987628311682766 L 0.9729491269485603, 0.23101947184173535 L 0.9772532903460787, 0.2120754736120207 L 0.9811886374806187, 0.19305143790950388 L 0.9847536831486635, 0.1739545444222185 L 0.9879470818987999, 0.1547920003347912 L 0.9907676285394926, 0.13557103760844358 L 0.993214258593925, 0.11629891025164366 L 0.9952860487017334, 0.09698289158243661 L 0.9969822169674843, 0.07763027148348806 L 0.998302123255762, 0.05824835365087581 L 0.9992452694327565, 0.038844452837668464 L 0.9998112995542601, 0.01942589209333114 L 1.0, 0.0 L 1.1 ,0.0",
          "type": "path"
         },
         {
          "fillcolor": "rgba(244,109,67,0.75)",
          "layer": "below",
          "line": {
           "color": "rgb(150,150,150)",
           "width": 0.45
          },
          "path": "M -0.37975790778426904, 1.0323681181997606 L -0.38087246279216647, 1.031957444416498 L -0.381986573694644, 1.0315455673488334 L -0.38310023919262515, 1.0311324874770234 L -0.3842134579875517, 1.0307182052827282 L -0.38532622878138717, 1.0303027212490095 L -0.3864385502766168, 1.029886035860331 L -0.3875504211762498, 1.0294681496025564 L -0.3886618401838216, 1.02904906296295 L -0.38977280600339315, 1.0286287764301763 L -0.39088331733955534, 1.0282072904942976 L -0.39199337289742764, 1.0277846056467757 L -0.39310297138266204, 1.0273607223804704 L -0.39421211150144286, 1.0269356411896386 L -0.39532079196048886, 1.026509362569934 L -0.3964290114670553, 1.0260818870184063 L -0.3975367687289341, 1.0256532150335016 L -0.3986440624544573, 1.02522334711506 L -0.3997508913524965, 1.0247922837643173 L -0.4008572541324652, 1.024360025483902 L -0.4019631495043214, 1.0239265727778368 L -0.40306857617856695, 1.0234919261515367 L -0.40417353286625135, 1.0230560861118092 L -0.4052780182789709, 1.0226190531668526 L -0.4063820311288726, 1.022180827826257 L -0.4074855701286536, 1.0217414106010023 L -0.40858863399156375, 1.0213008020034589 L -0.40969122143140746, 1.020859002547385 L -0.41079333116254374, 1.0204160127479287 L -0.4118949618998896, 1.0199718331216254 L -0.4129961123589199, 1.019526464186398 L -0.41409678125566945, 1.0190799064615563 L -0.41519696730673533, 1.0186321604677961 L -0.4162966692292766, 1.0181832267271989 L -0.4173958857410178, 1.0177331057632306 L -0.4184946155602487, 1.0172817981007425 L -0.4195928574058272, 1.0168293042659684 L -0.4206906099971796, 1.0163756247865259 L -0.42178787205430285, 1.0159207601914153 L -0.42288464229776646, 1.015464711011018 L -0.42398091944871236, 1.0150074777770972 L -0.42507670222885846, 1.0145490610227967 L -0.42617198936049844, 1.01408946128264 L -0.427266779566504, 1.0136286790925308 L -0.4283610715703267, 1.0131667149897503 L -0.4294548640959983, 1.0127035695129585 L -0.4305481558681339, 1.0122392432021934 L -0.4316409456119317, 1.011773736598869 L -0.43273323205317527, 1.0113070502457762 L -0.4338250139182358, 1.010839184687081 L -0.4349162899340719, 1.010370140468325 L -0.43600705882823276, 1.0098999181364232 L -0.43709731932885837, 1.0094285182396654 L -0.438187070164682, 1.0089559413277134 L -0.43927631006503065, 1.0084821879516024 L -0.4403650377598273, 1.008007258663739 L -0.44145325197959256, 1.0075311540179006 L -0.442540951455445, 1.0070538745692357 L -0.44362813491910424, 1.0065754208742619 L -0.44471480110289097, 1.0060957934908665 L -0.445800948739729, 1.0056149929783056 L -0.4468865765631474, 1.0051330198972026 L -0.44797168330728065, 1.0046498748095485 L -0.4490562677068714, 1.0041655582787008 L -0.4501403284972708, 1.003680070869383 L -0.4512238644144412, 1.0031934131476832 L -0.4523068741949564, 1.0027055856810552 L -0.45338935657600365, 1.0022165890383163 L -0.45447131029538584, 1.0017264237896468 L -0.4555527340915214, 1.00123509050659 L -0.4566336267034476, 1.000742589762051 L -0.45771398687082027, 1.000248922130296 L -0.45879381333391644, 0.999754088186952 L -0.459873104833635, 0.9992580885090061 L -0.4609518601114999, 0.9987609236748044 L -0.462030077909659, 0.9982625942640516 L -0.4631077569708873, 0.9977631008578107 L -0.46418489603858815, 0.9972624440385015 L -0.46526149385679383, 0.9967606243899008 L -0.4663375491701693, 0.9962576424971404 L -0.46741306072401057, 0.9957534989467085 L -0.46848802726424826, 0.995248194326447 L -0.4695624475374484, 0.9947417292255519 L -0.47063632029081365, 0.9942341042345726 L -0.4717096442721863, 0.99372531994541 L -0.47278241823004724, 0.9932153769513181 L -0.47385464091351914, 0.9927042758469009 L -0.47492631107236755, 0.9921920172281135 L -0.4759974274570017, 0.9916786016922603 L -0.47706798881847784, 0.9911640298379946 L -0.4781379939084982, 0.9906483022653181 L -0.479207441479414, 0.9901314195755805 L -0.48027633028422617, 0.989613382371478 L -0.4813446590765884, 0.9890941912570527 L -0.48241242661080597, 0.9885738468376928 L -0.48347963164183927, 0.9880523497201308 L -0.48454627292530444, 0.9875297005124436 L -0.48561234921747454, 0.9870058998240516 L -0.4866778592752826, 0.9864809482657171 L -0.487742801856321, 0.985954846449545 L -0.44340254714210997, 0.8963225876814045 L -0.4424344175229842, 0.8968008620597427 L -0.4414657720158859, 0.8972780907491378 L -0.4404966117502767, 0.8977542731931305 L -0.4395269378562175, 0.8982294088364825 L -0.438556751464369, 0.8987034971251752 L -0.4375860537059894, 0.8991765375064115 L -0.43661484571293285, 0.8996485294286163 L -0.4356431286176491, 0.9001194723414367 L -0.43467090355318017, 0.9005893656957437 L -0.43369817165316166, 0.9010582089436313 L -0.43272493405181967, 0.9015260015384183 L -0.4317511918839705, 0.9019927429346485 L -0.4307769462850174, 0.9024584325880917 L -0.429802198390952, 0.9029230699557437 L -0.42882694933835114, 0.9033866544958272 L -0.427851200264376, 0.9038491856677932 L -0.42687495230677125, 0.9043106629323199 L -0.425898206603862, 0.9047710857513154 L -0.424920964294555, 0.9052304535879168 L -0.42394322651833566, 0.9056887659064913 L -0.4229649944152671, 0.906146022172637 L -0.4219862691259892, 0.9066022218531831 L -0.4210070517917157, 0.9070573644161914 L -0.42002734355423543, 0.907511449330956 L -0.419047145555909, 0.9079644760680039 L -0.41806645893966815, 0.9084164440990964 L -0.4170852848490149, 0.908867352897229 L -0.4161036244280184, 0.9093172019366326 L -0.41512147882131595, 0.9097659906927735 L -0.41413884917411037, 0.9102137186423546 L -0.4131557366321689, 0.9106603852633153 L -0.4121721423418215, 0.9111059900348331 L -0.41118806744996034, 0.9115505324373229 L -0.4102035131040374, 0.9119940119524392 L -0.4092184804520643, 0.9124364280630752 L -0.4082329706426103, 0.9128777802533643 L -0.40724698482480054, 0.9133180680086804 L -0.40626052414831576, 0.9137572908156387 L -0.40527358976338995, 0.914195448162096 L -0.4042861828208099, 0.9146325395371513 L -0.4032983044719129, 0.915068564431147 L -0.4023099558685863, 0.9155035223356687 L -0.4013211381632659, 0.9159374127435459 L -0.4003318525089339, 0.9163702351488536 L -0.39934210005911874, 0.9168019890469112 L -0.3983518819678927, 0.9172326739342849 L -0.3973611993898712, 0.9176622893087866 L -0.3963700534802116, 0.9180908346694755 L -0.39537844539461076, 0.9185183095166589 L -0.39438637628930523, 0.9189447133518918 L -0.3933938473210684, 0.9193700456779783 L -0.3924008596472106, 0.9197943059989718 L -0.39140741442557625, 0.9202174938201757 L -0.3904135128145439, 0.9206396086481441 L -0.38941915597302423, 0.9210606499906819 L -0.38842434506045814, 0.921480617356846 L -0.38742908123681674, 0.9218995102569455 L -0.38643336566259856, 0.9223173282025424 L -0.3854371994988294, 0.922734070706452 L -0.3844405839070604, 0.9231497372827435 L -0.3834435200493662, 0.9235643274467411 L -0.3824460090883451, 0.9239778407150235 L -0.3814480521871156, 0.9243902766054257 L -0.38044965050931695, 0.9248016346370386 L -0.37945080521910707, 0.9252119143302097 L -0.3784515174811605, 0.9256211152065443 L -0.37745178846066846, 0.9260292367889055 L -0.3764516193233358, 0.9264362786014148 L -0.3754510112353817, 0.9268422401694526 L -0.374449965363536, 0.9272471210196593 L -0.37344848287503973, 0.927650920679935 L -0.3724465649376431, 0.9280536386794408 L -0.3714442127196034, 0.9284552745485989 L -0.37044142738968505, 0.928855827819093 L -0.3694382101171569, 0.92925529802387 L -0.3684345620717917, 0.9296536846971387 L -0.36743048442386483, 0.9300509873743719 L -0.36642597834415175, 0.9304472055923061 L -0.3654210450039285, 0.9308423388889425 L -0.36441568557496834, 0.9312363868035473 L -0.3634099012295422, 0.9316293488766519 L -0.3624036931404157, 0.9320212246500545 L -0.3613970624808492, 0.9324120136668195 L -0.3603900104245957, 0.9328017154712784 L -0.35938253814589893, 0.9331903296090308 L -0.3583746468194935, 0.9335778556269441 L -0.3573663376206018, 0.9339642930731549 L -0.3563576117249342, 0.9343496414970688 L -0.35534847030868666, 0.9347339004493613 L -0.3543389145485392, 0.9351170694819783 L -0.35332894562165595, 0.9354991481481364 L -0.3523185647056816, 0.935880136002324 L -0.3513077729787425, 0.9362600326003008 L -0.35029657161944283, 0.9366388374990995 L -0.34928496180686514, 0.9370165502570255 L -0.3482729447205683, 0.9373931704336574 L -0.34726052154058545, 0.9377686975898484 L -0.346247693447424, 0.9381431312877255 L -0.3452344616220627, 0.9385164710906914 L -0.37975790778426904 ,1.0323681181997606",
          "type": "path"
         },
         {
          "fillcolor": "rgba(253,174,97,0.75)",
          "layer": "below",
          "line": {
           "color": "rgb(150,150,150)",
           "width": 0.45
          },
          "path": "M -0.48774342134992504, 0.9859545399915098 L -0.49918859111138014, 0.980209544181363 L -0.5105661035378505, 0.9743316960451287 L -0.5218744165825367, 0.968321792234708 L -0.5331119975775503, 0.962180647300118 L -0.544277323441644, 0.9559090935790915 L -0.5553688808866429, 0.9495079810842655 L -0.5663851666225459, 0.9429781773879771 L -0.5773246875612749, 0.936320567504675 L -0.5881859610190384, 0.9295360537709714 L -0.5989675149172877, 0.9226255557233438 L -0.6096678879822348, 0.9155900099735041 L -0.620285629942904, 0.9084303700814581 L -0.6308193017276947, 0.9011476064262636 L -0.6412674756594267, 0.8937427060745093 L -0.6516287356488373, 0.8862166726465363 L -0.6619016773865121, 0.8785705261804096 L -0.672084908533218, 0.8708053029936693 L -0.6821770489086116, 0.8629220555428734 L -0.6921767306783025, 0.8549218522809537 L -0.702082598539243, 0.8468057775124024 L -0.7118933099034169, 0.8385749312463127 L -0.7216075350798069, 0.8302304290472889 L -0.7312239574546158, 0.8217734018842484 L -0.7407412736697103, 0.8132049959771371 L -0.7501581937992737, 0.8045263726415757 L -0.7594734415246339, 0.7957387081314624 L -0.7686857543072487, 0.7868431934795498 L -0.7777938835598255, 0.7778410343360171 L -0.786796594815545, 0.768733450805065 L -0.7956926678953767, 0.7595216772795481 L -0.8044808970734547, 0.7502069622736712 L -0.8131600912404949, 0.7407905682537744 L -0.8217290740652312, 0.7312737714672242 L -0.8301866841538507, 0.7216578617694361 L -0.8385317752074007, 0.7119441424490585 L -0.8467632161771541, 0.7021339300513274 L -0.8548798914179034, 0.6922285541996327 L -0.862880700839171, 0.682229357415306 L -0.870764560054308, 0.6721376949356639 L -0.8785304005274687, 0.6619549345303241 L -0.8861771697184304, 0.651682456315829 L -0.8937038312252531, 0.6413216525685879 L -0.9011093649247446, 0.6308739275361789 L -0.9083927671107238, 0.6203406972470229 L -0.9155530506300587, 0.6097233893184624 L -0.9225892450164578, 0.5990234427632717 L -0.9295003966220027, 0.5882423077946196 L -0.9362855687464013, 0.5773814456295143 L -0.9429438417639421, 0.5664423282907608 L -0.9494743132481348, 0.5554264384074483 L -0.9558760980940223, 0.5443352690140031 L -0.962148328638141, 0.5331703233478323 L -0.9682901547761206, 0.5219331146455806 L -0.9743007440779017, 0.5106251659380365 L -0.9801792819005596, 0.4992480098437083 L -0.9859249714987164, 0.48780318836110087 L -0.9915370341325275, 0.4762922526597206 L -0.9970147091732279, 0.4647167628698409 L -1.0023572542062238, 0.4530782878710474 L -1.0075639451317153, 0.44137840507960296 L -1.0126340762628365, 0.4296187002346523 L -1.017566960421302, 0.4178007671832981 L -1.0223619290305417, 0.40592620766458226 L -1.0270183322063176, 0.3939966310923918 L -1.0315355388448035, 0.38201365433733003 L -1.035912936708124, 0.3699789015075736 L -1.0401499325073313, 0.3578940037287499 L -1.044245951982819, 0.34576059892286154 L -1.0482004399821525, 0.33358033158629424 L -1.0520128605353114, 0.3213548525669273 L -1.0556826969273325, 0.30908581884038916 L -1.0592094517683426, 0.29677489328547885 L -1.0625926470609712, 0.28442374445878854 L -1.0658318242651377, 0.2720340463685548 L -1.0689265443601963, 0.25960747824777586 L -1.071876387904442, 0.24714572432661358 L -1.0746809550919565, 0.23465047360412514 L -1.0773398658067976, 0.22212341961934395 L -1.079852759674518, 0.20956626022174507 L -1.0822192961110062, 0.19698069734113094 L -1.0844391543686516, 0.18436843675695747 L -1.0865120335798124, 0.17173118786714495 L -1.0884376527975972, 0.15907066345639365 L -1.090215751033941, 0.1463885794640432 L -1.0918460872949782, 0.13368665475150146 L -1.0933284406137067, 0.1209666108692826 L -1.0946626100799361, 0.10823017182367363 L -1.0958484148675172, 0.0954790638430752 L -1.0968856942588512, 0.08271501514403594 L -1.0977743076666722, 0.06993975569702039 L -1.098514134653101, 0.057155016991936494 L -1.0991050749459705, 0.044362531803459816 L -1.099547048452413, 0.03156403395618358 L -1.0998399952697187, 0.018761258089623933 L -1.0999838756934524, 0.005955939423117219 L -1.0999786702228358, -0.006850186479364268 L -1.0998243795633904, -0.019655383944437856 L -1.099521024626842, -0.03245791742455824 L -1.099068646528286, -0.04525605173324083 L -0.9991533150257145, -0.04114186521203711 L -0.9995645678425836, -0.029507197658689307 L -0.9998403450576276, -0.017868530858579867 L -0.999980609293487, -0.006227442253967516 L -0.999985341539502, 0.005414490384652017 L -0.9998545411542896, 0.017055689172385393 L -0.99958822586583, 0.028694576323803254 L -0.999186431769064, 0.04032957436678165 L -0.998649213321001, 0.0519591063563059 L -0.9979766433333382, 0.06358159608820035 L -0.997168812962592, 0.07519546831275994 L -0.9962258316977428, 0.08679914894825017 L -0.9951478273453964, 0.09839106529424875 L -0.9939349460124606, 0.10996964624480236 L -0.9925873520863437, 0.12153332250136496 L -0.9911052282126734, 0.1330805267854938 L -0.9894887752705429, 0.14460969405126695 L -0.987738212345284, 0.15611926169740448 L -0.985853776698774, 0.16760766977905223 L -0.9838357237372783, 0.17907336121920994 L -0.9816843269768344, 0.19051478201976824 L -0.9793998780061797, 0.20193038147213085 L -0.9769826864472332, 0.21331861236738647 L -0.974433079913129, 0.22467793120601232 L -0.9717514039638148, 0.23600679840706895 L -0.968938022059216, 0.247303678516868 L -0.9659933155099738, 0.25856704041708045 L -0.9629176834257659, 0.2697953575322535 L -0.9597115426612114, 0.2809871080367174 L -0.956375327759374, 0.29214077506084296 L -0.9529094908928658, 0.3032548468966311 L -0.9493145018025628, 0.3143278172026014 L -0.9455908477339374, 0.32535818520795445 L -0.9417390333710216, 0.336344455915976 L -0.9377595807680031, 0.34728514030666363 L -0.9336530292784704, 0.35817875553853795 L -0.9294199354823106, 0.36902382514962023 L -0.9250608731102745, 0.3798188792575437 L -0.9205764329662149, 0.3905624547587748 L -0.9159672228470138, 0.40125309552691174 L -0.9112338674602034, 0.41188935261004306 L -0.906377008339298, 0.42246978442712807 L -0.9013973037568431, 0.4329929569633823 L -0.8962954286351966, 0.4434574439646371 L -0.8910720744550541, 0.4538618271306439 L -0.8857279491617287, 0.46420469630730593 L -0.8802637770692004, 0.47448464967780046 L -0.8746802987619463, 0.4847002939525748 L -0.8689782709945657, 0.49485024455818455 L -0.8631584665892134, 0.504933125824953 L -0.8572216743308564, 0.5149475711734188 L -0.8511686988603648, 0.5248922232995584 L -0.8450003605654569, 0.5347657343587451 L -0.838717495469507, 0.5445667661484288 L -0.8323209551182351, 0.5542939902895112 L -0.8258116064642943, 0.5639460884063844 L -0.8191903317497677, 0.5735217523056171 L -0.8124580283865936, 0.5830196841532617 L -0.8056156088349367, 0.5924385966507536 L -0.7986640004795169, 0.6017772132093855 L -0.7916041455039163, 0.6110342681233307 L -0.7844370007628827, 0.6202085067411872 L -0.7771635376526395, 0.6292986856360296 L -0.769784741979231, 0.6383035727739339 L -0.7623016138249097, 0.6472219476809622 L -0.7547151674125915, 0.6560526016085783 L -0.7470264309683919, 0.6647943376974764 L -0.7392364465822681, 0.6734459711397949 L -0.731346270066777, 0.6820063293397011 L -0.7233569708139788, 0.6904742520723164 L -0.7152696316504954, 0.6988485916409681 L -0.7070853486907503, 0.7071282130327428 L -0.6988052311884079, 0.7153119940723179 L -0.6904304013860307, 0.7233988255740567 L -0.6819619943629761, 0.7313876114923414 L -0.6734011578815547, 0.7392772690701246 L -0.6647490522314689, 0.7470667289856803 L -0.6560068500725517, 0.7547549354975354 L -0.6471757362758335, 0.7623408465875569 L -0.6382569077629482, 0.7698234341021839 L -0.6292515733439114, 0.777201683891776 L -0.6201609535532833, 0.7844745959480667 L -0.6109862804847436, 0.7916411845396993 L -0.6017287976241018, 0.7987004783458269 L -0.5923897596807611, 0.8056515205877601 L -0.5829704324176606, 0.8124933691586448 L -0.5734720924797224, 0.8192250967511486 L -0.5638960272208218, 0.8258457909831437 L -0.5542435345293043, 0.8323545545213673 L -0.5445159226520797, 0.8387505052030397 L -0.5347145100173076, 0.8450327761554285 L -0.5248406250557044, 0.8512005159133408 L -0.5148956060204962, 0.8572528885345245 L -0.504880800806039, 0.8631890737129686 L -0.49479756676513087, 0.8690082668900831 L -0.48464727052504575, 0.8747096793637436 L -0.47443128780230615, 0.8802925383951891 L -0.46415100321622765, 0.8857560873137533 L -0.45380781010125465, 0.8910995856194208 L -0.44340311031811364, 0.8963223090831907 L -0.48774342134992504 ,0.9859545399915098",
          "type": "path"
         },
         {
          "fillcolor": "rgba(254,224,139,0.75)",
          "layer": "below",
          "line": {
           "color": "rgb(150,150,150)",
           "width": 0.45
          },
          "path": "M -1.099068618092853, -0.04525674229842885 L -1.0986747677469457, -0.05397920633165048 L -1.098211694991508, -0.06269826938503983 L -1.09767942900261, -0.07141338211080986 L -1.0970780033158665, -0.0801239954100639 L -1.0964074558243253, -0.08882956046739388 L -1.0956678287760788, -0.09752952878545745 L -1.0948591687716025, -0.10622335221953849 L -1.0939815267608182, -0.11491048301208001 L -1.0930349580398853, -0.12359037382719791 L -1.0920195222477156, -0.132262477785165 L -1.0909352833622161, -0.14092624849686944 L -1.0897823096962584, -0.1495811400982371 L -1.0885606738933742, -0.158226607284626 L -1.0872704529231783, -0.16686210534518253 L -1.0859117280765196, -0.17548709019716274 L -1.0844845849603588, -0.1841010184202101 L -1.082989113492375, -0.1927033472905953 L -1.0814254078953005, -0.2012935348154102 L -1.0797935666909841, -0.20987103976671811 L -1.0780936926941833, -0.21843532171565094 L -1.0763258930060873, -0.22698584106646139 L -1.0744902790075683, -0.2355220590905192 L -1.0725869663521643, -0.2440434379602559 L -1.070616074958792, -0.25254944078304803 L -1.0685777290041918, -0.2610395316350461 L -1.0664720569151034, -0.2695131755949397 L -1.0642991913601743, -0.2779698387776625 L -1.062059269241601, -0.28640898836802664 L -1.0597524316865046, -0.2948300926542954 L -1.0573788240380373, -0.30323262106168225 L -1.054938595846225, -0.31161604418578265 L -1.0524319008585463, -0.3199798338259257 L -1.0498588970102452, -0.32832346301845605 L -1.0472197464143793, -0.3366464060699342 L -1.0445146153516067, -0.3449481385902602 L -1.0417436742597088, -0.3532281375257099 L -1.038907097722853, -0.3614858811918923 L -1.0360050644605914, -0.36972084930661714 L -1.0330377573166012, -0.3779325230226778 L -1.0300053632471657, -0.3861203849605385 L -1.0269080733093927, -0.3942839192409337 L -1.023746082649179, -0.4024226115173704 L -1.0205195904889137, -0.41053594900853657 L -1.0172288001149274, -0.4186234205306067 L -1.0138739188646828, -0.4266845165294504 L -1.0104551581137124, -0.43471872911273646 L -1.0069727332622995, -0.4427255520819346 L -1.0034268637219086, -0.45070448096420596 L -0.9998177729013599, -0.4586550130441889 L -0.9961456881927527, -0.4665766473956741 L -0.9924108409571409, -0.474468884913163 L -0.9886134665099542, -0.48233122834331593 L -0.9847538041061717, -0.4901631823162811 L -0.9808320969252492, -0.49796425337690536 L -0.9768485920557957, -0.5057339500158261 L -0.9728035404800067, -0.5134717827004365 L -0.9686971970578513, -0.5211772639057297 L -0.9645298205110129, -0.5288499081450176 L -0.9603016734065901, -0.5364892320005155 L -0.9560130221405531, -0.5440947541538022 L -0.9516641369209587, -0.5516659954161456 L -0.9472552917509269, -0.559202478758693 L -0.9427867644113753, -0.5667037293425288 L -0.9382588364435196, -0.5741692745485888 L -0.9336717931311342, -0.5815986440074398 L -0.9290259234825765, -0.5889913696289156 L -0.92432152021258, -0.5963469856316079 L -0.9195588797238101, -0.6036650285722135 L -0.9147383020881902, -0.610945037374734 L -0.9098600910279945, -0.6181865533595257 L -0.9049245538967124, -0.6253891202722001 L -0.8999320016596838, -0.6325522843123682 L -0.8948827488745068, -0.6396755941622336 L -0.8897771136712175, -0.6467586010150292 L -0.8846154177322476, -0.6538008586032915 L -0.8793979862721565, -0.6608019232269805 L -0.8741251480171403, -0.6677613537814334 L -0.868797235184321, -0.6746787117851577 L -0.8634145834608138, -0.6815535614074579 L -0.8579775319825791, -0.6883854694958942 L -0.8524864233130535, -0.6951740056035738 L -0.8469416034215663, -0.7019187420162725 L -0.841343421661543, -0.7086192537793813 L -0.8356922307484932, -0.7152751187246817 L -0.8299883867377872, -0.7218859174969446 L -0.8242322490022245, -0.7284512335803511 L -0.8184241802093879, -0.7349706533247374 L -0.8125645462987976, -0.7414437659716545 L -0.8066537164588524, -0.7478701636802484 L -0.800692063103569, -0.7542494415529589 L -0.7946799618491192, -0.7605811976610272 L -0.7886177914901632, -0.7668650330698211 L -0.7825059339759832, -0.7731005518639695 L -0.77634477438642, -0.7792873611723078 L -0.770134700907608, -0.7854250711926308 L -0.7638761048075211, -0.7915132952162517 L -0.7575693804113185, -0.7975516496523666 L -0.7512149250764991, -0.8035397540522249 L -0.7448131391678688, -0.8094772311330968 L -0.6771028537889716, -0.7358883919391789 L -0.6829226591604537, -0.7304906855020226 L -0.6886994367375622, -0.7250469542294241 L -0.6944328225522919, -0.7195575411056833 L -0.7001224553705527, -0.7140227919933007 L -0.7057679767149272, -0.7084430556111888 L -0.7113690308872574, -0.7028186835126995 L -0.7169252649910574, -0.6971500300634736 L -0.7224363289537447, -0.6914374524191156 L -0.727901875548699, -0.6856813105026899 L -0.7333215604171385, -0.679881966982044 L -0.738695042089816, -0.6740397872469586 L -0.7440219820085344, -0.6681551393861249 L -0.7493020445474767, -0.6622283941639555 L -0.754534897034352, -0.6562599249972223 L -0.7597202097713573, -0.6502501079315288 L -0.7648576560559481, -0.6441993216176193 L -0.7699469122014239, -0.6381079472875204 L -0.7749876575573212, -0.6319763687305215 L -0.7799795745296173, -0.6258049722689947 L -0.7849223486007397, -0.6195941467340527 L -0.7898156683493827, -0.6133442834410524 L -0.7946592254701275, -0.6070557761649394 L -0.7994527147928695, -0.6007290211154368 L -0.8041958343020432, -0.5943644169120832 L -0.8088882851556521, -0.5879623645591174 L -0.813529771704097, -0.5815232674202123 L -0.8181200015088034, -0.575047531193062 L -0.8226586853606476, -0.5685355638838182 L -0.8271455372981767, -0.5619877757813869 L -0.8315802746256273, -0.5554045794315764 L -0.8359626179307365, -0.5487863896111032 L -0.8402922911023454, -0.5421336233014618 L -0.8445690213477968, -0.5354466996626506 L -0.848792539210122, -0.5287260400067634 L -0.8529625785850178, -0.5219720677714443 L -0.8570788767376138, -0.5151852084932079 L -0.8611411743190244, -0.5083658897806299 L -0.8651492153826897, -0.501514541287405 L -0.8691027474005028, -0.4946315946852747 L -0.8730015212787182, -0.4877174836368322 L -0.876845291373648, -0.4807726437681978 L -0.8806338155071375, -0.47379751264157244 L -0.8843668549818242, -0.46679252972766944 L -0.8880441745961778, -0.45975813637802365 L -0.8916655426593174, -0.45269477579718664 L -0.8952307310056106, -0.44560289301480094 L -0.8987395150090491, -0.4384829348575599 L -0.9021916735974008, -0.43133534992105727 L -0.9055869892661388, -0.4241605885415219 L -0.9089252480921453, -0.4169591027674444 L -0.9122062397471896, -0.4097313463310963 L -0.9154297575111814, -0.4024777746199405 L -0.918595598285193, -0.3951988446479422 L -0.921703562604257, -0.38789501502677304 L -0.924753454649934, -0.38056674593691514 L -0.9277450822626488, -0.3732144990986696 L -0.9306782569537991, -0.36583873774306397 L -0.9335527939176297, -0.358439926582667 L -0.9363685120428779, -0.35101853178230774 L -0.9391252339241829, -0.3435750209297071 L -0.9418227858732647, -0.33610986300601553 L -0.9444609979298662, -0.3286235283562657 L -0.9470397038724625, -0.32111648865973624 L -0.9495587412287333, -0.3135892169002365 L -0.9520179512857994, -0.3060421873363038 L -0.9544171791002228, -0.29847587547132365 L -0.9567562735077694, -0.2908907580235688 L -0.9590350871329316, -0.28328731289616604 L -0.9612534763982156, -0.27566601914698385 L -0.963411301533186, -0.2680273569584503 L -0.9655084265832736, -0.26037180760729695 L -0.9675447194183401, -0.2526998534342386 L -0.969520051741003, -0.24501197781358153 L -0.9714342990947198, -0.23730866512276916 L -0.973287340871629, -0.22959040071186182 L -0.9750790603201493, -0.2218576708729599 L -0.9768093445523348, -0.2141109628095629 L -0.9784780845509884, -0.20635076460587398 L -0.9800851751765303, -0.1985775651960463 L -0.9816305151736219, -0.19079185433338008 L -0.9831140071775459, -0.18299412255946382 L -0.9845355577203408, -0.17518486117326842 L -0.9858950772366897, -0.16736456220019097 L -0.9871924800695632, -0.15953371836105704 L -0.9884276844756166, -0.151692823041075 L -0.98960061263034, -0.1438423702587509 L -0.9907111906329622, -0.13598285463476098 L -0.9917593485111055, -0.12811477136079039 L -0.9927450202251958, -0.12023861616833181 L -0.9936681436726229, -0.11235488529745263 L -0.9945286606916528, -0.10446407546552727 L -0.995326517065093, -0.09656668383594408 L -0.996061662523708, -0.0886632079867795 L -0.9967340507493866, -0.08075414587944897 L -0.9973436393780604, -0.07283999582733082 L -0.9978903900023726, -0.06492125646437259 L -0.9983742681740981, -0.05699842671367257 L -0.9987952434063143, -0.04907200575604589 L -0.999153289175321, -0.04114249299857167 L -1.099068618092853 ,-0.04525674229842885",
          "type": "path"
         },
         {
          "fillcolor": "rgba(255,255,191,0.75)",
          "layer": "below",
          "line": {
           "color": "rgb(150,150,150)",
           "width": 0.45
          },
          "path": "M -0.7448126305581774, -0.8094776991128342 L -0.7415931161081852, -0.8124282430719355 L -0.7383619133030922, -0.8153659822333753 L -0.7351190730703477, -0.818290870295027 L -0.7318646465208204, -0.8212028611573117 L -0.7285986849479917, -0.824101908923925 L -0.7253212398271494, -0.8269879679025609 L -0.7220323628145741, -0.8298609926056312 L -0.7187321057467266, -0.832720937750983 L -0.7154205206394302, -0.835567758262612 L -0.7120976596870513, -0.8384014092713732 L -0.7087635752616761, -0.8412218461156882 L -0.705418319912286, -0.8440290243422486 L -0.7020619463639285, -0.8468228997067172 L -0.6986945075168868, -0.8496034281744249 L -0.695316056445846, -0.8523705659210653 L -0.6919266463990564, -0.8551242693333848 L -0.6885263307974941, -0.8578644950098704 L -0.6851151632340193, -0.8605911997614334 L -0.6816931974725315, -0.8633043406120904 L -0.6782604874471224, -0.8660038747996409 L -0.6748170872612251, -0.8686897597763406 L -0.6713630511867622, -0.8713619532095723 L -0.66789843366329, -0.8740204129825138 L -0.6644232892971406, -0.8766650971948002 L -0.6609376728605606, -0.8792959641631859 L -0.6574416392908493, -0.8819129724222005 L -0.6539352436894915, -0.8845160807248026 L -0.6504185413212892, -0.8871052480430305 L -0.6468915876134912, -0.8896804335686478 L -0.643354438154919, -0.8922415967137872 L -0.6398071486950909, -0.8947886971115907 L -0.6362497751433429, -0.8973216946168446 L -0.6326823735679482, -0.8998405493066133 L -0.6291050001952327, -0.9023452214808678 L -0.6255177114086897, -0.9048356716631122 L -0.6219205637480902, -0.907311860601005 L -0.6183136139085932, -0.9097737492669787 L -0.61469691873985, -0.912221298858854 L -0.6110705352451105, -0.9146544708004518 L -0.6074345205803231, -0.9170732267422015 L -0.6037889320532347, -0.9194775285617449 L -0.6001338271224872, -0.9218673383645376 L -0.5964692633967118, -0.9242426184844456 L -0.5927952986336211, -0.9266033314843392 L -0.5891119907390991, -0.9289494401566836 L -0.5854193977662877, -0.9312809075241246 L -0.5817175779146727, -0.933597696840072 L -0.5780065895291658, -0.9358997715892778 L -0.5742864910991855, -0.9381870954884134 L -0.5705573412577348, -0.9404596324866394 L -0.5668191987804774, -0.9427173467661756 L -0.563072122584811, -0.9449602027428645 L -0.5593161717289401, -0.9471881650667321 L -0.5555514054109414, -0.9494011986225466 L -0.5517778829678357, -0.9515992685303691 L -0.5479956638746494, -0.9537823401461061 L -0.5442048077434785, -0.9559503790620535 L -0.5404053743225482, -0.95810335110744 L -0.5365974234952717, -0.9602412223489659 L -0.5327810152793063, -0.9623639590913367 L -0.5289562098256074, -0.9644715278777949 L -0.5251230674174805, -0.9665638954906481 L -0.5212816484696308, -0.968641028951791 L -0.5174320135272115, -0.9707028955232264 L -0.5135742232648691, -0.9727494627075806 L -0.5097083384857874, -0.9747806982486154 L -0.5058344201207291, -0.9767965701317373 L -0.5019525292270749, -0.9787970465845015 L -0.49806272698786236, -0.9807820960771125 L -0.4941650747108204, -0.9827516873229216 L -0.4902596338274037, -0.9847057892789197 L -0.4863464658918242, -0.9866443711462265 L -0.48242563258008103, -0.9885674023705763 L -0.4784971956889885, -0.9904748526427989 L -0.474561217135202, -0.9923666918992978 L -0.4706177589542419, -0.9942428903225243 L -0.46666688329951644, -0.9961034183414469 L -0.4627086524413414, -0.9979482466320175 L -0.4587431287659592, -0.9997773461176337 L -0.4547703747745552, -1.001590687969597 L -0.4507904530822729, -1.0033882436075676 L -0.446803426417227, -1.0051699847000137 L -0.44280935761951457, -1.0069358831646598 L -0.4388083096402249, -1.008685911168927 L -0.43480034554044705, -1.0104200411303748 L -0.43078552849027596, -1.0121382457171322 L -0.4267639217678172, -1.0138404978483315 L -0.42273558875818895, -1.0155267706945335 L -0.4187005929525237, -1.0171970376781507 L -0.414658997946967, -1.0188512724738668 L -0.41061086744167535, -1.0204894490090504 L -0.4065562652398124, -1.022111541464167 L -0.4024952552465429, -1.0237175242731857 L -0.3984279014680258, -1.0253073721239818 L -0.39435426801040535, -1.0268810599587361 L -0.39027441907880084, -1.02843856297433 L -0.38618841897629425, -1.0299798566227354 L -0.3820963321029173, -1.031504916611403 L -0.3779982229546362, -1.0330137189036444 L -0.3436347481405783, -0.9391033808214947 L -0.347360301911743, -0.9377317423740026 L -0.3510803808875402, -0.9363453242024866 L -0.35479492643527344, -0.9349441481584817 L -0.3585038800094594, -0.9335282363261237 L -0.3622071831527507, -0.9320976110218016 L -0.3659047774968571, -0.9306522947938051 L -0.3695966047634658, -0.9291923104219699 L -0.3732826067651594, -0.9277176809173184 L -0.3769627254063336, -0.9262284295216969 L -0.38063690268411243, -0.9247245797074097 L -0.38430508068926267, -0.9232061551768486 L -0.3879672016071065, -0.9216731798621195 L -0.3916232077184327, -0.9201256779246655 L -0.39527304140040637, -0.918563673754886 L -0.39891664512747715, -0.9169871919717518 L -0.40255396147228595, -0.9153962574224178 L -0.40618493310656995, -0.9137908951818305 L -0.40980950280206624, -0.9121711305523341 L -0.41342761343141377, -0.91053698906327 L -0.41703920796905375, -0.908888496470576 L -0.42064422949212854, -0.9072256787563795 L -0.42424262118137857, -0.905548562128588 L -0.42783432632203805, -0.9038571730204766 L -0.43141928830472903, -0.9021515380902707 L -0.43499745062635314, -0.9004316842207262 L -0.43856875689098274, -0.8986976385187057 L -0.4421331508107492, -0.8969494283147513 L -0.4456905762067306, -0.8951870811626542 L -0.4492409770098367, -0.8934106248390196 L -0.452784297261693, -0.8916200873428295 L -0.4563204811155226, -0.8898154968950013 L -0.4598494728370264, -0.8879968819379429 L -0.4633712168052613, -0.8861642711351048 L -0.46688565751351735, -0.8843176933705277 L -0.4703927395701922, -0.8824571777483876 L -0.4738924076996643, -0.8805827535925372 L -0.477384606743164, -0.8786944504460437 L -0.4808692816596431, -0.8767922980707226 L -0.4843463775266421, -0.8748763264466696 L -0.4878158395411561, -0.8729465657717871 L -0.4912776130204983, -0.8710030464613091 L -0.4947316434031622, -0.8690457991473213 L -0.49817787624968124, -0.8670748546782782 L -0.5016162572434869, -0.8650902441185173 L -0.5050467321917649, -0.8630919987477695 L -0.5084692470263091, -0.8610801500606655 L -0.5118837478043736, -0.8590547297662404 L -0.5152901807095248, -0.8570157697874323 L -0.5186884920524861, -0.8549633022605813 L -0.5220786282719868, -0.8528973595349212 L -0.5254605359356053, -0.8508179741720707 L -0.5288341617406115, -0.8487251789455199 L -0.5321994525148069, -0.8466190068401133 L -0.5355563552173628, -0.8444994910515304 L -0.5389048169396555, -0.8423666649857628 L -0.5422447849061016, -0.8402205622585868 L -0.5455762064749883, -0.8380612166950341 L -0.5488990291393042, -0.835888662328859 L -0.5522132005275664, -0.8337029334020013 L -0.5555186684046458, -0.831504064364047 L -0.5588153806725908, -0.8292920898716853 L -0.5621032853714483, -0.8270670447881624 L -0.565382330680082, -0.8248289641827318 L -0.5686524649169906, -0.822577883330102 L -0.5719136365411206, -0.8203138377098798 L -0.5751657941526801, -0.818036863006012 L -0.5784088864939481, -0.8157469951062223 L -0.5816428624500826, -0.813444270101446 L -0.5848676710499263, -0.8111287242852611 L -0.5880832614668101, -0.8088003941533161 L -0.5912895830193537, -0.8064593164027549 L -0.5944865851722649, -0.8041055279316387 L -0.5976742175371357, -0.801739065838364 L -0.6008524298732368, -0.7993599674210781 L -0.6040211720883095, -0.796968270177091 L -0.6071803942393545, -0.7945640118022852 L -0.6103300465334202, -0.7921472301905202 L -0.6134700793283865, -0.7897179634330368 L -0.6166004431337476, -0.7872762498178553 L -0.6197210886113923, -0.784822127829173 L -0.6228319665763812, -0.7823556361467575 L -0.6259330279977219, -0.7798768136453367 L -0.6290242239991422, -0.7773856993939862 L -0.63210550585986, -0.7748823326555139 L -0.6351768250153516, -0.7723667528858408 L -0.6382381330581167, -0.7698389997333792 L -0.6412893817384417, -0.7672991130384077 L -0.64433052296516, -0.7647471328324438 L -0.6473615088064102, -0.762183099337612 L -0.6503822914903911, -0.7596070529660108 L -0.653392823406115, -0.7570190343190754 L -0.6563930571041582, -0.7544190841869374 L -0.6593829452974085, -0.7518072435477826 L -0.6623624408618106, -0.7491835535672045 L -0.6653314968371093, -0.746548055597556 L -0.6682900664275888, -0.7439007911772972 L -0.6712381030028111, -0.7412418020303412 L -0.6741755600983501, -0.7385711300653959 L -0.6771023914165248, -0.7358888173753038 L -0.7448126305581774 ,-0.8094776991128342",
          "type": "path"
         },
         {
          "fillcolor": "rgba(230,245,152,0.75)",
          "layer": "below",
          "line": {
           "color": "rgb(150,150,150)",
           "width": 0.45
          },
          "path": "M -0.3779975738928997, -1.0330139564067282 L -0.3697555077891956, -1.0359926951767346 L -0.36148997151932105, -1.038905674491655 L -0.3532014897367448, -1.0417527094506374 L -0.34489058855139804, -1.0445336193386359 L -0.3365577954962795, -1.0472482276378818 L -0.32820363949397063, -1.0498963620390882 L -0.3198286508230621, -1.052477854452387 L -0.31143336108449376, -1.0549925410179997 L -0.3030183031678149, -1.0574402621166352 L -0.2945840112173537, -1.0598208623796261 L -0.2861310205983162, -1.0621341906987865 L -0.27765986786280306, -1.0643801002360063 L -0.26917109071575235, -1.0665584484325705 L -0.26066522798080827, -1.0686690970182087 L -0.25214281956611995, -1.0707119120198707 L -0.24360440643007053, -1.0726867637702318 L -0.23505053054694008, -1.0745935269159228 L -0.22648173487250384, -1.0764320804254865 L -0.21789856330956817, -1.0782023075970606 L -0.20930156067344652, -1.0799040960657849 L -0.20069127265737713, -1.081537337810934 L -0.1920682457978846, -1.0831019291627744 L -0.1834330274400922, -1.0845977708091432 L -0.17478616570297353, -1.0860247678017536 L -0.1661282094445647, -1.0873828295622214 L -0.15745970822712446, -1.0886718698878137 L -0.14878121228225114, -1.0898918069569217 L -0.1400932724759566, -1.091042563334253 L -0.13139644027370012, -1.092124065975748 L -0.1226912677053843, -1.0931362462332157 L -0.11397830733031496, -1.0940790398586915 L -0.10525811220212766, -1.094952387008515 L -0.09653123583368259, -1.0957562322471281 L -0.08779823216193054, -1.0964905245505954 L -0.07905965551275179, -1.0971552173098413 L -0.07031606056577039, -1.0977502683336093 L -0.061568002319144964, -1.0982756398511395 L -0.05281603605434427, -1.098731298514567 L -0.044060717300894864, -1.0991172154010376 L -0.035302601801122935, -1.0994333660145446 L -0.026542245474877667, -1.099679730287483 L -0.017780204384244287, -1.099856292581924 L -0.009017034698248156, -1.0999630416906063 L -0.0002532926575520297, -1.0999999708376496 L 0.008510465460851222, -1.099967077678982 L 0.0172736833789482, -1.0998643643024917 L 0.02603580485301463, -1.0996918372278917 L 0.03479627370892282, -1.0994495074063082 L 0.04355453387744474, -1.0991373902195842 L 0.05231002942954936, -1.0987555054793035 L 0.0610622046116863, -1.0983038774255331 L 0.06981050388106798, -1.097782534725285 L 0.07855437194092872, -1.0971915104706955 L 0.08729325377577314, -1.096530842176926 L 0.09602659468660557, -1.0958005717797807 L 0.10475384032613953, -1.0950007456330457 L 0.11347443673398487, -1.0941314145055452 L 0.12218783037181018, -1.0931926335779207 L 0.13089346815847866, -1.0921844624391273 L 0.13959079750515482, -1.0911069650826517 L 0.14827926635037988, -1.0899602099024501 L 0.15695832319511396, -1.0887442696886072 L 0.1656274171377421, -1.0874592216227148 L 0.174285997909043, -1.0861051472729744 L 0.18293351590711782, -1.0846821325890181 L 0.19156942223227263, -1.0831902678964547 L 0.20019316872186516, -1.0816296478911342 L 0.20880420798509566, -1.0800003716331383 L 0.21740199343775332, -1.0783025425404928 L 0.22598597933691075, -1.076536268382602 L 0.2345556208155646, -1.074701661273409 L 0.24311037391722132, -1.0727988376642794 L 0.25164969563042433, -1.070827918336609 L 0.26017304392322177, -1.0687890283941568 L 0.26867987777757196, -1.0666822972551053 L 0.27716965722368414, -1.0645078586438457 L 0.28564184337429316, -1.0622658505824876 L 0.2940958984588663, -1.0599564153821006 L 0.3025312858577332, -1.0575796996336808 L 0.31094747013615814, -1.0551358541988436 L 0.31934391707831367, -1.0526250342002508 L 0.3277200937212, -1.0500473990117627 L 0.33607546838846997, -1.0474031122483218 L 0.34440951072417847, -1.0446923417555678 L 0.352721691726446, -1.0419152595991836 L 0.36101148378103776, -1.039072042053973 L 0.36927836069485337, -1.0361628695926726 L 0.37752179772932687, -1.0331879268744952 L 0.38574127163373473, -1.0301474027334097 L 0.3939362606784087, -1.0270414901661533 L 0.40210624468785283, -1.0238703863199836 L 0.41025070507376155, -1.0206342924801624 L 0.41836912486793754, -1.0173334140571793 L 0.42646098875510274, -1.0139679605737157 L 0.43452578310561357, -1.0105381456513423 L 0.44256299600805943, -1.0070441869969613 L 0.45057211730175734, -1.003486306388987 L 0.4585526386091345, -0.9998647296632683 L 0.4665040533679969, -0.9961796866987549 L 0.4240945939709062, -0.905617896998868 L 0.4168660350992131, -0.9089679360575166 L 0.40961101572887026, -0.9122602785354426 L 0.40232999637096306, -0.9154947154517828 L 0.3950234391869214, -0.9186710415012201 L 0.3876918079591843, -0.9217890550670143 L 0.3803355680617614, -0.9248485582337993 L 0.3729551864306923, -0.9278493568001476 L 0.36555113153441166, -0.9307912602908942 L 0.35812387334400786, -0.9336740819692303 L 0.35067388330339516, -0.9364976388485541 L 0.34320163429938805, -0.9392617517040865 L 0.33570760063168487, -0.9419662450842478 L 0.3281922579827616, -0.9446109473217936 L 0.32065608338767815, -0.9471956905447123 L 0.31309955520379856, -0.9497203106868798 L 0.3055231530804272, -0.9521846474984743 L 0.2979273579283636, -0.9545885445561478 L 0.29031265188937605, -0.9569318492729553 L 0.2826795183055983, -0.9592144129080395 L 0.2750284416888483, -0.9614360905760735 L 0.26735990768987844, -0.9635967412564551 L 0.2596744030675392, -0.9656962278022614 L 0.25197241565789463, -0.9677344169489505 L 0.2442544343432472, -0.969711179322823 L 0.2365209490211107, -0.9716263894492333 L 0.22877245057311302, -0.9734799257605534 L 0.22100943083383753, -0.9752716706038903 L 0.21323238255960417, -0.9770015102485536 L 0.20544179939719157, -0.9786693348932745 L 0.197638175852503, -0.9802750386731752 L 0.18982200725917786, -0.9818185196664894 L 0.18199378974715014, -0.9832996799010311 L 0.17415402021115692, -0.9847184253604133 L 0.166303196279198, -0.9860746659900165 L 0.15844181628094817, -0.9873683157027039 L 0.15057037921612917, -0.988599292384286 L 0.14268938472283085, -0.9897675178987336 L 0.13479933304579989, -0.9908729180931365 L 0.1269007250046862, -0.9919154228024106 L 0.11899406196225332, -0.992894965853752 L 0.1110798457925547, -0.9938114850708369 L 0.10315857884907714, -0.9946649222777683 L 0.09523076393285411, -0.9954552233027687 L 0.0872969042605505, -0.9961823379816188 L 0.07935750343252103, -0.9968462201608418 L 0.07141306540084429, -0.9974468277006322 L 0.06346409443733451, -0.9979841224775318 L 0.055511095101532994, -0.9984580703868483 L 0.047554572208681235, -0.9988686413448213 L 0.03959503079767703, -0.9992158092905311 L 0.03163297609902074, -0.9994995521875529 L 0.02366891350274057, -0.9997198520253561 L 0.015703348526316545, -0.9998766948204468 L 0.00773678678259202, -0.9999700706172564 L -0.000230266052320027, -0.9999999734887722 L -0.008197304271134687, -0.9999664015369149 L -0.016163822167494804, -0.9998693568926581 L -0.024129314068070604, -0.9997088457158936 L -0.03209327436465721, -0.9994848781950404 L -0.04005519754626805, -0.9991974685463977 L -0.04801457823122206, -0.9988466350132426 L -0.05597091119922269, -0.9984323998646722 L -0.06392369142342762, -0.9979547893941901 L -0.07187241410250163, -0.9974138339180375 L -0.07981657469266412, -0.9968095677732685 L -0.08775566893971144, -0.9961420293155709 L -0.09568919291102514, -0.9954112609168316 L -0.10361664302755905, -0.9946173089624468 L -0.1115375160958039, -0.9937602238483779 L -0.11945130933972738, -0.9928400599779528 L -0.1273575204326878, -0.9918568757584117 L -0.1352556475293192, -0.9908107335972015 L -0.14314518929738587, -0.9897016998980125 L -0.15102564494960424, -0.9885298450565648 L -0.15889651427543047, -0.9872952434561396 L -0.16675729767281108, -0.9859979734628573 L -0.17460749617989507, -0.984638117420704 L -0.18244661150670646, -0.9832157616463036 L -0.19027414606676954, -0.9817309964234406 L -0.19808960300869832, -0.9801839159973277 L -0.20589248624773074, -0.978574618568624 L -0.21368230049721823, -0.9769032062872025 L -0.2214585513000641, -0.9751697852456652 L -0.229220745060109, -0.9733744654726096 L -0.23696838907346204, -0.9715173609256441 L -0.24470099155977484, -0.969598589484155 L -0.2524180616934573, -0.9676182729418239 L -0.26011910963483287, -0.9655765369988968 L -0.2678036465612306, -0.9634735112542054 L -0.2754711846980135, -0.9613093291969411 L -0.28312123734953976, -0.9590841281981813 L -0.29075331893005646, -0.95679804950217 L -0.2983669449945187, -0.9544512382173528 L -0.305961632269345, -0.9520438433071652 L -0.3135368986830891, -0.9495760175805781 L -0.3210922633970407, -0.9470479176823976 L -0.3286272468357464, -0.9444597040833227 L -0.3361413707174505, -0.9418115410697586 L -0.34363415808445424, -0.9391035967333893 L -0.3779975738928997 ,-1.0330139564067282",
          "type": "path"
         },
         {
          "fillcolor": "rgba(171,221,164,0.75)",
          "layer": "below",
          "line": {
           "color": "rgb(150,150,150)",
           "width": 0.45
          },
          "path": "M 0.4665046792860617, -0.996179393585417 L 0.4701672360733334, -0.9944560171888763 L 0.47382342642770053, -0.9927191750783873 L 0.4774732008414817, -0.9909688907721524 L 0.48111650989386967, -0.9892051879703938 L 0.48475330425160323, -0.9874280905550301 L 0.4883835346696381, -0.9856376225893523 L 0.4920071519918079, -0.9838338083177007 L 0.49562410715149297, -0.9820166721651347 L 0.4992343511722873, -0.9801862387371012 L 0.502837835168656, -0.9783425328191041 L 0.5064345103466006, -0.976485579376367 L 0.5100243280043216, -0.9746154035534942 L 0.5136072395328733, -0.9727320306741328 L 0.5171831964168244, -0.970835486240628 L 0.5207521502349176, -0.9689257959336772 L 0.5243140526607198, -0.9670029856119846 L 0.5278688554632803, -0.965067081311909 L 0.5314165105077819, -0.9631181092471124 L 0.5349569697561964, -0.9611560958082034 L 0.5384901852679295, -0.9591810675623822 L 0.542016109200473, -0.9571930512530799 L 0.5455346938100549, -0.9551920737995944 L 0.5490458914522808, -0.9531781622967296 L 0.5525496545827814, -0.9511513440144261 L 0.5560459357578595, -0.9491116463973912 L 0.5595346876351267, -0.9470590970647299 L 0.563015862974147, -0.9449937238095695 L 0.5664894146370795, -0.9429155545986816 L 0.5699552955893111, -0.9408246175721069 L 0.5734134589000963, -0.9387209410427722 L 0.5768638577431952, -0.9366045534961054 L 0.5803064453975018, -0.9344754835896535 L 0.58374117524768, -0.9323337601526921 L 0.5871680007847973, -0.9301794121858344 L 0.5905868756069491, -0.928012468860641 L 0.5939977534198896, -0.9258329595192235 L 0.5974005880376613, -0.9236409136738458 L 0.6007953333832153, -0.9214363610065273 L 0.6041819434890384, -0.9192193313686394 L 0.6075603724977766, -0.9169898547805003 L 0.610930574662852, -0.9147479614309711 L 0.6142925043490852, -0.9124936816770455 L 0.6176461160333147, -0.9102270460434371 L 0.6209913643050087, -0.9079480852221696 L 0.6243282038668827, -0.9056568300721595 L 0.6276565895355152, -0.9033533116187963 L 0.6309764762419546, -0.9010375610535258 L 0.6342878190323327, -0.8987096097334261 L 0.6375905730684718, -0.8963694891807831 L 0.640884693628495, -0.8940172310826622 L 0.6441701361074266, -0.891652867290483 L 0.6474468560178015, -0.8892764298195834 L 0.6507148089902631, -0.8868879508487899 L 0.6539739507741666, -0.88448746271998 L 0.657224237238177, -0.882074997937645 L 0.6604656243708694, -0.8796505891684481 L 0.6636980682813206, -0.8772142692407846 L 0.6669215251997056, -0.8747660711443366 L 0.6701359514778926, -0.8723060280296242 L 0.6733413035900296, -0.8698341732075601 L 0.6765375381331359, -0.8673505401489964 L 0.6797246118276917, -0.8648551624842705 L 0.6829024815182207, -0.8623480740027524 L 0.6860711041738754, -0.8598293086523857 L 0.689230436889023, -0.8572989005392266 L 0.6923804368838213, -0.8547568839269847 L 0.6955210615048009, -0.8522032932365583 L 0.6986522682254438, -0.8496381630455654 L 0.7017740146467563, -0.8470615280878802 L 0.7048862584978441, -0.84447342325316 L 0.7079889576364876, -0.8418738835863719 L 0.7110820700497075, -0.8392629442873211 L 0.7141655538543368, -0.8366406407101729 L 0.7172393672975892, -0.8340070083629718 L 0.7203034687576207, -0.8313620829071648 L 0.7233578167440952, -0.8287059001571163 L 0.7264023698987481, -0.8260384960796214 L 0.7294370869959427, -0.8233599067934227 L 0.73246192694323, -0.8206701685687194 L 0.7354768487819079, -0.8179693178266741 L 0.7384818116875705, -0.8152573911389234 L 0.7414767749706643, -0.8125344252270811 L 0.7444616980770402, -0.8098004569622383 L 0.747436540588499, -0.8070555233644693 L 0.750401262223341, -0.8042996616023262 L 0.7533558228369114, -0.8015329089923384 L 0.7563001824221446, -0.7987553029985034 L 0.7592343011101034, -0.795966881231784 L 0.7621581391705202, -0.7931676814495976 L 0.7650716570123374, -0.7903577415553014 L 0.7679748151842388, -0.7875370995976851 L 0.7708675743751868, -0.7847057937704526 L 0.7737498954149556, -0.7818638624117022 L 0.7766217392746588, -0.779011344003413 L 0.7794830670672787, -0.7761482771709208 L 0.7823338400481954, -0.7732747006823932 L 0.7851740196157078, -0.7703906534483089 L 0.7880035673115573, -0.767496174520929 L 0.790822444821452, -0.764591303093765 L 0.718929495292229, -0.6950830028125136 L 0.7163668793741429, -0.6977237950190263 L 0.713794563287007, -0.7003551394984626 L 0.7112125818619958, -0.7029770006203574 L 0.7086209700611623, -0.7055893428826553 L 0.7060197629769626, -0.7081921309121936 L 0.7034089958317779, -0.7107853294651838 L 0.7007887039774425, -0.7133689034276841 L 0.6981589228947626, -0.7159428178160774 L 0.6955196881930339, -0.7185070377775467 L 0.6928710356095638, -0.7210615285905432 L 0.6902130010091848, -0.7236062556652582 L 0.6875456203837678, -0.7261411845440939 L 0.6848689298517375, -0.7286662809021258 L 0.6821829656575827, -0.7311815105475693 L 0.6794877641713626, -0.7336868394222448 L 0.6767833618882183, -0.7361822336020348 L 0.6740697954278766, -0.7386676592973463 L 0.671347101534155, -0.7411430828535667 L 0.6686153170744616, -0.7436084707515219 L 0.6658744790393, -0.7460637896079267 L 0.663124624541766, -0.7485090061758388 L 0.6603657908170436, -0.7509440873451103 L 0.6575980152219046, -0.7533690001428329 L 0.6548213352342006, -0.7557837117337861 L 0.6520357884523538, -0.7581881894208834 L 0.6492414125948516, -0.7605824006456117 L 0.646438245499734, -0.7629663129884736 L 0.6436263251240796, -0.7653398941694289 L 0.6408056895434946, -0.7677031120483272 L 0.6379763769515966, -0.7700559346253455 L 0.6351384256594943, -0.772398330041423 L 0.6322918740952734, -0.7747302665786893 L 0.6294367608034739, -0.7770517126608951 L 0.6265731244445663, -0.7793626368538423 L 0.6237010037944322, -0.7816630078658051 L 0.620820437743837, -0.7839527945479566 L 0.6179314652979015, -0.7862319658947913 L 0.615034125575578, -0.7885004910445421 L 0.6121284578091178, -0.7907583392796 L 0.6092145013435387, -0.793005480026931 L 0.606292295636096, -0.7952418828584877 L 0.603361880255746, -0.7974675174916223 L 0.6004232948826085, -0.7996823537894981 L 0.5974765793074336, -0.8018863617614954 L 0.5945217734310605, -0.8040795115636181 L 0.5915589172638755, -0.8062617734988998 L 0.588588050925274, -0.808433118017803 L 0.585609214643115, -0.8105935157186208 L 0.5826224487531773, -0.8127429373478746 L 0.5796277936986106, -0.8148813538007118 L 0.5766252900293933, -0.8170087361212963 L 0.5736149784017769, -0.8191250555032052 L 0.5705968995777411, -0.8212302832898147 L 0.5675710944244388, -0.8233243909746903 L 0.5645376039136442, -0.8254073502019723 L 0.5614964691211951, -0.8274791327667609 L 0.5584477312264411, -0.8295397106154958 L 0.5553914315116837, -0.8315890558463374 L 0.552327611361615, -0.8336271407095457 L 0.5492563122627622, -0.835653937607854 L 0.546177575802923, -0.8376694190968429 L 0.5430914436706011, -0.8396735578853143 L 0.539997957654445, -0.8416663268356577 L 0.5368971596426809, -0.8436476989642191 L 0.533789091622543, -0.8456176474416676 L 0.5306737956797091, -0.8475761455933564 L 0.5275513139977288, -0.8495231668996849 L 0.5244216888574501, -0.8514586849964594 L 0.5212849626364512, -0.8533826736752473 L 0.5181411778084646, -0.8552951068837334 L 0.5149903769427995, -0.8571959587260741 L 0.51183260270377, -0.8590852034632449 L 0.5086678978501151, -0.8609628155133907 L 0.5054963052344177, -0.8628287694521738 L 0.5023178678025285, -0.8646830400131146 L 0.49913262859298246, -0.8665256020879359 L 0.49594063073641353, -0.8683564307269039 L 0.4927419174549755, -0.8701755011391634 L 0.48953653206175407, -0.8719827886930747 L 0.4863245179601785, -0.8737782689165484 L 0.48310591864343805, -0.8755619174973748 L 0.47988077769389115, -0.8773337102835536 L 0.4766491387824725, -0.8790936232836223 L 0.4734110456681069, -0.8808416326669792 L 0.47016654219711307, -0.8825777147642072 L 0.46691567230261205, -0.8843018460673934 L 0.4636584800039287, -0.8860140032304492 L 0.4603950094060005, -0.8877141630694245 L 0.45712530469877816, -0.8894023025628218 L 0.4538494101566248, -0.8910783988519101 L 0.45056737013772086, -0.8927424292410314 L 0.4472792290834617, -0.8943943711979097 L 0.44398503151785274, -0.8960342023539566 L 0.440684822046912, -0.8976619005045727 L 0.4373786453580633, -0.8992774436094488 L 0.4340665462195288, -0.9008808097928658 L 0.4307485694797277, -0.9024719773439883 L 0.4274247600666667, -0.9040509247171602 L 0.4240951629873288, -0.9056176305321971 L 0.4665046792860617 ,-0.996179393585417",
          "type": "path"
         },
         {
          "fillcolor": "rgba(102,194,165,0.75)",
          "layer": "below",
          "line": {
           "color": "rgb(150,150,150)",
           "width": 0.45
          },
          "path": "M 0.7908229252281799, -0.7645908062052176 L 0.7925905425557817, -0.762758305003054 L 0.7943539136079324, -0.7609217173505838 L 0.7961130289374349, -0.7590810530872597 L 0.7978678791198918, -0.7572363220743745 L 0.7996184547537555, -0.7553875341950094 L 0.8013647464603808, -0.7535346993539778 L 0.803106744884072, -0.7516778274777768 L 0.8048444406921348, -0.7498169285145306 L 0.8065778245749262, -0.7479520124339393 L 0.808306887245904, -0.7460830892272238 L 0.8100316194416772, -0.744210168907073 L 0.8117520119220543, -0.7423332615075908 L 0.8134680554700938, -0.740452377084242 L 0.8151797408921552, -0.7385675257137961 L 0.8168870590179443, -0.7366787174942775 L 0.8185900007005656, -0.7347859625449087 L 0.8202885568165701, -0.7328892710060565 L 0.8219827182660038, -0.7309886530391779 L 0.8236724759724576, -0.7290841188267657 L 0.8253578208831154, -0.7271756785722935 L 0.8270387439688011, -0.7252633425001626 L 0.8287152362240309, -0.7233471208556435 L 0.830387288667057, -0.7214270239048257 L 0.8320548923399183, -0.7195030619345599 L 0.8337180383084878, -0.7175752452524036 L 0.8353767176625204, -0.7156435841865655 L 0.8370309215157011, -0.7137080890858506 L 0.838680641005692, -0.7117687703196046 L 0.840325867294179, -0.709825638277659 L 0.8419665915669228, -0.7078787033702729 L 0.8436028050338011, -0.705927976028081 L 0.8452344989288588, -0.7039734667020351 L 0.8468616645103544, -0.7020151858633488 L 0.8484842930608064, -0.7000531440034419 L 0.8501023758870406, -0.6980873516338831 L 0.8517159043202361, -0.696117819286335 L 0.8533248697159722, -0.6941445575124962 L 0.8549292634542738, -0.6921675768840472 L 0.8565290769396599, -0.6901868879925889 L 0.8581243016011866, -0.6882025014495923 L 0.8597149288924949, -0.6862144278863369 L 0.8613009502918559, -0.6842226779538559 L 0.862882357302217, -0.6822272623228782 L 0.8644591414512465, -0.6802281916837716 L 0.86603129429138, -0.6782254767464853 L 0.8675988073998643, -0.6762191282404939 L 0.8691616723788052, -0.6742091569147358 L 0.8707198808552089, -0.6721955735375613 L 0.8722734244810293, -0.6701783888966716 L 0.8738222949332121, -0.6681576137990607 L 0.8753664839137393, -0.666133259070959 L 0.8769059831496737, -0.6641053355577745 L 0.8784407843932034, -0.6620738541240349 L 0.879970879421685, -0.6600388256533297 L 0.8814962600376903, -0.6580002610482498 L 0.8830169180690467, -0.6559581712303328 L 0.8845328453688833, -0.6539125671400018 L 0.8860440338156739, -0.6518634597365073 L 0.8875504753132806, -0.6498108599978689 L 0.8890521617909967, -0.6477547789208165 L 0.8905490852035909, -0.6456952275207303 L 0.892041237531349, -0.6436322168315843 L 0.8935286107801195, -0.6415657579058829 L 0.8950111969813528, -0.6394958618146064 L 0.8964889881921466, -0.6374225396471491 L 0.8979619764952873, -0.6353458025112603 L 0.8994301539992928, -0.6332656615329847 L 0.9008935128384546, -0.6311821278566031 L 0.9023520451728805, -0.6290952126445726 L 0.9038057431885353, -0.627004927077467 L 0.9052545990972836, -0.6249112823539167 L 0.9066986051369328, -0.6228142896905472 L 0.9081377535712716, -0.620713960321922 L 0.9095720366901139, -0.6186103055004807 L 0.9110014468093394, -0.6165033364964788 L 0.9124259762709344, -0.614393064597927 L 0.9138456174430332, -0.6122795011105315 L 0.9152603627199594, -0.6101626573576333 L 0.916670204522265, -0.6080425446801475 L 0.9180751352967741, -0.6059191744365003 L 0.9194751475166201, -0.6037925580025726 L 0.9208702336812874, -0.6016627067716358 L 0.9222603863166519, -0.5995296321542916 L 0.9236455979750208, -0.5973933455784107 L 0.9250258612351719, -0.5952538584890724 L 0.9264011687023946, -0.5931111823485017 L 0.9277715130085277, -0.5909653286360104 L 0.9291368868120016, -0.588816308847931 L 0.9304972827978745, -0.586664134497561 L 0.9318526936778738, -0.5845088171150977 L 0.9332031121904342, -0.5823503682475766 L 0.9345485311007369, -0.5801887994588101 L 0.935888943200748, -0.5780241223293257 L 0.9372243413092579, -0.5758563484563036 L 0.9385547182719186, -0.5736854894535155 L 0.9398800669612841, -0.5715115569512591 L 0.9412003802768457, -0.5693345625963009 L 0.9425156511450721, -0.56715451805181 L 0.9438258725194467, -0.5649714349972973 L 0.8580235204722242, -0.5136103954520884 L 0.8568324101318836, -0.5155950164107364 L 0.855636709342587, -0.5175768750875462 L 0.8544364245102583, -0.519555960864781 L 0.8532315620653805, -0.5215322631395595 L 0.8520221284629617, -0.5235057713239123 L 0.8508081301824981, -0.5254764748448415 L 0.8495895737279425, -0.5274443631443727 L 0.8483664656276674, -0.529409425679615 L 0.8471388124344307, -0.5313716519228161 L 0.8459066207253404, -0.5333310313614191 L 0.8446698971018195, -0.5352875534981191 L 0.8434286481895705, -0.5372412078509184 L 0.8421828806385405, -0.5391919839531834 L 0.8409326011228835, -0.5411398713537021 L 0.8396778163409279, -0.543084859616737 L 0.838418533015138, -0.5450269383220832 L 0.8371547578920794, -0.5469660970651234 L 0.8358864977423818, -0.5489023254568841 L 0.8346137593607037, -0.5508356131240911 L 0.8333365495656954, -0.552765949709225 L 0.832054875199963, -0.5546933248705757 L 0.8307687431300301, -0.5566177282823014 L 0.8294781602463039, -0.558539149634479 L 0.8281831334630357, -0.5604575786331625 L 0.8268836697182853, -0.562373005000437 L 0.8255797759738832, -0.5642854184744746 L 0.8242714592153934, -0.5661948088095883 L 0.8229587264520759, -0.5681011657762879 L 0.8216415847168502, -0.5700044791613336 L 0.8203200410662549, -0.5719047387677932 L 0.8189941025804133, -0.5738019344150936 L 0.8176637763629934, -0.5756960559390769 L 0.8163290695411702, -0.5775870931920547 L 0.8149899892655877, -0.5794750360428628 L 0.8136465427103207, -0.5813598743769148 L 0.8122987370728358, -0.5832415980962571 L 0.8109465795739536, -0.585120197119622 L 0.8095900774578099, -0.586995661382482 L 0.8082292379918151, -0.5888679808371058 L 0.8068640684666186, -0.590737145452608 L 0.8054945761960671, -0.5926031452150066 L 0.8041207685171666, -0.5944659701272743 L 0.8027426527900424, -0.5963256102093935 L 0.8013602363979002, -0.5981820554984089 L 0.7999735267469863, -0.6000352960484815 L 0.7985825312665484, -0.6018853219309407 L 0.7971872574087943, -0.6037321232343404 L 0.7957877126488538, -0.6055756900645082 L 0.7943839044847382, -0.6074160125446005 L 0.7929758404372993, -0.609253080815156 L 0.7915635280501898, -0.6110868850341467 L 0.7901469748898228, -0.6129174153770325 L 0.788726188545331, -0.6147446620368126 L 0.7873011766285273, -0.6165686152240775 L 0.7858719467738604, -0.618389265167065 L 0.784438506638379, -0.6202066021117074 L 0.7830008639016871, -0.6220206163216871 L 0.7815590262659043, -0.623831298078488 L 0.7801130014556241, -0.6256386376814475 L 0.7786627972178726, -0.627442625447808 L 0.777208421322067, -0.6292432517127701 L 0.7757498815599747, -0.6310405068295419 L 0.7742871857456691, -0.6328343811693954 L 0.7728203417154914, -0.6346248651217119 L 0.7713493573280058, -0.636411949094038 L 0.7698742404639585, -0.6381956235121352 L 0.7683949990262352, -0.6399758788200318 L 0.7669116409398191, -0.6417527054800736 L 0.7654241741517479, -0.6435260939729753 L 0.7639326066310718, -0.6452960347978718 L 0.7624369463688108, -0.6470625184723677 L 0.7609372013779101, -0.6488255355325914 L 0.7594333796932003, -0.6505850765332413 L 0.7579254893713525, -0.6523411320476395 L 0.7564135384908347, -0.6540936926677817 L 0.75489753515187, -0.655842749004387 L 0.7533774874763917, -0.6575882916869485 L 0.7518534036080009, -0.6593303113637841 L 0.750325291711923, -0.6610687987020849 L 0.7487931599749614, -0.6628037443879687 L 0.747257016605458, -0.6645351391265253 L 0.7457168698332455, -0.6662629736418695 L 0.7441727279096051, -0.6679872386771897 L 0.7426245991072221, -0.6697079249947977 L 0.741072491720141, -0.6714250233761783 L 0.7395164140637216, -0.6731385246220382 L 0.7379563744745947, -0.6748484195523552 L 0.7363923813106156, -0.67655469900643 L 0.7348244429508218, -0.6782573538429306 L 0.7332525677953874, -0.6799563749399448 L 0.731676764265577, -0.6816517531950278 L 0.7300970408037017, -0.6833434795252515 L 0.7285134058730734, -0.6850315448672525 L 0.7269258679579594, -0.6867159401772812 L 0.7253344355635379, -0.6883966564312495 L 0.7237391172158498, -0.6900736846247815 L 0.7221399214617567, -0.6917470157732579 L 0.7205368568688924, -0.6934166409118672 L 0.7189299320256181, -0.6950825510956523 L 0.7908229252281799 ,-0.7645908062052176",
          "type": "path"
         },
         {
          "fillcolor": "rgba(50,136,189,0.75)",
          "layer": "below",
          "line": {
           "color": "rgb(150,150,150)",
           "width": 0.45
          },
          "path": "M 0.9438262275012823, -0.5649708419739004 L 0.946890359371438, -0.5598201919629455 L 0.9499263833884627, -0.5546529240367488 L 0.9529342094298663, -0.5494691915824542 L 0.9559137482101979, -0.5442691484759451 L 0.9588649112836966, -0.5390529490772765 L 0.9617876110469165, -0.5338207482260928 L 0.9646817607413275, -0.5285727012370317 L 0.9675472744558908, -0.5233089638951136 L 0.9703840671296082, -0.5180296924511183 L 0.9731920545540493, -0.512735043616943 L 0.9759711533758483, -0.5074251745609559 L 0.9787212810991799, -0.5021002429033273 L 0.9814423560882082, -0.49676040671135124 L 0.9841342975695093, -0.4914058244947537 L 0.98679702563447, -0.4860366552009873 L 0.9894304612416586, -0.480653058210513 L 0.9920345262191724, -0.475255193332069 L 0.9946091432669573, -0.4698432207979269 L 0.9971542359591027, -0.4644173012591352 L 0.9996697287461104, -0.45897759578075087 L 1.0021555469571368, -0.45352426583705757 L 1.0046116168022101, -0.448057473306773 L 1.0070378653744196, -0.4425773804682434 L 1.0094342206520814, -0.43708414999462636 L 1.011800611500875, -0.4315779449490619 L 1.014136967675955, -0.4260589287798333 L 1.016443219824038, -0.4205272653155112 L 1.0187192994854588, -0.41498311876009625 L 1.020965139096204, -0.40942665368814085 L 1.0231806719899177, -0.40385803503986495 L 1.0253658323998796, -0.39827742811625994 L 1.0275205554609577, -0.3926849985741816 L 1.0296447772115347, -0.38708091242143305 L 1.031738434595405, -0.38146533601183635 L 1.0338014654636476, -0.37583843604029504 L 1.0358338085764702, -0.3702003795378454 L 1.037835403605028, -0.3645513338666983 L 1.0398061911332137, -0.35889146671527145 L 1.0417461126594219, -0.3532209460932115 L 1.0436551105982848, -0.34753994032640667 L 1.0455331282823823, -0.3418486180519901 L 1.0473801099639242, -0.33614714821333536 L 1.049196000816405, -0.33043570005503703 L 1.0509807469362304, -0.32471444311789277 L 1.0527342953443188, -0.318983547233867 L 1.0544565939876729, -0.3132431825210501 L 1.0561475917409258, -0.3074935193786089 L 1.0578072384078576, -0.3017347284817282 L 1.0594354847228862, -0.2959669807765448 L 1.0610322823525293, -0.2901904474750725 L 1.0625975838968398, -0.28440530005012016 L 1.0641313428908117, -0.27861171023020176 L 1.0656335138057607, -0.2728098499944382 L 1.0671040520506745, -0.2669998915674528 L 1.0685429139735374, -0.26118200741425857 L 1.0699500568626252, -0.2553563702351388 L 1.0713254389477742, -0.24952315296052058 L 1.0726690194016197, -0.24368252874584137 L 1.0739807583408092, -0.2378346709664101 L 1.075260616827186, -0.23197975321225656 L 1.0765085568689445, -0.22611794928298456 L 1.0777245414217584, -0.2202494331826087 L 1.0789085343898805, -0.2143743791143902 L 1.0800605006272135, -0.20849296147566584 L 1.0811804059383536, -0.20260535485267103 L 1.082268217079607, -0.19671173401535733 L 1.083323901759974, -0.19081227391220457 L 1.0843474286421098, -0.18490714966502747 L 1.0853387673432533, -0.1789965365637775 L 1.08629788843613, -0.1730806100613392 L 1.0872247634498253, -0.16715954576832223 L 1.0881193648706287, -0.16123351944784836 L 1.0889816661428522, -0.15530270701033402 L 1.089811641669617, -0.1493672845082696 L 1.0906092668136147, -0.14342742813098944 L 1.091374517897837, -0.13748331419944762 L 1.0921073722062804, -0.13153511916098015 L 1.0928078079846189, -0.12558301958406815 L 1.093475804440851, -0.1196271921530965 L 1.0941113417459163, -0.1136678136631092 L 1.0947144010342835, -0.10770506101456113 L 1.0952849644045117, -0.10173911120806708 L 1.0958230149197816, -0.09577014133914741 L 1.0963285366083968, -0.08979832859297121 L 1.0968015144642598, -0.0838238502390966 L 1.0972419344473159, -0.0778468836262086 L 1.0976497834839711, -0.0718676061768547 L 1.09802504946748, -0.06588619538217806 L 1.098367721258304, -0.059902828796648946 L 1.098677788684444, -0.053917684032794046 L 1.0989552425417408, -0.047930938755924135 L 1.0992000745941481, -0.04194277067886123 L 1.0994122775739787, -0.03595335755665937 L 1.0995918451821187, -0.029962877181333877 L 1.0997387720882148, -0.02397150737657988 L 1.0998530539308333, -0.01797942599249466 L 1.0999346873175884, -0.011986810900298277 L 1.0999836698252432, -0.0059938399870536 L 1.099999999999783, -6.91150385814946e-07 L 0.9999999999998026, -6.283185325590418e-07 L 0.9999851543865848, -0.005448945442776 L 0.9999406248341711, -0.010897100818452979 L 0.9998664126643939, -0.01634493272044969 L 0.9997625200801953, -0.021792279433254437 L 0.9996289501655624, -0.027238979255758067 L 0.9994657068854351, -0.03268487050605397 L 0.9992727950855891, -0.03812979152623748 L 0.9990502204924915, -0.04357358068720375 L 0.9987979897131309, -0.049016076393449126 L 0.9985161102348218, -0.054457117087862675 L 0.9982045904249817, -0.05989654125652551 L 0.9978634395308827, -0.06533418743350426 L 0.9974926676793779, -0.07076989420564418 L 0.9970922858765997, -0.07620350021736054 L 0.9966623060076334, -0.08163484417542836 L 0.996202740836165, -0.08706376485377036 L 0.9957136040041016, -0.0924901010982428 L 0.9951949100311667, -0.09791369183141921 L 0.9946466743144692, -0.10333437605737199 L 0.9940689131280463, -0.10875199286645136 L 0.9934616436223808, -0.11416638144006194 L 0.9928248838238911, -0.1195773810554365 L 0.9921586526343972, -0.12498483109040692 L 0.9914629698305587, -0.1303885710281722 L 0.9907378560632881, -0.13578844046206326 L 0.9899833328571384, -0.14118427910030365 L 0.9891994226096624, -0.14657592677077122 L 0.9883861485907501, -0.15196322342574747 L 0.9875435349419364, -0.157346009146672 L 0.9866716066756848, -0.16272412414888862 L 0.9857703896746451, -0.1680974087863886 L 0.9848399106908855, -0.17346570355654958 L 0.9838801973450972, -0.1788288491048703 L 0.982891278125776, -0.1841866862297009 L 0.9818731823883757, -0.18953905588696893 L 0.9808259403544367, -0.19488579919490015 L 0.9797495831106895, -0.20022675743873516 L 0.9786441426081314, -0.2055617720754405 L 0.9775096516610782, -0.21089068473841505 L 0.9763461439461901, -0.21621333724219097 L 0.9751536540014724, -0.2215295715871285 L 0.9739322172252491, -0.2268392299641096 L 0.9726818698751137, -0.23214215475921707 L 0.971402649066852, -0.23743818855841684 L 0.9700945927733404, -0.24272717415222977 L 0.9687577398234187, -0.2480089545403983 L 0.9673921299007379, -0.253283372936547 L 0.9659978035425815, -0.2585502727728365 L 0.9645748021386629, -0.2638094977046113 L 0.9631231679298964, -0.2690608916150407 L 0.9616429440071431, -0.2743042986197529 L 0.9601341743099324, -0.2795395630714626 L 0.9585969036251571, -0.284766529564591 L 0.9570311775857443, -0.2899850429398791 L 0.9554370426693004, -0.2951949482889934 L 0.9538145461967318, -0.30039609095912456 L 0.9521637363308402, -0.30558831655757757 L 0.950484662074893, -0.31077147095635466 L 0.9487773732711678, -0.3159454002967333 L 0.9470419205994743, -0.3211099509938286 L 0.9452783555756488, -0.3262649697411558 L 0.9434867305500253, -0.33141030351518025 L 0.9416670987058819, -0.3365457995798594 L 0.9398195140578613, -0.3416713054911773 L 0.9379440314503682, -0.3467866691016694 L 0.9360407065559406, -0.3518917385649391 L 0.9341095958735979, -0.35698636234016506 L 0.9321507567271631, -0.3620703891965999 L 0.9301642472635614, -0.367143668218059 L 0.9281501264510945, -0.37220604880740077 L 0.9261084540776898, -0.37725738069099657 L 0.9240392907491255, -0.382297513923192 L 0.9219426978872318, -0.38732629889075754 L 0.9198187377280681, -0.39234358631732896 L 0.917667473320074, -0.3973492272678421 L 0.9154889685221996, -0.40234307315294854 L 0.9132832880020091, -0.40732497573342996 L 0.9110504972337607, -0.4122947871245978 L 0.9087906624964639, -0.4172523598006826 L 0.9065038508719114, -0.4221975465992138 L 0.9041901302426884, -0.42713020072538804 L 0.9018495692901567, -0.43205017575642635 L 0.8994822374924168, -0.4369573256459209 L 0.8970882051222454, -0.44185150472817025 L 0.8946675432450084, -0.4467325677225033 L 0.8922203237165528, -0.451600369737592 L 0.8897466191810726, -0.4564547662757521 L 0.8872465030689529, -0.46129561323723267 L 0.8847200495945903, -0.4661227669244936 L 0.8821673337541892, -0.47093608404647114 L 0.879588431323537, -0.4757354217228305 L 0.8769834188557522, -0.48052063748821056 L 0.8743523736790149, -0.48529158929644794 L 0.8716953738942695, -0.49004813552479676 L 0.8690124983729072, -0.4947901349781319 L 0.8663038267544239, -0.49951744689314015 L 0.863569439444057, -0.5042299309424989 L 0.8608094176103981, -0.5089274472390414 L 0.8580238431829839, -0.5136098563399094 L 0.9438262275012823 ,-0.5649708419739004",
          "type": "path"
         }
        ],
        "showlegend": false,
        "template": {
         "data": {
          "bar": [
           {
            "error_x": {
             "color": "#2a3f5f"
            },
            "error_y": {
             "color": "#2a3f5f"
            },
            "marker": {
             "line": {
              "color": "#E5ECF6",
              "width": 0.5
             },
             "pattern": {
              "fillmode": "overlay",
              "size": 10,
              "solidity": 0.2
             }
            },
            "type": "bar"
           }
          ],
          "barpolar": [
           {
            "marker": {
             "line": {
              "color": "#E5ECF6",
              "width": 0.5
             },
             "pattern": {
              "fillmode": "overlay",
              "size": 10,
              "solidity": 0.2
             }
            },
            "type": "barpolar"
           }
          ],
          "carpet": [
           {
            "aaxis": {
             "endlinecolor": "#2a3f5f",
             "gridcolor": "white",
             "linecolor": "white",
             "minorgridcolor": "white",
             "startlinecolor": "#2a3f5f"
            },
            "baxis": {
             "endlinecolor": "#2a3f5f",
             "gridcolor": "white",
             "linecolor": "white",
             "minorgridcolor": "white",
             "startlinecolor": "#2a3f5f"
            },
            "type": "carpet"
           }
          ],
          "choropleth": [
           {
            "colorbar": {
             "outlinewidth": 0,
             "ticks": ""
            },
            "type": "choropleth"
           }
          ],
          "contour": [
           {
            "colorbar": {
             "outlinewidth": 0,
             "ticks": ""
            },
            "colorscale": [
             [
              0,
              "#0d0887"
             ],
             [
              0.1111111111111111,
              "#46039f"
             ],
             [
              0.2222222222222222,
              "#7201a8"
             ],
             [
              0.3333333333333333,
              "#9c179e"
             ],
             [
              0.4444444444444444,
              "#bd3786"
             ],
             [
              0.5555555555555556,
              "#d8576b"
             ],
             [
              0.6666666666666666,
              "#ed7953"
             ],
             [
              0.7777777777777778,
              "#fb9f3a"
             ],
             [
              0.8888888888888888,
              "#fdca26"
             ],
             [
              1,
              "#f0f921"
             ]
            ],
            "type": "contour"
           }
          ],
          "contourcarpet": [
           {
            "colorbar": {
             "outlinewidth": 0,
             "ticks": ""
            },
            "type": "contourcarpet"
           }
          ],
          "heatmap": [
           {
            "colorbar": {
             "outlinewidth": 0,
             "ticks": ""
            },
            "colorscale": [
             [
              0,
              "#0d0887"
             ],
             [
              0.1111111111111111,
              "#46039f"
             ],
             [
              0.2222222222222222,
              "#7201a8"
             ],
             [
              0.3333333333333333,
              "#9c179e"
             ],
             [
              0.4444444444444444,
              "#bd3786"
             ],
             [
              0.5555555555555556,
              "#d8576b"
             ],
             [
              0.6666666666666666,
              "#ed7953"
             ],
             [
              0.7777777777777778,
              "#fb9f3a"
             ],
             [
              0.8888888888888888,
              "#fdca26"
             ],
             [
              1,
              "#f0f921"
             ]
            ],
            "type": "heatmap"
           }
          ],
          "heatmapgl": [
           {
            "colorbar": {
             "outlinewidth": 0,
             "ticks": ""
            },
            "colorscale": [
             [
              0,
              "#0d0887"
             ],
             [
              0.1111111111111111,
              "#46039f"
             ],
             [
              0.2222222222222222,
              "#7201a8"
             ],
             [
              0.3333333333333333,
              "#9c179e"
             ],
             [
              0.4444444444444444,
              "#bd3786"
             ],
             [
              0.5555555555555556,
              "#d8576b"
             ],
             [
              0.6666666666666666,
              "#ed7953"
             ],
             [
              0.7777777777777778,
              "#fb9f3a"
             ],
             [
              0.8888888888888888,
              "#fdca26"
             ],
             [
              1,
              "#f0f921"
             ]
            ],
            "type": "heatmapgl"
           }
          ],
          "histogram": [
           {
            "marker": {
             "pattern": {
              "fillmode": "overlay",
              "size": 10,
              "solidity": 0.2
             }
            },
            "type": "histogram"
           }
          ],
          "histogram2d": [
           {
            "colorbar": {
             "outlinewidth": 0,
             "ticks": ""
            },
            "colorscale": [
             [
              0,
              "#0d0887"
             ],
             [
              0.1111111111111111,
              "#46039f"
             ],
             [
              0.2222222222222222,
              "#7201a8"
             ],
             [
              0.3333333333333333,
              "#9c179e"
             ],
             [
              0.4444444444444444,
              "#bd3786"
             ],
             [
              0.5555555555555556,
              "#d8576b"
             ],
             [
              0.6666666666666666,
              "#ed7953"
             ],
             [
              0.7777777777777778,
              "#fb9f3a"
             ],
             [
              0.8888888888888888,
              "#fdca26"
             ],
             [
              1,
              "#f0f921"
             ]
            ],
            "type": "histogram2d"
           }
          ],
          "histogram2dcontour": [
           {
            "colorbar": {
             "outlinewidth": 0,
             "ticks": ""
            },
            "colorscale": [
             [
              0,
              "#0d0887"
             ],
             [
              0.1111111111111111,
              "#46039f"
             ],
             [
              0.2222222222222222,
              "#7201a8"
             ],
             [
              0.3333333333333333,
              "#9c179e"
             ],
             [
              0.4444444444444444,
              "#bd3786"
             ],
             [
              0.5555555555555556,
              "#d8576b"
             ],
             [
              0.6666666666666666,
              "#ed7953"
             ],
             [
              0.7777777777777778,
              "#fb9f3a"
             ],
             [
              0.8888888888888888,
              "#fdca26"
             ],
             [
              1,
              "#f0f921"
             ]
            ],
            "type": "histogram2dcontour"
           }
          ],
          "mesh3d": [
           {
            "colorbar": {
             "outlinewidth": 0,
             "ticks": ""
            },
            "type": "mesh3d"
           }
          ],
          "parcoords": [
           {
            "line": {
             "colorbar": {
              "outlinewidth": 0,
              "ticks": ""
             }
            },
            "type": "parcoords"
           }
          ],
          "pie": [
           {
            "automargin": true,
            "type": "pie"
           }
          ],
          "scatter": [
           {
            "marker": {
             "colorbar": {
              "outlinewidth": 0,
              "ticks": ""
             }
            },
            "type": "scatter"
           }
          ],
          "scatter3d": [
           {
            "line": {
             "colorbar": {
              "outlinewidth": 0,
              "ticks": ""
             }
            },
            "marker": {
             "colorbar": {
              "outlinewidth": 0,
              "ticks": ""
             }
            },
            "type": "scatter3d"
           }
          ],
          "scattercarpet": [
           {
            "marker": {
             "colorbar": {
              "outlinewidth": 0,
              "ticks": ""
             }
            },
            "type": "scattercarpet"
           }
          ],
          "scattergeo": [
           {
            "marker": {
             "colorbar": {
              "outlinewidth": 0,
              "ticks": ""
             }
            },
            "type": "scattergeo"
           }
          ],
          "scattergl": [
           {
            "marker": {
             "colorbar": {
              "outlinewidth": 0,
              "ticks": ""
             }
            },
            "type": "scattergl"
           }
          ],
          "scattermapbox": [
           {
            "marker": {
             "colorbar": {
              "outlinewidth": 0,
              "ticks": ""
             }
            },
            "type": "scattermapbox"
           }
          ],
          "scatterpolar": [
           {
            "marker": {
             "colorbar": {
              "outlinewidth": 0,
              "ticks": ""
             }
            },
            "type": "scatterpolar"
           }
          ],
          "scatterpolargl": [
           {
            "marker": {
             "colorbar": {
              "outlinewidth": 0,
              "ticks": ""
             }
            },
            "type": "scatterpolargl"
           }
          ],
          "scatterternary": [
           {
            "marker": {
             "colorbar": {
              "outlinewidth": 0,
              "ticks": ""
             }
            },
            "type": "scatterternary"
           }
          ],
          "surface": [
           {
            "colorbar": {
             "outlinewidth": 0,
             "ticks": ""
            },
            "colorscale": [
             [
              0,
              "#0d0887"
             ],
             [
              0.1111111111111111,
              "#46039f"
             ],
             [
              0.2222222222222222,
              "#7201a8"
             ],
             [
              0.3333333333333333,
              "#9c179e"
             ],
             [
              0.4444444444444444,
              "#bd3786"
             ],
             [
              0.5555555555555556,
              "#d8576b"
             ],
             [
              0.6666666666666666,
              "#ed7953"
             ],
             [
              0.7777777777777778,
              "#fb9f3a"
             ],
             [
              0.8888888888888888,
              "#fdca26"
             ],
             [
              1,
              "#f0f921"
             ]
            ],
            "type": "surface"
           }
          ],
          "table": [
           {
            "cells": {
             "fill": {
              "color": "#EBF0F8"
             },
             "line": {
              "color": "white"
             }
            },
            "header": {
             "fill": {
              "color": "#C8D4E3"
             },
             "line": {
              "color": "white"
             }
            },
            "type": "table"
           }
          ]
         },
         "layout": {
          "annotationdefaults": {
           "arrowcolor": "#2a3f5f",
           "arrowhead": 0,
           "arrowwidth": 1
          },
          "autotypenumbers": "strict",
          "coloraxis": {
           "colorbar": {
            "outlinewidth": 0,
            "ticks": ""
           }
          },
          "colorscale": {
           "diverging": [
            [
             0,
             "#8e0152"
            ],
            [
             0.1,
             "#c51b7d"
            ],
            [
             0.2,
             "#de77ae"
            ],
            [
             0.3,
             "#f1b6da"
            ],
            [
             0.4,
             "#fde0ef"
            ],
            [
             0.5,
             "#f7f7f7"
            ],
            [
             0.6,
             "#e6f5d0"
            ],
            [
             0.7,
             "#b8e186"
            ],
            [
             0.8,
             "#7fbc41"
            ],
            [
             0.9,
             "#4d9221"
            ],
            [
             1,
             "#276419"
            ]
           ],
           "sequential": [
            [
             0,
             "#0d0887"
            ],
            [
             0.1111111111111111,
             "#46039f"
            ],
            [
             0.2222222222222222,
             "#7201a8"
            ],
            [
             0.3333333333333333,
             "#9c179e"
            ],
            [
             0.4444444444444444,
             "#bd3786"
            ],
            [
             0.5555555555555556,
             "#d8576b"
            ],
            [
             0.6666666666666666,
             "#ed7953"
            ],
            [
             0.7777777777777778,
             "#fb9f3a"
            ],
            [
             0.8888888888888888,
             "#fdca26"
            ],
            [
             1,
             "#f0f921"
            ]
           ],
           "sequentialminus": [
            [
             0,
             "#0d0887"
            ],
            [
             0.1111111111111111,
             "#46039f"
            ],
            [
             0.2222222222222222,
             "#7201a8"
            ],
            [
             0.3333333333333333,
             "#9c179e"
            ],
            [
             0.4444444444444444,
             "#bd3786"
            ],
            [
             0.5555555555555556,
             "#d8576b"
            ],
            [
             0.6666666666666666,
             "#ed7953"
            ],
            [
             0.7777777777777778,
             "#fb9f3a"
            ],
            [
             0.8888888888888888,
             "#fdca26"
            ],
            [
             1,
             "#f0f921"
            ]
           ]
          },
          "colorway": [
           "#636efa",
           "#EF553B",
           "#00cc96",
           "#ab63fa",
           "#FFA15A",
           "#19d3f3",
           "#FF6692",
           "#B6E880",
           "#FF97FF",
           "#FECB52"
          ],
          "font": {
           "color": "#2a3f5f"
          },
          "geo": {
           "bgcolor": "white",
           "lakecolor": "white",
           "landcolor": "#E5ECF6",
           "showlakes": true,
           "showland": true,
           "subunitcolor": "white"
          },
          "hoverlabel": {
           "align": "left"
          },
          "hovermode": "closest",
          "mapbox": {
           "style": "light"
          },
          "paper_bgcolor": "white",
          "plot_bgcolor": "#E5ECF6",
          "polar": {
           "angularaxis": {
            "gridcolor": "white",
            "linecolor": "white",
            "ticks": ""
           },
           "bgcolor": "#E5ECF6",
           "radialaxis": {
            "gridcolor": "white",
            "linecolor": "white",
            "ticks": ""
           }
          },
          "scene": {
           "xaxis": {
            "backgroundcolor": "#E5ECF6",
            "gridcolor": "white",
            "gridwidth": 2,
            "linecolor": "white",
            "showbackground": true,
            "ticks": "",
            "zerolinecolor": "white"
           },
           "yaxis": {
            "backgroundcolor": "#E5ECF6",
            "gridcolor": "white",
            "gridwidth": 2,
            "linecolor": "white",
            "showbackground": true,
            "ticks": "",
            "zerolinecolor": "white"
           },
           "zaxis": {
            "backgroundcolor": "#E5ECF6",
            "gridcolor": "white",
            "gridwidth": 2,
            "linecolor": "white",
            "showbackground": true,
            "ticks": "",
            "zerolinecolor": "white"
           }
          },
          "shapedefaults": {
           "line": {
            "color": "#2a3f5f"
           }
          },
          "ternary": {
           "aaxis": {
            "gridcolor": "white",
            "linecolor": "white",
            "ticks": ""
           },
           "baxis": {
            "gridcolor": "white",
            "linecolor": "white",
            "ticks": ""
           },
           "bgcolor": "#E5ECF6",
           "caxis": {
            "gridcolor": "white",
            "linecolor": "white",
            "ticks": ""
           }
          },
          "title": {
           "x": 0.05
          },
          "xaxis": {
           "automargin": true,
           "gridcolor": "white",
           "linecolor": "white",
           "ticks": "",
           "title": {
            "standoff": 15
           },
           "zerolinecolor": "white",
           "zerolinewidth": 2
          },
          "yaxis": {
           "automargin": true,
           "gridcolor": "white",
           "linecolor": "white",
           "ticks": "",
           "title": {
            "standoff": 15
           },
           "zerolinecolor": "white",
           "zerolinewidth": 2
          }
         }
        },
        "title": {
         "text": " "
        },
        "width": 625,
        "xaxis": {
         "showgrid": false,
         "showline": false,
         "showticklabels": false,
         "title": {
          "text": "Seatlle Bike Flow"
         },
         "zeroline": false
        },
        "yaxis": {
         "scaleanchor": "x",
         "showgrid": false,
         "showline": false,
         "showticklabels": false,
         "title": {
          "text": "Seatlle Bike Flow"
         },
         "zeroline": false
        }
       }
      },
      "text/html": [
       "<div>                            <div id=\"6ae518a2-d140-4bb1-ac77-f6f18ef61e24\" class=\"plotly-graph-div\" style=\"height:625px; width:625px;\"></div>            <script type=\"text/javascript\">                require([\"plotly\"], function(Plotly) {                    window.PLOTLYENV=window.PLOTLYENV || {};                                    if (document.getElementById(\"6ae518a2-d140-4bb1-ac77-f6f18ef61e24\")) {                    Plotly.newPlot(                        \"6ae518a2-d140-4bb1-ac77-f6f18ef61e24\",                        [{\"hoverinfo\":\"text\",\"line\":{\"color\":\"rgba(213,62,79,0.75)\",\"shape\":\"spline\",\"width\":0.25},\"mode\":\"lines\",\"text\":\"Pier 69<br>7898 partidas\",\"x\":[1.1,1.0997924295096861,1.0991697963760323,1.0981323355813382,1.0966804386642328,1.0948146535719068,1.0925356844533176,1.089844391393442,1.08674179008868,1.0832290514635299,1.0793075012286806,1.0749786193806865,1.0702440396434163,1.0651055488514836,1.059565086275894,1.0536247428921628,1.0472867605911789,1.0405535313331127,1.0334275962446886,1.0259116446601617,1.0180085131063608,1.009721184232179,1.0010527856829217,0.9920065889199293,0.9825860079859244,0.97279459821655,0.9626360548985818,0.9521142118753242,0.941233040099714,0.9299966461356797,0.9184092706083204,0.9064752866034901,0.8941991980173911,0.8815856378567997,0.8686393664905652,0.8553652698530424,0.8417683576001364,0.8278537612186522,0.8136267320896691,0.7990926395066633,0.7842569686491329,0.7691253185124847,0.7537033997949703,0.7379970327424615,0.7220121449518863,0.7057547691341468,0.68923104083737,0.6724471961313454,0.6554095692540276,0.6381245902209889,0.6205987823987253,0.6028387600427334,0.5848512258012825,0.566642968185831,0.5482208590090354,0.5295918507913218,0.510762974136999,0.4917413350809021,0.4725341124065681,0.45314855493695694,0.4335919787987399,0.4138717646611857,0.39399535495068994,0.3739702510419966,0.3538040104271733,0.33350424386340555,0.3130786125006912,0.292534824990516,0.27188063457660044,0.2511238361688195,0.23027226340139637,0.20933378567648267,0.18831630519423778,0.16722775397053238,0.1460760908433981,0.12486929846935582,0.10361538031075274,0.08232235761524934,0.06099826638859297,0.03965115436182306,0.01828907795404878,-0.0030799007680499453,-0.024447717132852893,-0.04580630690741525,-0.06714760934091535,-0.08846357020678967,-0.10974614484240423,-0.13098730118511875,-0.15217902280359347,-0.1733133119231978,-0.1943821924443767,-0.2153777129528393,-0.23629194972042858,-0.257117009695544,-0.2778450334819855,-0.29846819830509763,-0.3189787209640912,-0.3393688607694295,-0.35963092246417294,-0.3797572591281749],\"y\":[0.0,0.021368481302664256,0.042728898121435314,0.0640731890159634,0.08539329863183687,0.10668118074068028,0.12792880127680803,0.14912814136928795,0.17027120036827034,0.19134999886444037,0.2123565817004543,0.2332830209732228,0.2541214190259089,0.27486391142851047,0.29550266994590324,0.3160299054922237,0.33643787107047707,0.35671886469626085,0.37686523230450053,0.3968693706381006,0.4167237301174208,0.43642081768949387,0.4559531996559105,0.47531350447830384,0.4944944255603747,0.513488724005407,0.5322892313482349,0.5508888522606267,0.5692805672290691,0.5874574352039368,0.6054125962190522,0.6231392739806412,0.6406307784247138,0.6578805082418995,0.6748819533687872,0.6916286974448299,0.7081144202338837,0.7243329000094716,0.7402780159028675,0.7559437502131187,0.7713241906781307,0.7864135327059607,0.8012060815654756,0.8156962545355486,0.8298785830119828,0.8437477145713684,0.8572984149910905,0.8705255702247305,0.8834241883321117,0.8959894013632612,0.9082164671955799,0.920100771323522,0.9316378286001152,0.9428232849296582,0.9536529189109607,0.9641226434305039,0.9742285072049203,0.9839666962722123,0.9933335354311447,1.0023254896282683,1.0109391652920532,1.0191713116136247,1.0270188217736227,1.0344787341147164,1.0415482332593382,1.0482246511722086,1.0545054681672552,1.060388313858545,1.06587096805487,1.070951361597648,1.0756275771418276,1.0798978498794933,1.0837605682059073,1.0872142743277295,1.0902576648131905,1.0928895910840084,1.095109059848862,1.0969152334782608,1.0983074303206668,1.0992851249597508,1.0998479484126844,1.0999956882693946,1.0997282887727278,1.0990458508394925,1.0979486320223728,1.0964370464127289,1.094511664484317,1.0921732128779935,1.0894225741274794,1.0862607863262912,1.0826890427359637,1.078708691335712,1.0743212343137032,1.0695283275001284,1.064331779742292,1.0587335522219503,1.0527357577151601,1.0463406597949159,1.039550671976873,1.0323683568084874],\"type\":\"scatter\"},{\"hoverinfo\":\"text\",\"line\":{\"color\":\"rgba(244,109,67,0.75)\",\"shape\":\"spline\",\"width\":0.25},\"mode\":\"lines\",\"text\":\"E Pine St & 16th Ave<br>439 partidas\",\"x\":[-0.37975790778426904,-0.38087246279216647,-0.381986573694644,-0.38310023919262515,-0.3842134579875517,-0.38532622878138717,-0.3864385502766168,-0.3875504211762498,-0.3886618401838216,-0.38977280600339315,-0.39088331733955534,-0.39199337289742764,-0.39310297138266204,-0.39421211150144286,-0.39532079196048886,-0.3964290114670553,-0.3975367687289341,-0.3986440624544573,-0.3997508913524965,-0.4008572541324652,-0.4019631495043214,-0.40306857617856695,-0.40417353286625135,-0.4052780182789709,-0.4063820311288726,-0.4074855701286536,-0.40858863399156375,-0.40969122143140746,-0.41079333116254374,-0.4118949618998896,-0.4129961123589199,-0.41409678125566945,-0.41519696730673533,-0.4162966692292766,-0.4173958857410178,-0.4184946155602487,-0.4195928574058272,-0.4206906099971796,-0.42178787205430285,-0.42288464229776646,-0.42398091944871236,-0.42507670222885846,-0.42617198936049844,-0.427266779566504,-0.4283610715703267,-0.4294548640959983,-0.4305481558681339,-0.4316409456119317,-0.43273323205317527,-0.4338250139182358,-0.4349162899340719,-0.43600705882823276,-0.43709731932885837,-0.438187070164682,-0.43927631006503065,-0.4403650377598273,-0.44145325197959256,-0.442540951455445,-0.44362813491910424,-0.44471480110289097,-0.445800948739729,-0.4468865765631474,-0.44797168330728065,-0.4490562677068714,-0.4501403284972708,-0.4512238644144412,-0.4523068741949564,-0.45338935657600365,-0.45447131029538584,-0.4555527340915214,-0.4566336267034476,-0.45771398687082027,-0.45879381333391644,-0.459873104833635,-0.4609518601114999,-0.462030077909659,-0.4631077569708873,-0.46418489603858815,-0.46526149385679383,-0.4663375491701693,-0.46741306072401057,-0.46848802726424826,-0.4695624475374484,-0.47063632029081365,-0.4717096442721863,-0.47278241823004724,-0.47385464091351914,-0.47492631107236755,-0.4759974274570017,-0.47706798881847784,-0.4781379939084982,-0.479207441479414,-0.48027633028422617,-0.4813446590765884,-0.48241242661080597,-0.48347963164183927,-0.48454627292530444,-0.48561234921747454,-0.4866778592752826,-0.487742801856321],\"y\":[1.0323681181997606,1.031957444416498,1.0315455673488334,1.0311324874770234,1.0307182052827282,1.0303027212490095,1.029886035860331,1.0294681496025564,1.02904906296295,1.0286287764301763,1.0282072904942976,1.0277846056467757,1.0273607223804704,1.0269356411896386,1.026509362569934,1.0260818870184063,1.0256532150335016,1.02522334711506,1.0247922837643173,1.024360025483902,1.0239265727778368,1.0234919261515367,1.0230560861118092,1.0226190531668526,1.022180827826257,1.0217414106010023,1.0213008020034589,1.020859002547385,1.0204160127479287,1.0199718331216254,1.019526464186398,1.0190799064615563,1.0186321604677961,1.0181832267271989,1.0177331057632306,1.0172817981007425,1.0168293042659684,1.0163756247865259,1.0159207601914153,1.015464711011018,1.0150074777770972,1.0145490610227967,1.01408946128264,1.0136286790925308,1.0131667149897503,1.0127035695129585,1.0122392432021934,1.011773736598869,1.0113070502457762,1.010839184687081,1.010370140468325,1.0098999181364232,1.0094285182396654,1.0089559413277134,1.0084821879516024,1.008007258663739,1.0075311540179006,1.0070538745692357,1.0065754208742619,1.0060957934908665,1.0056149929783056,1.0051330198972026,1.0046498748095485,1.0041655582787008,1.003680070869383,1.0031934131476832,1.0027055856810552,1.0022165890383163,1.0017264237896468,1.00123509050659,1.000742589762051,1.000248922130296,0.999754088186952,0.9992580885090061,0.9987609236748044,0.9982625942640516,0.9977631008578107,0.9972624440385015,0.9967606243899008,0.9962576424971404,0.9957534989467085,0.995248194326447,0.9947417292255519,0.9942341042345726,0.99372531994541,0.9932153769513181,0.9927042758469009,0.9921920172281135,0.9916786016922603,0.9911640298379946,0.9906483022653181,0.9901314195755805,0.989613382371478,0.9890941912570527,0.9885738468376928,0.9880523497201308,0.9875297005124436,0.9870058998240516,0.9864809482657171,0.985954846449545],\"type\":\"scatter\"},{\"hoverinfo\":\"text\",\"line\":{\"color\":\"rgba(253,174,97,0.75)\",\"shape\":\"spline\",\"width\":0.25},\"mode\":\"lines\",\"text\":\"Seattle Aquarium<br>4733 partidas\",\"x\":[-0.48774342134992504,-0.49918859111138014,-0.5105661035378505,-0.5218744165825367,-0.5331119975775503,-0.544277323441644,-0.5553688808866429,-0.5663851666225459,-0.5773246875612749,-0.5881859610190384,-0.5989675149172877,-0.6096678879822348,-0.620285629942904,-0.6308193017276947,-0.6412674756594267,-0.6516287356488373,-0.6619016773865121,-0.672084908533218,-0.6821770489086116,-0.6921767306783025,-0.702082598539243,-0.7118933099034169,-0.7216075350798069,-0.7312239574546158,-0.7407412736697103,-0.7501581937992737,-0.7594734415246339,-0.7686857543072487,-0.7777938835598255,-0.786796594815545,-0.7956926678953767,-0.8044808970734547,-0.8131600912404949,-0.8217290740652312,-0.8301866841538507,-0.8385317752074007,-0.8467632161771541,-0.8548798914179034,-0.862880700839171,-0.870764560054308,-0.8785304005274687,-0.8861771697184304,-0.8937038312252531,-0.9011093649247446,-0.9083927671107238,-0.9155530506300587,-0.9225892450164578,-0.9295003966220027,-0.9362855687464013,-0.9429438417639421,-0.9494743132481348,-0.9558760980940223,-0.962148328638141,-0.9682901547761206,-0.9743007440779017,-0.9801792819005596,-0.9859249714987164,-0.9915370341325275,-0.9970147091732279,-1.0023572542062238,-1.0075639451317153,-1.0126340762628365,-1.017566960421302,-1.0223619290305417,-1.0270183322063176,-1.0315355388448035,-1.035912936708124,-1.0401499325073313,-1.044245951982819,-1.0482004399821525,-1.0520128605353114,-1.0556826969273325,-1.0592094517683426,-1.0625926470609712,-1.0658318242651377,-1.0689265443601963,-1.071876387904442,-1.0746809550919565,-1.0773398658067976,-1.079852759674518,-1.0822192961110062,-1.0844391543686516,-1.0865120335798124,-1.0884376527975972,-1.090215751033941,-1.0918460872949782,-1.0933284406137067,-1.0946626100799361,-1.0958484148675172,-1.0968856942588512,-1.0977743076666722,-1.098514134653101,-1.0991050749459705,-1.099547048452413,-1.0998399952697187,-1.0999838756934524,-1.0999786702228358,-1.0998243795633904,-1.099521024626842,-1.099068646528286],\"y\":[0.9859545399915098,0.980209544181363,0.9743316960451287,0.968321792234708,0.962180647300118,0.9559090935790915,0.9495079810842655,0.9429781773879771,0.936320567504675,0.9295360537709714,0.9226255557233438,0.9155900099735041,0.9084303700814581,0.9011476064262636,0.8937427060745093,0.8862166726465363,0.8785705261804096,0.8708053029936693,0.8629220555428734,0.8549218522809537,0.8468057775124024,0.8385749312463127,0.8302304290472889,0.8217734018842484,0.8132049959771371,0.8045263726415757,0.7957387081314624,0.7868431934795498,0.7778410343360171,0.768733450805065,0.7595216772795481,0.7502069622736712,0.7407905682537744,0.7312737714672242,0.7216578617694361,0.7119441424490585,0.7021339300513274,0.6922285541996327,0.682229357415306,0.6721376949356639,0.6619549345303241,0.651682456315829,0.6413216525685879,0.6308739275361789,0.6203406972470229,0.6097233893184624,0.5990234427632717,0.5882423077946196,0.5773814456295143,0.5664423282907608,0.5554264384074483,0.5443352690140031,0.5331703233478323,0.5219331146455806,0.5106251659380365,0.4992480098437083,0.48780318836110087,0.4762922526597206,0.4647167628698409,0.4530782878710474,0.44137840507960296,0.4296187002346523,0.4178007671832981,0.40592620766458226,0.3939966310923918,0.38201365433733003,0.3699789015075736,0.3578940037287499,0.34576059892286154,0.33358033158629424,0.3213548525669273,0.30908581884038916,0.29677489328547885,0.28442374445878854,0.2720340463685548,0.25960747824777586,0.24714572432661358,0.23465047360412514,0.22212341961934395,0.20956626022174507,0.19698069734113094,0.18436843675695747,0.17173118786714495,0.15907066345639365,0.1463885794640432,0.13368665475150146,0.1209666108692826,0.10823017182367363,0.0954790638430752,0.08271501514403594,0.06993975569702039,0.057155016991936494,0.044362531803459816,0.03156403395618358,0.018761258089623933,0.005955939423117219,-0.006850186479364268,-0.019655383944437856,-0.03245791742455824,-0.04525605173324083],\"type\":\"scatter\"},{\"hoverinfo\":\"text\",\"line\":{\"color\":\"rgba(254,224,139,0.75)\",\"shape\":\"spline\",\"width\":0.25},\"mode\":\"lines\",\"text\":\"3rd Ave & Broad St<br>3227 partidas\",\"x\":[-1.099068618092853,-1.0986747677469457,-1.098211694991508,-1.09767942900261,-1.0970780033158665,-1.0964074558243253,-1.0956678287760788,-1.0948591687716025,-1.0939815267608182,-1.0930349580398853,-1.0920195222477156,-1.0909352833622161,-1.0897823096962584,-1.0885606738933742,-1.0872704529231783,-1.0859117280765196,-1.0844845849603588,-1.082989113492375,-1.0814254078953005,-1.0797935666909841,-1.0780936926941833,-1.0763258930060873,-1.0744902790075683,-1.0725869663521643,-1.070616074958792,-1.0685777290041918,-1.0664720569151034,-1.0642991913601743,-1.062059269241601,-1.0597524316865046,-1.0573788240380373,-1.054938595846225,-1.0524319008585463,-1.0498588970102452,-1.0472197464143793,-1.0445146153516067,-1.0417436742597088,-1.038907097722853,-1.0360050644605914,-1.0330377573166012,-1.0300053632471657,-1.0269080733093927,-1.023746082649179,-1.0205195904889137,-1.0172288001149274,-1.0138739188646828,-1.0104551581137124,-1.0069727332622995,-1.0034268637219086,-0.9998177729013599,-0.9961456881927527,-0.9924108409571409,-0.9886134665099542,-0.9847538041061717,-0.9808320969252492,-0.9768485920557957,-0.9728035404800067,-0.9686971970578513,-0.9645298205110129,-0.9603016734065901,-0.9560130221405531,-0.9516641369209587,-0.9472552917509269,-0.9427867644113753,-0.9382588364435196,-0.9336717931311342,-0.9290259234825765,-0.92432152021258,-0.9195588797238101,-0.9147383020881902,-0.9098600910279945,-0.9049245538967124,-0.8999320016596838,-0.8948827488745068,-0.8897771136712175,-0.8846154177322476,-0.8793979862721565,-0.8741251480171403,-0.868797235184321,-0.8634145834608138,-0.8579775319825791,-0.8524864233130535,-0.8469416034215663,-0.841343421661543,-0.8356922307484932,-0.8299883867377872,-0.8242322490022245,-0.8184241802093879,-0.8125645462987976,-0.8066537164588524,-0.800692063103569,-0.7946799618491192,-0.7886177914901632,-0.7825059339759832,-0.77634477438642,-0.770134700907608,-0.7638761048075211,-0.7575693804113185,-0.7512149250764991,-0.7448131391678688],\"y\":[-0.04525674229842885,-0.05397920633165048,-0.06269826938503983,-0.07141338211080986,-0.0801239954100639,-0.08882956046739388,-0.09752952878545745,-0.10622335221953849,-0.11491048301208001,-0.12359037382719791,-0.132262477785165,-0.14092624849686944,-0.1495811400982371,-0.158226607284626,-0.16686210534518253,-0.17548709019716274,-0.1841010184202101,-0.1927033472905953,-0.2012935348154102,-0.20987103976671811,-0.21843532171565094,-0.22698584106646139,-0.2355220590905192,-0.2440434379602559,-0.25254944078304803,-0.2610395316350461,-0.2695131755949397,-0.2779698387776625,-0.28640898836802664,-0.2948300926542954,-0.30323262106168225,-0.31161604418578265,-0.3199798338259257,-0.32832346301845605,-0.3366464060699342,-0.3449481385902602,-0.3532281375257099,-0.3614858811918923,-0.36972084930661714,-0.3779325230226778,-0.3861203849605385,-0.3942839192409337,-0.4024226115173704,-0.41053594900853657,-0.4186234205306067,-0.4266845165294504,-0.43471872911273646,-0.4427255520819346,-0.45070448096420596,-0.4586550130441889,-0.4665766473956741,-0.474468884913163,-0.48233122834331593,-0.4901631823162811,-0.49796425337690536,-0.5057339500158261,-0.5134717827004365,-0.5211772639057297,-0.5288499081450176,-0.5364892320005155,-0.5440947541538022,-0.5516659954161456,-0.559202478758693,-0.5667037293425288,-0.5741692745485888,-0.5815986440074398,-0.5889913696289156,-0.5963469856316079,-0.6036650285722135,-0.610945037374734,-0.6181865533595257,-0.6253891202722001,-0.6325522843123682,-0.6396755941622336,-0.6467586010150292,-0.6538008586032915,-0.6608019232269805,-0.6677613537814334,-0.6746787117851577,-0.6815535614074579,-0.6883854694958942,-0.6951740056035738,-0.7019187420162725,-0.7086192537793813,-0.7152751187246817,-0.7218859174969446,-0.7284512335803511,-0.7349706533247374,-0.7414437659716545,-0.7478701636802484,-0.7542494415529589,-0.7605811976610272,-0.7668650330698211,-0.7731005518639695,-0.7792873611723078,-0.7854250711926308,-0.7915132952162517,-0.7975516496523666,-0.8035397540522249,-0.8094772311330968],\"type\":\"scatter\"},{\"hoverinfo\":\"text\",\"line\":{\"color\":\"rgba(255,255,191,0.75)\",\"shape\":\"spline\",\"width\":0.25},\"mode\":\"lines\",\"text\":\"Pine St & 9th Ave<br>1614 partidas\",\"x\":[-0.7448126305581774,-0.7415931161081852,-0.7383619133030922,-0.7351190730703477,-0.7318646465208204,-0.7285986849479917,-0.7253212398271494,-0.7220323628145741,-0.7187321057467266,-0.7154205206394302,-0.7120976596870513,-0.7087635752616761,-0.705418319912286,-0.7020619463639285,-0.6986945075168868,-0.695316056445846,-0.6919266463990564,-0.6885263307974941,-0.6851151632340193,-0.6816931974725315,-0.6782604874471224,-0.6748170872612251,-0.6713630511867622,-0.66789843366329,-0.6644232892971406,-0.6609376728605606,-0.6574416392908493,-0.6539352436894915,-0.6504185413212892,-0.6468915876134912,-0.643354438154919,-0.6398071486950909,-0.6362497751433429,-0.6326823735679482,-0.6291050001952327,-0.6255177114086897,-0.6219205637480902,-0.6183136139085932,-0.61469691873985,-0.6110705352451105,-0.6074345205803231,-0.6037889320532347,-0.6001338271224872,-0.5964692633967118,-0.5927952986336211,-0.5891119907390991,-0.5854193977662877,-0.5817175779146727,-0.5780065895291658,-0.5742864910991855,-0.5705573412577348,-0.5668191987804774,-0.563072122584811,-0.5593161717289401,-0.5555514054109414,-0.5517778829678357,-0.5479956638746494,-0.5442048077434785,-0.5404053743225482,-0.5365974234952717,-0.5327810152793063,-0.5289562098256074,-0.5251230674174805,-0.5212816484696308,-0.5174320135272115,-0.5135742232648691,-0.5097083384857874,-0.5058344201207291,-0.5019525292270749,-0.49806272698786236,-0.4941650747108204,-0.4902596338274037,-0.4863464658918242,-0.48242563258008103,-0.4784971956889885,-0.474561217135202,-0.4706177589542419,-0.46666688329951644,-0.4627086524413414,-0.4587431287659592,-0.4547703747745552,-0.4507904530822729,-0.446803426417227,-0.44280935761951457,-0.4388083096402249,-0.43480034554044705,-0.43078552849027596,-0.4267639217678172,-0.42273558875818895,-0.4187005929525237,-0.414658997946967,-0.41061086744167535,-0.4065562652398124,-0.4024952552465429,-0.3984279014680258,-0.39435426801040535,-0.39027441907880084,-0.38618841897629425,-0.3820963321029173,-0.3779982229546362],\"y\":[-0.8094776991128342,-0.8124282430719355,-0.8153659822333753,-0.818290870295027,-0.8212028611573117,-0.824101908923925,-0.8269879679025609,-0.8298609926056312,-0.832720937750983,-0.835567758262612,-0.8384014092713732,-0.8412218461156882,-0.8440290243422486,-0.8468228997067172,-0.8496034281744249,-0.8523705659210653,-0.8551242693333848,-0.8578644950098704,-0.8605911997614334,-0.8633043406120904,-0.8660038747996409,-0.8686897597763406,-0.8713619532095723,-0.8740204129825138,-0.8766650971948002,-0.8792959641631859,-0.8819129724222005,-0.8845160807248026,-0.8871052480430305,-0.8896804335686478,-0.8922415967137872,-0.8947886971115907,-0.8973216946168446,-0.8998405493066133,-0.9023452214808678,-0.9048356716631122,-0.907311860601005,-0.9097737492669787,-0.912221298858854,-0.9146544708004518,-0.9170732267422015,-0.9194775285617449,-0.9218673383645376,-0.9242426184844456,-0.9266033314843392,-0.9289494401566836,-0.9312809075241246,-0.933597696840072,-0.9358997715892778,-0.9381870954884134,-0.9404596324866394,-0.9427173467661756,-0.9449602027428645,-0.9471881650667321,-0.9494011986225466,-0.9515992685303691,-0.9537823401461061,-0.9559503790620535,-0.95810335110744,-0.9602412223489659,-0.9623639590913367,-0.9644715278777949,-0.9665638954906481,-0.968641028951791,-0.9707028955232264,-0.9727494627075806,-0.9747806982486154,-0.9767965701317373,-0.9787970465845015,-0.9807820960771125,-0.9827516873229216,-0.9847057892789197,-0.9866443711462265,-0.9885674023705763,-0.9904748526427989,-0.9923666918992978,-0.9942428903225243,-0.9961034183414469,-0.9979482466320175,-0.9997773461176337,-1.001590687969597,-1.0033882436075676,-1.0051699847000137,-1.0069358831646598,-1.008685911168927,-1.0104200411303748,-1.0121382457171322,-1.0138404978483315,-1.0155267706945335,-1.0171970376781507,-1.0188512724738668,-1.0204894490090504,-1.022111541464167,-1.0237175242731857,-1.0253073721239818,-1.0268810599587361,-1.02843856297433,-1.0299798566227354,-1.031504916611403,-1.0330137189036444],\"type\":\"scatter\"},{\"hoverinfo\":\"text\",\"line\":{\"color\":\"rgba(230,245,152,0.75)\",\"shape\":\"spline\",\"width\":0.25},\"mode\":\"lines\",\"text\":\"2nd Ave & Pine St<br>3239 partidas\",\"x\":[-0.3779975738928997,-0.3697555077891956,-0.36148997151932105,-0.3532014897367448,-0.34489058855139804,-0.3365577954962795,-0.32820363949397063,-0.3198286508230621,-0.31143336108449376,-0.3030183031678149,-0.2945840112173537,-0.2861310205983162,-0.27765986786280306,-0.26917109071575235,-0.26066522798080827,-0.25214281956611995,-0.24360440643007053,-0.23505053054694008,-0.22648173487250384,-0.21789856330956817,-0.20930156067344652,-0.20069127265737713,-0.1920682457978846,-0.1834330274400922,-0.17478616570297353,-0.1661282094445647,-0.15745970822712446,-0.14878121228225114,-0.1400932724759566,-0.13139644027370012,-0.1226912677053843,-0.11397830733031496,-0.10525811220212766,-0.09653123583368259,-0.08779823216193054,-0.07905965551275179,-0.07031606056577039,-0.061568002319144964,-0.05281603605434427,-0.044060717300894864,-0.035302601801122935,-0.026542245474877667,-0.017780204384244287,-0.009017034698248156,-0.0002532926575520297,0.008510465460851222,0.0172736833789482,0.02603580485301463,0.03479627370892282,0.04355453387744474,0.05231002942954936,0.0610622046116863,0.06981050388106798,0.07855437194092872,0.08729325377577314,0.09602659468660557,0.10475384032613953,0.11347443673398487,0.12218783037181018,0.13089346815847866,0.13959079750515482,0.14827926635037988,0.15695832319511396,0.1656274171377421,0.174285997909043,0.18293351590711782,0.19156942223227263,0.20019316872186516,0.20880420798509566,0.21740199343775332,0.22598597933691075,0.2345556208155646,0.24311037391722132,0.25164969563042433,0.26017304392322177,0.26867987777757196,0.27716965722368414,0.28564184337429316,0.2940958984588663,0.3025312858577332,0.31094747013615814,0.31934391707831367,0.3277200937212,0.33607546838846997,0.34440951072417847,0.352721691726446,0.36101148378103776,0.36927836069485337,0.37752179772932687,0.38574127163373473,0.3939362606784087,0.40210624468785283,0.41025070507376155,0.41836912486793754,0.42646098875510274,0.43452578310561357,0.44256299600805943,0.45057211730175734,0.4585526386091345,0.4665040533679969],\"y\":[-1.0330139564067282,-1.0359926951767346,-1.038905674491655,-1.0417527094506374,-1.0445336193386359,-1.0472482276378818,-1.0498963620390882,-1.052477854452387,-1.0549925410179997,-1.0574402621166352,-1.0598208623796261,-1.0621341906987865,-1.0643801002360063,-1.0665584484325705,-1.0686690970182087,-1.0707119120198707,-1.0726867637702318,-1.0745935269159228,-1.0764320804254865,-1.0782023075970606,-1.0799040960657849,-1.081537337810934,-1.0831019291627744,-1.0845977708091432,-1.0860247678017536,-1.0873828295622214,-1.0886718698878137,-1.0898918069569217,-1.091042563334253,-1.092124065975748,-1.0931362462332157,-1.0940790398586915,-1.094952387008515,-1.0957562322471281,-1.0964905245505954,-1.0971552173098413,-1.0977502683336093,-1.0982756398511395,-1.098731298514567,-1.0991172154010376,-1.0994333660145446,-1.099679730287483,-1.099856292581924,-1.0999630416906063,-1.0999999708376496,-1.099967077678982,-1.0998643643024917,-1.0996918372278917,-1.0994495074063082,-1.0991373902195842,-1.0987555054793035,-1.0983038774255331,-1.097782534725285,-1.0971915104706955,-1.096530842176926,-1.0958005717797807,-1.0950007456330457,-1.0941314145055452,-1.0931926335779207,-1.0921844624391273,-1.0911069650826517,-1.0899602099024501,-1.0887442696886072,-1.0874592216227148,-1.0861051472729744,-1.0846821325890181,-1.0831902678964547,-1.0816296478911342,-1.0800003716331383,-1.0783025425404928,-1.076536268382602,-1.074701661273409,-1.0727988376642794,-1.070827918336609,-1.0687890283941568,-1.0666822972551053,-1.0645078586438457,-1.0622658505824876,-1.0599564153821006,-1.0575796996336808,-1.0551358541988436,-1.0526250342002508,-1.0500473990117627,-1.0474031122483218,-1.0446923417555678,-1.0419152595991836,-1.039072042053973,-1.0361628695926726,-1.0331879268744952,-1.0301474027334097,-1.0270414901661533,-1.0238703863199836,-1.0206342924801624,-1.0173334140571793,-1.0139679605737157,-1.0105381456513423,-1.0070441869969613,-1.003486306388987,-0.9998647296632683,-0.9961796866987549],\"type\":\"scatter\"},{\"hoverinfo\":\"text\",\"line\":{\"color\":\"rgba(171,221,164,0.75)\",\"shape\":\"spline\",\"width\":0.25},\"mode\":\"lines\",\"text\":\"Lake Union Park<br>1496 partidas\",\"x\":[0.4665046792860617,0.4701672360733334,0.47382342642770053,0.4774732008414817,0.48111650989386967,0.48475330425160323,0.4883835346696381,0.4920071519918079,0.49562410715149297,0.4992343511722873,0.502837835168656,0.5064345103466006,0.5100243280043216,0.5136072395328733,0.5171831964168244,0.5207521502349176,0.5243140526607198,0.5278688554632803,0.5314165105077819,0.5349569697561964,0.5384901852679295,0.542016109200473,0.5455346938100549,0.5490458914522808,0.5525496545827814,0.5560459357578595,0.5595346876351267,0.563015862974147,0.5664894146370795,0.5699552955893111,0.5734134589000963,0.5768638577431952,0.5803064453975018,0.58374117524768,0.5871680007847973,0.5905868756069491,0.5939977534198896,0.5974005880376613,0.6007953333832153,0.6041819434890384,0.6075603724977766,0.610930574662852,0.6142925043490852,0.6176461160333147,0.6209913643050087,0.6243282038668827,0.6276565895355152,0.6309764762419546,0.6342878190323327,0.6375905730684718,0.640884693628495,0.6441701361074266,0.6474468560178015,0.6507148089902631,0.6539739507741666,0.657224237238177,0.6604656243708694,0.6636980682813206,0.6669215251997056,0.6701359514778926,0.6733413035900296,0.6765375381331359,0.6797246118276917,0.6829024815182207,0.6860711041738754,0.689230436889023,0.6923804368838213,0.6955210615048009,0.6986522682254438,0.7017740146467563,0.7048862584978441,0.7079889576364876,0.7110820700497075,0.7141655538543368,0.7172393672975892,0.7203034687576207,0.7233578167440952,0.7264023698987481,0.7294370869959427,0.73246192694323,0.7354768487819079,0.7384818116875705,0.7414767749706643,0.7444616980770402,0.747436540588499,0.750401262223341,0.7533558228369114,0.7563001824221446,0.7592343011101034,0.7621581391705202,0.7650716570123374,0.7679748151842388,0.7708675743751868,0.7737498954149556,0.7766217392746588,0.7794830670672787,0.7823338400481954,0.7851740196157078,0.7880035673115573,0.790822444821452],\"y\":[-0.996179393585417,-0.9944560171888763,-0.9927191750783873,-0.9909688907721524,-0.9892051879703938,-0.9874280905550301,-0.9856376225893523,-0.9838338083177007,-0.9820166721651347,-0.9801862387371012,-0.9783425328191041,-0.976485579376367,-0.9746154035534942,-0.9727320306741328,-0.970835486240628,-0.9689257959336772,-0.9670029856119846,-0.965067081311909,-0.9631181092471124,-0.9611560958082034,-0.9591810675623822,-0.9571930512530799,-0.9551920737995944,-0.9531781622967296,-0.9511513440144261,-0.9491116463973912,-0.9470590970647299,-0.9449937238095695,-0.9429155545986816,-0.9408246175721069,-0.9387209410427722,-0.9366045534961054,-0.9344754835896535,-0.9323337601526921,-0.9301794121858344,-0.928012468860641,-0.9258329595192235,-0.9236409136738458,-0.9214363610065273,-0.9192193313686394,-0.9169898547805003,-0.9147479614309711,-0.9124936816770455,-0.9102270460434371,-0.9079480852221696,-0.9056568300721595,-0.9033533116187963,-0.9010375610535258,-0.8987096097334261,-0.8963694891807831,-0.8940172310826622,-0.891652867290483,-0.8892764298195834,-0.8868879508487899,-0.88448746271998,-0.882074997937645,-0.8796505891684481,-0.8772142692407846,-0.8747660711443366,-0.8723060280296242,-0.8698341732075601,-0.8673505401489964,-0.8648551624842705,-0.8623480740027524,-0.8598293086523857,-0.8572989005392266,-0.8547568839269847,-0.8522032932365583,-0.8496381630455654,-0.8470615280878802,-0.84447342325316,-0.8418738835863719,-0.8392629442873211,-0.8366406407101729,-0.8340070083629718,-0.8313620829071648,-0.8287059001571163,-0.8260384960796214,-0.8233599067934227,-0.8206701685687194,-0.8179693178266741,-0.8152573911389234,-0.8125344252270811,-0.8098004569622383,-0.8070555233644693,-0.8042996616023262,-0.8015329089923384,-0.7987553029985034,-0.795966881231784,-0.7931676814495976,-0.7903577415553014,-0.7875370995976851,-0.7847057937704526,-0.7818638624117022,-0.779011344003413,-0.7761482771709208,-0.7732747006823932,-0.7703906534483089,-0.767496174520929,-0.764591303093765],\"type\":\"scatter\"},{\"hoverinfo\":\"text\",\"line\":{\"color\":\"rgba(102,194,165,0.75)\",\"shape\":\"spline\",\"width\":0.25},\"mode\":\"lines\",\"text\":\"Burke-Gilman Trail<br>941 partidas\",\"x\":[0.7908229252281799,0.7925905425557817,0.7943539136079324,0.7961130289374349,0.7978678791198918,0.7996184547537555,0.8013647464603808,0.803106744884072,0.8048444406921348,0.8065778245749262,0.808306887245904,0.8100316194416772,0.8117520119220543,0.8134680554700938,0.8151797408921552,0.8168870590179443,0.8185900007005656,0.8202885568165701,0.8219827182660038,0.8236724759724576,0.8253578208831154,0.8270387439688011,0.8287152362240309,0.830387288667057,0.8320548923399183,0.8337180383084878,0.8353767176625204,0.8370309215157011,0.838680641005692,0.840325867294179,0.8419665915669228,0.8436028050338011,0.8452344989288588,0.8468616645103544,0.8484842930608064,0.8501023758870406,0.8517159043202361,0.8533248697159722,0.8549292634542738,0.8565290769396599,0.8581243016011866,0.8597149288924949,0.8613009502918559,0.862882357302217,0.8644591414512465,0.86603129429138,0.8675988073998643,0.8691616723788052,0.8707198808552089,0.8722734244810293,0.8738222949332121,0.8753664839137393,0.8769059831496737,0.8784407843932034,0.879970879421685,0.8814962600376903,0.8830169180690467,0.8845328453688833,0.8860440338156739,0.8875504753132806,0.8890521617909967,0.8905490852035909,0.892041237531349,0.8935286107801195,0.8950111969813528,0.8964889881921466,0.8979619764952873,0.8994301539992928,0.9008935128384546,0.9023520451728805,0.9038057431885353,0.9052545990972836,0.9066986051369328,0.9081377535712716,0.9095720366901139,0.9110014468093394,0.9124259762709344,0.9138456174430332,0.9152603627199594,0.916670204522265,0.9180751352967741,0.9194751475166201,0.9208702336812874,0.9222603863166519,0.9236455979750208,0.9250258612351719,0.9264011687023946,0.9277715130085277,0.9291368868120016,0.9304972827978745,0.9318526936778738,0.9332031121904342,0.9345485311007369,0.935888943200748,0.9372243413092579,0.9385547182719186,0.9398800669612841,0.9412003802768457,0.9425156511450721,0.9438258725194467],\"y\":[-0.7645908062052176,-0.762758305003054,-0.7609217173505838,-0.7590810530872597,-0.7572363220743745,-0.7553875341950094,-0.7535346993539778,-0.7516778274777768,-0.7498169285145306,-0.7479520124339393,-0.7460830892272238,-0.744210168907073,-0.7423332615075908,-0.740452377084242,-0.7385675257137961,-0.7366787174942775,-0.7347859625449087,-0.7328892710060565,-0.7309886530391779,-0.7290841188267657,-0.7271756785722935,-0.7252633425001626,-0.7233471208556435,-0.7214270239048257,-0.7195030619345599,-0.7175752452524036,-0.7156435841865655,-0.7137080890858506,-0.7117687703196046,-0.709825638277659,-0.7078787033702729,-0.705927976028081,-0.7039734667020351,-0.7020151858633488,-0.7000531440034419,-0.6980873516338831,-0.696117819286335,-0.6941445575124962,-0.6921675768840472,-0.6901868879925889,-0.6882025014495923,-0.6862144278863369,-0.6842226779538559,-0.6822272623228782,-0.6802281916837716,-0.6782254767464853,-0.6762191282404939,-0.6742091569147358,-0.6721955735375613,-0.6701783888966716,-0.6681576137990607,-0.666133259070959,-0.6641053355577745,-0.6620738541240349,-0.6600388256533297,-0.6580002610482498,-0.6559581712303328,-0.6539125671400018,-0.6518634597365073,-0.6498108599978689,-0.6477547789208165,-0.6456952275207303,-0.6436322168315843,-0.6415657579058829,-0.6394958618146064,-0.6374225396471491,-0.6353458025112603,-0.6332656615329847,-0.6311821278566031,-0.6290952126445726,-0.627004927077467,-0.6249112823539167,-0.6228142896905472,-0.620713960321922,-0.6186103055004807,-0.6165033364964788,-0.614393064597927,-0.6122795011105315,-0.6101626573576333,-0.6080425446801475,-0.6059191744365003,-0.6037925580025726,-0.6016627067716358,-0.5995296321542916,-0.5973933455784107,-0.5952538584890724,-0.5931111823485017,-0.5909653286360104,-0.588816308847931,-0.586664134497561,-0.5845088171150977,-0.5823503682475766,-0.5801887994588101,-0.5780241223293257,-0.5758563484563036,-0.5736854894535155,-0.5715115569512591,-0.5693345625963009,-0.56715451805181,-0.5649714349972973],\"type\":\"scatter\"},{\"hoverinfo\":\"text\",\"line\":{\"color\":\"rgba(50,136,189,0.75)\",\"shape\":\"spline\",\"width\":0.25},\"mode\":\"lines\",\"text\":\"King Street Station Plaza<br>2215 partidas\",\"x\":[0.9438262275012823,0.946890359371438,0.9499263833884627,0.9529342094298663,0.9559137482101979,0.9588649112836966,0.9617876110469165,0.9646817607413275,0.9675472744558908,0.9703840671296082,0.9731920545540493,0.9759711533758483,0.9787212810991799,0.9814423560882082,0.9841342975695093,0.98679702563447,0.9894304612416586,0.9920345262191724,0.9946091432669573,0.9971542359591027,0.9996697287461104,1.0021555469571368,1.0046116168022101,1.0070378653744196,1.0094342206520814,1.011800611500875,1.014136967675955,1.016443219824038,1.0187192994854588,1.020965139096204,1.0231806719899177,1.0253658323998796,1.0275205554609577,1.0296447772115347,1.031738434595405,1.0338014654636476,1.0358338085764702,1.037835403605028,1.0398061911332137,1.0417461126594219,1.0436551105982848,1.0455331282823823,1.0473801099639242,1.049196000816405,1.0509807469362304,1.0527342953443188,1.0544565939876729,1.0561475917409258,1.0578072384078576,1.0594354847228862,1.0610322823525293,1.0625975838968398,1.0641313428908117,1.0656335138057607,1.0671040520506745,1.0685429139735374,1.0699500568626252,1.0713254389477742,1.0726690194016197,1.0739807583408092,1.075260616827186,1.0765085568689445,1.0777245414217584,1.0789085343898805,1.0800605006272135,1.0811804059383536,1.082268217079607,1.083323901759974,1.0843474286421098,1.0853387673432533,1.08629788843613,1.0872247634498253,1.0881193648706287,1.0889816661428522,1.089811641669617,1.0906092668136147,1.091374517897837,1.0921073722062804,1.0928078079846189,1.093475804440851,1.0941113417459163,1.0947144010342835,1.0952849644045117,1.0958230149197816,1.0963285366083968,1.0968015144642598,1.0972419344473159,1.0976497834839711,1.09802504946748,1.098367721258304,1.098677788684444,1.0989552425417408,1.0992000745941481,1.0994122775739787,1.0995918451821187,1.0997387720882148,1.0998530539308333,1.0999346873175884,1.0999836698252432,1.099999999999783],\"y\":[-0.5649708419739004,-0.5598201919629455,-0.5546529240367488,-0.5494691915824542,-0.5442691484759451,-0.5390529490772765,-0.5338207482260928,-0.5285727012370317,-0.5233089638951136,-0.5180296924511183,-0.512735043616943,-0.5074251745609559,-0.5021002429033273,-0.49676040671135124,-0.4914058244947537,-0.4860366552009873,-0.480653058210513,-0.475255193332069,-0.4698432207979269,-0.4644173012591352,-0.45897759578075087,-0.45352426583705757,-0.448057473306773,-0.4425773804682434,-0.43708414999462636,-0.4315779449490619,-0.4260589287798333,-0.4205272653155112,-0.41498311876009625,-0.40942665368814085,-0.40385803503986495,-0.39827742811625994,-0.3926849985741816,-0.38708091242143305,-0.38146533601183635,-0.37583843604029504,-0.3702003795378454,-0.3645513338666983,-0.35889146671527145,-0.3532209460932115,-0.34753994032640667,-0.3418486180519901,-0.33614714821333536,-0.33043570005503703,-0.32471444311789277,-0.318983547233867,-0.3132431825210501,-0.3074935193786089,-0.3017347284817282,-0.2959669807765448,-0.2901904474750725,-0.28440530005012016,-0.27861171023020176,-0.2728098499944382,-0.2669998915674528,-0.26118200741425857,-0.2553563702351388,-0.24952315296052058,-0.24368252874584137,-0.2378346709664101,-0.23197975321225656,-0.22611794928298456,-0.2202494331826087,-0.2143743791143902,-0.20849296147566584,-0.20260535485267103,-0.19671173401535733,-0.19081227391220457,-0.18490714966502747,-0.1789965365637775,-0.1730806100613392,-0.16715954576832223,-0.16123351944784836,-0.15530270701033402,-0.1493672845082696,-0.14342742813098944,-0.13748331419944762,-0.13153511916098015,-0.12558301958406815,-0.1196271921530965,-0.1136678136631092,-0.10770506101456113,-0.10173911120806708,-0.09577014133914741,-0.08979832859297121,-0.0838238502390966,-0.0778468836262086,-0.0718676061768547,-0.06588619538217806,-0.059902828796648946,-0.053917684032794046,-0.047930938755924135,-0.04194277067886123,-0.03595335755665937,-0.029962877181333877,-0.02397150737657988,-0.01797942599249466,-0.011986810900298277,-0.0059938399870536,-6.91150385814946e-07],\"type\":\"scatter\"},{\"hoverinfo\":\"text\",\"marker\":{\"color\":\"rgba(213,62,79,0.75)\",\"size\":0.5},\"mode\":\"markers\",\"text\":\"Pier 69 \\u2b8c : 4209 viagens \",\"x\":[0.14337759246001286],\"y\":[0.8885059740825441],\"type\":\"scatter\"},{\"hoverinfo\":\"text\",\"marker\":{\"color\":\"rgba(213,62,79,0.75)\",\"size\":0.5},\"mode\":\"markers\",\"text\":\"Pier 69 \\u2794 E Pine St & 16th Ave: 23 viagens \",\"x\":[0.899995830491],\"y\":[0.002739543541427226],\"type\":\"scatter\"},{\"hoverinfo\":\"text\",\"marker\":{\"color\":\"rgba(244,109,67,0.75)\",\"size\":0.5},\"mode\":\"markers\",\"text\":\"E Pine St & 16th Ave \\u2794 Pier 69: 3 viagens \",\"x\":[-0.3114308095223587],\"y\":[0.8443996985315949],\"type\":\"scatter\"},{\"hoverinfo\":\"text\",\"marker\":{\"color\":\"rgba(213,62,79,0.75)\",\"size\":0.5},\"mode\":\"markers\",\"text\":\"Pier 69 \\u2794 Seattle Aquarium: 1605 viagens \",\"x\":[0.6866695494326499],\"y\":[0.5817945770475706],\"type\":\"scatter\"},{\"hoverinfo\":\"text\",\"marker\":{\"color\":\"rgba(253,174,97,0.75)\",\"size\":0.5},\"mode\":\"markers\",\"text\":\"Seattle Aquarium \\u2794 Pier 69: 2291 viagens \",\"x\":[-0.874674132936597],\"y\":[0.2120027385946046],\"type\":\"scatter\"},{\"hoverinfo\":\"text\",\"marker\":{\"color\":\"rgba(213,62,79,0.75)\",\"size\":0.5},\"mode\":\"markers\",\"text\":\"Pier 69 \\u2794 3rd Ave & Broad St: 777 viagens \",\"x\":[0.8243720192096645],\"y\":[0.36112431923671456],\"type\":\"scatter\"},{\"hoverinfo\":\"text\",\"marker\":{\"color\":\"rgba(254,224,139,0.75)\",\"size\":0.5},\"mode\":\"markers\",\"text\":\"3rd Ave & Broad St \\u2794 Pier 69: 347 viagens \",\"x\":[-0.8646053635674775],\"y\":[-0.2499151161701706],\"type\":\"scatter\"},{\"hoverinfo\":\"text\",\"marker\":{\"color\":\"rgba(213,62,79,0.75)\",\"size\":0.5},\"mode\":\"markers\",\"text\":\"Pier 69 \\u2794 Pine St & 9th Ave: 65 viagens \",\"x\":[0.8999148165413291],\"y\":[0.012382365258137889],\"type\":\"scatter\"},{\"hoverinfo\":\"text\",\"marker\":{\"color\":\"rgba(255,255,191,0.75)\",\"size\":0.5},\"mode\":\"markers\",\"text\":\"Pine St & 9th Ave \\u2794 Pier 69: 52 viagens \",\"x\":[-0.5920953659130653],\"y\":[-0.6778075520856],\"type\":\"scatter\"},{\"hoverinfo\":\"text\",\"marker\":{\"color\":\"rgba(213,62,79,0.75)\",\"size\":0.5},\"mode\":\"markers\",\"text\":\"Pier 69 \\u2794 2nd Ave & Pine St: 384 viagens \",\"x\":[0.8961898492810634],\"y\":[0.08272698499029714],\"type\":\"scatter\"},{\"hoverinfo\":\"text\",\"marker\":{\"color\":\"rgba(230,245,152,0.75)\",\"size\":0.5},\"mode\":\"markers\",\"text\":\"2nd Ave & Pine St \\u2794 Pier 69: 310 viagens \",\"x\":[-0.17540674603012135],\"y\":[-0.8827414533413079],\"type\":\"scatter\"},{\"hoverinfo\":\"text\",\"marker\":{\"color\":\"rgba(213,62,79,0.75)\",\"size\":0.5},\"mode\":\"markers\",\"text\":\"Pier 69 \\u2794 Lake Union Park: 97 viagens \",\"x\":[0.8994955361551085],\"y\":[0.030129394899896716],\"type\":\"scatter\"},{\"hoverinfo\":\"text\",\"marker\":{\"color\":\"rgba(171,221,164,0.75)\",\"size\":0.5},\"mode\":\"markers\",\"text\":\"Lake Union Park \\u2794 Pier 69: 75 viagens \",\"x\":[0.42449253808350296],\"y\":[-0.7936032290202869],\"type\":\"scatter\"},{\"hoverinfo\":\"text\",\"marker\":{\"color\":\"rgba(213,62,79,0.75)\",\"size\":0.5},\"mode\":\"markers\",\"text\":\"Pier 69 \\u2794 Burke-Gilman Trail: 1 viagens \",\"x\":[0.8999999933287804],\"y\":[0.00010958191060962971],\"type\":\"scatter\"},{\"hoverinfo\":\"text\",\"marker\":{\"color\":\"rgba(102,194,165,0.75)\",\"size\":0.5},\"mode\":\"markers\",\"text\":\"Burke-Gilman Trail \\u2794 Pier 69: 4 viagens \",\"x\":[0.6474937758634278],\"y\":[-0.6251014399424474],\"type\":\"scatter\"},{\"hoverinfo\":\"text\",\"marker\":{\"color\":\"rgba(213,62,79,0.75)\",\"size\":0.5},\"mode\":\"markers\",\"text\":\"Pier 69 \\u2794 King Street Station Plaza: 737 viagens \",\"x\":[0.876598554563253],\"y\":[0.2038994216215817],\"type\":\"scatter\"},{\"hoverinfo\":\"text\",\"marker\":{\"color\":\"rgba(50,136,189,0.75)\",\"size\":0.5},\"mode\":\"markers\",\"text\":\"King Street Station Plaza \\u2794 Pier 69: 962 viagens \",\"x\":[0.8938331594820453],\"y\":[-0.10517738830349668],\"type\":\"scatter\"},{\"hoverinfo\":\"text\",\"marker\":{\"color\":\"rgba(244,109,67,0.75)\",\"size\":0.5},\"mode\":\"markers\",\"text\":\"E Pine St & 16th Ave \\u2b8c : 233 viagens \",\"x\":[-0.3760194799837846],\"y\":[0.8176853616598039],\"type\":\"scatter\"},{\"hoverinfo\":\"text\",\"marker\":{\"color\":\"rgba(244,109,67,0.75)\",\"size\":0.5},\"mode\":\"markers\",\"text\":\"E Pine St & 16th Ave \\u2794 Seattle Aquarium: 2 viagens \",\"x\":[-0.31091669396024646],\"y\":[0.8445891364544245],\"type\":\"scatter\"},{\"hoverinfo\":\"text\",\"marker\":{\"color\":\"rgba(253,174,97,0.75)\",\"size\":0.5},\"mode\":\"markers\",\"text\":\"Seattle Aquarium \\u2794 E Pine St & 16th Ave: 23 viagens \",\"x\":[-0.40132030740090124],\"y\":[0.8055693706116477],\"type\":\"scatter\"},{\"hoverinfo\":\"text\",\"marker\":{\"color\":\"rgba(244,109,67,0.75)\",\"size\":0.5},\"mode\":\"markers\",\"text\":\"E Pine St & 16th Ave \\u2794 3rd Ave & Broad St: 16 viagens \",\"x\":[-0.3150263759697445],\"y\":[0.8430648743977945],\"type\":\"scatter\"},{\"hoverinfo\":\"text\",\"marker\":{\"color\":\"rgba(254,224,139,0.75)\",\"size\":0.5},\"mode\":\"markers\",\"text\":\"3rd Ave & Broad St \\u2794 E Pine St & 16th Ave: 198 viagens \",\"x\":[-0.8897947456412232],\"y\":[-0.13514921616225134],\"type\":\"scatter\"},{\"hoverinfo\":\"text\",\"marker\":{\"color\":\"rgba(244,109,67,0.75)\",\"size\":0.5},\"mode\":\"markers\",\"text\":\"E Pine St & 16th Ave \\u2794 Pine St & 9th Ave: 98 viagens \",\"x\":[-0.3427690706531767],\"y\":[0.8321714752402641],\"type\":\"scatter\"},{\"hoverinfo\":\"text\",\"marker\":{\"color\":\"rgba(255,255,191,0.75)\",\"size\":0.5},\"mode\":\"markers\",\"text\":\"Pine St & 9th Ave \\u2794 E Pine St & 16th Ave: 934 viagens \",\"x\":[-0.40318319384503654],\"y\":[-0.8046386221161123],\"type\":\"scatter\"},{\"hoverinfo\":\"text\",\"marker\":{\"color\":\"rgba(244,109,67,0.75)\",\"size\":0.5},\"mode\":\"markers\",\"text\":\"E Pine St & 16th Ave \\u2794 2nd Ave & Pine St: 53 viagens \",\"x\":[-0.3274122744705142],\"y\":[0.8383323938188508],\"type\":\"scatter\"},{\"hoverinfo\":\"text\",\"marker\":{\"color\":\"rgba(230,245,152,0.75)\",\"size\":0.5},\"mode\":\"markers\",\"text\":\"2nd Ave & Pine St \\u2794 E Pine St & 16th Ave: 577 viagens \",\"x\":[0.08948958714137278],\"y\":[-0.8955398448942775],\"type\":\"scatter\"},{\"hoverinfo\":\"text\",\"marker\":{\"color\":\"rgba(244,109,67,0.75)\",\"size\":0.5},\"mode\":\"markers\",\"text\":\"E Pine St & 16th Ave \\u2794 Lake Union Park: 5 viagens \",\"x\":[-0.31286971844195477],\"y\":[0.8438676076743626],\"type\":\"scatter\"},{\"hoverinfo\":\"text\",\"marker\":{\"color\":\"rgba(171,221,164,0.75)\",\"size\":0.5},\"mode\":\"markers\",\"text\":\"Lake Union Park \\u2794 E Pine St & 16th Ave: 19 viagens \",\"x\":[0.3869373390232727],\"y\":[-0.8125758399494714],\"type\":\"scatter\"},{\"hoverinfo\":\"text\",\"marker\":{\"color\":\"rgba(244,109,67,0.75)\",\"size\":0.5},\"mode\":\"markers\",\"text\":\"E Pine St & 16th Ave \\u2794 Burke-Gilman Trail: 3 viagens \",\"x\":[-0.312047595822782],\"y\":[0.8441719599354279],\"type\":\"scatter\"},{\"hoverinfo\":\"text\",\"marker\":{\"color\":\"rgba(102,194,165,0.75)\",\"size\":0.5},\"mode\":\"markers\",\"text\":\"Burke-Gilman Trail \\u2794 E Pine St & 16th Ave: 15 viagens \",\"x\":[0.6513629139925476],\"y\":[-0.6210687194466784],\"type\":\"scatter\"},{\"hoverinfo\":\"text\",\"marker\":{\"color\":\"rgba(244,109,67,0.75)\",\"size\":0.5},\"mode\":\"markers\",\"text\":\"E Pine St & 16th Ave \\u2794 King Street Station Plaza: 26 viagens \",\"x\":[-0.3193334982773787],\"y\":[0.8414428779649462],\"type\":\"scatter\"},{\"hoverinfo\":\"text\",\"marker\":{\"color\":\"rgba(50,136,189,0.75)\",\"size\":0.5},\"mode\":\"markers\",\"text\":\"King Street Station Plaza \\u2794 E Pine St & 16th Ave: 71 viagens \",\"x\":[0.786731744251465],\"y\":[-0.43709628525880606],\"type\":\"scatter\"},{\"hoverinfo\":\"text\",\"marker\":{\"color\":\"rgba(253,174,97,0.75)\",\"size\":0.5},\"mode\":\"markers\",\"text\":\"Seattle Aquarium \\u2b8c : 1150 viagens \",\"x\":[-0.7127763629059961],\"y\":[0.5494996419311843],\"type\":\"scatter\"},{\"hoverinfo\":\"text\",\"marker\":{\"color\":\"rgba(253,174,97,0.75)\",\"size\":0.5},\"mode\":\"markers\",\"text\":\"Seattle Aquarium \\u2794 3rd Ave & Broad St: 792 viagens \",\"x\":[-0.5642196239372931],\"y\":[0.7011820134345002],\"type\":\"scatter\"},{\"hoverinfo\":\"text\",\"marker\":{\"color\":\"rgba(254,224,139,0.75)\",\"size\":0.5},\"mode\":\"markers\",\"text\":\"3rd Ave & Broad St \\u2794 Seattle Aquarium: 478 viagens \",\"x\":[-0.8351852186226535],\"y\":[-0.3353589876449273],\"type\":\"scatter\"},{\"hoverinfo\":\"text\",\"marker\":{\"color\":\"rgba(253,174,97,0.75)\",\"size\":0.5},\"mode\":\"markers\",\"text\":\"Seattle Aquarium \\u2794 Pine St & 9th Ave: 68 viagens \",\"x\":[-0.41022115634562445],\"y\":[0.8010734066778517],\"type\":\"scatter\"},{\"hoverinfo\":\"text\",\"marker\":{\"color\":\"rgba(255,255,191,0.75)\",\"size\":0.5},\"mode\":\"markers\",\"text\":\"Pine St & 9th Ave \\u2794 Seattle Aquarium: 36 viagens \",\"x\":[-0.6061593376920292],\"y\":[-0.6652599922802818],\"type\":\"scatter\"},{\"hoverinfo\":\"text\",\"marker\":{\"color\":\"rgba(253,174,97,0.75)\",\"size\":0.5},\"mode\":\"markers\",\"text\":\"Seattle Aquarium \\u2794 2nd Ave & Pine St: 158 viagens \",\"x\":[-0.44550055790323717],\"y\":[0.7820033586295551],\"type\":\"scatter\"},{\"hoverinfo\":\"text\",\"marker\":{\"color\":\"rgba(230,245,152,0.75)\",\"size\":0.5},\"mode\":\"markers\",\"text\":\"2nd Ave & Pine St \\u2794 Seattle Aquarium: 137 viagens \",\"x\":[-0.2651400708902122],\"y\":[-0.8600585694057895],\"type\":\"scatter\"},{\"hoverinfo\":\"text\",\"marker\":{\"color\":\"rgba(253,174,97,0.75)\",\"size\":0.5},\"mode\":\"markers\",\"text\":\"Seattle Aquarium \\u2794 Lake Union Park: 70 viagens \",\"x\":[-0.42362269710986783],\"y\":[0.7940678878366517],\"type\":\"scatter\"},{\"hoverinfo\":\"text\",\"marker\":{\"color\":\"rgba(171,221,164,0.75)\",\"size\":0.5},\"mode\":\"markers\",\"text\":\"Lake Union Park \\u2794 Seattle Aquarium: 17 viagens \",\"x\":[0.38337189375804503],\"y\":[-0.8142640794462017],\"type\":\"scatter\"},{\"hoverinfo\":\"text\",\"marker\":{\"color\":\"rgba(253,174,97,0.75)\",\"size\":0.5},\"mode\":\"markers\",\"text\":\"Seattle Aquarium \\u2794 Burke-Gilman Trail: 0 viagens \",\"x\":[-0.3990627992863023],\"y\":[0.8066900781748716],\"type\":\"scatter\"},{\"hoverinfo\":\"text\",\"marker\":{\"color\":\"rgba(102,194,165,0.75)\",\"size\":0.5},\"mode\":\"markers\",\"text\":\"Burke-Gilman Trail \\u2794 Seattle Aquarium: 4 viagens \",\"x\":[0.6481023543308849],\"y\":[-0.6244704463069203],\"type\":\"scatter\"},{\"hoverinfo\":\"text\",\"marker\":{\"color\":\"rgba(253,174,97,0.75)\",\"size\":0.5},\"mode\":\"markers\",\"text\":\"Seattle Aquarium \\u2794 King Street Station Plaza: 181 viagens \",\"x\":[-0.47738979738753007],\"y\":[0.762954114839348],\"type\":\"scatter\"},{\"hoverinfo\":\"text\",\"marker\":{\"color\":\"rgba(50,136,189,0.75)\",\"size\":0.5},\"mode\":\"markers\",\"text\":\"King Street Station Plaza \\u2794 Seattle Aquarium: 215 viagens \",\"x\":[0.8190985942518232],\"y\":[-0.37293094923147274],\"type\":\"scatter\"},{\"hoverinfo\":\"text\",\"marker\":{\"color\":\"rgba(254,224,139,0.75)\",\"size\":0.5},\"mode\":\"markers\",\"text\":\"3rd Ave & Broad St \\u2b8c : 627 viagens \",\"x\":[-0.7826535959544273],\"y\":[-0.4443572309973184],\"type\":\"scatter\"},{\"hoverinfo\":\"text\",\"marker\":{\"color\":\"rgba(254,224,139,0.75)\",\"size\":0.5},\"mode\":\"markers\",\"text\":\"3rd Ave & Broad St \\u2794 Pine St & 9th Ave: 166 viagens \",\"x\":[-0.8982243317822916],\"y\":[-0.056507077382004625],\"type\":\"scatter\"},{\"hoverinfo\":\"text\",\"marker\":{\"color\":\"rgba(255,255,191,0.75)\",\"size\":0.5},\"mode\":\"markers\",\"text\":\"Pine St & 9th Ave \\u2794 3rd Ave & Broad St: 151 viagens \",\"x\":[-0.5661811725288247],\"y\":[-0.6995990851008063],\"type\":\"scatter\"},{\"hoverinfo\":\"text\",\"marker\":{\"color\":\"rgba(254,224,139,0.75)\",\"size\":0.5},\"mode\":\"markers\",\"text\":\"3rd Ave & Broad St \\u2794 2nd Ave & Pine St: 962 viagens \",\"x\":[-0.6826154588037137],\"y\":[-0.5865459363103588],\"type\":\"scatter\"},{\"hoverinfo\":\"text\",\"marker\":{\"color\":\"rgba(230,245,152,0.75)\",\"size\":0.5},\"mode\":\"markers\",\"text\":\"2nd Ave & Pine St \\u2794 3rd Ave & Broad St: 1101 viagens \",\"x\":[0.269325177289812],\"y\":[-0.8587572118345275],\"type\":\"scatter\"},{\"hoverinfo\":\"text\",\"marker\":{\"color\":\"rgba(254,224,139,0.75)\",\"size\":0.5},\"mode\":\"markers\",\"text\":\"3rd Ave & Broad St \\u2794 Lake Union Park: 264 viagens \",\"x\":[-0.8807889247710943],\"y\":[-0.1849618068699042],\"type\":\"scatter\"},{\"hoverinfo\":\"text\",\"marker\":{\"color\":\"rgba(171,221,164,0.75)\",\"size\":0.5},\"mode\":\"markers\",\"text\":\"Lake Union Park \\u2794 3rd Ave & Broad St: 175 viagens \",\"x\":[0.46825216161036587],\"y\":[-0.7685960663100091],\"type\":\"scatter\"},{\"hoverinfo\":\"text\",\"marker\":{\"color\":\"rgba(254,224,139,0.75)\",\"size\":0.5},\"mode\":\"markers\",\"text\":\"3rd Ave & Broad St \\u2794 Burke-Gilman Trail: 6 viagens \",\"x\":[-0.8992106694746629],\"y\":[-0.0376851682088413],\"type\":\"scatter\"},{\"hoverinfo\":\"text\",\"marker\":{\"color\":\"rgba(102,194,165,0.75)\",\"size\":0.5},\"mode\":\"markers\",\"text\":\"Burke-Gilman Trail \\u2794 3rd Ave & Broad St: 8 viagens \",\"x\":[0.6496211089904833],\"y\":[-0.6228903713768374],\"type\":\"scatter\"},{\"hoverinfo\":\"text\",\"marker\":{\"color\":\"rgba(254,224,139,0.75)\",\"size\":0.5},\"mode\":\"markers\",\"text\":\"3rd Ave & Broad St \\u2794 King Street Station Plaza: 179 viagens \",\"x\":[-0.8950590140433847],\"y\":[-0.09417728696285523],\"type\":\"scatter\"},{\"hoverinfo\":\"text\",\"marker\":{\"color\":\"rgba(50,136,189,0.75)\",\"size\":0.5},\"mode\":\"markers\",\"text\":\"King Street Station Plaza \\u2794 3rd Ave & Broad St: 301 viagens \",\"x\":[0.8408972326296659],\"y\":[-0.3207675858869934],\"type\":\"scatter\"},{\"hoverinfo\":\"text\",\"marker\":{\"color\":\"rgba(255,255,191,0.75)\",\"size\":0.5},\"mode\":\"markers\",\"text\":\"Pine St & 9th Ave \\u2b8c : 186 viagens \",\"x\":[-0.508827663629374],\"y\":[-0.7423573322366208],\"type\":\"scatter\"},{\"hoverinfo\":\"text\",\"marker\":{\"color\":\"rgba(255,255,191,0.75)\",\"size\":0.5},\"mode\":\"markers\",\"text\":\"Pine St & 9th Ave \\u2794 2nd Ave & Pine St: 158 viagens \",\"x\":[-0.5394656466237515],\"y\":[-0.7204004553807679],\"type\":\"scatter\"},{\"hoverinfo\":\"text\",\"marker\":{\"color\":\"rgba(230,245,152,0.75)\",\"size\":0.5},\"mode\":\"markers\",\"text\":\"2nd Ave & Pine St \\u2794 Pine St & 9th Ave: 344 viagens \",\"x\":[-0.10463294054278206],\"y\":[-0.8938970565749563],\"type\":\"scatter\"},{\"hoverinfo\":\"text\",\"marker\":{\"color\":\"rgba(255,255,191,0.75)\",\"size\":0.5},\"mode\":\"markers\",\"text\":\"Pine St & 9th Ave \\u2794 Lake Union Park: 53 viagens \",\"x\":[-0.5833817575016431],\"y\":[-0.6853216215867511],\"type\":\"scatter\"},{\"hoverinfo\":\"text\",\"marker\":{\"color\":\"rgba(171,221,164,0.75)\",\"size\":0.5},\"mode\":\"markers\",\"text\":\"Lake Union Park \\u2794 Pine St & 9th Ave: 73 viagens \",\"x\":[0.410123573876698],\"y\":[-0.8011233701188629],\"type\":\"scatter\"},{\"hoverinfo\":\"text\",\"marker\":{\"color\":\"rgba(255,255,191,0.75)\",\"size\":0.5},\"mode\":\"markers\",\"text\":\"Pine St & 9th Ave \\u2794 Burke-Gilman Trail: 2 viagens \",\"x\":[-0.6092308542076504],\"y\":[-0.6624483121583273],\"type\":\"scatter\"},{\"hoverinfo\":\"text\",\"marker\":{\"color\":\"rgba(102,194,165,0.75)\",\"size\":0.5},\"mode\":\"markers\",\"text\":\"Burke-Gilman Trail \\u2794 Pine St & 9th Ave: 4 viagens \",\"x\":[0.6487103178846526],\"y\":[-0.623838860179448],\"type\":\"scatter\"},{\"hoverinfo\":\"text\",\"marker\":{\"color\":\"rgba(255,255,191,0.75)\",\"size\":0.5},\"mode\":\"markers\",\"text\":\"Pine St & 9th Ave \\u2794 King Street Station Plaza: 42 viagens \",\"x\":[-0.5998140647719026],\"y\":[-0.6709866524021233],\"type\":\"scatter\"},{\"hoverinfo\":\"text\",\"marker\":{\"color\":\"rgba(50,136,189,0.75)\",\"size\":0.5},\"mode\":\"markers\",\"text\":\"King Street Station Plaza \\u2794 Pine St & 9th Ave: 65 viagens \",\"x\":[0.7793863252881775],\"y\":[-0.45006327994382217],\"type\":\"scatter\"},{\"hoverinfo\":\"text\",\"marker\":{\"color\":\"rgba(230,245,152,0.75)\",\"size\":0.5},\"mode\":\"markers\",\"text\":\"2nd Ave & Pine St \\u2b8c : 427 viagens \",\"x\":[-0.020380735035910064],\"y\":[-0.8997692068744051],\"type\":\"scatter\"},{\"hoverinfo\":\"text\",\"marker\":{\"color\":\"rgba(230,245,152,0.75)\",\"size\":0.5},\"mode\":\"markers\",\"text\":\"2nd Ave & Pine St \\u2794 Lake Union Park: 135 viagens \",\"x\":[-0.2934729564776494],\"y\":[-0.8508076303232521],\"type\":\"scatter\"},{\"hoverinfo\":\"text\",\"marker\":{\"color\":\"rgba(171,221,164,0.75)\",\"size\":0.5},\"mode\":\"markers\",\"text\":\"Lake Union Park \\u2794 2nd Ave & Pine St: 105 viagens \",\"x\":[0.44178208966750127],\"y\":[-0.784110059397924],\"type\":\"scatter\"},{\"hoverinfo\":\"text\",\"marker\":{\"color\":\"rgba(230,245,152,0.75)\",\"size\":0.5},\"mode\":\"markers\",\"text\":\"2nd Ave & Pine St \\u2794 Burke-Gilman Trail: 9 viagens \",\"x\":[-0.3083443783078141],\"y\":[-0.8455316341604066],\"type\":\"scatter\"},{\"hoverinfo\":\"text\",\"marker\":{\"color\":\"rgba(102,194,165,0.75)\",\"size\":0.5},\"mode\":\"markers\",\"text\":\"Burke-Gilman Trail \\u2794 2nd Ave & Pine St: 1 viagens \",\"x\":[0.6471131023169516],\"y\":[-0.6254955098237961],\"type\":\"scatter\"},{\"hoverinfo\":\"text\",\"marker\":{\"color\":\"rgba(230,245,152,0.75)\",\"size\":0.5},\"mode\":\"markers\",\"text\":\"2nd Ave & Pine St \\u2794 King Street Station Plaza: 199 viagens \",\"x\":[-0.22974255840247326],\"y\":[-0.8701829444770142],\"type\":\"scatter\"},{\"hoverinfo\":\"text\",\"marker\":{\"color\":\"rgba(50,136,189,0.75)\",\"size\":0.5},\"mode\":\"markers\",\"text\":\"King Street Station Plaza \\u2794 2nd Ave & Pine St: 384 viagens \",\"x\":[0.8646964701045221],\"y\":[-0.24959970871132686],\"type\":\"scatter\"},{\"hoverinfo\":\"text\",\"marker\":{\"color\":\"rgba(171,221,164,0.75)\",\"size\":0.5},\"mode\":\"markers\",\"text\":\"Lake Union Park \\u2b8c : 960 viagens \",\"x\":[0.5696661803606166],\"y\":[-0.6967642664153678],\"type\":\"scatter\"},{\"hoverinfo\":\"text\",\"marker\":{\"color\":\"rgba(171,221,164,0.75)\",\"size\":0.5},\"mode\":\"markers\",\"text\":\"Lake Union Park \\u2794 Burke-Gilman Trail: 46 viagens \",\"x\":[0.3984733395791756],\"y\":[-0.8069814109659647],\"type\":\"scatter\"},{\"hoverinfo\":\"text\",\"marker\":{\"color\":\"rgba(102,194,165,0.75)\",\"size\":0.5},\"mode\":\"markers\",\"text\":\"Burke-Gilman Trail \\u2794 Lake Union Park: 25 viagens \",\"x\":[0.6543799650777253],\"y\":[-0.6178890364012578],\"type\":\"scatter\"},{\"hoverinfo\":\"text\",\"marker\":{\"color\":\"rgba(171,221,164,0.75)\",\"size\":0.5},\"mode\":\"markers\",\"text\":\"Lake Union Park \\u2794 King Street Station Plaza: 26 viagens \",\"x\":[0.3913836831937016],\"y\":[-0.8104435899738687],\"type\":\"scatter\"},{\"hoverinfo\":\"text\",\"marker\":{\"color\":\"rgba(50,136,189,0.75)\",\"size\":0.5},\"mode\":\"markers\",\"text\":\"King Street Station Plaza \\u2794 Lake Union Park: 31 viagens \",\"x\":[0.7740725363556237],\"y\":[-0.45914236186609014],\"type\":\"scatter\"},{\"hoverinfo\":\"text\",\"marker\":{\"color\":\"rgba(102,194,165,0.75)\",\"size\":0.5},\"mode\":\"markers\",\"text\":\"Burke-Gilman Trail \\u2b8c : 880 viagens \",\"x\":[0.718359027455076],\"y\":[-0.542181065395867],\"type\":\"scatter\"},{\"hoverinfo\":\"text\",\"marker\":{\"color\":\"rgba(102,194,165,0.75)\",\"size\":0.5},\"mode\":\"markers\",\"text\":\"Burke-Gilman Trail \\u2794 King Street Station Plaza: 0 viagens \",\"x\":[0.6470369388230562],\"y\":[-0.625574295986087],\"type\":\"scatter\"},{\"hoverinfo\":\"text\",\"marker\":{\"color\":\"rgba(50,136,189,0.75)\",\"size\":0.5},\"mode\":\"markers\",\"text\":\"King Street Station Plaza \\u2794 Burke-Gilman Trail: 1 viagens \",\"x\":[0.7722777354428204],\"y\":[-0.46215484346624464],\"type\":\"scatter\"},{\"hoverinfo\":\"text\",\"marker\":{\"color\":\"rgba(50,136,189,0.75)\",\"size\":0.5},\"mode\":\"markers\",\"text\":\"King Street Station Plaza \\u2b8c : 185 viagens \",\"x\":[0.7999716534158974],\"y\":[-0.41236555837149563],\"type\":\"scatter\"}],                        {\"height\":625,\"hovermode\":\"closest\",\"margin\":{\"b\":25,\"l\":25,\"r\":25,\"t\":25},\"paper_bgcolor\":\"rgba(0,0,0,0)\",\"plot_bgcolor\":\"rgba(0,0,0,0)\",\"shapes\":[{\"fillcolor\":\"rgba(213,62,79,0.75)\",\"layer\":\"below\",\"line\":{\"color\":\"rgb(175,175,175)\",\"width\":0.5},\"path\":\"M 0.6229187010081774,0.7822865791602749 Q 0.031861687213336196, 0.19744577201834312 -0.3452338719347044, 0.9385166880077158L -0.3452338719347044, 0.9385166880077158 L -0.2639112265865334, 0.9645469737040241 L -0.18066441809789902, 0.9835447971665284 L -0.09610039465560964, 0.995371646244274 L -0.010835708192758415, 0.9999412919906655 L 0.07450798085961882, 0.9972204173542691 L 0.15930843606668096, 0.9872288600917156 L 0.24294738168353305, 0.9700394681316403 L 0.32481501047179145, 0.9457775684441929 L 0.4043144297727051, 0.9146200532885622 L 0.48086601342074253, 0.8767940905006387 L 0.5539116277680676, 0.8325754672240407 L 0.6229187010081774, 0.7822865791602749 \",\"type\":\"path\"},{\"fillcolor\":\"rgba(213,62,79,0.75)\",\"layer\":\"below\",\"line\":{\"color\":\"rgb(175, 175, 175)\",\"width\":0.5},\"path\":\"M 0.9999999703501354,0.00024351535510523892 Q 0.11431488570286381, 0.1641100451122392 -0.3463769149657192, 0.9380954283967229L -0.3463769149657192, 0.9380954283967229 L -0.34603423280262074, 0.9382218872573277 L -0.3456915044706283, 0.9383482209376397 M -0.3456915044706283,0.9383482209376397 Q 0.1139149136595393, 0.16438793278686764 0.9999829217265603, 0.0058443353096745325L 0.9999829217265603, 0.0058443353096745325 L 0.9999953672122222, 0.0030439372682524732 L 0.9999999703501354, 0.00024351535510523892 \",\"type\":\"path\"},{\"fillcolor\":\"rgba(253,174,97,0.75)\",\"layer\":\"below\",\"line\":{\"color\":\"rgb(175, 175, 175)\",\"width\":0.5},\"path\":\"M 0.8739690235383102,0.4859816312325936 Q -0.05417843550151814, 0.19252193933837214 -0.9991533150257145, -0.04114186521203711L -0.9991533150257145, -0.04114186521203711 L -0.9986571894223205, 0.051805578996006074 L -0.9895331914699406, 0.14430545027584368 L -0.97186014770733, 0.23555859843844956 L -0.9457907439281896, 0.324776644326161 L -0.911550206056293, 0.4111887909935409 L -0.8694343543120802, 0.4940484829871824 M -0.8694343543120802,0.4940484829871824 Q -0.037927716436576955, 0.19637079295533388 0.6229187010081774, 0.7822865791602749L 0.6229187010081774, 0.7822865791602749 L 0.7192685477277928, 0.69473214712546 L 0.8034274603813727, 0.5954026502335523 L 0.8739690235383102, 0.4859816312325936 \",\"type\":\"path\"},{\"fillcolor\":\"rgba(213,62,79,0.75)\",\"layer\":\"below\",\"line\":{\"color\":\"rgb(175, 175, 175)\",\"width\":0.5},\"path\":\"M 0.9497767666958941,0.3129282560662959 Q -0.06309424217430858, 0.18978702960015392 -0.9480867207517846, -0.31801190218941133L -0.9480867207517846, -0.31801190218941133 L -0.9606726261860862, -0.27768346241130065 L -0.9715439345774787, -0.23685941650209266 M -0.9715439345774787,-0.23685941650209266 Q -0.07293970410924909, 0.18622513139867883 0.8739690235383102, 0.4859816312325936L 0.8739690235383102, 0.4859816312325936 L 0.9159689102329606, 0.4012492435963495 L 0.9497767666958941, 0.3129282560662959 \",\"type\":\"path\"},{\"fillcolor\":\"rgba(213,62,79,0.75)\",\"layer\":\"below\",\"line\":{\"color\":\"rgb(175, 175, 175)\",\"width\":0.5},\"path\":\"M 0.9999829217265603,0.0058443353096745325 Q -0.08382536614289776, 0.18158553904705388 -0.6531022914503184, -0.7572696989199709L -0.6531022914503184, -0.7572696989199709 L -0.6578837399034059, -0.7531195023173333 L -0.6626388161781432, -0.7489391158792742 M -0.6626388161781432,-0.7489391158792742 Q -0.08411268511406168, 0.18145262798566109 0.9997651526147238, 0.02167117018663315L 0.9997651526147238, 0.02167117018663315 L 0.9999053517125879, 0.01375818362015321 L 0.9999829217265603, 0.0058443353096745325 \",\"type\":\"path\"},{\"fillcolor\":\"rgba(213,62,79,0.75)\",\"layer\":\"below\",\"line\":{\"color\":\"rgb(175, 175, 175)\",\"width\":0.5},\"path\":\"M 0.9989744086360391,0.04527837110890709 Q -0.13320119839913586, 0.14918927825093214 -0.15774529781795002, -0.9874798332200644L -0.15774529781795002, -0.9874798332200644 L -0.1948963844779126, -0.9808238370458977 L -0.23176984016136787, -0.9727706518967223 M -0.23176984016136787,-0.9727706518967223 Q -0.13453998172387122, 0.14798308456624495 0.9903822155940469, 0.1383584729426672L 0.9903822155940469, 0.1383584729426672 L 0.9957664992011815, 0.09191887221144127 L 0.9989744086360391, 0.04527837110890709 \",\"type\":\"path\"},{\"fillcolor\":\"rgba(213,62,79,0.75)\",\"layer\":\"below\",\"line\":{\"color\":\"rgb(175, 175, 175)\",\"width\":0.5},\"path\":\"M 0.9997651526147238,0.02167117018663315 Q -0.1731238461541631, 0.10014057066339128 0.47969086073460565, -0.8774375636634741L 0.47969086073460565, -0.8774375636634741 L 0.4716583756483366, -0.8817813655780965 L 0.4635865592381494, -0.886051636245729 M 0.4635865592381494,-0.886051636245729 Q -0.17339146943688638, 0.09967646826868064 0.9989744086360391, 0.04527837110890709L 0.9989744086360391, 0.04527837110890709 L 0.9994394846167872, 0.033477105444329684 L 0.9997651526147238, 0.02167117018663315 \",\"type\":\"path\"},{\"fillcolor\":\"rgba(102,194,165,0.75)\",\"layer\":\"below\",\"line\":{\"color\":\"rgb(175, 175, 175)\",\"width\":0.5},\"path\":\"M 1.0,0.0 Q -0.18546027678456245, 0.07486311331352374 0.7197757132503252, -0.6942066858040087L 0.7197757132503252, -0.6942066858040087 L 0.7194375287371421, -0.6945571554916081 L 0.7190991735749842, -0.6949074604318007 M 0.7190991735749842,-0.6949074604318007 Q -0.1854329190241465, 0.07493085173801467 0.9999999703501354, 0.00024351535510523892L 0.9999999703501354, 0.00024351535510523892 L 0.9999999925875338, 0.00012175767845514412 L 1.0, 0.0 \",\"type\":\"path\"},{\"fillcolor\":\"rgba(50,136,189,0.75)\",\"layer\":\"below\",\"line\":{\"color\":\"rgb(175, 175, 175)\",\"width\":0.5},\"path\":\"M 0.9903822155940469,0.1383584729426672 Q -0.19951853560644656, -0.01386917263066252 0.9999999999998026, -6.283185325590418e-07L 0.9999999999998026, -6.283185325590418e-07 L 0.9931479549800504, -0.11686376478166298 L 0.9726858668109996, -0.23212540685184493 M 0.9726858668109996,-0.23212540685184493 Q -0.19982357400193662, -0.008398766164894215 0.9497767666958941, 0.3129282560662959L 0.9497767666958941, 0.3129282560662959 L 0.97399839395917, 0.22655491291286856 L 0.9903822155940469, 0.1383584729426672 \",\"type\":\"path\"},{\"fillcolor\":\"rgba(244,109,67,0.75)\",\"layer\":\"below\",\"line\":{\"color\":\"rgb(175,175,175)\",\"width\":0.5},\"path\":\"M -0.39186006572772364,0.9200248305822317 Q -0.08355988444084103, 0.18170785814662307 -0.44340254714210997, 0.8963225876814045L -0.44340254714210997, 0.8963225876814045 L -0.41779942220420513, 0.9085392907331153 L -0.39186006572772364, 0.9200248305822317 \",\"type\":\"path\"},{\"fillcolor\":\"rgba(253,174,97,0.75)\",\"layer\":\"below\",\"line\":{\"color\":\"rgb(175, 175, 175)\",\"width\":0.5},\"path\":\"M -0.3452344616220627,0.9385164710906914 Q -0.07949080897814535, 0.1835244160541044 -0.4484162980098726, 0.893824828296418L -0.4484162980098726, 0.893824828296418 L -0.445911452667668, 0.8950770784573863 L -0.44340311031811364, 0.8963223090831907 M -0.44340311031811364,0.8963223090831907 Q -0.07902129386157826, 0.18372706691296767 -0.3456915044706283, 0.9383482209376397L -0.3456915044706283, 0.9383482209376397 L -0.34546299328916275, 0.9384323738382494 L -0.3452344616220627, 0.9385164710906914 \",\"type\":\"path\"},{\"fillcolor\":\"rgba(254,224,139,0.75)\",\"layer\":\"below\",\"line\":{\"color\":\"rgb(175, 175, 175)\",\"width\":0.5},\"path\":\"M -0.34820377154030113,0.9374188676814169 Q -0.17354902337022618, 0.09940189378095715 -0.9847536918070957, -0.1739544954069756L -0.9847536918070957, -0.1739544954069756 L -0.988660828490248, -0.15016579573583483 L -0.9919933871873465, -0.1262898245171606 M -0.9919933871873465,-0.1262898245171606 Q -0.17130385808527712, 0.10322300230616839 -0.35185351331580406, 0.9360550759262648L -0.35185351331580406, 0.9360550759262648 L -0.35002930663304943, 0.9367387493308829 L -0.34820377154030113, 0.9374188676814169 \",\"type\":\"path\"},{\"fillcolor\":\"rgba(255,255,191,0.75)\",\"layer\":\"below\",\"line\":{\"color\":\"rgb(175, 175, 175)\",\"width\":0.5},\"path\":\"M -0.3697947558606889,0.9291134691403056 Q -0.1999803954306693, -0.0028002577369132535 -0.3436347481405775, -0.939103380821495L -0.3436347481405775, -0.939103380821495 L -0.447981326494485, -0.894042913462347 L -0.5465405890334605, -0.8374326149243043 M -0.5465405890334605,-0.8374326149243043 Q -0.1992298286307193, 0.017534976012935456 -0.39186006572772364, 0.9200248305822317L -0.39186006572772364, 0.9200248305822317 L -0.3808545229479741, 0.9246349724891824 L -0.3697947558606889, 0.9291134691403056 \",\"type\":\"path\"},{\"fillcolor\":\"rgba(230,245,152,0.75)\",\"layer\":\"below\",\"line\":{\"color\":\"rgb(175, 175, 175)\",\"width\":0.5},\"path\":\"M -0.35777292706535646,0.9338086167192329 Q -0.1928675424106, -0.0529349703362098 0.16903608900054717, -0.9856098622758394L 0.16903608900054717, -0.9856098622758394 L 0.09943287460152532, -0.9950442721047528 L 0.029339096626834007, -0.9995695160463435 M 0.029339096626834007,-0.9995695160463435 Q -0.19585014968727604, -0.04053046838455701 -0.3697947558606889, 0.9291134691403056L -0.3697947558606889, 0.9291134691403056 L -0.3637914160783491, 0.9314804375765009 L -0.35777292706535646, 0.9338086167192329 \",\"type\":\"path\"},{\"fillcolor\":\"rgba(171,221,164,0.75)\",\"layer\":\"below\",\"line\":{\"color\":\"rgb(175, 175, 175)\",\"width\":0.5},\"path\":\"M -0.34706214060235474,0.9378421352021412 Q -0.18416677062379472, -0.07799102895848081 0.4320178988108247, -0.9018650315358058L 0.4320178988108247, -0.9018650315358058 L 0.4299303766925252, -0.9028620443883015 L 0.427840553680049, -0.903854225318856 M 0.427840553680049,-0.903854225318856 Q -0.18429944709836665, -0.07767698371613273 -0.34820377154030113, 0.9374188676814169L -0.34820377154030113, 0.9374188676814169 L -0.3476330204910609, 0.9376306751937362 L -0.34706214060235474, 0.9378421352021412 \",\"type\":\"path\"},{\"fillcolor\":\"rgba(102,194,165,0.75)\",\"layer\":\"below\",\"line\":{\"color\":\"rgb(175, 175, 175)\",\"width\":0.5},\"path\":\"M -0.3463769149657192,0.9380954283967229 Q -0.16703261031362546, -0.11000048677990724 0.7249956917400161, -0.688753400687369L 0.7249956917400161, -0.688753400687369 L 0.7237365711028307, -0.6900763549407538 L 0.7224750363751956, -0.6913970073804627 M 0.7224750363751956,-0.6913970073804627 Q -0.16719315255224568, -0.10975631981640743 -0.34706214060235474, 0.9378421352021412L -0.34706214060235474, 0.9378421352021412 L -0.34671955091420226, 0.9379688443726977 L -0.3463769149657192, 0.9380954283967229 \",\"type\":\"path\"},{\"fillcolor\":\"rgba(50,136,189,0.75)\",\"layer\":\"below\",\"line\":{\"color\":\"rgb(175, 175, 175)\",\"width\":0.5},\"path\":\"M -0.35185351331580406,0.9360550759262648 Q -0.15089593710950314, -0.13126467980323145 0.8783121165657908, -0.4780876759483775L 0.8783121165657908, -0.4780876759483775 L 0.8741463825016277, -0.4856625391764512 L 0.8699153218233512, -0.49320110792350746 M 0.8699153218233512,-0.49320110792350746 Q -0.1516128816009182, -0.1304359388077763 -0.35777292706535646, 0.9338086167192329L -0.35777292706535646, 0.9338086167192329 L -0.35481499808597633, 0.9349365310721625 L -0.35185351331580406, 0.9360550759262648 \",\"type\":\"path\"},{\"fillcolor\":\"rgba(253,174,97,0.75)\",\"layer\":\"below\",\"line\":{\"color\":\"rgb(175,175,175)\",\"width\":0.5},\"path\":\"M -0.6990110624679736,0.7151108547263108 Q -0.1583947473124436, 0.12211103154026318 -0.8694343543120802, 0.4940484829871824L -0.8694343543120802, 0.4940484829871824 L -0.7919737365622179, 0.6105551577013159 L -0.6990110624679736, 0.7151108547263108 \",\"type\":\"path\"},{\"fillcolor\":\"rgba(253,174,97,0.75)\",\"layer\":\"below\",\"line\":{\"color\":\"rgb(175, 175, 175)\",\"width\":0.5},\"path\":\"M -0.5489851085424711,0.8358321306330664 Q -0.19249549793084136, 0.05427230671675427 -0.9047380003846264, -0.42596848552449024L -0.9047380003846264, -0.42596848552449024 L -0.9279835762473928, -0.3726210973832525 L -0.9480867207517846, -0.31801190218941133 M -0.9480867207517846,-0.31801190218941133 Q -0.19442926061538637, 0.0468749679099001 -0.6990110624679736, 0.7151108547263108L -0.6990110624679736, 0.7151108547263108 L -0.626910693263659, 0.7790911260383335 L -0.5489851085424711, 0.8358321306330664 \",\"type\":\"path\"},{\"fillcolor\":\"rgba(253,174,97,0.75)\",\"layer\":\"below\",\"line\":{\"color\":\"rgb(175, 175, 175)\",\"width\":0.5},\"path\":\"M -0.4484162980098726,0.893824828296418 Q -0.19818602745362535, 0.026875612033047072 -0.6702638991240049, -0.7421228372251361L -0.6702638991240049, -0.7421228372251361 L -0.6735103752133658, -0.7391777692003131 L -0.6767439111258844, -0.7362184993288617 M -0.6767439111258844,-0.7362184993288617 Q -0.19828923697291284, 0.026103227783169237 -0.4631550264391062, 0.8862772825048552L -0.4631550264391062, 0.8862772825048552 L -0.4558012848284716, 0.8900815629753908 L -0.4484162980098726, 0.893824828296418 \",\"type\":\"path\"},{\"fillcolor\":\"rgba(253,174,97,0.75)\",\"layer\":\"below\",\"line\":{\"color\":\"rgb(175, 175, 175)\",\"width\":0.5},\"path\":\"M -0.4781945530588306,0.8782539322000587 Q -0.19883212729100835, -0.021582056364773332 -0.27861932181215926, -0.9604016209445569L -0.27861932181215926, -0.9604016209445569 L -0.2946000787669024, -0.9556206326730995 L -0.3104988654764049, -0.9505737501834697 M -0.3104988654764049,-0.9505737501834697 Q -0.19877629390651413, -0.02209038208793855 -0.5116234978691953, 0.8592097511248866L -0.5116234978691953, 0.8592097511248866 L -0.4950006198924857, 0.8688926206995056 L -0.4781945530588306, 0.8782539322000587 \",\"type\":\"path\"},{\"fillcolor\":\"rgba(253,174,97,0.75)\",\"layer\":\"below\",\"line\":{\"color\":\"rgb(175, 175, 175)\",\"width\":0.5},\"path\":\"M -0.4631550264391062,0.8862772825048552 Q -0.17904798036530442, -0.08911689361229758 0.427840553680049, -0.903854225318856L 0.427840553680049, -0.903854225318856 L 0.42596877084227225, -0.9047378660513352 L 0.4240951629873288, -0.9056176305321971 M 0.4240951629873288,-0.9056176305321971 Q -0.178469170904415, -0.09027045494895167 -0.4781945530588306, 0.8782539322000587L -0.4781945530588306, 0.8782539322000587 L -0.47069188567763093, 0.8822976531518352 L -0.4631550264391062, 0.8862772825048552 \",\"type\":\"path\"},{\"fillcolor\":\"rgba(102,194,165,0.75)\",\"layer\":\"below\",\"line\":{\"color\":\"rgb(175, 175, 175)\",\"width\":0.5},\"path\":\"M -0.44340311031811364,0.8963223090831907 Q -0.1613786703578733, -0.11813942929236146 0.7204515700089393, -0.6935052525191532L 0.7204515700089393, -0.6935052525191532 L 0.7201137270343165, -0.6938560514521336 L 0.7197757132503252, -0.6942066858040087 M 0.7197757132503252,-0.6942066858040087 Q -0.16143618860801973, -0.11806081910488292 -0.44340311031811364, 0.8963223090831907L -0.44340311031811364, 0.8963223090831907 L -0.44340311031811364, 0.8963223090831907 L -0.44340311031811364, 0.8963223090831907 \",\"type\":\"path\"},{\"fillcolor\":\"rgba(50,136,189,0.75)\",\"layer\":\"below\",\"line\":{\"color\":\"rgb(175, 175, 175)\",\"width\":0.5},\"path\":\"M -0.5116234978691953,0.8592097511248866 Q -0.13148503460430272, -0.15070396701847408 0.9206437556319055, -0.3904037336091706L 0.9206437556319055, -0.3904037336091706 L 0.9101095491686924, -0.414367721368303 L 0.8989516972219966, -0.4380477668721662 M 0.8989516972219966,-0.4380477668721662 Q -0.13210778199863646, -0.15015836285535597 -0.5489851085424711, 0.8358321306330664L -0.5489851085424711, 0.8358321306330664 L -0.5304331082083668, 0.8477267942659422 L -0.5116234978691953, 0.8592097511248866 \",\"type\":\"path\"},{\"fillcolor\":\"rgba(254,224,139,0.75)\",\"layer\":\"below\",\"line\":{\"color\":\"rgb(175,175,175)\",\"width\":0.5},\"path\":\"M -0.9047380003846264,-0.42596848552449024 Q -0.17392302132320606, -0.09874605133273742 -0.8294264654510519, -0.558615913136544L -0.8294264654510519, -0.558615913136544 L -0.8696151066160303, -0.4937302566636871 L -0.9047380003846264, -0.42596848552449024 \",\"type\":\"path\"},{\"fillcolor\":\"rgba(254,224,139,0.75)\",\"layer\":\"below\",\"line\":{\"color\":\"rgb(175, 175, 175)\",\"width\":0.5},\"path\":\"M -0.9990921097616313,-0.04260230289611728 Q -0.1777938010509989, -0.09159347306352032 -0.614693121751793, -0.7887663570862004L -0.614693121751793, -0.7887663570862004 L -0.6290901916986941, -0.7773323167786736 L -0.6432746210450273, -0.7656355281198598 M -0.6432746210450273,-0.7656355281198598 Q -0.17762622021766206, -0.09191803898684216 -0.9965542652825862, -0.08294333214360838L -0.9965542652825862, -0.08294333214360838 L -0.9980270353136572, -0.0627856415355607 L -0.9990921097616313, -0.04260230289611728 \",\"type\":\"path\"},{\"fillcolor\":\"rgba(230,245,152,0.75)\",\"layer\":\"below\",\"line\":{\"color\":\"rgb(175, 175, 175)\",\"width\":0.5},\"path\":\"M -0.8294264654510519,-0.558615913136544 Q -0.05335768949664021, -0.19275102326986526 0.42409459397090543, -0.9056178969988683L 0.42409459397090543, -0.9056178969988683 L 0.29925019698867994, -0.9541746798161416 L 0.16903608900054717, -0.9856098622758394 M 0.16903608900054717,-0.9856098622758394 Q -0.05661207028802964, -0.19182041991848311 -0.677102853788972, -0.7358883919391785L -0.677102853788972, -0.7358883919391785 L -0.7584616208930152, -0.6517177070115098 L -0.8294264654510519, -0.558615913136544 \",\"type\":\"path\"},{\"fillcolor\":\"rgba(254,224,139,0.75)\",\"layer\":\"below\",\"line\":{\"color\":\"rgb(175, 175, 175)\",\"width\":0.5},\"path\":\"M -0.9847536918070957,-0.1739544954069756 Q -0.0804060114521061, -0.1831252940539995 0.5383572668797703, -0.8427167099314834L 0.5383572668797703, -0.8427167099314834 L 0.5202801795670732, -0.8539956292333434 L 0.5019668875989335, -0.864886838698705 M 0.5019668875989335,-0.864886838698705 Q -0.0784169016271373, -0.18398584059432366 -0.9715439345774787, -0.23685941650209266L -0.9715439345774787, -0.23685941650209266 L -0.9786543608567714, -0.205513118744338 L -0.9847536918070957, -0.1739544954069756 \",\"type\":\"path\"},{\"fillcolor\":\"rgba(102,194,165,0.75)\",\"layer\":\"below\",\"line\":{\"color\":\"rgb(175, 175, 175)\",\"width\":0.5},\"path\":\"M -0.999153289175321,-0.04114249299857167 Q -0.07066695048228416, -0.18709939099188538 0.7224750363751956, -0.6913970073804627L 0.7224750363751956, -0.6913970073804627 L 0.7218012322116482, -0.6921004126409305 L 0.7211267432095797, -0.6928031612427479 M 0.7211267432095797,-0.6928031612427479 Q -0.0707125095861483, -0.18708217709880567 -0.9990921097616313, -0.04260230289611728L -0.9990921097616313, -0.04260230289611728 L -0.9991229660829587, -0.04187240912093478 L -0.999153289175321, -0.04114249299857167 \",\"type\":\"path\"},{\"fillcolor\":\"rgba(50,136,189,0.75)\",\"layer\":\"below\",\"line\":{\"color\":\"rgb(175, 175, 175)\",\"width\":0.5},\"path\":\"M -0.9965542652825862,-0.08294333214360838 Q -0.024412299508464155, -0.19850450783976933 0.9467619547470754, -0.3219344670014331L 0.9467619547470754, -0.3219344670014331 L 0.9343302584774065, -0.35640842876332596 L 0.9206437556319055, -0.3904037336091706 M 0.9206437556319055,-0.3904037336091706 Q -0.027358166404011702, -0.19811999074048636 -0.9919933871873465, -0.1262898245171606L -0.9919933871873465, -0.1262898245171606 L -0.9945100156037608, -0.10464142995872802 L -0.9965542652825862, -0.08294333214360838 \",\"type\":\"path\"},{\"fillcolor\":\"rgba(255,255,191,0.75)\",\"layer\":\"below\",\"line\":{\"color\":\"rgb(175,175,175)\",\"width\":0.5},\"path\":\"M -0.5838975996720424,-0.8118273172893526 Q -0.11307281413986091, -0.16496829605258242 -0.5465405890334605, -0.8374326149243043L -0.5465405890334605, -0.8374326149243043 L -0.5653640706993045, -0.824841480262912 L -0.5838975996720424, -0.8118273172893526 \",\"type\":\"path\"},{\"fillcolor\":\"rgba(230,245,152,0.75)\",\"layer\":\"below\",\"line\":{\"color\":\"rgb(175, 175, 175)\",\"width\":0.5},\"path\":\"M -0.614693121751793,-0.7887663570862004 Q -0.07200921384557327, -0.18658690501035302 -0.0745684222902922, -0.9972158995910247L -0.0745684222902922, -0.9972158995910247 L -0.1162588228253134, -0.9932189517499515 L -0.15774529781795002, -0.9874798332200644 M -0.15774529781795002,-0.9874798332200644 Q -0.07621600840703614, -0.18490840992907434 -0.5838975996720424, -0.8118273172893526L -0.5838975996720424, -0.8118273172893526 L -0.5994062740263906, -0.8004449504230754 L -0.614693121751793, -0.7887663570862004 \",\"type\":\"path\"},{\"fillcolor\":\"rgba(171,221,164,0.75)\",\"layer\":\"below\",\"line\":{\"color\":\"rgb(175, 175, 175)\",\"width\":0.5},\"path\":\"M -0.6531022914503184,-0.7572696989199709 Q -0.022913096721589168, -0.19868313969390333 0.4635865592381494, -0.886051636245729L 0.4635865592381494, -0.886051636245729 L 0.4556928598629978, -0.8901370779098476 L 0.4477631601488465, -0.8941521975667892 M 0.4477631601488465,-0.8941521975667892 Q -0.023396851426525356, -0.19862675384581277 -0.6432746210450273, -0.7656355281198598L -0.6432746210450273, -0.7656355281198598 L -0.6482019527796035, -0.7614684684297235 L -0.6531022914503184, -0.7572696989199709 \",\"type\":\"path\"},{\"fillcolor\":\"rgba(102,194,165,0.75)\",\"layer\":\"below\",\"line\":{\"color\":\"rgb(175, 175, 175)\",\"width\":0.5},\"path\":\"M -0.6771023914165248,-0.7358888173753038 Q 0.006159965353126184, -0.19990511455900345 0.7211267432095797, -0.6928031612427479L 0.7211267432095797, -0.6928031612427479 L 0.7207892420940585, -0.6931542890882756 L 0.7204515700089393, -0.6935052525191532 M 0.7204515700089393,-0.6935052525191532 Q 0.006111285378759949, -0.19990660867269835 -0.6767439111258844, -0.7362184993288617L -0.6767439111258844, -0.7362184993288617 L -0.6769231713418338, -0.7360536801759192 L -0.6771023914165248, -0.7358888173753038 \",\"type\":\"path\"},{\"fillcolor\":\"rgba(50,136,189,0.75)\",\"layer\":\"below\",\"line\":{\"color\":\"rgb(175, 175, 175)\",\"width\":0.5},\"path\":\"M -0.6702638991240049,-0.7421228372251361 Q 0.031909672186405495, -0.19743802273360656 0.8699153218233512, -0.49320110792350746L 0.8699153218233512, -0.49320110792350746 L 0.8659848058757528, -0.5000703110486913 L 0.8620000490502104, -0.5069081923163551 M 0.8620000490502104,-0.5069081923163551 Q 0.03135663711768055, -0.1975266091155065 -0.6626388161781432, -0.7489391158792742L -0.6626388161781432, -0.7489391158792742 L -0.6664600719687807, -0.7455407248912481 L -0.6702638991240049, -0.7421228372251361 \",\"type\":\"path\"},{\"fillcolor\":\"rgba(230,245,152,0.75)\",\"layer\":\"below\",\"line\":{\"color\":\"rgb(175,175,175)\",\"width\":0.5},\"path\":\"M -0.0745684222902922,-0.9972158995910247 Q -0.004529052230202237, -0.1999487126387567 0.029339096626834007, -0.9995695160463435L 0.029339096626834007, -0.9995695160463435 L -0.022645261151011183, -0.9997435631937834 L -0.0745684222902922, -0.9972158995910247 \",\"type\":\"path\"},{\"fillcolor\":\"rgba(230,245,152,0.75)\",\"layer\":\"below\",\"line\":{\"color\":\"rgb(175, 175, 175)\",\"width\":0.5},\"path\":\"M -0.34157516008228467,-0.9398544621454757 Q 0.017704702996953033, -0.19921481745038366 0.5019668875989335, -0.864886838698705L 0.5019668875989335, -0.864886838698705 L 0.4908689885194458, -0.8712333993310266 L 0.47969086073460565, -0.8774375636634741 M 0.47969086073460565,-0.8774375636634741 Q 0.018432263300565924, -0.19914881789661373 -0.3104988654764049, -0.9505737501834697L -0.3104988654764049, -0.9505737501834697 L -0.3260810627529438, -0.9453418114702802 L -0.34157516008228467, -0.9398544621454757 \",\"type\":\"path\"},{\"fillcolor\":\"rgba(230,245,152,0.75)\",\"layer\":\"below\",\"line\":{\"color\":\"rgb(175, 175, 175)\",\"width\":0.5},\"path\":\"M -0.34363415808445424,-0.9391035967333893 Q 0.04478903111721967, -0.19492034960870744 0.7190991735749842, -0.6949074604318007L 0.7190991735749842, -0.6949074604318007 L 0.7190145581299462, -0.694995010915329 L 0.7189299320256181, -0.6950825510956523 M 0.7189299320256181,-0.6950825510956523 Q 0.04497887419082294, -0.1948766298880554 -0.34157516008228467, -0.9398544621454757L -0.34157516008228467, -0.9398544621454757 L -0.3426048647864601, -0.9394795935115628 L -0.34363415808445424, -0.9391035967333893 \",\"type\":\"path\"},{\"fillcolor\":\"rgba(50,136,189,0.75)\",\"layer\":\"below\",\"line\":{\"color\":\"rgb(175, 175, 175)\",\"width\":0.5},\"path\":\"M -0.27861932181215926,-0.9604016209445569 Q 0.10060390712590835, -0.1728550082323379 0.9726858668109996, -0.23212540685184493L 0.9726858668109996, -0.23212540685184493 L 0.9607738556716913, -0.27733300967925206 L 0.9467619547470754, -0.3219344670014331 M 0.9467619547470754,-0.3219344670014331 Q 0.09668513140544388, -0.17507708406616798 -0.23176984016136787, -0.9727706518967223L -0.23176984016136787, -0.9727706518967223 L -0.2552695093360814, -0.9668699383077934 L -0.27861932181215926, -0.9604016209445569 \",\"type\":\"path\"},{\"fillcolor\":\"rgba(171,221,164,0.75)\",\"layer\":\"below\",\"line\":{\"color\":\"rgb(175,175,175)\",\"width\":0.5},\"path\":\"M 0.5383572668797703,-0.8427167099314834 Q 0.12659248452458147, -0.1548365036478595 0.7189294952922296, -0.695083002812513L 0.7189294952922296, -0.695083002812513 L 0.6329624226229073, -0.7741825182392975 L 0.5383572668797703, -0.8427167099314834 \",\"type\":\"path\"},{\"fillcolor\":\"rgba(171,221,164,0.75)\",\"layer\":\"below\",\"line\":{\"color\":\"rgb(175, 175, 175)\",\"width\":0.5},\"path\":\"M 0.43771926128883115,-0.8991116995661662 Q 0.11864970813831438, -0.1610038718748491 0.7291752715685743, -0.6843269856822072L 0.7291752715685743, -0.6843269856822072 L 0.7270888500863615, -0.6865433737791753 L 0.7249956917400161, -0.688753400687369 M 0.7249956917400161,-0.688753400687369 Q 0.11906099237127149, -0.1606999691834695 0.4477631601488465, -0.8941521975667892L 0.4477631601488465, -0.8941521975667892 L 0.4427481550879729, -0.8966460121844051 L 0.43771926128883115, -0.8991116995661662 \",\"type\":\"path\"},{\"fillcolor\":\"rgba(50,136,189,0.75)\",\"layer\":\"below\",\"line\":{\"color\":\"rgb(175, 175, 175)\",\"width\":0.5},\"path\":\"M 0.4320178988108247,-0.9018650315358058 Q 0.1352949871293355, -0.1472931310607285 0.8620000490502104, -0.5069081923163551L 0.8620000490502104, -0.5069081923163551 L 0.860080595950693, -0.5101581798512113 L 0.8581488895244546, -0.5134008993057428 M 0.8581488895244546,-0.5134008993057428 Q 0.13520529152846728, -0.14737546994904605 0.43771926128883115, -0.8991116995661662L 0.43771926128883115, -0.8991116995661662 L 0.4348707591041129, -0.900492877748743 L 0.4320178988108247, -0.9018650315358058 \",\"type\":\"path\"},{\"fillcolor\":\"rgba(102,194,165,0.75)\",\"layer\":\"below\",\"line\":{\"color\":\"rgb(175,175,175)\",\"width\":0.5},\"path\":\"M 0.7291752715685743,-0.6843269856822072 Q 0.15963533943446134, -0.12048468119908157 0.8580235204722246, -0.5136103954520876L 0.8580235204722246, -0.5136103954520876 L 0.7981766971723067, -0.6024234059954078 L 0.7291752715685743, -0.6843269856822072 \",\"type\":\"path\"},{\"fillcolor\":\"rgba(50,136,189,0.75)\",\"layer\":\"below\",\"line\":{\"color\":\"rgb(175, 175, 175)\",\"width\":0.5},\"path\":\"M 0.7189299320256181,-0.6950825510956523 Q 0.15875093171313598, -0.12164761271891547 0.8581488895244546, -0.5134008993057428L 0.8581488895244546, -0.5134008993057428 L 0.8580863727142449, -0.5135053816291607 L 0.8580238431829839, -0.5136098563399094 M 0.8580238431829839,-0.5136098563399094 Q 0.15873611901790252, -0.12166694094590483 0.7189299320256181, -0.6950825510956523L 0.7189299320256181, -0.6950825510956523 L 0.7189299320256181, -0.6950825510956523 L 0.7189299320256181, -0.6950825510956523 \",\"type\":\"path\"},{\"fillcolor\":\"rgba(50,136,189,0.75)\",\"layer\":\"below\",\"line\":{\"color\":\"rgb(175,175,175)\",\"width\":0.5},\"path\":\"M 0.8783121165657908,-0.4780876759483775 Q 0.1777714785368661, -0.09163679074922126 0.8989516972219966, -0.4380477668721662L 0.8989516972219966, -0.4380477668721662 L 0.8888573926843304, -0.45818395374610627 L 0.8783121165657908, -0.4780876759483775 \",\"type\":\"path\"},{\"fillcolor\":\"rgba(213,62,79,0.75)\",\"layer\":\"below\",\"line\":{\"color\":\"rgb(150,150,150)\",\"width\":0.45},\"path\":\"M 1.1, 0.0 L 1.0997924295096861, 0.021368481302664256 L 1.0991697963760323, 0.042728898121435314 L 1.0981323355813382, 0.0640731890159634 L 1.0966804386642328, 0.08539329863183687 L 1.0948146535719068, 0.10668118074068028 L 1.0925356844533176, 0.12792880127680803 L 1.089844391393442, 0.14912814136928795 L 1.08674179008868, 0.17027120036827034 L 1.0832290514635299, 0.19134999886444037 L 1.0793075012286806, 0.2123565817004543 L 1.0749786193806865, 0.2332830209732228 L 1.0702440396434163, 0.2541214190259089 L 1.0651055488514836, 0.27486391142851047 L 1.059565086275894, 0.29550266994590324 L 1.0536247428921628, 0.3160299054922237 L 1.0472867605911789, 0.33643787107047707 L 1.0405535313331127, 0.35671886469626085 L 1.0334275962446886, 0.37686523230450053 L 1.0259116446601617, 0.3968693706381006 L 1.0180085131063608, 0.4167237301174208 L 1.009721184232179, 0.43642081768949387 L 1.0010527856829217, 0.4559531996559105 L 0.9920065889199293, 0.47531350447830384 L 0.9825860079859244, 0.4944944255603747 L 0.97279459821655, 0.513488724005407 L 0.9626360548985818, 0.5322892313482349 L 0.9521142118753242, 0.5508888522606267 L 0.941233040099714, 0.5692805672290691 L 0.9299966461356797, 0.5874574352039368 L 0.9184092706083204, 0.6054125962190522 L 0.9064752866034901, 0.6231392739806412 L 0.8941991980173911, 0.6406307784247138 L 0.8815856378567997, 0.6578805082418995 L 0.8686393664905652, 0.6748819533687872 L 0.8553652698530424, 0.6916286974448299 L 0.8417683576001364, 0.7081144202338837 L 0.8278537612186522, 0.7243329000094716 L 0.8136267320896691, 0.7402780159028675 L 0.7990926395066633, 0.7559437502131187 L 0.7842569686491329, 0.7713241906781307 L 0.7691253185124847, 0.7864135327059607 L 0.7537033997949703, 0.8012060815654756 L 0.7379970327424615, 0.8156962545355486 L 0.7220121449518863, 0.8298785830119828 L 0.7057547691341468, 0.8437477145713684 L 0.68923104083737, 0.8572984149910905 L 0.6724471961313454, 0.8705255702247305 L 0.6554095692540276, 0.8834241883321117 L 0.6381245902209889, 0.8959894013632612 L 0.6205987823987253, 0.9082164671955799 L 0.6028387600427334, 0.920100771323522 L 0.5848512258012825, 0.9316378286001152 L 0.566642968185831, 0.9428232849296582 L 0.5482208590090354, 0.9536529189109607 L 0.5295918507913218, 0.9641226434305039 L 0.510762974136999, 0.9742285072049203 L 0.4917413350809021, 0.9839666962722123 L 0.4725341124065681, 0.9933335354311447 L 0.45314855493695694, 1.0023254896282683 L 0.4335919787987399, 1.0109391652920532 L 0.4138717646611857, 1.0191713116136247 L 0.39399535495068994, 1.0270188217736227 L 0.3739702510419966, 1.0344787341147164 L 0.3538040104271733, 1.0415482332593382 L 0.33350424386340555, 1.0482246511722086 L 0.3130786125006912, 1.0545054681672552 L 0.292534824990516, 1.060388313858545 L 0.27188063457660044, 1.06587096805487 L 0.2511238361688195, 1.070951361597648 L 0.23027226340139637, 1.0756275771418276 L 0.20933378567648267, 1.0798978498794933 L 0.18831630519423778, 1.0837605682059073 L 0.16722775397053238, 1.0872142743277295 L 0.1460760908433981, 1.0902576648131905 L 0.12486929846935582, 1.0928895910840084 L 0.10361538031075274, 1.095109059848862 L 0.08232235761524934, 1.0969152334782608 L 0.06099826638859297, 1.0983074303206668 L 0.03965115436182306, 1.0992851249597508 L 0.01828907795404878, 1.0998479484126844 L -0.0030799007680499453, 1.0999956882693946 L -0.024447717132852893, 1.0997282887727278 L -0.04580630690741525, 1.0990458508394925 L -0.06714760934091535, 1.0979486320223728 L -0.08846357020678967, 1.0964370464127289 L -0.10974614484240423, 1.094511664484317 L -0.13098730118511875, 1.0921732128779935 L -0.15217902280359347, 1.0894225741274794 L -0.1733133119231978, 1.0862607863262912 L -0.1943821924443767, 1.0826890427359637 L -0.2153777129528393, 1.078708691335712 L -0.23629194972042858, 1.0743212343137032 L -0.257117009695544, 1.0695283275001284 L -0.2778450334819855, 1.064331779742292 L -0.29846819830509763, 1.0587335522219503 L -0.3189787209640912, 1.0527357577151601 L -0.3393688607694295, 1.0463406597949159 L -0.35963092246417294, 1.039550671976873 L -0.3797572591281749, 1.0323683568084874 L -0.3452338719347044, 0.9385166880077158 L -0.3269372022401572, 0.9450460654335209 L -0.3085171461540268, 0.9512187816317416 L -0.28998065542190105, 0.957032507013782 L -0.2713347257319069, 0.9624850474745001 L -0.25258639407453226, 0.9675743452202653 L -0.2337427360868582, 0.9722984795455711 L -0.21481086338220778, 0.9766556675579119 L -0.19579792086621753, 0.9806442648506473 L -0.17671108404034244, 0.9842627661236033 L -0.15755755629381615, 0.9875098057511738 L -0.13834456618508495, 0.9903841582977085 L -0.1190793647137443, 0.9928847389799941 L -0.09976922258400384, 0.9950106040766518 L -0.08042142746071788, 0.9967609512842989 L -0.06104328121901395, 0.9981351200203389 L -0.04164209718855932, 0.9991325916722658 L -0.02222519739350263, 0.9997529897933889 L -0.0027999097891363138, 0.9999960802449042 L 0.016626434503680707, 0.9998617712842585 L 0.036046503965293686, 0.9993501135997734 L 0.05545296944417542, 0.9984613002915153 L 0.07483850692295393, 0.9971956667984188 L 0.09419580028250248, 0.9955536907716925 L 0.11351754406305074, 0.993535991894553 L 0.132796446221271, 0.991143331648355 L 0.15202523088230216, 0.9883766130252085 L 0.1711966410856707, 0.9852368801871884 L 0.19030344152407513, 0.9817253180722666 L 0.20933842127399668, 0.9778432519471159 L 0.22829439651710862, 0.9735921469069526 L 0.2471642132514549, 0.9689736073226088 L 0.2659407499913781, 0.9639893762350409 L 0.2846169204551738, 0.9586413346975047 L 0.3031856762394596, 0.9529315010656441 L 0.3216400094792484, 0.946862030235762 L 0.33997295549272416, 0.9404352128315603 L 0.3581775954097181, 0.9336534743396568 L 0.37624705878289605, 0.9265193741942043 L 0.3941745261806726, 0.9190356048109574 L 0.4119532317608699, 0.911204990571153 L 0.4295764658241528, 0.903030486755586 L 0.44703757734627464, 0.8945151784292839 L 0.4643299764881809, 0.8856622792772002 L 0.4814471370830197, 0.8764751303913672 L 0.4983825990991231, 0.8669571990099643 L 0.5151299710780282, 0.8571120772087801 L 0.5316829325466204, 0.8469434805455592 L 0.5480352364024849, 0.8364552466577472 L 0.5641807112715684, 0.8256513338141634 L 0.5801132638372626, 0.8145358194211465 L 0.595826881140025, 0.8031128984837378 L 0.6113156328466776, 0.7913868820224822 L 0.6265736734885181, 0.7793621954464458 L 0.6415952446674061, 0.7670433768830621 L 0.6563746772289875, 0.7544350754654389 L 0.6709063934022377, 0.7415420495777714 L 0.6851849089045183, 0.7283691650595232 L 0.6992048350113497, 0.7149213933690551 L 0.7129608805901207, 0.7012038097073915 L 0.7264478540969665, 0.6872215911028351 L 0.7396606655360627, 0.6729800144571522 L 0.7525943283805928, 0.658484454554065 L 0.7652439614546693, 0.6437403820308033 L 0.777604790775493, 0.6287533613134817 L 0.7896721513550592, 0.6135290485170792 L 0.8014414889607269, 0.5980731893108177 L 0.8129083618339918, 0.5823916167497398 L 0.8240684423668091, 0.5664902490733101 L 0.8349175187348367, 0.5503750874718656 L 0.8454514964869815, 0.5340522138217607 L 0.855666400090649, 0.5175277883900627 L 0.8655583744321128, 0.5008080475096606 L 0.875123686271438, 0.48389930122566804 L 0.884358725651409, 0.46680793091400635 L 0.8932600072599313, 0.44954038687306785 L 0.9018241717453902, 0.4321031858893671 L 0.9100479869844742, 0.4145029087781004 L 0.9179283493019808, 0.39674619789953985 L 0.925462284642146, 0.3788397546522007 L 0.9326469496910561, 0.3607903369437278 L 0.9394796329497168, 0.342604756640455 L 0.9459577557573751, 0.3242898769966007 L 0.952078873264708, 0.30585261006407005 L 0.9578406753565116, 0.2872999140838397 L 0.9632409875235399, 0.268638790859912 L 0.9682777716831669, 0.24987628311682766 L 0.9729491269485603, 0.23101947184173535 L 0.9772532903460787, 0.2120754736120207 L 0.9811886374806187, 0.19305143790950388 L 0.9847536831486635, 0.1739545444222185 L 0.9879470818987999, 0.1547920003347912 L 0.9907676285394926, 0.13557103760844358 L 0.993214258593925, 0.11629891025164366 L 0.9952860487017334, 0.09698289158243661 L 0.9969822169674843, 0.07763027148348806 L 0.998302123255762, 0.05824835365087581 L 0.9992452694327565, 0.038844452837668464 L 0.9998112995542601, 0.01942589209333114 L 1.0, 0.0 L 1.1 ,0.0\",\"type\":\"path\"},{\"fillcolor\":\"rgba(244,109,67,0.75)\",\"layer\":\"below\",\"line\":{\"color\":\"rgb(150,150,150)\",\"width\":0.45},\"path\":\"M -0.37975790778426904, 1.0323681181997606 L -0.38087246279216647, 1.031957444416498 L -0.381986573694644, 1.0315455673488334 L -0.38310023919262515, 1.0311324874770234 L -0.3842134579875517, 1.0307182052827282 L -0.38532622878138717, 1.0303027212490095 L -0.3864385502766168, 1.029886035860331 L -0.3875504211762498, 1.0294681496025564 L -0.3886618401838216, 1.02904906296295 L -0.38977280600339315, 1.0286287764301763 L -0.39088331733955534, 1.0282072904942976 L -0.39199337289742764, 1.0277846056467757 L -0.39310297138266204, 1.0273607223804704 L -0.39421211150144286, 1.0269356411896386 L -0.39532079196048886, 1.026509362569934 L -0.3964290114670553, 1.0260818870184063 L -0.3975367687289341, 1.0256532150335016 L -0.3986440624544573, 1.02522334711506 L -0.3997508913524965, 1.0247922837643173 L -0.4008572541324652, 1.024360025483902 L -0.4019631495043214, 1.0239265727778368 L -0.40306857617856695, 1.0234919261515367 L -0.40417353286625135, 1.0230560861118092 L -0.4052780182789709, 1.0226190531668526 L -0.4063820311288726, 1.022180827826257 L -0.4074855701286536, 1.0217414106010023 L -0.40858863399156375, 1.0213008020034589 L -0.40969122143140746, 1.020859002547385 L -0.41079333116254374, 1.0204160127479287 L -0.4118949618998896, 1.0199718331216254 L -0.4129961123589199, 1.019526464186398 L -0.41409678125566945, 1.0190799064615563 L -0.41519696730673533, 1.0186321604677961 L -0.4162966692292766, 1.0181832267271989 L -0.4173958857410178, 1.0177331057632306 L -0.4184946155602487, 1.0172817981007425 L -0.4195928574058272, 1.0168293042659684 L -0.4206906099971796, 1.0163756247865259 L -0.42178787205430285, 1.0159207601914153 L -0.42288464229776646, 1.015464711011018 L -0.42398091944871236, 1.0150074777770972 L -0.42507670222885846, 1.0145490610227967 L -0.42617198936049844, 1.01408946128264 L -0.427266779566504, 1.0136286790925308 L -0.4283610715703267, 1.0131667149897503 L -0.4294548640959983, 1.0127035695129585 L -0.4305481558681339, 1.0122392432021934 L -0.4316409456119317, 1.011773736598869 L -0.43273323205317527, 1.0113070502457762 L -0.4338250139182358, 1.010839184687081 L -0.4349162899340719, 1.010370140468325 L -0.43600705882823276, 1.0098999181364232 L -0.43709731932885837, 1.0094285182396654 L -0.438187070164682, 1.0089559413277134 L -0.43927631006503065, 1.0084821879516024 L -0.4403650377598273, 1.008007258663739 L -0.44145325197959256, 1.0075311540179006 L -0.442540951455445, 1.0070538745692357 L -0.44362813491910424, 1.0065754208742619 L -0.44471480110289097, 1.0060957934908665 L -0.445800948739729, 1.0056149929783056 L -0.4468865765631474, 1.0051330198972026 L -0.44797168330728065, 1.0046498748095485 L -0.4490562677068714, 1.0041655582787008 L -0.4501403284972708, 1.003680070869383 L -0.4512238644144412, 1.0031934131476832 L -0.4523068741949564, 1.0027055856810552 L -0.45338935657600365, 1.0022165890383163 L -0.45447131029538584, 1.0017264237896468 L -0.4555527340915214, 1.00123509050659 L -0.4566336267034476, 1.000742589762051 L -0.45771398687082027, 1.000248922130296 L -0.45879381333391644, 0.999754088186952 L -0.459873104833635, 0.9992580885090061 L -0.4609518601114999, 0.9987609236748044 L -0.462030077909659, 0.9982625942640516 L -0.4631077569708873, 0.9977631008578107 L -0.46418489603858815, 0.9972624440385015 L -0.46526149385679383, 0.9967606243899008 L -0.4663375491701693, 0.9962576424971404 L -0.46741306072401057, 0.9957534989467085 L -0.46848802726424826, 0.995248194326447 L -0.4695624475374484, 0.9947417292255519 L -0.47063632029081365, 0.9942341042345726 L -0.4717096442721863, 0.99372531994541 L -0.47278241823004724, 0.9932153769513181 L -0.47385464091351914, 0.9927042758469009 L -0.47492631107236755, 0.9921920172281135 L -0.4759974274570017, 0.9916786016922603 L -0.47706798881847784, 0.9911640298379946 L -0.4781379939084982, 0.9906483022653181 L -0.479207441479414, 0.9901314195755805 L -0.48027633028422617, 0.989613382371478 L -0.4813446590765884, 0.9890941912570527 L -0.48241242661080597, 0.9885738468376928 L -0.48347963164183927, 0.9880523497201308 L -0.48454627292530444, 0.9875297005124436 L -0.48561234921747454, 0.9870058998240516 L -0.4866778592752826, 0.9864809482657171 L -0.487742801856321, 0.985954846449545 L -0.44340254714210997, 0.8963225876814045 L -0.4424344175229842, 0.8968008620597427 L -0.4414657720158859, 0.8972780907491378 L -0.4404966117502767, 0.8977542731931305 L -0.4395269378562175, 0.8982294088364825 L -0.438556751464369, 0.8987034971251752 L -0.4375860537059894, 0.8991765375064115 L -0.43661484571293285, 0.8996485294286163 L -0.4356431286176491, 0.9001194723414367 L -0.43467090355318017, 0.9005893656957437 L -0.43369817165316166, 0.9010582089436313 L -0.43272493405181967, 0.9015260015384183 L -0.4317511918839705, 0.9019927429346485 L -0.4307769462850174, 0.9024584325880917 L -0.429802198390952, 0.9029230699557437 L -0.42882694933835114, 0.9033866544958272 L -0.427851200264376, 0.9038491856677932 L -0.42687495230677125, 0.9043106629323199 L -0.425898206603862, 0.9047710857513154 L -0.424920964294555, 0.9052304535879168 L -0.42394322651833566, 0.9056887659064913 L -0.4229649944152671, 0.906146022172637 L -0.4219862691259892, 0.9066022218531831 L -0.4210070517917157, 0.9070573644161914 L -0.42002734355423543, 0.907511449330956 L -0.419047145555909, 0.9079644760680039 L -0.41806645893966815, 0.9084164440990964 L -0.4170852848490149, 0.908867352897229 L -0.4161036244280184, 0.9093172019366326 L -0.41512147882131595, 0.9097659906927735 L -0.41413884917411037, 0.9102137186423546 L -0.4131557366321689, 0.9106603852633153 L -0.4121721423418215, 0.9111059900348331 L -0.41118806744996034, 0.9115505324373229 L -0.4102035131040374, 0.9119940119524392 L -0.4092184804520643, 0.9124364280630752 L -0.4082329706426103, 0.9128777802533643 L -0.40724698482480054, 0.9133180680086804 L -0.40626052414831576, 0.9137572908156387 L -0.40527358976338995, 0.914195448162096 L -0.4042861828208099, 0.9146325395371513 L -0.4032983044719129, 0.915068564431147 L -0.4023099558685863, 0.9155035223356687 L -0.4013211381632659, 0.9159374127435459 L -0.4003318525089339, 0.9163702351488536 L -0.39934210005911874, 0.9168019890469112 L -0.3983518819678927, 0.9172326739342849 L -0.3973611993898712, 0.9176622893087866 L -0.3963700534802116, 0.9180908346694755 L -0.39537844539461076, 0.9185183095166589 L -0.39438637628930523, 0.9189447133518918 L -0.3933938473210684, 0.9193700456779783 L -0.3924008596472106, 0.9197943059989718 L -0.39140741442557625, 0.9202174938201757 L -0.3904135128145439, 0.9206396086481441 L -0.38941915597302423, 0.9210606499906819 L -0.38842434506045814, 0.921480617356846 L -0.38742908123681674, 0.9218995102569455 L -0.38643336566259856, 0.9223173282025424 L -0.3854371994988294, 0.922734070706452 L -0.3844405839070604, 0.9231497372827435 L -0.3834435200493662, 0.9235643274467411 L -0.3824460090883451, 0.9239778407150235 L -0.3814480521871156, 0.9243902766054257 L -0.38044965050931695, 0.9248016346370386 L -0.37945080521910707, 0.9252119143302097 L -0.3784515174811605, 0.9256211152065443 L -0.37745178846066846, 0.9260292367889055 L -0.3764516193233358, 0.9264362786014148 L -0.3754510112353817, 0.9268422401694526 L -0.374449965363536, 0.9272471210196593 L -0.37344848287503973, 0.927650920679935 L -0.3724465649376431, 0.9280536386794408 L -0.3714442127196034, 0.9284552745485989 L -0.37044142738968505, 0.928855827819093 L -0.3694382101171569, 0.92925529802387 L -0.3684345620717917, 0.9296536846971387 L -0.36743048442386483, 0.9300509873743719 L -0.36642597834415175, 0.9304472055923061 L -0.3654210450039285, 0.9308423388889425 L -0.36441568557496834, 0.9312363868035473 L -0.3634099012295422, 0.9316293488766519 L -0.3624036931404157, 0.9320212246500545 L -0.3613970624808492, 0.9324120136668195 L -0.3603900104245957, 0.9328017154712784 L -0.35938253814589893, 0.9331903296090308 L -0.3583746468194935, 0.9335778556269441 L -0.3573663376206018, 0.9339642930731549 L -0.3563576117249342, 0.9343496414970688 L -0.35534847030868666, 0.9347339004493613 L -0.3543389145485392, 0.9351170694819783 L -0.35332894562165595, 0.9354991481481364 L -0.3523185647056816, 0.935880136002324 L -0.3513077729787425, 0.9362600326003008 L -0.35029657161944283, 0.9366388374990995 L -0.34928496180686514, 0.9370165502570255 L -0.3482729447205683, 0.9373931704336574 L -0.34726052154058545, 0.9377686975898484 L -0.346247693447424, 0.9381431312877255 L -0.3452344616220627, 0.9385164710906914 L -0.37975790778426904 ,1.0323681181997606\",\"type\":\"path\"},{\"fillcolor\":\"rgba(253,174,97,0.75)\",\"layer\":\"below\",\"line\":{\"color\":\"rgb(150,150,150)\",\"width\":0.45},\"path\":\"M -0.48774342134992504, 0.9859545399915098 L -0.49918859111138014, 0.980209544181363 L -0.5105661035378505, 0.9743316960451287 L -0.5218744165825367, 0.968321792234708 L -0.5331119975775503, 0.962180647300118 L -0.544277323441644, 0.9559090935790915 L -0.5553688808866429, 0.9495079810842655 L -0.5663851666225459, 0.9429781773879771 L -0.5773246875612749, 0.936320567504675 L -0.5881859610190384, 0.9295360537709714 L -0.5989675149172877, 0.9226255557233438 L -0.6096678879822348, 0.9155900099735041 L -0.620285629942904, 0.9084303700814581 L -0.6308193017276947, 0.9011476064262636 L -0.6412674756594267, 0.8937427060745093 L -0.6516287356488373, 0.8862166726465363 L -0.6619016773865121, 0.8785705261804096 L -0.672084908533218, 0.8708053029936693 L -0.6821770489086116, 0.8629220555428734 L -0.6921767306783025, 0.8549218522809537 L -0.702082598539243, 0.8468057775124024 L -0.7118933099034169, 0.8385749312463127 L -0.7216075350798069, 0.8302304290472889 L -0.7312239574546158, 0.8217734018842484 L -0.7407412736697103, 0.8132049959771371 L -0.7501581937992737, 0.8045263726415757 L -0.7594734415246339, 0.7957387081314624 L -0.7686857543072487, 0.7868431934795498 L -0.7777938835598255, 0.7778410343360171 L -0.786796594815545, 0.768733450805065 L -0.7956926678953767, 0.7595216772795481 L -0.8044808970734547, 0.7502069622736712 L -0.8131600912404949, 0.7407905682537744 L -0.8217290740652312, 0.7312737714672242 L -0.8301866841538507, 0.7216578617694361 L -0.8385317752074007, 0.7119441424490585 L -0.8467632161771541, 0.7021339300513274 L -0.8548798914179034, 0.6922285541996327 L -0.862880700839171, 0.682229357415306 L -0.870764560054308, 0.6721376949356639 L -0.8785304005274687, 0.6619549345303241 L -0.8861771697184304, 0.651682456315829 L -0.8937038312252531, 0.6413216525685879 L -0.9011093649247446, 0.6308739275361789 L -0.9083927671107238, 0.6203406972470229 L -0.9155530506300587, 0.6097233893184624 L -0.9225892450164578, 0.5990234427632717 L -0.9295003966220027, 0.5882423077946196 L -0.9362855687464013, 0.5773814456295143 L -0.9429438417639421, 0.5664423282907608 L -0.9494743132481348, 0.5554264384074483 L -0.9558760980940223, 0.5443352690140031 L -0.962148328638141, 0.5331703233478323 L -0.9682901547761206, 0.5219331146455806 L -0.9743007440779017, 0.5106251659380365 L -0.9801792819005596, 0.4992480098437083 L -0.9859249714987164, 0.48780318836110087 L -0.9915370341325275, 0.4762922526597206 L -0.9970147091732279, 0.4647167628698409 L -1.0023572542062238, 0.4530782878710474 L -1.0075639451317153, 0.44137840507960296 L -1.0126340762628365, 0.4296187002346523 L -1.017566960421302, 0.4178007671832981 L -1.0223619290305417, 0.40592620766458226 L -1.0270183322063176, 0.3939966310923918 L -1.0315355388448035, 0.38201365433733003 L -1.035912936708124, 0.3699789015075736 L -1.0401499325073313, 0.3578940037287499 L -1.044245951982819, 0.34576059892286154 L -1.0482004399821525, 0.33358033158629424 L -1.0520128605353114, 0.3213548525669273 L -1.0556826969273325, 0.30908581884038916 L -1.0592094517683426, 0.29677489328547885 L -1.0625926470609712, 0.28442374445878854 L -1.0658318242651377, 0.2720340463685548 L -1.0689265443601963, 0.25960747824777586 L -1.071876387904442, 0.24714572432661358 L -1.0746809550919565, 0.23465047360412514 L -1.0773398658067976, 0.22212341961934395 L -1.079852759674518, 0.20956626022174507 L -1.0822192961110062, 0.19698069734113094 L -1.0844391543686516, 0.18436843675695747 L -1.0865120335798124, 0.17173118786714495 L -1.0884376527975972, 0.15907066345639365 L -1.090215751033941, 0.1463885794640432 L -1.0918460872949782, 0.13368665475150146 L -1.0933284406137067, 0.1209666108692826 L -1.0946626100799361, 0.10823017182367363 L -1.0958484148675172, 0.0954790638430752 L -1.0968856942588512, 0.08271501514403594 L -1.0977743076666722, 0.06993975569702039 L -1.098514134653101, 0.057155016991936494 L -1.0991050749459705, 0.044362531803459816 L -1.099547048452413, 0.03156403395618358 L -1.0998399952697187, 0.018761258089623933 L -1.0999838756934524, 0.005955939423117219 L -1.0999786702228358, -0.006850186479364268 L -1.0998243795633904, -0.019655383944437856 L -1.099521024626842, -0.03245791742455824 L -1.099068646528286, -0.04525605173324083 L -0.9991533150257145, -0.04114186521203711 L -0.9995645678425836, -0.029507197658689307 L -0.9998403450576276, -0.017868530858579867 L -0.999980609293487, -0.006227442253967516 L -0.999985341539502, 0.005414490384652017 L -0.9998545411542896, 0.017055689172385393 L -0.99958822586583, 0.028694576323803254 L -0.999186431769064, 0.04032957436678165 L -0.998649213321001, 0.0519591063563059 L -0.9979766433333382, 0.06358159608820035 L -0.997168812962592, 0.07519546831275994 L -0.9962258316977428, 0.08679914894825017 L -0.9951478273453964, 0.09839106529424875 L -0.9939349460124606, 0.10996964624480236 L -0.9925873520863437, 0.12153332250136496 L -0.9911052282126734, 0.1330805267854938 L -0.9894887752705429, 0.14460969405126695 L -0.987738212345284, 0.15611926169740448 L -0.985853776698774, 0.16760766977905223 L -0.9838357237372783, 0.17907336121920994 L -0.9816843269768344, 0.19051478201976824 L -0.9793998780061797, 0.20193038147213085 L -0.9769826864472332, 0.21331861236738647 L -0.974433079913129, 0.22467793120601232 L -0.9717514039638148, 0.23600679840706895 L -0.968938022059216, 0.247303678516868 L -0.9659933155099738, 0.25856704041708045 L -0.9629176834257659, 0.2697953575322535 L -0.9597115426612114, 0.2809871080367174 L -0.956375327759374, 0.29214077506084296 L -0.9529094908928658, 0.3032548468966311 L -0.9493145018025628, 0.3143278172026014 L -0.9455908477339374, 0.32535818520795445 L -0.9417390333710216, 0.336344455915976 L -0.9377595807680031, 0.34728514030666363 L -0.9336530292784704, 0.35817875553853795 L -0.9294199354823106, 0.36902382514962023 L -0.9250608731102745, 0.3798188792575437 L -0.9205764329662149, 0.3905624547587748 L -0.9159672228470138, 0.40125309552691174 L -0.9112338674602034, 0.41188935261004306 L -0.906377008339298, 0.42246978442712807 L -0.9013973037568431, 0.4329929569633823 L -0.8962954286351966, 0.4434574439646371 L -0.8910720744550541, 0.4538618271306439 L -0.8857279491617287, 0.46420469630730593 L -0.8802637770692004, 0.47448464967780046 L -0.8746802987619463, 0.4847002939525748 L -0.8689782709945657, 0.49485024455818455 L -0.8631584665892134, 0.504933125824953 L -0.8572216743308564, 0.5149475711734188 L -0.8511686988603648, 0.5248922232995584 L -0.8450003605654569, 0.5347657343587451 L -0.838717495469507, 0.5445667661484288 L -0.8323209551182351, 0.5542939902895112 L -0.8258116064642943, 0.5639460884063844 L -0.8191903317497677, 0.5735217523056171 L -0.8124580283865936, 0.5830196841532617 L -0.8056156088349367, 0.5924385966507536 L -0.7986640004795169, 0.6017772132093855 L -0.7916041455039163, 0.6110342681233307 L -0.7844370007628827, 0.6202085067411872 L -0.7771635376526395, 0.6292986856360296 L -0.769784741979231, 0.6383035727739339 L -0.7623016138249097, 0.6472219476809622 L -0.7547151674125915, 0.6560526016085783 L -0.7470264309683919, 0.6647943376974764 L -0.7392364465822681, 0.6734459711397949 L -0.731346270066777, 0.6820063293397011 L -0.7233569708139788, 0.6904742520723164 L -0.7152696316504954, 0.6988485916409681 L -0.7070853486907503, 0.7071282130327428 L -0.6988052311884079, 0.7153119940723179 L -0.6904304013860307, 0.7233988255740567 L -0.6819619943629761, 0.7313876114923414 L -0.6734011578815547, 0.7392772690701246 L -0.6647490522314689, 0.7470667289856803 L -0.6560068500725517, 0.7547549354975354 L -0.6471757362758335, 0.7623408465875569 L -0.6382569077629482, 0.7698234341021839 L -0.6292515733439114, 0.777201683891776 L -0.6201609535532833, 0.7844745959480667 L -0.6109862804847436, 0.7916411845396993 L -0.6017287976241018, 0.7987004783458269 L -0.5923897596807611, 0.8056515205877601 L -0.5829704324176606, 0.8124933691586448 L -0.5734720924797224, 0.8192250967511486 L -0.5638960272208218, 0.8258457909831437 L -0.5542435345293043, 0.8323545545213673 L -0.5445159226520797, 0.8387505052030397 L -0.5347145100173076, 0.8450327761554285 L -0.5248406250557044, 0.8512005159133408 L -0.5148956060204962, 0.8572528885345245 L -0.504880800806039, 0.8631890737129686 L -0.49479756676513087, 0.8690082668900831 L -0.48464727052504575, 0.8747096793637436 L -0.47443128780230615, 0.8802925383951891 L -0.46415100321622765, 0.8857560873137533 L -0.45380781010125465, 0.8910995856194208 L -0.44340311031811364, 0.8963223090831907 L -0.48774342134992504 ,0.9859545399915098\",\"type\":\"path\"},{\"fillcolor\":\"rgba(254,224,139,0.75)\",\"layer\":\"below\",\"line\":{\"color\":\"rgb(150,150,150)\",\"width\":0.45},\"path\":\"M -1.099068618092853, -0.04525674229842885 L -1.0986747677469457, -0.05397920633165048 L -1.098211694991508, -0.06269826938503983 L -1.09767942900261, -0.07141338211080986 L -1.0970780033158665, -0.0801239954100639 L -1.0964074558243253, -0.08882956046739388 L -1.0956678287760788, -0.09752952878545745 L -1.0948591687716025, -0.10622335221953849 L -1.0939815267608182, -0.11491048301208001 L -1.0930349580398853, -0.12359037382719791 L -1.0920195222477156, -0.132262477785165 L -1.0909352833622161, -0.14092624849686944 L -1.0897823096962584, -0.1495811400982371 L -1.0885606738933742, -0.158226607284626 L -1.0872704529231783, -0.16686210534518253 L -1.0859117280765196, -0.17548709019716274 L -1.0844845849603588, -0.1841010184202101 L -1.082989113492375, -0.1927033472905953 L -1.0814254078953005, -0.2012935348154102 L -1.0797935666909841, -0.20987103976671811 L -1.0780936926941833, -0.21843532171565094 L -1.0763258930060873, -0.22698584106646139 L -1.0744902790075683, -0.2355220590905192 L -1.0725869663521643, -0.2440434379602559 L -1.070616074958792, -0.25254944078304803 L -1.0685777290041918, -0.2610395316350461 L -1.0664720569151034, -0.2695131755949397 L -1.0642991913601743, -0.2779698387776625 L -1.062059269241601, -0.28640898836802664 L -1.0597524316865046, -0.2948300926542954 L -1.0573788240380373, -0.30323262106168225 L -1.054938595846225, -0.31161604418578265 L -1.0524319008585463, -0.3199798338259257 L -1.0498588970102452, -0.32832346301845605 L -1.0472197464143793, -0.3366464060699342 L -1.0445146153516067, -0.3449481385902602 L -1.0417436742597088, -0.3532281375257099 L -1.038907097722853, -0.3614858811918923 L -1.0360050644605914, -0.36972084930661714 L -1.0330377573166012, -0.3779325230226778 L -1.0300053632471657, -0.3861203849605385 L -1.0269080733093927, -0.3942839192409337 L -1.023746082649179, -0.4024226115173704 L -1.0205195904889137, -0.41053594900853657 L -1.0172288001149274, -0.4186234205306067 L -1.0138739188646828, -0.4266845165294504 L -1.0104551581137124, -0.43471872911273646 L -1.0069727332622995, -0.4427255520819346 L -1.0034268637219086, -0.45070448096420596 L -0.9998177729013599, -0.4586550130441889 L -0.9961456881927527, -0.4665766473956741 L -0.9924108409571409, -0.474468884913163 L -0.9886134665099542, -0.48233122834331593 L -0.9847538041061717, -0.4901631823162811 L -0.9808320969252492, -0.49796425337690536 L -0.9768485920557957, -0.5057339500158261 L -0.9728035404800067, -0.5134717827004365 L -0.9686971970578513, -0.5211772639057297 L -0.9645298205110129, -0.5288499081450176 L -0.9603016734065901, -0.5364892320005155 L -0.9560130221405531, -0.5440947541538022 L -0.9516641369209587, -0.5516659954161456 L -0.9472552917509269, -0.559202478758693 L -0.9427867644113753, -0.5667037293425288 L -0.9382588364435196, -0.5741692745485888 L -0.9336717931311342, -0.5815986440074398 L -0.9290259234825765, -0.5889913696289156 L -0.92432152021258, -0.5963469856316079 L -0.9195588797238101, -0.6036650285722135 L -0.9147383020881902, -0.610945037374734 L -0.9098600910279945, -0.6181865533595257 L -0.9049245538967124, -0.6253891202722001 L -0.8999320016596838, -0.6325522843123682 L -0.8948827488745068, -0.6396755941622336 L -0.8897771136712175, -0.6467586010150292 L -0.8846154177322476, -0.6538008586032915 L -0.8793979862721565, -0.6608019232269805 L -0.8741251480171403, -0.6677613537814334 L -0.868797235184321, -0.6746787117851577 L -0.8634145834608138, -0.6815535614074579 L -0.8579775319825791, -0.6883854694958942 L -0.8524864233130535, -0.6951740056035738 L -0.8469416034215663, -0.7019187420162725 L -0.841343421661543, -0.7086192537793813 L -0.8356922307484932, -0.7152751187246817 L -0.8299883867377872, -0.7218859174969446 L -0.8242322490022245, -0.7284512335803511 L -0.8184241802093879, -0.7349706533247374 L -0.8125645462987976, -0.7414437659716545 L -0.8066537164588524, -0.7478701636802484 L -0.800692063103569, -0.7542494415529589 L -0.7946799618491192, -0.7605811976610272 L -0.7886177914901632, -0.7668650330698211 L -0.7825059339759832, -0.7731005518639695 L -0.77634477438642, -0.7792873611723078 L -0.770134700907608, -0.7854250711926308 L -0.7638761048075211, -0.7915132952162517 L -0.7575693804113185, -0.7975516496523666 L -0.7512149250764991, -0.8035397540522249 L -0.7448131391678688, -0.8094772311330968 L -0.6771028537889716, -0.7358883919391789 L -0.6829226591604537, -0.7304906855020226 L -0.6886994367375622, -0.7250469542294241 L -0.6944328225522919, -0.7195575411056833 L -0.7001224553705527, -0.7140227919933007 L -0.7057679767149272, -0.7084430556111888 L -0.7113690308872574, -0.7028186835126995 L -0.7169252649910574, -0.6971500300634736 L -0.7224363289537447, -0.6914374524191156 L -0.727901875548699, -0.6856813105026899 L -0.7333215604171385, -0.679881966982044 L -0.738695042089816, -0.6740397872469586 L -0.7440219820085344, -0.6681551393861249 L -0.7493020445474767, -0.6622283941639555 L -0.754534897034352, -0.6562599249972223 L -0.7597202097713573, -0.6502501079315288 L -0.7648576560559481, -0.6441993216176193 L -0.7699469122014239, -0.6381079472875204 L -0.7749876575573212, -0.6319763687305215 L -0.7799795745296173, -0.6258049722689947 L -0.7849223486007397, -0.6195941467340527 L -0.7898156683493827, -0.6133442834410524 L -0.7946592254701275, -0.6070557761649394 L -0.7994527147928695, -0.6007290211154368 L -0.8041958343020432, -0.5943644169120832 L -0.8088882851556521, -0.5879623645591174 L -0.813529771704097, -0.5815232674202123 L -0.8181200015088034, -0.575047531193062 L -0.8226586853606476, -0.5685355638838182 L -0.8271455372981767, -0.5619877757813869 L -0.8315802746256273, -0.5554045794315764 L -0.8359626179307365, -0.5487863896111032 L -0.8402922911023454, -0.5421336233014618 L -0.8445690213477968, -0.5354466996626506 L -0.848792539210122, -0.5287260400067634 L -0.8529625785850178, -0.5219720677714443 L -0.8570788767376138, -0.5151852084932079 L -0.8611411743190244, -0.5083658897806299 L -0.8651492153826897, -0.501514541287405 L -0.8691027474005028, -0.4946315946852747 L -0.8730015212787182, -0.4877174836368322 L -0.876845291373648, -0.4807726437681978 L -0.8806338155071375, -0.47379751264157244 L -0.8843668549818242, -0.46679252972766944 L -0.8880441745961778, -0.45975813637802365 L -0.8916655426593174, -0.45269477579718664 L -0.8952307310056106, -0.44560289301480094 L -0.8987395150090491, -0.4384829348575599 L -0.9021916735974008, -0.43133534992105727 L -0.9055869892661388, -0.4241605885415219 L -0.9089252480921453, -0.4169591027674444 L -0.9122062397471896, -0.4097313463310963 L -0.9154297575111814, -0.4024777746199405 L -0.918595598285193, -0.3951988446479422 L -0.921703562604257, -0.38789501502677304 L -0.924753454649934, -0.38056674593691514 L -0.9277450822626488, -0.3732144990986696 L -0.9306782569537991, -0.36583873774306397 L -0.9335527939176297, -0.358439926582667 L -0.9363685120428779, -0.35101853178230774 L -0.9391252339241829, -0.3435750209297071 L -0.9418227858732647, -0.33610986300601553 L -0.9444609979298662, -0.3286235283562657 L -0.9470397038724625, -0.32111648865973624 L -0.9495587412287333, -0.3135892169002365 L -0.9520179512857994, -0.3060421873363038 L -0.9544171791002228, -0.29847587547132365 L -0.9567562735077694, -0.2908907580235688 L -0.9590350871329316, -0.28328731289616604 L -0.9612534763982156, -0.27566601914698385 L -0.963411301533186, -0.2680273569584503 L -0.9655084265832736, -0.26037180760729695 L -0.9675447194183401, -0.2526998534342386 L -0.969520051741003, -0.24501197781358153 L -0.9714342990947198, -0.23730866512276916 L -0.973287340871629, -0.22959040071186182 L -0.9750790603201493, -0.2218576708729599 L -0.9768093445523348, -0.2141109628095629 L -0.9784780845509884, -0.20635076460587398 L -0.9800851751765303, -0.1985775651960463 L -0.9816305151736219, -0.19079185433338008 L -0.9831140071775459, -0.18299412255946382 L -0.9845355577203408, -0.17518486117326842 L -0.9858950772366897, -0.16736456220019097 L -0.9871924800695632, -0.15953371836105704 L -0.9884276844756166, -0.151692823041075 L -0.98960061263034, -0.1438423702587509 L -0.9907111906329622, -0.13598285463476098 L -0.9917593485111055, -0.12811477136079039 L -0.9927450202251958, -0.12023861616833181 L -0.9936681436726229, -0.11235488529745263 L -0.9945286606916528, -0.10446407546552727 L -0.995326517065093, -0.09656668383594408 L -0.996061662523708, -0.0886632079867795 L -0.9967340507493866, -0.08075414587944897 L -0.9973436393780604, -0.07283999582733082 L -0.9978903900023726, -0.06492125646437259 L -0.9983742681740981, -0.05699842671367257 L -0.9987952434063143, -0.04907200575604589 L -0.999153289175321, -0.04114249299857167 L -1.099068618092853 ,-0.04525674229842885\",\"type\":\"path\"},{\"fillcolor\":\"rgba(255,255,191,0.75)\",\"layer\":\"below\",\"line\":{\"color\":\"rgb(150,150,150)\",\"width\":0.45},\"path\":\"M -0.7448126305581774, -0.8094776991128342 L -0.7415931161081852, -0.8124282430719355 L -0.7383619133030922, -0.8153659822333753 L -0.7351190730703477, -0.818290870295027 L -0.7318646465208204, -0.8212028611573117 L -0.7285986849479917, -0.824101908923925 L -0.7253212398271494, -0.8269879679025609 L -0.7220323628145741, -0.8298609926056312 L -0.7187321057467266, -0.832720937750983 L -0.7154205206394302, -0.835567758262612 L -0.7120976596870513, -0.8384014092713732 L -0.7087635752616761, -0.8412218461156882 L -0.705418319912286, -0.8440290243422486 L -0.7020619463639285, -0.8468228997067172 L -0.6986945075168868, -0.8496034281744249 L -0.695316056445846, -0.8523705659210653 L -0.6919266463990564, -0.8551242693333848 L -0.6885263307974941, -0.8578644950098704 L -0.6851151632340193, -0.8605911997614334 L -0.6816931974725315, -0.8633043406120904 L -0.6782604874471224, -0.8660038747996409 L -0.6748170872612251, -0.8686897597763406 L -0.6713630511867622, -0.8713619532095723 L -0.66789843366329, -0.8740204129825138 L -0.6644232892971406, -0.8766650971948002 L -0.6609376728605606, -0.8792959641631859 L -0.6574416392908493, -0.8819129724222005 L -0.6539352436894915, -0.8845160807248026 L -0.6504185413212892, -0.8871052480430305 L -0.6468915876134912, -0.8896804335686478 L -0.643354438154919, -0.8922415967137872 L -0.6398071486950909, -0.8947886971115907 L -0.6362497751433429, -0.8973216946168446 L -0.6326823735679482, -0.8998405493066133 L -0.6291050001952327, -0.9023452214808678 L -0.6255177114086897, -0.9048356716631122 L -0.6219205637480902, -0.907311860601005 L -0.6183136139085932, -0.9097737492669787 L -0.61469691873985, -0.912221298858854 L -0.6110705352451105, -0.9146544708004518 L -0.6074345205803231, -0.9170732267422015 L -0.6037889320532347, -0.9194775285617449 L -0.6001338271224872, -0.9218673383645376 L -0.5964692633967118, -0.9242426184844456 L -0.5927952986336211, -0.9266033314843392 L -0.5891119907390991, -0.9289494401566836 L -0.5854193977662877, -0.9312809075241246 L -0.5817175779146727, -0.933597696840072 L -0.5780065895291658, -0.9358997715892778 L -0.5742864910991855, -0.9381870954884134 L -0.5705573412577348, -0.9404596324866394 L -0.5668191987804774, -0.9427173467661756 L -0.563072122584811, -0.9449602027428645 L -0.5593161717289401, -0.9471881650667321 L -0.5555514054109414, -0.9494011986225466 L -0.5517778829678357, -0.9515992685303691 L -0.5479956638746494, -0.9537823401461061 L -0.5442048077434785, -0.9559503790620535 L -0.5404053743225482, -0.95810335110744 L -0.5365974234952717, -0.9602412223489659 L -0.5327810152793063, -0.9623639590913367 L -0.5289562098256074, -0.9644715278777949 L -0.5251230674174805, -0.9665638954906481 L -0.5212816484696308, -0.968641028951791 L -0.5174320135272115, -0.9707028955232264 L -0.5135742232648691, -0.9727494627075806 L -0.5097083384857874, -0.9747806982486154 L -0.5058344201207291, -0.9767965701317373 L -0.5019525292270749, -0.9787970465845015 L -0.49806272698786236, -0.9807820960771125 L -0.4941650747108204, -0.9827516873229216 L -0.4902596338274037, -0.9847057892789197 L -0.4863464658918242, -0.9866443711462265 L -0.48242563258008103, -0.9885674023705763 L -0.4784971956889885, -0.9904748526427989 L -0.474561217135202, -0.9923666918992978 L -0.4706177589542419, -0.9942428903225243 L -0.46666688329951644, -0.9961034183414469 L -0.4627086524413414, -0.9979482466320175 L -0.4587431287659592, -0.9997773461176337 L -0.4547703747745552, -1.001590687969597 L -0.4507904530822729, -1.0033882436075676 L -0.446803426417227, -1.0051699847000137 L -0.44280935761951457, -1.0069358831646598 L -0.4388083096402249, -1.008685911168927 L -0.43480034554044705, -1.0104200411303748 L -0.43078552849027596, -1.0121382457171322 L -0.4267639217678172, -1.0138404978483315 L -0.42273558875818895, -1.0155267706945335 L -0.4187005929525237, -1.0171970376781507 L -0.414658997946967, -1.0188512724738668 L -0.41061086744167535, -1.0204894490090504 L -0.4065562652398124, -1.022111541464167 L -0.4024952552465429, -1.0237175242731857 L -0.3984279014680258, -1.0253073721239818 L -0.39435426801040535, -1.0268810599587361 L -0.39027441907880084, -1.02843856297433 L -0.38618841897629425, -1.0299798566227354 L -0.3820963321029173, -1.031504916611403 L -0.3779982229546362, -1.0330137189036444 L -0.3436347481405783, -0.9391033808214947 L -0.347360301911743, -0.9377317423740026 L -0.3510803808875402, -0.9363453242024866 L -0.35479492643527344, -0.9349441481584817 L -0.3585038800094594, -0.9335282363261237 L -0.3622071831527507, -0.9320976110218016 L -0.3659047774968571, -0.9306522947938051 L -0.3695966047634658, -0.9291923104219699 L -0.3732826067651594, -0.9277176809173184 L -0.3769627254063336, -0.9262284295216969 L -0.38063690268411243, -0.9247245797074097 L -0.38430508068926267, -0.9232061551768486 L -0.3879672016071065, -0.9216731798621195 L -0.3916232077184327, -0.9201256779246655 L -0.39527304140040637, -0.918563673754886 L -0.39891664512747715, -0.9169871919717518 L -0.40255396147228595, -0.9153962574224178 L -0.40618493310656995, -0.9137908951818305 L -0.40980950280206624, -0.9121711305523341 L -0.41342761343141377, -0.91053698906327 L -0.41703920796905375, -0.908888496470576 L -0.42064422949212854, -0.9072256787563795 L -0.42424262118137857, -0.905548562128588 L -0.42783432632203805, -0.9038571730204766 L -0.43141928830472903, -0.9021515380902707 L -0.43499745062635314, -0.9004316842207262 L -0.43856875689098274, -0.8986976385187057 L -0.4421331508107492, -0.8969494283147513 L -0.4456905762067306, -0.8951870811626542 L -0.4492409770098367, -0.8934106248390196 L -0.452784297261693, -0.8916200873428295 L -0.4563204811155226, -0.8898154968950013 L -0.4598494728370264, -0.8879968819379429 L -0.4633712168052613, -0.8861642711351048 L -0.46688565751351735, -0.8843176933705277 L -0.4703927395701922, -0.8824571777483876 L -0.4738924076996643, -0.8805827535925372 L -0.477384606743164, -0.8786944504460437 L -0.4808692816596431, -0.8767922980707226 L -0.4843463775266421, -0.8748763264466696 L -0.4878158395411561, -0.8729465657717871 L -0.4912776130204983, -0.8710030464613091 L -0.4947316434031622, -0.8690457991473213 L -0.49817787624968124, -0.8670748546782782 L -0.5016162572434869, -0.8650902441185173 L -0.5050467321917649, -0.8630919987477695 L -0.5084692470263091, -0.8610801500606655 L -0.5118837478043736, -0.8590547297662404 L -0.5152901807095248, -0.8570157697874323 L -0.5186884920524861, -0.8549633022605813 L -0.5220786282719868, -0.8528973595349212 L -0.5254605359356053, -0.8508179741720707 L -0.5288341617406115, -0.8487251789455199 L -0.5321994525148069, -0.8466190068401133 L -0.5355563552173628, -0.8444994910515304 L -0.5389048169396555, -0.8423666649857628 L -0.5422447849061016, -0.8402205622585868 L -0.5455762064749883, -0.8380612166950341 L -0.5488990291393042, -0.835888662328859 L -0.5522132005275664, -0.8337029334020013 L -0.5555186684046458, -0.831504064364047 L -0.5588153806725908, -0.8292920898716853 L -0.5621032853714483, -0.8270670447881624 L -0.565382330680082, -0.8248289641827318 L -0.5686524649169906, -0.822577883330102 L -0.5719136365411206, -0.8203138377098798 L -0.5751657941526801, -0.818036863006012 L -0.5784088864939481, -0.8157469951062223 L -0.5816428624500826, -0.813444270101446 L -0.5848676710499263, -0.8111287242852611 L -0.5880832614668101, -0.8088003941533161 L -0.5912895830193537, -0.8064593164027549 L -0.5944865851722649, -0.8041055279316387 L -0.5976742175371357, -0.801739065838364 L -0.6008524298732368, -0.7993599674210781 L -0.6040211720883095, -0.796968270177091 L -0.6071803942393545, -0.7945640118022852 L -0.6103300465334202, -0.7921472301905202 L -0.6134700793283865, -0.7897179634330368 L -0.6166004431337476, -0.7872762498178553 L -0.6197210886113923, -0.784822127829173 L -0.6228319665763812, -0.7823556361467575 L -0.6259330279977219, -0.7798768136453367 L -0.6290242239991422, -0.7773856993939862 L -0.63210550585986, -0.7748823326555139 L -0.6351768250153516, -0.7723667528858408 L -0.6382381330581167, -0.7698389997333792 L -0.6412893817384417, -0.7672991130384077 L -0.64433052296516, -0.7647471328324438 L -0.6473615088064102, -0.762183099337612 L -0.6503822914903911, -0.7596070529660108 L -0.653392823406115, -0.7570190343190754 L -0.6563930571041582, -0.7544190841869374 L -0.6593829452974085, -0.7518072435477826 L -0.6623624408618106, -0.7491835535672045 L -0.6653314968371093, -0.746548055597556 L -0.6682900664275888, -0.7439007911772972 L -0.6712381030028111, -0.7412418020303412 L -0.6741755600983501, -0.7385711300653959 L -0.6771023914165248, -0.7358888173753038 L -0.7448126305581774 ,-0.8094776991128342\",\"type\":\"path\"},{\"fillcolor\":\"rgba(230,245,152,0.75)\",\"layer\":\"below\",\"line\":{\"color\":\"rgb(150,150,150)\",\"width\":0.45},\"path\":\"M -0.3779975738928997, -1.0330139564067282 L -0.3697555077891956, -1.0359926951767346 L -0.36148997151932105, -1.038905674491655 L -0.3532014897367448, -1.0417527094506374 L -0.34489058855139804, -1.0445336193386359 L -0.3365577954962795, -1.0472482276378818 L -0.32820363949397063, -1.0498963620390882 L -0.3198286508230621, -1.052477854452387 L -0.31143336108449376, -1.0549925410179997 L -0.3030183031678149, -1.0574402621166352 L -0.2945840112173537, -1.0598208623796261 L -0.2861310205983162, -1.0621341906987865 L -0.27765986786280306, -1.0643801002360063 L -0.26917109071575235, -1.0665584484325705 L -0.26066522798080827, -1.0686690970182087 L -0.25214281956611995, -1.0707119120198707 L -0.24360440643007053, -1.0726867637702318 L -0.23505053054694008, -1.0745935269159228 L -0.22648173487250384, -1.0764320804254865 L -0.21789856330956817, -1.0782023075970606 L -0.20930156067344652, -1.0799040960657849 L -0.20069127265737713, -1.081537337810934 L -0.1920682457978846, -1.0831019291627744 L -0.1834330274400922, -1.0845977708091432 L -0.17478616570297353, -1.0860247678017536 L -0.1661282094445647, -1.0873828295622214 L -0.15745970822712446, -1.0886718698878137 L -0.14878121228225114, -1.0898918069569217 L -0.1400932724759566, -1.091042563334253 L -0.13139644027370012, -1.092124065975748 L -0.1226912677053843, -1.0931362462332157 L -0.11397830733031496, -1.0940790398586915 L -0.10525811220212766, -1.094952387008515 L -0.09653123583368259, -1.0957562322471281 L -0.08779823216193054, -1.0964905245505954 L -0.07905965551275179, -1.0971552173098413 L -0.07031606056577039, -1.0977502683336093 L -0.061568002319144964, -1.0982756398511395 L -0.05281603605434427, -1.098731298514567 L -0.044060717300894864, -1.0991172154010376 L -0.035302601801122935, -1.0994333660145446 L -0.026542245474877667, -1.099679730287483 L -0.017780204384244287, -1.099856292581924 L -0.009017034698248156, -1.0999630416906063 L -0.0002532926575520297, -1.0999999708376496 L 0.008510465460851222, -1.099967077678982 L 0.0172736833789482, -1.0998643643024917 L 0.02603580485301463, -1.0996918372278917 L 0.03479627370892282, -1.0994495074063082 L 0.04355453387744474, -1.0991373902195842 L 0.05231002942954936, -1.0987555054793035 L 0.0610622046116863, -1.0983038774255331 L 0.06981050388106798, -1.097782534725285 L 0.07855437194092872, -1.0971915104706955 L 0.08729325377577314, -1.096530842176926 L 0.09602659468660557, -1.0958005717797807 L 0.10475384032613953, -1.0950007456330457 L 0.11347443673398487, -1.0941314145055452 L 0.12218783037181018, -1.0931926335779207 L 0.13089346815847866, -1.0921844624391273 L 0.13959079750515482, -1.0911069650826517 L 0.14827926635037988, -1.0899602099024501 L 0.15695832319511396, -1.0887442696886072 L 0.1656274171377421, -1.0874592216227148 L 0.174285997909043, -1.0861051472729744 L 0.18293351590711782, -1.0846821325890181 L 0.19156942223227263, -1.0831902678964547 L 0.20019316872186516, -1.0816296478911342 L 0.20880420798509566, -1.0800003716331383 L 0.21740199343775332, -1.0783025425404928 L 0.22598597933691075, -1.076536268382602 L 0.2345556208155646, -1.074701661273409 L 0.24311037391722132, -1.0727988376642794 L 0.25164969563042433, -1.070827918336609 L 0.26017304392322177, -1.0687890283941568 L 0.26867987777757196, -1.0666822972551053 L 0.27716965722368414, -1.0645078586438457 L 0.28564184337429316, -1.0622658505824876 L 0.2940958984588663, -1.0599564153821006 L 0.3025312858577332, -1.0575796996336808 L 0.31094747013615814, -1.0551358541988436 L 0.31934391707831367, -1.0526250342002508 L 0.3277200937212, -1.0500473990117627 L 0.33607546838846997, -1.0474031122483218 L 0.34440951072417847, -1.0446923417555678 L 0.352721691726446, -1.0419152595991836 L 0.36101148378103776, -1.039072042053973 L 0.36927836069485337, -1.0361628695926726 L 0.37752179772932687, -1.0331879268744952 L 0.38574127163373473, -1.0301474027334097 L 0.3939362606784087, -1.0270414901661533 L 0.40210624468785283, -1.0238703863199836 L 0.41025070507376155, -1.0206342924801624 L 0.41836912486793754, -1.0173334140571793 L 0.42646098875510274, -1.0139679605737157 L 0.43452578310561357, -1.0105381456513423 L 0.44256299600805943, -1.0070441869969613 L 0.45057211730175734, -1.003486306388987 L 0.4585526386091345, -0.9998647296632683 L 0.4665040533679969, -0.9961796866987549 L 0.4240945939709062, -0.905617896998868 L 0.4168660350992131, -0.9089679360575166 L 0.40961101572887026, -0.9122602785354426 L 0.40232999637096306, -0.9154947154517828 L 0.3950234391869214, -0.9186710415012201 L 0.3876918079591843, -0.9217890550670143 L 0.3803355680617614, -0.9248485582337993 L 0.3729551864306923, -0.9278493568001476 L 0.36555113153441166, -0.9307912602908942 L 0.35812387334400786, -0.9336740819692303 L 0.35067388330339516, -0.9364976388485541 L 0.34320163429938805, -0.9392617517040865 L 0.33570760063168487, -0.9419662450842478 L 0.3281922579827616, -0.9446109473217936 L 0.32065608338767815, -0.9471956905447123 L 0.31309955520379856, -0.9497203106868798 L 0.3055231530804272, -0.9521846474984743 L 0.2979273579283636, -0.9545885445561478 L 0.29031265188937605, -0.9569318492729553 L 0.2826795183055983, -0.9592144129080395 L 0.2750284416888483, -0.9614360905760735 L 0.26735990768987844, -0.9635967412564551 L 0.2596744030675392, -0.9656962278022614 L 0.25197241565789463, -0.9677344169489505 L 0.2442544343432472, -0.969711179322823 L 0.2365209490211107, -0.9716263894492333 L 0.22877245057311302, -0.9734799257605534 L 0.22100943083383753, -0.9752716706038903 L 0.21323238255960417, -0.9770015102485536 L 0.20544179939719157, -0.9786693348932745 L 0.197638175852503, -0.9802750386731752 L 0.18982200725917786, -0.9818185196664894 L 0.18199378974715014, -0.9832996799010311 L 0.17415402021115692, -0.9847184253604133 L 0.166303196279198, -0.9860746659900165 L 0.15844181628094817, -0.9873683157027039 L 0.15057037921612917, -0.988599292384286 L 0.14268938472283085, -0.9897675178987336 L 0.13479933304579989, -0.9908729180931365 L 0.1269007250046862, -0.9919154228024106 L 0.11899406196225332, -0.992894965853752 L 0.1110798457925547, -0.9938114850708369 L 0.10315857884907714, -0.9946649222777683 L 0.09523076393285411, -0.9954552233027687 L 0.0872969042605505, -0.9961823379816188 L 0.07935750343252103, -0.9968462201608418 L 0.07141306540084429, -0.9974468277006322 L 0.06346409443733451, -0.9979841224775318 L 0.055511095101532994, -0.9984580703868483 L 0.047554572208681235, -0.9988686413448213 L 0.03959503079767703, -0.9992158092905311 L 0.03163297609902074, -0.9994995521875529 L 0.02366891350274057, -0.9997198520253561 L 0.015703348526316545, -0.9998766948204468 L 0.00773678678259202, -0.9999700706172564 L -0.000230266052320027, -0.9999999734887722 L -0.008197304271134687, -0.9999664015369149 L -0.016163822167494804, -0.9998693568926581 L -0.024129314068070604, -0.9997088457158936 L -0.03209327436465721, -0.9994848781950404 L -0.04005519754626805, -0.9991974685463977 L -0.04801457823122206, -0.9988466350132426 L -0.05597091119922269, -0.9984323998646722 L -0.06392369142342762, -0.9979547893941901 L -0.07187241410250163, -0.9974138339180375 L -0.07981657469266412, -0.9968095677732685 L -0.08775566893971144, -0.9961420293155709 L -0.09568919291102514, -0.9954112609168316 L -0.10361664302755905, -0.9946173089624468 L -0.1115375160958039, -0.9937602238483779 L -0.11945130933972738, -0.9928400599779528 L -0.1273575204326878, -0.9918568757584117 L -0.1352556475293192, -0.9908107335972015 L -0.14314518929738587, -0.9897016998980125 L -0.15102564494960424, -0.9885298450565648 L -0.15889651427543047, -0.9872952434561396 L -0.16675729767281108, -0.9859979734628573 L -0.17460749617989507, -0.984638117420704 L -0.18244661150670646, -0.9832157616463036 L -0.19027414606676954, -0.9817309964234406 L -0.19808960300869832, -0.9801839159973277 L -0.20589248624773074, -0.978574618568624 L -0.21368230049721823, -0.9769032062872025 L -0.2214585513000641, -0.9751697852456652 L -0.229220745060109, -0.9733744654726096 L -0.23696838907346204, -0.9715173609256441 L -0.24470099155977484, -0.969598589484155 L -0.2524180616934573, -0.9676182729418239 L -0.26011910963483287, -0.9655765369988968 L -0.2678036465612306, -0.9634735112542054 L -0.2754711846980135, -0.9613093291969411 L -0.28312123734953976, -0.9590841281981813 L -0.29075331893005646, -0.95679804950217 L -0.2983669449945187, -0.9544512382173528 L -0.305961632269345, -0.9520438433071652 L -0.3135368986830891, -0.9495760175805781 L -0.3210922633970407, -0.9470479176823976 L -0.3286272468357464, -0.9444597040833227 L -0.3361413707174505, -0.9418115410697586 L -0.34363415808445424, -0.9391035967333893 L -0.3779975738928997 ,-1.0330139564067282\",\"type\":\"path\"},{\"fillcolor\":\"rgba(171,221,164,0.75)\",\"layer\":\"below\",\"line\":{\"color\":\"rgb(150,150,150)\",\"width\":0.45},\"path\":\"M 0.4665046792860617, -0.996179393585417 L 0.4701672360733334, -0.9944560171888763 L 0.47382342642770053, -0.9927191750783873 L 0.4774732008414817, -0.9909688907721524 L 0.48111650989386967, -0.9892051879703938 L 0.48475330425160323, -0.9874280905550301 L 0.4883835346696381, -0.9856376225893523 L 0.4920071519918079, -0.9838338083177007 L 0.49562410715149297, -0.9820166721651347 L 0.4992343511722873, -0.9801862387371012 L 0.502837835168656, -0.9783425328191041 L 0.5064345103466006, -0.976485579376367 L 0.5100243280043216, -0.9746154035534942 L 0.5136072395328733, -0.9727320306741328 L 0.5171831964168244, -0.970835486240628 L 0.5207521502349176, -0.9689257959336772 L 0.5243140526607198, -0.9670029856119846 L 0.5278688554632803, -0.965067081311909 L 0.5314165105077819, -0.9631181092471124 L 0.5349569697561964, -0.9611560958082034 L 0.5384901852679295, -0.9591810675623822 L 0.542016109200473, -0.9571930512530799 L 0.5455346938100549, -0.9551920737995944 L 0.5490458914522808, -0.9531781622967296 L 0.5525496545827814, -0.9511513440144261 L 0.5560459357578595, -0.9491116463973912 L 0.5595346876351267, -0.9470590970647299 L 0.563015862974147, -0.9449937238095695 L 0.5664894146370795, -0.9429155545986816 L 0.5699552955893111, -0.9408246175721069 L 0.5734134589000963, -0.9387209410427722 L 0.5768638577431952, -0.9366045534961054 L 0.5803064453975018, -0.9344754835896535 L 0.58374117524768, -0.9323337601526921 L 0.5871680007847973, -0.9301794121858344 L 0.5905868756069491, -0.928012468860641 L 0.5939977534198896, -0.9258329595192235 L 0.5974005880376613, -0.9236409136738458 L 0.6007953333832153, -0.9214363610065273 L 0.6041819434890384, -0.9192193313686394 L 0.6075603724977766, -0.9169898547805003 L 0.610930574662852, -0.9147479614309711 L 0.6142925043490852, -0.9124936816770455 L 0.6176461160333147, -0.9102270460434371 L 0.6209913643050087, -0.9079480852221696 L 0.6243282038668827, -0.9056568300721595 L 0.6276565895355152, -0.9033533116187963 L 0.6309764762419546, -0.9010375610535258 L 0.6342878190323327, -0.8987096097334261 L 0.6375905730684718, -0.8963694891807831 L 0.640884693628495, -0.8940172310826622 L 0.6441701361074266, -0.891652867290483 L 0.6474468560178015, -0.8892764298195834 L 0.6507148089902631, -0.8868879508487899 L 0.6539739507741666, -0.88448746271998 L 0.657224237238177, -0.882074997937645 L 0.6604656243708694, -0.8796505891684481 L 0.6636980682813206, -0.8772142692407846 L 0.6669215251997056, -0.8747660711443366 L 0.6701359514778926, -0.8723060280296242 L 0.6733413035900296, -0.8698341732075601 L 0.6765375381331359, -0.8673505401489964 L 0.6797246118276917, -0.8648551624842705 L 0.6829024815182207, -0.8623480740027524 L 0.6860711041738754, -0.8598293086523857 L 0.689230436889023, -0.8572989005392266 L 0.6923804368838213, -0.8547568839269847 L 0.6955210615048009, -0.8522032932365583 L 0.6986522682254438, -0.8496381630455654 L 0.7017740146467563, -0.8470615280878802 L 0.7048862584978441, -0.84447342325316 L 0.7079889576364876, -0.8418738835863719 L 0.7110820700497075, -0.8392629442873211 L 0.7141655538543368, -0.8366406407101729 L 0.7172393672975892, -0.8340070083629718 L 0.7203034687576207, -0.8313620829071648 L 0.7233578167440952, -0.8287059001571163 L 0.7264023698987481, -0.8260384960796214 L 0.7294370869959427, -0.8233599067934227 L 0.73246192694323, -0.8206701685687194 L 0.7354768487819079, -0.8179693178266741 L 0.7384818116875705, -0.8152573911389234 L 0.7414767749706643, -0.8125344252270811 L 0.7444616980770402, -0.8098004569622383 L 0.747436540588499, -0.8070555233644693 L 0.750401262223341, -0.8042996616023262 L 0.7533558228369114, -0.8015329089923384 L 0.7563001824221446, -0.7987553029985034 L 0.7592343011101034, -0.795966881231784 L 0.7621581391705202, -0.7931676814495976 L 0.7650716570123374, -0.7903577415553014 L 0.7679748151842388, -0.7875370995976851 L 0.7708675743751868, -0.7847057937704526 L 0.7737498954149556, -0.7818638624117022 L 0.7766217392746588, -0.779011344003413 L 0.7794830670672787, -0.7761482771709208 L 0.7823338400481954, -0.7732747006823932 L 0.7851740196157078, -0.7703906534483089 L 0.7880035673115573, -0.767496174520929 L 0.790822444821452, -0.764591303093765 L 0.718929495292229, -0.6950830028125136 L 0.7163668793741429, -0.6977237950190263 L 0.713794563287007, -0.7003551394984626 L 0.7112125818619958, -0.7029770006203574 L 0.7086209700611623, -0.7055893428826553 L 0.7060197629769626, -0.7081921309121936 L 0.7034089958317779, -0.7107853294651838 L 0.7007887039774425, -0.7133689034276841 L 0.6981589228947626, -0.7159428178160774 L 0.6955196881930339, -0.7185070377775467 L 0.6928710356095638, -0.7210615285905432 L 0.6902130010091848, -0.7236062556652582 L 0.6875456203837678, -0.7261411845440939 L 0.6848689298517375, -0.7286662809021258 L 0.6821829656575827, -0.7311815105475693 L 0.6794877641713626, -0.7336868394222448 L 0.6767833618882183, -0.7361822336020348 L 0.6740697954278766, -0.7386676592973463 L 0.671347101534155, -0.7411430828535667 L 0.6686153170744616, -0.7436084707515219 L 0.6658744790393, -0.7460637896079267 L 0.663124624541766, -0.7485090061758388 L 0.6603657908170436, -0.7509440873451103 L 0.6575980152219046, -0.7533690001428329 L 0.6548213352342006, -0.7557837117337861 L 0.6520357884523538, -0.7581881894208834 L 0.6492414125948516, -0.7605824006456117 L 0.646438245499734, -0.7629663129884736 L 0.6436263251240796, -0.7653398941694289 L 0.6408056895434946, -0.7677031120483272 L 0.6379763769515966, -0.7700559346253455 L 0.6351384256594943, -0.772398330041423 L 0.6322918740952734, -0.7747302665786893 L 0.6294367608034739, -0.7770517126608951 L 0.6265731244445663, -0.7793626368538423 L 0.6237010037944322, -0.7816630078658051 L 0.620820437743837, -0.7839527945479566 L 0.6179314652979015, -0.7862319658947913 L 0.615034125575578, -0.7885004910445421 L 0.6121284578091178, -0.7907583392796 L 0.6092145013435387, -0.793005480026931 L 0.606292295636096, -0.7952418828584877 L 0.603361880255746, -0.7974675174916223 L 0.6004232948826085, -0.7996823537894981 L 0.5974765793074336, -0.8018863617614954 L 0.5945217734310605, -0.8040795115636181 L 0.5915589172638755, -0.8062617734988998 L 0.588588050925274, -0.808433118017803 L 0.585609214643115, -0.8105935157186208 L 0.5826224487531773, -0.8127429373478746 L 0.5796277936986106, -0.8148813538007118 L 0.5766252900293933, -0.8170087361212963 L 0.5736149784017769, -0.8191250555032052 L 0.5705968995777411, -0.8212302832898147 L 0.5675710944244388, -0.8233243909746903 L 0.5645376039136442, -0.8254073502019723 L 0.5614964691211951, -0.8274791327667609 L 0.5584477312264411, -0.8295397106154958 L 0.5553914315116837, -0.8315890558463374 L 0.552327611361615, -0.8336271407095457 L 0.5492563122627622, -0.835653937607854 L 0.546177575802923, -0.8376694190968429 L 0.5430914436706011, -0.8396735578853143 L 0.539997957654445, -0.8416663268356577 L 0.5368971596426809, -0.8436476989642191 L 0.533789091622543, -0.8456176474416676 L 0.5306737956797091, -0.8475761455933564 L 0.5275513139977288, -0.8495231668996849 L 0.5244216888574501, -0.8514586849964594 L 0.5212849626364512, -0.8533826736752473 L 0.5181411778084646, -0.8552951068837334 L 0.5149903769427995, -0.8571959587260741 L 0.51183260270377, -0.8590852034632449 L 0.5086678978501151, -0.8609628155133907 L 0.5054963052344177, -0.8628287694521738 L 0.5023178678025285, -0.8646830400131146 L 0.49913262859298246, -0.8665256020879359 L 0.49594063073641353, -0.8683564307269039 L 0.4927419174549755, -0.8701755011391634 L 0.48953653206175407, -0.8719827886930747 L 0.4863245179601785, -0.8737782689165484 L 0.48310591864343805, -0.8755619174973748 L 0.47988077769389115, -0.8773337102835536 L 0.4766491387824725, -0.8790936232836223 L 0.4734110456681069, -0.8808416326669792 L 0.47016654219711307, -0.8825777147642072 L 0.46691567230261205, -0.8843018460673934 L 0.4636584800039287, -0.8860140032304492 L 0.4603950094060005, -0.8877141630694245 L 0.45712530469877816, -0.8894023025628218 L 0.4538494101566248, -0.8910783988519101 L 0.45056737013772086, -0.8927424292410314 L 0.4472792290834617, -0.8943943711979097 L 0.44398503151785274, -0.8960342023539566 L 0.440684822046912, -0.8976619005045727 L 0.4373786453580633, -0.8992774436094488 L 0.4340665462195288, -0.9008808097928658 L 0.4307485694797277, -0.9024719773439883 L 0.4274247600666667, -0.9040509247171602 L 0.4240951629873288, -0.9056176305321971 L 0.4665046792860617 ,-0.996179393585417\",\"type\":\"path\"},{\"fillcolor\":\"rgba(102,194,165,0.75)\",\"layer\":\"below\",\"line\":{\"color\":\"rgb(150,150,150)\",\"width\":0.45},\"path\":\"M 0.7908229252281799, -0.7645908062052176 L 0.7925905425557817, -0.762758305003054 L 0.7943539136079324, -0.7609217173505838 L 0.7961130289374349, -0.7590810530872597 L 0.7978678791198918, -0.7572363220743745 L 0.7996184547537555, -0.7553875341950094 L 0.8013647464603808, -0.7535346993539778 L 0.803106744884072, -0.7516778274777768 L 0.8048444406921348, -0.7498169285145306 L 0.8065778245749262, -0.7479520124339393 L 0.808306887245904, -0.7460830892272238 L 0.8100316194416772, -0.744210168907073 L 0.8117520119220543, -0.7423332615075908 L 0.8134680554700938, -0.740452377084242 L 0.8151797408921552, -0.7385675257137961 L 0.8168870590179443, -0.7366787174942775 L 0.8185900007005656, -0.7347859625449087 L 0.8202885568165701, -0.7328892710060565 L 0.8219827182660038, -0.7309886530391779 L 0.8236724759724576, -0.7290841188267657 L 0.8253578208831154, -0.7271756785722935 L 0.8270387439688011, -0.7252633425001626 L 0.8287152362240309, -0.7233471208556435 L 0.830387288667057, -0.7214270239048257 L 0.8320548923399183, -0.7195030619345599 L 0.8337180383084878, -0.7175752452524036 L 0.8353767176625204, -0.7156435841865655 L 0.8370309215157011, -0.7137080890858506 L 0.838680641005692, -0.7117687703196046 L 0.840325867294179, -0.709825638277659 L 0.8419665915669228, -0.7078787033702729 L 0.8436028050338011, -0.705927976028081 L 0.8452344989288588, -0.7039734667020351 L 0.8468616645103544, -0.7020151858633488 L 0.8484842930608064, -0.7000531440034419 L 0.8501023758870406, -0.6980873516338831 L 0.8517159043202361, -0.696117819286335 L 0.8533248697159722, -0.6941445575124962 L 0.8549292634542738, -0.6921675768840472 L 0.8565290769396599, -0.6901868879925889 L 0.8581243016011866, -0.6882025014495923 L 0.8597149288924949, -0.6862144278863369 L 0.8613009502918559, -0.6842226779538559 L 0.862882357302217, -0.6822272623228782 L 0.8644591414512465, -0.6802281916837716 L 0.86603129429138, -0.6782254767464853 L 0.8675988073998643, -0.6762191282404939 L 0.8691616723788052, -0.6742091569147358 L 0.8707198808552089, -0.6721955735375613 L 0.8722734244810293, -0.6701783888966716 L 0.8738222949332121, -0.6681576137990607 L 0.8753664839137393, -0.666133259070959 L 0.8769059831496737, -0.6641053355577745 L 0.8784407843932034, -0.6620738541240349 L 0.879970879421685, -0.6600388256533297 L 0.8814962600376903, -0.6580002610482498 L 0.8830169180690467, -0.6559581712303328 L 0.8845328453688833, -0.6539125671400018 L 0.8860440338156739, -0.6518634597365073 L 0.8875504753132806, -0.6498108599978689 L 0.8890521617909967, -0.6477547789208165 L 0.8905490852035909, -0.6456952275207303 L 0.892041237531349, -0.6436322168315843 L 0.8935286107801195, -0.6415657579058829 L 0.8950111969813528, -0.6394958618146064 L 0.8964889881921466, -0.6374225396471491 L 0.8979619764952873, -0.6353458025112603 L 0.8994301539992928, -0.6332656615329847 L 0.9008935128384546, -0.6311821278566031 L 0.9023520451728805, -0.6290952126445726 L 0.9038057431885353, -0.627004927077467 L 0.9052545990972836, -0.6249112823539167 L 0.9066986051369328, -0.6228142896905472 L 0.9081377535712716, -0.620713960321922 L 0.9095720366901139, -0.6186103055004807 L 0.9110014468093394, -0.6165033364964788 L 0.9124259762709344, -0.614393064597927 L 0.9138456174430332, -0.6122795011105315 L 0.9152603627199594, -0.6101626573576333 L 0.916670204522265, -0.6080425446801475 L 0.9180751352967741, -0.6059191744365003 L 0.9194751475166201, -0.6037925580025726 L 0.9208702336812874, -0.6016627067716358 L 0.9222603863166519, -0.5995296321542916 L 0.9236455979750208, -0.5973933455784107 L 0.9250258612351719, -0.5952538584890724 L 0.9264011687023946, -0.5931111823485017 L 0.9277715130085277, -0.5909653286360104 L 0.9291368868120016, -0.588816308847931 L 0.9304972827978745, -0.586664134497561 L 0.9318526936778738, -0.5845088171150977 L 0.9332031121904342, -0.5823503682475766 L 0.9345485311007369, -0.5801887994588101 L 0.935888943200748, -0.5780241223293257 L 0.9372243413092579, -0.5758563484563036 L 0.9385547182719186, -0.5736854894535155 L 0.9398800669612841, -0.5715115569512591 L 0.9412003802768457, -0.5693345625963009 L 0.9425156511450721, -0.56715451805181 L 0.9438258725194467, -0.5649714349972973 L 0.8580235204722242, -0.5136103954520884 L 0.8568324101318836, -0.5155950164107364 L 0.855636709342587, -0.5175768750875462 L 0.8544364245102583, -0.519555960864781 L 0.8532315620653805, -0.5215322631395595 L 0.8520221284629617, -0.5235057713239123 L 0.8508081301824981, -0.5254764748448415 L 0.8495895737279425, -0.5274443631443727 L 0.8483664656276674, -0.529409425679615 L 0.8471388124344307, -0.5313716519228161 L 0.8459066207253404, -0.5333310313614191 L 0.8446698971018195, -0.5352875534981191 L 0.8434286481895705, -0.5372412078509184 L 0.8421828806385405, -0.5391919839531834 L 0.8409326011228835, -0.5411398713537021 L 0.8396778163409279, -0.543084859616737 L 0.838418533015138, -0.5450269383220832 L 0.8371547578920794, -0.5469660970651234 L 0.8358864977423818, -0.5489023254568841 L 0.8346137593607037, -0.5508356131240911 L 0.8333365495656954, -0.552765949709225 L 0.832054875199963, -0.5546933248705757 L 0.8307687431300301, -0.5566177282823014 L 0.8294781602463039, -0.558539149634479 L 0.8281831334630357, -0.5604575786331625 L 0.8268836697182853, -0.562373005000437 L 0.8255797759738832, -0.5642854184744746 L 0.8242714592153934, -0.5661948088095883 L 0.8229587264520759, -0.5681011657762879 L 0.8216415847168502, -0.5700044791613336 L 0.8203200410662549, -0.5719047387677932 L 0.8189941025804133, -0.5738019344150936 L 0.8176637763629934, -0.5756960559390769 L 0.8163290695411702, -0.5775870931920547 L 0.8149899892655877, -0.5794750360428628 L 0.8136465427103207, -0.5813598743769148 L 0.8122987370728358, -0.5832415980962571 L 0.8109465795739536, -0.585120197119622 L 0.8095900774578099, -0.586995661382482 L 0.8082292379918151, -0.5888679808371058 L 0.8068640684666186, -0.590737145452608 L 0.8054945761960671, -0.5926031452150066 L 0.8041207685171666, -0.5944659701272743 L 0.8027426527900424, -0.5963256102093935 L 0.8013602363979002, -0.5981820554984089 L 0.7999735267469863, -0.6000352960484815 L 0.7985825312665484, -0.6018853219309407 L 0.7971872574087943, -0.6037321232343404 L 0.7957877126488538, -0.6055756900645082 L 0.7943839044847382, -0.6074160125446005 L 0.7929758404372993, -0.609253080815156 L 0.7915635280501898, -0.6110868850341467 L 0.7901469748898228, -0.6129174153770325 L 0.788726188545331, -0.6147446620368126 L 0.7873011766285273, -0.6165686152240775 L 0.7858719467738604, -0.618389265167065 L 0.784438506638379, -0.6202066021117074 L 0.7830008639016871, -0.6220206163216871 L 0.7815590262659043, -0.623831298078488 L 0.7801130014556241, -0.6256386376814475 L 0.7786627972178726, -0.627442625447808 L 0.777208421322067, -0.6292432517127701 L 0.7757498815599747, -0.6310405068295419 L 0.7742871857456691, -0.6328343811693954 L 0.7728203417154914, -0.6346248651217119 L 0.7713493573280058, -0.636411949094038 L 0.7698742404639585, -0.6381956235121352 L 0.7683949990262352, -0.6399758788200318 L 0.7669116409398191, -0.6417527054800736 L 0.7654241741517479, -0.6435260939729753 L 0.7639326066310718, -0.6452960347978718 L 0.7624369463688108, -0.6470625184723677 L 0.7609372013779101, -0.6488255355325914 L 0.7594333796932003, -0.6505850765332413 L 0.7579254893713525, -0.6523411320476395 L 0.7564135384908347, -0.6540936926677817 L 0.75489753515187, -0.655842749004387 L 0.7533774874763917, -0.6575882916869485 L 0.7518534036080009, -0.6593303113637841 L 0.750325291711923, -0.6610687987020849 L 0.7487931599749614, -0.6628037443879687 L 0.747257016605458, -0.6645351391265253 L 0.7457168698332455, -0.6662629736418695 L 0.7441727279096051, -0.6679872386771897 L 0.7426245991072221, -0.6697079249947977 L 0.741072491720141, -0.6714250233761783 L 0.7395164140637216, -0.6731385246220382 L 0.7379563744745947, -0.6748484195523552 L 0.7363923813106156, -0.67655469900643 L 0.7348244429508218, -0.6782573538429306 L 0.7332525677953874, -0.6799563749399448 L 0.731676764265577, -0.6816517531950278 L 0.7300970408037017, -0.6833434795252515 L 0.7285134058730734, -0.6850315448672525 L 0.7269258679579594, -0.6867159401772812 L 0.7253344355635379, -0.6883966564312495 L 0.7237391172158498, -0.6900736846247815 L 0.7221399214617567, -0.6917470157732579 L 0.7205368568688924, -0.6934166409118672 L 0.7189299320256181, -0.6950825510956523 L 0.7908229252281799 ,-0.7645908062052176\",\"type\":\"path\"},{\"fillcolor\":\"rgba(50,136,189,0.75)\",\"layer\":\"below\",\"line\":{\"color\":\"rgb(150,150,150)\",\"width\":0.45},\"path\":\"M 0.9438262275012823, -0.5649708419739004 L 0.946890359371438, -0.5598201919629455 L 0.9499263833884627, -0.5546529240367488 L 0.9529342094298663, -0.5494691915824542 L 0.9559137482101979, -0.5442691484759451 L 0.9588649112836966, -0.5390529490772765 L 0.9617876110469165, -0.5338207482260928 L 0.9646817607413275, -0.5285727012370317 L 0.9675472744558908, -0.5233089638951136 L 0.9703840671296082, -0.5180296924511183 L 0.9731920545540493, -0.512735043616943 L 0.9759711533758483, -0.5074251745609559 L 0.9787212810991799, -0.5021002429033273 L 0.9814423560882082, -0.49676040671135124 L 0.9841342975695093, -0.4914058244947537 L 0.98679702563447, -0.4860366552009873 L 0.9894304612416586, -0.480653058210513 L 0.9920345262191724, -0.475255193332069 L 0.9946091432669573, -0.4698432207979269 L 0.9971542359591027, -0.4644173012591352 L 0.9996697287461104, -0.45897759578075087 L 1.0021555469571368, -0.45352426583705757 L 1.0046116168022101, -0.448057473306773 L 1.0070378653744196, -0.4425773804682434 L 1.0094342206520814, -0.43708414999462636 L 1.011800611500875, -0.4315779449490619 L 1.014136967675955, -0.4260589287798333 L 1.016443219824038, -0.4205272653155112 L 1.0187192994854588, -0.41498311876009625 L 1.020965139096204, -0.40942665368814085 L 1.0231806719899177, -0.40385803503986495 L 1.0253658323998796, -0.39827742811625994 L 1.0275205554609577, -0.3926849985741816 L 1.0296447772115347, -0.38708091242143305 L 1.031738434595405, -0.38146533601183635 L 1.0338014654636476, -0.37583843604029504 L 1.0358338085764702, -0.3702003795378454 L 1.037835403605028, -0.3645513338666983 L 1.0398061911332137, -0.35889146671527145 L 1.0417461126594219, -0.3532209460932115 L 1.0436551105982848, -0.34753994032640667 L 1.0455331282823823, -0.3418486180519901 L 1.0473801099639242, -0.33614714821333536 L 1.049196000816405, -0.33043570005503703 L 1.0509807469362304, -0.32471444311789277 L 1.0527342953443188, -0.318983547233867 L 1.0544565939876729, -0.3132431825210501 L 1.0561475917409258, -0.3074935193786089 L 1.0578072384078576, -0.3017347284817282 L 1.0594354847228862, -0.2959669807765448 L 1.0610322823525293, -0.2901904474750725 L 1.0625975838968398, -0.28440530005012016 L 1.0641313428908117, -0.27861171023020176 L 1.0656335138057607, -0.2728098499944382 L 1.0671040520506745, -0.2669998915674528 L 1.0685429139735374, -0.26118200741425857 L 1.0699500568626252, -0.2553563702351388 L 1.0713254389477742, -0.24952315296052058 L 1.0726690194016197, -0.24368252874584137 L 1.0739807583408092, -0.2378346709664101 L 1.075260616827186, -0.23197975321225656 L 1.0765085568689445, -0.22611794928298456 L 1.0777245414217584, -0.2202494331826087 L 1.0789085343898805, -0.2143743791143902 L 1.0800605006272135, -0.20849296147566584 L 1.0811804059383536, -0.20260535485267103 L 1.082268217079607, -0.19671173401535733 L 1.083323901759974, -0.19081227391220457 L 1.0843474286421098, -0.18490714966502747 L 1.0853387673432533, -0.1789965365637775 L 1.08629788843613, -0.1730806100613392 L 1.0872247634498253, -0.16715954576832223 L 1.0881193648706287, -0.16123351944784836 L 1.0889816661428522, -0.15530270701033402 L 1.089811641669617, -0.1493672845082696 L 1.0906092668136147, -0.14342742813098944 L 1.091374517897837, -0.13748331419944762 L 1.0921073722062804, -0.13153511916098015 L 1.0928078079846189, -0.12558301958406815 L 1.093475804440851, -0.1196271921530965 L 1.0941113417459163, -0.1136678136631092 L 1.0947144010342835, -0.10770506101456113 L 1.0952849644045117, -0.10173911120806708 L 1.0958230149197816, -0.09577014133914741 L 1.0963285366083968, -0.08979832859297121 L 1.0968015144642598, -0.0838238502390966 L 1.0972419344473159, -0.0778468836262086 L 1.0976497834839711, -0.0718676061768547 L 1.09802504946748, -0.06588619538217806 L 1.098367721258304, -0.059902828796648946 L 1.098677788684444, -0.053917684032794046 L 1.0989552425417408, -0.047930938755924135 L 1.0992000745941481, -0.04194277067886123 L 1.0994122775739787, -0.03595335755665937 L 1.0995918451821187, -0.029962877181333877 L 1.0997387720882148, -0.02397150737657988 L 1.0998530539308333, -0.01797942599249466 L 1.0999346873175884, -0.011986810900298277 L 1.0999836698252432, -0.0059938399870536 L 1.099999999999783, -6.91150385814946e-07 L 0.9999999999998026, -6.283185325590418e-07 L 0.9999851543865848, -0.005448945442776 L 0.9999406248341711, -0.010897100818452979 L 0.9998664126643939, -0.01634493272044969 L 0.9997625200801953, -0.021792279433254437 L 0.9996289501655624, -0.027238979255758067 L 0.9994657068854351, -0.03268487050605397 L 0.9992727950855891, -0.03812979152623748 L 0.9990502204924915, -0.04357358068720375 L 0.9987979897131309, -0.049016076393449126 L 0.9985161102348218, -0.054457117087862675 L 0.9982045904249817, -0.05989654125652551 L 0.9978634395308827, -0.06533418743350426 L 0.9974926676793779, -0.07076989420564418 L 0.9970922858765997, -0.07620350021736054 L 0.9966623060076334, -0.08163484417542836 L 0.996202740836165, -0.08706376485377036 L 0.9957136040041016, -0.0924901010982428 L 0.9951949100311667, -0.09791369183141921 L 0.9946466743144692, -0.10333437605737199 L 0.9940689131280463, -0.10875199286645136 L 0.9934616436223808, -0.11416638144006194 L 0.9928248838238911, -0.1195773810554365 L 0.9921586526343972, -0.12498483109040692 L 0.9914629698305587, -0.1303885710281722 L 0.9907378560632881, -0.13578844046206326 L 0.9899833328571384, -0.14118427910030365 L 0.9891994226096624, -0.14657592677077122 L 0.9883861485907501, -0.15196322342574747 L 0.9875435349419364, -0.157346009146672 L 0.9866716066756848, -0.16272412414888862 L 0.9857703896746451, -0.1680974087863886 L 0.9848399106908855, -0.17346570355654958 L 0.9838801973450972, -0.1788288491048703 L 0.982891278125776, -0.1841866862297009 L 0.9818731823883757, -0.18953905588696893 L 0.9808259403544367, -0.19488579919490015 L 0.9797495831106895, -0.20022675743873516 L 0.9786441426081314, -0.2055617720754405 L 0.9775096516610782, -0.21089068473841505 L 0.9763461439461901, -0.21621333724219097 L 0.9751536540014724, -0.2215295715871285 L 0.9739322172252491, -0.2268392299641096 L 0.9726818698751137, -0.23214215475921707 L 0.971402649066852, -0.23743818855841684 L 0.9700945927733404, -0.24272717415222977 L 0.9687577398234187, -0.2480089545403983 L 0.9673921299007379, -0.253283372936547 L 0.9659978035425815, -0.2585502727728365 L 0.9645748021386629, -0.2638094977046113 L 0.9631231679298964, -0.2690608916150407 L 0.9616429440071431, -0.2743042986197529 L 0.9601341743099324, -0.2795395630714626 L 0.9585969036251571, -0.284766529564591 L 0.9570311775857443, -0.2899850429398791 L 0.9554370426693004, -0.2951949482889934 L 0.9538145461967318, -0.30039609095912456 L 0.9521637363308402, -0.30558831655757757 L 0.950484662074893, -0.31077147095635466 L 0.9487773732711678, -0.3159454002967333 L 0.9470419205994743, -0.3211099509938286 L 0.9452783555756488, -0.3262649697411558 L 0.9434867305500253, -0.33141030351518025 L 0.9416670987058819, -0.3365457995798594 L 0.9398195140578613, -0.3416713054911773 L 0.9379440314503682, -0.3467866691016694 L 0.9360407065559406, -0.3518917385649391 L 0.9341095958735979, -0.35698636234016506 L 0.9321507567271631, -0.3620703891965999 L 0.9301642472635614, -0.367143668218059 L 0.9281501264510945, -0.37220604880740077 L 0.9261084540776898, -0.37725738069099657 L 0.9240392907491255, -0.382297513923192 L 0.9219426978872318, -0.38732629889075754 L 0.9198187377280681, -0.39234358631732896 L 0.917667473320074, -0.3973492272678421 L 0.9154889685221996, -0.40234307315294854 L 0.9132832880020091, -0.40732497573342996 L 0.9110504972337607, -0.4122947871245978 L 0.9087906624964639, -0.4172523598006826 L 0.9065038508719114, -0.4221975465992138 L 0.9041901302426884, -0.42713020072538804 L 0.9018495692901567, -0.43205017575642635 L 0.8994822374924168, -0.4369573256459209 L 0.8970882051222454, -0.44185150472817025 L 0.8946675432450084, -0.4467325677225033 L 0.8922203237165528, -0.451600369737592 L 0.8897466191810726, -0.4564547662757521 L 0.8872465030689529, -0.46129561323723267 L 0.8847200495945903, -0.4661227669244936 L 0.8821673337541892, -0.47093608404647114 L 0.879588431323537, -0.4757354217228305 L 0.8769834188557522, -0.48052063748821056 L 0.8743523736790149, -0.48529158929644794 L 0.8716953738942695, -0.49004813552479676 L 0.8690124983729072, -0.4947901349781319 L 0.8663038267544239, -0.49951744689314015 L 0.863569439444057, -0.5042299309424989 L 0.8608094176103981, -0.5089274472390414 L 0.8580238431829839, -0.5136098563399094 L 0.9438262275012823 ,-0.5649708419739004\",\"type\":\"path\"}],\"showlegend\":false,\"template\":{\"data\":{\"barpolar\":[{\"marker\":{\"line\":{\"color\":\"#E5ECF6\",\"width\":0.5},\"pattern\":{\"fillmode\":\"overlay\",\"size\":10,\"solidity\":0.2}},\"type\":\"barpolar\"}],\"bar\":[{\"error_x\":{\"color\":\"#2a3f5f\"},\"error_y\":{\"color\":\"#2a3f5f\"},\"marker\":{\"line\":{\"color\":\"#E5ECF6\",\"width\":0.5},\"pattern\":{\"fillmode\":\"overlay\",\"size\":10,\"solidity\":0.2}},\"type\":\"bar\"}],\"carpet\":[{\"aaxis\":{\"endlinecolor\":\"#2a3f5f\",\"gridcolor\":\"white\",\"linecolor\":\"white\",\"minorgridcolor\":\"white\",\"startlinecolor\":\"#2a3f5f\"},\"baxis\":{\"endlinecolor\":\"#2a3f5f\",\"gridcolor\":\"white\",\"linecolor\":\"white\",\"minorgridcolor\":\"white\",\"startlinecolor\":\"#2a3f5f\"},\"type\":\"carpet\"}],\"choropleth\":[{\"colorbar\":{\"outlinewidth\":0,\"ticks\":\"\"},\"type\":\"choropleth\"}],\"contourcarpet\":[{\"colorbar\":{\"outlinewidth\":0,\"ticks\":\"\"},\"type\":\"contourcarpet\"}],\"contour\":[{\"colorbar\":{\"outlinewidth\":0,\"ticks\":\"\"},\"colorscale\":[[0.0,\"#0d0887\"],[0.1111111111111111,\"#46039f\"],[0.2222222222222222,\"#7201a8\"],[0.3333333333333333,\"#9c179e\"],[0.4444444444444444,\"#bd3786\"],[0.5555555555555556,\"#d8576b\"],[0.6666666666666666,\"#ed7953\"],[0.7777777777777778,\"#fb9f3a\"],[0.8888888888888888,\"#fdca26\"],[1.0,\"#f0f921\"]],\"type\":\"contour\"}],\"heatmapgl\":[{\"colorbar\":{\"outlinewidth\":0,\"ticks\":\"\"},\"colorscale\":[[0.0,\"#0d0887\"],[0.1111111111111111,\"#46039f\"],[0.2222222222222222,\"#7201a8\"],[0.3333333333333333,\"#9c179e\"],[0.4444444444444444,\"#bd3786\"],[0.5555555555555556,\"#d8576b\"],[0.6666666666666666,\"#ed7953\"],[0.7777777777777778,\"#fb9f3a\"],[0.8888888888888888,\"#fdca26\"],[1.0,\"#f0f921\"]],\"type\":\"heatmapgl\"}],\"heatmap\":[{\"colorbar\":{\"outlinewidth\":0,\"ticks\":\"\"},\"colorscale\":[[0.0,\"#0d0887\"],[0.1111111111111111,\"#46039f\"],[0.2222222222222222,\"#7201a8\"],[0.3333333333333333,\"#9c179e\"],[0.4444444444444444,\"#bd3786\"],[0.5555555555555556,\"#d8576b\"],[0.6666666666666666,\"#ed7953\"],[0.7777777777777778,\"#fb9f3a\"],[0.8888888888888888,\"#fdca26\"],[1.0,\"#f0f921\"]],\"type\":\"heatmap\"}],\"histogram2dcontour\":[{\"colorbar\":{\"outlinewidth\":0,\"ticks\":\"\"},\"colorscale\":[[0.0,\"#0d0887\"],[0.1111111111111111,\"#46039f\"],[0.2222222222222222,\"#7201a8\"],[0.3333333333333333,\"#9c179e\"],[0.4444444444444444,\"#bd3786\"],[0.5555555555555556,\"#d8576b\"],[0.6666666666666666,\"#ed7953\"],[0.7777777777777778,\"#fb9f3a\"],[0.8888888888888888,\"#fdca26\"],[1.0,\"#f0f921\"]],\"type\":\"histogram2dcontour\"}],\"histogram2d\":[{\"colorbar\":{\"outlinewidth\":0,\"ticks\":\"\"},\"colorscale\":[[0.0,\"#0d0887\"],[0.1111111111111111,\"#46039f\"],[0.2222222222222222,\"#7201a8\"],[0.3333333333333333,\"#9c179e\"],[0.4444444444444444,\"#bd3786\"],[0.5555555555555556,\"#d8576b\"],[0.6666666666666666,\"#ed7953\"],[0.7777777777777778,\"#fb9f3a\"],[0.8888888888888888,\"#fdca26\"],[1.0,\"#f0f921\"]],\"type\":\"histogram2d\"}],\"histogram\":[{\"marker\":{\"pattern\":{\"fillmode\":\"overlay\",\"size\":10,\"solidity\":0.2}},\"type\":\"histogram\"}],\"mesh3d\":[{\"colorbar\":{\"outlinewidth\":0,\"ticks\":\"\"},\"type\":\"mesh3d\"}],\"parcoords\":[{\"line\":{\"colorbar\":{\"outlinewidth\":0,\"ticks\":\"\"}},\"type\":\"parcoords\"}],\"pie\":[{\"automargin\":true,\"type\":\"pie\"}],\"scatter3d\":[{\"line\":{\"colorbar\":{\"outlinewidth\":0,\"ticks\":\"\"}},\"marker\":{\"colorbar\":{\"outlinewidth\":0,\"ticks\":\"\"}},\"type\":\"scatter3d\"}],\"scattercarpet\":[{\"marker\":{\"colorbar\":{\"outlinewidth\":0,\"ticks\":\"\"}},\"type\":\"scattercarpet\"}],\"scattergeo\":[{\"marker\":{\"colorbar\":{\"outlinewidth\":0,\"ticks\":\"\"}},\"type\":\"scattergeo\"}],\"scattergl\":[{\"marker\":{\"colorbar\":{\"outlinewidth\":0,\"ticks\":\"\"}},\"type\":\"scattergl\"}],\"scattermapbox\":[{\"marker\":{\"colorbar\":{\"outlinewidth\":0,\"ticks\":\"\"}},\"type\":\"scattermapbox\"}],\"scatterpolargl\":[{\"marker\":{\"colorbar\":{\"outlinewidth\":0,\"ticks\":\"\"}},\"type\":\"scatterpolargl\"}],\"scatterpolar\":[{\"marker\":{\"colorbar\":{\"outlinewidth\":0,\"ticks\":\"\"}},\"type\":\"scatterpolar\"}],\"scatter\":[{\"marker\":{\"colorbar\":{\"outlinewidth\":0,\"ticks\":\"\"}},\"type\":\"scatter\"}],\"scatterternary\":[{\"marker\":{\"colorbar\":{\"outlinewidth\":0,\"ticks\":\"\"}},\"type\":\"scatterternary\"}],\"surface\":[{\"colorbar\":{\"outlinewidth\":0,\"ticks\":\"\"},\"colorscale\":[[0.0,\"#0d0887\"],[0.1111111111111111,\"#46039f\"],[0.2222222222222222,\"#7201a8\"],[0.3333333333333333,\"#9c179e\"],[0.4444444444444444,\"#bd3786\"],[0.5555555555555556,\"#d8576b\"],[0.6666666666666666,\"#ed7953\"],[0.7777777777777778,\"#fb9f3a\"],[0.8888888888888888,\"#fdca26\"],[1.0,\"#f0f921\"]],\"type\":\"surface\"}],\"table\":[{\"cells\":{\"fill\":{\"color\":\"#EBF0F8\"},\"line\":{\"color\":\"white\"}},\"header\":{\"fill\":{\"color\":\"#C8D4E3\"},\"line\":{\"color\":\"white\"}},\"type\":\"table\"}]},\"layout\":{\"annotationdefaults\":{\"arrowcolor\":\"#2a3f5f\",\"arrowhead\":0,\"arrowwidth\":1},\"autotypenumbers\":\"strict\",\"coloraxis\":{\"colorbar\":{\"outlinewidth\":0,\"ticks\":\"\"}},\"colorscale\":{\"diverging\":[[0,\"#8e0152\"],[0.1,\"#c51b7d\"],[0.2,\"#de77ae\"],[0.3,\"#f1b6da\"],[0.4,\"#fde0ef\"],[0.5,\"#f7f7f7\"],[0.6,\"#e6f5d0\"],[0.7,\"#b8e186\"],[0.8,\"#7fbc41\"],[0.9,\"#4d9221\"],[1,\"#276419\"]],\"sequential\":[[0.0,\"#0d0887\"],[0.1111111111111111,\"#46039f\"],[0.2222222222222222,\"#7201a8\"],[0.3333333333333333,\"#9c179e\"],[0.4444444444444444,\"#bd3786\"],[0.5555555555555556,\"#d8576b\"],[0.6666666666666666,\"#ed7953\"],[0.7777777777777778,\"#fb9f3a\"],[0.8888888888888888,\"#fdca26\"],[1.0,\"#f0f921\"]],\"sequentialminus\":[[0.0,\"#0d0887\"],[0.1111111111111111,\"#46039f\"],[0.2222222222222222,\"#7201a8\"],[0.3333333333333333,\"#9c179e\"],[0.4444444444444444,\"#bd3786\"],[0.5555555555555556,\"#d8576b\"],[0.6666666666666666,\"#ed7953\"],[0.7777777777777778,\"#fb9f3a\"],[0.8888888888888888,\"#fdca26\"],[1.0,\"#f0f921\"]]},\"colorway\":[\"#636efa\",\"#EF553B\",\"#00cc96\",\"#ab63fa\",\"#FFA15A\",\"#19d3f3\",\"#FF6692\",\"#B6E880\",\"#FF97FF\",\"#FECB52\"],\"font\":{\"color\":\"#2a3f5f\"},\"geo\":{\"bgcolor\":\"white\",\"lakecolor\":\"white\",\"landcolor\":\"#E5ECF6\",\"showlakes\":true,\"showland\":true,\"subunitcolor\":\"white\"},\"hoverlabel\":{\"align\":\"left\"},\"hovermode\":\"closest\",\"mapbox\":{\"style\":\"light\"},\"paper_bgcolor\":\"white\",\"plot_bgcolor\":\"#E5ECF6\",\"polar\":{\"angularaxis\":{\"gridcolor\":\"white\",\"linecolor\":\"white\",\"ticks\":\"\"},\"bgcolor\":\"#E5ECF6\",\"radialaxis\":{\"gridcolor\":\"white\",\"linecolor\":\"white\",\"ticks\":\"\"}},\"scene\":{\"xaxis\":{\"backgroundcolor\":\"#E5ECF6\",\"gridcolor\":\"white\",\"gridwidth\":2,\"linecolor\":\"white\",\"showbackground\":true,\"ticks\":\"\",\"zerolinecolor\":\"white\"},\"yaxis\":{\"backgroundcolor\":\"#E5ECF6\",\"gridcolor\":\"white\",\"gridwidth\":2,\"linecolor\":\"white\",\"showbackground\":true,\"ticks\":\"\",\"zerolinecolor\":\"white\"},\"zaxis\":{\"backgroundcolor\":\"#E5ECF6\",\"gridcolor\":\"white\",\"gridwidth\":2,\"linecolor\":\"white\",\"showbackground\":true,\"ticks\":\"\",\"zerolinecolor\":\"white\"}},\"shapedefaults\":{\"line\":{\"color\":\"#2a3f5f\"}},\"ternary\":{\"aaxis\":{\"gridcolor\":\"white\",\"linecolor\":\"white\",\"ticks\":\"\"},\"baxis\":{\"gridcolor\":\"white\",\"linecolor\":\"white\",\"ticks\":\"\"},\"bgcolor\":\"#E5ECF6\",\"caxis\":{\"gridcolor\":\"white\",\"linecolor\":\"white\",\"ticks\":\"\"}},\"title\":{\"x\":0.05},\"xaxis\":{\"automargin\":true,\"gridcolor\":\"white\",\"linecolor\":\"white\",\"ticks\":\"\",\"title\":{\"standoff\":15},\"zerolinecolor\":\"white\",\"zerolinewidth\":2},\"yaxis\":{\"automargin\":true,\"gridcolor\":\"white\",\"linecolor\":\"white\",\"ticks\":\"\",\"title\":{\"standoff\":15},\"zerolinecolor\":\"white\",\"zerolinewidth\":2}}},\"title\":{\"text\":\" \"},\"width\":625,\"xaxis\":{\"showgrid\":false,\"showline\":false,\"showticklabels\":false,\"title\":{\"text\":\"Seatlle Bike Flow\"},\"zeroline\":false},\"yaxis\":{\"scaleanchor\":\"x\",\"showgrid\":false,\"showline\":false,\"showticklabels\":false,\"title\":{\"text\":\"Seatlle Bike Flow\"},\"zeroline\":false}},                        {\"responsive\": true}                    ).then(function(){\n",
       "                            \n",
       "var gd = document.getElementById('6ae518a2-d140-4bb1-ac77-f6f18ef61e24');\n",
       "var x = new MutationObserver(function (mutations, observer) {{\n",
       "        var display = window.getComputedStyle(gd).display;\n",
       "        if (!display || display === 'none') {{\n",
       "            console.log([gd, 'removed!']);\n",
       "            Plotly.purge(gd);\n",
       "            observer.disconnect();\n",
       "        }}\n",
       "}});\n",
       "\n",
       "// Listen for the removal of the full notebook cells\n",
       "var notebookContainer = gd.closest('#notebook-container');\n",
       "if (notebookContainer) {{\n",
       "    x.observe(notebookContainer, {childList: true});\n",
       "}}\n",
       "\n",
       "// Listen for the clearing of the current output cell\n",
       "var outputEl = gd.closest('.output');\n",
       "if (outputEl) {{\n",
       "    x.observe(outputEl, {childList: true});\n",
       "}}\n",
       "\n",
       "                        })                };                });            </script>        </div>"
      ]
     },
     "metadata": {},
     "output_type": "display_data"
    }
   ],
   "source": [
    "init_notebook_mode(connected=True)\n",
    "iplot(chord)"
   ]
  },
  {
   "cell_type": "markdown",
   "id": "75177fb1",
   "metadata": {},
   "source": [
    "Das estações analisadas, a estação Pier 69 é a que tem a maior quantidade de aluguéis de bicicleta (7898). A maior parte das viagens ali iniciadas (53,3%) retorna à própria estação. O segundo maior fluxo observado (2291 viagens) foi entre o Seattle Aquarium e o Pier 69.\n",
    "\n",
    "Estas duas estações concentram a maior parte das partidas e tem um grande fluxo entre elas.\n",
    "\n",
    "Pelo gráfico, é possível notar também que grande parte das viagens iniciam e terminam na mesma estação."
   ]
  },
  {
   "cell_type": "code",
   "execution_count": 102,
   "id": "c95dd89b",
   "metadata": {},
   "outputs": [],
   "source": [
    "df2 = df.loc[df['from_station_name']=='Pier 69 / Alaskan Way & Clay St'].loc[df['to_station_name'].isin(list(union_stations))].reset_index()"
   ]
  },
  {
   "cell_type": "code",
   "execution_count": 103,
   "id": "a7cdfe75",
   "metadata": {},
   "outputs": [],
   "source": [
    "df3 = pd.concat([df2,df2['starttime'].str.partition().drop(columns=[1]).rename(columns={0:'date',2:'time'})], axis=1).drop(columns=['index'])"
   ]
  },
  {
   "cell_type": "code",
   "execution_count": 104,
   "id": "02d738b0",
   "metadata": {},
   "outputs": [
    {
     "data": {
      "text/html": [
       "<div>\n",
       "<style scoped>\n",
       "    .dataframe tbody tr th:only-of-type {\n",
       "        vertical-align: middle;\n",
       "    }\n",
       "\n",
       "    .dataframe tbody tr th {\n",
       "        vertical-align: top;\n",
       "    }\n",
       "\n",
       "    .dataframe thead th {\n",
       "        text-align: right;\n",
       "    }\n",
       "</style>\n",
       "<table border=\"1\" class=\"dataframe\">\n",
       "  <thead>\n",
       "    <tr style=\"text-align: right;\">\n",
       "      <th></th>\n",
       "      <th>trip_id</th>\n",
       "      <th>starttime</th>\n",
       "      <th>stoptime</th>\n",
       "      <th>bikeid</th>\n",
       "      <th>tripduration</th>\n",
       "      <th>from_station_name</th>\n",
       "      <th>to_station_name</th>\n",
       "      <th>from_station_id</th>\n",
       "      <th>to_station_id</th>\n",
       "      <th>usertype</th>\n",
       "      <th>gender</th>\n",
       "      <th>birthyear</th>\n",
       "      <th>date</th>\n",
       "      <th>time</th>\n",
       "    </tr>\n",
       "  </thead>\n",
       "  <tbody>\n",
       "    <tr>\n",
       "      <th>0</th>\n",
       "      <td>773</td>\n",
       "      <td>10/13/2014 17:28</td>\n",
       "      <td>10/13/2014 17:52</td>\n",
       "      <td>SEA00445</td>\n",
       "      <td>1438.596</td>\n",
       "      <td>Pier 69 / Alaskan Way &amp; Clay St</td>\n",
       "      <td>3rd Ave &amp; Broad St</td>\n",
       "      <td>WF-01</td>\n",
       "      <td>BT-01</td>\n",
       "      <td>Short-Term Pass Holder</td>\n",
       "      <td>NaN</td>\n",
       "      <td>NaN</td>\n",
       "      <td>10/13/2014</td>\n",
       "      <td>17:28</td>\n",
       "    </tr>\n",
       "    <tr>\n",
       "      <th>1</th>\n",
       "      <td>774</td>\n",
       "      <td>10/13/2014 17:28</td>\n",
       "      <td>10/13/2014 17:52</td>\n",
       "      <td>SEA00050</td>\n",
       "      <td>1427.933</td>\n",
       "      <td>Pier 69 / Alaskan Way &amp; Clay St</td>\n",
       "      <td>3rd Ave &amp; Broad St</td>\n",
       "      <td>WF-01</td>\n",
       "      <td>BT-01</td>\n",
       "      <td>Short-Term Pass Holder</td>\n",
       "      <td>NaN</td>\n",
       "      <td>NaN</td>\n",
       "      <td>10/13/2014</td>\n",
       "      <td>17:28</td>\n",
       "    </tr>\n",
       "    <tr>\n",
       "      <th>2</th>\n",
       "      <td>777</td>\n",
       "      <td>10/13/2014 17:30</td>\n",
       "      <td>10/13/2014 17:52</td>\n",
       "      <td>SEA00043</td>\n",
       "      <td>1329.031</td>\n",
       "      <td>Pier 69 / Alaskan Way &amp; Clay St</td>\n",
       "      <td>3rd Ave &amp; Broad St</td>\n",
       "      <td>WF-01</td>\n",
       "      <td>BT-01</td>\n",
       "      <td>Short-Term Pass Holder</td>\n",
       "      <td>NaN</td>\n",
       "      <td>NaN</td>\n",
       "      <td>10/13/2014</td>\n",
       "      <td>17:30</td>\n",
       "    </tr>\n",
       "    <tr>\n",
       "      <th>3</th>\n",
       "      <td>780</td>\n",
       "      <td>10/13/2014 17:30</td>\n",
       "      <td>10/13/2014 17:52</td>\n",
       "      <td>SEA00263</td>\n",
       "      <td>1290.055</td>\n",
       "      <td>Pier 69 / Alaskan Way &amp; Clay St</td>\n",
       "      <td>3rd Ave &amp; Broad St</td>\n",
       "      <td>WF-01</td>\n",
       "      <td>BT-01</td>\n",
       "      <td>Short-Term Pass Holder</td>\n",
       "      <td>NaN</td>\n",
       "      <td>NaN</td>\n",
       "      <td>10/13/2014</td>\n",
       "      <td>17:30</td>\n",
       "    </tr>\n",
       "    <tr>\n",
       "      <th>4</th>\n",
       "      <td>983</td>\n",
       "      <td>10/14/2014 9:12</td>\n",
       "      <td>10/14/2014 13:20</td>\n",
       "      <td>SEA00181</td>\n",
       "      <td>14885.176</td>\n",
       "      <td>Pier 69 / Alaskan Way &amp; Clay St</td>\n",
       "      <td>Pier 69 / Alaskan Way &amp; Clay St</td>\n",
       "      <td>WF-01</td>\n",
       "      <td>WF-01</td>\n",
       "      <td>Short-Term Pass Holder</td>\n",
       "      <td>NaN</td>\n",
       "      <td>NaN</td>\n",
       "      <td>10/14/2014</td>\n",
       "      <td>9:12</td>\n",
       "    </tr>\n",
       "    <tr>\n",
       "      <th>...</th>\n",
       "      <td>...</td>\n",
       "      <td>...</td>\n",
       "      <td>...</td>\n",
       "      <td>...</td>\n",
       "      <td>...</td>\n",
       "      <td>...</td>\n",
       "      <td>...</td>\n",
       "      <td>...</td>\n",
       "      <td>...</td>\n",
       "      <td>...</td>\n",
       "      <td>...</td>\n",
       "      <td>...</td>\n",
       "      <td>...</td>\n",
       "      <td>...</td>\n",
       "    </tr>\n",
       "    <tr>\n",
       "      <th>8248</th>\n",
       "      <td>255074</td>\n",
       "      <td>8/31/2016 12:08</td>\n",
       "      <td>8/31/2016 12:24</td>\n",
       "      <td>SEA00266</td>\n",
       "      <td>960.975</td>\n",
       "      <td>Pier 69 / Alaskan Way &amp; Clay St</td>\n",
       "      <td>Seattle Aquarium / Alaskan Way S &amp; Elliott Bay...</td>\n",
       "      <td>WF-01</td>\n",
       "      <td>WF-04</td>\n",
       "      <td>Short-Term Pass Holder</td>\n",
       "      <td>NaN</td>\n",
       "      <td>NaN</td>\n",
       "      <td>8/31/2016</td>\n",
       "      <td>12:08</td>\n",
       "    </tr>\n",
       "    <tr>\n",
       "      <th>8249</th>\n",
       "      <td>255132</td>\n",
       "      <td>8/31/2016 16:38</td>\n",
       "      <td>8/31/2016 16:51</td>\n",
       "      <td>SEA00261</td>\n",
       "      <td>804.988</td>\n",
       "      <td>Pier 69 / Alaskan Way &amp; Clay St</td>\n",
       "      <td>King Street Station Plaza / 2nd Ave Extension ...</td>\n",
       "      <td>WF-01</td>\n",
       "      <td>PS-05</td>\n",
       "      <td>Member</td>\n",
       "      <td>Male</td>\n",
       "      <td>1963.0</td>\n",
       "      <td>8/31/2016</td>\n",
       "      <td>16:38</td>\n",
       "    </tr>\n",
       "    <tr>\n",
       "      <th>8250</th>\n",
       "      <td>255141</td>\n",
       "      <td>8/31/2016 17:03</td>\n",
       "      <td>8/31/2016 17:12</td>\n",
       "      <td>SEA00449</td>\n",
       "      <td>522.782</td>\n",
       "      <td>Pier 69 / Alaskan Way &amp; Clay St</td>\n",
       "      <td>King Street Station Plaza / 2nd Ave Extension ...</td>\n",
       "      <td>WF-01</td>\n",
       "      <td>PS-05</td>\n",
       "      <td>Member</td>\n",
       "      <td>Male</td>\n",
       "      <td>1980.0</td>\n",
       "      <td>8/31/2016</td>\n",
       "      <td>17:03</td>\n",
       "    </tr>\n",
       "    <tr>\n",
       "      <th>8251</th>\n",
       "      <td>255145</td>\n",
       "      <td>8/31/2016 17:09</td>\n",
       "      <td>8/31/2016 17:20</td>\n",
       "      <td>SEA00185</td>\n",
       "      <td>642.207</td>\n",
       "      <td>Pier 69 / Alaskan Way &amp; Clay St</td>\n",
       "      <td>King Street Station Plaza / 2nd Ave Extension ...</td>\n",
       "      <td>WF-01</td>\n",
       "      <td>PS-05</td>\n",
       "      <td>Member</td>\n",
       "      <td>Male</td>\n",
       "      <td>1964.0</td>\n",
       "      <td>8/31/2016</td>\n",
       "      <td>17:09</td>\n",
       "    </tr>\n",
       "    <tr>\n",
       "      <th>8252</th>\n",
       "      <td>255162</td>\n",
       "      <td>8/31/2016 17:44</td>\n",
       "      <td>8/31/2016 17:49</td>\n",
       "      <td>SEA00455</td>\n",
       "      <td>305.153</td>\n",
       "      <td>Pier 69 / Alaskan Way &amp; Clay St</td>\n",
       "      <td>Seattle Aquarium / Alaskan Way S &amp; Elliott Bay...</td>\n",
       "      <td>WF-01</td>\n",
       "      <td>WF-04</td>\n",
       "      <td>Member</td>\n",
       "      <td>Male</td>\n",
       "      <td>1982.0</td>\n",
       "      <td>8/31/2016</td>\n",
       "      <td>17:44</td>\n",
       "    </tr>\n",
       "  </tbody>\n",
       "</table>\n",
       "<p>8253 rows × 14 columns</p>\n",
       "</div>"
      ],
      "text/plain": [
       "      trip_id         starttime          stoptime    bikeid  tripduration  \\\n",
       "0         773  10/13/2014 17:28  10/13/2014 17:52  SEA00445      1438.596   \n",
       "1         774  10/13/2014 17:28  10/13/2014 17:52  SEA00050      1427.933   \n",
       "2         777  10/13/2014 17:30  10/13/2014 17:52  SEA00043      1329.031   \n",
       "3         780  10/13/2014 17:30  10/13/2014 17:52  SEA00263      1290.055   \n",
       "4         983   10/14/2014 9:12  10/14/2014 13:20  SEA00181     14885.176   \n",
       "...       ...               ...               ...       ...           ...   \n",
       "8248   255074   8/31/2016 12:08   8/31/2016 12:24  SEA00266       960.975   \n",
       "8249   255132   8/31/2016 16:38   8/31/2016 16:51  SEA00261       804.988   \n",
       "8250   255141   8/31/2016 17:03   8/31/2016 17:12  SEA00449       522.782   \n",
       "8251   255145   8/31/2016 17:09   8/31/2016 17:20  SEA00185       642.207   \n",
       "8252   255162   8/31/2016 17:44   8/31/2016 17:49  SEA00455       305.153   \n",
       "\n",
       "                    from_station_name  \\\n",
       "0     Pier 69 / Alaskan Way & Clay St   \n",
       "1     Pier 69 / Alaskan Way & Clay St   \n",
       "2     Pier 69 / Alaskan Way & Clay St   \n",
       "3     Pier 69 / Alaskan Way & Clay St   \n",
       "4     Pier 69 / Alaskan Way & Clay St   \n",
       "...                               ...   \n",
       "8248  Pier 69 / Alaskan Way & Clay St   \n",
       "8249  Pier 69 / Alaskan Way & Clay St   \n",
       "8250  Pier 69 / Alaskan Way & Clay St   \n",
       "8251  Pier 69 / Alaskan Way & Clay St   \n",
       "8252  Pier 69 / Alaskan Way & Clay St   \n",
       "\n",
       "                                        to_station_name from_station_id  \\\n",
       "0                                    3rd Ave & Broad St           WF-01   \n",
       "1                                    3rd Ave & Broad St           WF-01   \n",
       "2                                    3rd Ave & Broad St           WF-01   \n",
       "3                                    3rd Ave & Broad St           WF-01   \n",
       "4                       Pier 69 / Alaskan Way & Clay St           WF-01   \n",
       "...                                                 ...             ...   \n",
       "8248  Seattle Aquarium / Alaskan Way S & Elliott Bay...           WF-01   \n",
       "8249  King Street Station Plaza / 2nd Ave Extension ...           WF-01   \n",
       "8250  King Street Station Plaza / 2nd Ave Extension ...           WF-01   \n",
       "8251  King Street Station Plaza / 2nd Ave Extension ...           WF-01   \n",
       "8252  Seattle Aquarium / Alaskan Way S & Elliott Bay...           WF-01   \n",
       "\n",
       "     to_station_id                usertype gender  birthyear        date  \\\n",
       "0            BT-01  Short-Term Pass Holder    NaN        NaN  10/13/2014   \n",
       "1            BT-01  Short-Term Pass Holder    NaN        NaN  10/13/2014   \n",
       "2            BT-01  Short-Term Pass Holder    NaN        NaN  10/13/2014   \n",
       "3            BT-01  Short-Term Pass Holder    NaN        NaN  10/13/2014   \n",
       "4            WF-01  Short-Term Pass Holder    NaN        NaN  10/14/2014   \n",
       "...            ...                     ...    ...        ...         ...   \n",
       "8248         WF-04  Short-Term Pass Holder    NaN        NaN   8/31/2016   \n",
       "8249         PS-05                  Member   Male     1963.0   8/31/2016   \n",
       "8250         PS-05                  Member   Male     1980.0   8/31/2016   \n",
       "8251         PS-05                  Member   Male     1964.0   8/31/2016   \n",
       "8252         WF-04                  Member   Male     1982.0   8/31/2016   \n",
       "\n",
       "       time  \n",
       "0     17:28  \n",
       "1     17:28  \n",
       "2     17:30  \n",
       "3     17:30  \n",
       "4      9:12  \n",
       "...     ...  \n",
       "8248  12:08  \n",
       "8249  16:38  \n",
       "8250  17:03  \n",
       "8251  17:09  \n",
       "8252  17:44  \n",
       "\n",
       "[8253 rows x 14 columns]"
      ]
     },
     "execution_count": 104,
     "metadata": {},
     "output_type": "execute_result"
    }
   ],
   "source": [
    "df3"
   ]
  },
  {
   "cell_type": "code",
   "execution_count": 105,
   "id": "d54bc471",
   "metadata": {},
   "outputs": [],
   "source": [
    "df3['date'] = pd.to_datetime(df3['date'])"
   ]
  },
  {
   "cell_type": "code",
   "execution_count": 106,
   "id": "666b5534",
   "metadata": {},
   "outputs": [],
   "source": [
    "df3['hour'] = pd.to_datetime(df3['time']).dt.hour"
   ]
  },
  {
   "cell_type": "code",
   "execution_count": 107,
   "id": "beeb10f7",
   "metadata": {},
   "outputs": [],
   "source": [
    "df3['day'] = np.where((df3['date']).dt.dayofweek < 5, 'weekday','weekend')"
   ]
  },
  {
   "cell_type": "code",
   "execution_count": 108,
   "id": "0a3f5f7e",
   "metadata": {},
   "outputs": [],
   "source": [
    "bins = [4, 11, 17, 21]\n",
    "labels = ['morning','afternoon','night']\n",
    "df3['time_of_day'] = pd.cut(df3['hour'], bins=bins, labels=labels)"
   ]
  },
  {
   "cell_type": "code",
   "execution_count": 109,
   "id": "491eb0ee",
   "metadata": {},
   "outputs": [
    {
     "data": {
      "text/plain": [
       "['afternoon', 'morning', 'night', NaN]\n",
       "Categories (3, object): ['morning' < 'afternoon' < 'night']"
      ]
     },
     "execution_count": 109,
     "metadata": {},
     "output_type": "execute_result"
    }
   ],
   "source": [
    "df3['time_of_day'].unique()"
   ]
  },
  {
   "cell_type": "code",
   "execution_count": 110,
   "id": "20dc38f7",
   "metadata": {},
   "outputs": [],
   "source": [
    "df3['time_of_day'] = df3['time_of_day'].cat.add_categories('noon').fillna('noon')"
   ]
  },
  {
   "cell_type": "code",
   "execution_count": 111,
   "id": "58e1605e",
   "metadata": {},
   "outputs": [
    {
     "data": {
      "text/plain": [
       "trip_id                 0\n",
       "starttime               0\n",
       "stoptime                0\n",
       "bikeid                  0\n",
       "tripduration            0\n",
       "from_station_name       0\n",
       "to_station_name         0\n",
       "from_station_id         0\n",
       "to_station_id           0\n",
       "usertype                0\n",
       "gender               6080\n",
       "birthyear            6080\n",
       "date                    0\n",
       "time                    0\n",
       "hour                    0\n",
       "day                     0\n",
       "time_of_day             0\n",
       "dtype: int64"
      ]
     },
     "execution_count": 111,
     "metadata": {},
     "output_type": "execute_result"
    }
   ],
   "source": [
    "df3.isna().sum()"
   ]
  },
  {
   "cell_type": "code",
   "execution_count": 112,
   "id": "92764b80",
   "metadata": {},
   "outputs": [
    {
     "data": {
      "text/plain": [
       "Index(['trip_id', 'starttime', 'stoptime', 'bikeid', 'tripduration',\n",
       "       'from_station_name', 'to_station_name', 'from_station_id',\n",
       "       'to_station_id', 'usertype', 'gender', 'birthyear', 'date', 'time',\n",
       "       'hour', 'day', 'time_of_day'],\n",
       "      dtype='object')"
      ]
     },
     "execution_count": 112,
     "metadata": {},
     "output_type": "execute_result"
    }
   ],
   "source": [
    "df3.columns"
   ]
  },
  {
   "cell_type": "code",
   "execution_count": 208,
   "id": "30db6d0d",
   "metadata": {},
   "outputs": [],
   "source": [
    "df4 = pd.concat([df3['from_station_name'],df3['day'],df3['time_of_day'],df3['to_station_name']], axis=1)"
   ]
  },
  {
   "cell_type": "code",
   "execution_count": 209,
   "id": "b63403ed",
   "metadata": {},
   "outputs": [],
   "source": [
    "df4.replace({'from_station_name': name_dict, 'to_station_name':name_dict}, inplace=True)"
   ]
  },
  {
   "cell_type": "code",
   "execution_count": 212,
   "id": "04e705e9",
   "metadata": {},
   "outputs": [
    {
     "data": {
      "text/html": [
       "<div>\n",
       "<style scoped>\n",
       "    .dataframe tbody tr th:only-of-type {\n",
       "        vertical-align: middle;\n",
       "    }\n",
       "\n",
       "    .dataframe tbody tr th {\n",
       "        vertical-align: top;\n",
       "    }\n",
       "\n",
       "    .dataframe thead th {\n",
       "        text-align: right;\n",
       "    }\n",
       "</style>\n",
       "<table border=\"1\" class=\"dataframe\">\n",
       "  <thead>\n",
       "    <tr style=\"text-align: right;\">\n",
       "      <th></th>\n",
       "      <th>from_station_name</th>\n",
       "      <th>day</th>\n",
       "      <th>time_of_day</th>\n",
       "      <th>to_station_name</th>\n",
       "    </tr>\n",
       "  </thead>\n",
       "  <tbody>\n",
       "    <tr>\n",
       "      <th>0</th>\n",
       "      <td>Pier 69</td>\n",
       "      <td>weekday</td>\n",
       "      <td>afternoon</td>\n",
       "      <td>3rd Ave &amp; Broad St</td>\n",
       "    </tr>\n",
       "    <tr>\n",
       "      <th>1</th>\n",
       "      <td>Pier 69</td>\n",
       "      <td>weekday</td>\n",
       "      <td>afternoon</td>\n",
       "      <td>3rd Ave &amp; Broad St</td>\n",
       "    </tr>\n",
       "    <tr>\n",
       "      <th>2</th>\n",
       "      <td>Pier 69</td>\n",
       "      <td>weekday</td>\n",
       "      <td>afternoon</td>\n",
       "      <td>3rd Ave &amp; Broad St</td>\n",
       "    </tr>\n",
       "    <tr>\n",
       "      <th>3</th>\n",
       "      <td>Pier 69</td>\n",
       "      <td>weekday</td>\n",
       "      <td>afternoon</td>\n",
       "      <td>3rd Ave &amp; Broad St</td>\n",
       "    </tr>\n",
       "    <tr>\n",
       "      <th>4</th>\n",
       "      <td>Pier 69</td>\n",
       "      <td>weekday</td>\n",
       "      <td>morning</td>\n",
       "      <td>Pier 69</td>\n",
       "    </tr>\n",
       "    <tr>\n",
       "      <th>...</th>\n",
       "      <td>...</td>\n",
       "      <td>...</td>\n",
       "      <td>...</td>\n",
       "      <td>...</td>\n",
       "    </tr>\n",
       "    <tr>\n",
       "      <th>8248</th>\n",
       "      <td>Pier 69</td>\n",
       "      <td>weekday</td>\n",
       "      <td>afternoon</td>\n",
       "      <td>Seattle Aquarium</td>\n",
       "    </tr>\n",
       "    <tr>\n",
       "      <th>8249</th>\n",
       "      <td>Pier 69</td>\n",
       "      <td>weekday</td>\n",
       "      <td>afternoon</td>\n",
       "      <td>King Street Station Plaza</td>\n",
       "    </tr>\n",
       "    <tr>\n",
       "      <th>8250</th>\n",
       "      <td>Pier 69</td>\n",
       "      <td>weekday</td>\n",
       "      <td>afternoon</td>\n",
       "      <td>King Street Station Plaza</td>\n",
       "    </tr>\n",
       "    <tr>\n",
       "      <th>8251</th>\n",
       "      <td>Pier 69</td>\n",
       "      <td>weekday</td>\n",
       "      <td>afternoon</td>\n",
       "      <td>King Street Station Plaza</td>\n",
       "    </tr>\n",
       "    <tr>\n",
       "      <th>8252</th>\n",
       "      <td>Pier 69</td>\n",
       "      <td>weekday</td>\n",
       "      <td>afternoon</td>\n",
       "      <td>Seattle Aquarium</td>\n",
       "    </tr>\n",
       "  </tbody>\n",
       "</table>\n",
       "<p>8253 rows × 4 columns</p>\n",
       "</div>"
      ],
      "text/plain": [
       "     from_station_name      day time_of_day            to_station_name\n",
       "0              Pier 69  weekday   afternoon         3rd Ave & Broad St\n",
       "1              Pier 69  weekday   afternoon         3rd Ave & Broad St\n",
       "2              Pier 69  weekday   afternoon         3rd Ave & Broad St\n",
       "3              Pier 69  weekday   afternoon         3rd Ave & Broad St\n",
       "4              Pier 69  weekday     morning                    Pier 69\n",
       "...                ...      ...         ...                        ...\n",
       "8248           Pier 69  weekday   afternoon           Seattle Aquarium\n",
       "8249           Pier 69  weekday   afternoon  King Street Station Plaza\n",
       "8250           Pier 69  weekday   afternoon  King Street Station Plaza\n",
       "8251           Pier 69  weekday   afternoon  King Street Station Plaza\n",
       "8252           Pier 69  weekday   afternoon           Seattle Aquarium\n",
       "\n",
       "[8253 rows x 4 columns]"
      ]
     },
     "execution_count": 212,
     "metadata": {},
     "output_type": "execute_result"
    }
   ],
   "source": [
    "df4"
   ]
  },
  {
   "cell_type": "code",
   "execution_count": 116,
   "id": "43404c74",
   "metadata": {},
   "outputs": [],
   "source": [
    "df5 = df4.groupby(['from_station_name', 'day','time_of_day','to_station_name']).size().reset_index(name='count')"
   ]
  },
  {
   "cell_type": "code",
   "execution_count": 117,
   "id": "b76ce6e8",
   "metadata": {},
   "outputs": [
    {
     "data": {
      "text/html": [
       "<div>\n",
       "<style scoped>\n",
       "    .dataframe tbody tr th:only-of-type {\n",
       "        vertical-align: middle;\n",
       "    }\n",
       "\n",
       "    .dataframe tbody tr th {\n",
       "        vertical-align: top;\n",
       "    }\n",
       "\n",
       "    .dataframe thead th {\n",
       "        text-align: right;\n",
       "    }\n",
       "</style>\n",
       "<table border=\"1\" class=\"dataframe\">\n",
       "  <thead>\n",
       "    <tr style=\"text-align: right;\">\n",
       "      <th></th>\n",
       "      <th>from_station_name</th>\n",
       "      <th>day</th>\n",
       "      <th>time_of_day</th>\n",
       "      <th>to_station_name</th>\n",
       "      <th>count</th>\n",
       "    </tr>\n",
       "  </thead>\n",
       "  <tbody>\n",
       "    <tr>\n",
       "      <th>0</th>\n",
       "      <td>Pier 69</td>\n",
       "      <td>weekday</td>\n",
       "      <td>morning</td>\n",
       "      <td>2nd Ave &amp; Pine St</td>\n",
       "      <td>27</td>\n",
       "    </tr>\n",
       "    <tr>\n",
       "      <th>1</th>\n",
       "      <td>Pier 69</td>\n",
       "      <td>weekday</td>\n",
       "      <td>morning</td>\n",
       "      <td>3rd Ave &amp; Broad St</td>\n",
       "      <td>45</td>\n",
       "    </tr>\n",
       "    <tr>\n",
       "      <th>2</th>\n",
       "      <td>Pier 69</td>\n",
       "      <td>weekday</td>\n",
       "      <td>morning</td>\n",
       "      <td>Burke-Gilman Trail</td>\n",
       "      <td>0</td>\n",
       "    </tr>\n",
       "    <tr>\n",
       "      <th>3</th>\n",
       "      <td>Pier 69</td>\n",
       "      <td>weekday</td>\n",
       "      <td>morning</td>\n",
       "      <td>E Pine St &amp; 16th Ave</td>\n",
       "      <td>0</td>\n",
       "    </tr>\n",
       "    <tr>\n",
       "      <th>4</th>\n",
       "      <td>Pier 69</td>\n",
       "      <td>weekday</td>\n",
       "      <td>morning</td>\n",
       "      <td>King Street Station Plaza</td>\n",
       "      <td>19</td>\n",
       "    </tr>\n",
       "    <tr>\n",
       "      <th>...</th>\n",
       "      <td>...</td>\n",
       "      <td>...</td>\n",
       "      <td>...</td>\n",
       "      <td>...</td>\n",
       "      <td>...</td>\n",
       "    </tr>\n",
       "    <tr>\n",
       "      <th>67</th>\n",
       "      <td>Pier 69</td>\n",
       "      <td>weekend</td>\n",
       "      <td>noon</td>\n",
       "      <td>King Street Station Plaza</td>\n",
       "      <td>0</td>\n",
       "    </tr>\n",
       "    <tr>\n",
       "      <th>68</th>\n",
       "      <td>Pier 69</td>\n",
       "      <td>weekend</td>\n",
       "      <td>noon</td>\n",
       "      <td>Lake Union Park</td>\n",
       "      <td>0</td>\n",
       "    </tr>\n",
       "    <tr>\n",
       "      <th>69</th>\n",
       "      <td>Pier 69</td>\n",
       "      <td>weekend</td>\n",
       "      <td>noon</td>\n",
       "      <td>Pier 69</td>\n",
       "      <td>37</td>\n",
       "    </tr>\n",
       "    <tr>\n",
       "      <th>70</th>\n",
       "      <td>Pier 69</td>\n",
       "      <td>weekend</td>\n",
       "      <td>noon</td>\n",
       "      <td>Pine St &amp; 9th Ave</td>\n",
       "      <td>1</td>\n",
       "    </tr>\n",
       "    <tr>\n",
       "      <th>71</th>\n",
       "      <td>Pier 69</td>\n",
       "      <td>weekend</td>\n",
       "      <td>noon</td>\n",
       "      <td>Seattle Aquarium</td>\n",
       "      <td>16</td>\n",
       "    </tr>\n",
       "  </tbody>\n",
       "</table>\n",
       "<p>72 rows × 5 columns</p>\n",
       "</div>"
      ],
      "text/plain": [
       "   from_station_name      day time_of_day            to_station_name  count\n",
       "0            Pier 69  weekday     morning          2nd Ave & Pine St     27\n",
       "1            Pier 69  weekday     morning         3rd Ave & Broad St     45\n",
       "2            Pier 69  weekday     morning         Burke-Gilman Trail      0\n",
       "3            Pier 69  weekday     morning       E Pine St & 16th Ave      0\n",
       "4            Pier 69  weekday     morning  King Street Station Plaza     19\n",
       "..               ...      ...         ...                        ...    ...\n",
       "67           Pier 69  weekend        noon  King Street Station Plaza      0\n",
       "68           Pier 69  weekend        noon            Lake Union Park      0\n",
       "69           Pier 69  weekend        noon                    Pier 69     37\n",
       "70           Pier 69  weekend        noon          Pine St & 9th Ave      1\n",
       "71           Pier 69  weekend        noon           Seattle Aquarium     16\n",
       "\n",
       "[72 rows x 5 columns]"
      ]
     },
     "execution_count": 117,
     "metadata": {},
     "output_type": "execute_result"
    }
   ],
   "source": [
    "df5"
   ]
  },
  {
   "cell_type": "code",
   "execution_count": 156,
   "id": "9e21715d",
   "metadata": {},
   "outputs": [],
   "source": [
    "teste= df2.groupby(['from_station_name','to_station_name']).size().reset_index(name='count')"
   ]
  },
  {
   "cell_type": "code",
   "execution_count": 157,
   "id": "aed2a56b",
   "metadata": {
    "scrolled": true
   },
   "outputs": [],
   "source": [
    "teste.replace({'from_station_name': name_dict, 'to_station_name':name_dict}, inplace=True)"
   ]
  },
  {
   "cell_type": "code",
   "execution_count": 167,
   "id": "21250c7c",
   "metadata": {},
   "outputs": [
    {
     "data": {
      "text/plain": [
       "array(['2nd Ave & Pine St', '3rd Ave & Broad St', 'Burke-Gilman Trail',\n",
       "       'E Pine St & 16th Ave', 'King Street Station Plaza',\n",
       "       'Lake Union Park', 'Pier 69', 'Pine St & 9th Ave',\n",
       "       'Seattle Aquarium'], dtype=object)"
      ]
     },
     "execution_count": 167,
     "metadata": {},
     "output_type": "execute_result"
    }
   ],
   "source": [
    "teste['to_station_name'].unique()"
   ]
  },
  {
   "cell_type": "code",
   "execution_count": 168,
   "id": "aad87fff",
   "metadata": {},
   "outputs": [],
   "source": [
    "teste['to_station_name'] = teste['to_station_name'].astype('category')\n",
    "teste['to_station_cat'] = teste['to_station_name'].cat.codes"
   ]
  },
  {
   "cell_type": "code",
   "execution_count": 170,
   "id": "336876ec",
   "metadata": {},
   "outputs": [],
   "source": [
    "teste['from_station_cat'] = 6"
   ]
  },
  {
   "cell_type": "code",
   "execution_count": 171,
   "id": "42497ff8",
   "metadata": {},
   "outputs": [
    {
     "data": {
      "text/html": [
       "<div>\n",
       "<style scoped>\n",
       "    .dataframe tbody tr th:only-of-type {\n",
       "        vertical-align: middle;\n",
       "    }\n",
       "\n",
       "    .dataframe tbody tr th {\n",
       "        vertical-align: top;\n",
       "    }\n",
       "\n",
       "    .dataframe thead th {\n",
       "        text-align: right;\n",
       "    }\n",
       "</style>\n",
       "<table border=\"1\" class=\"dataframe\">\n",
       "  <thead>\n",
       "    <tr style=\"text-align: right;\">\n",
       "      <th></th>\n",
       "      <th>from_station_name</th>\n",
       "      <th>to_station_name</th>\n",
       "      <th>count</th>\n",
       "      <th>to_station_cat</th>\n",
       "      <th>from_station_cat</th>\n",
       "    </tr>\n",
       "  </thead>\n",
       "  <tbody>\n",
       "    <tr>\n",
       "      <th>0</th>\n",
       "      <td>Pier 69</td>\n",
       "      <td>2nd Ave &amp; Pine St</td>\n",
       "      <td>310</td>\n",
       "      <td>0</td>\n",
       "      <td>6</td>\n",
       "    </tr>\n",
       "    <tr>\n",
       "      <th>1</th>\n",
       "      <td>Pier 69</td>\n",
       "      <td>3rd Ave &amp; Broad St</td>\n",
       "      <td>347</td>\n",
       "      <td>1</td>\n",
       "      <td>6</td>\n",
       "    </tr>\n",
       "    <tr>\n",
       "      <th>2</th>\n",
       "      <td>Pier 69</td>\n",
       "      <td>Burke-Gilman Trail</td>\n",
       "      <td>4</td>\n",
       "      <td>2</td>\n",
       "      <td>6</td>\n",
       "    </tr>\n",
       "    <tr>\n",
       "      <th>3</th>\n",
       "      <td>Pier 69</td>\n",
       "      <td>E Pine St &amp; 16th Ave</td>\n",
       "      <td>3</td>\n",
       "      <td>3</td>\n",
       "      <td>6</td>\n",
       "    </tr>\n",
       "    <tr>\n",
       "      <th>4</th>\n",
       "      <td>Pier 69</td>\n",
       "      <td>King Street Station Plaza</td>\n",
       "      <td>962</td>\n",
       "      <td>4</td>\n",
       "      <td>6</td>\n",
       "    </tr>\n",
       "    <tr>\n",
       "      <th>5</th>\n",
       "      <td>Pier 69</td>\n",
       "      <td>Lake Union Park</td>\n",
       "      <td>75</td>\n",
       "      <td>5</td>\n",
       "      <td>6</td>\n",
       "    </tr>\n",
       "    <tr>\n",
       "      <th>6</th>\n",
       "      <td>Pier 69</td>\n",
       "      <td>Pier 69</td>\n",
       "      <td>4209</td>\n",
       "      <td>6</td>\n",
       "      <td>6</td>\n",
       "    </tr>\n",
       "    <tr>\n",
       "      <th>7</th>\n",
       "      <td>Pier 69</td>\n",
       "      <td>Pine St &amp; 9th Ave</td>\n",
       "      <td>52</td>\n",
       "      <td>7</td>\n",
       "      <td>6</td>\n",
       "    </tr>\n",
       "    <tr>\n",
       "      <th>8</th>\n",
       "      <td>Pier 69</td>\n",
       "      <td>Seattle Aquarium</td>\n",
       "      <td>2291</td>\n",
       "      <td>8</td>\n",
       "      <td>6</td>\n",
       "    </tr>\n",
       "  </tbody>\n",
       "</table>\n",
       "</div>"
      ],
      "text/plain": [
       "  from_station_name            to_station_name  count  to_station_cat  \\\n",
       "0           Pier 69          2nd Ave & Pine St    310               0   \n",
       "1           Pier 69         3rd Ave & Broad St    347               1   \n",
       "2           Pier 69         Burke-Gilman Trail      4               2   \n",
       "3           Pier 69       E Pine St & 16th Ave      3               3   \n",
       "4           Pier 69  King Street Station Plaza    962               4   \n",
       "5           Pier 69            Lake Union Park     75               5   \n",
       "6           Pier 69                    Pier 69   4209               6   \n",
       "7           Pier 69          Pine St & 9th Ave     52               7   \n",
       "8           Pier 69           Seattle Aquarium   2291               8   \n",
       "\n",
       "   from_station_cat  \n",
       "0                 6  \n",
       "1                 6  \n",
       "2                 6  \n",
       "3                 6  \n",
       "4                 6  \n",
       "5                 6  \n",
       "6                 6  \n",
       "7                 6  \n",
       "8                 6  "
      ]
     },
     "execution_count": 171,
     "metadata": {},
     "output_type": "execute_result"
    }
   ],
   "source": [
    "teste"
   ]
  },
  {
   "cell_type": "code",
   "execution_count": 174,
   "id": "ef48e4dc",
   "metadata": {},
   "outputs": [
    {
     "data": {
      "text/html": [
       "        <script type=\"text/javascript\">\n",
       "        window.PlotlyConfig = {MathJaxConfig: 'local'};\n",
       "        if (window.MathJax) {MathJax.Hub.Config({SVG: {font: \"STIX-Web\"}});}\n",
       "        if (typeof require !== 'undefined') {\n",
       "        require.undef(\"plotly\");\n",
       "        requirejs.config({\n",
       "            paths: {\n",
       "                'plotly': ['https://cdn.plot.ly/plotly-2.6.3.min']\n",
       "            }\n",
       "        });\n",
       "        require(['plotly'], function(Plotly) {\n",
       "            window._Plotly = Plotly;\n",
       "        });\n",
       "        }\n",
       "        </script>\n",
       "        "
      ]
     },
     "metadata": {},
     "output_type": "display_data"
    },
    {
     "data": {
      "application/vnd.plotly.v1+json": {
       "config": {
        "linkText": "Export to plot.ly",
        "plotlyServerURL": "https://plot.ly",
        "showLink": false
       },
       "data": [
        {
         "link": {
          "source": [
           6,
           6,
           6,
           6,
           6,
           6,
           6,
           6,
           6
          ],
          "target": [
           0,
           1,
           2,
           3,
           4,
           5,
           6,
           7,
           8
          ],
          "value": [
           310,
           347,
           4,
           3,
           962,
           75,
           4209,
           52,
           2291
          ]
         },
         "node": {
          "label": [
           "2nd Ave & Pine St",
           "3rd Ave & Broad St",
           "Burke-Gilman Trail",
           "E Pine St & 16th Ave",
           "King Street Station Plaza",
           "Lake Union Park",
           "Pier 69",
           "Pine St & 9th Ave",
           "Seattle Aquarium"
          ]
         },
         "type": "sankey"
        }
       ],
       "layout": {
        "template": {
         "data": {
          "bar": [
           {
            "error_x": {
             "color": "#2a3f5f"
            },
            "error_y": {
             "color": "#2a3f5f"
            },
            "marker": {
             "line": {
              "color": "#E5ECF6",
              "width": 0.5
             },
             "pattern": {
              "fillmode": "overlay",
              "size": 10,
              "solidity": 0.2
             }
            },
            "type": "bar"
           }
          ],
          "barpolar": [
           {
            "marker": {
             "line": {
              "color": "#E5ECF6",
              "width": 0.5
             },
             "pattern": {
              "fillmode": "overlay",
              "size": 10,
              "solidity": 0.2
             }
            },
            "type": "barpolar"
           }
          ],
          "carpet": [
           {
            "aaxis": {
             "endlinecolor": "#2a3f5f",
             "gridcolor": "white",
             "linecolor": "white",
             "minorgridcolor": "white",
             "startlinecolor": "#2a3f5f"
            },
            "baxis": {
             "endlinecolor": "#2a3f5f",
             "gridcolor": "white",
             "linecolor": "white",
             "minorgridcolor": "white",
             "startlinecolor": "#2a3f5f"
            },
            "type": "carpet"
           }
          ],
          "choropleth": [
           {
            "colorbar": {
             "outlinewidth": 0,
             "ticks": ""
            },
            "type": "choropleth"
           }
          ],
          "contour": [
           {
            "colorbar": {
             "outlinewidth": 0,
             "ticks": ""
            },
            "colorscale": [
             [
              0,
              "#0d0887"
             ],
             [
              0.1111111111111111,
              "#46039f"
             ],
             [
              0.2222222222222222,
              "#7201a8"
             ],
             [
              0.3333333333333333,
              "#9c179e"
             ],
             [
              0.4444444444444444,
              "#bd3786"
             ],
             [
              0.5555555555555556,
              "#d8576b"
             ],
             [
              0.6666666666666666,
              "#ed7953"
             ],
             [
              0.7777777777777778,
              "#fb9f3a"
             ],
             [
              0.8888888888888888,
              "#fdca26"
             ],
             [
              1,
              "#f0f921"
             ]
            ],
            "type": "contour"
           }
          ],
          "contourcarpet": [
           {
            "colorbar": {
             "outlinewidth": 0,
             "ticks": ""
            },
            "type": "contourcarpet"
           }
          ],
          "heatmap": [
           {
            "colorbar": {
             "outlinewidth": 0,
             "ticks": ""
            },
            "colorscale": [
             [
              0,
              "#0d0887"
             ],
             [
              0.1111111111111111,
              "#46039f"
             ],
             [
              0.2222222222222222,
              "#7201a8"
             ],
             [
              0.3333333333333333,
              "#9c179e"
             ],
             [
              0.4444444444444444,
              "#bd3786"
             ],
             [
              0.5555555555555556,
              "#d8576b"
             ],
             [
              0.6666666666666666,
              "#ed7953"
             ],
             [
              0.7777777777777778,
              "#fb9f3a"
             ],
             [
              0.8888888888888888,
              "#fdca26"
             ],
             [
              1,
              "#f0f921"
             ]
            ],
            "type": "heatmap"
           }
          ],
          "heatmapgl": [
           {
            "colorbar": {
             "outlinewidth": 0,
             "ticks": ""
            },
            "colorscale": [
             [
              0,
              "#0d0887"
             ],
             [
              0.1111111111111111,
              "#46039f"
             ],
             [
              0.2222222222222222,
              "#7201a8"
             ],
             [
              0.3333333333333333,
              "#9c179e"
             ],
             [
              0.4444444444444444,
              "#bd3786"
             ],
             [
              0.5555555555555556,
              "#d8576b"
             ],
             [
              0.6666666666666666,
              "#ed7953"
             ],
             [
              0.7777777777777778,
              "#fb9f3a"
             ],
             [
              0.8888888888888888,
              "#fdca26"
             ],
             [
              1,
              "#f0f921"
             ]
            ],
            "type": "heatmapgl"
           }
          ],
          "histogram": [
           {
            "marker": {
             "pattern": {
              "fillmode": "overlay",
              "size": 10,
              "solidity": 0.2
             }
            },
            "type": "histogram"
           }
          ],
          "histogram2d": [
           {
            "colorbar": {
             "outlinewidth": 0,
             "ticks": ""
            },
            "colorscale": [
             [
              0,
              "#0d0887"
             ],
             [
              0.1111111111111111,
              "#46039f"
             ],
             [
              0.2222222222222222,
              "#7201a8"
             ],
             [
              0.3333333333333333,
              "#9c179e"
             ],
             [
              0.4444444444444444,
              "#bd3786"
             ],
             [
              0.5555555555555556,
              "#d8576b"
             ],
             [
              0.6666666666666666,
              "#ed7953"
             ],
             [
              0.7777777777777778,
              "#fb9f3a"
             ],
             [
              0.8888888888888888,
              "#fdca26"
             ],
             [
              1,
              "#f0f921"
             ]
            ],
            "type": "histogram2d"
           }
          ],
          "histogram2dcontour": [
           {
            "colorbar": {
             "outlinewidth": 0,
             "ticks": ""
            },
            "colorscale": [
             [
              0,
              "#0d0887"
             ],
             [
              0.1111111111111111,
              "#46039f"
             ],
             [
              0.2222222222222222,
              "#7201a8"
             ],
             [
              0.3333333333333333,
              "#9c179e"
             ],
             [
              0.4444444444444444,
              "#bd3786"
             ],
             [
              0.5555555555555556,
              "#d8576b"
             ],
             [
              0.6666666666666666,
              "#ed7953"
             ],
             [
              0.7777777777777778,
              "#fb9f3a"
             ],
             [
              0.8888888888888888,
              "#fdca26"
             ],
             [
              1,
              "#f0f921"
             ]
            ],
            "type": "histogram2dcontour"
           }
          ],
          "mesh3d": [
           {
            "colorbar": {
             "outlinewidth": 0,
             "ticks": ""
            },
            "type": "mesh3d"
           }
          ],
          "parcoords": [
           {
            "line": {
             "colorbar": {
              "outlinewidth": 0,
              "ticks": ""
             }
            },
            "type": "parcoords"
           }
          ],
          "pie": [
           {
            "automargin": true,
            "type": "pie"
           }
          ],
          "scatter": [
           {
            "marker": {
             "colorbar": {
              "outlinewidth": 0,
              "ticks": ""
             }
            },
            "type": "scatter"
           }
          ],
          "scatter3d": [
           {
            "line": {
             "colorbar": {
              "outlinewidth": 0,
              "ticks": ""
             }
            },
            "marker": {
             "colorbar": {
              "outlinewidth": 0,
              "ticks": ""
             }
            },
            "type": "scatter3d"
           }
          ],
          "scattercarpet": [
           {
            "marker": {
             "colorbar": {
              "outlinewidth": 0,
              "ticks": ""
             }
            },
            "type": "scattercarpet"
           }
          ],
          "scattergeo": [
           {
            "marker": {
             "colorbar": {
              "outlinewidth": 0,
              "ticks": ""
             }
            },
            "type": "scattergeo"
           }
          ],
          "scattergl": [
           {
            "marker": {
             "colorbar": {
              "outlinewidth": 0,
              "ticks": ""
             }
            },
            "type": "scattergl"
           }
          ],
          "scattermapbox": [
           {
            "marker": {
             "colorbar": {
              "outlinewidth": 0,
              "ticks": ""
             }
            },
            "type": "scattermapbox"
           }
          ],
          "scatterpolar": [
           {
            "marker": {
             "colorbar": {
              "outlinewidth": 0,
              "ticks": ""
             }
            },
            "type": "scatterpolar"
           }
          ],
          "scatterpolargl": [
           {
            "marker": {
             "colorbar": {
              "outlinewidth": 0,
              "ticks": ""
             }
            },
            "type": "scatterpolargl"
           }
          ],
          "scatterternary": [
           {
            "marker": {
             "colorbar": {
              "outlinewidth": 0,
              "ticks": ""
             }
            },
            "type": "scatterternary"
           }
          ],
          "surface": [
           {
            "colorbar": {
             "outlinewidth": 0,
             "ticks": ""
            },
            "colorscale": [
             [
              0,
              "#0d0887"
             ],
             [
              0.1111111111111111,
              "#46039f"
             ],
             [
              0.2222222222222222,
              "#7201a8"
             ],
             [
              0.3333333333333333,
              "#9c179e"
             ],
             [
              0.4444444444444444,
              "#bd3786"
             ],
             [
              0.5555555555555556,
              "#d8576b"
             ],
             [
              0.6666666666666666,
              "#ed7953"
             ],
             [
              0.7777777777777778,
              "#fb9f3a"
             ],
             [
              0.8888888888888888,
              "#fdca26"
             ],
             [
              1,
              "#f0f921"
             ]
            ],
            "type": "surface"
           }
          ],
          "table": [
           {
            "cells": {
             "fill": {
              "color": "#EBF0F8"
             },
             "line": {
              "color": "white"
             }
            },
            "header": {
             "fill": {
              "color": "#C8D4E3"
             },
             "line": {
              "color": "white"
             }
            },
            "type": "table"
           }
          ]
         },
         "layout": {
          "annotationdefaults": {
           "arrowcolor": "#2a3f5f",
           "arrowhead": 0,
           "arrowwidth": 1
          },
          "autotypenumbers": "strict",
          "coloraxis": {
           "colorbar": {
            "outlinewidth": 0,
            "ticks": ""
           }
          },
          "colorscale": {
           "diverging": [
            [
             0,
             "#8e0152"
            ],
            [
             0.1,
             "#c51b7d"
            ],
            [
             0.2,
             "#de77ae"
            ],
            [
             0.3,
             "#f1b6da"
            ],
            [
             0.4,
             "#fde0ef"
            ],
            [
             0.5,
             "#f7f7f7"
            ],
            [
             0.6,
             "#e6f5d0"
            ],
            [
             0.7,
             "#b8e186"
            ],
            [
             0.8,
             "#7fbc41"
            ],
            [
             0.9,
             "#4d9221"
            ],
            [
             1,
             "#276419"
            ]
           ],
           "sequential": [
            [
             0,
             "#0d0887"
            ],
            [
             0.1111111111111111,
             "#46039f"
            ],
            [
             0.2222222222222222,
             "#7201a8"
            ],
            [
             0.3333333333333333,
             "#9c179e"
            ],
            [
             0.4444444444444444,
             "#bd3786"
            ],
            [
             0.5555555555555556,
             "#d8576b"
            ],
            [
             0.6666666666666666,
             "#ed7953"
            ],
            [
             0.7777777777777778,
             "#fb9f3a"
            ],
            [
             0.8888888888888888,
             "#fdca26"
            ],
            [
             1,
             "#f0f921"
            ]
           ],
           "sequentialminus": [
            [
             0,
             "#0d0887"
            ],
            [
             0.1111111111111111,
             "#46039f"
            ],
            [
             0.2222222222222222,
             "#7201a8"
            ],
            [
             0.3333333333333333,
             "#9c179e"
            ],
            [
             0.4444444444444444,
             "#bd3786"
            ],
            [
             0.5555555555555556,
             "#d8576b"
            ],
            [
             0.6666666666666666,
             "#ed7953"
            ],
            [
             0.7777777777777778,
             "#fb9f3a"
            ],
            [
             0.8888888888888888,
             "#fdca26"
            ],
            [
             1,
             "#f0f921"
            ]
           ]
          },
          "colorway": [
           "#636efa",
           "#EF553B",
           "#00cc96",
           "#ab63fa",
           "#FFA15A",
           "#19d3f3",
           "#FF6692",
           "#B6E880",
           "#FF97FF",
           "#FECB52"
          ],
          "font": {
           "color": "#2a3f5f"
          },
          "geo": {
           "bgcolor": "white",
           "lakecolor": "white",
           "landcolor": "#E5ECF6",
           "showlakes": true,
           "showland": true,
           "subunitcolor": "white"
          },
          "hoverlabel": {
           "align": "left"
          },
          "hovermode": "closest",
          "mapbox": {
           "style": "light"
          },
          "paper_bgcolor": "white",
          "plot_bgcolor": "#E5ECF6",
          "polar": {
           "angularaxis": {
            "gridcolor": "white",
            "linecolor": "white",
            "ticks": ""
           },
           "bgcolor": "#E5ECF6",
           "radialaxis": {
            "gridcolor": "white",
            "linecolor": "white",
            "ticks": ""
           }
          },
          "scene": {
           "xaxis": {
            "backgroundcolor": "#E5ECF6",
            "gridcolor": "white",
            "gridwidth": 2,
            "linecolor": "white",
            "showbackground": true,
            "ticks": "",
            "zerolinecolor": "white"
           },
           "yaxis": {
            "backgroundcolor": "#E5ECF6",
            "gridcolor": "white",
            "gridwidth": 2,
            "linecolor": "white",
            "showbackground": true,
            "ticks": "",
            "zerolinecolor": "white"
           },
           "zaxis": {
            "backgroundcolor": "#E5ECF6",
            "gridcolor": "white",
            "gridwidth": 2,
            "linecolor": "white",
            "showbackground": true,
            "ticks": "",
            "zerolinecolor": "white"
           }
          },
          "shapedefaults": {
           "line": {
            "color": "#2a3f5f"
           }
          },
          "ternary": {
           "aaxis": {
            "gridcolor": "white",
            "linecolor": "white",
            "ticks": ""
           },
           "baxis": {
            "gridcolor": "white",
            "linecolor": "white",
            "ticks": ""
           },
           "bgcolor": "#E5ECF6",
           "caxis": {
            "gridcolor": "white",
            "linecolor": "white",
            "ticks": ""
           }
          },
          "title": {
           "x": 0.05
          },
          "xaxis": {
           "automargin": true,
           "gridcolor": "white",
           "linecolor": "white",
           "ticks": "",
           "title": {
            "standoff": 15
           },
           "zerolinecolor": "white",
           "zerolinewidth": 2
          },
          "yaxis": {
           "automargin": true,
           "gridcolor": "white",
           "linecolor": "white",
           "ticks": "",
           "title": {
            "standoff": 15
           },
           "zerolinecolor": "white",
           "zerolinewidth": 2
          }
         }
        }
       }
      },
      "text/html": [
       "<div>                            <div id=\"cea86208-348e-4e08-bd5c-c96641c6e5ff\" class=\"plotly-graph-div\" style=\"height:525px; width:100%;\"></div>            <script type=\"text/javascript\">                require([\"plotly\"], function(Plotly) {                    window.PLOTLYENV=window.PLOTLYENV || {};                                    if (document.getElementById(\"cea86208-348e-4e08-bd5c-c96641c6e5ff\")) {                    Plotly.newPlot(                        \"cea86208-348e-4e08-bd5c-c96641c6e5ff\",                        [{\"link\":{\"source\":[6,6,6,6,6,6,6,6,6],\"target\":[0,1,2,3,4,5,6,7,8],\"value\":[310,347,4,3,962,75,4209,52,2291]},\"node\":{\"label\":[\"2nd Ave & Pine St\",\"3rd Ave & Broad St\",\"Burke-Gilman Trail\",\"E Pine St & 16th Ave\",\"King Street Station Plaza\",\"Lake Union Park\",\"Pier 69\",\"Pine St & 9th Ave\",\"Seattle Aquarium\"]},\"type\":\"sankey\"}],                        {\"template\":{\"data\":{\"barpolar\":[{\"marker\":{\"line\":{\"color\":\"#E5ECF6\",\"width\":0.5},\"pattern\":{\"fillmode\":\"overlay\",\"size\":10,\"solidity\":0.2}},\"type\":\"barpolar\"}],\"bar\":[{\"error_x\":{\"color\":\"#2a3f5f\"},\"error_y\":{\"color\":\"#2a3f5f\"},\"marker\":{\"line\":{\"color\":\"#E5ECF6\",\"width\":0.5},\"pattern\":{\"fillmode\":\"overlay\",\"size\":10,\"solidity\":0.2}},\"type\":\"bar\"}],\"carpet\":[{\"aaxis\":{\"endlinecolor\":\"#2a3f5f\",\"gridcolor\":\"white\",\"linecolor\":\"white\",\"minorgridcolor\":\"white\",\"startlinecolor\":\"#2a3f5f\"},\"baxis\":{\"endlinecolor\":\"#2a3f5f\",\"gridcolor\":\"white\",\"linecolor\":\"white\",\"minorgridcolor\":\"white\",\"startlinecolor\":\"#2a3f5f\"},\"type\":\"carpet\"}],\"choropleth\":[{\"colorbar\":{\"outlinewidth\":0,\"ticks\":\"\"},\"type\":\"choropleth\"}],\"contourcarpet\":[{\"colorbar\":{\"outlinewidth\":0,\"ticks\":\"\"},\"type\":\"contourcarpet\"}],\"contour\":[{\"colorbar\":{\"outlinewidth\":0,\"ticks\":\"\"},\"colorscale\":[[0.0,\"#0d0887\"],[0.1111111111111111,\"#46039f\"],[0.2222222222222222,\"#7201a8\"],[0.3333333333333333,\"#9c179e\"],[0.4444444444444444,\"#bd3786\"],[0.5555555555555556,\"#d8576b\"],[0.6666666666666666,\"#ed7953\"],[0.7777777777777778,\"#fb9f3a\"],[0.8888888888888888,\"#fdca26\"],[1.0,\"#f0f921\"]],\"type\":\"contour\"}],\"heatmapgl\":[{\"colorbar\":{\"outlinewidth\":0,\"ticks\":\"\"},\"colorscale\":[[0.0,\"#0d0887\"],[0.1111111111111111,\"#46039f\"],[0.2222222222222222,\"#7201a8\"],[0.3333333333333333,\"#9c179e\"],[0.4444444444444444,\"#bd3786\"],[0.5555555555555556,\"#d8576b\"],[0.6666666666666666,\"#ed7953\"],[0.7777777777777778,\"#fb9f3a\"],[0.8888888888888888,\"#fdca26\"],[1.0,\"#f0f921\"]],\"type\":\"heatmapgl\"}],\"heatmap\":[{\"colorbar\":{\"outlinewidth\":0,\"ticks\":\"\"},\"colorscale\":[[0.0,\"#0d0887\"],[0.1111111111111111,\"#46039f\"],[0.2222222222222222,\"#7201a8\"],[0.3333333333333333,\"#9c179e\"],[0.4444444444444444,\"#bd3786\"],[0.5555555555555556,\"#d8576b\"],[0.6666666666666666,\"#ed7953\"],[0.7777777777777778,\"#fb9f3a\"],[0.8888888888888888,\"#fdca26\"],[1.0,\"#f0f921\"]],\"type\":\"heatmap\"}],\"histogram2dcontour\":[{\"colorbar\":{\"outlinewidth\":0,\"ticks\":\"\"},\"colorscale\":[[0.0,\"#0d0887\"],[0.1111111111111111,\"#46039f\"],[0.2222222222222222,\"#7201a8\"],[0.3333333333333333,\"#9c179e\"],[0.4444444444444444,\"#bd3786\"],[0.5555555555555556,\"#d8576b\"],[0.6666666666666666,\"#ed7953\"],[0.7777777777777778,\"#fb9f3a\"],[0.8888888888888888,\"#fdca26\"],[1.0,\"#f0f921\"]],\"type\":\"histogram2dcontour\"}],\"histogram2d\":[{\"colorbar\":{\"outlinewidth\":0,\"ticks\":\"\"},\"colorscale\":[[0.0,\"#0d0887\"],[0.1111111111111111,\"#46039f\"],[0.2222222222222222,\"#7201a8\"],[0.3333333333333333,\"#9c179e\"],[0.4444444444444444,\"#bd3786\"],[0.5555555555555556,\"#d8576b\"],[0.6666666666666666,\"#ed7953\"],[0.7777777777777778,\"#fb9f3a\"],[0.8888888888888888,\"#fdca26\"],[1.0,\"#f0f921\"]],\"type\":\"histogram2d\"}],\"histogram\":[{\"marker\":{\"pattern\":{\"fillmode\":\"overlay\",\"size\":10,\"solidity\":0.2}},\"type\":\"histogram\"}],\"mesh3d\":[{\"colorbar\":{\"outlinewidth\":0,\"ticks\":\"\"},\"type\":\"mesh3d\"}],\"parcoords\":[{\"line\":{\"colorbar\":{\"outlinewidth\":0,\"ticks\":\"\"}},\"type\":\"parcoords\"}],\"pie\":[{\"automargin\":true,\"type\":\"pie\"}],\"scatter3d\":[{\"line\":{\"colorbar\":{\"outlinewidth\":0,\"ticks\":\"\"}},\"marker\":{\"colorbar\":{\"outlinewidth\":0,\"ticks\":\"\"}},\"type\":\"scatter3d\"}],\"scattercarpet\":[{\"marker\":{\"colorbar\":{\"outlinewidth\":0,\"ticks\":\"\"}},\"type\":\"scattercarpet\"}],\"scattergeo\":[{\"marker\":{\"colorbar\":{\"outlinewidth\":0,\"ticks\":\"\"}},\"type\":\"scattergeo\"}],\"scattergl\":[{\"marker\":{\"colorbar\":{\"outlinewidth\":0,\"ticks\":\"\"}},\"type\":\"scattergl\"}],\"scattermapbox\":[{\"marker\":{\"colorbar\":{\"outlinewidth\":0,\"ticks\":\"\"}},\"type\":\"scattermapbox\"}],\"scatterpolargl\":[{\"marker\":{\"colorbar\":{\"outlinewidth\":0,\"ticks\":\"\"}},\"type\":\"scatterpolargl\"}],\"scatterpolar\":[{\"marker\":{\"colorbar\":{\"outlinewidth\":0,\"ticks\":\"\"}},\"type\":\"scatterpolar\"}],\"scatter\":[{\"marker\":{\"colorbar\":{\"outlinewidth\":0,\"ticks\":\"\"}},\"type\":\"scatter\"}],\"scatterternary\":[{\"marker\":{\"colorbar\":{\"outlinewidth\":0,\"ticks\":\"\"}},\"type\":\"scatterternary\"}],\"surface\":[{\"colorbar\":{\"outlinewidth\":0,\"ticks\":\"\"},\"colorscale\":[[0.0,\"#0d0887\"],[0.1111111111111111,\"#46039f\"],[0.2222222222222222,\"#7201a8\"],[0.3333333333333333,\"#9c179e\"],[0.4444444444444444,\"#bd3786\"],[0.5555555555555556,\"#d8576b\"],[0.6666666666666666,\"#ed7953\"],[0.7777777777777778,\"#fb9f3a\"],[0.8888888888888888,\"#fdca26\"],[1.0,\"#f0f921\"]],\"type\":\"surface\"}],\"table\":[{\"cells\":{\"fill\":{\"color\":\"#EBF0F8\"},\"line\":{\"color\":\"white\"}},\"header\":{\"fill\":{\"color\":\"#C8D4E3\"},\"line\":{\"color\":\"white\"}},\"type\":\"table\"}]},\"layout\":{\"annotationdefaults\":{\"arrowcolor\":\"#2a3f5f\",\"arrowhead\":0,\"arrowwidth\":1},\"autotypenumbers\":\"strict\",\"coloraxis\":{\"colorbar\":{\"outlinewidth\":0,\"ticks\":\"\"}},\"colorscale\":{\"diverging\":[[0,\"#8e0152\"],[0.1,\"#c51b7d\"],[0.2,\"#de77ae\"],[0.3,\"#f1b6da\"],[0.4,\"#fde0ef\"],[0.5,\"#f7f7f7\"],[0.6,\"#e6f5d0\"],[0.7,\"#b8e186\"],[0.8,\"#7fbc41\"],[0.9,\"#4d9221\"],[1,\"#276419\"]],\"sequential\":[[0.0,\"#0d0887\"],[0.1111111111111111,\"#46039f\"],[0.2222222222222222,\"#7201a8\"],[0.3333333333333333,\"#9c179e\"],[0.4444444444444444,\"#bd3786\"],[0.5555555555555556,\"#d8576b\"],[0.6666666666666666,\"#ed7953\"],[0.7777777777777778,\"#fb9f3a\"],[0.8888888888888888,\"#fdca26\"],[1.0,\"#f0f921\"]],\"sequentialminus\":[[0.0,\"#0d0887\"],[0.1111111111111111,\"#46039f\"],[0.2222222222222222,\"#7201a8\"],[0.3333333333333333,\"#9c179e\"],[0.4444444444444444,\"#bd3786\"],[0.5555555555555556,\"#d8576b\"],[0.6666666666666666,\"#ed7953\"],[0.7777777777777778,\"#fb9f3a\"],[0.8888888888888888,\"#fdca26\"],[1.0,\"#f0f921\"]]},\"colorway\":[\"#636efa\",\"#EF553B\",\"#00cc96\",\"#ab63fa\",\"#FFA15A\",\"#19d3f3\",\"#FF6692\",\"#B6E880\",\"#FF97FF\",\"#FECB52\"],\"font\":{\"color\":\"#2a3f5f\"},\"geo\":{\"bgcolor\":\"white\",\"lakecolor\":\"white\",\"landcolor\":\"#E5ECF6\",\"showlakes\":true,\"showland\":true,\"subunitcolor\":\"white\"},\"hoverlabel\":{\"align\":\"left\"},\"hovermode\":\"closest\",\"mapbox\":{\"style\":\"light\"},\"paper_bgcolor\":\"white\",\"plot_bgcolor\":\"#E5ECF6\",\"polar\":{\"angularaxis\":{\"gridcolor\":\"white\",\"linecolor\":\"white\",\"ticks\":\"\"},\"bgcolor\":\"#E5ECF6\",\"radialaxis\":{\"gridcolor\":\"white\",\"linecolor\":\"white\",\"ticks\":\"\"}},\"scene\":{\"xaxis\":{\"backgroundcolor\":\"#E5ECF6\",\"gridcolor\":\"white\",\"gridwidth\":2,\"linecolor\":\"white\",\"showbackground\":true,\"ticks\":\"\",\"zerolinecolor\":\"white\"},\"yaxis\":{\"backgroundcolor\":\"#E5ECF6\",\"gridcolor\":\"white\",\"gridwidth\":2,\"linecolor\":\"white\",\"showbackground\":true,\"ticks\":\"\",\"zerolinecolor\":\"white\"},\"zaxis\":{\"backgroundcolor\":\"#E5ECF6\",\"gridcolor\":\"white\",\"gridwidth\":2,\"linecolor\":\"white\",\"showbackground\":true,\"ticks\":\"\",\"zerolinecolor\":\"white\"}},\"shapedefaults\":{\"line\":{\"color\":\"#2a3f5f\"}},\"ternary\":{\"aaxis\":{\"gridcolor\":\"white\",\"linecolor\":\"white\",\"ticks\":\"\"},\"baxis\":{\"gridcolor\":\"white\",\"linecolor\":\"white\",\"ticks\":\"\"},\"bgcolor\":\"#E5ECF6\",\"caxis\":{\"gridcolor\":\"white\",\"linecolor\":\"white\",\"ticks\":\"\"}},\"title\":{\"x\":0.05},\"xaxis\":{\"automargin\":true,\"gridcolor\":\"white\",\"linecolor\":\"white\",\"ticks\":\"\",\"title\":{\"standoff\":15},\"zerolinecolor\":\"white\",\"zerolinewidth\":2},\"yaxis\":{\"automargin\":true,\"gridcolor\":\"white\",\"linecolor\":\"white\",\"ticks\":\"\",\"title\":{\"standoff\":15},\"zerolinecolor\":\"white\",\"zerolinewidth\":2}}}},                        {\"responsive\": true}                    ).then(function(){\n",
       "                            \n",
       "var gd = document.getElementById('cea86208-348e-4e08-bd5c-c96641c6e5ff');\n",
       "var x = new MutationObserver(function (mutations, observer) {{\n",
       "        var display = window.getComputedStyle(gd).display;\n",
       "        if (!display || display === 'none') {{\n",
       "            console.log([gd, 'removed!']);\n",
       "            Plotly.purge(gd);\n",
       "            observer.disconnect();\n",
       "        }}\n",
       "}});\n",
       "\n",
       "// Listen for the removal of the full notebook cells\n",
       "var notebookContainer = gd.closest('#notebook-container');\n",
       "if (notebookContainer) {{\n",
       "    x.observe(notebookContainer, {childList: true});\n",
       "}}\n",
       "\n",
       "// Listen for the clearing of the current output cell\n",
       "var outputEl = gd.closest('.output');\n",
       "if (outputEl) {{\n",
       "    x.observe(outputEl, {childList: true});\n",
       "}}\n",
       "\n",
       "                        })                };                });            </script>        </div>"
      ]
     },
     "metadata": {},
     "output_type": "display_data"
    }
   ],
   "source": [
    "source = teste['from_station_cat']\n",
    "target = teste['to_station_cat']\n",
    "value = teste['count']\n",
    "label = teste['to_station_name']\n",
    "link = dict(source = source, target = target, value = value)\n",
    "node = dict(label = label)\n",
    "data = go.Sankey(link = link, node=node)\n",
    "\n",
    "fig_teste = go.Figure(data)\n",
    "init_notebook_mode(connected=True)\n",
    "iplot(fig_teste)"
   ]
  },
  {
   "cell_type": "code",
   "execution_count": 179,
   "id": "668fcbbf",
   "metadata": {},
   "outputs": [],
   "source": [
    "station_time = df4.groupby(['from_station_name', 'time_of_day']).size().reset_index(name='count_1')"
   ]
  },
  {
   "cell_type": "code",
   "execution_count": 180,
   "id": "1ca5e9b9",
   "metadata": {},
   "outputs": [],
   "source": [
    "station_time['from_station_cat'] = 0\n",
    "station_time['time_of_day_cat'] = pd.factorize(station_time['time_of_day'].sort)[0] + 1"
   ]
  },
  {
   "cell_type": "code",
   "execution_count": 213,
   "id": "66e94bab",
   "metadata": {},
   "outputs": [
    {
     "data": {
      "text/html": [
       "<div>\n",
       "<style scoped>\n",
       "    .dataframe tbody tr th:only-of-type {\n",
       "        vertical-align: middle;\n",
       "    }\n",
       "\n",
       "    .dataframe tbody tr th {\n",
       "        vertical-align: top;\n",
       "    }\n",
       "\n",
       "    .dataframe thead th {\n",
       "        text-align: right;\n",
       "    }\n",
       "</style>\n",
       "<table border=\"1\" class=\"dataframe\">\n",
       "  <thead>\n",
       "    <tr style=\"text-align: right;\">\n",
       "      <th></th>\n",
       "      <th>from_station_name</th>\n",
       "      <th>time_of_day</th>\n",
       "      <th>count_1</th>\n",
       "      <th>from_station_cat</th>\n",
       "      <th>time_of_day_cat</th>\n",
       "    </tr>\n",
       "  </thead>\n",
       "  <tbody>\n",
       "    <tr>\n",
       "      <th>0</th>\n",
       "      <td>Pier 69</td>\n",
       "      <td>morning</td>\n",
       "      <td>1636</td>\n",
       "      <td>0</td>\n",
       "      <td>1</td>\n",
       "    </tr>\n",
       "    <tr>\n",
       "      <th>1</th>\n",
       "      <td>Pier 69</td>\n",
       "      <td>afternoon</td>\n",
       "      <td>5066</td>\n",
       "      <td>0</td>\n",
       "      <td>2</td>\n",
       "    </tr>\n",
       "    <tr>\n",
       "      <th>2</th>\n",
       "      <td>Pier 69</td>\n",
       "      <td>night</td>\n",
       "      <td>1379</td>\n",
       "      <td>0</td>\n",
       "      <td>3</td>\n",
       "    </tr>\n",
       "    <tr>\n",
       "      <th>3</th>\n",
       "      <td>Pier 69</td>\n",
       "      <td>noon</td>\n",
       "      <td>172</td>\n",
       "      <td>0</td>\n",
       "      <td>4</td>\n",
       "    </tr>\n",
       "  </tbody>\n",
       "</table>\n",
       "</div>"
      ],
      "text/plain": [
       "  from_station_name time_of_day  count_1  from_station_cat  time_of_day_cat\n",
       "0           Pier 69     morning     1636                 0                1\n",
       "1           Pier 69   afternoon     5066                 0                2\n",
       "2           Pier 69       night     1379                 0                3\n",
       "3           Pier 69        noon      172                 0                4"
      ]
     },
     "execution_count": 213,
     "metadata": {},
     "output_type": "execute_result"
    }
   ],
   "source": [
    "station_time"
   ]
  },
  {
   "cell_type": "code",
   "execution_count": 199,
   "id": "449035cc",
   "metadata": {},
   "outputs": [
    {
     "data": {
      "text/plain": [
       "array(['Pier 69', 'afternoon', 'morning', 'night', 'noon'], dtype=object)"
      ]
     },
     "execution_count": 199,
     "metadata": {},
     "output_type": "execute_result"
    }
   ],
   "source": [
    "label = list(np.unique(station_time[['from_station_name','time_of_day']].values))"
   ]
  },
  {
   "cell_type": "code",
   "execution_count": 214,
   "id": "42237043",
   "metadata": {},
   "outputs": [
    {
     "data": {
      "text/html": [
       "<div>\n",
       "<style scoped>\n",
       "    .dataframe tbody tr th:only-of-type {\n",
       "        vertical-align: middle;\n",
       "    }\n",
       "\n",
       "    .dataframe tbody tr th {\n",
       "        vertical-align: top;\n",
       "    }\n",
       "\n",
       "    .dataframe thead th {\n",
       "        text-align: right;\n",
       "    }\n",
       "</style>\n",
       "<table border=\"1\" class=\"dataframe\">\n",
       "  <thead>\n",
       "    <tr style=\"text-align: right;\">\n",
       "      <th></th>\n",
       "      <th>from_station_name</th>\n",
       "      <th>time_of_day</th>\n",
       "      <th>count_1</th>\n",
       "      <th>from_station_cat</th>\n",
       "      <th>time_of_day_cat</th>\n",
       "    </tr>\n",
       "  </thead>\n",
       "  <tbody>\n",
       "    <tr>\n",
       "      <th>0</th>\n",
       "      <td>Pier 69</td>\n",
       "      <td>morning</td>\n",
       "      <td>1636</td>\n",
       "      <td>0</td>\n",
       "      <td>1</td>\n",
       "    </tr>\n",
       "    <tr>\n",
       "      <th>1</th>\n",
       "      <td>Pier 69</td>\n",
       "      <td>afternoon</td>\n",
       "      <td>5066</td>\n",
       "      <td>0</td>\n",
       "      <td>2</td>\n",
       "    </tr>\n",
       "    <tr>\n",
       "      <th>2</th>\n",
       "      <td>Pier 69</td>\n",
       "      <td>night</td>\n",
       "      <td>1379</td>\n",
       "      <td>0</td>\n",
       "      <td>3</td>\n",
       "    </tr>\n",
       "    <tr>\n",
       "      <th>3</th>\n",
       "      <td>Pier 69</td>\n",
       "      <td>noon</td>\n",
       "      <td>172</td>\n",
       "      <td>0</td>\n",
       "      <td>4</td>\n",
       "    </tr>\n",
       "  </tbody>\n",
       "</table>\n",
       "</div>"
      ],
      "text/plain": [
       "  from_station_name time_of_day  count_1  from_station_cat  time_of_day_cat\n",
       "0           Pier 69     morning     1636                 0                1\n",
       "1           Pier 69   afternoon     5066                 0                2\n",
       "2           Pier 69       night     1379                 0                3\n",
       "3           Pier 69        noon      172                 0                4"
      ]
     },
     "execution_count": 214,
     "metadata": {},
     "output_type": "execute_result"
    }
   ],
   "source": [
    "station_time"
   ]
  },
  {
   "cell_type": "code",
   "execution_count": 215,
   "id": "3ec78cc3",
   "metadata": {},
   "outputs": [
    {
     "data": {
      "text/html": [
       "        <script type=\"text/javascript\">\n",
       "        window.PlotlyConfig = {MathJaxConfig: 'local'};\n",
       "        if (window.MathJax) {MathJax.Hub.Config({SVG: {font: \"STIX-Web\"}});}\n",
       "        if (typeof require !== 'undefined') {\n",
       "        require.undef(\"plotly\");\n",
       "        requirejs.config({\n",
       "            paths: {\n",
       "                'plotly': ['https://cdn.plot.ly/plotly-2.6.3.min']\n",
       "            }\n",
       "        });\n",
       "        require(['plotly'], function(Plotly) {\n",
       "            window._Plotly = Plotly;\n",
       "        });\n",
       "        }\n",
       "        </script>\n",
       "        "
      ]
     },
     "metadata": {},
     "output_type": "display_data"
    },
    {
     "data": {
      "application/vnd.plotly.v1+json": {
       "config": {
        "linkText": "Export to plot.ly",
        "plotlyServerURL": "https://plot.ly",
        "showLink": false
       },
       "data": [
        {
         "link": {
          "source": [
           0,
           0,
           0,
           0
          ],
          "target": [
           1,
           2,
           3,
           4
          ],
          "value": [
           1636,
           5066,
           1379,
           172
          ]
         },
         "node": {
          "label": [
           "Pier 69",
           "morning",
           "afternoon",
           "night",
           "noon"
          ]
         },
         "type": "sankey"
        }
       ],
       "layout": {
        "template": {
         "data": {
          "bar": [
           {
            "error_x": {
             "color": "#2a3f5f"
            },
            "error_y": {
             "color": "#2a3f5f"
            },
            "marker": {
             "line": {
              "color": "#E5ECF6",
              "width": 0.5
             },
             "pattern": {
              "fillmode": "overlay",
              "size": 10,
              "solidity": 0.2
             }
            },
            "type": "bar"
           }
          ],
          "barpolar": [
           {
            "marker": {
             "line": {
              "color": "#E5ECF6",
              "width": 0.5
             },
             "pattern": {
              "fillmode": "overlay",
              "size": 10,
              "solidity": 0.2
             }
            },
            "type": "barpolar"
           }
          ],
          "carpet": [
           {
            "aaxis": {
             "endlinecolor": "#2a3f5f",
             "gridcolor": "white",
             "linecolor": "white",
             "minorgridcolor": "white",
             "startlinecolor": "#2a3f5f"
            },
            "baxis": {
             "endlinecolor": "#2a3f5f",
             "gridcolor": "white",
             "linecolor": "white",
             "minorgridcolor": "white",
             "startlinecolor": "#2a3f5f"
            },
            "type": "carpet"
           }
          ],
          "choropleth": [
           {
            "colorbar": {
             "outlinewidth": 0,
             "ticks": ""
            },
            "type": "choropleth"
           }
          ],
          "contour": [
           {
            "colorbar": {
             "outlinewidth": 0,
             "ticks": ""
            },
            "colorscale": [
             [
              0,
              "#0d0887"
             ],
             [
              0.1111111111111111,
              "#46039f"
             ],
             [
              0.2222222222222222,
              "#7201a8"
             ],
             [
              0.3333333333333333,
              "#9c179e"
             ],
             [
              0.4444444444444444,
              "#bd3786"
             ],
             [
              0.5555555555555556,
              "#d8576b"
             ],
             [
              0.6666666666666666,
              "#ed7953"
             ],
             [
              0.7777777777777778,
              "#fb9f3a"
             ],
             [
              0.8888888888888888,
              "#fdca26"
             ],
             [
              1,
              "#f0f921"
             ]
            ],
            "type": "contour"
           }
          ],
          "contourcarpet": [
           {
            "colorbar": {
             "outlinewidth": 0,
             "ticks": ""
            },
            "type": "contourcarpet"
           }
          ],
          "heatmap": [
           {
            "colorbar": {
             "outlinewidth": 0,
             "ticks": ""
            },
            "colorscale": [
             [
              0,
              "#0d0887"
             ],
             [
              0.1111111111111111,
              "#46039f"
             ],
             [
              0.2222222222222222,
              "#7201a8"
             ],
             [
              0.3333333333333333,
              "#9c179e"
             ],
             [
              0.4444444444444444,
              "#bd3786"
             ],
             [
              0.5555555555555556,
              "#d8576b"
             ],
             [
              0.6666666666666666,
              "#ed7953"
             ],
             [
              0.7777777777777778,
              "#fb9f3a"
             ],
             [
              0.8888888888888888,
              "#fdca26"
             ],
             [
              1,
              "#f0f921"
             ]
            ],
            "type": "heatmap"
           }
          ],
          "heatmapgl": [
           {
            "colorbar": {
             "outlinewidth": 0,
             "ticks": ""
            },
            "colorscale": [
             [
              0,
              "#0d0887"
             ],
             [
              0.1111111111111111,
              "#46039f"
             ],
             [
              0.2222222222222222,
              "#7201a8"
             ],
             [
              0.3333333333333333,
              "#9c179e"
             ],
             [
              0.4444444444444444,
              "#bd3786"
             ],
             [
              0.5555555555555556,
              "#d8576b"
             ],
             [
              0.6666666666666666,
              "#ed7953"
             ],
             [
              0.7777777777777778,
              "#fb9f3a"
             ],
             [
              0.8888888888888888,
              "#fdca26"
             ],
             [
              1,
              "#f0f921"
             ]
            ],
            "type": "heatmapgl"
           }
          ],
          "histogram": [
           {
            "marker": {
             "pattern": {
              "fillmode": "overlay",
              "size": 10,
              "solidity": 0.2
             }
            },
            "type": "histogram"
           }
          ],
          "histogram2d": [
           {
            "colorbar": {
             "outlinewidth": 0,
             "ticks": ""
            },
            "colorscale": [
             [
              0,
              "#0d0887"
             ],
             [
              0.1111111111111111,
              "#46039f"
             ],
             [
              0.2222222222222222,
              "#7201a8"
             ],
             [
              0.3333333333333333,
              "#9c179e"
             ],
             [
              0.4444444444444444,
              "#bd3786"
             ],
             [
              0.5555555555555556,
              "#d8576b"
             ],
             [
              0.6666666666666666,
              "#ed7953"
             ],
             [
              0.7777777777777778,
              "#fb9f3a"
             ],
             [
              0.8888888888888888,
              "#fdca26"
             ],
             [
              1,
              "#f0f921"
             ]
            ],
            "type": "histogram2d"
           }
          ],
          "histogram2dcontour": [
           {
            "colorbar": {
             "outlinewidth": 0,
             "ticks": ""
            },
            "colorscale": [
             [
              0,
              "#0d0887"
             ],
             [
              0.1111111111111111,
              "#46039f"
             ],
             [
              0.2222222222222222,
              "#7201a8"
             ],
             [
              0.3333333333333333,
              "#9c179e"
             ],
             [
              0.4444444444444444,
              "#bd3786"
             ],
             [
              0.5555555555555556,
              "#d8576b"
             ],
             [
              0.6666666666666666,
              "#ed7953"
             ],
             [
              0.7777777777777778,
              "#fb9f3a"
             ],
             [
              0.8888888888888888,
              "#fdca26"
             ],
             [
              1,
              "#f0f921"
             ]
            ],
            "type": "histogram2dcontour"
           }
          ],
          "mesh3d": [
           {
            "colorbar": {
             "outlinewidth": 0,
             "ticks": ""
            },
            "type": "mesh3d"
           }
          ],
          "parcoords": [
           {
            "line": {
             "colorbar": {
              "outlinewidth": 0,
              "ticks": ""
             }
            },
            "type": "parcoords"
           }
          ],
          "pie": [
           {
            "automargin": true,
            "type": "pie"
           }
          ],
          "scatter": [
           {
            "marker": {
             "colorbar": {
              "outlinewidth": 0,
              "ticks": ""
             }
            },
            "type": "scatter"
           }
          ],
          "scatter3d": [
           {
            "line": {
             "colorbar": {
              "outlinewidth": 0,
              "ticks": ""
             }
            },
            "marker": {
             "colorbar": {
              "outlinewidth": 0,
              "ticks": ""
             }
            },
            "type": "scatter3d"
           }
          ],
          "scattercarpet": [
           {
            "marker": {
             "colorbar": {
              "outlinewidth": 0,
              "ticks": ""
             }
            },
            "type": "scattercarpet"
           }
          ],
          "scattergeo": [
           {
            "marker": {
             "colorbar": {
              "outlinewidth": 0,
              "ticks": ""
             }
            },
            "type": "scattergeo"
           }
          ],
          "scattergl": [
           {
            "marker": {
             "colorbar": {
              "outlinewidth": 0,
              "ticks": ""
             }
            },
            "type": "scattergl"
           }
          ],
          "scattermapbox": [
           {
            "marker": {
             "colorbar": {
              "outlinewidth": 0,
              "ticks": ""
             }
            },
            "type": "scattermapbox"
           }
          ],
          "scatterpolar": [
           {
            "marker": {
             "colorbar": {
              "outlinewidth": 0,
              "ticks": ""
             }
            },
            "type": "scatterpolar"
           }
          ],
          "scatterpolargl": [
           {
            "marker": {
             "colorbar": {
              "outlinewidth": 0,
              "ticks": ""
             }
            },
            "type": "scatterpolargl"
           }
          ],
          "scatterternary": [
           {
            "marker": {
             "colorbar": {
              "outlinewidth": 0,
              "ticks": ""
             }
            },
            "type": "scatterternary"
           }
          ],
          "surface": [
           {
            "colorbar": {
             "outlinewidth": 0,
             "ticks": ""
            },
            "colorscale": [
             [
              0,
              "#0d0887"
             ],
             [
              0.1111111111111111,
              "#46039f"
             ],
             [
              0.2222222222222222,
              "#7201a8"
             ],
             [
              0.3333333333333333,
              "#9c179e"
             ],
             [
              0.4444444444444444,
              "#bd3786"
             ],
             [
              0.5555555555555556,
              "#d8576b"
             ],
             [
              0.6666666666666666,
              "#ed7953"
             ],
             [
              0.7777777777777778,
              "#fb9f3a"
             ],
             [
              0.8888888888888888,
              "#fdca26"
             ],
             [
              1,
              "#f0f921"
             ]
            ],
            "type": "surface"
           }
          ],
          "table": [
           {
            "cells": {
             "fill": {
              "color": "#EBF0F8"
             },
             "line": {
              "color": "white"
             }
            },
            "header": {
             "fill": {
              "color": "#C8D4E3"
             },
             "line": {
              "color": "white"
             }
            },
            "type": "table"
           }
          ]
         },
         "layout": {
          "annotationdefaults": {
           "arrowcolor": "#2a3f5f",
           "arrowhead": 0,
           "arrowwidth": 1
          },
          "autotypenumbers": "strict",
          "coloraxis": {
           "colorbar": {
            "outlinewidth": 0,
            "ticks": ""
           }
          },
          "colorscale": {
           "diverging": [
            [
             0,
             "#8e0152"
            ],
            [
             0.1,
             "#c51b7d"
            ],
            [
             0.2,
             "#de77ae"
            ],
            [
             0.3,
             "#f1b6da"
            ],
            [
             0.4,
             "#fde0ef"
            ],
            [
             0.5,
             "#f7f7f7"
            ],
            [
             0.6,
             "#e6f5d0"
            ],
            [
             0.7,
             "#b8e186"
            ],
            [
             0.8,
             "#7fbc41"
            ],
            [
             0.9,
             "#4d9221"
            ],
            [
             1,
             "#276419"
            ]
           ],
           "sequential": [
            [
             0,
             "#0d0887"
            ],
            [
             0.1111111111111111,
             "#46039f"
            ],
            [
             0.2222222222222222,
             "#7201a8"
            ],
            [
             0.3333333333333333,
             "#9c179e"
            ],
            [
             0.4444444444444444,
             "#bd3786"
            ],
            [
             0.5555555555555556,
             "#d8576b"
            ],
            [
             0.6666666666666666,
             "#ed7953"
            ],
            [
             0.7777777777777778,
             "#fb9f3a"
            ],
            [
             0.8888888888888888,
             "#fdca26"
            ],
            [
             1,
             "#f0f921"
            ]
           ],
           "sequentialminus": [
            [
             0,
             "#0d0887"
            ],
            [
             0.1111111111111111,
             "#46039f"
            ],
            [
             0.2222222222222222,
             "#7201a8"
            ],
            [
             0.3333333333333333,
             "#9c179e"
            ],
            [
             0.4444444444444444,
             "#bd3786"
            ],
            [
             0.5555555555555556,
             "#d8576b"
            ],
            [
             0.6666666666666666,
             "#ed7953"
            ],
            [
             0.7777777777777778,
             "#fb9f3a"
            ],
            [
             0.8888888888888888,
             "#fdca26"
            ],
            [
             1,
             "#f0f921"
            ]
           ]
          },
          "colorway": [
           "#636efa",
           "#EF553B",
           "#00cc96",
           "#ab63fa",
           "#FFA15A",
           "#19d3f3",
           "#FF6692",
           "#B6E880",
           "#FF97FF",
           "#FECB52"
          ],
          "font": {
           "color": "#2a3f5f"
          },
          "geo": {
           "bgcolor": "white",
           "lakecolor": "white",
           "landcolor": "#E5ECF6",
           "showlakes": true,
           "showland": true,
           "subunitcolor": "white"
          },
          "hoverlabel": {
           "align": "left"
          },
          "hovermode": "closest",
          "mapbox": {
           "style": "light"
          },
          "paper_bgcolor": "white",
          "plot_bgcolor": "#E5ECF6",
          "polar": {
           "angularaxis": {
            "gridcolor": "white",
            "linecolor": "white",
            "ticks": ""
           },
           "bgcolor": "#E5ECF6",
           "radialaxis": {
            "gridcolor": "white",
            "linecolor": "white",
            "ticks": ""
           }
          },
          "scene": {
           "xaxis": {
            "backgroundcolor": "#E5ECF6",
            "gridcolor": "white",
            "gridwidth": 2,
            "linecolor": "white",
            "showbackground": true,
            "ticks": "",
            "zerolinecolor": "white"
           },
           "yaxis": {
            "backgroundcolor": "#E5ECF6",
            "gridcolor": "white",
            "gridwidth": 2,
            "linecolor": "white",
            "showbackground": true,
            "ticks": "",
            "zerolinecolor": "white"
           },
           "zaxis": {
            "backgroundcolor": "#E5ECF6",
            "gridcolor": "white",
            "gridwidth": 2,
            "linecolor": "white",
            "showbackground": true,
            "ticks": "",
            "zerolinecolor": "white"
           }
          },
          "shapedefaults": {
           "line": {
            "color": "#2a3f5f"
           }
          },
          "ternary": {
           "aaxis": {
            "gridcolor": "white",
            "linecolor": "white",
            "ticks": ""
           },
           "baxis": {
            "gridcolor": "white",
            "linecolor": "white",
            "ticks": ""
           },
           "bgcolor": "#E5ECF6",
           "caxis": {
            "gridcolor": "white",
            "linecolor": "white",
            "ticks": ""
           }
          },
          "title": {
           "x": 0.05
          },
          "xaxis": {
           "automargin": true,
           "gridcolor": "white",
           "linecolor": "white",
           "ticks": "",
           "title": {
            "standoff": 15
           },
           "zerolinecolor": "white",
           "zerolinewidth": 2
          },
          "yaxis": {
           "automargin": true,
           "gridcolor": "white",
           "linecolor": "white",
           "ticks": "",
           "title": {
            "standoff": 15
           },
           "zerolinecolor": "white",
           "zerolinewidth": 2
          }
         }
        }
       }
      },
      "text/html": [
       "<div>                            <div id=\"0e62a670-bbb1-49d7-9b21-e78841b2db8f\" class=\"plotly-graph-div\" style=\"height:525px; width:100%;\"></div>            <script type=\"text/javascript\">                require([\"plotly\"], function(Plotly) {                    window.PLOTLYENV=window.PLOTLYENV || {};                                    if (document.getElementById(\"0e62a670-bbb1-49d7-9b21-e78841b2db8f\")) {                    Plotly.newPlot(                        \"0e62a670-bbb1-49d7-9b21-e78841b2db8f\",                        [{\"link\":{\"source\":[0,0,0,0],\"target\":[1,2,3,4],\"value\":[1636,5066,1379,172]},\"node\":{\"label\":[\"Pier 69\",\"morning\",\"afternoon\",\"night\",\"noon\"]},\"type\":\"sankey\"}],                        {\"template\":{\"data\":{\"barpolar\":[{\"marker\":{\"line\":{\"color\":\"#E5ECF6\",\"width\":0.5},\"pattern\":{\"fillmode\":\"overlay\",\"size\":10,\"solidity\":0.2}},\"type\":\"barpolar\"}],\"bar\":[{\"error_x\":{\"color\":\"#2a3f5f\"},\"error_y\":{\"color\":\"#2a3f5f\"},\"marker\":{\"line\":{\"color\":\"#E5ECF6\",\"width\":0.5},\"pattern\":{\"fillmode\":\"overlay\",\"size\":10,\"solidity\":0.2}},\"type\":\"bar\"}],\"carpet\":[{\"aaxis\":{\"endlinecolor\":\"#2a3f5f\",\"gridcolor\":\"white\",\"linecolor\":\"white\",\"minorgridcolor\":\"white\",\"startlinecolor\":\"#2a3f5f\"},\"baxis\":{\"endlinecolor\":\"#2a3f5f\",\"gridcolor\":\"white\",\"linecolor\":\"white\",\"minorgridcolor\":\"white\",\"startlinecolor\":\"#2a3f5f\"},\"type\":\"carpet\"}],\"choropleth\":[{\"colorbar\":{\"outlinewidth\":0,\"ticks\":\"\"},\"type\":\"choropleth\"}],\"contourcarpet\":[{\"colorbar\":{\"outlinewidth\":0,\"ticks\":\"\"},\"type\":\"contourcarpet\"}],\"contour\":[{\"colorbar\":{\"outlinewidth\":0,\"ticks\":\"\"},\"colorscale\":[[0.0,\"#0d0887\"],[0.1111111111111111,\"#46039f\"],[0.2222222222222222,\"#7201a8\"],[0.3333333333333333,\"#9c179e\"],[0.4444444444444444,\"#bd3786\"],[0.5555555555555556,\"#d8576b\"],[0.6666666666666666,\"#ed7953\"],[0.7777777777777778,\"#fb9f3a\"],[0.8888888888888888,\"#fdca26\"],[1.0,\"#f0f921\"]],\"type\":\"contour\"}],\"heatmapgl\":[{\"colorbar\":{\"outlinewidth\":0,\"ticks\":\"\"},\"colorscale\":[[0.0,\"#0d0887\"],[0.1111111111111111,\"#46039f\"],[0.2222222222222222,\"#7201a8\"],[0.3333333333333333,\"#9c179e\"],[0.4444444444444444,\"#bd3786\"],[0.5555555555555556,\"#d8576b\"],[0.6666666666666666,\"#ed7953\"],[0.7777777777777778,\"#fb9f3a\"],[0.8888888888888888,\"#fdca26\"],[1.0,\"#f0f921\"]],\"type\":\"heatmapgl\"}],\"heatmap\":[{\"colorbar\":{\"outlinewidth\":0,\"ticks\":\"\"},\"colorscale\":[[0.0,\"#0d0887\"],[0.1111111111111111,\"#46039f\"],[0.2222222222222222,\"#7201a8\"],[0.3333333333333333,\"#9c179e\"],[0.4444444444444444,\"#bd3786\"],[0.5555555555555556,\"#d8576b\"],[0.6666666666666666,\"#ed7953\"],[0.7777777777777778,\"#fb9f3a\"],[0.8888888888888888,\"#fdca26\"],[1.0,\"#f0f921\"]],\"type\":\"heatmap\"}],\"histogram2dcontour\":[{\"colorbar\":{\"outlinewidth\":0,\"ticks\":\"\"},\"colorscale\":[[0.0,\"#0d0887\"],[0.1111111111111111,\"#46039f\"],[0.2222222222222222,\"#7201a8\"],[0.3333333333333333,\"#9c179e\"],[0.4444444444444444,\"#bd3786\"],[0.5555555555555556,\"#d8576b\"],[0.6666666666666666,\"#ed7953\"],[0.7777777777777778,\"#fb9f3a\"],[0.8888888888888888,\"#fdca26\"],[1.0,\"#f0f921\"]],\"type\":\"histogram2dcontour\"}],\"histogram2d\":[{\"colorbar\":{\"outlinewidth\":0,\"ticks\":\"\"},\"colorscale\":[[0.0,\"#0d0887\"],[0.1111111111111111,\"#46039f\"],[0.2222222222222222,\"#7201a8\"],[0.3333333333333333,\"#9c179e\"],[0.4444444444444444,\"#bd3786\"],[0.5555555555555556,\"#d8576b\"],[0.6666666666666666,\"#ed7953\"],[0.7777777777777778,\"#fb9f3a\"],[0.8888888888888888,\"#fdca26\"],[1.0,\"#f0f921\"]],\"type\":\"histogram2d\"}],\"histogram\":[{\"marker\":{\"pattern\":{\"fillmode\":\"overlay\",\"size\":10,\"solidity\":0.2}},\"type\":\"histogram\"}],\"mesh3d\":[{\"colorbar\":{\"outlinewidth\":0,\"ticks\":\"\"},\"type\":\"mesh3d\"}],\"parcoords\":[{\"line\":{\"colorbar\":{\"outlinewidth\":0,\"ticks\":\"\"}},\"type\":\"parcoords\"}],\"pie\":[{\"automargin\":true,\"type\":\"pie\"}],\"scatter3d\":[{\"line\":{\"colorbar\":{\"outlinewidth\":0,\"ticks\":\"\"}},\"marker\":{\"colorbar\":{\"outlinewidth\":0,\"ticks\":\"\"}},\"type\":\"scatter3d\"}],\"scattercarpet\":[{\"marker\":{\"colorbar\":{\"outlinewidth\":0,\"ticks\":\"\"}},\"type\":\"scattercarpet\"}],\"scattergeo\":[{\"marker\":{\"colorbar\":{\"outlinewidth\":0,\"ticks\":\"\"}},\"type\":\"scattergeo\"}],\"scattergl\":[{\"marker\":{\"colorbar\":{\"outlinewidth\":0,\"ticks\":\"\"}},\"type\":\"scattergl\"}],\"scattermapbox\":[{\"marker\":{\"colorbar\":{\"outlinewidth\":0,\"ticks\":\"\"}},\"type\":\"scattermapbox\"}],\"scatterpolargl\":[{\"marker\":{\"colorbar\":{\"outlinewidth\":0,\"ticks\":\"\"}},\"type\":\"scatterpolargl\"}],\"scatterpolar\":[{\"marker\":{\"colorbar\":{\"outlinewidth\":0,\"ticks\":\"\"}},\"type\":\"scatterpolar\"}],\"scatter\":[{\"marker\":{\"colorbar\":{\"outlinewidth\":0,\"ticks\":\"\"}},\"type\":\"scatter\"}],\"scatterternary\":[{\"marker\":{\"colorbar\":{\"outlinewidth\":0,\"ticks\":\"\"}},\"type\":\"scatterternary\"}],\"surface\":[{\"colorbar\":{\"outlinewidth\":0,\"ticks\":\"\"},\"colorscale\":[[0.0,\"#0d0887\"],[0.1111111111111111,\"#46039f\"],[0.2222222222222222,\"#7201a8\"],[0.3333333333333333,\"#9c179e\"],[0.4444444444444444,\"#bd3786\"],[0.5555555555555556,\"#d8576b\"],[0.6666666666666666,\"#ed7953\"],[0.7777777777777778,\"#fb9f3a\"],[0.8888888888888888,\"#fdca26\"],[1.0,\"#f0f921\"]],\"type\":\"surface\"}],\"table\":[{\"cells\":{\"fill\":{\"color\":\"#EBF0F8\"},\"line\":{\"color\":\"white\"}},\"header\":{\"fill\":{\"color\":\"#C8D4E3\"},\"line\":{\"color\":\"white\"}},\"type\":\"table\"}]},\"layout\":{\"annotationdefaults\":{\"arrowcolor\":\"#2a3f5f\",\"arrowhead\":0,\"arrowwidth\":1},\"autotypenumbers\":\"strict\",\"coloraxis\":{\"colorbar\":{\"outlinewidth\":0,\"ticks\":\"\"}},\"colorscale\":{\"diverging\":[[0,\"#8e0152\"],[0.1,\"#c51b7d\"],[0.2,\"#de77ae\"],[0.3,\"#f1b6da\"],[0.4,\"#fde0ef\"],[0.5,\"#f7f7f7\"],[0.6,\"#e6f5d0\"],[0.7,\"#b8e186\"],[0.8,\"#7fbc41\"],[0.9,\"#4d9221\"],[1,\"#276419\"]],\"sequential\":[[0.0,\"#0d0887\"],[0.1111111111111111,\"#46039f\"],[0.2222222222222222,\"#7201a8\"],[0.3333333333333333,\"#9c179e\"],[0.4444444444444444,\"#bd3786\"],[0.5555555555555556,\"#d8576b\"],[0.6666666666666666,\"#ed7953\"],[0.7777777777777778,\"#fb9f3a\"],[0.8888888888888888,\"#fdca26\"],[1.0,\"#f0f921\"]],\"sequentialminus\":[[0.0,\"#0d0887\"],[0.1111111111111111,\"#46039f\"],[0.2222222222222222,\"#7201a8\"],[0.3333333333333333,\"#9c179e\"],[0.4444444444444444,\"#bd3786\"],[0.5555555555555556,\"#d8576b\"],[0.6666666666666666,\"#ed7953\"],[0.7777777777777778,\"#fb9f3a\"],[0.8888888888888888,\"#fdca26\"],[1.0,\"#f0f921\"]]},\"colorway\":[\"#636efa\",\"#EF553B\",\"#00cc96\",\"#ab63fa\",\"#FFA15A\",\"#19d3f3\",\"#FF6692\",\"#B6E880\",\"#FF97FF\",\"#FECB52\"],\"font\":{\"color\":\"#2a3f5f\"},\"geo\":{\"bgcolor\":\"white\",\"lakecolor\":\"white\",\"landcolor\":\"#E5ECF6\",\"showlakes\":true,\"showland\":true,\"subunitcolor\":\"white\"},\"hoverlabel\":{\"align\":\"left\"},\"hovermode\":\"closest\",\"mapbox\":{\"style\":\"light\"},\"paper_bgcolor\":\"white\",\"plot_bgcolor\":\"#E5ECF6\",\"polar\":{\"angularaxis\":{\"gridcolor\":\"white\",\"linecolor\":\"white\",\"ticks\":\"\"},\"bgcolor\":\"#E5ECF6\",\"radialaxis\":{\"gridcolor\":\"white\",\"linecolor\":\"white\",\"ticks\":\"\"}},\"scene\":{\"xaxis\":{\"backgroundcolor\":\"#E5ECF6\",\"gridcolor\":\"white\",\"gridwidth\":2,\"linecolor\":\"white\",\"showbackground\":true,\"ticks\":\"\",\"zerolinecolor\":\"white\"},\"yaxis\":{\"backgroundcolor\":\"#E5ECF6\",\"gridcolor\":\"white\",\"gridwidth\":2,\"linecolor\":\"white\",\"showbackground\":true,\"ticks\":\"\",\"zerolinecolor\":\"white\"},\"zaxis\":{\"backgroundcolor\":\"#E5ECF6\",\"gridcolor\":\"white\",\"gridwidth\":2,\"linecolor\":\"white\",\"showbackground\":true,\"ticks\":\"\",\"zerolinecolor\":\"white\"}},\"shapedefaults\":{\"line\":{\"color\":\"#2a3f5f\"}},\"ternary\":{\"aaxis\":{\"gridcolor\":\"white\",\"linecolor\":\"white\",\"ticks\":\"\"},\"baxis\":{\"gridcolor\":\"white\",\"linecolor\":\"white\",\"ticks\":\"\"},\"bgcolor\":\"#E5ECF6\",\"caxis\":{\"gridcolor\":\"white\",\"linecolor\":\"white\",\"ticks\":\"\"}},\"title\":{\"x\":0.05},\"xaxis\":{\"automargin\":true,\"gridcolor\":\"white\",\"linecolor\":\"white\",\"ticks\":\"\",\"title\":{\"standoff\":15},\"zerolinecolor\":\"white\",\"zerolinewidth\":2},\"yaxis\":{\"automargin\":true,\"gridcolor\":\"white\",\"linecolor\":\"white\",\"ticks\":\"\",\"title\":{\"standoff\":15},\"zerolinecolor\":\"white\",\"zerolinewidth\":2}}}},                        {\"responsive\": true}                    ).then(function(){\n",
       "                            \n",
       "var gd = document.getElementById('0e62a670-bbb1-49d7-9b21-e78841b2db8f');\n",
       "var x = new MutationObserver(function (mutations, observer) {{\n",
       "        var display = window.getComputedStyle(gd).display;\n",
       "        if (!display || display === 'none') {{\n",
       "            console.log([gd, 'removed!']);\n",
       "            Plotly.purge(gd);\n",
       "            observer.disconnect();\n",
       "        }}\n",
       "}});\n",
       "\n",
       "// Listen for the removal of the full notebook cells\n",
       "var notebookContainer = gd.closest('#notebook-container');\n",
       "if (notebookContainer) {{\n",
       "    x.observe(notebookContainer, {childList: true});\n",
       "}}\n",
       "\n",
       "// Listen for the clearing of the current output cell\n",
       "var outputEl = gd.closest('.output');\n",
       "if (outputEl) {{\n",
       "    x.observe(outputEl, {childList: true});\n",
       "}}\n",
       "\n",
       "                        })                };                });            </script>        </div>"
      ]
     },
     "metadata": {},
     "output_type": "display_data"
    }
   ],
   "source": [
    "source = station_time['from_station_cat']\n",
    "target = station_time['time_of_day_cat']\n",
    "value = station_time['count_1']\n",
    "label = ['Pier 69','morning','afternoon','night','noon']\n",
    "#list(np.unique(station_time[['from_station_name','time_of_day']].values))\n",
    "link = dict(source = source, target = target, value = value)\n",
    "node = dict(label = label)\n",
    "data = go.Sankey(link = link, node=node)\n",
    "\n",
    "fig_teste = go.Figure(data)\n",
    "init_notebook_mode(connected=True)\n",
    "iplot(fig_teste)"
   ]
  },
  {
   "cell_type": "code",
   "execution_count": 247,
   "id": "10c116d1",
   "metadata": {},
   "outputs": [],
   "source": [
    "time_weekday = df4.groupby(['time_of_day','day']).size().reset_index(name='count_2')"
   ]
  },
  {
   "cell_type": "code",
   "execution_count": 248,
   "id": "a38546cd",
   "metadata": {},
   "outputs": [
    {
     "data": {
      "text/html": [
       "<div>\n",
       "<style scoped>\n",
       "    .dataframe tbody tr th:only-of-type {\n",
       "        vertical-align: middle;\n",
       "    }\n",
       "\n",
       "    .dataframe tbody tr th {\n",
       "        vertical-align: top;\n",
       "    }\n",
       "\n",
       "    .dataframe thead th {\n",
       "        text-align: right;\n",
       "    }\n",
       "</style>\n",
       "<table border=\"1\" class=\"dataframe\">\n",
       "  <thead>\n",
       "    <tr style=\"text-align: right;\">\n",
       "      <th></th>\n",
       "      <th>time_of_day</th>\n",
       "      <th>day</th>\n",
       "      <th>count_2</th>\n",
       "    </tr>\n",
       "  </thead>\n",
       "  <tbody>\n",
       "    <tr>\n",
       "      <th>0</th>\n",
       "      <td>morning</td>\n",
       "      <td>weekday</td>\n",
       "      <td>1034</td>\n",
       "    </tr>\n",
       "    <tr>\n",
       "      <th>1</th>\n",
       "      <td>morning</td>\n",
       "      <td>weekend</td>\n",
       "      <td>602</td>\n",
       "    </tr>\n",
       "    <tr>\n",
       "      <th>2</th>\n",
       "      <td>afternoon</td>\n",
       "      <td>weekday</td>\n",
       "      <td>3185</td>\n",
       "    </tr>\n",
       "    <tr>\n",
       "      <th>3</th>\n",
       "      <td>afternoon</td>\n",
       "      <td>weekend</td>\n",
       "      <td>1881</td>\n",
       "    </tr>\n",
       "    <tr>\n",
       "      <th>4</th>\n",
       "      <td>night</td>\n",
       "      <td>weekday</td>\n",
       "      <td>924</td>\n",
       "    </tr>\n",
       "    <tr>\n",
       "      <th>5</th>\n",
       "      <td>night</td>\n",
       "      <td>weekend</td>\n",
       "      <td>455</td>\n",
       "    </tr>\n",
       "    <tr>\n",
       "      <th>6</th>\n",
       "      <td>noon</td>\n",
       "      <td>weekday</td>\n",
       "      <td>109</td>\n",
       "    </tr>\n",
       "    <tr>\n",
       "      <th>7</th>\n",
       "      <td>noon</td>\n",
       "      <td>weekend</td>\n",
       "      <td>63</td>\n",
       "    </tr>\n",
       "  </tbody>\n",
       "</table>\n",
       "</div>"
      ],
      "text/plain": [
       "  time_of_day      day  count_2\n",
       "0     morning  weekday     1034\n",
       "1     morning  weekend      602\n",
       "2   afternoon  weekday     3185\n",
       "3   afternoon  weekend     1881\n",
       "4       night  weekday      924\n",
       "5       night  weekend      455\n",
       "6        noon  weekday      109\n",
       "7        noon  weekend       63"
      ]
     },
     "execution_count": 248,
     "metadata": {},
     "output_type": "execute_result"
    }
   ],
   "source": [
    "time_weekday"
   ]
  },
  {
   "cell_type": "code",
   "execution_count": 249,
   "id": "577963f1",
   "metadata": {},
   "outputs": [],
   "source": [
    "df=station_time[['time_of_day','time_of_day_cat']].T\n",
    "df.columns = df.iloc[0]\n",
    "df = df[1:]\n",
    "dict_time = df.to_dict('records')"
   ]
  },
  {
   "cell_type": "code",
   "execution_count": 250,
   "id": "d1455314",
   "metadata": {},
   "outputs": [
    {
     "data": {
      "text/plain": [
       "{'morning': 1, 'afternoon': 2, 'night': 3, 'noon': 4}"
      ]
     },
     "execution_count": 250,
     "metadata": {},
     "output_type": "execute_result"
    }
   ],
   "source": [
    "dict_time[0]"
   ]
  },
  {
   "cell_type": "code",
   "execution_count": 251,
   "id": "fed784ad",
   "metadata": {},
   "outputs": [
    {
     "data": {
      "text/html": [
       "<div>\n",
       "<style scoped>\n",
       "    .dataframe tbody tr th:only-of-type {\n",
       "        vertical-align: middle;\n",
       "    }\n",
       "\n",
       "    .dataframe tbody tr th {\n",
       "        vertical-align: top;\n",
       "    }\n",
       "\n",
       "    .dataframe thead th {\n",
       "        text-align: right;\n",
       "    }\n",
       "</style>\n",
       "<table border=\"1\" class=\"dataframe\">\n",
       "  <thead>\n",
       "    <tr style=\"text-align: right;\">\n",
       "      <th></th>\n",
       "      <th>time_of_day</th>\n",
       "      <th>day</th>\n",
       "      <th>count_2</th>\n",
       "      <th>day_cat</th>\n",
       "      <th>time_of_day_cat</th>\n",
       "    </tr>\n",
       "  </thead>\n",
       "  <tbody>\n",
       "    <tr>\n",
       "      <th>0</th>\n",
       "      <td>morning</td>\n",
       "      <td>weekday</td>\n",
       "      <td>1034</td>\n",
       "      <td>5</td>\n",
       "      <td>1</td>\n",
       "    </tr>\n",
       "    <tr>\n",
       "      <th>1</th>\n",
       "      <td>morning</td>\n",
       "      <td>weekend</td>\n",
       "      <td>602</td>\n",
       "      <td>6</td>\n",
       "      <td>1</td>\n",
       "    </tr>\n",
       "    <tr>\n",
       "      <th>2</th>\n",
       "      <td>afternoon</td>\n",
       "      <td>weekday</td>\n",
       "      <td>3185</td>\n",
       "      <td>5</td>\n",
       "      <td>2</td>\n",
       "    </tr>\n",
       "    <tr>\n",
       "      <th>3</th>\n",
       "      <td>afternoon</td>\n",
       "      <td>weekend</td>\n",
       "      <td>1881</td>\n",
       "      <td>6</td>\n",
       "      <td>2</td>\n",
       "    </tr>\n",
       "    <tr>\n",
       "      <th>4</th>\n",
       "      <td>night</td>\n",
       "      <td>weekday</td>\n",
       "      <td>924</td>\n",
       "      <td>5</td>\n",
       "      <td>3</td>\n",
       "    </tr>\n",
       "    <tr>\n",
       "      <th>5</th>\n",
       "      <td>night</td>\n",
       "      <td>weekend</td>\n",
       "      <td>455</td>\n",
       "      <td>6</td>\n",
       "      <td>3</td>\n",
       "    </tr>\n",
       "    <tr>\n",
       "      <th>6</th>\n",
       "      <td>noon</td>\n",
       "      <td>weekday</td>\n",
       "      <td>109</td>\n",
       "      <td>5</td>\n",
       "      <td>4</td>\n",
       "    </tr>\n",
       "    <tr>\n",
       "      <th>7</th>\n",
       "      <td>noon</td>\n",
       "      <td>weekend</td>\n",
       "      <td>63</td>\n",
       "      <td>6</td>\n",
       "      <td>4</td>\n",
       "    </tr>\n",
       "  </tbody>\n",
       "</table>\n",
       "</div>"
      ],
      "text/plain": [
       "  time_of_day      day  count_2  day_cat time_of_day_cat\n",
       "0     morning  weekday     1034        5               1\n",
       "1     morning  weekend      602        6               1\n",
       "2   afternoon  weekday     3185        5               2\n",
       "3   afternoon  weekend     1881        6               2\n",
       "4       night  weekday      924        5               3\n",
       "5       night  weekend      455        6               3\n",
       "6        noon  weekday      109        5               4\n",
       "7        noon  weekend       63        6               4"
      ]
     },
     "execution_count": 251,
     "metadata": {},
     "output_type": "execute_result"
    }
   ],
   "source": [
    "time_weekday['day_cat'] = time_weekday['day'].map({'weekday': 5, 'weekend': 6})\n",
    "time_weekday['time_of_day_cat'] = time_weekday['time_of_day'].map(dict_time[0])\n",
    "time_weekday"
   ]
  },
  {
   "cell_type": "code",
   "execution_count": 270,
   "id": "e50149e1",
   "metadata": {},
   "outputs": [],
   "source": [
    "source = station_time['from_station_cat'].append(time_weekday['time_of_day_cat'])\n",
    "target = station_time['time_of_day_cat'].append(time_weekday['day_cat'])\n",
    "value = station_time['count_1'].append(time_weekday['count_2'])\n",
    "label = ['Pier 69','morning','afternoon','night','noon','weekday','weekend']"
   ]
  },
  {
   "cell_type": "code",
   "execution_count": 271,
   "id": "3603c839",
   "metadata": {},
   "outputs": [
    {
     "data": {
      "text/html": [
       "        <script type=\"text/javascript\">\n",
       "        window.PlotlyConfig = {MathJaxConfig: 'local'};\n",
       "        if (window.MathJax) {MathJax.Hub.Config({SVG: {font: \"STIX-Web\"}});}\n",
       "        if (typeof require !== 'undefined') {\n",
       "        require.undef(\"plotly\");\n",
       "        requirejs.config({\n",
       "            paths: {\n",
       "                'plotly': ['https://cdn.plot.ly/plotly-2.6.3.min']\n",
       "            }\n",
       "        });\n",
       "        require(['plotly'], function(Plotly) {\n",
       "            window._Plotly = Plotly;\n",
       "        });\n",
       "        }\n",
       "        </script>\n",
       "        "
      ]
     },
     "metadata": {},
     "output_type": "display_data"
    },
    {
     "data": {
      "application/vnd.plotly.v1+json": {
       "config": {
        "linkText": "Export to plot.ly",
        "plotlyServerURL": "https://plot.ly",
        "showLink": false
       },
       "data": [
        {
         "link": {
          "source": [
           0,
           0,
           0,
           0,
           1,
           1,
           2,
           2,
           3,
           3,
           4,
           4
          ],
          "target": [
           1,
           2,
           3,
           4,
           5,
           6,
           5,
           6,
           5,
           6,
           5,
           6
          ],
          "value": [
           1636,
           5066,
           1379,
           172,
           1034,
           602,
           3185,
           1881,
           924,
           455,
           109,
           63
          ]
         },
         "node": {
          "label": [
           "Pier 69",
           "morning",
           "afternoon",
           "night",
           "noon",
           "weekday",
           "weekend"
          ]
         },
         "type": "sankey"
        }
       ],
       "layout": {
        "template": {
         "data": {
          "bar": [
           {
            "error_x": {
             "color": "#2a3f5f"
            },
            "error_y": {
             "color": "#2a3f5f"
            },
            "marker": {
             "line": {
              "color": "#E5ECF6",
              "width": 0.5
             },
             "pattern": {
              "fillmode": "overlay",
              "size": 10,
              "solidity": 0.2
             }
            },
            "type": "bar"
           }
          ],
          "barpolar": [
           {
            "marker": {
             "line": {
              "color": "#E5ECF6",
              "width": 0.5
             },
             "pattern": {
              "fillmode": "overlay",
              "size": 10,
              "solidity": 0.2
             }
            },
            "type": "barpolar"
           }
          ],
          "carpet": [
           {
            "aaxis": {
             "endlinecolor": "#2a3f5f",
             "gridcolor": "white",
             "linecolor": "white",
             "minorgridcolor": "white",
             "startlinecolor": "#2a3f5f"
            },
            "baxis": {
             "endlinecolor": "#2a3f5f",
             "gridcolor": "white",
             "linecolor": "white",
             "minorgridcolor": "white",
             "startlinecolor": "#2a3f5f"
            },
            "type": "carpet"
           }
          ],
          "choropleth": [
           {
            "colorbar": {
             "outlinewidth": 0,
             "ticks": ""
            },
            "type": "choropleth"
           }
          ],
          "contour": [
           {
            "colorbar": {
             "outlinewidth": 0,
             "ticks": ""
            },
            "colorscale": [
             [
              0,
              "#0d0887"
             ],
             [
              0.1111111111111111,
              "#46039f"
             ],
             [
              0.2222222222222222,
              "#7201a8"
             ],
             [
              0.3333333333333333,
              "#9c179e"
             ],
             [
              0.4444444444444444,
              "#bd3786"
             ],
             [
              0.5555555555555556,
              "#d8576b"
             ],
             [
              0.6666666666666666,
              "#ed7953"
             ],
             [
              0.7777777777777778,
              "#fb9f3a"
             ],
             [
              0.8888888888888888,
              "#fdca26"
             ],
             [
              1,
              "#f0f921"
             ]
            ],
            "type": "contour"
           }
          ],
          "contourcarpet": [
           {
            "colorbar": {
             "outlinewidth": 0,
             "ticks": ""
            },
            "type": "contourcarpet"
           }
          ],
          "heatmap": [
           {
            "colorbar": {
             "outlinewidth": 0,
             "ticks": ""
            },
            "colorscale": [
             [
              0,
              "#0d0887"
             ],
             [
              0.1111111111111111,
              "#46039f"
             ],
             [
              0.2222222222222222,
              "#7201a8"
             ],
             [
              0.3333333333333333,
              "#9c179e"
             ],
             [
              0.4444444444444444,
              "#bd3786"
             ],
             [
              0.5555555555555556,
              "#d8576b"
             ],
             [
              0.6666666666666666,
              "#ed7953"
             ],
             [
              0.7777777777777778,
              "#fb9f3a"
             ],
             [
              0.8888888888888888,
              "#fdca26"
             ],
             [
              1,
              "#f0f921"
             ]
            ],
            "type": "heatmap"
           }
          ],
          "heatmapgl": [
           {
            "colorbar": {
             "outlinewidth": 0,
             "ticks": ""
            },
            "colorscale": [
             [
              0,
              "#0d0887"
             ],
             [
              0.1111111111111111,
              "#46039f"
             ],
             [
              0.2222222222222222,
              "#7201a8"
             ],
             [
              0.3333333333333333,
              "#9c179e"
             ],
             [
              0.4444444444444444,
              "#bd3786"
             ],
             [
              0.5555555555555556,
              "#d8576b"
             ],
             [
              0.6666666666666666,
              "#ed7953"
             ],
             [
              0.7777777777777778,
              "#fb9f3a"
             ],
             [
              0.8888888888888888,
              "#fdca26"
             ],
             [
              1,
              "#f0f921"
             ]
            ],
            "type": "heatmapgl"
           }
          ],
          "histogram": [
           {
            "marker": {
             "pattern": {
              "fillmode": "overlay",
              "size": 10,
              "solidity": 0.2
             }
            },
            "type": "histogram"
           }
          ],
          "histogram2d": [
           {
            "colorbar": {
             "outlinewidth": 0,
             "ticks": ""
            },
            "colorscale": [
             [
              0,
              "#0d0887"
             ],
             [
              0.1111111111111111,
              "#46039f"
             ],
             [
              0.2222222222222222,
              "#7201a8"
             ],
             [
              0.3333333333333333,
              "#9c179e"
             ],
             [
              0.4444444444444444,
              "#bd3786"
             ],
             [
              0.5555555555555556,
              "#d8576b"
             ],
             [
              0.6666666666666666,
              "#ed7953"
             ],
             [
              0.7777777777777778,
              "#fb9f3a"
             ],
             [
              0.8888888888888888,
              "#fdca26"
             ],
             [
              1,
              "#f0f921"
             ]
            ],
            "type": "histogram2d"
           }
          ],
          "histogram2dcontour": [
           {
            "colorbar": {
             "outlinewidth": 0,
             "ticks": ""
            },
            "colorscale": [
             [
              0,
              "#0d0887"
             ],
             [
              0.1111111111111111,
              "#46039f"
             ],
             [
              0.2222222222222222,
              "#7201a8"
             ],
             [
              0.3333333333333333,
              "#9c179e"
             ],
             [
              0.4444444444444444,
              "#bd3786"
             ],
             [
              0.5555555555555556,
              "#d8576b"
             ],
             [
              0.6666666666666666,
              "#ed7953"
             ],
             [
              0.7777777777777778,
              "#fb9f3a"
             ],
             [
              0.8888888888888888,
              "#fdca26"
             ],
             [
              1,
              "#f0f921"
             ]
            ],
            "type": "histogram2dcontour"
           }
          ],
          "mesh3d": [
           {
            "colorbar": {
             "outlinewidth": 0,
             "ticks": ""
            },
            "type": "mesh3d"
           }
          ],
          "parcoords": [
           {
            "line": {
             "colorbar": {
              "outlinewidth": 0,
              "ticks": ""
             }
            },
            "type": "parcoords"
           }
          ],
          "pie": [
           {
            "automargin": true,
            "type": "pie"
           }
          ],
          "scatter": [
           {
            "marker": {
             "colorbar": {
              "outlinewidth": 0,
              "ticks": ""
             }
            },
            "type": "scatter"
           }
          ],
          "scatter3d": [
           {
            "line": {
             "colorbar": {
              "outlinewidth": 0,
              "ticks": ""
             }
            },
            "marker": {
             "colorbar": {
              "outlinewidth": 0,
              "ticks": ""
             }
            },
            "type": "scatter3d"
           }
          ],
          "scattercarpet": [
           {
            "marker": {
             "colorbar": {
              "outlinewidth": 0,
              "ticks": ""
             }
            },
            "type": "scattercarpet"
           }
          ],
          "scattergeo": [
           {
            "marker": {
             "colorbar": {
              "outlinewidth": 0,
              "ticks": ""
             }
            },
            "type": "scattergeo"
           }
          ],
          "scattergl": [
           {
            "marker": {
             "colorbar": {
              "outlinewidth": 0,
              "ticks": ""
             }
            },
            "type": "scattergl"
           }
          ],
          "scattermapbox": [
           {
            "marker": {
             "colorbar": {
              "outlinewidth": 0,
              "ticks": ""
             }
            },
            "type": "scattermapbox"
           }
          ],
          "scatterpolar": [
           {
            "marker": {
             "colorbar": {
              "outlinewidth": 0,
              "ticks": ""
             }
            },
            "type": "scatterpolar"
           }
          ],
          "scatterpolargl": [
           {
            "marker": {
             "colorbar": {
              "outlinewidth": 0,
              "ticks": ""
             }
            },
            "type": "scatterpolargl"
           }
          ],
          "scatterternary": [
           {
            "marker": {
             "colorbar": {
              "outlinewidth": 0,
              "ticks": ""
             }
            },
            "type": "scatterternary"
           }
          ],
          "surface": [
           {
            "colorbar": {
             "outlinewidth": 0,
             "ticks": ""
            },
            "colorscale": [
             [
              0,
              "#0d0887"
             ],
             [
              0.1111111111111111,
              "#46039f"
             ],
             [
              0.2222222222222222,
              "#7201a8"
             ],
             [
              0.3333333333333333,
              "#9c179e"
             ],
             [
              0.4444444444444444,
              "#bd3786"
             ],
             [
              0.5555555555555556,
              "#d8576b"
             ],
             [
              0.6666666666666666,
              "#ed7953"
             ],
             [
              0.7777777777777778,
              "#fb9f3a"
             ],
             [
              0.8888888888888888,
              "#fdca26"
             ],
             [
              1,
              "#f0f921"
             ]
            ],
            "type": "surface"
           }
          ],
          "table": [
           {
            "cells": {
             "fill": {
              "color": "#EBF0F8"
             },
             "line": {
              "color": "white"
             }
            },
            "header": {
             "fill": {
              "color": "#C8D4E3"
             },
             "line": {
              "color": "white"
             }
            },
            "type": "table"
           }
          ]
         },
         "layout": {
          "annotationdefaults": {
           "arrowcolor": "#2a3f5f",
           "arrowhead": 0,
           "arrowwidth": 1
          },
          "autotypenumbers": "strict",
          "coloraxis": {
           "colorbar": {
            "outlinewidth": 0,
            "ticks": ""
           }
          },
          "colorscale": {
           "diverging": [
            [
             0,
             "#8e0152"
            ],
            [
             0.1,
             "#c51b7d"
            ],
            [
             0.2,
             "#de77ae"
            ],
            [
             0.3,
             "#f1b6da"
            ],
            [
             0.4,
             "#fde0ef"
            ],
            [
             0.5,
             "#f7f7f7"
            ],
            [
             0.6,
             "#e6f5d0"
            ],
            [
             0.7,
             "#b8e186"
            ],
            [
             0.8,
             "#7fbc41"
            ],
            [
             0.9,
             "#4d9221"
            ],
            [
             1,
             "#276419"
            ]
           ],
           "sequential": [
            [
             0,
             "#0d0887"
            ],
            [
             0.1111111111111111,
             "#46039f"
            ],
            [
             0.2222222222222222,
             "#7201a8"
            ],
            [
             0.3333333333333333,
             "#9c179e"
            ],
            [
             0.4444444444444444,
             "#bd3786"
            ],
            [
             0.5555555555555556,
             "#d8576b"
            ],
            [
             0.6666666666666666,
             "#ed7953"
            ],
            [
             0.7777777777777778,
             "#fb9f3a"
            ],
            [
             0.8888888888888888,
             "#fdca26"
            ],
            [
             1,
             "#f0f921"
            ]
           ],
           "sequentialminus": [
            [
             0,
             "#0d0887"
            ],
            [
             0.1111111111111111,
             "#46039f"
            ],
            [
             0.2222222222222222,
             "#7201a8"
            ],
            [
             0.3333333333333333,
             "#9c179e"
            ],
            [
             0.4444444444444444,
             "#bd3786"
            ],
            [
             0.5555555555555556,
             "#d8576b"
            ],
            [
             0.6666666666666666,
             "#ed7953"
            ],
            [
             0.7777777777777778,
             "#fb9f3a"
            ],
            [
             0.8888888888888888,
             "#fdca26"
            ],
            [
             1,
             "#f0f921"
            ]
           ]
          },
          "colorway": [
           "#636efa",
           "#EF553B",
           "#00cc96",
           "#ab63fa",
           "#FFA15A",
           "#19d3f3",
           "#FF6692",
           "#B6E880",
           "#FF97FF",
           "#FECB52"
          ],
          "font": {
           "color": "#2a3f5f"
          },
          "geo": {
           "bgcolor": "white",
           "lakecolor": "white",
           "landcolor": "#E5ECF6",
           "showlakes": true,
           "showland": true,
           "subunitcolor": "white"
          },
          "hoverlabel": {
           "align": "left"
          },
          "hovermode": "closest",
          "mapbox": {
           "style": "light"
          },
          "paper_bgcolor": "white",
          "plot_bgcolor": "#E5ECF6",
          "polar": {
           "angularaxis": {
            "gridcolor": "white",
            "linecolor": "white",
            "ticks": ""
           },
           "bgcolor": "#E5ECF6",
           "radialaxis": {
            "gridcolor": "white",
            "linecolor": "white",
            "ticks": ""
           }
          },
          "scene": {
           "xaxis": {
            "backgroundcolor": "#E5ECF6",
            "gridcolor": "white",
            "gridwidth": 2,
            "linecolor": "white",
            "showbackground": true,
            "ticks": "",
            "zerolinecolor": "white"
           },
           "yaxis": {
            "backgroundcolor": "#E5ECF6",
            "gridcolor": "white",
            "gridwidth": 2,
            "linecolor": "white",
            "showbackground": true,
            "ticks": "",
            "zerolinecolor": "white"
           },
           "zaxis": {
            "backgroundcolor": "#E5ECF6",
            "gridcolor": "white",
            "gridwidth": 2,
            "linecolor": "white",
            "showbackground": true,
            "ticks": "",
            "zerolinecolor": "white"
           }
          },
          "shapedefaults": {
           "line": {
            "color": "#2a3f5f"
           }
          },
          "ternary": {
           "aaxis": {
            "gridcolor": "white",
            "linecolor": "white",
            "ticks": ""
           },
           "baxis": {
            "gridcolor": "white",
            "linecolor": "white",
            "ticks": ""
           },
           "bgcolor": "#E5ECF6",
           "caxis": {
            "gridcolor": "white",
            "linecolor": "white",
            "ticks": ""
           }
          },
          "title": {
           "x": 0.05
          },
          "xaxis": {
           "automargin": true,
           "gridcolor": "white",
           "linecolor": "white",
           "ticks": "",
           "title": {
            "standoff": 15
           },
           "zerolinecolor": "white",
           "zerolinewidth": 2
          },
          "yaxis": {
           "automargin": true,
           "gridcolor": "white",
           "linecolor": "white",
           "ticks": "",
           "title": {
            "standoff": 15
           },
           "zerolinecolor": "white",
           "zerolinewidth": 2
          }
         }
        }
       }
      },
      "text/html": [
       "<div>                            <div id=\"7d717f2c-0ffe-4a66-80d6-5e9c2d444055\" class=\"plotly-graph-div\" style=\"height:525px; width:100%;\"></div>            <script type=\"text/javascript\">                require([\"plotly\"], function(Plotly) {                    window.PLOTLYENV=window.PLOTLYENV || {};                                    if (document.getElementById(\"7d717f2c-0ffe-4a66-80d6-5e9c2d444055\")) {                    Plotly.newPlot(                        \"7d717f2c-0ffe-4a66-80d6-5e9c2d444055\",                        [{\"link\":{\"source\":[0,0,0,0,1,1,2,2,3,3,4,4],\"target\":[1,2,3,4,5,6,5,6,5,6,5,6],\"value\":[1636,5066,1379,172,1034,602,3185,1881,924,455,109,63]},\"node\":{\"label\":[\"Pier 69\",\"morning\",\"afternoon\",\"night\",\"noon\",\"weekday\",\"weekend\"]},\"type\":\"sankey\"}],                        {\"template\":{\"data\":{\"barpolar\":[{\"marker\":{\"line\":{\"color\":\"#E5ECF6\",\"width\":0.5},\"pattern\":{\"fillmode\":\"overlay\",\"size\":10,\"solidity\":0.2}},\"type\":\"barpolar\"}],\"bar\":[{\"error_x\":{\"color\":\"#2a3f5f\"},\"error_y\":{\"color\":\"#2a3f5f\"},\"marker\":{\"line\":{\"color\":\"#E5ECF6\",\"width\":0.5},\"pattern\":{\"fillmode\":\"overlay\",\"size\":10,\"solidity\":0.2}},\"type\":\"bar\"}],\"carpet\":[{\"aaxis\":{\"endlinecolor\":\"#2a3f5f\",\"gridcolor\":\"white\",\"linecolor\":\"white\",\"minorgridcolor\":\"white\",\"startlinecolor\":\"#2a3f5f\"},\"baxis\":{\"endlinecolor\":\"#2a3f5f\",\"gridcolor\":\"white\",\"linecolor\":\"white\",\"minorgridcolor\":\"white\",\"startlinecolor\":\"#2a3f5f\"},\"type\":\"carpet\"}],\"choropleth\":[{\"colorbar\":{\"outlinewidth\":0,\"ticks\":\"\"},\"type\":\"choropleth\"}],\"contourcarpet\":[{\"colorbar\":{\"outlinewidth\":0,\"ticks\":\"\"},\"type\":\"contourcarpet\"}],\"contour\":[{\"colorbar\":{\"outlinewidth\":0,\"ticks\":\"\"},\"colorscale\":[[0.0,\"#0d0887\"],[0.1111111111111111,\"#46039f\"],[0.2222222222222222,\"#7201a8\"],[0.3333333333333333,\"#9c179e\"],[0.4444444444444444,\"#bd3786\"],[0.5555555555555556,\"#d8576b\"],[0.6666666666666666,\"#ed7953\"],[0.7777777777777778,\"#fb9f3a\"],[0.8888888888888888,\"#fdca26\"],[1.0,\"#f0f921\"]],\"type\":\"contour\"}],\"heatmapgl\":[{\"colorbar\":{\"outlinewidth\":0,\"ticks\":\"\"},\"colorscale\":[[0.0,\"#0d0887\"],[0.1111111111111111,\"#46039f\"],[0.2222222222222222,\"#7201a8\"],[0.3333333333333333,\"#9c179e\"],[0.4444444444444444,\"#bd3786\"],[0.5555555555555556,\"#d8576b\"],[0.6666666666666666,\"#ed7953\"],[0.7777777777777778,\"#fb9f3a\"],[0.8888888888888888,\"#fdca26\"],[1.0,\"#f0f921\"]],\"type\":\"heatmapgl\"}],\"heatmap\":[{\"colorbar\":{\"outlinewidth\":0,\"ticks\":\"\"},\"colorscale\":[[0.0,\"#0d0887\"],[0.1111111111111111,\"#46039f\"],[0.2222222222222222,\"#7201a8\"],[0.3333333333333333,\"#9c179e\"],[0.4444444444444444,\"#bd3786\"],[0.5555555555555556,\"#d8576b\"],[0.6666666666666666,\"#ed7953\"],[0.7777777777777778,\"#fb9f3a\"],[0.8888888888888888,\"#fdca26\"],[1.0,\"#f0f921\"]],\"type\":\"heatmap\"}],\"histogram2dcontour\":[{\"colorbar\":{\"outlinewidth\":0,\"ticks\":\"\"},\"colorscale\":[[0.0,\"#0d0887\"],[0.1111111111111111,\"#46039f\"],[0.2222222222222222,\"#7201a8\"],[0.3333333333333333,\"#9c179e\"],[0.4444444444444444,\"#bd3786\"],[0.5555555555555556,\"#d8576b\"],[0.6666666666666666,\"#ed7953\"],[0.7777777777777778,\"#fb9f3a\"],[0.8888888888888888,\"#fdca26\"],[1.0,\"#f0f921\"]],\"type\":\"histogram2dcontour\"}],\"histogram2d\":[{\"colorbar\":{\"outlinewidth\":0,\"ticks\":\"\"},\"colorscale\":[[0.0,\"#0d0887\"],[0.1111111111111111,\"#46039f\"],[0.2222222222222222,\"#7201a8\"],[0.3333333333333333,\"#9c179e\"],[0.4444444444444444,\"#bd3786\"],[0.5555555555555556,\"#d8576b\"],[0.6666666666666666,\"#ed7953\"],[0.7777777777777778,\"#fb9f3a\"],[0.8888888888888888,\"#fdca26\"],[1.0,\"#f0f921\"]],\"type\":\"histogram2d\"}],\"histogram\":[{\"marker\":{\"pattern\":{\"fillmode\":\"overlay\",\"size\":10,\"solidity\":0.2}},\"type\":\"histogram\"}],\"mesh3d\":[{\"colorbar\":{\"outlinewidth\":0,\"ticks\":\"\"},\"type\":\"mesh3d\"}],\"parcoords\":[{\"line\":{\"colorbar\":{\"outlinewidth\":0,\"ticks\":\"\"}},\"type\":\"parcoords\"}],\"pie\":[{\"automargin\":true,\"type\":\"pie\"}],\"scatter3d\":[{\"line\":{\"colorbar\":{\"outlinewidth\":0,\"ticks\":\"\"}},\"marker\":{\"colorbar\":{\"outlinewidth\":0,\"ticks\":\"\"}},\"type\":\"scatter3d\"}],\"scattercarpet\":[{\"marker\":{\"colorbar\":{\"outlinewidth\":0,\"ticks\":\"\"}},\"type\":\"scattercarpet\"}],\"scattergeo\":[{\"marker\":{\"colorbar\":{\"outlinewidth\":0,\"ticks\":\"\"}},\"type\":\"scattergeo\"}],\"scattergl\":[{\"marker\":{\"colorbar\":{\"outlinewidth\":0,\"ticks\":\"\"}},\"type\":\"scattergl\"}],\"scattermapbox\":[{\"marker\":{\"colorbar\":{\"outlinewidth\":0,\"ticks\":\"\"}},\"type\":\"scattermapbox\"}],\"scatterpolargl\":[{\"marker\":{\"colorbar\":{\"outlinewidth\":0,\"ticks\":\"\"}},\"type\":\"scatterpolargl\"}],\"scatterpolar\":[{\"marker\":{\"colorbar\":{\"outlinewidth\":0,\"ticks\":\"\"}},\"type\":\"scatterpolar\"}],\"scatter\":[{\"marker\":{\"colorbar\":{\"outlinewidth\":0,\"ticks\":\"\"}},\"type\":\"scatter\"}],\"scatterternary\":[{\"marker\":{\"colorbar\":{\"outlinewidth\":0,\"ticks\":\"\"}},\"type\":\"scatterternary\"}],\"surface\":[{\"colorbar\":{\"outlinewidth\":0,\"ticks\":\"\"},\"colorscale\":[[0.0,\"#0d0887\"],[0.1111111111111111,\"#46039f\"],[0.2222222222222222,\"#7201a8\"],[0.3333333333333333,\"#9c179e\"],[0.4444444444444444,\"#bd3786\"],[0.5555555555555556,\"#d8576b\"],[0.6666666666666666,\"#ed7953\"],[0.7777777777777778,\"#fb9f3a\"],[0.8888888888888888,\"#fdca26\"],[1.0,\"#f0f921\"]],\"type\":\"surface\"}],\"table\":[{\"cells\":{\"fill\":{\"color\":\"#EBF0F8\"},\"line\":{\"color\":\"white\"}},\"header\":{\"fill\":{\"color\":\"#C8D4E3\"},\"line\":{\"color\":\"white\"}},\"type\":\"table\"}]},\"layout\":{\"annotationdefaults\":{\"arrowcolor\":\"#2a3f5f\",\"arrowhead\":0,\"arrowwidth\":1},\"autotypenumbers\":\"strict\",\"coloraxis\":{\"colorbar\":{\"outlinewidth\":0,\"ticks\":\"\"}},\"colorscale\":{\"diverging\":[[0,\"#8e0152\"],[0.1,\"#c51b7d\"],[0.2,\"#de77ae\"],[0.3,\"#f1b6da\"],[0.4,\"#fde0ef\"],[0.5,\"#f7f7f7\"],[0.6,\"#e6f5d0\"],[0.7,\"#b8e186\"],[0.8,\"#7fbc41\"],[0.9,\"#4d9221\"],[1,\"#276419\"]],\"sequential\":[[0.0,\"#0d0887\"],[0.1111111111111111,\"#46039f\"],[0.2222222222222222,\"#7201a8\"],[0.3333333333333333,\"#9c179e\"],[0.4444444444444444,\"#bd3786\"],[0.5555555555555556,\"#d8576b\"],[0.6666666666666666,\"#ed7953\"],[0.7777777777777778,\"#fb9f3a\"],[0.8888888888888888,\"#fdca26\"],[1.0,\"#f0f921\"]],\"sequentialminus\":[[0.0,\"#0d0887\"],[0.1111111111111111,\"#46039f\"],[0.2222222222222222,\"#7201a8\"],[0.3333333333333333,\"#9c179e\"],[0.4444444444444444,\"#bd3786\"],[0.5555555555555556,\"#d8576b\"],[0.6666666666666666,\"#ed7953\"],[0.7777777777777778,\"#fb9f3a\"],[0.8888888888888888,\"#fdca26\"],[1.0,\"#f0f921\"]]},\"colorway\":[\"#636efa\",\"#EF553B\",\"#00cc96\",\"#ab63fa\",\"#FFA15A\",\"#19d3f3\",\"#FF6692\",\"#B6E880\",\"#FF97FF\",\"#FECB52\"],\"font\":{\"color\":\"#2a3f5f\"},\"geo\":{\"bgcolor\":\"white\",\"lakecolor\":\"white\",\"landcolor\":\"#E5ECF6\",\"showlakes\":true,\"showland\":true,\"subunitcolor\":\"white\"},\"hoverlabel\":{\"align\":\"left\"},\"hovermode\":\"closest\",\"mapbox\":{\"style\":\"light\"},\"paper_bgcolor\":\"white\",\"plot_bgcolor\":\"#E5ECF6\",\"polar\":{\"angularaxis\":{\"gridcolor\":\"white\",\"linecolor\":\"white\",\"ticks\":\"\"},\"bgcolor\":\"#E5ECF6\",\"radialaxis\":{\"gridcolor\":\"white\",\"linecolor\":\"white\",\"ticks\":\"\"}},\"scene\":{\"xaxis\":{\"backgroundcolor\":\"#E5ECF6\",\"gridcolor\":\"white\",\"gridwidth\":2,\"linecolor\":\"white\",\"showbackground\":true,\"ticks\":\"\",\"zerolinecolor\":\"white\"},\"yaxis\":{\"backgroundcolor\":\"#E5ECF6\",\"gridcolor\":\"white\",\"gridwidth\":2,\"linecolor\":\"white\",\"showbackground\":true,\"ticks\":\"\",\"zerolinecolor\":\"white\"},\"zaxis\":{\"backgroundcolor\":\"#E5ECF6\",\"gridcolor\":\"white\",\"gridwidth\":2,\"linecolor\":\"white\",\"showbackground\":true,\"ticks\":\"\",\"zerolinecolor\":\"white\"}},\"shapedefaults\":{\"line\":{\"color\":\"#2a3f5f\"}},\"ternary\":{\"aaxis\":{\"gridcolor\":\"white\",\"linecolor\":\"white\",\"ticks\":\"\"},\"baxis\":{\"gridcolor\":\"white\",\"linecolor\":\"white\",\"ticks\":\"\"},\"bgcolor\":\"#E5ECF6\",\"caxis\":{\"gridcolor\":\"white\",\"linecolor\":\"white\",\"ticks\":\"\"}},\"title\":{\"x\":0.05},\"xaxis\":{\"automargin\":true,\"gridcolor\":\"white\",\"linecolor\":\"white\",\"ticks\":\"\",\"title\":{\"standoff\":15},\"zerolinecolor\":\"white\",\"zerolinewidth\":2},\"yaxis\":{\"automargin\":true,\"gridcolor\":\"white\",\"linecolor\":\"white\",\"ticks\":\"\",\"title\":{\"standoff\":15},\"zerolinecolor\":\"white\",\"zerolinewidth\":2}}}},                        {\"responsive\": true}                    ).then(function(){\n",
       "                            \n",
       "var gd = document.getElementById('7d717f2c-0ffe-4a66-80d6-5e9c2d444055');\n",
       "var x = new MutationObserver(function (mutations, observer) {{\n",
       "        var display = window.getComputedStyle(gd).display;\n",
       "        if (!display || display === 'none') {{\n",
       "            console.log([gd, 'removed!']);\n",
       "            Plotly.purge(gd);\n",
       "            observer.disconnect();\n",
       "        }}\n",
       "}});\n",
       "\n",
       "// Listen for the removal of the full notebook cells\n",
       "var notebookContainer = gd.closest('#notebook-container');\n",
       "if (notebookContainer) {{\n",
       "    x.observe(notebookContainer, {childList: true});\n",
       "}}\n",
       "\n",
       "// Listen for the clearing of the current output cell\n",
       "var outputEl = gd.closest('.output');\n",
       "if (outputEl) {{\n",
       "    x.observe(outputEl, {childList: true});\n",
       "}}\n",
       "\n",
       "                        })                };                });            </script>        </div>"
      ]
     },
     "metadata": {},
     "output_type": "display_data"
    }
   ],
   "source": [
    "link = dict(source = source, target = target, value = value)\n",
    "node = dict(label = label)\n",
    "data = go.Sankey(link = link, node=node)\n",
    "\n",
    "fig_teste2 = go.Figure(data)\n",
    "init_notebook_mode(connected=True)\n",
    "iplot(fig_teste2)"
   ]
  },
  {
   "cell_type": "code",
   "execution_count": 185,
   "id": "7d4b8611",
   "metadata": {},
   "outputs": [],
   "source": [
    "weekday_station = df4.groupby(['day','to_station_name']).size().reset_index(name='count_3')"
   ]
  },
  {
   "cell_type": "code",
   "execution_count": 186,
   "id": "58f22c14",
   "metadata": {},
   "outputs": [
    {
     "data": {
      "text/html": [
       "<div>\n",
       "<style scoped>\n",
       "    .dataframe tbody tr th:only-of-type {\n",
       "        vertical-align: middle;\n",
       "    }\n",
       "\n",
       "    .dataframe tbody tr th {\n",
       "        vertical-align: top;\n",
       "    }\n",
       "\n",
       "    .dataframe thead th {\n",
       "        text-align: right;\n",
       "    }\n",
       "</style>\n",
       "<table border=\"1\" class=\"dataframe\">\n",
       "  <thead>\n",
       "    <tr style=\"text-align: right;\">\n",
       "      <th></th>\n",
       "      <th>day</th>\n",
       "      <th>to_station_name</th>\n",
       "      <th>count_3</th>\n",
       "    </tr>\n",
       "  </thead>\n",
       "  <tbody>\n",
       "    <tr>\n",
       "      <th>0</th>\n",
       "      <td>weekday</td>\n",
       "      <td>2nd Ave &amp; Pine St</td>\n",
       "      <td>223</td>\n",
       "    </tr>\n",
       "    <tr>\n",
       "      <th>1</th>\n",
       "      <td>weekday</td>\n",
       "      <td>3rd Ave &amp; Broad St</td>\n",
       "      <td>183</td>\n",
       "    </tr>\n",
       "    <tr>\n",
       "      <th>2</th>\n",
       "      <td>weekday</td>\n",
       "      <td>Burke-Gilman Trail</td>\n",
       "      <td>2</td>\n",
       "    </tr>\n",
       "    <tr>\n",
       "      <th>3</th>\n",
       "      <td>weekday</td>\n",
       "      <td>E Pine St &amp; 16th Ave</td>\n",
       "      <td>2</td>\n",
       "    </tr>\n",
       "    <tr>\n",
       "      <th>4</th>\n",
       "      <td>weekday</td>\n",
       "      <td>King Street Station Plaza</td>\n",
       "      <td>927</td>\n",
       "    </tr>\n",
       "    <tr>\n",
       "      <th>5</th>\n",
       "      <td>weekday</td>\n",
       "      <td>Lake Union Park</td>\n",
       "      <td>34</td>\n",
       "    </tr>\n",
       "    <tr>\n",
       "      <th>6</th>\n",
       "      <td>weekday</td>\n",
       "      <td>Pier 69</td>\n",
       "      <td>2318</td>\n",
       "    </tr>\n",
       "    <tr>\n",
       "      <th>7</th>\n",
       "      <td>weekday</td>\n",
       "      <td>Pine St &amp; 9th Ave</td>\n",
       "      <td>33</td>\n",
       "    </tr>\n",
       "    <tr>\n",
       "      <th>8</th>\n",
       "      <td>weekday</td>\n",
       "      <td>Seattle Aquarium</td>\n",
       "      <td>1530</td>\n",
       "    </tr>\n",
       "    <tr>\n",
       "      <th>9</th>\n",
       "      <td>weekend</td>\n",
       "      <td>2nd Ave &amp; Pine St</td>\n",
       "      <td>87</td>\n",
       "    </tr>\n",
       "    <tr>\n",
       "      <th>10</th>\n",
       "      <td>weekend</td>\n",
       "      <td>3rd Ave &amp; Broad St</td>\n",
       "      <td>164</td>\n",
       "    </tr>\n",
       "    <tr>\n",
       "      <th>11</th>\n",
       "      <td>weekend</td>\n",
       "      <td>Burke-Gilman Trail</td>\n",
       "      <td>2</td>\n",
       "    </tr>\n",
       "    <tr>\n",
       "      <th>12</th>\n",
       "      <td>weekend</td>\n",
       "      <td>E Pine St &amp; 16th Ave</td>\n",
       "      <td>1</td>\n",
       "    </tr>\n",
       "    <tr>\n",
       "      <th>13</th>\n",
       "      <td>weekend</td>\n",
       "      <td>King Street Station Plaza</td>\n",
       "      <td>35</td>\n",
       "    </tr>\n",
       "    <tr>\n",
       "      <th>14</th>\n",
       "      <td>weekend</td>\n",
       "      <td>Lake Union Park</td>\n",
       "      <td>41</td>\n",
       "    </tr>\n",
       "    <tr>\n",
       "      <th>15</th>\n",
       "      <td>weekend</td>\n",
       "      <td>Pier 69</td>\n",
       "      <td>1891</td>\n",
       "    </tr>\n",
       "    <tr>\n",
       "      <th>16</th>\n",
       "      <td>weekend</td>\n",
       "      <td>Pine St &amp; 9th Ave</td>\n",
       "      <td>19</td>\n",
       "    </tr>\n",
       "    <tr>\n",
       "      <th>17</th>\n",
       "      <td>weekend</td>\n",
       "      <td>Seattle Aquarium</td>\n",
       "      <td>761</td>\n",
       "    </tr>\n",
       "  </tbody>\n",
       "</table>\n",
       "</div>"
      ],
      "text/plain": [
       "        day            to_station_name  count_3\n",
       "0   weekday          2nd Ave & Pine St      223\n",
       "1   weekday         3rd Ave & Broad St      183\n",
       "2   weekday         Burke-Gilman Trail        2\n",
       "3   weekday       E Pine St & 16th Ave        2\n",
       "4   weekday  King Street Station Plaza      927\n",
       "5   weekday            Lake Union Park       34\n",
       "6   weekday                    Pier 69     2318\n",
       "7   weekday          Pine St & 9th Ave       33\n",
       "8   weekday           Seattle Aquarium     1530\n",
       "9   weekend          2nd Ave & Pine St       87\n",
       "10  weekend         3rd Ave & Broad St      164\n",
       "11  weekend         Burke-Gilman Trail        2\n",
       "12  weekend       E Pine St & 16th Ave        1\n",
       "13  weekend  King Street Station Plaza       35\n",
       "14  weekend            Lake Union Park       41\n",
       "15  weekend                    Pier 69     1891\n",
       "16  weekend          Pine St & 9th Ave       19\n",
       "17  weekend           Seattle Aquarium      761"
      ]
     },
     "execution_count": 186,
     "metadata": {},
     "output_type": "execute_result"
    }
   ],
   "source": [
    "weekday_station"
   ]
  },
  {
   "cell_type": "code",
   "execution_count": 272,
   "id": "7445d21c",
   "metadata": {},
   "outputs": [],
   "source": [
    "weekday_station['day_cat'] = weekday_station['day'].map({'weekday': 5, 'weekend': 6})"
   ]
  },
  {
   "cell_type": "code",
   "execution_count": 274,
   "id": "44b4ea90",
   "metadata": {},
   "outputs": [],
   "source": [
    "dict_station = {'Pier 69':0,'2nd Ave & Pine St':7, '3rd Ave & Broad St':8, 'Burke-Gilman Trail':9,\n",
    "                'E Pine St & 16th Ave':10, 'King Street Station Plaza':11,'Lake Union Park':12,\n",
    "                'Pine St & 9th Ave':13,'Seattle Aquarium':14}"
   ]
  },
  {
   "cell_type": "code",
   "execution_count": 276,
   "id": "9b6a6f6f",
   "metadata": {},
   "outputs": [],
   "source": [
    "weekday_station['to_station_cat'] = weekday_station['to_station_name'].map(dict_station)"
   ]
  },
  {
   "cell_type": "code",
   "execution_count": 277,
   "id": "b72b4efa",
   "metadata": {},
   "outputs": [
    {
     "data": {
      "text/html": [
       "<div>\n",
       "<style scoped>\n",
       "    .dataframe tbody tr th:only-of-type {\n",
       "        vertical-align: middle;\n",
       "    }\n",
       "\n",
       "    .dataframe tbody tr th {\n",
       "        vertical-align: top;\n",
       "    }\n",
       "\n",
       "    .dataframe thead th {\n",
       "        text-align: right;\n",
       "    }\n",
       "</style>\n",
       "<table border=\"1\" class=\"dataframe\">\n",
       "  <thead>\n",
       "    <tr style=\"text-align: right;\">\n",
       "      <th></th>\n",
       "      <th>day</th>\n",
       "      <th>to_station_name</th>\n",
       "      <th>count_3</th>\n",
       "      <th>day_cat</th>\n",
       "      <th>to_station_cat</th>\n",
       "    </tr>\n",
       "  </thead>\n",
       "  <tbody>\n",
       "    <tr>\n",
       "      <th>0</th>\n",
       "      <td>weekday</td>\n",
       "      <td>2nd Ave &amp; Pine St</td>\n",
       "      <td>223</td>\n",
       "      <td>5</td>\n",
       "      <td>7</td>\n",
       "    </tr>\n",
       "    <tr>\n",
       "      <th>1</th>\n",
       "      <td>weekday</td>\n",
       "      <td>3rd Ave &amp; Broad St</td>\n",
       "      <td>183</td>\n",
       "      <td>5</td>\n",
       "      <td>8</td>\n",
       "    </tr>\n",
       "    <tr>\n",
       "      <th>2</th>\n",
       "      <td>weekday</td>\n",
       "      <td>Burke-Gilman Trail</td>\n",
       "      <td>2</td>\n",
       "      <td>5</td>\n",
       "      <td>9</td>\n",
       "    </tr>\n",
       "    <tr>\n",
       "      <th>3</th>\n",
       "      <td>weekday</td>\n",
       "      <td>E Pine St &amp; 16th Ave</td>\n",
       "      <td>2</td>\n",
       "      <td>5</td>\n",
       "      <td>10</td>\n",
       "    </tr>\n",
       "    <tr>\n",
       "      <th>4</th>\n",
       "      <td>weekday</td>\n",
       "      <td>King Street Station Plaza</td>\n",
       "      <td>927</td>\n",
       "      <td>5</td>\n",
       "      <td>11</td>\n",
       "    </tr>\n",
       "    <tr>\n",
       "      <th>5</th>\n",
       "      <td>weekday</td>\n",
       "      <td>Lake Union Park</td>\n",
       "      <td>34</td>\n",
       "      <td>5</td>\n",
       "      <td>12</td>\n",
       "    </tr>\n",
       "    <tr>\n",
       "      <th>6</th>\n",
       "      <td>weekday</td>\n",
       "      <td>Pier 69</td>\n",
       "      <td>2318</td>\n",
       "      <td>5</td>\n",
       "      <td>0</td>\n",
       "    </tr>\n",
       "    <tr>\n",
       "      <th>7</th>\n",
       "      <td>weekday</td>\n",
       "      <td>Pine St &amp; 9th Ave</td>\n",
       "      <td>33</td>\n",
       "      <td>5</td>\n",
       "      <td>13</td>\n",
       "    </tr>\n",
       "    <tr>\n",
       "      <th>8</th>\n",
       "      <td>weekday</td>\n",
       "      <td>Seattle Aquarium</td>\n",
       "      <td>1530</td>\n",
       "      <td>5</td>\n",
       "      <td>14</td>\n",
       "    </tr>\n",
       "    <tr>\n",
       "      <th>9</th>\n",
       "      <td>weekend</td>\n",
       "      <td>2nd Ave &amp; Pine St</td>\n",
       "      <td>87</td>\n",
       "      <td>6</td>\n",
       "      <td>7</td>\n",
       "    </tr>\n",
       "    <tr>\n",
       "      <th>10</th>\n",
       "      <td>weekend</td>\n",
       "      <td>3rd Ave &amp; Broad St</td>\n",
       "      <td>164</td>\n",
       "      <td>6</td>\n",
       "      <td>8</td>\n",
       "    </tr>\n",
       "    <tr>\n",
       "      <th>11</th>\n",
       "      <td>weekend</td>\n",
       "      <td>Burke-Gilman Trail</td>\n",
       "      <td>2</td>\n",
       "      <td>6</td>\n",
       "      <td>9</td>\n",
       "    </tr>\n",
       "    <tr>\n",
       "      <th>12</th>\n",
       "      <td>weekend</td>\n",
       "      <td>E Pine St &amp; 16th Ave</td>\n",
       "      <td>1</td>\n",
       "      <td>6</td>\n",
       "      <td>10</td>\n",
       "    </tr>\n",
       "    <tr>\n",
       "      <th>13</th>\n",
       "      <td>weekend</td>\n",
       "      <td>King Street Station Plaza</td>\n",
       "      <td>35</td>\n",
       "      <td>6</td>\n",
       "      <td>11</td>\n",
       "    </tr>\n",
       "    <tr>\n",
       "      <th>14</th>\n",
       "      <td>weekend</td>\n",
       "      <td>Lake Union Park</td>\n",
       "      <td>41</td>\n",
       "      <td>6</td>\n",
       "      <td>12</td>\n",
       "    </tr>\n",
       "    <tr>\n",
       "      <th>15</th>\n",
       "      <td>weekend</td>\n",
       "      <td>Pier 69</td>\n",
       "      <td>1891</td>\n",
       "      <td>6</td>\n",
       "      <td>0</td>\n",
       "    </tr>\n",
       "    <tr>\n",
       "      <th>16</th>\n",
       "      <td>weekend</td>\n",
       "      <td>Pine St &amp; 9th Ave</td>\n",
       "      <td>19</td>\n",
       "      <td>6</td>\n",
       "      <td>13</td>\n",
       "    </tr>\n",
       "    <tr>\n",
       "      <th>17</th>\n",
       "      <td>weekend</td>\n",
       "      <td>Seattle Aquarium</td>\n",
       "      <td>761</td>\n",
       "      <td>6</td>\n",
       "      <td>14</td>\n",
       "    </tr>\n",
       "  </tbody>\n",
       "</table>\n",
       "</div>"
      ],
      "text/plain": [
       "        day            to_station_name  count_3  day_cat  to_station_cat\n",
       "0   weekday          2nd Ave & Pine St      223        5               7\n",
       "1   weekday         3rd Ave & Broad St      183        5               8\n",
       "2   weekday         Burke-Gilman Trail        2        5               9\n",
       "3   weekday       E Pine St & 16th Ave        2        5              10\n",
       "4   weekday  King Street Station Plaza      927        5              11\n",
       "5   weekday            Lake Union Park       34        5              12\n",
       "6   weekday                    Pier 69     2318        5               0\n",
       "7   weekday          Pine St & 9th Ave       33        5              13\n",
       "8   weekday           Seattle Aquarium     1530        5              14\n",
       "9   weekend          2nd Ave & Pine St       87        6               7\n",
       "10  weekend         3rd Ave & Broad St      164        6               8\n",
       "11  weekend         Burke-Gilman Trail        2        6               9\n",
       "12  weekend       E Pine St & 16th Ave        1        6              10\n",
       "13  weekend  King Street Station Plaza       35        6              11\n",
       "14  weekend            Lake Union Park       41        6              12\n",
       "15  weekend                    Pier 69     1891        6               0\n",
       "16  weekend          Pine St & 9th Ave       19        6              13\n",
       "17  weekend           Seattle Aquarium      761        6              14"
      ]
     },
     "execution_count": 277,
     "metadata": {},
     "output_type": "execute_result"
    }
   ],
   "source": [
    "weekday_station"
   ]
  },
  {
   "cell_type": "code",
   "execution_count": 278,
   "id": "3811953d",
   "metadata": {},
   "outputs": [],
   "source": [
    "source = station_time['from_station_cat'].append(time_weekday['time_of_day_cat']).append(weekday_station['day_cat'])\n",
    "target = station_time['time_of_day_cat'].append(time_weekday['day_cat']).append(weekday_station['to_station_cat'])\n",
    "value = station_time['count_1'].append(time_weekday['count_2']).append(weekday_station['count_3'])\n",
    "label = ['Pier 69','morning','afternoon','night','noon','weekday','weekend','2nd Ave & Pine St', '3rd Ave & Broad St',\n",
    "         'Burke-Gilman Trail','E Pine St & 16th Ave', 'King Street Station Plaza','Lake Union Park','Pine St & 9th Ave','Seattle Aquarium']"
   ]
  },
  {
   "cell_type": "code",
   "execution_count": 314,
   "id": "e3c6e33e",
   "metadata": {},
   "outputs": [],
   "source": [
    "color_node = ['#756bb1',\n",
    "              '#e6550d', '#fee391','#3182bd','#000000',\n",
    "              '#de77ae', '#238b45', \n",
    "              '#1b9e77', '#d95f02','#7570b3', '#e7298a', '#66a61e', '#e6ab02', '#756bb1','#a6761d', '#666666']\n",
    "\n",
    "color_link = ['#bcbddc', '#bcbddc', '#bcbddc', '#bcbddc',\n",
    "              '#fdae6b', '#fdae6b','#fff7bc', '#fff7bc','#9ecae1', '#9ecae1', '#525252', '#525252',\n",
    "              '#fa9fb5', '#fa9fb5','#fa9fb5', '#fa9fb5', '#fa9fb5', '#fa9fb5', '#fa9fb5','#fa9fb5', '#fa9fb5',\n",
    "              '#a1d99b', '#a1d99b','#a1d99b', '#a1d99b', '#a1d99b', '#a1d99b', '#a1d99b','#a1d99b', '#a1d99b']"
   ]
  },
  {
   "cell_type": "code",
   "execution_count": 322,
   "id": "a910588b",
   "metadata": {
    "scrolled": true
   },
   "outputs": [
    {
     "data": {
      "text/html": [
       "        <script type=\"text/javascript\">\n",
       "        window.PlotlyConfig = {MathJaxConfig: 'local'};\n",
       "        if (window.MathJax) {MathJax.Hub.Config({SVG: {font: \"STIX-Web\"}});}\n",
       "        if (typeof require !== 'undefined') {\n",
       "        require.undef(\"plotly\");\n",
       "        requirejs.config({\n",
       "            paths: {\n",
       "                'plotly': ['https://cdn.plot.ly/plotly-2.6.3.min']\n",
       "            }\n",
       "        });\n",
       "        require(['plotly'], function(Plotly) {\n",
       "            window._Plotly = Plotly;\n",
       "        });\n",
       "        }\n",
       "        </script>\n",
       "        "
      ]
     },
     "metadata": {},
     "output_type": "display_data"
    },
    {
     "data": {
      "application/vnd.plotly.v1+json": {
       "config": {
        "linkText": "Export to plot.ly",
        "plotlyServerURL": "https://plot.ly",
        "showLink": false
       },
       "data": [
        {
         "link": {
          "color": [
           "#bcbddc",
           "#bcbddc",
           "#bcbddc",
           "#bcbddc",
           "#fdae6b",
           "#fdae6b",
           "#fff7bc",
           "#fff7bc",
           "#9ecae1",
           "#9ecae1",
           "#525252",
           "#525252",
           "#fa9fb5",
           "#fa9fb5",
           "#fa9fb5",
           "#fa9fb5",
           "#fa9fb5",
           "#fa9fb5",
           "#fa9fb5",
           "#fa9fb5",
           "#fa9fb5",
           "#a1d99b",
           "#a1d99b",
           "#a1d99b",
           "#a1d99b",
           "#a1d99b",
           "#a1d99b",
           "#a1d99b",
           "#a1d99b",
           "#a1d99b"
          ],
          "source": [
           0,
           0,
           0,
           0,
           1,
           1,
           2,
           2,
           3,
           3,
           4,
           4,
           5,
           5,
           5,
           5,
           5,
           5,
           5,
           5,
           5,
           6,
           6,
           6,
           6,
           6,
           6,
           6,
           6,
           6
          ],
          "target": [
           1,
           2,
           3,
           4,
           5,
           6,
           5,
           6,
           5,
           6,
           5,
           6,
           7,
           8,
           9,
           10,
           11,
           12,
           0,
           13,
           14,
           7,
           8,
           9,
           10,
           11,
           12,
           0,
           13,
           14
          ],
          "value": [
           1636,
           5066,
           1379,
           172,
           1034,
           602,
           3185,
           1881,
           924,
           455,
           109,
           63,
           223,
           183,
           2,
           2,
           927,
           34,
           2318,
           33,
           1530,
           87,
           164,
           2,
           1,
           35,
           41,
           1891,
           19,
           761
          ]
         },
         "node": {
          "color": [
           "#756bb1",
           "#e6550d",
           "#fee391",
           "#3182bd",
           "#000000",
           "#de77ae",
           "#238b45",
           "#1b9e77",
           "#d95f02",
           "#7570b3",
           "#e7298a",
           "#66a61e",
           "#e6ab02",
           "#756bb1",
           "#a6761d",
           "#666666"
          ],
          "label": [
           "Pier 69",
           "morning",
           "afternoon",
           "night",
           "noon",
           "weekday",
           "weekend",
           "2nd Ave & Pine St",
           "3rd Ave & Broad St",
           "Burke-Gilman Trail",
           "E Pine St & 16th Ave",
           "King Street Station Plaza",
           "Lake Union Park",
           "Pine St & 9th Ave",
           "Seattle Aquarium"
          ]
         },
         "type": "sankey"
        }
       ],
       "layout": {
        "font": {
         "size": 14
        },
        "template": {
         "data": {
          "bar": [
           {
            "error_x": {
             "color": "#2a3f5f"
            },
            "error_y": {
             "color": "#2a3f5f"
            },
            "marker": {
             "line": {
              "color": "#E5ECF6",
              "width": 0.5
             },
             "pattern": {
              "fillmode": "overlay",
              "size": 10,
              "solidity": 0.2
             }
            },
            "type": "bar"
           }
          ],
          "barpolar": [
           {
            "marker": {
             "line": {
              "color": "#E5ECF6",
              "width": 0.5
             },
             "pattern": {
              "fillmode": "overlay",
              "size": 10,
              "solidity": 0.2
             }
            },
            "type": "barpolar"
           }
          ],
          "carpet": [
           {
            "aaxis": {
             "endlinecolor": "#2a3f5f",
             "gridcolor": "white",
             "linecolor": "white",
             "minorgridcolor": "white",
             "startlinecolor": "#2a3f5f"
            },
            "baxis": {
             "endlinecolor": "#2a3f5f",
             "gridcolor": "white",
             "linecolor": "white",
             "minorgridcolor": "white",
             "startlinecolor": "#2a3f5f"
            },
            "type": "carpet"
           }
          ],
          "choropleth": [
           {
            "colorbar": {
             "outlinewidth": 0,
             "ticks": ""
            },
            "type": "choropleth"
           }
          ],
          "contour": [
           {
            "colorbar": {
             "outlinewidth": 0,
             "ticks": ""
            },
            "colorscale": [
             [
              0,
              "#0d0887"
             ],
             [
              0.1111111111111111,
              "#46039f"
             ],
             [
              0.2222222222222222,
              "#7201a8"
             ],
             [
              0.3333333333333333,
              "#9c179e"
             ],
             [
              0.4444444444444444,
              "#bd3786"
             ],
             [
              0.5555555555555556,
              "#d8576b"
             ],
             [
              0.6666666666666666,
              "#ed7953"
             ],
             [
              0.7777777777777778,
              "#fb9f3a"
             ],
             [
              0.8888888888888888,
              "#fdca26"
             ],
             [
              1,
              "#f0f921"
             ]
            ],
            "type": "contour"
           }
          ],
          "contourcarpet": [
           {
            "colorbar": {
             "outlinewidth": 0,
             "ticks": ""
            },
            "type": "contourcarpet"
           }
          ],
          "heatmap": [
           {
            "colorbar": {
             "outlinewidth": 0,
             "ticks": ""
            },
            "colorscale": [
             [
              0,
              "#0d0887"
             ],
             [
              0.1111111111111111,
              "#46039f"
             ],
             [
              0.2222222222222222,
              "#7201a8"
             ],
             [
              0.3333333333333333,
              "#9c179e"
             ],
             [
              0.4444444444444444,
              "#bd3786"
             ],
             [
              0.5555555555555556,
              "#d8576b"
             ],
             [
              0.6666666666666666,
              "#ed7953"
             ],
             [
              0.7777777777777778,
              "#fb9f3a"
             ],
             [
              0.8888888888888888,
              "#fdca26"
             ],
             [
              1,
              "#f0f921"
             ]
            ],
            "type": "heatmap"
           }
          ],
          "heatmapgl": [
           {
            "colorbar": {
             "outlinewidth": 0,
             "ticks": ""
            },
            "colorscale": [
             [
              0,
              "#0d0887"
             ],
             [
              0.1111111111111111,
              "#46039f"
             ],
             [
              0.2222222222222222,
              "#7201a8"
             ],
             [
              0.3333333333333333,
              "#9c179e"
             ],
             [
              0.4444444444444444,
              "#bd3786"
             ],
             [
              0.5555555555555556,
              "#d8576b"
             ],
             [
              0.6666666666666666,
              "#ed7953"
             ],
             [
              0.7777777777777778,
              "#fb9f3a"
             ],
             [
              0.8888888888888888,
              "#fdca26"
             ],
             [
              1,
              "#f0f921"
             ]
            ],
            "type": "heatmapgl"
           }
          ],
          "histogram": [
           {
            "marker": {
             "pattern": {
              "fillmode": "overlay",
              "size": 10,
              "solidity": 0.2
             }
            },
            "type": "histogram"
           }
          ],
          "histogram2d": [
           {
            "colorbar": {
             "outlinewidth": 0,
             "ticks": ""
            },
            "colorscale": [
             [
              0,
              "#0d0887"
             ],
             [
              0.1111111111111111,
              "#46039f"
             ],
             [
              0.2222222222222222,
              "#7201a8"
             ],
             [
              0.3333333333333333,
              "#9c179e"
             ],
             [
              0.4444444444444444,
              "#bd3786"
             ],
             [
              0.5555555555555556,
              "#d8576b"
             ],
             [
              0.6666666666666666,
              "#ed7953"
             ],
             [
              0.7777777777777778,
              "#fb9f3a"
             ],
             [
              0.8888888888888888,
              "#fdca26"
             ],
             [
              1,
              "#f0f921"
             ]
            ],
            "type": "histogram2d"
           }
          ],
          "histogram2dcontour": [
           {
            "colorbar": {
             "outlinewidth": 0,
             "ticks": ""
            },
            "colorscale": [
             [
              0,
              "#0d0887"
             ],
             [
              0.1111111111111111,
              "#46039f"
             ],
             [
              0.2222222222222222,
              "#7201a8"
             ],
             [
              0.3333333333333333,
              "#9c179e"
             ],
             [
              0.4444444444444444,
              "#bd3786"
             ],
             [
              0.5555555555555556,
              "#d8576b"
             ],
             [
              0.6666666666666666,
              "#ed7953"
             ],
             [
              0.7777777777777778,
              "#fb9f3a"
             ],
             [
              0.8888888888888888,
              "#fdca26"
             ],
             [
              1,
              "#f0f921"
             ]
            ],
            "type": "histogram2dcontour"
           }
          ],
          "mesh3d": [
           {
            "colorbar": {
             "outlinewidth": 0,
             "ticks": ""
            },
            "type": "mesh3d"
           }
          ],
          "parcoords": [
           {
            "line": {
             "colorbar": {
              "outlinewidth": 0,
              "ticks": ""
             }
            },
            "type": "parcoords"
           }
          ],
          "pie": [
           {
            "automargin": true,
            "type": "pie"
           }
          ],
          "scatter": [
           {
            "marker": {
             "colorbar": {
              "outlinewidth": 0,
              "ticks": ""
             }
            },
            "type": "scatter"
           }
          ],
          "scatter3d": [
           {
            "line": {
             "colorbar": {
              "outlinewidth": 0,
              "ticks": ""
             }
            },
            "marker": {
             "colorbar": {
              "outlinewidth": 0,
              "ticks": ""
             }
            },
            "type": "scatter3d"
           }
          ],
          "scattercarpet": [
           {
            "marker": {
             "colorbar": {
              "outlinewidth": 0,
              "ticks": ""
             }
            },
            "type": "scattercarpet"
           }
          ],
          "scattergeo": [
           {
            "marker": {
             "colorbar": {
              "outlinewidth": 0,
              "ticks": ""
             }
            },
            "type": "scattergeo"
           }
          ],
          "scattergl": [
           {
            "marker": {
             "colorbar": {
              "outlinewidth": 0,
              "ticks": ""
             }
            },
            "type": "scattergl"
           }
          ],
          "scattermapbox": [
           {
            "marker": {
             "colorbar": {
              "outlinewidth": 0,
              "ticks": ""
             }
            },
            "type": "scattermapbox"
           }
          ],
          "scatterpolar": [
           {
            "marker": {
             "colorbar": {
              "outlinewidth": 0,
              "ticks": ""
             }
            },
            "type": "scatterpolar"
           }
          ],
          "scatterpolargl": [
           {
            "marker": {
             "colorbar": {
              "outlinewidth": 0,
              "ticks": ""
             }
            },
            "type": "scatterpolargl"
           }
          ],
          "scatterternary": [
           {
            "marker": {
             "colorbar": {
              "outlinewidth": 0,
              "ticks": ""
             }
            },
            "type": "scatterternary"
           }
          ],
          "surface": [
           {
            "colorbar": {
             "outlinewidth": 0,
             "ticks": ""
            },
            "colorscale": [
             [
              0,
              "#0d0887"
             ],
             [
              0.1111111111111111,
              "#46039f"
             ],
             [
              0.2222222222222222,
              "#7201a8"
             ],
             [
              0.3333333333333333,
              "#9c179e"
             ],
             [
              0.4444444444444444,
              "#bd3786"
             ],
             [
              0.5555555555555556,
              "#d8576b"
             ],
             [
              0.6666666666666666,
              "#ed7953"
             ],
             [
              0.7777777777777778,
              "#fb9f3a"
             ],
             [
              0.8888888888888888,
              "#fdca26"
             ],
             [
              1,
              "#f0f921"
             ]
            ],
            "type": "surface"
           }
          ],
          "table": [
           {
            "cells": {
             "fill": {
              "color": "#EBF0F8"
             },
             "line": {
              "color": "white"
             }
            },
            "header": {
             "fill": {
              "color": "#C8D4E3"
             },
             "line": {
              "color": "white"
             }
            },
            "type": "table"
           }
          ]
         },
         "layout": {
          "annotationdefaults": {
           "arrowcolor": "#2a3f5f",
           "arrowhead": 0,
           "arrowwidth": 1
          },
          "autotypenumbers": "strict",
          "coloraxis": {
           "colorbar": {
            "outlinewidth": 0,
            "ticks": ""
           }
          },
          "colorscale": {
           "diverging": [
            [
             0,
             "#8e0152"
            ],
            [
             0.1,
             "#c51b7d"
            ],
            [
             0.2,
             "#de77ae"
            ],
            [
             0.3,
             "#f1b6da"
            ],
            [
             0.4,
             "#fde0ef"
            ],
            [
             0.5,
             "#f7f7f7"
            ],
            [
             0.6,
             "#e6f5d0"
            ],
            [
             0.7,
             "#b8e186"
            ],
            [
             0.8,
             "#7fbc41"
            ],
            [
             0.9,
             "#4d9221"
            ],
            [
             1,
             "#276419"
            ]
           ],
           "sequential": [
            [
             0,
             "#0d0887"
            ],
            [
             0.1111111111111111,
             "#46039f"
            ],
            [
             0.2222222222222222,
             "#7201a8"
            ],
            [
             0.3333333333333333,
             "#9c179e"
            ],
            [
             0.4444444444444444,
             "#bd3786"
            ],
            [
             0.5555555555555556,
             "#d8576b"
            ],
            [
             0.6666666666666666,
             "#ed7953"
            ],
            [
             0.7777777777777778,
             "#fb9f3a"
            ],
            [
             0.8888888888888888,
             "#fdca26"
            ],
            [
             1,
             "#f0f921"
            ]
           ],
           "sequentialminus": [
            [
             0,
             "#0d0887"
            ],
            [
             0.1111111111111111,
             "#46039f"
            ],
            [
             0.2222222222222222,
             "#7201a8"
            ],
            [
             0.3333333333333333,
             "#9c179e"
            ],
            [
             0.4444444444444444,
             "#bd3786"
            ],
            [
             0.5555555555555556,
             "#d8576b"
            ],
            [
             0.6666666666666666,
             "#ed7953"
            ],
            [
             0.7777777777777778,
             "#fb9f3a"
            ],
            [
             0.8888888888888888,
             "#fdca26"
            ],
            [
             1,
             "#f0f921"
            ]
           ]
          },
          "colorway": [
           "#636efa",
           "#EF553B",
           "#00cc96",
           "#ab63fa",
           "#FFA15A",
           "#19d3f3",
           "#FF6692",
           "#B6E880",
           "#FF97FF",
           "#FECB52"
          ],
          "font": {
           "color": "#2a3f5f"
          },
          "geo": {
           "bgcolor": "white",
           "lakecolor": "white",
           "landcolor": "#E5ECF6",
           "showlakes": true,
           "showland": true,
           "subunitcolor": "white"
          },
          "hoverlabel": {
           "align": "left"
          },
          "hovermode": "closest",
          "mapbox": {
           "style": "light"
          },
          "paper_bgcolor": "white",
          "plot_bgcolor": "#E5ECF6",
          "polar": {
           "angularaxis": {
            "gridcolor": "white",
            "linecolor": "white",
            "ticks": ""
           },
           "bgcolor": "#E5ECF6",
           "radialaxis": {
            "gridcolor": "white",
            "linecolor": "white",
            "ticks": ""
           }
          },
          "scene": {
           "xaxis": {
            "backgroundcolor": "#E5ECF6",
            "gridcolor": "white",
            "gridwidth": 2,
            "linecolor": "white",
            "showbackground": true,
            "ticks": "",
            "zerolinecolor": "white"
           },
           "yaxis": {
            "backgroundcolor": "#E5ECF6",
            "gridcolor": "white",
            "gridwidth": 2,
            "linecolor": "white",
            "showbackground": true,
            "ticks": "",
            "zerolinecolor": "white"
           },
           "zaxis": {
            "backgroundcolor": "#E5ECF6",
            "gridcolor": "white",
            "gridwidth": 2,
            "linecolor": "white",
            "showbackground": true,
            "ticks": "",
            "zerolinecolor": "white"
           }
          },
          "shapedefaults": {
           "line": {
            "color": "#2a3f5f"
           }
          },
          "ternary": {
           "aaxis": {
            "gridcolor": "white",
            "linecolor": "white",
            "ticks": ""
           },
           "baxis": {
            "gridcolor": "white",
            "linecolor": "white",
            "ticks": ""
           },
           "bgcolor": "#E5ECF6",
           "caxis": {
            "gridcolor": "white",
            "linecolor": "white",
            "ticks": ""
           }
          },
          "title": {
           "x": 0.05
          },
          "xaxis": {
           "automargin": true,
           "gridcolor": "white",
           "linecolor": "white",
           "ticks": "",
           "title": {
            "standoff": 15
           },
           "zerolinecolor": "white",
           "zerolinewidth": 2
          },
          "yaxis": {
           "automargin": true,
           "gridcolor": "white",
           "linecolor": "white",
           "ticks": "",
           "title": {
            "standoff": 15
           },
           "zerolinecolor": "white",
           "zerolinewidth": 2
          }
         }
        },
        "title": {
         "text": "Seattle Bicycle Trips Flow from Pier 69 Station"
        }
       }
      },
      "text/html": [
       "<div>                            <div id=\"5649e3da-8def-49bb-ab42-c459ae3357bb\" class=\"plotly-graph-div\" style=\"height:525px; width:100%;\"></div>            <script type=\"text/javascript\">                require([\"plotly\"], function(Plotly) {                    window.PLOTLYENV=window.PLOTLYENV || {};                                    if (document.getElementById(\"5649e3da-8def-49bb-ab42-c459ae3357bb\")) {                    Plotly.newPlot(                        \"5649e3da-8def-49bb-ab42-c459ae3357bb\",                        [{\"link\":{\"color\":[\"#bcbddc\",\"#bcbddc\",\"#bcbddc\",\"#bcbddc\",\"#fdae6b\",\"#fdae6b\",\"#fff7bc\",\"#fff7bc\",\"#9ecae1\",\"#9ecae1\",\"#525252\",\"#525252\",\"#fa9fb5\",\"#fa9fb5\",\"#fa9fb5\",\"#fa9fb5\",\"#fa9fb5\",\"#fa9fb5\",\"#fa9fb5\",\"#fa9fb5\",\"#fa9fb5\",\"#a1d99b\",\"#a1d99b\",\"#a1d99b\",\"#a1d99b\",\"#a1d99b\",\"#a1d99b\",\"#a1d99b\",\"#a1d99b\",\"#a1d99b\"],\"source\":[0,0,0,0,1,1,2,2,3,3,4,4,5,5,5,5,5,5,5,5,5,6,6,6,6,6,6,6,6,6],\"target\":[1,2,3,4,5,6,5,6,5,6,5,6,7,8,9,10,11,12,0,13,14,7,8,9,10,11,12,0,13,14],\"value\":[1636,5066,1379,172,1034,602,3185,1881,924,455,109,63,223,183,2,2,927,34,2318,33,1530,87,164,2,1,35,41,1891,19,761]},\"node\":{\"color\":[\"#756bb1\",\"#e6550d\",\"#fee391\",\"#3182bd\",\"#000000\",\"#de77ae\",\"#238b45\",\"#1b9e77\",\"#d95f02\",\"#7570b3\",\"#e7298a\",\"#66a61e\",\"#e6ab02\",\"#756bb1\",\"#a6761d\",\"#666666\"],\"label\":[\"Pier 69\",\"morning\",\"afternoon\",\"night\",\"noon\",\"weekday\",\"weekend\",\"2nd Ave & Pine St\",\"3rd Ave & Broad St\",\"Burke-Gilman Trail\",\"E Pine St & 16th Ave\",\"King Street Station Plaza\",\"Lake Union Park\",\"Pine St & 9th Ave\",\"Seattle Aquarium\"]},\"type\":\"sankey\"}],                        {\"font\":{\"size\":14},\"template\":{\"data\":{\"barpolar\":[{\"marker\":{\"line\":{\"color\":\"#E5ECF6\",\"width\":0.5},\"pattern\":{\"fillmode\":\"overlay\",\"size\":10,\"solidity\":0.2}},\"type\":\"barpolar\"}],\"bar\":[{\"error_x\":{\"color\":\"#2a3f5f\"},\"error_y\":{\"color\":\"#2a3f5f\"},\"marker\":{\"line\":{\"color\":\"#E5ECF6\",\"width\":0.5},\"pattern\":{\"fillmode\":\"overlay\",\"size\":10,\"solidity\":0.2}},\"type\":\"bar\"}],\"carpet\":[{\"aaxis\":{\"endlinecolor\":\"#2a3f5f\",\"gridcolor\":\"white\",\"linecolor\":\"white\",\"minorgridcolor\":\"white\",\"startlinecolor\":\"#2a3f5f\"},\"baxis\":{\"endlinecolor\":\"#2a3f5f\",\"gridcolor\":\"white\",\"linecolor\":\"white\",\"minorgridcolor\":\"white\",\"startlinecolor\":\"#2a3f5f\"},\"type\":\"carpet\"}],\"choropleth\":[{\"colorbar\":{\"outlinewidth\":0,\"ticks\":\"\"},\"type\":\"choropleth\"}],\"contourcarpet\":[{\"colorbar\":{\"outlinewidth\":0,\"ticks\":\"\"},\"type\":\"contourcarpet\"}],\"contour\":[{\"colorbar\":{\"outlinewidth\":0,\"ticks\":\"\"},\"colorscale\":[[0.0,\"#0d0887\"],[0.1111111111111111,\"#46039f\"],[0.2222222222222222,\"#7201a8\"],[0.3333333333333333,\"#9c179e\"],[0.4444444444444444,\"#bd3786\"],[0.5555555555555556,\"#d8576b\"],[0.6666666666666666,\"#ed7953\"],[0.7777777777777778,\"#fb9f3a\"],[0.8888888888888888,\"#fdca26\"],[1.0,\"#f0f921\"]],\"type\":\"contour\"}],\"heatmapgl\":[{\"colorbar\":{\"outlinewidth\":0,\"ticks\":\"\"},\"colorscale\":[[0.0,\"#0d0887\"],[0.1111111111111111,\"#46039f\"],[0.2222222222222222,\"#7201a8\"],[0.3333333333333333,\"#9c179e\"],[0.4444444444444444,\"#bd3786\"],[0.5555555555555556,\"#d8576b\"],[0.6666666666666666,\"#ed7953\"],[0.7777777777777778,\"#fb9f3a\"],[0.8888888888888888,\"#fdca26\"],[1.0,\"#f0f921\"]],\"type\":\"heatmapgl\"}],\"heatmap\":[{\"colorbar\":{\"outlinewidth\":0,\"ticks\":\"\"},\"colorscale\":[[0.0,\"#0d0887\"],[0.1111111111111111,\"#46039f\"],[0.2222222222222222,\"#7201a8\"],[0.3333333333333333,\"#9c179e\"],[0.4444444444444444,\"#bd3786\"],[0.5555555555555556,\"#d8576b\"],[0.6666666666666666,\"#ed7953\"],[0.7777777777777778,\"#fb9f3a\"],[0.8888888888888888,\"#fdca26\"],[1.0,\"#f0f921\"]],\"type\":\"heatmap\"}],\"histogram2dcontour\":[{\"colorbar\":{\"outlinewidth\":0,\"ticks\":\"\"},\"colorscale\":[[0.0,\"#0d0887\"],[0.1111111111111111,\"#46039f\"],[0.2222222222222222,\"#7201a8\"],[0.3333333333333333,\"#9c179e\"],[0.4444444444444444,\"#bd3786\"],[0.5555555555555556,\"#d8576b\"],[0.6666666666666666,\"#ed7953\"],[0.7777777777777778,\"#fb9f3a\"],[0.8888888888888888,\"#fdca26\"],[1.0,\"#f0f921\"]],\"type\":\"histogram2dcontour\"}],\"histogram2d\":[{\"colorbar\":{\"outlinewidth\":0,\"ticks\":\"\"},\"colorscale\":[[0.0,\"#0d0887\"],[0.1111111111111111,\"#46039f\"],[0.2222222222222222,\"#7201a8\"],[0.3333333333333333,\"#9c179e\"],[0.4444444444444444,\"#bd3786\"],[0.5555555555555556,\"#d8576b\"],[0.6666666666666666,\"#ed7953\"],[0.7777777777777778,\"#fb9f3a\"],[0.8888888888888888,\"#fdca26\"],[1.0,\"#f0f921\"]],\"type\":\"histogram2d\"}],\"histogram\":[{\"marker\":{\"pattern\":{\"fillmode\":\"overlay\",\"size\":10,\"solidity\":0.2}},\"type\":\"histogram\"}],\"mesh3d\":[{\"colorbar\":{\"outlinewidth\":0,\"ticks\":\"\"},\"type\":\"mesh3d\"}],\"parcoords\":[{\"line\":{\"colorbar\":{\"outlinewidth\":0,\"ticks\":\"\"}},\"type\":\"parcoords\"}],\"pie\":[{\"automargin\":true,\"type\":\"pie\"}],\"scatter3d\":[{\"line\":{\"colorbar\":{\"outlinewidth\":0,\"ticks\":\"\"}},\"marker\":{\"colorbar\":{\"outlinewidth\":0,\"ticks\":\"\"}},\"type\":\"scatter3d\"}],\"scattercarpet\":[{\"marker\":{\"colorbar\":{\"outlinewidth\":0,\"ticks\":\"\"}},\"type\":\"scattercarpet\"}],\"scattergeo\":[{\"marker\":{\"colorbar\":{\"outlinewidth\":0,\"ticks\":\"\"}},\"type\":\"scattergeo\"}],\"scattergl\":[{\"marker\":{\"colorbar\":{\"outlinewidth\":0,\"ticks\":\"\"}},\"type\":\"scattergl\"}],\"scattermapbox\":[{\"marker\":{\"colorbar\":{\"outlinewidth\":0,\"ticks\":\"\"}},\"type\":\"scattermapbox\"}],\"scatterpolargl\":[{\"marker\":{\"colorbar\":{\"outlinewidth\":0,\"ticks\":\"\"}},\"type\":\"scatterpolargl\"}],\"scatterpolar\":[{\"marker\":{\"colorbar\":{\"outlinewidth\":0,\"ticks\":\"\"}},\"type\":\"scatterpolar\"}],\"scatter\":[{\"marker\":{\"colorbar\":{\"outlinewidth\":0,\"ticks\":\"\"}},\"type\":\"scatter\"}],\"scatterternary\":[{\"marker\":{\"colorbar\":{\"outlinewidth\":0,\"ticks\":\"\"}},\"type\":\"scatterternary\"}],\"surface\":[{\"colorbar\":{\"outlinewidth\":0,\"ticks\":\"\"},\"colorscale\":[[0.0,\"#0d0887\"],[0.1111111111111111,\"#46039f\"],[0.2222222222222222,\"#7201a8\"],[0.3333333333333333,\"#9c179e\"],[0.4444444444444444,\"#bd3786\"],[0.5555555555555556,\"#d8576b\"],[0.6666666666666666,\"#ed7953\"],[0.7777777777777778,\"#fb9f3a\"],[0.8888888888888888,\"#fdca26\"],[1.0,\"#f0f921\"]],\"type\":\"surface\"}],\"table\":[{\"cells\":{\"fill\":{\"color\":\"#EBF0F8\"},\"line\":{\"color\":\"white\"}},\"header\":{\"fill\":{\"color\":\"#C8D4E3\"},\"line\":{\"color\":\"white\"}},\"type\":\"table\"}]},\"layout\":{\"annotationdefaults\":{\"arrowcolor\":\"#2a3f5f\",\"arrowhead\":0,\"arrowwidth\":1},\"autotypenumbers\":\"strict\",\"coloraxis\":{\"colorbar\":{\"outlinewidth\":0,\"ticks\":\"\"}},\"colorscale\":{\"diverging\":[[0,\"#8e0152\"],[0.1,\"#c51b7d\"],[0.2,\"#de77ae\"],[0.3,\"#f1b6da\"],[0.4,\"#fde0ef\"],[0.5,\"#f7f7f7\"],[0.6,\"#e6f5d0\"],[0.7,\"#b8e186\"],[0.8,\"#7fbc41\"],[0.9,\"#4d9221\"],[1,\"#276419\"]],\"sequential\":[[0.0,\"#0d0887\"],[0.1111111111111111,\"#46039f\"],[0.2222222222222222,\"#7201a8\"],[0.3333333333333333,\"#9c179e\"],[0.4444444444444444,\"#bd3786\"],[0.5555555555555556,\"#d8576b\"],[0.6666666666666666,\"#ed7953\"],[0.7777777777777778,\"#fb9f3a\"],[0.8888888888888888,\"#fdca26\"],[1.0,\"#f0f921\"]],\"sequentialminus\":[[0.0,\"#0d0887\"],[0.1111111111111111,\"#46039f\"],[0.2222222222222222,\"#7201a8\"],[0.3333333333333333,\"#9c179e\"],[0.4444444444444444,\"#bd3786\"],[0.5555555555555556,\"#d8576b\"],[0.6666666666666666,\"#ed7953\"],[0.7777777777777778,\"#fb9f3a\"],[0.8888888888888888,\"#fdca26\"],[1.0,\"#f0f921\"]]},\"colorway\":[\"#636efa\",\"#EF553B\",\"#00cc96\",\"#ab63fa\",\"#FFA15A\",\"#19d3f3\",\"#FF6692\",\"#B6E880\",\"#FF97FF\",\"#FECB52\"],\"font\":{\"color\":\"#2a3f5f\"},\"geo\":{\"bgcolor\":\"white\",\"lakecolor\":\"white\",\"landcolor\":\"#E5ECF6\",\"showlakes\":true,\"showland\":true,\"subunitcolor\":\"white\"},\"hoverlabel\":{\"align\":\"left\"},\"hovermode\":\"closest\",\"mapbox\":{\"style\":\"light\"},\"paper_bgcolor\":\"white\",\"plot_bgcolor\":\"#E5ECF6\",\"polar\":{\"angularaxis\":{\"gridcolor\":\"white\",\"linecolor\":\"white\",\"ticks\":\"\"},\"bgcolor\":\"#E5ECF6\",\"radialaxis\":{\"gridcolor\":\"white\",\"linecolor\":\"white\",\"ticks\":\"\"}},\"scene\":{\"xaxis\":{\"backgroundcolor\":\"#E5ECF6\",\"gridcolor\":\"white\",\"gridwidth\":2,\"linecolor\":\"white\",\"showbackground\":true,\"ticks\":\"\",\"zerolinecolor\":\"white\"},\"yaxis\":{\"backgroundcolor\":\"#E5ECF6\",\"gridcolor\":\"white\",\"gridwidth\":2,\"linecolor\":\"white\",\"showbackground\":true,\"ticks\":\"\",\"zerolinecolor\":\"white\"},\"zaxis\":{\"backgroundcolor\":\"#E5ECF6\",\"gridcolor\":\"white\",\"gridwidth\":2,\"linecolor\":\"white\",\"showbackground\":true,\"ticks\":\"\",\"zerolinecolor\":\"white\"}},\"shapedefaults\":{\"line\":{\"color\":\"#2a3f5f\"}},\"ternary\":{\"aaxis\":{\"gridcolor\":\"white\",\"linecolor\":\"white\",\"ticks\":\"\"},\"baxis\":{\"gridcolor\":\"white\",\"linecolor\":\"white\",\"ticks\":\"\"},\"bgcolor\":\"#E5ECF6\",\"caxis\":{\"gridcolor\":\"white\",\"linecolor\":\"white\",\"ticks\":\"\"}},\"title\":{\"x\":0.05},\"xaxis\":{\"automargin\":true,\"gridcolor\":\"white\",\"linecolor\":\"white\",\"ticks\":\"\",\"title\":{\"standoff\":15},\"zerolinecolor\":\"white\",\"zerolinewidth\":2},\"yaxis\":{\"automargin\":true,\"gridcolor\":\"white\",\"linecolor\":\"white\",\"ticks\":\"\",\"title\":{\"standoff\":15},\"zerolinecolor\":\"white\",\"zerolinewidth\":2}}},\"title\":{\"text\":\"Seattle Bicycle Trips Flow from Pier 69 Station\"}},                        {\"responsive\": true}                    ).then(function(){\n",
       "                            \n",
       "var gd = document.getElementById('5649e3da-8def-49bb-ab42-c459ae3357bb');\n",
       "var x = new MutationObserver(function (mutations, observer) {{\n",
       "        var display = window.getComputedStyle(gd).display;\n",
       "        if (!display || display === 'none') {{\n",
       "            console.log([gd, 'removed!']);\n",
       "            Plotly.purge(gd);\n",
       "            observer.disconnect();\n",
       "        }}\n",
       "}});\n",
       "\n",
       "// Listen for the removal of the full notebook cells\n",
       "var notebookContainer = gd.closest('#notebook-container');\n",
       "if (notebookContainer) {{\n",
       "    x.observe(notebookContainer, {childList: true});\n",
       "}}\n",
       "\n",
       "// Listen for the clearing of the current output cell\n",
       "var outputEl = gd.closest('.output');\n",
       "if (outputEl) {{\n",
       "    x.observe(outputEl, {childList: true});\n",
       "}}\n",
       "\n",
       "                        })                };                });            </script>        </div>"
      ]
     },
     "metadata": {},
     "output_type": "display_data"
    }
   ],
   "source": [
    "link = dict(source = source, target = target, value = value, color=color_link)\n",
    "node = dict(label = label,color=color_node)\n",
    "data = go.Sankey(link = link, node=node)\n",
    "\n",
    "sankey = go.Figure(data)\n",
    "sankey.update_layout(title_text='Seattle Bicycle Trips Flow from Pier 69 Station',font_size=14)\n",
    "init_notebook_mode(connected=True)\n",
    "iplot(sankey)"
   ]
  },
  {
   "cell_type": "markdown",
   "id": "7cbe03d5",
   "metadata": {},
   "source": [
    "A análise do diagrama Sankey do fluxo de viagens de bicicleta a partir da estação Pier 69 revela que a maior parte das viagens se inicia entre 12h e 18h, durante a semana. Há uma pequena redução da quantidade de viagens que se iniciam e terminam na estação analisada durante os finais de semana, porém este movimento segue sendo extremamente relevante, o que não se observa no fluxo entre esta estação e as demais."
   ]
  }
 ],
 "metadata": {
  "kernelspec": {
   "display_name": "Python 3 (ipykernel)",
   "language": "python",
   "name": "python3"
  },
  "language_info": {
   "codemirror_mode": {
    "name": "ipython",
    "version": 3
   },
   "file_extension": ".py",
   "mimetype": "text/x-python",
   "name": "python",
   "nbconvert_exporter": "python",
   "pygments_lexer": "ipython3",
   "version": "3.9.6"
  }
 },
 "nbformat": 4,
 "nbformat_minor": 5
}
