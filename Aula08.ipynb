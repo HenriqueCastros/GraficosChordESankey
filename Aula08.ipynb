{
 "cells": [
  {
   "cell_type": "markdown",
   "id": "f7dc0009",
   "metadata": {},
   "source": [
    "# Exercício Gráfico Fluxo.\n",
    "Vocês vão utilizar um dos tipos de gráfico do tipo Fluxo (Flow).  \n",
    "  \n",
    "Referência: https://www.python-graph-gallery.com/  \n",
    "  \n",
    "Em grupo vocês devem decidir qual base aberta vão utilizar para fazer uma demonstracão de um fluxo de dados.  \n",
    "  \n",
    "No final da aula de hoje vocês devem ter decidido qual base utilizar e se possível uma tentatativa de como utilizar um dos gráficos de Fluxo.  \n",
    "  "
   ]
  },
  {
   "cell_type": "code",
   "execution_count": 1,
   "id": "1c216d60",
   "metadata": {},
   "outputs": [],
   "source": [
    "import pandas as pd"
   ]
  },
  {
   "cell_type": "code",
   "execution_count": null,
   "id": "8e101173",
   "metadata": {
    "scrolled": true
   },
   "outputs": [],
   "source": [
    "df = pd.read_csv('./trip.csv', sep=',')\n",
    "df = df.drop_duplicates(subset=['trip_id'])"
   ]
  },
  {
   "cell_type": "code",
   "execution_count": 3,
   "id": "f114cbec",
   "metadata": {},
   "outputs": [
    {
     "name": "stdout",
     "output_type": "stream",
     "text": [
      "<class 'pandas.core.frame.DataFrame'>\n",
      "Int64Index: 236065 entries, 0 to 286857\n",
      "Data columns (total 12 columns):\n",
      " #   Column             Non-Null Count   Dtype  \n",
      "---  ------             --------------   -----  \n",
      " 0   trip_id            236065 non-null  int64  \n",
      " 1   starttime          236065 non-null  object \n",
      " 2   stoptime           236065 non-null  object \n",
      " 3   bikeid             236065 non-null  object \n",
      " 4   tripduration       236065 non-null  float64\n",
      " 5   from_station_name  236065 non-null  object \n",
      " 6   to_station_name    236065 non-null  object \n",
      " 7   from_station_id    236065 non-null  object \n",
      " 8   to_station_id      236065 non-null  object \n",
      " 9   usertype           236064 non-null  object \n",
      " 10  gender             146171 non-null  object \n",
      " 11  birthyear          146167 non-null  float64\n",
      "dtypes: float64(2), int64(1), object(9)\n",
      "memory usage: 23.4+ MB\n"
     ]
    }
   ],
   "source": [
    "df.info()"
   ]
  },
  {
   "cell_type": "code",
   "execution_count": 4,
   "id": "fa739c7c",
   "metadata": {},
   "outputs": [
    {
     "data": {
      "text/plain": [
       "array(['CBD-06', 'PS-04', 'CBD-07', 'PS-05', 'CBD-05', 'CH-02', 'DPD-01',\n",
       "       'UD-01', 'WF-04', 'BT-04', 'UW-02', 'BT-03', 'ID-04', 'UD-02',\n",
       "       'UD-04', 'CBD-13', 'FH-01', 'CH-09', 'SLU-15', 'SLU-18', 'UW-10',\n",
       "       'CH-15', 'BT-05', 'SLU-01', 'UD-07', 'CBD-03', 'CH-08', 'UW-07',\n",
       "       'SLU-19', 'DPD-03', 'WF-01', 'CH-05', 'SLU-02', 'CH-07', 'UW-06',\n",
       "       'UW-04', 'SLU-17', 'EL-01', 'EL-05', 'CH-06', 'SLU-04', 'BT-01',\n",
       "       'CH-01', 'CH-03', 'CH-12', 'EL-03', 'FH-04', 'SLU-07', 'SLU-16',\n",
       "       'UW-01', 'CD-01', 'Pronto shop', 'SLU-20', 'CBD-04', 'SLU-21',\n",
       "       'UW-11', 'CH-16', 'Pronto shop 2', 'SLU-22', 'WF-03', '8D OPS 02'],\n",
       "      dtype=object)"
      ]
     },
     "execution_count": 4,
     "metadata": {},
     "output_type": "execute_result"
    }
   ],
   "source": [
    "df['from_station_id'].unique()"
   ]
  },
  {
   "cell_type": "code",
   "execution_count": 5,
   "id": "474f0f8c",
   "metadata": {},
   "outputs": [],
   "source": [
    "# bad_stations = ['Pronto shop', 'Pronto shop 2','8D OPS 02']\n",
    "# mascara_from = df['from_station_id'].isin(bad_stations)\n",
    "# mascara_to = df['to_station_id'].isin(bad_stations)\n",
    "\n",
    "# df = df[~mascara_from & ~mascara_to]"
   ]
  },
  {
   "cell_type": "code",
   "execution_count": 6,
   "id": "4abd41fd",
   "metadata": {},
   "outputs": [
    {
     "data": {
      "text/html": [
       "<div>\n",
       "<style scoped>\n",
       "    .dataframe tbody tr th:only-of-type {\n",
       "        vertical-align: middle;\n",
       "    }\n",
       "\n",
       "    .dataframe tbody tr th {\n",
       "        vertical-align: top;\n",
       "    }\n",
       "\n",
       "    .dataframe thead th {\n",
       "        text-align: right;\n",
       "    }\n",
       "</style>\n",
       "<table border=\"1\" class=\"dataframe\">\n",
       "  <thead>\n",
       "    <tr style=\"text-align: right;\">\n",
       "      <th></th>\n",
       "      <th>from_station_id</th>\n",
       "      <th>to_station_id</th>\n",
       "    </tr>\n",
       "  </thead>\n",
       "  <tbody>\n",
       "    <tr>\n",
       "      <th>0</th>\n",
       "      <td>CBD-06</td>\n",
       "      <td>PS-04</td>\n",
       "    </tr>\n",
       "    <tr>\n",
       "      <th>1</th>\n",
       "      <td>CBD-06</td>\n",
       "      <td>PS-04</td>\n",
       "    </tr>\n",
       "    <tr>\n",
       "      <th>2</th>\n",
       "      <td>CBD-06</td>\n",
       "      <td>PS-04</td>\n",
       "    </tr>\n",
       "    <tr>\n",
       "      <th>3</th>\n",
       "      <td>CBD-06</td>\n",
       "      <td>PS-04</td>\n",
       "    </tr>\n",
       "    <tr>\n",
       "      <th>4</th>\n",
       "      <td>CBD-06</td>\n",
       "      <td>PS-04</td>\n",
       "    </tr>\n",
       "    <tr>\n",
       "      <th>...</th>\n",
       "      <td>...</td>\n",
       "      <td>...</td>\n",
       "    </tr>\n",
       "    <tr>\n",
       "      <th>286853</th>\n",
       "      <td>CH-09</td>\n",
       "      <td>CBD-06</td>\n",
       "    </tr>\n",
       "    <tr>\n",
       "      <th>286854</th>\n",
       "      <td>CH-08</td>\n",
       "      <td>ID-04</td>\n",
       "    </tr>\n",
       "    <tr>\n",
       "      <th>286855</th>\n",
       "      <td>CH-08</td>\n",
       "      <td>ID-04</td>\n",
       "    </tr>\n",
       "    <tr>\n",
       "      <th>286856</th>\n",
       "      <td>CH-08</td>\n",
       "      <td>ID-04</td>\n",
       "    </tr>\n",
       "    <tr>\n",
       "      <th>286857</th>\n",
       "      <td>CH-08</td>\n",
       "      <td>ID-04</td>\n",
       "    </tr>\n",
       "  </tbody>\n",
       "</table>\n",
       "<p>236065 rows × 2 columns</p>\n",
       "</div>"
      ],
      "text/plain": [
       "       from_station_id to_station_id\n",
       "0               CBD-06         PS-04\n",
       "1               CBD-06         PS-04\n",
       "2               CBD-06         PS-04\n",
       "3               CBD-06         PS-04\n",
       "4               CBD-06         PS-04\n",
       "...                ...           ...\n",
       "286853           CH-09        CBD-06\n",
       "286854           CH-08         ID-04\n",
       "286855           CH-08         ID-04\n",
       "286856           CH-08         ID-04\n",
       "286857           CH-08         ID-04\n",
       "\n",
       "[236065 rows x 2 columns]"
      ]
     },
     "execution_count": 6,
     "metadata": {},
     "output_type": "execute_result"
    }
   ],
   "source": [
    "df[['from_station_id','to_station_id']]"
   ]
  },
  {
   "cell_type": "code",
   "execution_count": 7,
   "id": "a8ddd32e",
   "metadata": {},
   "outputs": [],
   "source": [
    "crosstab_df = pd.crosstab(df['from_station_id'], df['to_station_id'])"
   ]
  },
  {
   "cell_type": "code",
   "execution_count": 8,
   "id": "09cf0b47",
   "metadata": {},
   "outputs": [
    {
     "data": {
      "text/html": [
       "<div>\n",
       "<style scoped>\n",
       "    .dataframe tbody tr th:only-of-type {\n",
       "        vertical-align: middle;\n",
       "    }\n",
       "\n",
       "    .dataframe tbody tr th {\n",
       "        vertical-align: top;\n",
       "    }\n",
       "\n",
       "    .dataframe thead th {\n",
       "        text-align: right;\n",
       "    }\n",
       "</style>\n",
       "<table border=\"1\" class=\"dataframe\">\n",
       "  <thead>\n",
       "    <tr style=\"text-align: right;\">\n",
       "      <th>to_station_id</th>\n",
       "      <th>8D OPS 02</th>\n",
       "      <th>BT-01</th>\n",
       "      <th>BT-03</th>\n",
       "      <th>BT-04</th>\n",
       "      <th>BT-05</th>\n",
       "      <th>CBD-03</th>\n",
       "      <th>CBD-04</th>\n",
       "      <th>CBD-05</th>\n",
       "      <th>CBD-06</th>\n",
       "      <th>CBD-07</th>\n",
       "      <th>...</th>\n",
       "      <th>UW-01</th>\n",
       "      <th>UW-02</th>\n",
       "      <th>UW-04</th>\n",
       "      <th>UW-06</th>\n",
       "      <th>UW-07</th>\n",
       "      <th>UW-10</th>\n",
       "      <th>UW-11</th>\n",
       "      <th>WF-01</th>\n",
       "      <th>WF-03</th>\n",
       "      <th>WF-04</th>\n",
       "    </tr>\n",
       "    <tr>\n",
       "      <th>from_station_id</th>\n",
       "      <th></th>\n",
       "      <th></th>\n",
       "      <th></th>\n",
       "      <th></th>\n",
       "      <th></th>\n",
       "      <th></th>\n",
       "      <th></th>\n",
       "      <th></th>\n",
       "      <th></th>\n",
       "      <th></th>\n",
       "      <th></th>\n",
       "      <th></th>\n",
       "      <th></th>\n",
       "      <th></th>\n",
       "      <th></th>\n",
       "      <th></th>\n",
       "      <th></th>\n",
       "      <th></th>\n",
       "      <th></th>\n",
       "      <th></th>\n",
       "      <th></th>\n",
       "    </tr>\n",
       "  </thead>\n",
       "  <tbody>\n",
       "    <tr>\n",
       "      <th>8D OPS 02</th>\n",
       "      <td>2</td>\n",
       "      <td>0</td>\n",
       "      <td>0</td>\n",
       "      <td>0</td>\n",
       "      <td>0</td>\n",
       "      <td>0</td>\n",
       "      <td>0</td>\n",
       "      <td>0</td>\n",
       "      <td>0</td>\n",
       "      <td>0</td>\n",
       "      <td>...</td>\n",
       "      <td>0</td>\n",
       "      <td>0</td>\n",
       "      <td>0</td>\n",
       "      <td>0</td>\n",
       "      <td>0</td>\n",
       "      <td>0</td>\n",
       "      <td>0</td>\n",
       "      <td>0</td>\n",
       "      <td>0</td>\n",
       "      <td>0</td>\n",
       "    </tr>\n",
       "    <tr>\n",
       "      <th>BT-01</th>\n",
       "      <td>0</td>\n",
       "      <td>627</td>\n",
       "      <td>182</td>\n",
       "      <td>114</td>\n",
       "      <td>403</td>\n",
       "      <td>179</td>\n",
       "      <td>135</td>\n",
       "      <td>236</td>\n",
       "      <td>743</td>\n",
       "      <td>104</td>\n",
       "      <td>...</td>\n",
       "      <td>3</td>\n",
       "      <td>1</td>\n",
       "      <td>21</td>\n",
       "      <td>4</td>\n",
       "      <td>2</td>\n",
       "      <td>4</td>\n",
       "      <td>3</td>\n",
       "      <td>777</td>\n",
       "      <td>13</td>\n",
       "      <td>792</td>\n",
       "    </tr>\n",
       "    <tr>\n",
       "      <th>BT-03</th>\n",
       "      <td>0</td>\n",
       "      <td>301</td>\n",
       "      <td>284</td>\n",
       "      <td>79</td>\n",
       "      <td>204</td>\n",
       "      <td>187</td>\n",
       "      <td>91</td>\n",
       "      <td>365</td>\n",
       "      <td>363</td>\n",
       "      <td>54</td>\n",
       "      <td>...</td>\n",
       "      <td>0</td>\n",
       "      <td>0</td>\n",
       "      <td>17</td>\n",
       "      <td>0</td>\n",
       "      <td>1</td>\n",
       "      <td>6</td>\n",
       "      <td>0</td>\n",
       "      <td>237</td>\n",
       "      <td>6</td>\n",
       "      <td>172</td>\n",
       "    </tr>\n",
       "    <tr>\n",
       "      <th>BT-04</th>\n",
       "      <td>0</td>\n",
       "      <td>178</td>\n",
       "      <td>106</td>\n",
       "      <td>146</td>\n",
       "      <td>60</td>\n",
       "      <td>72</td>\n",
       "      <td>55</td>\n",
       "      <td>265</td>\n",
       "      <td>101</td>\n",
       "      <td>41</td>\n",
       "      <td>...</td>\n",
       "      <td>0</td>\n",
       "      <td>0</td>\n",
       "      <td>5</td>\n",
       "      <td>0</td>\n",
       "      <td>1</td>\n",
       "      <td>4</td>\n",
       "      <td>1</td>\n",
       "      <td>98</td>\n",
       "      <td>1</td>\n",
       "      <td>42</td>\n",
       "    </tr>\n",
       "    <tr>\n",
       "      <th>BT-05</th>\n",
       "      <td>0</td>\n",
       "      <td>373</td>\n",
       "      <td>154</td>\n",
       "      <td>77</td>\n",
       "      <td>220</td>\n",
       "      <td>166</td>\n",
       "      <td>67</td>\n",
       "      <td>192</td>\n",
       "      <td>193</td>\n",
       "      <td>59</td>\n",
       "      <td>...</td>\n",
       "      <td>0</td>\n",
       "      <td>2</td>\n",
       "      <td>6</td>\n",
       "      <td>2</td>\n",
       "      <td>2</td>\n",
       "      <td>2</td>\n",
       "      <td>0</td>\n",
       "      <td>184</td>\n",
       "      <td>1</td>\n",
       "      <td>93</td>\n",
       "    </tr>\n",
       "    <tr>\n",
       "      <th>...</th>\n",
       "      <td>...</td>\n",
       "      <td>...</td>\n",
       "      <td>...</td>\n",
       "      <td>...</td>\n",
       "      <td>...</td>\n",
       "      <td>...</td>\n",
       "      <td>...</td>\n",
       "      <td>...</td>\n",
       "      <td>...</td>\n",
       "      <td>...</td>\n",
       "      <td>...</td>\n",
       "      <td>...</td>\n",
       "      <td>...</td>\n",
       "      <td>...</td>\n",
       "      <td>...</td>\n",
       "      <td>...</td>\n",
       "      <td>...</td>\n",
       "      <td>...</td>\n",
       "      <td>...</td>\n",
       "      <td>...</td>\n",
       "      <td>...</td>\n",
       "    </tr>\n",
       "    <tr>\n",
       "      <th>UW-10</th>\n",
       "      <td>0</td>\n",
       "      <td>0</td>\n",
       "      <td>2</td>\n",
       "      <td>1</td>\n",
       "      <td>2</td>\n",
       "      <td>0</td>\n",
       "      <td>0</td>\n",
       "      <td>2</td>\n",
       "      <td>0</td>\n",
       "      <td>0</td>\n",
       "      <td>...</td>\n",
       "      <td>12</td>\n",
       "      <td>15</td>\n",
       "      <td>60</td>\n",
       "      <td>30</td>\n",
       "      <td>78</td>\n",
       "      <td>215</td>\n",
       "      <td>13</td>\n",
       "      <td>6</td>\n",
       "      <td>0</td>\n",
       "      <td>4</td>\n",
       "    </tr>\n",
       "    <tr>\n",
       "      <th>UW-11</th>\n",
       "      <td>0</td>\n",
       "      <td>0</td>\n",
       "      <td>1</td>\n",
       "      <td>1</td>\n",
       "      <td>0</td>\n",
       "      <td>1</td>\n",
       "      <td>1</td>\n",
       "      <td>0</td>\n",
       "      <td>0</td>\n",
       "      <td>0</td>\n",
       "      <td>...</td>\n",
       "      <td>0</td>\n",
       "      <td>25</td>\n",
       "      <td>59</td>\n",
       "      <td>18</td>\n",
       "      <td>37</td>\n",
       "      <td>15</td>\n",
       "      <td>92</td>\n",
       "      <td>1</td>\n",
       "      <td>0</td>\n",
       "      <td>0</td>\n",
       "    </tr>\n",
       "    <tr>\n",
       "      <th>WF-01</th>\n",
       "      <td>0</td>\n",
       "      <td>347</td>\n",
       "      <td>104</td>\n",
       "      <td>32</td>\n",
       "      <td>132</td>\n",
       "      <td>128</td>\n",
       "      <td>42</td>\n",
       "      <td>814</td>\n",
       "      <td>208</td>\n",
       "      <td>61</td>\n",
       "      <td>...</td>\n",
       "      <td>0</td>\n",
       "      <td>1</td>\n",
       "      <td>11</td>\n",
       "      <td>0</td>\n",
       "      <td>3</td>\n",
       "      <td>8</td>\n",
       "      <td>3</td>\n",
       "      <td>4209</td>\n",
       "      <td>19</td>\n",
       "      <td>2291</td>\n",
       "    </tr>\n",
       "    <tr>\n",
       "      <th>WF-03</th>\n",
       "      <td>0</td>\n",
       "      <td>2</td>\n",
       "      <td>0</td>\n",
       "      <td>0</td>\n",
       "      <td>2</td>\n",
       "      <td>0</td>\n",
       "      <td>1</td>\n",
       "      <td>3</td>\n",
       "      <td>1</td>\n",
       "      <td>1</td>\n",
       "      <td>...</td>\n",
       "      <td>0</td>\n",
       "      <td>0</td>\n",
       "      <td>0</td>\n",
       "      <td>0</td>\n",
       "      <td>0</td>\n",
       "      <td>0</td>\n",
       "      <td>0</td>\n",
       "      <td>31</td>\n",
       "      <td>27</td>\n",
       "      <td>41</td>\n",
       "    </tr>\n",
       "    <tr>\n",
       "      <th>WF-04</th>\n",
       "      <td>0</td>\n",
       "      <td>478</td>\n",
       "      <td>104</td>\n",
       "      <td>9</td>\n",
       "      <td>103</td>\n",
       "      <td>44</td>\n",
       "      <td>23</td>\n",
       "      <td>209</td>\n",
       "      <td>83</td>\n",
       "      <td>57</td>\n",
       "      <td>...</td>\n",
       "      <td>0</td>\n",
       "      <td>3</td>\n",
       "      <td>7</td>\n",
       "      <td>0</td>\n",
       "      <td>3</td>\n",
       "      <td>2</td>\n",
       "      <td>5</td>\n",
       "      <td>1605</td>\n",
       "      <td>17</td>\n",
       "      <td>1150</td>\n",
       "    </tr>\n",
       "  </tbody>\n",
       "</table>\n",
       "<p>61 rows × 61 columns</p>\n",
       "</div>"
      ],
      "text/plain": [
       "to_station_id    8D OPS 02  BT-01  BT-03  BT-04  BT-05  CBD-03  CBD-04  \\\n",
       "from_station_id                                                          \n",
       "8D OPS 02                2      0      0      0      0       0       0   \n",
       "BT-01                    0    627    182    114    403     179     135   \n",
       "BT-03                    0    301    284     79    204     187      91   \n",
       "BT-04                    0    178    106    146     60      72      55   \n",
       "BT-05                    0    373    154     77    220     166      67   \n",
       "...                    ...    ...    ...    ...    ...     ...     ...   \n",
       "UW-10                    0      0      2      1      2       0       0   \n",
       "UW-11                    0      0      1      1      0       1       1   \n",
       "WF-01                    0    347    104     32    132     128      42   \n",
       "WF-03                    0      2      0      0      2       0       1   \n",
       "WF-04                    0    478    104      9    103      44      23   \n",
       "\n",
       "to_station_id    CBD-05  CBD-06  CBD-07  ...  UW-01  UW-02  UW-04  UW-06  \\\n",
       "from_station_id                          ...                               \n",
       "8D OPS 02             0       0       0  ...      0      0      0      0   \n",
       "BT-01               236     743     104  ...      3      1     21      4   \n",
       "BT-03               365     363      54  ...      0      0     17      0   \n",
       "BT-04               265     101      41  ...      0      0      5      0   \n",
       "BT-05               192     193      59  ...      0      2      6      2   \n",
       "...                 ...     ...     ...  ...    ...    ...    ...    ...   \n",
       "UW-10                 2       0       0  ...     12     15     60     30   \n",
       "UW-11                 0       0       0  ...      0     25     59     18   \n",
       "WF-01               814     208      61  ...      0      1     11      0   \n",
       "WF-03                 3       1       1  ...      0      0      0      0   \n",
       "WF-04               209      83      57  ...      0      3      7      0   \n",
       "\n",
       "to_station_id    UW-07  UW-10  UW-11  WF-01  WF-03  WF-04  \n",
       "from_station_id                                            \n",
       "8D OPS 02            0      0      0      0      0      0  \n",
       "BT-01                2      4      3    777     13    792  \n",
       "BT-03                1      6      0    237      6    172  \n",
       "BT-04                1      4      1     98      1     42  \n",
       "BT-05                2      2      0    184      1     93  \n",
       "...                ...    ...    ...    ...    ...    ...  \n",
       "UW-10               78    215     13      6      0      4  \n",
       "UW-11               37     15     92      1      0      0  \n",
       "WF-01                3      8      3   4209     19   2291  \n",
       "WF-03                0      0      0     31     27     41  \n",
       "WF-04                3      2      5   1605     17   1150  \n",
       "\n",
       "[61 rows x 61 columns]"
      ]
     },
     "execution_count": 8,
     "metadata": {},
     "output_type": "execute_result"
    }
   ],
   "source": [
    "crosstab_df"
   ]
  },
  {
   "cell_type": "code",
   "execution_count": 9,
   "id": "424a18c5",
   "metadata": {},
   "outputs": [
    {
     "data": {
      "text/html": [
       "<div>\n",
       "<style scoped>\n",
       "    .dataframe tbody tr th:only-of-type {\n",
       "        vertical-align: middle;\n",
       "    }\n",
       "\n",
       "    .dataframe tbody tr th {\n",
       "        vertical-align: top;\n",
       "    }\n",
       "\n",
       "    .dataframe thead tr th {\n",
       "        text-align: left;\n",
       "    }\n",
       "\n",
       "    .dataframe thead tr:last-of-type th {\n",
       "        text-align: right;\n",
       "    }\n",
       "</style>\n",
       "<table border=\"1\" class=\"dataframe\">\n",
       "  <thead>\n",
       "    <tr>\n",
       "      <th></th>\n",
       "      <th colspan=\"8\" halign=\"left\">0</th>\n",
       "    </tr>\n",
       "    <tr>\n",
       "      <th>to_station_id</th>\n",
       "      <th>BT-01</th>\n",
       "      <th>CBD-13</th>\n",
       "      <th>PS-05</th>\n",
       "      <th>SLU-16</th>\n",
       "      <th>SLU-17</th>\n",
       "      <th>UD-01</th>\n",
       "      <th>WF-01</th>\n",
       "      <th>WF-04</th>\n",
       "    </tr>\n",
       "    <tr>\n",
       "      <th>from_station_id</th>\n",
       "      <th></th>\n",
       "      <th></th>\n",
       "      <th></th>\n",
       "      <th></th>\n",
       "      <th></th>\n",
       "      <th></th>\n",
       "      <th></th>\n",
       "      <th></th>\n",
       "    </tr>\n",
       "  </thead>\n",
       "  <tbody>\n",
       "    <tr>\n",
       "      <th>BT-01</th>\n",
       "      <td>NaN</td>\n",
       "      <td>1101.0</td>\n",
       "      <td>NaN</td>\n",
       "      <td>NaN</td>\n",
       "      <td>NaN</td>\n",
       "      <td>NaN</td>\n",
       "      <td>NaN</td>\n",
       "      <td>NaN</td>\n",
       "    </tr>\n",
       "    <tr>\n",
       "      <th>CBD-13</th>\n",
       "      <td>962.0</td>\n",
       "      <td>NaN</td>\n",
       "      <td>NaN</td>\n",
       "      <td>NaN</td>\n",
       "      <td>NaN</td>\n",
       "      <td>NaN</td>\n",
       "      <td>NaN</td>\n",
       "      <td>NaN</td>\n",
       "    </tr>\n",
       "    <tr>\n",
       "      <th>CH-07</th>\n",
       "      <td>NaN</td>\n",
       "      <td>NaN</td>\n",
       "      <td>NaN</td>\n",
       "      <td>934.0</td>\n",
       "      <td>NaN</td>\n",
       "      <td>NaN</td>\n",
       "      <td>NaN</td>\n",
       "      <td>NaN</td>\n",
       "    </tr>\n",
       "    <tr>\n",
       "      <th>SLU-17</th>\n",
       "      <td>NaN</td>\n",
       "      <td>NaN</td>\n",
       "      <td>NaN</td>\n",
       "      <td>NaN</td>\n",
       "      <td>960.0</td>\n",
       "      <td>NaN</td>\n",
       "      <td>NaN</td>\n",
       "      <td>NaN</td>\n",
       "    </tr>\n",
       "    <tr>\n",
       "      <th>UD-01</th>\n",
       "      <td>NaN</td>\n",
       "      <td>NaN</td>\n",
       "      <td>NaN</td>\n",
       "      <td>NaN</td>\n",
       "      <td>NaN</td>\n",
       "      <td>880.0</td>\n",
       "      <td>NaN</td>\n",
       "      <td>NaN</td>\n",
       "    </tr>\n",
       "    <tr>\n",
       "      <th>WF-01</th>\n",
       "      <td>NaN</td>\n",
       "      <td>NaN</td>\n",
       "      <td>962.0</td>\n",
       "      <td>NaN</td>\n",
       "      <td>NaN</td>\n",
       "      <td>NaN</td>\n",
       "      <td>4209.0</td>\n",
       "      <td>2291.0</td>\n",
       "    </tr>\n",
       "    <tr>\n",
       "      <th>WF-04</th>\n",
       "      <td>NaN</td>\n",
       "      <td>NaN</td>\n",
       "      <td>NaN</td>\n",
       "      <td>NaN</td>\n",
       "      <td>NaN</td>\n",
       "      <td>NaN</td>\n",
       "      <td>1605.0</td>\n",
       "      <td>1150.0</td>\n",
       "    </tr>\n",
       "  </tbody>\n",
       "</table>\n",
       "</div>"
      ],
      "text/plain": [
       "                     0                                                    \n",
       "to_station_id    BT-01  CBD-13  PS-05 SLU-16 SLU-17  UD-01   WF-01   WF-04\n",
       "from_station_id                                                           \n",
       "BT-01              NaN  1101.0    NaN    NaN    NaN    NaN     NaN     NaN\n",
       "CBD-13           962.0     NaN    NaN    NaN    NaN    NaN     NaN     NaN\n",
       "CH-07              NaN     NaN    NaN  934.0    NaN    NaN     NaN     NaN\n",
       "SLU-17             NaN     NaN    NaN    NaN  960.0    NaN     NaN     NaN\n",
       "UD-01              NaN     NaN    NaN    NaN    NaN  880.0     NaN     NaN\n",
       "WF-01              NaN     NaN  962.0    NaN    NaN    NaN  4209.0  2291.0\n",
       "WF-04              NaN     NaN    NaN    NaN    NaN    NaN  1605.0  1150.0"
      ]
     },
     "execution_count": 9,
     "metadata": {},
     "output_type": "execute_result"
    }
   ],
   "source": [
    "## DESCONSIDERAR\n",
    "df.groupby(['from_station_id', 'to_station_id']).size().to_frame()\\\n",
    "    .sort_values(by=0,ascending=False).head(10).reset_index().pivot(index='from_station_id', columns='to_station_id')"
   ]
  },
  {
   "cell_type": "code",
   "execution_count": 10,
   "id": "31627fdf",
   "metadata": {},
   "outputs": [],
   "source": [
    "top_10_estacoes = df.groupby(['from_station_id', 'to_station_id']).size().to_frame().nlargest(10, 0).reset_index()"
   ]
  },
  {
   "cell_type": "code",
   "execution_count": 11,
   "id": "c8163ce3",
   "metadata": {},
   "outputs": [
    {
     "data": {
      "text/html": [
       "<div>\n",
       "<style scoped>\n",
       "    .dataframe tbody tr th:only-of-type {\n",
       "        vertical-align: middle;\n",
       "    }\n",
       "\n",
       "    .dataframe tbody tr th {\n",
       "        vertical-align: top;\n",
       "    }\n",
       "\n",
       "    .dataframe thead th {\n",
       "        text-align: right;\n",
       "    }\n",
       "</style>\n",
       "<table border=\"1\" class=\"dataframe\">\n",
       "  <thead>\n",
       "    <tr style=\"text-align: right;\">\n",
       "      <th></th>\n",
       "      <th>from_station_id</th>\n",
       "      <th>to_station_id</th>\n",
       "      <th>0</th>\n",
       "    </tr>\n",
       "  </thead>\n",
       "  <tbody>\n",
       "    <tr>\n",
       "      <th>0</th>\n",
       "      <td>WF-01</td>\n",
       "      <td>WF-01</td>\n",
       "      <td>4209</td>\n",
       "    </tr>\n",
       "    <tr>\n",
       "      <th>1</th>\n",
       "      <td>WF-01</td>\n",
       "      <td>WF-04</td>\n",
       "      <td>2291</td>\n",
       "    </tr>\n",
       "    <tr>\n",
       "      <th>2</th>\n",
       "      <td>WF-04</td>\n",
       "      <td>WF-01</td>\n",
       "      <td>1605</td>\n",
       "    </tr>\n",
       "    <tr>\n",
       "      <th>3</th>\n",
       "      <td>WF-04</td>\n",
       "      <td>WF-04</td>\n",
       "      <td>1150</td>\n",
       "    </tr>\n",
       "    <tr>\n",
       "      <th>4</th>\n",
       "      <td>BT-01</td>\n",
       "      <td>CBD-13</td>\n",
       "      <td>1101</td>\n",
       "    </tr>\n",
       "    <tr>\n",
       "      <th>5</th>\n",
       "      <td>CBD-13</td>\n",
       "      <td>BT-01</td>\n",
       "      <td>962</td>\n",
       "    </tr>\n",
       "    <tr>\n",
       "      <th>6</th>\n",
       "      <td>WF-01</td>\n",
       "      <td>PS-05</td>\n",
       "      <td>962</td>\n",
       "    </tr>\n",
       "    <tr>\n",
       "      <th>7</th>\n",
       "      <td>SLU-17</td>\n",
       "      <td>SLU-17</td>\n",
       "      <td>960</td>\n",
       "    </tr>\n",
       "    <tr>\n",
       "      <th>8</th>\n",
       "      <td>CH-07</td>\n",
       "      <td>SLU-16</td>\n",
       "      <td>934</td>\n",
       "    </tr>\n",
       "    <tr>\n",
       "      <th>9</th>\n",
       "      <td>UD-01</td>\n",
       "      <td>UD-01</td>\n",
       "      <td>880</td>\n",
       "    </tr>\n",
       "  </tbody>\n",
       "</table>\n",
       "</div>"
      ],
      "text/plain": [
       "  from_station_id to_station_id     0\n",
       "0           WF-01         WF-01  4209\n",
       "1           WF-01         WF-04  2291\n",
       "2           WF-04         WF-01  1605\n",
       "3           WF-04         WF-04  1150\n",
       "4           BT-01        CBD-13  1101\n",
       "5          CBD-13         BT-01   962\n",
       "6           WF-01         PS-05   962\n",
       "7          SLU-17        SLU-17   960\n",
       "8           CH-07        SLU-16   934\n",
       "9           UD-01         UD-01   880"
      ]
     },
     "execution_count": 11,
     "metadata": {},
     "output_type": "execute_result"
    }
   ],
   "source": [
    "top_10_estacoes"
   ]
  },
  {
   "cell_type": "code",
   "execution_count": 12,
   "id": "a24fb0ca",
   "metadata": {},
   "outputs": [],
   "source": [
    "from_station_mask = top_10_estacoes['from_station_id'].unique()\n",
    "to_station_mask = top_10_estacoes['to_station_id'].unique()"
   ]
  },
  {
   "cell_type": "code",
   "execution_count": 13,
   "id": "29bbd1a5",
   "metadata": {},
   "outputs": [
    {
     "data": {
      "text/plain": [
       "{'BT-01', 'CBD-13', 'CH-07', 'SLU-17', 'UD-01', 'WF-01', 'WF-04'}"
      ]
     },
     "execution_count": 13,
     "metadata": {},
     "output_type": "execute_result"
    }
   ],
   "source": [
    "set(from_station_mask)"
   ]
  },
  {
   "cell_type": "code",
   "execution_count": 14,
   "id": "231bdb43",
   "metadata": {},
   "outputs": [
    {
     "data": {
      "text/plain": [
       "array(['WF-01', 'WF-04', 'CBD-13', 'BT-01', 'PS-05', 'SLU-17', 'SLU-16',\n",
       "       'UD-01'], dtype=object)"
      ]
     },
     "execution_count": 14,
     "metadata": {},
     "output_type": "execute_result"
    }
   ],
   "source": [
    "to_station_mask"
   ]
  },
  {
   "cell_type": "code",
   "execution_count": 15,
   "id": "e92d1b82",
   "metadata": {},
   "outputs": [
    {
     "data": {
      "text/plain": [
       "['WF-01',\n",
       " 'WF-04',\n",
       " 'CBD-13',\n",
       " 'BT-01',\n",
       " 'PS-05',\n",
       " 'SLU-17',\n",
       " 'SLU-16',\n",
       " 'UD-01',\n",
       " 'WF-01',\n",
       " 'WF-04',\n",
       " 'BT-01',\n",
       " 'CBD-13',\n",
       " 'SLU-17',\n",
       " 'CH-07',\n",
       " 'UD-01']"
      ]
     },
     "execution_count": 15,
     "metadata": {},
     "output_type": "execute_result"
    }
   ],
   "source": [
    "[*to_station_mask, *from_station_mask]"
   ]
  },
  {
   "cell_type": "code",
   "execution_count": 16,
   "id": "f2a58eaa",
   "metadata": {},
   "outputs": [],
   "source": [
    "union_stations = set([*from_station_mask, *to_station_mask])"
   ]
  },
  {
   "cell_type": "code",
   "execution_count": 17,
   "id": "f31e65d8",
   "metadata": {},
   "outputs": [
    {
     "data": {
      "text/plain": [
       "{'BT-01',\n",
       " 'CBD-13',\n",
       " 'CH-07',\n",
       " 'PS-05',\n",
       " 'SLU-16',\n",
       " 'SLU-17',\n",
       " 'UD-01',\n",
       " 'WF-01',\n",
       " 'WF-04'}"
      ]
     },
     "execution_count": 17,
     "metadata": {},
     "output_type": "execute_result"
    }
   ],
   "source": [
    "union_stations"
   ]
  },
  {
   "cell_type": "code",
   "execution_count": 18,
   "id": "b56a6852",
   "metadata": {},
   "outputs": [],
   "source": [
    "matrix_data = crosstab_df.loc[union_stations,union_stations]"
   ]
  },
  {
   "cell_type": "markdown",
   "id": "70c7fe86",
   "metadata": {},
   "source": [
    "## Chord >:("
   ]
  },
  {
   "cell_type": "code",
   "execution_count": 19,
   "id": "b20fb4f4",
   "metadata": {},
   "outputs": [],
   "source": [
    "# !pip install chord\n",
    "# !pip install requests"
   ]
  },
  {
   "cell_type": "code",
   "execution_count": 20,
   "id": "f255d185",
   "metadata": {},
   "outputs": [],
   "source": [
    "import requests\n",
    "import numpy as np\n",
    "from chord import Chord"
   ]
  },
  {
   "cell_type": "code",
   "execution_count": 21,
   "id": "33cc572a",
   "metadata": {},
   "outputs": [
    {
     "data": {
      "text/plain": [
       "[[960, 97, 264, 53, 5, 31, 70, 25, 135],\n",
       " [75, 4209, 347, 52, 3, 962, 2291, 4, 310],\n",
       " [175, 777, 627, 151, 16, 301, 792, 8, 1101],\n",
       " [73, 65, 166, 186, 98, 65, 68, 4, 344],\n",
       " [19, 23, 198, 934, 233, 71, 23, 15, 577],\n",
       " [26, 737, 179, 42, 26, 185, 181, 0, 199],\n",
       " [17, 1605, 478, 36, 2, 215, 1150, 4, 137],\n",
       " [46, 1, 6, 2, 3, 1, 0, 880, 9],\n",
       " [105, 384, 962, 158, 53, 384, 158, 1, 427]]"
      ]
     },
     "execution_count": 21,
     "metadata": {},
     "output_type": "execute_result"
    }
   ],
   "source": [
    "matrix_data.values.tolist()"
   ]
  },
  {
   "cell_type": "code",
   "execution_count": 22,
   "id": "1f2ba25c",
   "metadata": {},
   "outputs": [],
   "source": [
    "Chord(matrix_data.values.tolist(), list(union_stations)).to_html('./chord.html')"
   ]
  },
  {
   "cell_type": "markdown",
   "id": "5ef0207a",
   "metadata": {},
   "source": [
    "## Plotly"
   ]
  },
  {
   "cell_type": "code",
   "execution_count": 1,
   "id": "d6dcc857",
   "metadata": {},
   "outputs": [],
   "source": [
    "# !pip install plotly\n",
    "# !pip install colorlover\n",
    "import pandas as pd\n",
    "import numpy as np\n",
    "import plotly.graph_objs as go\n",
    "#import colorlover as cl"
   ]
  },
  {
   "cell_type": "code",
   "execution_count": 2,
   "id": "114c284e",
   "metadata": {},
   "outputs": [],
   "source": [
    "df_2 = pd.read_csv('trip.csv', sep=',')\n",
    "df_2 = df_2.drop_duplicates(subset=['trip_id'])\n",
    "\n",
    "crosstab_df_2 = pd.crosstab(df_2['from_station_name'], df_2['to_station_name'])\n",
    "top_10_estacoes_2 = df_2.groupby(['from_station_name', 'to_station_name']).size().to_frame().nlargest(10, 0).reset_index()\n",
    "from_station_mask_2 = top_10_estacoes_2['from_station_name'].unique()\n",
    "to_station_mask_2 = top_10_estacoes_2['to_station_name'].unique()\n",
    "\n",
    "union_stations_2 = set([*from_station_mask_2, *to_station_mask_2])\n",
    "\n",
    "data_matrix_2 = crosstab_df_2.loc[union_stations_2,union_stations_2]\n",
    "matrix = data_matrix_2.copy()\n",
    "\n",
    "name_dict = {'Burke-Gilman Trail / NE Blakeley St & 24th Ave NE': 'Burke-Gilman Trail',\n",
    "                                 'King Street Station Plaza / 2nd Ave Extension S & S Jackson St': 'King Street Station Plaza',\n",
    "                                 'Lake Union Park / Valley St & Boren Ave N':'Lake Union Park',\n",
    "                                 'Pier 69 / Alaskan Way & Clay St':'Pier 69',\n",
    "                                 'Seattle Aquarium / Alaskan Way S & Elliott Bay Trail':'Seattle Aquarium'}\n",
    "\n",
    "matrix.rename(columns = name_dict, index = name_dict, inplace = True)"
   ]
  },
  {
   "cell_type": "code",
   "execution_count": 3,
   "id": "7cb36803",
   "metadata": {},
   "outputs": [],
   "source": [
    "#def get_spaced_colors(n, randomized=False):\n",
    "#    if n > 0:\n",
    "#        max_value = 255\n",
    "#        interval = max_value / n\n",
    "#        hues = np.arange(0, max_value, interval)\n",
    "#        return cl.to_rgb([\"hsl(%d,80%%,40%%)\" % i for i in hues])\n",
    "#    else:\n",
    "#        return None\n",
    "\n",
    "\n",
    "PI = np.pi\n",
    "\n",
    "\n",
    "def check_square(M):\n",
    "    d, n = M.shape\n",
    "    if d != n:\n",
    "        raise ValueError(\"Data array must be square.\")\n",
    "    return n\n",
    "\n",
    "\n",
    "def moduloAB(x, a, b):\n",
    "    if a >= b:\n",
    "        raise ValueError(\"Incorrect inverval ends\")\n",
    "    y = (x - a) % (b - a)\n",
    "    return y + b if y < 0 else y + a\n",
    "\n",
    "\n",
    "def test_2PI(x):\n",
    "    return 0 <= x < 2 * PI\n",
    "\n",
    "\n",
    "def get_ideogram_ends(ideaogram_len, gap):\n",
    "    ideo_ends = []\n",
    "    left = 0\n",
    "    for k in range(len(ideaogram_len)):\n",
    "        right = left + ideaogram_len[k]\n",
    "        ideo_ends.append([left, right])\n",
    "        left = right + gap\n",
    "    return ideo_ends\n",
    "\n",
    "\n",
    "def make_ideogram_arc(R, phi, a=50):\n",
    "    # R is the circle radius\n",
    "    # Phi is a list of the ends angle coordinates of an arc\n",
    "    # a is a parameter that controls the number of points to be evaluated\n",
    "    if not test_2PI(phi[0]) or not test_2PI(phi[1]):\n",
    "        phi = [moduloAB(t, 0, 2 * PI) for t in phi]\n",
    "    length = (phi[1] - phi[0]) % 2 * PI\n",
    "    nr = 5 if length <= PI / 4 else int(a * length / PI)\n",
    "    if phi[0] < phi[1]:\n",
    "        nr = 100\n",
    "\n",
    "        theta = np.linspace(phi[0], phi[1], nr)\n",
    "    else:\n",
    "        phi = [moduloAB(t, -PI, PI) for t in phi]\n",
    "        # nr = 100\n",
    "        theta = np.linspace(phi[0], phi[1], nr)\n",
    "    return R * np.exp(1j * theta)\n",
    "\n",
    "\n",
    "def map_data(data_matrix, row_value, ideogram_length):\n",
    "    n = data_matrix.shape[0]  # square, so same as 1\n",
    "    mapped = np.zeros([n, n])\n",
    "    for j in range(n):\n",
    "        mapped[:, j] = ideogram_length * data_matrix[:, j] / row_value\n",
    "    return mapped\n",
    "\n",
    "\n",
    "def make_ribbon_ends(mapped_data, ideo_ends, idx_sort):\n",
    "    n = mapped_data.shape[0]\n",
    "    ribbon_boundary = np.zeros((n, n + 1))\n",
    "    for k in range(n):\n",
    "        start = ideo_ends[k][0]\n",
    "        ribbon_boundary[k][0] = start\n",
    "        for j in range(1, n + 1):\n",
    "            J = idx_sort[k][j - 1]\n",
    "            ribbon_boundary[k][j] = start + mapped_data[k][J]\n",
    "            start = ribbon_boundary[k][j]\n",
    "    return [\n",
    "        [(ribbon_boundary[k][j], ribbon_boundary[k][j + 1]) for j in range(n)]\n",
    "        for k in range(n)\n",
    "    ]\n",
    "\n",
    "\n",
    "def control_pts(angle, radius):\n",
    "    if len(angle) != 3:\n",
    "        raise ValueError(\"Angle must have len = 3\")\n",
    "    b_cplx = np.array([np.exp(1j * angle[k]) for k in range(3)])\n",
    "    b_cplx[1] = radius * b_cplx[1]\n",
    "    return list(zip(b_cplx.real, b_cplx.imag))\n",
    "\n",
    "\n",
    "def ctrl_rib_chords(l, r, radius):\n",
    "    if len(l) != 2 or len(r) != 2:\n",
    "        raise ValueError(\"The arc ends must be elements in a list of len 2\")\n",
    "    return [control_pts([l[j], (l[j] + r[j]) / 2, r[j]], radius) for j in range(2)]\n",
    "\n",
    "\n",
    "def make_q_bezier(b):\n",
    "    if len(b) != 3:\n",
    "        raise ValueError(\"Contaol polygon must have 3 points\")\n",
    "    A, B, C = b\n",
    "    return (\n",
    "        \"M \"\n",
    "        + str(A[0])\n",
    "        + \",\"\n",
    "        + str(A[1])\n",
    "        + \" \"\n",
    "        + \"Q \"\n",
    "        + str(B[0])\n",
    "        + \", \"\n",
    "        + str(B[1])\n",
    "        + \" \"\n",
    "        + str(C[0])\n",
    "        + \", \"\n",
    "        + str(C[1])\n",
    "    )\n",
    "\n",
    "\n",
    "def make_ribbon_arc(theta0, theta1):\n",
    "    if test_2PI(theta0) and test_2PI(theta1):\n",
    "        if theta0 < theta1:\n",
    "            theta0 = moduloAB(theta0, -PI, PI)\n",
    "            theta1 = moduloAB(theta1, -PI, PI)\n",
    "            if theta0 * theta1 > 0:\n",
    "                raise ValueError(\"Incorrect angle coordinates for ribbon\")\n",
    "        nr = int(40 * (theta0 - theta1) / PI)\n",
    "        if nr <= 2:\n",
    "            nr = 3\n",
    "        theta = np.linspace(theta0, theta1, nr)\n",
    "        pts = np.exp(1j * theta)\n",
    "        string_arc = \"\"\n",
    "        for k in range(len(theta)):\n",
    "            string_arc += \"L \" + str(pts.real[k]) + \", \" + str(pts.imag[k]) + \" \"\n",
    "        return string_arc\n",
    "    else:\n",
    "        raise ValueError(\"The angle coords for arc ribbon must be [0, 2*PI]\")\n",
    "\n",
    "\n",
    "def make_layout(title):\n",
    "    xaxis = dict(\n",
    "        showline=False, zeroline=False, showgrid=False, showticklabels=False, title=\"\"\n",
    "    )\n",
    "    yaxis = {**xaxis, \"scaleanchor\": \"x\"}\n",
    "    return dict(\n",
    "        title=title,\n",
    "        xaxis=xaxis,\n",
    "        yaxis=yaxis,\n",
    "        showlegend=False,\n",
    "        margin=dict(t=25, b=25, l=25, r=25),\n",
    "        hovermode=\"closest\",\n",
    "        shapes=[],\n",
    "    )\n",
    "\n",
    "\n",
    "def make_ideo_shape(path, line_color, fill_color):\n",
    "    return dict(\n",
    "        line=go.layout.shape.Line(color=line_color, width=0.45),\n",
    "        path=path,\n",
    "        type=\"path\",\n",
    "        fillcolor=fill_color,\n",
    "        layer=\"below\",\n",
    "    )\n",
    "\n",
    "\n",
    "def make_ribbon(l, r, line_color, fill_color, radius=0.2):\n",
    "    poligon = ctrl_rib_chords(l, r, radius)\n",
    "    b, c = poligon\n",
    "    return dict(\n",
    "        line=go.layout.shape.Line(color=line_color, width=0.5),\n",
    "        path=make_q_bezier(b)\n",
    "        + make_ribbon_arc(r[0], r[1])\n",
    "        + make_q_bezier(c[::-1])\n",
    "        + make_ribbon_arc(l[1], l[0]),\n",
    "        type=\"path\",\n",
    "        fillcolor=fill_color,\n",
    "        layer=\"below\",\n",
    "    )\n",
    "\n",
    "\n",
    "def make_self_rel(l, line_color, fill_color, radius):\n",
    "    b = control_pts([l[0], (l[0] + l[1]) / 2, l[1]], radius)\n",
    "    return dict(\n",
    "        line=dict(color=line_color, width=0.5),\n",
    "        path=make_q_bezier(b) + make_ribbon_arc(l[1], l[0]),\n",
    "        type=\"path\",\n",
    "        fillcolor=fill_color,\n",
    "        layer=\"below\",\n",
    "    )\n",
    "\n",
    "\n",
    "def invPerm(perm):\n",
    "    inv = [0] * len(perm)\n",
    "    for i, s in enumerate(perm):\n",
    "        inv[s] = i\n",
    "    return inv\n",
    "\n",
    "\n",
    "def make_filled_chord(M):  # ,labels):\n",
    "\n",
    "    n = M.shape[0]\n",
    "    labels = list(M.columns)\n",
    "    M = M.T\n",
    "    matrix = M.to_numpy()\n",
    "    n = M.shape[0]\n",
    "    row_sum = [np.sum(matrix[k, :]) for k in range(n)]\n",
    "    gap = 2 * PI * 10e-8\n",
    "\n",
    "    ideogram_length = 2 * PI * np.asarray(row_sum) / sum(row_sum) - gap * np.ones(n)\n",
    "    ideo_colors=['rgba(213,62,79,0.75)',\n",
    "             'rgba(244,109,67,0.75)',\n",
    "             'rgba(253,174,97,0.75)',\n",
    "             'rgba(254,224,139,0.75)',\n",
    "             'rgba(255,255,191,0.75)',\n",
    "             'rgba(230,245,152,0.75)',\n",
    "             'rgba(171,221,164,0.75)',\n",
    "             'rgba(102,194,165,0.75)',\n",
    "             'rgba(50,136,189,0.75)']\n",
    "    #ideo_colors = [\n",
    "    #    x[:3] + \"a\" + x[3:-1] + \",.75\" + x[-1] for x in get_spaced_colors(len(labels))\n",
    "    #]\n",
    "    mapped_data = map_data(matrix, row_sum, ideogram_length)\n",
    "    idx_sort = np.argsort(mapped_data, axis=1)\n",
    "    ideo_ends = get_ideogram_ends(ideogram_length, gap)\n",
    "    ribbon_ends = make_ribbon_ends(mapped_data, ideo_ends, idx_sort)\n",
    "    ribbon_color = [n * [ideo_colors[k]] for k in range(n)]\n",
    "    layout = make_layout(\" \")\n",
    "    ribbon_info = []\n",
    "    radii_sribb = [0.2] * n\n",
    "    for k in range(n):\n",
    "        sigma = idx_sort[k]\n",
    "        sigma_inv = invPerm(sigma)\n",
    "        for j in range(k, n):\n",
    "            if M.iloc[k, j] == 0 and M.iloc[j, k] == 0:\n",
    "                continue\n",
    "            eta = idx_sort[j]\n",
    "            eta_inv = invPerm(eta)\n",
    "            l = ribbon_ends[k][sigma_inv[j]]\n",
    "            if j == k:\n",
    "                layout[\"shapes\"].append(\n",
    "                    make_self_rel(\n",
    "                        l, \"rgb(175,175,175)\", ideo_colors[k], radius=radii_sribb[k]\n",
    "                    )\n",
    "                )\n",
    "                z = 0.9 * np.exp(1j * (l[0] + l[1]) / 2)\n",
    "                text = (\n",
    "                    labels[k]\n",
    "                    + \" \\u2b8c \"\n",
    "                    #+ labels[k]\n",
    "                    + \": {0} viagens \".format(M.iloc[k, k])\n",
    "                )\n",
    "                ribbon_info.append(\n",
    "                    go.Scatter(\n",
    "                        x=[z.real],\n",
    "                        y=[z.imag],\n",
    "                        mode=\"markers\",\n",
    "                        text=text,\n",
    "                        hoverinfo=\"text\",\n",
    "                        marker=dict(size=0.5, color=ideo_colors[k]),\n",
    "                    )\n",
    "                )\n",
    "            else:\n",
    "                r = ribbon_ends[j][eta_inv[k]]\n",
    "                zi = 0.9 * np.exp(1j * (l[0] + l[1]) / 2)\n",
    "                zf = 0.9 * np.exp(1j * (r[0] + r[1]) / 2)\n",
    "\n",
    "                texti = (\n",
    "                    labels[k]\n",
    "                    + \" \\u2794 \"\n",
    "                    + labels[j]\n",
    "                    + \": {0} viagens \".format(matrix[k][j])\n",
    "                )\n",
    "                textf = (\n",
    "                    labels[j]\n",
    "                    + \" \\u2794 \"\n",
    "                    + labels[k]\n",
    "                    +\": {0} viagens \".format(matrix[j][k])\n",
    "                )\n",
    "\n",
    "                ribbon_info.append(\n",
    "                    go.Scatter(\n",
    "                        x=[zi.real],\n",
    "                        y=[zi.imag],\n",
    "                        mode=\"markers\",\n",
    "                        text=texti,\n",
    "                        hoverinfo=\"text\",\n",
    "                        marker=dict(size=0.5, color=ribbon_color[k][j]),\n",
    "                    )\n",
    "                )\n",
    "                ribbon_info.append(\n",
    "                    go.Scatter(\n",
    "                        x=[zf.real],\n",
    "                        y=[zf.imag],\n",
    "                        mode=\"markers\",\n",
    "                        text=textf,\n",
    "                        hoverinfo=\"text\",\n",
    "                        marker=dict(size=0.5, color=ribbon_color[j][k]),\n",
    "                    )\n",
    "                )\n",
    "                r = (r[1], r[0])\n",
    "                if matrix[k][j] > matrix[j][k]:\n",
    "                    color_of_highest = ribbon_color[k][j]\n",
    "                else:\n",
    "                    color_of_highest = ribbon_color[j][k]\n",
    "                layout[\"shapes\"].append(\n",
    "                    make_ribbon(l, r, \"rgb(175, 175, 175)\", color_of_highest)\n",
    "                )\n",
    "    ideograms = []\n",
    "    for k in range(len(ideo_ends)):\n",
    "        z = make_ideogram_arc(1.1, ideo_ends[k])\n",
    "        zi = make_ideogram_arc(1.0, ideo_ends[k])\n",
    "        m = len(z)\n",
    "        n = len(zi)\n",
    "        ideograms.append(\n",
    "            go.Scatter(\n",
    "                x=z.real,\n",
    "                y=z.imag,\n",
    "                mode=\"lines\",\n",
    "                line=dict(color=ideo_colors[k], shape=\"spline\", width=0.25),\n",
    "                text=labels[k] + \"<br>\" + \"{0} partidas\".format(row_sum[k]),\n",
    "                hoverinfo=\"text\",\n",
    "            )\n",
    "        )\n",
    "        path = \"M \"\n",
    "        for s in range(m):\n",
    "            path += str(z.real[s]) + \", \" + str(z.imag[s]) + \" L \"\n",
    "        Zi = np.array(zi.tolist()[::-1])\n",
    "        for s in range(m):\n",
    "            path += str(Zi.real[s]) + \", \" + str(Zi.imag[s]) + \" L \"\n",
    "        path += str(z.real[0]) + \" ,\" + str(z.imag[0])\n",
    "        layout[\"shapes\"].append(\n",
    "            make_ideo_shape(path, \"rgb(150,150,150)\", ideo_colors[k])\n",
    "        )\n",
    "\n",
    "    layout[\"paper_bgcolor\"] = \"rgba(0,0,0,0)\"\n",
    "    layout[\"plot_bgcolor\"] = \"rgba(0,0,0,0)\"\n",
    "    layout[\"width\"] = 625\n",
    "    layout[\"height\"] = 625\n",
    "    data = ideograms + ribbon_info\n",
    "    fig = {\"data\": data, \"layout\": layout}\n",
    "    return fig"
   ]
  },
  {
   "cell_type": "code",
   "execution_count": 4,
   "id": "daf5c106",
   "metadata": {},
   "outputs": [],
   "source": [
    "fig = make_filled_chord(matrix)"
   ]
  },
  {
   "cell_type": "code",
   "execution_count": 5,
   "id": "12a25331",
   "metadata": {},
   "outputs": [
    {
     "data": {
      "text/html": [
       "        <script type=\"text/javascript\">\n",
       "        window.PlotlyConfig = {MathJaxConfig: 'local'};\n",
       "        if (window.MathJax) {MathJax.Hub.Config({SVG: {font: \"STIX-Web\"}});}\n",
       "        if (typeof require !== 'undefined') {\n",
       "        require.undef(\"plotly\");\n",
       "        requirejs.config({\n",
       "            paths: {\n",
       "                'plotly': ['https://cdn.plot.ly/plotly-2.6.3.min']\n",
       "            }\n",
       "        });\n",
       "        require(['plotly'], function(Plotly) {\n",
       "            window._Plotly = Plotly;\n",
       "        });\n",
       "        }\n",
       "        </script>\n",
       "        "
      ]
     },
     "metadata": {},
     "output_type": "display_data"
    },
    {
     "data": {
      "application/vnd.plotly.v1+json": {
       "config": {
        "linkText": "Export to plot.ly",
        "plotlyServerURL": "https://plot.ly",
        "showLink": false
       },
       "data": [
        {
         "hoverinfo": "text",
         "line": {
          "color": "rgba(213,62,79,0.75)",
          "shape": "spline",
          "width": 0.25
         },
         "mode": "lines",
         "text": "2nd Ave & Pine St<br>3239 partidas",
         "type": "scatter",
         "x": [
          1.1,
          1.0999650888462191,
          1.0998603576008563,
          1.0996858129117084,
          1.0994414658579696,
          1.099127331949526,
          1.0987434311259727,
          1.0982897877553472,
          1.097766430632583,
          1.0971733929776823,
          1.096510712433606,
          1.095778431063886,
          1.0949765953499542,
          1.094105256188192,
          1.0931644688867006,
          1.092154293161789,
          1.0910747931341847,
          1.0899260373249633,
          1.0887080986511988,
          1.0874210544213354,
          1.0860649863302803,
          1.0846399804542182,
          1.0831461272451481,
          1.0815835215251413,
          1.0799522624803222,
          1.0782524536545732,
          1.0764842029429622,
          1.074647622584894,
          1.0727428291569852,
          1.0707699435656657,
          1.068729091039503,
          1.0666204011212543,
          1.0644440076596435,
          1.0622000488008645,
          1.0598886669798133,
          1.0575100089110467,
          1.0550642255794696,
          1.052551472230751,
          1.04997190836147,
          1.047325697708992,
          1.0446130082410754,
          1.0418340121452094,
          1.0389888858176852,
          1.0360778098523984,
          1.0331009690293869,
          1.0300585523031012,
          1.0269507527904105,
          1.0237777677583453,
          1.0205397986115752,
          1.0172370508796258,
          1.0138697342038312,
          1.0104380623240286,
          1.0069422530649899,
          1.0033825283225966,
          0.9997591140497535,
          0.9960722402420481,
          0.9923221409231501,
          0.9885090541299578,
          0.9846332218974885,
          0.9806948902435147,
          0.9766943091529495,
          0.9726317325619775,
          0.9685074183419373,
          0.9643216282829526,
          0.9600746280773147,
          0.9557666873026188,
          0.9513980794046522,
          0.9469690816800367,
          0.942479975258628,
          0.937931045085671,
          0.9333225799037128,
          0.9286548722342741,
          0.9239282183592833,
          0.9191429183022675,
          0.9142992758093111,
          0.9093975983297738,
          0.9044381969967764,
          0.8994213866074505,
          0.8943474856029581,
          0.8892168160482776,
          0.8840297036117618,
          0.8787864775444648,
          0.873487470659244,
          0.8681330193096347,
          0.8627234633684994,
          0.8572591462064549,
          0.8517404146700774,
          0.8461676190598856,
          0.8405411131081059,
          0.8348612539562191,
          0.8291284021322916,
          0.8233429215280897,
          0.8175051793759827,
          0.8116155462256324,
          0.8056743959204727,
          0.79968210557398,
          0.7936390555457354,
          0.7875456294172825,
          0.7814022139677786,
          0.7752091991494451
         ],
         "y": [
          0,
          0.008763750311887534,
          0.01752694434625719,
          0.0262890258609007,
          0.03504943868422679,
          0.04380762675056409,
          0.052563034135457286,
          0.06131510509095432,
          0.07006328408088242,
          0.07880701581611062,
          0.08754574528979671,
          0.09627891781261615,
          0.10500597904797082,
          0.11372637504717562,
          0.12243955228462003,
          0.13114495769290324,
          0.1398420386979399,
          0.14853024325403474,
          0.15720901987892352,
          0.16587781768877824,
          0.1745360864331745,
          0.1831832765300185,
          0.19181883910043152,
          0.2004422260035902,
          0.20905288987151946,
          0.2176502841438367,
          0.2262338631024445,
          0.23480308190617014,
          0.24335739662534916,
          0.2518962642763513,
          0.2604191428560462,
          0.26892549137620714,
          0.2774147698978499,
          0.2858864395655054,
          0.29433996264142354,
          0.3027748025397061,
          0.31119042386036605,
          0.3195862924233124,
          0.3279618753022568,
          0.33631664085854146,
          0.3446500587748841,
          0.35296160008904054,
          0.3612507372273798,
          0.3695169440383722,
          0.37775969582598656,
          0.3859784693829951,
          0.39417274302418426,
          0.40234199661946807,
          0.4104857116269037,
          0.4186033711256059,
          0.426694459848558,
          0.4347584642153189,
          0.4427948723646221,
          0.4508031741868663,
          0.4587828613564942,
          0.4667334273642589,
          0.47465436754937385,
          0.4825451791315465,
          0.49040536124289213,
          0.49823441495972637,
          0.5060318433342341,
          0.5137971514260136,
          0.5215298463334919,
          0.5292294372252127,
          0.5368954353709912,
          0.5445273541729361,
          0.5521247091963366,
          0.559687018200412,
          0.5672138011689207,
          0.5747045803406311,
          0.5821588802396455,
          0.5895762277055817,
          0.5969561519236072,
          0.6042981844543233,
          0.6116018592634995,
          0.618866712751655,
          0.6260922837834855,
          0.633278113717134,
          0.6404237464333025,
          0.6475287283642045,
          0.6545926085223548,
          0.6616149385291962,
          0.66859527264356,
          0.6755331677899594,
          0.682428183586714,
          0.6892798823739019,
          0.6960878292411418,
          0.7028515920551968,
          0.7095707414874057,
          0.7162448510409339,
          0.722873497077845,
          0.7294562588459914,
          0.7359927185057217,
          0.7424824611564023,
          0.7489250748627538,
          0.7553201506809983,
          0.7616672826848171,
          0.7679660679911168,
          0.7742161067856015,
          0.7804170023481525
         ]
        },
        {
         "hoverinfo": "text",
         "line": {
          "color": "rgba(244,109,67,0.75)",
          "shape": "spline",
          "width": 0.25
         },
         "mode": "lines",
         "text": "King Street Station Plaza<br>2215 partidas",
         "type": "scatter",
         "x": [
          0.7752087087988276,
          0.77094524102495,
          0.7666588882196722,
          0.7623497776207192,
          0.7580180371413671,
          0.7536637953666455,
          0.7492871815495216,
          0.7448883256070624,
          0.7404673581165789,
          0.7360244103117494,
          0.7315596140787243,
          0.727073101952211,
          0.7225650071115398,
          0.7180354633767106,
          0.7134846052044203,
          0.7089125676840716,
          0.7043194865337632,
          0.6997054980962606,
          0.6950707393349492,
          0.6904153478297692,
          0.6857394617731299,
          0.6810432199658101,
          0.6763267618128347,
          0.6715902273193396,
          0.6668337570864143,
          0.6620574923069278,
          0.657261574761338,
          0.6524461468134833,
          0.6476113514063566,
          0.642757332057861,
          0.6378842328565509,
          0.6329921984573541,
          0.6280813740772782,
          0.6231519054910993,
          0.6182039390270361,
          0.6132376215624041,
          0.6082531005192578,
          0.6032505238600137,
          0.5982300400830572,
          0.5931917982183361,
          0.5881359478229359,
          0.5830626389766401,
          0.5779720222774763,
          0.5728642488372437,
          0.56773947027703,
          0.5625978387227083,
          0.5574395068004234,
          0.5522646276320592,
          0.5470733548306947,
          0.5418658424960442,
          0.5366422452098817,
          0.5314027180314537,
          0.526147416492875,
          0.520876496594513,
          0.5155901148003563,
          0.5102884280333703,
          0.5049715936708388,
          0.4996397695396929,
          0.49429311391182557,
          0.48893178549939353,
          0.4835559434501063,
          0.47816574734250084,
          0.4727613571812064,
          0.4673429333921937,
          0.46191063681801237,
          0.45646462871301785,
          0.4510050707385834,
          0.4455321249583021,
          0.4400459538331756,
          0.4345467202167913,
          0.4290345873504891,
          0.42350971885851496,
          0.4179722787431641,
          0.41242243137991225,
          0.40686034151253675,
          0.4012861742482263,
          0.39570009505267956,
          0.3901022697451934,
          0.3844928644937405,
          0.37887204581003725,
          0.3732399805446011,
          0.3675968358817964,
          0.36194277933487323,
          0.35627797874099393,
          0.3506026022562514,
          0.344916818350677,
          0.33922079580324044,
          0.33351470369683833,
          0.32779871141327654,
          0.3220729886282418,
          0.3163377053062637,
          0.31059303169567143,
          0.30483913832353854,
          0.29907619599062196,
          0.2933043757662908,
          0.28752384898344974,
          0.281734787233451,
          0.2759373623610033,
          0.2701317464590683,
          0.26431811186375415
         ],
         "y": [
          0.7804174894263035,
          0.7846294892119349,
          0.7888181977577446,
          0.792983490724517,
          0.7971252444681133,
          0.801243336043142,
          0.8053376432066084,
          0.8094080444215432,
          0.813454418860611,
          0.8174766464096953,
          0.8214746076714655,
          0.8254481839689213,
          0.8293972573489139,
          0.8333217105856493,
          0.8372214271841666,
          0.8410962913837968,
          0.8449461881615992,
          0.848771003235775,
          0.8525706230690613,
          0.8563449348720987,
          0.8600938266067826,
          0.8638171869895861,
          0.8675149054948655,
          0.8711868723581399,
          0.8748329785793499,
          0.8784531159260934,
          0.8820471769368384,
          0.8856150549241124,
          0.8891566439776698,
          0.8926718389676359,
          0.8961605355476271,
          0.8996226301578489,
          0.9030580200281698,
          0.9064666031811719,
          0.9098482784351778,
          0.913202945407255,
          0.9165305045161943,
          0.9198308569854673,
          0.9231039048461576,
          0.926349550939869,
          0.9295676989216101,
          0.9327582532626535,
          0.9359211192533721,
          0.9390562030060504,
          0.9421634114576716,
          0.9452426523726792,
          0.9482938343457162,
          0.9513168668043384,
          0.9543116600117012,
          0.9572781250692259,
          0.9602161739192365,
          0.963125719347575,
          0.9660066749861894,
          0.9688589553156984,
          0.9716824756679291,
          0.9744771522284307,
          0.9772429020389626,
          0.9799796429999568,
          0.982687293872955,
          0.9853657742830199,
          0.9880150047211216,
          0.9906349065464974,
          0.9932254019889867,
          0.9957864141513378,
          0.9983178670114937,
          1.0008196854248457,
          1.0032917951264655,
          1.0057341227333096,
          1.0081465957463978,
          1.0105291425529646,
          1.0128816924285855,
          1.0152041755392764,
          1.0174965229435662,
          1.0197586665945437,
          1.0219905393418778,
          1.0241920749338096,
          1.0263632080191205,
          1.0285038741490713,
          1.030614009779315,
          1.0326935522717846,
          1.0347424398965503,
          1.0367606118336536,
          1.0387480081749123,
          1.040704569925698,
          1.0426302390066888,
          1.044524958255592,
          1.0463886714288417,
          1.0482213232032682,
          1.0500228591777399,
          1.0517932258747784,
          1.0535323707421465,
          1.0552402421544071,
          1.0569167894144564,
          1.058561962755029,
          1.060175713340174,
          1.061757993266706,
          1.0633087555656269,
          1.0648279542035195,
          1.0663155440839143,
          1.0677714810486278
         ]
        },
        {
         "hoverinfo": "text",
         "line": {
          "color": "rgba(253,174,97,0.75)",
          "shape": "spline",
          "width": 0.25
         },
         "mode": "lines",
         "text": "3rd Ave & Broad St<br>3227 partidas",
         "type": "scatter",
         "x": [
          0.26431744096309384,
          0.2558336451469724,
          0.2473337304375476,
          0.23881823237508576,
          0.23028768748168685,
          0.2217426332274831,
          0.2131836079967734,
          0.2046111510541041,
          0.19602580251029056,
          0.18742810328838921,
          0.17881859508961456,
          0.170197820359211,
          0.16156632225227402,
          0.15292464459953023,
          0.14427333187307148,
          0.1356129291520519,
          0.12694398208834304,
          0.11826703687215702,
          0.10958264019763143,
          0.10089133922838679,
          0.09219368156305023,
          0.0834902152007559,
          0.07478148850661603,
          0.06606805017717296,
          0.057350449205826416,
          0.04862923484824589,
          0.0399049565877626,
          0.031178164100751107,
          0.022449407221994986,
          0.013719235910045051,
          0.0049882002125694914,
          -0.0037431497683025755,
          -0.012474263910640982,
          -0.021204592107374656,
          -0.02993358430095082,
          -0.03866069051799208,
          -0.047385360903948175,
          -0.05610704575773927,
          -0.06482519556638963,
          -0.0735392610396503,
          -0.08224869314460792,
          -0.09095294314027617,
          -0.09965146261216873,
          -0.10834370350685402,
          -0.11702911816648355,
          -0.1257071593632993,
          -0.13437728033410998,
          -0.14303893481474203,
          -0.15169157707445535,
          -0.160334661950329,
          -0.16896764488160762,
          -0.17758998194401363,
          -0.18620112988401527,
          -0.19480054615305656,
          -0.20338768894173895,
          -0.21196201721395982,
          -0.22052299074099907,
          -0.22907007013555816,
          -0.23760271688574253,
          -0.2461203933889925,
          -0.2546225629859542,
          -0.2631086899942917,
          -0.27157823974243844,
          -0.28003067860328446,
          -0.28846547402779776,
          -0.29688209457857706,
          -0.30528000996333565,
          -0.31365869106831334,
          -0.32201760999161266,
          -0.33035624007645925,
          -0.3386740559443846,
          -0.3469705335283281,
          -0.3552451501056555,
          -0.3634973843310929,
          -0.37172671626957493,
          -0.3799326274290034,
          -0.3881146007929153,
          -0.3962721208530566,
          -0.40440467364186267,
          -0.4125117467648417,
          -0.4205928294328574,
          -0.42864741249431115,
          -0.4366749884672226,
          -0.4446750515712027,
          -0.4526470977593206,
          -0.4605906247498619,
          -0.46850513205797417,
          -0.4763901210272022,
          -0.48424509486090317,
          -0.4920695586535492,
          -0.49986301942190986,
          -0.5076249861361107,
          -0.5153549697505719,
          -0.5230524832348209,
          -0.5307170416041772,
          -0.5383481619503107,
          -0.5459453634716649,
          -0.5535081675037518,
          -0.5610360975493108,
          -0.5685286793083286
         ],
         "y": [
          1.0677716471243848,
          1.0698360369752056,
          1.0718330214113796,
          1.0737624746121648,
          1.0756242750116498,
          1.0774183053064126,
          1.079144452462912,
          1.080802607724609,
          1.0823926666188186,
          1.083914528963293,
          1.0853680988725332,
          1.08675328476383,
          1.088069999363035,
          1.089318159710058,
          1.0904976871640961,
          1.091608507408586,
          1.0926505504558879,
          1.0936237506516946,
          1.0945280466791687,
          1.0953633815628048,
          1.09612970267202,
          1.09682696172447,
          1.09745511478909,
          1.098014122288865,
          1.0985039490033206,
          1.098924564070744,
          1.099275940990127,
          1.0995580576228374,
          1.0997708961940125,
          1.0999144432936794,
          1.0999886898776003,
          1.0999936312678416,
          1.0999292671530692,
          1.099795601588568,
          1.0995926429959861,
          1.0993204041628046,
          1.098978902241532,
          1.0985681587486227,
          1.0980881995631222,
          1.0975390549250366,
          1.0969207594334263,
          1.096233352044227,
          1.0954768760677953,
          1.0946513791661796,
          1.093756913350117,
          1.0927935349757567,
          1.0917613047411088,
          1.0906602876822205,
          1.0894905531690786,
          1.0882521749012377,
          1.0869452309031782,
          1.085569803519389,
          1.084125979409181,
          1.0826138495412254,
          1.081033509187823,
          1.079385057918901,
          1.077668599595741,
          1.0758842423644333,
          1.0740320986490646,
          1.0721122851446334,
          1.0701249228096987,
          1.0680701368587588,
          1.0659480567543613,
          1.0637588161989466,
          1.0615025531264246,
          1.059179409693484,
          1.0567895322706342,
          1.0543330714329853,
          1.0518101819507595,
          1.0492210227795404,
          1.0465657570502582,
          1.0438445520589106,
          1.041057579256023,
          1.0382050142358463,
          1.0352870367252933,
          1.032303830572615,
          1.0292555837358164,
          1.0261424882708154,
          1.0229647403193418,
          1.019722540096579,
          1.0164160918785492,
          1.013045603989244,
          1.0096112887874973,
          1.006113362653607,
          1.0025520459757011,
          0.9989275631358523,
          0.9952401424959406,
          0.9914900163832654,
          0.9876774210759073,
          0.9838025967878421,
          0.9798657876538049,
          0.9758672417139094,
          0.9718072108980192,
          0.9676859510098758,
          0.9635037217109804,
          0.9592607865042343,
          0.9549574127173378,
          0.9505938714859458,
          0.9461704377365847,
          0.941687390169332
         ]
        },
        {
         "hoverinfo": "text",
         "line": {
          "color": "rgba(254,224,139,0.75)",
          "shape": "spline",
          "width": 0.25
         },
         "mode": "lines",
         "text": "Pine St & 9th Ave<br>1614 partidas",
         "type": "scatter",
         "x": [
          -0.5685292709878537,
          -0.572263309619458,
          -0.5759883287272445,
          -0.5797042696006544,
          -0.5834110736722126,
          -0.5871086825184502,
          -0.5907970378608258,
          -0.5944760815666436,
          -0.5981457556499699,
          -0.6018060022725468,
          -0.6054567637447045,
          -0.6090979825262691,
          -0.6127296012274713,
          -0.6163515626098497,
          -0.6199638095871531,
          -0.6235662852262407,
          -0.627158932747979,
          -0.6307416955281367,
          -0.6343145170982778,
          -0.6378773411466508,
          -0.6414301115190766,
          -0.6449727722198335,
          -0.6485052674125399,
          -0.6520275414210343,
          -0.6555395387302522,
          -0.6590412039871023,
          -0.6625324820013381,
          -0.6660133177464272,
          -0.6694836563604208,
          -0.6729434431468156,
          -0.6763926235754174,
          -0.6798311432832005,
          -0.6832589480751645,
          -0.6866759839251879,
          -0.6900821969768804,
          -0.6934775335444312,
          -0.6968619401134554,
          -0.7002353633418371,
          -0.703597750060571,
          -0.7069490472745991,
          -0.710289202163647,
          -0.7136181620830564,
          -0.716935874564614,
          -0.7202422873173789,
          -0.7235373482285077,
          -0.7268210053640739,
          -0.7300932069698883,
          -0.7333539014723137,
          -0.7366030374790778,
          -0.7398405637800837,
          -0.7430664293482165,
          -0.7462805833401482,
          -0.7494829750971381,
          -0.752673554145832,
          -0.7558522701990575,
          -0.7590190731566167,
          -0.7621739131060752,
          -0.7653167403235499,
          -0.7684475052744918,
          -0.7715661586144669,
          -0.7746726511899342,
          -0.7777669340390203,
          -0.7808489583922908,
          -0.7839186756735195,
          -0.7869760375004532,
          -0.7900209956855757,
          -0.7930535022368654,
          -0.7960735093585534,
          -0.7990809694518755,
          -0.8020758351158234,
          -0.8050580591478914,
          -0.8080275945448203,
          -0.810984394503338,
          -0.8139284124208982,
          -0.8168596018964129,
          -0.8197779167309867,
          -0.8226833109286421,
          -0.8255757386970457,
          -0.8284551544482301,
          -0.8313215127993122,
          -0.8341747685732083,
          -0.837014876799346,
          -0.839841792714374,
          -0.8426554717628663,
          -0.8454558695980254,
          -0.8482429420823806,
          -0.8510166452884841,
          -0.8537769354996033,
          -0.8565237692104098,
          -0.8592571031276647,
          -0.8619768941709014,
          -0.8646830994731044,
          -0.8673756763813855,
          -0.870054582457655,
          -0.8727197754792914,
          -0.8753712134398062,
          -0.8780088545495072,
          -0.8806326572361556,
          -0.8832425801456223,
          -0.8858385821425393
         ],
         "y": [
          0.9416870329520418,
          0.9394225377663582,
          0.9371432362077826,
          0.9348491642007132,
          0.9325403579023465,
          0.9302168537021085,
          0.9278786882210811,
          0.9255258983114246,
          0.9231585210557972,
          0.9207765937667701,
          0.9183801539862397,
          0.915969239484836,
          0.9135438882613272,
          0.9111041385420202,
          0.9086500287801593,
          0.9061815976553192,
          0.9036988840727957,
          0.9012019271629924,
          0.898690766280804,
          0.8961654410049962,
          0.8936259911375817,
          0.8910724567031926,
          0.8885048779484502,
          0.8859232953413302,
          0.8833277495705251,
          0.8807182815448029,
          0.878094932392362,
          0.8754577434601837,
          0.872806756313379,
          0.8701420127345356,
          0.867463554723058,
          0.8647714244945057,
          0.862065664479928,
          0.8593463173251953,
          0.8566134258903266,
          0.8538670332488147,
          0.8511071826869464,
          0.8483339177031209,
          0.845547282007164,
          0.8427473195196393,
          0.8399340743711555,
          0.837107590901672,
          0.8342679136597981,
          0.8314150874020932,
          0.8285491570923595,
          0.8256701679009342,
          0.8227781652039776,
          0.8198731945827575,
          0.8169553018229312,
          0.8140245329138233,
          0.8110809340477015,
          0.8081245516190486,
          0.8051554322238301,
          0.8021736226587617,
          0.7991791699205698,
          0.7961721212052522,
          0.7931525239073334,
          0.790120425619118,
          0.7870758741299406,
          0.7840189174254123,
          0.7809496036866647,
          0.7778679812895903,
          0.7747740988040803,
          0.7716680049932585,
          0.7685497488127138,
          0.7654193794097272,
          0.7622769461224983,
          0.7591224984793676,
          0.7559560861980351,
          0.7527777591847773,
          0.7495875675336607,
          0.7463855615257518,
          0.7431717916283249,
          0.7399463084940667,
          0.7367091629602783,
          0.7334604060480726,
          0.7302000889615718,
          0.7269282630870996,
          0.7236449799923712,
          0.7203502914256807,
          0.7170442493150857,
          0.7137269057675883,
          0.7103983130683144,
          0.7070585236796891,
          0.7037075902406106,
          0.7003455655656194,
          0.6969725026440674,
          0.6935884546392812,
          0.6901934748877251,
          0.6867876168981601,
          0.6833709343508011,
          0.67994348109647,
          0.6765053111557471,
          0.6730564787181205,
          0.6695970381411313,
          0.6661270439495167,
          0.6626465508343513,
          0.6591556136521844,
          0.6556542874241761,
          0.6521426273352293
         ]
        },
        {
         "hoverinfo": "text",
         "line": {
          "color": "rgba(255,255,191,0.75)",
          "shape": "spline",
          "width": 0.25
         },
         "mode": "lines",
         "text": "E Pine St & 16th Ave<br>439 partidas",
         "type": "scatter",
         "x": [
          -0.8858389918956617,
          -0.8865426744425583,
          -0.8872453232617773,
          -0.8879469375340148,
          -0.8886475164411742,
          -0.8893470591663656,
          -0.8900455648939067,
          -0.8907430328093255,
          -0.8914394620993588,
          -0.8921348519519559,
          -0.8928292015562771,
          -0.8935225101026959,
          -0.8942147767827999,
          -0.894906000789391,
          -0.8955961813164877,
          -0.8962853175593246,
          -0.8969734087143542,
          -0.8976604539792474,
          -0.8983464525528946,
          -0.8990314036354073,
          -0.8997153064281176,
          -0.9003981601335804,
          -0.9010799639555737,
          -0.9017607170990993,
          -0.9024404187703849,
          -0.903119068176884,
          -0.9037966645272767,
          -0.904473207031471,
          -0.9051486949006039,
          -0.9058231273470426,
          -0.9064965035843842,
          -0.9071688228274576,
          -0.9078400842923242,
          -0.9085102871962786,
          -0.9091794307578503,
          -0.9098475141968037,
          -0.9105145367341388,
          -0.9111804975920935,
          -0.9118453959941427,
          -0.9125092311650014,
          -0.9131720023306231,
          -0.9138337087182026,
          -0.9144943495561764,
          -0.9151539240742225,
          -0.9158124315032635,
          -0.9164698710754658,
          -0.9171262420242404,
          -0.9177815435842452,
          -0.9184357749913838,
          -0.9190889354828095,
          -0.9197410242969225,
          -0.9203920406733735,
          -0.9210419838530636,
          -0.9216908530781451,
          -0.9223386475920227,
          -0.9229853666393542,
          -0.9236310094660511,
          -0.9242755753192803,
          -0.9249190634474643,
          -0.9255614731002825,
          -0.9262028035286709,
          -0.926843053984825,
          -0.9274822237221987,
          -0.9281203119955069,
          -0.9287573180607248,
          -0.9293932411750899,
          -0.930028080597102,
          -0.9306618355865248,
          -0.931294505404387,
          -0.9319260893129815,
          -0.9325565865758683,
          -0.9331859964578739,
          -0.9338143182250929,
          -0.934441551144889,
          -0.9350676944858952,
          -0.935692747518015,
          -0.9363167095124231,
          -0.9369395797415662,
          -0.9375613574791649,
          -0.9381820420002128,
          -0.9388016325809786,
          -0.9394201284990066,
          -0.9400375290331167,
          -0.9406538334634074,
          -0.9412690410712544,
          -0.9418831511393124,
          -0.9424961629515162,
          -0.9431080757930803,
          -0.9437188889505019,
          -0.9443286017115599,
          -0.9449372133653158,
          -0.9455447232021157,
          -0.9461511305135896,
          -0.9467564345926545,
          -0.9473606347335123,
          -0.947963730231653,
          -0.9485657203838544,
          -0.9491666044881828,
          -0.949766381843995,
          -0.9503650517519376
         ],
         "y": [
          0.6521420707463044,
          0.6511851398736278,
          0.6502274497051818,
          0.6492690013576534,
          0.6483097959486137,
          0.6473498345965165,
          0.6463891184206975,
          0.6454276485413722,
          0.6444654260796354,
          0.6435024521574584,
          0.6425387278976894,
          0.6415742544240517,
          0.6406090328611419,
          0.6396430643344293,
          0.638676349970253,
          0.6377088908958232,
          0.6367406882392175,
          0.635771743129381,
          0.6348020566961249,
          0.6338316300701232,
          0.6328604643829148,
          0.6318885607668993,
          0.6309159203553372,
          0.6299425442823484,
          0.6289684336829093,
          0.6279935896928542,
          0.6270180134488718,
          0.626041706088505,
          0.625064668750149,
          0.6240869025730501,
          0.6231084086973042,
          0.6221291882638565,
          0.621149242414499,
          0.6201685722918694,
          0.6191871790394496,
          0.6182050638015653,
          0.6172222277233839,
          0.6162386719509131,
          0.6152543976310005,
          0.6142694059113301,
          0.6132836979404236,
          0.6122972748676375,
          0.6113101378431623,
          0.6103222880180214,
          0.6093337265440675,
          0.608344454573985,
          0.6073544732612862,
          0.6063637837603104,
          0.6053723872262232,
          0.604380284815013,
          0.6033874776834932,
          0.6023939669892977,
          0.6013997538908818,
          0.6004048395475184,
          0.5994092251192993,
          0.598412911767132,
          0.5974159006527391,
          0.5964181929386575,
          0.5954197897882345,
          0.5944206923656303,
          0.5934209018358135,
          0.5924204193645615,
          0.5914192461184583,
          0.5904173832648927,
          0.5894148319720584,
          0.5884115934089517,
          0.58740766874537,
          0.5864030591519116,
          0.5853977657999717,
          0.5843917898617442,
          0.5833851325102187,
          0.5823777949191788,
          0.5813697782632025,
          0.5803610837176576,
          0.5793517124587039,
          0.5783416656632898,
          0.5773309445091516,
          0.576319550174812,
          0.5753074838395775,
          0.5742947466835396,
          0.5732813398875715,
          0.572267264633327,
          0.57125252210324,
          0.5702371134805209,
          0.5692210399491584,
          0.5682043026939159,
          0.5671869029003308,
          0.5661688417547134,
          0.5651501204441438,
          0.5641307401564732,
          0.5631107020803209,
          0.5620900074050729,
          0.5610686573208813,
          0.5600466530186615,
          0.5590239956900928,
          0.5580006865276153,
          0.5569767267244291,
          0.555952117474494,
          0.5549268599725253,
          0.5539009554139956
         ]
        },
        {
         "hoverinfo": "text",
         "line": {
          "color": "rgba(230,245,152,0.75)",
          "shape": "spline",
          "width": 0.25
         },
         "mode": "lines",
         "text": "Pier 69<br>7898 partidas",
         "type": "scatter",
         "x": [
          -0.9503653997779844,
          -0.9609460739938724,
          -0.9711640863047708,
          -0.9810155804237246,
          -0.9904968383880708,
          -0.9996042819626009,
          -1.0083344739899915,
          -1.016684119687988,
          -1.024650067892861,
          -1.032229312248656,
          -1.0394189923417967,
          -1.0462163947806065,
          -1.052618954219345,
          -1.0586242543263724,
          -1.0642300286960749,
          -1.0694341617042074,
          -1.074234689306334,
          -1.0786297997790575,
          -1.0826178344037674,
          -1.0861972880926414,
          -1.089366809956666,
          -1.0921252038154643,
          -1.094471428648735,
          -1.096404598989134,
          -1.0979239852564522,
          -1.099029014032957,
          -1.0997192682798036,
          -1.0999944874944236,
          -1.0998545678088403,
          -1.0992995620288677,
          -1.0983296796141817,
          -1.0969452865992704,
          -1.0951469054552918,
          -1.0929352148928928,
          -1.0903110496060635,
          -1.0872753999571223,
          -1.083829411602953,
          -1.0799743850626327,
          -1.075711775226614,
          -1.0710431908076496,
          -1.0659703937336606,
          -1.0604952984827853,
          -1.0546199713608524,
          -1.0483466297215553,
          -1.0416776411296214,
          -1.0346155224672902,
          -1.0271629389844408,
          -1.0193227032927235,
          -1.0110977743040779,
          -1.0024912561140367,
          -0.9935063968302368,
          -0.9841465873465822,
          -0.9744153600635159,
          -0.9643163875548902,
          -0.9538534811819324,
          -0.9430305896548354,
          -0.9318517975425096,
          -0.9203213237310639,
          -0.9084435198315945,
          -0.8962228685378811,
          -0.883663981934617,
          -0.8707715997568019,
          -0.8575505876009631,
          -0.8440059350888746,
          -0.8301427539844692,
          -0.8159662762646547,
          -0.80148185214476,
          -0.7866949480593607,
          -0.771611144599241,
          -0.7562361344052742,
          -0.7405757200200129,
          -0.7246358116978082,
          -0.7084224251742699,
          -0.6919416793959265,
          -0.6751997942109278,
          -0.6582030880216658,
          -0.6409579754002098,
          -0.6234709646674365,
          -0.6057486554367858,
          -0.5877977361235603,
          -0.5696249814207122,
          -0.5512372497420673,
          -0.5326414806339519,
          -0.5138446921562061,
          -0.49485397823355826,
          -0.4756765059783736,
          -0.4563195129857757,
          -0.43679030460217727,
          -0.4170962511682322,
          -0.39724478523726325,
          -0.37724339877021,
          -0.35709964030815594,
          -0.3368211121235033,
          -0.31641546735086507,
          -0.2958904070987706,
          -0.27525367754325664,
          -0.2545130670044557,
          -0.233676403007273,
          -0.21275154932727755,
          -0.19174640302290222
         ],
         "y": [
          0.5539003582819135,
          0.5353341413320873,
          0.5165658888000833,
          0.49760268384113737,
          0.47845168318570713,
          0.45912011443851286,
          0.4396152733508328,
          0.41994452106708224,
          0.40011528134670843,
          0.38013503776245966,
          0.36001133087607695,
          0.3397517553924783,
          0.319363957293513,
          0.29885563095235823,
          0.2782345162296582,
          0.2575083955524931,
          0.23668509097728238,
          0.21577246123773683,
          0.1947783987789638,
          0.1737108267788501,
          0.15257769615785036,
          0.13138698257830111,
          0.11014668343439749,
          0.08886481483397264,
          0.06754940857320778,
          0.04620850910542843,
          0.024850170505119226,
          0.003482453428307471,
          -0.017886577929532178,
          -0.03924885887691618,
          -0.06059632726997046,
          -0.08192092655509264,
          -0.10321460880950159,
          -0.12446933777853207,
          -0.1456770919085235,
          -0.16682986737416042,
          -0.18791968109912488,
          -0.20893857376891542,
          -0.22987861283470146,
          -0.25073189550707103,
          -0.2714905517385543,
          -0.292146747193783,
          -0.31269268620617735,
          -0.3331206147200387,
          -0.35342282321693386,
          -0.373591649625278,
          -0.3936194822120042,
          -0.41349876245523964,
          -0.43322198789689814,
          -0.4527817149741156,
          -0.4721705618284565,
          -0.4913812110918328,
          -0.5104064126480865,
          -0.5292389863691892,
          -0.5478718248250307,
          -0.5662978959657661,
          -0.5845102457757211,
          -0.6025020008978413,
          -0.6202663712277038,
          -0.6377966524761101,
          -0.6550862286992888,
          -0.6721285747957604,
          -0.688917258968915,
          -0.7054459451543788,
          -0.7217083954112499,
          -0.7376984722763044,
          -0.7534101410802787,
          -0.7688374722253591,
          -0.7839746434230187,
          -0.7988159418913523,
          -0.8133557665110881,
          -0.8275886299394518,
          -0.841509160681098,
          -0.8551121051153147,
          -0.8683923294787449,
          -0.881344821802876,
          -0.8939646938055574,
          -0.9062471827358451,
          -0.9181876531714671,
          -0.9297815987682363,
          -0.9410246439607485,
          -0.951912545613725,
          -0.9624411946233763,
          -0.9726066174681797,
          -0.9824049777084913,
          -0.991832577434421,
          -1.0008858586614284,
          -1.0095614046731072,
          -1.0178559413106587,
          -1.0257663382085616,
          -1.033289609975974,
          -1.0404229173234247,
          -1.0471635681343612,
          -1.0535090184811584,
          -1.0594568735851988,
          -1.0650048887206636,
          -1.0701509700616945,
          -1.074893175472606,
          -1.0792297152408485,
          -1.0831589527524474
         ]
        },
        {
         "hoverinfo": "text",
         "line": {
          "color": "rgba(171,221,164,0.75)",
          "shape": "spline",
          "width": 0.25
         },
         "mode": "lines",
         "text": "Burke-Gilman Trail<br>941 partidas",
         "type": "scatter",
         "x": [
          -0.19174572245402285,
          -0.1892381092066327,
          -0.1867294821228486,
          -0.1842198546425504,
          -0.18170924021097742,
          -0.17919765227865758,
          -0.17668510430133133,
          -0.1741716097398854,
          -0.17165718206027705,
          -0.1691418347334624,
          -0.16662558123532473,
          -0.16410843504660205,
          -0.161590409652815,
          -0.1590715185441953,
          -0.15655177521561006,
          -0.1540311931664948,
          -0.15150978590077765,
          -0.14898756692680779,
          -0.14646454975728299,
          -0.1439407479091774,
          -0.14141617490366906,
          -0.13889084426606846,
          -0.13636476952574203,
          -0.1338379642160458,
          -0.1313104418742487,
          -0.12878221604146114,
          -0.12625330026256257,
          -0.12372370808612868,
          -0.12119345306435894,
          -0.11866254875300504,
          -0.11613100871129424,
          -0.11359884650186265,
          -0.11106607569067864,
          -0.10853270984697112,
          -0.1059987625431569,
          -0.10346424735476792,
          -0.10092917786037854,
          -0.09839356764153281,
          -0.09585743028267267,
          -0.09332077937106123,
          -0.0907836284967159,
          -0.08824599125233165,
          -0.08570788123320915,
          -0.08316931203718193,
          -0.08063029726454357,
          -0.07809085051797479,
          -0.0755509854024716,
          -0.07301071552526844,
          -0.07047005449577118,
          -0.06792901592548033,
          -0.06538761342791904,
          -0.06284586061856019,
          -0.06030377111475343,
          -0.05776135853565226,
          -0.055218636502142,
          -0.052675618636762955,
          -0.05013231856364326,
          -0.047588749908421976,
          -0.0450449262981771,
          -0.04250086136135253,
          -0.03995656872768508,
          -0.03741206202813141,
          -0.03486735489479507,
          -0.03232246096085437,
          -0.029777393860485488,
          -0.027232167228795255,
          -0.024686794701744213,
          -0.022141289916074534,
          -0.01959566650923696,
          -0.01704993811931773,
          -0.014504118384965547,
          -0.011958220945319451,
          -0.00941225943993186,
          -0.006866247508701349,
          -0.004320198791795675,
          -0.0017741269295796693,
          0.0007719544374578339,
          0.00331803166877708,
          0.0058640911238604715,
          0.008410119162284669,
          0.010956102143797579,
          0.013502026428385563,
          0.01604787837635044,
          0.018593644348381542,
          0.02113931070562885,
          0.023684863809775997,
          0.026230290023113383,
          0.028775575708610234,
          0.03132070722999159,
          0.03386567095180548,
          0.0364104532394999,
          0.03895504045949486,
          0.041499418979255444,
          0.04404357516736485,
          0.04658749539359738,
          0.04913116602899154,
          0.05167457344592199,
          0.054217704018176514,
          0.05676054412102318,
          0.05930308013128717
         ],
         "y": [
          -1.083159073230052,
          -1.08359998985968,
          -1.0840351011411635,
          -1.0844644047434095,
          -1.0848878983664394,
          -1.0853055797414004,
          -1.0857174466305806,
          -1.0861234968274176,
          -1.0865237281565117,
          -1.086918138473638,
          -1.0873067256657574,
          -1.087689487651028,
          -1.0880664223788157,
          -1.088437527829707,
          -1.0888028020155172,
          -1.0891622429793029,
          -1.0895158487953724,
          -1.0898636175692948,
          -1.0902055474379115,
          -1.0905416365693457,
          -1.0908718831630115,
          -1.0911962854496247,
          -1.091514841691212,
          -1.0918275501811194,
          -1.0921344092440224,
          -1.0924354172359345,
          -1.0927305725442167,
          -1.0930198735875842,
          -1.0933033188161176,
          -1.093580906711269,
          -1.093852635785871,
          -1.0941185045841453,
          -1.094378511681709,
          -1.0946326556855834,
          -1.0948809352342015,
          -1.095123348997414,
          -1.0953598956764978,
          -1.095590574004163,
          -1.0958153827445583,
          -1.0960343206932792,
          -1.0962473866773734,
          -1.0964545795553473,
          -1.0966558982171728,
          -1.0968513415842924,
          -1.0970409086096249,
          -1.0972245982775721,
          -1.097402409604023,
          -1.0975743416363597,
          -1.0977403934534626,
          -1.0979005641657154,
          -1.0980548529150085,
          -1.0982032588747461,
          -1.0983457812498483,
          -1.0984824192767566,
          -1.0986131722234376,
          -1.0987380393893873,
          -1.098857020105634,
          -1.098970113734743,
          -1.099077319670819,
          -1.0991786373395107,
          -1.0992740661980114,
          -1.0993636057350649,
          -1.0994472554709664,
          -1.0995250149575653,
          -1.099596883778268,
          -1.0996628615480397,
          -1.099722947913407,
          -1.0997771425524594,
          -1.0998254451748508,
          -1.099867855521802,
          -1.099904373366101,
          -1.0999349985121043,
          -1.0999597307957394,
          -1.0999785700845037,
          -1.0999915162774665,
          -1.0999985693052687,
          -1.0999997291301242,
          -1.0999949957458193,
          -1.099984369177713,
          -1.0999678494827367,
          -1.099945436749394,
          -1.0999171310977602,
          -1.0998829326794821,
          -1.0998428416777764,
          -1.0997968583074291,
          -1.0997449828147945,
          -1.0996872154777937,
          -1.0996235566059134,
          -1.0995540065402032,
          -1.0994785656532755,
          -1.0993972343493021,
          -1.0993100130640125,
          -1.0992169022646916,
          -1.0991179024501772,
          -1.099013014150857,
          -1.0989022379286666,
          -1.0987855743770858,
          -1.098663024121135,
          -1.0985345878173731,
          -1.0984002661538927
         ]
        },
        {
         "hoverinfo": "text",
         "line": {
          "color": "rgba(102,194,165,0.75)",
          "shape": "spline",
          "width": 0.25
         },
         "mode": "lines",
         "text": "Seattle Aquarium<br>4733 partidas",
         "type": "scatter",
         "x": [
          0.059303770276516635,
          0.07208703730553756,
          0.08486053404549766,
          0.09762252924539537,
          0.11037129321308886,
          0.12310509804972336,
          0.13582221788392523,
          0.14852092910571618,
          0.1611995106001223,
          0.17385624398044355,
          0.18648941382115852,
          0.1990973078904184,
          0.21167821738211715,
          0.22423043714749338,
          0.23675226592623666,
          0.24924200657706636,
          0.26169796630775694,
          0.27411845690456405,
          0.28650179496103984,
          0.29884630210619184,
          0.3111503052319601,
          0.32341213671998087,
          0.3356301346676099,
          0.347802643113162,
          0.35992801226035565,
          0.37200459870191577,
          0.3840307656423128,
          0.3960048831196042,
          0.407925328226354,
          0.41979048532958796,
          0.43159874628977113,
          0.44334851067876546,
          0.45503818599674256,
          0.46666618788802594,
          0.47823094035582087,
          0.4897308759758197,
          0.5011644361086418,
          0.5125300711110826,
          0.5238262405461441,
          0.535051413391817,
          0.5462040682485897,
          0.5572826935456461,
          0.5682857877457392,
          0.5792118595487001,
          0.5900594280935605,
          0.6008270231592636,
          0.611513185363925,
          0.6221164663626328,
          0.6326354290437478,
          0.6430686477236818,
          0.6534147083401262,
          0.6636722086437092,
          0.6738397583880457,
          0.6839159795181652,
          0.6938995063572865,
          0.7037889857919135,
          0.7135830774552288,
          0.7232804539087616,
          0.732879800822299,
          0.7423798171520237,
          0.7517792153168523,
          0.7610767213729448,
          0.7702710751863713,
          0.7793610306038996,
          0.7883453556218949,
          0.7972228325532985,
          0.805992258192666,
          0.8146524439792433,
          0.8232022161580582,
          0.8316404159390061,
          0.8399658996539026,
          0.8481775389114932,
          0.8562742207503883,
          0.8642548477899076,
          0.8721183383788154,
          0.8798636267419182,
          0.887489663124517,
          0.8949954139346841,
          0.9023798618833508,
          0.9096420061221853,
          0.9167808623792435,
          0.9237954630923694,
          0.9306848575403354,
          0.9374481119716968,
          0.9440843097313484,
          0.9505925513847614,
          0.9569719548398911,
          0.9632216554667264,
          0.9693408062144809,
          0.9753285777263956,
          0.9811841584521459,
          0.9869067547578361,
          0.9924955910335617,
          0.9979499097985332,
          1.0032689718037406,
          1.008452056132147,
          1.0134984602963986,
          1.018407500334034,
          1.0231785109001885,
          1.0278108453577668
         ],
         "y": [
          -1.0984002288924517,
          -1.097635394405861,
          -1.0967217923254342,
          -1.0956595464758805,
          -1.0944488008282847,
          -1.0930897194805962,
          -1.0915824866353856,
          -1.0899273065748811,
          -1.08812440363328,
          -1.0861740221663436,
          -1.0840764265182787,
          -1.08183190098591,
          -1.0794407497801486,
          -1.0769032969847592,
          -1.0742198865124368,
          -1.0713908820581952,
          -1.0684166670500719,
          -1.0652976445971618,
          -1.0620342374349814,
          -1.0586268878681737,
          -1.0550760577105607,
          -1.0513822282225511,
          -1.047545900045913,
          -1.0435675931359207,
          -1.0394478466908812,
          -1.0351872190790548,
          -1.0307862877629772,
          -1.0262456492211933,
          -1.0215659188674129,
          -1.0167477309671014,
          -1.0117917385515154,
          -1.0066986133291933,
          -1.0014690455949171,
          -0.9961037441361507,
          -0.9906034361369778,
          -0.984968867079542,
          -0.9792008006430077,
          -0.9733000186000558,
          -0.967267320710926,
          -0.9611035246150225,
          -0.9548094657200934,
          -0.9483859970890068,
          -0.9418339893241298,
          -0.9351543304493313,
          -0.9283479257896257,
          -0.9214156978484672,
          -0.9143585861827219,
          -0.9071775472753233,
          -0.8998735544056361,
          -0.8924475975175435,
          -0.884900683085276,
          -0.8772338339769968,
          -0.869448089316171,
          -0.8615445043407269,
          -0.8535241502600348,
          -0.8453881141097205,
          -0.8371374986043364,
          -0.8287734219879013,
          -0.8202970178823447,
          -0.8117094351338587,
          -0.8030118376571904,
          -0.7942054042778915,
          -0.7852913285725442,
          -0.7762708187069945,
          -0.7671450972726008,
          -0.7579154011205311,
          -0.7485829811941274,
          -0.7391491023593588,
          -0.7296150432333901,
          -0.7199820960112807,
          -0.7102515662908532,
          -0.7004247728957355,
          -0.6905030476966162,
          -0.6804877354307305,
          -0.6703801935195984,
          -0.6601817918850523,
          -0.6498939127635612,
          -0.6395179505188917,
          -0.6290553114531224,
          -0.6185074136160426,
          -0.6078756866129545,
          -0.5971615714109163,
          -0.5863665201434389,
          -0.5754919959136714,
          -0.5645394725961008,
          -0.5535104346367915,
          -0.5424063768521881,
          -0.5312288042265209,
          -0.5199792317078253,
          -0.5086591840026152,
          -0.49727019536923217,
          -0.4858138094098979,
          -0.47429157886150725,
          -0.46270506538517575,
          -0.4510558393545808,
          -0.43934547964312204,
          -0.42757557340992897,
          -0.41574771588474724,
          -0.40386351015172595,
          -0.3919245669321498
         ]
        },
        {
         "hoverinfo": "text",
         "line": {
          "color": "rgba(50,136,189,0.75)",
          "shape": "spline",
          "width": 0.25
         },
         "mode": "lines",
         "text": "Lake Union Park<br>1496 partidas",
         "type": "scatter",
         "x": [
          1.027811091611032,
          1.0292463244509396,
          1.0306676204888685,
          1.0320749604793564,
          1.0334683253659172,
          1.0348476962812974,
          1.0362130545477342,
          1.037564381677206,
          1.0389016593716844,
          1.0402248695233818,
          1.041533994214995,
          1.0428290157199493,
          1.0441099165026393,
          1.0453766792186638,
          1.0466292867150626,
          1.0478677220305488,
          1.0490919683957376,
          1.0503020092333732,
          1.0514978281585543,
          1.0526794089789555,
          1.0538467356950463,
          1.0549997925003076,
          1.0561385637814473,
          1.057263034118609,
          1.058373188285583,
          1.0594690112500118,
          1.0605504881735939,
          1.0616176044122834,
          1.0626703455164905,
          1.0637086972312755,
          1.0647326454965418,
          1.065742176447228,
          1.066737276413493,
          1.0677179319209038,
          1.068684129690616,
          1.0696358566395545,
          1.0705730998805902,
          1.0714958467227156,
          1.0724040846712146,
          1.0732978014278334,
          1.0741769848909473,
          1.0750416231557225,
          1.075891704514279,
          1.0767272174558495,
          1.0775481506669338,
          1.0783544930314521,
          1.0791462336308975,
          1.0799233617444812,
          1.08068586684928,
          1.0814337386203763,
          1.0821669669310008,
          1.082885541852667,
          1.0835894536553077,
          1.0842786928074049,
          1.0849532499761205,
          1.0856131160274216,
          1.0862582820262048,
          1.0868887392364164,
          1.0875044791211719,
          1.0881054933428709,
          1.0886917737633093,
          1.0892633124437905,
          1.0898201016452334,
          1.0903621338282756,
          1.0908894016533761,
          1.0914018979809155,
          1.0918996158712921,
          1.0923825485850152,
          1.0928506895827974,
          1.0933040325256427,
          1.093742571274932,
          1.0941662998925075,
          1.0945752126407513,
          1.094969303982664,
          1.0953485685819404,
          1.0957130013030403,
          1.096062597211259,
          1.0963973515727938,
          1.0967172598548085,
          1.097022317725494,
          1.097312521054128,
          1.0975878659111293,
          1.0978483485681132,
          1.0980939654979402,
          1.0983247133747647,
          1.0985405890740794,
          1.0987415896727581,
          1.0989277124490953,
          1.099098954882843,
          1.0992553146552435,
          1.0993967896490637,
          1.0995233779486213,
          1.0996350778398112,
          1.0997318878101292,
          1.0998138065486929,
          1.0998808329462582,
          1.0999329660952348,
          1.0999702052896994,
          1.0999925500254037,
          1.099999999999783
         ],
         "y": [
          -0.39192392113947233,
          -0.38813915494862333,
          -0.38434913304938545,
          -0.38055390676162393,
          -0.3767535274756785,
          -0.37294804665166437,
          -0.36913751581877297,
          -0.3653219865745794,
          -0.3615015105843413,
          -0.35767613958029626,
          -0.35384592536096704,
          -0.3500109197904572,
          -0.34617117479774645,
          -0.3423267423759924,
          -0.33847767458182443,
          -0.3346240235346356,
          -0.3307658414158826,
          -0.3269031804683754,
          -0.3230360929955718,
          -0.3191646313608654,
          -0.31528884798688234,
          -0.3114087953547682,
          -0.3075245260034751,
          -0.30363609252905555,
          -0.29974354758394756,
          -0.2958469438762588,
          -0.29194633416905885,
          -0.2880417712796613,
          -0.28413330807890624,
          -0.2802209974904501,
          -0.2763048924900455,
          -0.27238504610482195,
          -0.26846151141257285,
          -0.2645343415410342,
          -0.26060358966716246,
          -0.25666930901641993,
          -0.25273155286205123,
          -0.24879037452435945,
          -0.2448458273699893,
          -0.2408979648112021,
          -0.23694684030514931,
          -0.2329925073531548,
          -0.22903501949998709,
          -0.22507443033313182,
          -0.2211107934820716,
          -0.2171441626175572,
          -0.21317459145087772,
          -0.20920213373313915,
          -0.20522684325453264,
          -0.20124877384360823,
          -0.19726797936654183,
          -0.19328451372641292,
          -0.18929843086246662,
          -0.18530978474939022,
          -0.18131862939657847,
          -0.17732501884740423,
          -0.17332900717848262,
          -0.16933064849894483,
          -0.1653299969497023,
          -0.1613271067027109,
          -0.15732203196024303,
          -0.15331482695415102,
          -0.14930554594512957,
          -0.14529424322198714,
          -0.1412809731009077,
          -0.1372657899247124,
          -0.1332487480621296,
          -0.1292299019070558,
          -0.125209305877816,
          -0.12118701441643288,
          -0.11716308198788652,
          -0.1131375630793741,
          -0.10911051219957794,
          -0.1050819838779244,
          -0.10105203266384263,
          -0.09702071312603183,
          -0.09298807985171936,
          -0.08895418744591865,
          -0.0849190905306957,
          -0.08088284374442654,
          -0.07684550174105438,
          -0.07280711918935547,
          -0.06876775077219592,
          -0.06472745118578829,
          -0.06068627513895684,
          -0.05664427735239279,
          -0.052601512557915356,
          -0.048558035497726706,
          -0.04451390092367658,
          -0.04046916359651797,
          -0.036423878285162685,
          -0.032378099765945585,
          -0.02833188282187999,
          -0.02428528224191286,
          -0.02023835282018885,
          -0.01619114935530537,
          -0.012143726649567671,
          -0.008096139508252621,
          -0.004048442738863676,
          -6.91150385814946e-07
         ]
        },
        {
         "hoverinfo": "text",
         "marker": {
          "color": "rgba(213,62,79,0.75)",
          "size": 0.5
         },
         "mode": "markers",
         "text": "2nd Ave & Pine St ⮌ : 427 viagens ",
         "type": "scatter",
         "x": [
          0.8519800151309099
         ],
         "y": [
          0.29005181229831073
         ]
        },
        {
         "hoverinfo": "text",
         "marker": {
          "color": "rgba(213,62,79,0.75)",
          "size": 0.5
         },
         "mode": "markers",
         "text": "2nd Ave & Pine St ➔ King Street Station Plaza: 199 viagens ",
         "type": "scatter",
         "x": [
          0.8961393236072176
         ],
         "y": [
          0.08327252058631668
         ]
        },
        {
         "hoverinfo": "text",
         "marker": {
          "color": "rgba(244,109,67,0.75)",
          "size": 0.5
         },
         "mode": "markers",
         "text": "King Street Station Plaza ➔ 2nd Ave & Pine St: 384 viagens ",
         "type": "scatter",
         "x": [
          0.45006350025482367
         ],
         "y": [
          0.7793861980676694
         ]
        },
        {
         "hoverinfo": "text",
         "marker": {
          "color": "rgba(213,62,79,0.75)",
          "size": 0.5
         },
         "mode": "markers",
         "text": "2nd Ave & Pine St ➔ 3rd Ave & Broad St: 1101 viagens ",
         "type": "scatter",
         "x": [
          0.7139126558056108
         ],
         "y": [
          0.5480225541714313
         ]
        },
        {
         "hoverinfo": "text",
         "marker": {
          "color": "rgba(253,174,97,0.75)",
          "size": 0.5
         },
         "mode": "markers",
         "text": "3rd Ave & Broad St ➔ 2nd Ave & Pine St: 962 viagens ",
         "type": "scatter",
         "x": [
          -0.37193281204115813
         ],
         "y": [
          0.81955230664501
         ]
        },
        {
         "hoverinfo": "text",
         "marker": {
          "color": "rgba(213,62,79,0.75)",
          "size": 0.5
         },
         "mode": "markers",
         "text": "2nd Ave & Pine St ➔ Pine St & 9th Ave: 344 viagens ",
         "type": "scatter",
         "x": [
          0.8754173933702512
         ],
         "y": [
          0.2089123916497895
         ]
        },
        {
         "hoverinfo": "text",
         "marker": {
          "color": "rgba(254,224,139,0.75)",
          "size": 0.5
         },
         "mode": "markers",
         "text": "Pine St & 9th Ave ➔ 2nd Ave & Pine St: 158 viagens ",
         "type": "scatter",
         "x": [
          -0.5405174097006477
         ],
         "y": [
          0.7196116520808306
         ]
        },
        {
         "hoverinfo": "text",
         "marker": {
          "color": "rgba(213,62,79,0.75)",
          "size": 0.5
         },
         "mode": "markers",
         "text": "2nd Ave & Pine St ➔ E Pine St & 16th Ave: 577 viagens ",
         "type": "scatter",
         "x": [
          0.8102530104236265
         ],
         "y": [
          0.39177807378597723
         ]
        },
        {
         "hoverinfo": "text",
         "marker": {
          "color": "rgba(255,255,191,0.75)",
          "size": 0.5
         },
         "mode": "markers",
         "text": "E Pine St & 16th Ave ➔ 2nd Ave & Pine St: 53 viagens ",
         "type": "scatter",
         "x": [
          -0.7352233838419746
         ],
         "y": [
          0.519082436470313
         ]
        },
        {
         "hoverinfo": "text",
         "marker": {
          "color": "rgba(213,62,79,0.75)",
          "size": 0.5
         },
         "mode": "markers",
         "text": "2nd Ave & Pine St ➔ Pier 69: 310 viagens ",
         "type": "scatter",
         "x": [
          0.8892614233128762
         ],
         "y": [
          0.13861501003700027
         ]
        },
        {
         "hoverinfo": "text",
         "marker": {
          "color": "rgba(230,245,152,0.75)",
          "size": 0.5
         },
         "mode": "markers",
         "text": "Pier 69 ➔ 2nd Ave & Pine St: 384 viagens ",
         "type": "scatter",
         "x": [
          -0.8159366645587975
         ],
         "y": [
          0.3797991040387856
         ]
        },
        {
         "hoverinfo": "text",
         "marker": {
          "color": "rgba(213,62,79,0.75)",
          "size": 0.5
         },
         "mode": "markers",
         "text": "2nd Ave & Pine St ➔ Burke-Gilman Trail: 9 viagens ",
         "type": "scatter",
         "x": [
          0.8999994596317783
         ],
         "y": [
          0.0009862365370952157
         ]
        },
        {
         "hoverinfo": "text",
         "marker": {
          "color": "rgba(171,221,164,0.75)",
          "size": 0.5
         },
         "mode": "markers",
         "text": "Burke-Gilman Trail ➔ 2nd Ave & Pine St: 1 viagens ",
         "type": "scatter",
         "x": [
          -0.15677495870490119
         ],
         "y": [
          -0.886240154993598
         ]
        },
        {
         "hoverinfo": "text",
         "marker": {
          "color": "rgba(213,62,79,0.75)",
          "size": 0.5
         },
         "mode": "markers",
         "text": "2nd Ave & Pine St ➔ Seattle Aquarium: 137 viagens ",
         "type": "scatter",
         "x": [
          0.8987952809651608
         ],
         "y": [
          0.046551508189934775
         ]
        },
        {
         "hoverinfo": "text",
         "marker": {
          "color": "rgba(102,194,165,0.75)",
          "size": 0.5
         },
         "mode": "markers",
         "text": "Seattle Aquarium ➔ 2nd Ave & Pine St: 158 viagens ",
         "type": "scatter",
         "x": [
          0.10093133769535471
         ],
         "y": [
          -0.8943225732760112
         ]
        },
        {
         "hoverinfo": "text",
         "marker": {
          "color": "rgba(213,62,79,0.75)",
          "size": 0.5
         },
         "mode": "markers",
         "text": "2nd Ave & Pine St ➔ Lake Union Park: 135 viagens ",
         "type": "scatter",
         "x": [
          0.8998438380845306
         ],
         "y": [
          0.016765054765819055
         ]
        },
        {
         "hoverinfo": "text",
         "marker": {
          "color": "rgba(50,136,189,0.75)",
          "size": 0.5
         },
         "mode": "markers",
         "text": "Lake Union Park ➔ 2nd Ave & Pine St: 105 viagens ",
         "type": "scatter",
         "x": [
          0.8626315881208643
         ],
         "y": [
          -0.25664516978909957
         ]
        },
        {
         "hoverinfo": "text",
         "marker": {
          "color": "rgba(244,109,67,0.75)",
          "size": 0.5
         },
         "mode": "markers",
         "text": "King Street Station Plaza ⮌ : 185 viagens ",
         "type": "scatter",
         "x": [
          0.5925079197760023
         ],
         "y": [
          0.6774469462642182
         ]
        },
        {
         "hoverinfo": "text",
         "marker": {
          "color": "rgba(244,109,67,0.75)",
          "size": 0.5
         },
         "mode": "markers",
         "text": "King Street Station Plaza ➔ 3rd Ave & Broad St: 301 viagens ",
         "type": "scatter",
         "x": [
          0.513427580152988
         ],
         "y": [
          0.7391834142743242
         ]
        },
        {
         "hoverinfo": "text",
         "marker": {
          "color": "rgba(253,174,97,0.75)",
          "size": 0.5
         },
         "mode": "markers",
         "text": "3rd Ave & Broad St ➔ King Street Station Plaza: 179 viagens ",
         "type": "scatter",
         "x": [
          0.1602268153254117
         ],
         "y": [
          0.8856225875906036
         ]
        },
        {
         "hoverinfo": "text",
         "marker": {
          "color": "rgba(244,109,67,0.75)",
          "size": 0.5
         },
         "mode": "markers",
         "text": "King Street Station Plaza ➔ Pine St & 9th Ave: 65 viagens ",
         "type": "scatter",
         "x": [
          0.6241547352341977
         ],
         "y": [
          0.6484064053390656
         ]
        },
        {
         "hoverinfo": "text",
         "marker": {
          "color": "rgba(254,224,139,0.75)",
          "size": 0.5
         },
         "mode": "markers",
         "text": "Pine St & 9th Ave ➔ King Street Station Plaza: 42 viagens ",
         "type": "scatter",
         "x": [
          -0.4761815816571558
         ],
         "y": [
          0.7637087804199252
         ]
        },
        {
         "hoverinfo": "text",
         "marker": {
          "color": "rgba(244,109,67,0.75)",
          "size": 0.5
         },
         "mode": "markers",
         "text": "King Street Station Plaza ➔ E Pine St & 16th Ave: 71 viagens ",
         "type": "scatter",
         "x": [
          0.6133326743888384
         ],
         "y": [
          0.6586524353003145
         ]
        },
        {
         "hoverinfo": "text",
         "marker": {
          "color": "rgba(255,255,191,0.75)",
          "size": 0.5
         },
         "mode": "markers",
         "text": "E Pine St & 16th Ave ➔ King Street Station Plaza: 26 viagens ",
         "type": "scatter",
         "x": [
          -0.7301964973404718
         ],
         "y": [
          0.5261302835531392
         ]
        },
        {
         "hoverinfo": "text",
         "marker": {
          "color": "rgba(244,109,67,0.75)",
          "size": 0.5
         },
         "mode": "markers",
         "text": "King Street Station Plaza ➔ Pier 69: 962 viagens ",
         "type": "scatter",
         "x": [
          0.31687375137392243
         ],
         "y": [
          0.842372260755432
         ]
        },
        {
         "hoverinfo": "text",
         "marker": {
          "color": "rgba(230,245,152,0.75)",
          "size": 0.5
         },
         "mode": "markers",
         "text": "Pier 69 ➔ King Street Station Plaza: 737 viagens ",
         "type": "scatter",
         "x": [
          -0.8600262713108892
         ],
         "y": [
          0.26524481645281767
         ]
        },
        {
         "hoverinfo": "text",
         "marker": {
          "color": "rgba(244,109,67,0.75)",
          "size": 0.5
         },
         "mode": "markers",
         "text": "King Street Station Plaza ➔ Burke-Gilman Trail: 1 viagens ",
         "type": "scatter",
         "x": [
          0.6341839210722572
         ],
         "y": [
          0.6386006218705217
         ]
        },
        {
         "hoverinfo": "text",
         "marker": {
          "color": "rgba(171,221,164,0.75)",
          "size": 0.5
         },
         "mode": "markers",
         "text": "Burke-Gilman Trail ➔ King Street Station Plaza: 0 viagens ",
         "type": "scatter",
         "x": [
          -0.15688286382601868
         ],
         "y": [
          -0.886221059915497
         ]
        },
        {
         "hoverinfo": "text",
         "marker": {
          "color": "rgba(244,109,67,0.75)",
          "size": 0.5
         },
         "mode": "markers",
         "text": "King Street Station Plaza ➔ Seattle Aquarium: 215 viagens ",
         "type": "scatter",
         "x": [
          0.5588246711396885
         ],
         "y": [
          0.7054891827133987
         ]
        },
        {
         "hoverinfo": "text",
         "marker": {
          "color": "rgba(102,194,165,0.75)",
          "size": 0.5
         },
         "mode": "markers",
         "text": "Seattle Aquarium ➔ King Street Station Plaza: 181 viagens ",
         "type": "scatter",
         "x": [
          0.1377488100854849
         ],
         "y": [
          -0.8893960115269424
         ]
        },
        {
         "hoverinfo": "text",
         "marker": {
          "color": "rgba(244,109,67,0.75)",
          "size": 0.5
         },
         "mode": "markers",
         "text": "King Street Station Plaza ➔ Lake Union Park: 31 viagens ",
         "type": "scatter",
         "x": [
          0.6316909708396947
         ],
         "y": [
          0.6410667027381816
         ]
        },
        {
         "hoverinfo": "text",
         "marker": {
          "color": "rgba(50,136,189,0.75)",
          "size": 0.5
         },
         "mode": "markers",
         "text": "Lake Union Park ➔ King Street Station Plaza: 26 viagens ",
         "type": "scatter",
         "x": [
          0.8447026427925388
         ],
         "y": [
          -0.31060818607902235
         ]
        },
        {
         "hoverinfo": "text",
         "marker": {
          "color": "rgba(253,174,97,0.75)",
          "size": 0.5
         },
         "mode": "markers",
         "text": "3rd Ave & Broad St ⮌ : 627 viagens ",
         "type": "scatter",
         "x": [
          -0.20741967597519362
         ],
         "y": [
          0.8757722752053445
         ]
        },
        {
         "hoverinfo": "text",
         "marker": {
          "color": "rgba(253,174,97,0.75)",
          "size": 0.5
         },
         "mode": "markers",
         "text": "3rd Ave & Broad St ➔ Pine St & 9th Ave: 166 viagens ",
         "type": "scatter",
         "x": [
          0.19727633177769524
         ],
         "y": [
          0.878112776880246
         ]
        },
        {
         "hoverinfo": "text",
         "marker": {
          "color": "rgba(254,224,139,0.75)",
          "size": 0.5
         },
         "mode": "markers",
         "text": "Pine St & 9th Ave ➔ 3rd Ave & Broad St: 151 viagens ",
         "type": "scatter",
         "x": [
          -0.5130672884375272
         ],
         "y": [
          0.7394335382814086
         ]
        },
        {
         "hoverinfo": "text",
         "marker": {
          "color": "rgba(253,174,97,0.75)",
          "size": 0.5
         },
         "mode": "markers",
         "text": "3rd Ave & Broad St ➔ E Pine St & 16th Ave: 198 viagens ",
         "type": "scatter",
         "x": [
          0.11941991662815962
         ],
         "y": [
          0.8920419740755047
         ]
        },
        {
         "hoverinfo": "text",
         "marker": {
          "color": "rgba(255,255,191,0.75)",
          "size": 0.5
         },
         "mode": "markers",
         "text": "E Pine St & 16th Ave ➔ 3rd Ave & Broad St: 16 viagens ",
         "type": "scatter",
         "x": [
          -0.7274964394920771
         ],
         "y": [
          0.5298574624616988
         ]
        },
        {
         "hoverinfo": "text",
         "marker": {
          "color": "rgba(253,174,97,0.75)",
          "size": 0.5
         },
         "mode": "markers",
         "text": "3rd Ave & Broad St ➔ Pier 69: 347 viagens ",
         "type": "scatter",
         "x": [
          0.002191809637367792
         ],
         "y": [
          0.8999973310907725
         ]
        },
        {
         "hoverinfo": "text",
         "marker": {
          "color": "rgba(230,245,152,0.75)",
          "size": 0.5
         },
         "mode": "markers",
         "text": "Pier 69 ➔ 3rd Ave & Broad St: 777 viagens ",
         "type": "scatter",
         "x": [
          -0.8940741212831865
         ],
         "y": [
          0.10310899888805941
         ]
        },
        {
         "hoverinfo": "text",
         "marker": {
          "color": "rgba(253,174,97,0.75)",
          "size": 0.5
         },
         "mode": "markers",
         "text": "3rd Ave & Broad St ➔ Burke-Gilman Trail: 6 viagens ",
         "type": "scatter",
         "x": [
          0.21562143912446724
         ],
         "y": [
          0.873789102123558
         ]
        },
        {
         "hoverinfo": "text",
         "marker": {
          "color": "rgba(171,221,164,0.75)",
          "size": 0.5
         },
         "mode": "markers",
         "text": "Burke-Gilman Trail ➔ 3rd Ave & Broad St: 8 viagens ",
         "type": "scatter",
         "x": [
          -0.15321279542466743
         ],
         "y": [
          -0.8868629202521431
         ]
        },
        {
         "hoverinfo": "text",
         "marker": {
          "color": "rgba(253,174,97,0.75)",
          "size": 0.5
         },
         "mode": "markers",
         "text": "3rd Ave & Broad St ➔ Seattle Aquarium: 478 viagens ",
         "type": "scatter",
         "x": [
          -0.08807204745017136
         ],
         "y": [
          0.895680364001542
         ]
        },
        {
         "hoverinfo": "text",
         "marker": {
          "color": "rgba(102,194,165,0.75)",
          "size": 0.5
         },
         "mode": "markers",
         "text": "Seattle Aquarium ➔ 3rd Ave & Broad St: 792 viagens ",
         "type": "scatter",
         "x": [
          0.24190389323652267
         ],
         "y": [
          -0.8668809067207636
         ]
        },
        {
         "hoverinfo": "text",
         "marker": {
          "color": "rgba(253,174,97,0.75)",
          "size": 0.5
         },
         "mode": "markers",
         "text": "3rd Ave & Broad St ➔ Lake Union Park: 264 viagens ",
         "type": "scatter",
         "x": [
          0.06907832236673135
         ],
         "y": [
          0.8973450759763482
         ]
        },
        {
         "hoverinfo": "text",
         "marker": {
          "color": "rgba(50,136,189,0.75)",
          "size": 0.5
         },
         "mode": "markers",
         "text": "Lake Union Park ➔ 3rd Ave & Broad St: 175 viagens ",
         "type": "scatter",
         "x": [
          0.870878209250233
         ],
         "y": [
          -0.2270928106592272
         ]
        },
        {
         "hoverinfo": "text",
         "marker": {
          "color": "rgba(254,224,139,0.75)",
          "size": 0.5
         },
         "mode": "markers",
         "text": "Pine St & 9th Ave ⮌ : 186 viagens ",
         "type": "scatter",
         "x": [
          -0.5701751848841574
         ],
         "y": [
          0.6963477999838278
         ]
        },
        {
         "hoverinfo": "text",
         "marker": {
          "color": "rgba(254,224,139,0.75)",
          "size": 0.5
         },
         "mode": "markers",
         "text": "Pine St & 9th Ave ➔ E Pine St & 16th Ave: 934 viagens ",
         "type": "scatter",
         "x": [
          -0.6595476173660404
         ],
         "y": [
          0.6123699375596251
         ]
        },
        {
         "hoverinfo": "text",
         "marker": {
          "color": "rgba(255,255,191,0.75)",
          "size": 0.5
         },
         "mode": "markers",
         "text": "E Pine St & 16th Ave ➔ Pine St & 9th Ave: 98 viagens ",
         "type": "scatter",
         "x": [
          -0.744642079953116
         ],
         "y": [
          0.5054781624987347
         ]
        },
        {
         "hoverinfo": "text",
         "marker": {
          "color": "rgba(254,224,139,0.75)",
          "size": 0.5
         },
         "mode": "markers",
         "text": "Pine St & 9th Ave ➔ Pier 69: 52 viagens ",
         "type": "scatter",
         "x": [
          -0.4848910082635347
         ],
         "y": [
          0.7582088828978283
         ]
        },
        {
         "hoverinfo": "text",
         "marker": {
          "color": "rgba(230,245,152,0.75)",
          "size": 0.5
         },
         "mode": "markers",
         "text": "Pier 69 ➔ Pine St & 9th Ave: 65 viagens ",
         "type": "scatter",
         "x": [
          -0.7837331826739016
         ],
         "y": [
          0.4424503343606339
         ]
        },
        {
         "hoverinfo": "text",
         "marker": {
          "color": "rgba(254,224,139,0.75)",
          "size": 0.5
         },
         "mode": "markers",
         "text": "Pine St & 9th Ave ➔ Burke-Gilman Trail: 2 viagens ",
         "type": "scatter",
         "x": [
          -0.4653479201658801
         ],
         "y": [
          0.7703579124000024
         ]
        },
        {
         "hoverinfo": "text",
         "marker": {
          "color": "rgba(171,221,164,0.75)",
          "size": 0.5
         },
         "mode": "markers",
         "text": "Burke-Gilman Trail ➔ Pine St & 9th Ave: 4 viagens ",
         "type": "scatter",
         "x": [
          -0.15623539826880695
         ],
         "y": [
          -0.8863354333026449
         ]
        },
        {
         "hoverinfo": "text",
         "marker": {
          "color": "rgba(254,224,139,0.75)",
          "size": 0.5
         },
         "mode": "markers",
         "text": "Pine St & 9th Ave ➔ Seattle Aquarium: 36 viagens ",
         "type": "scatter",
         "x": [
          -0.46890720770504163
         ],
         "y": [
          0.7681966093144781
         ]
        },
        {
         "hoverinfo": "text",
         "marker": {
          "color": "rgba(102,194,165,0.75)",
          "size": 0.5
         },
         "mode": "markers",
         "text": "Seattle Aquarium ➔ Pine St & 9th Ave: 68 viagens ",
         "type": "scatter",
         "x": [
          0.06099035898639027
         ],
         "y": [
          -0.8979310530941178
         ]
        },
        {
         "hoverinfo": "text",
         "marker": {
          "color": "rgba(254,224,139,0.75)",
          "size": 0.5
         },
         "mode": "markers",
         "text": "Pine St & 9th Ave ➔ Lake Union Park: 53 viagens ",
         "type": "scatter",
         "x": [
          -0.49454447017392356
         ],
         "y": [
          0.7519479815920734
         ]
        },
        {
         "hoverinfo": "text",
         "marker": {
          "color": "rgba(50,136,189,0.75)",
          "size": 0.5
         },
         "mode": "markers",
         "text": "Lake Union Park ➔ Pine St & 9th Ave: 73 viagens ",
         "type": "scatter",
         "x": [
          0.8516969889338433
         ],
         "y": [
          -0.2908818300290084
         ]
        },
        {
         "hoverinfo": "text",
         "marker": {
          "color": "rgba(255,255,191,0.75)",
          "size": 0.5
         },
         "mode": "markers",
         "text": "E Pine St & 16th Ave ⮌ : 233 viagens ",
         "type": "scatter",
         "x": [
          -0.7644034801976842
         ],
         "y": [
          0.47506559490418654
         ]
        },
        {
         "hoverinfo": "text",
         "marker": {
          "color": "rgba(255,255,191,0.75)",
          "size": 0.5
         },
         "mode": "markers",
         "text": "E Pine St & 16th Ave ➔ Pier 69: 3 viagens ",
         "type": "scatter",
         "x": [
          -0.7252318555639081
         ],
         "y": [
          0.5329528644029703
         ]
        },
        {
         "hoverinfo": "text",
         "marker": {
          "color": "rgba(230,245,152,0.75)",
          "size": 0.5
         },
         "mode": "markers",
         "text": "Pier 69 ➔ E Pine St & 16th Ave: 23 viagens ",
         "type": "scatter",
         "x": [
          -0.7789475739929306
         ],
         "y": [
          0.4508222232438503
         ]
        },
        {
         "hoverinfo": "text",
         "marker": {
          "color": "rgba(255,255,191,0.75)",
          "size": 0.5
         },
         "mode": "markers",
         "text": "E Pine St & 16th Ave ➔ Burke-Gilman Trail: 3 viagens ",
         "type": "scatter",
         "x": [
          -0.725621006464963
         ],
         "y": [
          0.5324229098909757
         ]
        },
        {
         "hoverinfo": "text",
         "marker": {
          "color": "rgba(171,221,164,0.75)",
          "size": 0.5
         },
         "mode": "markers",
         "text": "Burke-Gilman Trail ➔ E Pine St & 16th Ave: 15 viagens ",
         "type": "scatter",
         "x": [
          -0.15072860937303717
         ],
         "y": [
          -0.8872885023015178
         ]
        },
        {
         "hoverinfo": "text",
         "marker": {
          "color": "rgba(255,255,191,0.75)",
          "size": 0.5
         },
         "mode": "markers",
         "text": "E Pine St & 16th Ave ➔ Seattle Aquarium: 2 viagens ",
         "type": "scatter",
         "x": [
          -0.7249072674742256
         ],
         "y": [
          0.5333942759001559
         ]
        },
        {
         "hoverinfo": "text",
         "marker": {
          "color": "rgba(102,194,165,0.75)",
          "size": 0.5
         },
         "mode": "markers",
         "text": "Seattle Aquarium ➔ E Pine St & 16th Ave: 23 viagens ",
         "type": "scatter",
         "x": [
          0.05103779095112287
         ],
         "y": [
          -0.8985516923888294
         ]
        },
        {
         "hoverinfo": "text",
         "marker": {
          "color": "rgba(255,255,191,0.75)",
          "size": 0.5
         },
         "mode": "markers",
         "text": "E Pine St & 16th Ave ➔ Lake Union Park: 5 viagens ",
         "type": "scatter",
         "x": [
          -0.7261392718960734
         ],
         "y": [
          0.5317158619133345
         ]
        },
        {
         "hoverinfo": "text",
         "marker": {
          "color": "rgba(50,136,189,0.75)",
          "size": 0.5
         },
         "mode": "markers",
         "text": "Lake Union Park ➔ E Pine St & 16th Ave: 19 viagens ",
         "type": "scatter",
         "x": [
          0.8429881226329454
         ],
         "y": [
          -0.315231700658075
         ]
        },
        {
         "hoverinfo": "text",
         "marker": {
          "color": "rgba(230,245,152,0.75)",
          "size": 0.5
         },
         "mode": "markers",
         "text": "Pier 69 ⮌ : 4209 viagens ",
         "type": "scatter",
         "x": [
          -0.5712771639612791
         ],
         "y": [
          -0.6954440322098953
         ]
        },
        {
         "hoverinfo": "text",
         "marker": {
          "color": "rgba(230,245,152,0.75)",
          "size": 0.5
         },
         "mode": "markers",
         "text": "Pier 69 ➔ Burke-Gilman Trail: 1 viagens ",
         "type": "scatter",
         "x": [
          -0.7776268644723977
         ],
         "y": [
          0.45309652354749674
         ]
        },
        {
         "hoverinfo": "text",
         "marker": {
          "color": "rgba(171,221,164,0.75)",
          "size": 0.5
         },
         "mode": "markers",
         "text": "Burke-Gilman Trail ➔ Pier 69: 4 viagens ",
         "type": "scatter",
         "x": [
          -0.15537198121352058
         ],
         "y": [
          -0.8864871953129303
         ]
        },
        {
         "hoverinfo": "text",
         "marker": {
          "color": "rgba(230,245,152,0.75)",
          "size": 0.5
         },
         "mode": "markers",
         "text": "Pier 69 ➔ Seattle Aquarium: 1605 viagens ",
         "type": "scatter",
         "x": [
          -0.8862210959409568
         ],
         "y": [
          -0.15688266032041148
         ]
        },
        {
         "hoverinfo": "text",
         "marker": {
          "color": "rgba(102,194,165,0.75)",
          "size": 0.5
         },
         "mode": "markers",
         "text": "Seattle Aquarium ➔ Pier 69: 2291 viagens ",
         "type": "scatter",
         "x": [
          0.7201374636496268
         ],
         "y": [
          -0.5398166665158481
         ]
        },
        {
         "hoverinfo": "text",
         "marker": {
          "color": "rgba(230,245,152,0.75)",
          "size": 0.5
         },
         "mode": "markers",
         "text": "Pier 69 ➔ Lake Union Park: 97 viagens ",
         "type": "scatter",
         "x": [
          -0.7923073794967564
         ],
         "y": [
          0.4269063321092612
         ]
        },
        {
         "hoverinfo": "text",
         "marker": {
          "color": "rgba(50,136,189,0.75)",
          "size": 0.5
         },
         "mode": "markers",
         "text": "Lake Union Park ➔ Pier 69: 75 viagens ",
         "type": "scatter",
         "x": [
          0.8568001485349226
         ],
         "y": [
          -0.2754877592027179
         ]
        },
        {
         "hoverinfo": "text",
         "marker": {
          "color": "rgba(171,221,164,0.75)",
          "size": 0.5
         },
         "mode": "markers",
         "text": "Burke-Gilman Trail ⮌ : 880 viagens ",
         "type": "scatter",
         "x": [
          -0.047865018881064265
         ],
         "y": [
          -0.8987262875689769
         ]
        },
        {
         "hoverinfo": "text",
         "marker": {
          "color": "rgba(171,221,164,0.75)",
          "size": 0.5
         },
         "mode": "markers",
         "text": "Burke-Gilman Trail ➔ Seattle Aquarium: 4 viagens ",
         "type": "scatter",
         "x": [
          -0.15450841674269342
         ],
         "y": [
          -0.8866381162321334
         ]
        },
        {
         "hoverinfo": "text",
         "marker": {
          "color": "rgba(102,194,165,0.75)",
          "size": 0.5
         },
         "mode": "markers",
         "text": "Seattle Aquarium ➔ Burke-Gilman Trail: 0 viagens ",
         "type": "scatter",
         "x": [
          0.048521266589877245
         ],
         "y": [
          -0.8986910963665514
         ]
        },
        {
         "hoverinfo": "text",
         "marker": {
          "color": "rgba(171,221,164,0.75)",
          "size": 0.5
         },
         "mode": "markers",
         "text": "Burke-Gilman Trail ➔ Lake Union Park: 25 viagens ",
         "type": "scatter",
         "x": [
          -0.14640548173590037
         ],
         "y": [
          -0.8880120691283869
         ]
        },
        {
         "hoverinfo": "text",
         "marker": {
          "color": "rgba(50,136,189,0.75)",
          "size": 0.5
         },
         "mode": "markers",
         "text": "Lake Union Park ➔ Burke-Gilman Trail: 46 viagens ",
         "type": "scatter",
         "x": [
          0.8473931087586689
         ],
         "y": [
          -0.30319122551340244
         ]
        },
        {
         "hoverinfo": "text",
         "marker": {
          "color": "rgba(102,194,165,0.75)",
          "size": 0.5
         },
         "mode": "markers",
         "text": "Seattle Aquarium ⮌ : 1150 viagens ",
         "type": "scatter",
         "x": [
          0.4382450818642669
         ],
         "y": [
          -0.7860923916574832
         ]
        },
        {
         "hoverinfo": "text",
         "marker": {
          "color": "rgba(102,194,165,0.75)",
          "size": 0.5
         },
         "mode": "markers",
         "text": "Seattle Aquarium ➔ Lake Union Park: 70 viagens ",
         "type": "scatter",
         "x": [
          0.07606857648825227
         ],
         "y": [
          -0.8967795557833881
         ]
        },
        {
         "hoverinfo": "text",
         "marker": {
          "color": "rgba(50,136,189,0.75)",
          "size": 0.5
         },
         "mode": "markers",
         "text": "Lake Union Park ➔ Seattle Aquarium: 17 viagens ",
         "type": "scatter",
         "x": [
          0.8415982831270219
         ],
         "y": [
          -0.3189237053554486
         ]
        },
        {
         "hoverinfo": "text",
         "marker": {
          "color": "rgba(50,136,189,0.75)",
          "size": 0.5
         },
         "mode": "markers",
         "text": "Lake Union Park ⮌ : 960 viagens ",
         "type": "scatter",
         "x": [
          0.8938587521362359
         ],
         "y": [
          -0.10495966477390845
         ]
        }
       ],
       "layout": {
        "height": 625,
        "hovermode": "closest",
        "margin": {
         "b": 25,
         "l": 25,
         "r": 25,
         "t": 25
        },
        "paper_bgcolor": "rgba(0,0,0,0)",
        "plot_bgcolor": "rgba(0,0,0,0)",
        "shapes": [
         {
          "fillcolor": "rgba(213,62,79,0.75)",
          "layer": "below",
          "line": {
           "color": "rgb(175,175,175)",
           "width": 0.5
          },
          "path": "M 0.9621132950390643,0.2726499725088461 Q 0.18932889225131333, 0.0644559582885135 0.9286174119358537, 0.3710386802606394L 0.9286174119358537, 0.3710386802606394 L 0.9466444612565665, 0.32227979144256746 L 0.9621132950390643, 0.2726499725088461 ",
          "type": "path"
         },
         {
          "fillcolor": "rgba(244,109,67,0.75)",
          "layer": "below",
          "line": {
           "color": "rgb(175, 175, 175)",
           "width": 0.5
          },
          "path": "M 0.9976597326145936,0.06837439520301163 Q 0.16716644134391562, 0.10979699854008407 0.4590497883546023, 0.8884105423798138L 0.4590497883546023, 0.8884105423798138 L 0.500070555838693, 0.8659846645196326 L 0.5399983574329024, 0.8416660703448651 M 0.5399983574329024,0.8416660703448651 Q 0.16959701844104302, 0.10600401565935372 0.9931764518861159, 0.11662133346393229L 0.9931764518861159, 0.11662133346393229 L 0.9957103595635751, 0.09252502287368519 L 0.9976597326145936, 0.06837439520301163 ",
          "type": "path"
         },
         {
          "fillcolor": "rgba(213,62,79,0.75)",
          "layer": "below",
          "line": {
           "color": "rgb(175, 175, 175)",
           "width": 0.5
          },
          "path": "M 0.8675031925095491,0.49743161438105266 Q 0.05015874380995097, 0.19360811041742987 -0.5168442539166623, 0.8560794456084836L -0.5168442539166623, 0.8560794456084836 L -0.41325868004573124, 0.9106136740500111 L -0.3040098285697935, 0.9526688953319326 M -0.3040098285697935,0.9526688953319326 Q 0.046875033233554825, 0.194429244866489 0.7047356355904045, 0.709470002134684L 0.7047356355904045, 0.709470002134684 L 0.7932362842284565, 0.6089139490793681 L 0.8675031925095491, 0.49743161438105266 ",
          "type": "path"
         },
         {
          "fillcolor": "rgba(213,62,79,0.75)",
          "layer": "below",
          "line": {
           "color": "rgb(175, 175, 175)",
           "width": 0.5
          },
          "path": "M 0.9815525356861027,0.19119262456533756 Q 0.06998308777570524, 0.18735625803633552 -0.6158446713558983, 0.7878675908822151L -0.6158446713558983, 0.7878675908822151 L -0.6005748996673863, 0.7995685023120339 L -0.5850828688681584, 0.8109735116247665 M -0.5850828688681584,0.8109735116247665 Q 0.06572246001367453, 0.1888929809435781 0.9621132950390643, 0.2726499725088461L 0.9621132950390643, 0.2726499725088461 L 0.9726859926336123, 0.23212487961087722 L 0.9815525356861027, 0.19119262456533756 ",
          "type": "path"
         },
         {
          "fillcolor": "rgba(213,62,79,0.75)",
          "layer": "below",
          "line": {
           "color": "rgb(175, 175, 175)",
           "width": 0.5
          },
          "path": "M 0.9286174119358537,0.3710386802606394 Q 0.02276797616880782, 0.19869982199583525 -0.8206197268089931, 0.5714746398327168L -0.8206197268089931, 0.5714746398327168 L -0.8169148709355273, 0.5767582627447922 L -0.8131759965798849, 0.5820178679270174 M -0.8131759965798849,0.5820178679270174 Q 0.010052998809570396, 0.1997471832465599 0.8675031925095491, 0.49743161438105266L 0.8675031925095491, 0.49743161438105266 L 0.9002811226929184, 0.435308970873308 L 0.9286174119358537, 0.3710386802606394 ",
          "type": "path"
         },
         {
          "fillcolor": "rgba(230,245,152,0.75)",
          "layer": "below",
          "line": {
           "color": "rgb(175, 175, 175)",
           "width": 0.5
          },
          "path": "M 0.9931764518861159,0.11662133346393229 Q 0.0271169107872984, 0.19815315578954 -0.9253289072639308, 0.3791654169115897L -0.9253289072639308, 0.3791654169115897 L -0.9065962939542195, 0.4219990044875395 L -0.8858821992827361, 0.46391025963432037 M -0.8858821992827361,0.46391025963432037 Q 0.028901162908290076, 0.1979007902524608 0.9815525356861027, 0.19119262456533756L 0.9815525356861027, 0.19119262456533756 L 0.9880682481254179, 0.1540166778188892 L 0.9931764518861159, 0.11662133346393229 ",
          "type": "path"
         },
         {
          "fillcolor": "rgba(213,62,79,0.75)",
          "layer": "below",
          "line": {
           "color": "rgb(175, 175, 175)",
           "width": 0.5
          },
          "path": "M 1.0,0.0 Q -0.12852435555959227, 0.1532367124027121 -0.17407450139957506, -0.9847324854814578L -0.17407450139957506, -0.9847324854814578 L -0.1741943985610013, -0.9847112833262199 L -0.17431429314002075, -0.9846900665727745 M -0.17431429314002075,-0.9846900665727745 Q -0.12867355650172038, 0.15311144913819663 0.99999759836418, 0.0021916354332217535L 0.99999759836418, 0.0021916354332217535 L 0.9999993995908647, 0.0010958183745502395 L 1.0, 0.0 ",
          "type": "path"
         },
         {
          "fillcolor": "rgba(102,194,165,0.75)",
          "layer": "below",
          "line": {
           "color": "rgb(175, 175, 175)",
           "width": 0.5
          },
          "path": "M 0.9993852439818053,0.035059008990950644 Q -0.15270333598667735, 0.12915762144968423 0.13124035302067477, -0.9913505786244383L 0.13124035302067477, -0.9913505786244383 L 0.11214593077261635, -0.9936917480844568 L 0.09301000577881638, -0.9956651740545235 M 0.09301000577881638,-0.9956651740545235 Q -0.15237259212840445, 0.12954764825372517 0.9976597326145936, 0.06837439520301163L 0.9976597326145936, 0.06837439520301163 L 0.9986614232946232, 0.051723897988816415 L 0.9993852439818053, 0.035059008990950644 ",
          "type": "path"
         },
         {
          "fillcolor": "rgba(213,62,79,0.75)",
          "layer": "below",
          "line": {
           "color": "rgb(175, 175, 175)",
           "width": 0.5
          },
          "path": "M 0.99999759836418,0.0021916354332217535 Q -0.19812332137988245, 0.0273340360247772 0.9620467706323617, -0.27288461135770226L 0.9620467706323617, -0.27288461135770226 L 0.9584795423565158, -0.2851612997656662 L 0.9547556580796012, -0.2973913807846283 M 0.9547556580796012,-0.2973913807846283 Q -0.19822184356854575, 0.026610162199561794 0.9993852439818053, 0.035059008990950644L 0.9993852439818053, 0.035059008990950644 L 0.9998264867605896, 0.01862783862868784 L 0.99999759836418, 0.0021916354332217535 ",
          "type": "path"
         },
         {
          "fillcolor": "rgba(244,109,67,0.75)",
          "layer": "below",
          "line": {
           "color": "rgb(175,175,175)",
           "width": 0.5
          },
          "path": "M 0.6751287965771047,0.7376998766655384 Q 0.13166842661688938, 0.15054376583649295 0.6412214524649069, 0.767355881517041L 0.6412214524649069, 0.767355881517041 L 0.6583421330844469, 0.7527188291824647 L 0.6751287965771047, 0.7376998766655384 ",
          "type": "path"
         },
         {
          "fillcolor": "rgba(244,109,67,0.75)",
          "layer": "below",
          "line": {
           "color": "rgb(175, 175, 175)",
           "width": 0.5
          },
          "path": "M 0.6001856720060443,0.7998607123234976 Q 0.07796862823229023, 0.18417625528708884 0.1565427644113174, 0.9876711815733326L 0.1565427644113174, 0.9876711815733326 L 0.178029794806013, 0.9840250973228929 L 0.199432263468394, 0.9799116145285109 M 0.199432263468394,0.9799116145285109 Q 0.07522429618235782, 0.18531407195318145 0.5399983574329024, 0.8416660703448651L 0.5399983574329024, 0.8416660703448651 L 0.5704750890588755, 0.8213149047492491 L 0.6001856720060443, 0.7998607123234976 ",
          "type": "path"
         },
         {
          "fillcolor": "rgba(244,109,67,0.75)",
          "layer": "below",
          "line": {
           "color": "rgb(175, 175, 175)",
           "width": 0.5
          },
          "path": "M 0.6991853113868095,0.7149404872721437 Q 0.02112203299145292, 0.19888152182218433 -0.5334231161026486, 0.8458485557162939L -0.5334231161026486, 0.8458485557162939 L -0.5290906462857287, 0.8485653115776947 L -0.5247443401890931, 0.8512598765591582 M -0.5247443401890931,0.8512598765591582 Q 0.02056499781533786, 0.19893989259285116 0.6877817737181708, 0.7259175102868692L 0.6877817737181708, 0.7259175102868692 L 0.6935052613713308, 0.7204515614878506 L 0.6991853113868095, 0.7149404872721437 ",
          "type": "path"
         },
         {
          "fillcolor": "rgba(244,109,67,0.75)",
          "layer": "below",
          "line": {
           "color": "rgb(175, 175, 175)",
           "width": 0.5
          },
          "path": "M 0.6877817737181708,0.7259175102868692 Q -0.019086858882065034, 0.19908714629030208 -0.8131759965798849, 0.5820178679270174L -0.8131759965798849, 0.5820178679270174 L -0.811329441489413, 0.5845892039479323 L -0.8094747556328433, 0.5871546814878925 M -0.8094747556328433,0.5871546814878925 Q -0.02017738647736167, 0.19897957954258316 0.6751287965771047, 0.7376998766655384L 0.6751287965771047, 0.7376998766655384 L 0.6814807493209316, 0.7318360392225717 L 0.6877817737181708, 0.7259175102868692 ",
          "type": "path"
         },
         {
          "fillcolor": "rgba(244,109,67,0.75)",
          "layer": "below",
          "line": {
           "color": "rgb(175, 175, 175)",
           "width": 0.5
          },
          "path": "M 0.4590497883546023,0.8884105423798138 Q -0.08559008011642479, 0.18076044419524973 -0.9781509543022184, 0.20789591289310952L -0.9781509543022184, 0.20789591289310952 L -0.955584745900988, 0.29471646272535296 L -0.9253289072639308, 0.3791654169115897 M -0.9253289072639308,0.3791654169115897 Q -0.09050934573551843, 0.17834813801811444 0.24028919260341286, 0.9707013464078433L 0.24028919260341286, 0.9707013464078433 L 0.35208194597102493, 0.9359691786171467 L 0.4590497883546023, 0.8884105423798138 ",
          "type": "path"
         },
         {
          "fillcolor": "rgba(244,109,67,0.75)",
          "layer": "below",
          "line": {
           "color": "rgb(175, 175, 175)",
           "width": 0.5
          },
          "path": "M 0.704735189817116,0.7094704449330032 Q -0.1775253831534311, 0.09211263939453412 -0.17431429314002075, -0.9846900665727745L -0.17431429314002075, -0.9846900665727745 L -0.17431429314002075, -0.9846900665727745 L -0.17431429314002075, -0.9846900665727745 M -0.17431429314002075,-0.9846900665727745 Q -0.17753659724926085, 0.09209102365135136 0.7045624021193244, 0.709642037593495L 0.7045624021193244, 0.709642037593495 L 0.7046488011913968, 0.7095562465228019 L 0.704735189817116, 0.7094704449330032 ",
          "type": "path"
         },
         {
          "fillcolor": "rgba(244,109,67,0.75)",
          "layer": "below",
          "line": {
           "color": "rgb(175, 175, 175)",
           "width": 0.5
          },
          "path": "M 0.6412214524649069,0.767355881517041 Q -0.19326789749226703, 0.05145405522326277 0.17479378155684727, -0.9846050649519619L 0.17479378155684727, -0.9846050649519619 L 0.15305423342831656, -0.9882177905854915 L 0.13124035302067477, -0.9913505786244383 M 0.13124035302067477,-0.9913505786244383 Q -0.19347924743769698, 0.05065353700327773 0.6001856720060443, 0.7998607123234976L 0.6001856720060443, 0.7998607123234976 L 0.6209163012663205, 0.783876869681554 L 0.6412214524649069, 0.767355881517041 ",
          "type": "path"
         },
         {
          "fillcolor": "rgba(244,109,67,0.75)",
          "layer": "below",
          "line": {
           "color": "rgb(175, 175, 175)",
           "width": 0.5
          },
          "path": "M 0.7045624021193244,0.709642037593495 Q -0.19518409663103503, -0.04362531859283991 0.939646332619081, -0.34214729225219853L 0.939646332619081, -0.34214729225219853 L 0.9385584919917098, -0.34512020675446925 L 0.9374612454897847, -0.3480896625939092 M 0.9374612454897847,-0.3480896625939092 Q -0.19515750181994682, -0.04374413656020042 0.6991853113868095, 0.7149404872721437L 0.6991853113868095, 0.7149404872721437 L 0.7018788564885496, 0.7122963363757573 L 0.7045624021193244, 0.709642037593495 ",
          "type": "path"
         },
         {
          "fillcolor": "rgba(253,174,97,0.75)",
          "layer": "below",
          "line": {
           "color": "rgb(175,175,175)",
           "width": 0.5
          },
          "path": "M -0.1555802550261118,0.987823255570555 Q -0.04609326132782081, 0.19461606115674324 -0.3040098285697935, 0.9526688953319326L -0.3040098285697935, 0.9526688953319326 L -0.23046630663910403, 0.9730803057837161 L -0.1555802550261118, 0.987823255570555 ",
          "type": "path"
         },
         {
          "fillcolor": "rgba(253,174,97,0.75)",
          "layer": "below",
          "line": {
           "color": "rgb(175, 175, 175)",
           "width": 0.5
          },
          "path": "M 0.2388700430534026,0.9710515447347096 Q -0.038142928236173275, 0.19632910386789357 -0.5850828688681584, 0.8109735116247665L -0.5850828688681584, 0.8109735116247665 L -0.5700747649305858, 0.8215928203126761 L -0.5548739683680409, 0.8319344200281067 M -0.5548739683680409,0.8319344200281067 Q -0.038501435775069245, 0.1962591130196461 0.199432263468394, 0.9799116145285109L 0.199432263468394, 0.9799116145285109 L 0.21919592419743916, 0.9756808632002734 L 0.2388700430534026, 0.9710515447347096 ",
          "type": "path"
         },
         {
          "fillcolor": "rgba(253,174,97,0.75)",
          "layer": "below",
          "line": {
           "color": "rgb(175, 175, 175)",
           "width": 0.5
          },
          "path": "M 0.1565427644113174,0.9876711815733326 Q -0.07659854123945163, 0.18475027328799282 -0.8094747556328433, 0.5871546814878925L -0.8094747556328433, 0.5871546814878925 L -0.808329377213419, 0.588730513846332 L -0.8071809310713708, 0.5903041118904347 M -0.8071809310713708,0.5903041118904347 Q -0.08067344668375195, 0.18300763645313778 0.10875771362011614, 0.9940682872560239L 0.10875771362011614, 0.9940682872560239 L 0.13268879625351068, 0.991157748972783 L 0.1565427644113174, 0.9876711815733326 ",
          "type": "path"
         },
         {
          "fillcolor": "rgba(230,245,152,0.75)",
          "layer": "below",
          "line": {
           "color": "rgb(175, 175, 175)",
           "width": 0.5
          },
          "path": "M 0.04467037145234975,0.9990017807363053 Q -0.13675879177070113, 0.1459350296310588 -0.9997957455515665, 0.020210570921857775L -0.9997957455515665, 0.020210570921857775 L -0.9934156903146517, 0.11456555432006602 L -0.9781509543022184, 0.20789591289310952 M -0.9781509543022184,0.20789591289310952 Q -0.12893433936168214, 0.15289190996703061 -0.03980402994230317, 0.9992075055764704L -0.03980402994230317, 0.9992075055764704 L 0.002435344041519769, 0.9999970345453028 L 0.04467037145234975, 0.9990017807363053 ",
          "type": "path"
         },
         {
          "fillcolor": "rgba(171,221,164,0.75)",
          "layer": "below",
          "line": {
           "color": "rgb(175, 175, 175)",
           "width": 0.5
          },
          "path": "M 0.24028858269372166,0.9707014973858042 Q -0.19575585298549214, 0.04098348474596061 -0.1692765177776881, -0.9855685975765767L -0.1692765177776881, -0.9855685975765767 L -0.17023643936074156, -0.9854032447246034 L -0.17119619942499156, -0.9852369569308891 M -0.17119619942499156,-0.9852369569308891 Q -0.1957458671558732, 0.04103115269396231 0.2388700430534026, 0.9710515447347096L 0.2388700430534026, 0.9710515447347096 L 0.2395793768049636, 0.9708767801372866 L 0.24028858269372166, 0.9707014973858042 ",
          "type": "path"
         },
         {
          "fillcolor": "rgba(102,194,165,0.75)",
          "layer": "below",
          "line": {
           "color": "rgb(175, 175, 175)",
           "width": 0.5
          },
          "path": "M -0.03980402994230317,0.9992075055764704 Q -0.19584521212136474, -0.04055432022778402 0.3602729188974631, -0.932846945596705L 0.3602729188974631, -0.932846945596705 L 0.2687821035961363, -0.963201007467515 L 0.17479378155684727, -0.9846050649519619 M 0.17479378155684727,-0.9846050649519619 Q -0.19725218982817463, -0.03303897104919827 -0.1555802550261118, 0.987823255570555L -0.1555802550261118, 0.987823255570555 L -0.0978578305001904, 0.9952004044461578 L -0.03980402994230317, 0.9992075055764704 ",
          "type": "path"
         },
         {
          "fillcolor": "rgba(253,174,97,0.75)",
          "layer": "below",
          "line": {
           "color": "rgb(175, 175, 175)",
           "width": 0.5
          },
          "path": "M 0.10875771362011614,0.9940682872560239 Q -0.16346723287609877, -0.11523221674441264 0.9727988338734807, -0.23165152452422214L 0.9727988338734807, -0.23165152452422214 L 0.967642454722481, -0.2523253451769191 L 0.9620467706323617, -0.27288461135770226 M 0.9620467706323617,-0.27288461135770226 Q -0.16220895161985113, -0.11699682053111016 0.04467037145234975, 0.9990017807363053L 0.04467037145234975, 0.9990017807363053 L 0.07675369151859039, 0.9970500844181646 L 0.10875771362011614, 0.9940682872560239 ",
          "type": "path"
         },
         {
          "fillcolor": "rgba(254,224,139,0.75)",
          "layer": "below",
          "line": {
           "color": "rgb(175,175,175)",
           "width": 0.5
          },
          "path": "M -0.6158446713558983,0.7878675908822151 Q -0.12670559664092387, 0.15474395555196174 -0.6508863838069274, 0.759175154608435L -0.6508863838069274, 0.759175154608435 L -0.6335279832046193, 0.7737197777598086 L -0.6158446713558983, 0.7878675908822151 ",
          "type": "path"
         },
         {
          "fillcolor": "rgba(254,224,139,0.75)",
          "layer": "below",
          "line": {
           "color": "rgb(175, 175, 175)",
           "width": 0.5
          },
          "path": "M -0.6508863838069274,0.759175154608435 Q -0.14993292680532352, 0.1323635805634975 -0.8340226523098145, 0.5517302016693505L -0.8340226523098145, 0.5517302016693505 L -0.8273800888367956, 0.5616424027763718 L -0.8206197268089931, 0.5714746398327168 M -0.8206197268089931,0.5714746398327168 Q -0.16260681201199384, 0.11644322516701476 -0.8053078019477626, 0.5928569339411179L -0.8053078019477626, 0.5928569339411179 L -0.7328306859622671, 0.6804110417329168 L -0.6508863838069274, 0.759175154608435 ",
          "type": "path"
         },
         {
          "fillcolor": "rgba(230,245,152,0.75)",
          "layer": "below",
          "line": {
           "color": "rgb(175, 175, 175)",
           "width": 0.5
          },
          "path": "M -0.5334231161026486,0.8458485557162939 Q -0.1453676069674224, 0.13736178087286507 -0.8746780707995945, 0.4847043144663554L -0.8746780707995945, 0.4847043144663554 L -0.8708146474154462, 0.49161148262292653 L -0.8668966805452434, 0.4984878586882917 M -0.8668966805452434,0.4984878586882917 Q -0.1451500007765529, 0.13759170496278725 -0.5440908605654581, 0.839026302000801L -0.5440908605654581, 0.839026302000801 L -0.538767786959483, 0.8424543143309203 L -0.5334231161026486, 0.8458485557162939 ",
          "type": "path"
         },
         {
          "fillcolor": "rgba(171,221,164,0.75)",
          "layer": "below",
          "line": {
           "color": "rgb(175, 175, 175)",
           "width": 0.5
          },
          "path": "M -0.5168447918071396,0.8560791208654925 Q -0.19660251178527718, -0.03670766077700885 -0.17311523135478843, -0.9849015771502135L -0.17311523135478843, -0.9849015771502135 L -0.17359488696534106, -0.9848171481140499 L -0.17407450139957506, -0.9847324854814578 M -0.17407450139957506,-0.9847324854814578 Q -0.1966114448033199, -0.036659784128539284 -0.517261666789332, 0.8558273003768471L -0.517261666789332, 0.8558273003768471 L -0.5170532446287557, 0.8559532360000026 L -0.5168447918071396, 0.8560791208654925 ",
          "type": "path"
         },
         {
          "fillcolor": "rgba(102,194,165,0.75)",
          "layer": "below",
          "line": {
           "color": "rgb(175, 175, 175)",
           "width": 0.5
          },
          "path": "M -0.517261666789332,0.8558273003768471 Q -0.19047443731381886, -0.06098761128281789 0.07602513558343166, -0.9971059014766289L 0.07602513558343166, -0.9971059014766289 L 0.06776706554043363, -0.9977011701045753 L 0.05950435006064902, -0.9982280462518871 M 0.05950435006064902,-0.9982280462518871 Q -0.19071061389022456, -0.06024501431333297 -0.5247443401890931, 0.8512598765591582L -0.5247443401890931, 0.8512598765591582 L -0.5210080085611574, 0.8535517881271979 L -0.517261666789332, 0.8558273003768471 ",
          "type": "path"
         },
         {
          "fillcolor": "rgba(50,136,189,0.75)",
          "layer": "below",
          "line": {
           "color": "rgb(175, 175, 175)",
           "width": 0.5
          },
          "path": "M -0.5440908605654581,0.839026302000801 Q -0.12228450109326104, -0.15826086311015825 0.9491652852452307, -0.3147781143684229L 0.9491652852452307, -0.3147781143684229 L 0.9463299877042702, -0.3232020333655649 L 0.9434199288418931, -0.33160041897433934 M 0.9434199288418931,-0.33160041897433934 Q -0.12266952698094985, -0.15796261314079996 -0.5548739683680409, 0.8319344200281067L -0.5548739683680409, 0.8319344200281067 L -0.5494938557488039, 0.835497757324526 L -0.5440908605654581, 0.839026302000801 ",
          "type": "path"
         },
         {
          "fillcolor": "rgba(255,255,191,0.75)",
          "layer": "below",
          "line": {
           "color": "rgb(175,175,175)",
           "width": 0.5
          },
          "path": "M -0.8340226523098145,0.5517302016693505 Q -0.16986744004392984, 0.10557013220093035 -0.8639682288653978, 0.5035463231036323L -0.8639682288653978, 0.5035463231036323 L -0.8493372002196491, 0.5278506610046517 L -0.8340226523098145, 0.5517302016693505 ",
          "type": "path"
         },
         {
          "fillcolor": "rgba(230,245,152,0.75)",
          "layer": "below",
          "line": {
           "color": "rgb(175, 175, 175)",
           "width": 0.5
          },
          "path": "M -0.8055968166184245,0.5924641500160668 Q -0.16751316489716497, 0.10926728506801667 -0.8668966805452434, 0.4984878586882917L -0.8668966805452434, 0.4984878586882917 L -0.8654973044365895, 0.5009135813820559 L -0.8640911407656535, 0.5033353757191238 M -0.8640911407656535,0.5033353757191238 Q -0.16724658564387296, 0.10967488131047454 -0.8060294215652121, 0.5918754696481766L -0.8060294215652121, 0.5918754696481766 L -0.8058131728487867, 0.5921698493366336 L -0.8055968166184245, 0.5924641500160668 ",
          "type": "path"
         },
         {
          "fillcolor": "rgba(171,221,164,0.75)",
          "layer": "below",
          "line": {
           "color": "rgb(175, 175, 175)",
           "width": 0.5
          },
          "path": "M -0.8060294215652121,0.5918754696481766 Q -0.18532324141916354, -0.07520170337096387 -0.165675388863222, -0.9861803412789266L -0.165675388863222, -0.9861803412789266 L -0.16747623263670797, -0.985876113668353 L -0.1692765177776881, -0.9855685975765767 M -0.1692765177776881,-0.9855685975765767 Q -0.18543292000646194, -0.07493084930705836 -0.8064615963408555, 0.5912864734013109L -0.8064615963408555, 0.5912864734013109 L -0.8062455627388477, 0.5915810109899731 L -0.8060294215652121, 0.5918754696481766 ",
          "type": "path"
         },
         {
          "fillcolor": "rgba(102,194,165,0.75)",
          "layer": "below",
          "line": {
           "color": "rgb(175, 175, 175)",
           "width": 0.5
          },
          "path": "M -0.8053081744506015,0.5928564279511858 Q -0.17572060631937134, -0.09551056755538896 0.05950435006064902, -0.9982280462518871L 0.05950435006064902, -0.9982280462518871 L 0.05670865661235874, -0.9983907693209215 L 0.053912518433196936, -0.9985456626295015 M 0.053912518433196936,-0.9985456626295015 Q -0.17596424375630138, -0.09506095370483587 -0.8055968166184245, 0.5924641500160668L -0.8055968166184245, 0.5924641500160668 L -0.8054525194158062, 0.5926603065557288 L -0.8053081744506015, 0.5928564279511858 ",
          "type": "path"
         },
         {
          "fillcolor": "rgba(50,136,189,0.75)",
          "layer": "below",
          "line": {
           "color": "rgb(175, 175, 175)",
           "width": 0.5
          },
          "path": "M -0.8064615963408555,0.5912864734013109 Q -0.0948466358367261, -0.17607985594739528 0.9374612454897847, -0.3480896625939092L 0.9374612454897847, -0.3480896625939092 L 0.9366534695921616, -0.35025744517563884 L 0.9358406809282146, -0.3524233532554498 M 0.9358406809282146,-0.3524233532554498 Q -0.09514664496310997, -0.17591792390846336 -0.8071809310713708, 0.5903041118904347L -0.8071809310713708, 0.5903041118904347 L -0.8068214132178594, 0.5907954021259273 L -0.8064615963408555, 0.5912864734013109 ",
          "type": "path"
         },
         {
          "fillcolor": "rgba(230,245,152,0.75)",
          "layer": "below",
          "line": {
           "color": "rgb(175,175,175)",
           "width": 0.5
          },
          "path": "M -0.9320992698080253,-0.3622029144324299 Q -0.12695048088028424, -0.15454311826886563 -0.174314911839002, -0.9846899570476795L -0.174314911839002, -0.9846899570476795 L -0.25768255995780526, -0.9662296302088816 L -0.3391714578232597, -0.9407245729744944 L -0.4181874740842375, -0.9083607414012591 L -0.4941545070418373, -0.8693740985158454 L -0.5665186849771557, -0.8240488939205939 L -0.6347524044014212, -0.7727155913443281 L -0.6983581767858161, -0.7157484592483527 L -0.7568722557246814, -0.653562842054406 L -0.8098680180866381, -0.5866121318899062 L -0.8569590745018343, -0.5153844629293355 L -0.8978020865069102, -0.44039915243315186 L -0.9320992698080253, -0.3622029144324299 ",
          "type": "path"
         },
         {
          "fillcolor": "rgba(171,221,164,0.75)",
          "layer": "below",
          "line": {
           "color": "rgb(175, 175, 175)",
           "width": 0.5
          },
          "path": "M -0.863968545252713,0.5035457802562849 Q -0.18137060961105778, -0.08428939416862169 -0.1721557970598264, -0.985069734353206L -0.1721557970598264, -0.985069734353206 L -0.17263553468168952, -0.9849857725699226 L -0.17311523135478843, -0.9849015771502135 M -0.17311523135478843,-0.9849015771502135 Q -0.18140138605460154, -0.08422313896708797 -0.8640911407656535, 0.5033353757191238L -0.8640911407656535, 0.5033353757191238 L -0.8640298494137753, 0.5034405817194408 L -0.863968545252713, 0.5035457802562849 ",
          "type": "path"
         },
         {
          "fillcolor": "rgba(102,194,165,0.75)",
          "layer": "below",
          "line": {
           "color": "rgb(175, 175, 175)",
           "width": 0.5
          },
          "path": "M -0.9997957455515665,0.020210570921857775 Q -0.03821473034304646, -0.19631514048796198 0.9343734957797879, -0.35629506084740886L 0.9343734957797879, -0.35629506084740886 L 0.8972558449037693, -0.4415109837660022 L 0.8523863759101749, -0.5229124842291663 L 0.8001527373884743, -0.5997962961287201 L 0.741006200475813, -0.6714981838072231 L 0.675457760111967, -0.7373986807043558 L 0.6040737203120932, -0.7969284412218621 M 0.6040737203120932,-0.7969284412218621 Q -0.054459805798814334, -0.19244253571483472 -0.9320992698080253, -0.3622029144324299L -0.9320992698080253, -0.3622029144324299 L -0.9712548419198266, -0.2380420804128813 L -0.9939485462402903, -0.10984665414482811 L -0.9997957455515665, 0.020210570921857775 ",
          "type": "path"
         },
         {
          "fillcolor": "rgba(230,245,152,0.75)",
          "layer": "below",
          "line": {
           "color": "rgb(175, 175, 175)",
           "width": 0.5
          },
          "path": "M -0.8746780707995945,0.4847043144663554 Q -0.07861845181092711, -0.18389980705496387 0.9547556580796012, -0.2973913807846283L 0.9547556580796012, -0.2973913807846283 L 0.9520001650388028, -0.3060975102252421 L 0.9491652852452307, -0.3147781143684229 M 0.9491652852452307,-0.3147781143684229 Q -0.078125561295646, -0.1841097408401855 -0.8858821992827361, 0.46391025963432037L -0.8858821992827361, 0.46391025963432037 L -0.8803415327741738, 0.4743403690102902 L -0.8746780707995945, 0.4847043144663554 ",
          "type": "path"
         },
         {
          "fillcolor": "rgba(171,221,164,0.75)",
          "layer": "below",
          "line": {
           "color": "rgb(175,175,175)",
           "width": 0.5
          },
          "path": "M -0.15966861885600192,-0.9871706702250714 Q -0.010636670862458725, -0.19971695279310597 0.053911891028443765, -0.9985456965035386L 0.053911891028443765, -0.9985456965035386 L -0.053183354312293624, -0.9985847639655299 L -0.15966861885600192, -0.9871706702250714 ",
          "type": "path"
         },
         {
          "fillcolor": "rgba(171,221,164,0.75)",
          "layer": "below",
          "line": {
           "color": "rgb(175, 175, 175)",
           "width": 0.5
          },
          "path": "M -0.1721557970598264,-0.985069734353206 Q -0.011900871221588186, -0.19964560917828167 0.053912518433196936, -0.9985456626295015L 0.053912518433196936, -0.9985456626295015 L 0.053912518433196936, -0.9985456626295015 L 0.053912518433196936, -0.9985456626295015 M 0.053912518433196936,-0.9985456626295015 Q -0.01180363650505959, -0.1996513815761274 -0.17119619942499156, -0.9852369569308891L -0.17119619942499156, -0.9852369569308891 L -0.17167601860299267, -0.9851534624801482 L -0.1721557970598264, -0.985069734353206 ",
          "type": "path"
         },
         {
          "fillcolor": "rgba(50,136,189,0.75)",
          "layer": "below",
          "line": {
           "color": "rgb(175, 175, 175)",
           "width": 0.5
          },
          "path": "M -0.165675388863222,-0.9861803412789266 Q 0.1016543872221417, -0.17223932639931822 0.9434199288418931, -0.33160041897433934L 0.9434199288418931, -0.33160041897433934 L 0.9415478986207432, -0.336879139459336 L 0.939646332619081, -0.34214729225219853 M 0.939646332619081,-0.34214729225219853 Q 0.10121365481488234, -0.17249868428197895 -0.15966861885600192, -0.9871706702250714L -0.15966861885600192, -0.9871706702250714 L -0.16267275748433374, -0.9866800768093188 L -0.165675388863222, -0.9861803412789266 ",
          "type": "path"
         },
         {
          "fillcolor": "rgba(102,194,165,0.75)",
          "layer": "below",
          "line": {
           "color": "rgb(175,175,175)",
           "width": 0.5
          },
          "path": "M 0.3602729188974631,-0.932846945596705 Q 0.0973877959698371, -0.1746871981461074 0.6040737203120932, -0.7969284412218621L 0.6040737203120932, -0.7969284412218621 L 0.48693897984918544, -0.8734359907305369 L 0.3602729188974631, -0.932846945596705 ",
          "type": "path"
         },
         {
          "fillcolor": "rgba(102,194,165,0.75)",
          "layer": "below",
          "line": {
           "color": "rgb(175, 175, 175)",
           "width": 0.5
          },
          "path": "M 0.07602513558343166,-0.9971059014766289 Q 0.11997866554541, -0.1600159986187089 0.9358406809282146, -0.3524233532554498L 0.9358406809282146, -0.3524233532554498 L 0.9351092034744688, -0.3543596726171651 L 0.9343737196463925, -0.35629447376315665 M 0.9343737196463925,-0.35629447376315665 Q 0.12100876875911322, -0.15923843092483506 0.09301000577881638, -0.9956651740545235L 0.09301000577881638, -0.9956651740545235 L 0.08452064054250252, -0.996421728648209 L 0.07602513558343166, -0.9971059014766289 ",
          "type": "path"
         },
         {
          "fillcolor": "rgba(50,136,189,0.75)",
          "layer": "below",
          "line": {
           "color": "rgb(175,175,175)",
           "width": 0.5
          },
          "path": "M 0.9727988338734807,-0.23165152452422214 Q 0.19863527825249688, -0.023324369949757433 0.9999999999998026, -6.283185316708634e-07L 0.9999999999998026, -6.283185316708634e-07 L 0.9931763912624844, -0.11662184974878716 L 0.9727988338734807, -0.23165152452422214 ",
          "type": "path"
         },
         {
          "fillcolor": "rgba(213,62,79,0.75)",
          "layer": "below",
          "line": {
           "color": "rgb(150,150,150)",
           "width": 0.45
          },
          "path": "M 1.1, 0.0 L 1.0999650888462191, 0.008763750311887534 L 1.0998603576008563, 0.01752694434625719 L 1.0996858129117084, 0.0262890258609007 L 1.0994414658579696, 0.03504943868422679 L 1.099127331949526, 0.04380762675056409 L 1.0987434311259727, 0.052563034135457286 L 1.0982897877553472, 0.06131510509095432 L 1.097766430632583, 0.07006328408088242 L 1.0971733929776823, 0.07880701581611062 L 1.096510712433606, 0.08754574528979671 L 1.095778431063886, 0.09627891781261615 L 1.0949765953499542, 0.10500597904797082 L 1.094105256188192, 0.11372637504717562 L 1.0931644688867006, 0.12243955228462003 L 1.092154293161789, 0.13114495769290324 L 1.0910747931341847, 0.1398420386979399 L 1.0899260373249633, 0.14853024325403474 L 1.0887080986511988, 0.15720901987892352 L 1.0874210544213354, 0.16587781768877824 L 1.0860649863302803, 0.1745360864331745 L 1.0846399804542182, 0.1831832765300185 L 1.0831461272451481, 0.19181883910043152 L 1.0815835215251413, 0.2004422260035902 L 1.0799522624803222, 0.20905288987151946 L 1.0782524536545732, 0.2176502841438367 L 1.0764842029429622, 0.2262338631024445 L 1.074647622584894, 0.23480308190617014 L 1.0727428291569852, 0.24335739662534916 L 1.0707699435656657, 0.2518962642763513 L 1.068729091039503, 0.2604191428560462 L 1.0666204011212543, 0.26892549137620714 L 1.0644440076596435, 0.2774147698978499 L 1.0622000488008645, 0.2858864395655054 L 1.0598886669798133, 0.29433996264142354 L 1.0575100089110467, 0.3027748025397061 L 1.0550642255794696, 0.31119042386036605 L 1.052551472230751, 0.3195862924233124 L 1.04997190836147, 0.3279618753022568 L 1.047325697708992, 0.33631664085854146 L 1.0446130082410754, 0.3446500587748841 L 1.0418340121452094, 0.35296160008904054 L 1.0389888858176852, 0.3612507372273798 L 1.0360778098523984, 0.3695169440383722 L 1.0331009690293869, 0.37775969582598656 L 1.0300585523031012, 0.3859784693829951 L 1.0269507527904105, 0.39417274302418426 L 1.0237777677583453, 0.40234199661946807 L 1.0205397986115752, 0.4104857116269037 L 1.0172370508796258, 0.4186033711256059 L 1.0138697342038312, 0.426694459848558 L 1.0104380623240286, 0.4347584642153189 L 1.0069422530649899, 0.4427948723646221 L 1.0033825283225966, 0.4508031741868663 L 0.9997591140497535, 0.4587828613564942 L 0.9960722402420481, 0.4667334273642589 L 0.9923221409231501, 0.47465436754937385 L 0.9885090541299578, 0.4825451791315465 L 0.9846332218974885, 0.49040536124289213 L 0.9806948902435147, 0.49823441495972637 L 0.9766943091529495, 0.5060318433342341 L 0.9726317325619775, 0.5137971514260136 L 0.9685074183419373, 0.5215298463334919 L 0.9643216282829526, 0.5292294372252127 L 0.9600746280773147, 0.5368954353709912 L 0.9557666873026188, 0.5445273541729361 L 0.9513980794046522, 0.5521247091963366 L 0.9469690816800367, 0.559687018200412 L 0.942479975258628, 0.5672138011689207 L 0.937931045085671, 0.5747045803406311 L 0.9333225799037128, 0.5821588802396455 L 0.9286548722342741, 0.5895762277055817 L 0.9239282183592833, 0.5969561519236072 L 0.9191429183022675, 0.6042981844543233 L 0.9142992758093111, 0.6116018592634995 L 0.9093975983297738, 0.618866712751655 L 0.9044381969967764, 0.6260922837834855 L 0.8994213866074505, 0.633278113717134 L 0.8943474856029581, 0.6404237464333025 L 0.8892168160482776, 0.6475287283642045 L 0.8840297036117618, 0.6545926085223548 L 0.8787864775444648, 0.6616149385291962 L 0.873487470659244, 0.66859527264356 L 0.8681330193096347, 0.6755331677899594 L 0.8627234633684994, 0.682428183586714 L 0.8572591462064549, 0.6892798823739019 L 0.8517404146700774, 0.6960878292411418 L 0.8461676190598856, 0.7028515920551968 L 0.8405411131081059, 0.7095707414874057 L 0.8348612539562191, 0.7162448510409339 L 0.8291284021322916, 0.722873497077845 L 0.8233429215280897, 0.7294562588459914 L 0.8175051793759827, 0.7359927185057217 L 0.8116155462256324, 0.7424824611564023 L 0.8056743959204727, 0.7489250748627538 L 0.79968210557398, 0.7553201506809983 L 0.7936390555457354, 0.7616672826848171 L 0.7875456294172825, 0.7679660679911168 L 0.7814022139677786, 0.7742161067856015 L 0.7752091991494451, 0.7804170023481525 L 0.7047356355904045, 0.709470002134684 L 0.7103656490616169, 0.7038328243505467 L 0.7159505721975294, 0.6981509709010152 L 0.721490050496123, 0.6924248024407428 L 0.7269837323399818, 0.6866546824372711 L 0.7324312690186116, 0.680840977147958 L 0.7378323147505749, 0.6749840555967292 L 0.7431865267054387, 0.669084289550656 L 0.7484935650255361, 0.6631420534963558 L 0.7537530928475377, 0.6571577246162227 L 0.7589647763238355, 0.6511316827644853 L 0.7641282846437325, 0.6450643104430961 L 0.7692432900544414, 0.6389559927774515 L 0.7743094678818885, 0.632807117491947 L 0.7793264965513226, 0.6266180748853654 L 0.7842940576077266, 0.6203892578061035 L 0.7892118357360315, 0.6141210616272358 L 0.7940795187811309, 0.6078138842214181 L 0.7988967977676952, 0.6014681259356328 L 0.8036633669197834, 0.595084189565777 L 0.8083789236802523, 0.5886624803310949 L 0.8130431687299619, 0.5822034058484568 L 0.8176558060067731, 0.5757073761064855 L 0.8222165427243421, 0.5691748034395322 L 0.8267250893907034, 0.5626061025015044 L 0.8311811598266464, 0.5560016902395449 L 0.8355844711838795, 0.5493619858675666 L 0.8399347439629847, 0.5426874108396429 L 0.8442317020311583, 0.5359783888232561 L 0.8484750726397389, 0.5292353456724049 L 0.8526645864415191, 0.5224587094005737 L 0.8567999775078436, 0.5156489101535643 L 0.8608809833454878, 0.5088063801821927 L 0.8649073449133201, 0.5019315538148514 L 0.8688788066387443, 0.4950248674299419 L 0.8727951164339224, 0.48808675942817376 L 0.876656025711775, 0.4811176702047387 L 0.8804612894017612, 0.47411804212135616 L 0.8842106659654341, 0.46708831947819407 L 0.8879039174117722, 0.46002894848566733 L 0.8915408093122861, 0.45294037723611486 L 0.8951211108158985, 0.44582305567535646 L 0.8986445946635979, 0.43867743557413313 L 0.9021110372028637, 0.43150397049943073 L 0.9055202184018618, 0.42430311578568985 L 0.9088719218634121, 0.4170753285059038 L 0.912165934838724, 0.40982106744260566 L 0.9154020482408999, 0.40254079305874735 L 0.9185800566582077, 0.3952349674684717 L 0.9216997583671193, 0.38790405440778 L 0.9247609553451143, 0.38054851920509625 L 0.9277634532832502, 0.37316882875173063 L 0.9307070615984956, 0.36576545147224365 L 0.9335915934458275, 0.35833885729471293 L 0.9364168657300919, 0.35088951762090465 L 0.9391826991176244, 0.3434179052963514 L 0.9418889180476349, 0.33592449458033835 L 0.94453535074335, 0.32840976111579984 L 0.9471218292229175, 0.32087418189912775 L 0.9496481893100684, 0.3133182352498946 L 0.9521142706445381, 0.3057424007804922 L 0.9545199166922453, 0.298147159365688 L 0.956864974755228, 0.2905329931121021 L 0.9591492959813359, 0.2829003853276055 L 0.9613727353736787, 0.2752498204906419 L 0.9635351517998302, 0.2675817842194759 L 0.9656364080007858, 0.2598967632413685 L 0.9676763705996758, 0.2521952453616817 L 0.9696549101102312, 0.24447771943291557 L 0.9715719009450027, 0.23674467532367838 L 0.9734272214233323, 0.22899660388759208 L 0.9752207537790774, 0.22123399693213558 L 0.9769523841680853, 0.21345734718742737 L 0.9786220026754201, 0.20566714827494953 L 0.9802295033223392, 0.19786389467621515 L 0.98177478407302, 0.19004808170138132 L 0.9832577468410375, 0.18222020545780926 L 0.9846782974955892, 0.1743807628185741 L 0.986036345867471, 0.1665302513909259 L 0.9873318057548001, 0.15866916948470408 L 0.9885645949284866, 0.15079801608070748 L 0.9897346351374534, 0.14291729079902138 L 0.990841852113603, 0.1350274938673043 L 0.9918861755765315, 0.12712912608903626 L 0.9928675392379899, 0.1192226888117302 L 0.9937858808060913, 0.1113086838951091 L 0.9946411419892655, 0.10338761367925055 L 0.9954332684999583, 0.09545998095270074 L 0.9961622100580781, 0.08752628892056012 L 0.9968279203941872, 0.07958704117254245 L 0.9974303572524383, 0.07164274165100964 L 0.9979694823932572, 0.063693894618984 L 0.9984452615957701, 0.05574100462814029 L 0.998857664659975, 0.04778457648677935 L 0.9992066654086599, 0.039825115227785535 L 0.9994922416890631, 0.031863126076569805 L 0.9997143753742803, 0.023899114419000632 L 0.9998730523644147, 0.015933585769324715 L 0.999968262587472, 0.007967045738079576 L 1.0, 0.0 L 1.1 ,0.0",
          "type": "path"
         },
         {
          "fillcolor": "rgba(244,109,67,0.75)",
          "layer": "below",
          "line": {
           "color": "rgb(150,150,150)",
           "width": 0.45
          },
          "path": "M 0.7752087087988276, 0.7804174894263035 L 0.77094524102495, 0.7846294892119349 L 0.7666588882196722, 0.7888181977577446 L 0.7623497776207192, 0.792983490724517 L 0.7580180371413671, 0.7971252444681133 L 0.7536637953666455, 0.801243336043142 L 0.7492871815495216, 0.8053376432066084 L 0.7448883256070624, 0.8094080444215432 L 0.7404673581165789, 0.813454418860611 L 0.7360244103117494, 0.8174766464096953 L 0.7315596140787243, 0.8214746076714655 L 0.727073101952211, 0.8254481839689213 L 0.7225650071115398, 0.8293972573489139 L 0.7180354633767106, 0.8333217105856493 L 0.7134846052044203, 0.8372214271841666 L 0.7089125676840716, 0.8410962913837968 L 0.7043194865337632, 0.8449461881615992 L 0.6997054980962606, 0.848771003235775 L 0.6950707393349492, 0.8525706230690613 L 0.6904153478297692, 0.8563449348720987 L 0.6857394617731299, 0.8600938266067826 L 0.6810432199658101, 0.8638171869895861 L 0.6763267618128347, 0.8675149054948655 L 0.6715902273193396, 0.8711868723581399 L 0.6668337570864143, 0.8748329785793499 L 0.6620574923069278, 0.8784531159260934 L 0.657261574761338, 0.8820471769368384 L 0.6524461468134833, 0.8856150549241124 L 0.6476113514063566, 0.8891566439776698 L 0.642757332057861, 0.8926718389676359 L 0.6378842328565509, 0.8961605355476271 L 0.6329921984573541, 0.8996226301578489 L 0.6280813740772782, 0.9030580200281698 L 0.6231519054910993, 0.9064666031811719 L 0.6182039390270361, 0.9098482784351778 L 0.6132376215624041, 0.913202945407255 L 0.6082531005192578, 0.9165305045161943 L 0.6032505238600137, 0.9198308569854673 L 0.5982300400830572, 0.9231039048461576 L 0.5931917982183361, 0.926349550939869 L 0.5881359478229359, 0.9295676989216101 L 0.5830626389766401, 0.9327582532626535 L 0.5779720222774763, 0.9359211192533721 L 0.5728642488372437, 0.9390562030060504 L 0.56773947027703, 0.9421634114576716 L 0.5625978387227083, 0.9452426523726792 L 0.5574395068004234, 0.9482938343457162 L 0.5522646276320592, 0.9513168668043384 L 0.5470733548306947, 0.9543116600117012 L 0.5418658424960442, 0.9572781250692259 L 0.5366422452098817, 0.9602161739192365 L 0.5314027180314537, 0.963125719347575 L 0.526147416492875, 0.9660066749861894 L 0.520876496594513, 0.9688589553156984 L 0.5155901148003563, 0.9716824756679291 L 0.5102884280333703, 0.9744771522284307 L 0.5049715936708388, 0.9772429020389626 L 0.4996397695396929, 0.9799796429999568 L 0.49429311391182557, 0.982687293872955 L 0.48893178549939353, 0.9853657742830199 L 0.4835559434501063, 0.9880150047211216 L 0.47816574734250084, 0.9906349065464974 L 0.4727613571812064, 0.9932254019889867 L 0.4673429333921937, 0.9957864141513378 L 0.46191063681801237, 0.9983178670114937 L 0.45646462871301785, 1.0008196854248457 L 0.4510050707385834, 1.0032917951264655 L 0.4455321249583021, 1.0057341227333096 L 0.4400459538331756, 1.0081465957463978 L 0.4345467202167913, 1.0105291425529646 L 0.4290345873504891, 1.0128816924285855 L 0.42350971885851496, 1.0152041755392764 L 0.4179722787431641, 1.0174965229435662 L 0.41242243137991225, 1.0197586665945437 L 0.40686034151253675, 1.0219905393418778 L 0.4012861742482263, 1.0241920749338096 L 0.39570009505267956, 1.0263632080191205 L 0.3901022697451934, 1.0285038741490713 L 0.3844928644937405, 1.030614009779315 L 0.37887204581003725, 1.0326935522717846 L 0.3732399805446011, 1.0347424398965503 L 0.3675968358817964, 1.0367606118336536 L 0.36194277933487323, 1.0387480081749123 L 0.35627797874099393, 1.040704569925698 L 0.3506026022562514, 1.0426302390066888 L 0.344916818350677, 1.044524958255592 L 0.33922079580324044, 1.0463886714288417 L 0.33351470369683833, 1.0482213232032682 L 0.32779871141327654, 1.0500228591777399 L 0.3220729886282418, 1.0517932258747784 L 0.3163377053062637, 1.0535323707421465 L 0.31059303169567143, 1.0552402421544071 L 0.30483913832353854, 1.0569167894144564 L 0.29907619599062196, 1.058561962755029 L 0.2933043757662908, 1.060175713340174 L 0.28752384898344974, 1.061757993266706 L 0.281734787233451, 1.0633087555656269 L 0.2759373623610033, 1.0648279542035195 L 0.2701317464590683, 1.0663155440839143 L 0.26431811186375415, 1.0677714810486278 L 0.24028919260341286, 0.9707013464078433 L 0.24557431496278934, 0.9693777673490128 L 0.25085214760091207, 0.9680254129122904 L 0.2561225338485918, 0.966644323241479 L 0.26138531725768155, 0.965234539333369 L 0.2666403416057189, 0.9637961030365216 L 0.2718874509005654, 0.9623290570500262 L 0.27712648938503504, 0.9608334449222331 L 0.28235730154151945, 0.9593093110494609 L 0.28757973209660337, 0.9577567006746786 L 0.2927936260256743, 0.9561756598861622 L 0.29799882855752413, 0.954566235616127 L 0.3031951851789439, 0.9529284756393346 L 0.30838254163930945, 0.9512624285716742 L 0.31356074395516087, 0.9495681438687199 L 0.318729638414774, 0.9478456718242625 L 0.32388907158272173, 0.9460950635688163 L 0.3290388903044302, 0.944316371068102 L 0.334178941710724, 0.9425096471215032 L 0.33930907322236464, 0.9406749453605002 L 0.3444291325545793, 0.9388123202470768 L 0.3495389677215822, 0.9369218270721046 L 0.3546384270410849, 0.9350035219537011 L 0.35972735913879955, 0.933057461835564 L 0.364805612952933, 0.9310837044852814 L 0.36987303773866975, 0.9290823084926161 L 0.37492948307264745, 0.927053333267767 L 0.3799747988574219, 0.9249968390396055 L 0.38500883532592267, 0.9229128868538875 L 0.39003144304589915, 0.9208015385714413 L 0.3950424729243557, 0.9186628568663314 L 0.4000417762119778, 0.916496905223998 L 0.4050292045075473, 0.9143037479393724 L 0.41000460976234854, 0.9120834501149685 L 0.4149678442845616, 0.9098360776589505 L 0.4199187607436476, 0.907561697283176 L 0.4248572121747215, 0.9052603765012162 L 0.42978305198291483, 0.9029321836263514 L 0.434696133947728, 0.9005771877695431 L 0.4395963122273693, 0.8981954588373832 L 0.444483441363085, 0.895787067530018 L 0.44935737628347777, 0.8933520853390499 L 0.4542179723088117, 0.8908905845454151 L 0.459065085155308, 0.8884026382172386 L 0.4638985709394275, 0.8858883202076642 L 0.4687182861821421, 0.8833477051526627 L 0.47352408781319355, 0.8807808684688166 L 0.4783158331753408, 0.8781878863510812 L 0.4830933800285942, 0.8755688357705226 L 0.4878565865544378, 0.8729237944720332 L 0.4926053113600401, 0.8702528409720235 L 0.49733941348244975, 0.867556054556092 L 0.5020587523927811, 0.8648335152766712 L 0.5067631880003849, 0.8620853039506511 L 0.5114525806570075, 0.859311502156981 L 0.5161267911609363, 0.8565121922342468 L 0.5207856807611306, 0.8536874572782276 L 0.525429111161342, 0.8508373811394291 L 0.5300569445242183, 0.847962048420594 L 0.5346690434753962, 0.8450615444741909 L 0.5392652711075783, 0.8421359553998808 L 0.5438454909845974, 0.8391853680419613 L 0.548409567145467, 0.8362098699867884 L 0.5529573641084162, 0.8332095495601766 L 0.5574887468749128, 0.8301844958247772 L 0.5620035809336691, 0.8271347985774343 L 0.5665017322646357, 0.8240605483465199 L 0.5709830673429801, 0.8209618363892452 L 0.5754474531430491, 0.8178387546889535 L 0.579894757142319, 0.8146913959523882 L 0.5843248473253282, 0.8115198536069417 L 0.5887375921875969, 0.8083242217978815 L 0.5931328607395303, 0.8051045953855567 L 0.5975105225103072, 0.8018610699425803 L 0.6018704475517525, 0.798593741750994 L 0.6062125064421948, 0.7953027077994089 L 0.6105365702903087, 0.791988065780127 L 0.6148425107389406, 0.7886499140862413 L 0.6191301999689182, 0.7852883518087146 L 0.6233995107028454, 0.7819034787334387 L 0.627650316208881, 0.7784953953382715 L 0.6318824903044993, 0.7750642027900556 L 0.6360959073602368, 0.7716100029416136 L 0.640290442303421, 0.7681328983287264 L 0.6444659706218833, 0.7646329921670879 L 0.6486223683676547, 0.7611103883492423 L 0.652759512160646, 0.7575651914414993 L 0.6568772791923089, 0.7539975066808308 L 0.6609755472292826, 0.7504074399717465 L 0.665054194617022, 0.7467950978831505 L 0.6691131002834084, 0.7431605876451775 L 0.6731521437423444, 0.7395040171460099 L 0.6771712050973294, 0.7358254949286757 L 0.6811701650450196, 0.7321251301878258 L 0.6851489048787686, 0.7284030327664927 L 0.6891073064921518, 0.7246593131528302 L 0.6930452523824719, 0.7208940824768336 L 0.6969626256542474, 0.7171074525070406 L 0.7008593100226818, 0.7132995356472135 L 0.704735189817116, 0.7094704449330032 L 0.7752087087988276 ,0.7804174894263035",
          "type": "path"
         },
         {
          "fillcolor": "rgba(253,174,97,0.75)",
          "layer": "below",
          "line": {
           "color": "rgb(150,150,150)",
           "width": 0.45
          },
          "path": "M 0.26431744096309384, 1.0677716471243848 L 0.2558336451469724, 1.0698360369752056 L 0.2473337304375476, 1.0718330214113796 L 0.23881823237508576, 1.0737624746121648 L 0.23028768748168685, 1.0756242750116498 L 0.2217426332274831, 1.0774183053064126 L 0.2131836079967734, 1.079144452462912 L 0.2046111510541041, 1.080802607724609 L 0.19602580251029056, 1.0823926666188186 L 0.18742810328838921, 1.083914528963293 L 0.17881859508961456, 1.0853680988725332 L 0.170197820359211, 1.08675328476383 L 0.16156632225227402, 1.088069999363035 L 0.15292464459953023, 1.089318159710058 L 0.14427333187307148, 1.0904976871640961 L 0.1356129291520519, 1.091608507408586 L 0.12694398208834304, 1.0926505504558879 L 0.11826703687215702, 1.0936237506516946 L 0.10958264019763143, 1.0945280466791687 L 0.10089133922838679, 1.0953633815628048 L 0.09219368156305023, 1.09612970267202 L 0.0834902152007559, 1.09682696172447 L 0.07478148850661603, 1.09745511478909 L 0.06606805017717296, 1.098014122288865 L 0.057350449205826416, 1.0985039490033206 L 0.04862923484824589, 1.098924564070744 L 0.0399049565877626, 1.099275940990127 L 0.031178164100751107, 1.0995580576228374 L 0.022449407221994986, 1.0997708961940125 L 0.013719235910045051, 1.0999144432936794 L 0.0049882002125694914, 1.0999886898776003 L -0.0037431497683025755, 1.0999936312678416 L -0.012474263910640982, 1.0999292671530692 L -0.021204592107374656, 1.099795601588568 L -0.02993358430095082, 1.0995926429959861 L -0.03866069051799208, 1.0993204041628046 L -0.047385360903948175, 1.098978902241532 L -0.05610704575773927, 1.0985681587486227 L -0.06482519556638963, 1.0980881995631222 L -0.0735392610396503, 1.0975390549250366 L -0.08224869314460792, 1.0969207594334263 L -0.09095294314027617, 1.096233352044227 L -0.09965146261216873, 1.0954768760677953 L -0.10834370350685402, 1.0946513791661796 L -0.11702911816648355, 1.093756913350117 L -0.1257071593632993, 1.0927935349757567 L -0.13437728033410998, 1.0917613047411088 L -0.14303893481474203, 1.0906602876822205 L -0.15169157707445535, 1.0894905531690786 L -0.160334661950329, 1.0882521749012377 L -0.16896764488160762, 1.0869452309031782 L -0.17758998194401363, 1.085569803519389 L -0.18620112988401527, 1.084125979409181 L -0.19480054615305656, 1.0826138495412254 L -0.20338768894173895, 1.081033509187823 L -0.21196201721395982, 1.079385057918901 L -0.22052299074099907, 1.077668599595741 L -0.22907007013555816, 1.0758842423644333 L -0.23760271688574253, 1.0740320986490646 L -0.2461203933889925, 1.0721122851446334 L -0.2546225629859542, 1.0701249228096987 L -0.2631086899942917, 1.0680701368587588 L -0.27157823974243844, 1.0659480567543613 L -0.28003067860328446, 1.0637588161989466 L -0.28846547402779776, 1.0615025531264246 L -0.29688209457857706, 1.059179409693484 L -0.30528000996333565, 1.0567895322706342 L -0.31365869106831334, 1.0543330714329853 L -0.32201760999161266, 1.0518101819507595 L -0.33035624007645925, 1.0492210227795404 L -0.3386740559443846, 1.0465657570502582 L -0.3469705335283281, 1.0438445520589106 L -0.3552451501056555, 1.041057579256023 L -0.3634973843310929, 1.0382050142358463 L -0.37172671626957493, 1.0352870367252933 L -0.3799326274290034, 1.032303830572615 L -0.3881146007929153, 1.0292555837358164 L -0.3962721208530566, 1.0261424882708154 L -0.40440467364186267, 1.0229647403193418 L -0.4125117467648417, 1.019722540096579 L -0.4205928294328574, 1.0164160918785492 L -0.42864741249431115, 1.013045603989244 L -0.4366749884672226, 1.0096112887874973 L -0.4446750515712027, 1.006113362653607 L -0.4526470977593206, 1.0025520459757011 L -0.4605906247498619, 0.9989275631358523 L -0.46850513205797417, 0.9952401424959406 L -0.4763901210272022, 0.9914900163832654 L -0.48424509486090317, 0.9876774210759073 L -0.4920695586535492, 0.9838025967878421 L -0.49986301942190986, 0.9798657876538049 L -0.5076249861361107, 0.9758672417139094 L -0.5153549697505719, 0.9718072108980192 L -0.5230524832348209, 0.9676859510098758 L -0.5307170416041772, 0.9635037217109804 L -0.5383481619503107, 0.9592607865042343 L -0.5459453634716649, 0.9549574127173378 L -0.5535081675037518, 0.9505938714859458 L -0.5610360975493108, 0.9461704377365847 L -0.5685286793083286, 0.941687390169332 L -0.5168442539166623, 0.8560794456084836 L -0.5100328159539189, 0.8601549433968951 L -0.5031892431852288, 0.8641762468054052 L -0.4963139667924226, 0.868143102470307 L -0.4894074199548278, 0.8720552604583948 L -0.4824700378219792, 0.8759124742827094 L -0.4755022574862008, 0.8797145009180688 L -0.4685045179550653, 0.8834611008163811 L -0.46147726012373697, 0.8871520379217357 L -0.45442092674719076, 0.8907870796852771 L -0.4473359624123174, 0.8943659970798564 L -0.44022281350991194, 0.8978885646144611 L -0.4330819282065474, 0.901354560348423 L -0.4259137564163401, 0.9047637659054005 L -0.4187187497726017, 0.9081159664871383 L -0.4114973615993823, 0.9114109508870009 L -0.4042500468829115, 0.914648511503279 L -0.39697726224292956, 0.9178284443522702 L -0.3896794659039192, 0.9209505490811307 L -0.382357117666234, 0.9240146289804992 L -0.3750106788771288, 0.92702049099689 L -0.3676406124016933, 0.9299679457448562 L -0.36024738259368777, 0.9328568075189231 L -0.3528314552662866, 0.9356868943052875 L -0.34539329766273036, 0.9384580277932864 L -0.33793337842688626, 0.9411700333866303 L -0.3304521675737208, 0.9438227402144057 L -0.3229501364596868, 0.946415981141839 L -0.3154277577530255, 0.9489495927808277 L -0.30788550540398596, 0.9514234155002347 L -0.3003238546149629, 0.9538372934359458 L -0.2927432818105569, 0.9561910745006904 L -0.28514426460755754, 0.958484610393623 L -0.2775272817848506, 0.9607177566096674 L -0.2698928132532519, 0.9628903724486216 L -0.26224134002527066, 0.9650023210240224 L -0.25457334418480404, 0.9670534692717695 L -0.2468893088567622, 0.9690436879585101 L -0.23918971817662882, 0.9709728516897808 L -0.23147505725995834, 0.972840838917908 L -0.22374581217181133, 0.9746475319496667 L -0.21600246989612956, 0.976392816953695 L -0.20824551830505286, 0.9780765839676666 L -0.20047544612818097, 0.979698726905219 L -0.19269274292178165, 0.9812591435626372 L -0.18489789903794449, 0.9827577356252934 L -0.17709140559368777, 0.9841944086738412 L -0.16927375444001386, 0.9855690721901647 L -0.16144543813092146, 0.986881639563081 L -0.15360694989237056, 0.9881320280937982 L -0.14575878359120817, 0.989320159001125 L -0.1379014337040503, 0.9904459574264349 L -0.13003539528612912, 0.9915093524383822 L -0.12216116394009996, 0.9925102770373716 L -0.11427923578481754, 0.9934486681597787 L -0.10639010742407595, 0.9943244666819245 L -0.09849427591532182, 0.9951376174237996 L -0.0905922387383352, 0.9958880691525411 L -0.08268449376388742, 0.9965757745856607 L -0.07477153922237083, 0.9972006903940237 L -0.06685387367240936, 0.9977627772045786 L -0.058931995969445115, 0.9982619996028383 L -0.051006405234308425, 0.9986983261351114 L -0.04307760082177106, 0.9990717293104836 L -0.035146082289083704, 0.9993821856025497 L -0.027212349364500742, 0.9996296754508963 L -0.01927690191579514, 0.9998141832623344 L -0.011340239918764528, 0.999935697411881 L -0.003402863425729614, 0.9999942102434922 L 0.004534727465972265, 0.9999897180705456 L 0.0124720326454955, 0.9999222211760721 L 0.02040855201999544, 0.9997917238127385 L 0.028343785546137368, 0.9995982342025793 L 0.036277233261602364, 0.9993417645364789 L 0.04420839531658717, 0.9990223309734034 L 0.05213677200529674, 0.9986399536393823 L 0.060061863797429955, 0.9981946566262409 L 0.06798317136965093, 0.9976864679900819 L 0.07590019563705082, 0.997115419749518 L 0.08381243778459112, 0.9964815478836545 L 0.09171939929853344, 0.9957848923298225 L 0.09962058199784675, 0.9950254969810625 L 0.10751548806559728, 0.9942034096833587 L 0.11540362008031185, 0.9933186822326252 L 0.12328448104731989, 0.9923713703714416 L 0.13115757443006498, 0.9913615337855418 L 0.1390224041813911, 0.9902892361000527 L 0.14687847477479454, 0.9891545448754862 L 0.15472529123564635, 0.9879575316034817 L 0.16256235917237685, 0.9866982717023027 L 0.17038918480762655, 0.9853768445120844 L 0.17820527500935504, 0.983993333289835 L 0.1860101373219128, 0.9825478252041898 L 0.19380327999706673, 0.9810404113299199 L 0.20158421202498464, 0.9794711866421932 L 0.20935244316516985, 0.9778402500105906 L 0.21710748397735066, 0.976147704192877 L 0.224848845852316, 0.9743936558285268 L 0.23257604104270213, 0.972578215432005 L 0.24028858269372166, 0.9707014973858042 L 0.26431744096309384 ,1.0677716471243848",
          "type": "path"
         },
         {
          "fillcolor": "rgba(254,224,139,0.75)",
          "layer": "below",
          "line": {
           "color": "rgb(150,150,150)",
           "width": 0.45
          },
          "path": "M -0.5685292709878537, 0.9416870329520418 L -0.572263309619458, 0.9394225377663582 L -0.5759883287272445, 0.9371432362077826 L -0.5797042696006544, 0.9348491642007132 L -0.5834110736722126, 0.9325403579023465 L -0.5871086825184502, 0.9302168537021085 L -0.5907970378608258, 0.9278786882210811 L -0.5944760815666436, 0.9255258983114246 L -0.5981457556499699, 0.9231585210557972 L -0.6018060022725468, 0.9207765937667701 L -0.6054567637447045, 0.9183801539862397 L -0.6090979825262691, 0.915969239484836 L -0.6127296012274713, 0.9135438882613272 L -0.6163515626098497, 0.9111041385420202 L -0.6199638095871531, 0.9086500287801593 L -0.6235662852262407, 0.9061815976553192 L -0.627158932747979, 0.9036988840727957 L -0.6307416955281367, 0.9012019271629924 L -0.6343145170982778, 0.898690766280804 L -0.6378773411466508, 0.8961654410049962 L -0.6414301115190766, 0.8936259911375817 L -0.6449727722198335, 0.8910724567031926 L -0.6485052674125399, 0.8885048779484502 L -0.6520275414210343, 0.8859232953413302 L -0.6555395387302522, 0.8833277495705251 L -0.6590412039871023, 0.8807182815448029 L -0.6625324820013381, 0.878094932392362 L -0.6660133177464272, 0.8754577434601837 L -0.6694836563604208, 0.872806756313379 L -0.6729434431468156, 0.8701420127345356 L -0.6763926235754174, 0.867463554723058 L -0.6798311432832005, 0.8647714244945057 L -0.6832589480751645, 0.862065664479928 L -0.6866759839251879, 0.8593463173251953 L -0.6900821969768804, 0.8566134258903266 L -0.6934775335444312, 0.8538670332488147 L -0.6968619401134554, 0.8511071826869464 L -0.7002353633418371, 0.8483339177031209 L -0.703597750060571, 0.845547282007164 L -0.7069490472745991, 0.8427473195196393 L -0.710289202163647, 0.8399340743711555 L -0.7136181620830564, 0.837107590901672 L -0.716935874564614, 0.8342679136597981 L -0.7202422873173789, 0.8314150874020932 L -0.7235373482285077, 0.8285491570923595 L -0.7268210053640739, 0.8256701679009342 L -0.7300932069698883, 0.8227781652039776 L -0.7333539014723137, 0.8198731945827575 L -0.7366030374790778, 0.8169553018229312 L -0.7398405637800837, 0.8140245329138233 L -0.7430664293482165, 0.8110809340477015 L -0.7462805833401482, 0.8081245516190486 L -0.7494829750971381, 0.8051554322238301 L -0.752673554145832, 0.8021736226587617 L -0.7558522701990575, 0.7991791699205698 L -0.7590190731566167, 0.7961721212052522 L -0.7621739131060752, 0.7931525239073334 L -0.7653167403235499, 0.790120425619118 L -0.7684475052744918, 0.7870758741299406 L -0.7715661586144669, 0.7840189174254123 L -0.7746726511899342, 0.7809496036866647 L -0.7777669340390203, 0.7778679812895903 L -0.7808489583922908, 0.7747740988040803 L -0.7839186756735195, 0.7716680049932585 L -0.7869760375004532, 0.7685497488127138 L -0.7900209956855757, 0.7654193794097272 L -0.7930535022368654, 0.7622769461224983 L -0.7960735093585534, 0.7591224984793676 L -0.7990809694518755, 0.7559560861980351 L -0.8020758351158234, 0.7527777591847773 L -0.8050580591478914, 0.7495875675336607 L -0.8080275945448203, 0.7463855615257518 L -0.810984394503338, 0.7431717916283249 L -0.8139284124208982, 0.7399463084940667 L -0.8168596018964129, 0.7367091629602783 L -0.8197779167309867, 0.7334604060480726 L -0.8226833109286421, 0.7302000889615718 L -0.8255757386970457, 0.7269282630870996 L -0.8284551544482301, 0.7236449799923712 L -0.8313215127993122, 0.7203502914256807 L -0.8341747685732083, 0.7170442493150857 L -0.837014876799346, 0.7137269057675883 L -0.839841792714374, 0.7103983130683144 L -0.8426554717628663, 0.7070585236796891 L -0.8454558695980254, 0.7037075902406106 L -0.8482429420823806, 0.7003455655656194 L -0.8510166452884841, 0.6969725026440674 L -0.8537769354996033, 0.6935884546392812 L -0.8565237692104098, 0.6901934748877251 L -0.8592571031276647, 0.6867876168981601 L -0.8619768941709014, 0.6833709343508011 L -0.8646830994731044, 0.67994348109647 L -0.8673756763813855, 0.6765053111557471 L -0.870054582457655, 0.6730564787181205 L -0.8727197754792914, 0.6695970381411313 L -0.8753712134398062, 0.6661270439495167 L -0.8780088545495072, 0.6626465508343513 L -0.8806326572361556, 0.6591556136521844 L -0.8832425801456223, 0.6556542874241761 L -0.8858385821425393, 0.6521426273352293 L -0.805307801947763, 0.5928569339411175 L -0.8029478001323839, 0.5960493522037964 L -0.8005751429419595, 0.5992323760474404 L -0.7981898677722792, 0.6024059553039557 L -0.7957920122180056, 0.6055700399541061 L -0.793381614072083, 0.6087245801283011 L -0.7909587113251408, 0.6118695261073822 L -0.7885233421648958, 0.6150048283234064 L -0.7860755449755494, 0.6181304373604272 L -0.783615358337183, 0.6212463039552737 L -0.7811428210251496, 0.6243523789983274 L -0.7786579720094634, 0.6274486135342955 L -0.7761608504541848, 0.6305349587629828 L -0.7736514957168037, 0.6336113660400612 L -0.7711299473476186, 0.6366777868778358 L -0.768596245089114, 0.6397341729460095 L -0.7660504288753329, 0.6427804760724446 L -0.763492538831249, 0.645816648243922 L -0.7609226152721327, 0.6488426416068984 L -0.7583406987029165, 0.6518584084682597 L -0.7557468298175565, 0.6548639012960733 L -0.753141049498391, 0.6578590727203374 L -0.750523398815496, 0.6608438755337268 L -0.7478939190260382, 0.663818262692338 L -0.7452526515736242, 0.6667821873164296 L -0.7425996380876481, 0.6697356026911621 L -0.7399349203826346, 0.6726784622673333 L -0.73725854045758, 0.6756107196621135 L -0.7345705404952911, 0.6785323286597743 L -0.7318709628617194, 0.6814432432124188 L -0.7291598501052939, 0.6843434174407066 L -0.7264372449562504, 0.6872328056345773 L -0.7237031903259575, 0.6901113622539705 L -0.7209577293062412, 0.6929790419295438 L -0.7182009051687052, 0.6958357994633882 L -0.7154327613640483, 0.6986815898297397 L -0.7126533415213813, 0.7015163681756895 L -0.709862689447537, 0.7043400898218911 L -0.707060849126382, 0.7071527102632639 L -0.704247864718122, 0.7099541851696951 L -0.7014237805586062, 0.7127444703867384 L -0.6985886411586288, 0.7155235219363096 L -0.6957424912032272, 0.71829129601738 L -0.6928853755509774, 0.7210477490066667 L -0.6900173392332878, 0.7237928374593201 L -0.6871384274536886, 0.7265265181096089 L -0.6842486855871199, 0.7292487478716014 L -0.6813481591792164, 0.7319594838398455 L -0.6784368939455893, 0.7346586832900441 L -0.6755149357711059, 0.7373463036797286 L -0.672582330709167, 0.7400223026489302 L -0.6696391249809798, 0.7426866380208464 L -0.6666853649748306, 0.7453392678025068 L -0.663721097245353, 0.7479801501854342 L -0.6607463685127944, 0.7506092435463038 L -0.6577612256622797, 0.7532265064475995 L -0.6547657157430717, 0.7558318976382665 L -0.6517598859678309, 0.7584253760543619 L -0.6487437837118694, 0.7610069008197017 L -0.6457174565124063, 0.763576431246505 L -0.6426809520678173, 0.7661339268360357 L -0.6396343182368827, 0.7686793472792399 L -0.6365776030380337, 0.7712126524573826 L -0.6335108546485957, 0.7737338024426785 L -0.6304341214040283, 0.7762427574989225 L -0.627347451797164, 0.7787394780821151 L -0.6242508944774435, 0.7812239248410866 L -0.6211444982501495, 0.7836960586181163 L -0.6180283120756368, 0.7861558404495506 L -0.6149023850685612, 0.7886032315664163 L -0.611766766497105, 0.7910381933950323 L -0.6086215057822008, 0.7934606875576172 L -0.605466652496752, 0.7958706758728942 L -0.6023022563648528, 0.7982681203566927 L -0.599128367261002, 0.8006529832225481 L -0.5959450352093201, 0.8030252268822955 L -0.5927523103827583, 0.8053848139466637 L -0.589550243102309, 0.8077317072258637 L -0.5863388838362122, 0.810065869730175 L -0.5831182831991605, 0.8123872646705287 L -0.5798884919515007, 0.8146958554590874 L -0.5766495609984343, 0.8169916057098218 L -0.5734015413892152, 0.8192744792390839 L -0.5701444843163445, 0.8215444400661779 L -0.5668784411147643, 0.8238014524139265 L -0.5636034632610483, 0.8260454807092357 L -0.5603196023725906, 0.8282764895836546 L -0.5570269102067921, 0.8304944438739337 L -0.5537254386602446, 0.8326993086225781 L -0.5504152397679131, 0.8348910490783997 L -0.5470963657023152, 0.8370696306970636 L -0.5437688687726998, 0.8392350191416338 L -0.5404328014242213, 0.8413871802831132 L -0.5370882162371143, 0.8435260802009827 L -0.5337351659258638, 0.8456516851837349 L -0.530373703338375, 0.8477639617294058 L -0.5270038814551403, 0.8498628765461028 L -0.523625753388404, 0.8519483965525296 L -0.5202393723813254, 0.8540204888785073 L -0.5168447918071396, 0.8560791208654925 L -0.5685292709878537 ,0.9416870329520418",
          "type": "path"
         },
         {
          "fillcolor": "rgba(255,255,191,0.75)",
          "layer": "below",
          "line": {
           "color": "rgb(150,150,150)",
           "width": 0.45
          },
          "path": "M -0.8858389918956617, 0.6521420707463044 L -0.8865426744425583, 0.6511851398736278 L -0.8872453232617773, 0.6502274497051818 L -0.8879469375340148, 0.6492690013576534 L -0.8886475164411742, 0.6483097959486137 L -0.8893470591663656, 0.6473498345965165 L -0.8900455648939067, 0.6463891184206975 L -0.8907430328093255, 0.6454276485413722 L -0.8914394620993588, 0.6444654260796354 L -0.8921348519519559, 0.6435024521574584 L -0.8928292015562771, 0.6425387278976894 L -0.8935225101026959, 0.6415742544240517 L -0.8942147767827999, 0.6406090328611419 L -0.894906000789391, 0.6396430643344293 L -0.8955961813164877, 0.638676349970253 L -0.8962853175593246, 0.6377088908958232 L -0.8969734087143542, 0.6367406882392175 L -0.8976604539792474, 0.635771743129381 L -0.8983464525528946, 0.6348020566961249 L -0.8990314036354073, 0.6338316300701232 L -0.8997153064281176, 0.6328604643829148 L -0.9003981601335804, 0.6318885607668993 L -0.9010799639555737, 0.6309159203553372 L -0.9017607170990993, 0.6299425442823484 L -0.9024404187703849, 0.6289684336829093 L -0.903119068176884, 0.6279935896928542 L -0.9037966645272767, 0.6270180134488718 L -0.904473207031471, 0.626041706088505 L -0.9051486949006039, 0.625064668750149 L -0.9058231273470426, 0.6240869025730501 L -0.9064965035843842, 0.6231084086973042 L -0.9071688228274576, 0.6221291882638565 L -0.9078400842923242, 0.621149242414499 L -0.9085102871962786, 0.6201685722918694 L -0.9091794307578503, 0.6191871790394496 L -0.9098475141968037, 0.6182050638015653 L -0.9105145367341388, 0.6172222277233839 L -0.9111804975920935, 0.6162386719509131 L -0.9118453959941427, 0.6152543976310005 L -0.9125092311650014, 0.6142694059113301 L -0.9131720023306231, 0.6132836979404236 L -0.9138337087182026, 0.6122972748676375 L -0.9144943495561764, 0.6113101378431623 L -0.9151539240742225, 0.6103222880180214 L -0.9158124315032635, 0.6093337265440675 L -0.9164698710754658, 0.608344454573985 L -0.9171262420242404, 0.6073544732612862 L -0.9177815435842452, 0.6063637837603104 L -0.9184357749913838, 0.6053723872262232 L -0.9190889354828095, 0.604380284815013 L -0.9197410242969225, 0.6033874776834932 L -0.9203920406733735, 0.6023939669892977 L -0.9210419838530636, 0.6013997538908818 L -0.9216908530781451, 0.6004048395475184 L -0.9223386475920227, 0.5994092251192993 L -0.9229853666393542, 0.598412911767132 L -0.9236310094660511, 0.5974159006527391 L -0.9242755753192803, 0.5964181929386575 L -0.9249190634474643, 0.5954197897882345 L -0.9255614731002825, 0.5944206923656303 L -0.9262028035286709, 0.5934209018358135 L -0.926843053984825, 0.5924204193645615 L -0.9274822237221987, 0.5914192461184583 L -0.9281203119955069, 0.5904173832648927 L -0.9287573180607248, 0.5894148319720584 L -0.9293932411750899, 0.5884115934089517 L -0.930028080597102, 0.58740766874537 L -0.9306618355865248, 0.5864030591519116 L -0.931294505404387, 0.5853977657999717 L -0.9319260893129815, 0.5843917898617442 L -0.9325565865758683, 0.5833851325102187 L -0.9331859964578739, 0.5823777949191788 L -0.9338143182250929, 0.5813697782632025 L -0.934441551144889, 0.5803610837176576 L -0.9350676944858952, 0.5793517124587039 L -0.935692747518015, 0.5783416656632898 L -0.9363167095124231, 0.5773309445091516 L -0.9369395797415662, 0.576319550174812 L -0.9375613574791649, 0.5753074838395775 L -0.9381820420002128, 0.5742947466835396 L -0.9388016325809786, 0.5732813398875715 L -0.9394201284990066, 0.572267264633327 L -0.9400375290331167, 0.57125252210324 L -0.9406538334634074, 0.5702371134805209 L -0.9412690410712544, 0.5692210399491584 L -0.9418831511393124, 0.5682043026939159 L -0.9424961629515162, 0.5671869029003308 L -0.9431080757930803, 0.5661688417547134 L -0.9437188889505019, 0.5651501204441438 L -0.9443286017115599, 0.5641307401564732 L -0.9449372133653158, 0.5631107020803209 L -0.9455447232021157, 0.5620900074050729 L -0.9461511305135896, 0.5610686573208813 L -0.9467564345926545, 0.5600466530186615 L -0.9473606347335123, 0.5590239956900928 L -0.947963730231653, 0.5580006865276153 L -0.9485657203838544, 0.5569767267244291 L -0.9491666044881828, 0.555952117474494 L -0.949766381843995, 0.5549268599725253 L -0.9503650517519376, 0.5539009554139956 L -0.8639682288653978, 0.5035463231036323 L -0.8634239834945409, 0.5044789636113867 L -0.8628787313528934, 0.5054110158859036 L -0.8623324730762313, 0.5063424788403901 L -0.8617852093015027, 0.5072733513887411 L -0.8612369406668293, 0.5082036324455388 L -0.860687667811504, 0.5091333209260559 L -0.8601373913759904, 0.5100624157462557 L -0.8595861120019233, 0.5109909158227934 L -0.8590338303321052, 0.5119188200730189 L -0.8584805470105089, 0.5128461274149756 L -0.8579262626822745, 0.5137728367674034 L -0.8573709779937093, 0.5146989470497394 L -0.8568146935922873, 0.5156244571821189 L -0.8562574101266476, 0.516549366085378 L -0.8556991282465949, 0.517473672681053 L -0.8551398486030976, 0.5183973758913826 L -0.8545795718482878, 0.519320474639309 L -0.8540182986354604, 0.520242967848479 L -0.8534560296190714, 0.5211648544432468 L -0.8528927654547389, 0.5220861333486724 L -0.8523285067992408, 0.523006803490525 L -0.8517632543105146, 0.5239268637952835 L -0.8511970086476572, 0.5248463131901377 L -0.8506297704709227, 0.5257651506029907 L -0.8500615404417229, 0.526683374962458 L -0.8494923192226264, 0.5276009851978705 L -0.8489221074773571, 0.5285179802392749 L -0.8483509058707944, 0.5294343590174353 L -0.8477787150689711, 0.5303501204638351 L -0.847205535739074, 0.5312652635106765 L -0.8466313685494427, 0.5321797870908833 L -0.846056214169568, 0.5330936901381014 L -0.8454800732700927, 0.5340069715867 L -0.844902946522809, 0.5349196303717741 L -0.8443248346006589, 0.535831665429144 L -0.8437457381777335, 0.536743075695357 L -0.8431656579292715, 0.5376538601076893 L -0.842584594531659, 0.5385640176041467 L -0.8420025486624281, 0.5394735471234668 L -0.8414195210002567, 0.5403824476051184 L -0.8408355122249676, 0.5412907179893041 L -0.8402505230175275, 0.5421983572169613 L -0.8396645540600465, 0.5431053642297627 L -0.8390776060357764, 0.5440117379701199 L -0.8384896796291115, 0.5449174773811811 L -0.8379007755255864, 0.5458225814068349 L -0.8373108944118759, 0.5467270489917108 L -0.8367200369757941, 0.5476308790811797 L -0.8361282039062932, 0.5485340706213574 L -0.835535395893463, 0.5494366225591027 L -0.8349416136285307, 0.550338533842021 L -0.8343468578038592, 0.551239803418464 L -0.8337511291129458, 0.5521404302375329 L -0.8331544282504234, 0.5530404132490773 L -0.8325567559120577, 0.5539397514036977 L -0.8319581127947476, 0.5548384436527466 L -0.8313584995965239, 0.5557364889483294 L -0.8307579170165478, 0.5566338862433068 L -0.8301563657551119, 0.5575306344912941 L -0.8295538465136375, 0.5584267326466636 L -0.8289503599946751, 0.5593221796645459 L -0.8283459069019031, 0.5602169745008301 L -0.8277404879401261, 0.5611111161121671 L -0.827134103815276, 0.5620046034559684 L -0.8265267552344093, 0.5628974354904087 L -0.8259184429057077, 0.5637896111744267 L -0.8253091675384765, 0.5646811294677263 L -0.8246989298431432, 0.5655719893307787 L -0.8240877305312583, 0.566462189724822 L -0.8234755703154932, 0.5673517296118636 L -0.8228624499096399, 0.5682406079546809 L -0.82224837002861, 0.5691288237168226 L -0.8216333313884333, 0.5700163758626107 L -0.8210173347062582, 0.5709032633571401 L -0.8204003807003499, 0.5717894851662811 L -0.8197824700900902, 0.5726750402566804 L -0.819163603595976, 0.573559927595761 L -0.8185437819396185, 0.5744441461517266 L -0.8179230058437432, 0.5753276948935588 L -0.8173012760321884, 0.5762105727910211 L -0.8166785932299041, 0.5770927788146589 L -0.8160549581629521, 0.5779743119358008 L -0.8154303715585037, 0.5788551711265613 L -0.8148048341448405, 0.5797353553598392 L -0.8141783466513524, 0.5806148636093209 L -0.8135509098085372, 0.5814936948494811 L -0.8129225243479998, 0.5823718480555835 L -0.8122931910024508, 0.5832493222036833 L -0.8116629105057064, 0.5841261162706267 L -0.8110316835926871, 0.585002229234053 L -0.810399510999417, 0.5858776600723958 L -0.8097663934630231, 0.5867524077648838 L -0.8091323317217334, 0.5876264712915431 L -0.8084973265148777, 0.5884998496331968 L -0.8078613785828856, 0.5893725417714669 L -0.8072244886672861, 0.5902445466887758 L -0.8065866575107066, 0.591115863368347 L -0.8059478858568712, 0.5919864907942071 L -0.8053081744506015, 0.5928564279511858 L -0.8858389918956617 ,0.6521420707463044",
          "type": "path"
         },
         {
          "fillcolor": "rgba(230,245,152,0.75)",
          "layer": "below",
          "line": {
           "color": "rgb(150,150,150)",
           "width": 0.45
          },
          "path": "M -0.9503653997779844, 0.5539003582819135 L -0.9609460739938724, 0.5353341413320873 L -0.9711640863047708, 0.5165658888000833 L -0.9810155804237246, 0.49760268384113737 L -0.9904968383880708, 0.47845168318570713 L -0.9996042819626009, 0.45912011443851286 L -1.0083344739899915, 0.4396152733508328 L -1.016684119687988, 0.41994452106708224 L -1.024650067892861, 0.40011528134670843 L -1.032229312248656, 0.38013503776245966 L -1.0394189923417967, 0.36001133087607695 L -1.0462163947806065, 0.3397517553924783 L -1.052618954219345, 0.319363957293513 L -1.0586242543263724, 0.29885563095235823 L -1.0642300286960749, 0.2782345162296582 L -1.0694341617042074, 0.2575083955524931 L -1.074234689306334, 0.23668509097728238 L -1.0786297997790575, 0.21577246123773683 L -1.0826178344037674, 0.1947783987789638 L -1.0861972880926414, 0.1737108267788501 L -1.089366809956666, 0.15257769615785036 L -1.0921252038154643, 0.13138698257830111 L -1.094471428648735, 0.11014668343439749 L -1.096404598989134, 0.08886481483397264 L -1.0979239852564522, 0.06754940857320778 L -1.099029014032957, 0.04620850910542843 L -1.0997192682798036, 0.024850170505119226 L -1.0999944874944236, 0.003482453428307471 L -1.0998545678088403, -0.017886577929532178 L -1.0992995620288677, -0.03924885887691618 L -1.0983296796141817, -0.06059632726997046 L -1.0969452865992704, -0.08192092655509264 L -1.0951469054552918, -0.10321460880950159 L -1.0929352148928928, -0.12446933777853207 L -1.0903110496060635, -0.1456770919085235 L -1.0872753999571223, -0.16682986737416042 L -1.083829411602953, -0.18791968109912488 L -1.0799743850626327, -0.20893857376891542 L -1.075711775226614, -0.22987861283470146 L -1.0710431908076496, -0.25073189550707103 L -1.0659703937336606, -0.2714905517385543 L -1.0604952984827853, -0.292146747193783 L -1.0546199713608524, -0.31269268620617735 L -1.0483466297215553, -0.3331206147200387 L -1.0416776411296214, -0.35342282321693386 L -1.0346155224672902, -0.373591649625278 L -1.0271629389844408, -0.3936194822120042 L -1.0193227032927235, -0.41349876245523964 L -1.0110977743040779, -0.43322198789689814 L -1.0024912561140367, -0.4527817149741156 L -0.9935063968302368, -0.4721705618284565 L -0.9841465873465822, -0.4913812110918328 L -0.9744153600635159, -0.5104064126480865 L -0.9643163875548902, -0.5292389863691892 L -0.9538534811819324, -0.5478718248250307 L -0.9430305896548354, -0.5662978959657661 L -0.9318517975425096, -0.5845102457757211 L -0.9203213237310639, -0.6025020008978413 L -0.9084435198315945, -0.6202663712277038 L -0.8962228685378811, -0.6377966524761101 L -0.883663981934617, -0.6550862286992888 L -0.8707715997568019, -0.6721285747957604 L -0.8575505876009631, -0.688917258968915 L -0.8440059350888746, -0.7054459451543788 L -0.8301427539844692, -0.7217083954112499 L -0.8159662762646547, -0.7376984722763044 L -0.80148185214476, -0.7534101410802787 L -0.7866949480593607, -0.7688374722253591 L -0.771611144599241, -0.7839746434230187 L -0.7562361344052742, -0.7988159418913523 L -0.7405757200200129, -0.8133557665110881 L -0.7246358116978082, -0.8275886299394518 L -0.7084224251742699, -0.841509160681098 L -0.6919416793959265, -0.8551121051153147 L -0.6751997942109278, -0.8683923294787449 L -0.6582030880216658, -0.881344821802876 L -0.6409579754002098, -0.8939646938055574 L -0.6234709646674365, -0.9062471827358451 L -0.6057486554367858, -0.9181876531714671 L -0.5877977361235603, -0.9297815987682363 L -0.5696249814207122, -0.9410246439607485 L -0.5512372497420673, -0.951912545613725 L -0.5326414806339519, -0.9624411946233763 L -0.5138446921562061, -0.9726066174681797 L -0.49485397823355826, -0.9824049777084913 L -0.4756765059783736, -0.991832577434421 L -0.4563195129857757, -1.0008858586614284 L -0.43679030460217727, -1.0095614046731072 L -0.4170962511682322, -1.0178559413106587 L -0.39724478523726325, -1.0257663382085616 L -0.37724339877021, -1.033289609975974 L -0.35709964030815594, -1.0404229173234247 L -0.3368211121235033, -1.0471635681343612 L -0.31641546735086507, -1.0535090184811584 L -0.2958904070987706, -1.0594568735851988 L -0.27525367754325664, -1.0650048887206636 L -0.2545130670044557, -1.0701509700616945 L -0.233676403007273, -1.074893175472606 L -0.21275154932727755, -1.0792297152408485 L -0.19174640302290222, -1.0831589527524474 L -0.174314911839002, -0.9846899570476795 L -0.19341049938843413, -0.9811179229462259 L -0.21243309364297544, -0.9771756140660054 L -0.23137551545859608, -0.972864518237904 L -0.2502306159484151, -0.9681862624733305 L -0.26899127918070054, -0.9631426123501807 L -0.28765042486442277, -0.9577354713465076 L -0.3062010110213666, -0.9519668801221464 L -0.3246360366437781, -0.9458390157485679 L -0.34294854433655453, -0.939354190887249 L -0.3611316229429666, -0.932514852916874 L -0.3791784101529383, -0.9253235830096896 L -0.3970820950928884, -0.9177830951573701 L -0.4148359208961597, -0.909896235146753 L -0.43243318725306684, -0.9016659794858372 L -0.4498672529395984, -0.8930954342804466 L -0.4671315383238237, -0.8841878340619814 L -0.48421952784904715, -0.8749465405667056 L -0.5011247724927884, -0.8653750414670226 L -0.5178408922006473, -0.8554769490552259 L -0.5343615782941458, -0.8452559988802147 L -0.5506805958516234, -0.8347160483376973 L -0.5667917860613059, -0.8238610752144047 L -0.5826890685456453, -0.8126951761868704 L -0.5983664436560598, -0.8012225652753417 L -0.613817994737207, -0.7894475722534043 L -0.6290378903599332, -0.7773746410139224 L -0.6440203865220635, -0.7650083278919072 L -0.6587598288161892, -0.7523532999449561 L -0.6732506545636481, -0.7394143331918982 L -0.6874873949138856, -0.7261963108103202 L -0.7014646769084009, -0.7127042212936533 L -0.7151772255085097, -0.6989431565685083 L -0.7286198655861453, -0.6849183100729805 L -0.7417875238769588, -0.6706349747966402 L -0.754675230894972, -0.6560985412829544 L -0.7672781228080677, -0.6413144955948897 L -0.7795914432736027, -0.6262884172444682 L -0.7916105452334562, -0.6110259770870549 L -0.8033308926678336, -0.5955329351811716 L -0.8147480623071646, -0.5798151386146455 L -0.8258577453014495, -0.5638785192979124 L -0.8366557488464217, -0.5477290917253103 L -0.8471379977659177, -0.531372950705201 L -0.8573005360498503, -0.5148162690597873 L -0.8671395283472112, -0.49806529529548244 L -0.8766512614135366, -0.4811263512447174 L -0.8858321455122872, -0.4640058296800786 L -0.8946787157696201, -0.44671019190166616 L -0.9031876334820333, -0.4292459652985968 L -0.9113556873763968, -0.41161974088555964 L -0.9191797948218889, -0.39383817081536193 L -0.9266570029933848, -0.37590796586839964 L -0.9337844899858552, -0.3578358929200038 L -0.9405595658793545, -0.3396287723866164 L -0.9469796737542011, -0.32129347565175803 L -0.9530423906559593, -0.3028369224727624 L -0.9587454285098658, -0.2842660783692521 L -0.9640866349843502, -0.26558795199434815 L -0.9690639943033278, -0.2468095924895948 L -0.9736756280069542, -0.22793808682461003 L -0.9779197956605582, -0.20898055712245586 L -0.9817948955114842, -0.18994415797174127 L -0.9852994650935936, -0.17083607372647716 L -0.988432181779202, -0.15166351579469128 L -0.9911918632782394, -0.13243371991683953 L -0.993577468084448, -0.11315394343502914 L -0.995588095868447, -0.09383146255409235 L -0.9972229878175184, -0.07447356959553876 L -0.9984815269219832, -0.05508757024542769 L -0.9993632382080614, -0.035680780797196526 L -0.9998677889171275, -0.016260525390483796 L -0.9999949886312942, 0.0031658667530067917 L -0.9997447893452759, 0.02259106409556293 L -0.9991172854845063, 0.04200773555038948 L -0.9981127138695018, 0.061408553248370704 L -0.9967314536264854, 0.08078619530361149 L -0.9949740260443044, 0.10013334857672498 L -0.9928410943776947, 0.11944271143481919 L -0.990333463596969, 0.13870699650713667 L -0.9874520800842194, 0.15791893343531826 L -0.9841980312761521, 0.17707127161723982 L -0.9805725452536885, 0.1961567829433971 L -0.9765769902784853, 0.21516826452480214 L -0.9722128742765521, 0.23409854141135733 L -0.9674818442691588, 0.2529404692996893 L -0.9623856857512476, 0.27168693722941656 L -0.9569263220175862, 0.29033087026683 L -0.9511058134369149, 0.30886523217498024 L -0.9449263566743605, 0.3272830280691608 L -0.9383902838624145, 0.34557730705678147 L -0.9315000617207826, 0.363741164860644 L -0.9242582906254436, 0.3817677464246202 L -0.9166677036272649, 0.39965024850075703 L -0.9087311654205462, 0.41738192221682985 L -0.9004516712618824, 0.4349560756233701 L -0.8918323458397496, 0.45236607621921576 L -0.8828764420952461, 0.46960535345462107 L -0.8735873399944294, 0.48666740121098845 L -0.863968545252713, 0.5035457802562849 L -0.9503653997779844 ,0.5539003582819135",
          "type": "path"
         },
         {
          "fillcolor": "rgba(171,221,164,0.75)",
          "layer": "below",
          "line": {
           "color": "rgb(150,150,150)",
           "width": 0.45
          },
          "path": "M -0.19174572245402285, -1.083159073230052 L -0.1892381092066327, -1.08359998985968 L -0.1867294821228486, -1.0840351011411635 L -0.1842198546425504, -1.0844644047434095 L -0.18170924021097742, -1.0848878983664394 L -0.17919765227865758, -1.0853055797414004 L -0.17668510430133133, -1.0857174466305806 L -0.1741716097398854, -1.0861234968274176 L -0.17165718206027705, -1.0865237281565117 L -0.1691418347334624, -1.086918138473638 L -0.16662558123532473, -1.0873067256657574 L -0.16410843504660205, -1.087689487651028 L -0.161590409652815, -1.0880664223788157 L -0.1590715185441953, -1.088437527829707 L -0.15655177521561006, -1.0888028020155172 L -0.1540311931664948, -1.0891622429793029 L -0.15150978590077765, -1.0895158487953724 L -0.14898756692680779, -1.0898636175692948 L -0.14646454975728299, -1.0902055474379115 L -0.1439407479091774, -1.0905416365693457 L -0.14141617490366906, -1.0908718831630115 L -0.13889084426606846, -1.0911962854496247 L -0.13636476952574203, -1.091514841691212 L -0.1338379642160458, -1.0918275501811194 L -0.1313104418742487, -1.0921344092440224 L -0.12878221604146114, -1.0924354172359345 L -0.12625330026256257, -1.0927305725442167 L -0.12372370808612868, -1.0930198735875842 L -0.12119345306435894, -1.0933033188161176 L -0.11866254875300504, -1.093580906711269 L -0.11613100871129424, -1.093852635785871 L -0.11359884650186265, -1.0941185045841453 L -0.11106607569067864, -1.094378511681709 L -0.10853270984697112, -1.0946326556855834 L -0.1059987625431569, -1.0948809352342015 L -0.10346424735476792, -1.095123348997414 L -0.10092917786037854, -1.0953598956764978 L -0.09839356764153281, -1.095590574004163 L -0.09585743028267267, -1.0958153827445583 L -0.09332077937106123, -1.0960343206932792 L -0.0907836284967159, -1.0962473866773734 L -0.08824599125233165, -1.0964545795553473 L -0.08570788123320915, -1.0966558982171728 L -0.08316931203718193, -1.0968513415842924 L -0.08063029726454357, -1.0970409086096249 L -0.07809085051797479, -1.0972245982775721 L -0.0755509854024716, -1.097402409604023 L -0.07301071552526844, -1.0975743416363597 L -0.07047005449577118, -1.0977403934534626 L -0.06792901592548033, -1.0979005641657154 L -0.06538761342791904, -1.0980548529150085 L -0.06284586061856019, -1.0982032588747461 L -0.06030377111475343, -1.0983457812498483 L -0.05776135853565226, -1.0984824192767566 L -0.055218636502142, -1.0986131722234376 L -0.052675618636762955, -1.0987380393893873 L -0.05013231856364326, -1.098857020105634 L -0.047588749908421976, -1.098970113734743 L -0.0450449262981771, -1.099077319670819 L -0.04250086136135253, -1.0991786373395107 L -0.03995656872768508, -1.0992740661980114 L -0.03741206202813141, -1.0993636057350649 L -0.03486735489479507, -1.0994472554709664 L -0.03232246096085437, -1.0995250149575653 L -0.029777393860485488, -1.099596883778268 L -0.027232167228795255, -1.0996628615480397 L -0.024686794701744213, -1.099722947913407 L -0.022141289916074534, -1.0997771425524594 L -0.01959566650923696, -1.0998254451748508 L -0.01704993811931773, -1.099867855521802 L -0.014504118384965547, -1.099904373366101 L -0.011958220945319451, -1.0999349985121043 L -0.00941225943993186, -1.0999597307957394 L -0.006866247508701349, -1.0999785700845037 L -0.004320198791795675, -1.0999915162774665 L -0.0017741269295796693, -1.0999985693052687 L 0.0007719544374578339, -1.0999997291301242 L 0.00331803166877708, -1.0999949957458193 L 0.0058640911238604715, -1.099984369177713 L 0.008410119162284669, -1.0999678494827367 L 0.010956102143797579, -1.099945436749394 L 0.013502026428385563, -1.0999171310977602 L 0.01604787837635044, -1.0998829326794821 L 0.018593644348381542, -1.0998428416777764 L 0.02113931070562885, -1.0997968583074291 L 0.023684863809775997, -1.0997449828147945 L 0.026230290023113383, -1.0996872154777937 L 0.028775575708610234, -1.0996235566059134 L 0.03132070722999159, -1.0995540065402032 L 0.03386567095180548, -1.0994785656532755 L 0.0364104532394999, -1.0993972343493021 L 0.03895504045949486, -1.0993100130640125 L 0.041499418979255444, -1.0992169022646916 L 0.04404357516736485, -1.0991179024501772 L 0.04658749539359738, -1.099013014150857 L 0.04913116602899154, -1.0989022379286666 L 0.05167457344592199, -1.0987855743770858 L 0.054217704018176514, -1.098663024121135 L 0.05676054412102318, -1.0985345878173731 L 0.05930308013128717, -1.0984002661538927 L 0.053911891028442877, -0.9985456965035387 L 0.051600494655475615, -0.9986678071067027 L 0.04928882183470592, -0.9987845673828499 L 0.04697688495083817, -0.9988959767064415 L 0.044664696389992306, -0.999002034480606 L 0.04235226853963398, -0.9991027401371426 L 0.0400396137885135, -0.9991980931365245 L 0.03772674452659586, -0.9992880929679013 L 0.03541367314499533, -0.9993727391491022 L 0.033100412035909, -0.9994520312266383 L 0.030786973592550438, -0.999525968775705 L 0.028473370209083262, -0.9995945514001847 L 0.026159614280554758, -0.9996577787326484 L 0.023845718202830345, -0.9997156504343578 L 0.02153169437252363, -0.9997681661952676 L 0.019217555186935315, -0.9998153257340263 L 0.01690331304398322, -0.9998571287979784 L 0.01458898034213676, -0.9998935751631655 L 0.012274569480350512, -0.9999246646343274 L 0.009960092857997798, -0.9999503970449034 L 0.0076455628748042445, -0.9999707722570332 L 0.005330991930782247, -0.9999857901615572 L 0.0030163924261609816, -0.9999954506780175 L 0.0007017767613253035, -0.9999997537546583 L -0.0016128426632542447, -0.999998699368426 L -0.003927453447086977, -0.9999922875249694 L -0.006242043189728499, -0.9999805182586397 L -0.008556599490847144, -0.9999633916324904 L -0.01087110995029041, -0.9999409077382766 L -0.013185562168150497, -0.9999130666964553 L -0.015499943744834299, -0.9998798686561836 L -0.017814242281124507, -0.9998413137953189 L -0.020128445378249576, -0.9997974023204175 L -0.022442540637949284, -0.9997481344667336 L -0.02475651566254114, -0.9996935104982179 L -0.027070358054986806, -0.9996335307075163 L -0.029384055418958516, -0.9995681954159684 L -0.0316975953589046, -0.9994975049736058 L -0.03401096548011946, -0.9994214597591499 L -0.03632415338880461, -0.9993400601800103 L -0.03863714669213866, -0.9992533066722823 L -0.04094993299834281, -0.9991611997007446 L -0.04326249991674725, -0.9990637397588571 L -0.045574835057857505, -0.9989609273687581 L -0.04788692603342087, -0.998852763081261 L -0.05019876045649273, -0.9987392474758523 L -0.052510325941502047, -0.9986203811606877 L -0.054821610104321294, -0.9984961647725893 L -0.05713260056232744, -0.9983665989770418 L -0.05944328493447185, -0.9982316844681896 L -0.06175365084134575, -0.998091421968832 L -0.06406368590524653, -0.9979458122304206 L -0.06637337775024403, -0.9977948560330542 L -0.0686827140022469, -0.9976385541854753 L -0.07099168228906799, -0.9974769075250655 L -0.07330027024049415, -0.9973099169178408 L -0.07560846548834721, -0.9971375832584476 L -0.07791625566655376, -0.9969599074701571 L -0.08022362841121058, -0.9967768905048612 L -0.08253057136065081, -0.9965885333430666 L -0.0848370721555102, -0.9963948369938901 L -0.08714311843879333, -0.9961958024950529 L -0.08944869785593891, -0.9959914309128753 L -0.09175379805488958, -0.9957817233422707 L -0.09405840668615265, -0.9955666809067398 L -0.0963625114028699, -0.9953463047583648 L -0.09866609986088283, -0.9951205960778031 L -0.10096915971879876, -0.9948895560742809 L -0.10327167863805695, -0.9946531859855866 L -0.10557364428299476, -0.9944114870780645 L -0.10787504432091366, -0.994164460646608 L -0.11017586642214448, -0.9939121080146522 L -0.11247609826011697, -0.9936544305341674 L -0.11477572751142051, -0.9933914295856514 L -0.11707474185587377, -0.9931231065781223 L -0.1193731289765897, -0.9928494629491111 L -0.12167087656004162, -0.9925705001646539 L -0.12396797229612912, -0.9922862197192835 L -0.12626440387824403, -0.9919966231360224 L -0.1285601590033355, -0.991701711966374 L -0.13085522537197944, -0.9914014877903142 L -0.13314959068843907, -0.9910959522162832 L -0.13544324266073435, -0.990785106881177 L -0.13773616900070695, -0.9904689534503385 L -0.14002835742408618, -0.9901474936175481 L -0.14231979565055458, -0.9898207291050155 L -0.1446104714038139, -0.9894886616633698 L -0.14690037241164997, -0.9891512930716506 L -0.14918948640600185, -0.988808625137298 L -0.15147780112302248, -0.9884606596961429 L -0.1537653043031476, -0.988107398612398 L -0.15605198369116094, -0.9877488437786468 L -0.15833782703625945, -0.987384997115834 L -0.16062282209211937, -0.9870158605732551 L -0.16290695661696142, -0.9866414361285458 L -0.16519021837361583, -0.986261725787672 L -0.16747259512959126, -0.9858767315849177 L -0.16975407465713507, -0.985486455582876 L -0.17203464473330243, -0.9850908998724364 L -0.17431429314002075, -0.9846900665727745 L -0.19174572245402285 ,-1.083159073230052",
          "type": "path"
         },
         {
          "fillcolor": "rgba(102,194,165,0.75)",
          "layer": "below",
          "line": {
           "color": "rgb(150,150,150)",
           "width": 0.45
          },
          "path": "M 0.059303770276516635, -1.0984002288924517 L 0.07208703730553756, -1.097635394405861 L 0.08486053404549766, -1.0967217923254342 L 0.09762252924539537, -1.0956595464758805 L 0.11037129321308886, -1.0944488008282847 L 0.12310509804972336, -1.0930897194805962 L 0.13582221788392523, -1.0915824866353856 L 0.14852092910571618, -1.0899273065748811 L 0.1611995106001223, -1.08812440363328 L 0.17385624398044355, -1.0861740221663436 L 0.18648941382115852, -1.0840764265182787 L 0.1990973078904184, -1.08183190098591 L 0.21167821738211715, -1.0794407497801486 L 0.22423043714749338, -1.0769032969847592 L 0.23675226592623666, -1.0742198865124368 L 0.24924200657706636, -1.0713908820581952 L 0.26169796630775694, -1.0684166670500719 L 0.27411845690456405, -1.0652976445971618 L 0.28650179496103984, -1.0620342374349814 L 0.29884630210619184, -1.0586268878681737 L 0.3111503052319601, -1.0550760577105607 L 0.32341213671998087, -1.0513822282225511 L 0.3356301346676099, -1.047545900045913 L 0.347802643113162, -1.0435675931359207 L 0.35992801226035565, -1.0394478466908812 L 0.37200459870191577, -1.0351872190790548 L 0.3840307656423128, -1.0307862877629772 L 0.3960048831196042, -1.0262456492211933 L 0.407925328226354, -1.0215659188674129 L 0.41979048532958796, -1.0167477309671014 L 0.43159874628977113, -1.0117917385515154 L 0.44334851067876546, -1.0066986133291933 L 0.45503818599674256, -1.0014690455949171 L 0.46666618788802594, -0.9961037441361507 L 0.47823094035582087, -0.9906034361369778 L 0.4897308759758197, -0.984968867079542 L 0.5011644361086418, -0.9792008006430077 L 0.5125300711110826, -0.9733000186000558 L 0.5238262405461441, -0.967267320710926 L 0.535051413391817, -0.9611035246150225 L 0.5462040682485897, -0.9548094657200934 L 0.5572826935456461, -0.9483859970890068 L 0.5682857877457392, -0.9418339893241298 L 0.5792118595487001, -0.9351543304493313 L 0.5900594280935605, -0.9283479257896257 L 0.6008270231592636, -0.9214156978484672 L 0.611513185363925, -0.9143585861827219 L 0.6221164663626328, -0.9071775472753233 L 0.6326354290437478, -0.8998735544056361 L 0.6430686477236818, -0.8924475975175435 L 0.6534147083401262, -0.884900683085276 L 0.6636722086437092, -0.8772338339769968 L 0.6738397583880457, -0.869448089316171 L 0.6839159795181652, -0.8615445043407269 L 0.6938995063572865, -0.8535241502600348 L 0.7037889857919135, -0.8453881141097205 L 0.7135830774552288, -0.8371374986043364 L 0.7232804539087616, -0.8287734219879013 L 0.732879800822299, -0.8202970178823447 L 0.7423798171520237, -0.8117094351338587 L 0.7517792153168523, -0.8030118376571904 L 0.7610767213729448, -0.7942054042778915 L 0.7702710751863713, -0.7852913285725442 L 0.7793610306038996, -0.7762708187069945 L 0.7883453556218949, -0.7671450972726008 L 0.7972228325532985, -0.7579154011205311 L 0.805992258192666, -0.7485829811941274 L 0.8146524439792433, -0.7391491023593588 L 0.8232022161580582, -0.7296150432333901 L 0.8316404159390061, -0.7199820960112807 L 0.8399658996539026, -0.7102515662908532 L 0.8481775389114932, -0.7004247728957355 L 0.8562742207503883, -0.6905030476966162 L 0.8642548477899076, -0.6804877354307305 L 0.8721183383788154, -0.6703801935195984 L 0.8798636267419182, -0.6601817918850523 L 0.887489663124517, -0.6498939127635612 L 0.8949954139346841, -0.6395179505188917 L 0.9023798618833508, -0.6290553114531224 L 0.9096420061221853, -0.6185074136160426 L 0.9167808623792435, -0.6078756866129545 L 0.9237954630923694, -0.5971615714109163 L 0.9306848575403354, -0.5863665201434389 L 0.9374481119716968, -0.5754919959136714 L 0.9440843097313484, -0.5645394725961008 L 0.9505925513847614, -0.5535104346367915 L 0.9569719548398911, -0.5424063768521881 L 0.9632216554667264, -0.5312288042265209 L 0.9693408062144809, -0.5199792317078253 L 0.9753285777263956, -0.5086591840026152 L 0.9811841584521459, -0.49727019536923217 L 0.9869067547578361, -0.4858138094098979 L 0.9924955910335617, -0.47429157886150725 L 0.9979499097985332, -0.46270506538517575 L 1.0032689718037406, -0.4510558393545808 L 1.008452056132147, -0.43934547964312204 L 1.0134984602963986, -0.42757557340992897 L 1.018407500334034, -0.41574771588474724 L 1.0231785109001885, -0.40386351015172595 L 1.0278108453577668, -0.3919245669321498 L 0.9343734957797879, -0.35629506084740886 L 0.9301622826365349, -0.3671486455924781 L 0.9258250003036673, -0.3779524689861338 L 0.9213622366330896, -0.388705066736299 L 0.91677459648377, -0.39940498149374726 L 0.9120627016397641, -0.4100507630496189 L 0.9072271907259392, -0.4206409685319779 L 0.9022687191214196, -0.4311741626013702 L 0.89718795887076, -0.4416489176453617 L 0.8919855985928599, -0.4520638139720292 L 0.8866623433876323, -0.46241744000237744 L 0.8812189147404371, -0.4727083924616594 L 0.8756560504242967, -0.48293527656956436 L 0.8699745043999009, -0.4930967062292618 L 0.8641750467134194, -0.5031913042152649 L 0.8582584633921349, -0.5132177023600916 L 0.8522255563379061, -0.5231745417397012 L 0.8460771432184866, -0.5330604728576717 L 0.8398140573566993, -0.5428741558281057 L 0.833437147617494, -0.5526142605572314 L 0.8269472782928956, -0.562279466923675 L 0.8203453289848643, -0.571868464957384 L 0.8136321944860764, -0.5813799550171742 L 0.8068087846586518, -0.5908126479668738 L 0.7998760243108347, -0.6001652653500475 L 0.7928348530716502, -0.6094365395632713 L 0.7856862252635523, -0.6186252140279368 L 0.7784311097730802, -0.6277300433605602 L 0.7710704899195392, -0.6367497935415777 L 0.7636053633217296, -0.6456832420825938 L 0.7560367417627327, -0.6545291781920733 L 0.7483656510527802, -0.6632864029394455 L 0.7405931308902212, -0.6719537294175989 L 0.7327202347206053, -0.6805299829037521 L 0.7247480295939077, -0.6890140010186646 L 0.7166775960199044, -0.6974046338841825 L 0.7085100278217269, -0.7057007442790859 L 0.7002464319876102, -0.713901207793222 L 0.6918879285208589, -0.7220049129799013 L 0.6834356502880475, -0.7300107615065367 L 0.674890742865476, -0.7379176683035079 L 0.6662543643839081, -0.7457245617112224 L 0.6575276853716014, -0.7534303836253647 L 0.6487118885956624, -0.7610340896403057 L 0.6398081689017395, -0.768534649190655 L 0.6308177330520786, -0.7759310456909406 L 0.6217417995619683, -0.7832222766733881 L 0.6125815985345869, -0.7904073539237918 L 0.603338371494281, -0.7974853036154516 L 0.5940133712182964, -0.80445516644116 L 0.5846078615669834, -0.8113159977432214 L 0.575123117312498, -0.8180668676414873 L 0.5655604239660298, -0.8247068611593847 L 0.5559210776035681, -0.831235078347929 L 0.5462063846902396, -0.8376506344076974 L 0.5364176619032368, -0.8439526598087506 L 0.5265562359533638, -0.8501403004084829 L 0.5166234434052175, -0.8562127175673906 L 0.5066206304960419, -0.8621690882627334 L 0.49654915295326335, -0.8680086052000848 L 0.48641037581074276, -0.8737304769227476 L 0.4762056732237674, -0.8793339279190235 L 0.4659364282828023, -0.8848181987273234 L 0.45560403282603795, -0.8901825460390979 L 0.4452098872507452, -0.8954262427995836 L 0.4347554003234735, -0.9005485783063434 L 0.42424198898911447, -0.9055488583055914 L 0.41367107817885684, -0.9104264050862881 L 0.4030441006170595, -0.9151805575719939 L 0.3923624966270646, -0.9198106714104685 L 0.38162771393598904, -0.9243161190610012 L 0.37084120747850363, -0.9286962898794662 L 0.36000443919964015, -0.9329505902010848 L 0.34911887785664797, -0.9370784434208883 L 0.3381859988199234, -0.9410792900718679 L 0.32720728387305054, -0.9449525879008009 L 0.3161842210119654, -0.9486978119417461 L 0.3051183042432817, -0.9523144545871937 L 0.2940110333818008, -0.9558020256568646 L 0.2828639138472364, -0.9591600524641459 L 0.27167845646017436, -0.9623880798801578 L 0.2604561772373089, -0.9654856703954375 L 0.24919859718596732, -0.968452404179238 L 0.23790724209796085, -0.971287879136429 L 0.22658364234278758, -0.9739917109619957 L 0.21522933266021513, -0.9765635331931243 L 0.2038458519522667, -0.9790029972588719 L 0.19243474307465194, -0.9813097725274077 L 0.18099755262765307, -0.9834835463508274 L 0.16953583074650774, -0.985524024107526 L 0.1580511308913123, -0.9874309292421305 L 0.14654500963647482, -0.9892040033029817 L 0.13501902645974198, -0.9908430059771646 L 0.1234747435308411, -0.9923477151230777 L 0.1119137254997485, -0.9937179268005418 L 0.10033753928462623, -0.9949534552984406 L 0.08874775385945033, -0.9960541331598912 L 0.07714594004136151, -0.9970198112049402 L 0.06553367027776141, -0.9978503585507827 L 0.053912518433196936, -0.9985456626295015 L 0.059303770276516635 ,-1.0984002288924517",
          "type": "path"
         },
         {
          "fillcolor": "rgba(50,136,189,0.75)",
          "layer": "below",
          "line": {
           "color": "rgb(150,150,150)",
           "width": 0.45
          },
          "path": "M 1.027811091611032, -0.39192392113947233 L 1.0292463244509396, -0.38813915494862333 L 1.0306676204888685, -0.38434913304938545 L 1.0320749604793564, -0.38055390676162393 L 1.0334683253659172, -0.3767535274756785 L 1.0348476962812974, -0.37294804665166437 L 1.0362130545477342, -0.36913751581877297 L 1.037564381677206, -0.3653219865745794 L 1.0389016593716844, -0.3615015105843413 L 1.0402248695233818, -0.35767613958029626 L 1.041533994214995, -0.35384592536096704 L 1.0428290157199493, -0.3500109197904572 L 1.0441099165026393, -0.34617117479774645 L 1.0453766792186638, -0.3423267423759924 L 1.0466292867150626, -0.33847767458182443 L 1.0478677220305488, -0.3346240235346356 L 1.0490919683957376, -0.3307658414158826 L 1.0503020092333732, -0.3269031804683754 L 1.0514978281585543, -0.3230360929955718 L 1.0526794089789555, -0.3191646313608654 L 1.0538467356950463, -0.31528884798688234 L 1.0549997925003076, -0.3114087953547682 L 1.0561385637814473, -0.3075245260034751 L 1.057263034118609, -0.30363609252905555 L 1.058373188285583, -0.29974354758394756 L 1.0594690112500118, -0.2958469438762588 L 1.0605504881735939, -0.29194633416905885 L 1.0616176044122834, -0.2880417712796613 L 1.0626703455164905, -0.28413330807890624 L 1.0637086972312755, -0.2802209974904501 L 1.0647326454965418, -0.2763048924900455 L 1.065742176447228, -0.27238504610482195 L 1.066737276413493, -0.26846151141257285 L 1.0677179319209038, -0.2645343415410342 L 1.068684129690616, -0.26060358966716246 L 1.0696358566395545, -0.25666930901641993 L 1.0705730998805902, -0.25273155286205123 L 1.0714958467227156, -0.24879037452435945 L 1.0724040846712146, -0.2448458273699893 L 1.0732978014278334, -0.2408979648112021 L 1.0741769848909473, -0.23694684030514931 L 1.0750416231557225, -0.2329925073531548 L 1.075891704514279, -0.22903501949998709 L 1.0767272174558495, -0.22507443033313182 L 1.0775481506669338, -0.2211107934820716 L 1.0783544930314521, -0.2171441626175572 L 1.0791462336308975, -0.21317459145087772 L 1.0799233617444812, -0.20920213373313915 L 1.08068586684928, -0.20522684325453264 L 1.0814337386203763, -0.20124877384360823 L 1.0821669669310008, -0.19726797936654183 L 1.082885541852667, -0.19328451372641292 L 1.0835894536553077, -0.18929843086246662 L 1.0842786928074049, -0.18530978474939022 L 1.0849532499761205, -0.18131862939657847 L 1.0856131160274216, -0.17732501884740423 L 1.0862582820262048, -0.17332900717848262 L 1.0868887392364164, -0.16933064849894483 L 1.0875044791211719, -0.1653299969497023 L 1.0881054933428709, -0.1613271067027109 L 1.0886917737633093, -0.15732203196024303 L 1.0892633124437905, -0.15331482695415102 L 1.0898201016452334, -0.14930554594512957 L 1.0903621338282756, -0.14529424322198714 L 1.0908894016533761, -0.1412809731009077 L 1.0914018979809155, -0.1372657899247124 L 1.0918996158712921, -0.1332487480621296 L 1.0923825485850152, -0.1292299019070558 L 1.0928506895827974, -0.125209305877816 L 1.0933040325256427, -0.12118701441643288 L 1.093742571274932, -0.11716308198788652 L 1.0941662998925075, -0.1131375630793741 L 1.0945752126407513, -0.10911051219957794 L 1.094969303982664, -0.1050819838779244 L 1.0953485685819404, -0.10105203266384263 L 1.0957130013030403, -0.09702071312603183 L 1.096062597211259, -0.09298807985171936 L 1.0963973515727938, -0.08895418744591865 L 1.0967172598548085, -0.0849190905306957 L 1.097022317725494, -0.08088284374442654 L 1.097312521054128, -0.07684550174105438 L 1.0975878659111293, -0.07280711918935547 L 1.0978483485681132, -0.06876775077219592 L 1.0980939654979402, -0.06472745118578829 L 1.0983247133747647, -0.06068627513895684 L 1.0985405890740794, -0.05664427735239279 L 1.0987415896727581, -0.052601512557915356 L 1.0989277124490953, -0.048558035497726706 L 1.099098954882843, -0.04451390092367658 L 1.0992553146552435, -0.04046916359651797 L 1.0993967896490637, -0.036423878285162685 L 1.0995233779486213, -0.032378099765945585 L 1.0996350778398112, -0.02833188282187999 L 1.0997318878101292, -0.02428528224191286 L 1.0998138065486929, -0.02023835282018885 L 1.0998808329462582, -0.01619114935530537 L 1.0999329660952348, -0.012143726649567671 L 1.0999702052896994, -0.008096139508252621 L 1.0999925500254037, -0.004048442738863676 L 1.099999999999783, -6.91150385814946e-07 L 0.9999999999998026, -6.283185325590418e-07 L 0.9999932272958215, -0.003680402489876069 L 0.9999729138997265, -0.0073601268256842 L 0.999939060086577, -0.011039751499606973 L 0.99989166631478, -0.014719226686641244 L 0.9998307332260844, -0.018398502563808043 L 0.999756261645572, -0.02207752931082987 L 0.9996682525816464, -0.02575625711079999 L 0.9995667072260193, -0.029434636150859624 L 0.9994516269536943, -0.033112616622875166 L 0.9993230133229486, -0.03679014872410724 L 0.9991808680753116, -0.0404671826578878 L 0.9990251931355412, -0.044143668634297 L 0.9988559906115982, -0.047819556870832135 L 0.9986732627946175, -0.05149479759308435 L 0.998477012158877, -0.0551693410354153 L 0.9982672413617638, -0.05884313744162572 L 0.9980439532437392, -0.06251613706563265 L 0.9978071508282993, -0.06618829017214133 L 0.9975568373219343, -0.06985954703732215 L 0.9972930161140855, -0.07352985794947867 L 0.9970156907770986, -0.07719917320972336 L 0.9967248650661762, -0.08086744313265332 L 0.9964205429193262, -0.08453461804701759 L 0.9961027284573093, -0.08820064829639257 L 0.9957714259835821, -0.09186548423985694 L 0.99542663998424, -0.09552907625265854 L 0.9950683751279557, -0.09919137472688903 L 0.9946966362659159, -0.10285233007215827 L 0.9943114284317564, -0.10651189271626046 L 0.9939127568414933, -0.11017001310584806 L 0.9935006268934521, -0.11382664170710545 L 0.9930750441681955, -0.11748172900641435 L 0.9926360144284473, -0.1211352255110269 L 0.9921835436190141, -0.12478708174973852 L 0.9917176378667054, -0.12843724827355243 L 0.9912383034802504, -0.13208567565635193 L 0.9907455469502121, -0.13573231449557233 L 0.9902393749489005, -0.13937711541286454 L 0.989719794330281, -0.14302002905476638 L 0.9891868121298825, -0.1466610060933735 L 0.9886404355647017, -0.15029999722700207 L 0.9880806720331058, -0.15393695318085893 L 0.9875075291147315, -0.15757182470771147 L 0.9869210145703832, -0.1612045625885493 L 0.9863211363419278, -0.16483511763325315 L 0.9857079025521862, -0.16846344068126382 L 0.9850813215048251, -0.17208948260224236 L 0.9844414016842427, -0.175713194296739 L 0.9837881517554552, -0.1793345266968562 L 0.9831215805639784, -0.18295343076691656 L 0.982441697135709, -0.18656985750412056 L 0.9817485106768011, -0.19018375793921738 L 0.9810420305735431, -0.19379508313716154 L 0.9803222663922291, -0.19740378419777926 L 0.9795892278790306, -0.20100981225642872 L 0.9788429249598631, -0.20461311848466526 L 0.9780833677402536, -0.20821365409089734 L 0.9773105665052021, -0.2118113703210498 L 0.9765245317190429, -0.21540621845922664 L 0.9757252740253031, -0.21899814982836552 L 0.9749128042465587, -0.22258711579089935 L 0.9740871333842868, -0.22617306774941767 L 0.9732482726187184, -0.2297559571473193 L 0.9723962333086859, -0.23333573546947264 L 0.971531026991469, -0.23691235424287496 L 0.9706526653826397, -0.24048576503730384 L 0.9697611603759028, -0.2440559194659753 L 0.9688565240429343, -0.24762276918620177 L 0.9679387686332197, -0.25118626590004134 L 0.9670079065738868, -0.2547463613549546 L 0.9660639504695369, -0.2583030073444602 L 0.9651069131020757, -0.26185615570878296 L 0.9641368074305399, -0.265405758335508 L 0.9631536465909198, -0.2689517671602353 L 0.9621574438959845, -0.272494134167225 L 0.961148212835099, -0.2760328113900505 L 0.9601259670740429, -0.27956775091225006 L 0.9590907204548251, -0.28309890486797107 L 0.9580424869954965, -0.2866262254426203 L 0.9569812808899595, -0.290149664873514 L 0.9559071165077765, -0.2936691754505198 L 0.9548200083939756, -0.2971847095167049 L 0.9537199712688523, -0.30069621946898417 L 0.9526070200277716, -0.3042036577587596 L 0.951481169740966, -0.30770697689256765 L 0.9503424356533307, -0.31120612943272036 L 0.9491908331842174, -0.3147010679979513 L 0.9480263779272265, -0.318191745264052 L 0.9468490856499954, -0.32167811396451546 L 0.9456589722939833, -0.3251601268911784 L 0.9444560539742586, -0.3286377368948557 L 0.9432403469792782, -0.3321108968859813 L 0.9420118677706673, -0.3355795598352481 L 0.9407706329829975, -0.3390436787742403 L 0.939516659423561, -0.3425032067960713 L 0.9382499640721422, -0.3459580970560217 L 0.9369705640807894, -0.34940830277216856 L 0.9356784767735813, -0.3528537772260212 L 0.9343737196463925, -0.35629447376315665 L 1.027811091611032 ,-0.39192392113947233",
          "type": "path"
         }
        ],
        "showlegend": false,
        "template": {
         "data": {
          "bar": [
           {
            "error_x": {
             "color": "#2a3f5f"
            },
            "error_y": {
             "color": "#2a3f5f"
            },
            "marker": {
             "line": {
              "color": "#E5ECF6",
              "width": 0.5
             },
             "pattern": {
              "fillmode": "overlay",
              "size": 10,
              "solidity": 0.2
             }
            },
            "type": "bar"
           }
          ],
          "barpolar": [
           {
            "marker": {
             "line": {
              "color": "#E5ECF6",
              "width": 0.5
             },
             "pattern": {
              "fillmode": "overlay",
              "size": 10,
              "solidity": 0.2
             }
            },
            "type": "barpolar"
           }
          ],
          "carpet": [
           {
            "aaxis": {
             "endlinecolor": "#2a3f5f",
             "gridcolor": "white",
             "linecolor": "white",
             "minorgridcolor": "white",
             "startlinecolor": "#2a3f5f"
            },
            "baxis": {
             "endlinecolor": "#2a3f5f",
             "gridcolor": "white",
             "linecolor": "white",
             "minorgridcolor": "white",
             "startlinecolor": "#2a3f5f"
            },
            "type": "carpet"
           }
          ],
          "choropleth": [
           {
            "colorbar": {
             "outlinewidth": 0,
             "ticks": ""
            },
            "type": "choropleth"
           }
          ],
          "contour": [
           {
            "colorbar": {
             "outlinewidth": 0,
             "ticks": ""
            },
            "colorscale": [
             [
              0,
              "#0d0887"
             ],
             [
              0.1111111111111111,
              "#46039f"
             ],
             [
              0.2222222222222222,
              "#7201a8"
             ],
             [
              0.3333333333333333,
              "#9c179e"
             ],
             [
              0.4444444444444444,
              "#bd3786"
             ],
             [
              0.5555555555555556,
              "#d8576b"
             ],
             [
              0.6666666666666666,
              "#ed7953"
             ],
             [
              0.7777777777777778,
              "#fb9f3a"
             ],
             [
              0.8888888888888888,
              "#fdca26"
             ],
             [
              1,
              "#f0f921"
             ]
            ],
            "type": "contour"
           }
          ],
          "contourcarpet": [
           {
            "colorbar": {
             "outlinewidth": 0,
             "ticks": ""
            },
            "type": "contourcarpet"
           }
          ],
          "heatmap": [
           {
            "colorbar": {
             "outlinewidth": 0,
             "ticks": ""
            },
            "colorscale": [
             [
              0,
              "#0d0887"
             ],
             [
              0.1111111111111111,
              "#46039f"
             ],
             [
              0.2222222222222222,
              "#7201a8"
             ],
             [
              0.3333333333333333,
              "#9c179e"
             ],
             [
              0.4444444444444444,
              "#bd3786"
             ],
             [
              0.5555555555555556,
              "#d8576b"
             ],
             [
              0.6666666666666666,
              "#ed7953"
             ],
             [
              0.7777777777777778,
              "#fb9f3a"
             ],
             [
              0.8888888888888888,
              "#fdca26"
             ],
             [
              1,
              "#f0f921"
             ]
            ],
            "type": "heatmap"
           }
          ],
          "heatmapgl": [
           {
            "colorbar": {
             "outlinewidth": 0,
             "ticks": ""
            },
            "colorscale": [
             [
              0,
              "#0d0887"
             ],
             [
              0.1111111111111111,
              "#46039f"
             ],
             [
              0.2222222222222222,
              "#7201a8"
             ],
             [
              0.3333333333333333,
              "#9c179e"
             ],
             [
              0.4444444444444444,
              "#bd3786"
             ],
             [
              0.5555555555555556,
              "#d8576b"
             ],
             [
              0.6666666666666666,
              "#ed7953"
             ],
             [
              0.7777777777777778,
              "#fb9f3a"
             ],
             [
              0.8888888888888888,
              "#fdca26"
             ],
             [
              1,
              "#f0f921"
             ]
            ],
            "type": "heatmapgl"
           }
          ],
          "histogram": [
           {
            "marker": {
             "pattern": {
              "fillmode": "overlay",
              "size": 10,
              "solidity": 0.2
             }
            },
            "type": "histogram"
           }
          ],
          "histogram2d": [
           {
            "colorbar": {
             "outlinewidth": 0,
             "ticks": ""
            },
            "colorscale": [
             [
              0,
              "#0d0887"
             ],
             [
              0.1111111111111111,
              "#46039f"
             ],
             [
              0.2222222222222222,
              "#7201a8"
             ],
             [
              0.3333333333333333,
              "#9c179e"
             ],
             [
              0.4444444444444444,
              "#bd3786"
             ],
             [
              0.5555555555555556,
              "#d8576b"
             ],
             [
              0.6666666666666666,
              "#ed7953"
             ],
             [
              0.7777777777777778,
              "#fb9f3a"
             ],
             [
              0.8888888888888888,
              "#fdca26"
             ],
             [
              1,
              "#f0f921"
             ]
            ],
            "type": "histogram2d"
           }
          ],
          "histogram2dcontour": [
           {
            "colorbar": {
             "outlinewidth": 0,
             "ticks": ""
            },
            "colorscale": [
             [
              0,
              "#0d0887"
             ],
             [
              0.1111111111111111,
              "#46039f"
             ],
             [
              0.2222222222222222,
              "#7201a8"
             ],
             [
              0.3333333333333333,
              "#9c179e"
             ],
             [
              0.4444444444444444,
              "#bd3786"
             ],
             [
              0.5555555555555556,
              "#d8576b"
             ],
             [
              0.6666666666666666,
              "#ed7953"
             ],
             [
              0.7777777777777778,
              "#fb9f3a"
             ],
             [
              0.8888888888888888,
              "#fdca26"
             ],
             [
              1,
              "#f0f921"
             ]
            ],
            "type": "histogram2dcontour"
           }
          ],
          "mesh3d": [
           {
            "colorbar": {
             "outlinewidth": 0,
             "ticks": ""
            },
            "type": "mesh3d"
           }
          ],
          "parcoords": [
           {
            "line": {
             "colorbar": {
              "outlinewidth": 0,
              "ticks": ""
             }
            },
            "type": "parcoords"
           }
          ],
          "pie": [
           {
            "automargin": true,
            "type": "pie"
           }
          ],
          "scatter": [
           {
            "marker": {
             "colorbar": {
              "outlinewidth": 0,
              "ticks": ""
             }
            },
            "type": "scatter"
           }
          ],
          "scatter3d": [
           {
            "line": {
             "colorbar": {
              "outlinewidth": 0,
              "ticks": ""
             }
            },
            "marker": {
             "colorbar": {
              "outlinewidth": 0,
              "ticks": ""
             }
            },
            "type": "scatter3d"
           }
          ],
          "scattercarpet": [
           {
            "marker": {
             "colorbar": {
              "outlinewidth": 0,
              "ticks": ""
             }
            },
            "type": "scattercarpet"
           }
          ],
          "scattergeo": [
           {
            "marker": {
             "colorbar": {
              "outlinewidth": 0,
              "ticks": ""
             }
            },
            "type": "scattergeo"
           }
          ],
          "scattergl": [
           {
            "marker": {
             "colorbar": {
              "outlinewidth": 0,
              "ticks": ""
             }
            },
            "type": "scattergl"
           }
          ],
          "scattermapbox": [
           {
            "marker": {
             "colorbar": {
              "outlinewidth": 0,
              "ticks": ""
             }
            },
            "type": "scattermapbox"
           }
          ],
          "scatterpolar": [
           {
            "marker": {
             "colorbar": {
              "outlinewidth": 0,
              "ticks": ""
             }
            },
            "type": "scatterpolar"
           }
          ],
          "scatterpolargl": [
           {
            "marker": {
             "colorbar": {
              "outlinewidth": 0,
              "ticks": ""
             }
            },
            "type": "scatterpolargl"
           }
          ],
          "scatterternary": [
           {
            "marker": {
             "colorbar": {
              "outlinewidth": 0,
              "ticks": ""
             }
            },
            "type": "scatterternary"
           }
          ],
          "surface": [
           {
            "colorbar": {
             "outlinewidth": 0,
             "ticks": ""
            },
            "colorscale": [
             [
              0,
              "#0d0887"
             ],
             [
              0.1111111111111111,
              "#46039f"
             ],
             [
              0.2222222222222222,
              "#7201a8"
             ],
             [
              0.3333333333333333,
              "#9c179e"
             ],
             [
              0.4444444444444444,
              "#bd3786"
             ],
             [
              0.5555555555555556,
              "#d8576b"
             ],
             [
              0.6666666666666666,
              "#ed7953"
             ],
             [
              0.7777777777777778,
              "#fb9f3a"
             ],
             [
              0.8888888888888888,
              "#fdca26"
             ],
             [
              1,
              "#f0f921"
             ]
            ],
            "type": "surface"
           }
          ],
          "table": [
           {
            "cells": {
             "fill": {
              "color": "#EBF0F8"
             },
             "line": {
              "color": "white"
             }
            },
            "header": {
             "fill": {
              "color": "#C8D4E3"
             },
             "line": {
              "color": "white"
             }
            },
            "type": "table"
           }
          ]
         },
         "layout": {
          "annotationdefaults": {
           "arrowcolor": "#2a3f5f",
           "arrowhead": 0,
           "arrowwidth": 1
          },
          "autotypenumbers": "strict",
          "coloraxis": {
           "colorbar": {
            "outlinewidth": 0,
            "ticks": ""
           }
          },
          "colorscale": {
           "diverging": [
            [
             0,
             "#8e0152"
            ],
            [
             0.1,
             "#c51b7d"
            ],
            [
             0.2,
             "#de77ae"
            ],
            [
             0.3,
             "#f1b6da"
            ],
            [
             0.4,
             "#fde0ef"
            ],
            [
             0.5,
             "#f7f7f7"
            ],
            [
             0.6,
             "#e6f5d0"
            ],
            [
             0.7,
             "#b8e186"
            ],
            [
             0.8,
             "#7fbc41"
            ],
            [
             0.9,
             "#4d9221"
            ],
            [
             1,
             "#276419"
            ]
           ],
           "sequential": [
            [
             0,
             "#0d0887"
            ],
            [
             0.1111111111111111,
             "#46039f"
            ],
            [
             0.2222222222222222,
             "#7201a8"
            ],
            [
             0.3333333333333333,
             "#9c179e"
            ],
            [
             0.4444444444444444,
             "#bd3786"
            ],
            [
             0.5555555555555556,
             "#d8576b"
            ],
            [
             0.6666666666666666,
             "#ed7953"
            ],
            [
             0.7777777777777778,
             "#fb9f3a"
            ],
            [
             0.8888888888888888,
             "#fdca26"
            ],
            [
             1,
             "#f0f921"
            ]
           ],
           "sequentialminus": [
            [
             0,
             "#0d0887"
            ],
            [
             0.1111111111111111,
             "#46039f"
            ],
            [
             0.2222222222222222,
             "#7201a8"
            ],
            [
             0.3333333333333333,
             "#9c179e"
            ],
            [
             0.4444444444444444,
             "#bd3786"
            ],
            [
             0.5555555555555556,
             "#d8576b"
            ],
            [
             0.6666666666666666,
             "#ed7953"
            ],
            [
             0.7777777777777778,
             "#fb9f3a"
            ],
            [
             0.8888888888888888,
             "#fdca26"
            ],
            [
             1,
             "#f0f921"
            ]
           ]
          },
          "colorway": [
           "#636efa",
           "#EF553B",
           "#00cc96",
           "#ab63fa",
           "#FFA15A",
           "#19d3f3",
           "#FF6692",
           "#B6E880",
           "#FF97FF",
           "#FECB52"
          ],
          "font": {
           "color": "#2a3f5f"
          },
          "geo": {
           "bgcolor": "white",
           "lakecolor": "white",
           "landcolor": "#E5ECF6",
           "showlakes": true,
           "showland": true,
           "subunitcolor": "white"
          },
          "hoverlabel": {
           "align": "left"
          },
          "hovermode": "closest",
          "mapbox": {
           "style": "light"
          },
          "paper_bgcolor": "white",
          "plot_bgcolor": "#E5ECF6",
          "polar": {
           "angularaxis": {
            "gridcolor": "white",
            "linecolor": "white",
            "ticks": ""
           },
           "bgcolor": "#E5ECF6",
           "radialaxis": {
            "gridcolor": "white",
            "linecolor": "white",
            "ticks": ""
           }
          },
          "scene": {
           "xaxis": {
            "backgroundcolor": "#E5ECF6",
            "gridcolor": "white",
            "gridwidth": 2,
            "linecolor": "white",
            "showbackground": true,
            "ticks": "",
            "zerolinecolor": "white"
           },
           "yaxis": {
            "backgroundcolor": "#E5ECF6",
            "gridcolor": "white",
            "gridwidth": 2,
            "linecolor": "white",
            "showbackground": true,
            "ticks": "",
            "zerolinecolor": "white"
           },
           "zaxis": {
            "backgroundcolor": "#E5ECF6",
            "gridcolor": "white",
            "gridwidth": 2,
            "linecolor": "white",
            "showbackground": true,
            "ticks": "",
            "zerolinecolor": "white"
           }
          },
          "shapedefaults": {
           "line": {
            "color": "#2a3f5f"
           }
          },
          "ternary": {
           "aaxis": {
            "gridcolor": "white",
            "linecolor": "white",
            "ticks": ""
           },
           "baxis": {
            "gridcolor": "white",
            "linecolor": "white",
            "ticks": ""
           },
           "bgcolor": "#E5ECF6",
           "caxis": {
            "gridcolor": "white",
            "linecolor": "white",
            "ticks": ""
           }
          },
          "title": {
           "x": 0.05
          },
          "xaxis": {
           "automargin": true,
           "gridcolor": "white",
           "linecolor": "white",
           "ticks": "",
           "title": {
            "standoff": 15
           },
           "zerolinecolor": "white",
           "zerolinewidth": 2
          },
          "yaxis": {
           "automargin": true,
           "gridcolor": "white",
           "linecolor": "white",
           "ticks": "",
           "title": {
            "standoff": 15
           },
           "zerolinecolor": "white",
           "zerolinewidth": 2
          }
         }
        },
        "title": {
         "text": " "
        },
        "width": 625,
        "xaxis": {
         "showgrid": false,
         "showline": false,
         "showticklabels": false,
         "title": {
          "text": ""
         },
         "zeroline": false
        },
        "yaxis": {
         "scaleanchor": "x",
         "showgrid": false,
         "showline": false,
         "showticklabels": false,
         "title": {
          "text": ""
         },
         "zeroline": false
        }
       }
      },
      "text/html": [
       "<div>                            <div id=\"5b4a0c25-44c5-46f3-99d7-2ac84321362d\" class=\"plotly-graph-div\" style=\"height:625px; width:625px;\"></div>            <script type=\"text/javascript\">                require([\"plotly\"], function(Plotly) {                    window.PLOTLYENV=window.PLOTLYENV || {};                                    if (document.getElementById(\"5b4a0c25-44c5-46f3-99d7-2ac84321362d\")) {                    Plotly.newPlot(                        \"5b4a0c25-44c5-46f3-99d7-2ac84321362d\",                        [{\"hoverinfo\":\"text\",\"line\":{\"color\":\"rgba(213,62,79,0.75)\",\"shape\":\"spline\",\"width\":0.25},\"mode\":\"lines\",\"text\":\"2nd Ave & Pine St<br>3239 partidas\",\"x\":[1.1,1.0999650888462191,1.0998603576008563,1.0996858129117084,1.0994414658579696,1.099127331949526,1.0987434311259727,1.0982897877553472,1.097766430632583,1.0971733929776823,1.096510712433606,1.095778431063886,1.0949765953499542,1.094105256188192,1.0931644688867006,1.092154293161789,1.0910747931341847,1.0899260373249633,1.0887080986511988,1.0874210544213354,1.0860649863302803,1.0846399804542182,1.0831461272451481,1.0815835215251413,1.0799522624803222,1.0782524536545732,1.0764842029429622,1.074647622584894,1.0727428291569852,1.0707699435656657,1.068729091039503,1.0666204011212543,1.0644440076596435,1.0622000488008645,1.0598886669798133,1.0575100089110467,1.0550642255794696,1.052551472230751,1.04997190836147,1.047325697708992,1.0446130082410754,1.0418340121452094,1.0389888858176852,1.0360778098523984,1.0331009690293869,1.0300585523031012,1.0269507527904105,1.0237777677583453,1.0205397986115752,1.0172370508796258,1.0138697342038312,1.0104380623240286,1.0069422530649899,1.0033825283225966,0.9997591140497535,0.9960722402420481,0.9923221409231501,0.9885090541299578,0.9846332218974885,0.9806948902435147,0.9766943091529495,0.9726317325619775,0.9685074183419373,0.9643216282829526,0.9600746280773147,0.9557666873026188,0.9513980794046522,0.9469690816800367,0.942479975258628,0.937931045085671,0.9333225799037128,0.9286548722342741,0.9239282183592833,0.9191429183022675,0.9142992758093111,0.9093975983297738,0.9044381969967764,0.8994213866074505,0.8943474856029581,0.8892168160482776,0.8840297036117618,0.8787864775444648,0.873487470659244,0.8681330193096347,0.8627234633684994,0.8572591462064549,0.8517404146700774,0.8461676190598856,0.8405411131081059,0.8348612539562191,0.8291284021322916,0.8233429215280897,0.8175051793759827,0.8116155462256324,0.8056743959204727,0.79968210557398,0.7936390555457354,0.7875456294172825,0.7814022139677786,0.7752091991494451],\"y\":[0.0,0.008763750311887534,0.01752694434625719,0.0262890258609007,0.03504943868422679,0.04380762675056409,0.052563034135457286,0.06131510509095432,0.07006328408088242,0.07880701581611062,0.08754574528979671,0.09627891781261615,0.10500597904797082,0.11372637504717562,0.12243955228462003,0.13114495769290324,0.1398420386979399,0.14853024325403474,0.15720901987892352,0.16587781768877824,0.1745360864331745,0.1831832765300185,0.19181883910043152,0.2004422260035902,0.20905288987151946,0.2176502841438367,0.2262338631024445,0.23480308190617014,0.24335739662534916,0.2518962642763513,0.2604191428560462,0.26892549137620714,0.2774147698978499,0.2858864395655054,0.29433996264142354,0.3027748025397061,0.31119042386036605,0.3195862924233124,0.3279618753022568,0.33631664085854146,0.3446500587748841,0.35296160008904054,0.3612507372273798,0.3695169440383722,0.37775969582598656,0.3859784693829951,0.39417274302418426,0.40234199661946807,0.4104857116269037,0.4186033711256059,0.426694459848558,0.4347584642153189,0.4427948723646221,0.4508031741868663,0.4587828613564942,0.4667334273642589,0.47465436754937385,0.4825451791315465,0.49040536124289213,0.49823441495972637,0.5060318433342341,0.5137971514260136,0.5215298463334919,0.5292294372252127,0.5368954353709912,0.5445273541729361,0.5521247091963366,0.559687018200412,0.5672138011689207,0.5747045803406311,0.5821588802396455,0.5895762277055817,0.5969561519236072,0.6042981844543233,0.6116018592634995,0.618866712751655,0.6260922837834855,0.633278113717134,0.6404237464333025,0.6475287283642045,0.6545926085223548,0.6616149385291962,0.66859527264356,0.6755331677899594,0.682428183586714,0.6892798823739019,0.6960878292411418,0.7028515920551968,0.7095707414874057,0.7162448510409339,0.722873497077845,0.7294562588459914,0.7359927185057217,0.7424824611564023,0.7489250748627538,0.7553201506809983,0.7616672826848171,0.7679660679911168,0.7742161067856015,0.7804170023481525],\"type\":\"scatter\"},{\"hoverinfo\":\"text\",\"line\":{\"color\":\"rgba(244,109,67,0.75)\",\"shape\":\"spline\",\"width\":0.25},\"mode\":\"lines\",\"text\":\"King Street Station Plaza<br>2215 partidas\",\"x\":[0.7752087087988276,0.77094524102495,0.7666588882196722,0.7623497776207192,0.7580180371413671,0.7536637953666455,0.7492871815495216,0.7448883256070624,0.7404673581165789,0.7360244103117494,0.7315596140787243,0.727073101952211,0.7225650071115398,0.7180354633767106,0.7134846052044203,0.7089125676840716,0.7043194865337632,0.6997054980962606,0.6950707393349492,0.6904153478297692,0.6857394617731299,0.6810432199658101,0.6763267618128347,0.6715902273193396,0.6668337570864143,0.6620574923069278,0.657261574761338,0.6524461468134833,0.6476113514063566,0.642757332057861,0.6378842328565509,0.6329921984573541,0.6280813740772782,0.6231519054910993,0.6182039390270361,0.6132376215624041,0.6082531005192578,0.6032505238600137,0.5982300400830572,0.5931917982183361,0.5881359478229359,0.5830626389766401,0.5779720222774763,0.5728642488372437,0.56773947027703,0.5625978387227083,0.5574395068004234,0.5522646276320592,0.5470733548306947,0.5418658424960442,0.5366422452098817,0.5314027180314537,0.526147416492875,0.520876496594513,0.5155901148003563,0.5102884280333703,0.5049715936708388,0.4996397695396929,0.49429311391182557,0.48893178549939353,0.4835559434501063,0.47816574734250084,0.4727613571812064,0.4673429333921937,0.46191063681801237,0.45646462871301785,0.4510050707385834,0.4455321249583021,0.4400459538331756,0.4345467202167913,0.4290345873504891,0.42350971885851496,0.4179722787431641,0.41242243137991225,0.40686034151253675,0.4012861742482263,0.39570009505267956,0.3901022697451934,0.3844928644937405,0.37887204581003725,0.3732399805446011,0.3675968358817964,0.36194277933487323,0.35627797874099393,0.3506026022562514,0.344916818350677,0.33922079580324044,0.33351470369683833,0.32779871141327654,0.3220729886282418,0.3163377053062637,0.31059303169567143,0.30483913832353854,0.29907619599062196,0.2933043757662908,0.28752384898344974,0.281734787233451,0.2759373623610033,0.2701317464590683,0.26431811186375415],\"y\":[0.7804174894263035,0.7846294892119349,0.7888181977577446,0.792983490724517,0.7971252444681133,0.801243336043142,0.8053376432066084,0.8094080444215432,0.813454418860611,0.8174766464096953,0.8214746076714655,0.8254481839689213,0.8293972573489139,0.8333217105856493,0.8372214271841666,0.8410962913837968,0.8449461881615992,0.848771003235775,0.8525706230690613,0.8563449348720987,0.8600938266067826,0.8638171869895861,0.8675149054948655,0.8711868723581399,0.8748329785793499,0.8784531159260934,0.8820471769368384,0.8856150549241124,0.8891566439776698,0.8926718389676359,0.8961605355476271,0.8996226301578489,0.9030580200281698,0.9064666031811719,0.9098482784351778,0.913202945407255,0.9165305045161943,0.9198308569854673,0.9231039048461576,0.926349550939869,0.9295676989216101,0.9327582532626535,0.9359211192533721,0.9390562030060504,0.9421634114576716,0.9452426523726792,0.9482938343457162,0.9513168668043384,0.9543116600117012,0.9572781250692259,0.9602161739192365,0.963125719347575,0.9660066749861894,0.9688589553156984,0.9716824756679291,0.9744771522284307,0.9772429020389626,0.9799796429999568,0.982687293872955,0.9853657742830199,0.9880150047211216,0.9906349065464974,0.9932254019889867,0.9957864141513378,0.9983178670114937,1.0008196854248457,1.0032917951264655,1.0057341227333096,1.0081465957463978,1.0105291425529646,1.0128816924285855,1.0152041755392764,1.0174965229435662,1.0197586665945437,1.0219905393418778,1.0241920749338096,1.0263632080191205,1.0285038741490713,1.030614009779315,1.0326935522717846,1.0347424398965503,1.0367606118336536,1.0387480081749123,1.040704569925698,1.0426302390066888,1.044524958255592,1.0463886714288417,1.0482213232032682,1.0500228591777399,1.0517932258747784,1.0535323707421465,1.0552402421544071,1.0569167894144564,1.058561962755029,1.060175713340174,1.061757993266706,1.0633087555656269,1.0648279542035195,1.0663155440839143,1.0677714810486278],\"type\":\"scatter\"},{\"hoverinfo\":\"text\",\"line\":{\"color\":\"rgba(253,174,97,0.75)\",\"shape\":\"spline\",\"width\":0.25},\"mode\":\"lines\",\"text\":\"3rd Ave & Broad St<br>3227 partidas\",\"x\":[0.26431744096309384,0.2558336451469724,0.2473337304375476,0.23881823237508576,0.23028768748168685,0.2217426332274831,0.2131836079967734,0.2046111510541041,0.19602580251029056,0.18742810328838921,0.17881859508961456,0.170197820359211,0.16156632225227402,0.15292464459953023,0.14427333187307148,0.1356129291520519,0.12694398208834304,0.11826703687215702,0.10958264019763143,0.10089133922838679,0.09219368156305023,0.0834902152007559,0.07478148850661603,0.06606805017717296,0.057350449205826416,0.04862923484824589,0.0399049565877626,0.031178164100751107,0.022449407221994986,0.013719235910045051,0.0049882002125694914,-0.0037431497683025755,-0.012474263910640982,-0.021204592107374656,-0.02993358430095082,-0.03866069051799208,-0.047385360903948175,-0.05610704575773927,-0.06482519556638963,-0.0735392610396503,-0.08224869314460792,-0.09095294314027617,-0.09965146261216873,-0.10834370350685402,-0.11702911816648355,-0.1257071593632993,-0.13437728033410998,-0.14303893481474203,-0.15169157707445535,-0.160334661950329,-0.16896764488160762,-0.17758998194401363,-0.18620112988401527,-0.19480054615305656,-0.20338768894173895,-0.21196201721395982,-0.22052299074099907,-0.22907007013555816,-0.23760271688574253,-0.2461203933889925,-0.2546225629859542,-0.2631086899942917,-0.27157823974243844,-0.28003067860328446,-0.28846547402779776,-0.29688209457857706,-0.30528000996333565,-0.31365869106831334,-0.32201760999161266,-0.33035624007645925,-0.3386740559443846,-0.3469705335283281,-0.3552451501056555,-0.3634973843310929,-0.37172671626957493,-0.3799326274290034,-0.3881146007929153,-0.3962721208530566,-0.40440467364186267,-0.4125117467648417,-0.4205928294328574,-0.42864741249431115,-0.4366749884672226,-0.4446750515712027,-0.4526470977593206,-0.4605906247498619,-0.46850513205797417,-0.4763901210272022,-0.48424509486090317,-0.4920695586535492,-0.49986301942190986,-0.5076249861361107,-0.5153549697505719,-0.5230524832348209,-0.5307170416041772,-0.5383481619503107,-0.5459453634716649,-0.5535081675037518,-0.5610360975493108,-0.5685286793083286],\"y\":[1.0677716471243848,1.0698360369752056,1.0718330214113796,1.0737624746121648,1.0756242750116498,1.0774183053064126,1.079144452462912,1.080802607724609,1.0823926666188186,1.083914528963293,1.0853680988725332,1.08675328476383,1.088069999363035,1.089318159710058,1.0904976871640961,1.091608507408586,1.0926505504558879,1.0936237506516946,1.0945280466791687,1.0953633815628048,1.09612970267202,1.09682696172447,1.09745511478909,1.098014122288865,1.0985039490033206,1.098924564070744,1.099275940990127,1.0995580576228374,1.0997708961940125,1.0999144432936794,1.0999886898776003,1.0999936312678416,1.0999292671530692,1.099795601588568,1.0995926429959861,1.0993204041628046,1.098978902241532,1.0985681587486227,1.0980881995631222,1.0975390549250366,1.0969207594334263,1.096233352044227,1.0954768760677953,1.0946513791661796,1.093756913350117,1.0927935349757567,1.0917613047411088,1.0906602876822205,1.0894905531690786,1.0882521749012377,1.0869452309031782,1.085569803519389,1.084125979409181,1.0826138495412254,1.081033509187823,1.079385057918901,1.077668599595741,1.0758842423644333,1.0740320986490646,1.0721122851446334,1.0701249228096987,1.0680701368587588,1.0659480567543613,1.0637588161989466,1.0615025531264246,1.059179409693484,1.0567895322706342,1.0543330714329853,1.0518101819507595,1.0492210227795404,1.0465657570502582,1.0438445520589106,1.041057579256023,1.0382050142358463,1.0352870367252933,1.032303830572615,1.0292555837358164,1.0261424882708154,1.0229647403193418,1.019722540096579,1.0164160918785492,1.013045603989244,1.0096112887874973,1.006113362653607,1.0025520459757011,0.9989275631358523,0.9952401424959406,0.9914900163832654,0.9876774210759073,0.9838025967878421,0.9798657876538049,0.9758672417139094,0.9718072108980192,0.9676859510098758,0.9635037217109804,0.9592607865042343,0.9549574127173378,0.9505938714859458,0.9461704377365847,0.941687390169332],\"type\":\"scatter\"},{\"hoverinfo\":\"text\",\"line\":{\"color\":\"rgba(254,224,139,0.75)\",\"shape\":\"spline\",\"width\":0.25},\"mode\":\"lines\",\"text\":\"Pine St & 9th Ave<br>1614 partidas\",\"x\":[-0.5685292709878537,-0.572263309619458,-0.5759883287272445,-0.5797042696006544,-0.5834110736722126,-0.5871086825184502,-0.5907970378608258,-0.5944760815666436,-0.5981457556499699,-0.6018060022725468,-0.6054567637447045,-0.6090979825262691,-0.6127296012274713,-0.6163515626098497,-0.6199638095871531,-0.6235662852262407,-0.627158932747979,-0.6307416955281367,-0.6343145170982778,-0.6378773411466508,-0.6414301115190766,-0.6449727722198335,-0.6485052674125399,-0.6520275414210343,-0.6555395387302522,-0.6590412039871023,-0.6625324820013381,-0.6660133177464272,-0.6694836563604208,-0.6729434431468156,-0.6763926235754174,-0.6798311432832005,-0.6832589480751645,-0.6866759839251879,-0.6900821969768804,-0.6934775335444312,-0.6968619401134554,-0.7002353633418371,-0.703597750060571,-0.7069490472745991,-0.710289202163647,-0.7136181620830564,-0.716935874564614,-0.7202422873173789,-0.7235373482285077,-0.7268210053640739,-0.7300932069698883,-0.7333539014723137,-0.7366030374790778,-0.7398405637800837,-0.7430664293482165,-0.7462805833401482,-0.7494829750971381,-0.752673554145832,-0.7558522701990575,-0.7590190731566167,-0.7621739131060752,-0.7653167403235499,-0.7684475052744918,-0.7715661586144669,-0.7746726511899342,-0.7777669340390203,-0.7808489583922908,-0.7839186756735195,-0.7869760375004532,-0.7900209956855757,-0.7930535022368654,-0.7960735093585534,-0.7990809694518755,-0.8020758351158234,-0.8050580591478914,-0.8080275945448203,-0.810984394503338,-0.8139284124208982,-0.8168596018964129,-0.8197779167309867,-0.8226833109286421,-0.8255757386970457,-0.8284551544482301,-0.8313215127993122,-0.8341747685732083,-0.837014876799346,-0.839841792714374,-0.8426554717628663,-0.8454558695980254,-0.8482429420823806,-0.8510166452884841,-0.8537769354996033,-0.8565237692104098,-0.8592571031276647,-0.8619768941709014,-0.8646830994731044,-0.8673756763813855,-0.870054582457655,-0.8727197754792914,-0.8753712134398062,-0.8780088545495072,-0.8806326572361556,-0.8832425801456223,-0.8858385821425393],\"y\":[0.9416870329520418,0.9394225377663582,0.9371432362077826,0.9348491642007132,0.9325403579023465,0.9302168537021085,0.9278786882210811,0.9255258983114246,0.9231585210557972,0.9207765937667701,0.9183801539862397,0.915969239484836,0.9135438882613272,0.9111041385420202,0.9086500287801593,0.9061815976553192,0.9036988840727957,0.9012019271629924,0.898690766280804,0.8961654410049962,0.8936259911375817,0.8910724567031926,0.8885048779484502,0.8859232953413302,0.8833277495705251,0.8807182815448029,0.878094932392362,0.8754577434601837,0.872806756313379,0.8701420127345356,0.867463554723058,0.8647714244945057,0.862065664479928,0.8593463173251953,0.8566134258903266,0.8538670332488147,0.8511071826869464,0.8483339177031209,0.845547282007164,0.8427473195196393,0.8399340743711555,0.837107590901672,0.8342679136597981,0.8314150874020932,0.8285491570923595,0.8256701679009342,0.8227781652039776,0.8198731945827575,0.8169553018229312,0.8140245329138233,0.8110809340477015,0.8081245516190486,0.8051554322238301,0.8021736226587617,0.7991791699205698,0.7961721212052522,0.7931525239073334,0.790120425619118,0.7870758741299406,0.7840189174254123,0.7809496036866647,0.7778679812895903,0.7747740988040803,0.7716680049932585,0.7685497488127138,0.7654193794097272,0.7622769461224983,0.7591224984793676,0.7559560861980351,0.7527777591847773,0.7495875675336607,0.7463855615257518,0.7431717916283249,0.7399463084940667,0.7367091629602783,0.7334604060480726,0.7302000889615718,0.7269282630870996,0.7236449799923712,0.7203502914256807,0.7170442493150857,0.7137269057675883,0.7103983130683144,0.7070585236796891,0.7037075902406106,0.7003455655656194,0.6969725026440674,0.6935884546392812,0.6901934748877251,0.6867876168981601,0.6833709343508011,0.67994348109647,0.6765053111557471,0.6730564787181205,0.6695970381411313,0.6661270439495167,0.6626465508343513,0.6591556136521844,0.6556542874241761,0.6521426273352293],\"type\":\"scatter\"},{\"hoverinfo\":\"text\",\"line\":{\"color\":\"rgba(255,255,191,0.75)\",\"shape\":\"spline\",\"width\":0.25},\"mode\":\"lines\",\"text\":\"E Pine St & 16th Ave<br>439 partidas\",\"x\":[-0.8858389918956617,-0.8865426744425583,-0.8872453232617773,-0.8879469375340148,-0.8886475164411742,-0.8893470591663656,-0.8900455648939067,-0.8907430328093255,-0.8914394620993588,-0.8921348519519559,-0.8928292015562771,-0.8935225101026959,-0.8942147767827999,-0.894906000789391,-0.8955961813164877,-0.8962853175593246,-0.8969734087143542,-0.8976604539792474,-0.8983464525528946,-0.8990314036354073,-0.8997153064281176,-0.9003981601335804,-0.9010799639555737,-0.9017607170990993,-0.9024404187703849,-0.903119068176884,-0.9037966645272767,-0.904473207031471,-0.9051486949006039,-0.9058231273470426,-0.9064965035843842,-0.9071688228274576,-0.9078400842923242,-0.9085102871962786,-0.9091794307578503,-0.9098475141968037,-0.9105145367341388,-0.9111804975920935,-0.9118453959941427,-0.9125092311650014,-0.9131720023306231,-0.9138337087182026,-0.9144943495561764,-0.9151539240742225,-0.9158124315032635,-0.9164698710754658,-0.9171262420242404,-0.9177815435842452,-0.9184357749913838,-0.9190889354828095,-0.9197410242969225,-0.9203920406733735,-0.9210419838530636,-0.9216908530781451,-0.9223386475920227,-0.9229853666393542,-0.9236310094660511,-0.9242755753192803,-0.9249190634474643,-0.9255614731002825,-0.9262028035286709,-0.926843053984825,-0.9274822237221987,-0.9281203119955069,-0.9287573180607248,-0.9293932411750899,-0.930028080597102,-0.9306618355865248,-0.931294505404387,-0.9319260893129815,-0.9325565865758683,-0.9331859964578739,-0.9338143182250929,-0.934441551144889,-0.9350676944858952,-0.935692747518015,-0.9363167095124231,-0.9369395797415662,-0.9375613574791649,-0.9381820420002128,-0.9388016325809786,-0.9394201284990066,-0.9400375290331167,-0.9406538334634074,-0.9412690410712544,-0.9418831511393124,-0.9424961629515162,-0.9431080757930803,-0.9437188889505019,-0.9443286017115599,-0.9449372133653158,-0.9455447232021157,-0.9461511305135896,-0.9467564345926545,-0.9473606347335123,-0.947963730231653,-0.9485657203838544,-0.9491666044881828,-0.949766381843995,-0.9503650517519376],\"y\":[0.6521420707463044,0.6511851398736278,0.6502274497051818,0.6492690013576534,0.6483097959486137,0.6473498345965165,0.6463891184206975,0.6454276485413722,0.6444654260796354,0.6435024521574584,0.6425387278976894,0.6415742544240517,0.6406090328611419,0.6396430643344293,0.638676349970253,0.6377088908958232,0.6367406882392175,0.635771743129381,0.6348020566961249,0.6338316300701232,0.6328604643829148,0.6318885607668993,0.6309159203553372,0.6299425442823484,0.6289684336829093,0.6279935896928542,0.6270180134488718,0.626041706088505,0.625064668750149,0.6240869025730501,0.6231084086973042,0.6221291882638565,0.621149242414499,0.6201685722918694,0.6191871790394496,0.6182050638015653,0.6172222277233839,0.6162386719509131,0.6152543976310005,0.6142694059113301,0.6132836979404236,0.6122972748676375,0.6113101378431623,0.6103222880180214,0.6093337265440675,0.608344454573985,0.6073544732612862,0.6063637837603104,0.6053723872262232,0.604380284815013,0.6033874776834932,0.6023939669892977,0.6013997538908818,0.6004048395475184,0.5994092251192993,0.598412911767132,0.5974159006527391,0.5964181929386575,0.5954197897882345,0.5944206923656303,0.5934209018358135,0.5924204193645615,0.5914192461184583,0.5904173832648927,0.5894148319720584,0.5884115934089517,0.58740766874537,0.5864030591519116,0.5853977657999717,0.5843917898617442,0.5833851325102187,0.5823777949191788,0.5813697782632025,0.5803610837176576,0.5793517124587039,0.5783416656632898,0.5773309445091516,0.576319550174812,0.5753074838395775,0.5742947466835396,0.5732813398875715,0.572267264633327,0.57125252210324,0.5702371134805209,0.5692210399491584,0.5682043026939159,0.5671869029003308,0.5661688417547134,0.5651501204441438,0.5641307401564732,0.5631107020803209,0.5620900074050729,0.5610686573208813,0.5600466530186615,0.5590239956900928,0.5580006865276153,0.5569767267244291,0.555952117474494,0.5549268599725253,0.5539009554139956],\"type\":\"scatter\"},{\"hoverinfo\":\"text\",\"line\":{\"color\":\"rgba(230,245,152,0.75)\",\"shape\":\"spline\",\"width\":0.25},\"mode\":\"lines\",\"text\":\"Pier 69<br>7898 partidas\",\"x\":[-0.9503653997779844,-0.9609460739938724,-0.9711640863047708,-0.9810155804237246,-0.9904968383880708,-0.9996042819626009,-1.0083344739899915,-1.016684119687988,-1.024650067892861,-1.032229312248656,-1.0394189923417967,-1.0462163947806065,-1.052618954219345,-1.0586242543263724,-1.0642300286960749,-1.0694341617042074,-1.074234689306334,-1.0786297997790575,-1.0826178344037674,-1.0861972880926414,-1.089366809956666,-1.0921252038154643,-1.094471428648735,-1.096404598989134,-1.0979239852564522,-1.099029014032957,-1.0997192682798036,-1.0999944874944236,-1.0998545678088403,-1.0992995620288677,-1.0983296796141817,-1.0969452865992704,-1.0951469054552918,-1.0929352148928928,-1.0903110496060635,-1.0872753999571223,-1.083829411602953,-1.0799743850626327,-1.075711775226614,-1.0710431908076496,-1.0659703937336606,-1.0604952984827853,-1.0546199713608524,-1.0483466297215553,-1.0416776411296214,-1.0346155224672902,-1.0271629389844408,-1.0193227032927235,-1.0110977743040779,-1.0024912561140367,-0.9935063968302368,-0.9841465873465822,-0.9744153600635159,-0.9643163875548902,-0.9538534811819324,-0.9430305896548354,-0.9318517975425096,-0.9203213237310639,-0.9084435198315945,-0.8962228685378811,-0.883663981934617,-0.8707715997568019,-0.8575505876009631,-0.8440059350888746,-0.8301427539844692,-0.8159662762646547,-0.80148185214476,-0.7866949480593607,-0.771611144599241,-0.7562361344052742,-0.7405757200200129,-0.7246358116978082,-0.7084224251742699,-0.6919416793959265,-0.6751997942109278,-0.6582030880216658,-0.6409579754002098,-0.6234709646674365,-0.6057486554367858,-0.5877977361235603,-0.5696249814207122,-0.5512372497420673,-0.5326414806339519,-0.5138446921562061,-0.49485397823355826,-0.4756765059783736,-0.4563195129857757,-0.43679030460217727,-0.4170962511682322,-0.39724478523726325,-0.37724339877021,-0.35709964030815594,-0.3368211121235033,-0.31641546735086507,-0.2958904070987706,-0.27525367754325664,-0.2545130670044557,-0.233676403007273,-0.21275154932727755,-0.19174640302290222],\"y\":[0.5539003582819135,0.5353341413320873,0.5165658888000833,0.49760268384113737,0.47845168318570713,0.45912011443851286,0.4396152733508328,0.41994452106708224,0.40011528134670843,0.38013503776245966,0.36001133087607695,0.3397517553924783,0.319363957293513,0.29885563095235823,0.2782345162296582,0.2575083955524931,0.23668509097728238,0.21577246123773683,0.1947783987789638,0.1737108267788501,0.15257769615785036,0.13138698257830111,0.11014668343439749,0.08886481483397264,0.06754940857320778,0.04620850910542843,0.024850170505119226,0.003482453428307471,-0.017886577929532178,-0.03924885887691618,-0.06059632726997046,-0.08192092655509264,-0.10321460880950159,-0.12446933777853207,-0.1456770919085235,-0.16682986737416042,-0.18791968109912488,-0.20893857376891542,-0.22987861283470146,-0.25073189550707103,-0.2714905517385543,-0.292146747193783,-0.31269268620617735,-0.3331206147200387,-0.35342282321693386,-0.373591649625278,-0.3936194822120042,-0.41349876245523964,-0.43322198789689814,-0.4527817149741156,-0.4721705618284565,-0.4913812110918328,-0.5104064126480865,-0.5292389863691892,-0.5478718248250307,-0.5662978959657661,-0.5845102457757211,-0.6025020008978413,-0.6202663712277038,-0.6377966524761101,-0.6550862286992888,-0.6721285747957604,-0.688917258968915,-0.7054459451543788,-0.7217083954112499,-0.7376984722763044,-0.7534101410802787,-0.7688374722253591,-0.7839746434230187,-0.7988159418913523,-0.8133557665110881,-0.8275886299394518,-0.841509160681098,-0.8551121051153147,-0.8683923294787449,-0.881344821802876,-0.8939646938055574,-0.9062471827358451,-0.9181876531714671,-0.9297815987682363,-0.9410246439607485,-0.951912545613725,-0.9624411946233763,-0.9726066174681797,-0.9824049777084913,-0.991832577434421,-1.0008858586614284,-1.0095614046731072,-1.0178559413106587,-1.0257663382085616,-1.033289609975974,-1.0404229173234247,-1.0471635681343612,-1.0535090184811584,-1.0594568735851988,-1.0650048887206636,-1.0701509700616945,-1.074893175472606,-1.0792297152408485,-1.0831589527524474],\"type\":\"scatter\"},{\"hoverinfo\":\"text\",\"line\":{\"color\":\"rgba(171,221,164,0.75)\",\"shape\":\"spline\",\"width\":0.25},\"mode\":\"lines\",\"text\":\"Burke-Gilman Trail<br>941 partidas\",\"x\":[-0.19174572245402285,-0.1892381092066327,-0.1867294821228486,-0.1842198546425504,-0.18170924021097742,-0.17919765227865758,-0.17668510430133133,-0.1741716097398854,-0.17165718206027705,-0.1691418347334624,-0.16662558123532473,-0.16410843504660205,-0.161590409652815,-0.1590715185441953,-0.15655177521561006,-0.1540311931664948,-0.15150978590077765,-0.14898756692680779,-0.14646454975728299,-0.1439407479091774,-0.14141617490366906,-0.13889084426606846,-0.13636476952574203,-0.1338379642160458,-0.1313104418742487,-0.12878221604146114,-0.12625330026256257,-0.12372370808612868,-0.12119345306435894,-0.11866254875300504,-0.11613100871129424,-0.11359884650186265,-0.11106607569067864,-0.10853270984697112,-0.1059987625431569,-0.10346424735476792,-0.10092917786037854,-0.09839356764153281,-0.09585743028267267,-0.09332077937106123,-0.0907836284967159,-0.08824599125233165,-0.08570788123320915,-0.08316931203718193,-0.08063029726454357,-0.07809085051797479,-0.0755509854024716,-0.07301071552526844,-0.07047005449577118,-0.06792901592548033,-0.06538761342791904,-0.06284586061856019,-0.06030377111475343,-0.05776135853565226,-0.055218636502142,-0.052675618636762955,-0.05013231856364326,-0.047588749908421976,-0.0450449262981771,-0.04250086136135253,-0.03995656872768508,-0.03741206202813141,-0.03486735489479507,-0.03232246096085437,-0.029777393860485488,-0.027232167228795255,-0.024686794701744213,-0.022141289916074534,-0.01959566650923696,-0.01704993811931773,-0.014504118384965547,-0.011958220945319451,-0.00941225943993186,-0.006866247508701349,-0.004320198791795675,-0.0017741269295796693,0.0007719544374578339,0.00331803166877708,0.0058640911238604715,0.008410119162284669,0.010956102143797579,0.013502026428385563,0.01604787837635044,0.018593644348381542,0.02113931070562885,0.023684863809775997,0.026230290023113383,0.028775575708610234,0.03132070722999159,0.03386567095180548,0.0364104532394999,0.03895504045949486,0.041499418979255444,0.04404357516736485,0.04658749539359738,0.04913116602899154,0.05167457344592199,0.054217704018176514,0.05676054412102318,0.05930308013128717],\"y\":[-1.083159073230052,-1.08359998985968,-1.0840351011411635,-1.0844644047434095,-1.0848878983664394,-1.0853055797414004,-1.0857174466305806,-1.0861234968274176,-1.0865237281565117,-1.086918138473638,-1.0873067256657574,-1.087689487651028,-1.0880664223788157,-1.088437527829707,-1.0888028020155172,-1.0891622429793029,-1.0895158487953724,-1.0898636175692948,-1.0902055474379115,-1.0905416365693457,-1.0908718831630115,-1.0911962854496247,-1.091514841691212,-1.0918275501811194,-1.0921344092440224,-1.0924354172359345,-1.0927305725442167,-1.0930198735875842,-1.0933033188161176,-1.093580906711269,-1.093852635785871,-1.0941185045841453,-1.094378511681709,-1.0946326556855834,-1.0948809352342015,-1.095123348997414,-1.0953598956764978,-1.095590574004163,-1.0958153827445583,-1.0960343206932792,-1.0962473866773734,-1.0964545795553473,-1.0966558982171728,-1.0968513415842924,-1.0970409086096249,-1.0972245982775721,-1.097402409604023,-1.0975743416363597,-1.0977403934534626,-1.0979005641657154,-1.0980548529150085,-1.0982032588747461,-1.0983457812498483,-1.0984824192767566,-1.0986131722234376,-1.0987380393893873,-1.098857020105634,-1.098970113734743,-1.099077319670819,-1.0991786373395107,-1.0992740661980114,-1.0993636057350649,-1.0994472554709664,-1.0995250149575653,-1.099596883778268,-1.0996628615480397,-1.099722947913407,-1.0997771425524594,-1.0998254451748508,-1.099867855521802,-1.099904373366101,-1.0999349985121043,-1.0999597307957394,-1.0999785700845037,-1.0999915162774665,-1.0999985693052687,-1.0999997291301242,-1.0999949957458193,-1.099984369177713,-1.0999678494827367,-1.099945436749394,-1.0999171310977602,-1.0998829326794821,-1.0998428416777764,-1.0997968583074291,-1.0997449828147945,-1.0996872154777937,-1.0996235566059134,-1.0995540065402032,-1.0994785656532755,-1.0993972343493021,-1.0993100130640125,-1.0992169022646916,-1.0991179024501772,-1.099013014150857,-1.0989022379286666,-1.0987855743770858,-1.098663024121135,-1.0985345878173731,-1.0984002661538927],\"type\":\"scatter\"},{\"hoverinfo\":\"text\",\"line\":{\"color\":\"rgba(102,194,165,0.75)\",\"shape\":\"spline\",\"width\":0.25},\"mode\":\"lines\",\"text\":\"Seattle Aquarium<br>4733 partidas\",\"x\":[0.059303770276516635,0.07208703730553756,0.08486053404549766,0.09762252924539537,0.11037129321308886,0.12310509804972336,0.13582221788392523,0.14852092910571618,0.1611995106001223,0.17385624398044355,0.18648941382115852,0.1990973078904184,0.21167821738211715,0.22423043714749338,0.23675226592623666,0.24924200657706636,0.26169796630775694,0.27411845690456405,0.28650179496103984,0.29884630210619184,0.3111503052319601,0.32341213671998087,0.3356301346676099,0.347802643113162,0.35992801226035565,0.37200459870191577,0.3840307656423128,0.3960048831196042,0.407925328226354,0.41979048532958796,0.43159874628977113,0.44334851067876546,0.45503818599674256,0.46666618788802594,0.47823094035582087,0.4897308759758197,0.5011644361086418,0.5125300711110826,0.5238262405461441,0.535051413391817,0.5462040682485897,0.5572826935456461,0.5682857877457392,0.5792118595487001,0.5900594280935605,0.6008270231592636,0.611513185363925,0.6221164663626328,0.6326354290437478,0.6430686477236818,0.6534147083401262,0.6636722086437092,0.6738397583880457,0.6839159795181652,0.6938995063572865,0.7037889857919135,0.7135830774552288,0.7232804539087616,0.732879800822299,0.7423798171520237,0.7517792153168523,0.7610767213729448,0.7702710751863713,0.7793610306038996,0.7883453556218949,0.7972228325532985,0.805992258192666,0.8146524439792433,0.8232022161580582,0.8316404159390061,0.8399658996539026,0.8481775389114932,0.8562742207503883,0.8642548477899076,0.8721183383788154,0.8798636267419182,0.887489663124517,0.8949954139346841,0.9023798618833508,0.9096420061221853,0.9167808623792435,0.9237954630923694,0.9306848575403354,0.9374481119716968,0.9440843097313484,0.9505925513847614,0.9569719548398911,0.9632216554667264,0.9693408062144809,0.9753285777263956,0.9811841584521459,0.9869067547578361,0.9924955910335617,0.9979499097985332,1.0032689718037406,1.008452056132147,1.0134984602963986,1.018407500334034,1.0231785109001885,1.0278108453577668],\"y\":[-1.0984002288924517,-1.097635394405861,-1.0967217923254342,-1.0956595464758805,-1.0944488008282847,-1.0930897194805962,-1.0915824866353856,-1.0899273065748811,-1.08812440363328,-1.0861740221663436,-1.0840764265182787,-1.08183190098591,-1.0794407497801486,-1.0769032969847592,-1.0742198865124368,-1.0713908820581952,-1.0684166670500719,-1.0652976445971618,-1.0620342374349814,-1.0586268878681737,-1.0550760577105607,-1.0513822282225511,-1.047545900045913,-1.0435675931359207,-1.0394478466908812,-1.0351872190790548,-1.0307862877629772,-1.0262456492211933,-1.0215659188674129,-1.0167477309671014,-1.0117917385515154,-1.0066986133291933,-1.0014690455949171,-0.9961037441361507,-0.9906034361369778,-0.984968867079542,-0.9792008006430077,-0.9733000186000558,-0.967267320710926,-0.9611035246150225,-0.9548094657200934,-0.9483859970890068,-0.9418339893241298,-0.9351543304493313,-0.9283479257896257,-0.9214156978484672,-0.9143585861827219,-0.9071775472753233,-0.8998735544056361,-0.8924475975175435,-0.884900683085276,-0.8772338339769968,-0.869448089316171,-0.8615445043407269,-0.8535241502600348,-0.8453881141097205,-0.8371374986043364,-0.8287734219879013,-0.8202970178823447,-0.8117094351338587,-0.8030118376571904,-0.7942054042778915,-0.7852913285725442,-0.7762708187069945,-0.7671450972726008,-0.7579154011205311,-0.7485829811941274,-0.7391491023593588,-0.7296150432333901,-0.7199820960112807,-0.7102515662908532,-0.7004247728957355,-0.6905030476966162,-0.6804877354307305,-0.6703801935195984,-0.6601817918850523,-0.6498939127635612,-0.6395179505188917,-0.6290553114531224,-0.6185074136160426,-0.6078756866129545,-0.5971615714109163,-0.5863665201434389,-0.5754919959136714,-0.5645394725961008,-0.5535104346367915,-0.5424063768521881,-0.5312288042265209,-0.5199792317078253,-0.5086591840026152,-0.49727019536923217,-0.4858138094098979,-0.47429157886150725,-0.46270506538517575,-0.4510558393545808,-0.43934547964312204,-0.42757557340992897,-0.41574771588474724,-0.40386351015172595,-0.3919245669321498],\"type\":\"scatter\"},{\"hoverinfo\":\"text\",\"line\":{\"color\":\"rgba(50,136,189,0.75)\",\"shape\":\"spline\",\"width\":0.25},\"mode\":\"lines\",\"text\":\"Lake Union Park<br>1496 partidas\",\"x\":[1.027811091611032,1.0292463244509396,1.0306676204888685,1.0320749604793564,1.0334683253659172,1.0348476962812974,1.0362130545477342,1.037564381677206,1.0389016593716844,1.0402248695233818,1.041533994214995,1.0428290157199493,1.0441099165026393,1.0453766792186638,1.0466292867150626,1.0478677220305488,1.0490919683957376,1.0503020092333732,1.0514978281585543,1.0526794089789555,1.0538467356950463,1.0549997925003076,1.0561385637814473,1.057263034118609,1.058373188285583,1.0594690112500118,1.0605504881735939,1.0616176044122834,1.0626703455164905,1.0637086972312755,1.0647326454965418,1.065742176447228,1.066737276413493,1.0677179319209038,1.068684129690616,1.0696358566395545,1.0705730998805902,1.0714958467227156,1.0724040846712146,1.0732978014278334,1.0741769848909473,1.0750416231557225,1.075891704514279,1.0767272174558495,1.0775481506669338,1.0783544930314521,1.0791462336308975,1.0799233617444812,1.08068586684928,1.0814337386203763,1.0821669669310008,1.082885541852667,1.0835894536553077,1.0842786928074049,1.0849532499761205,1.0856131160274216,1.0862582820262048,1.0868887392364164,1.0875044791211719,1.0881054933428709,1.0886917737633093,1.0892633124437905,1.0898201016452334,1.0903621338282756,1.0908894016533761,1.0914018979809155,1.0918996158712921,1.0923825485850152,1.0928506895827974,1.0933040325256427,1.093742571274932,1.0941662998925075,1.0945752126407513,1.094969303982664,1.0953485685819404,1.0957130013030403,1.096062597211259,1.0963973515727938,1.0967172598548085,1.097022317725494,1.097312521054128,1.0975878659111293,1.0978483485681132,1.0980939654979402,1.0983247133747647,1.0985405890740794,1.0987415896727581,1.0989277124490953,1.099098954882843,1.0992553146552435,1.0993967896490637,1.0995233779486213,1.0996350778398112,1.0997318878101292,1.0998138065486929,1.0998808329462582,1.0999329660952348,1.0999702052896994,1.0999925500254037,1.099999999999783],\"y\":[-0.39192392113947233,-0.38813915494862333,-0.38434913304938545,-0.38055390676162393,-0.3767535274756785,-0.37294804665166437,-0.36913751581877297,-0.3653219865745794,-0.3615015105843413,-0.35767613958029626,-0.35384592536096704,-0.3500109197904572,-0.34617117479774645,-0.3423267423759924,-0.33847767458182443,-0.3346240235346356,-0.3307658414158826,-0.3269031804683754,-0.3230360929955718,-0.3191646313608654,-0.31528884798688234,-0.3114087953547682,-0.3075245260034751,-0.30363609252905555,-0.29974354758394756,-0.2958469438762588,-0.29194633416905885,-0.2880417712796613,-0.28413330807890624,-0.2802209974904501,-0.2763048924900455,-0.27238504610482195,-0.26846151141257285,-0.2645343415410342,-0.26060358966716246,-0.25666930901641993,-0.25273155286205123,-0.24879037452435945,-0.2448458273699893,-0.2408979648112021,-0.23694684030514931,-0.2329925073531548,-0.22903501949998709,-0.22507443033313182,-0.2211107934820716,-0.2171441626175572,-0.21317459145087772,-0.20920213373313915,-0.20522684325453264,-0.20124877384360823,-0.19726797936654183,-0.19328451372641292,-0.18929843086246662,-0.18530978474939022,-0.18131862939657847,-0.17732501884740423,-0.17332900717848262,-0.16933064849894483,-0.1653299969497023,-0.1613271067027109,-0.15732203196024303,-0.15331482695415102,-0.14930554594512957,-0.14529424322198714,-0.1412809731009077,-0.1372657899247124,-0.1332487480621296,-0.1292299019070558,-0.125209305877816,-0.12118701441643288,-0.11716308198788652,-0.1131375630793741,-0.10911051219957794,-0.1050819838779244,-0.10105203266384263,-0.09702071312603183,-0.09298807985171936,-0.08895418744591865,-0.0849190905306957,-0.08088284374442654,-0.07684550174105438,-0.07280711918935547,-0.06876775077219592,-0.06472745118578829,-0.06068627513895684,-0.05664427735239279,-0.052601512557915356,-0.048558035497726706,-0.04451390092367658,-0.04046916359651797,-0.036423878285162685,-0.032378099765945585,-0.02833188282187999,-0.02428528224191286,-0.02023835282018885,-0.01619114935530537,-0.012143726649567671,-0.008096139508252621,-0.004048442738863676,-6.91150385814946e-07],\"type\":\"scatter\"},{\"hoverinfo\":\"text\",\"marker\":{\"color\":\"rgba(213,62,79,0.75)\",\"size\":0.5},\"mode\":\"markers\",\"text\":\"2nd Ave & Pine St \\u2b8c : 427 viagens \",\"x\":[0.8519800151309099],\"y\":[0.29005181229831073],\"type\":\"scatter\"},{\"hoverinfo\":\"text\",\"marker\":{\"color\":\"rgba(213,62,79,0.75)\",\"size\":0.5},\"mode\":\"markers\",\"text\":\"2nd Ave & Pine St \\u2794 King Street Station Plaza: 199 viagens \",\"x\":[0.8961393236072176],\"y\":[0.08327252058631668],\"type\":\"scatter\"},{\"hoverinfo\":\"text\",\"marker\":{\"color\":\"rgba(244,109,67,0.75)\",\"size\":0.5},\"mode\":\"markers\",\"text\":\"King Street Station Plaza \\u2794 2nd Ave & Pine St: 384 viagens \",\"x\":[0.45006350025482367],\"y\":[0.7793861980676694],\"type\":\"scatter\"},{\"hoverinfo\":\"text\",\"marker\":{\"color\":\"rgba(213,62,79,0.75)\",\"size\":0.5},\"mode\":\"markers\",\"text\":\"2nd Ave & Pine St \\u2794 3rd Ave & Broad St: 1101 viagens \",\"x\":[0.7139126558056108],\"y\":[0.5480225541714313],\"type\":\"scatter\"},{\"hoverinfo\":\"text\",\"marker\":{\"color\":\"rgba(253,174,97,0.75)\",\"size\":0.5},\"mode\":\"markers\",\"text\":\"3rd Ave & Broad St \\u2794 2nd Ave & Pine St: 962 viagens \",\"x\":[-0.37193281204115813],\"y\":[0.81955230664501],\"type\":\"scatter\"},{\"hoverinfo\":\"text\",\"marker\":{\"color\":\"rgba(213,62,79,0.75)\",\"size\":0.5},\"mode\":\"markers\",\"text\":\"2nd Ave & Pine St \\u2794 Pine St & 9th Ave: 344 viagens \",\"x\":[0.8754173933702512],\"y\":[0.2089123916497895],\"type\":\"scatter\"},{\"hoverinfo\":\"text\",\"marker\":{\"color\":\"rgba(254,224,139,0.75)\",\"size\":0.5},\"mode\":\"markers\",\"text\":\"Pine St & 9th Ave \\u2794 2nd Ave & Pine St: 158 viagens \",\"x\":[-0.5405174097006477],\"y\":[0.7196116520808306],\"type\":\"scatter\"},{\"hoverinfo\":\"text\",\"marker\":{\"color\":\"rgba(213,62,79,0.75)\",\"size\":0.5},\"mode\":\"markers\",\"text\":\"2nd Ave & Pine St \\u2794 E Pine St & 16th Ave: 577 viagens \",\"x\":[0.8102530104236265],\"y\":[0.39177807378597723],\"type\":\"scatter\"},{\"hoverinfo\":\"text\",\"marker\":{\"color\":\"rgba(255,255,191,0.75)\",\"size\":0.5},\"mode\":\"markers\",\"text\":\"E Pine St & 16th Ave \\u2794 2nd Ave & Pine St: 53 viagens \",\"x\":[-0.7352233838419746],\"y\":[0.519082436470313],\"type\":\"scatter\"},{\"hoverinfo\":\"text\",\"marker\":{\"color\":\"rgba(213,62,79,0.75)\",\"size\":0.5},\"mode\":\"markers\",\"text\":\"2nd Ave & Pine St \\u2794 Pier 69: 310 viagens \",\"x\":[0.8892614233128762],\"y\":[0.13861501003700027],\"type\":\"scatter\"},{\"hoverinfo\":\"text\",\"marker\":{\"color\":\"rgba(230,245,152,0.75)\",\"size\":0.5},\"mode\":\"markers\",\"text\":\"Pier 69 \\u2794 2nd Ave & Pine St: 384 viagens \",\"x\":[-0.8159366645587975],\"y\":[0.3797991040387856],\"type\":\"scatter\"},{\"hoverinfo\":\"text\",\"marker\":{\"color\":\"rgba(213,62,79,0.75)\",\"size\":0.5},\"mode\":\"markers\",\"text\":\"2nd Ave & Pine St \\u2794 Burke-Gilman Trail: 9 viagens \",\"x\":[0.8999994596317783],\"y\":[0.0009862365370952157],\"type\":\"scatter\"},{\"hoverinfo\":\"text\",\"marker\":{\"color\":\"rgba(171,221,164,0.75)\",\"size\":0.5},\"mode\":\"markers\",\"text\":\"Burke-Gilman Trail \\u2794 2nd Ave & Pine St: 1 viagens \",\"x\":[-0.15677495870490119],\"y\":[-0.886240154993598],\"type\":\"scatter\"},{\"hoverinfo\":\"text\",\"marker\":{\"color\":\"rgba(213,62,79,0.75)\",\"size\":0.5},\"mode\":\"markers\",\"text\":\"2nd Ave & Pine St \\u2794 Seattle Aquarium: 137 viagens \",\"x\":[0.8987952809651608],\"y\":[0.046551508189934775],\"type\":\"scatter\"},{\"hoverinfo\":\"text\",\"marker\":{\"color\":\"rgba(102,194,165,0.75)\",\"size\":0.5},\"mode\":\"markers\",\"text\":\"Seattle Aquarium \\u2794 2nd Ave & Pine St: 158 viagens \",\"x\":[0.10093133769535471],\"y\":[-0.8943225732760112],\"type\":\"scatter\"},{\"hoverinfo\":\"text\",\"marker\":{\"color\":\"rgba(213,62,79,0.75)\",\"size\":0.5},\"mode\":\"markers\",\"text\":\"2nd Ave & Pine St \\u2794 Lake Union Park: 135 viagens \",\"x\":[0.8998438380845306],\"y\":[0.016765054765819055],\"type\":\"scatter\"},{\"hoverinfo\":\"text\",\"marker\":{\"color\":\"rgba(50,136,189,0.75)\",\"size\":0.5},\"mode\":\"markers\",\"text\":\"Lake Union Park \\u2794 2nd Ave & Pine St: 105 viagens \",\"x\":[0.8626315881208643],\"y\":[-0.25664516978909957],\"type\":\"scatter\"},{\"hoverinfo\":\"text\",\"marker\":{\"color\":\"rgba(244,109,67,0.75)\",\"size\":0.5},\"mode\":\"markers\",\"text\":\"King Street Station Plaza \\u2b8c : 185 viagens \",\"x\":[0.5925079197760023],\"y\":[0.6774469462642182],\"type\":\"scatter\"},{\"hoverinfo\":\"text\",\"marker\":{\"color\":\"rgba(244,109,67,0.75)\",\"size\":0.5},\"mode\":\"markers\",\"text\":\"King Street Station Plaza \\u2794 3rd Ave & Broad St: 301 viagens \",\"x\":[0.513427580152988],\"y\":[0.7391834142743242],\"type\":\"scatter\"},{\"hoverinfo\":\"text\",\"marker\":{\"color\":\"rgba(253,174,97,0.75)\",\"size\":0.5},\"mode\":\"markers\",\"text\":\"3rd Ave & Broad St \\u2794 King Street Station Plaza: 179 viagens \",\"x\":[0.1602268153254117],\"y\":[0.8856225875906036],\"type\":\"scatter\"},{\"hoverinfo\":\"text\",\"marker\":{\"color\":\"rgba(244,109,67,0.75)\",\"size\":0.5},\"mode\":\"markers\",\"text\":\"King Street Station Plaza \\u2794 Pine St & 9th Ave: 65 viagens \",\"x\":[0.6241547352341977],\"y\":[0.6484064053390656],\"type\":\"scatter\"},{\"hoverinfo\":\"text\",\"marker\":{\"color\":\"rgba(254,224,139,0.75)\",\"size\":0.5},\"mode\":\"markers\",\"text\":\"Pine St & 9th Ave \\u2794 King Street Station Plaza: 42 viagens \",\"x\":[-0.4761815816571558],\"y\":[0.7637087804199252],\"type\":\"scatter\"},{\"hoverinfo\":\"text\",\"marker\":{\"color\":\"rgba(244,109,67,0.75)\",\"size\":0.5},\"mode\":\"markers\",\"text\":\"King Street Station Plaza \\u2794 E Pine St & 16th Ave: 71 viagens \",\"x\":[0.6133326743888384],\"y\":[0.6586524353003145],\"type\":\"scatter\"},{\"hoverinfo\":\"text\",\"marker\":{\"color\":\"rgba(255,255,191,0.75)\",\"size\":0.5},\"mode\":\"markers\",\"text\":\"E Pine St & 16th Ave \\u2794 King Street Station Plaza: 26 viagens \",\"x\":[-0.7301964973404718],\"y\":[0.5261302835531392],\"type\":\"scatter\"},{\"hoverinfo\":\"text\",\"marker\":{\"color\":\"rgba(244,109,67,0.75)\",\"size\":0.5},\"mode\":\"markers\",\"text\":\"King Street Station Plaza \\u2794 Pier 69: 962 viagens \",\"x\":[0.31687375137392243],\"y\":[0.842372260755432],\"type\":\"scatter\"},{\"hoverinfo\":\"text\",\"marker\":{\"color\":\"rgba(230,245,152,0.75)\",\"size\":0.5},\"mode\":\"markers\",\"text\":\"Pier 69 \\u2794 King Street Station Plaza: 737 viagens \",\"x\":[-0.8600262713108892],\"y\":[0.26524481645281767],\"type\":\"scatter\"},{\"hoverinfo\":\"text\",\"marker\":{\"color\":\"rgba(244,109,67,0.75)\",\"size\":0.5},\"mode\":\"markers\",\"text\":\"King Street Station Plaza \\u2794 Burke-Gilman Trail: 1 viagens \",\"x\":[0.6341839210722572],\"y\":[0.6386006218705217],\"type\":\"scatter\"},{\"hoverinfo\":\"text\",\"marker\":{\"color\":\"rgba(171,221,164,0.75)\",\"size\":0.5},\"mode\":\"markers\",\"text\":\"Burke-Gilman Trail \\u2794 King Street Station Plaza: 0 viagens \",\"x\":[-0.15688286382601868],\"y\":[-0.886221059915497],\"type\":\"scatter\"},{\"hoverinfo\":\"text\",\"marker\":{\"color\":\"rgba(244,109,67,0.75)\",\"size\":0.5},\"mode\":\"markers\",\"text\":\"King Street Station Plaza \\u2794 Seattle Aquarium: 215 viagens \",\"x\":[0.5588246711396885],\"y\":[0.7054891827133987],\"type\":\"scatter\"},{\"hoverinfo\":\"text\",\"marker\":{\"color\":\"rgba(102,194,165,0.75)\",\"size\":0.5},\"mode\":\"markers\",\"text\":\"Seattle Aquarium \\u2794 King Street Station Plaza: 181 viagens \",\"x\":[0.1377488100854849],\"y\":[-0.8893960115269424],\"type\":\"scatter\"},{\"hoverinfo\":\"text\",\"marker\":{\"color\":\"rgba(244,109,67,0.75)\",\"size\":0.5},\"mode\":\"markers\",\"text\":\"King Street Station Plaza \\u2794 Lake Union Park: 31 viagens \",\"x\":[0.6316909708396947],\"y\":[0.6410667027381816],\"type\":\"scatter\"},{\"hoverinfo\":\"text\",\"marker\":{\"color\":\"rgba(50,136,189,0.75)\",\"size\":0.5},\"mode\":\"markers\",\"text\":\"Lake Union Park \\u2794 King Street Station Plaza: 26 viagens \",\"x\":[0.8447026427925388],\"y\":[-0.31060818607902235],\"type\":\"scatter\"},{\"hoverinfo\":\"text\",\"marker\":{\"color\":\"rgba(253,174,97,0.75)\",\"size\":0.5},\"mode\":\"markers\",\"text\":\"3rd Ave & Broad St \\u2b8c : 627 viagens \",\"x\":[-0.20741967597519362],\"y\":[0.8757722752053445],\"type\":\"scatter\"},{\"hoverinfo\":\"text\",\"marker\":{\"color\":\"rgba(253,174,97,0.75)\",\"size\":0.5},\"mode\":\"markers\",\"text\":\"3rd Ave & Broad St \\u2794 Pine St & 9th Ave: 166 viagens \",\"x\":[0.19727633177769524],\"y\":[0.878112776880246],\"type\":\"scatter\"},{\"hoverinfo\":\"text\",\"marker\":{\"color\":\"rgba(254,224,139,0.75)\",\"size\":0.5},\"mode\":\"markers\",\"text\":\"Pine St & 9th Ave \\u2794 3rd Ave & Broad St: 151 viagens \",\"x\":[-0.5130672884375272],\"y\":[0.7394335382814086],\"type\":\"scatter\"},{\"hoverinfo\":\"text\",\"marker\":{\"color\":\"rgba(253,174,97,0.75)\",\"size\":0.5},\"mode\":\"markers\",\"text\":\"3rd Ave & Broad St \\u2794 E Pine St & 16th Ave: 198 viagens \",\"x\":[0.11941991662815962],\"y\":[0.8920419740755047],\"type\":\"scatter\"},{\"hoverinfo\":\"text\",\"marker\":{\"color\":\"rgba(255,255,191,0.75)\",\"size\":0.5},\"mode\":\"markers\",\"text\":\"E Pine St & 16th Ave \\u2794 3rd Ave & Broad St: 16 viagens \",\"x\":[-0.7274964394920771],\"y\":[0.5298574624616988],\"type\":\"scatter\"},{\"hoverinfo\":\"text\",\"marker\":{\"color\":\"rgba(253,174,97,0.75)\",\"size\":0.5},\"mode\":\"markers\",\"text\":\"3rd Ave & Broad St \\u2794 Pier 69: 347 viagens \",\"x\":[0.002191809637367792],\"y\":[0.8999973310907725],\"type\":\"scatter\"},{\"hoverinfo\":\"text\",\"marker\":{\"color\":\"rgba(230,245,152,0.75)\",\"size\":0.5},\"mode\":\"markers\",\"text\":\"Pier 69 \\u2794 3rd Ave & Broad St: 777 viagens \",\"x\":[-0.8940741212831865],\"y\":[0.10310899888805941],\"type\":\"scatter\"},{\"hoverinfo\":\"text\",\"marker\":{\"color\":\"rgba(253,174,97,0.75)\",\"size\":0.5},\"mode\":\"markers\",\"text\":\"3rd Ave & Broad St \\u2794 Burke-Gilman Trail: 6 viagens \",\"x\":[0.21562143912446724],\"y\":[0.873789102123558],\"type\":\"scatter\"},{\"hoverinfo\":\"text\",\"marker\":{\"color\":\"rgba(171,221,164,0.75)\",\"size\":0.5},\"mode\":\"markers\",\"text\":\"Burke-Gilman Trail \\u2794 3rd Ave & Broad St: 8 viagens \",\"x\":[-0.15321279542466743],\"y\":[-0.8868629202521431],\"type\":\"scatter\"},{\"hoverinfo\":\"text\",\"marker\":{\"color\":\"rgba(253,174,97,0.75)\",\"size\":0.5},\"mode\":\"markers\",\"text\":\"3rd Ave & Broad St \\u2794 Seattle Aquarium: 478 viagens \",\"x\":[-0.08807204745017136],\"y\":[0.895680364001542],\"type\":\"scatter\"},{\"hoverinfo\":\"text\",\"marker\":{\"color\":\"rgba(102,194,165,0.75)\",\"size\":0.5},\"mode\":\"markers\",\"text\":\"Seattle Aquarium \\u2794 3rd Ave & Broad St: 792 viagens \",\"x\":[0.24190389323652267],\"y\":[-0.8668809067207636],\"type\":\"scatter\"},{\"hoverinfo\":\"text\",\"marker\":{\"color\":\"rgba(253,174,97,0.75)\",\"size\":0.5},\"mode\":\"markers\",\"text\":\"3rd Ave & Broad St \\u2794 Lake Union Park: 264 viagens \",\"x\":[0.06907832236673135],\"y\":[0.8973450759763482],\"type\":\"scatter\"},{\"hoverinfo\":\"text\",\"marker\":{\"color\":\"rgba(50,136,189,0.75)\",\"size\":0.5},\"mode\":\"markers\",\"text\":\"Lake Union Park \\u2794 3rd Ave & Broad St: 175 viagens \",\"x\":[0.870878209250233],\"y\":[-0.2270928106592272],\"type\":\"scatter\"},{\"hoverinfo\":\"text\",\"marker\":{\"color\":\"rgba(254,224,139,0.75)\",\"size\":0.5},\"mode\":\"markers\",\"text\":\"Pine St & 9th Ave \\u2b8c : 186 viagens \",\"x\":[-0.5701751848841574],\"y\":[0.6963477999838278],\"type\":\"scatter\"},{\"hoverinfo\":\"text\",\"marker\":{\"color\":\"rgba(254,224,139,0.75)\",\"size\":0.5},\"mode\":\"markers\",\"text\":\"Pine St & 9th Ave \\u2794 E Pine St & 16th Ave: 934 viagens \",\"x\":[-0.6595476173660404],\"y\":[0.6123699375596251],\"type\":\"scatter\"},{\"hoverinfo\":\"text\",\"marker\":{\"color\":\"rgba(255,255,191,0.75)\",\"size\":0.5},\"mode\":\"markers\",\"text\":\"E Pine St & 16th Ave \\u2794 Pine St & 9th Ave: 98 viagens \",\"x\":[-0.744642079953116],\"y\":[0.5054781624987347],\"type\":\"scatter\"},{\"hoverinfo\":\"text\",\"marker\":{\"color\":\"rgba(254,224,139,0.75)\",\"size\":0.5},\"mode\":\"markers\",\"text\":\"Pine St & 9th Ave \\u2794 Pier 69: 52 viagens \",\"x\":[-0.4848910082635347],\"y\":[0.7582088828978283],\"type\":\"scatter\"},{\"hoverinfo\":\"text\",\"marker\":{\"color\":\"rgba(230,245,152,0.75)\",\"size\":0.5},\"mode\":\"markers\",\"text\":\"Pier 69 \\u2794 Pine St & 9th Ave: 65 viagens \",\"x\":[-0.7837331826739016],\"y\":[0.4424503343606339],\"type\":\"scatter\"},{\"hoverinfo\":\"text\",\"marker\":{\"color\":\"rgba(254,224,139,0.75)\",\"size\":0.5},\"mode\":\"markers\",\"text\":\"Pine St & 9th Ave \\u2794 Burke-Gilman Trail: 2 viagens \",\"x\":[-0.4653479201658801],\"y\":[0.7703579124000024],\"type\":\"scatter\"},{\"hoverinfo\":\"text\",\"marker\":{\"color\":\"rgba(171,221,164,0.75)\",\"size\":0.5},\"mode\":\"markers\",\"text\":\"Burke-Gilman Trail \\u2794 Pine St & 9th Ave: 4 viagens \",\"x\":[-0.15623539826880695],\"y\":[-0.8863354333026449],\"type\":\"scatter\"},{\"hoverinfo\":\"text\",\"marker\":{\"color\":\"rgba(254,224,139,0.75)\",\"size\":0.5},\"mode\":\"markers\",\"text\":\"Pine St & 9th Ave \\u2794 Seattle Aquarium: 36 viagens \",\"x\":[-0.46890720770504163],\"y\":[0.7681966093144781],\"type\":\"scatter\"},{\"hoverinfo\":\"text\",\"marker\":{\"color\":\"rgba(102,194,165,0.75)\",\"size\":0.5},\"mode\":\"markers\",\"text\":\"Seattle Aquarium \\u2794 Pine St & 9th Ave: 68 viagens \",\"x\":[0.06099035898639027],\"y\":[-0.8979310530941178],\"type\":\"scatter\"},{\"hoverinfo\":\"text\",\"marker\":{\"color\":\"rgba(254,224,139,0.75)\",\"size\":0.5},\"mode\":\"markers\",\"text\":\"Pine St & 9th Ave \\u2794 Lake Union Park: 53 viagens \",\"x\":[-0.49454447017392356],\"y\":[0.7519479815920734],\"type\":\"scatter\"},{\"hoverinfo\":\"text\",\"marker\":{\"color\":\"rgba(50,136,189,0.75)\",\"size\":0.5},\"mode\":\"markers\",\"text\":\"Lake Union Park \\u2794 Pine St & 9th Ave: 73 viagens \",\"x\":[0.8516969889338433],\"y\":[-0.2908818300290084],\"type\":\"scatter\"},{\"hoverinfo\":\"text\",\"marker\":{\"color\":\"rgba(255,255,191,0.75)\",\"size\":0.5},\"mode\":\"markers\",\"text\":\"E Pine St & 16th Ave \\u2b8c : 233 viagens \",\"x\":[-0.7644034801976842],\"y\":[0.47506559490418654],\"type\":\"scatter\"},{\"hoverinfo\":\"text\",\"marker\":{\"color\":\"rgba(255,255,191,0.75)\",\"size\":0.5},\"mode\":\"markers\",\"text\":\"E Pine St & 16th Ave \\u2794 Pier 69: 3 viagens \",\"x\":[-0.7252318555639081],\"y\":[0.5329528644029703],\"type\":\"scatter\"},{\"hoverinfo\":\"text\",\"marker\":{\"color\":\"rgba(230,245,152,0.75)\",\"size\":0.5},\"mode\":\"markers\",\"text\":\"Pier 69 \\u2794 E Pine St & 16th Ave: 23 viagens \",\"x\":[-0.7789475739929306],\"y\":[0.4508222232438503],\"type\":\"scatter\"},{\"hoverinfo\":\"text\",\"marker\":{\"color\":\"rgba(255,255,191,0.75)\",\"size\":0.5},\"mode\":\"markers\",\"text\":\"E Pine St & 16th Ave \\u2794 Burke-Gilman Trail: 3 viagens \",\"x\":[-0.725621006464963],\"y\":[0.5324229098909757],\"type\":\"scatter\"},{\"hoverinfo\":\"text\",\"marker\":{\"color\":\"rgba(171,221,164,0.75)\",\"size\":0.5},\"mode\":\"markers\",\"text\":\"Burke-Gilman Trail \\u2794 E Pine St & 16th Ave: 15 viagens \",\"x\":[-0.15072860937303717],\"y\":[-0.8872885023015178],\"type\":\"scatter\"},{\"hoverinfo\":\"text\",\"marker\":{\"color\":\"rgba(255,255,191,0.75)\",\"size\":0.5},\"mode\":\"markers\",\"text\":\"E Pine St & 16th Ave \\u2794 Seattle Aquarium: 2 viagens \",\"x\":[-0.7249072674742256],\"y\":[0.5333942759001559],\"type\":\"scatter\"},{\"hoverinfo\":\"text\",\"marker\":{\"color\":\"rgba(102,194,165,0.75)\",\"size\":0.5},\"mode\":\"markers\",\"text\":\"Seattle Aquarium \\u2794 E Pine St & 16th Ave: 23 viagens \",\"x\":[0.05103779095112287],\"y\":[-0.8985516923888294],\"type\":\"scatter\"},{\"hoverinfo\":\"text\",\"marker\":{\"color\":\"rgba(255,255,191,0.75)\",\"size\":0.5},\"mode\":\"markers\",\"text\":\"E Pine St & 16th Ave \\u2794 Lake Union Park: 5 viagens \",\"x\":[-0.7261392718960734],\"y\":[0.5317158619133345],\"type\":\"scatter\"},{\"hoverinfo\":\"text\",\"marker\":{\"color\":\"rgba(50,136,189,0.75)\",\"size\":0.5},\"mode\":\"markers\",\"text\":\"Lake Union Park \\u2794 E Pine St & 16th Ave: 19 viagens \",\"x\":[0.8429881226329454],\"y\":[-0.315231700658075],\"type\":\"scatter\"},{\"hoverinfo\":\"text\",\"marker\":{\"color\":\"rgba(230,245,152,0.75)\",\"size\":0.5},\"mode\":\"markers\",\"text\":\"Pier 69 \\u2b8c : 4209 viagens \",\"x\":[-0.5712771639612791],\"y\":[-0.6954440322098953],\"type\":\"scatter\"},{\"hoverinfo\":\"text\",\"marker\":{\"color\":\"rgba(230,245,152,0.75)\",\"size\":0.5},\"mode\":\"markers\",\"text\":\"Pier 69 \\u2794 Burke-Gilman Trail: 1 viagens \",\"x\":[-0.7776268644723977],\"y\":[0.45309652354749674],\"type\":\"scatter\"},{\"hoverinfo\":\"text\",\"marker\":{\"color\":\"rgba(171,221,164,0.75)\",\"size\":0.5},\"mode\":\"markers\",\"text\":\"Burke-Gilman Trail \\u2794 Pier 69: 4 viagens \",\"x\":[-0.15537198121352058],\"y\":[-0.8864871953129303],\"type\":\"scatter\"},{\"hoverinfo\":\"text\",\"marker\":{\"color\":\"rgba(230,245,152,0.75)\",\"size\":0.5},\"mode\":\"markers\",\"text\":\"Pier 69 \\u2794 Seattle Aquarium: 1605 viagens \",\"x\":[-0.8862210959409568],\"y\":[-0.15688266032041148],\"type\":\"scatter\"},{\"hoverinfo\":\"text\",\"marker\":{\"color\":\"rgba(102,194,165,0.75)\",\"size\":0.5},\"mode\":\"markers\",\"text\":\"Seattle Aquarium \\u2794 Pier 69: 2291 viagens \",\"x\":[0.7201374636496268],\"y\":[-0.5398166665158481],\"type\":\"scatter\"},{\"hoverinfo\":\"text\",\"marker\":{\"color\":\"rgba(230,245,152,0.75)\",\"size\":0.5},\"mode\":\"markers\",\"text\":\"Pier 69 \\u2794 Lake Union Park: 97 viagens \",\"x\":[-0.7923073794967564],\"y\":[0.4269063321092612],\"type\":\"scatter\"},{\"hoverinfo\":\"text\",\"marker\":{\"color\":\"rgba(50,136,189,0.75)\",\"size\":0.5},\"mode\":\"markers\",\"text\":\"Lake Union Park \\u2794 Pier 69: 75 viagens \",\"x\":[0.8568001485349226],\"y\":[-0.2754877592027179],\"type\":\"scatter\"},{\"hoverinfo\":\"text\",\"marker\":{\"color\":\"rgba(171,221,164,0.75)\",\"size\":0.5},\"mode\":\"markers\",\"text\":\"Burke-Gilman Trail \\u2b8c : 880 viagens \",\"x\":[-0.047865018881064265],\"y\":[-0.8987262875689769],\"type\":\"scatter\"},{\"hoverinfo\":\"text\",\"marker\":{\"color\":\"rgba(171,221,164,0.75)\",\"size\":0.5},\"mode\":\"markers\",\"text\":\"Burke-Gilman Trail \\u2794 Seattle Aquarium: 4 viagens \",\"x\":[-0.15450841674269342],\"y\":[-0.8866381162321334],\"type\":\"scatter\"},{\"hoverinfo\":\"text\",\"marker\":{\"color\":\"rgba(102,194,165,0.75)\",\"size\":0.5},\"mode\":\"markers\",\"text\":\"Seattle Aquarium \\u2794 Burke-Gilman Trail: 0 viagens \",\"x\":[0.048521266589877245],\"y\":[-0.8986910963665514],\"type\":\"scatter\"},{\"hoverinfo\":\"text\",\"marker\":{\"color\":\"rgba(171,221,164,0.75)\",\"size\":0.5},\"mode\":\"markers\",\"text\":\"Burke-Gilman Trail \\u2794 Lake Union Park: 25 viagens \",\"x\":[-0.14640548173590037],\"y\":[-0.8880120691283869],\"type\":\"scatter\"},{\"hoverinfo\":\"text\",\"marker\":{\"color\":\"rgba(50,136,189,0.75)\",\"size\":0.5},\"mode\":\"markers\",\"text\":\"Lake Union Park \\u2794 Burke-Gilman Trail: 46 viagens \",\"x\":[0.8473931087586689],\"y\":[-0.30319122551340244],\"type\":\"scatter\"},{\"hoverinfo\":\"text\",\"marker\":{\"color\":\"rgba(102,194,165,0.75)\",\"size\":0.5},\"mode\":\"markers\",\"text\":\"Seattle Aquarium \\u2b8c : 1150 viagens \",\"x\":[0.4382450818642669],\"y\":[-0.7860923916574832],\"type\":\"scatter\"},{\"hoverinfo\":\"text\",\"marker\":{\"color\":\"rgba(102,194,165,0.75)\",\"size\":0.5},\"mode\":\"markers\",\"text\":\"Seattle Aquarium \\u2794 Lake Union Park: 70 viagens \",\"x\":[0.07606857648825227],\"y\":[-0.8967795557833881],\"type\":\"scatter\"},{\"hoverinfo\":\"text\",\"marker\":{\"color\":\"rgba(50,136,189,0.75)\",\"size\":0.5},\"mode\":\"markers\",\"text\":\"Lake Union Park \\u2794 Seattle Aquarium: 17 viagens \",\"x\":[0.8415982831270219],\"y\":[-0.3189237053554486],\"type\":\"scatter\"},{\"hoverinfo\":\"text\",\"marker\":{\"color\":\"rgba(50,136,189,0.75)\",\"size\":0.5},\"mode\":\"markers\",\"text\":\"Lake Union Park \\u2b8c : 960 viagens \",\"x\":[0.8938587521362359],\"y\":[-0.10495966477390845],\"type\":\"scatter\"}],                        {\"height\":625,\"hovermode\":\"closest\",\"margin\":{\"b\":25,\"l\":25,\"r\":25,\"t\":25},\"paper_bgcolor\":\"rgba(0,0,0,0)\",\"plot_bgcolor\":\"rgba(0,0,0,0)\",\"shapes\":[{\"fillcolor\":\"rgba(213,62,79,0.75)\",\"layer\":\"below\",\"line\":{\"color\":\"rgb(175,175,175)\",\"width\":0.5},\"path\":\"M 0.9621132950390643,0.2726499725088461 Q 0.18932889225131333, 0.0644559582885135 0.9286174119358537, 0.3710386802606394L 0.9286174119358537, 0.3710386802606394 L 0.9466444612565665, 0.32227979144256746 L 0.9621132950390643, 0.2726499725088461 \",\"type\":\"path\"},{\"fillcolor\":\"rgba(244,109,67,0.75)\",\"layer\":\"below\",\"line\":{\"color\":\"rgb(175, 175, 175)\",\"width\":0.5},\"path\":\"M 0.9976597326145936,0.06837439520301163 Q 0.16716644134391562, 0.10979699854008407 0.4590497883546023, 0.8884105423798138L 0.4590497883546023, 0.8884105423798138 L 0.500070555838693, 0.8659846645196326 L 0.5399983574329024, 0.8416660703448651 M 0.5399983574329024,0.8416660703448651 Q 0.16959701844104302, 0.10600401565935372 0.9931764518861159, 0.11662133346393229L 0.9931764518861159, 0.11662133346393229 L 0.9957103595635751, 0.09252502287368519 L 0.9976597326145936, 0.06837439520301163 \",\"type\":\"path\"},{\"fillcolor\":\"rgba(213,62,79,0.75)\",\"layer\":\"below\",\"line\":{\"color\":\"rgb(175, 175, 175)\",\"width\":0.5},\"path\":\"M 0.8675031925095491,0.49743161438105266 Q 0.05015874380995097, 0.19360811041742987 -0.5168442539166623, 0.8560794456084836L -0.5168442539166623, 0.8560794456084836 L -0.41325868004573124, 0.9106136740500111 L -0.3040098285697935, 0.9526688953319326 M -0.3040098285697935,0.9526688953319326 Q 0.046875033233554825, 0.194429244866489 0.7047356355904045, 0.709470002134684L 0.7047356355904045, 0.709470002134684 L 0.7932362842284565, 0.6089139490793681 L 0.8675031925095491, 0.49743161438105266 \",\"type\":\"path\"},{\"fillcolor\":\"rgba(213,62,79,0.75)\",\"layer\":\"below\",\"line\":{\"color\":\"rgb(175, 175, 175)\",\"width\":0.5},\"path\":\"M 0.9815525356861027,0.19119262456533756 Q 0.06998308777570524, 0.18735625803633552 -0.6158446713558983, 0.7878675908822151L -0.6158446713558983, 0.7878675908822151 L -0.6005748996673863, 0.7995685023120339 L -0.5850828688681584, 0.8109735116247665 M -0.5850828688681584,0.8109735116247665 Q 0.06572246001367453, 0.1888929809435781 0.9621132950390643, 0.2726499725088461L 0.9621132950390643, 0.2726499725088461 L 0.9726859926336123, 0.23212487961087722 L 0.9815525356861027, 0.19119262456533756 \",\"type\":\"path\"},{\"fillcolor\":\"rgba(213,62,79,0.75)\",\"layer\":\"below\",\"line\":{\"color\":\"rgb(175, 175, 175)\",\"width\":0.5},\"path\":\"M 0.9286174119358537,0.3710386802606394 Q 0.02276797616880782, 0.19869982199583525 -0.8206197268089931, 0.5714746398327168L -0.8206197268089931, 0.5714746398327168 L -0.8169148709355273, 0.5767582627447922 L -0.8131759965798849, 0.5820178679270174 M -0.8131759965798849,0.5820178679270174 Q 0.010052998809570396, 0.1997471832465599 0.8675031925095491, 0.49743161438105266L 0.8675031925095491, 0.49743161438105266 L 0.9002811226929184, 0.435308970873308 L 0.9286174119358537, 0.3710386802606394 \",\"type\":\"path\"},{\"fillcolor\":\"rgba(230,245,152,0.75)\",\"layer\":\"below\",\"line\":{\"color\":\"rgb(175, 175, 175)\",\"width\":0.5},\"path\":\"M 0.9931764518861159,0.11662133346393229 Q 0.0271169107872984, 0.19815315578954 -0.9253289072639308, 0.3791654169115897L -0.9253289072639308, 0.3791654169115897 L -0.9065962939542195, 0.4219990044875395 L -0.8858821992827361, 0.46391025963432037 M -0.8858821992827361,0.46391025963432037 Q 0.028901162908290076, 0.1979007902524608 0.9815525356861027, 0.19119262456533756L 0.9815525356861027, 0.19119262456533756 L 0.9880682481254179, 0.1540166778188892 L 0.9931764518861159, 0.11662133346393229 \",\"type\":\"path\"},{\"fillcolor\":\"rgba(213,62,79,0.75)\",\"layer\":\"below\",\"line\":{\"color\":\"rgb(175, 175, 175)\",\"width\":0.5},\"path\":\"M 1.0,0.0 Q -0.12852435555959227, 0.1532367124027121 -0.17407450139957506, -0.9847324854814578L -0.17407450139957506, -0.9847324854814578 L -0.1741943985610013, -0.9847112833262199 L -0.17431429314002075, -0.9846900665727745 M -0.17431429314002075,-0.9846900665727745 Q -0.12867355650172038, 0.15311144913819663 0.99999759836418, 0.0021916354332217535L 0.99999759836418, 0.0021916354332217535 L 0.9999993995908647, 0.0010958183745502395 L 1.0, 0.0 \",\"type\":\"path\"},{\"fillcolor\":\"rgba(102,194,165,0.75)\",\"layer\":\"below\",\"line\":{\"color\":\"rgb(175, 175, 175)\",\"width\":0.5},\"path\":\"M 0.9993852439818053,0.035059008990950644 Q -0.15270333598667735, 0.12915762144968423 0.13124035302067477, -0.9913505786244383L 0.13124035302067477, -0.9913505786244383 L 0.11214593077261635, -0.9936917480844568 L 0.09301000577881638, -0.9956651740545235 M 0.09301000577881638,-0.9956651740545235 Q -0.15237259212840445, 0.12954764825372517 0.9976597326145936, 0.06837439520301163L 0.9976597326145936, 0.06837439520301163 L 0.9986614232946232, 0.051723897988816415 L 0.9993852439818053, 0.035059008990950644 \",\"type\":\"path\"},{\"fillcolor\":\"rgba(213,62,79,0.75)\",\"layer\":\"below\",\"line\":{\"color\":\"rgb(175, 175, 175)\",\"width\":0.5},\"path\":\"M 0.99999759836418,0.0021916354332217535 Q -0.19812332137988245, 0.0273340360247772 0.9620467706323617, -0.27288461135770226L 0.9620467706323617, -0.27288461135770226 L 0.9584795423565158, -0.2851612997656662 L 0.9547556580796012, -0.2973913807846283 M 0.9547556580796012,-0.2973913807846283 Q -0.19822184356854575, 0.026610162199561794 0.9993852439818053, 0.035059008990950644L 0.9993852439818053, 0.035059008990950644 L 0.9998264867605896, 0.01862783862868784 L 0.99999759836418, 0.0021916354332217535 \",\"type\":\"path\"},{\"fillcolor\":\"rgba(244,109,67,0.75)\",\"layer\":\"below\",\"line\":{\"color\":\"rgb(175,175,175)\",\"width\":0.5},\"path\":\"M 0.6751287965771047,0.7376998766655384 Q 0.13166842661688938, 0.15054376583649295 0.6412214524649069, 0.767355881517041L 0.6412214524649069, 0.767355881517041 L 0.6583421330844469, 0.7527188291824647 L 0.6751287965771047, 0.7376998766655384 \",\"type\":\"path\"},{\"fillcolor\":\"rgba(244,109,67,0.75)\",\"layer\":\"below\",\"line\":{\"color\":\"rgb(175, 175, 175)\",\"width\":0.5},\"path\":\"M 0.6001856720060443,0.7998607123234976 Q 0.07796862823229023, 0.18417625528708884 0.1565427644113174, 0.9876711815733326L 0.1565427644113174, 0.9876711815733326 L 0.178029794806013, 0.9840250973228929 L 0.199432263468394, 0.9799116145285109 M 0.199432263468394,0.9799116145285109 Q 0.07522429618235782, 0.18531407195318145 0.5399983574329024, 0.8416660703448651L 0.5399983574329024, 0.8416660703448651 L 0.5704750890588755, 0.8213149047492491 L 0.6001856720060443, 0.7998607123234976 \",\"type\":\"path\"},{\"fillcolor\":\"rgba(244,109,67,0.75)\",\"layer\":\"below\",\"line\":{\"color\":\"rgb(175, 175, 175)\",\"width\":0.5},\"path\":\"M 0.6991853113868095,0.7149404872721437 Q 0.02112203299145292, 0.19888152182218433 -0.5334231161026486, 0.8458485557162939L -0.5334231161026486, 0.8458485557162939 L -0.5290906462857287, 0.8485653115776947 L -0.5247443401890931, 0.8512598765591582 M -0.5247443401890931,0.8512598765591582 Q 0.02056499781533786, 0.19893989259285116 0.6877817737181708, 0.7259175102868692L 0.6877817737181708, 0.7259175102868692 L 0.6935052613713308, 0.7204515614878506 L 0.6991853113868095, 0.7149404872721437 \",\"type\":\"path\"},{\"fillcolor\":\"rgba(244,109,67,0.75)\",\"layer\":\"below\",\"line\":{\"color\":\"rgb(175, 175, 175)\",\"width\":0.5},\"path\":\"M 0.6877817737181708,0.7259175102868692 Q -0.019086858882065034, 0.19908714629030208 -0.8131759965798849, 0.5820178679270174L -0.8131759965798849, 0.5820178679270174 L -0.811329441489413, 0.5845892039479323 L -0.8094747556328433, 0.5871546814878925 M -0.8094747556328433,0.5871546814878925 Q -0.02017738647736167, 0.19897957954258316 0.6751287965771047, 0.7376998766655384L 0.6751287965771047, 0.7376998766655384 L 0.6814807493209316, 0.7318360392225717 L 0.6877817737181708, 0.7259175102868692 \",\"type\":\"path\"},{\"fillcolor\":\"rgba(244,109,67,0.75)\",\"layer\":\"below\",\"line\":{\"color\":\"rgb(175, 175, 175)\",\"width\":0.5},\"path\":\"M 0.4590497883546023,0.8884105423798138 Q -0.08559008011642479, 0.18076044419524973 -0.9781509543022184, 0.20789591289310952L -0.9781509543022184, 0.20789591289310952 L -0.955584745900988, 0.29471646272535296 L -0.9253289072639308, 0.3791654169115897 M -0.9253289072639308,0.3791654169115897 Q -0.09050934573551843, 0.17834813801811444 0.24028919260341286, 0.9707013464078433L 0.24028919260341286, 0.9707013464078433 L 0.35208194597102493, 0.9359691786171467 L 0.4590497883546023, 0.8884105423798138 \",\"type\":\"path\"},{\"fillcolor\":\"rgba(244,109,67,0.75)\",\"layer\":\"below\",\"line\":{\"color\":\"rgb(175, 175, 175)\",\"width\":0.5},\"path\":\"M 0.704735189817116,0.7094704449330032 Q -0.1775253831534311, 0.09211263939453412 -0.17431429314002075, -0.9846900665727745L -0.17431429314002075, -0.9846900665727745 L -0.17431429314002075, -0.9846900665727745 L -0.17431429314002075, -0.9846900665727745 M -0.17431429314002075,-0.9846900665727745 Q -0.17753659724926085, 0.09209102365135136 0.7045624021193244, 0.709642037593495L 0.7045624021193244, 0.709642037593495 L 0.7046488011913968, 0.7095562465228019 L 0.704735189817116, 0.7094704449330032 \",\"type\":\"path\"},{\"fillcolor\":\"rgba(244,109,67,0.75)\",\"layer\":\"below\",\"line\":{\"color\":\"rgb(175, 175, 175)\",\"width\":0.5},\"path\":\"M 0.6412214524649069,0.767355881517041 Q -0.19326789749226703, 0.05145405522326277 0.17479378155684727, -0.9846050649519619L 0.17479378155684727, -0.9846050649519619 L 0.15305423342831656, -0.9882177905854915 L 0.13124035302067477, -0.9913505786244383 M 0.13124035302067477,-0.9913505786244383 Q -0.19347924743769698, 0.05065353700327773 0.6001856720060443, 0.7998607123234976L 0.6001856720060443, 0.7998607123234976 L 0.6209163012663205, 0.783876869681554 L 0.6412214524649069, 0.767355881517041 \",\"type\":\"path\"},{\"fillcolor\":\"rgba(244,109,67,0.75)\",\"layer\":\"below\",\"line\":{\"color\":\"rgb(175, 175, 175)\",\"width\":0.5},\"path\":\"M 0.7045624021193244,0.709642037593495 Q -0.19518409663103503, -0.04362531859283991 0.939646332619081, -0.34214729225219853L 0.939646332619081, -0.34214729225219853 L 0.9385584919917098, -0.34512020675446925 L 0.9374612454897847, -0.3480896625939092 M 0.9374612454897847,-0.3480896625939092 Q -0.19515750181994682, -0.04374413656020042 0.6991853113868095, 0.7149404872721437L 0.6991853113868095, 0.7149404872721437 L 0.7018788564885496, 0.7122963363757573 L 0.7045624021193244, 0.709642037593495 \",\"type\":\"path\"},{\"fillcolor\":\"rgba(253,174,97,0.75)\",\"layer\":\"below\",\"line\":{\"color\":\"rgb(175,175,175)\",\"width\":0.5},\"path\":\"M -0.1555802550261118,0.987823255570555 Q -0.04609326132782081, 0.19461606115674324 -0.3040098285697935, 0.9526688953319326L -0.3040098285697935, 0.9526688953319326 L -0.23046630663910403, 0.9730803057837161 L -0.1555802550261118, 0.987823255570555 \",\"type\":\"path\"},{\"fillcolor\":\"rgba(253,174,97,0.75)\",\"layer\":\"below\",\"line\":{\"color\":\"rgb(175, 175, 175)\",\"width\":0.5},\"path\":\"M 0.2388700430534026,0.9710515447347096 Q -0.038142928236173275, 0.19632910386789357 -0.5850828688681584, 0.8109735116247665L -0.5850828688681584, 0.8109735116247665 L -0.5700747649305858, 0.8215928203126761 L -0.5548739683680409, 0.8319344200281067 M -0.5548739683680409,0.8319344200281067 Q -0.038501435775069245, 0.1962591130196461 0.199432263468394, 0.9799116145285109L 0.199432263468394, 0.9799116145285109 L 0.21919592419743916, 0.9756808632002734 L 0.2388700430534026, 0.9710515447347096 \",\"type\":\"path\"},{\"fillcolor\":\"rgba(253,174,97,0.75)\",\"layer\":\"below\",\"line\":{\"color\":\"rgb(175, 175, 175)\",\"width\":0.5},\"path\":\"M 0.1565427644113174,0.9876711815733326 Q -0.07659854123945163, 0.18475027328799282 -0.8094747556328433, 0.5871546814878925L -0.8094747556328433, 0.5871546814878925 L -0.808329377213419, 0.588730513846332 L -0.8071809310713708, 0.5903041118904347 M -0.8071809310713708,0.5903041118904347 Q -0.08067344668375195, 0.18300763645313778 0.10875771362011614, 0.9940682872560239L 0.10875771362011614, 0.9940682872560239 L 0.13268879625351068, 0.991157748972783 L 0.1565427644113174, 0.9876711815733326 \",\"type\":\"path\"},{\"fillcolor\":\"rgba(230,245,152,0.75)\",\"layer\":\"below\",\"line\":{\"color\":\"rgb(175, 175, 175)\",\"width\":0.5},\"path\":\"M 0.04467037145234975,0.9990017807363053 Q -0.13675879177070113, 0.1459350296310588 -0.9997957455515665, 0.020210570921857775L -0.9997957455515665, 0.020210570921857775 L -0.9934156903146517, 0.11456555432006602 L -0.9781509543022184, 0.20789591289310952 M -0.9781509543022184,0.20789591289310952 Q -0.12893433936168214, 0.15289190996703061 -0.03980402994230317, 0.9992075055764704L -0.03980402994230317, 0.9992075055764704 L 0.002435344041519769, 0.9999970345453028 L 0.04467037145234975, 0.9990017807363053 \",\"type\":\"path\"},{\"fillcolor\":\"rgba(171,221,164,0.75)\",\"layer\":\"below\",\"line\":{\"color\":\"rgb(175, 175, 175)\",\"width\":0.5},\"path\":\"M 0.24028858269372166,0.9707014973858042 Q -0.19575585298549214, 0.04098348474596061 -0.1692765177776881, -0.9855685975765767L -0.1692765177776881, -0.9855685975765767 L -0.17023643936074156, -0.9854032447246034 L -0.17119619942499156, -0.9852369569308891 M -0.17119619942499156,-0.9852369569308891 Q -0.1957458671558732, 0.04103115269396231 0.2388700430534026, 0.9710515447347096L 0.2388700430534026, 0.9710515447347096 L 0.2395793768049636, 0.9708767801372866 L 0.24028858269372166, 0.9707014973858042 \",\"type\":\"path\"},{\"fillcolor\":\"rgba(102,194,165,0.75)\",\"layer\":\"below\",\"line\":{\"color\":\"rgb(175, 175, 175)\",\"width\":0.5},\"path\":\"M -0.03980402994230317,0.9992075055764704 Q -0.19584521212136474, -0.04055432022778402 0.3602729188974631, -0.932846945596705L 0.3602729188974631, -0.932846945596705 L 0.2687821035961363, -0.963201007467515 L 0.17479378155684727, -0.9846050649519619 M 0.17479378155684727,-0.9846050649519619 Q -0.19725218982817463, -0.03303897104919827 -0.1555802550261118, 0.987823255570555L -0.1555802550261118, 0.987823255570555 L -0.0978578305001904, 0.9952004044461578 L -0.03980402994230317, 0.9992075055764704 \",\"type\":\"path\"},{\"fillcolor\":\"rgba(253,174,97,0.75)\",\"layer\":\"below\",\"line\":{\"color\":\"rgb(175, 175, 175)\",\"width\":0.5},\"path\":\"M 0.10875771362011614,0.9940682872560239 Q -0.16346723287609877, -0.11523221674441264 0.9727988338734807, -0.23165152452422214L 0.9727988338734807, -0.23165152452422214 L 0.967642454722481, -0.2523253451769191 L 0.9620467706323617, -0.27288461135770226 M 0.9620467706323617,-0.27288461135770226 Q -0.16220895161985113, -0.11699682053111016 0.04467037145234975, 0.9990017807363053L 0.04467037145234975, 0.9990017807363053 L 0.07675369151859039, 0.9970500844181646 L 0.10875771362011614, 0.9940682872560239 \",\"type\":\"path\"},{\"fillcolor\":\"rgba(254,224,139,0.75)\",\"layer\":\"below\",\"line\":{\"color\":\"rgb(175,175,175)\",\"width\":0.5},\"path\":\"M -0.6158446713558983,0.7878675908822151 Q -0.12670559664092387, 0.15474395555196174 -0.6508863838069274, 0.759175154608435L -0.6508863838069274, 0.759175154608435 L -0.6335279832046193, 0.7737197777598086 L -0.6158446713558983, 0.7878675908822151 \",\"type\":\"path\"},{\"fillcolor\":\"rgba(254,224,139,0.75)\",\"layer\":\"below\",\"line\":{\"color\":\"rgb(175, 175, 175)\",\"width\":0.5},\"path\":\"M -0.6508863838069274,0.759175154608435 Q -0.14993292680532352, 0.1323635805634975 -0.8340226523098145, 0.5517302016693505L -0.8340226523098145, 0.5517302016693505 L -0.8273800888367956, 0.5616424027763718 L -0.8206197268089931, 0.5714746398327168 M -0.8206197268089931,0.5714746398327168 Q -0.16260681201199384, 0.11644322516701476 -0.8053078019477626, 0.5928569339411179L -0.8053078019477626, 0.5928569339411179 L -0.7328306859622671, 0.6804110417329168 L -0.6508863838069274, 0.759175154608435 \",\"type\":\"path\"},{\"fillcolor\":\"rgba(230,245,152,0.75)\",\"layer\":\"below\",\"line\":{\"color\":\"rgb(175, 175, 175)\",\"width\":0.5},\"path\":\"M -0.5334231161026486,0.8458485557162939 Q -0.1453676069674224, 0.13736178087286507 -0.8746780707995945, 0.4847043144663554L -0.8746780707995945, 0.4847043144663554 L -0.8708146474154462, 0.49161148262292653 L -0.8668966805452434, 0.4984878586882917 M -0.8668966805452434,0.4984878586882917 Q -0.1451500007765529, 0.13759170496278725 -0.5440908605654581, 0.839026302000801L -0.5440908605654581, 0.839026302000801 L -0.538767786959483, 0.8424543143309203 L -0.5334231161026486, 0.8458485557162939 \",\"type\":\"path\"},{\"fillcolor\":\"rgba(171,221,164,0.75)\",\"layer\":\"below\",\"line\":{\"color\":\"rgb(175, 175, 175)\",\"width\":0.5},\"path\":\"M -0.5168447918071396,0.8560791208654925 Q -0.19660251178527718, -0.03670766077700885 -0.17311523135478843, -0.9849015771502135L -0.17311523135478843, -0.9849015771502135 L -0.17359488696534106, -0.9848171481140499 L -0.17407450139957506, -0.9847324854814578 M -0.17407450139957506,-0.9847324854814578 Q -0.1966114448033199, -0.036659784128539284 -0.517261666789332, 0.8558273003768471L -0.517261666789332, 0.8558273003768471 L -0.5170532446287557, 0.8559532360000026 L -0.5168447918071396, 0.8560791208654925 \",\"type\":\"path\"},{\"fillcolor\":\"rgba(102,194,165,0.75)\",\"layer\":\"below\",\"line\":{\"color\":\"rgb(175, 175, 175)\",\"width\":0.5},\"path\":\"M -0.517261666789332,0.8558273003768471 Q -0.19047443731381886, -0.06098761128281789 0.07602513558343166, -0.9971059014766289L 0.07602513558343166, -0.9971059014766289 L 0.06776706554043363, -0.9977011701045753 L 0.05950435006064902, -0.9982280462518871 M 0.05950435006064902,-0.9982280462518871 Q -0.19071061389022456, -0.06024501431333297 -0.5247443401890931, 0.8512598765591582L -0.5247443401890931, 0.8512598765591582 L -0.5210080085611574, 0.8535517881271979 L -0.517261666789332, 0.8558273003768471 \",\"type\":\"path\"},{\"fillcolor\":\"rgba(50,136,189,0.75)\",\"layer\":\"below\",\"line\":{\"color\":\"rgb(175, 175, 175)\",\"width\":0.5},\"path\":\"M -0.5440908605654581,0.839026302000801 Q -0.12228450109326104, -0.15826086311015825 0.9491652852452307, -0.3147781143684229L 0.9491652852452307, -0.3147781143684229 L 0.9463299877042702, -0.3232020333655649 L 0.9434199288418931, -0.33160041897433934 M 0.9434199288418931,-0.33160041897433934 Q -0.12266952698094985, -0.15796261314079996 -0.5548739683680409, 0.8319344200281067L -0.5548739683680409, 0.8319344200281067 L -0.5494938557488039, 0.835497757324526 L -0.5440908605654581, 0.839026302000801 \",\"type\":\"path\"},{\"fillcolor\":\"rgba(255,255,191,0.75)\",\"layer\":\"below\",\"line\":{\"color\":\"rgb(175,175,175)\",\"width\":0.5},\"path\":\"M -0.8340226523098145,0.5517302016693505 Q -0.16986744004392984, 0.10557013220093035 -0.8639682288653978, 0.5035463231036323L -0.8639682288653978, 0.5035463231036323 L -0.8493372002196491, 0.5278506610046517 L -0.8340226523098145, 0.5517302016693505 \",\"type\":\"path\"},{\"fillcolor\":\"rgba(230,245,152,0.75)\",\"layer\":\"below\",\"line\":{\"color\":\"rgb(175, 175, 175)\",\"width\":0.5},\"path\":\"M -0.8055968166184245,0.5924641500160668 Q -0.16751316489716497, 0.10926728506801667 -0.8668966805452434, 0.4984878586882917L -0.8668966805452434, 0.4984878586882917 L -0.8654973044365895, 0.5009135813820559 L -0.8640911407656535, 0.5033353757191238 M -0.8640911407656535,0.5033353757191238 Q -0.16724658564387296, 0.10967488131047454 -0.8060294215652121, 0.5918754696481766L -0.8060294215652121, 0.5918754696481766 L -0.8058131728487867, 0.5921698493366336 L -0.8055968166184245, 0.5924641500160668 \",\"type\":\"path\"},{\"fillcolor\":\"rgba(171,221,164,0.75)\",\"layer\":\"below\",\"line\":{\"color\":\"rgb(175, 175, 175)\",\"width\":0.5},\"path\":\"M -0.8060294215652121,0.5918754696481766 Q -0.18532324141916354, -0.07520170337096387 -0.165675388863222, -0.9861803412789266L -0.165675388863222, -0.9861803412789266 L -0.16747623263670797, -0.985876113668353 L -0.1692765177776881, -0.9855685975765767 M -0.1692765177776881,-0.9855685975765767 Q -0.18543292000646194, -0.07493084930705836 -0.8064615963408555, 0.5912864734013109L -0.8064615963408555, 0.5912864734013109 L -0.8062455627388477, 0.5915810109899731 L -0.8060294215652121, 0.5918754696481766 \",\"type\":\"path\"},{\"fillcolor\":\"rgba(102,194,165,0.75)\",\"layer\":\"below\",\"line\":{\"color\":\"rgb(175, 175, 175)\",\"width\":0.5},\"path\":\"M -0.8053081744506015,0.5928564279511858 Q -0.17572060631937134, -0.09551056755538896 0.05950435006064902, -0.9982280462518871L 0.05950435006064902, -0.9982280462518871 L 0.05670865661235874, -0.9983907693209215 L 0.053912518433196936, -0.9985456626295015 M 0.053912518433196936,-0.9985456626295015 Q -0.17596424375630138, -0.09506095370483587 -0.8055968166184245, 0.5924641500160668L -0.8055968166184245, 0.5924641500160668 L -0.8054525194158062, 0.5926603065557288 L -0.8053081744506015, 0.5928564279511858 \",\"type\":\"path\"},{\"fillcolor\":\"rgba(50,136,189,0.75)\",\"layer\":\"below\",\"line\":{\"color\":\"rgb(175, 175, 175)\",\"width\":0.5},\"path\":\"M -0.8064615963408555,0.5912864734013109 Q -0.0948466358367261, -0.17607985594739528 0.9374612454897847, -0.3480896625939092L 0.9374612454897847, -0.3480896625939092 L 0.9366534695921616, -0.35025744517563884 L 0.9358406809282146, -0.3524233532554498 M 0.9358406809282146,-0.3524233532554498 Q -0.09514664496310997, -0.17591792390846336 -0.8071809310713708, 0.5903041118904347L -0.8071809310713708, 0.5903041118904347 L -0.8068214132178594, 0.5907954021259273 L -0.8064615963408555, 0.5912864734013109 \",\"type\":\"path\"},{\"fillcolor\":\"rgba(230,245,152,0.75)\",\"layer\":\"below\",\"line\":{\"color\":\"rgb(175,175,175)\",\"width\":0.5},\"path\":\"M -0.9320992698080253,-0.3622029144324299 Q -0.12695048088028424, -0.15454311826886563 -0.174314911839002, -0.9846899570476795L -0.174314911839002, -0.9846899570476795 L -0.25768255995780526, -0.9662296302088816 L -0.3391714578232597, -0.9407245729744944 L -0.4181874740842375, -0.9083607414012591 L -0.4941545070418373, -0.8693740985158454 L -0.5665186849771557, -0.8240488939205939 L -0.6347524044014212, -0.7727155913443281 L -0.6983581767858161, -0.7157484592483527 L -0.7568722557246814, -0.653562842054406 L -0.8098680180866381, -0.5866121318899062 L -0.8569590745018343, -0.5153844629293355 L -0.8978020865069102, -0.44039915243315186 L -0.9320992698080253, -0.3622029144324299 \",\"type\":\"path\"},{\"fillcolor\":\"rgba(171,221,164,0.75)\",\"layer\":\"below\",\"line\":{\"color\":\"rgb(175, 175, 175)\",\"width\":0.5},\"path\":\"M -0.863968545252713,0.5035457802562849 Q -0.18137060961105778, -0.08428939416862169 -0.1721557970598264, -0.985069734353206L -0.1721557970598264, -0.985069734353206 L -0.17263553468168952, -0.9849857725699226 L -0.17311523135478843, -0.9849015771502135 M -0.17311523135478843,-0.9849015771502135 Q -0.18140138605460154, -0.08422313896708797 -0.8640911407656535, 0.5033353757191238L -0.8640911407656535, 0.5033353757191238 L -0.8640298494137753, 0.5034405817194408 L -0.863968545252713, 0.5035457802562849 \",\"type\":\"path\"},{\"fillcolor\":\"rgba(102,194,165,0.75)\",\"layer\":\"below\",\"line\":{\"color\":\"rgb(175, 175, 175)\",\"width\":0.5},\"path\":\"M -0.9997957455515665,0.020210570921857775 Q -0.03821473034304646, -0.19631514048796198 0.9343734957797879, -0.35629506084740886L 0.9343734957797879, -0.35629506084740886 L 0.8972558449037693, -0.4415109837660022 L 0.8523863759101749, -0.5229124842291663 L 0.8001527373884743, -0.5997962961287201 L 0.741006200475813, -0.6714981838072231 L 0.675457760111967, -0.7373986807043558 L 0.6040737203120932, -0.7969284412218621 M 0.6040737203120932,-0.7969284412218621 Q -0.054459805798814334, -0.19244253571483472 -0.9320992698080253, -0.3622029144324299L -0.9320992698080253, -0.3622029144324299 L -0.9712548419198266, -0.2380420804128813 L -0.9939485462402903, -0.10984665414482811 L -0.9997957455515665, 0.020210570921857775 \",\"type\":\"path\"},{\"fillcolor\":\"rgba(230,245,152,0.75)\",\"layer\":\"below\",\"line\":{\"color\":\"rgb(175, 175, 175)\",\"width\":0.5},\"path\":\"M -0.8746780707995945,0.4847043144663554 Q -0.07861845181092711, -0.18389980705496387 0.9547556580796012, -0.2973913807846283L 0.9547556580796012, -0.2973913807846283 L 0.9520001650388028, -0.3060975102252421 L 0.9491652852452307, -0.3147781143684229 M 0.9491652852452307,-0.3147781143684229 Q -0.078125561295646, -0.1841097408401855 -0.8858821992827361, 0.46391025963432037L -0.8858821992827361, 0.46391025963432037 L -0.8803415327741738, 0.4743403690102902 L -0.8746780707995945, 0.4847043144663554 \",\"type\":\"path\"},{\"fillcolor\":\"rgba(171,221,164,0.75)\",\"layer\":\"below\",\"line\":{\"color\":\"rgb(175,175,175)\",\"width\":0.5},\"path\":\"M -0.15966861885600192,-0.9871706702250714 Q -0.010636670862458725, -0.19971695279310597 0.053911891028443765, -0.9985456965035386L 0.053911891028443765, -0.9985456965035386 L -0.053183354312293624, -0.9985847639655299 L -0.15966861885600192, -0.9871706702250714 \",\"type\":\"path\"},{\"fillcolor\":\"rgba(171,221,164,0.75)\",\"layer\":\"below\",\"line\":{\"color\":\"rgb(175, 175, 175)\",\"width\":0.5},\"path\":\"M -0.1721557970598264,-0.985069734353206 Q -0.011900871221588186, -0.19964560917828167 0.053912518433196936, -0.9985456626295015L 0.053912518433196936, -0.9985456626295015 L 0.053912518433196936, -0.9985456626295015 L 0.053912518433196936, -0.9985456626295015 M 0.053912518433196936,-0.9985456626295015 Q -0.01180363650505959, -0.1996513815761274 -0.17119619942499156, -0.9852369569308891L -0.17119619942499156, -0.9852369569308891 L -0.17167601860299267, -0.9851534624801482 L -0.1721557970598264, -0.985069734353206 \",\"type\":\"path\"},{\"fillcolor\":\"rgba(50,136,189,0.75)\",\"layer\":\"below\",\"line\":{\"color\":\"rgb(175, 175, 175)\",\"width\":0.5},\"path\":\"M -0.165675388863222,-0.9861803412789266 Q 0.1016543872221417, -0.17223932639931822 0.9434199288418931, -0.33160041897433934L 0.9434199288418931, -0.33160041897433934 L 0.9415478986207432, -0.336879139459336 L 0.939646332619081, -0.34214729225219853 M 0.939646332619081,-0.34214729225219853 Q 0.10121365481488234, -0.17249868428197895 -0.15966861885600192, -0.9871706702250714L -0.15966861885600192, -0.9871706702250714 L -0.16267275748433374, -0.9866800768093188 L -0.165675388863222, -0.9861803412789266 \",\"type\":\"path\"},{\"fillcolor\":\"rgba(102,194,165,0.75)\",\"layer\":\"below\",\"line\":{\"color\":\"rgb(175,175,175)\",\"width\":0.5},\"path\":\"M 0.3602729188974631,-0.932846945596705 Q 0.0973877959698371, -0.1746871981461074 0.6040737203120932, -0.7969284412218621L 0.6040737203120932, -0.7969284412218621 L 0.48693897984918544, -0.8734359907305369 L 0.3602729188974631, -0.932846945596705 \",\"type\":\"path\"},{\"fillcolor\":\"rgba(102,194,165,0.75)\",\"layer\":\"below\",\"line\":{\"color\":\"rgb(175, 175, 175)\",\"width\":0.5},\"path\":\"M 0.07602513558343166,-0.9971059014766289 Q 0.11997866554541, -0.1600159986187089 0.9358406809282146, -0.3524233532554498L 0.9358406809282146, -0.3524233532554498 L 0.9351092034744688, -0.3543596726171651 L 0.9343737196463925, -0.35629447376315665 M 0.9343737196463925,-0.35629447376315665 Q 0.12100876875911322, -0.15923843092483506 0.09301000577881638, -0.9956651740545235L 0.09301000577881638, -0.9956651740545235 L 0.08452064054250252, -0.996421728648209 L 0.07602513558343166, -0.9971059014766289 \",\"type\":\"path\"},{\"fillcolor\":\"rgba(50,136,189,0.75)\",\"layer\":\"below\",\"line\":{\"color\":\"rgb(175,175,175)\",\"width\":0.5},\"path\":\"M 0.9727988338734807,-0.23165152452422214 Q 0.19863527825249688, -0.023324369949757433 0.9999999999998026, -6.283185316708634e-07L 0.9999999999998026, -6.283185316708634e-07 L 0.9931763912624844, -0.11662184974878716 L 0.9727988338734807, -0.23165152452422214 \",\"type\":\"path\"},{\"fillcolor\":\"rgba(213,62,79,0.75)\",\"layer\":\"below\",\"line\":{\"color\":\"rgb(150,150,150)\",\"width\":0.45},\"path\":\"M 1.1, 0.0 L 1.0999650888462191, 0.008763750311887534 L 1.0998603576008563, 0.01752694434625719 L 1.0996858129117084, 0.0262890258609007 L 1.0994414658579696, 0.03504943868422679 L 1.099127331949526, 0.04380762675056409 L 1.0987434311259727, 0.052563034135457286 L 1.0982897877553472, 0.06131510509095432 L 1.097766430632583, 0.07006328408088242 L 1.0971733929776823, 0.07880701581611062 L 1.096510712433606, 0.08754574528979671 L 1.095778431063886, 0.09627891781261615 L 1.0949765953499542, 0.10500597904797082 L 1.094105256188192, 0.11372637504717562 L 1.0931644688867006, 0.12243955228462003 L 1.092154293161789, 0.13114495769290324 L 1.0910747931341847, 0.1398420386979399 L 1.0899260373249633, 0.14853024325403474 L 1.0887080986511988, 0.15720901987892352 L 1.0874210544213354, 0.16587781768877824 L 1.0860649863302803, 0.1745360864331745 L 1.0846399804542182, 0.1831832765300185 L 1.0831461272451481, 0.19181883910043152 L 1.0815835215251413, 0.2004422260035902 L 1.0799522624803222, 0.20905288987151946 L 1.0782524536545732, 0.2176502841438367 L 1.0764842029429622, 0.2262338631024445 L 1.074647622584894, 0.23480308190617014 L 1.0727428291569852, 0.24335739662534916 L 1.0707699435656657, 0.2518962642763513 L 1.068729091039503, 0.2604191428560462 L 1.0666204011212543, 0.26892549137620714 L 1.0644440076596435, 0.2774147698978499 L 1.0622000488008645, 0.2858864395655054 L 1.0598886669798133, 0.29433996264142354 L 1.0575100089110467, 0.3027748025397061 L 1.0550642255794696, 0.31119042386036605 L 1.052551472230751, 0.3195862924233124 L 1.04997190836147, 0.3279618753022568 L 1.047325697708992, 0.33631664085854146 L 1.0446130082410754, 0.3446500587748841 L 1.0418340121452094, 0.35296160008904054 L 1.0389888858176852, 0.3612507372273798 L 1.0360778098523984, 0.3695169440383722 L 1.0331009690293869, 0.37775969582598656 L 1.0300585523031012, 0.3859784693829951 L 1.0269507527904105, 0.39417274302418426 L 1.0237777677583453, 0.40234199661946807 L 1.0205397986115752, 0.4104857116269037 L 1.0172370508796258, 0.4186033711256059 L 1.0138697342038312, 0.426694459848558 L 1.0104380623240286, 0.4347584642153189 L 1.0069422530649899, 0.4427948723646221 L 1.0033825283225966, 0.4508031741868663 L 0.9997591140497535, 0.4587828613564942 L 0.9960722402420481, 0.4667334273642589 L 0.9923221409231501, 0.47465436754937385 L 0.9885090541299578, 0.4825451791315465 L 0.9846332218974885, 0.49040536124289213 L 0.9806948902435147, 0.49823441495972637 L 0.9766943091529495, 0.5060318433342341 L 0.9726317325619775, 0.5137971514260136 L 0.9685074183419373, 0.5215298463334919 L 0.9643216282829526, 0.5292294372252127 L 0.9600746280773147, 0.5368954353709912 L 0.9557666873026188, 0.5445273541729361 L 0.9513980794046522, 0.5521247091963366 L 0.9469690816800367, 0.559687018200412 L 0.942479975258628, 0.5672138011689207 L 0.937931045085671, 0.5747045803406311 L 0.9333225799037128, 0.5821588802396455 L 0.9286548722342741, 0.5895762277055817 L 0.9239282183592833, 0.5969561519236072 L 0.9191429183022675, 0.6042981844543233 L 0.9142992758093111, 0.6116018592634995 L 0.9093975983297738, 0.618866712751655 L 0.9044381969967764, 0.6260922837834855 L 0.8994213866074505, 0.633278113717134 L 0.8943474856029581, 0.6404237464333025 L 0.8892168160482776, 0.6475287283642045 L 0.8840297036117618, 0.6545926085223548 L 0.8787864775444648, 0.6616149385291962 L 0.873487470659244, 0.66859527264356 L 0.8681330193096347, 0.6755331677899594 L 0.8627234633684994, 0.682428183586714 L 0.8572591462064549, 0.6892798823739019 L 0.8517404146700774, 0.6960878292411418 L 0.8461676190598856, 0.7028515920551968 L 0.8405411131081059, 0.7095707414874057 L 0.8348612539562191, 0.7162448510409339 L 0.8291284021322916, 0.722873497077845 L 0.8233429215280897, 0.7294562588459914 L 0.8175051793759827, 0.7359927185057217 L 0.8116155462256324, 0.7424824611564023 L 0.8056743959204727, 0.7489250748627538 L 0.79968210557398, 0.7553201506809983 L 0.7936390555457354, 0.7616672826848171 L 0.7875456294172825, 0.7679660679911168 L 0.7814022139677786, 0.7742161067856015 L 0.7752091991494451, 0.7804170023481525 L 0.7047356355904045, 0.709470002134684 L 0.7103656490616169, 0.7038328243505467 L 0.7159505721975294, 0.6981509709010152 L 0.721490050496123, 0.6924248024407428 L 0.7269837323399818, 0.6866546824372711 L 0.7324312690186116, 0.680840977147958 L 0.7378323147505749, 0.6749840555967292 L 0.7431865267054387, 0.669084289550656 L 0.7484935650255361, 0.6631420534963558 L 0.7537530928475377, 0.6571577246162227 L 0.7589647763238355, 0.6511316827644853 L 0.7641282846437325, 0.6450643104430961 L 0.7692432900544414, 0.6389559927774515 L 0.7743094678818885, 0.632807117491947 L 0.7793264965513226, 0.6266180748853654 L 0.7842940576077266, 0.6203892578061035 L 0.7892118357360315, 0.6141210616272358 L 0.7940795187811309, 0.6078138842214181 L 0.7988967977676952, 0.6014681259356328 L 0.8036633669197834, 0.595084189565777 L 0.8083789236802523, 0.5886624803310949 L 0.8130431687299619, 0.5822034058484568 L 0.8176558060067731, 0.5757073761064855 L 0.8222165427243421, 0.5691748034395322 L 0.8267250893907034, 0.5626061025015044 L 0.8311811598266464, 0.5560016902395449 L 0.8355844711838795, 0.5493619858675666 L 0.8399347439629847, 0.5426874108396429 L 0.8442317020311583, 0.5359783888232561 L 0.8484750726397389, 0.5292353456724049 L 0.8526645864415191, 0.5224587094005737 L 0.8567999775078436, 0.5156489101535643 L 0.8608809833454878, 0.5088063801821927 L 0.8649073449133201, 0.5019315538148514 L 0.8688788066387443, 0.4950248674299419 L 0.8727951164339224, 0.48808675942817376 L 0.876656025711775, 0.4811176702047387 L 0.8804612894017612, 0.47411804212135616 L 0.8842106659654341, 0.46708831947819407 L 0.8879039174117722, 0.46002894848566733 L 0.8915408093122861, 0.45294037723611486 L 0.8951211108158985, 0.44582305567535646 L 0.8986445946635979, 0.43867743557413313 L 0.9021110372028637, 0.43150397049943073 L 0.9055202184018618, 0.42430311578568985 L 0.9088719218634121, 0.4170753285059038 L 0.912165934838724, 0.40982106744260566 L 0.9154020482408999, 0.40254079305874735 L 0.9185800566582077, 0.3952349674684717 L 0.9216997583671193, 0.38790405440778 L 0.9247609553451143, 0.38054851920509625 L 0.9277634532832502, 0.37316882875173063 L 0.9307070615984956, 0.36576545147224365 L 0.9335915934458275, 0.35833885729471293 L 0.9364168657300919, 0.35088951762090465 L 0.9391826991176244, 0.3434179052963514 L 0.9418889180476349, 0.33592449458033835 L 0.94453535074335, 0.32840976111579984 L 0.9471218292229175, 0.32087418189912775 L 0.9496481893100684, 0.3133182352498946 L 0.9521142706445381, 0.3057424007804922 L 0.9545199166922453, 0.298147159365688 L 0.956864974755228, 0.2905329931121021 L 0.9591492959813359, 0.2829003853276055 L 0.9613727353736787, 0.2752498204906419 L 0.9635351517998302, 0.2675817842194759 L 0.9656364080007858, 0.2598967632413685 L 0.9676763705996758, 0.2521952453616817 L 0.9696549101102312, 0.24447771943291557 L 0.9715719009450027, 0.23674467532367838 L 0.9734272214233323, 0.22899660388759208 L 0.9752207537790774, 0.22123399693213558 L 0.9769523841680853, 0.21345734718742737 L 0.9786220026754201, 0.20566714827494953 L 0.9802295033223392, 0.19786389467621515 L 0.98177478407302, 0.19004808170138132 L 0.9832577468410375, 0.18222020545780926 L 0.9846782974955892, 0.1743807628185741 L 0.986036345867471, 0.1665302513909259 L 0.9873318057548001, 0.15866916948470408 L 0.9885645949284866, 0.15079801608070748 L 0.9897346351374534, 0.14291729079902138 L 0.990841852113603, 0.1350274938673043 L 0.9918861755765315, 0.12712912608903626 L 0.9928675392379899, 0.1192226888117302 L 0.9937858808060913, 0.1113086838951091 L 0.9946411419892655, 0.10338761367925055 L 0.9954332684999583, 0.09545998095270074 L 0.9961622100580781, 0.08752628892056012 L 0.9968279203941872, 0.07958704117254245 L 0.9974303572524383, 0.07164274165100964 L 0.9979694823932572, 0.063693894618984 L 0.9984452615957701, 0.05574100462814029 L 0.998857664659975, 0.04778457648677935 L 0.9992066654086599, 0.039825115227785535 L 0.9994922416890631, 0.031863126076569805 L 0.9997143753742803, 0.023899114419000632 L 0.9998730523644147, 0.015933585769324715 L 0.999968262587472, 0.007967045738079576 L 1.0, 0.0 L 1.1 ,0.0\",\"type\":\"path\"},{\"fillcolor\":\"rgba(244,109,67,0.75)\",\"layer\":\"below\",\"line\":{\"color\":\"rgb(150,150,150)\",\"width\":0.45},\"path\":\"M 0.7752087087988276, 0.7804174894263035 L 0.77094524102495, 0.7846294892119349 L 0.7666588882196722, 0.7888181977577446 L 0.7623497776207192, 0.792983490724517 L 0.7580180371413671, 0.7971252444681133 L 0.7536637953666455, 0.801243336043142 L 0.7492871815495216, 0.8053376432066084 L 0.7448883256070624, 0.8094080444215432 L 0.7404673581165789, 0.813454418860611 L 0.7360244103117494, 0.8174766464096953 L 0.7315596140787243, 0.8214746076714655 L 0.727073101952211, 0.8254481839689213 L 0.7225650071115398, 0.8293972573489139 L 0.7180354633767106, 0.8333217105856493 L 0.7134846052044203, 0.8372214271841666 L 0.7089125676840716, 0.8410962913837968 L 0.7043194865337632, 0.8449461881615992 L 0.6997054980962606, 0.848771003235775 L 0.6950707393349492, 0.8525706230690613 L 0.6904153478297692, 0.8563449348720987 L 0.6857394617731299, 0.8600938266067826 L 0.6810432199658101, 0.8638171869895861 L 0.6763267618128347, 0.8675149054948655 L 0.6715902273193396, 0.8711868723581399 L 0.6668337570864143, 0.8748329785793499 L 0.6620574923069278, 0.8784531159260934 L 0.657261574761338, 0.8820471769368384 L 0.6524461468134833, 0.8856150549241124 L 0.6476113514063566, 0.8891566439776698 L 0.642757332057861, 0.8926718389676359 L 0.6378842328565509, 0.8961605355476271 L 0.6329921984573541, 0.8996226301578489 L 0.6280813740772782, 0.9030580200281698 L 0.6231519054910993, 0.9064666031811719 L 0.6182039390270361, 0.9098482784351778 L 0.6132376215624041, 0.913202945407255 L 0.6082531005192578, 0.9165305045161943 L 0.6032505238600137, 0.9198308569854673 L 0.5982300400830572, 0.9231039048461576 L 0.5931917982183361, 0.926349550939869 L 0.5881359478229359, 0.9295676989216101 L 0.5830626389766401, 0.9327582532626535 L 0.5779720222774763, 0.9359211192533721 L 0.5728642488372437, 0.9390562030060504 L 0.56773947027703, 0.9421634114576716 L 0.5625978387227083, 0.9452426523726792 L 0.5574395068004234, 0.9482938343457162 L 0.5522646276320592, 0.9513168668043384 L 0.5470733548306947, 0.9543116600117012 L 0.5418658424960442, 0.9572781250692259 L 0.5366422452098817, 0.9602161739192365 L 0.5314027180314537, 0.963125719347575 L 0.526147416492875, 0.9660066749861894 L 0.520876496594513, 0.9688589553156984 L 0.5155901148003563, 0.9716824756679291 L 0.5102884280333703, 0.9744771522284307 L 0.5049715936708388, 0.9772429020389626 L 0.4996397695396929, 0.9799796429999568 L 0.49429311391182557, 0.982687293872955 L 0.48893178549939353, 0.9853657742830199 L 0.4835559434501063, 0.9880150047211216 L 0.47816574734250084, 0.9906349065464974 L 0.4727613571812064, 0.9932254019889867 L 0.4673429333921937, 0.9957864141513378 L 0.46191063681801237, 0.9983178670114937 L 0.45646462871301785, 1.0008196854248457 L 0.4510050707385834, 1.0032917951264655 L 0.4455321249583021, 1.0057341227333096 L 0.4400459538331756, 1.0081465957463978 L 0.4345467202167913, 1.0105291425529646 L 0.4290345873504891, 1.0128816924285855 L 0.42350971885851496, 1.0152041755392764 L 0.4179722787431641, 1.0174965229435662 L 0.41242243137991225, 1.0197586665945437 L 0.40686034151253675, 1.0219905393418778 L 0.4012861742482263, 1.0241920749338096 L 0.39570009505267956, 1.0263632080191205 L 0.3901022697451934, 1.0285038741490713 L 0.3844928644937405, 1.030614009779315 L 0.37887204581003725, 1.0326935522717846 L 0.3732399805446011, 1.0347424398965503 L 0.3675968358817964, 1.0367606118336536 L 0.36194277933487323, 1.0387480081749123 L 0.35627797874099393, 1.040704569925698 L 0.3506026022562514, 1.0426302390066888 L 0.344916818350677, 1.044524958255592 L 0.33922079580324044, 1.0463886714288417 L 0.33351470369683833, 1.0482213232032682 L 0.32779871141327654, 1.0500228591777399 L 0.3220729886282418, 1.0517932258747784 L 0.3163377053062637, 1.0535323707421465 L 0.31059303169567143, 1.0552402421544071 L 0.30483913832353854, 1.0569167894144564 L 0.29907619599062196, 1.058561962755029 L 0.2933043757662908, 1.060175713340174 L 0.28752384898344974, 1.061757993266706 L 0.281734787233451, 1.0633087555656269 L 0.2759373623610033, 1.0648279542035195 L 0.2701317464590683, 1.0663155440839143 L 0.26431811186375415, 1.0677714810486278 L 0.24028919260341286, 0.9707013464078433 L 0.24557431496278934, 0.9693777673490128 L 0.25085214760091207, 0.9680254129122904 L 0.2561225338485918, 0.966644323241479 L 0.26138531725768155, 0.965234539333369 L 0.2666403416057189, 0.9637961030365216 L 0.2718874509005654, 0.9623290570500262 L 0.27712648938503504, 0.9608334449222331 L 0.28235730154151945, 0.9593093110494609 L 0.28757973209660337, 0.9577567006746786 L 0.2927936260256743, 0.9561756598861622 L 0.29799882855752413, 0.954566235616127 L 0.3031951851789439, 0.9529284756393346 L 0.30838254163930945, 0.9512624285716742 L 0.31356074395516087, 0.9495681438687199 L 0.318729638414774, 0.9478456718242625 L 0.32388907158272173, 0.9460950635688163 L 0.3290388903044302, 0.944316371068102 L 0.334178941710724, 0.9425096471215032 L 0.33930907322236464, 0.9406749453605002 L 0.3444291325545793, 0.9388123202470768 L 0.3495389677215822, 0.9369218270721046 L 0.3546384270410849, 0.9350035219537011 L 0.35972735913879955, 0.933057461835564 L 0.364805612952933, 0.9310837044852814 L 0.36987303773866975, 0.9290823084926161 L 0.37492948307264745, 0.927053333267767 L 0.3799747988574219, 0.9249968390396055 L 0.38500883532592267, 0.9229128868538875 L 0.39003144304589915, 0.9208015385714413 L 0.3950424729243557, 0.9186628568663314 L 0.4000417762119778, 0.916496905223998 L 0.4050292045075473, 0.9143037479393724 L 0.41000460976234854, 0.9120834501149685 L 0.4149678442845616, 0.9098360776589505 L 0.4199187607436476, 0.907561697283176 L 0.4248572121747215, 0.9052603765012162 L 0.42978305198291483, 0.9029321836263514 L 0.434696133947728, 0.9005771877695431 L 0.4395963122273693, 0.8981954588373832 L 0.444483441363085, 0.895787067530018 L 0.44935737628347777, 0.8933520853390499 L 0.4542179723088117, 0.8908905845454151 L 0.459065085155308, 0.8884026382172386 L 0.4638985709394275, 0.8858883202076642 L 0.4687182861821421, 0.8833477051526627 L 0.47352408781319355, 0.8807808684688166 L 0.4783158331753408, 0.8781878863510812 L 0.4830933800285942, 0.8755688357705226 L 0.4878565865544378, 0.8729237944720332 L 0.4926053113600401, 0.8702528409720235 L 0.49733941348244975, 0.867556054556092 L 0.5020587523927811, 0.8648335152766712 L 0.5067631880003849, 0.8620853039506511 L 0.5114525806570075, 0.859311502156981 L 0.5161267911609363, 0.8565121922342468 L 0.5207856807611306, 0.8536874572782276 L 0.525429111161342, 0.8508373811394291 L 0.5300569445242183, 0.847962048420594 L 0.5346690434753962, 0.8450615444741909 L 0.5392652711075783, 0.8421359553998808 L 0.5438454909845974, 0.8391853680419613 L 0.548409567145467, 0.8362098699867884 L 0.5529573641084162, 0.8332095495601766 L 0.5574887468749128, 0.8301844958247772 L 0.5620035809336691, 0.8271347985774343 L 0.5665017322646357, 0.8240605483465199 L 0.5709830673429801, 0.8209618363892452 L 0.5754474531430491, 0.8178387546889535 L 0.579894757142319, 0.8146913959523882 L 0.5843248473253282, 0.8115198536069417 L 0.5887375921875969, 0.8083242217978815 L 0.5931328607395303, 0.8051045953855567 L 0.5975105225103072, 0.8018610699425803 L 0.6018704475517525, 0.798593741750994 L 0.6062125064421948, 0.7953027077994089 L 0.6105365702903087, 0.791988065780127 L 0.6148425107389406, 0.7886499140862413 L 0.6191301999689182, 0.7852883518087146 L 0.6233995107028454, 0.7819034787334387 L 0.627650316208881, 0.7784953953382715 L 0.6318824903044993, 0.7750642027900556 L 0.6360959073602368, 0.7716100029416136 L 0.640290442303421, 0.7681328983287264 L 0.6444659706218833, 0.7646329921670879 L 0.6486223683676547, 0.7611103883492423 L 0.652759512160646, 0.7575651914414993 L 0.6568772791923089, 0.7539975066808308 L 0.6609755472292826, 0.7504074399717465 L 0.665054194617022, 0.7467950978831505 L 0.6691131002834084, 0.7431605876451775 L 0.6731521437423444, 0.7395040171460099 L 0.6771712050973294, 0.7358254949286757 L 0.6811701650450196, 0.7321251301878258 L 0.6851489048787686, 0.7284030327664927 L 0.6891073064921518, 0.7246593131528302 L 0.6930452523824719, 0.7208940824768336 L 0.6969626256542474, 0.7171074525070406 L 0.7008593100226818, 0.7132995356472135 L 0.704735189817116, 0.7094704449330032 L 0.7752087087988276 ,0.7804174894263035\",\"type\":\"path\"},{\"fillcolor\":\"rgba(253,174,97,0.75)\",\"layer\":\"below\",\"line\":{\"color\":\"rgb(150,150,150)\",\"width\":0.45},\"path\":\"M 0.26431744096309384, 1.0677716471243848 L 0.2558336451469724, 1.0698360369752056 L 0.2473337304375476, 1.0718330214113796 L 0.23881823237508576, 1.0737624746121648 L 0.23028768748168685, 1.0756242750116498 L 0.2217426332274831, 1.0774183053064126 L 0.2131836079967734, 1.079144452462912 L 0.2046111510541041, 1.080802607724609 L 0.19602580251029056, 1.0823926666188186 L 0.18742810328838921, 1.083914528963293 L 0.17881859508961456, 1.0853680988725332 L 0.170197820359211, 1.08675328476383 L 0.16156632225227402, 1.088069999363035 L 0.15292464459953023, 1.089318159710058 L 0.14427333187307148, 1.0904976871640961 L 0.1356129291520519, 1.091608507408586 L 0.12694398208834304, 1.0926505504558879 L 0.11826703687215702, 1.0936237506516946 L 0.10958264019763143, 1.0945280466791687 L 0.10089133922838679, 1.0953633815628048 L 0.09219368156305023, 1.09612970267202 L 0.0834902152007559, 1.09682696172447 L 0.07478148850661603, 1.09745511478909 L 0.06606805017717296, 1.098014122288865 L 0.057350449205826416, 1.0985039490033206 L 0.04862923484824589, 1.098924564070744 L 0.0399049565877626, 1.099275940990127 L 0.031178164100751107, 1.0995580576228374 L 0.022449407221994986, 1.0997708961940125 L 0.013719235910045051, 1.0999144432936794 L 0.0049882002125694914, 1.0999886898776003 L -0.0037431497683025755, 1.0999936312678416 L -0.012474263910640982, 1.0999292671530692 L -0.021204592107374656, 1.099795601588568 L -0.02993358430095082, 1.0995926429959861 L -0.03866069051799208, 1.0993204041628046 L -0.047385360903948175, 1.098978902241532 L -0.05610704575773927, 1.0985681587486227 L -0.06482519556638963, 1.0980881995631222 L -0.0735392610396503, 1.0975390549250366 L -0.08224869314460792, 1.0969207594334263 L -0.09095294314027617, 1.096233352044227 L -0.09965146261216873, 1.0954768760677953 L -0.10834370350685402, 1.0946513791661796 L -0.11702911816648355, 1.093756913350117 L -0.1257071593632993, 1.0927935349757567 L -0.13437728033410998, 1.0917613047411088 L -0.14303893481474203, 1.0906602876822205 L -0.15169157707445535, 1.0894905531690786 L -0.160334661950329, 1.0882521749012377 L -0.16896764488160762, 1.0869452309031782 L -0.17758998194401363, 1.085569803519389 L -0.18620112988401527, 1.084125979409181 L -0.19480054615305656, 1.0826138495412254 L -0.20338768894173895, 1.081033509187823 L -0.21196201721395982, 1.079385057918901 L -0.22052299074099907, 1.077668599595741 L -0.22907007013555816, 1.0758842423644333 L -0.23760271688574253, 1.0740320986490646 L -0.2461203933889925, 1.0721122851446334 L -0.2546225629859542, 1.0701249228096987 L -0.2631086899942917, 1.0680701368587588 L -0.27157823974243844, 1.0659480567543613 L -0.28003067860328446, 1.0637588161989466 L -0.28846547402779776, 1.0615025531264246 L -0.29688209457857706, 1.059179409693484 L -0.30528000996333565, 1.0567895322706342 L -0.31365869106831334, 1.0543330714329853 L -0.32201760999161266, 1.0518101819507595 L -0.33035624007645925, 1.0492210227795404 L -0.3386740559443846, 1.0465657570502582 L -0.3469705335283281, 1.0438445520589106 L -0.3552451501056555, 1.041057579256023 L -0.3634973843310929, 1.0382050142358463 L -0.37172671626957493, 1.0352870367252933 L -0.3799326274290034, 1.032303830572615 L -0.3881146007929153, 1.0292555837358164 L -0.3962721208530566, 1.0261424882708154 L -0.40440467364186267, 1.0229647403193418 L -0.4125117467648417, 1.019722540096579 L -0.4205928294328574, 1.0164160918785492 L -0.42864741249431115, 1.013045603989244 L -0.4366749884672226, 1.0096112887874973 L -0.4446750515712027, 1.006113362653607 L -0.4526470977593206, 1.0025520459757011 L -0.4605906247498619, 0.9989275631358523 L -0.46850513205797417, 0.9952401424959406 L -0.4763901210272022, 0.9914900163832654 L -0.48424509486090317, 0.9876774210759073 L -0.4920695586535492, 0.9838025967878421 L -0.49986301942190986, 0.9798657876538049 L -0.5076249861361107, 0.9758672417139094 L -0.5153549697505719, 0.9718072108980192 L -0.5230524832348209, 0.9676859510098758 L -0.5307170416041772, 0.9635037217109804 L -0.5383481619503107, 0.9592607865042343 L -0.5459453634716649, 0.9549574127173378 L -0.5535081675037518, 0.9505938714859458 L -0.5610360975493108, 0.9461704377365847 L -0.5685286793083286, 0.941687390169332 L -0.5168442539166623, 0.8560794456084836 L -0.5100328159539189, 0.8601549433968951 L -0.5031892431852288, 0.8641762468054052 L -0.4963139667924226, 0.868143102470307 L -0.4894074199548278, 0.8720552604583948 L -0.4824700378219792, 0.8759124742827094 L -0.4755022574862008, 0.8797145009180688 L -0.4685045179550653, 0.8834611008163811 L -0.46147726012373697, 0.8871520379217357 L -0.45442092674719076, 0.8907870796852771 L -0.4473359624123174, 0.8943659970798564 L -0.44022281350991194, 0.8978885646144611 L -0.4330819282065474, 0.901354560348423 L -0.4259137564163401, 0.9047637659054005 L -0.4187187497726017, 0.9081159664871383 L -0.4114973615993823, 0.9114109508870009 L -0.4042500468829115, 0.914648511503279 L -0.39697726224292956, 0.9178284443522702 L -0.3896794659039192, 0.9209505490811307 L -0.382357117666234, 0.9240146289804992 L -0.3750106788771288, 0.92702049099689 L -0.3676406124016933, 0.9299679457448562 L -0.36024738259368777, 0.9328568075189231 L -0.3528314552662866, 0.9356868943052875 L -0.34539329766273036, 0.9384580277932864 L -0.33793337842688626, 0.9411700333866303 L -0.3304521675737208, 0.9438227402144057 L -0.3229501364596868, 0.946415981141839 L -0.3154277577530255, 0.9489495927808277 L -0.30788550540398596, 0.9514234155002347 L -0.3003238546149629, 0.9538372934359458 L -0.2927432818105569, 0.9561910745006904 L -0.28514426460755754, 0.958484610393623 L -0.2775272817848506, 0.9607177566096674 L -0.2698928132532519, 0.9628903724486216 L -0.26224134002527066, 0.9650023210240224 L -0.25457334418480404, 0.9670534692717695 L -0.2468893088567622, 0.9690436879585101 L -0.23918971817662882, 0.9709728516897808 L -0.23147505725995834, 0.972840838917908 L -0.22374581217181133, 0.9746475319496667 L -0.21600246989612956, 0.976392816953695 L -0.20824551830505286, 0.9780765839676666 L -0.20047544612818097, 0.979698726905219 L -0.19269274292178165, 0.9812591435626372 L -0.18489789903794449, 0.9827577356252934 L -0.17709140559368777, 0.9841944086738412 L -0.16927375444001386, 0.9855690721901647 L -0.16144543813092146, 0.986881639563081 L -0.15360694989237056, 0.9881320280937982 L -0.14575878359120817, 0.989320159001125 L -0.1379014337040503, 0.9904459574264349 L -0.13003539528612912, 0.9915093524383822 L -0.12216116394009996, 0.9925102770373716 L -0.11427923578481754, 0.9934486681597787 L -0.10639010742407595, 0.9943244666819245 L -0.09849427591532182, 0.9951376174237996 L -0.0905922387383352, 0.9958880691525411 L -0.08268449376388742, 0.9965757745856607 L -0.07477153922237083, 0.9972006903940237 L -0.06685387367240936, 0.9977627772045786 L -0.058931995969445115, 0.9982619996028383 L -0.051006405234308425, 0.9986983261351114 L -0.04307760082177106, 0.9990717293104836 L -0.035146082289083704, 0.9993821856025497 L -0.027212349364500742, 0.9996296754508963 L -0.01927690191579514, 0.9998141832623344 L -0.011340239918764528, 0.999935697411881 L -0.003402863425729614, 0.9999942102434922 L 0.004534727465972265, 0.9999897180705456 L 0.0124720326454955, 0.9999222211760721 L 0.02040855201999544, 0.9997917238127385 L 0.028343785546137368, 0.9995982342025793 L 0.036277233261602364, 0.9993417645364789 L 0.04420839531658717, 0.9990223309734034 L 0.05213677200529674, 0.9986399536393823 L 0.060061863797429955, 0.9981946566262409 L 0.06798317136965093, 0.9976864679900819 L 0.07590019563705082, 0.997115419749518 L 0.08381243778459112, 0.9964815478836545 L 0.09171939929853344, 0.9957848923298225 L 0.09962058199784675, 0.9950254969810625 L 0.10751548806559728, 0.9942034096833587 L 0.11540362008031185, 0.9933186822326252 L 0.12328448104731989, 0.9923713703714416 L 0.13115757443006498, 0.9913615337855418 L 0.1390224041813911, 0.9902892361000527 L 0.14687847477479454, 0.9891545448754862 L 0.15472529123564635, 0.9879575316034817 L 0.16256235917237685, 0.9866982717023027 L 0.17038918480762655, 0.9853768445120844 L 0.17820527500935504, 0.983993333289835 L 0.1860101373219128, 0.9825478252041898 L 0.19380327999706673, 0.9810404113299199 L 0.20158421202498464, 0.9794711866421932 L 0.20935244316516985, 0.9778402500105906 L 0.21710748397735066, 0.976147704192877 L 0.224848845852316, 0.9743936558285268 L 0.23257604104270213, 0.972578215432005 L 0.24028858269372166, 0.9707014973858042 L 0.26431744096309384 ,1.0677716471243848\",\"type\":\"path\"},{\"fillcolor\":\"rgba(254,224,139,0.75)\",\"layer\":\"below\",\"line\":{\"color\":\"rgb(150,150,150)\",\"width\":0.45},\"path\":\"M -0.5685292709878537, 0.9416870329520418 L -0.572263309619458, 0.9394225377663582 L -0.5759883287272445, 0.9371432362077826 L -0.5797042696006544, 0.9348491642007132 L -0.5834110736722126, 0.9325403579023465 L -0.5871086825184502, 0.9302168537021085 L -0.5907970378608258, 0.9278786882210811 L -0.5944760815666436, 0.9255258983114246 L -0.5981457556499699, 0.9231585210557972 L -0.6018060022725468, 0.9207765937667701 L -0.6054567637447045, 0.9183801539862397 L -0.6090979825262691, 0.915969239484836 L -0.6127296012274713, 0.9135438882613272 L -0.6163515626098497, 0.9111041385420202 L -0.6199638095871531, 0.9086500287801593 L -0.6235662852262407, 0.9061815976553192 L -0.627158932747979, 0.9036988840727957 L -0.6307416955281367, 0.9012019271629924 L -0.6343145170982778, 0.898690766280804 L -0.6378773411466508, 0.8961654410049962 L -0.6414301115190766, 0.8936259911375817 L -0.6449727722198335, 0.8910724567031926 L -0.6485052674125399, 0.8885048779484502 L -0.6520275414210343, 0.8859232953413302 L -0.6555395387302522, 0.8833277495705251 L -0.6590412039871023, 0.8807182815448029 L -0.6625324820013381, 0.878094932392362 L -0.6660133177464272, 0.8754577434601837 L -0.6694836563604208, 0.872806756313379 L -0.6729434431468156, 0.8701420127345356 L -0.6763926235754174, 0.867463554723058 L -0.6798311432832005, 0.8647714244945057 L -0.6832589480751645, 0.862065664479928 L -0.6866759839251879, 0.8593463173251953 L -0.6900821969768804, 0.8566134258903266 L -0.6934775335444312, 0.8538670332488147 L -0.6968619401134554, 0.8511071826869464 L -0.7002353633418371, 0.8483339177031209 L -0.703597750060571, 0.845547282007164 L -0.7069490472745991, 0.8427473195196393 L -0.710289202163647, 0.8399340743711555 L -0.7136181620830564, 0.837107590901672 L -0.716935874564614, 0.8342679136597981 L -0.7202422873173789, 0.8314150874020932 L -0.7235373482285077, 0.8285491570923595 L -0.7268210053640739, 0.8256701679009342 L -0.7300932069698883, 0.8227781652039776 L -0.7333539014723137, 0.8198731945827575 L -0.7366030374790778, 0.8169553018229312 L -0.7398405637800837, 0.8140245329138233 L -0.7430664293482165, 0.8110809340477015 L -0.7462805833401482, 0.8081245516190486 L -0.7494829750971381, 0.8051554322238301 L -0.752673554145832, 0.8021736226587617 L -0.7558522701990575, 0.7991791699205698 L -0.7590190731566167, 0.7961721212052522 L -0.7621739131060752, 0.7931525239073334 L -0.7653167403235499, 0.790120425619118 L -0.7684475052744918, 0.7870758741299406 L -0.7715661586144669, 0.7840189174254123 L -0.7746726511899342, 0.7809496036866647 L -0.7777669340390203, 0.7778679812895903 L -0.7808489583922908, 0.7747740988040803 L -0.7839186756735195, 0.7716680049932585 L -0.7869760375004532, 0.7685497488127138 L -0.7900209956855757, 0.7654193794097272 L -0.7930535022368654, 0.7622769461224983 L -0.7960735093585534, 0.7591224984793676 L -0.7990809694518755, 0.7559560861980351 L -0.8020758351158234, 0.7527777591847773 L -0.8050580591478914, 0.7495875675336607 L -0.8080275945448203, 0.7463855615257518 L -0.810984394503338, 0.7431717916283249 L -0.8139284124208982, 0.7399463084940667 L -0.8168596018964129, 0.7367091629602783 L -0.8197779167309867, 0.7334604060480726 L -0.8226833109286421, 0.7302000889615718 L -0.8255757386970457, 0.7269282630870996 L -0.8284551544482301, 0.7236449799923712 L -0.8313215127993122, 0.7203502914256807 L -0.8341747685732083, 0.7170442493150857 L -0.837014876799346, 0.7137269057675883 L -0.839841792714374, 0.7103983130683144 L -0.8426554717628663, 0.7070585236796891 L -0.8454558695980254, 0.7037075902406106 L -0.8482429420823806, 0.7003455655656194 L -0.8510166452884841, 0.6969725026440674 L -0.8537769354996033, 0.6935884546392812 L -0.8565237692104098, 0.6901934748877251 L -0.8592571031276647, 0.6867876168981601 L -0.8619768941709014, 0.6833709343508011 L -0.8646830994731044, 0.67994348109647 L -0.8673756763813855, 0.6765053111557471 L -0.870054582457655, 0.6730564787181205 L -0.8727197754792914, 0.6695970381411313 L -0.8753712134398062, 0.6661270439495167 L -0.8780088545495072, 0.6626465508343513 L -0.8806326572361556, 0.6591556136521844 L -0.8832425801456223, 0.6556542874241761 L -0.8858385821425393, 0.6521426273352293 L -0.805307801947763, 0.5928569339411175 L -0.8029478001323839, 0.5960493522037964 L -0.8005751429419595, 0.5992323760474404 L -0.7981898677722792, 0.6024059553039557 L -0.7957920122180056, 0.6055700399541061 L -0.793381614072083, 0.6087245801283011 L -0.7909587113251408, 0.6118695261073822 L -0.7885233421648958, 0.6150048283234064 L -0.7860755449755494, 0.6181304373604272 L -0.783615358337183, 0.6212463039552737 L -0.7811428210251496, 0.6243523789983274 L -0.7786579720094634, 0.6274486135342955 L -0.7761608504541848, 0.6305349587629828 L -0.7736514957168037, 0.6336113660400612 L -0.7711299473476186, 0.6366777868778358 L -0.768596245089114, 0.6397341729460095 L -0.7660504288753329, 0.6427804760724446 L -0.763492538831249, 0.645816648243922 L -0.7609226152721327, 0.6488426416068984 L -0.7583406987029165, 0.6518584084682597 L -0.7557468298175565, 0.6548639012960733 L -0.753141049498391, 0.6578590727203374 L -0.750523398815496, 0.6608438755337268 L -0.7478939190260382, 0.663818262692338 L -0.7452526515736242, 0.6667821873164296 L -0.7425996380876481, 0.6697356026911621 L -0.7399349203826346, 0.6726784622673333 L -0.73725854045758, 0.6756107196621135 L -0.7345705404952911, 0.6785323286597743 L -0.7318709628617194, 0.6814432432124188 L -0.7291598501052939, 0.6843434174407066 L -0.7264372449562504, 0.6872328056345773 L -0.7237031903259575, 0.6901113622539705 L -0.7209577293062412, 0.6929790419295438 L -0.7182009051687052, 0.6958357994633882 L -0.7154327613640483, 0.6986815898297397 L -0.7126533415213813, 0.7015163681756895 L -0.709862689447537, 0.7043400898218911 L -0.707060849126382, 0.7071527102632639 L -0.704247864718122, 0.7099541851696951 L -0.7014237805586062, 0.7127444703867384 L -0.6985886411586288, 0.7155235219363096 L -0.6957424912032272, 0.71829129601738 L -0.6928853755509774, 0.7210477490066667 L -0.6900173392332878, 0.7237928374593201 L -0.6871384274536886, 0.7265265181096089 L -0.6842486855871199, 0.7292487478716014 L -0.6813481591792164, 0.7319594838398455 L -0.6784368939455893, 0.7346586832900441 L -0.6755149357711059, 0.7373463036797286 L -0.672582330709167, 0.7400223026489302 L -0.6696391249809798, 0.7426866380208464 L -0.6666853649748306, 0.7453392678025068 L -0.663721097245353, 0.7479801501854342 L -0.6607463685127944, 0.7506092435463038 L -0.6577612256622797, 0.7532265064475995 L -0.6547657157430717, 0.7558318976382665 L -0.6517598859678309, 0.7584253760543619 L -0.6487437837118694, 0.7610069008197017 L -0.6457174565124063, 0.763576431246505 L -0.6426809520678173, 0.7661339268360357 L -0.6396343182368827, 0.7686793472792399 L -0.6365776030380337, 0.7712126524573826 L -0.6335108546485957, 0.7737338024426785 L -0.6304341214040283, 0.7762427574989225 L -0.627347451797164, 0.7787394780821151 L -0.6242508944774435, 0.7812239248410866 L -0.6211444982501495, 0.7836960586181163 L -0.6180283120756368, 0.7861558404495506 L -0.6149023850685612, 0.7886032315664163 L -0.611766766497105, 0.7910381933950323 L -0.6086215057822008, 0.7934606875576172 L -0.605466652496752, 0.7958706758728942 L -0.6023022563648528, 0.7982681203566927 L -0.599128367261002, 0.8006529832225481 L -0.5959450352093201, 0.8030252268822955 L -0.5927523103827583, 0.8053848139466637 L -0.589550243102309, 0.8077317072258637 L -0.5863388838362122, 0.810065869730175 L -0.5831182831991605, 0.8123872646705287 L -0.5798884919515007, 0.8146958554590874 L -0.5766495609984343, 0.8169916057098218 L -0.5734015413892152, 0.8192744792390839 L -0.5701444843163445, 0.8215444400661779 L -0.5668784411147643, 0.8238014524139265 L -0.5636034632610483, 0.8260454807092357 L -0.5603196023725906, 0.8282764895836546 L -0.5570269102067921, 0.8304944438739337 L -0.5537254386602446, 0.8326993086225781 L -0.5504152397679131, 0.8348910490783997 L -0.5470963657023152, 0.8370696306970636 L -0.5437688687726998, 0.8392350191416338 L -0.5404328014242213, 0.8413871802831132 L -0.5370882162371143, 0.8435260802009827 L -0.5337351659258638, 0.8456516851837349 L -0.530373703338375, 0.8477639617294058 L -0.5270038814551403, 0.8498628765461028 L -0.523625753388404, 0.8519483965525296 L -0.5202393723813254, 0.8540204888785073 L -0.5168447918071396, 0.8560791208654925 L -0.5685292709878537 ,0.9416870329520418\",\"type\":\"path\"},{\"fillcolor\":\"rgba(255,255,191,0.75)\",\"layer\":\"below\",\"line\":{\"color\":\"rgb(150,150,150)\",\"width\":0.45},\"path\":\"M -0.8858389918956617, 0.6521420707463044 L -0.8865426744425583, 0.6511851398736278 L -0.8872453232617773, 0.6502274497051818 L -0.8879469375340148, 0.6492690013576534 L -0.8886475164411742, 0.6483097959486137 L -0.8893470591663656, 0.6473498345965165 L -0.8900455648939067, 0.6463891184206975 L -0.8907430328093255, 0.6454276485413722 L -0.8914394620993588, 0.6444654260796354 L -0.8921348519519559, 0.6435024521574584 L -0.8928292015562771, 0.6425387278976894 L -0.8935225101026959, 0.6415742544240517 L -0.8942147767827999, 0.6406090328611419 L -0.894906000789391, 0.6396430643344293 L -0.8955961813164877, 0.638676349970253 L -0.8962853175593246, 0.6377088908958232 L -0.8969734087143542, 0.6367406882392175 L -0.8976604539792474, 0.635771743129381 L -0.8983464525528946, 0.6348020566961249 L -0.8990314036354073, 0.6338316300701232 L -0.8997153064281176, 0.6328604643829148 L -0.9003981601335804, 0.6318885607668993 L -0.9010799639555737, 0.6309159203553372 L -0.9017607170990993, 0.6299425442823484 L -0.9024404187703849, 0.6289684336829093 L -0.903119068176884, 0.6279935896928542 L -0.9037966645272767, 0.6270180134488718 L -0.904473207031471, 0.626041706088505 L -0.9051486949006039, 0.625064668750149 L -0.9058231273470426, 0.6240869025730501 L -0.9064965035843842, 0.6231084086973042 L -0.9071688228274576, 0.6221291882638565 L -0.9078400842923242, 0.621149242414499 L -0.9085102871962786, 0.6201685722918694 L -0.9091794307578503, 0.6191871790394496 L -0.9098475141968037, 0.6182050638015653 L -0.9105145367341388, 0.6172222277233839 L -0.9111804975920935, 0.6162386719509131 L -0.9118453959941427, 0.6152543976310005 L -0.9125092311650014, 0.6142694059113301 L -0.9131720023306231, 0.6132836979404236 L -0.9138337087182026, 0.6122972748676375 L -0.9144943495561764, 0.6113101378431623 L -0.9151539240742225, 0.6103222880180214 L -0.9158124315032635, 0.6093337265440675 L -0.9164698710754658, 0.608344454573985 L -0.9171262420242404, 0.6073544732612862 L -0.9177815435842452, 0.6063637837603104 L -0.9184357749913838, 0.6053723872262232 L -0.9190889354828095, 0.604380284815013 L -0.9197410242969225, 0.6033874776834932 L -0.9203920406733735, 0.6023939669892977 L -0.9210419838530636, 0.6013997538908818 L -0.9216908530781451, 0.6004048395475184 L -0.9223386475920227, 0.5994092251192993 L -0.9229853666393542, 0.598412911767132 L -0.9236310094660511, 0.5974159006527391 L -0.9242755753192803, 0.5964181929386575 L -0.9249190634474643, 0.5954197897882345 L -0.9255614731002825, 0.5944206923656303 L -0.9262028035286709, 0.5934209018358135 L -0.926843053984825, 0.5924204193645615 L -0.9274822237221987, 0.5914192461184583 L -0.9281203119955069, 0.5904173832648927 L -0.9287573180607248, 0.5894148319720584 L -0.9293932411750899, 0.5884115934089517 L -0.930028080597102, 0.58740766874537 L -0.9306618355865248, 0.5864030591519116 L -0.931294505404387, 0.5853977657999717 L -0.9319260893129815, 0.5843917898617442 L -0.9325565865758683, 0.5833851325102187 L -0.9331859964578739, 0.5823777949191788 L -0.9338143182250929, 0.5813697782632025 L -0.934441551144889, 0.5803610837176576 L -0.9350676944858952, 0.5793517124587039 L -0.935692747518015, 0.5783416656632898 L -0.9363167095124231, 0.5773309445091516 L -0.9369395797415662, 0.576319550174812 L -0.9375613574791649, 0.5753074838395775 L -0.9381820420002128, 0.5742947466835396 L -0.9388016325809786, 0.5732813398875715 L -0.9394201284990066, 0.572267264633327 L -0.9400375290331167, 0.57125252210324 L -0.9406538334634074, 0.5702371134805209 L -0.9412690410712544, 0.5692210399491584 L -0.9418831511393124, 0.5682043026939159 L -0.9424961629515162, 0.5671869029003308 L -0.9431080757930803, 0.5661688417547134 L -0.9437188889505019, 0.5651501204441438 L -0.9443286017115599, 0.5641307401564732 L -0.9449372133653158, 0.5631107020803209 L -0.9455447232021157, 0.5620900074050729 L -0.9461511305135896, 0.5610686573208813 L -0.9467564345926545, 0.5600466530186615 L -0.9473606347335123, 0.5590239956900928 L -0.947963730231653, 0.5580006865276153 L -0.9485657203838544, 0.5569767267244291 L -0.9491666044881828, 0.555952117474494 L -0.949766381843995, 0.5549268599725253 L -0.9503650517519376, 0.5539009554139956 L -0.8639682288653978, 0.5035463231036323 L -0.8634239834945409, 0.5044789636113867 L -0.8628787313528934, 0.5054110158859036 L -0.8623324730762313, 0.5063424788403901 L -0.8617852093015027, 0.5072733513887411 L -0.8612369406668293, 0.5082036324455388 L -0.860687667811504, 0.5091333209260559 L -0.8601373913759904, 0.5100624157462557 L -0.8595861120019233, 0.5109909158227934 L -0.8590338303321052, 0.5119188200730189 L -0.8584805470105089, 0.5128461274149756 L -0.8579262626822745, 0.5137728367674034 L -0.8573709779937093, 0.5146989470497394 L -0.8568146935922873, 0.5156244571821189 L -0.8562574101266476, 0.516549366085378 L -0.8556991282465949, 0.517473672681053 L -0.8551398486030976, 0.5183973758913826 L -0.8545795718482878, 0.519320474639309 L -0.8540182986354604, 0.520242967848479 L -0.8534560296190714, 0.5211648544432468 L -0.8528927654547389, 0.5220861333486724 L -0.8523285067992408, 0.523006803490525 L -0.8517632543105146, 0.5239268637952835 L -0.8511970086476572, 0.5248463131901377 L -0.8506297704709227, 0.5257651506029907 L -0.8500615404417229, 0.526683374962458 L -0.8494923192226264, 0.5276009851978705 L -0.8489221074773571, 0.5285179802392749 L -0.8483509058707944, 0.5294343590174353 L -0.8477787150689711, 0.5303501204638351 L -0.847205535739074, 0.5312652635106765 L -0.8466313685494427, 0.5321797870908833 L -0.846056214169568, 0.5330936901381014 L -0.8454800732700927, 0.5340069715867 L -0.844902946522809, 0.5349196303717741 L -0.8443248346006589, 0.535831665429144 L -0.8437457381777335, 0.536743075695357 L -0.8431656579292715, 0.5376538601076893 L -0.842584594531659, 0.5385640176041467 L -0.8420025486624281, 0.5394735471234668 L -0.8414195210002567, 0.5403824476051184 L -0.8408355122249676, 0.5412907179893041 L -0.8402505230175275, 0.5421983572169613 L -0.8396645540600465, 0.5431053642297627 L -0.8390776060357764, 0.5440117379701199 L -0.8384896796291115, 0.5449174773811811 L -0.8379007755255864, 0.5458225814068349 L -0.8373108944118759, 0.5467270489917108 L -0.8367200369757941, 0.5476308790811797 L -0.8361282039062932, 0.5485340706213574 L -0.835535395893463, 0.5494366225591027 L -0.8349416136285307, 0.550338533842021 L -0.8343468578038592, 0.551239803418464 L -0.8337511291129458, 0.5521404302375329 L -0.8331544282504234, 0.5530404132490773 L -0.8325567559120577, 0.5539397514036977 L -0.8319581127947476, 0.5548384436527466 L -0.8313584995965239, 0.5557364889483294 L -0.8307579170165478, 0.5566338862433068 L -0.8301563657551119, 0.5575306344912941 L -0.8295538465136375, 0.5584267326466636 L -0.8289503599946751, 0.5593221796645459 L -0.8283459069019031, 0.5602169745008301 L -0.8277404879401261, 0.5611111161121671 L -0.827134103815276, 0.5620046034559684 L -0.8265267552344093, 0.5628974354904087 L -0.8259184429057077, 0.5637896111744267 L -0.8253091675384765, 0.5646811294677263 L -0.8246989298431432, 0.5655719893307787 L -0.8240877305312583, 0.566462189724822 L -0.8234755703154932, 0.5673517296118636 L -0.8228624499096399, 0.5682406079546809 L -0.82224837002861, 0.5691288237168226 L -0.8216333313884333, 0.5700163758626107 L -0.8210173347062582, 0.5709032633571401 L -0.8204003807003499, 0.5717894851662811 L -0.8197824700900902, 0.5726750402566804 L -0.819163603595976, 0.573559927595761 L -0.8185437819396185, 0.5744441461517266 L -0.8179230058437432, 0.5753276948935588 L -0.8173012760321884, 0.5762105727910211 L -0.8166785932299041, 0.5770927788146589 L -0.8160549581629521, 0.5779743119358008 L -0.8154303715585037, 0.5788551711265613 L -0.8148048341448405, 0.5797353553598392 L -0.8141783466513524, 0.5806148636093209 L -0.8135509098085372, 0.5814936948494811 L -0.8129225243479998, 0.5823718480555835 L -0.8122931910024508, 0.5832493222036833 L -0.8116629105057064, 0.5841261162706267 L -0.8110316835926871, 0.585002229234053 L -0.810399510999417, 0.5858776600723958 L -0.8097663934630231, 0.5867524077648838 L -0.8091323317217334, 0.5876264712915431 L -0.8084973265148777, 0.5884998496331968 L -0.8078613785828856, 0.5893725417714669 L -0.8072244886672861, 0.5902445466887758 L -0.8065866575107066, 0.591115863368347 L -0.8059478858568712, 0.5919864907942071 L -0.8053081744506015, 0.5928564279511858 L -0.8858389918956617 ,0.6521420707463044\",\"type\":\"path\"},{\"fillcolor\":\"rgba(230,245,152,0.75)\",\"layer\":\"below\",\"line\":{\"color\":\"rgb(150,150,150)\",\"width\":0.45},\"path\":\"M -0.9503653997779844, 0.5539003582819135 L -0.9609460739938724, 0.5353341413320873 L -0.9711640863047708, 0.5165658888000833 L -0.9810155804237246, 0.49760268384113737 L -0.9904968383880708, 0.47845168318570713 L -0.9996042819626009, 0.45912011443851286 L -1.0083344739899915, 0.4396152733508328 L -1.016684119687988, 0.41994452106708224 L -1.024650067892861, 0.40011528134670843 L -1.032229312248656, 0.38013503776245966 L -1.0394189923417967, 0.36001133087607695 L -1.0462163947806065, 0.3397517553924783 L -1.052618954219345, 0.319363957293513 L -1.0586242543263724, 0.29885563095235823 L -1.0642300286960749, 0.2782345162296582 L -1.0694341617042074, 0.2575083955524931 L -1.074234689306334, 0.23668509097728238 L -1.0786297997790575, 0.21577246123773683 L -1.0826178344037674, 0.1947783987789638 L -1.0861972880926414, 0.1737108267788501 L -1.089366809956666, 0.15257769615785036 L -1.0921252038154643, 0.13138698257830111 L -1.094471428648735, 0.11014668343439749 L -1.096404598989134, 0.08886481483397264 L -1.0979239852564522, 0.06754940857320778 L -1.099029014032957, 0.04620850910542843 L -1.0997192682798036, 0.024850170505119226 L -1.0999944874944236, 0.003482453428307471 L -1.0998545678088403, -0.017886577929532178 L -1.0992995620288677, -0.03924885887691618 L -1.0983296796141817, -0.06059632726997046 L -1.0969452865992704, -0.08192092655509264 L -1.0951469054552918, -0.10321460880950159 L -1.0929352148928928, -0.12446933777853207 L -1.0903110496060635, -0.1456770919085235 L -1.0872753999571223, -0.16682986737416042 L -1.083829411602953, -0.18791968109912488 L -1.0799743850626327, -0.20893857376891542 L -1.075711775226614, -0.22987861283470146 L -1.0710431908076496, -0.25073189550707103 L -1.0659703937336606, -0.2714905517385543 L -1.0604952984827853, -0.292146747193783 L -1.0546199713608524, -0.31269268620617735 L -1.0483466297215553, -0.3331206147200387 L -1.0416776411296214, -0.35342282321693386 L -1.0346155224672902, -0.373591649625278 L -1.0271629389844408, -0.3936194822120042 L -1.0193227032927235, -0.41349876245523964 L -1.0110977743040779, -0.43322198789689814 L -1.0024912561140367, -0.4527817149741156 L -0.9935063968302368, -0.4721705618284565 L -0.9841465873465822, -0.4913812110918328 L -0.9744153600635159, -0.5104064126480865 L -0.9643163875548902, -0.5292389863691892 L -0.9538534811819324, -0.5478718248250307 L -0.9430305896548354, -0.5662978959657661 L -0.9318517975425096, -0.5845102457757211 L -0.9203213237310639, -0.6025020008978413 L -0.9084435198315945, -0.6202663712277038 L -0.8962228685378811, -0.6377966524761101 L -0.883663981934617, -0.6550862286992888 L -0.8707715997568019, -0.6721285747957604 L -0.8575505876009631, -0.688917258968915 L -0.8440059350888746, -0.7054459451543788 L -0.8301427539844692, -0.7217083954112499 L -0.8159662762646547, -0.7376984722763044 L -0.80148185214476, -0.7534101410802787 L -0.7866949480593607, -0.7688374722253591 L -0.771611144599241, -0.7839746434230187 L -0.7562361344052742, -0.7988159418913523 L -0.7405757200200129, -0.8133557665110881 L -0.7246358116978082, -0.8275886299394518 L -0.7084224251742699, -0.841509160681098 L -0.6919416793959265, -0.8551121051153147 L -0.6751997942109278, -0.8683923294787449 L -0.6582030880216658, -0.881344821802876 L -0.6409579754002098, -0.8939646938055574 L -0.6234709646674365, -0.9062471827358451 L -0.6057486554367858, -0.9181876531714671 L -0.5877977361235603, -0.9297815987682363 L -0.5696249814207122, -0.9410246439607485 L -0.5512372497420673, -0.951912545613725 L -0.5326414806339519, -0.9624411946233763 L -0.5138446921562061, -0.9726066174681797 L -0.49485397823355826, -0.9824049777084913 L -0.4756765059783736, -0.991832577434421 L -0.4563195129857757, -1.0008858586614284 L -0.43679030460217727, -1.0095614046731072 L -0.4170962511682322, -1.0178559413106587 L -0.39724478523726325, -1.0257663382085616 L -0.37724339877021, -1.033289609975974 L -0.35709964030815594, -1.0404229173234247 L -0.3368211121235033, -1.0471635681343612 L -0.31641546735086507, -1.0535090184811584 L -0.2958904070987706, -1.0594568735851988 L -0.27525367754325664, -1.0650048887206636 L -0.2545130670044557, -1.0701509700616945 L -0.233676403007273, -1.074893175472606 L -0.21275154932727755, -1.0792297152408485 L -0.19174640302290222, -1.0831589527524474 L -0.174314911839002, -0.9846899570476795 L -0.19341049938843413, -0.9811179229462259 L -0.21243309364297544, -0.9771756140660054 L -0.23137551545859608, -0.972864518237904 L -0.2502306159484151, -0.9681862624733305 L -0.26899127918070054, -0.9631426123501807 L -0.28765042486442277, -0.9577354713465076 L -0.3062010110213666, -0.9519668801221464 L -0.3246360366437781, -0.9458390157485679 L -0.34294854433655453, -0.939354190887249 L -0.3611316229429666, -0.932514852916874 L -0.3791784101529383, -0.9253235830096896 L -0.3970820950928884, -0.9177830951573701 L -0.4148359208961597, -0.909896235146753 L -0.43243318725306684, -0.9016659794858372 L -0.4498672529395984, -0.8930954342804466 L -0.4671315383238237, -0.8841878340619814 L -0.48421952784904715, -0.8749465405667056 L -0.5011247724927884, -0.8653750414670226 L -0.5178408922006473, -0.8554769490552259 L -0.5343615782941458, -0.8452559988802147 L -0.5506805958516234, -0.8347160483376973 L -0.5667917860613059, -0.8238610752144047 L -0.5826890685456453, -0.8126951761868704 L -0.5983664436560598, -0.8012225652753417 L -0.613817994737207, -0.7894475722534043 L -0.6290378903599332, -0.7773746410139224 L -0.6440203865220635, -0.7650083278919072 L -0.6587598288161892, -0.7523532999449561 L -0.6732506545636481, -0.7394143331918982 L -0.6874873949138856, -0.7261963108103202 L -0.7014646769084009, -0.7127042212936533 L -0.7151772255085097, -0.6989431565685083 L -0.7286198655861453, -0.6849183100729805 L -0.7417875238769588, -0.6706349747966402 L -0.754675230894972, -0.6560985412829544 L -0.7672781228080677, -0.6413144955948897 L -0.7795914432736027, -0.6262884172444682 L -0.7916105452334562, -0.6110259770870549 L -0.8033308926678336, -0.5955329351811716 L -0.8147480623071646, -0.5798151386146455 L -0.8258577453014495, -0.5638785192979124 L -0.8366557488464217, -0.5477290917253103 L -0.8471379977659177, -0.531372950705201 L -0.8573005360498503, -0.5148162690597873 L -0.8671395283472112, -0.49806529529548244 L -0.8766512614135366, -0.4811263512447174 L -0.8858321455122872, -0.4640058296800786 L -0.8946787157696201, -0.44671019190166616 L -0.9031876334820333, -0.4292459652985968 L -0.9113556873763968, -0.41161974088555964 L -0.9191797948218889, -0.39383817081536193 L -0.9266570029933848, -0.37590796586839964 L -0.9337844899858552, -0.3578358929200038 L -0.9405595658793545, -0.3396287723866164 L -0.9469796737542011, -0.32129347565175803 L -0.9530423906559593, -0.3028369224727624 L -0.9587454285098658, -0.2842660783692521 L -0.9640866349843502, -0.26558795199434815 L -0.9690639943033278, -0.2468095924895948 L -0.9736756280069542, -0.22793808682461003 L -0.9779197956605582, -0.20898055712245586 L -0.9817948955114842, -0.18994415797174127 L -0.9852994650935936, -0.17083607372647716 L -0.988432181779202, -0.15166351579469128 L -0.9911918632782394, -0.13243371991683953 L -0.993577468084448, -0.11315394343502914 L -0.995588095868447, -0.09383146255409235 L -0.9972229878175184, -0.07447356959553876 L -0.9984815269219832, -0.05508757024542769 L -0.9993632382080614, -0.035680780797196526 L -0.9998677889171275, -0.016260525390483796 L -0.9999949886312942, 0.0031658667530067917 L -0.9997447893452759, 0.02259106409556293 L -0.9991172854845063, 0.04200773555038948 L -0.9981127138695018, 0.061408553248370704 L -0.9967314536264854, 0.08078619530361149 L -0.9949740260443044, 0.10013334857672498 L -0.9928410943776947, 0.11944271143481919 L -0.990333463596969, 0.13870699650713667 L -0.9874520800842194, 0.15791893343531826 L -0.9841980312761521, 0.17707127161723982 L -0.9805725452536885, 0.1961567829433971 L -0.9765769902784853, 0.21516826452480214 L -0.9722128742765521, 0.23409854141135733 L -0.9674818442691588, 0.2529404692996893 L -0.9623856857512476, 0.27168693722941656 L -0.9569263220175862, 0.29033087026683 L -0.9511058134369149, 0.30886523217498024 L -0.9449263566743605, 0.3272830280691608 L -0.9383902838624145, 0.34557730705678147 L -0.9315000617207826, 0.363741164860644 L -0.9242582906254436, 0.3817677464246202 L -0.9166677036272649, 0.39965024850075703 L -0.9087311654205462, 0.41738192221682985 L -0.9004516712618824, 0.4349560756233701 L -0.8918323458397496, 0.45236607621921576 L -0.8828764420952461, 0.46960535345462107 L -0.8735873399944294, 0.48666740121098845 L -0.863968545252713, 0.5035457802562849 L -0.9503653997779844 ,0.5539003582819135\",\"type\":\"path\"},{\"fillcolor\":\"rgba(171,221,164,0.75)\",\"layer\":\"below\",\"line\":{\"color\":\"rgb(150,150,150)\",\"width\":0.45},\"path\":\"M -0.19174572245402285, -1.083159073230052 L -0.1892381092066327, -1.08359998985968 L -0.1867294821228486, -1.0840351011411635 L -0.1842198546425504, -1.0844644047434095 L -0.18170924021097742, -1.0848878983664394 L -0.17919765227865758, -1.0853055797414004 L -0.17668510430133133, -1.0857174466305806 L -0.1741716097398854, -1.0861234968274176 L -0.17165718206027705, -1.0865237281565117 L -0.1691418347334624, -1.086918138473638 L -0.16662558123532473, -1.0873067256657574 L -0.16410843504660205, -1.087689487651028 L -0.161590409652815, -1.0880664223788157 L -0.1590715185441953, -1.088437527829707 L -0.15655177521561006, -1.0888028020155172 L -0.1540311931664948, -1.0891622429793029 L -0.15150978590077765, -1.0895158487953724 L -0.14898756692680779, -1.0898636175692948 L -0.14646454975728299, -1.0902055474379115 L -0.1439407479091774, -1.0905416365693457 L -0.14141617490366906, -1.0908718831630115 L -0.13889084426606846, -1.0911962854496247 L -0.13636476952574203, -1.091514841691212 L -0.1338379642160458, -1.0918275501811194 L -0.1313104418742487, -1.0921344092440224 L -0.12878221604146114, -1.0924354172359345 L -0.12625330026256257, -1.0927305725442167 L -0.12372370808612868, -1.0930198735875842 L -0.12119345306435894, -1.0933033188161176 L -0.11866254875300504, -1.093580906711269 L -0.11613100871129424, -1.093852635785871 L -0.11359884650186265, -1.0941185045841453 L -0.11106607569067864, -1.094378511681709 L -0.10853270984697112, -1.0946326556855834 L -0.1059987625431569, -1.0948809352342015 L -0.10346424735476792, -1.095123348997414 L -0.10092917786037854, -1.0953598956764978 L -0.09839356764153281, -1.095590574004163 L -0.09585743028267267, -1.0958153827445583 L -0.09332077937106123, -1.0960343206932792 L -0.0907836284967159, -1.0962473866773734 L -0.08824599125233165, -1.0964545795553473 L -0.08570788123320915, -1.0966558982171728 L -0.08316931203718193, -1.0968513415842924 L -0.08063029726454357, -1.0970409086096249 L -0.07809085051797479, -1.0972245982775721 L -0.0755509854024716, -1.097402409604023 L -0.07301071552526844, -1.0975743416363597 L -0.07047005449577118, -1.0977403934534626 L -0.06792901592548033, -1.0979005641657154 L -0.06538761342791904, -1.0980548529150085 L -0.06284586061856019, -1.0982032588747461 L -0.06030377111475343, -1.0983457812498483 L -0.05776135853565226, -1.0984824192767566 L -0.055218636502142, -1.0986131722234376 L -0.052675618636762955, -1.0987380393893873 L -0.05013231856364326, -1.098857020105634 L -0.047588749908421976, -1.098970113734743 L -0.0450449262981771, -1.099077319670819 L -0.04250086136135253, -1.0991786373395107 L -0.03995656872768508, -1.0992740661980114 L -0.03741206202813141, -1.0993636057350649 L -0.03486735489479507, -1.0994472554709664 L -0.03232246096085437, -1.0995250149575653 L -0.029777393860485488, -1.099596883778268 L -0.027232167228795255, -1.0996628615480397 L -0.024686794701744213, -1.099722947913407 L -0.022141289916074534, -1.0997771425524594 L -0.01959566650923696, -1.0998254451748508 L -0.01704993811931773, -1.099867855521802 L -0.014504118384965547, -1.099904373366101 L -0.011958220945319451, -1.0999349985121043 L -0.00941225943993186, -1.0999597307957394 L -0.006866247508701349, -1.0999785700845037 L -0.004320198791795675, -1.0999915162774665 L -0.0017741269295796693, -1.0999985693052687 L 0.0007719544374578339, -1.0999997291301242 L 0.00331803166877708, -1.0999949957458193 L 0.0058640911238604715, -1.099984369177713 L 0.008410119162284669, -1.0999678494827367 L 0.010956102143797579, -1.099945436749394 L 0.013502026428385563, -1.0999171310977602 L 0.01604787837635044, -1.0998829326794821 L 0.018593644348381542, -1.0998428416777764 L 0.02113931070562885, -1.0997968583074291 L 0.023684863809775997, -1.0997449828147945 L 0.026230290023113383, -1.0996872154777937 L 0.028775575708610234, -1.0996235566059134 L 0.03132070722999159, -1.0995540065402032 L 0.03386567095180548, -1.0994785656532755 L 0.0364104532394999, -1.0993972343493021 L 0.03895504045949486, -1.0993100130640125 L 0.041499418979255444, -1.0992169022646916 L 0.04404357516736485, -1.0991179024501772 L 0.04658749539359738, -1.099013014150857 L 0.04913116602899154, -1.0989022379286666 L 0.05167457344592199, -1.0987855743770858 L 0.054217704018176514, -1.098663024121135 L 0.05676054412102318, -1.0985345878173731 L 0.05930308013128717, -1.0984002661538927 L 0.053911891028442877, -0.9985456965035387 L 0.051600494655475615, -0.9986678071067027 L 0.04928882183470592, -0.9987845673828499 L 0.04697688495083817, -0.9988959767064415 L 0.044664696389992306, -0.999002034480606 L 0.04235226853963398, -0.9991027401371426 L 0.0400396137885135, -0.9991980931365245 L 0.03772674452659586, -0.9992880929679013 L 0.03541367314499533, -0.9993727391491022 L 0.033100412035909, -0.9994520312266383 L 0.030786973592550438, -0.999525968775705 L 0.028473370209083262, -0.9995945514001847 L 0.026159614280554758, -0.9996577787326484 L 0.023845718202830345, -0.9997156504343578 L 0.02153169437252363, -0.9997681661952676 L 0.019217555186935315, -0.9998153257340263 L 0.01690331304398322, -0.9998571287979784 L 0.01458898034213676, -0.9998935751631655 L 0.012274569480350512, -0.9999246646343274 L 0.009960092857997798, -0.9999503970449034 L 0.0076455628748042445, -0.9999707722570332 L 0.005330991930782247, -0.9999857901615572 L 0.0030163924261609816, -0.9999954506780175 L 0.0007017767613253035, -0.9999997537546583 L -0.0016128426632542447, -0.999998699368426 L -0.003927453447086977, -0.9999922875249694 L -0.006242043189728499, -0.9999805182586397 L -0.008556599490847144, -0.9999633916324904 L -0.01087110995029041, -0.9999409077382766 L -0.013185562168150497, -0.9999130666964553 L -0.015499943744834299, -0.9998798686561836 L -0.017814242281124507, -0.9998413137953189 L -0.020128445378249576, -0.9997974023204175 L -0.022442540637949284, -0.9997481344667336 L -0.02475651566254114, -0.9996935104982179 L -0.027070358054986806, -0.9996335307075163 L -0.029384055418958516, -0.9995681954159684 L -0.0316975953589046, -0.9994975049736058 L -0.03401096548011946, -0.9994214597591499 L -0.03632415338880461, -0.9993400601800103 L -0.03863714669213866, -0.9992533066722823 L -0.04094993299834281, -0.9991611997007446 L -0.04326249991674725, -0.9990637397588571 L -0.045574835057857505, -0.9989609273687581 L -0.04788692603342087, -0.998852763081261 L -0.05019876045649273, -0.9987392474758523 L -0.052510325941502047, -0.9986203811606877 L -0.054821610104321294, -0.9984961647725893 L -0.05713260056232744, -0.9983665989770418 L -0.05944328493447185, -0.9982316844681896 L -0.06175365084134575, -0.998091421968832 L -0.06406368590524653, -0.9979458122304206 L -0.06637337775024403, -0.9977948560330542 L -0.0686827140022469, -0.9976385541854753 L -0.07099168228906799, -0.9974769075250655 L -0.07330027024049415, -0.9973099169178408 L -0.07560846548834721, -0.9971375832584476 L -0.07791625566655376, -0.9969599074701571 L -0.08022362841121058, -0.9967768905048612 L -0.08253057136065081, -0.9965885333430666 L -0.0848370721555102, -0.9963948369938901 L -0.08714311843879333, -0.9961958024950529 L -0.08944869785593891, -0.9959914309128753 L -0.09175379805488958, -0.9957817233422707 L -0.09405840668615265, -0.9955666809067398 L -0.0963625114028699, -0.9953463047583648 L -0.09866609986088283, -0.9951205960778031 L -0.10096915971879876, -0.9948895560742809 L -0.10327167863805695, -0.9946531859855866 L -0.10557364428299476, -0.9944114870780645 L -0.10787504432091366, -0.994164460646608 L -0.11017586642214448, -0.9939121080146522 L -0.11247609826011697, -0.9936544305341674 L -0.11477572751142051, -0.9933914295856514 L -0.11707474185587377, -0.9931231065781223 L -0.1193731289765897, -0.9928494629491111 L -0.12167087656004162, -0.9925705001646539 L -0.12396797229612912, -0.9922862197192835 L -0.12626440387824403, -0.9919966231360224 L -0.1285601590033355, -0.991701711966374 L -0.13085522537197944, -0.9914014877903142 L -0.13314959068843907, -0.9910959522162832 L -0.13544324266073435, -0.990785106881177 L -0.13773616900070695, -0.9904689534503385 L -0.14002835742408618, -0.9901474936175481 L -0.14231979565055458, -0.9898207291050155 L -0.1446104714038139, -0.9894886616633698 L -0.14690037241164997, -0.9891512930716506 L -0.14918948640600185, -0.988808625137298 L -0.15147780112302248, -0.9884606596961429 L -0.1537653043031476, -0.988107398612398 L -0.15605198369116094, -0.9877488437786468 L -0.15833782703625945, -0.987384997115834 L -0.16062282209211937, -0.9870158605732551 L -0.16290695661696142, -0.9866414361285458 L -0.16519021837361583, -0.986261725787672 L -0.16747259512959126, -0.9858767315849177 L -0.16975407465713507, -0.985486455582876 L -0.17203464473330243, -0.9850908998724364 L -0.17431429314002075, -0.9846900665727745 L -0.19174572245402285 ,-1.083159073230052\",\"type\":\"path\"},{\"fillcolor\":\"rgba(102,194,165,0.75)\",\"layer\":\"below\",\"line\":{\"color\":\"rgb(150,150,150)\",\"width\":0.45},\"path\":\"M 0.059303770276516635, -1.0984002288924517 L 0.07208703730553756, -1.097635394405861 L 0.08486053404549766, -1.0967217923254342 L 0.09762252924539537, -1.0956595464758805 L 0.11037129321308886, -1.0944488008282847 L 0.12310509804972336, -1.0930897194805962 L 0.13582221788392523, -1.0915824866353856 L 0.14852092910571618, -1.0899273065748811 L 0.1611995106001223, -1.08812440363328 L 0.17385624398044355, -1.0861740221663436 L 0.18648941382115852, -1.0840764265182787 L 0.1990973078904184, -1.08183190098591 L 0.21167821738211715, -1.0794407497801486 L 0.22423043714749338, -1.0769032969847592 L 0.23675226592623666, -1.0742198865124368 L 0.24924200657706636, -1.0713908820581952 L 0.26169796630775694, -1.0684166670500719 L 0.27411845690456405, -1.0652976445971618 L 0.28650179496103984, -1.0620342374349814 L 0.29884630210619184, -1.0586268878681737 L 0.3111503052319601, -1.0550760577105607 L 0.32341213671998087, -1.0513822282225511 L 0.3356301346676099, -1.047545900045913 L 0.347802643113162, -1.0435675931359207 L 0.35992801226035565, -1.0394478466908812 L 0.37200459870191577, -1.0351872190790548 L 0.3840307656423128, -1.0307862877629772 L 0.3960048831196042, -1.0262456492211933 L 0.407925328226354, -1.0215659188674129 L 0.41979048532958796, -1.0167477309671014 L 0.43159874628977113, -1.0117917385515154 L 0.44334851067876546, -1.0066986133291933 L 0.45503818599674256, -1.0014690455949171 L 0.46666618788802594, -0.9961037441361507 L 0.47823094035582087, -0.9906034361369778 L 0.4897308759758197, -0.984968867079542 L 0.5011644361086418, -0.9792008006430077 L 0.5125300711110826, -0.9733000186000558 L 0.5238262405461441, -0.967267320710926 L 0.535051413391817, -0.9611035246150225 L 0.5462040682485897, -0.9548094657200934 L 0.5572826935456461, -0.9483859970890068 L 0.5682857877457392, -0.9418339893241298 L 0.5792118595487001, -0.9351543304493313 L 0.5900594280935605, -0.9283479257896257 L 0.6008270231592636, -0.9214156978484672 L 0.611513185363925, -0.9143585861827219 L 0.6221164663626328, -0.9071775472753233 L 0.6326354290437478, -0.8998735544056361 L 0.6430686477236818, -0.8924475975175435 L 0.6534147083401262, -0.884900683085276 L 0.6636722086437092, -0.8772338339769968 L 0.6738397583880457, -0.869448089316171 L 0.6839159795181652, -0.8615445043407269 L 0.6938995063572865, -0.8535241502600348 L 0.7037889857919135, -0.8453881141097205 L 0.7135830774552288, -0.8371374986043364 L 0.7232804539087616, -0.8287734219879013 L 0.732879800822299, -0.8202970178823447 L 0.7423798171520237, -0.8117094351338587 L 0.7517792153168523, -0.8030118376571904 L 0.7610767213729448, -0.7942054042778915 L 0.7702710751863713, -0.7852913285725442 L 0.7793610306038996, -0.7762708187069945 L 0.7883453556218949, -0.7671450972726008 L 0.7972228325532985, -0.7579154011205311 L 0.805992258192666, -0.7485829811941274 L 0.8146524439792433, -0.7391491023593588 L 0.8232022161580582, -0.7296150432333901 L 0.8316404159390061, -0.7199820960112807 L 0.8399658996539026, -0.7102515662908532 L 0.8481775389114932, -0.7004247728957355 L 0.8562742207503883, -0.6905030476966162 L 0.8642548477899076, -0.6804877354307305 L 0.8721183383788154, -0.6703801935195984 L 0.8798636267419182, -0.6601817918850523 L 0.887489663124517, -0.6498939127635612 L 0.8949954139346841, -0.6395179505188917 L 0.9023798618833508, -0.6290553114531224 L 0.9096420061221853, -0.6185074136160426 L 0.9167808623792435, -0.6078756866129545 L 0.9237954630923694, -0.5971615714109163 L 0.9306848575403354, -0.5863665201434389 L 0.9374481119716968, -0.5754919959136714 L 0.9440843097313484, -0.5645394725961008 L 0.9505925513847614, -0.5535104346367915 L 0.9569719548398911, -0.5424063768521881 L 0.9632216554667264, -0.5312288042265209 L 0.9693408062144809, -0.5199792317078253 L 0.9753285777263956, -0.5086591840026152 L 0.9811841584521459, -0.49727019536923217 L 0.9869067547578361, -0.4858138094098979 L 0.9924955910335617, -0.47429157886150725 L 0.9979499097985332, -0.46270506538517575 L 1.0032689718037406, -0.4510558393545808 L 1.008452056132147, -0.43934547964312204 L 1.0134984602963986, -0.42757557340992897 L 1.018407500334034, -0.41574771588474724 L 1.0231785109001885, -0.40386351015172595 L 1.0278108453577668, -0.3919245669321498 L 0.9343734957797879, -0.35629506084740886 L 0.9301622826365349, -0.3671486455924781 L 0.9258250003036673, -0.3779524689861338 L 0.9213622366330896, -0.388705066736299 L 0.91677459648377, -0.39940498149374726 L 0.9120627016397641, -0.4100507630496189 L 0.9072271907259392, -0.4206409685319779 L 0.9022687191214196, -0.4311741626013702 L 0.89718795887076, -0.4416489176453617 L 0.8919855985928599, -0.4520638139720292 L 0.8866623433876323, -0.46241744000237744 L 0.8812189147404371, -0.4727083924616594 L 0.8756560504242967, -0.48293527656956436 L 0.8699745043999009, -0.4930967062292618 L 0.8641750467134194, -0.5031913042152649 L 0.8582584633921349, -0.5132177023600916 L 0.8522255563379061, -0.5231745417397012 L 0.8460771432184866, -0.5330604728576717 L 0.8398140573566993, -0.5428741558281057 L 0.833437147617494, -0.5526142605572314 L 0.8269472782928956, -0.562279466923675 L 0.8203453289848643, -0.571868464957384 L 0.8136321944860764, -0.5813799550171742 L 0.8068087846586518, -0.5908126479668738 L 0.7998760243108347, -0.6001652653500475 L 0.7928348530716502, -0.6094365395632713 L 0.7856862252635523, -0.6186252140279368 L 0.7784311097730802, -0.6277300433605602 L 0.7710704899195392, -0.6367497935415777 L 0.7636053633217296, -0.6456832420825938 L 0.7560367417627327, -0.6545291781920733 L 0.7483656510527802, -0.6632864029394455 L 0.7405931308902212, -0.6719537294175989 L 0.7327202347206053, -0.6805299829037521 L 0.7247480295939077, -0.6890140010186646 L 0.7166775960199044, -0.6974046338841825 L 0.7085100278217269, -0.7057007442790859 L 0.7002464319876102, -0.713901207793222 L 0.6918879285208589, -0.7220049129799013 L 0.6834356502880475, -0.7300107615065367 L 0.674890742865476, -0.7379176683035079 L 0.6662543643839081, -0.7457245617112224 L 0.6575276853716014, -0.7534303836253647 L 0.6487118885956624, -0.7610340896403057 L 0.6398081689017395, -0.768534649190655 L 0.6308177330520786, -0.7759310456909406 L 0.6217417995619683, -0.7832222766733881 L 0.6125815985345869, -0.7904073539237918 L 0.603338371494281, -0.7974853036154516 L 0.5940133712182964, -0.80445516644116 L 0.5846078615669834, -0.8113159977432214 L 0.575123117312498, -0.8180668676414873 L 0.5655604239660298, -0.8247068611593847 L 0.5559210776035681, -0.831235078347929 L 0.5462063846902396, -0.8376506344076974 L 0.5364176619032368, -0.8439526598087506 L 0.5265562359533638, -0.8501403004084829 L 0.5166234434052175, -0.8562127175673906 L 0.5066206304960419, -0.8621690882627334 L 0.49654915295326335, -0.8680086052000848 L 0.48641037581074276, -0.8737304769227476 L 0.4762056732237674, -0.8793339279190235 L 0.4659364282828023, -0.8848181987273234 L 0.45560403282603795, -0.8901825460390979 L 0.4452098872507452, -0.8954262427995836 L 0.4347554003234735, -0.9005485783063434 L 0.42424198898911447, -0.9055488583055914 L 0.41367107817885684, -0.9104264050862881 L 0.4030441006170595, -0.9151805575719939 L 0.3923624966270646, -0.9198106714104685 L 0.38162771393598904, -0.9243161190610012 L 0.37084120747850363, -0.9286962898794662 L 0.36000443919964015, -0.9329505902010848 L 0.34911887785664797, -0.9370784434208883 L 0.3381859988199234, -0.9410792900718679 L 0.32720728387305054, -0.9449525879008009 L 0.3161842210119654, -0.9486978119417461 L 0.3051183042432817, -0.9523144545871937 L 0.2940110333818008, -0.9558020256568646 L 0.2828639138472364, -0.9591600524641459 L 0.27167845646017436, -0.9623880798801578 L 0.2604561772373089, -0.9654856703954375 L 0.24919859718596732, -0.968452404179238 L 0.23790724209796085, -0.971287879136429 L 0.22658364234278758, -0.9739917109619957 L 0.21522933266021513, -0.9765635331931243 L 0.2038458519522667, -0.9790029972588719 L 0.19243474307465194, -0.9813097725274077 L 0.18099755262765307, -0.9834835463508274 L 0.16953583074650774, -0.985524024107526 L 0.1580511308913123, -0.9874309292421305 L 0.14654500963647482, -0.9892040033029817 L 0.13501902645974198, -0.9908430059771646 L 0.1234747435308411, -0.9923477151230777 L 0.1119137254997485, -0.9937179268005418 L 0.10033753928462623, -0.9949534552984406 L 0.08874775385945033, -0.9960541331598912 L 0.07714594004136151, -0.9970198112049402 L 0.06553367027776141, -0.9978503585507827 L 0.053912518433196936, -0.9985456626295015 L 0.059303770276516635 ,-1.0984002288924517\",\"type\":\"path\"},{\"fillcolor\":\"rgba(50,136,189,0.75)\",\"layer\":\"below\",\"line\":{\"color\":\"rgb(150,150,150)\",\"width\":0.45},\"path\":\"M 1.027811091611032, -0.39192392113947233 L 1.0292463244509396, -0.38813915494862333 L 1.0306676204888685, -0.38434913304938545 L 1.0320749604793564, -0.38055390676162393 L 1.0334683253659172, -0.3767535274756785 L 1.0348476962812974, -0.37294804665166437 L 1.0362130545477342, -0.36913751581877297 L 1.037564381677206, -0.3653219865745794 L 1.0389016593716844, -0.3615015105843413 L 1.0402248695233818, -0.35767613958029626 L 1.041533994214995, -0.35384592536096704 L 1.0428290157199493, -0.3500109197904572 L 1.0441099165026393, -0.34617117479774645 L 1.0453766792186638, -0.3423267423759924 L 1.0466292867150626, -0.33847767458182443 L 1.0478677220305488, -0.3346240235346356 L 1.0490919683957376, -0.3307658414158826 L 1.0503020092333732, -0.3269031804683754 L 1.0514978281585543, -0.3230360929955718 L 1.0526794089789555, -0.3191646313608654 L 1.0538467356950463, -0.31528884798688234 L 1.0549997925003076, -0.3114087953547682 L 1.0561385637814473, -0.3075245260034751 L 1.057263034118609, -0.30363609252905555 L 1.058373188285583, -0.29974354758394756 L 1.0594690112500118, -0.2958469438762588 L 1.0605504881735939, -0.29194633416905885 L 1.0616176044122834, -0.2880417712796613 L 1.0626703455164905, -0.28413330807890624 L 1.0637086972312755, -0.2802209974904501 L 1.0647326454965418, -0.2763048924900455 L 1.065742176447228, -0.27238504610482195 L 1.066737276413493, -0.26846151141257285 L 1.0677179319209038, -0.2645343415410342 L 1.068684129690616, -0.26060358966716246 L 1.0696358566395545, -0.25666930901641993 L 1.0705730998805902, -0.25273155286205123 L 1.0714958467227156, -0.24879037452435945 L 1.0724040846712146, -0.2448458273699893 L 1.0732978014278334, -0.2408979648112021 L 1.0741769848909473, -0.23694684030514931 L 1.0750416231557225, -0.2329925073531548 L 1.075891704514279, -0.22903501949998709 L 1.0767272174558495, -0.22507443033313182 L 1.0775481506669338, -0.2211107934820716 L 1.0783544930314521, -0.2171441626175572 L 1.0791462336308975, -0.21317459145087772 L 1.0799233617444812, -0.20920213373313915 L 1.08068586684928, -0.20522684325453264 L 1.0814337386203763, -0.20124877384360823 L 1.0821669669310008, -0.19726797936654183 L 1.082885541852667, -0.19328451372641292 L 1.0835894536553077, -0.18929843086246662 L 1.0842786928074049, -0.18530978474939022 L 1.0849532499761205, -0.18131862939657847 L 1.0856131160274216, -0.17732501884740423 L 1.0862582820262048, -0.17332900717848262 L 1.0868887392364164, -0.16933064849894483 L 1.0875044791211719, -0.1653299969497023 L 1.0881054933428709, -0.1613271067027109 L 1.0886917737633093, -0.15732203196024303 L 1.0892633124437905, -0.15331482695415102 L 1.0898201016452334, -0.14930554594512957 L 1.0903621338282756, -0.14529424322198714 L 1.0908894016533761, -0.1412809731009077 L 1.0914018979809155, -0.1372657899247124 L 1.0918996158712921, -0.1332487480621296 L 1.0923825485850152, -0.1292299019070558 L 1.0928506895827974, -0.125209305877816 L 1.0933040325256427, -0.12118701441643288 L 1.093742571274932, -0.11716308198788652 L 1.0941662998925075, -0.1131375630793741 L 1.0945752126407513, -0.10911051219957794 L 1.094969303982664, -0.1050819838779244 L 1.0953485685819404, -0.10105203266384263 L 1.0957130013030403, -0.09702071312603183 L 1.096062597211259, -0.09298807985171936 L 1.0963973515727938, -0.08895418744591865 L 1.0967172598548085, -0.0849190905306957 L 1.097022317725494, -0.08088284374442654 L 1.097312521054128, -0.07684550174105438 L 1.0975878659111293, -0.07280711918935547 L 1.0978483485681132, -0.06876775077219592 L 1.0980939654979402, -0.06472745118578829 L 1.0983247133747647, -0.06068627513895684 L 1.0985405890740794, -0.05664427735239279 L 1.0987415896727581, -0.052601512557915356 L 1.0989277124490953, -0.048558035497726706 L 1.099098954882843, -0.04451390092367658 L 1.0992553146552435, -0.04046916359651797 L 1.0993967896490637, -0.036423878285162685 L 1.0995233779486213, -0.032378099765945585 L 1.0996350778398112, -0.02833188282187999 L 1.0997318878101292, -0.02428528224191286 L 1.0998138065486929, -0.02023835282018885 L 1.0998808329462582, -0.01619114935530537 L 1.0999329660952348, -0.012143726649567671 L 1.0999702052896994, -0.008096139508252621 L 1.0999925500254037, -0.004048442738863676 L 1.099999999999783, -6.91150385814946e-07 L 0.9999999999998026, -6.283185325590418e-07 L 0.9999932272958215, -0.003680402489876069 L 0.9999729138997265, -0.0073601268256842 L 0.999939060086577, -0.011039751499606973 L 0.99989166631478, -0.014719226686641244 L 0.9998307332260844, -0.018398502563808043 L 0.999756261645572, -0.02207752931082987 L 0.9996682525816464, -0.02575625711079999 L 0.9995667072260193, -0.029434636150859624 L 0.9994516269536943, -0.033112616622875166 L 0.9993230133229486, -0.03679014872410724 L 0.9991808680753116, -0.0404671826578878 L 0.9990251931355412, -0.044143668634297 L 0.9988559906115982, -0.047819556870832135 L 0.9986732627946175, -0.05149479759308435 L 0.998477012158877, -0.0551693410354153 L 0.9982672413617638, -0.05884313744162572 L 0.9980439532437392, -0.06251613706563265 L 0.9978071508282993, -0.06618829017214133 L 0.9975568373219343, -0.06985954703732215 L 0.9972930161140855, -0.07352985794947867 L 0.9970156907770986, -0.07719917320972336 L 0.9967248650661762, -0.08086744313265332 L 0.9964205429193262, -0.08453461804701759 L 0.9961027284573093, -0.08820064829639257 L 0.9957714259835821, -0.09186548423985694 L 0.99542663998424, -0.09552907625265854 L 0.9950683751279557, -0.09919137472688903 L 0.9946966362659159, -0.10285233007215827 L 0.9943114284317564, -0.10651189271626046 L 0.9939127568414933, -0.11017001310584806 L 0.9935006268934521, -0.11382664170710545 L 0.9930750441681955, -0.11748172900641435 L 0.9926360144284473, -0.1211352255110269 L 0.9921835436190141, -0.12478708174973852 L 0.9917176378667054, -0.12843724827355243 L 0.9912383034802504, -0.13208567565635193 L 0.9907455469502121, -0.13573231449557233 L 0.9902393749489005, -0.13937711541286454 L 0.989719794330281, -0.14302002905476638 L 0.9891868121298825, -0.1466610060933735 L 0.9886404355647017, -0.15029999722700207 L 0.9880806720331058, -0.15393695318085893 L 0.9875075291147315, -0.15757182470771147 L 0.9869210145703832, -0.1612045625885493 L 0.9863211363419278, -0.16483511763325315 L 0.9857079025521862, -0.16846344068126382 L 0.9850813215048251, -0.17208948260224236 L 0.9844414016842427, -0.175713194296739 L 0.9837881517554552, -0.1793345266968562 L 0.9831215805639784, -0.18295343076691656 L 0.982441697135709, -0.18656985750412056 L 0.9817485106768011, -0.19018375793921738 L 0.9810420305735431, -0.19379508313716154 L 0.9803222663922291, -0.19740378419777926 L 0.9795892278790306, -0.20100981225642872 L 0.9788429249598631, -0.20461311848466526 L 0.9780833677402536, -0.20821365409089734 L 0.9773105665052021, -0.2118113703210498 L 0.9765245317190429, -0.21540621845922664 L 0.9757252740253031, -0.21899814982836552 L 0.9749128042465587, -0.22258711579089935 L 0.9740871333842868, -0.22617306774941767 L 0.9732482726187184, -0.2297559571473193 L 0.9723962333086859, -0.23333573546947264 L 0.971531026991469, -0.23691235424287496 L 0.9706526653826397, -0.24048576503730384 L 0.9697611603759028, -0.2440559194659753 L 0.9688565240429343, -0.24762276918620177 L 0.9679387686332197, -0.25118626590004134 L 0.9670079065738868, -0.2547463613549546 L 0.9660639504695369, -0.2583030073444602 L 0.9651069131020757, -0.26185615570878296 L 0.9641368074305399, -0.265405758335508 L 0.9631536465909198, -0.2689517671602353 L 0.9621574438959845, -0.272494134167225 L 0.961148212835099, -0.2760328113900505 L 0.9601259670740429, -0.27956775091225006 L 0.9590907204548251, -0.28309890486797107 L 0.9580424869954965, -0.2866262254426203 L 0.9569812808899595, -0.290149664873514 L 0.9559071165077765, -0.2936691754505198 L 0.9548200083939756, -0.2971847095167049 L 0.9537199712688523, -0.30069621946898417 L 0.9526070200277716, -0.3042036577587596 L 0.951481169740966, -0.30770697689256765 L 0.9503424356533307, -0.31120612943272036 L 0.9491908331842174, -0.3147010679979513 L 0.9480263779272265, -0.318191745264052 L 0.9468490856499954, -0.32167811396451546 L 0.9456589722939833, -0.3251601268911784 L 0.9444560539742586, -0.3286377368948557 L 0.9432403469792782, -0.3321108968859813 L 0.9420118677706673, -0.3355795598352481 L 0.9407706329829975, -0.3390436787742403 L 0.939516659423561, -0.3425032067960713 L 0.9382499640721422, -0.3459580970560217 L 0.9369705640807894, -0.34940830277216856 L 0.9356784767735813, -0.3528537772260212 L 0.9343737196463925, -0.35629447376315665 L 1.027811091611032 ,-0.39192392113947233\",\"type\":\"path\"}],\"showlegend\":false,\"template\":{\"data\":{\"barpolar\":[{\"marker\":{\"line\":{\"color\":\"#E5ECF6\",\"width\":0.5},\"pattern\":{\"fillmode\":\"overlay\",\"size\":10,\"solidity\":0.2}},\"type\":\"barpolar\"}],\"bar\":[{\"error_x\":{\"color\":\"#2a3f5f\"},\"error_y\":{\"color\":\"#2a3f5f\"},\"marker\":{\"line\":{\"color\":\"#E5ECF6\",\"width\":0.5},\"pattern\":{\"fillmode\":\"overlay\",\"size\":10,\"solidity\":0.2}},\"type\":\"bar\"}],\"carpet\":[{\"aaxis\":{\"endlinecolor\":\"#2a3f5f\",\"gridcolor\":\"white\",\"linecolor\":\"white\",\"minorgridcolor\":\"white\",\"startlinecolor\":\"#2a3f5f\"},\"baxis\":{\"endlinecolor\":\"#2a3f5f\",\"gridcolor\":\"white\",\"linecolor\":\"white\",\"minorgridcolor\":\"white\",\"startlinecolor\":\"#2a3f5f\"},\"type\":\"carpet\"}],\"choropleth\":[{\"colorbar\":{\"outlinewidth\":0,\"ticks\":\"\"},\"type\":\"choropleth\"}],\"contourcarpet\":[{\"colorbar\":{\"outlinewidth\":0,\"ticks\":\"\"},\"type\":\"contourcarpet\"}],\"contour\":[{\"colorbar\":{\"outlinewidth\":0,\"ticks\":\"\"},\"colorscale\":[[0.0,\"#0d0887\"],[0.1111111111111111,\"#46039f\"],[0.2222222222222222,\"#7201a8\"],[0.3333333333333333,\"#9c179e\"],[0.4444444444444444,\"#bd3786\"],[0.5555555555555556,\"#d8576b\"],[0.6666666666666666,\"#ed7953\"],[0.7777777777777778,\"#fb9f3a\"],[0.8888888888888888,\"#fdca26\"],[1.0,\"#f0f921\"]],\"type\":\"contour\"}],\"heatmapgl\":[{\"colorbar\":{\"outlinewidth\":0,\"ticks\":\"\"},\"colorscale\":[[0.0,\"#0d0887\"],[0.1111111111111111,\"#46039f\"],[0.2222222222222222,\"#7201a8\"],[0.3333333333333333,\"#9c179e\"],[0.4444444444444444,\"#bd3786\"],[0.5555555555555556,\"#d8576b\"],[0.6666666666666666,\"#ed7953\"],[0.7777777777777778,\"#fb9f3a\"],[0.8888888888888888,\"#fdca26\"],[1.0,\"#f0f921\"]],\"type\":\"heatmapgl\"}],\"heatmap\":[{\"colorbar\":{\"outlinewidth\":0,\"ticks\":\"\"},\"colorscale\":[[0.0,\"#0d0887\"],[0.1111111111111111,\"#46039f\"],[0.2222222222222222,\"#7201a8\"],[0.3333333333333333,\"#9c179e\"],[0.4444444444444444,\"#bd3786\"],[0.5555555555555556,\"#d8576b\"],[0.6666666666666666,\"#ed7953\"],[0.7777777777777778,\"#fb9f3a\"],[0.8888888888888888,\"#fdca26\"],[1.0,\"#f0f921\"]],\"type\":\"heatmap\"}],\"histogram2dcontour\":[{\"colorbar\":{\"outlinewidth\":0,\"ticks\":\"\"},\"colorscale\":[[0.0,\"#0d0887\"],[0.1111111111111111,\"#46039f\"],[0.2222222222222222,\"#7201a8\"],[0.3333333333333333,\"#9c179e\"],[0.4444444444444444,\"#bd3786\"],[0.5555555555555556,\"#d8576b\"],[0.6666666666666666,\"#ed7953\"],[0.7777777777777778,\"#fb9f3a\"],[0.8888888888888888,\"#fdca26\"],[1.0,\"#f0f921\"]],\"type\":\"histogram2dcontour\"}],\"histogram2d\":[{\"colorbar\":{\"outlinewidth\":0,\"ticks\":\"\"},\"colorscale\":[[0.0,\"#0d0887\"],[0.1111111111111111,\"#46039f\"],[0.2222222222222222,\"#7201a8\"],[0.3333333333333333,\"#9c179e\"],[0.4444444444444444,\"#bd3786\"],[0.5555555555555556,\"#d8576b\"],[0.6666666666666666,\"#ed7953\"],[0.7777777777777778,\"#fb9f3a\"],[0.8888888888888888,\"#fdca26\"],[1.0,\"#f0f921\"]],\"type\":\"histogram2d\"}],\"histogram\":[{\"marker\":{\"pattern\":{\"fillmode\":\"overlay\",\"size\":10,\"solidity\":0.2}},\"type\":\"histogram\"}],\"mesh3d\":[{\"colorbar\":{\"outlinewidth\":0,\"ticks\":\"\"},\"type\":\"mesh3d\"}],\"parcoords\":[{\"line\":{\"colorbar\":{\"outlinewidth\":0,\"ticks\":\"\"}},\"type\":\"parcoords\"}],\"pie\":[{\"automargin\":true,\"type\":\"pie\"}],\"scatter3d\":[{\"line\":{\"colorbar\":{\"outlinewidth\":0,\"ticks\":\"\"}},\"marker\":{\"colorbar\":{\"outlinewidth\":0,\"ticks\":\"\"}},\"type\":\"scatter3d\"}],\"scattercarpet\":[{\"marker\":{\"colorbar\":{\"outlinewidth\":0,\"ticks\":\"\"}},\"type\":\"scattercarpet\"}],\"scattergeo\":[{\"marker\":{\"colorbar\":{\"outlinewidth\":0,\"ticks\":\"\"}},\"type\":\"scattergeo\"}],\"scattergl\":[{\"marker\":{\"colorbar\":{\"outlinewidth\":0,\"ticks\":\"\"}},\"type\":\"scattergl\"}],\"scattermapbox\":[{\"marker\":{\"colorbar\":{\"outlinewidth\":0,\"ticks\":\"\"}},\"type\":\"scattermapbox\"}],\"scatterpolargl\":[{\"marker\":{\"colorbar\":{\"outlinewidth\":0,\"ticks\":\"\"}},\"type\":\"scatterpolargl\"}],\"scatterpolar\":[{\"marker\":{\"colorbar\":{\"outlinewidth\":0,\"ticks\":\"\"}},\"type\":\"scatterpolar\"}],\"scatter\":[{\"marker\":{\"colorbar\":{\"outlinewidth\":0,\"ticks\":\"\"}},\"type\":\"scatter\"}],\"scatterternary\":[{\"marker\":{\"colorbar\":{\"outlinewidth\":0,\"ticks\":\"\"}},\"type\":\"scatterternary\"}],\"surface\":[{\"colorbar\":{\"outlinewidth\":0,\"ticks\":\"\"},\"colorscale\":[[0.0,\"#0d0887\"],[0.1111111111111111,\"#46039f\"],[0.2222222222222222,\"#7201a8\"],[0.3333333333333333,\"#9c179e\"],[0.4444444444444444,\"#bd3786\"],[0.5555555555555556,\"#d8576b\"],[0.6666666666666666,\"#ed7953\"],[0.7777777777777778,\"#fb9f3a\"],[0.8888888888888888,\"#fdca26\"],[1.0,\"#f0f921\"]],\"type\":\"surface\"}],\"table\":[{\"cells\":{\"fill\":{\"color\":\"#EBF0F8\"},\"line\":{\"color\":\"white\"}},\"header\":{\"fill\":{\"color\":\"#C8D4E3\"},\"line\":{\"color\":\"white\"}},\"type\":\"table\"}]},\"layout\":{\"annotationdefaults\":{\"arrowcolor\":\"#2a3f5f\",\"arrowhead\":0,\"arrowwidth\":1},\"autotypenumbers\":\"strict\",\"coloraxis\":{\"colorbar\":{\"outlinewidth\":0,\"ticks\":\"\"}},\"colorscale\":{\"diverging\":[[0,\"#8e0152\"],[0.1,\"#c51b7d\"],[0.2,\"#de77ae\"],[0.3,\"#f1b6da\"],[0.4,\"#fde0ef\"],[0.5,\"#f7f7f7\"],[0.6,\"#e6f5d0\"],[0.7,\"#b8e186\"],[0.8,\"#7fbc41\"],[0.9,\"#4d9221\"],[1,\"#276419\"]],\"sequential\":[[0.0,\"#0d0887\"],[0.1111111111111111,\"#46039f\"],[0.2222222222222222,\"#7201a8\"],[0.3333333333333333,\"#9c179e\"],[0.4444444444444444,\"#bd3786\"],[0.5555555555555556,\"#d8576b\"],[0.6666666666666666,\"#ed7953\"],[0.7777777777777778,\"#fb9f3a\"],[0.8888888888888888,\"#fdca26\"],[1.0,\"#f0f921\"]],\"sequentialminus\":[[0.0,\"#0d0887\"],[0.1111111111111111,\"#46039f\"],[0.2222222222222222,\"#7201a8\"],[0.3333333333333333,\"#9c179e\"],[0.4444444444444444,\"#bd3786\"],[0.5555555555555556,\"#d8576b\"],[0.6666666666666666,\"#ed7953\"],[0.7777777777777778,\"#fb9f3a\"],[0.8888888888888888,\"#fdca26\"],[1.0,\"#f0f921\"]]},\"colorway\":[\"#636efa\",\"#EF553B\",\"#00cc96\",\"#ab63fa\",\"#FFA15A\",\"#19d3f3\",\"#FF6692\",\"#B6E880\",\"#FF97FF\",\"#FECB52\"],\"font\":{\"color\":\"#2a3f5f\"},\"geo\":{\"bgcolor\":\"white\",\"lakecolor\":\"white\",\"landcolor\":\"#E5ECF6\",\"showlakes\":true,\"showland\":true,\"subunitcolor\":\"white\"},\"hoverlabel\":{\"align\":\"left\"},\"hovermode\":\"closest\",\"mapbox\":{\"style\":\"light\"},\"paper_bgcolor\":\"white\",\"plot_bgcolor\":\"#E5ECF6\",\"polar\":{\"angularaxis\":{\"gridcolor\":\"white\",\"linecolor\":\"white\",\"ticks\":\"\"},\"bgcolor\":\"#E5ECF6\",\"radialaxis\":{\"gridcolor\":\"white\",\"linecolor\":\"white\",\"ticks\":\"\"}},\"scene\":{\"xaxis\":{\"backgroundcolor\":\"#E5ECF6\",\"gridcolor\":\"white\",\"gridwidth\":2,\"linecolor\":\"white\",\"showbackground\":true,\"ticks\":\"\",\"zerolinecolor\":\"white\"},\"yaxis\":{\"backgroundcolor\":\"#E5ECF6\",\"gridcolor\":\"white\",\"gridwidth\":2,\"linecolor\":\"white\",\"showbackground\":true,\"ticks\":\"\",\"zerolinecolor\":\"white\"},\"zaxis\":{\"backgroundcolor\":\"#E5ECF6\",\"gridcolor\":\"white\",\"gridwidth\":2,\"linecolor\":\"white\",\"showbackground\":true,\"ticks\":\"\",\"zerolinecolor\":\"white\"}},\"shapedefaults\":{\"line\":{\"color\":\"#2a3f5f\"}},\"ternary\":{\"aaxis\":{\"gridcolor\":\"white\",\"linecolor\":\"white\",\"ticks\":\"\"},\"baxis\":{\"gridcolor\":\"white\",\"linecolor\":\"white\",\"ticks\":\"\"},\"bgcolor\":\"#E5ECF6\",\"caxis\":{\"gridcolor\":\"white\",\"linecolor\":\"white\",\"ticks\":\"\"}},\"title\":{\"x\":0.05},\"xaxis\":{\"automargin\":true,\"gridcolor\":\"white\",\"linecolor\":\"white\",\"ticks\":\"\",\"title\":{\"standoff\":15},\"zerolinecolor\":\"white\",\"zerolinewidth\":2},\"yaxis\":{\"automargin\":true,\"gridcolor\":\"white\",\"linecolor\":\"white\",\"ticks\":\"\",\"title\":{\"standoff\":15},\"zerolinecolor\":\"white\",\"zerolinewidth\":2}}},\"title\":{\"text\":\" \"},\"width\":625,\"xaxis\":{\"showgrid\":false,\"showline\":false,\"showticklabels\":false,\"title\":{\"text\":\"\"},\"zeroline\":false},\"yaxis\":{\"scaleanchor\":\"x\",\"showgrid\":false,\"showline\":false,\"showticklabels\":false,\"title\":{\"text\":\"\"},\"zeroline\":false}},                        {\"responsive\": true}                    ).then(function(){\n",
       "                            \n",
       "var gd = document.getElementById('5b4a0c25-44c5-46f3-99d7-2ac84321362d');\n",
       "var x = new MutationObserver(function (mutations, observer) {{\n",
       "        var display = window.getComputedStyle(gd).display;\n",
       "        if (!display || display === 'none') {{\n",
       "            console.log([gd, 'removed!']);\n",
       "            Plotly.purge(gd);\n",
       "            observer.disconnect();\n",
       "        }}\n",
       "}});\n",
       "\n",
       "// Listen for the removal of the full notebook cells\n",
       "var notebookContainer = gd.closest('#notebook-container');\n",
       "if (notebookContainer) {{\n",
       "    x.observe(notebookContainer, {childList: true});\n",
       "}}\n",
       "\n",
       "// Listen for the clearing of the current output cell\n",
       "var outputEl = gd.closest('.output');\n",
       "if (outputEl) {{\n",
       "    x.observe(outputEl, {childList: true});\n",
       "}}\n",
       "\n",
       "                        })                };                });            </script>        </div>"
      ]
     },
     "metadata": {},
     "output_type": "display_data"
    }
   ],
   "source": [
    "from plotly.offline import download_plotlyjs, init_notebook_mode,  iplot, plot\n",
    "init_notebook_mode(connected=True)\n",
    "iplot(fig)"
   ]
  },
  {
   "cell_type": "markdown",
   "id": "6805ccf8",
   "metadata": {},
   "source": [
    "## MNE :))))))))"
   ]
  },
  {
   "cell_type": "code",
   "execution_count": 24,
   "id": "84936b7e",
   "metadata": {},
   "outputs": [
    {
     "name": "stdout",
     "output_type": "stream",
     "text": [
      "Collecting mne\n",
      "  Downloading mne-0.24.0-py3-none-any.whl (7.4 MB)\n",
      "Requirement already satisfied: scipy>=1.1.0 in c:\\users\\henri\\anaconda3\\envs\\santander\\lib\\site-packages (from mne) (1.7.2)\n",
      "Requirement already satisfied: numpy>=1.15.4 in c:\\users\\henri\\anaconda3\\envs\\santander\\lib\\site-packages (from mne) (1.21.4)\n",
      "Installing collected packages: mne\n",
      "Successfully installed mne-0.24.0\n"
     ]
    }
   ],
   "source": [
    "!pip install mne"
   ]
  },
  {
   "cell_type": "code",
   "execution_count": 25,
   "id": "063ffa8a",
   "metadata": {},
   "outputs": [],
   "source": [
    "from mne.viz import plot_connectivity_circle"
   ]
  },
  {
   "cell_type": "code",
   "execution_count": 32,
   "id": "ca01ae9e",
   "metadata": {},
   "outputs": [
    {
     "data": {
      "image/png": "[encoded data removed]",
      "text/plain": [
       "<Figure size 576x576 with 2 Axes>"
      ]
     },
     "metadata": {},
     "output_type": "display_data"
    }
   ],
   "source": [
    "fig, axes = plot_connectivity_circle(matrix_data.to_numpy(), list(union_stations)) "
   ]
  },
  {
   "cell_type": "code",
   "execution_count": 33,
   "id": "0d46b56d",
   "metadata": {},
   "outputs": [
    {
     "data": {
      "text/html": [
       "<div>\n",
       "<style scoped>\n",
       "    .dataframe tbody tr th:only-of-type {\n",
       "        vertical-align: middle;\n",
       "    }\n",
       "\n",
       "    .dataframe tbody tr th {\n",
       "        vertical-align: top;\n",
       "    }\n",
       "\n",
       "    .dataframe thead th {\n",
       "        text-align: right;\n",
       "    }\n",
       "</style>\n",
       "<table border=\"1\" class=\"dataframe\">\n",
       "  <thead>\n",
       "    <tr style=\"text-align: right;\">\n",
       "      <th>to_station_id</th>\n",
       "      <th>SLU-17</th>\n",
       "      <th>WF-01</th>\n",
       "      <th>BT-01</th>\n",
       "      <th>SLU-16</th>\n",
       "      <th>CH-07</th>\n",
       "      <th>PS-05</th>\n",
       "      <th>WF-04</th>\n",
       "      <th>UD-01</th>\n",
       "      <th>CBD-13</th>\n",
       "    </tr>\n",
       "    <tr>\n",
       "      <th>from_station_id</th>\n",
       "      <th></th>\n",
       "      <th></th>\n",
       "      <th></th>\n",
       "      <th></th>\n",
       "      <th></th>\n",
       "      <th></th>\n",
       "      <th></th>\n",
       "      <th></th>\n",
       "      <th></th>\n",
       "    </tr>\n",
       "  </thead>\n",
       "  <tbody>\n",
       "    <tr>\n",
       "      <th>SLU-17</th>\n",
       "      <td>960</td>\n",
       "      <td>97</td>\n",
       "      <td>264</td>\n",
       "      <td>53</td>\n",
       "      <td>5</td>\n",
       "      <td>31</td>\n",
       "      <td>70</td>\n",
       "      <td>25</td>\n",
       "      <td>135</td>\n",
       "    </tr>\n",
       "    <tr>\n",
       "      <th>WF-01</th>\n",
       "      <td>75</td>\n",
       "      <td>4209</td>\n",
       "      <td>347</td>\n",
       "      <td>52</td>\n",
       "      <td>3</td>\n",
       "      <td>962</td>\n",
       "      <td>2291</td>\n",
       "      <td>4</td>\n",
       "      <td>310</td>\n",
       "    </tr>\n",
       "    <tr>\n",
       "      <th>BT-01</th>\n",
       "      <td>175</td>\n",
       "      <td>777</td>\n",
       "      <td>627</td>\n",
       "      <td>151</td>\n",
       "      <td>16</td>\n",
       "      <td>301</td>\n",
       "      <td>792</td>\n",
       "      <td>8</td>\n",
       "      <td>1101</td>\n",
       "    </tr>\n",
       "    <tr>\n",
       "      <th>SLU-16</th>\n",
       "      <td>73</td>\n",
       "      <td>65</td>\n",
       "      <td>166</td>\n",
       "      <td>186</td>\n",
       "      <td>98</td>\n",
       "      <td>65</td>\n",
       "      <td>68</td>\n",
       "      <td>4</td>\n",
       "      <td>344</td>\n",
       "    </tr>\n",
       "    <tr>\n",
       "      <th>CH-07</th>\n",
       "      <td>19</td>\n",
       "      <td>23</td>\n",
       "      <td>198</td>\n",
       "      <td>934</td>\n",
       "      <td>233</td>\n",
       "      <td>71</td>\n",
       "      <td>23</td>\n",
       "      <td>15</td>\n",
       "      <td>577</td>\n",
       "    </tr>\n",
       "    <tr>\n",
       "      <th>PS-05</th>\n",
       "      <td>26</td>\n",
       "      <td>737</td>\n",
       "      <td>179</td>\n",
       "      <td>42</td>\n",
       "      <td>26</td>\n",
       "      <td>185</td>\n",
       "      <td>181</td>\n",
       "      <td>0</td>\n",
       "      <td>199</td>\n",
       "    </tr>\n",
       "    <tr>\n",
       "      <th>WF-04</th>\n",
       "      <td>17</td>\n",
       "      <td>1605</td>\n",
       "      <td>478</td>\n",
       "      <td>36</td>\n",
       "      <td>2</td>\n",
       "      <td>215</td>\n",
       "      <td>1150</td>\n",
       "      <td>4</td>\n",
       "      <td>137</td>\n",
       "    </tr>\n",
       "    <tr>\n",
       "      <th>UD-01</th>\n",
       "      <td>46</td>\n",
       "      <td>1</td>\n",
       "      <td>6</td>\n",
       "      <td>2</td>\n",
       "      <td>3</td>\n",
       "      <td>1</td>\n",
       "      <td>0</td>\n",
       "      <td>880</td>\n",
       "      <td>9</td>\n",
       "    </tr>\n",
       "    <tr>\n",
       "      <th>CBD-13</th>\n",
       "      <td>105</td>\n",
       "      <td>384</td>\n",
       "      <td>962</td>\n",
       "      <td>158</td>\n",
       "      <td>53</td>\n",
       "      <td>384</td>\n",
       "      <td>158</td>\n",
       "      <td>1</td>\n",
       "      <td>427</td>\n",
       "    </tr>\n",
       "  </tbody>\n",
       "</table>\n",
       "</div>"
      ],
      "text/plain": [
       "to_station_id    SLU-17  WF-01  BT-01  SLU-16  CH-07  PS-05  WF-04  UD-01  \\\n",
       "from_station_id                                                             \n",
       "SLU-17              960     97    264      53      5     31     70     25   \n",
       "WF-01                75   4209    347      52      3    962   2291      4   \n",
       "BT-01               175    777    627     151     16    301    792      8   \n",
       "SLU-16               73     65    166     186     98     65     68      4   \n",
       "CH-07                19     23    198     934    233     71     23     15   \n",
       "PS-05                26    737    179      42     26    185    181      0   \n",
       "WF-04                17   1605    478      36      2    215   1150      4   \n",
       "UD-01                46      1      6       2      3      1      0    880   \n",
       "CBD-13              105    384    962     158     53    384    158      1   \n",
       "\n",
       "to_station_id    CBD-13  \n",
       "from_station_id          \n",
       "SLU-17              135  \n",
       "WF-01               310  \n",
       "BT-01              1101  \n",
       "SLU-16              344  \n",
       "CH-07               577  \n",
       "PS-05               199  \n",
       "WF-04               137  \n",
       "UD-01                 9  \n",
       "CBD-13              427  "
      ]
     },
     "execution_count": 33,
     "metadata": {},
     "output_type": "execute_result"
    }
   ],
   "source": [
    "matrix_data"
   ]
  },
  {
   "cell_type": "code",
   "execution_count": 6,
   "id": "b986d9b0",
   "metadata": {},
   "outputs": [
    {
     "data": {
      "text/html": [
       "<div>\n",
       "<style scoped>\n",
       "    .dataframe tbody tr th:only-of-type {\n",
       "        vertical-align: middle;\n",
       "    }\n",
       "\n",
       "    .dataframe tbody tr th {\n",
       "        vertical-align: top;\n",
       "    }\n",
       "\n",
       "    .dataframe thead th {\n",
       "        text-align: right;\n",
       "    }\n",
       "</style>\n",
       "<table border=\"1\" class=\"dataframe\">\n",
       "  <thead>\n",
       "    <tr style=\"text-align: right;\">\n",
       "      <th></th>\n",
       "      <th>trip_id</th>\n",
       "      <th>starttime</th>\n",
       "      <th>stoptime</th>\n",
       "      <th>bikeid</th>\n",
       "      <th>tripduration</th>\n",
       "      <th>from_station_name</th>\n",
       "      <th>to_station_name</th>\n",
       "      <th>from_station_id</th>\n",
       "      <th>to_station_id</th>\n",
       "      <th>usertype</th>\n",
       "      <th>gender</th>\n",
       "      <th>birthyear</th>\n",
       "    </tr>\n",
       "  </thead>\n",
       "  <tbody>\n",
       "    <tr>\n",
       "      <th>0</th>\n",
       "      <td>431</td>\n",
       "      <td>10/13/2014 10:31</td>\n",
       "      <td>10/13/2014 10:48</td>\n",
       "      <td>SEA00298</td>\n",
       "      <td>985.935</td>\n",
       "      <td>2nd Ave &amp; Spring St</td>\n",
       "      <td>Occidental Park / Occidental Ave S &amp; S Washing...</td>\n",
       "      <td>CBD-06</td>\n",
       "      <td>PS-04</td>\n",
       "      <td>Member</td>\n",
       "      <td>Male</td>\n",
       "      <td>1960.0</td>\n",
       "    </tr>\n",
       "    <tr>\n",
       "      <th>1</th>\n",
       "      <td>432</td>\n",
       "      <td>10/13/2014 10:32</td>\n",
       "      <td>10/13/2014 10:48</td>\n",
       "      <td>SEA00195</td>\n",
       "      <td>926.375</td>\n",
       "      <td>2nd Ave &amp; Spring St</td>\n",
       "      <td>Occidental Park / Occidental Ave S &amp; S Washing...</td>\n",
       "      <td>CBD-06</td>\n",
       "      <td>PS-04</td>\n",
       "      <td>Member</td>\n",
       "      <td>Male</td>\n",
       "      <td>1970.0</td>\n",
       "    </tr>\n",
       "    <tr>\n",
       "      <th>2</th>\n",
       "      <td>433</td>\n",
       "      <td>10/13/2014 10:33</td>\n",
       "      <td>10/13/2014 10:48</td>\n",
       "      <td>SEA00486</td>\n",
       "      <td>883.831</td>\n",
       "      <td>2nd Ave &amp; Spring St</td>\n",
       "      <td>Occidental Park / Occidental Ave S &amp; S Washing...</td>\n",
       "      <td>CBD-06</td>\n",
       "      <td>PS-04</td>\n",
       "      <td>Member</td>\n",
       "      <td>Female</td>\n",
       "      <td>1988.0</td>\n",
       "    </tr>\n",
       "    <tr>\n",
       "      <th>3</th>\n",
       "      <td>434</td>\n",
       "      <td>10/13/2014 10:34</td>\n",
       "      <td>10/13/2014 10:48</td>\n",
       "      <td>SEA00333</td>\n",
       "      <td>865.937</td>\n",
       "      <td>2nd Ave &amp; Spring St</td>\n",
       "      <td>Occidental Park / Occidental Ave S &amp; S Washing...</td>\n",
       "      <td>CBD-06</td>\n",
       "      <td>PS-04</td>\n",
       "      <td>Member</td>\n",
       "      <td>Female</td>\n",
       "      <td>1977.0</td>\n",
       "    </tr>\n",
       "    <tr>\n",
       "      <th>4</th>\n",
       "      <td>435</td>\n",
       "      <td>10/13/2014 10:34</td>\n",
       "      <td>10/13/2014 10:49</td>\n",
       "      <td>SEA00202</td>\n",
       "      <td>923.923</td>\n",
       "      <td>2nd Ave &amp; Spring St</td>\n",
       "      <td>Occidental Park / Occidental Ave S &amp; S Washing...</td>\n",
       "      <td>CBD-06</td>\n",
       "      <td>PS-04</td>\n",
       "      <td>Member</td>\n",
       "      <td>Male</td>\n",
       "      <td>1971.0</td>\n",
       "    </tr>\n",
       "    <tr>\n",
       "      <th>...</th>\n",
       "      <td>...</td>\n",
       "      <td>...</td>\n",
       "      <td>...</td>\n",
       "      <td>...</td>\n",
       "      <td>...</td>\n",
       "      <td>...</td>\n",
       "      <td>...</td>\n",
       "      <td>...</td>\n",
       "      <td>...</td>\n",
       "      <td>...</td>\n",
       "      <td>...</td>\n",
       "      <td>...</td>\n",
       "    </tr>\n",
       "    <tr>\n",
       "      <th>286853</th>\n",
       "      <td>255241</td>\n",
       "      <td>8/31/2016 23:34</td>\n",
       "      <td>8/31/2016 23:45</td>\n",
       "      <td>SEA00201</td>\n",
       "      <td>679.532</td>\n",
       "      <td>Harvard Ave &amp; E Pine St</td>\n",
       "      <td>2nd Ave &amp; Spring St</td>\n",
       "      <td>CH-09</td>\n",
       "      <td>CBD-06</td>\n",
       "      <td>Short-Term Pass Holder</td>\n",
       "      <td>NaN</td>\n",
       "      <td>NaN</td>\n",
       "    </tr>\n",
       "    <tr>\n",
       "      <th>286854</th>\n",
       "      <td>255242</td>\n",
       "      <td>8/31/2016 23:48</td>\n",
       "      <td>9/1/2016 0:20</td>\n",
       "      <td>SEA00247</td>\n",
       "      <td>1965.418</td>\n",
       "      <td>Cal Anderson Park / 11th Ave &amp; Pine St</td>\n",
       "      <td>6th Ave S &amp; S King St</td>\n",
       "      <td>CH-08</td>\n",
       "      <td>ID-04</td>\n",
       "      <td>Short-Term Pass Holder</td>\n",
       "      <td>NaN</td>\n",
       "      <td>NaN</td>\n",
       "    </tr>\n",
       "    <tr>\n",
       "      <th>286855</th>\n",
       "      <td>255243</td>\n",
       "      <td>8/31/2016 23:47</td>\n",
       "      <td>9/1/2016 0:20</td>\n",
       "      <td>SEA00300</td>\n",
       "      <td>1951.173</td>\n",
       "      <td>Cal Anderson Park / 11th Ave &amp; Pine St</td>\n",
       "      <td>6th Ave S &amp; S King St</td>\n",
       "      <td>CH-08</td>\n",
       "      <td>ID-04</td>\n",
       "      <td>Short-Term Pass Holder</td>\n",
       "      <td>NaN</td>\n",
       "      <td>NaN</td>\n",
       "    </tr>\n",
       "    <tr>\n",
       "      <th>286856</th>\n",
       "      <td>255244</td>\n",
       "      <td>8/31/2016 23:49</td>\n",
       "      <td>9/1/2016 0:20</td>\n",
       "      <td>SEA00047</td>\n",
       "      <td>1883.299</td>\n",
       "      <td>Cal Anderson Park / 11th Ave &amp; Pine St</td>\n",
       "      <td>6th Ave S &amp; S King St</td>\n",
       "      <td>CH-08</td>\n",
       "      <td>ID-04</td>\n",
       "      <td>Short-Term Pass Holder</td>\n",
       "      <td>NaN</td>\n",
       "      <td>NaN</td>\n",
       "    </tr>\n",
       "    <tr>\n",
       "      <th>286857</th>\n",
       "      <td>255245</td>\n",
       "      <td>8/31/2016 23:49</td>\n",
       "      <td>9/1/2016 0:20</td>\n",
       "      <td>SEA00442</td>\n",
       "      <td>1896.031</td>\n",
       "      <td>Cal Anderson Park / 11th Ave &amp; Pine St</td>\n",
       "      <td>6th Ave S &amp; S King St</td>\n",
       "      <td>CH-08</td>\n",
       "      <td>ID-04</td>\n",
       "      <td>Short-Term Pass Holder</td>\n",
       "      <td>NaN</td>\n",
       "      <td>NaN</td>\n",
       "    </tr>\n",
       "  </tbody>\n",
       "</table>\n",
       "<p>236065 rows × 12 columns</p>\n",
       "</div>"
      ],
      "text/plain": [
       "        trip_id         starttime          stoptime    bikeid  tripduration  \\\n",
       "0           431  10/13/2014 10:31  10/13/2014 10:48  SEA00298       985.935   \n",
       "1           432  10/13/2014 10:32  10/13/2014 10:48  SEA00195       926.375   \n",
       "2           433  10/13/2014 10:33  10/13/2014 10:48  SEA00486       883.831   \n",
       "3           434  10/13/2014 10:34  10/13/2014 10:48  SEA00333       865.937   \n",
       "4           435  10/13/2014 10:34  10/13/2014 10:49  SEA00202       923.923   \n",
       "...         ...               ...               ...       ...           ...   \n",
       "286853   255241   8/31/2016 23:34   8/31/2016 23:45  SEA00201       679.532   \n",
       "286854   255242   8/31/2016 23:48     9/1/2016 0:20  SEA00247      1965.418   \n",
       "286855   255243   8/31/2016 23:47     9/1/2016 0:20  SEA00300      1951.173   \n",
       "286856   255244   8/31/2016 23:49     9/1/2016 0:20  SEA00047      1883.299   \n",
       "286857   255245   8/31/2016 23:49     9/1/2016 0:20  SEA00442      1896.031   \n",
       "\n",
       "                             from_station_name  \\\n",
       "0                          2nd Ave & Spring St   \n",
       "1                          2nd Ave & Spring St   \n",
       "2                          2nd Ave & Spring St   \n",
       "3                          2nd Ave & Spring St   \n",
       "4                          2nd Ave & Spring St   \n",
       "...                                        ...   \n",
       "286853                 Harvard Ave & E Pine St   \n",
       "286854  Cal Anderson Park / 11th Ave & Pine St   \n",
       "286855  Cal Anderson Park / 11th Ave & Pine St   \n",
       "286856  Cal Anderson Park / 11th Ave & Pine St   \n",
       "286857  Cal Anderson Park / 11th Ave & Pine St   \n",
       "\n",
       "                                          to_station_name from_station_id  \\\n",
       "0       Occidental Park / Occidental Ave S & S Washing...          CBD-06   \n",
       "1       Occidental Park / Occidental Ave S & S Washing...          CBD-06   \n",
       "2       Occidental Park / Occidental Ave S & S Washing...          CBD-06   \n",
       "3       Occidental Park / Occidental Ave S & S Washing...          CBD-06   \n",
       "4       Occidental Park / Occidental Ave S & S Washing...          CBD-06   \n",
       "...                                                   ...             ...   \n",
       "286853                                2nd Ave & Spring St           CH-09   \n",
       "286854                              6th Ave S & S King St           CH-08   \n",
       "286855                              6th Ave S & S King St           CH-08   \n",
       "286856                              6th Ave S & S King St           CH-08   \n",
       "286857                              6th Ave S & S King St           CH-08   \n",
       "\n",
       "       to_station_id                usertype  gender  birthyear  \n",
       "0              PS-04                  Member    Male     1960.0  \n",
       "1              PS-04                  Member    Male     1970.0  \n",
       "2              PS-04                  Member  Female     1988.0  \n",
       "3              PS-04                  Member  Female     1977.0  \n",
       "4              PS-04                  Member    Male     1971.0  \n",
       "...              ...                     ...     ...        ...  \n",
       "286853        CBD-06  Short-Term Pass Holder     NaN        NaN  \n",
       "286854         ID-04  Short-Term Pass Holder     NaN        NaN  \n",
       "286855         ID-04  Short-Term Pass Holder     NaN        NaN  \n",
       "286856         ID-04  Short-Term Pass Holder     NaN        NaN  \n",
       "286857         ID-04  Short-Term Pass Holder     NaN        NaN  \n",
       "\n",
       "[236065 rows x 12 columns]"
      ]
     },
     "execution_count": 6,
     "metadata": {},
     "output_type": "execute_result"
    }
   ],
   "source": [
    "df_2"
   ]
  },
  {
   "cell_type": "code",
   "execution_count": null,
   "id": "6f9dcfc5",
   "metadata": {},
   "outputs": [],
   "source": []
  }
 ],
 "metadata": {
  "kernelspec": {
   "display_name": "Python 3 (ipykernel)",
   "language": "python",
   "name": "python3"
  },
  "language_info": {
   "codemirror_mode": {
    "name": "ipython",
    "version": 3
   },
   "file_extension": ".py",
   "mimetype": "text/x-python",
   "name": "python",
   "nbconvert_exporter": "python",
   "pygments_lexer": "ipython3",
   "version": "3.9.6"
  }
 },
 "nbformat": 4,
 "nbformat_minor": 5
}
