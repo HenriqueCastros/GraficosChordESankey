{
 "cells": [
  {
   "cell_type": "markdown",
   "id": "468c5c6d",
   "metadata": {},
   "source": [
    "# Iniciamos 19h05"
   ]
  },
  {
   "cell_type": "markdown",
   "id": "f7dc0009",
   "metadata": {},
   "source": [
    "# Exercício Gráfico Fluxo.\n",
    "Vocês vão utilizar um dos tipos de gráfico do tipo Fluxo (Flow).  \n",
    "  \n",
    "Referência: https://www.python-graph-gallery.com/  \n",
    "  \n",
    "Em grupo vocês devem decidir qual base aberta vão utilizar para fazer uma demonstracão de um fluxo de dados.  \n",
    "  \n",
    "No final da aula de hoje vocês devem ter decidido qual base utilizar e se possível uma tentatativa de como utilizar um dos gráficos de Fluxo.  \n",
    "  \n",
    "  \n",
    "Ao final da atividade todos devem responde o formulário:  \n",
    "https://docs.google.com/forms/d/1ymJ3R0-M8hTN4zVlAAaGF5vQ_gd9HSfQY6olZJPMuUU"
   ]
  }
 ],
 "metadata": {
  "kernelspec": {
   "display_name": "Python 3",
   "language": "python",
   "name": "python3"
  },
  "language_info": {
   "codemirror_mode": {
    "name": "ipython",
    "version": 3
   },
   "file_extension": ".py",
   "mimetype": "text/x-python",
   "name": "python",
   "nbconvert_exporter": "python",
   "pygments_lexer": "ipython3",
   "version": "3.8.10"
  }
 },
 "nbformat": 4,
 "nbformat_minor": 5
}
